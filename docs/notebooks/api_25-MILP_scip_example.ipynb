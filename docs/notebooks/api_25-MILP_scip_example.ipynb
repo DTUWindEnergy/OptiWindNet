{
 "cells": [
  {
   "cell_type": "markdown",
   "id": "5f6be665-2ab0-404e-b4f1-68e882887775",
   "metadata": {},
   "source": [
    "## SCIP example"
   ]
  },
  {
   "cell_type": "code",
   "execution_count": 1,
   "id": "23c1c992-a563-4f2d-bbc8-cf0884e5b275",
   "metadata": {},
   "outputs": [],
   "source": [
    "from optiwindnet.importer import load_repository\n",
    "from optiwindnet.svg import svgplot\n",
    "from optiwindnet.mesh import make_planar_embedding\n",
    "from optiwindnet.interarraylib import G_from_S\n",
    "from optiwindnet.heuristics import EW_presolver\n",
    "from optiwindnet.MILP import pyomo as omo\n",
    "from optiwindnet.pathfinding import PathFinder"
   ]
  },
  {
   "cell_type": "code",
   "execution_count": 2,
   "id": "304339a3-df12-4e85-a939-ee33c82a2beb",
   "metadata": {},
   "outputs": [],
   "source": [
    "from pyomo import environ as pyo"
   ]
  },
  {
   "cell_type": "markdown",
   "id": "dd5d2195-9b34-4aed-bd09-8f52116d098a",
   "metadata": {},
   "source": [
    "### Initialize Sheringham Shoal"
   ]
  },
  {
   "cell_type": "code",
   "execution_count": 3,
   "id": "90f1c7cc-17c2-47af-8caa-20dfa574e8b1",
   "metadata": {},
   "outputs": [
    {
     "data": {
      "text/plain": [
       "(False, pyomo.solvers.plugins.solvers.SCIPAMPL.SCIPAMPL)"
      ]
     },
     "execution_count": 3,
     "metadata": {},
     "output_type": "execute_result"
    }
   ],
   "source": [
    "sciper = pyo.SolverFactory('scip')\n",
    "sciper.available(), type(sciper)"
   ]
  },
  {
   "cell_type": "code",
   "execution_count": 4,
   "id": "29a6b5d1-a05f-4112-bf66-462b4d36b516",
   "metadata": {},
   "outputs": [],
   "source": [
    "locations = load_repository()"
   ]
  },
  {
   "cell_type": "code",
   "execution_count": 5,
   "id": "6493ef36-765a-4cd3-9dc8-f2d952a23573",
   "metadata": {},
   "outputs": [],
   "source": [
    "L = locations.sheringham\n",
    "capacity = 6"
   ]
  },
  {
   "cell_type": "code",
   "execution_count": 6,
   "id": "2a81cdd4-7be8-4da3-9b94-9799c6f1760b",
   "metadata": {},
   "outputs": [
    {
     "data": {
      "image/svg+xml": [
       "<svg xmlns=\"http://www.w3.org/2000/svg\" viewBox=\"0 0 1920 787\"><defs><filter x=\"-5%\" y=\"-5%\" id=\"bg_textbox\" width=\"110%\" height=\"110%\"><feFlood flood-opacity=\"0.7\" flood-color=\"#111\" result=\"bg\"/><feMerge><feMergeNode in=\"bg\"/><feMergeNode in=\"SourceGraphic\"/></feMerge></filter><circle stroke=\"none\" stroke-width=\"2\" id=\"wtg\" r=\"12\"/><rect stroke=\"none\" stroke-width=\"2\" id=\"oss\" width=\"21\" height=\"21\" fill=\"lawngreen\"/></defs><g id=\"sheringham\"><path stroke=\"silver\" stroke-dasharray=\"15 7\" stroke-width=\"2\" id=\"border\" d=\"M709 757 30 31 1209 30 1890 757z\" fill-rule=\"evenodd\" fill=\"#111\"/><g id=\"WTGgrp\"><g fill=\"#9edae5\"><use href=\"#wtg\" x=\"66\" y=\"47\"/><use href=\"#wtg\" x=\"159\" y=\"146\"/><use href=\"#wtg\" x=\"252\" y=\"245\"/><use href=\"#wtg\" x=\"345\" y=\"344\"/><use href=\"#wtg\" x=\"438\" y=\"444\"/><use href=\"#wtg\" x=\"530\" y=\"543\"/><use href=\"#wtg\" x=\"623\" y=\"642\"/><use href=\"#wtg\" x=\"716\" y=\"741\"/><use href=\"#wtg\" x=\"180\" y=\"47\"/><use href=\"#wtg\" x=\"273\" y=\"146\"/><use href=\"#wtg\" x=\"365\" y=\"245\"/><use href=\"#wtg\" x=\"458\" y=\"344\"/><use href=\"#wtg\" x=\"551\" y=\"444\"/><use href=\"#wtg\" x=\"644\" y=\"543\"/><use href=\"#wtg\" x=\"737\" y=\"642\"/><use href=\"#wtg\" x=\"830\" y=\"741\"/><use href=\"#wtg\" x=\"293\" y=\"47\"/><use href=\"#wtg\" x=\"386\" y=\"146\"/><use href=\"#wtg\" x=\"479\" y=\"245\"/><use href=\"#wtg\" x=\"572\" y=\"344\"/><use href=\"#wtg\" x=\"665\" y=\"444\"/><use href=\"#wtg\" x=\"758\" y=\"543\"/><use href=\"#wtg\" x=\"850\" y=\"642\"/><use href=\"#wtg\" x=\"943\" y=\"741\"/><use href=\"#wtg\" x=\"407\" y=\"47\"/><use href=\"#wtg\" x=\"500\" y=\"146\"/><use href=\"#wtg\" x=\"593\" y=\"245\"/><use href=\"#wtg\" x=\"685\" y=\"344\"/><use href=\"#wtg\" x=\"778\" y=\"443\"/><use href=\"#wtg\" x=\"871\" y=\"543\"/><use href=\"#wtg\" x=\"964\" y=\"642\"/><use href=\"#wtg\" x=\"1057\" y=\"741\"/><use href=\"#wtg\" x=\"520\" y=\"47\"/><use href=\"#wtg\" x=\"613\" y=\"146\"/><use href=\"#wtg\" x=\"706\" y=\"245\"/><use href=\"#wtg\" x=\"799\" y=\"344\"/><use href=\"#wtg\" x=\"892\" y=\"443\"/><use href=\"#wtg\" x=\"985\" y=\"543\"/><use href=\"#wtg\" x=\"1077\" y=\"642\"/><use href=\"#wtg\" x=\"1170\" y=\"741\"/><use href=\"#wtg\" x=\"634\" y=\"47\"/><use href=\"#wtg\" x=\"727\" y=\"146\"/><use href=\"#wtg\" x=\"820\" y=\"245\"/><use href=\"#wtg\" x=\"913\" y=\"344\"/><use href=\"#wtg\" x=\"1005\" y=\"443\"/><use href=\"#wtg\" x=\"1098\" y=\"542\"/><use href=\"#wtg\" x=\"1191\" y=\"642\"/><use href=\"#wtg\" x=\"1284\" y=\"741\"/><use href=\"#wtg\" x=\"748\" y=\"46\"/><use href=\"#wtg\" x=\"840\" y=\"146\"/><use href=\"#wtg\" x=\"933\" y=\"245\"/><use href=\"#wtg\" x=\"1026\" y=\"344\"/><use href=\"#wtg\" x=\"1119\" y=\"443\"/><use href=\"#wtg\" x=\"1212\" y=\"542\"/><use href=\"#wtg\" x=\"1305\" y=\"642\"/><use href=\"#wtg\" x=\"1397\" y=\"741\"/><use href=\"#wtg\" x=\"861\" y=\"46\"/><use href=\"#wtg\" x=\"954\" y=\"146\"/><use href=\"#wtg\" x=\"1047\" y=\"245\"/><use href=\"#wtg\" x=\"1140\" y=\"344\"/><use href=\"#wtg\" x=\"1233\" y=\"443\"/><use href=\"#wtg\" x=\"1325\" y=\"542\"/><use href=\"#wtg\" x=\"1418\" y=\"642\"/><use href=\"#wtg\" x=\"1511\" y=\"741\"/><use href=\"#wtg\" x=\"975\" y=\"46\"/><use href=\"#wtg\" x=\"1068\" y=\"145\"/><use href=\"#wtg\" x=\"1160\" y=\"245\"/><use href=\"#wtg\" x=\"1253\" y=\"344\"/><use href=\"#wtg\" x=\"1346\" y=\"443\"/><use href=\"#wtg\" x=\"1439\" y=\"542\"/><use href=\"#wtg\" x=\"1532\" y=\"641\"/><use href=\"#wtg\" x=\"1625\" y=\"741\"/><use href=\"#wtg\" x=\"1088\" y=\"46\"/><use href=\"#wtg\" x=\"1181\" y=\"145\"/><use href=\"#wtg\" x=\"1274\" y=\"245\"/><use href=\"#wtg\" x=\"1367\" y=\"344\"/><use href=\"#wtg\" x=\"1460\" y=\"443\"/><use href=\"#wtg\" x=\"1552\" y=\"542\"/><use href=\"#wtg\" x=\"1645\" y=\"641\"/><use href=\"#wtg\" x=\"1738\" y=\"741\"/><use href=\"#wtg\" x=\"1202\" y=\"46\"/><use href=\"#wtg\" x=\"1295\" y=\"145\"/><use href=\"#wtg\" x=\"1388\" y=\"244\"/><use href=\"#wtg\" x=\"1480\" y=\"344\"/><use href=\"#wtg\" x=\"1573\" y=\"443\"/><use href=\"#wtg\" x=\"1666\" y=\"542\"/><use href=\"#wtg\" x=\"1759\" y=\"641\"/><use href=\"#wtg\" x=\"1852\" y=\"740\"/></g></g><g id=\"OSSgrp\"><use href=\"#oss\" x=\"632.5\" y=\"349.5\"/><use href=\"#oss\" x=\"1281.5\" y=\"417.5\"/></g></g></svg>"
      ],
      "text/plain": [
       "<optiwindnet.svg.SvgRepr at 0x194f3901a30>"
      ]
     },
     "execution_count": 6,
     "metadata": {},
     "output_type": "execute_result"
    }
   ],
   "source": [
    "svgplot(L)"
   ]
  },
  {
   "cell_type": "markdown",
   "id": "5996b343-8973-49cb-8e34-d4b1161d625e",
   "metadata": {},
   "source": [
    "### Optimize Sheringham Shoal"
   ]
  },
  {
   "cell_type": "code",
   "execution_count": 7,
   "id": "df05184d-7caa-4b34-810e-37c13a7a8092",
   "metadata": {},
   "outputs": [],
   "source": [
    "P, A = make_planar_embedding(L)"
   ]
  },
  {
   "cell_type": "markdown",
   "id": "4f9b49b1-a597-4053-a3d1-f3de7bb8d164",
   "metadata": {},
   "source": [
    "Initial heuristic solution to warm-start the solver:"
   ]
  },
  {
   "cell_type": "code",
   "execution_count": 8,
   "id": "19eb273d-f662-4851-bf09-e0ec532d7b8b",
   "metadata": {},
   "outputs": [
    {
     "data": {
      "image/svg+xml": [
       "<svg xmlns=\"http://www.w3.org/2000/svg\" viewBox=\"0 0 1920 787\"><defs><filter x=\"-5%\" y=\"-5%\" id=\"bg_textbox\" width=\"110%\" height=\"110%\"><feFlood flood-opacity=\"0.7\" flood-color=\"#111\" result=\"bg\"/><feMerge><feMergeNode in=\"bg\"/><feMergeNode in=\"SourceGraphic\"/></feMerge></filter><circle stroke=\"none\" stroke-width=\"2\" id=\"wtg\" r=\"12\"/><rect stroke=\"none\" stroke-width=\"2\" id=\"oss\" width=\"21\" height=\"21\" fill=\"lawngreen\"/></defs><g id=\"sheringham\"><path stroke=\"silver\" stroke-dasharray=\"15 7\" stroke-width=\"2\" id=\"border\" d=\"M709 757 30 31 1209 30 1890 757z\" fill-rule=\"evenodd\" fill=\"#111\"/><g stroke=\"crimson\" stroke-width=\"4\" id=\"edges_unspecified\"><line x1=\"1068\" y1=\"145\" x2=\"1088\" y2=\"46\"/><line x1=\"1292\" y1=\"428\" x2=\"1212\" y2=\"542\"/><line x1=\"1292\" y1=\"428\" x2=\"1140\" y2=\"344\"/><line x1=\"1292\" y1=\"428\" x2=\"1346\" y2=\"443\"/><line x1=\"1292\" y1=\"428\" x2=\"1325\" y2=\"542\"/><line x1=\"1292\" y1=\"428\" x2=\"1253\" y2=\"344\"/><line x1=\"1292\" y1=\"428\" x2=\"1233\" y2=\"443\"/><line x1=\"1181\" y1=\"145\" x2=\"1202\" y2=\"46\"/><line x1=\"1160\" y1=\"245\" x2=\"1181\" y2=\"145\"/><line x1=\"727\" y1=\"146\" x2=\"748\" y2=\"46\"/><line x1=\"706\" y1=\"245\" x2=\"727\" y2=\"146\"/><line x1=\"643\" y1=\"360\" x2=\"706\" y2=\"245\"/><line x1=\"643\" y1=\"360\" x2=\"685\" y2=\"344\"/><line x1=\"643\" y1=\"360\" x2=\"665\" y2=\"444\"/><line x1=\"643\" y1=\"360\" x2=\"593\" y2=\"245\"/><line x1=\"643\" y1=\"360\" x2=\"572\" y2=\"344\"/><line x1=\"643\" y1=\"360\" x2=\"778\" y2=\"443\"/><line x1=\"840\" y1=\"146\" x2=\"861\" y2=\"46\"/><line x1=\"820\" y1=\"245\" x2=\"840\" y2=\"146\"/><line x1=\"1047\" y1=\"245\" x2=\"1068\" y2=\"145\"/><line x1=\"1026\" y1=\"344\" x2=\"1047\" y2=\"245\"/><line x1=\"500\" y1=\"146\" x2=\"520\" y2=\"47\"/><line x1=\"479\" y1=\"245\" x2=\"500\" y2=\"146\"/><line x1=\"985\" y1=\"543\" x2=\"1005\" y2=\"443\"/><line x1=\"1005\" y1=\"443\" x2=\"1119\" y2=\"443\"/><line x1=\"1098\" y1=\"542\" x2=\"1212\" y2=\"542\"/><line x1=\"1077\" y1=\"642\" x2=\"1098\" y2=\"542\"/><line x1=\"799\" y1=\"344\" x2=\"913\" y2=\"344\"/><line x1=\"685\" y1=\"344\" x2=\"799\" y2=\"344\"/><line x1=\"706\" y1=\"245\" x2=\"820\" y2=\"245\"/><line x1=\"479\" y1=\"245\" x2=\"593\" y2=\"245\"/><line x1=\"593\" y1=\"245\" x2=\"613\" y2=\"146\"/><line x1=\"1274\" y1=\"245\" x2=\"1295\" y2=\"145\"/><line x1=\"66\" y1=\"47\" x2=\"180\" y2=\"47\"/><line x1=\"159\" y1=\"146\" x2=\"180\" y2=\"47\"/><line x1=\"159\" y1=\"146\" x2=\"273\" y2=\"146\"/><line x1=\"273\" y1=\"146\" x2=\"293\" y2=\"47\"/><line x1=\"252\" y1=\"245\" x2=\"273\" y2=\"146\"/><line x1=\"737\" y1=\"642\" x2=\"758\" y2=\"543\"/><line x1=\"716\" y1=\"741\" x2=\"737\" y2=\"642\"/><line x1=\"850\" y1=\"642\" x2=\"871\" y2=\"543\"/><line x1=\"830\" y1=\"741\" x2=\"850\" y2=\"642\"/><line x1=\"1057\" y1=\"741\" x2=\"1077\" y2=\"642\"/><line x1=\"613\" y1=\"146\" x2=\"634\" y2=\"47\"/><line x1=\"386\" y1=\"146\" x2=\"407\" y2=\"47\"/><line x1=\"365\" y1=\"245\" x2=\"386\" y2=\"146\"/><line x1=\"1160\" y1=\"245\" x2=\"1274\" y2=\"245\"/><line x1=\"1253\" y1=\"344\" x2=\"1274\" y2=\"245\"/><line x1=\"1367\" y1=\"344\" x2=\"1388\" y2=\"244\"/><line x1=\"1346\" y1=\"443\" x2=\"1367\" y2=\"344\"/><line x1=\"943\" y1=\"741\" x2=\"964\" y2=\"642\"/><line x1=\"551\" y1=\"444\" x2=\"572\" y2=\"344\"/><line x1=\"1284\" y1=\"741\" x2=\"1305\" y2=\"642\"/><line x1=\"1397\" y1=\"741\" x2=\"1418\" y2=\"642\"/><line x1=\"933\" y1=\"245\" x2=\"954\" y2=\"146\"/><line x1=\"913\" y1=\"344\" x2=\"933\" y2=\"245\"/><line x1=\"1026\" y1=\"344\" x2=\"1140\" y2=\"344\"/><line x1=\"530\" y1=\"543\" x2=\"551\" y2=\"444\"/><line x1=\"345\" y1=\"344\" x2=\"365\" y2=\"245\"/><line x1=\"1170\" y1=\"741\" x2=\"1191\" y2=\"642\"/><line x1=\"1191\" y1=\"642\" x2=\"1212\" y2=\"542\"/><line x1=\"1460\" y1=\"443\" x2=\"1480\" y2=\"344\"/><line x1=\"623\" y1=\"642\" x2=\"644\" y2=\"543\"/><line x1=\"644\" y1=\"543\" x2=\"758\" y2=\"543\"/><line x1=\"644\" y1=\"543\" x2=\"665\" y2=\"444\"/><line x1=\"1625\" y1=\"741\" x2=\"1645\" y2=\"641\"/><line x1=\"1738\" y1=\"741\" x2=\"1852\" y2=\"740\"/><line x1=\"1738\" y1=\"741\" x2=\"1759\" y2=\"641\"/><line x1=\"1532\" y1=\"641\" x2=\"1552\" y2=\"542\"/><line x1=\"1511\" y1=\"741\" x2=\"1532\" y2=\"641\"/><line x1=\"1552\" y1=\"542\" x2=\"1573\" y2=\"443\"/><line x1=\"871\" y1=\"543\" x2=\"892\" y2=\"443\"/><line x1=\"778\" y1=\"443\" x2=\"892\" y2=\"443\"/><line x1=\"964\" y1=\"642\" x2=\"985\" y2=\"543\"/><line x1=\"1645\" y1=\"641\" x2=\"1666\" y2=\"542\"/><line x1=\"954\" y1=\"146\" x2=\"975\" y2=\"46\"/><line x1=\"1460\" y1=\"443\" x2=\"1573\" y2=\"443\"/><line x1=\"1645\" y1=\"641\" x2=\"1759\" y2=\"641\"/><line x1=\"1418\" y1=\"642\" x2=\"1439\" y2=\"542\"/><line x1=\"1325\" y1=\"542\" x2=\"1439\" y2=\"542\"/><line x1=\"345\" y1=\"344\" x2=\"458\" y2=\"344\"/><line x1=\"1305\" y1=\"642\" x2=\"1325\" y2=\"542\"/><line x1=\"1119\" y1=\"443\" x2=\"1233\" y2=\"443\"/><line x1=\"438\" y1=\"444\" x2=\"458\" y2=\"344\"/></g><g stroke=\"red\" stroke-dasharray=\"18 15\" stroke-width=\"4\" id=\"edges_tentative\"><line x1=\"1292\" y1=\"428\" x2=\"1460\" y2=\"443\"/><line x1=\"1292\" y1=\"428\" x2=\"1666\" y2=\"542\"/><line x1=\"643\" y1=\"360\" x2=\"458\" y2=\"344\"/><line x1=\"643\" y1=\"360\" x2=\"252\" y2=\"245\"/></g><g id=\"WTGgrp\"><g fill=\"#c5b0d5\"><use href=\"#wtg\" x=\"1088\" y=\"46\"/><use href=\"#wtg\" x=\"1047\" y=\"245\"/><use href=\"#wtg\" x=\"1068\" y=\"145\"/><use href=\"#wtg\" x=\"1140\" y=\"344\"/><use href=\"#wtg\" x=\"1026\" y=\"344\"/></g><g fill=\"#c7c7c7\"><use href=\"#wtg\" x=\"1181\" y=\"145\"/><use href=\"#wtg\" x=\"1295\" y=\"145\"/><use href=\"#wtg\" x=\"1274\" y=\"245\"/><use href=\"#wtg\" x=\"1160\" y=\"245\"/><use href=\"#wtg\" x=\"1202\" y=\"46\"/><use href=\"#wtg\" x=\"1253\" y=\"344\"/></g><g fill=\"#ff7f0e\"><use href=\"#wtg\" x=\"727\" y=\"146\"/><use href=\"#wtg\" x=\"840\" y=\"146\"/><use href=\"#wtg\" x=\"820\" y=\"245\"/><use href=\"#wtg\" x=\"706\" y=\"245\"/><use href=\"#wtg\" x=\"748\" y=\"46\"/><use href=\"#wtg\" x=\"861\" y=\"46\"/></g><g fill=\"#1f77b4\"><use href=\"#wtg\" x=\"500\" y=\"146\"/><use href=\"#wtg\" x=\"520\" y=\"47\"/><use href=\"#wtg\" x=\"479\" y=\"245\"/><use href=\"#wtg\" x=\"593\" y=\"245\"/><use href=\"#wtg\" x=\"634\" y=\"47\"/><use href=\"#wtg\" x=\"613\" y=\"146\"/></g><g fill=\"#f7b6d2\"><use href=\"#wtg\" x=\"1005\" y=\"443\"/><use href=\"#wtg\" x=\"943\" y=\"741\"/><use href=\"#wtg\" x=\"964\" y=\"642\"/><use href=\"#wtg\" x=\"1119\" y=\"443\"/><use href=\"#wtg\" x=\"1233\" y=\"443\"/><use href=\"#wtg\" x=\"985\" y=\"543\"/></g><g fill=\"#e377c2\"><use href=\"#wtg\" x=\"1098\" y=\"542\"/><use href=\"#wtg\" x=\"1057\" y=\"741\"/><use href=\"#wtg\" x=\"1077\" y=\"642\"/><use href=\"#wtg\" x=\"1191\" y=\"642\"/><use href=\"#wtg\" x=\"1170\" y=\"741\"/><use href=\"#wtg\" x=\"1212\" y=\"542\"/></g><g fill=\"#aec7e8\"><use href=\"#wtg\" x=\"799\" y=\"344\"/><use href=\"#wtg\" x=\"685\" y=\"344\"/><use href=\"#wtg\" x=\"933\" y=\"245\"/><use href=\"#wtg\" x=\"913\" y=\"344\"/><use href=\"#wtg\" x=\"954\" y=\"146\"/><use href=\"#wtg\" x=\"975\" y=\"46\"/></g><g fill=\"#ff9896\"><use href=\"#wtg\" x=\"180\" y=\"47\"/><use href=\"#wtg\" x=\"273\" y=\"146\"/><use href=\"#wtg\" x=\"159\" y=\"146\"/><use href=\"#wtg\" x=\"293\" y=\"47\"/><use href=\"#wtg\" x=\"252\" y=\"245\"/><use href=\"#wtg\" x=\"66\" y=\"47\"/></g><g fill=\"#2ca02c\"><use href=\"#wtg\" x=\"737\" y=\"642\"/><use href=\"#wtg\" x=\"623\" y=\"642\"/><use href=\"#wtg\" x=\"644\" y=\"543\"/><use href=\"#wtg\" x=\"665\" y=\"444\"/><use href=\"#wtg\" x=\"758\" y=\"543\"/><use href=\"#wtg\" x=\"716\" y=\"741\"/></g><g fill=\"#d62728\"><use href=\"#wtg\" x=\"850\" y=\"642\"/><use href=\"#wtg\" x=\"830\" y=\"741\"/><use href=\"#wtg\" x=\"871\" y=\"543\"/><use href=\"#wtg\" x=\"892\" y=\"443\"/><use href=\"#wtg\" x=\"778\" y=\"443\"/></g><g fill=\"#98df8a\"><use href=\"#wtg\" x=\"386\" y=\"146\"/><use href=\"#wtg\" x=\"365\" y=\"245\"/><use href=\"#wtg\" x=\"407\" y=\"47\"/><use href=\"#wtg\" x=\"345\" y=\"344\"/><use href=\"#wtg\" x=\"438\" y=\"444\"/><use href=\"#wtg\" x=\"458\" y=\"344\"/></g><g fill=\"#9467bd\"><use href=\"#wtg\" x=\"1388\" y=\"244\"/><use href=\"#wtg\" x=\"1346\" y=\"443\"/><use href=\"#wtg\" x=\"1367\" y=\"344\"/></g><g fill=\"#ffbb78\"><use href=\"#wtg\" x=\"572\" y=\"344\"/><use href=\"#wtg\" x=\"530\" y=\"543\"/><use href=\"#wtg\" x=\"551\" y=\"444\"/></g><g fill=\"#7f7f7f\"><use href=\"#wtg\" x=\"1284\" y=\"741\"/><use href=\"#wtg\" x=\"1397\" y=\"741\"/><use href=\"#wtg\" x=\"1418\" y=\"642\"/><use href=\"#wtg\" x=\"1439\" y=\"542\"/><use href=\"#wtg\" x=\"1305\" y=\"642\"/><use href=\"#wtg\" x=\"1325\" y=\"542\"/></g><g fill=\"#c49c94\"><use href=\"#wtg\" x=\"1480\" y=\"344\"/><use href=\"#wtg\" x=\"1532\" y=\"641\"/><use href=\"#wtg\" x=\"1552\" y=\"542\"/><use href=\"#wtg\" x=\"1460\" y=\"443\"/><use href=\"#wtg\" x=\"1511\" y=\"741\"/><use href=\"#wtg\" x=\"1573\" y=\"443\"/></g><g fill=\"#8c564b\"><use href=\"#wtg\" x=\"1625\" y=\"741\"/><use href=\"#wtg\" x=\"1738\" y=\"741\"/><use href=\"#wtg\" x=\"1666\" y=\"542\"/><use href=\"#wtg\" x=\"1759\" y=\"641\"/><use href=\"#wtg\" x=\"1645\" y=\"641\"/><use href=\"#wtg\" x=\"1852\" y=\"740\"/></g></g><g id=\"OSSgrp\"><use href=\"#oss\" x=\"632.5\" y=\"349.5\"/><use href=\"#oss\" x=\"1281.5\" y=\"417.5\"/></g></g><text filter=\"url(#bg_textbox)\" text-anchor=\"end\" font-family=\"sans-serif\" font-size=\"40\" fill=\"white\" x=\"1890\" y=\"757\"><tspan x=\"1890\" dy=\"-0.0em\">&#931;&#955; = 63471.0 m</tspan><tspan x=\"1890\" dy=\"-1.3em\">(+1) &#945;: 8, &#946;: 8</tspan><tspan x=\"1890\" dy=\"-1.3em\">&#954; = 6, T = 88</tspan></text></svg>"
      ],
      "text/plain": [
       "<optiwindnet.svg.SvgRepr at 0x194f429a510>"
      ]
     },
     "execution_count": 8,
     "metadata": {},
     "output_type": "execute_result"
    }
   ],
   "source": [
    "Sʹ = EW_presolver(A, capacity=capacity)\n",
    "Gʹ = G_from_S(Sʹ, A)\n",
    "svgplot(Gʹ)"
   ]
  },
  {
   "cell_type": "code",
   "execution_count": 9,
   "id": "c5d3782f-2620-48b3-a5c2-9bcf368b30dc",
   "metadata": {},
   "outputs": [],
   "source": [
    "model = omo.make_min_length_model(\n",
    "    A, capacity,\n",
    "    gateXings_constraint=False,\n",
    "    branching=True,\n",
    "    gates_limit=False\n",
    ")\n",
    "omo.warmup_model(model, Sʹ);"
   ]
  },
  {
   "cell_type": "code",
   "execution_count": 10,
   "id": "89a3c772-830a-4d94-a174-d2a2ad06529f",
   "metadata": {},
   "outputs": [],
   "source": [
    "sciper.options.update({\n",
    "    'limits/gap': 0.005,\n",
    "    'limits/time': 180.,\n",
    "    'display/freq': 0.5,\n",
    "    # this is currently useless, as pyomo is not calling the concurrent solver\n",
    "    'parallel/maxnthreads': 16,\n",
    "})"
   ]
  },
  {
   "cell_type": "code",
   "execution_count": 12,
   "id": "2a822f21-8226-447d-9e98-3ba5d02abf73",
   "metadata": {
    "scrolled": true
   },
   "outputs": [
    {
     "name": "stdout",
     "output_type": "stream",
     "text": [
      "WARNING: Could not locate the 'scip' executable or the older 'scipampl'\n",
      "executable, which is required for solver scip\n"
     ]
    },
    {
     "ename": "ApplicationError",
     "evalue": "No executable found for solver 'scip'",
     "output_type": "error",
     "traceback": [
      "\u001b[31m---------------------------------------------------------------------------\u001b[39m",
      "\u001b[31mApplicationError\u001b[39m                          Traceback (most recent call last)",
      "\u001b[36mCell\u001b[39m\u001b[36m \u001b[39m\u001b[32mIn[12]\u001b[39m\u001b[32m, line 1\u001b[39m\n\u001b[32m----> \u001b[39m\u001b[32m1\u001b[39m result = \u001b[43msciper\u001b[49m\u001b[43m.\u001b[49m\u001b[43msolve\u001b[49m\u001b[43m(\u001b[49m\u001b[43mmodel\u001b[49m\u001b[43m,\u001b[49m\u001b[43m \u001b[49m\u001b[43mtee\u001b[49m\u001b[43m=\u001b[49m\u001b[38;5;28;43;01mTrue\u001b[39;49;00m\u001b[43m)\u001b[49m\n",
      "\u001b[36mFile \u001b[39m\u001b[32mc:\\Users\\amia\\AppData\\Local\\miniconda3\\envs\\OptiWindNet\\Lib\\site-packages\\pyomo\\opt\\base\\solvers.py:534\u001b[39m, in \u001b[36mOptSolver.solve\u001b[39m\u001b[34m(self, *args, **kwds)\u001b[39m\n\u001b[32m    531\u001b[39m \u001b[38;5;28;01mdef\u001b[39;00m\u001b[38;5;250m \u001b[39m\u001b[34msolve\u001b[39m(\u001b[38;5;28mself\u001b[39m, *args, **kwds):\n\u001b[32m    532\u001b[39m \u001b[38;5;250m    \u001b[39m\u001b[33;03m\"\"\"Solve the problem\"\"\"\u001b[39;00m\n\u001b[32m--> \u001b[39m\u001b[32m534\u001b[39m     \u001b[38;5;28;43mself\u001b[39;49m\u001b[43m.\u001b[49m\u001b[43mavailable\u001b[49m\u001b[43m(\u001b[49m\u001b[43mexception_flag\u001b[49m\u001b[43m=\u001b[49m\u001b[38;5;28;43;01mTrue\u001b[39;49;00m\u001b[43m)\u001b[49m\n\u001b[32m    535\u001b[39m     \u001b[38;5;66;03m#\u001b[39;00m\n\u001b[32m    536\u001b[39m     \u001b[38;5;66;03m# If the inputs are models, then validate that they have been\u001b[39;00m\n\u001b[32m    537\u001b[39m     \u001b[38;5;66;03m# constructed! Collect suffix names to try and import from solution.\u001b[39;00m\n\u001b[32m    538\u001b[39m     \u001b[38;5;66;03m#\u001b[39;00m\n\u001b[32m    539\u001b[39m     \u001b[38;5;28;01mfrom\u001b[39;00m\u001b[38;5;250m \u001b[39m\u001b[34;01mpyomo\u001b[39;00m\u001b[34;01m.\u001b[39;00m\u001b[34;01mcore\u001b[39;00m\u001b[34;01m.\u001b[39;00m\u001b[34;01mbase\u001b[39;00m\u001b[34;01m.\u001b[39;00m\u001b[34;01mblock\u001b[39;00m\u001b[38;5;250m \u001b[39m\u001b[38;5;28;01mimport\u001b[39;00m BlockData\n",
      "\u001b[36mFile \u001b[39m\u001b[32mc:\\Users\\amia\\AppData\\Local\\miniconda3\\envs\\OptiWindNet\\Lib\\site-packages\\pyomo\\opt\\solver\\shellcmd.py:140\u001b[39m, in \u001b[36mSystemCallSolver.available\u001b[39m\u001b[34m(self, exception_flag)\u001b[39m\n\u001b[32m    138\u001b[39m     \u001b[38;5;28;01mif\u001b[39;00m exception_flag:\n\u001b[32m    139\u001b[39m         msg = \u001b[33m\"\u001b[39m\u001b[33mNo executable found for solver \u001b[39m\u001b[33m'\u001b[39m\u001b[38;5;132;01m%s\u001b[39;00m\u001b[33m'\u001b[39m\u001b[33m\"\u001b[39m\n\u001b[32m--> \u001b[39m\u001b[32m140\u001b[39m         \u001b[38;5;28;01mraise\u001b[39;00m ApplicationError(msg % \u001b[38;5;28mself\u001b[39m.name)\n\u001b[32m    141\u001b[39m     \u001b[38;5;28;01mreturn\u001b[39;00m \u001b[38;5;28;01mFalse\u001b[39;00m\n\u001b[32m    142\u001b[39m \u001b[38;5;28;01mreturn\u001b[39;00m \u001b[38;5;28;01mTrue\u001b[39;00m\n",
      "\u001b[31mApplicationError\u001b[39m: No executable found for solver 'scip'"
     ]
    }
   ],
   "source": [
    "result = sciper.solve(model, tee=True)"
   ]
  },
  {
   "cell_type": "code",
   "execution_count": null,
   "id": "22ddfecd-5f34-4417-8870-a5bcd6bf8193",
   "metadata": {},
   "outputs": [
    {
     "data": {
      "image/svg+xml": [
       "<svg xmlns=\"http://www.w3.org/2000/svg\" viewBox=\"0 0 1920 787\"><defs ><filter x=\"-5%\" y=\"-5%\" id=\"bg_textbox\" width=\"110%\" height=\"110%\"><feFlood flood-opacity=\"0.7\" flood-color=\"#111\" result=\"bg\"/><feMerge ><feMergeNode in=\"bg\"/><feMergeNode in=\"SourceGraphic\"/></feMerge></filter><circle stroke=\"none\" stroke-width=\"2\" id=\"wtg\" r=\"12\"/><rect stroke=\"none\" stroke-width=\"2\" id=\"oss\" width=\"21\" height=\"21\" fill=\"lawngreen\"/><circle stroke=\"orange\" stroke-opacity=\"0.3\" stroke-width=\"4\" id=\"dt\" r=\"23\" fill=\"none\"/></defs><g id=\"sheringham\"><path stroke=\"silver\" stroke-dasharray=\"15 7\" stroke-width=\"2\" id=\"border\" d=\"M709 757 30 31 1209 30 1890 757z\" fill-rule=\"evenodd\" fill=\"#111\"/><g stroke=\"crimson\" stroke-width=\"4\" id=\"edges_unspecified\"><line x1=\"643\" y1=\"360\" x2=\"458\" y2=\"344\"/><line x1=\"643\" y1=\"360\" x2=\"706\" y2=\"245\"/><line x1=\"643\" y1=\"360\" x2=\"685\" y2=\"344\"/><line x1=\"643\" y1=\"360\" x2=\"665\" y2=\"444\"/><line x1=\"643\" y1=\"360\" x2=\"593\" y2=\"245\"/><line x1=\"643\" y1=\"360\" x2=\"572\" y2=\"344\"/><line x1=\"643\" y1=\"360\" x2=\"778\" y2=\"443\"/><line x1=\"643\" y1=\"360\" x2=\"551\" y2=\"444\"/><line x1=\"593\" y1=\"245\" x2=\"613\" y2=\"146\"/><line x1=\"685\" y1=\"344\" x2=\"799\" y2=\"344\"/><line x1=\"706\" y1=\"245\" x2=\"727\" y2=\"146\"/><line x1=\"706\" y1=\"245\" x2=\"820\" y2=\"245\"/><line x1=\"479\" y1=\"245\" x2=\"572\" y2=\"344\"/><line x1=\"438\" y1=\"444\" x2=\"551\" y2=\"444\"/><line x1=\"530\" y1=\"543\" x2=\"551\" y2=\"444\"/><line x1=\"644\" y1=\"543\" x2=\"665\" y2=\"444\"/><line x1=\"365\" y1=\"245\" x2=\"458\" y2=\"344\"/><line x1=\"778\" y1=\"443\" x2=\"892\" y2=\"443\"/><line x1=\"1292\" y1=\"428\" x2=\"1212\" y2=\"542\"/><line x1=\"1292\" y1=\"428\" x2=\"1367\" y2=\"344\"/><line x1=\"1292\" y1=\"428\" x2=\"1140\" y2=\"344\"/><line x1=\"1292\" y1=\"428\" x2=\"1346\" y2=\"443\"/><line x1=\"1292\" y1=\"428\" x2=\"1325\" y2=\"542\"/><line x1=\"1292\" y1=\"428\" x2=\"1253\" y2=\"344\"/><line x1=\"1292\" y1=\"428\" x2=\"1233\" y2=\"443\"/><line x1=\"1346\" y1=\"443\" x2=\"1460\" y2=\"443\"/><line x1=\"1367\" y1=\"344\" x2=\"1480\" y2=\"344\"/><line x1=\"1367\" y1=\"344\" x2=\"1388\" y2=\"244\"/><line x1=\"1026\" y1=\"344\" x2=\"1140\" y2=\"344\"/><line x1=\"1645\" y1=\"641\" x2=\"1666\" y2=\"542\"/><line x1=\"1098\" y1=\"542\" x2=\"1212\" y2=\"542\"/><line x1=\"1191\" y1=\"642\" x2=\"1212\" y2=\"542\"/><line x1=\"1119\" y1=\"443\" x2=\"1233\" y2=\"443\"/><line x1=\"1305\" y1=\"642\" x2=\"1325\" y2=\"542\"/><line x1=\"1325\" y1=\"542\" x2=\"1439\" y2=\"542\"/><line x1=\"1253\" y1=\"344\" x2=\"1274\" y2=\"245\"/><line x1=\"1181\" y1=\"145\" x2=\"1295\" y2=\"145\"/><line x1=\"1181\" y1=\"145\" x2=\"1202\" y2=\"46\"/><line x1=\"1160\" y1=\"245\" x2=\"1181\" y2=\"145\"/><line x1=\"1274\" y1=\"245\" x2=\"1295\" y2=\"145\"/><line x1=\"386\" y1=\"146\" x2=\"500\" y2=\"146\"/><line x1=\"386\" y1=\"146\" x2=\"407\" y2=\"47\"/><line x1=\"479\" y1=\"245\" x2=\"500\" y2=\"146\"/><line x1=\"520\" y1=\"47\" x2=\"634\" y2=\"47\"/><line x1=\"613\" y1=\"146\" x2=\"634\" y2=\"47\"/><line x1=\"964\" y1=\"642\" x2=\"985\" y2=\"543\"/><line x1=\"985\" y1=\"543\" x2=\"1005\" y2=\"443\"/><line x1=\"1005\" y1=\"443\" x2=\"1119\" y2=\"443\"/><line x1=\"1077\" y1=\"642\" x2=\"1098\" y2=\"542\"/><line x1=\"1057\" y1=\"741\" x2=\"1077\" y2=\"642\"/><line x1=\"66\" y1=\"47\" x2=\"180\" y2=\"47\"/><line x1=\"159\" y1=\"146\" x2=\"180\" y2=\"47\"/><line x1=\"159\" y1=\"146\" x2=\"273\" y2=\"146\"/><line x1=\"273\" y1=\"146\" x2=\"365\" y2=\"245\"/><line x1=\"716\" y1=\"741\" x2=\"737\" y2=\"642\"/><line x1=\"737\" y1=\"642\" x2=\"758\" y2=\"543\"/><line x1=\"623\" y1=\"642\" x2=\"737\" y2=\"642\"/><line x1=\"830\" y1=\"741\" x2=\"850\" y2=\"642\"/><line x1=\"850\" y1=\"642\" x2=\"871\" y2=\"543\"/><line x1=\"871\" y1=\"543\" x2=\"892\" y2=\"443\"/><line x1=\"943\" y1=\"741\" x2=\"964\" y2=\"642\"/><line x1=\"1284\" y1=\"741\" x2=\"1305\" y2=\"642\"/><line x1=\"1397\" y1=\"741\" x2=\"1418\" y2=\"642\"/><line x1=\"1418\" y1=\"642\" x2=\"1439\" y2=\"542\"/><line x1=\"1026\" y1=\"344\" x2=\"1047\" y2=\"245\"/><line x1=\"345\" y1=\"344\" x2=\"438\" y2=\"444\"/><line x1=\"1170\" y1=\"741\" x2=\"1191\" y2=\"642\"/><line x1=\"623\" y1=\"642\" x2=\"644\" y2=\"543\"/><line x1=\"1625\" y1=\"741\" x2=\"1645\" y2=\"641\"/><line x1=\"1645\" y1=\"641\" x2=\"1759\" y2=\"641\"/><line x1=\"1738\" y1=\"741\" x2=\"1852\" y2=\"740\"/><line x1=\"1738\" y1=\"741\" x2=\"1759\" y2=\"641\"/><line x1=\"293\" y1=\"47\" x2=\"407\" y2=\"47\"/><line x1=\"1532\" y1=\"641\" x2=\"1552\" y2=\"542\"/><line x1=\"1511\" y1=\"741\" x2=\"1532\" y2=\"641\"/><line x1=\"1552\" y1=\"542\" x2=\"1573\" y2=\"443\"/><line x1=\"1460\" y1=\"443\" x2=\"1573\" y2=\"443\"/><line x1=\"252\" y1=\"245\" x2=\"345\" y2=\"344\"/><line x1=\"1068\" y1=\"145\" x2=\"1088\" y2=\"46\"/><line x1=\"1047\" y1=\"245\" x2=\"1068\" y2=\"145\"/><line x1=\"727\" y1=\"146\" x2=\"748\" y2=\"46\"/><line x1=\"840\" y1=\"146\" x2=\"861\" y2=\"46\"/><line x1=\"820\" y1=\"245\" x2=\"840\" y2=\"146\"/><line x1=\"799\" y1=\"344\" x2=\"913\" y2=\"344\"/><line x1=\"913\" y1=\"344\" x2=\"933\" y2=\"245\"/><line x1=\"933\" y1=\"245\" x2=\"954\" y2=\"146\"/><line x1=\"954\" y1=\"146\" x2=\"975\" y2=\"46\"/></g><g stroke=\"darkorange\" stroke-dasharray=\"18 15\" stroke-width=\"4\" id=\"detours\" fill=\"none\"><polyline points=\"1292 428 1573 443 1666 542\"/></g><g id=\"DTgrp\"><use href=\"#dt\" x=\"1573\" y=\"443\"/></g><g id=\"WTGgrp\"><g fill=\"#1f77b4\"><use href=\"#wtg\" x=\"593\" y=\"245\"/><use href=\"#wtg\" x=\"520\" y=\"47\"/><use href=\"#wtg\" x=\"634\" y=\"47\"/><use href=\"#wtg\" x=\"613\" y=\"146\"/></g><g fill=\"#aec7e8\"><use href=\"#wtg\" x=\"685\" y=\"344\"/><use href=\"#wtg\" x=\"799\" y=\"344\"/><use href=\"#wtg\" x=\"913\" y=\"344\"/><use href=\"#wtg\" x=\"933\" y=\"245\"/><use href=\"#wtg\" x=\"954\" y=\"146\"/><use href=\"#wtg\" x=\"975\" y=\"46\"/></g><g fill=\"#ff7f0e\"><use href=\"#wtg\" x=\"706\" y=\"245\"/><use href=\"#wtg\" x=\"727\" y=\"146\"/><use href=\"#wtg\" x=\"748\" y=\"46\"/><use href=\"#wtg\" x=\"840\" y=\"146\"/><use href=\"#wtg\" x=\"820\" y=\"245\"/><use href=\"#wtg\" x=\"861\" y=\"46\"/></g><g fill=\"#ffbb78\"><use href=\"#wtg\" x=\"572\" y=\"344\"/><use href=\"#wtg\" x=\"386\" y=\"146\"/><use href=\"#wtg\" x=\"500\" y=\"146\"/><use href=\"#wtg\" x=\"479\" y=\"245\"/><use href=\"#wtg\" x=\"293\" y=\"47\"/><use href=\"#wtg\" x=\"407\" y=\"47\"/></g><g fill=\"#2ca02c\"><use href=\"#wtg\" x=\"551\" y=\"444\"/><use href=\"#wtg\" x=\"530\" y=\"543\"/><use href=\"#wtg\" x=\"438\" y=\"444\"/><use href=\"#wtg\" x=\"252\" y=\"245\"/><use href=\"#wtg\" x=\"345\" y=\"344\"/></g><g fill=\"#98df8a\"><use href=\"#wtg\" x=\"665\" y=\"444\"/><use href=\"#wtg\" x=\"716\" y=\"741\"/><use href=\"#wtg\" x=\"737\" y=\"642\"/><use href=\"#wtg\" x=\"623\" y=\"642\"/><use href=\"#wtg\" x=\"644\" y=\"543\"/><use href=\"#wtg\" x=\"758\" y=\"543\"/></g><g fill=\"#d62728\"><use href=\"#wtg\" x=\"458\" y=\"344\"/><use href=\"#wtg\" x=\"66\" y=\"47\"/><use href=\"#wtg\" x=\"180\" y=\"47\"/><use href=\"#wtg\" x=\"273\" y=\"146\"/><use href=\"#wtg\" x=\"365\" y=\"245\"/><use href=\"#wtg\" x=\"159\" y=\"146\"/></g><g fill=\"#ff9896\"><use href=\"#wtg\" x=\"778\" y=\"443\"/><use href=\"#wtg\" x=\"830\" y=\"741\"/><use href=\"#wtg\" x=\"850\" y=\"642\"/><use href=\"#wtg\" x=\"871\" y=\"543\"/><use href=\"#wtg\" x=\"892\" y=\"443\"/></g><g fill=\"#9467bd\"><use href=\"#wtg\" x=\"1346\" y=\"443\"/><use href=\"#wtg\" x=\"1532\" y=\"641\"/><use href=\"#wtg\" x=\"1552\" y=\"542\"/><use href=\"#wtg\" x=\"1511\" y=\"741\"/><use href=\"#wtg\" x=\"1573\" y=\"443\"/><use href=\"#wtg\" x=\"1460\" y=\"443\"/></g><g fill=\"#c5b0d5\"><use href=\"#wtg\" x=\"1367\" y=\"344\"/><use href=\"#wtg\" x=\"1388\" y=\"244\"/><use href=\"#wtg\" x=\"1480\" y=\"344\"/></g><g fill=\"#8c564b\"><use href=\"#wtg\" x=\"1140\" y=\"344\"/><use href=\"#wtg\" x=\"1026\" y=\"344\"/><use href=\"#wtg\" x=\"1088\" y=\"46\"/><use href=\"#wtg\" x=\"1068\" y=\"145\"/><use href=\"#wtg\" x=\"1047\" y=\"245\"/></g><g fill=\"#c49c94\"><use href=\"#wtg\" x=\"1666\" y=\"542\"/><use href=\"#wtg\" x=\"1625\" y=\"741\"/><use href=\"#wtg\" x=\"1645\" y=\"641\"/><use href=\"#wtg\" x=\"1738\" y=\"741\"/><use href=\"#wtg\" x=\"1759\" y=\"641\"/><use href=\"#wtg\" x=\"1852\" y=\"740\"/></g><g fill=\"#e377c2\"><use href=\"#wtg\" x=\"1212\" y=\"542\"/><use href=\"#wtg\" x=\"1098\" y=\"542\"/><use href=\"#wtg\" x=\"1077\" y=\"642\"/><use href=\"#wtg\" x=\"1057\" y=\"741\"/><use href=\"#wtg\" x=\"1170\" y=\"741\"/><use href=\"#wtg\" x=\"1191\" y=\"642\"/></g><g fill=\"#f7b6d2\"><use href=\"#wtg\" x=\"1233\" y=\"443\"/><use href=\"#wtg\" x=\"985\" y=\"543\"/><use href=\"#wtg\" x=\"1005\" y=\"443\"/><use href=\"#wtg\" x=\"1119\" y=\"443\"/><use href=\"#wtg\" x=\"943\" y=\"741\"/><use href=\"#wtg\" x=\"964\" y=\"642\"/></g><g fill=\"#7f7f7f\"><use href=\"#wtg\" x=\"1325\" y=\"542\"/><use href=\"#wtg\" x=\"1284\" y=\"741\"/><use href=\"#wtg\" x=\"1305\" y=\"642\"/><use href=\"#wtg\" x=\"1397\" y=\"741\"/><use href=\"#wtg\" x=\"1418\" y=\"642\"/><use href=\"#wtg\" x=\"1439\" y=\"542\"/></g><g fill=\"#c7c7c7\"><use href=\"#wtg\" x=\"1253\" y=\"344\"/><use href=\"#wtg\" x=\"1181\" y=\"145\"/><use href=\"#wtg\" x=\"1295\" y=\"145\"/><use href=\"#wtg\" x=\"1160\" y=\"245\"/><use href=\"#wtg\" x=\"1202\" y=\"46\"/><use href=\"#wtg\" x=\"1274\" y=\"245\"/></g></g><g id=\"OSSgrp\"><use href=\"#oss\" x=\"632.5\" y=\"349.5\"/><use href=\"#oss\" x=\"1281.5\" y=\"417.5\"/></g></g><text filter=\"url(#bg_textbox)\" text-anchor=\"end\" font-family=\"sans-serif\" font-size=\"40\" fill=\"white\" x=\"1890\" y=\"757\"><tspan x=\"1890\" dy=\"-0.0em\">&#931;&#955; = 62887.0 m</tspan><tspan x=\"1890\" dy=\"-1.3em\">(+1) &#945;: 8, &#946;: 8</tspan><tspan x=\"1890\" dy=\"-1.3em\">&#954; = 6, T = 88</tspan></text></svg>"
      ],
      "text/plain": [
       "<optiwindnet.svg.SvgRepr at 0x212225a7a70>"
      ]
     },
     "execution_count": 12,
     "metadata": {},
     "output_type": "execute_result"
    }
   ],
   "source": [
    "S = omo.S_from_solution(model, sciper, result)\n",
    "G = G_from_S(S, A)\n",
    "H = PathFinder(G, planar=P, A=A).create_detours()\n",
    "svgplot(H)"
   ]
  }
 ],
 "metadata": {
  "kernelspec": {
   "display_name": "OptiWindNet",
   "language": "python",
   "name": "python3"
  },
  "language_info": {
   "codemirror_mode": {
    "name": "ipython",
    "version": 3
   },
   "file_extension": ".py",
   "mimetype": "text/x-python",
   "name": "python",
   "nbconvert_exporter": "python",
   "pygments_lexer": "ipython3",
   "version": "3.12.9"
  }
 },
 "nbformat": 4,
 "nbformat_minor": 5
}
