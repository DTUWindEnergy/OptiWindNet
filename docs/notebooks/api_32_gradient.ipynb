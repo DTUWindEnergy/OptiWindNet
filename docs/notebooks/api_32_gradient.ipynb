{
 "cells": [
  {
   "cell_type": "markdown",
   "id": "ed13a6b8-1d5b-4ce0-9cd4-b81bac7b07dd",
   "metadata": {},
   "source": [
    "## Plotting"
   ]
  },
  {
   "cell_type": "code",
   "execution_count": 1,
   "id": "b0f61785-6be5-4a0f-8282-5c17f4cc28ad",
   "metadata": {},
   "outputs": [
    {
     "name": "stdout",
     "output_type": "stream",
     "text": [
      "load c:\\Users\\amia\\AppData\\Local\\miniconda3\\envs\\OptiWindNet\\Lib\\site-packages\\ortools\\.libs\\zlib1.dll...\n",
      "load c:\\Users\\amia\\AppData\\Local\\miniconda3\\envs\\OptiWindNet\\Lib\\site-packages\\ortools\\.libs\\abseil_dll.dll...\n",
      "load c:\\Users\\amia\\AppData\\Local\\miniconda3\\envs\\OptiWindNet\\Lib\\site-packages\\ortools\\.libs\\utf8_validity.dll...\n",
      "load c:\\Users\\amia\\AppData\\Local\\miniconda3\\envs\\OptiWindNet\\Lib\\site-packages\\ortools\\.libs\\re2.dll...\n",
      "load c:\\Users\\amia\\AppData\\Local\\miniconda3\\envs\\OptiWindNet\\Lib\\site-packages\\ortools\\.libs\\libprotobuf.dll...\n",
      "load c:\\Users\\amia\\AppData\\Local\\miniconda3\\envs\\OptiWindNet\\Lib\\site-packages\\ortools\\.libs\\highs.dll...\n",
      "load c:\\Users\\amia\\AppData\\Local\\miniconda3\\envs\\OptiWindNet\\Lib\\site-packages\\ortools\\.libs\\ortools.dll...\n"
     ]
    }
   ],
   "source": [
    "from optiwindnet.api import WindFarmNetwork\n",
    "import numpy as np"
   ]
  },
  {
   "cell_type": "markdown",
   "id": "3f8789d4-5f85-4e50-a7b6-dd9b57f0e4a2",
   "metadata": {},
   "source": [
    "### Create a sample network"
   ]
  },
  {
   "cell_type": "code",
   "execution_count": 2,
   "id": "4e702047",
   "metadata": {},
   "outputs": [],
   "source": [
    "substationsC = np.array([[0, 0],], dtype=float)\n",
    "turbinesC = np.array(\n",
    "    [[0, 1], [1, 1]],\n",
    "    dtype=float\n",
    ")"
   ]
  },
  {
   "cell_type": "code",
   "execution_count": 3,
   "id": "06f2868e",
   "metadata": {},
   "outputs": [],
   "source": [
    "wfn = WindFarmNetwork(turbinesC=turbinesC, substationsC=substationsC, cables=[(5, 10)])"
   ]
  },
  {
   "cell_type": "code",
   "execution_count": 4,
   "id": "f88ccb3c",
   "metadata": {},
   "outputs": [
    {
     "data": {
      "text/plain": [
       "<Axes: >"
      ]
     },
     "execution_count": 4,
     "metadata": {},
     "output_type": "execute_result"
    },
    {
     "data": {
      "image/svg+xml": [
       "<?xml version=\"1.0\" encoding=\"utf-8\" standalone=\"no\"?>\n",
       "<!DOCTYPE svg PUBLIC \"-//W3C//DTD SVG 1.1//EN\"\n",
       "  \"http://www.w3.org/Graphics/SVG/1.1/DTD/svg11.dtd\">\n",
       "<svg xmlns:xlink=\"http://www.w3.org/1999/xlink\" width=\"353.99952pt\" height=\"353.99952pt\" viewBox=\"0 0 353.99952 353.99952\" xmlns=\"http://www.w3.org/2000/svg\" version=\"1.1\">\n",
       " <metadata>\n",
       "  <rdf:RDF xmlns:dc=\"http://purl.org/dc/elements/1.1/\" xmlns:cc=\"http://creativecommons.org/ns#\" xmlns:rdf=\"http://www.w3.org/1999/02/22-rdf-syntax-ns#\">\n",
       "   <cc:Work>\n",
       "    <dc:type rdf:resource=\"http://purl.org/dc/dcmitype/StillImage\"/>\n",
       "    <dc:date>2025-04-16T19:36:50.771055</dc:date>\n",
       "    <dc:format>image/svg+xml</dc:format>\n",
       "    <dc:creator>\n",
       "     <cc:Agent>\n",
       "      <dc:title>Matplotlib v3.10.1, https://matplotlib.org/</dc:title>\n",
       "     </cc:Agent>\n",
       "    </dc:creator>\n",
       "   </cc:Work>\n",
       "  </rdf:RDF>\n",
       " </metadata>\n",
       " <defs>\n",
       "  <style type=\"text/css\">*{stroke-linejoin: round; stroke-linecap: butt}</style>\n",
       " </defs>\n",
       " <g id=\"figure_1\">\n",
       "  <g id=\"axes_1\">\n",
       "   <g id=\"PathCollection_1\">\n",
       "    <path d=\"M 5.923146 348.076374 \n",
       "L 11.839226 348.076374 \n",
       "L 11.839226 342.160294 \n",
       "L 5.923146 342.160294 \n",
       "z\n",
       "\" style=\"fill: #7cfc00\"/>\n",
       "   </g>\n",
       "   <g id=\"PathCollection_2\">\n",
       "    <defs>\n",
       "     <path id=\"C0_0_d8b7c250ad\" d=\"M 0 2.95804 \n",
       "C 0.784481 2.95804 1.536938 2.646362 2.09165 2.09165 \n",
       "C 2.646362 1.536938 2.95804 0.784481 2.95804 -0 \n",
       "C 2.95804 -0.784481 2.646362 -1.536938 2.09165 -2.09165 \n",
       "C 1.536938 -2.646362 0.784481 -2.95804 0 -2.95804 \n",
       "C -0.784481 -2.95804 -1.536938 -2.646362 -2.09165 -2.09165 \n",
       "C -2.646362 -1.536938 -2.95804 -0.784481 -2.95804 0 \n",
       "C -2.95804 0.784481 -2.646362 1.536938 -2.09165 2.09165 \n",
       "C -1.536938 2.646362 -0.784481 2.95804 0 2.95804 \n",
       "z\n",
       "\"/>\n",
       "    </defs>\n",
       "    <use xlink:href=\"#C0_0_d8b7c250ad\" x=\"8.881186\" y=\"8.881186\" style=\"fill: #9edae5\"/>\n",
       "    <use xlink:href=\"#C0_0_d8b7c250ad\" x=\"345.118334\" y=\"8.881186\" style=\"fill: #9edae5\"/>\n",
       "   </g>\n",
       "  </g>\n",
       " </g>\n",
       "</svg>\n"
      ],
      "text/plain": [
       "<Figure size 1228.8x921.6 with 1 Axes>"
      ]
     },
     "metadata": {},
     "output_type": "display_data"
    }
   ],
   "source": [
    "# set Matplotlib option to generate inline SVG\n",
    "import matplotlib.pyplot as plt\n",
    "%config InlineBackend.figure_formats = ['svg']\n",
    "plt.rcParams['svg.fonttype'] = 'none'\n",
    "\n",
    "# plot location\n",
    "wfn.plot_location()"
   ]
  },
  {
   "cell_type": "code",
   "execution_count": 5,
   "id": "a6623599",
   "metadata": {},
   "outputs": [
    {
     "data": {
      "text/plain": [
       "<Axes: >"
      ]
     },
     "execution_count": 5,
     "metadata": {},
     "output_type": "execute_result"
    },
    {
     "data": {
      "image/svg+xml": [
       "<?xml version=\"1.0\" encoding=\"utf-8\" standalone=\"no\"?>\n",
       "<!DOCTYPE svg PUBLIC \"-//W3C//DTD SVG 1.1//EN\"\n",
       "  \"http://www.w3.org/Graphics/SVG/1.1/DTD/svg11.dtd\">\n",
       "<svg xmlns:xlink=\"http://www.w3.org/1999/xlink\" width=\"454.647273pt\" height=\"180.72pt\" viewBox=\"0 0 454.647273 180.72\" xmlns=\"http://www.w3.org/2000/svg\" version=\"1.1\">\n",
       " <metadata>\n",
       "  <rdf:RDF xmlns:dc=\"http://purl.org/dc/elements/1.1/\" xmlns:cc=\"http://creativecommons.org/ns#\" xmlns:rdf=\"http://www.w3.org/1999/02/22-rdf-syntax-ns#\">\n",
       "   <cc:Work>\n",
       "    <dc:type rdf:resource=\"http://purl.org/dc/dcmitype/StillImage\"/>\n",
       "    <dc:date>2025-04-16T19:36:50.838068</dc:date>\n",
       "    <dc:format>image/svg+xml</dc:format>\n",
       "    <dc:creator>\n",
       "     <cc:Agent>\n",
       "      <dc:title>Matplotlib v3.10.1, https://matplotlib.org/</dc:title>\n",
       "     </cc:Agent>\n",
       "    </dc:creator>\n",
       "   </cc:Work>\n",
       "  </rdf:RDF>\n",
       " </metadata>\n",
       " <defs>\n",
       "  <style type=\"text/css\">*{stroke-linejoin: round; stroke-linecap: butt}</style>\n",
       " </defs>\n",
       " <g id=\"figure_1\">\n",
       "  <g id=\"patch_1\">\n",
       "   <path d=\"M 0 180.72 \n",
       "L 454.647273 180.72 \n",
       "L 454.647273 0 \n",
       "L 0 0 \n",
       "L 0 180.72 \n",
       "z\n",
       "\" style=\"fill: none\"/>\n",
       "  </g>\n",
       "  <g id=\"axes_1\">\n",
       "   <g id=\"LineCollection_1\">\n",
       "    <path d=\"M 14.76 14.76 \n",
       "L 14.76 165.96 \n",
       "\" clip-path=\"url(#p493e880cf6)\" style=\"fill: none; stroke-dasharray: 6.4,1.6,1,1.6; stroke-dashoffset: 0; stroke: #9932cc; stroke-linecap: round\"/>\n",
       "    <path d=\"M 14.76 14.76 \n",
       "L -1 28.052392 \n",
       "\" clip-path=\"url(#p493e880cf6)\" style=\"fill: none; stroke-dasharray: 6.4,1.6,1,1.6; stroke-dashoffset: 0; stroke: #9932cc; stroke-linecap: round\"/>\n",
       "    <path d=\"M 14.76 14.76 \n",
       "L 17.011429 -1 \n",
       "\" clip-path=\"url(#p493e880cf6)\" style=\"fill: none; stroke-dasharray: 6.4,1.6,1,1.6; stroke-dashoffset: 0; stroke: #9932cc; stroke-linecap: round\"/>\n",
       "    <path d=\"M 14.76 14.76 \n",
       "L 165.96 14.76 \n",
       "\" clip-path=\"url(#p493e880cf6)\" style=\"fill: none; stroke-dasharray: 6.4,1.6,1,1.6; stroke-dashoffset: 0; stroke: #9932cc; stroke-linecap: round\"/>\n",
       "    <path d=\"M 165.96 14.76 \n",
       "L 14.76 165.96 \n",
       "\" clip-path=\"url(#p493e880cf6)\" style=\"fill: none; stroke-dasharray: 6.4,1.6,1,1.6; stroke-dashoffset: 0; stroke: #9932cc; stroke-linecap: round\"/>\n",
       "    <path d=\"M 165.96 14.76 \n",
       "L 163.708571 -1 \n",
       "\" clip-path=\"url(#p493e880cf6)\" style=\"fill: none; stroke-dasharray: 6.4,1.6,1,1.6; stroke-dashoffset: 0; stroke: #9932cc; stroke-linecap: round\"/>\n",
       "    <path d=\"M 165.96 14.76 \n",
       "L 363.914562 181.72 \n",
       "\" clip-path=\"url(#p493e880cf6)\" style=\"fill: none; stroke-dasharray: 6.4,1.6,1,1.6; stroke-dashoffset: 0; stroke: #9932cc; stroke-linecap: round\"/>\n",
       "    <path d=\"M 14.76 165.96 \n",
       "L 56.409494 181.72 \n",
       "\" clip-path=\"url(#p493e880cf6)\" style=\"fill: none; stroke-dasharray: 6.4,1.6,1,1.6; stroke-dashoffset: 0; stroke: #9932cc; stroke-linecap: round\"/>\n",
       "    <path d=\"M 14.76 165.96 \n",
       "L -1 173.935435 \n",
       "\" clip-path=\"url(#p493e880cf6)\" style=\"fill: none; stroke-dasharray: 6.4,1.6,1,1.6; stroke-dashoffset: 0; stroke: #9932cc; stroke-linecap: round\"/>\n",
       "    <path clip-path=\"url(#p493e880cf6)\" style=\"fill: none; stroke-dasharray: 6.4,1.6,1,1.6; stroke-dashoffset: 0; stroke: #9932cc; stroke-linecap: round\"/>\n",
       "    <path d=\"M 455.647273 118.256116 \n",
       "L 386.794722 -1 \n",
       "\" clip-path=\"url(#p493e880cf6)\" style=\"fill: none; stroke-dasharray: 6.4,1.6,1,1.6; stroke-dashoffset: 0; stroke: #9932cc; stroke-linecap: round\"/>\n",
       "    <path clip-path=\"url(#p493e880cf6)\" style=\"fill: none; stroke-dasharray: 6.4,1.6,1,1.6; stroke-dashoffset: 0; stroke: #9932cc; stroke-linecap: round\"/>\n",
       "   </g>\n",
       "   <g id=\"PathCollection_1\">\n",
       "    <path d=\"M 11.80196 168.91804 \n",
       "L 17.71804 168.91804 \n",
       "L 17.71804 163.00196 \n",
       "L 11.80196 163.00196 \n",
       "z\n",
       "\" style=\"fill: #7cfc00\"/>\n",
       "   </g>\n",
       "   <g id=\"PathCollection_2\">\n",
       "    <defs>\n",
       "     <path id=\"C0_0_54bcc6fd9a\" d=\"M 0 2.95804 \n",
       "C 0.784481 2.95804 1.536938 2.646362 2.09165 2.09165 \n",
       "C 2.646362 1.536938 2.95804 0.784481 2.95804 -0 \n",
       "C 2.95804 -0.784481 2.646362 -1.536938 2.09165 -2.09165 \n",
       "C 1.536938 -2.646362 0.784481 -2.95804 0 -2.95804 \n",
       "C -0.784481 -2.95804 -1.536938 -2.646362 -2.09165 -2.09165 \n",
       "C -2.646362 -1.536938 -2.95804 -0.784481 -2.95804 0 \n",
       "C -2.95804 0.784481 -2.646362 1.536938 -2.09165 2.09165 \n",
       "C -1.536938 2.646362 -0.784481 2.95804 0 2.95804 \n",
       "z\n",
       "\"/>\n",
       "    </defs>\n",
       "    <use xlink:href=\"#C0_0_54bcc6fd9a\" x=\"14.76\" y=\"14.76\" style=\"fill: #9edae5\"/>\n",
       "    <use xlink:href=\"#C0_0_54bcc6fd9a\" x=\"165.96\" y=\"14.76\" style=\"fill: #9edae5\"/>\n",
       "   </g>\n",
       "  </g>\n",
       "  <g id=\"axes_2\">\n",
       "   <g id=\"LineCollection_2\">\n",
       "    <path d=\"M 288.687273 14.76 \n",
       "L 439.887273 14.76 \n",
       "\" clip-path=\"url(#p3d53404a23)\" style=\"fill: none; stroke: #008b8b; stroke-linecap: round\"/>\n",
       "    <path d=\"M 288.687273 14.76 \n",
       "L 288.687273 165.96 \n",
       "\" clip-path=\"url(#p3d53404a23)\" style=\"fill: none; stroke: #008b8b; stroke-linecap: round\"/>\n",
       "    <path d=\"M 439.887273 14.76 \n",
       "L 288.687273 165.96 \n",
       "\" clip-path=\"url(#p3d53404a23)\" style=\"fill: none; stroke: #008b8b; stroke-linecap: round\"/>\n",
       "   </g>\n",
       "   <g id=\"PathCollection_3\">\n",
       "    <path d=\"M 285.729233 168.91804 \n",
       "L 291.645313 168.91804 \n",
       "L 291.645313 163.00196 \n",
       "L 285.729233 163.00196 \n",
       "z\n",
       "\" style=\"fill: #7cfc00\"/>\n",
       "   </g>\n",
       "   <g id=\"PathCollection_4\">\n",
       "    <defs>\n",
       "     <path id=\"C1_0_1810f075c9\" d=\"M 0 2.95804 \n",
       "C 0.784481 2.95804 1.536938 2.646362 2.09165 2.09165 \n",
       "C 2.646362 1.536938 2.95804 0.784481 2.95804 -0 \n",
       "C 2.95804 -0.784481 2.646362 -1.536938 2.09165 -2.09165 \n",
       "C 1.536938 -2.646362 0.784481 -2.95804 0 -2.95804 \n",
       "C -0.784481 -2.95804 -1.536938 -2.646362 -2.09165 -2.09165 \n",
       "C -2.646362 -1.536938 -2.95804 -0.784481 -2.95804 0 \n",
       "C -2.95804 0.784481 -2.646362 1.536938 -2.09165 2.09165 \n",
       "C -1.536938 2.646362 -0.784481 2.95804 0 2.95804 \n",
       "z\n",
       "\"/>\n",
       "    </defs>\n",
       "    <use xlink:href=\"#C1_0_1810f075c9\" x=\"288.687273\" y=\"14.76\" style=\"fill: #9edae5\"/>\n",
       "    <use xlink:href=\"#C1_0_1810f075c9\" x=\"439.887273\" y=\"14.76\" style=\"fill: #9edae5\"/>\n",
       "   </g>\n",
       "  </g>\n",
       " </g>\n",
       " <defs>\n",
       "  <clipPath id=\"p493e880cf6\">\n",
       "   <rect x=\"7.2\" y=\"7.2\" width=\"166.32\" height=\"166.32\"/>\n",
       "  </clipPath>\n",
       "  <clipPath id=\"p3d53404a23\">\n",
       "   <rect x=\"281.127273\" y=\"7.2\" width=\"166.32\" height=\"166.32\"/>\n",
       "  </clipPath>\n",
       " </defs>\n",
       "</svg>\n"
      ],
      "text/plain": [
       "<Figure size 900x300 with 2 Axes>"
      ]
     },
     "metadata": {},
     "output_type": "display_data"
    }
   ],
   "source": [
    "fig, (ax1, ax2) = plt.subplots(1, 2, facecolor='none', figsize=(9, 3))\n",
    "wfn.plot_navigation_mesh(ax=ax1)\n",
    "wfn.plot_available_links(ax=ax2)"
   ]
  },
  {
   "cell_type": "markdown",
   "id": "13554c48",
   "metadata": {},
   "source": [
    "Optimize"
   ]
  },
  {
   "cell_type": "code",
   "execution_count": 6,
   "id": "f888963b",
   "metadata": {},
   "outputs": [],
   "source": [
    "res_optimize = wfn.optimize()"
   ]
  },
  {
   "cell_type": "code",
   "execution_count": 7,
   "id": "d83847ad",
   "metadata": {},
   "outputs": [
    {
     "data": {
      "text/plain": [
       "<Axes: >"
      ]
     },
     "execution_count": 7,
     "metadata": {},
     "output_type": "execute_result"
    },
    {
     "data": {
      "image/svg+xml": [
       "<?xml version=\"1.0\" encoding=\"utf-8\" standalone=\"no\"?>\n",
       "<!DOCTYPE svg PUBLIC \"-//W3C//DTD SVG 1.1//EN\"\n",
       "  \"http://www.w3.org/Graphics/SVG/1.1/DTD/svg11.dtd\">\n",
       "<svg xmlns:xlink=\"http://www.w3.org/1999/xlink\" width=\"353.99952pt\" height=\"353.99952pt\" viewBox=\"0 0 353.99952 353.99952\" xmlns=\"http://www.w3.org/2000/svg\" version=\"1.1\">\n",
       " <metadata>\n",
       "  <rdf:RDF xmlns:dc=\"http://purl.org/dc/elements/1.1/\" xmlns:cc=\"http://creativecommons.org/ns#\" xmlns:rdf=\"http://www.w3.org/1999/02/22-rdf-syntax-ns#\">\n",
       "   <cc:Work>\n",
       "    <dc:type rdf:resource=\"http://purl.org/dc/dcmitype/StillImage\"/>\n",
       "    <dc:date>2025-04-16T19:36:50.941439</dc:date>\n",
       "    <dc:format>image/svg+xml</dc:format>\n",
       "    <dc:creator>\n",
       "     <cc:Agent>\n",
       "      <dc:title>Matplotlib v3.10.1, https://matplotlib.org/</dc:title>\n",
       "     </cc:Agent>\n",
       "    </dc:creator>\n",
       "   </cc:Work>\n",
       "  </rdf:RDF>\n",
       " </metadata>\n",
       " <defs>\n",
       "  <style type=\"text/css\">*{stroke-linejoin: round; stroke-linecap: butt}</style>\n",
       " </defs>\n",
       " <g id=\"figure_1\">\n",
       "  <g id=\"axes_1\">\n",
       "   <g id=\"LineCollection_1\">\n",
       "    <path d=\"M 24.164692 24.164692 \n",
       "L 329.834828 24.164692 \n",
       "\" clip-path=\"url(#pd90478d3e5)\" style=\"fill: none; stroke: #dc143c; stroke-linecap: round\"/>\n",
       "    <path d=\"M 24.164692 24.164692 \n",
       "L 24.164692 329.834828 \n",
       "\" clip-path=\"url(#pd90478d3e5)\" style=\"fill: none; stroke: #dc143c; stroke-linecap: round\"/>\n",
       "   </g>\n",
       "   <g id=\"PathCollection_1\">\n",
       "    <path d=\"M 21.206653 332.792867 \n",
       "L 27.122732 332.792867 \n",
       "L 27.122732 326.876788 \n",
       "L 21.206653 326.876788 \n",
       "z\n",
       "\" style=\"fill: #7cfc00\"/>\n",
       "   </g>\n",
       "   <g id=\"PathCollection_2\">\n",
       "    <defs>\n",
       "     <path id=\"C0_0_7da78bcb16\" d=\"M 0 2.95804 \n",
       "C 0.784481 2.95804 1.536938 2.646362 2.09165 2.09165 \n",
       "C 2.646362 1.536938 2.95804 0.784481 2.95804 -0 \n",
       "C 2.95804 -0.784481 2.646362 -1.536938 2.09165 -2.09165 \n",
       "C 1.536938 -2.646362 0.784481 -2.95804 0 -2.95804 \n",
       "C -0.784481 -2.95804 -1.536938 -2.646362 -2.09165 -2.09165 \n",
       "C -2.646362 -1.536938 -2.95804 -0.784481 -2.95804 0 \n",
       "C -2.95804 0.784481 -2.646362 1.536938 -2.09165 2.09165 \n",
       "C -1.536938 2.646362 -0.784481 2.95804 0 2.95804 \n",
       "z\n",
       "\"/>\n",
       "    </defs>\n",
       "    <use xlink:href=\"#C0_0_7da78bcb16\" x=\"24.164692\" y=\"24.164692\" style=\"fill: #1f77b4\"/>\n",
       "    <use xlink:href=\"#C0_0_7da78bcb16\" x=\"329.834828\" y=\"24.164692\" style=\"fill: #1f77b4\"/>\n",
       "   </g>\n",
       "   <g id=\"legend_1\">\n",
       "    <g id=\"patch_1\">\n",
       "     <path d=\"M 263.133895 341.79952 \n",
       "L 339.79952 341.79952 \n",
       "Q 341.79952 341.79952 341.79952 339.79952 \n",
       "L 341.79952 297.31102 \n",
       "Q 341.79952 295.31102 339.79952 295.31102 \n",
       "L 263.133895 295.31102 \n",
       "Q 261.133895 295.31102 261.133895 297.31102 \n",
       "L 261.133895 339.79952 \n",
       "Q 261.133895 341.79952 263.133895 341.79952 \n",
       "z\n",
       "\" style=\"fill: #111111; opacity: 0.6; stroke: #ffffff; stroke-linejoin: miter\"/>\n",
       "    </g>\n",
       "    <g id=\"text_1\">\n",
       "     <text style=\"font-size: 12px; font-family: 'DejaVu Sans', 'Bitstream Vera Sans', 'Computer Modern Sans Serif', 'Lucida Grande', 'Verdana', 'Geneva', 'Lucid', 'Arial', 'Helvetica', 'Avant Garde', sans-serif; fill: #ffffff\" transform=\"translate(265.133895 308.429145)\">κ = 5, T = 2</text>\n",
       "     <text style=\"font-size: 12px; font-family: 'DejaVu Sans', 'Bitstream Vera Sans', 'Computer Modern Sans Serif', 'Lucida Grande', 'Verdana', 'Geneva', 'Lucid', 'Arial', 'Helvetica', 'Avant Garde', sans-serif; fill: #ffffff\" transform=\"translate(274.331708 321.86652)\">(+0) α: 1</text>\n",
       "     <text style=\"font-size: 12px; font-family: 'DejaVu Sans', 'Bitstream Vera Sans', 'Computer Modern Sans Serif', 'Lucida Grande', 'Verdana', 'Geneva', 'Lucid', 'Arial', 'Helvetica', 'Avant Garde', sans-serif; fill: #ffffff\" transform=\"translate(267.98952 335.303895)\">Σλ = 2.0 m</text>\n",
       "    </g>\n",
       "   </g>\n",
       "  </g>\n",
       " </g>\n",
       " <defs>\n",
       "  <clipPath id=\"pd90478d3e5\">\n",
       "   <rect x=\"7.2\" y=\"7.2\" width=\"339.59952\" height=\"339.59952\"/>\n",
       "  </clipPath>\n",
       " </defs>\n",
       "</svg>\n"
      ],
      "text/plain": [
       "<Figure size 1228.8x921.6 with 1 Axes>"
      ]
     },
     "metadata": {},
     "output_type": "display_data"
    }
   ],
   "source": [
    "wfn.plot_selected_links()"
   ]
  },
  {
   "cell_type": "code",
   "execution_count": 8,
   "id": "883efe11",
   "metadata": {},
   "outputs": [
    {
     "data": {
      "text/plain": [
       "<Axes: >"
      ]
     },
     "execution_count": 8,
     "metadata": {},
     "output_type": "execute_result"
    },
    {
     "data": {
      "image/svg+xml": [
       "<?xml version=\"1.0\" encoding=\"utf-8\" standalone=\"no\"?>\n",
       "<!DOCTYPE svg PUBLIC \"-//W3C//DTD SVG 1.1//EN\"\n",
       "  \"http://www.w3.org/Graphics/SVG/1.1/DTD/svg11.dtd\">\n",
       "<svg xmlns:xlink=\"http://www.w3.org/1999/xlink\" width=\"353.99952pt\" height=\"353.99952pt\" viewBox=\"0 0 353.99952 353.99952\" xmlns=\"http://www.w3.org/2000/svg\" version=\"1.1\">\n",
       " <metadata>\n",
       "  <rdf:RDF xmlns:dc=\"http://purl.org/dc/elements/1.1/\" xmlns:cc=\"http://creativecommons.org/ns#\" xmlns:rdf=\"http://www.w3.org/1999/02/22-rdf-syntax-ns#\">\n",
       "   <cc:Work>\n",
       "    <dc:type rdf:resource=\"http://purl.org/dc/dcmitype/StillImage\"/>\n",
       "    <dc:date>2025-04-16T19:36:51.006082</dc:date>\n",
       "    <dc:format>image/svg+xml</dc:format>\n",
       "    <dc:creator>\n",
       "     <cc:Agent>\n",
       "      <dc:title>Matplotlib v3.10.1, https://matplotlib.org/</dc:title>\n",
       "     </cc:Agent>\n",
       "    </dc:creator>\n",
       "   </cc:Work>\n",
       "  </rdf:RDF>\n",
       " </metadata>\n",
       " <defs>\n",
       "  <style type=\"text/css\">*{stroke-linejoin: round; stroke-linecap: butt}</style>\n",
       " </defs>\n",
       " <g id=\"figure_1\">\n",
       "  <g id=\"axes_1\">\n",
       "   <g id=\"LineCollection_1\">\n",
       "    <path d=\"M 24.164692 24.164692 \n",
       "L 329.834828 24.164692 \n",
       "\" clip-path=\"url(#pedeacc403d)\" style=\"fill: none; stroke: #dc143c; stroke-linecap: round\"/>\n",
       "    <path d=\"M 24.164692 24.164692 \n",
       "L 24.164692 329.834828 \n",
       "\" clip-path=\"url(#pedeacc403d)\" style=\"fill: none; stroke: #dc143c; stroke-linecap: round\"/>\n",
       "   </g>\n",
       "   <g id=\"PathCollection_1\">\n",
       "    <path d=\"M 21.206653 332.792867 \n",
       "L 27.122732 332.792867 \n",
       "L 27.122732 326.876788 \n",
       "L 21.206653 326.876788 \n",
       "z\n",
       "\" style=\"fill: #7cfc00\"/>\n",
       "   </g>\n",
       "   <g id=\"PathCollection_2\">\n",
       "    <defs>\n",
       "     <path id=\"C0_0_db543385b1\" d=\"M 0 2.95804 \n",
       "C 0.784481 2.95804 1.536938 2.646362 2.09165 2.09165 \n",
       "C 2.646362 1.536938 2.95804 0.784481 2.95804 -0 \n",
       "C 2.95804 -0.784481 2.646362 -1.536938 2.09165 -2.09165 \n",
       "C 1.536938 -2.646362 0.784481 -2.95804 0 -2.95804 \n",
       "C -0.784481 -2.95804 -1.536938 -2.646362 -2.09165 -2.09165 \n",
       "C -2.646362 -1.536938 -2.95804 -0.784481 -2.95804 0 \n",
       "C -2.95804 0.784481 -2.646362 1.536938 -2.09165 2.09165 \n",
       "C -1.536938 2.646362 -0.784481 2.95804 0 2.95804 \n",
       "z\n",
       "\"/>\n",
       "    </defs>\n",
       "    <use xlink:href=\"#C0_0_db543385b1\" x=\"24.164692\" y=\"24.164692\" style=\"fill: #1f77b4\"/>\n",
       "    <use xlink:href=\"#C0_0_db543385b1\" x=\"329.834828\" y=\"24.164692\" style=\"fill: #1f77b4\"/>\n",
       "   </g>\n",
       "   <g id=\"legend_1\">\n",
       "    <g id=\"patch_1\">\n",
       "     <path d=\"M 263.133895 341.79952 \n",
       "L 339.79952 341.79952 \n",
       "Q 341.79952 341.79952 341.79952 339.79952 \n",
       "L 341.79952 283.873645 \n",
       "Q 341.79952 281.873645 339.79952 281.873645 \n",
       "L 263.133895 281.873645 \n",
       "Q 261.133895 281.873645 261.133895 283.873645 \n",
       "L 261.133895 339.79952 \n",
       "Q 261.133895 341.79952 263.133895 341.79952 \n",
       "z\n",
       "\" style=\"fill: #111111; opacity: 0.6; stroke: #ffffff; stroke-linejoin: miter\"/>\n",
       "    </g>\n",
       "    <g id=\"text_1\">\n",
       "     <text style=\"font-size: 12px; font-family: 'DejaVu Sans', 'Bitstream Vera Sans', 'Computer Modern Sans Serif', 'Lucida Grande', 'Verdana', 'Geneva', 'Lucid', 'Arial', 'Helvetica', 'Avant Garde', sans-serif; fill: #ffffff\" transform=\"translate(265.133895 294.99177)\">κ = 5, T = 2</text>\n",
       "     <text style=\"font-size: 12px; font-family: 'DejaVu Sans', 'Bitstream Vera Sans', 'Computer Modern Sans Serif', 'Lucida Grande', 'Verdana', 'Geneva', 'Lucid', 'Arial', 'Helvetica', 'Avant Garde', sans-serif; fill: #ffffff\" transform=\"translate(274.331708 308.429145)\">(+0) α: 1</text>\n",
       "     <text style=\"font-size: 12px; font-family: 'DejaVu Sans', 'Bitstream Vera Sans', 'Computer Modern Sans Serif', 'Lucida Grande', 'Verdana', 'Geneva', 'Lucid', 'Arial', 'Helvetica', 'Avant Garde', sans-serif; fill: #ffffff\" transform=\"translate(267.98952 321.86652)\">Σλ = 2.0 m</text>\n",
       "     <text style=\"font-size: 12px; font-family: 'DejaVu Sans', 'Bitstream Vera Sans', 'Computer Modern Sans Serif', 'Lucida Grande', 'Verdana', 'Geneva', 'Lucid', 'Arial', 'Helvetica', 'Avant Garde', sans-serif; fill: #ffffff\" transform=\"translate(288.107333 335.303895)\">20 €</text>\n",
       "    </g>\n",
       "   </g>\n",
       "  </g>\n",
       " </g>\n",
       " <defs>\n",
       "  <clipPath id=\"pedeacc403d\">\n",
       "   <rect x=\"7.2\" y=\"7.2\" width=\"339.59952\" height=\"339.59952\"/>\n",
       "  </clipPath>\n",
       " </defs>\n",
       "</svg>\n"
      ],
      "text/plain": [
       "<Figure size 1228.8x921.6 with 1 Axes>"
      ]
     },
     "metadata": {},
     "output_type": "display_data"
    }
   ],
   "source": [
    "wfn.plot()"
   ]
  },
  {
   "cell_type": "code",
   "execution_count": 9,
   "id": "5a69abdd",
   "metadata": {},
   "outputs": [
    {
     "name": "stdout",
     "output_type": "stream",
     "text": [
      "WTs gradient:  [[-10.  10.]\n",
      " [ 10.   0.]]\n",
      "SS gradient:  [[  0. -10.]]\n"
     ]
    }
   ],
   "source": [
    "grad_wts, grad_ss = wfn.gradient()\n",
    "print('WTs gradient: ', grad_wts)\n",
    "print('SS gradient: ', grad_ss)"
   ]
  },
  {
   "cell_type": "code",
   "execution_count": 10,
   "id": "967cb0ac",
   "metadata": {},
   "outputs": [
    {
     "name": "stdout",
     "output_type": "stream",
     "text": [
      "WTs gradient:  [[-1.  1.]\n",
      " [ 1.  0.]]\n",
      "SS gradient:  [[ 0. -1.]]\n"
     ]
    }
   ],
   "source": [
    "grad_wts, grad_ss = wfn.gradient(gradient_type='length')\n",
    "print('WTs gradient: ', grad_wts)\n",
    "print('SS gradient: ', grad_ss)"
   ]
  },
  {
   "cell_type": "code",
   "execution_count": 11,
   "id": "2edf4411",
   "metadata": {},
   "outputs": [
    {
     "name": "stdout",
     "output_type": "stream",
     "text": [
      "WTs gradient:  [[-1.4472136   0.89442719]\n",
      " [ 1.          0.        ]]\n",
      "SS gradient:  [[ 0.4472136  -0.89442719]]\n"
     ]
    }
   ],
   "source": [
    "grad_wts, grad_ss = wfn.gradient(substationsC=np.array([[0.5, 0],], dtype=float), gradient_type='length')\n",
    "print('WTs gradient: ', grad_wts)\n",
    "print('SS gradient: ', grad_ss)"
   ]
  },
  {
   "cell_type": "code",
   "execution_count": 12,
   "id": "312cef75",
   "metadata": {},
   "outputs": [
    {
     "name": "stdout",
     "output_type": "stream",
     "text": [
      "WTs gradient:  [[0. 0.]\n",
      " [1. 0.]]\n",
      "SS gradient:  [[-1.  0.]]\n"
     ]
    }
   ],
   "source": [
    "grad_wts, grad_ss = wfn.gradient(substationsC=np.array([[-1, 1],], dtype=float), gradient_type='length')\n",
    "print('WTs gradient: ', grad_wts)\n",
    "print('SS gradient: ', grad_ss)"
   ]
  }
 ],
 "metadata": {
  "kernelspec": {
   "display_name": "OptiWindNet",
   "language": "python",
   "name": "python3"
  },
  "language_info": {
   "codemirror_mode": {
    "name": "ipython",
    "version": 3
   },
   "file_extension": ".py",
   "mimetype": "text/x-python",
   "name": "python",
   "nbconvert_exporter": "python",
   "pygments_lexer": "ipython3",
   "version": "3.12.9"
  }
 },
 "nbformat": 4,
 "nbformat_minor": 5
}
