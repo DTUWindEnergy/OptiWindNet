{
 "cells": [
  {
   "cell_type": "markdown",
   "id": "dcef197e-b2e7-4484-b83e-92d51176f385",
   "metadata": {},
   "source": [
    "# Inputting Data"
   ]
  },
  {
   "cell_type": "markdown",
   "id": "7ce4abaa-3b40-41b8-8976-b8fdb264df25",
   "metadata": {},
   "source": [
    "This notebook demonstrates the various ways to provide input data to the `OptiWindNet` API by initializing a `WindFarmNetwork()` instance.\n",
    "\n",
    "> **Note:** Many of the Jupyter notebooks provided include SVG figures as output. To ensure these visuals are displayed correctly in JupyterLab or Jupyter Notebook, make sure the notebook is marked as **trusted**.\n",
    "> *In JupyterLab, you can do this by pressing* `Ctrl + Shift + C` *and selecting* **Trust Notebook**."
   ]
  },
  {
   "cell_type": "markdown",
   "id": "06194dbd",
   "metadata": {},
   "source": [
    "Import required modules"
   ]
  },
  {
   "cell_type": "code",
   "execution_count": 1,
   "id": "fa29e2ac-26f7-4927-bebf-eeef30a5ab37",
   "metadata": {},
   "outputs": [],
   "source": [
    "from optiwindnet.api import WindFarmNetwork, load_repository"
   ]
  },
  {
   "cell_type": "code",
   "execution_count": 2,
   "id": "e9caed29",
   "metadata": {},
   "outputs": [],
   "source": [
    "# Display figures as SVG in Jupyter notebooks\n",
    "%config InlineBackend.figure_formats = ['svg']"
   ]
  },
  {
   "cell_type": "markdown",
   "id": "fca2771e-61e8-4f29-a6ae-8bbce26c4762",
   "metadata": {},
   "source": [
    "## Options for initializing `wfn`"
   ]
  },
  {
   "cell_type": "markdown",
   "id": "fda312c3",
   "metadata": {},
   "source": [
    "There are 3 alternatives to initialize `WindFarmNetwork()` instance within **optiwindnet**:\n",
    "- From raw data or a preconstructed graph\n",
    "- From a `.yaml` file\n",
    "- From a `.osm.pbf` file"
   ]
  },
  {
   "cell_type": "markdown",
   "id": "1bcfeda4-e9da-4305-b7ab-22c38f96f199",
   "metadata": {},
   "source": [
    "### Option 0: From raw data or a preconstructed graph"
   ]
  },
  {
   "cell_type": "markdown",
   "id": "42397346",
   "metadata": {},
   "source": [
    "This option is used when you already have the wind farm layout and parameters defined in a Python data structure or *networkx.Graph*.\n",
    "\n",
    "You can directly pass either:\n",
    "\n",
    "* A: Raw layout data via coordinates: turbinesC, substationsC, borderC, etc.,\n",
    "which will be converted into a graph internally, or\n",
    "\n",
    "* B: A prebuilt networkx.Graph via the L parameter (e.g., loaded from external sources or computed elsewhere)."
   ]
  },
  {
   "cell_type": "markdown",
   "id": "1086f5d4",
   "metadata": {},
   "source": [
    "#### A: Initialize via coordinates:"
   ]
  },
  {
   "cell_type": "code",
   "execution_count": 3,
   "id": "e93a9280-594e-4840-8ea6-ec2a0bd800b3",
   "metadata": {},
   "outputs": [],
   "source": [
    "import numpy as np\n",
    "# all coordinates are sequences of (x, y) pairs\n",
    "# if input coordinates are in arrays X and Y, use `np.hstack((X, Y))`\n",
    "borderC = np.array( # coordinate sequence defines the polygon, last-first segment implicit\n",
    "    [[1951, 200], [1951, 1383], [386, 1383], [650, 708], [624, 678],\n",
    "     [4, 1036], [4, 3], [1152, 3], [917, 819], [957, 854]],\n",
    "    dtype=float)\n",
    "obstaclesC = [\n",
    "    # first obstacle\n",
    "    np.array([[1540, 920], [1600, 940], [1600, 1150], [1400, 1200]]),\n",
    "    # [second obstacle] ...\n",
    "]\n",
    "substationsC = np.array([[696, 1063],], dtype=float)\n",
    "turbinesC = np.array(\n",
    "    [[1940, 279], [1920, 703], [1475, 696], [1839, 1250],\n",
    "     [1277, 1296], [442, 1359], [737, 435], [1060, 26],\n",
    "     [522, 176], [87, 35], [184, 417], [71, 878]],\n",
    "    dtype=float)\n",
    "cables = [(2, 1500), (5, 1800)]"
   ]
  },
  {
   "cell_type": "code",
   "execution_count": 4,
   "id": "06fae7b8",
   "metadata": {},
   "outputs": [],
   "source": [
    "wfn01 = WindFarmNetwork(turbinesC=turbinesC, substationsC=substationsC, cables=cables, borderC=borderC, obstaclesC=obstaclesC)"
   ]
  },
  {
   "cell_type": "code",
   "execution_count": null,
   "id": "5539b8f8-a4d6-4aa6-b1c3-faf04331f38a",
   "metadata": {},
   "outputs": [
    {
     "data": {
      "image/svg+xml": [
       "<svg xmlns=\"http://www.w3.org/2000/svg\" viewBox=\"0 0 1920 1080\"><defs><circle stroke=\"none\" stroke-width=\"2\" id=\"wtg\" r=\"12\"/><rect stroke=\"#111\" stroke-width=\"2\" id=\"oss\" width=\"21\" height=\"21\" fill=\"lawngreen\"/></defs><g id=\"\"><path stroke=\"silver\" stroke-dasharray=\"15 7\" stroke-width=\"2\" id=\"border\" d=\"M1469 904 1469 30 312 30 507 529 488 551 30 286 30 1050 879 1050 705 447 734 421z\" fill-rule=\"evenodd\" fill=\"#111\"/><g id=\"WTGgrp\"><g fill=\"#9edae5\"><use href=\"#wtg\" x=\"1461\" y=\"846\"/><use href=\"#wtg\" x=\"1446\" y=\"533\"/><use href=\"#wtg\" x=\"1117\" y=\"538\"/><use href=\"#wtg\" x=\"1386\" y=\"128\"/><use href=\"#wtg\" x=\"971\" y=\"94\"/><use href=\"#wtg\" x=\"354\" y=\"48\"/><use href=\"#wtg\" x=\"572\" y=\"731\"/><use href=\"#wtg\" x=\"811\" y=\"1033\"/><use href=\"#wtg\" x=\"413\" y=\"922\"/><use href=\"#wtg\" x=\"91\" y=\"1026\"/><use href=\"#wtg\" x=\"163\" y=\"744\"/><use href=\"#wtg\" x=\"80\" y=\"403\"/></g></g><g id=\"OSSgrp\"><use href=\"#oss\" x=\"530.5\" y=\"256.5\"/></g></g></svg>"
      ],
      "text/plain": [
       "<optiwindnet.api.WindFarmNetwork at 0x17b586a82f0>"
      ]
     },
     "execution_count": 5,
     "metadata": {},
     "output_type": "execute_result"
    }
   ],
   "source": [
    "wfn01"
   ]
  },
  {
   "cell_type": "markdown",
   "id": "7442e039",
   "metadata": {},
   "source": [
    "#### B: Initialize via the `L` parameter:\n",
    "\n",
    "Pass a prebuilt *Networkx.Graph* of the location to `WindFarmNetwork()`.\n",
    "\n",
    "> Note: `load_repository()` loads locations from all files in the given directory. If no path is given, it loads the locations distributed with *OptiWindNet*. For more details, see [Load repositories containing location data](a03_load_repositories.ipynb)."
   ]
  },
  {
   "cell_type": "code",
   "execution_count": 6,
   "id": "72fe2805",
   "metadata": {},
   "outputs": [],
   "source": [
    "locations = load_repository()\n",
    "L_prebuilt = locations.seagreen\n"
   ]
  },
  {
   "cell_type": "markdown",
   "id": "b410179a",
   "metadata": {},
   "source": [
    "Initialize `WindFarmNetwork()` instance with the loaded `L_prebuilt`:"
   ]
  },
  {
   "cell_type": "code",
   "execution_count": 7,
   "id": "ec5d7fc6",
   "metadata": {},
   "outputs": [
    {
     "data": {
      "image/svg+xml": [
       "<svg xmlns=\"http://www.w3.org/2000/svg\" viewBox=\"0 0 1920 1080\"><defs><circle stroke=\"none\" stroke-width=\"2\" id=\"wtg\" r=\"12\"/><rect stroke=\"#111\" stroke-width=\"2\" id=\"oss\" width=\"21\" height=\"21\" fill=\"lawngreen\"/></defs><g id=\"seagreen\"><path stroke=\"silver\" stroke-dasharray=\"15 7\" stroke-width=\"2\" id=\"border\" d=\"M725 128 823 85 1262 120 1208 250 1240 399 1342 199 1588 1050 1325 1050 1317 918 1237 905 1241 1050 30 1050 116 30 348 48 402 137 665 334 729 313z\" fill-rule=\"evenodd\" fill=\"#111\"/><g id=\"WTGgrp\"><g fill=\"#9edae5\"><use href=\"#wtg\" x=\"742\" y=\"519\"/><use href=\"#wtg\" x=\"1240\" y=\"523\"/><use href=\"#wtg\" x=\"1164\" y=\"908\"/><use href=\"#wtg\" x=\"589\" y=\"585\"/><use href=\"#wtg\" x=\"1392\" y=\"540\"/><use href=\"#wtg\" x=\"1469\" y=\"858\"/><use href=\"#wtg\" x=\"912\" y=\"988\"/><use href=\"#wtg\" x=\"806\" y=\"303\"/><use href=\"#wtg\" x=\"1235\" y=\"606\"/><use href=\"#wtg\" x=\"197\" y=\"482\"/><use href=\"#wtg\" x=\"419\" y=\"901\"/><use href=\"#wtg\" x=\"859\" y=\"253\"/><use href=\"#wtg\" x=\"927\" y=\"737\"/><use href=\"#wtg\" x=\"101\" y=\"415\"/><use href=\"#wtg\" x=\"111\" y=\"1033\"/><use href=\"#wtg\" x=\"1114\" y=\"172\"/><use href=\"#wtg\" x=\"64\" y=\"999\"/><use href=\"#wtg\" x=\"1378\" y=\"707\"/><use href=\"#wtg\" x=\"270\" y=\"97\"/><use href=\"#wtg\" x=\"1299\" y=\"389\"/><use href=\"#wtg\" x=\"1457\" y=\"1024\"/><use href=\"#wtg\" x=\"1362\" y=\"957\"/><use href=\"#wtg\" x=\"504\" y=\"351\"/><use href=\"#wtg\" x=\"1392\" y=\"459\"/><use href=\"#wtg\" x=\"1118\" y=\"872\"/><use href=\"#wtg\" x=\"690\" y=\"572\"/><use href=\"#wtg\" x=\"1092\" y=\"505\"/><use href=\"#wtg\" x=\"1213\" y=\"939\"/><use href=\"#wtg\" x=\"631\" y=\"702\"/><use href=\"#wtg\" x=\"1383\" y=\"624\"/><use href=\"#wtg\" x=\"297\" y=\"467\"/><use href=\"#wtg\" x=\"563\" y=\"1005\"/><use href=\"#wtg\" x=\"907\" y=\"287\"/><use href=\"#wtg\" x=\"1330\" y=\"673\"/><use href=\"#wtg\" x=\"96\" y=\"499\"/><use href=\"#wtg\" x=\"456\" y=\"945\"/><use href=\"#wtg\" x=\"817\" y=\"136\"/><use href=\"#wtg\" x=\"1426\" y=\"741\"/><use href=\"#wtg\" x=\"350\" y=\"417\"/><use href=\"#wtg\" x=\"1352\" y=\"340\"/><use href=\"#wtg\" x=\"1510\" y=\"975\"/><use href=\"#wtg\" x=\"1177\" y=\"739\"/><use href=\"#wtg\" x=\"510\" y=\"268\"/><use href=\"#wtg\" x=\"1055\" y=\"304\"/><use href=\"#wtg\" x=\"1356\" y=\"1041\"/><use href=\"#wtg\" x=\"1515\" y=\"891\"/><use href=\"#wtg\" x=\"552\" y=\"384\"/><use href=\"#wtg\" x=\"1141\" y=\"537\"/><use href=\"#wtg\" x=\"1065\" y=\"922\"/><use href=\"#wtg\" x=\"539\" y=\"629\"/><use href=\"#wtg\" x=\"997\" y=\"438\"/><use href=\"#wtg\" x=\"1160\" y=\"989\"/><use href=\"#wtg\" x=\"795\" y=\"470\"/><use href=\"#wtg\" x=\"1284\" y=\"637\"/><use href=\"#wtg\" x=\"1209\" y=\"239\"/><use href=\"#wtg\" x=\"514\" y=\"969\"/><use href=\"#wtg\" x=\"811\" y=\"219\"/><use href=\"#wtg\" x=\"1081\" y=\"672\"/><use href=\"#wtg\" x=\"251\" y=\"430\"/><use href=\"#wtg\" x=\"360\" y=\"1035\"/><use href=\"#wtg\" x=\"912\" y=\"203\"/><use href=\"#wtg\" x=\"1277\" y=\"723\"/><use href=\"#wtg\" x=\"157\" y=\"282\"/><use href=\"#wtg\" x=\"1008\" y=\"271\"/><use href=\"#wtg\" x=\"1409\" y=\"991\"/><use href=\"#wtg\" x=\"1420\" y=\"824\"/><use href=\"#wtg\" x=\"652\" y=\"369\"/><use href=\"#wtg\" x=\"1151\" y=\"372\"/><use href=\"#wtg\" x=\"970\" y=\"855\"/><use href=\"#wtg\" x=\"700\" y=\"402\"/><use href=\"#wtg\" x=\"1044\" y=\"472\"/><use href=\"#wtg\" x=\"1113\" y=\"956\"/><use href=\"#wtg\" x=\"692\" y=\"727\"/><use href=\"#wtg\" x=\"938\" y=\"571\"/><use href=\"#wtg\" x=\"1012\" y=\"972\"/><use href=\"#wtg\" x=\"1059\" y=\"1005\"/><use href=\"#wtg\" x=\"901\" y=\"370\"/><use href=\"#wtg\" x=\"1033\" y=\"638\"/><use href=\"#wtg\" x=\"346\" y=\"503\"/><use href=\"#wtg\" x=\"461\" y=\"1018\"/><use href=\"#wtg\" x=\"864\" y=\"169\"/><use href=\"#wtg\" x=\"880\" y=\"704\"/><use href=\"#wtg\" x=\"308\" y=\"300\"/><use href=\"#wtg\" x=\"211\" y=\"1015\"/><use href=\"#wtg\" x=\"1066\" y=\"138\"/><use href=\"#wtg\" x=\"1226\" y=\"775\"/><use href=\"#wtg\" x=\"123\" y=\"82\"/><use href=\"#wtg\" x=\"1103\" y=\"338\"/><use href=\"#wtg\" x=\"1023\" y=\"805\"/><use href=\"#wtg\" x=\"1370\" y=\"874\"/><use href=\"#wtg\" x=\"511\" y=\"423\"/><use href=\"#wtg\" x=\"1246\" y=\"439\"/><use href=\"#wtg\" x=\"1070\" y=\"839\"/><use href=\"#wtg\" x=\"651\" y=\"527\"/><use href=\"#wtg\" x=\"949\" y=\"404\"/><use href=\"#wtg\" x=\"1208\" y=\"1023\"/><use href=\"#wtg\" x=\"848\" y=\"420\"/><use href=\"#wtg\" x=\"1437\" y=\"574\"/><use href=\"#wtg\" x=\"440\" y=\"568\"/><use href=\"#wtg\" x=\"710\" y=\"1020\"/><use href=\"#wtg\" x=\"854\" y=\"337\"/><use href=\"#wtg\" x=\"932\" y=\"652\"/><use href=\"#wtg\" x=\"144\" y=\"532\"/><use href=\"#wtg\" x=\"313\" y=\"1001\"/><use href=\"#wtg\" x=\"960\" y=\"237\"/><use href=\"#wtg\" x=\"1473\" y=\"774\"/><use href=\"#wtg\" x=\"118\" y=\"165\"/><use href=\"#wtg\" x=\"1161\" y=\"205\"/><use href=\"#wtg\" x=\"1556\" y=\"1011\"/><use href=\"#wtg\" x=\"1319\" y=\"840\"/><use href=\"#wtg\" x=\"414\" y=\"200\"/><use href=\"#wtg\" x=\"1200\" y=\"403\"/><use href=\"#wtg\" x=\"1017\" y=\"889\"/><use href=\"#wtg\" x=\"1415\" y=\"908\"/></g></g><g id=\"OSSgrp\"><use href=\"#oss\" x=\"672.5\" y=\"641.5\"/></g></g></svg>"
      ],
      "text/plain": [
       "<optiwindnet.api.WindFarmNetwork at 0x17b7b813950>"
      ]
     },
     "execution_count": 7,
     "metadata": {},
     "output_type": "execute_result"
    }
   ],
   "source": [
    "wfn02 = WindFarmNetwork(L=L_prebuilt, cables=7)\n",
    "wfn02"
   ]
  },
  {
   "cell_type": "markdown",
   "id": "ac064931-e789-467f-8378-0e64d098d46a",
   "metadata": {},
   "source": [
    "### Option 1: From a YAML file:"
   ]
  },
  {
   "cell_type": "markdown",
   "id": "57d65ab1",
   "metadata": {},
   "source": [
    "This option loads the configuration from a `.yaml` file, which is useful for working with saved or external project files in this format. A sample code for generating `.yaml` files with proper structure are provided below."
   ]
  },
  {
   "cell_type": "code",
   "execution_count": 8,
   "id": "501eb6be-c087-46c2-85cd-11b5de328c57",
   "metadata": {},
   "outputs": [],
   "source": [
    "with open('data/example_location.yaml', 'w') as yaml_file:\n",
    "    yaml_file.write('''\n",
    "# coordinate format can be \"planar\" or \"latlon\"\n",
    "#   - for \"latlon\" examples, see `optiwindnet/data/*.yaml`\n",
    "#   - this field is optional, default is \"latlon\"\n",
    "#   - coordinates are converted to floats, so floats may be used as well\n",
    "COORDINATE_FORMAT: planar\n",
    "\n",
    "# extents define a polygon:\n",
    "#   - do not repeat the initial vertex at the end\n",
    "#   - line breaks are optional\n",
    "EXTENTS: [\n",
    "  [1951, 200],\n",
    "  [1951, 1383],\n",
    "  [386, 1383],\n",
    "  [650, 708],\n",
    "  [624, 678],\n",
    "  [4, 1036],\n",
    "  [4, 3],\n",
    "  [1152, 3],\n",
    "  [917, 819],\n",
    "  [957, 854]\n",
    "]\n",
    "\n",
    "# obstacles is optional and must be a list of polygons (even if 1 obstacle)\n",
    "OBSTACLES: [\n",
    "  [  # first obstacle\n",
    "    [1540, 920],\n",
    "    [1600, 940],\n",
    "    [1600, 1150],\n",
    "    [1400, 1200],\n",
    "  ],\n",
    "  # [second obstacle]\n",
    "]\n",
    "\n",
    "SUBSTATIONS: [\n",
    "  [696, 1063],\n",
    "]\n",
    "\n",
    "TURBINES: [\n",
    "  [1940, 279],\n",
    "  [1920, 703],\n",
    "  [1475, 696],\n",
    "  [1839, 1250],\n",
    "  [1277, 1296],\n",
    "  [442, 1359],\n",
    "  [737, 435],\n",
    "  [1060, 26],\n",
    "  [522, 176],\n",
    "  [87, 35],\n",
    "  [184, 417],\n",
    "  [71, 878],\n",
    "]\n",
    "''')"
   ]
  },
  {
   "cell_type": "markdown",
   "id": "d4f1fcec",
   "metadata": {},
   "source": [
    "Initialize `WindFarmNetwork()` instance with an exisiting `.yaml` file:"
   ]
  },
  {
   "cell_type": "code",
   "execution_count": 9,
   "id": "a42be570-4222-4faf-a247-60611d55a09a",
   "metadata": {},
   "outputs": [],
   "source": [
    "wfn1 = WindFarmNetwork.from_yaml(filepath='data/example_location.yaml', cables=cables)"
   ]
  },
  {
   "cell_type": "code",
   "execution_count": 10,
   "id": "5dc83b7b-d9be-48e0-9255-fabcef9cc7c2",
   "metadata": {},
   "outputs": [
    {
     "data": {
      "image/svg+xml": [
       "<svg xmlns=\"http://www.w3.org/2000/svg\" viewBox=\"0 0 1920 1080\"><defs><circle stroke=\"none\" stroke-width=\"2\" id=\"wtg\" r=\"12\"/><rect stroke=\"#111\" stroke-width=\"2\" id=\"oss\" width=\"21\" height=\"21\" fill=\"lawngreen\"/></defs><g id=\"example_location\"><path stroke=\"silver\" stroke-dasharray=\"15 7\" stroke-width=\"2\" id=\"border\" d=\"M1469 904 1469 30 312 30 507 529 488 551 30 286 30 1050 879 1050 705 447 734 421z M1165 372 1210 357 1210 202 1062 165z\" fill-rule=\"evenodd\" fill=\"#111\"/><g id=\"WTGgrp\"><g fill=\"#9edae5\"><use href=\"#wtg\" x=\"1461\" y=\"846\"/><use href=\"#wtg\" x=\"1446\" y=\"533\"/><use href=\"#wtg\" x=\"1117\" y=\"538\"/><use href=\"#wtg\" x=\"1386\" y=\"128\"/><use href=\"#wtg\" x=\"971\" y=\"94\"/><use href=\"#wtg\" x=\"354\" y=\"48\"/><use href=\"#wtg\" x=\"572\" y=\"731\"/><use href=\"#wtg\" x=\"811\" y=\"1033\"/><use href=\"#wtg\" x=\"413\" y=\"922\"/><use href=\"#wtg\" x=\"91\" y=\"1026\"/><use href=\"#wtg\" x=\"163\" y=\"744\"/><use href=\"#wtg\" x=\"80\" y=\"403\"/></g></g><g id=\"OSSgrp\"><use href=\"#oss\" x=\"530.5\" y=\"256.5\"/></g></g></svg>"
      ],
      "text/plain": [
       "<optiwindnet.api.WindFarmNetwork at 0x17b7bb484a0>"
      ]
     },
     "execution_count": 10,
     "metadata": {},
     "output_type": "execute_result"
    }
   ],
   "source": [
    "wfn1"
   ]
  },
  {
   "cell_type": "markdown",
   "id": "c468e88c",
   "metadata": {},
   "source": [
    "### Option 2: From OSM.PBF input file\n",
    "> `osm.pbf` stands for *OpenStreetMap protobuffer format*."
   ]
  },
  {
   "cell_type": "markdown",
   "id": "aa8ed17c",
   "metadata": {},
   "source": [
    "This option loads the configuration from a `.osm.pbf` file, which is useful for working with saved or external project files in this format."
   ]
  },
  {
   "cell_type": "markdown",
   "id": "1cb621d8",
   "metadata": {},
   "source": [
    ">The JOSM open-source map editor is recommended if using this format: <https://josm.openstreetmap.de/>. In addition, the JOSM plugin **pbf** is required to save in the `.osm.pbf` format. The plugin **opendata** is useful for importing many common GIS file formats.\n",
    ">\n",
    ">The OpenStreetMaps objects used for representing a windfarm location are:\n",
    ">- *nodes*\n",
    ">- *ways*\n",
    ">- *multipolygons* (relation between closed ways)\n",
    ">\n",
    ">Wind turbines are represented by *nodes* with the tag `power=generator`. Substations are represented either by *nodes* or by closed *ways* tagged `power=substation` or `power=transformer`. Substations based on *ways* will be reduced to the point at the centroid of the polygon defined by the *way*.\n",
    ">\n",
    ">The border of the windfarm can be a closed *way* tagged `power=plant`. If obstacles are required, then the closed *way* for the border must be combined with the closed *ways* for the obstacles in a *multipolygon* with the tag `power=plant` (in which case the *ways* themselves should not be tagged).\n",
    ">\n",
    ">See `optiwindnet/data/*.osm.pbf` for more examples.\n",
    "\n",
    "Initialize `WindFarmNetwork()` instance with an existing `.osm.pbf` file:"
   ]
  },
  {
   "cell_type": "code",
   "execution_count": 11,
   "id": "0baae019-4743-40cd-b7d9-bfbd49dc3137",
   "metadata": {},
   "outputs": [],
   "source": [
    "wfn2 = WindFarmNetwork.from_pbf('data/example_location.osm.pbf', cables=cables)"
   ]
  },
  {
   "cell_type": "code",
   "execution_count": 14,
   "id": "45f77ec2-53e9-4858-8771-d6fa22cc032e",
   "metadata": {},
   "outputs": [
    {
     "data": {
      "image/svg+xml": [
       "<svg xmlns=\"http://www.w3.org/2000/svg\" viewBox=\"0 0 1920 1080\"><defs><circle stroke=\"none\" stroke-width=\"2\" id=\"wtg\" r=\"12\"/><rect stroke=\"#111\" stroke-width=\"2\" id=\"oss\" width=\"21\" height=\"21\" fill=\"lawngreen\"/></defs><g id=\"example_location\"><path stroke=\"silver\" stroke-dasharray=\"15 7\" stroke-width=\"2\" id=\"border\" d=\"M1479 904 1479 30 314 30 511 529 491 551 30 286 30 1050 884 1050 709 447 739 421z M1173 372 1069 165 1218 202 1218 357z\" fill-rule=\"evenodd\" fill=\"#111\"/><g id=\"WTGgrp\"><g fill=\"#9edae5\"><use href=\"#wtg\" x=\"1471\" y=\"846\"/><use href=\"#wtg\" x=\"1456\" y=\"533\"/><use href=\"#wtg\" x=\"1125\" y=\"538\"/><use href=\"#wtg\" x=\"1395\" y=\"128\"/><use href=\"#wtg\" x=\"977\" y=\"94\"/><use href=\"#wtg\" x=\"356\" y=\"48\"/><use href=\"#wtg\" x=\"575\" y=\"731\"/><use href=\"#wtg\" x=\"816\" y=\"1033\"/><use href=\"#wtg\" x=\"415\" y=\"922\"/><use href=\"#wtg\" x=\"92\" y=\"1026\"/><use href=\"#wtg\" x=\"164\" y=\"744\"/><use href=\"#wtg\" x=\"80\" y=\"403\"/></g></g><g id=\"OSSgrp\"><use href=\"#oss\" x=\"534.5\" y=\"256.5\"/></g></g></svg>"
      ],
      "text/plain": [
       "<optiwindnet.api.WindFarmNetwork at 0x17b7bb484d0>"
      ]
     },
     "execution_count": 14,
     "metadata": {},
     "output_type": "execute_result"
    }
   ],
   "source": [
    "wfn2"
   ]
  }
 ],
 "metadata": {
  "kernelspec": {
   "display_name": "OptiWindNet",
   "language": "python",
   "name": "python3"
  },
  "language_info": {
   "codemirror_mode": {
    "name": "ipython",
    "version": 3
   },
   "file_extension": ".py",
   "mimetype": "text/x-python",
   "name": "python",
   "nbconvert_exporter": "python",
   "pygments_lexer": "ipython3",
   "version": "3.12.9"
  }
 },
 "nbformat": 4,
 "nbformat_minor": 5
}
