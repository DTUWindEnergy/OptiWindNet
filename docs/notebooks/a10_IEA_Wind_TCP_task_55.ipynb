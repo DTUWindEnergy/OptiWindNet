{
 "cells": [
  {
   "cell_type": "markdown",
   "id": "2cbb8035-80f9-463d-8ff9-b644ededf99f",
   "metadata": {},
   "source": [
    "# IEA Wind Task 55"
   ]
  },
  {
   "cell_type": "markdown",
   "id": "eb9bfca9-7f96-4283-b8cb-e3a7a47c0085",
   "metadata": {},
   "source": [
    "This notebook applies *OptiWindNet* to design collector system cable layouts for the two offshore wind plants described in the *IEA Wind TCP Task 55* report (740 MW, 10 MW turbines). Using both regular and irregular layouts in WindIO format, we use `HGSRouter` for warmstarting and `MILPRouter` (OR-Tools solver) for final optimization.\n",
    "\n",
    "For more info about *IEA Wind TCP Task 55: The IEA Wind 740-10-MW Reference Offshore Wind Plants* read: <https://www.osti.gov/biblio/2333634/>"
   ]
  },
  {
   "cell_type": "markdown",
   "id": "79a4be7f",
   "metadata": {},
   "source": [
    "## Load required data"
   ]
  },
  {
   "cell_type": "markdown",
   "id": "1a347864",
   "metadata": {},
   "source": [
    "### Import required modules"
   ]
  },
  {
   "cell_type": "code",
   "execution_count": 1,
   "id": "c42a3703-113b-4aee-8dfb-a0b3b54663e6",
   "metadata": {},
   "outputs": [],
   "source": [
    "import numpy as np\n",
    "from optiwindnet.api import WindFarmNetwork, HGSRouter, MILPRouter, ModelOptions"
   ]
  },
  {
   "cell_type": "code",
   "execution_count": 2,
   "id": "025153f5",
   "metadata": {},
   "outputs": [],
   "source": [
    "# Display figures as SVG in Jupyter notebooks\n",
    "%config InlineBackend.figure_formats = ['svg']"
   ]
  },
  {
   "cell_type": "markdown",
   "id": "3a9afd54",
   "metadata": {},
   "source": [
    "### Cable data"
   ]
  },
  {
   "cell_type": "code",
   "execution_count": 3,
   "id": "9c25dfc9",
   "metadata": {},
   "outputs": [],
   "source": [
    "cable_costs = [206, 287, 406]  # [€/m] Costs per distance for each cable type\n",
    "turbines_per_cable = [3, 5, 7]\n",
    "cables = [(2, 1500.0), (5, 1800.0), (7, 2000.0)]"
   ]
  },
  {
   "cell_type": "markdown",
   "id": "62328cbf",
   "metadata": {},
   "source": [
    "### Load layouts"
   ]
  },
  {
   "cell_type": "markdown",
   "id": "8bd117fb-4c57-4dbd-acd7-854855e5b61b",
   "metadata": {},
   "source": [
    "Load layouts from WindIO yaml files (Regular and Irregular layouts)\n",
    "\n",
    "> `WinfFarmNetwork.from_windIO()`is specifically introduced in *OptiWindNet* for WindIO file formats."
   ]
  },
  {
   "cell_type": "code",
   "execution_count": 4,
   "id": "1c6f3015",
   "metadata": {},
   "outputs": [],
   "source": [
    "wfn_reg = WindFarmNetwork.from_windIO(filepath='data/IEA37_Borssele_Regular_System.yaml', cables=cables)"
   ]
  },
  {
   "cell_type": "code",
   "execution_count": 5,
   "id": "9dce7d32",
   "metadata": {},
   "outputs": [],
   "source": [
    "wfn_irr = WindFarmNetwork.from_windIO(filepath='data/IEA37_Borssele_Irregular_System.yaml', cables=cables)"
   ]
  },
  {
   "cell_type": "markdown",
   "id": "63563bd9",
   "metadata": {},
   "source": [
    "### Plot locations"
   ]
  },
  {
   "cell_type": "code",
   "execution_count": 6,
   "id": "c838598f",
   "metadata": {},
   "outputs": [
    {
     "data": {
      "image/svg+xml": [
       "<svg xmlns=\"http://www.w3.org/2000/svg\" viewBox=\"0 0 1920 1080\"><defs><circle stroke=\"none\" stroke-width=\"2\" id=\"wtg\" r=\"12\"/><rect stroke=\"#111\" stroke-width=\"2\" id=\"oss\" width=\"21\" height=\"21\" fill=\"lawngreen\"/></defs><g id=\"iea37_bors_reg\"><path stroke=\"silver\" stroke-dasharray=\"15 7\" stroke-width=\"2\" id=\"border\" d=\"M30 269 785 30 652 298 929 427 839 1050 256 484z\" fill-rule=\"evenodd\" fill=\"#111\"/><g id=\"WTGgrp\"><g fill=\"#9edae5\"><use href=\"#wtg\" x=\"825\" y=\"1028\"/><use href=\"#wtg\" x=\"767\" y=\"972\"/><use href=\"#wtg\" x=\"838\" y=\"935\"/><use href=\"#wtg\" x=\"780\" y=\"879\"/><use href=\"#wtg\" x=\"709\" y=\"917\"/><use href=\"#wtg\" x=\"652\" y=\"861\"/><use href=\"#wtg\" x=\"851\" y=\"841\"/><use href=\"#wtg\" x=\"793\" y=\"785\"/><use href=\"#wtg\" x=\"722\" y=\"823\"/><use href=\"#wtg\" x=\"665\" y=\"767\"/><use href=\"#wtg\" x=\"594\" y=\"805\"/><use href=\"#wtg\" x=\"536\" y=\"749\"/><use href=\"#wtg\" x=\"864\" y=\"748\"/><use href=\"#wtg\" x=\"807\" y=\"692\"/><use href=\"#wtg\" x=\"736\" y=\"730\"/><use href=\"#wtg\" x=\"678\" y=\"674\"/><use href=\"#wtg\" x=\"607\" y=\"711\"/><use href=\"#wtg\" x=\"549\" y=\"655\"/><use href=\"#wtg\" x=\"478\" y=\"693\"/><use href=\"#wtg\" x=\"421\" y=\"637\"/><use href=\"#wtg\" x=\"877\" y=\"654\"/><use href=\"#wtg\" x=\"820\" y=\"598\"/><use href=\"#wtg\" x=\"749\" y=\"636\"/><use href=\"#wtg\" x=\"691\" y=\"580\"/><use href=\"#wtg\" x=\"620\" y=\"618\"/><use href=\"#wtg\" x=\"562\" y=\"562\"/><use href=\"#wtg\" x=\"491\" y=\"600\"/><use href=\"#wtg\" x=\"434\" y=\"544\"/><use href=\"#wtg\" x=\"363\" y=\"582\"/><use href=\"#wtg\" x=\"305\" y=\"526\"/><use href=\"#wtg\" x=\"891\" y=\"561\"/><use href=\"#wtg\" x=\"833\" y=\"505\"/><use href=\"#wtg\" x=\"762\" y=\"543\"/><use href=\"#wtg\" x=\"704\" y=\"487\"/><use href=\"#wtg\" x=\"633\" y=\"525\"/><use href=\"#wtg\" x=\"576\" y=\"469\"/><use href=\"#wtg\" x=\"505\" y=\"506\"/><use href=\"#wtg\" x=\"447\" y=\"450\"/><use href=\"#wtg\" x=\"376\" y=\"488\"/><use href=\"#wtg\" x=\"318\" y=\"432\"/><use href=\"#wtg\" x=\"247\" y=\"470\"/><use href=\"#wtg\" x=\"189\" y=\"414\"/><use href=\"#wtg\" x=\"904\" y=\"467\"/><use href=\"#wtg\" x=\"846\" y=\"411\"/><use href=\"#wtg\" x=\"775\" y=\"449\"/><use href=\"#wtg\" x=\"717\" y=\"393\"/><use href=\"#wtg\" x=\"646\" y=\"431\"/><use href=\"#wtg\" x=\"589\" y=\"375\"/><use href=\"#wtg\" x=\"518\" y=\"413\"/><use href=\"#wtg\" x=\"460\" y=\"357\"/><use href=\"#wtg\" x=\"389\" y=\"395\"/><use href=\"#wtg\" x=\"331\" y=\"339\"/><use href=\"#wtg\" x=\"260\" y=\"377\"/><use href=\"#wtg\" x=\"203\" y=\"321\"/><use href=\"#wtg\" x=\"132\" y=\"359\"/><use href=\"#wtg\" x=\"74\" y=\"303\"/><use href=\"#wtg\" x=\"660\" y=\"338\"/><use href=\"#wtg\" x=\"602\" y=\"282\"/><use href=\"#wtg\" x=\"531\" y=\"319\"/><use href=\"#wtg\" x=\"473\" y=\"263\"/><use href=\"#wtg\" x=\"402\" y=\"301\"/><use href=\"#wtg\" x=\"344\" y=\"245\"/><use href=\"#wtg\" x=\"274\" y=\"283\"/><use href=\"#wtg\" x=\"216\" y=\"227\"/><use href=\"#wtg\" x=\"145\" y=\"265\"/><use href=\"#wtg\" x=\"673\" y=\"244\"/><use href=\"#wtg\" x=\"615\" y=\"188\"/><use href=\"#wtg\" x=\"544\" y=\"226\"/><use href=\"#wtg\" x=\"486\" y=\"170\"/><use href=\"#wtg\" x=\"415\" y=\"208\"/><use href=\"#wtg\" x=\"287\" y=\"190\"/><use href=\"#wtg\" x=\"686\" y=\"151\"/><use href=\"#wtg\" x=\"628\" y=\"95\"/><use href=\"#wtg\" x=\"557\" y=\"133\"/></g></g><g id=\"OSSgrp\"><use href=\"#oss\" x=\"655.5\" y=\"346.5\"/></g></g></svg>"
      ],
      "text/plain": [
       "<optiwindnet.api.WindFarmNetwork at 0x1f6befcd280>"
      ]
     },
     "execution_count": 6,
     "metadata": {},
     "output_type": "execute_result"
    }
   ],
   "source": [
    "wfn_reg"
   ]
  },
  {
   "cell_type": "code",
   "execution_count": 7,
   "id": "2e8059dc",
   "metadata": {},
   "outputs": [
    {
     "data": {
      "image/svg+xml": [
       "<svg xmlns=\"http://www.w3.org/2000/svg\" viewBox=\"0 0 1920 1080\"><defs><circle stroke=\"none\" stroke-width=\"2\" id=\"wtg\" r=\"12\"/><rect stroke=\"#111\" stroke-width=\"2\" id=\"oss\" width=\"21\" height=\"21\" fill=\"lawngreen\"/></defs><g id=\"iea37_bors_irr\"><path stroke=\"silver\" stroke-dasharray=\"15 7\" stroke-width=\"2\" id=\"border\" d=\"M30 269 785 30 652 298 929 427 839 1050 256 484z\" fill-rule=\"evenodd\" fill=\"#111\"/><g id=\"WTGgrp\"><g fill=\"#9edae5\"><use href=\"#wtg\" x=\"839\" y=\"1050\"/><use href=\"#wtg\" x=\"491\" y=\"712\"/><use href=\"#wtg\" x=\"917\" y=\"510\"/><use href=\"#wtg\" x=\"878\" y=\"776\"/><use href=\"#wtg\" x=\"628\" y=\"845\"/><use href=\"#wtg\" x=\"74\" y=\"310\"/><use href=\"#wtg\" x=\"333\" y=\"559\"/><use href=\"#wtg\" x=\"911\" y=\"550\"/><use href=\"#wtg\" x=\"923\" y=\"468\"/><use href=\"#wtg\" x=\"49\" y=\"287\"/><use href=\"#wtg\" x=\"150\" y=\"232\"/><use href=\"#wtg\" x=\"404\" y=\"151\"/><use href=\"#wtg\" x=\"885\" y=\"727\"/><use href=\"#wtg\" x=\"163\" y=\"396\"/><use href=\"#wtg\" x=\"132\" y=\"366\"/><use href=\"#wtg\" x=\"871\" y=\"828\"/><use href=\"#wtg\" x=\"347\" y=\"169\"/><use href=\"#wtg\" x=\"286\" y=\"189\"/><use href=\"#wtg\" x=\"459\" y=\"134\"/><use href=\"#wtg\" x=\"30\" y=\"269\"/><use href=\"#wtg\" x=\"582\" y=\"800\"/><use href=\"#wtg\" x=\"863\" y=\"885\"/><use href=\"#wtg\" x=\"675\" y=\"890\"/><use href=\"#wtg\" x=\"898\" y=\"635\"/><use href=\"#wtg\" x=\"220\" y=\"209\"/><use href=\"#wtg\" x=\"886\" y=\"407\"/><use href=\"#wtg\" x=\"195\" y=\"426\"/><use href=\"#wtg\" x=\"605\" y=\"88\"/><use href=\"#wtg\" x=\"569\" y=\"369\"/><use href=\"#wtg\" x=\"421\" y=\"258\"/><use href=\"#wtg\" x=\"297\" y=\"523\"/><use href=\"#wtg\" x=\"229\" y=\"458\"/><use href=\"#wtg\" x=\"103\" y=\"338\"/><use href=\"#wtg\" x=\"765\" y=\"534\"/><use href=\"#wtg\" x=\"536\" y=\"755\"/><use href=\"#wtg\" x=\"371\" y=\"595\"/><use href=\"#wtg\" x=\"409\" y=\"632\"/><use href=\"#wtg\" x=\"648\" y=\"717\"/><use href=\"#wtg\" x=\"653\" y=\"72\"/><use href=\"#wtg\" x=\"611\" y=\"432\"/><use href=\"#wtg\" x=\"765\" y=\"351\"/><use href=\"#wtg\" x=\"674\" y=\"491\"/><use href=\"#wtg\" x=\"929\" y=\"427\"/><use href=\"#wtg\" x=\"905\" y=\"592\"/><use href=\"#wtg\" x=\"732\" y=\"921\"/><use href=\"#wtg\" x=\"892\" y=\"680\"/><use href=\"#wtg\" x=\"759\" y=\"972\"/><use href=\"#wtg\" x=\"704\" y=\"56\"/><use href=\"#wtg\" x=\"785\" y=\"30\"/><use href=\"#wtg\" x=\"481\" y=\"479\"/><use href=\"#wtg\" x=\"807\" y=\"1019\"/><use href=\"#wtg\" x=\"678\" y=\"611\"/><use href=\"#wtg\" x=\"556\" y=\"103\"/><use href=\"#wtg\" x=\"481\" y=\"327\"/><use href=\"#wtg\" x=\"411\" y=\"427\"/><use href=\"#wtg\" x=\"711\" y=\"326\"/><use href=\"#wtg\" x=\"262\" y=\"490\"/><use href=\"#wtg\" x=\"807\" y=\"370\"/><use href=\"#wtg\" x=\"755\" y=\"90\"/><use href=\"#wtg\" x=\"508\" y=\"118\"/><use href=\"#wtg\" x=\"557\" y=\"242\"/><use href=\"#wtg\" x=\"727\" y=\"146\"/><use href=\"#wtg\" x=\"449\" y=\"672\"/><use href=\"#wtg\" x=\"533\" y=\"549\"/><use href=\"#wtg\" x=\"700\" y=\"200\"/><use href=\"#wtg\" x=\"753\" y=\"40\"/><use href=\"#wtg\" x=\"853\" y=\"954\"/><use href=\"#wtg\" x=\"739\" y=\"794\"/><use href=\"#wtg\" x=\"279\" y=\"294\"/><use href=\"#wtg\" x=\"574\" y=\"616\"/><use href=\"#wtg\" x=\"752\" y=\"671\"/><use href=\"#wtg\" x=\"666\" y=\"269\"/><use href=\"#wtg\" x=\"846\" y=\"388\"/><use href=\"#wtg\" x=\"344\" y=\"359\"/></g></g><g id=\"OSSgrp\"><use href=\"#oss\" x=\"655.5\" y=\"346.5\"/></g></g></svg>"
      ],
      "text/plain": [
       "<optiwindnet.api.WindFarmNetwork at 0x1f6d1b24440>"
      ]
     },
     "execution_count": 7,
     "metadata": {},
     "output_type": "execute_result"
    }
   ],
   "source": [
    "wfn_irr"
   ]
  },
  {
   "cell_type": "markdown",
   "id": "ea4c9980",
   "metadata": {},
   "source": [
    "## Choose the warmstart and main router"
   ]
  },
  {
   "cell_type": "code",
   "execution_count": 8,
   "id": "7884b794",
   "metadata": {},
   "outputs": [],
   "source": [
    "warmstart_router = HGSRouter(time_limit=1, verbose=True)\n",
    "\n",
    "solver_options=dict(\n",
    "        num_workers = 8,\n",
    "    )\n",
    "\n",
    "model_options = ModelOptions(\n",
    "                        topology='branched',\n",
    "                        feeder_limit='unlimited',\n",
    "                        feeder_route='segmented',\n",
    "                    )\n",
    "milp_router = MILPRouter(solver_name='ortools', time_limit=5, mip_gap=0.005, solver_options=solver_options, model_options=model_options, verbose=True)"
   ]
  },
  {
   "cell_type": "markdown",
   "id": "4a480be7",
   "metadata": {},
   "source": [
    "> For a detailed explanation about model_options and solver_options of MILP routers see [Model Options](a08_ModelOptions.ipynb) and [OR-Tools example](b03_MILPRouter_ortools_example.ipynb) Notebooks."
   ]
  },
  {
   "cell_type": "markdown",
   "id": "86999bf7-1ec1-4d4c-92bd-cbff05b08b32",
   "metadata": {},
   "source": [
    "## Regular layout"
   ]
  },
  {
   "cell_type": "markdown",
   "id": "8054da8a",
   "metadata": {},
   "source": [
    "### Warmstart"
   ]
  },
  {
   "cell_type": "code",
   "execution_count": 9,
   "id": "98fc84a8",
   "metadata": {},
   "outputs": [],
   "source": [
    "res_reg_warm = wfn_reg.optimize(router=warmstart_router)"
   ]
  },
  {
   "cell_type": "markdown",
   "id": "f1e0075f-8276-481c-a211-5919386f7aa7",
   "metadata": {},
   "source": [
    "Check the total length of the warm-start solution:"
   ]
  },
  {
   "cell_type": "code",
   "execution_count": 10,
   "id": "fbb5bb95",
   "metadata": {},
   "outputs": [
    {
     "data": {
      "text/plain": [
       "139656.47984275874"
      ]
     },
     "execution_count": 10,
     "metadata": {},
     "output_type": "execute_result"
    }
   ],
   "source": [
    "wfn_reg.length()"
   ]
  },
  {
   "cell_type": "markdown",
   "id": "6d864ccc",
   "metadata": {},
   "source": [
    "### Optimize with main router"
   ]
  },
  {
   "cell_type": "code",
   "execution_count": 11,
   "id": "6ca333aa-d791-4b13-a091-5d3db6170792",
   "metadata": {},
   "outputs": [
    {
     "name": "stdout",
     "output_type": "stream",
     "text": [
      "Using warm start: the model is initialized with the provided solution S.\n",
      "\n",
      "\n",
      "Starting CP-SAT solver v9.14.6206\n",
      "Parameters: max_time_in_seconds: 5 log_search_progress: true relative_gap_limit: 0.005 num_workers: 8\n",
      "\n",
      "Initial optimization model '': (model_fingerprint: 0x961ed6c546896a88)\n",
      "#Variables: 1'536 (#bools: 768 in floating point objective) (1'388 primary variables)\n",
      "  - 768 Booleans in [0,1]\n",
      "  - 694 in [0,6]\n",
      "  - 74 in [0,7]\n",
      "#kAtMostOne: 613 (#literals: 1'918)\n",
      "#kLinear1: 1'536 (#enforced: 1'536)\n",
      "#kLinear3: 2\n",
      "#kLinearN: 223 (#terms: 3'834)\n",
      "\n",
      "Starting presolve at 0.00s\n",
      "The solution hint is complete and is feasible.\n",
      "[Scaling] Floating point objective has 768 terms with magnitude in [440.736, 14559.3] average = 2868.79\n",
      "[Scaling] Objective coefficient relative error: 6.70633e-10\n",
      "[Scaling] Objective worst-case absolute error: 7.704e-05\n",
      "[Scaling] Objective scaling factor: 1.04858e+06\n",
      "  5.43e-04s  0.00e+00d  [DetectDominanceRelations] \n",
      "  1.00e-02s  0.00e+00d  [operations_research::sat::CpModelPresolver::PresolveToFixPoint] #num_loops=2 #num_dual_strengthening=1 \n",
      "  8.77e-05s  0.00e+00d  [operations_research::sat::CpModelPresolver::ExtractEncodingFromLinear] #potential_supersets=687 \n",
      "  3.65e-04s  0.00e+00d  [operations_research::sat::CpModelPresolver::DetectDuplicateColumns] \n",
      "  3.89e-04s  0.00e+00d  [operations_research::sat::CpModelPresolver::DetectDuplicateConstraints] \n",
      "[Symmetry] Graph for symmetry has 5'789 nodes and 11'056 arcs.\n",
      "[Symmetry] Symmetry computation done. time: 0.0010063 dtime: 0.00140614\n",
      "  4.20e-04s  0.00e+00d  [operations_research::sat::CpModelPresolver::DetectDuplicateConstraintsWithDifferentEnforcements] \n",
      "  1.21e-02s  3.70e-03d  [operations_research::sat::CpModelPresolver::Probe] #probed=1'536 \n",
      "  8.03e-04s  3.94e-04d  [MaxClique] Merged 613(1'918 literals) into 303(1'298 literals) at_most_ones. \n",
      "  4.71e-04s  0.00e+00d  [DetectDominanceRelations] \n",
      "  4.00e-03s  0.00e+00d  [operations_research::sat::CpModelPresolver::PresolveToFixPoint] #num_loops=1 #num_dual_strengthening=1 \n",
      "  5.00e-04s  0.00e+00d  [operations_research::sat::CpModelPresolver::ProcessAtMostOneAndLinear] \n",
      "  3.46e-04s  0.00e+00d  [operations_research::sat::CpModelPresolver::DetectDuplicateConstraints] \n",
      "  3.16e-04s  0.00e+00d  [operations_research::sat::CpModelPresolver::DetectDuplicateConstraintsWithDifferentEnforcements] \n",
      "  4.40e-04s  1.30e-05d  [operations_research::sat::CpModelPresolver::DetectDominatedLinearConstraints] #relevant_constraints=151 #num_inclusions=75 \n",
      "  4.29e-05s  0.00e+00d  [operations_research::sat::CpModelPresolver::DetectDifferentVariables] \n",
      "  6.71e-03s  3.02e-04d  [operations_research::sat::CpModelPresolver::ProcessSetPPC] #relevant_constraints=379 #num_inclusions=377 \n",
      "  1.07e-04s  0.00e+00d  [operations_research::sat::CpModelPresolver::FindAlmostIdenticalLinearConstraints] \n",
      "  5.48e-04s  2.40e-04d  [operations_research::sat::CpModelPresolver::FindBigAtMostOneAndLinearOverlap] \n",
      "  4.08e-04s  2.83e-04d  [operations_research::sat::CpModelPresolver::FindBigVerticalLinearOverlap] \n",
      "  8.30e-05s  1.15e-05d  [operations_research::sat::CpModelPresolver::FindBigHorizontalLinearOverlap] #linears=148 \n",
      "  3.15e-05s  0.00e+00d  [operations_research::sat::CpModelPresolver::MergeClauses] \n",
      "  4.52e-04s  0.00e+00d  [DetectDominanceRelations] \n",
      "  3.77e-03s  0.00e+00d  [operations_research::sat::CpModelPresolver::PresolveToFixPoint] #num_loops=1 #num_dual_strengthening=1 \n",
      "  4.48e-04s  0.00e+00d  [DetectDominanceRelations] \n",
      "  3.75e-03s  0.00e+00d  [operations_research::sat::CpModelPresolver::PresolveToFixPoint] #num_loops=1 #num_dual_strengthening=1 \n",
      "  2.00e-04s  0.00e+00d  [operations_research::sat::CpModelPresolver::DetectDuplicateColumns] \n",
      "  3.54e-04s  0.00e+00d  [operations_research::sat::CpModelPresolver::DetectDuplicateConstraints] \n",
      "[Symmetry] Graph for symmetry has 5'168 nodes and 9'048 arcs.\n",
      "[Symmetry] Symmetry computation done. time: 0.0007188 dtime: 0.00121764\n",
      "[SAT presolve] num removable Booleans: 0 / 768\n",
      "[SAT presolve] num trivial clauses: 0\n",
      "[SAT presolve] [0s] clauses:37 literals:74 vars:74 one_side_vars:74 simple_definition:0 singleton_clauses:0\n",
      "[SAT presolve] [0.0001453s] clauses:37 literals:74 vars:74 one_side_vars:74 simple_definition:0 singleton_clauses:0\n",
      "[SAT presolve] [0.0002801s] clauses:37 literals:74 vars:74 one_side_vars:74 simple_definition:0 singleton_clauses:0\n",
      "  3.83e-04s  0.00e+00d  [operations_research::sat::CpModelPresolver::DetectDuplicateConstraintsWithDifferentEnforcements] \n",
      "  1.21e-02s  3.42e-03d  [operations_research::sat::CpModelPresolver::Probe] #probed=1'536 \n",
      "  5.63e-04s  3.83e-04d  [MaxClique] \n",
      "  4.83e-04s  0.00e+00d  [DetectDominanceRelations] \n",
      "  3.90e-03s  0.00e+00d  [operations_research::sat::CpModelPresolver::PresolveToFixPoint] #num_loops=1 #num_dual_strengthening=1 \n",
      "  3.77e-04s  0.00e+00d  [operations_research::sat::CpModelPresolver::ProcessAtMostOneAndLinear] \n",
      "  3.43e-04s  0.00e+00d  [operations_research::sat::CpModelPresolver::DetectDuplicateConstraints] \n",
      "  3.22e-04s  0.00e+00d  [operations_research::sat::CpModelPresolver::DetectDuplicateConstraintsWithDifferentEnforcements] \n",
      "  3.92e-04s  9.77e-06d  [operations_research::sat::CpModelPresolver::DetectDominatedLinearConstraints] #relevant_constraints=150 #num_inclusions=74 \n",
      "  4.21e-05s  0.00e+00d  [operations_research::sat::CpModelPresolver::DetectDifferentVariables] \n",
      "  2.87e-04s  6.39e-06d  [operations_research::sat::CpModelPresolver::ProcessSetPPC] #relevant_constraints=378 \n",
      "  6.08e-05s  0.00e+00d  [operations_research::sat::CpModelPresolver::FindAlmostIdenticalLinearConstraints] \n",
      "  1.38e-03s  2.37e-04d  [operations_research::sat::CpModelPresolver::FindBigAtMostOneAndLinearOverlap] \n",
      "  6.88e-04s  2.83e-04d  [operations_research::sat::CpModelPresolver::FindBigVerticalLinearOverlap] \n",
      "  1.45e-04s  1.15e-05d  [operations_research::sat::CpModelPresolver::FindBigHorizontalLinearOverlap] #linears=148 \n",
      "  5.62e-05s  0.00e+00d  [operations_research::sat::CpModelPresolver::MergeClauses] \n",
      "  4.99e-04s  0.00e+00d  [DetectDominanceRelations] \n",
      "  3.98e-03s  0.00e+00d  [operations_research::sat::CpModelPresolver::PresolveToFixPoint] #num_loops=1 #num_dual_strengthening=1 \n",
      "  6.08e-04s  0.00e+00d  [operations_research::sat::CpModelPresolver::ExpandObjective] #entries=7'628 #tight_variables=768 #tight_constraints=74 \n",
      "\n",
      "Presolve summary:\n",
      "  - 0 affine relations were detected.\n",
      "  - rule 'TODO linear inclusion: superset is equality' was applied 149 times.\n",
      "  - rule 'at_most_one: transformed into max clique.' was applied 1 time.\n",
      "  - rule 'deductions: 1536 stored' was applied 1 time.\n",
      "  - rule 'exactly_one: simplified objective' was applied 74 times.\n",
      "  - rule 'linear: positive equal one' was applied 74 times.\n",
      "  - rule 'objective: shifted cost with exactly ones' was applied 74 times.\n",
      "  - rule 'presolve: 0 unused variables removed.' was applied 1 time.\n",
      "  - rule 'presolve: iteration' was applied 2 times.\n",
      "  - rule 'setppc: exactly_one included in linear' was applied 74 times.\n",
      "  - rule 'setppc: reduced linear coefficients' was applied 73 times.\n",
      "  - rule 'setppc: removed trivial linear constraint' was applied 1 time.\n",
      "  - rule 'variables: detect fully reified value encoding' was applied 768 times.\n",
      "  - rule 'variables: detect half reified value encoding' was applied 1'536 times.\n",
      "\n",
      "Presolved optimization model '': (model_fingerprint: 0x1b032ec6535a8432)\n",
      "#Variables: 1'536 (#bools: 694 in objective) (1'388 primary variables)\n",
      "  - 768 Booleans in [0,1]\n",
      "  - 694 in [0,6]\n",
      "  - 74 in [0,7]\n",
      "#kAtMostOne: 266 (#literals: 1'224)\n",
      "#kBoolAnd: 37 (#enforced: 37) (#literals: 74)\n",
      "#kExactlyOne: 74 (#literals: 768)\n",
      "#kLinear1: 1'536 (#enforced: 1'536)\n",
      "#kLinear3: 2\n",
      "#kLinearN: 148 (#terms: 2'298)\n",
      "[Symmetry] Graph for symmetry has 5'168 nodes and 9'048 arcs.\n",
      "[Symmetry] Symmetry computation done. time: 0.0006957 dtime: 0.00121832\n",
      "\n",
      "Preloading model.\n",
      "#Bound   0.09s best:inf   next:[123610.947,1028471.61] initial_domain\n",
      "#1       0.09s best:139656.48 next:[123610.947,139656.48] complete_hint\n",
      "#Model   0.10s var:1536/1536 constraints:2063/2063\n",
      "\n",
      "Starting search at 0.10s with 8 workers.\n",
      "6 full problem subsolvers: [core, default_lp, max_lp, no_lp, quick_restart, reduced_costs]\n",
      "2 first solution subsolvers: [fj, fs_random_no_lp]\n",
      "9 interleaved subsolvers: [feasibility_pump, graph_arc_lns, graph_cst_lns, graph_dec_lns, graph_var_lns, ls, rins/rens, rnd_cst_lns, rnd_var_lns]\n",
      "3 helper subsolvers: [neighborhood_helper, synchronization_agent, update_gap_integral]\n",
      "\n",
      "#Bound   0.13s best:139656.48 next:[123610.951,139656.48] am1_presolve (num_literals=694 num_am1=20 increase=4458 work_done=2551)\n",
      "#2       0.14s best:139650.832 next:[123610.951,139650.832] no_lp [hint] (fixed_bools=0/768)\n",
      "#Bound   0.15s best:139650.832 next:[131572.568,139650.832] reduced_costs\n",
      "#Bound   0.18s best:139650.832 next:[135687.687,139650.832] max_lp\n",
      "#Bound   0.29s best:139650.832 next:[135848.957,139650.832] max_lp\n",
      "#Model   0.31s var:1526/1536 constraints:2053/2063\n",
      "#3       0.37s best:139650.831 next:[135848.957,139650.831] graph_arc_lns (d=5.00e-01 s=9 t=0.10 p=0.00 stall=0 h=base)\n",
      "#4       0.38s best:139645.183 next:[135848.957,139645.183] graph_arc_lns (d=5.00e-01 s=9 t=0.10 p=0.00 stall=0 h=base) [combined with: no_lp [hint]...]\n",
      "#Bound   0.41s best:139645.183 next:[136118.437,139645.183] max_lp\n",
      "#Bound   0.57s best:139645.183 next:[136183.946,139645.183] max_lp\n",
      "#Model   0.66s var:1512/1536 constraints:2038/2063\n",
      "#Bound   0.77s best:139645.183 next:[136221.036,139645.183] max_lp\n",
      "#Model   0.82s var:1478/1536 constraints:2003/2063\n",
      "#Bound   1.60s best:139645.183 next:[136284.537,139645.183] max_lp\n",
      "#Model   1.83s var:1474/1536 constraints:1999/2063\n",
      "#Bound   1.99s best:139645.183 next:[136286.621,139645.183] quick_restart\n",
      "#Bound   2.27s best:139645.183 next:[136316.193,139645.183] quick_restart\n",
      "#Bound   2.61s best:139645.183 next:[136351.677,139645.183] max_lp\n",
      "#Bound   3.11s best:139645.183 next:[136367.332,139645.183] quick_restart\n",
      "#Bound   3.39s best:139645.183 next:[136378.603,139645.183] quick_restart\n",
      "#Bound   3.68s best:139645.183 next:[136498.186,139645.183] max_lp\n",
      "#Bound   4.86s best:139645.183 next:[136576.285,139645.183] max_lp\n",
      "\n",
      "Task timing                   n [     min,      max]      avg      dev     time         n [     min,      max]      avg      dev    dtime\n",
      "              'core':         1 [   4.92s,    4.92s]    4.92s   0.00ns    4.92s         1 [   2.07s,    2.07s]    2.07s   0.00ns    2.07s\n",
      "        'default_lp':         1 [   4.92s,    4.92s]    4.92s   0.00ns    4.92s         0 [  0.00ns,   0.00ns]   0.00ns   0.00ns   0.00ns\n",
      "  'feasibility_pump':         2 [ 13.37ms,    1.44s] 728.63ms 715.26ms    1.46s         1 [464.60ms, 464.60ms] 464.60ms   0.00ns 464.60ms\n",
      "                'fj':         0 [  0.00ns,   0.00ns]   0.00ns   0.00ns   0.00ns         0 [  0.00ns,   0.00ns]   0.00ns   0.00ns   0.00ns\n",
      "   'fs_random_no_lp':         0 [  0.00ns,   0.00ns]   0.00ns   0.00ns   0.00ns         0 [  0.00ns,   0.00ns]   0.00ns   0.00ns   0.00ns\n",
      "     'graph_arc_lns':         2 [255.63ms, 954.87ms] 605.25ms 349.62ms    1.21s         2 [ 51.42ms, 100.67ms]  76.04ms  24.63ms 152.09ms\n",
      "     'graph_cst_lns':         4 [ 15.59ms, 656.25ms] 186.90ms 271.30ms 747.61ms         3 [  1.21us, 100.00ms]  33.51ms  47.02ms 100.52ms\n",
      "     'graph_dec_lns':         4 [  9.41ms, 649.83ms] 210.27ms 260.74ms 841.08ms         4 [ 10.00ns, 100.18ms]  27.40ms  42.20ms 109.58ms\n",
      "     'graph_var_lns':         5 [ 10.53ms, 674.26ms] 268.27ms 236.12ms    1.34s         5 [ 50.00ns, 100.03ms]  33.23ms  36.90ms 166.15ms\n",
      "                'ls':         4 [187.78ms, 259.47ms] 224.66ms  32.83ms 898.63ms         4 [ 61.85ms, 100.01ms]  90.47ms  16.53ms 361.88ms\n",
      "            'max_lp':         1 [   4.92s,    4.92s]    4.92s   0.00ns    4.92s         0 [  0.00ns,   0.00ns]   0.00ns   0.00ns   0.00ns\n",
      "             'no_lp':         1 [   4.90s,    4.90s]    4.90s   0.00ns    4.90s         1 [876.85ms, 876.85ms] 876.85ms   0.00ns 876.85ms\n",
      "     'quick_restart':         1 [   4.89s,    4.89s]    4.89s   0.00ns    4.89s         1 [470.42ms, 470.42ms] 470.42ms   0.00ns 470.42ms\n",
      "     'reduced_costs':         1 [   4.92s,    4.92s]    4.92s   0.00ns    4.92s         1 [   1.08s,    1.08s]    1.08s   0.00ns    1.08s\n",
      "         'rins/rens':         4 [ 25.49ms, 875.26ms] 344.77ms 345.27ms    1.38s         4 [304.54us, 100.06ms]  39.34ms  41.12ms 157.37ms\n",
      "       'rnd_cst_lns':         5 [ 46.59ms, 881.40ms] 237.15ms 322.89ms    1.19s         5 [598.00ns, 100.01ms]  21.16ms  39.44ms 105.80ms\n",
      "       'rnd_var_lns':         5 [ 19.35ms, 581.24ms] 151.92ms 216.35ms 759.58ms         4 [ 10.00ns, 100.24ms]  25.46ms  43.18ms 101.84ms\n",
      "\n",
      "Search stats          Bools  Conflicts  Branches  Restarts  BoolPropag  IntegerPropag\n",
      "             'core':    788     52'590   133'058     6'846     912'000      2'541'580\n",
      "       'default_lp':    768          0     1'598     1'539      12'011         39'931\n",
      "  'fs_random_no_lp':      0          0         0         0           0              0\n",
      "           'max_lp':    768          0     1'536     1'536      11'765         39'153\n",
      "            'no_lp':    768     13'340    33'019     7'801   1'227'137      4'693'994\n",
      "    'quick_restart':    768         13     1'841     1'537      13'008         45'745\n",
      "    'reduced_costs':    770        101     5'557     3'079      29'133        159'781\n",
      "\n",
      "SAT stats             ClassicMinim  LitRemoved  LitLearned  LitForgotten  Subsumed  MClauses  MDecisions  MLitTrue  MSubsumed  MLitRemoved  MReused\n",
      "             'core':        48'935     618'051   3'390'378     2'360'305       616       965       7'878         0         87        1'130       75\n",
      "       'default_lp':             0           0           0             0         0         0           0         0          0            0        0\n",
      "  'fs_random_no_lp':             0           0           0             0         0         0           0         0          0            0        0\n",
      "           'max_lp':             0           0           0             0         0         0           0         0          0            0        0\n",
      "            'no_lp':        12'791     791'868     892'170       234'239       156       598       5'426         0          2           26        7\n",
      "    'quick_restart':            12         966       2'367             0         0         0           0         0          0            0        0\n",
      "    'reduced_costs':            95       5'344      22'088             0         0       148       1'326         0          0            0        0\n",
      "\n",
      "Lp stats            Component  Iterations  AddedCuts  OPTIMAL  DUAL_F.  DUAL_U.\n",
      "     'default_lp':          1       5'357      3'497      109        0        0\n",
      "         'max_lp':          1       2'543      1'702       19        0        0\n",
      "  'quick_restart':          1       7'086      2'796      250        0        2\n",
      "  'reduced_costs':          1      15'156      2'668      285       79       16\n",
      "\n",
      "Lp dimension            Final dimension of first component\n",
      "     'default_lp':  1682 rows, 1462 columns, 19697 entries\n",
      "         'max_lp':  3141 rows, 1536 columns, 25296 entries\n",
      "  'quick_restart':  1726 rows, 1462 columns, 18767 entries\n",
      "  'reduced_costs':  1661 rows, 1536 columns, 15946 entries\n",
      "\n",
      "Lp debug            CutPropag  CutEqPropag  Adjust  Overflow     Bad  BadScaling\n",
      "     'default_lp':          0           18      97         0  12'470           0\n",
      "         'max_lp':          0            0      19         0  21'115           0\n",
      "  'quick_restart':          0            0     236         0   9'452           0\n",
      "  'reduced_costs':          0            0     336         0   8'873           0\n",
      "\n",
      "Lp pool             Constraints  Updates  Simplif  Merged  Shortened  Split  Strenghtened    Cuts/Call\n",
      "     'default_lp':        6'069      139    1'415       0      1'359     10            79  3'497/6'981\n",
      "         'max_lp':        4'533      237    1'697       0      1'156    172            14  1'702/3'375\n",
      "  'quick_restart':        5'368       65    1'447       0        697     41           122  2'796/5'453\n",
      "  'reduced_costs':        5'499       59      992       0        843      5            37  2'668/5'130\n",
      "\n",
      "Lp Cut            quick_restart  default_lp  max_lp  reduced_costs\n",
      "          CG_FF:             19          29      10             34\n",
      "           CG_K:              9          15       5             17\n",
      "          CG_KL:              4           1       -              -\n",
      "           CG_R:             36          59      19             45\n",
      "          CG_RB:             76         151      53            110\n",
      "         CG_RBP:             30          53      22             30\n",
      "             IB:            610         596       -            682\n",
      "       MIR_1_FF:            129         137      53             72\n",
      "        MIR_1_K:             38          68       1             11\n",
      "       MIR_1_KL:             22          28       -              6\n",
      "        MIR_1_R:              2           -       1              1\n",
      "       MIR_1_RB:             83          98      32             56\n",
      "      MIR_1_RBP:             65          71       6             18\n",
      "       MIR_2_FF:            124         166      88            111\n",
      "        MIR_2_K:             68          92       3             26\n",
      "       MIR_2_KL:             17          19       3             10\n",
      "        MIR_2_R:              5          14       6             10\n",
      "       MIR_2_RB:            148         150     100            156\n",
      "      MIR_2_RBP:             99          86      22             29\n",
      "       MIR_3_FF:             89         111     114            101\n",
      "        MIR_3_K:             54          91      20             36\n",
      "       MIR_3_KL:             11          13       5              5\n",
      "        MIR_3_R:              3          11      12             14\n",
      "       MIR_3_RB:            104         128     110            123\n",
      "      MIR_3_RBP:             61          89      25             25\n",
      "       MIR_4_FF:             39          68      99             68\n",
      "        MIR_4_K:             56          72      35             53\n",
      "       MIR_4_KL:              8           8      11              1\n",
      "        MIR_4_R:              1           3      11              8\n",
      "       MIR_4_RB:             56          71      67             78\n",
      "      MIR_4_RBP:             62          72      45             36\n",
      "       MIR_5_FF:             27          41      67             58\n",
      "        MIR_5_K:             51          51      40             30\n",
      "       MIR_5_KL:             11          10       9              5\n",
      "        MIR_5_R:              2           2       5              5\n",
      "       MIR_5_RB:             40          35      49             59\n",
      "      MIR_5_RBP:             59          53      52             29\n",
      "       MIR_6_FF:             16          39      42             39\n",
      "        MIR_6_K:             27          39      35             36\n",
      "       MIR_6_KL:              5          14      14             10\n",
      "        MIR_6_R:              2           7       5              2\n",
      "       MIR_6_RB:             23          28      33             35\n",
      "      MIR_6_RBP:             38          50      40             33\n",
      "   ZERO_HALF_FF:             26          58      13             53\n",
      "    ZERO_HALF_K:             17          14       1              6\n",
      "   ZERO_HALF_KL:              4           2       -              -\n",
      "    ZERO_HALF_R:            273         412     279            236\n",
      "   ZERO_HALF_RB:             29          50      26             48\n",
      "  ZERO_HALF_RBP:             18          22      14             12\n",
      "\n",
      "LNS stats           Improv/Calls  Closed  Difficulty  TimeLimit\n",
      "  'graph_arc_lns':           1/2     50%    5.38e-01       0.10\n",
      "  'graph_cst_lns':           0/3     67%    7.21e-01       0.10\n",
      "  'graph_dec_lns':           0/4     75%    8.21e-01       0.10\n",
      "  'graph_var_lns':           0/5     60%    7.00e-01       0.10\n",
      "      'rins/rens':           1/4     75%    8.21e-01       0.10\n",
      "    'rnd_cst_lns':           0/5     80%    8.80e-01       0.10\n",
      "    'rnd_var_lns':           0/4     75%    8.21e-01       0.10\n",
      "\n",
      "LS stats                        Batches  Restarts/Perturbs  LinMoves  GenMoves  CompoundMoves  Bactracks  WeightUpdates  ScoreComputed\n",
      "           'ls_restart_decay':        2                  2    29'374         0              0          0            629        615'144\n",
      "  'ls_restart_decay_compound':        1                  1         0    13'065          1'702      5'681             35        323'887\n",
      "   'ls_restart_decay_perturb':        1                  1     9'310         0              0          0            207        191'668\n",
      "\n",
      "Solutions (4)       Num   Rank\n",
      "  'complete_hint':    1  [1,1]\n",
      "  'graph_arc_lns':    2  [3,4]\n",
      "          'no_lp':    1  [2,2]\n",
      "\n",
      "Objective bounds     Num\n",
      "    'am1_presolve':    1\n",
      "  'initial_domain':    1\n",
      "          'max_lp':    9\n",
      "   'quick_restart':    4\n",
      "   'reduced_costs':    1\n",
      "\n",
      "Solution repositories    Added  Queried  Synchro\n",
      "  'feasible solutions':      4       66        4\n",
      "   'fj solution hints':      0        0        0\n",
      "        'lp solutions':     11        4        9\n",
      "                'pump':      0        0\n",
      "\n",
      "Improving bounds shared    Num  Sym\n",
      "            'default_lp':   24    0\n",
      "                'max_lp':   42    0\n",
      "         'quick_restart':    4    0\n",
      "\n",
      "Clauses shared    Num\n",
      "         'core':    9\n",
      "        'no_lp':  274\n",
      "\n",
      "[Scaling] scaled_objective_bound: 136576 corrected_bound: 136576 delta: -2.56434e-06\n",
      "CpSolverResponse summary:\n",
      "status: FEASIBLE\n",
      "objective: 139645.18265364\n",
      "best_bound: 136576.2851673974\n",
      "integers: 0\n",
      "booleans: 0\n",
      "conflicts: 0\n",
      "branches: 0\n",
      "propagations: 0\n",
      "integer_propagations: 0\n",
      "restarts: 0\n",
      "lp_iterations: 0\n",
      "walltime: 5.05872\n",
      "usertime: 5.05872\n",
      "deterministic_time: 6.2322\n",
      "gap_integral: 50.1095\n",
      "solution_fingerprint: 0x6aa24a4cea96b19f\n",
      "\n"
     ]
    }
   ],
   "source": [
    "res_reg = wfn_reg.optimize(router=milp_router, verbose=True)"
   ]
  },
  {
   "cell_type": "code",
   "execution_count": 12,
   "id": "54e4cda4",
   "metadata": {},
   "outputs": [
    {
     "data": {
      "text/plain": [
       "139645.18265364"
      ]
     },
     "execution_count": 12,
     "metadata": {},
     "output_type": "execute_result"
    }
   ],
   "source": [
    "wfn_reg.length()"
   ]
  },
  {
   "cell_type": "code",
   "execution_count": 13,
   "id": "a314938c-0c17-4d8d-b343-e9622c25f67c",
   "metadata": {},
   "outputs": [
    {
     "data": {
      "text/plain": [
       "248112330.12342116"
      ]
     },
     "execution_count": 13,
     "metadata": {},
     "output_type": "execute_result"
    }
   ],
   "source": [
    "wfn_reg.cost()"
   ]
  },
  {
   "cell_type": "code",
   "execution_count": 14,
   "id": "1092b21b",
   "metadata": {},
   "outputs": [
    {
     "data": {
      "image/svg+xml": [
       "<svg xmlns=\"http://www.w3.org/2000/svg\" viewBox=\"0 0 1920 1080\"><defs><circle stroke=\"none\" stroke-width=\"2\" id=\"wtg\" r=\"12\"/><rect stroke=\"#111\" stroke-width=\"2\" id=\"oss\" width=\"21\" height=\"21\" fill=\"lawngreen\"/><filter x=\"-5%\" y=\"-5%\" id=\"bg_textbox\" width=\"110%\" height=\"110%\"><feFlood flood-opacity=\"0.6\" flood-color=\"black\" result=\"bg\"/><feMerge><feMergeNode in=\"bg\"/><feMergeNode in=\"SourceGraphic\"/></feMerge></filter></defs><g id=\"iea37_bors_reg\"><path stroke=\"silver\" stroke-dasharray=\"15 7\" stroke-width=\"2\" id=\"border\" d=\"M30 269 785 30 652 298 929 427 839 1050 256 484z\" fill-rule=\"evenodd\" fill=\"#111\"/><g stroke=\"crimson\" stroke-width=\"4\" id=\"edges_unspecified\"><line x1=\"825\" y1=\"1028\" x2=\"767\" y2=\"972\"/><line x1=\"767\" y1=\"972\" x2=\"709\" y2=\"917\"/><line x1=\"709\" y1=\"917\" x2=\"652\" y2=\"861\"/><line x1=\"838\" y1=\"935\" x2=\"780\" y2=\"879\"/><line x1=\"780\" y1=\"879\" x2=\"722\" y2=\"823\"/><line x1=\"722\" y1=\"823\" x2=\"736\" y2=\"730\"/><line x1=\"652\" y1=\"861\" x2=\"665\" y2=\"767\"/><line x1=\"665\" y1=\"767\" x2=\"678\" y2=\"674\"/><line x1=\"851\" y1=\"841\" x2=\"793\" y2=\"785\"/><line x1=\"793\" y1=\"785\" x2=\"864\" y2=\"748\"/><line x1=\"864\" y1=\"748\" x2=\"807\" y2=\"692\"/><line x1=\"736\" y1=\"730\" x2=\"749\" y2=\"636\"/><line x1=\"678\" y1=\"674\" x2=\"620\" y2=\"618\"/><line x1=\"594\" y1=\"805\" x2=\"536\" y2=\"749\"/><line x1=\"536\" y1=\"749\" x2=\"607\" y2=\"711\"/><line x1=\"607\" y1=\"711\" x2=\"549\" y2=\"655\"/><line x1=\"807\" y1=\"692\" x2=\"877\" y2=\"654\"/><line x1=\"877\" y1=\"654\" x2=\"820\" y2=\"598\"/><line x1=\"749\" y1=\"636\" x2=\"691\" y2=\"580\"/><line x1=\"666\" y1=\"357\" x2=\"620\" y2=\"618\"/><line x1=\"549\" y1=\"655\" x2=\"491\" y2=\"600\"/><line x1=\"562\" y1=\"562\" x2=\"491\" y2=\"600\"/><line x1=\"478\" y1=\"693\" x2=\"421\" y2=\"637\"/><line x1=\"421\" y1=\"637\" x2=\"363\" y2=\"582\"/><line x1=\"434\" y1=\"544\" x2=\"363\" y2=\"582\"/><line x1=\"820\" y1=\"598\" x2=\"762\" y2=\"543\"/><line x1=\"666\" y1=\"357\" x2=\"762\" y2=\"543\"/><line x1=\"691\" y1=\"580\" x2=\"704\" y2=\"487\"/><line x1=\"666\" y1=\"357\" x2=\"704\" y2=\"487\"/><line x1=\"562\" y1=\"562\" x2=\"633\" y2=\"525\"/><line x1=\"666\" y1=\"357\" x2=\"633\" y2=\"525\"/><line x1=\"434\" y1=\"544\" x2=\"505\" y2=\"506\"/><line x1=\"576\" y1=\"469\" x2=\"505\" y2=\"506\"/><line x1=\"305\" y1=\"526\" x2=\"376\" y2=\"488\"/><line x1=\"305\" y1=\"526\" x2=\"247\" y2=\"470\"/><line x1=\"447\" y1=\"450\" x2=\"376\" y2=\"488\"/><line x1=\"891\" y1=\"561\" x2=\"833\" y2=\"505\"/><line x1=\"833\" y1=\"505\" x2=\"775\" y2=\"449\"/><line x1=\"833\" y1=\"505\" x2=\"904\" y2=\"467\"/><line x1=\"775\" y1=\"449\" x2=\"717\" y2=\"393\"/><line x1=\"846\" y1=\"411\" x2=\"775\" y2=\"449\"/><line x1=\"576\" y1=\"469\" x2=\"646\" y2=\"431\"/><line x1=\"666\" y1=\"357\" x2=\"646\" y2=\"431\"/><line x1=\"447\" y1=\"450\" x2=\"518\" y2=\"413\"/><line x1=\"589\" y1=\"375\" x2=\"518\" y2=\"413\"/><line x1=\"318\" y1=\"432\" x2=\"389\" y2=\"395\"/><line x1=\"318\" y1=\"432\" x2=\"260\" y2=\"377\"/><line x1=\"460\" y1=\"357\" x2=\"389\" y2=\"395\"/><line x1=\"189\" y1=\"414\" x2=\"260\" y2=\"377\"/><line x1=\"189\" y1=\"414\" x2=\"132\" y2=\"359\"/><line x1=\"666\" y1=\"357\" x2=\"717\" y2=\"393\"/><line x1=\"331\" y1=\"339\" x2=\"274\" y2=\"283\"/><line x1=\"331\" y1=\"339\" x2=\"402\" y2=\"301\"/><line x1=\"473\" y1=\"263\" x2=\"402\" y2=\"301\"/><line x1=\"203\" y1=\"321\" x2=\"274\" y2=\"283\"/><line x1=\"203\" y1=\"321\" x2=\"145\" y2=\"265\"/><line x1=\"344\" y1=\"245\" x2=\"287\" y2=\"190\"/><line x1=\"344\" y1=\"245\" x2=\"415\" y2=\"208\"/><line x1=\"486\" y1=\"170\" x2=\"415\" y2=\"208\"/><line x1=\"216\" y1=\"227\" x2=\"287\" y2=\"190\"/><line x1=\"132\" y1=\"359\" x2=\"74\" y2=\"303\"/><line x1=\"666\" y1=\"357\" x2=\"589\" y2=\"375\"/><line x1=\"666\" y1=\"357\" x2=\"460\" y2=\"357\"/><line x1=\"673\" y1=\"244\" x2=\"615\" y2=\"188\"/><line x1=\"666\" y1=\"357\" x2=\"660\" y2=\"338\"/><line x1=\"544\" y1=\"226\" x2=\"486\" y2=\"170\"/><line x1=\"602\" y1=\"282\" x2=\"544\" y2=\"226\"/><line x1=\"666\" y1=\"357\" x2=\"602\" y2=\"282\"/><line x1=\"531\" y1=\"319\" x2=\"473\" y2=\"263\"/><line x1=\"666\" y1=\"357\" x2=\"531\" y2=\"319\"/><line x1=\"615\" y1=\"188\" x2=\"686\" y2=\"151\"/><line x1=\"615\" y1=\"188\" x2=\"557\" y2=\"133\"/><line x1=\"686\" y1=\"151\" x2=\"628\" y2=\"95\"/></g><g stroke=\"red\" stroke-width=\"4\" id=\"edges_contour\"><line x1=\"673\" y1=\"244\" x2=\"652\" y2=\"298\"/><line x1=\"660\" y1=\"338\" x2=\"652\" y2=\"298\"/></g><g id=\"WTGgrp\"><g fill=\"#1f77b4\"><use href=\"#wtg\" x=\"825\" y=\"1028\"/><use href=\"#wtg\" x=\"767\" y=\"972\"/><use href=\"#wtg\" x=\"709\" y=\"917\"/><use href=\"#wtg\" x=\"652\" y=\"861\"/><use href=\"#wtg\" x=\"665\" y=\"767\"/><use href=\"#wtg\" x=\"678\" y=\"674\"/><use href=\"#wtg\" x=\"620\" y=\"618\"/></g><g fill=\"#ff7f0e\"><use href=\"#wtg\" x=\"838\" y=\"935\"/><use href=\"#wtg\" x=\"780\" y=\"879\"/><use href=\"#wtg\" x=\"722\" y=\"823\"/><use href=\"#wtg\" x=\"736\" y=\"730\"/><use href=\"#wtg\" x=\"749\" y=\"636\"/><use href=\"#wtg\" x=\"691\" y=\"580\"/><use href=\"#wtg\" x=\"704\" y=\"487\"/></g><g fill=\"#aec7e8\"><use href=\"#wtg\" x=\"851\" y=\"841\"/><use href=\"#wtg\" x=\"793\" y=\"785\"/><use href=\"#wtg\" x=\"864\" y=\"748\"/><use href=\"#wtg\" x=\"807\" y=\"692\"/><use href=\"#wtg\" x=\"877\" y=\"654\"/><use href=\"#wtg\" x=\"820\" y=\"598\"/><use href=\"#wtg\" x=\"762\" y=\"543\"/></g><g fill=\"#ffbb78\"><use href=\"#wtg\" x=\"594\" y=\"805\"/><use href=\"#wtg\" x=\"536\" y=\"749\"/><use href=\"#wtg\" x=\"607\" y=\"711\"/><use href=\"#wtg\" x=\"549\" y=\"655\"/><use href=\"#wtg\" x=\"491\" y=\"600\"/><use href=\"#wtg\" x=\"562\" y=\"562\"/><use href=\"#wtg\" x=\"633\" y=\"525\"/></g><g fill=\"#98df8a\"><use href=\"#wtg\" x=\"478\" y=\"693\"/><use href=\"#wtg\" x=\"421\" y=\"637\"/><use href=\"#wtg\" x=\"363\" y=\"582\"/><use href=\"#wtg\" x=\"434\" y=\"544\"/><use href=\"#wtg\" x=\"505\" y=\"506\"/><use href=\"#wtg\" x=\"576\" y=\"469\"/><use href=\"#wtg\" x=\"646\" y=\"431\"/></g><g fill=\"#d62728\"><use href=\"#wtg\" x=\"305\" y=\"526\"/><use href=\"#wtg\" x=\"376\" y=\"488\"/><use href=\"#wtg\" x=\"447\" y=\"450\"/><use href=\"#wtg\" x=\"518\" y=\"413\"/><use href=\"#wtg\" x=\"247\" y=\"470\"/><use href=\"#wtg\" x=\"589\" y=\"375\"/></g><g fill=\"#2ca02c\"><use href=\"#wtg\" x=\"891\" y=\"561\"/><use href=\"#wtg\" x=\"833\" y=\"505\"/><use href=\"#wtg\" x=\"775\" y=\"449\"/><use href=\"#wtg\" x=\"846\" y=\"411\"/><use href=\"#wtg\" x=\"717\" y=\"393\"/><use href=\"#wtg\" x=\"904\" y=\"467\"/></g><g fill=\"#ff9896\"><use href=\"#wtg\" x=\"318\" y=\"432\"/><use href=\"#wtg\" x=\"389\" y=\"395\"/><use href=\"#wtg\" x=\"189\" y=\"414\"/><use href=\"#wtg\" x=\"260\" y=\"377\"/><use href=\"#wtg\" x=\"132\" y=\"359\"/><use href=\"#wtg\" x=\"460\" y=\"357\"/><use href=\"#wtg\" x=\"74\" y=\"303\"/></g><g fill=\"#8c564b\"><use href=\"#wtg\" x=\"331\" y=\"339\"/><use href=\"#wtg\" x=\"402\" y=\"301\"/><use href=\"#wtg\" x=\"203\" y=\"321\"/><use href=\"#wtg\" x=\"274\" y=\"283\"/><use href=\"#wtg\" x=\"145\" y=\"265\"/><use href=\"#wtg\" x=\"473\" y=\"263\"/><use href=\"#wtg\" x=\"531\" y=\"319\"/></g><g fill=\"#c5b0d5\"><use href=\"#wtg\" x=\"344\" y=\"245\"/><use href=\"#wtg\" x=\"415\" y=\"208\"/><use href=\"#wtg\" x=\"216\" y=\"227\"/><use href=\"#wtg\" x=\"287\" y=\"190\"/><use href=\"#wtg\" x=\"544\" y=\"226\"/><use href=\"#wtg\" x=\"602\" y=\"282\"/><use href=\"#wtg\" x=\"486\" y=\"170\"/></g><g fill=\"#9467bd\"><use href=\"#wtg\" x=\"673\" y=\"244\"/><use href=\"#wtg\" x=\"660\" y=\"338\"/><use href=\"#wtg\" x=\"615\" y=\"188\"/><use href=\"#wtg\" x=\"686\" y=\"151\"/><use href=\"#wtg\" x=\"557\" y=\"133\"/><use href=\"#wtg\" x=\"628\" y=\"95\"/></g></g><g id=\"OSSgrp\"><use href=\"#oss\" x=\"655.5\" y=\"346.5\"/></g></g><text filter=\"url(#bg_textbox)\" text-anchor=\"end\" font-family=\"sans-serif\" font-size=\"40\" fill=\"white\" x=\"929\" y=\"1050\"><tspan x=\"929\" dy=\"-0.0em\">248112330 &#8364;</tspan><tspan x=\"929\" dy=\"-1.3em\">&#931;&#955; = 139645.0 m</tspan><tspan x=\"929\" dy=\"-1.3em\">(+0) [-1]: 11</tspan><tspan x=\"929\" dy=\"-1.3em\">&#954; = 7, T = 74</tspan></text></svg>"
      ],
      "text/plain": [
       "<optiwindnet.api.WindFarmNetwork at 0x1f6befcd280>"
      ]
     },
     "execution_count": 14,
     "metadata": {},
     "output_type": "execute_result"
    }
   ],
   "source": [
    "wfn_reg"
   ]
  },
  {
   "cell_type": "markdown",
   "id": "e7cf5795-3baf-4549-92ee-6a6462e01b36",
   "metadata": {},
   "source": [
    "## Irregular layout"
   ]
  },
  {
   "cell_type": "code",
   "execution_count": 15,
   "id": "54f3f31b-7b64-4e35-ade8-8308163cce57",
   "metadata": {},
   "outputs": [],
   "source": [
    "res_irr_warmup = wfn_irr.optimize(router=warmstart_router)"
   ]
  },
  {
   "cell_type": "markdown",
   "id": "6a4095a9-c2eb-4059-b2ee-fc08fa1b02e2",
   "metadata": {},
   "source": [
    "Check the total length of the warm-start solution:"
   ]
  },
  {
   "cell_type": "code",
   "execution_count": 16,
   "id": "5921f255-d4c5-4aa6-84d5-88fa9fd36df8",
   "metadata": {},
   "outputs": [
    {
     "data": {
      "text/plain": [
       "136472.2480500915"
      ]
     },
     "execution_count": 16,
     "metadata": {},
     "output_type": "execute_result"
    }
   ],
   "source": [
    "wfn_irr.length()"
   ]
  },
  {
   "cell_type": "markdown",
   "id": "adf7e5b9",
   "metadata": {},
   "source": [
    "### Optimize with main router"
   ]
  },
  {
   "cell_type": "code",
   "execution_count": 17,
   "id": "37694cbf-221d-491a-b720-2806c3d82952",
   "metadata": {},
   "outputs": [
    {
     "name": "stdout",
     "output_type": "stream",
     "text": [
      "Using warm start: the model is initialized with the provided solution S.\n",
      "\n",
      "\n",
      "Starting CP-SAT solver v9.14.6206\n",
      "Parameters: max_time_in_seconds: 5 log_search_progress: true relative_gap_limit: 0.005 num_workers: 8\n",
      "\n",
      "Initial optimization model '': (model_fingerprint: 0xdce7638cf32cc953)\n",
      "#Variables: 1'192 (#bools: 596 in floating point objective) (1'044 primary variables)\n",
      "  - 596 Booleans in [0,1]\n",
      "  - 522 in [0,6]\n",
      "  - 74 in [0,7]\n",
      "#kAtMostOne: 419 (#literals: 1'216)\n",
      "#kLinear1: 1'192 (#enforced: 1'192)\n",
      "#kLinear2: 4\n",
      "#kLinear3: 5\n",
      "#kLinearN: 216 (#terms: 2'957)\n",
      "\n",
      "Starting presolve at 0.00s\n",
      "The solution hint is complete and is feasible.\n",
      "[Scaling] Floating point objective has 596 terms with magnitude in [539.378, 15073.7] average = 3460.13\n",
      "[Scaling] Objective coefficient relative error: 4.51281e-10\n",
      "[Scaling] Objective worst-case absolute error: 7.28067e-05\n",
      "[Scaling] Objective scaling factor: 1.04858e+06\n",
      "  5.40e-04s  0.00e+00d  [DetectDominanceRelations] \n",
      "  1.02e-02s  0.00e+00d  [operations_research::sat::CpModelPresolver::PresolveToFixPoint] #num_loops=2 #num_dual_strengthening=1 \n",
      "  7.56e-05s  0.00e+00d  [operations_research::sat::CpModelPresolver::ExtractEncodingFromLinear] #potential_supersets=493 \n",
      "  3.88e-04s  0.00e+00d  [operations_research::sat::CpModelPresolver::DetectDuplicateColumns] \n",
      "  4.83e-04s  0.00e+00d  [operations_research::sat::CpModelPresolver::DetectDuplicateConstraints] \n",
      "[Symmetry] Graph for symmetry has 4'413 nodes and 8'226 arcs.\n",
      "[Symmetry] Symmetry computation done. time: 0.0007902 dtime: 0.00080437\n",
      "  5.54e-04s  0.00e+00d  [operations_research::sat::CpModelPresolver::DetectDuplicateConstraintsWithDifferentEnforcements] \n",
      "  1.11e-02s  2.33e-03d  [operations_research::sat::CpModelPresolver::Probe] #probed=1'192 \n",
      "  6.35e-04s  2.25e-04d  [MaxClique] Merged 419(1'216 literals) into 234(846 literals) at_most_ones. \n",
      "  4.79e-04s  0.00e+00d  [DetectDominanceRelations] \n",
      "  4.20e-03s  0.00e+00d  [operations_research::sat::CpModelPresolver::PresolveToFixPoint] #num_loops=1 #num_dual_strengthening=1 \n",
      "  5.14e-04s  0.00e+00d  [operations_research::sat::CpModelPresolver::ProcessAtMostOneAndLinear] \n",
      "  3.70e-04s  0.00e+00d  [operations_research::sat::CpModelPresolver::DetectDuplicateConstraints] \n",
      "  3.35e-04s  0.00e+00d  [operations_research::sat::CpModelPresolver::DetectDuplicateConstraintsWithDifferentEnforcements] \n",
      "  5.03e-04s  1.01e-05d  [operations_research::sat::CpModelPresolver::DetectDominatedLinearConstraints] #relevant_constraints=151 #num_inclusions=75 \n",
      "  4.50e-05s  0.00e+00d  [operations_research::sat::CpModelPresolver::DetectDifferentVariables] \n",
      "  5.72e-03s  1.92e-04d  [operations_research::sat::CpModelPresolver::ProcessSetPPC] #relevant_constraints=310 #num_inclusions=308 \n",
      "  7.45e-05s  2.00e-07d  [operations_research::sat::CpModelPresolver::FindAlmostIdenticalLinearConstraints] #num_tested_pairs=4 \n",
      "  5.37e-04s  1.84e-04d  [operations_research::sat::CpModelPresolver::FindBigAtMostOneAndLinearOverlap] \n",
      "  3.68e-04s  2.07e-04d  [operations_research::sat::CpModelPresolver::FindBigVerticalLinearOverlap] \n",
      "  6.15e-05s  8.71e-06d  [operations_research::sat::CpModelPresolver::FindBigHorizontalLinearOverlap] #linears=136 \n",
      "  2.99e-05s  0.00e+00d  [operations_research::sat::CpModelPresolver::MergeClauses] \n",
      "  4.75e-04s  0.00e+00d  [DetectDominanceRelations] \n",
      "  3.88e-03s  0.00e+00d  [operations_research::sat::CpModelPresolver::PresolveToFixPoint] #num_loops=1 #num_dual_strengthening=1 \n",
      "  4.41e-04s  0.00e+00d  [DetectDominanceRelations] \n",
      "  3.83e-03s  0.00e+00d  [operations_research::sat::CpModelPresolver::PresolveToFixPoint] #num_loops=1 #num_dual_strengthening=1 \n",
      "  2.25e-04s  0.00e+00d  [operations_research::sat::CpModelPresolver::DetectDuplicateColumns] \n",
      "  3.53e-04s  0.00e+00d  [operations_research::sat::CpModelPresolver::DetectDuplicateConstraints] \n",
      "[Symmetry] Graph for symmetry has 4'042 nodes and 6'890 arcs.\n",
      "[Symmetry] Symmetry computation done. time: 0.0006383 dtime: 0.00073496\n",
      "[SAT presolve] num removable Booleans: 0 / 596\n",
      "[SAT presolve] num trivial clauses: 0\n",
      "[SAT presolve] [0s] clauses:76 literals:152 vars:152 one_side_vars:152 simple_definition:0 singleton_clauses:0\n",
      "[SAT presolve] [4.89e-05s] clauses:76 literals:152 vars:152 one_side_vars:152 simple_definition:0 singleton_clauses:0\n",
      "[SAT presolve] [9.86e-05s] clauses:76 literals:152 vars:152 one_side_vars:152 simple_definition:0 singleton_clauses:0\n",
      "  3.79e-04s  0.00e+00d  [operations_research::sat::CpModelPresolver::DetectDuplicateConstraintsWithDifferentEnforcements] \n",
      "  9.82e-03s  2.15e-03d  [operations_research::sat::CpModelPresolver::Probe] #probed=1'192 \n",
      "  7.42e-04s  2.19e-04d  [MaxClique] \n",
      "  4.52e-04s  0.00e+00d  [DetectDominanceRelations] \n",
      "  3.84e-03s  0.00e+00d  [operations_research::sat::CpModelPresolver::PresolveToFixPoint] #num_loops=1 #num_dual_strengthening=1 \n",
      "  3.90e-04s  0.00e+00d  [operations_research::sat::CpModelPresolver::ProcessAtMostOneAndLinear] \n",
      "  3.45e-04s  0.00e+00d  [operations_research::sat::CpModelPresolver::DetectDuplicateConstraints] \n",
      "  3.20e-04s  0.00e+00d  [operations_research::sat::CpModelPresolver::DetectDuplicateConstraintsWithDifferentEnforcements] \n",
      "  3.83e-04s  7.55e-06d  [operations_research::sat::CpModelPresolver::DetectDominatedLinearConstraints] #relevant_constraints=150 #num_inclusions=74 \n",
      "  4.19e-05s  0.00e+00d  [operations_research::sat::CpModelPresolver::DetectDifferentVariables] \n",
      "  2.45e-04s  4.60e-06d  [operations_research::sat::CpModelPresolver::ProcessSetPPC] #relevant_constraints=309 \n",
      "  5.73e-05s  1.90e-07d  [operations_research::sat::CpModelPresolver::FindAlmostIdenticalLinearConstraints] #num_tested_pairs=2 \n",
      "  5.32e-04s  1.82e-04d  [operations_research::sat::CpModelPresolver::FindBigAtMostOneAndLinearOverlap] \n",
      "  4.00e-04s  2.07e-04d  [operations_research::sat::CpModelPresolver::FindBigVerticalLinearOverlap] \n",
      "  8.57e-05s  8.71e-06d  [operations_research::sat::CpModelPresolver::FindBigHorizontalLinearOverlap] #linears=136 \n",
      "  4.29e-05s  0.00e+00d  [operations_research::sat::CpModelPresolver::MergeClauses] \n",
      "  1.05e-03s  0.00e+00d  [DetectDominanceRelations] \n",
      "  7.76e-03s  0.00e+00d  [operations_research::sat::CpModelPresolver::PresolveToFixPoint] #num_loops=1 #num_dual_strengthening=1 \n",
      "  8.31e-04s  0.00e+00d  [operations_research::sat::CpModelPresolver::ExpandObjective] #entries=4'968 #tight_variables=596 #tight_constraints=74 \n",
      "\n",
      "Presolve summary:\n",
      "  - 0 affine relations were detected.\n",
      "  - rule 'TODO linear inclusion: superset is equality' was applied 149 times.\n",
      "  - rule 'at_most_one: transformed into max clique.' was applied 1 time.\n",
      "  - rule 'deductions: 1192 stored' was applied 1 time.\n",
      "  - rule 'exactly_one: simplified objective' was applied 74 times.\n",
      "  - rule 'linear: positive equal one' was applied 74 times.\n",
      "  - rule 'objective: shifted cost with exactly ones' was applied 74 times.\n",
      "  - rule 'presolve: 0 unused variables removed.' was applied 1 time.\n",
      "  - rule 'presolve: iteration' was applied 2 times.\n",
      "  - rule 'setppc: exactly_one included in linear' was applied 74 times.\n",
      "  - rule 'setppc: reduced linear coefficients' was applied 73 times.\n",
      "  - rule 'setppc: removed trivial linear constraint' was applied 1 time.\n",
      "  - rule 'variables: detect fully reified value encoding' was applied 596 times.\n",
      "  - rule 'variables: detect half reified value encoding' was applied 1'192 times.\n",
      "\n",
      "Presolved optimization model '': (model_fingerprint: 0xe724ee61a4757ecc)\n",
      "#Variables: 1'192 (#bools: 522 in objective) (1'044 primary variables)\n",
      "  - 596 Booleans in [0,1]\n",
      "  - 522 in [0,6]\n",
      "  - 74 in [0,7]\n",
      "#kAtMostOne: 158 (#literals: 694)\n",
      "#kBoolAnd: 76 (#enforced: 76) (#literals: 152)\n",
      "#kExactlyOne: 74 (#literals: 596)\n",
      "#kLinear1: 1'192 (#enforced: 1'192)\n",
      "#kLinear2: 4\n",
      "#kLinear3: 1\n",
      "#kLinearN: 145 (#terms: 1'777)\n",
      "[Symmetry] Graph for symmetry has 4'042 nodes and 6'890 arcs.\n",
      "[Symmetry] Symmetry computation done. time: 0.0005882 dtime: 0.00073413\n",
      "\n",
      "Preloading model.\n",
      "#Bound   0.09s best:inf   next:[93516.0522,1236251.99] initial_domain\n",
      "#1       0.09s best:136451.277 next:[93516.0522,136451.277] complete_hint\n",
      "#Model   0.09s var:1192/1192 constraints:1650/1650\n",
      "\n",
      "Starting search at 0.09s with 8 workers.\n",
      "6 full problem subsolvers: [core, default_lp, max_lp, no_lp, quick_restart, reduced_costs]\n",
      "2 first solution subsolvers: [fj, fs_random_no_lp]\n",
      "9 interleaved subsolvers: [feasibility_pump, graph_arc_lns, graph_cst_lns, graph_dec_lns, graph_var_lns, ls, rins/rens, rnd_cst_lns, rnd_var_lns]\n",
      "3 helper subsolvers: [neighborhood_helper, synchronization_agent, update_gap_integral]\n",
      "\n",
      "#Bound   0.12s best:136451.277 next:[95755.9972,136451.277] am1_presolve (num_literals=522 num_am1=19 increase=2348752631 work_done=1852)\n",
      "#2       0.12s best:136417.955 next:[95755.9972,136417.955] no_lp [hint] (fixed_bools=0/596)\n",
      "#Bound   0.15s best:136417.955 next:[106103.007,136417.955] reduced_costs\n",
      "#Bound   0.17s best:136417.955 next:[106404.863,136417.955] reduced_costs\n",
      "#3       0.17s best:135518.936 next:[106404.863,135518.936] graph_arc_lns (d=5.00e-01 s=9 t=0.10 p=0.00 stall=0 h=base)\n",
      "#Bound   0.18s best:135518.936 next:[127628.142,135518.936] max_lp\n",
      "#4       0.18s best:135485.613 next:[127628.142,135485.613] graph_arc_lns (d=5.00e-01 s=9 t=0.10 p=0.00 stall=0 h=base) [combined with: no_lp [hint]...]\n",
      "#5       0.25s best:135031.477 next:[127628.142,135031.477] rnd_cst_lns (d=7.07e-01 s=15 t=0.10 p=1.00 stall=1 h=base)\n",
      "#Bound   0.31s best:135031.477 next:[128569.256,135031.477] max_lp\n",
      "#Bound   0.59s best:135031.477 next:[129244.173,135031.477] max_lp\n",
      "#Bound   1.00s best:135031.477 next:[129611.049,135031.477] max_lp\n",
      "#6       1.25s best:134786.792 next:[129611.049,134786.792] rins_lp_lns (d=7.07e-01 s=23 t=0.10 p=1.00 stall=1 h=base)\n",
      "#Bound   1.45s best:134786.792 next:[129817.488,134786.792] max_lp\n",
      "#Model   1.78s var:1186/1192 constraints:1643/1650\n",
      "#Bound   2.56s best:134786.792 next:[130126.924,134786.792] max_lp\n",
      "#Model   3.28s var:1178/1192 constraints:1634/1650\n",
      "#Bound   3.54s best:134786.792 next:[130294.755,134786.792] max_lp\n",
      "#Model   3.68s var:1158/1192 constraints:1613/1650\n",
      "#Bound   4.44s best:134786.792 next:[130386.84,134786.792] max_lp\n",
      "\n",
      "Task timing                   n [     min,      max]      avg      dev     time         n [     min,      max]      avg      dev    dtime\n",
      "              'core':         1 [   4.90s,    4.90s]    4.90s   0.00ns    4.90s         1 [   1.00s,    1.00s]    1.00s   0.00ns    1.00s\n",
      "        'default_lp':         1 [   4.90s,    4.90s]    4.90s   0.00ns    4.90s         1 [120.23ms, 120.23ms] 120.23ms   0.00ns 120.23ms\n",
      "  'feasibility_pump':         2 [ 11.95ms,    1.56s] 785.88ms 773.93ms    1.57s         1 [362.47ms, 362.47ms] 362.47ms   0.00ns 362.47ms\n",
      "                'fj':         0 [  0.00ns,   0.00ns]   0.00ns   0.00ns   0.00ns         0 [  0.00ns,   0.00ns]   0.00ns   0.00ns   0.00ns\n",
      "   'fs_random_no_lp':         0 [  0.00ns,   0.00ns]   0.00ns   0.00ns   0.00ns         0 [  0.00ns,   0.00ns]   0.00ns   0.00ns   0.00ns\n",
      "     'graph_arc_lns':         2 [ 78.24ms, 785.15ms] 431.69ms 353.45ms 863.39ms         2 [  2.87ms, 100.00ms]  51.43ms  48.57ms 102.87ms\n",
      "     'graph_cst_lns':         4 [ 24.67ms, 517.63ms] 270.00ms 182.68ms    1.08s         4 [ 97.91us, 100.08ms]  40.74ms  40.43ms 162.98ms\n",
      "     'graph_dec_lns':         5 [  7.85ms, 589.02ms] 229.16ms 206.92ms    1.15s         5 [ 10.00ns, 100.24ms]  35.38ms  37.83ms 176.88ms\n",
      "     'graph_var_lns':         4 [  8.20ms, 583.27ms] 295.89ms 260.89ms    1.18s         4 [ 10.00ns, 100.06ms]  51.40ms  48.69ms 205.60ms\n",
      "                'ls':         3 [256.91ms, 301.80ms] 280.61ms  18.41ms 841.83ms         3 [100.01ms, 100.01ms] 100.01ms 523.75ns 300.02ms\n",
      "            'max_lp':         1 [   4.90s,    4.90s]    4.90s   0.00ns    4.90s         0 [  0.00ns,   0.00ns]   0.00ns   0.00ns   0.00ns\n",
      "             'no_lp':         1 [   4.90s,    4.90s]    4.90s   0.00ns    4.90s         1 [   1.01s,    1.01s]    1.01s   0.00ns    1.01s\n",
      "     'quick_restart':         1 [   4.88s,    4.88s]    4.88s   0.00ns    4.88s         1 [ 84.94ms,  84.94ms]  84.94ms   0.00ns  84.94ms\n",
      "     'reduced_costs':         1 [   4.91s,    4.91s]    4.91s   0.00ns    4.91s         1 [255.44ms, 255.44ms] 255.44ms   0.00ns 255.44ms\n",
      "         'rins/rens':         4 [  1.33ms, 674.83ms] 223.93ms 268.49ms 895.70ms         3 [156.16us, 100.05ms]  35.87ms  45.48ms 107.61ms\n",
      "       'rnd_cst_lns':         4 [ 15.19ms, 560.78ms] 257.47ms 233.27ms    1.03s         4 [201.00ns, 100.04ms]  31.22ms  40.80ms 124.87ms\n",
      "       'rnd_var_lns':         5 [ 13.12ms, 589.84ms] 225.29ms 237.91ms    1.13s         5 [ 71.00ns, 100.00ms]  36.30ms  44.70ms 181.50ms\n",
      "\n",
      "Search stats          Bools  Conflicts  Branches  Restarts  BoolPropag  IntegerPropag\n",
      "             'core':    615     32'165   107'096     4'193     534'273      1'556'039\n",
      "       'default_lp':    596         12     1'337     1'193       8'119         29'544\n",
      "  'fs_random_no_lp':      0          0         0         0           0              0\n",
      "           'max_lp':    596          0     1'192     1'192       7'268         24'805\n",
      "            'no_lp':    596     23'216    37'737     4'873   1'197'567      4'024'331\n",
      "    'quick_restart':    596         10     1'315     1'193       7'917         28'487\n",
      "    'reduced_costs':    596         51     1'666     1'194       9'429         41'028\n",
      "\n",
      "SAT stats             ClassicMinim  LitRemoved  LitLearned  LitForgotten  Subsumed  MClauses  MDecisions  MLitTrue  MSubsumed  MLitRemoved  MReused\n",
      "             'core':        29'497     331'632   2'002'363     1'343'787       456       792       7'427         0         84        1'500      163\n",
      "       'default_lp':            12         756       1'583             0         0         0           0         0          0            0        0\n",
      "  'fs_random_no_lp':             0           0           0             0         0         0           0         0          0            0        0\n",
      "           'max_lp':             0           0           0             0         0         0           0         0          0            0        0\n",
      "            'no_lp':        22'422     164'137   1'824'611       945'487       337       582       4'952         0         27          399      105\n",
      "    'quick_restart':             9         585       1'348             0         0         0           0         0          0            0        0\n",
      "    'reduced_costs':            50       1'118       5'115             0         0         0           0         0          0            0        0\n",
      "\n",
      "Lp stats            Component  Iterations  AddedCuts  OPTIMAL  DUAL_F.  DUAL_U.\n",
      "     'default_lp':          1       4'151      3'021      176        0        0\n",
      "         'max_lp':          1       1'450      1'724       17        0        0\n",
      "  'quick_restart':          1       4'083      2'748      167        0        1\n",
      "  'reduced_costs':          1       6'377      2'415      231       46        6\n",
      "\n",
      "Lp dimension            Final dimension of first component\n",
      "     'default_lp':  1431 rows, 1119 columns, 13119 entries\n",
      "         'max_lp':  2544 rows, 1192 columns, 18084 entries\n",
      "  'quick_restart':  1356 rows, 1119 columns, 12659 entries\n",
      "  'reduced_costs':  1469 rows, 1192 columns, 12570 entries\n",
      "\n",
      "Lp debug            CutPropag  CutEqPropag  Adjust  Overflow     Bad  BadScaling\n",
      "     'default_lp':          0            0     171         0  14'818           0\n",
      "         'max_lp':          2            0      17         0  21'394           0\n",
      "  'quick_restart':          0            0     163         0  10'380           0\n",
      "  'reduced_costs':          0            0     266         0  11'269           0\n",
      "\n",
      "Lp pool             Constraints  Updates  Simplif  Merged  Shortened  Split  Strenghtened    Cuts/Call\n",
      "     'default_lp':        4'972      106      690       0        620     20           109  3'021/5'867\n",
      "         'max_lp':        3'970      235    1'478       0      1'292     81            24  1'724/3'325\n",
      "  'quick_restart':        4'699       78      626       0        503     23           107  2'748/5'201\n",
      "  'reduced_costs':        4'661      124      871       0        814     22           111  2'415/4'188\n",
      "\n",
      "Lp Cut            quick_restart  default_lp  max_lp  reduced_costs\n",
      "          CG_FF:             28          25       6             20\n",
      "           CG_K:              8          14       5             13\n",
      "          CG_KL:              3           -       -              1\n",
      "           CG_R:             44          32      23             24\n",
      "          CG_RB:             76          74      46             75\n",
      "         CG_RBP:             38          39      19             24\n",
      "             IB:            556         523       -            550\n",
      "       MIR_1_FF:            120         155      64             64\n",
      "        MIR_1_K:             46          51       3             13\n",
      "       MIR_1_KL:             23          21       1              7\n",
      "        MIR_1_R:              -           7       5              2\n",
      "       MIR_1_RB:             59         103      47             39\n",
      "      MIR_1_RBP:             56          73       7             23\n",
      "      MIR_1_RLT:              -           -       -              3\n",
      "       MIR_2_FF:            162         174      87            116\n",
      "        MIR_2_K:             64          61       6             13\n",
      "       MIR_2_KL:             17          21       3              6\n",
      "        MIR_2_R:             11           8      14             13\n",
      "       MIR_2_RB:            110         134      98            139\n",
      "      MIR_2_RBP:             73          86      21             31\n",
      "       MIR_3_FF:            122         120     107            130\n",
      "        MIR_3_K:             66          62      17             26\n",
      "       MIR_3_KL:             11           9       3              6\n",
      "        MIR_3_R:              8           5      17             12\n",
      "       MIR_3_RB:            100         106     138            140\n",
      "      MIR_3_RBP:             66          65      41             59\n",
      "       MIR_4_FF:             72          81      94             99\n",
      "        MIR_4_K:             64          54      37             21\n",
      "       MIR_4_KL:              5           7       3              4\n",
      "        MIR_4_R:              5           5      12             12\n",
      "       MIR_4_RB:             54          68      90            106\n",
      "      MIR_4_RBP:             64          73      50             16\n",
      "       MIR_5_FF:             38          54      47             56\n",
      "        MIR_5_K:             42          59      27             17\n",
      "       MIR_5_KL:             15          18      12             12\n",
      "        MIR_5_R:              3           2      12              6\n",
      "       MIR_5_RB:             41          27      55             54\n",
      "      MIR_5_RBP:             46          68      45             19\n",
      "       MIR_6_FF:             25          48      29             36\n",
      "        MIR_6_K:             27          50      43             14\n",
      "       MIR_6_KL:             14          22      22             21\n",
      "        MIR_6_R:              -           2       8              1\n",
      "       MIR_6_RB:             15          19      29             33\n",
      "      MIR_6_RBP:             34          54      64             22\n",
      "   ZERO_HALF_FF:             32          29      15             29\n",
      "    ZERO_HALF_K:             11           9       1              4\n",
      "   ZERO_HALF_KL:              3           1       2              -\n",
      "    ZERO_HALF_R:            219         222     210            240\n",
      "   ZERO_HALF_RB:             33          58      28             36\n",
      "  ZERO_HALF_RBP:             19          23      11              8\n",
      "\n",
      "LNS stats           Improv/Calls  Closed  Difficulty  TimeLimit\n",
      "  'graph_arc_lns':           1/2     50%    5.38e-01       0.10\n",
      "  'graph_cst_lns':           0/4     50%    5.97e-01       0.10\n",
      "  'graph_dec_lns':           0/5     80%    8.80e-01       0.10\n",
      "  'graph_var_lns':           0/4     50%    5.97e-01       0.10\n",
      "      'rins/rens':           2/3     67%    7.21e-01       0.10\n",
      "    'rnd_cst_lns':           1/4     75%    8.21e-01       0.10\n",
      "    'rnd_var_lns':           0/5     60%    7.48e-01       0.10\n",
      "\n",
      "LS stats                          Batches  Restarts/Perturbs  LinMoves  GenMoves  CompoundMoves  Bactracks  WeightUpdates  ScoreComputed\n",
      "  'ls_restart_compound_perturb':        1                  1         0    20'908          1'317      9'795            158        463'537\n",
      "             'ls_restart_decay':        2                  2    36'594         0              0          0            785        774'761\n",
      "\n",
      "Solutions (6)       Num   Rank\n",
      "  'complete_hint':    1  [1,1]\n",
      "  'graph_arc_lns':    2  [3,4]\n",
      "          'no_lp':    1  [2,2]\n",
      "    'rins_lp_lns':    1  [6,6]\n",
      "    'rnd_cst_lns':    1  [5,5]\n",
      "\n",
      "Objective bounds     Num\n",
      "    'am1_presolve':    1\n",
      "  'initial_domain':    1\n",
      "          'max_lp':    8\n",
      "   'reduced_costs':    2\n",
      "\n",
      "Solution repositories    Added  Queried  Synchro\n",
      "  'feasible solutions':      6       61        6\n",
      "   'fj solution hints':      0        0        0\n",
      "        'lp solutions':      4        4        4\n",
      "                'pump':      0        0\n",
      "\n",
      "Improving bounds shared    Num  Sym\n",
      "            'default_lp':   16    0\n",
      "                'max_lp':   22    0\n",
      "         'reduced_costs':    2    0\n",
      "\n",
      "Clauses shared    Num\n",
      "         'core':    7\n",
      "\n",
      "[Scaling] scaled_objective_bound: 130387 corrected_bound: 130387 delta: -3.52971e-07\n",
      "CpSolverResponse summary:\n",
      "status: FEASIBLE\n",
      "objective: 134786.7922581253\n",
      "best_bound: 130386.8398803426\n",
      "integers: 0\n",
      "booleans: 0\n",
      "conflicts: 0\n",
      "branches: 0\n",
      "propagations: 0\n",
      "integer_propagations: 0\n",
      "restarts: 0\n",
      "lp_iterations: 0\n",
      "walltime: 5.04705\n",
      "usertime: 5.04705\n",
      "deterministic_time: 4.20144\n",
      "gap_integral: 35.365\n",
      "solution_fingerprint: 0x8de4169e43eb94c3\n",
      "\n"
     ]
    }
   ],
   "source": [
    "res_irr = wfn_irr.optimize(router=milp_router)"
   ]
  },
  {
   "cell_type": "code",
   "execution_count": 18,
   "id": "edf07b4b",
   "metadata": {},
   "outputs": [
    {
     "data": {
      "text/plain": [
       "134807.7634895362"
      ]
     },
     "execution_count": 18,
     "metadata": {},
     "output_type": "execute_result"
    }
   ],
   "source": [
    "wfn_irr.length()"
   ]
  },
  {
   "cell_type": "code",
   "execution_count": 19,
   "id": "4dec60b8-7de5-4eed-a541-6278b9902b24",
   "metadata": {},
   "outputs": [
    {
     "data": {
      "text/plain": [
       "247033944.13135293"
      ]
     },
     "execution_count": 19,
     "metadata": {},
     "output_type": "execute_result"
    }
   ],
   "source": [
    "wfn_irr.cost()"
   ]
  },
  {
   "cell_type": "code",
   "execution_count": 20,
   "id": "25ecb09f",
   "metadata": {},
   "outputs": [
    {
     "data": {
      "image/svg+xml": [
       "<svg xmlns=\"http://www.w3.org/2000/svg\" viewBox=\"0 0 1920 1080\"><defs><circle stroke=\"orange\" stroke-opacity=\"0.3\" stroke-width=\"4\" id=\"dt\" r=\"23\" fill=\"none\"/><circle stroke=\"none\" stroke-width=\"2\" id=\"wtg\" r=\"12\"/><rect stroke=\"#111\" stroke-width=\"2\" id=\"oss\" width=\"21\" height=\"21\" fill=\"lawngreen\"/><filter x=\"-5%\" y=\"-5%\" id=\"bg_textbox\" width=\"110%\" height=\"110%\"><feFlood flood-opacity=\"0.6\" flood-color=\"black\" result=\"bg\"/><feMerge><feMergeNode in=\"bg\"/><feMergeNode in=\"SourceGraphic\"/></feMerge></filter></defs><g id=\"iea37_bors_irr\"><path stroke=\"silver\" stroke-dasharray=\"15 7\" stroke-width=\"2\" id=\"border\" d=\"M30 269 785 30 652 298 929 427 839 1050 256 484z\" fill-rule=\"evenodd\" fill=\"#111\"/><g stroke=\"crimson\" stroke-width=\"4\" id=\"edges_unspecified\"><line x1=\"839\" y1=\"1050\" x2=\"807\" y2=\"1019\"/><line x1=\"759\" y1=\"972\" x2=\"807\" y2=\"1019\"/><line x1=\"491\" y1=\"712\" x2=\"536\" y2=\"755\"/><line x1=\"582\" y1=\"800\" x2=\"536\" y2=\"755\"/><line x1=\"917\" y1=\"510\" x2=\"923\" y2=\"468\"/><line x1=\"917\" y1=\"510\" x2=\"911\" y2=\"550\"/><line x1=\"923\" y1=\"468\" x2=\"929\" y2=\"427\"/><line x1=\"878\" y1=\"776\" x2=\"885\" y2=\"727\"/><line x1=\"878\" y1=\"776\" x2=\"871\" y2=\"828\"/><line x1=\"885\" y1=\"727\" x2=\"892\" y2=\"680\"/><line x1=\"628\" y1=\"845\" x2=\"582\" y2=\"800\"/><line x1=\"582\" y1=\"800\" x2=\"648\" y2=\"717\"/><line x1=\"74\" y1=\"310\" x2=\"49\" y2=\"287\"/><line x1=\"74\" y1=\"310\" x2=\"103\" y2=\"338\"/><line x1=\"132\" y1=\"366\" x2=\"103\" y2=\"338\"/><line x1=\"333\" y1=\"559\" x2=\"371\" y2=\"595\"/><line x1=\"371\" y1=\"595\" x2=\"409\" y2=\"632\"/><line x1=\"886\" y1=\"407\" x2=\"929\" y2=\"427\"/><line x1=\"150\" y1=\"232\" x2=\"220\" y2=\"209\"/><line x1=\"286\" y1=\"189\" x2=\"220\" y2=\"209\"/><line x1=\"404\" y1=\"151\" x2=\"459\" y2=\"134\"/><line x1=\"459\" y1=\"134\" x2=\"508\" y2=\"118\"/><line x1=\"765\" y1=\"534\" x2=\"892\" y2=\"680\"/><line x1=\"163\" y1=\"396\" x2=\"195\" y2=\"426\"/><line x1=\"195\" y1=\"426\" x2=\"229\" y2=\"458\"/><line x1=\"132\" y1=\"366\" x2=\"279\" y2=\"294\"/><line x1=\"279\" y1=\"294\" x2=\"344\" y2=\"359\"/><line x1=\"347\" y1=\"169\" x2=\"421\" y2=\"258\"/><line x1=\"347\" y1=\"169\" x2=\"286\" y2=\"189\"/><line x1=\"421\" y1=\"258\" x2=\"481\" y2=\"327\"/><line x1=\"508\" y1=\"118\" x2=\"557\" y2=\"242\"/><line x1=\"556\" y1=\"103\" x2=\"508\" y2=\"118\"/><line x1=\"648\" y1=\"717\" x2=\"678\" y2=\"611\"/><line x1=\"675\" y1=\"890\" x2=\"732\" y2=\"921\"/><line x1=\"675\" y1=\"890\" x2=\"739\" y2=\"794\"/><line x1=\"739\" y1=\"794\" x2=\"752\" y2=\"671\"/><line x1=\"898\" y1=\"635\" x2=\"905\" y2=\"592\"/><line x1=\"911\" y1=\"550\" x2=\"905\" y2=\"592\"/><line x1=\"229\" y1=\"458\" x2=\"262\" y2=\"490\"/><line x1=\"605\" y1=\"88\" x2=\"556\" y2=\"103\"/><line x1=\"605\" y1=\"88\" x2=\"653\" y2=\"72\"/><line x1=\"569\" y1=\"369\" x2=\"481\" y2=\"327\"/><line x1=\"297\" y1=\"523\" x2=\"411\" y2=\"427\"/><line x1=\"297\" y1=\"523\" x2=\"262\" y2=\"490\"/><line x1=\"481\" y1=\"479\" x2=\"411\" y2=\"427\"/><line x1=\"409\" y1=\"632\" x2=\"449\" y2=\"672\"/><line x1=\"449\" y1=\"672\" x2=\"574\" y2=\"616\"/><line x1=\"674\" y1=\"491\" x2=\"678\" y2=\"611\"/><line x1=\"765\" y1=\"351\" x2=\"711\" y2=\"326\"/><line x1=\"765\" y1=\"351\" x2=\"807\" y2=\"370\"/><line x1=\"666\" y1=\"357\" x2=\"711\" y2=\"326\"/><line x1=\"704\" y1=\"56\" x2=\"753\" y2=\"40\"/><line x1=\"755\" y1=\"90\" x2=\"753\" y2=\"40\"/><line x1=\"785\" y1=\"30\" x2=\"753\" y2=\"40\"/><line x1=\"755\" y1=\"90\" x2=\"727\" y2=\"146\"/><line x1=\"727\" y1=\"146\" x2=\"700\" y2=\"200\"/><line x1=\"666\" y1=\"357\" x2=\"557\" y2=\"242\"/><line x1=\"700\" y1=\"200\" x2=\"666\" y2=\"269\"/><line x1=\"533\" y1=\"549\" x2=\"574\" y2=\"616\"/><line x1=\"666\" y1=\"357\" x2=\"752\" y2=\"671\"/><line x1=\"871\" y1=\"828\" x2=\"863\" y2=\"885\"/><line x1=\"49\" y1=\"287\" x2=\"30\" y2=\"269\"/><line x1=\"863\" y1=\"885\" x2=\"853\" y2=\"954\"/><line x1=\"732\" y1=\"921\" x2=\"759\" y2=\"972\"/><line x1=\"666\" y1=\"357\" x2=\"886\" y2=\"407\"/><line x1=\"666\" y1=\"357\" x2=\"569\" y2=\"369\"/><line x1=\"666\" y1=\"357\" x2=\"765\" y2=\"534\"/><line x1=\"611\" y1=\"432\" x2=\"533\" y2=\"549\"/><line x1=\"666\" y1=\"357\" x2=\"611\" y2=\"432\"/><line x1=\"807\" y1=\"370\" x2=\"846\" y2=\"388\"/><line x1=\"666\" y1=\"357\" x2=\"674\" y2=\"491\"/><line x1=\"666\" y1=\"357\" x2=\"481\" y2=\"479\"/></g><g stroke=\"darkorange\" stroke-dasharray=\"18 15\" stroke-width=\"4\" id=\"detours\" fill=\"none\"><polyline points=\"666 357 569 369 344 359\"/><polyline points=\"666 357 652 298 666 269\"/></g><g id=\"DTgrp\"><use href=\"#dt\" x=\"569\" y=\"369\"/><use href=\"#dt\" x=\"652\" y=\"298\"/></g><g id=\"WTGgrp\"><g fill=\"#9467bd\"><use href=\"#wtg\" x=\"839\" y=\"1050\"/><use href=\"#wtg\" x=\"807\" y=\"1019\"/><use href=\"#wtg\" x=\"675\" y=\"890\"/><use href=\"#wtg\" x=\"739\" y=\"794\"/><use href=\"#wtg\" x=\"752\" y=\"671\"/><use href=\"#wtg\" x=\"732\" y=\"921\"/><use href=\"#wtg\" x=\"759\" y=\"972\"/></g><g fill=\"#2ca02c\"><use href=\"#wtg\" x=\"491\" y=\"712\"/><use href=\"#wtg\" x=\"536\" y=\"755\"/><use href=\"#wtg\" x=\"628\" y=\"845\"/><use href=\"#wtg\" x=\"582\" y=\"800\"/><use href=\"#wtg\" x=\"648\" y=\"717\"/><use href=\"#wtg\" x=\"678\" y=\"611\"/><use href=\"#wtg\" x=\"674\" y=\"491\"/></g><g fill=\"#1f77b4\"><use href=\"#wtg\" x=\"917\" y=\"510\"/><use href=\"#wtg\" x=\"923\" y=\"468\"/><use href=\"#wtg\" x=\"929\" y=\"427\"/><use href=\"#wtg\" x=\"898\" y=\"635\"/><use href=\"#wtg\" x=\"905\" y=\"592\"/><use href=\"#wtg\" x=\"911\" y=\"550\"/><use href=\"#wtg\" x=\"886\" y=\"407\"/></g><g fill=\"#ff7f0e\"><use href=\"#wtg\" x=\"878\" y=\"776\"/><use href=\"#wtg\" x=\"885\" y=\"727\"/><use href=\"#wtg\" x=\"892\" y=\"680\"/><use href=\"#wtg\" x=\"871\" y=\"828\"/><use href=\"#wtg\" x=\"863\" y=\"885\"/><use href=\"#wtg\" x=\"853\" y=\"954\"/><use href=\"#wtg\" x=\"765\" y=\"534\"/></g><g fill=\"#8c564b\"><use href=\"#wtg\" x=\"74\" y=\"310\"/><use href=\"#wtg\" x=\"103\" y=\"338\"/><use href=\"#wtg\" x=\"132\" y=\"366\"/><use href=\"#wtg\" x=\"279\" y=\"294\"/><use href=\"#wtg\" x=\"344\" y=\"359\"/><use href=\"#wtg\" x=\"49\" y=\"287\"/><use href=\"#wtg\" x=\"30\" y=\"269\"/></g><g fill=\"#ffbb78\"><use href=\"#wtg\" x=\"333\" y=\"559\"/><use href=\"#wtg\" x=\"371\" y=\"595\"/><use href=\"#wtg\" x=\"409\" y=\"632\"/><use href=\"#wtg\" x=\"449\" y=\"672\"/><use href=\"#wtg\" x=\"574\" y=\"616\"/><use href=\"#wtg\" x=\"533\" y=\"549\"/><use href=\"#wtg\" x=\"611\" y=\"432\"/></g><g fill=\"#aec7e8\"><use href=\"#wtg\" x=\"150\" y=\"232\"/><use href=\"#wtg\" x=\"220\" y=\"209\"/><use href=\"#wtg\" x=\"347\" y=\"169\"/><use href=\"#wtg\" x=\"421\" y=\"258\"/><use href=\"#wtg\" x=\"481\" y=\"327\"/><use href=\"#wtg\" x=\"286\" y=\"189\"/><use href=\"#wtg\" x=\"569\" y=\"369\"/></g><g fill=\"#ff9896\"><use href=\"#wtg\" x=\"404\" y=\"151\"/><use href=\"#wtg\" x=\"459\" y=\"134\"/><use href=\"#wtg\" x=\"508\" y=\"118\"/><use href=\"#wtg\" x=\"605\" y=\"88\"/><use href=\"#wtg\" x=\"556\" y=\"103\"/><use href=\"#wtg\" x=\"557\" y=\"242\"/><use href=\"#wtg\" x=\"653\" y=\"72\"/></g><g fill=\"#98df8a\"><use href=\"#wtg\" x=\"163\" y=\"396\"/><use href=\"#wtg\" x=\"195\" y=\"426\"/><use href=\"#wtg\" x=\"229\" y=\"458\"/><use href=\"#wtg\" x=\"297\" y=\"523\"/><use href=\"#wtg\" x=\"411\" y=\"427\"/><use href=\"#wtg\" x=\"262\" y=\"490\"/><use href=\"#wtg\" x=\"481\" y=\"479\"/></g><g fill=\"#d62728\"><use href=\"#wtg\" x=\"765\" y=\"351\"/><use href=\"#wtg\" x=\"711\" y=\"326\"/><use href=\"#wtg\" x=\"807\" y=\"370\"/><use href=\"#wtg\" x=\"846\" y=\"388\"/></g><g fill=\"#c5b0d5\"><use href=\"#wtg\" x=\"704\" y=\"56\"/><use href=\"#wtg\" x=\"753\" y=\"40\"/><use href=\"#wtg\" x=\"785\" y=\"30\"/><use href=\"#wtg\" x=\"755\" y=\"90\"/><use href=\"#wtg\" x=\"727\" y=\"146\"/><use href=\"#wtg\" x=\"700\" y=\"200\"/><use href=\"#wtg\" x=\"666\" y=\"269\"/></g></g><g id=\"OSSgrp\"><use href=\"#oss\" x=\"655.5\" y=\"346.5\"/></g></g><text filter=\"url(#bg_textbox)\" text-anchor=\"end\" font-family=\"sans-serif\" font-size=\"40\" fill=\"white\" x=\"929\" y=\"1050\"><tspan x=\"929\" dy=\"-0.0em\">247033944 &#8364;</tspan><tspan x=\"929\" dy=\"-1.3em\">&#931;&#955; = 134808.0 m</tspan><tspan x=\"929\" dy=\"-1.3em\">(+0) [-1]: 11</tspan><tspan x=\"929\" dy=\"-1.3em\">&#954; = 7, T = 74</tspan></text></svg>"
      ],
      "text/plain": [
       "<optiwindnet.api.WindFarmNetwork at 0x1f6d1b24440>"
      ]
     },
     "execution_count": 20,
     "metadata": {},
     "output_type": "execute_result"
    }
   ],
   "source": [
    "wfn_irr"
   ]
  },
  {
   "cell_type": "markdown",
   "id": "056732ea-9778-4405-949d-08c4f817ce09",
   "metadata": {},
   "source": [
    "## Layouts' edge list"
   ]
  },
  {
   "cell_type": "markdown",
   "id": "b8450a23-c8d4-4091-af5f-b8f547407f52",
   "metadata": {},
   "source": [
    "These lists of 3-tuples has all the edges and their cable type (as an index to the `turbines_per_cable` list), i.e. (coordinate_A, coordinate_B, cable_type).\n",
    "\n",
    "Negative node indices represent substations, the node indices ranging from 0 to 73 represent the WT in the order they were given.\n",
    "\n",
    "If the layout has contours or detours, indices will go beyond the number of coordinates (WT, SS, borders) provided, and the mapping of these additional indices to indices to the provided coordinates is presented."
   ]
  },
  {
   "cell_type": "code",
   "execution_count": 21,
   "id": "7809e3c9",
   "metadata": {},
   "outputs": [
    {
     "data": {
      "text/plain": [
       "EdgeDataView([(0, 1, 0), (1, 4, 0), (4, 5, 1), (2, 3, 0), (3, 8, 0), (8, 14, 1), (5, 9, 1), (9, 15, 1), (6, 7, 0), (7, 12, 0), (12, 13, 1), (14, 22, 1), (15, 24, 2), (10, 11, 0), (11, 16, 0), (16, 17, 1), (13, 20, 1), (20, 21, 1), (22, 23, 1), (24, -1, 2), (17, 26, 1), (26, 25, 1), (18, 19, 0), (19, 28, 0), (28, 27, 1), (21, 32, 2), (32, -1, 2), (23, 33, 2), (33, -1, 2), (25, 34, 2), (34, -1, 2), (27, 36, 1), (36, 35, 1), (29, 38, 0), (29, 40, 0), (38, 37, 1), (30, 31, 0), (31, 44, 1), (31, 42, 0), (44, 45, 1), (44, 43, 0), (35, 46, 2), (46, -1, 2), (37, 48, 1), (48, 47, 1), (39, 50, 1), (39, 52, 1), (50, 49, 2), (41, 52, 1), (41, 54, 0), (45, -1, 2), (51, 62, 1), (51, 60, 1), (60, 59, 1), (53, 62, 0), (53, 64, 0), (61, 70, 0), (61, 69, 1), (69, 68, 1), (63, 70, 0), (54, 55, 0), (47, -1, 2), (49, -1, 2), (65, 66, 1), (65, 80, 1), (56, -1, 2), (56, 80, 1), (67, 68, 1), (67, 57, 2), (57, -1, 2), (59, 58, 2), (58, -1, 2), (66, 71, 0), (66, 73, 0), (71, 72, 0)])"
      ]
     },
     "execution_count": 21,
     "metadata": {},
     "output_type": "execute_result"
    }
   ],
   "source": [
    "wfn_reg.G.edges(data='cable')"
   ]
  },
  {
   "cell_type": "markdown",
   "id": "0e35581d",
   "metadata": {},
   "source": [
    "Alternatively we can use `get_network()` method, to get the final cabling network as a structured array of edge data, and then extract desired edge data from it."
   ]
  },
  {
   "cell_type": "markdown",
   "id": "ff55bd2f",
   "metadata": {},
   "source": [
    "### Regular layout"
   ]
  },
  {
   "cell_type": "code",
   "execution_count": 22,
   "id": "9d1c6b70",
   "metadata": {},
   "outputs": [
    {
     "name": "stdout",
     "output_type": "stream",
     "text": [
      "('src', 'tgt', 'length', 'load', 'reverse', 'cable', 'cost')\n"
     ]
    }
   ],
   "source": [
    "network_reg = wfn_reg.get_network()\n",
    "print(network_reg.dtype.names)"
   ]
  },
  {
   "cell_type": "code",
   "execution_count": 23,
   "id": "c09d6db6",
   "metadata": {},
   "outputs": [
    {
     "name": "stdout",
     "output_type": "stream",
     "text": [
      "[[ 0  1  0]\n",
      " [ 1  4  0]\n",
      " [ 4  5  1]\n",
      " [ 2  3  0]\n",
      " [ 3  8  0]\n",
      " [ 8 14  1]\n",
      " [ 5  9  1]\n",
      " [ 9 15  1]\n",
      " [ 6  7  0]\n",
      " [ 7 12  0]\n",
      " [12 13  1]\n",
      " [14 22  1]\n",
      " [15 24  2]\n",
      " [10 11  0]\n",
      " [11 16  0]\n",
      " [16 17  1]\n",
      " [13 20  1]\n",
      " [20 21  1]\n",
      " [22 23  1]\n",
      " [24 -1  2]\n",
      " [17 26  1]\n",
      " [26 25  1]\n",
      " [18 19  0]\n",
      " [19 28  0]\n",
      " [28 27  1]\n",
      " [21 32  2]\n",
      " [32 -1  2]\n",
      " [23 33  2]\n",
      " [33 -1  2]\n",
      " [25 34  2]\n",
      " [34 -1  2]\n",
      " [27 36  1]\n",
      " [36 35  1]\n",
      " [29 38  0]\n",
      " [29 40  0]\n",
      " [38 37  1]\n",
      " [30 31  0]\n",
      " [31 44  1]\n",
      " [31 42  0]\n",
      " [44 45  1]\n",
      " [44 43  0]\n",
      " [35 46  2]\n",
      " [46 -1  2]\n",
      " [37 48  1]\n",
      " [48 47  1]\n",
      " [39 50  1]\n",
      " [39 52  1]\n",
      " [50 49  2]\n",
      " [41 52  1]\n",
      " [41 54  0]\n",
      " [45 -1  2]\n",
      " [51 62  1]\n",
      " [51 60  1]\n",
      " [60 59  1]\n",
      " [53 62  0]\n",
      " [53 64  0]\n",
      " [61 70  0]\n",
      " [61 69  1]\n",
      " [69 68  1]\n",
      " [63 70  0]\n",
      " [54 55  0]\n",
      " [47 -1  2]\n",
      " [49 -1  2]\n",
      " [65 66  1]\n",
      " [65 80  1]\n",
      " [56 -1  2]\n",
      " [56 80  1]\n",
      " [67 68  1]\n",
      " [67 57  2]\n",
      " [57 -1  2]\n",
      " [59 58  2]\n",
      " [58 -1  2]\n",
      " [66 71  0]\n",
      " [66 73  0]\n",
      " [71 72  0]]\n"
     ]
    }
   ],
   "source": [
    "network_cable_reg = np.column_stack((network_reg['src'], network_reg['tgt'], network_reg['cable']))\n",
    "print(network_cable_reg)\n"
   ]
  },
  {
   "cell_type": "markdown",
   "id": "3adb5fd5",
   "metadata": {},
   "source": [
    "### Irregular layout"
   ]
  },
  {
   "cell_type": "code",
   "execution_count": 24,
   "id": "6574b182-8a8a-488e-a82d-9353d347b634",
   "metadata": {},
   "outputs": [
    {
     "name": "stdout",
     "output_type": "stream",
     "text": [
      "[[ 0 50  0]\n",
      " [50 46  0]\n",
      " [ 1 34  0]\n",
      " [34 20  0]\n",
      " [ 2  8  1]\n",
      " [ 2  7  1]\n",
      " [ 8 42  1]\n",
      " [ 3 12  1]\n",
      " [ 3 15  1]\n",
      " [12 45  1]\n",
      " [ 4 20  0]\n",
      " [20 37  1]\n",
      " [ 5  9  0]\n",
      " [ 5 32  1]\n",
      " [32 14  1]\n",
      " [ 6 35  0]\n",
      " [35 36  0]\n",
      " [42 25  2]\n",
      " [10 24  0]\n",
      " [24 17  0]\n",
      " [11 18  0]\n",
      " [18 59  0]\n",
      " [45 33  2]\n",
      " [13 26  0]\n",
      " [26 31  0]\n",
      " [14 68  1]\n",
      " [68 73  2]\n",
      " [16 29  1]\n",
      " [16 17  1]\n",
      " [29 53  1]\n",
      " [59 60  2]\n",
      " [59 52  1]\n",
      " [37 51  1]\n",
      " [22 44  1]\n",
      " [22 67  1]\n",
      " [67 70  2]\n",
      " [23 43  0]\n",
      " [43  7  0]\n",
      " [31 56  1]\n",
      " [27 52  0]\n",
      " [27 38  0]\n",
      " [53 28  2]\n",
      " [30 54  1]\n",
      " [30 56  1]\n",
      " [54 49  2]\n",
      " [36 62  1]\n",
      " [62 69  1]\n",
      " [51 41  2]\n",
      " [40 55  1]\n",
      " [40 57  0]\n",
      " [55 -1  1]\n",
      " [47 65  0]\n",
      " [65 58  1]\n",
      " [65 48  0]\n",
      " [58 61  1]\n",
      " [61 64  1]\n",
      " [60 -1  2]\n",
      " [64 71  2]\n",
      " [69 63  1]\n",
      " [71 81  2]\n",
      " [70 -1  2]\n",
      " [73 80  2]\n",
      " [15 21  0]\n",
      " [ 9 19  0]\n",
      " [21 66  0]\n",
      " [44 46  1]\n",
      " [25 -1  2]\n",
      " [28 -1  2]\n",
      " [33 -1  2]\n",
      " [63 39  2]\n",
      " [39 -1  2]\n",
      " [57 72  0]\n",
      " [41 -1  2]\n",
      " [49 -1  2]\n",
      " [-1 80  2]\n",
      " [-1 81  2]]\n"
     ]
    }
   ],
   "source": [
    "network_irr = wfn_irr.get_network()\n",
    "network_cable_irr = np.column_stack((network_irr['src'], network_irr['tgt'], network_irr['cable']))\n",
    "print(network_cable_irr)"
   ]
  },
  {
   "cell_type": "markdown",
   "id": "bca688ed",
   "metadata": {},
   "source": [
    "## Mapping of contour/detour"
   ]
  },
  {
   "cell_type": "markdown",
   "id": "8894a308-87ef-411d-b0a3-04cae5a8431d",
   "metadata": {},
   "source": [
    "Mapping of contour/detour node to the index of its VertexC coordinate :"
   ]
  },
  {
   "cell_type": "code",
   "execution_count": 25,
   "id": "810eeab3-dc37-4cc6-bc91-dd407142a5e6",
   "metadata": {},
   "outputs": [
    {
     "data": {
      "text/plain": [
       "{80: 76}"
      ]
     },
     "execution_count": 25,
     "metadata": {},
     "output_type": "execute_result"
    }
   ],
   "source": [
    "wfn_reg.map_detour_vertex()"
   ]
  },
  {
   "cell_type": "code",
   "execution_count": 26,
   "id": "9159a31e-2f3c-4c97-aa94-8bd3a46e21b1",
   "metadata": {},
   "outputs": [
    {
     "data": {
      "text/plain": [
       "{80: 28, 81: 76}"
      ]
     },
     "execution_count": 26,
     "metadata": {},
     "output_type": "execute_result"
    }
   ],
   "source": [
    "wfn_irr.map_detour_vertex()"
   ]
  }
 ],
 "metadata": {
  "kernelspec": {
   "display_name": "OptiWindNet",
   "language": "python",
   "name": "python3"
  },
  "language_info": {
   "codemirror_mode": {
    "name": "ipython",
    "version": 3
   },
   "file_extension": ".py",
   "mimetype": "text/x-python",
   "name": "python",
   "nbconvert_exporter": "python",
   "pygments_lexer": "ipython3",
   "version": "3.12.9"
  }
 },
 "nbformat": 4,
 "nbformat_minor": 5
}
