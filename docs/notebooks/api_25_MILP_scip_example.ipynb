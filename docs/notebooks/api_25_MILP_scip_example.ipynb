{
 "cells": [
  {
   "cell_type": "markdown",
   "id": "5f6be665-2ab0-404e-b4f1-68e882887775",
   "metadata": {},
   "source": [
    "## SCIP example"
   ]
  },
  {
   "cell_type": "code",
   "execution_count": 1,
   "id": "23c1c992-a563-4f2d-bbc8-cf0884e5b275",
   "metadata": {},
   "outputs": [],
   "source": [
    "from optiwindnet.api import WindFarmNetwork, Heuristic, MILP, load_repository"
   ]
  },
  {
   "cell_type": "code",
   "execution_count": 2,
   "id": "8ffe4364",
   "metadata": {},
   "outputs": [],
   "source": [
    "# Display figures as SVG in Jupyter notebooks\n",
    "%config InlineBackend.figure_formats = ['svg']"
   ]
  },
  {
   "cell_type": "markdown",
   "id": "dd5d2195-9b34-4aed-bd09-8f52116d098a",
   "metadata": {},
   "source": [
    "### Initialize Sheringham Shoal"
   ]
  },
  {
   "cell_type": "code",
   "execution_count": 3,
   "id": "29a6b5d1-a05f-4112-bf66-462b4d36b516",
   "metadata": {},
   "outputs": [],
   "source": [
    "locations = load_repository()\n",
    "L = locations.sheringham\n",
    "capacity = 6"
   ]
  },
  {
   "cell_type": "code",
   "execution_count": 4,
   "id": "6493ef36-765a-4cd3-9dc8-f2d952a23573",
   "metadata": {},
   "outputs": [],
   "source": [
    "\n",
    "wfn = WindFarmNetwork(L=L, cables=capacity)"
   ]
  },
  {
   "cell_type": "code",
   "execution_count": 5,
   "id": "2a81cdd4-7be8-4da3-9b94-9799c6f1760b",
   "metadata": {},
   "outputs": [
    {
     "data": {
      "text/plain": [
       "<Axes: >"
      ]
     },
     "execution_count": 5,
     "metadata": {},
     "output_type": "execute_result"
    },
    {
     "data": {
      "image/svg+xml": [
       "<?xml version=\"1.0\" encoding=\"utf-8\" standalone=\"no\"?>\n",
       "<!DOCTYPE svg PUBLIC \"-//W3C//DTD SVG 1.1//EN\"\n",
       "  \"http://www.w3.org/Graphics/SVG/1.1/DTD/svg11.dtd\">\n",
       "<svg xmlns:xlink=\"http://www.w3.org/1999/xlink\" width=\"469.19952pt\" height=\"192.05669pt\" viewBox=\"0 0 469.19952 192.05669\" xmlns=\"http://www.w3.org/2000/svg\" version=\"1.1\">\n",
       " <metadata>\n",
       "  <rdf:RDF xmlns:dc=\"http://purl.org/dc/elements/1.1/\" xmlns:cc=\"http://creativecommons.org/ns#\" xmlns:rdf=\"http://www.w3.org/1999/02/22-rdf-syntax-ns#\">\n",
       "   <cc:Work>\n",
       "    <dc:type rdf:resource=\"http://purl.org/dc/dcmitype/StillImage\"/>\n",
       "    <dc:date>2025-07-23T17:24:19.948031</dc:date>\n",
       "    <dc:format>image/svg+xml</dc:format>\n",
       "    <dc:creator>\n",
       "     <cc:Agent>\n",
       "      <dc:title>Matplotlib v3.10.1, https://matplotlib.org/</dc:title>\n",
       "     </cc:Agent>\n",
       "    </dc:creator>\n",
       "   </cc:Work>\n",
       "  </rdf:RDF>\n",
       " </metadata>\n",
       " <defs>\n",
       "  <style type=\"text/css\">*{stroke-linejoin: round; stroke-linecap: butt}</style>\n",
       " </defs>\n",
       " <g id=\"figure_1\">\n",
       "  <g id=\"axes_1\">\n",
       "   <g id=\"patch_1\">\n",
       "    <path d=\"M 173.89343 183.977201 \n",
       "L 9.451483 8.272605 \n",
       "L 294.807665 8.079489 \n",
       "L 459.748037 183.977201 \n",
       "z\n",
       "\" clip-path=\"url(#p65e16384f6)\" style=\"fill: #111111; stroke-dasharray: 2.59,1.12; stroke-dashoffset: 0; stroke: #c0c0c0; stroke-width: 0.7; stroke-linejoin: miter\"/>\n",
       "   </g>\n",
       "   <g id=\"PathCollection_1\">\n",
       "    <defs>\n",
       "     <path id=\"m1d87932bb8\" d=\"M -2.95804 2.95804 \n",
       "L 2.95804 2.95804 \n",
       "L 2.95804 -2.95804 \n",
       "L -2.95804 -2.95804 \n",
       "z\n",
       "\" style=\"stroke: #111111; stroke-width: 0.3\"/>\n",
       "    </defs>\n",
       "    <g>\n",
       "     <use xlink:href=\"#m1d87932bb8\" x=\"157.819115\" y=\"87.754114\" style=\"fill: #7cfc00; stroke: #111111; stroke-width: 0.3\"/>\n",
       "     <use xlink:href=\"#m1d87932bb8\" x=\"315.089216\" y=\"104.301087\" style=\"fill: #7cfc00; stroke: #111111; stroke-width: 0.3\"/>\n",
       "    </g>\n",
       "   </g>\n",
       "   <g id=\"PathCollection_2\">\n",
       "    <defs>\n",
       "     <path id=\"C0_0_e1337cae2a\" d=\"M 0 2.95804 \n",
       "C 0.784481 2.95804 1.536938 2.646362 2.09165 2.09165 \n",
       "C 2.646362 1.536938 2.95804 0.784481 2.95804 -0 \n",
       "C 2.95804 -0.784481 2.646362 -1.536938 2.09165 -2.09165 \n",
       "C 1.536938 -2.646362 0.784481 -2.95804 0 -2.95804 \n",
       "C -0.784481 -2.95804 -1.536938 -2.646362 -2.09165 -2.09165 \n",
       "C -2.646362 -1.536938 -2.95804 -0.784481 -2.95804 0 \n",
       "C -2.95804 0.784481 -2.646362 1.536938 -2.09165 2.09165 \n",
       "C -1.536938 2.646362 -0.784481 2.95804 0 2.95804 \n",
       "z\n",
       "\"/>\n",
       "    </defs>\n",
       "    <use xlink:href=\"#C0_0_e1337cae2a\" x=\"18.221599\" y=\"12.067733\" style=\"fill: #9edae5\"/>\n",
       "    <use xlink:href=\"#C0_0_e1337cae2a\" x=\"40.696667\" y=\"36.083895\" style=\"fill: #9edae5\"/>\n",
       "    <use xlink:href=\"#C0_0_e1337cae2a\" x=\"63.172887\" y=\"60.098637\" style=\"fill: #9edae5\"/>\n",
       "    <use xlink:href=\"#C0_0_e1337cae2a\" x=\"85.6479\" y=\"84.112897\" style=\"fill: #9edae5\"/>\n",
       "    <use xlink:href=\"#C0_0_e1337cae2a\" x=\"108.123261\" y=\"108.130594\" style=\"fill: #9edae5\"/>\n",
       "    <use xlink:href=\"#C0_0_e1337cae2a\" x=\"130.59741\" y=\"132.147812\" style=\"fill: #9edae5\"/>\n",
       "    <use xlink:href=\"#C0_0_e1337cae2a\" x=\"153.072703\" y=\"156.163616\" style=\"fill: #9edae5\"/>\n",
       "    <use xlink:href=\"#C0_0_e1337cae2a\" x=\"175.549137\" y=\"180.178007\" style=\"fill: #9edae5\"/>\n",
       "    <use xlink:href=\"#C0_0_e1337cae2a\" x=\"45.715817\" y=\"12.047263\" style=\"fill: #9edae5\"/>\n",
       "    <use xlink:href=\"#C0_0_e1337cae2a\" x=\"68.190153\" y=\"36.061798\" style=\"fill: #9edae5\"/>\n",
       "    <use xlink:href=\"#C0_0_e1337cae2a\" x=\"90.664839\" y=\"60.07977\" style=\"fill: #9edae5\"/>\n",
       "    <use xlink:href=\"#C0_0_e1337cae2a\" x=\"113.140673\" y=\"84.096325\" style=\"fill: #9edae5\"/>\n",
       "    <use xlink:href=\"#C0_0_e1337cae2a\" x=\"135.615296\" y=\"108.112401\" style=\"fill: #9edae5\"/>\n",
       "    <use xlink:href=\"#C0_0_e1337cae2a\" x=\"158.091063\" y=\"132.127062\" style=\"fill: #9edae5\"/>\n",
       "    <use xlink:href=\"#C0_0_e1337cae2a\" x=\"180.565615\" y=\"156.141248\" style=\"fill: #9edae5\"/>\n",
       "    <use xlink:href=\"#C0_0_e1337cae2a\" x=\"203.040507\" y=\"180.158878\" style=\"fill: #9edae5\"/>\n",
       "    <use xlink:href=\"#C0_0_e1337cae2a\" x=\"73.208145\" y=\"12.028153\" style=\"fill: #9edae5\"/>\n",
       "    <use xlink:href=\"#C0_0_e1337cae2a\" x=\"95.683305\" y=\"36.044982\" style=\"fill: #9edae5\"/>\n",
       "    <use xlink:href=\"#C0_0_e1337cae2a\" x=\"118.159613\" y=\"60.060394\" style=\"fill: #9edae5\"/>\n",
       "    <use xlink:href=\"#C0_0_e1337cae2a\" x=\"140.634711\" y=\"84.075327\" style=\"fill: #9edae5\"/>\n",
       "    <use xlink:href=\"#C0_0_e1337cae2a\" x=\"163.108596\" y=\"108.089782\" style=\"fill: #9edae5\"/>\n",
       "    <use xlink:href=\"#C0_0_e1337cae2a\" x=\"185.585181\" y=\"132.106744\" style=\"fill: #9edae5\"/>\n",
       "    <use xlink:href=\"#C0_0_e1337cae2a\" x=\"208.060549\" y=\"156.123231\" style=\"fill: #9edae5\"/>\n",
       "    <use xlink:href=\"#C0_0_e1337cae2a\" x=\"230.534698\" y=\"180.139245\" style=\"fill: #9edae5\"/>\n",
       "    <use xlink:href=\"#C0_0_e1337cae2a\" x=\"100.70094\" y=\"12.009469\" style=\"fill: #9edae5\"/>\n",
       "    <use xlink:href=\"#C0_0_e1337cae2a\" x=\"123.175367\" y=\"36.024673\" style=\"fill: #9edae5\"/>\n",
       "    <use xlink:href=\"#C0_0_e1337cae2a\" x=\"145.65094\" y=\"60.038463\" style=\"fill: #9edae5\"/>\n",
       "    <use xlink:href=\"#C0_0_e1337cae2a\" x=\"168.126858\" y=\"84.055694\" style=\"fill: #9edae5\"/>\n",
       "    <use xlink:href=\"#C0_0_e1337cae2a\" x=\"190.601563\" y=\"108.072449\" style=\"fill: #9edae5\"/>\n",
       "    <use xlink:href=\"#C0_0_e1337cae2a\" x=\"213.077408\" y=\"132.087794\" style=\"fill: #9edae5\"/>\n",
       "    <use xlink:href=\"#C0_0_e1337cae2a\" x=\"235.552035\" y=\"156.102665\" style=\"fill: #9edae5\"/>\n",
       "    <use xlink:href=\"#C0_0_e1337cae2a\" x=\"258.027797\" y=\"180.116129\" style=\"fill: #9edae5\"/>\n",
       "    <use xlink:href=\"#C0_0_e1337cae2a\" x=\"128.192645\" y=\"11.987291\" style=\"fill: #9edae5\"/>\n",
       "    <use xlink:href=\"#C0_0_e1337cae2a\" x=\"150.670251\" y=\"36.003856\" style=\"fill: #9edae5\"/>\n",
       "    <use xlink:href=\"#C0_0_e1337cae2a\" x=\"173.144291\" y=\"60.020879\" style=\"fill: #9edae5\"/>\n",
       "    <use xlink:href=\"#C0_0_e1337cae2a\" x=\"195.619474\" y=\"84.036491\" style=\"fill: #9edae5\"/>\n",
       "    <use xlink:href=\"#C0_0_e1337cae2a\" x=\"218.095796\" y=\"108.050692\" style=\"fill: #9edae5\"/>\n",
       "    <use xlink:href=\"#C0_0_e1337cae2a\" x=\"240.568544\" y=\"132.065358\" style=\"fill: #9edae5\"/>\n",
       "    <use xlink:href=\"#C0_0_e1337cae2a\" x=\"263.043987\" y=\"156.082534\" style=\"fill: #9edae5\"/>\n",
       "    <use xlink:href=\"#C0_0_e1337cae2a\" x=\"285.520564\" y=\"180.098304\" style=\"fill: #9edae5\"/>\n",
       "    <use xlink:href=\"#C0_0_e1337cae2a\" x=\"155.686377\" y=\"11.969458\" style=\"fill: #9edae5\"/>\n",
       "    <use xlink:href=\"#C0_0_e1337cae2a\" x=\"178.163249\" y=\"35.984402\" style=\"fill: #9edae5\"/>\n",
       "    <use xlink:href=\"#C0_0_e1337cae2a\" x=\"200.636554\" y=\"59.999806\" style=\"fill: #9edae5\"/>\n",
       "    <use xlink:href=\"#C0_0_e1337cae2a\" x=\"223.112557\" y=\"84.017719\" style=\"fill: #9edae5\"/>\n",
       "    <use xlink:href=\"#C0_0_e1337cae2a\" x=\"245.58814\" y=\"108.030304\" style=\"fill: #9edae5\"/>\n",
       "    <use xlink:href=\"#C0_0_e1337cae2a\" x=\"268.064063\" y=\"132.046336\" style=\"fill: #9edae5\"/>\n",
       "    <use xlink:href=\"#C0_0_e1337cae2a\" x=\"290.538764\" y=\"156.0619\" style=\"fill: #9edae5\"/>\n",
       "    <use xlink:href=\"#C0_0_e1337cae2a\" x=\"313.012239\" y=\"180.076997\" style=\"fill: #9edae5\"/>\n",
       "    <use xlink:href=\"#C0_0_e1337cae2a\" x=\"183.17902\" y=\"11.948134\" style=\"fill: #9edae5\"/>\n",
       "    <use xlink:href=\"#C0_0_e1337cae2a\" x=\"205.656717\" y=\"35.965375\" style=\"fill: #9edae5\"/>\n",
       "    <use xlink:href=\"#C0_0_e1337cae2a\" x=\"228.129286\" y=\"59.979163\" style=\"fill: #9edae5\"/>\n",
       "    <use xlink:href=\"#C0_0_e1337cae2a\" x=\"250.604551\" y=\"83.995459\" style=\"fill: #9edae5\"/>\n",
       "    <use xlink:href=\"#C0_0_e1337cae2a\" x=\"273.080954\" y=\"108.010347\" style=\"fill: #9edae5\"/>\n",
       "    <use xlink:href=\"#C0_0_e1337cae2a\" x=\"295.556135\" y=\"132.024767\" style=\"fill: #9edae5\"/>\n",
       "    <use xlink:href=\"#C0_0_e1337cae2a\" x=\"318.031653\" y=\"156.042638\" style=\"fill: #9edae5\"/>\n",
       "    <use xlink:href=\"#C0_0_e1337cae2a\" x=\"340.505944\" y=\"180.060043\" style=\"fill: #9edae5\"/>\n",
       "    <use xlink:href=\"#C0_0_e1337cae2a\" x=\"210.672134\" y=\"11.927237\" style=\"fill: #9edae5\"/>\n",
       "    <use xlink:href=\"#C0_0_e1337cae2a\" x=\"233.149097\" y=\"35.94286\" style=\"fill: #9edae5\"/>\n",
       "    <use xlink:href=\"#C0_0_e1337cae2a\" x=\"255.622488\" y=\"59.958949\" style=\"fill: #9edae5\"/>\n",
       "    <use xlink:href=\"#C0_0_e1337cae2a\" x=\"278.098575\" y=\"83.977549\" style=\"fill: #9edae5\"/>\n",
       "    <use xlink:href=\"#C0_0_e1337cae2a\" x=\"300.574238\" y=\"107.990824\" style=\"fill: #9edae5\"/>\n",
       "    <use xlink:href=\"#C0_0_e1337cae2a\" x=\"323.050238\" y=\"132.00755\" style=\"fill: #9edae5\"/>\n",
       "    <use xlink:href=\"#C0_0_e1337cae2a\" x=\"345.525012\" y=\"156.023811\" style=\"fill: #9edae5\"/>\n",
       "    <use xlink:href=\"#C0_0_e1337cae2a\" x=\"368.000916\" y=\"180.03867\" style=\"fill: #9edae5\"/>\n",
       "    <use xlink:href=\"#C0_0_e1337cae2a\" x=\"238.167279\" y=\"11.910685\" style=\"fill: #9edae5\"/>\n",
       "    <use xlink:href=\"#C0_0_e1337cae2a\" x=\"260.641152\" y=\"35.925629\" style=\"fill: #9edae5\"/>\n",
       "    <use xlink:href=\"#C0_0_e1337cae2a\" x=\"283.116162\" y=\"59.939166\" style=\"fill: #9edae5\"/>\n",
       "    <use xlink:href=\"#C0_0_e1337cae2a\" x=\"305.591511\" y=\"83.956152\" style=\"fill: #9edae5\"/>\n",
       "    <use xlink:href=\"#C0_0_e1337cae2a\" x=\"328.067994\" y=\"107.971733\" style=\"fill: #9edae5\"/>\n",
       "    <use xlink:href=\"#C0_0_e1337cae2a\" x=\"350.543252\" y=\"131.98685\" style=\"fill: #9edae5\"/>\n",
       "    <use xlink:href=\"#C0_0_e1337cae2a\" x=\"373.017282\" y=\"156.001503\" style=\"fill: #9edae5\"/>\n",
       "    <use xlink:href=\"#C0_0_e1337cae2a\" x=\"395.494001\" y=\"180.018673\" style=\"fill: #9edae5\"/>\n",
       "    <use xlink:href=\"#C0_0_e1337cae2a\" x=\"265.657423\" y=\"11.887664\" style=\"fill: #9edae5\"/>\n",
       "    <use xlink:href=\"#C0_0_e1337cae2a\" x=\"288.134476\" y=\"35.903973\" style=\"fill: #9edae5\"/>\n",
       "    <use xlink:href=\"#C0_0_e1337cae2a\" x=\"310.610309\" y=\"59.919813\" style=\"fill: #9edae5\"/>\n",
       "    <use xlink:href=\"#C0_0_e1337cae2a\" x=\"333.084919\" y=\"83.935188\" style=\"fill: #9edae5\"/>\n",
       "    <use xlink:href=\"#C0_0_e1337cae2a\" x=\"355.558305\" y=\"107.950099\" style=\"fill: #9edae5\"/>\n",
       "    <use xlink:href=\"#C0_0_e1337cae2a\" x=\"378.034381\" y=\"131.967524\" style=\"fill: #9edae5\"/>\n",
       "    <use xlink:href=\"#C0_0_e1337cae2a\" x=\"400.511585\" y=\"155.983548\" style=\"fill: #9edae5\"/>\n",
       "    <use xlink:href=\"#C0_0_e1337cae2a\" x=\"422.985201\" y=\"180.000053\" style=\"fill: #9edae5\"/>\n",
       "    <use xlink:href=\"#C0_0_e1337cae2a\" x=\"293.151956\" y=\"11.868051\" style=\"fill: #9edae5\"/>\n",
       "    <use xlink:href=\"#C0_0_e1337cae2a\" x=\"315.625918\" y=\"35.883685\" style=\"fill: #9edae5\"/>\n",
       "    <use xlink:href=\"#C0_0_e1337cae2a\" x=\"338.102574\" y=\"59.901831\" style=\"fill: #9edae5\"/>\n",
       "    <use xlink:href=\"#C0_0_e1337cae2a\" x=\"360.578801\" y=\"83.914657\" style=\"fill: #9edae5\"/>\n",
       "    <use xlink:href=\"#C0_0_e1337cae2a\" x=\"383.053007\" y=\"107.931876\" style=\"fill: #9edae5\"/>\n",
       "    <use xlink:href=\"#C0_0_e1337cae2a\" x=\"405.52834\" y=\"131.947695\" style=\"fill: #9edae5\"/>\n",
       "    <use xlink:href=\"#C0_0_e1337cae2a\" x=\"428.002443\" y=\"155.963054\" style=\"fill: #9edae5\"/>\n",
       "    <use xlink:href=\"#C0_0_e1337cae2a\" x=\"450.477669\" y=\"179.977016\" style=\"fill: #9edae5\"/>\n",
       "   </g>\n",
       "  </g>\n",
       " </g>\n",
       " <defs>\n",
       "  <clipPath id=\"p65e16384f6\">\n",
       "   <rect x=\"7.2\" y=\"7.2\" width=\"454.79952\" height=\"177.65669\"/>\n",
       "  </clipPath>\n",
       " </defs>\n",
       "</svg>\n"
      ],
      "text/plain": [
       "<Figure size 1228.8x921.6 with 1 Axes>"
      ]
     },
     "metadata": {},
     "output_type": "display_data"
    }
   ],
   "source": [
    "wfn.plot_location()"
   ]
  },
  {
   "cell_type": "markdown",
   "id": "5996b343-8973-49cb-8e34-d4b1161d625e",
   "metadata": {},
   "source": [
    "### Optimize Sheringham Shoal"
   ]
  },
  {
   "cell_type": "markdown",
   "id": "4f9b49b1-a597-4053-a3d1-f3de7bb8d164",
   "metadata": {},
   "source": [
    "Initial heuristic solution to warm-start the solver:"
   ]
  },
  {
   "cell_type": "code",
   "execution_count": 6,
   "id": "19eb273d-f662-4851-bf09-e0ec532d7b8b",
   "metadata": {},
   "outputs": [
    {
     "name": "stdout",
     "output_type": "stream",
     "text": [
      "64814.63197919911\n"
     ]
    }
   ],
   "source": [
    "router_pre_solver = Heuristic(solver='Esau_Williams')\n",
    "res_pre_solver= wfn.optimize(router=router_pre_solver)\n",
    "print(wfn.length())"
   ]
  },
  {
   "cell_type": "code",
   "execution_count": 7,
   "id": "c5d3782f-2620-48b3-a5c2-9bcf368b30dc",
   "metadata": {},
   "outputs": [
    {
     "name": "stderr",
     "output_type": "stream",
     "text": [
      "Solver <scip> is not capable of warm-starting.\n"
     ]
    },
    {
     "name": "stdout",
     "output_type": "stream",
     "text": [
      ">>> Using warm start: the model is initialized with the provided solution S <<<\n",
      "WARNING: Could not locate the 'scip' executable or the older 'scipampl'\n",
      "executable, which is required for solver scip\n"
     ]
    },
    {
     "ename": "ApplicationError",
     "evalue": "No executable found for solver 'scip'",
     "output_type": "error",
     "traceback": [
      "\u001b[31m---------------------------------------------------------------------------\u001b[39m",
      "\u001b[31mApplicationError\u001b[39m                          Traceback (most recent call last)",
      "\u001b[36mCell\u001b[39m\u001b[36m \u001b[39m\u001b[32mIn[7]\u001b[39m\u001b[32m, line 2\u001b[39m\n\u001b[32m      1\u001b[39m router_milp = MILP(solver_name=\u001b[33m'\u001b[39m\u001b[33mscip\u001b[39m\u001b[33m'\u001b[39m, time_limit=\u001b[32m180\u001b[39m, mip_gap=\u001b[32m0.005\u001b[39m, verbose=\u001b[38;5;28;01mTrue\u001b[39;00m)\n\u001b[32m----> \u001b[39m\u001b[32m2\u001b[39m res = \u001b[43mwfn\u001b[49m\u001b[43m.\u001b[49m\u001b[43moptimize\u001b[49m\u001b[43m(\u001b[49m\u001b[43mrouter\u001b[49m\u001b[43m=\u001b[49m\u001b[43mrouter_milp\u001b[49m\u001b[43m)\u001b[49m\n",
      "\u001b[36mFile \u001b[39m\u001b[32mC:\\code\\OptiWindNet\\optiwindnet\\api.py:381\u001b[39m, in \u001b[36mWindFarmNetwork.optimize\u001b[39m\u001b[34m(self, turbinesC, substationsC, router, verbose)\u001b[39m\n\u001b[32m    376\u001b[39m \u001b[38;5;28;01mif\u001b[39;00m substationsC \u001b[38;5;129;01mis\u001b[39;00m \u001b[38;5;28;01mNone\u001b[39;00m:\n\u001b[32m    377\u001b[39m     substationsC = (\n\u001b[32m    378\u001b[39m         substationsC \u001b[38;5;129;01mor\u001b[39;00m \u001b[38;5;28mself\u001b[39m.L.graph[\u001b[33m'\u001b[39m\u001b[33mVertexC\u001b[39m\u001b[33m'\u001b[39m][-\u001b[38;5;28mself\u001b[39m.L.graph[\u001b[33m'\u001b[39m\u001b[33mR\u001b[39m\u001b[33m'\u001b[39m] :, :]\n\u001b[32m    379\u001b[39m     )\n\u001b[32m--> \u001b[39m\u001b[32m381\u001b[39m S, G = \u001b[43mrouter\u001b[49m\u001b[43m(\u001b[49m\n\u001b[32m    382\u001b[39m \u001b[43m    \u001b[49m\u001b[43mA\u001b[49m\u001b[43m=\u001b[49m\u001b[38;5;28;43mself\u001b[39;49m\u001b[43m.\u001b[49m\u001b[43mA\u001b[49m\u001b[43m,\u001b[49m\n\u001b[32m    383\u001b[39m \u001b[43m    \u001b[49m\u001b[43mP\u001b[49m\u001b[43m=\u001b[49m\u001b[38;5;28;43mself\u001b[39;49m\u001b[43m.\u001b[49m\u001b[43mP\u001b[49m\u001b[43m,\u001b[49m\n\u001b[32m    384\u001b[39m \u001b[43m    \u001b[49m\u001b[43mS_warm\u001b[49m\u001b[43m=\u001b[49m\u001b[38;5;28;43mself\u001b[39;49m\u001b[43m.\u001b[49m\u001b[43mS\u001b[49m\u001b[43m,\u001b[49m\n\u001b[32m    385\u001b[39m \u001b[43m    \u001b[49m\u001b[43mturbinesC\u001b[49m\u001b[43m=\u001b[49m\u001b[43mturbinesC\u001b[49m\u001b[43m,\u001b[49m\n\u001b[32m    386\u001b[39m \u001b[43m    \u001b[49m\u001b[43msubstationsC\u001b[49m\u001b[43m=\u001b[49m\u001b[43msubstationsC\u001b[49m\u001b[43m,\u001b[49m\n\u001b[32m    387\u001b[39m \u001b[43m    \u001b[49m\u001b[43mcables\u001b[49m\u001b[43m=\u001b[49m\u001b[38;5;28;43mself\u001b[39;49m\u001b[43m.\u001b[49m\u001b[43mcables\u001b[49m\u001b[43m,\u001b[49m\n\u001b[32m    388\u001b[39m \u001b[43m    \u001b[49m\u001b[43mcables_capacity\u001b[49m\u001b[43m=\u001b[49m\u001b[38;5;28;43mself\u001b[39;49m\u001b[43m.\u001b[49m\u001b[43mcables_capacity\u001b[49m\u001b[43m,\u001b[49m\n\u001b[32m    389\u001b[39m \u001b[43m    \u001b[49m\u001b[43mverbose\u001b[49m\u001b[43m=\u001b[49m\u001b[43mverbose\u001b[49m\u001b[43m,\u001b[49m\n\u001b[32m    390\u001b[39m \u001b[43m\u001b[49m\u001b[43m)\u001b[49m\n\u001b[32m    391\u001b[39m \u001b[38;5;28mself\u001b[39m.S = S\n\u001b[32m    392\u001b[39m \u001b[38;5;28mself\u001b[39m.G = G\n",
      "\u001b[36mFile \u001b[39m\u001b[32mC:\\code\\OptiWindNet\\optiwindnet\\api.py:411\u001b[39m, in \u001b[36mOptiWindNetSolver.__call__\u001b[39m\u001b[34m(self, turbinesC, substationsC, verbose, **kwargs)\u001b[39m\n\u001b[32m    409\u001b[39m \u001b[38;5;28;01mdef\u001b[39;00m\u001b[38;5;250m \u001b[39m\u001b[34m__call__\u001b[39m(\u001b[38;5;28mself\u001b[39m, turbinesC=\u001b[38;5;28;01mNone\u001b[39;00m, substationsC=\u001b[38;5;28;01mNone\u001b[39;00m, verbose=\u001b[38;5;28;01mFalse\u001b[39;00m, **kwargs):\n\u001b[32m    410\u001b[39m \u001b[38;5;250m    \u001b[39m\u001b[33;03m\"\"\"Make the instance callable, calling optimize() internally.\"\"\"\u001b[39;00m\n\u001b[32m--> \u001b[39m\u001b[32m411\u001b[39m     \u001b[38;5;28;01mreturn\u001b[39;00m \u001b[38;5;28;43mself\u001b[39;49m\u001b[43m.\u001b[49m\u001b[43moptimize\u001b[49m\u001b[43m(\u001b[49m\n\u001b[32m    412\u001b[39m \u001b[43m        \u001b[49m\u001b[43mturbinesC\u001b[49m\u001b[43m=\u001b[49m\u001b[43mturbinesC\u001b[49m\u001b[43m,\u001b[49m\u001b[43m \u001b[49m\u001b[43msubstationsC\u001b[49m\u001b[43m=\u001b[49m\u001b[43msubstationsC\u001b[49m\u001b[43m,\u001b[49m\u001b[43m \u001b[49m\u001b[43mverbose\u001b[49m\u001b[43m=\u001b[49m\u001b[43mverbose\u001b[49m\u001b[43m,\u001b[49m\u001b[43m \u001b[49m\u001b[43m*\u001b[49m\u001b[43m*\u001b[49m\u001b[43mkwargs\u001b[49m\n\u001b[32m    413\u001b[39m \u001b[43m    \u001b[49m\u001b[43m)\u001b[49m\n",
      "\u001b[36mFile \u001b[39m\u001b[32mC:\\code\\OptiWindNet\\optiwindnet\\api.py:567\u001b[39m, in \u001b[36mMILP.optimize\u001b[39m\u001b[34m(self, P, A, cables, cables_capacity, S_warm, verbose, **kwargs)\u001b[39m\n\u001b[32m    558\u001b[39m solver = \u001b[38;5;28mself\u001b[39m.solver\n\u001b[32m    560\u001b[39m solver.set_problem(\n\u001b[32m    561\u001b[39m     P, A,\n\u001b[32m    562\u001b[39m     capacity=cables_capacity,\n\u001b[32m    563\u001b[39m     model_options=\u001b[38;5;28mself\u001b[39m.model_options,\n\u001b[32m    564\u001b[39m     warmstart=S_warm,\n\u001b[32m    565\u001b[39m )\n\u001b[32m--> \u001b[39m\u001b[32m567\u001b[39m \u001b[43msolver\u001b[49m\u001b[43m.\u001b[49m\u001b[43msolve\u001b[49m\u001b[43m(\u001b[49m\n\u001b[32m    568\u001b[39m \u001b[43m    \u001b[49m\u001b[43mtime_limit\u001b[49m\u001b[43m=\u001b[49m\u001b[38;5;28;43mself\u001b[39;49m\u001b[43m.\u001b[49m\u001b[43mtime_limit\u001b[49m\u001b[43m,\u001b[49m\n\u001b[32m    569\u001b[39m \u001b[43m    \u001b[49m\u001b[43mmip_gap\u001b[49m\u001b[43m=\u001b[49m\u001b[38;5;28;43mself\u001b[39;49m\u001b[43m.\u001b[49m\u001b[43mmip_gap\u001b[49m\u001b[43m,\u001b[49m\n\u001b[32m    570\u001b[39m \u001b[43m    \u001b[49m\u001b[43moptions\u001b[49m\u001b[43m=\u001b[49m\u001b[38;5;28;43mself\u001b[39;49m\u001b[43m.\u001b[49m\u001b[43msolver_options\u001b[49m\u001b[43m,\u001b[49m\n\u001b[32m    571\u001b[39m \u001b[43m    \u001b[49m\u001b[43mverbose\u001b[49m\u001b[43m=\u001b[49m\u001b[43mverbose\u001b[49m\u001b[43m,\u001b[49m\n\u001b[32m    572\u001b[39m \u001b[43m\u001b[49m\u001b[43m)\u001b[49m\n\u001b[32m    574\u001b[39m S, G = solver.get_solution()\n\u001b[32m    576\u001b[39m assign_cables(G, cables)\n",
      "\u001b[36mFile \u001b[39m\u001b[32mC:\\code\\OptiWindNet\\optiwindnet\\MILP\\pyomo.py:124\u001b[39m, in \u001b[36mSolverPyomo.solve\u001b[39m\u001b[34m(self, time_limit, mip_gap, options, verbose)\u001b[39m\n\u001b[32m    118\u001b[39m solver.options.update(\n\u001b[32m    119\u001b[39m     \u001b[38;5;28mself\u001b[39m.options\n\u001b[32m    120\u001b[39m     | options\n\u001b[32m    121\u001b[39m     | {_optkey[name].time_limit: time_limit, _optkey[name].mip_gap: mip_gap}\n\u001b[32m    122\u001b[39m )\n\u001b[32m    123\u001b[39m info(\u001b[33m'\u001b[39m\u001b[33m>>> \u001b[39m\u001b[38;5;132;01m%s\u001b[39;00m\u001b[33m solver options <<<\u001b[39m\u001b[38;5;130;01m\\n\u001b[39;00m\u001b[38;5;132;01m%s\u001b[39;00m\u001b[38;5;130;01m\\n\u001b[39;00m\u001b[33m'\u001b[39m, \u001b[38;5;28mself\u001b[39m.name, solver.options)\n\u001b[32m--> \u001b[39m\u001b[32m124\u001b[39m result = \u001b[43msolver\u001b[49m\u001b[43m.\u001b[49m\u001b[43msolve\u001b[49m\u001b[43m(\u001b[49m\u001b[43mmodel\u001b[49m\u001b[43m,\u001b[49m\u001b[43m \u001b[49m\u001b[43m*\u001b[49m\u001b[43m*\u001b[49m\u001b[38;5;28;43mself\u001b[39;49m\u001b[43m.\u001b[49m\u001b[43msolve_kwargs\u001b[49m\u001b[43m,\u001b[49m\u001b[43m \u001b[49m\u001b[43mtee\u001b[49m\u001b[43m=\u001b[49m\u001b[43mverbose\u001b[49m\u001b[43m)\u001b[49m\n\u001b[32m    125\u001b[39m \u001b[38;5;28mself\u001b[39m.result = result\n\u001b[32m    126\u001b[39m \u001b[38;5;28;01mif\u001b[39;00m \u001b[38;5;28mself\u001b[39m.name != \u001b[33m'\u001b[39m\u001b[33mscip\u001b[39m\u001b[33m'\u001b[39m:\n",
      "\u001b[36mFile \u001b[39m\u001b[32mc:\\Users\\amia\\AppData\\Local\\miniconda3\\envs\\OptiWindNet\\Lib\\site-packages\\pyomo\\opt\\base\\solvers.py:534\u001b[39m, in \u001b[36mOptSolver.solve\u001b[39m\u001b[34m(self, *args, **kwds)\u001b[39m\n\u001b[32m    531\u001b[39m \u001b[38;5;28;01mdef\u001b[39;00m\u001b[38;5;250m \u001b[39m\u001b[34msolve\u001b[39m(\u001b[38;5;28mself\u001b[39m, *args, **kwds):\n\u001b[32m    532\u001b[39m \u001b[38;5;250m    \u001b[39m\u001b[33;03m\"\"\"Solve the problem\"\"\"\u001b[39;00m\n\u001b[32m--> \u001b[39m\u001b[32m534\u001b[39m     \u001b[38;5;28;43mself\u001b[39;49m\u001b[43m.\u001b[49m\u001b[43mavailable\u001b[49m\u001b[43m(\u001b[49m\u001b[43mexception_flag\u001b[49m\u001b[43m=\u001b[49m\u001b[38;5;28;43;01mTrue\u001b[39;49;00m\u001b[43m)\u001b[49m\n\u001b[32m    535\u001b[39m     \u001b[38;5;66;03m#\u001b[39;00m\n\u001b[32m    536\u001b[39m     \u001b[38;5;66;03m# If the inputs are models, then validate that they have been\u001b[39;00m\n\u001b[32m    537\u001b[39m     \u001b[38;5;66;03m# constructed! Collect suffix names to try and import from solution.\u001b[39;00m\n\u001b[32m    538\u001b[39m     \u001b[38;5;66;03m#\u001b[39;00m\n\u001b[32m    539\u001b[39m     \u001b[38;5;28;01mfrom\u001b[39;00m\u001b[38;5;250m \u001b[39m\u001b[34;01mpyomo\u001b[39;00m\u001b[34;01m.\u001b[39;00m\u001b[34;01mcore\u001b[39;00m\u001b[34;01m.\u001b[39;00m\u001b[34;01mbase\u001b[39;00m\u001b[34;01m.\u001b[39;00m\u001b[34;01mblock\u001b[39;00m\u001b[38;5;250m \u001b[39m\u001b[38;5;28;01mimport\u001b[39;00m BlockData\n",
      "\u001b[36mFile \u001b[39m\u001b[32mc:\\Users\\amia\\AppData\\Local\\miniconda3\\envs\\OptiWindNet\\Lib\\site-packages\\pyomo\\opt\\solver\\shellcmd.py:140\u001b[39m, in \u001b[36mSystemCallSolver.available\u001b[39m\u001b[34m(self, exception_flag)\u001b[39m\n\u001b[32m    138\u001b[39m     \u001b[38;5;28;01mif\u001b[39;00m exception_flag:\n\u001b[32m    139\u001b[39m         msg = \u001b[33m\"\u001b[39m\u001b[33mNo executable found for solver \u001b[39m\u001b[33m'\u001b[39m\u001b[38;5;132;01m%s\u001b[39;00m\u001b[33m'\u001b[39m\u001b[33m\"\u001b[39m\n\u001b[32m--> \u001b[39m\u001b[32m140\u001b[39m         \u001b[38;5;28;01mraise\u001b[39;00m ApplicationError(msg % \u001b[38;5;28mself\u001b[39m.name)\n\u001b[32m    141\u001b[39m     \u001b[38;5;28;01mreturn\u001b[39;00m \u001b[38;5;28;01mFalse\u001b[39;00m\n\u001b[32m    142\u001b[39m \u001b[38;5;28;01mreturn\u001b[39;00m \u001b[38;5;28;01mTrue\u001b[39;00m\n",
      "\u001b[31mApplicationError\u001b[39m: No executable found for solver 'scip'"
     ]
    }
   ],
   "source": [
    "router_milp = MILP(solver_name='scip', time_limit=180, mip_gap=0.005, verbose=True)\n",
    "res = wfn.optimize(router=router_milp)"
   ]
  },
  {
   "cell_type": "code",
   "execution_count": null,
   "id": "95510acc",
   "metadata": {},
   "outputs": [
    {
     "data": {
      "text/plain": [
       "SolutionInfo(runtime=15.104260000000002, bound=141351.27776184087, objective=146120.97659967092, relgap=0.032642122635804904, termination='FEASIBLE')"
      ]
     },
     "metadata": {},
     "output_type": "display_data"
    }
   ],
   "source": [
    "wfn.G.SolutionInfo"
   ]
  },
  {
   "cell_type": "code",
   "execution_count": null,
   "id": "22ddfecd-5f34-4417-8870-a5bcd6bf8193",
   "metadata": {},
   "outputs": [
    {
     "data": {
      "image/svg+xml": [
       "<svg xmlns=\"http://www.w3.org/2000/svg\" viewBox=\"0 0 1920 787\"><defs ><filter x=\"-5%\" y=\"-5%\" id=\"bg_textbox\" width=\"110%\" height=\"110%\"><feFlood flood-opacity=\"0.7\" flood-color=\"#111\" result=\"bg\"/><feMerge ><feMergeNode in=\"bg\"/><feMergeNode in=\"SourceGraphic\"/></feMerge></filter><circle stroke=\"none\" stroke-width=\"2\" id=\"wtg\" r=\"12\"/><rect stroke=\"none\" stroke-width=\"2\" id=\"oss\" width=\"21\" height=\"21\" fill=\"lawngreen\"/><circle stroke=\"orange\" stroke-opacity=\"0.3\" stroke-width=\"4\" id=\"dt\" r=\"23\" fill=\"none\"/></defs><g id=\"sheringham\"><path stroke=\"silver\" stroke-dasharray=\"15 7\" stroke-width=\"2\" id=\"border\" d=\"M709 757 30 31 1209 30 1890 757z\" fill-rule=\"evenodd\" fill=\"#111\"/><g stroke=\"crimson\" stroke-width=\"4\" id=\"edges_unspecified\"><line x1=\"643\" y1=\"360\" x2=\"458\" y2=\"344\"/><line x1=\"643\" y1=\"360\" x2=\"706\" y2=\"245\"/><line x1=\"643\" y1=\"360\" x2=\"685\" y2=\"344\"/><line x1=\"643\" y1=\"360\" x2=\"665\" y2=\"444\"/><line x1=\"643\" y1=\"360\" x2=\"593\" y2=\"245\"/><line x1=\"643\" y1=\"360\" x2=\"572\" y2=\"344\"/><line x1=\"643\" y1=\"360\" x2=\"778\" y2=\"443\"/><line x1=\"643\" y1=\"360\" x2=\"551\" y2=\"444\"/><line x1=\"593\" y1=\"245\" x2=\"613\" y2=\"146\"/><line x1=\"685\" y1=\"344\" x2=\"799\" y2=\"344\"/><line x1=\"706\" y1=\"245\" x2=\"727\" y2=\"146\"/><line x1=\"706\" y1=\"245\" x2=\"820\" y2=\"245\"/><line x1=\"479\" y1=\"245\" x2=\"572\" y2=\"344\"/><line x1=\"438\" y1=\"444\" x2=\"551\" y2=\"444\"/><line x1=\"530\" y1=\"543\" x2=\"551\" y2=\"444\"/><line x1=\"644\" y1=\"543\" x2=\"665\" y2=\"444\"/><line x1=\"365\" y1=\"245\" x2=\"458\" y2=\"344\"/><line x1=\"778\" y1=\"443\" x2=\"892\" y2=\"443\"/><line x1=\"1292\" y1=\"428\" x2=\"1212\" y2=\"542\"/><line x1=\"1292\" y1=\"428\" x2=\"1367\" y2=\"344\"/><line x1=\"1292\" y1=\"428\" x2=\"1140\" y2=\"344\"/><line x1=\"1292\" y1=\"428\" x2=\"1346\" y2=\"443\"/><line x1=\"1292\" y1=\"428\" x2=\"1325\" y2=\"542\"/><line x1=\"1292\" y1=\"428\" x2=\"1253\" y2=\"344\"/><line x1=\"1292\" y1=\"428\" x2=\"1233\" y2=\"443\"/><line x1=\"1346\" y1=\"443\" x2=\"1460\" y2=\"443\"/><line x1=\"1367\" y1=\"344\" x2=\"1480\" y2=\"344\"/><line x1=\"1367\" y1=\"344\" x2=\"1388\" y2=\"244\"/><line x1=\"1026\" y1=\"344\" x2=\"1140\" y2=\"344\"/><line x1=\"1645\" y1=\"641\" x2=\"1666\" y2=\"542\"/><line x1=\"1098\" y1=\"542\" x2=\"1212\" y2=\"542\"/><line x1=\"1191\" y1=\"642\" x2=\"1212\" y2=\"542\"/><line x1=\"1119\" y1=\"443\" x2=\"1233\" y2=\"443\"/><line x1=\"1305\" y1=\"642\" x2=\"1325\" y2=\"542\"/><line x1=\"1325\" y1=\"542\" x2=\"1439\" y2=\"542\"/><line x1=\"1253\" y1=\"344\" x2=\"1274\" y2=\"245\"/><line x1=\"1181\" y1=\"145\" x2=\"1295\" y2=\"145\"/><line x1=\"1181\" y1=\"145\" x2=\"1202\" y2=\"46\"/><line x1=\"1160\" y1=\"245\" x2=\"1181\" y2=\"145\"/><line x1=\"1274\" y1=\"245\" x2=\"1295\" y2=\"145\"/><line x1=\"386\" y1=\"146\" x2=\"500\" y2=\"146\"/><line x1=\"386\" y1=\"146\" x2=\"407\" y2=\"47\"/><line x1=\"479\" y1=\"245\" x2=\"500\" y2=\"146\"/><line x1=\"520\" y1=\"47\" x2=\"634\" y2=\"47\"/><line x1=\"613\" y1=\"146\" x2=\"634\" y2=\"47\"/><line x1=\"964\" y1=\"642\" x2=\"985\" y2=\"543\"/><line x1=\"985\" y1=\"543\" x2=\"1005\" y2=\"443\"/><line x1=\"1005\" y1=\"443\" x2=\"1119\" y2=\"443\"/><line x1=\"1077\" y1=\"642\" x2=\"1098\" y2=\"542\"/><line x1=\"1057\" y1=\"741\" x2=\"1077\" y2=\"642\"/><line x1=\"66\" y1=\"47\" x2=\"180\" y2=\"47\"/><line x1=\"159\" y1=\"146\" x2=\"180\" y2=\"47\"/><line x1=\"159\" y1=\"146\" x2=\"273\" y2=\"146\"/><line x1=\"273\" y1=\"146\" x2=\"365\" y2=\"245\"/><line x1=\"716\" y1=\"741\" x2=\"737\" y2=\"642\"/><line x1=\"737\" y1=\"642\" x2=\"758\" y2=\"543\"/><line x1=\"623\" y1=\"642\" x2=\"737\" y2=\"642\"/><line x1=\"830\" y1=\"741\" x2=\"850\" y2=\"642\"/><line x1=\"850\" y1=\"642\" x2=\"871\" y2=\"543\"/><line x1=\"871\" y1=\"543\" x2=\"892\" y2=\"443\"/><line x1=\"943\" y1=\"741\" x2=\"964\" y2=\"642\"/><line x1=\"1284\" y1=\"741\" x2=\"1305\" y2=\"642\"/><line x1=\"1397\" y1=\"741\" x2=\"1418\" y2=\"642\"/><line x1=\"1418\" y1=\"642\" x2=\"1439\" y2=\"542\"/><line x1=\"1026\" y1=\"344\" x2=\"1047\" y2=\"245\"/><line x1=\"345\" y1=\"344\" x2=\"438\" y2=\"444\"/><line x1=\"1170\" y1=\"741\" x2=\"1191\" y2=\"642\"/><line x1=\"623\" y1=\"642\" x2=\"644\" y2=\"543\"/><line x1=\"1625\" y1=\"741\" x2=\"1645\" y2=\"641\"/><line x1=\"1645\" y1=\"641\" x2=\"1759\" y2=\"641\"/><line x1=\"1738\" y1=\"741\" x2=\"1852\" y2=\"740\"/><line x1=\"1738\" y1=\"741\" x2=\"1759\" y2=\"641\"/><line x1=\"293\" y1=\"47\" x2=\"407\" y2=\"47\"/><line x1=\"1532\" y1=\"641\" x2=\"1552\" y2=\"542\"/><line x1=\"1511\" y1=\"741\" x2=\"1532\" y2=\"641\"/><line x1=\"1552\" y1=\"542\" x2=\"1573\" y2=\"443\"/><line x1=\"1460\" y1=\"443\" x2=\"1573\" y2=\"443\"/><line x1=\"252\" y1=\"245\" x2=\"345\" y2=\"344\"/><line x1=\"1068\" y1=\"145\" x2=\"1088\" y2=\"46\"/><line x1=\"1047\" y1=\"245\" x2=\"1068\" y2=\"145\"/><line x1=\"727\" y1=\"146\" x2=\"748\" y2=\"46\"/><line x1=\"840\" y1=\"146\" x2=\"861\" y2=\"46\"/><line x1=\"820\" y1=\"245\" x2=\"840\" y2=\"146\"/><line x1=\"799\" y1=\"344\" x2=\"913\" y2=\"344\"/><line x1=\"913\" y1=\"344\" x2=\"933\" y2=\"245\"/><line x1=\"933\" y1=\"245\" x2=\"954\" y2=\"146\"/><line x1=\"954\" y1=\"146\" x2=\"975\" y2=\"46\"/></g><g stroke=\"darkorange\" stroke-dasharray=\"18 15\" stroke-width=\"4\" id=\"detours\" fill=\"none\"><polyline points=\"1292 428 1573 443 1666 542\"/></g><g id=\"DTgrp\"><use href=\"#dt\" x=\"1573\" y=\"443\"/></g><g id=\"WTGgrp\"><g fill=\"#1f77b4\"><use href=\"#wtg\" x=\"593\" y=\"245\"/><use href=\"#wtg\" x=\"520\" y=\"47\"/><use href=\"#wtg\" x=\"634\" y=\"47\"/><use href=\"#wtg\" x=\"613\" y=\"146\"/></g><g fill=\"#aec7e8\"><use href=\"#wtg\" x=\"685\" y=\"344\"/><use href=\"#wtg\" x=\"799\" y=\"344\"/><use href=\"#wtg\" x=\"913\" y=\"344\"/><use href=\"#wtg\" x=\"933\" y=\"245\"/><use href=\"#wtg\" x=\"954\" y=\"146\"/><use href=\"#wtg\" x=\"975\" y=\"46\"/></g><g fill=\"#ff7f0e\"><use href=\"#wtg\" x=\"706\" y=\"245\"/><use href=\"#wtg\" x=\"727\" y=\"146\"/><use href=\"#wtg\" x=\"748\" y=\"46\"/><use href=\"#wtg\" x=\"840\" y=\"146\"/><use href=\"#wtg\" x=\"820\" y=\"245\"/><use href=\"#wtg\" x=\"861\" y=\"46\"/></g><g fill=\"#ffbb78\"><use href=\"#wtg\" x=\"572\" y=\"344\"/><use href=\"#wtg\" x=\"386\" y=\"146\"/><use href=\"#wtg\" x=\"500\" y=\"146\"/><use href=\"#wtg\" x=\"479\" y=\"245\"/><use href=\"#wtg\" x=\"293\" y=\"47\"/><use href=\"#wtg\" x=\"407\" y=\"47\"/></g><g fill=\"#2ca02c\"><use href=\"#wtg\" x=\"551\" y=\"444\"/><use href=\"#wtg\" x=\"530\" y=\"543\"/><use href=\"#wtg\" x=\"438\" y=\"444\"/><use href=\"#wtg\" x=\"252\" y=\"245\"/><use href=\"#wtg\" x=\"345\" y=\"344\"/></g><g fill=\"#98df8a\"><use href=\"#wtg\" x=\"665\" y=\"444\"/><use href=\"#wtg\" x=\"716\" y=\"741\"/><use href=\"#wtg\" x=\"737\" y=\"642\"/><use href=\"#wtg\" x=\"623\" y=\"642\"/><use href=\"#wtg\" x=\"644\" y=\"543\"/><use href=\"#wtg\" x=\"758\" y=\"543\"/></g><g fill=\"#d62728\"><use href=\"#wtg\" x=\"458\" y=\"344\"/><use href=\"#wtg\" x=\"66\" y=\"47\"/><use href=\"#wtg\" x=\"180\" y=\"47\"/><use href=\"#wtg\" x=\"273\" y=\"146\"/><use href=\"#wtg\" x=\"365\" y=\"245\"/><use href=\"#wtg\" x=\"159\" y=\"146\"/></g><g fill=\"#ff9896\"><use href=\"#wtg\" x=\"778\" y=\"443\"/><use href=\"#wtg\" x=\"830\" y=\"741\"/><use href=\"#wtg\" x=\"850\" y=\"642\"/><use href=\"#wtg\" x=\"871\" y=\"543\"/><use href=\"#wtg\" x=\"892\" y=\"443\"/></g><g fill=\"#9467bd\"><use href=\"#wtg\" x=\"1346\" y=\"443\"/><use href=\"#wtg\" x=\"1532\" y=\"641\"/><use href=\"#wtg\" x=\"1552\" y=\"542\"/><use href=\"#wtg\" x=\"1511\" y=\"741\"/><use href=\"#wtg\" x=\"1573\" y=\"443\"/><use href=\"#wtg\" x=\"1460\" y=\"443\"/></g><g fill=\"#c5b0d5\"><use href=\"#wtg\" x=\"1367\" y=\"344\"/><use href=\"#wtg\" x=\"1388\" y=\"244\"/><use href=\"#wtg\" x=\"1480\" y=\"344\"/></g><g fill=\"#8c564b\"><use href=\"#wtg\" x=\"1140\" y=\"344\"/><use href=\"#wtg\" x=\"1026\" y=\"344\"/><use href=\"#wtg\" x=\"1088\" y=\"46\"/><use href=\"#wtg\" x=\"1068\" y=\"145\"/><use href=\"#wtg\" x=\"1047\" y=\"245\"/></g><g fill=\"#c49c94\"><use href=\"#wtg\" x=\"1666\" y=\"542\"/><use href=\"#wtg\" x=\"1625\" y=\"741\"/><use href=\"#wtg\" x=\"1645\" y=\"641\"/><use href=\"#wtg\" x=\"1738\" y=\"741\"/><use href=\"#wtg\" x=\"1759\" y=\"641\"/><use href=\"#wtg\" x=\"1852\" y=\"740\"/></g><g fill=\"#e377c2\"><use href=\"#wtg\" x=\"1212\" y=\"542\"/><use href=\"#wtg\" x=\"1098\" y=\"542\"/><use href=\"#wtg\" x=\"1077\" y=\"642\"/><use href=\"#wtg\" x=\"1057\" y=\"741\"/><use href=\"#wtg\" x=\"1170\" y=\"741\"/><use href=\"#wtg\" x=\"1191\" y=\"642\"/></g><g fill=\"#f7b6d2\"><use href=\"#wtg\" x=\"1233\" y=\"443\"/><use href=\"#wtg\" x=\"985\" y=\"543\"/><use href=\"#wtg\" x=\"1005\" y=\"443\"/><use href=\"#wtg\" x=\"1119\" y=\"443\"/><use href=\"#wtg\" x=\"943\" y=\"741\"/><use href=\"#wtg\" x=\"964\" y=\"642\"/></g><g fill=\"#7f7f7f\"><use href=\"#wtg\" x=\"1325\" y=\"542\"/><use href=\"#wtg\" x=\"1284\" y=\"741\"/><use href=\"#wtg\" x=\"1305\" y=\"642\"/><use href=\"#wtg\" x=\"1397\" y=\"741\"/><use href=\"#wtg\" x=\"1418\" y=\"642\"/><use href=\"#wtg\" x=\"1439\" y=\"542\"/></g><g fill=\"#c7c7c7\"><use href=\"#wtg\" x=\"1253\" y=\"344\"/><use href=\"#wtg\" x=\"1181\" y=\"145\"/><use href=\"#wtg\" x=\"1295\" y=\"145\"/><use href=\"#wtg\" x=\"1160\" y=\"245\"/><use href=\"#wtg\" x=\"1202\" y=\"46\"/><use href=\"#wtg\" x=\"1274\" y=\"245\"/></g></g><g id=\"OSSgrp\"><use href=\"#oss\" x=\"632.5\" y=\"349.5\"/><use href=\"#oss\" x=\"1281.5\" y=\"417.5\"/></g></g><text filter=\"url(#bg_textbox)\" text-anchor=\"end\" font-family=\"sans-serif\" font-size=\"40\" fill=\"white\" x=\"1890\" y=\"757\"><tspan x=\"1890\" dy=\"-0.0em\">&#931;&#955; = 62887.0 m</tspan><tspan x=\"1890\" dy=\"-1.3em\">(+1) &#945;: 8, &#946;: 8</tspan><tspan x=\"1890\" dy=\"-1.3em\">&#954; = 6, T = 88</tspan></text></svg>"
      ],
      "text/plain": [
       "<optiwindnet.svg.SvgRepr at 0x212225a7a70>"
      ]
     },
     "execution_count": 12,
     "metadata": {},
     "output_type": "execute_result"
    }
   ],
   "source": [
    "wfn.length()"
   ]
  },
  {
   "cell_type": "code",
   "execution_count": null,
   "id": "789ab366",
   "metadata": {},
   "outputs": [],
   "source": [
    "wfn.plot()"
   ]
  }
 ],
 "metadata": {
  "kernelspec": {
   "display_name": "OptiWindNet",
   "language": "python",
   "name": "python3"
  },
  "language_info": {
   "codemirror_mode": {
    "name": "ipython",
    "version": 3
   },
   "file_extension": ".py",
   "mimetype": "text/x-python",
   "name": "python",
   "nbconvert_exporter": "python",
   "pygments_lexer": "ipython3",
   "version": "3.12.9"
  }
 },
 "nbformat": 4,
 "nbformat_minor": 5
}
