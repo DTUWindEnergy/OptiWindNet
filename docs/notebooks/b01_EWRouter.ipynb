{
 "cells": [
  {
   "cell_type": "markdown",
   "id": "fbed597e",
   "metadata": {},
   "source": [
    "# EWRouter example"
   ]
  },
  {
   "cell_type": "markdown",
   "id": "c7f58b02",
   "metadata": {},
   "source": [
    "This notebook uses `OptiWindNet` to route the collector system cables via `EWRouter`."
   ]
  },
  {
   "cell_type": "markdown",
   "id": "eb6066d8",
   "metadata": {},
   "source": [
    "### ⚡ EWRouter (Esau-Williams Heuristic)"
   ]
  },
  {
   "cell_type": "markdown",
   "id": "6b901e0f",
   "metadata": {},
   "source": [
    "`EWRouter` is a *fast and lightweight heuristic router* based on the *Esau-Williams algorithm*. It builds a spanning tree that connects turbines to substations while respecting cable capacity constraints. This method is especially suitable for *quick prototyping* and *large-scale layouts* where optimization speed is more important than global optimality.\n",
    "\n",
    "> `EWRouter` is the default router used in `WindFarmNetwork`. If no router is specified when creating a `WindFarmNetwork` instance, `.optimize()` will automatically run with `EWRouter`."
   ]
  },
  {
   "cell_type": "markdown",
   "id": "3be8e42a",
   "metadata": {},
   "source": [
    "#### 🔧 Constructor: `EWRouter(...)`"
   ]
  },
  {
   "cell_type": "markdown",
   "id": "06c495e2",
   "metadata": {},
   "source": [
    "**Required arguments:**\n",
    "\n",
    "* None -> You can instantiate `EWRouter()` without any arguments.\n",
    "\n",
    "**Optional arguments:**\n",
    "\n",
    "| Argument       | Type   | Description                                                                                                                                                          |\n",
    "| -------------- | ------ | -------------------------------------------------------------------------------------------------------------------------------------------------------------------- |\n",
    "| `maxiter`      | `int`  | Maximum number of iterations (default: `10000`). Controls how long the heuristic explores the search space.                                                               |\n",
    "| `feeder_route` | `str`  | Routing style:<br>• `\"segmented\"` *(default)*<br>• `\"straight\"` |\n",
    "| `verbose`      | `bool` | If `True`, prints potential warnings during routing (default: `False`).                                                                                               |\n",
    "\n",
    "**✅ Example**\n",
    "\n",
    "```python\n",
    "# Implicit use of EWRouter as default\n",
    "wf = WindFarmNetwork(cables=..., turbinesC=..., substationsC=...)\n",
    "wf.optimize()  # Uses EWRouter by default\n",
    "\n",
    "# Explicitly use with custom options\n",
    "router = EWRouter(feeder_route='straight', maxiter=5000)\n",
    "wf = WindFarmNetwork(cables=..., turbinesC=..., substationsC=..., router=router)\n",
    "wf.optimize()\n",
    "```\n",
    "\n",
    ">While `EWRouter` is very efficient, it’s a *heuristic* and does *not guarantee globally optimal* solutions. Use it when you need speed or when solving large problems where exact methods are too slow."
   ]
  },
  {
   "cell_type": "code",
   "execution_count": 13,
   "id": "c42a3703-113b-4aee-8dfb-a0b3b54663e6",
   "metadata": {},
   "outputs": [],
   "source": [
    "from optiwindnet.api import WindFarmNetwork, EWRouter"
   ]
  },
  {
   "cell_type": "code",
   "execution_count": 14,
   "id": "dcede524",
   "metadata": {},
   "outputs": [],
   "source": [
    "# Display figures as SVG in Jupyter notebooks\n",
    "%config InlineBackend.figure_formats = ['svg']"
   ]
  },
  {
   "cell_type": "markdown",
   "id": "54a4dcb5",
   "metadata": {},
   "source": [
    "create an instance of `wfn` using `.from_pbf()`\n"
   ]
  },
  {
   "cell_type": "code",
   "execution_count": 15,
   "id": "1c6f3015",
   "metadata": {},
   "outputs": [],
   "source": [
    "wfn = WindFarmNetwork.from_pbf(filepath='data/DTU_letters.osm.pbf', cables=[(7, 2000.0)])"
   ]
  },
  {
   "cell_type": "code",
   "execution_count": 16,
   "id": "c838598f",
   "metadata": {},
   "outputs": [
    {
     "data": {
      "image/svg+xml": [
       "<svg xmlns=\"http://www.w3.org/2000/svg\" viewBox=\"0 0 1920 891\"><defs><circle stroke=\"none\" stroke-width=\"2\" id=\"wtg\" r=\"12\"/><rect stroke=\"#111\" stroke-width=\"2\" id=\"oss\" width=\"21\" height=\"21\" fill=\"lawngreen\"/></defs><g id=\"dtu\"><path stroke=\"silver\" stroke-dasharray=\"15 7\" stroke-width=\"2\" id=\"border\" d=\"M30 861 405 859 519 794 605 676 650 524 650 366 770 366 770 861 1150 861 1149 366 1270 366 1271 533 1319 684 1408 799 1522 860 1646 858 1759 793 1845 675 1890 525 1890 30 1625 30 1625 501 1618 537 1606 564 1589 579 1572 580 1555 566 1542 539 1535 502 1535 31 30 30z M260 658 260 233 328 232 372 263 407 323 426 400 426 485 408 564 375 625 331 658z\" fill-rule=\"evenodd\" fill=\"#111\"/><g id=\"WTGgrp\"><g fill=\"#9edae5\"><use href=\"#wtg\" x=\"107\" y=\"42\"/><use href=\"#wtg\" x=\"237\" y=\"206\"/><use href=\"#wtg\" x=\"58\" y=\"286\"/><use href=\"#wtg\" x=\"239\" y=\"398\"/><use href=\"#wtg\" x=\"77\" y=\"590\"/><use href=\"#wtg\" x=\"329\" y=\"847\"/><use href=\"#wtg\" x=\"525\" y=\"753\"/><use href=\"#wtg\" x=\"236\" y=\"687\"/><use href=\"#wtg\" x=\"633\" y=\"448\"/><use href=\"#wtg\" x=\"438\" y=\"556\"/><use href=\"#wtg\" x=\"420\" y=\"282\"/><use href=\"#wtg\" x=\"392\" y=\"81\"/><use href=\"#wtg\" x=\"575\" y=\"202\"/><use href=\"#wtg\" x=\"739\" y=\"334\"/><use href=\"#wtg\" x=\"630\" y=\"43\"/><use href=\"#wtg\" x=\"1064\" y=\"42\"/><use href=\"#wtg\" x=\"915\" y=\"397\"/><use href=\"#wtg\" x=\"785\" y=\"526\"/><use href=\"#wtg\" x=\"1643\" y=\"840\"/><use href=\"#wtg\" x=\"904\" y=\"678\"/><use href=\"#wtg\" x=\"993\" y=\"847\"/><use href=\"#wtg\" x=\"1129\" y=\"512\"/><use href=\"#wtg\" x=\"828\" y=\"155\"/><use href=\"#wtg\" x=\"1271\" y=\"147\"/><use href=\"#wtg\" x=\"1068\" y=\"249\"/><use href=\"#wtg\" x=\"1517\" y=\"49\"/><use href=\"#wtg\" x=\"1519\" y=\"280\"/><use href=\"#wtg\" x=\"1313\" y=\"351\"/><use href=\"#wtg\" x=\"1445\" y=\"482\"/><use href=\"#wtg\" x=\"1338\" y=\"626\"/><use href=\"#wtg\" x=\"1446\" y=\"787\"/><use href=\"#wtg\" x=\"1588\" y=\"630\"/><use href=\"#wtg\" x=\"1823\" y=\"671\"/><use href=\"#wtg\" x=\"1649\" y=\"377\"/><use href=\"#wtg\" x=\"1875\" y=\"478\"/><use href=\"#wtg\" x=\"1876\" y=\"252\"/><use href=\"#wtg\" x=\"51\" y=\"845\"/><use href=\"#wtg\" x=\"1692\" y=\"146\"/><use href=\"#wtg\" x=\"1878\" y=\"42\"/><use href=\"#wtg\" x=\"1137\" y=\"704\"/></g></g><g id=\"OSSgrp\"><use href=\"#oss\" x=\"1199.5\" y=\"320.5\"/></g></g></svg>"
      ],
      "text/plain": [
       "<optiwindnet.api.WindFarmNetwork at 0x22586c4a0c0>"
      ]
     },
     "execution_count": 16,
     "metadata": {},
     "output_type": "execute_result"
    }
   ],
   "source": [
    "wfn"
   ]
  },
  {
   "cell_type": "markdown",
   "id": "5d38a18d-ab5e-4b03-ae74-9ccb4dedbe07",
   "metadata": {},
   "source": [
    "### Optimize with EWRouter"
   ]
  },
  {
   "cell_type": "markdown",
   "id": "d77b7cc6",
   "metadata": {},
   "source": [
    "#### Optimize with default setting."
   ]
  },
  {
   "cell_type": "code",
   "execution_count": 17,
   "id": "7884b794",
   "metadata": {},
   "outputs": [
    {
     "name": "stdout",
     "output_type": "stream",
     "text": [
      "1820.1681190424422\n"
     ]
    },
    {
     "data": {
      "image/svg+xml": [
       "<svg xmlns=\"http://www.w3.org/2000/svg\" viewBox=\"0 0 1920 891\"><defs><circle stroke=\"orange\" stroke-opacity=\"0.3\" stroke-width=\"4\" id=\"dt\" r=\"23\" fill=\"none\"/><circle stroke=\"none\" stroke-width=\"2\" id=\"wtg\" r=\"12\"/><rect stroke=\"#111\" stroke-width=\"2\" id=\"oss\" width=\"21\" height=\"21\" fill=\"lawngreen\"/><filter x=\"-5%\" y=\"-5%\" id=\"bg_textbox\" width=\"110%\" height=\"110%\"><feFlood flood-opacity=\"0.6\" flood-color=\"black\" result=\"bg\"/><feMerge><feMergeNode in=\"bg\"/><feMergeNode in=\"SourceGraphic\"/></feMerge></filter></defs><g id=\"dtu\"><path stroke=\"silver\" stroke-dasharray=\"15 7\" stroke-width=\"2\" id=\"border\" d=\"M30 861 405 859 519 794 605 676 650 524 650 366 770 366 770 861 1150 861 1149 366 1270 366 1271 533 1319 684 1408 799 1522 860 1646 858 1759 793 1845 675 1890 525 1890 30 1625 30 1625 501 1618 537 1606 564 1589 579 1572 580 1555 566 1542 539 1535 502 1535 31 30 30z M260 658 260 233 328 232 372 263 407 323 426 400 426 485 408 564 375 625 331 658z\" fill-rule=\"evenodd\" fill=\"#111\"/><g stroke=\"crimson\" stroke-width=\"4\" id=\"edges_unspecified\"><line x1=\"107\" y1=\"42\" x2=\"237\" y2=\"206\"/><line x1=\"1210\" y1=\"331\" x2=\"1271\" y2=\"147\"/><line x1=\"1210\" y1=\"331\" x2=\"915\" y2=\"397\"/><line x1=\"1210\" y1=\"331\" x2=\"1068\" y2=\"249\"/><line x1=\"1210\" y1=\"331\" x2=\"1313\" y2=\"351\"/><line x1=\"237\" y1=\"206\" x2=\"239\" y2=\"398\"/><line x1=\"237\" y1=\"206\" x2=\"58\" y2=\"286\"/><line x1=\"77\" y1=\"590\" x2=\"236\" y2=\"687\"/><line x1=\"329\" y1=\"847\" x2=\"236\" y2=\"687\"/><line x1=\"329\" y1=\"847\" x2=\"525\" y2=\"753\"/><line x1=\"525\" y1=\"753\" x2=\"438\" y2=\"556\"/><line x1=\"236\" y1=\"687\" x2=\"51\" y2=\"845\"/><line x1=\"633\" y1=\"448\" x2=\"438\" y2=\"556\"/><line x1=\"420\" y1=\"282\" x2=\"575\" y2=\"202\"/><line x1=\"420\" y1=\"282\" x2=\"392\" y2=\"81\"/><line x1=\"739\" y1=\"334\" x2=\"915\" y2=\"397\"/><line x1=\"739\" y1=\"334\" x2=\"828\" y2=\"155\"/><line x1=\"630\" y1=\"43\" x2=\"828\" y2=\"155\"/><line x1=\"1064\" y1=\"42\" x2=\"1068\" y2=\"249\"/><line x1=\"915\" y1=\"397\" x2=\"785\" y2=\"526\"/><line x1=\"785\" y1=\"526\" x2=\"904\" y2=\"678\"/><line x1=\"1643\" y1=\"840\" x2=\"1446\" y2=\"787\"/><line x1=\"904\" y1=\"678\" x2=\"993\" y2=\"847\"/><line x1=\"1129\" y1=\"512\" x2=\"1137\" y2=\"704\"/><line x1=\"1517\" y1=\"49\" x2=\"1519\" y2=\"280\"/><line x1=\"1519\" y1=\"280\" x2=\"1313\" y2=\"351\"/><line x1=\"1313\" y1=\"351\" x2=\"1445\" y2=\"482\"/><line x1=\"1445\" y1=\"482\" x2=\"1338\" y2=\"626\"/><line x1=\"1338\" y1=\"626\" x2=\"1446\" y2=\"787\"/><line x1=\"1588\" y1=\"630\" x2=\"1823\" y2=\"671\"/><line x1=\"1823\" y1=\"671\" x2=\"1875\" y2=\"478\"/><line x1=\"1649\" y1=\"377\" x2=\"1692\" y2=\"146\"/><line x1=\"1875\" y1=\"478\" x2=\"1876\" y2=\"252\"/><line x1=\"1876\" y1=\"252\" x2=\"1878\" y2=\"42\"/><line x1=\"1876\" y1=\"252\" x2=\"1692\" y2=\"146\"/></g><g stroke=\"red\" stroke-width=\"4\" id=\"edges_contour\"><line x1=\"237\" y1=\"206\" x2=\"328\" y2=\"232\"/><line x1=\"420\" y1=\"282\" x2=\"328\" y2=\"232\"/></g><g stroke=\"darkorange\" stroke-dasharray=\"18 15\" stroke-width=\"4\" id=\"detours\" fill=\"none\"><polyline points=\"1210 331 630 43 575 202\"/><polyline points=\"1210 331 630 43 633 448\"/><polyline points=\"1210 331 1270 366 1338 626 1446 787 1643 840 1588 630\"/><polyline points=\"1210 331 1149 366 1129 512\"/></g><g id=\"DTgrp\"><use href=\"#dt\" x=\"630\" y=\"43\"/><use href=\"#dt\" x=\"630\" y=\"43\"/><use href=\"#dt\" x=\"1643\" y=\"840\"/><use href=\"#dt\" x=\"1446\" y=\"787\"/><use href=\"#dt\" x=\"1338\" y=\"626\"/><use href=\"#dt\" x=\"1270\" y=\"366\"/><use href=\"#dt\" x=\"1149\" y=\"366\"/></g><g id=\"WTGgrp\"><g fill=\"#aec7e8\"><use href=\"#wtg\" x=\"107\" y=\"42\"/><use href=\"#wtg\" x=\"237\" y=\"206\"/><use href=\"#wtg\" x=\"58\" y=\"286\"/><use href=\"#wtg\" x=\"239\" y=\"398\"/><use href=\"#wtg\" x=\"420\" y=\"282\"/><use href=\"#wtg\" x=\"392\" y=\"81\"/><use href=\"#wtg\" x=\"575\" y=\"202\"/></g><g fill=\"#1f77b4\"><use href=\"#wtg\" x=\"77\" y=\"590\"/><use href=\"#wtg\" x=\"329\" y=\"847\"/><use href=\"#wtg\" x=\"525\" y=\"753\"/><use href=\"#wtg\" x=\"236\" y=\"687\"/><use href=\"#wtg\" x=\"633\" y=\"448\"/><use href=\"#wtg\" x=\"438\" y=\"556\"/><use href=\"#wtg\" x=\"51\" y=\"845\"/></g><g fill=\"#ff7f0e\"><use href=\"#wtg\" x=\"739\" y=\"334\"/><use href=\"#wtg\" x=\"630\" y=\"43\"/><use href=\"#wtg\" x=\"915\" y=\"397\"/><use href=\"#wtg\" x=\"785\" y=\"526\"/><use href=\"#wtg\" x=\"904\" y=\"678\"/><use href=\"#wtg\" x=\"993\" y=\"847\"/><use href=\"#wtg\" x=\"828\" y=\"155\"/></g><g fill=\"#98df8a\"><use href=\"#wtg\" x=\"1064\" y=\"42\"/><use href=\"#wtg\" x=\"1068\" y=\"249\"/></g><g fill=\"#d62728\"><use href=\"#wtg\" x=\"1643\" y=\"840\"/><use href=\"#wtg\" x=\"1517\" y=\"49\"/><use href=\"#wtg\" x=\"1519\" y=\"280\"/><use href=\"#wtg\" x=\"1313\" y=\"351\"/><use href=\"#wtg\" x=\"1445\" y=\"482\"/><use href=\"#wtg\" x=\"1338\" y=\"626\"/><use href=\"#wtg\" x=\"1446\" y=\"787\"/></g><g fill=\"#ffbb78\"><use href=\"#wtg\" x=\"1129\" y=\"512\"/><use href=\"#wtg\" x=\"1137\" y=\"704\"/></g><g fill=\"#2ca02c\"><use href=\"#wtg\" x=\"1271\" y=\"147\"/></g><g fill=\"#ff9896\"><use href=\"#wtg\" x=\"1588\" y=\"630\"/><use href=\"#wtg\" x=\"1823\" y=\"671\"/><use href=\"#wtg\" x=\"1649\" y=\"377\"/><use href=\"#wtg\" x=\"1875\" y=\"478\"/><use href=\"#wtg\" x=\"1876\" y=\"252\"/><use href=\"#wtg\" x=\"1692\" y=\"146\"/><use href=\"#wtg\" x=\"1878\" y=\"42\"/></g></g><g id=\"OSSgrp\"><use href=\"#oss\" x=\"1199.5\" y=\"320.5\"/></g></g><text filter=\"url(#bg_textbox)\" text-anchor=\"end\" font-family=\"sans-serif\" font-size=\"40\" fill=\"white\" x=\"1890\" y=\"861\"><tspan x=\"1890\" dy=\"-0.0em\">3640336 &#8364;</tspan><tspan x=\"1890\" dy=\"-1.3em\">&#931;&#955; = 1820.2 m</tspan><tspan x=\"1890\" dy=\"-1.3em\">(+2) [-1]: 8</tspan><tspan x=\"1890\" dy=\"-1.3em\">&#954; = 7, T = 40</tspan></text></svg>"
      ],
      "text/plain": [
       "<optiwindnet.api.WindFarmNetwork at 0x22586c4a0c0>"
      ]
     },
     "execution_count": 17,
     "metadata": {},
     "output_type": "execute_result"
    }
   ],
   "source": [
    "router = EWRouter()\n",
    "res = wfn.optimize(router=router)\n",
    "print(wfn.length())\n",
    "wfn"
   ]
  },
  {
   "cell_type": "markdown",
   "id": "49c807c9",
   "metadata": {},
   "source": [
    "#### Optimize with user-defined setting."
   ]
  },
  {
   "cell_type": "code",
   "execution_count": 18,
   "id": "98fc84a8",
   "metadata": {},
   "outputs": [
    {
     "name": "stdout",
     "output_type": "stream",
     "text": [
      "1707.0505869707904\n"
     ]
    },
    {
     "data": {
      "image/svg+xml": [
       "<svg xmlns=\"http://www.w3.org/2000/svg\" viewBox=\"0 0 1920 891\"><defs><circle stroke=\"orange\" stroke-opacity=\"0.3\" stroke-width=\"4\" id=\"dt\" r=\"23\" fill=\"none\"/><circle stroke=\"none\" stroke-width=\"2\" id=\"wtg\" r=\"12\"/><rect stroke=\"#111\" stroke-width=\"2\" id=\"oss\" width=\"21\" height=\"21\" fill=\"lawngreen\"/><filter x=\"-5%\" y=\"-5%\" id=\"bg_textbox\" width=\"110%\" height=\"110%\"><feFlood flood-opacity=\"0.6\" flood-color=\"black\" result=\"bg\"/><feMerge><feMergeNode in=\"bg\"/><feMergeNode in=\"SourceGraphic\"/></feMerge></filter></defs><g id=\"dtu\"><path stroke=\"silver\" stroke-dasharray=\"15 7\" stroke-width=\"2\" id=\"border\" d=\"M30 861 405 859 519 794 605 676 650 524 650 366 770 366 770 861 1150 861 1149 366 1270 366 1271 533 1319 684 1408 799 1522 860 1646 858 1759 793 1845 675 1890 525 1890 30 1625 30 1625 501 1618 537 1606 564 1589 579 1572 580 1555 566 1542 539 1535 502 1535 31 30 30z M260 658 260 233 328 232 372 263 407 323 426 400 426 485 408 564 375 625 331 658z\" fill-rule=\"evenodd\" fill=\"#111\"/><g stroke=\"crimson\" stroke-width=\"4\" id=\"edges_unspecified\"><line x1=\"1210\" y1=\"331\" x2=\"1271\" y2=\"147\"/><line x1=\"1210\" y1=\"331\" x2=\"1068\" y2=\"249\"/><line x1=\"1210\" y1=\"331\" x2=\"1313\" y2=\"351\"/><line x1=\"1210\" y1=\"331\" x2=\"575\" y2=\"202\"/><line x1=\"1210\" y1=\"331\" x2=\"739\" y2=\"334\"/><line x1=\"633\" y1=\"448\" x2=\"438\" y2=\"556\"/><line x1=\"525\" y1=\"753\" x2=\"438\" y2=\"556\"/><line x1=\"329\" y1=\"847\" x2=\"525\" y2=\"753\"/><line x1=\"329\" y1=\"847\" x2=\"236\" y2=\"687\"/><line x1=\"77\" y1=\"590\" x2=\"236\" y2=\"687\"/><line x1=\"236\" y1=\"687\" x2=\"51\" y2=\"845\"/><line x1=\"420\" y1=\"282\" x2=\"575\" y2=\"202\"/><line x1=\"420\" y1=\"282\" x2=\"392\" y2=\"81\"/><line x1=\"107\" y1=\"42\" x2=\"237\" y2=\"206\"/><line x1=\"237\" y1=\"206\" x2=\"239\" y2=\"398\"/><line x1=\"237\" y1=\"206\" x2=\"58\" y2=\"286\"/><line x1=\"1129\" y1=\"512\" x2=\"1137\" y2=\"704\"/><line x1=\"993\" y1=\"847\" x2=\"1137\" y2=\"704\"/><line x1=\"904\" y1=\"678\" x2=\"993\" y2=\"847\"/><line x1=\"785\" y1=\"526\" x2=\"904\" y2=\"678\"/><line x1=\"915\" y1=\"397\" x2=\"785\" y2=\"526\"/><line x1=\"828\" y1=\"155\" x2=\"1068\" y2=\"249\"/><line x1=\"1064\" y1=\"42\" x2=\"1068\" y2=\"249\"/><line x1=\"630\" y1=\"43\" x2=\"828\" y2=\"155\"/><line x1=\"1313\" y1=\"351\" x2=\"1445\" y2=\"482\"/><line x1=\"1519\" y1=\"280\" x2=\"1313\" y2=\"351\"/><line x1=\"1517\" y1=\"49\" x2=\"1519\" y2=\"280\"/><line x1=\"1338\" y1=\"626\" x2=\"1446\" y2=\"787\"/><line x1=\"1643\" y1=\"840\" x2=\"1446\" y2=\"787\"/><line x1=\"1588\" y1=\"630\" x2=\"1823\" y2=\"671\"/><line x1=\"1823\" y1=\"671\" x2=\"1875\" y2=\"478\"/><line x1=\"1875\" y1=\"478\" x2=\"1876\" y2=\"252\"/><line x1=\"1876\" y1=\"252\" x2=\"1878\" y2=\"42\"/><line x1=\"1876\" y1=\"252\" x2=\"1692\" y2=\"146\"/><line x1=\"1649\" y1=\"377\" x2=\"1692\" y2=\"146\"/></g><g stroke=\"red\" stroke-width=\"4\" id=\"edges_contour\"><line x1=\"420\" y1=\"282\" x2=\"328\" y2=\"232\"/><line x1=\"237\" y1=\"206\" x2=\"328\" y2=\"232\"/></g><g stroke=\"darkorange\" stroke-dasharray=\"18 15\" stroke-width=\"4\" id=\"detours\" fill=\"none\"><polyline points=\"1210 331 1270 366 1338 626\"/><polyline points=\"1210 331 650 366 633 448\"/><polyline points=\"1210 331 1270 366 1588 630\"/><polyline points=\"1210 331 1149 366 1129 512\"/></g><g id=\"DTgrp\"><use href=\"#dt\" x=\"1270\" y=\"366\"/><use href=\"#dt\" x=\"650\" y=\"366\"/><use href=\"#dt\" x=\"1270\" y=\"366\"/><use href=\"#dt\" x=\"1149\" y=\"366\"/></g><g id=\"WTGgrp\"><g fill=\"#1f77b4\"><use href=\"#wtg\" x=\"633\" y=\"448\"/><use href=\"#wtg\" x=\"438\" y=\"556\"/><use href=\"#wtg\" x=\"525\" y=\"753\"/><use href=\"#wtg\" x=\"329\" y=\"847\"/><use href=\"#wtg\" x=\"236\" y=\"687\"/><use href=\"#wtg\" x=\"51\" y=\"845\"/><use href=\"#wtg\" x=\"77\" y=\"590\"/></g><g fill=\"#aec7e8\"><use href=\"#wtg\" x=\"575\" y=\"202\"/><use href=\"#wtg\" x=\"420\" y=\"282\"/><use href=\"#wtg\" x=\"237\" y=\"206\"/><use href=\"#wtg\" x=\"58\" y=\"286\"/><use href=\"#wtg\" x=\"107\" y=\"42\"/><use href=\"#wtg\" x=\"239\" y=\"398\"/><use href=\"#wtg\" x=\"392\" y=\"81\"/></g><g fill=\"#ff7f0e\"><use href=\"#wtg\" x=\"739\" y=\"334\"/></g><g fill=\"#ffbb78\"><use href=\"#wtg\" x=\"1129\" y=\"512\"/><use href=\"#wtg\" x=\"1137\" y=\"704\"/><use href=\"#wtg\" x=\"993\" y=\"847\"/><use href=\"#wtg\" x=\"904\" y=\"678\"/><use href=\"#wtg\" x=\"785\" y=\"526\"/><use href=\"#wtg\" x=\"915\" y=\"397\"/></g><g fill=\"#2ca02c\"><use href=\"#wtg\" x=\"1271\" y=\"147\"/></g><g fill=\"#98df8a\"><use href=\"#wtg\" x=\"1068\" y=\"249\"/><use href=\"#wtg\" x=\"828\" y=\"155\"/><use href=\"#wtg\" x=\"630\" y=\"43\"/><use href=\"#wtg\" x=\"1064\" y=\"42\"/></g><g fill=\"#d62728\"><use href=\"#wtg\" x=\"1313\" y=\"351\"/><use href=\"#wtg\" x=\"1519\" y=\"280\"/><use href=\"#wtg\" x=\"1517\" y=\"49\"/><use href=\"#wtg\" x=\"1445\" y=\"482\"/></g><g fill=\"#ff9896\"><use href=\"#wtg\" x=\"1338\" y=\"626\"/><use href=\"#wtg\" x=\"1446\" y=\"787\"/><use href=\"#wtg\" x=\"1643\" y=\"840\"/></g><g fill=\"#9467bd\"><use href=\"#wtg\" x=\"1588\" y=\"630\"/><use href=\"#wtg\" x=\"1823\" y=\"671\"/><use href=\"#wtg\" x=\"1875\" y=\"478\"/><use href=\"#wtg\" x=\"1876\" y=\"252\"/><use href=\"#wtg\" x=\"1878\" y=\"42\"/><use href=\"#wtg\" x=\"1692\" y=\"146\"/><use href=\"#wtg\" x=\"1649\" y=\"377\"/></g></g><g id=\"OSSgrp\"><use href=\"#oss\" x=\"1199.5\" y=\"320.5\"/></g></g><text filter=\"url(#bg_textbox)\" text-anchor=\"end\" font-family=\"sans-serif\" font-size=\"40\" fill=\"white\" x=\"1890\" y=\"861\"><tspan x=\"1890\" dy=\"-0.0em\">3414101 &#8364;</tspan><tspan x=\"1890\" dy=\"-1.3em\">&#931;&#955; = 1707.1 m</tspan><tspan x=\"1890\" dy=\"-1.3em\">(+3) [-1]: 9</tspan><tspan x=\"1890\" dy=\"-1.3em\">&#954; = 7, T = 40</tspan></text></svg>"
      ],
      "text/plain": [
       "<optiwindnet.api.WindFarmNetwork at 0x22586c4a0c0>"
      ]
     },
     "execution_count": 18,
     "metadata": {},
     "output_type": "execute_result"
    }
   ],
   "source": [
    "router = EWRouter(        \n",
    "        maxiter=20000,\n",
    "        feeder_route='straight',\n",
    "        verbose=True)\n",
    "res = wfn.optimize(router=router)\n",
    "print(wfn.length())\n",
    "wfn"
   ]
  }
 ],
 "metadata": {
  "kernelspec": {
   "display_name": "OptiWindNet",
   "language": "python",
   "name": "python3"
  },
  "language_info": {
   "codemirror_mode": {
    "name": "ipython",
    "version": 3
   },
   "file_extension": ".py",
   "mimetype": "text/x-python",
   "name": "python",
   "nbconvert_exporter": "python",
   "pygments_lexer": "ipython3",
   "version": "3.12.9"
  }
 },
 "nbformat": 4,
 "nbformat_minor": 5
}
