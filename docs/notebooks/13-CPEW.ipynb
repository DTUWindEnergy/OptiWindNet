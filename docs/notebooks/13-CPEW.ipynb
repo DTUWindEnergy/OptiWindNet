{
 "cells": [
  {
   "cell_type": "markdown",
   "id": "3ce77085-3338-46b2-8784-de1187f43f25",
   "metadata": {},
   "source": [
    "## Crossing-Preventing Esau-Williams (CPEW) example"
   ]
  },
  {
   "cell_type": "markdown",
   "id": "71a324a5-727c-40a0-b4df-72d522633b16",
   "metadata": {},
   "source": [
    "CPEW is a heuristic from *interarray* (*optiwindnet*'s predecessor). It takes in the raw location **L** and outputs the routeset **G**."
   ]
  },
  {
   "cell_type": "code",
   "execution_count": 1,
   "id": "672c7061-abbf-4da0-9236-232dde141ac9",
   "metadata": {},
   "outputs": [],
   "source": [
    "from optiwindnet.importer import load_repository\n",
    "from optiwindnet.svg import svgplot\n",
    "from optiwindnet.heuristics import CPEW\n",
    "from optiwindnet.interarraylib import calcload"
   ]
  },
  {
   "cell_type": "markdown",
   "id": "92bfd6df-c545-48d2-b4d0-e69a1a6c473b",
   "metadata": {},
   "source": [
    "### Load Merkur"
   ]
  },
  {
   "cell_type": "code",
   "execution_count": 2,
   "id": "51e1e821-a0ea-47c3-a197-4b625bbf3a3b",
   "metadata": {},
   "outputs": [],
   "source": [
    "locations = load_repository()"
   ]
  },
  {
   "cell_type": "code",
   "execution_count": 3,
   "id": "36ac83fb-02db-4640-b7a5-891715f70b83",
   "metadata": {},
   "outputs": [
    {
     "data": {
      "image/svg+xml": [
       "<svg xmlns=\"http://www.w3.org/2000/svg\" viewBox=\"0 0 1920 1080\"><defs><circle stroke=\"none\" stroke-width=\"2\" id=\"wtg\" r=\"12\"/><rect stroke=\"#111\" stroke-width=\"2\" id=\"oss\" width=\"21\" height=\"21\" fill=\"lawngreen\"/></defs><g id=\"merkur\"><path stroke=\"silver\" stroke-dasharray=\"15 7\" stroke-width=\"2\" id=\"border\" d=\"M659 636 821 1024 862 1050 979 1008 1457 304 1452 154 1411 44 1377 30 1146 114 902 87 621 62 385 30 30 171 161 523 197 777 241 794z\" fill-rule=\"evenodd\" fill=\"#111\"/><g id=\"WTGgrp\"><g fill=\"#9edae5\"><use href=\"#wtg\" x=\"66\" y=\"187\"/><use href=\"#wtg\" x=\"220\" y=\"767\"/><use href=\"#wtg\" x=\"655\" y=\"594\"/><use href=\"#wtg\" x=\"395\" y=\"58\"/><use href=\"#wtg\" x=\"962\" y=\"995\"/><use href=\"#wtg\" x=\"1161\" y=\"147\"/><use href=\"#wtg\" x=\"1417\" y=\"290\"/><use href=\"#wtg\" x=\"630\" y=\"98\"/><use href=\"#wtg\" x=\"1388\" y=\"55\"/><use href=\"#wtg\" x=\"1428\" y=\"162\"/><use href=\"#wtg\" x=\"855\" y=\"1032\"/><use href=\"#wtg\" x=\"904\" y=\"117\"/><use href=\"#wtg\" x=\"186\" y=\"507\"/><use href=\"#wtg\" x=\"143\" y=\"402\"/><use href=\"#wtg\" x=\"103\" y=\"292\"/><use href=\"#wtg\" x=\"174\" y=\"144\"/><use href=\"#wtg\" x=\"215\" y=\"250\"/><use href=\"#wtg\" x=\"255\" y=\"357\"/><use href=\"#wtg\" x=\"325\" y=\"206\"/><use href=\"#wtg\" x=\"284\" y=\"100\"/><use href=\"#wtg\" x=\"439\" y=\"303\"/><use href=\"#wtg\" x=\"507\" y=\"146\"/><use href=\"#wtg\" x=\"557\" y=\"258\"/><use href=\"#wtg\" x=\"629\" y=\"482\"/><use href=\"#wtg\" x=\"601\" y=\"365\"/><use href=\"#wtg\" x=\"491\" y=\"411\"/><use href=\"#wtg\" x=\"401\" y=\"571\"/><use href=\"#wtg\" x=\"375\" y=\"457\"/><use href=\"#wtg\" x=\"290\" y=\"616\"/><use href=\"#wtg\" x=\"330\" y=\"723\"/><use href=\"#wtg\" x=\"440\" y=\"680\"/><use href=\"#wtg\" x=\"547\" y=\"638\"/><use href=\"#wtg\" x=\"815\" y=\"925\"/><use href=\"#wtg\" x=\"770\" y=\"798\"/><use href=\"#wtg\" x=\"757\" y=\"679\"/><use href=\"#wtg\" x=\"764\" y=\"550\"/><use href=\"#wtg\" x=\"748\" y=\"434\"/><use href=\"#wtg\" x=\"717\" y=\"318\"/><use href=\"#wtg\" x=\"679\" y=\"208\"/><use href=\"#wtg\" x=\"796\" y=\"161\"/><use href=\"#wtg\" x=\"826\" y=\"276\"/><use href=\"#wtg\" x=\"858\" y=\"391\"/><use href=\"#wtg\" x=\"872\" y=\"509\"/><use href=\"#wtg\" x=\"868\" y=\"634\"/><use href=\"#wtg\" x=\"879\" y=\"755\"/><use href=\"#wtg\" x=\"923\" y=\"878\"/><use href=\"#wtg\" x=\"1033\" y=\"874\"/><use href=\"#wtg\" x=\"987\" y=\"710\"/><use href=\"#wtg\" x=\"977\" y=\"591\"/><use href=\"#wtg\" x=\"980\" y=\"464\"/><use href=\"#wtg\" x=\"973\" y=\"343\"/><use href=\"#wtg\" x=\"940\" y=\"232\"/><use href=\"#wtg\" x=\"1050\" y=\"186\"/><use href=\"#wtg\" x=\"1088\" y=\"298\"/><use href=\"#wtg\" x=\"1091\" y=\"420\"/><use href=\"#wtg\" x=\"1087\" y=\"545\"/><use href=\"#wtg\" x=\"1094\" y=\"668\"/><use href=\"#wtg\" x=\"1103\" y=\"777\"/><use href=\"#wtg\" x=\"1202\" y=\"625\"/><use href=\"#wtg\" x=\"1196\" y=\"500\"/><use href=\"#wtg\" x=\"1200\" y=\"378\"/><use href=\"#wtg\" x=\"1200\" y=\"251\"/><use href=\"#wtg\" x=\"1275\" y=\"102\"/><use href=\"#wtg\" x=\"1307\" y=\"334\"/><use href=\"#wtg\" x=\"1307\" y=\"456\"/><use href=\"#wtg\" x=\"1316\" y=\"207\"/></g></g><g id=\"OSSgrp\"><use href=\"#oss\" x=\"673.5\" y=\"507.5\"/></g></g></svg>"
      ],
      "text/plain": [
       "<optiwindnet.svg.SvgRepr at 0x203f5bd2600>"
      ]
     },
     "execution_count": 3,
     "metadata": {},
     "output_type": "execute_result"
    }
   ],
   "source": [
    "L = locations.merkur\n",
    "svgplot(L)"
   ]
  },
  {
   "cell_type": "markdown",
   "id": "c7d1dd72-c13b-4454-8754-9098e2faf9a8",
   "metadata": {},
   "source": [
    "### Optimize Merkur"
   ]
  },
  {
   "cell_type": "code",
   "execution_count": 4,
   "id": "37c0ec1f-bcc2-4025-92bc-613fdebbf1b1",
   "metadata": {},
   "outputs": [
    {
     "data": {
      "image/svg+xml": [
       "<svg xmlns=\"http://www.w3.org/2000/svg\" viewBox=\"0 0 1920 1080\"><defs><circle stroke=\"none\" stroke-width=\"2\" id=\"wtg\" r=\"12\"/><rect stroke=\"#111\" stroke-width=\"2\" id=\"oss\" width=\"21\" height=\"21\" fill=\"lawngreen\"/><filter x=\"-5%\" y=\"-5%\" id=\"bg_textbox\" width=\"110%\" height=\"110%\"><feFlood flood-opacity=\"0.6\" flood-color=\"black\" result=\"bg\"/><feMerge><feMergeNode in=\"bg\"/><feMergeNode in=\"SourceGraphic\"/></feMerge></filter></defs><g id=\"merkur\"><path stroke=\"silver\" stroke-dasharray=\"15 7\" stroke-width=\"2\" id=\"border\" d=\"M659 636 821 1024 862 1050 979 1008 1457 304 1452 154 1411 44 1377 30 1146 114 902 87 621 62 385 30 30 171 161 523 197 777 241 794z\" fill-rule=\"evenodd\" fill=\"#111\"/><g stroke=\"crimson\" stroke-width=\"4\" id=\"edges_unspecified\"><line x1=\"66\" y1=\"187\" x2=\"103\" y2=\"292\"/><line x1=\"66\" y1=\"187\" x2=\"174\" y2=\"144\"/><line x1=\"220\" y1=\"767\" x2=\"330\" y2=\"723\"/><line x1=\"684\" y1=\"518\" x2=\"655\" y2=\"594\"/><line x1=\"655\" y1=\"594\" x2=\"547\" y2=\"638\"/><line x1=\"655\" y1=\"594\" x2=\"757\" y2=\"679\"/><line x1=\"395\" y1=\"58\" x2=\"284\" y2=\"100\"/><line x1=\"395\" y1=\"58\" x2=\"507\" y2=\"146\"/><line x1=\"962\" y1=\"995\" x2=\"855\" y2=\"1032\"/><line x1=\"1161\" y1=\"147\" x2=\"1200\" y2=\"251\"/><line x1=\"1161\" y1=\"147\" x2=\"1050\" y2=\"186\"/><line x1=\"1417\" y1=\"290\" x2=\"1307\" y2=\"334\"/><line x1=\"630\" y1=\"98\" x2=\"679\" y2=\"208\"/><line x1=\"1388\" y1=\"55\" x2=\"1428\" y2=\"162\"/><line x1=\"1428\" y1=\"162\" x2=\"1316\" y2=\"207\"/><line x1=\"855\" y1=\"1032\" x2=\"815\" y2=\"925\"/><line x1=\"904\" y1=\"117\" x2=\"796\" y2=\"161\"/><line x1=\"186\" y1=\"507\" x2=\"143\" y2=\"402\"/><line x1=\"186\" y1=\"507\" x2=\"290\" y2=\"616\"/><line x1=\"143\" y1=\"402\" x2=\"103\" y2=\"292\"/><line x1=\"174\" y1=\"144\" x2=\"215\" y2=\"250\"/><line x1=\"215\" y1=\"250\" x2=\"255\" y2=\"357\"/><line x1=\"325\" y1=\"206\" x2=\"284\" y2=\"100\"/><line x1=\"439\" y1=\"303\" x2=\"491\" y2=\"411\"/><line x1=\"507\" y1=\"146\" x2=\"557\" y2=\"258\"/><line x1=\"557\" y1=\"258\" x2=\"601\" y2=\"365\"/><line x1=\"684\" y1=\"518\" x2=\"629\" y2=\"482\"/><line x1=\"684\" y1=\"518\" x2=\"601\" y2=\"365\"/><line x1=\"601\" y1=\"365\" x2=\"491\" y2=\"411\"/><line x1=\"491\" y1=\"411\" x2=\"375\" y2=\"457\"/><line x1=\"684\" y1=\"518\" x2=\"401\" y2=\"571\"/><line x1=\"401\" y1=\"571\" x2=\"290\" y2=\"616\"/><line x1=\"330\" y1=\"723\" x2=\"440\" y2=\"680\"/><line x1=\"440\" y1=\"680\" x2=\"547\" y2=\"638\"/><line x1=\"815\" y1=\"925\" x2=\"923\" y2=\"878\"/><line x1=\"770\" y1=\"798\" x2=\"879\" y2=\"755\"/><line x1=\"770\" y1=\"798\" x2=\"757\" y2=\"679\"/><line x1=\"684\" y1=\"518\" x2=\"764\" y2=\"550\"/><line x1=\"764\" y1=\"550\" x2=\"868\" y2=\"634\"/><line x1=\"684\" y1=\"518\" x2=\"748\" y2=\"434\"/><line x1=\"748\" y1=\"434\" x2=\"717\" y2=\"318\"/><line x1=\"717\" y1=\"318\" x2=\"679\" y2=\"208\"/><line x1=\"717\" y1=\"318\" x2=\"826\" y2=\"276\"/><line x1=\"796\" y1=\"161\" x2=\"826\" y2=\"276\"/><line x1=\"858\" y1=\"391\" x2=\"973\" y2=\"343\"/><line x1=\"858\" y1=\"391\" x2=\"872\" y2=\"509\"/><line x1=\"684\" y1=\"518\" x2=\"872\" y2=\"509\"/><line x1=\"872\" y1=\"509\" x2=\"980\" y2=\"464\"/><line x1=\"868\" y1=\"634\" x2=\"977\" y2=\"591\"/><line x1=\"923\" y1=\"878\" x2=\"1033\" y2=\"874\"/><line x1=\"1033\" y1=\"874\" x2=\"1103\" y2=\"777\"/><line x1=\"684\" y1=\"518\" x2=\"987\" y2=\"710\"/><line x1=\"987\" y1=\"710\" x2=\"1094\" y2=\"668\"/><line x1=\"977\" y1=\"591\" x2=\"1087\" y2=\"545\"/><line x1=\"980\" y1=\"464\" x2=\"1091\" y2=\"420\"/><line x1=\"684\" y1=\"518\" x2=\"940\" y2=\"232\"/><line x1=\"940\" y1=\"232\" x2=\"1050\" y2=\"186\"/><line x1=\"1050\" y1=\"186\" x2=\"1088\" y2=\"298\"/><line x1=\"1091\" y1=\"420\" x2=\"1200\" y2=\"378\"/><line x1=\"1087\" y1=\"545\" x2=\"1196\" y2=\"500\"/><line x1=\"1094\" y1=\"668\" x2=\"1202\" y2=\"625\"/><line x1=\"1094\" y1=\"668\" x2=\"1103\" y2=\"777\"/><line x1=\"1196\" y1=\"500\" x2=\"1307\" y2=\"456\"/><line x1=\"1200\" y1=\"378\" x2=\"1307\" y2=\"334\"/><line x1=\"1200\" y1=\"251\" x2=\"1316\" y2=\"207\"/><line x1=\"1275\" y1=\"102\" x2=\"1316\" y2=\"207\"/></g><g id=\"WTGgrp\"><g fill=\"#1f77b4\"><use href=\"#wtg\" x=\"66\" y=\"187\"/><use href=\"#wtg\" x=\"186\" y=\"507\"/><use href=\"#wtg\" x=\"143\" y=\"402\"/><use href=\"#wtg\" x=\"103\" y=\"292\"/><use href=\"#wtg\" x=\"174\" y=\"144\"/><use href=\"#wtg\" x=\"215\" y=\"250\"/><use href=\"#wtg\" x=\"255\" y=\"357\"/><use href=\"#wtg\" x=\"401\" y=\"571\"/><use href=\"#wtg\" x=\"290\" y=\"616\"/></g><g fill=\"#9467bd\"><use href=\"#wtg\" x=\"220\" y=\"767\"/><use href=\"#wtg\" x=\"655\" y=\"594\"/><use href=\"#wtg\" x=\"330\" y=\"723\"/><use href=\"#wtg\" x=\"440\" y=\"680\"/><use href=\"#wtg\" x=\"547\" y=\"638\"/><use href=\"#wtg\" x=\"770\" y=\"798\"/><use href=\"#wtg\" x=\"757\" y=\"679\"/><use href=\"#wtg\" x=\"879\" y=\"755\"/></g><g fill=\"#ff9896\"><use href=\"#wtg\" x=\"395\" y=\"58\"/><use href=\"#wtg\" x=\"325\" y=\"206\"/><use href=\"#wtg\" x=\"284\" y=\"100\"/><use href=\"#wtg\" x=\"439\" y=\"303\"/><use href=\"#wtg\" x=\"507\" y=\"146\"/><use href=\"#wtg\" x=\"557\" y=\"258\"/><use href=\"#wtg\" x=\"601\" y=\"365\"/><use href=\"#wtg\" x=\"491\" y=\"411\"/><use href=\"#wtg\" x=\"375\" y=\"457\"/></g><g fill=\"#98df8a\"><use href=\"#wtg\" x=\"962\" y=\"995\"/><use href=\"#wtg\" x=\"855\" y=\"1032\"/><use href=\"#wtg\" x=\"815\" y=\"925\"/><use href=\"#wtg\" x=\"923\" y=\"878\"/><use href=\"#wtg\" x=\"1033\" y=\"874\"/><use href=\"#wtg\" x=\"987\" y=\"710\"/><use href=\"#wtg\" x=\"1094\" y=\"668\"/><use href=\"#wtg\" x=\"1103\" y=\"777\"/><use href=\"#wtg\" x=\"1202\" y=\"625\"/></g><g fill=\"#2ca02c\"><use href=\"#wtg\" x=\"1161\" y=\"147\"/><use href=\"#wtg\" x=\"1388\" y=\"55\"/><use href=\"#wtg\" x=\"1428\" y=\"162\"/><use href=\"#wtg\" x=\"940\" y=\"232\"/><use href=\"#wtg\" x=\"1050\" y=\"186\"/><use href=\"#wtg\" x=\"1088\" y=\"298\"/><use href=\"#wtg\" x=\"1200\" y=\"251\"/><use href=\"#wtg\" x=\"1275\" y=\"102\"/><use href=\"#wtg\" x=\"1316\" y=\"207\"/></g><g fill=\"#aec7e8\"><use href=\"#wtg\" x=\"1417\" y=\"290\"/><use href=\"#wtg\" x=\"858\" y=\"391\"/><use href=\"#wtg\" x=\"872\" y=\"509\"/><use href=\"#wtg\" x=\"980\" y=\"464\"/><use href=\"#wtg\" x=\"973\" y=\"343\"/><use href=\"#wtg\" x=\"1091\" y=\"420\"/><use href=\"#wtg\" x=\"1200\" y=\"378\"/><use href=\"#wtg\" x=\"1307\" y=\"334\"/></g><g fill=\"#d62728\"><use href=\"#wtg\" x=\"630\" y=\"98\"/><use href=\"#wtg\" x=\"904\" y=\"117\"/><use href=\"#wtg\" x=\"748\" y=\"434\"/><use href=\"#wtg\" x=\"717\" y=\"318\"/><use href=\"#wtg\" x=\"679\" y=\"208\"/><use href=\"#wtg\" x=\"796\" y=\"161\"/><use href=\"#wtg\" x=\"826\" y=\"276\"/></g><g fill=\"#ffbb78\"><use href=\"#wtg\" x=\"629\" y=\"482\"/></g><g fill=\"#ff7f0e\"><use href=\"#wtg\" x=\"764\" y=\"550\"/><use href=\"#wtg\" x=\"868\" y=\"634\"/><use href=\"#wtg\" x=\"977\" y=\"591\"/><use href=\"#wtg\" x=\"1087\" y=\"545\"/><use href=\"#wtg\" x=\"1196\" y=\"500\"/><use href=\"#wtg\" x=\"1307\" y=\"456\"/></g></g><g id=\"OSSgrp\"><use href=\"#oss\" x=\"673.5\" y=\"507.5\"/></g></g><text filter=\"url(#bg_textbox)\" text-anchor=\"end\" font-family=\"sans-serif\" font-size=\"40\" fill=\"white\" x=\"1457\" y=\"1050\"><tspan x=\"1457\" dy=\"-0.0em\">&#931;&#955; = 59922.0 m</tspan><tspan x=\"1457\" dy=\"-1.3em\">(+1) &#945;: 9</tspan><tspan x=\"1457\" dy=\"-1.3em\">&#954; = 9, T = 66</tspan></text></svg>"
      ],
      "text/plain": [
       "<optiwindnet.svg.SvgRepr at 0x203f09b6390>"
      ]
     },
     "execution_count": 4,
     "metadata": {},
     "output_type": "execute_result"
    }
   ],
   "source": [
    "G = CPEW(L, capacity=9)\n",
    "calcload(G)\n",
    "svgplot(G)"
   ]
  }
 ],
 "metadata": {
  "language_info": {
   "name": "python"
  }
 },
 "nbformat": 4,
 "nbformat_minor": 5
}
