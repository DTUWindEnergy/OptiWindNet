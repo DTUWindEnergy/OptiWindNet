{
 "cells": [
  {
   "cell_type": "markdown",
   "id": "b977ea38-7154-4788-b4bb-382e8aed7d54",
   "metadata": {},
   "source": [
    "## OR-tools example"
   ]
  },
  {
   "cell_type": "code",
   "execution_count": null,
   "id": "23c1c992-a563-4f2d-bbc8-cf0884e5b275",
   "metadata": {},
   "outputs": [],
   "source": [
    "from optiwindnet.api import WindFarmNetwork, Heuristic, MILP\n",
    "import numpy as np"
   ]
  },
  {
   "cell_type": "markdown",
   "id": "5ae468f4-9a5a-4300-adfc-7381afd09dd9",
   "metadata": {},
   "source": [
    "### Initialize Moray East"
   ]
  },
  {
   "cell_type": "code",
   "execution_count": null,
   "id": "29a6b5d1-a05f-4112-bf66-462b4d36b516",
   "metadata": {},
   "outputs": [],
   "source": [
    "# all coordinates are sequences of (x, y) pairs\n",
    "# if input coordinates are in arrays X and Y, use `np.hstack((X, Y))`\n",
    "border = np.array( # coordinate sequence defines the polygon, last-first segment implicit\n",
    "    [[1951, 200], [1951, 1383], [386, 1383], [650, 708], [624, 678],\n",
    "     [4, 1036], [4, 3], [1152, 3], [917, 819], [957, 854]],\n",
    "    dtype=float)\n",
    "# 'obstacles' is an optional location attribute\n",
    "obstacles = [\n",
    "    # - obstacles must be strictly inside the border polygon\n",
    "    # - undefined behavior if obstacles and border overlap\n",
    "    # first obstacle\n",
    "    np.array([[1540, 920], [1600, 940], [1600, 1150], [1400, 1200]]),\n",
    "    # [second obstacle] ...\n",
    "]\n",
    "substations = np.array([[696, 1063],], dtype=float)\n",
    "turbines = np.array(\n",
    "    [[1940, 279], [1920, 703], [1475, 696], [1839, 1250],\n",
    "     [1277, 1296], [442, 1359], [737, 435], [1060, 26],\n",
    "     [522, 176], [87, 35], [184, 417], [71, 878]],\n",
    "    dtype=float\n",
    ")"
   ]
  },
  {
   "cell_type": "code",
   "execution_count": null,
   "id": "6493ef36-765a-4cd3-9dc8-f2d952a23573",
   "metadata": {},
   "outputs": [],
   "source": [
    "cables = [(3, 206), (5, 287), (7, 406)]"
   ]
  },
  {
   "cell_type": "code",
   "execution_count": null,
   "id": "52de1352",
   "metadata": {},
   "outputs": [],
   "source": [
    "wfn = WindFarmNetwork(turbines=turbines, substations=substations, cables=cables, border=border, obstacles=obstacles)"
   ]
  },
  {
   "cell_type": "code",
   "execution_count": null,
   "id": "2a81cdd4-7be8-4da3-9b94-9799c6f1760b",
   "metadata": {},
   "outputs": [],
   "source": [
    "wfn.plot_location()"
   ]
  },
  {
   "cell_type": "code",
   "execution_count": null,
   "id": "a120a691",
   "metadata": {},
   "outputs": [],
   "source": [
    "wfn.plot_available_links()"
   ]
  },
  {
   "cell_type": "code",
   "execution_count": null,
   "id": "6b3b15db",
   "metadata": {},
   "outputs": [],
   "source": [
    "wfn.plot_navigation_mesh()"
   ]
  },
  {
   "cell_type": "markdown",
   "id": "b2bb8f58-4c20-4fe0-9cad-912d06b5871c",
   "metadata": {},
   "source": [
    "### Optimize Moray East"
   ]
  },
  {
   "cell_type": "markdown",
   "id": "4f9b49b1-a597-4053-a3d1-f3de7bb8d164",
   "metadata": {},
   "source": [
    "Initial heuristic solution to warm-start the solver:"
   ]
  },
  {
   "cell_type": "code",
   "execution_count": null,
   "id": "19eb273d-f662-4851-bf09-e0ec532d7b8b",
   "metadata": {},
   "outputs": [],
   "source": [
    "router_pre_solver = Heuristic(solver='Esau_Williams') #\n",
    "res_pre_solver= wfn.optimize() # default is Heuristic Esau_Williams\n"
   ]
  },
  {
   "cell_type": "code",
   "execution_count": null,
   "id": "743daf67",
   "metadata": {},
   "outputs": [],
   "source": [
    "wfn.plot_selected_links()"
   ]
  },
  {
   "cell_type": "code",
   "execution_count": null,
   "id": "f3accc38",
   "metadata": {},
   "outputs": [],
   "source": [
    "wfn.plot()"
   ]
  },
  {
   "cell_type": "code",
   "execution_count": null,
   "id": "003714e7-bf75-4cda-ae19-58c74e126c75",
   "metadata": {},
   "outputs": [],
   "source": [
    "solver_options=dict(\n",
    "    max_time_in_seconds = 40,\n",
    "    relative_gap_limit = 0.005,\n",
    "    num_workers = 8,\n",
    "\n",
    "# be verbose\n",
    "log_search_progress = True,\n",
    "# required to get the log inside the notebook (goes only to console otherwise)\n",
    "log_callback = print,\n",
    ")\n",
    "\n",
    "\n",
    "model_options = {\"gateXing_constraint\": False,\n",
    "                 \"branching\": True,\n",
    "                 \"gates_limit\": False}\n",
    "\n",
    "router = MILP(solver='ortools', solver_options=solver_options, model_options=model_options, detour=True)\n",
    "res = wfn.optimize(router=router)"
   ]
  },
  {
   "cell_type": "code",
   "execution_count": null,
   "id": "d67a91f7",
   "metadata": {},
   "outputs": [],
   "source": [
    "wfn.plot()"
   ]
  },
  {
   "cell_type": "code",
   "execution_count": null,
   "id": "4555275d",
   "metadata": {},
   "outputs": [],
   "source": [
    "wfn.svgplot_location()"
   ]
  },
  {
   "cell_type": "code",
   "execution_count": null,
   "id": "f47b97be",
   "metadata": {},
   "outputs": [],
   "source": [
    "wfn.svgplot_available_links()"
   ]
  },
  {
   "cell_type": "code",
   "execution_count": null,
   "id": "7188ecb7",
   "metadata": {},
   "outputs": [],
   "source": [
    "wfn.svgplot_selected_links()"
   ]
  },
  {
   "cell_type": "code",
   "execution_count": null,
   "id": "32b27fa8",
   "metadata": {},
   "outputs": [],
   "source": [
    "wfn.svgplot()"
   ]
  },
  {
   "cell_type": "code",
   "execution_count": null,
   "id": "ba1307a5",
   "metadata": {},
   "outputs": [],
   "source": []
  }
 ],
 "metadata": {
  "kernelspec": {
   "display_name": "OptiWindNet",
   "language": "python",
   "name": "python3"
  },
  "language_info": {
   "codemirror_mode": {
    "name": "ipython",
    "version": 3
   },
   "file_extension": ".py",
   "mimetype": "text/x-python",
   "name": "python",
   "nbconvert_exporter": "python",
   "pygments_lexer": "ipython3",
   "version": "3.12.9"
  }
 },
 "nbformat": 4,
 "nbformat_minor": 5
}
