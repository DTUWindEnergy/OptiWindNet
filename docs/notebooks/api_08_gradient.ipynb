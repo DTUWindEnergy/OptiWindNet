{
 "cells": [
  {
   "cell_type": "markdown",
   "id": "ed13a6b8-1d5b-4ce0-9cd4-b81bac7b07dd",
   "metadata": {},
   "source": [
    "## Gradient\n",
    "\n",
    "In this notebook, gradient function of optiwindnet is illustrated and tested using simple examples."
   ]
  },
  {
   "cell_type": "markdown",
   "id": "c5d3cfd8",
   "metadata": {},
   "source": [
    "Import required packages"
   ]
  },
  {
   "cell_type": "code",
   "execution_count": 1,
   "id": "b0f61785-6be5-4a0f-8282-5c17f4cc28ad",
   "metadata": {},
   "outputs": [],
   "source": [
    "from optiwindnet.api import WindFarmNetwork\n",
    "import numpy as np"
   ]
  },
  {
   "cell_type": "code",
   "execution_count": 2,
   "id": "fb0ad137",
   "metadata": {},
   "outputs": [],
   "source": [
    "# Display figures as SVG in Jupyter notebooks\n",
    "%config InlineBackend.figure_formats = ['svg']"
   ]
  },
  {
   "cell_type": "markdown",
   "id": "3f8789d4-5f85-4e50-a7b6-dd9b57f0e4a2",
   "metadata": {},
   "source": [
    "Create a sample network with one substation and two wind turbines."
   ]
  },
  {
   "cell_type": "code",
   "execution_count": 3,
   "id": "4e702047",
   "metadata": {},
   "outputs": [],
   "source": [
    "substationsC = np.array([[0, 0]])\n",
    "turbinesC = np.array([[0, 1], [1, 1]])\n",
    "borderC = np.array([[-0.1, -0.1], [-0.1, 1.1], [1.1, 1.1], [1.1, -0.1]],\n",
    "    dtype=float)"
   ]
  },
  {
   "cell_type": "markdown",
   "id": "666f2926",
   "metadata": {},
   "source": [
    "Create an instance of WindFarmNetwork based on the defined data."
   ]
  },
  {
   "cell_type": "code",
   "execution_count": 4,
   "id": "06f2868e",
   "metadata": {},
   "outputs": [],
   "source": [
    "wfn = WindFarmNetwork(turbinesC=turbinesC, substationsC=substationsC, cables=[(5, 10)], borderC=borderC)"
   ]
  },
  {
   "cell_type": "markdown",
   "id": "ed397773",
   "metadata": {},
   "source": [
    "Plot location (without the cabling layout)"
   ]
  },
  {
   "cell_type": "code",
   "execution_count": 5,
   "id": "f88ccb3c",
   "metadata": {},
   "outputs": [
    {
     "data": {
      "text/plain": [
       "<Axes: >"
      ]
     },
     "execution_count": 5,
     "metadata": {},
     "output_type": "execute_result"
    },
    {
     "data": {
      "image/svg+xml": [
       "<?xml version=\"1.0\" encoding=\"utf-8\" standalone=\"no\"?>\n",
       "<!DOCTYPE svg PUBLIC \"-//W3C//DTD SVG 1.1//EN\"\n",
       "  \"http://www.w3.org/Graphics/SVG/1.1/DTD/svg11.dtd\">\n",
       "<svg xmlns:xlink=\"http://www.w3.org/1999/xlink\" width=\"353.99952pt\" height=\"353.99952pt\" viewBox=\"0 0 353.99952 353.99952\" xmlns=\"http://www.w3.org/2000/svg\" version=\"1.1\">\n",
       " <metadata>\n",
       "  <rdf:RDF xmlns:dc=\"http://purl.org/dc/elements/1.1/\" xmlns:cc=\"http://creativecommons.org/ns#\" xmlns:rdf=\"http://www.w3.org/1999/02/22-rdf-syntax-ns#\">\n",
       "   <cc:Work>\n",
       "    <dc:type rdf:resource=\"http://purl.org/dc/dcmitype/StillImage\"/>\n",
       "    <dc:date>2025-07-28T19:46:49.921997</dc:date>\n",
       "    <dc:format>image/svg+xml</dc:format>\n",
       "    <dc:creator>\n",
       "     <cc:Agent>\n",
       "      <dc:title>Matplotlib v3.10.1, https://matplotlib.org/</dc:title>\n",
       "     </cc:Agent>\n",
       "    </dc:creator>\n",
       "   </cc:Work>\n",
       "  </rdf:RDF>\n",
       " </metadata>\n",
       " <defs>\n",
       "  <style type=\"text/css\">*{stroke-linejoin: round; stroke-linecap: butt}</style>\n",
       " </defs>\n",
       " <g id=\"figure_1\">\n",
       "  <g id=\"axes_1\">\n",
       "   <g id=\"patch_1\">\n",
       "    <path d=\"M 8.881186 345.118334 \n",
       "L 8.881186 8.881186 \n",
       "L 345.118334 8.881186 \n",
       "L 345.118334 345.118334 \n",
       "z\n",
       "\" clip-path=\"url(#pa5055cb2c7)\" style=\"fill: #111111; stroke-dasharray: 2.59,1.12; stroke-dashoffset: 0; stroke: #c0c0c0; stroke-width: 0.7; stroke-linejoin: miter\"/>\n",
       "   </g>\n",
       "   <g id=\"PathCollection_1\">\n",
       "    <defs>\n",
       "     <path id=\"m5b4ef8190f\" d=\"M -2.95804 2.95804 \n",
       "L 2.95804 2.95804 \n",
       "L 2.95804 -2.95804 \n",
       "L -2.95804 -2.95804 \n",
       "z\n",
       "\" style=\"stroke: #111111; stroke-width: 0.3\"/>\n",
       "    </defs>\n",
       "    <g>\n",
       "     <use xlink:href=\"#m5b4ef8190f\" x=\"36.900948\" y=\"317.098572\" style=\"fill: #7cfc00; stroke: #111111; stroke-width: 0.3\"/>\n",
       "    </g>\n",
       "   </g>\n",
       "   <g id=\"PathCollection_2\">\n",
       "    <defs>\n",
       "     <path id=\"C0_0_d1b80c7dd1\" d=\"M 0 2.95804 \n",
       "C 0.784481 2.95804 1.536938 2.646362 2.09165 2.09165 \n",
       "C 2.646362 1.536938 2.95804 0.784481 2.95804 -0 \n",
       "C 2.95804 -0.784481 2.646362 -1.536938 2.09165 -2.09165 \n",
       "C 1.536938 -2.646362 0.784481 -2.95804 0 -2.95804 \n",
       "C -0.784481 -2.95804 -1.536938 -2.646362 -2.09165 -2.09165 \n",
       "C -2.646362 -1.536938 -2.95804 -0.784481 -2.95804 0 \n",
       "C -2.95804 0.784481 -2.646362 1.536938 -2.09165 2.09165 \n",
       "C -1.536938 2.646362 -0.784481 2.95804 0 2.95804 \n",
       "z\n",
       "\"/>\n",
       "    </defs>\n",
       "    <use xlink:href=\"#C0_0_d1b80c7dd1\" x=\"36.900948\" y=\"36.900948\" style=\"fill: #9edae5\"/>\n",
       "    <use xlink:href=\"#C0_0_d1b80c7dd1\" x=\"317.098572\" y=\"36.900948\" style=\"fill: #9edae5\"/>\n",
       "   </g>\n",
       "  </g>\n",
       " </g>\n",
       " <defs>\n",
       "  <clipPath id=\"pa5055cb2c7\">\n",
       "   <rect x=\"7.2\" y=\"7.2\" width=\"339.59952\" height=\"339.59952\"/>\n",
       "  </clipPath>\n",
       " </defs>\n",
       "</svg>\n"
      ],
      "text/plain": [
       "<Figure size 1228.8x921.6 with 1 Axes>"
      ]
     },
     "metadata": {},
     "output_type": "display_data"
    }
   ],
   "source": [
    "wfn.plot_location()"
   ]
  },
  {
   "cell_type": "markdown",
   "id": "13554c48",
   "metadata": {},
   "source": [
    "### Optimize"
   ]
  },
  {
   "cell_type": "markdown",
   "id": "b38e2880",
   "metadata": {},
   "source": [
    "Run optimization with the default solver."
   ]
  },
  {
   "cell_type": "code",
   "execution_count": 6,
   "id": "f888963b",
   "metadata": {},
   "outputs": [],
   "source": [
    "res_optimize = wfn.optimize()"
   ]
  },
  {
   "cell_type": "markdown",
   "id": "326e9c17",
   "metadata": {},
   "source": [
    "Plot selected links (from available links)"
   ]
  },
  {
   "cell_type": "markdown",
   "id": "602ccee2",
   "metadata": {},
   "source": [
    "Plot final layout"
   ]
  },
  {
   "cell_type": "code",
   "execution_count": 8,
   "id": "883efe11",
   "metadata": {},
   "outputs": [
    {
     "data": {
      "text/plain": [
       "<Axes: >"
      ]
     },
     "execution_count": 8,
     "metadata": {},
     "output_type": "execute_result"
    },
    {
     "data": {
      "image/svg+xml": [
       "<?xml version=\"1.0\" encoding=\"utf-8\" standalone=\"no\"?>\n",
       "<!DOCTYPE svg PUBLIC \"-//W3C//DTD SVG 1.1//EN\"\n",
       "  \"http://www.w3.org/Graphics/SVG/1.1/DTD/svg11.dtd\">\n",
       "<svg xmlns:xlink=\"http://www.w3.org/1999/xlink\" width=\"353.99952pt\" height=\"353.99952pt\" viewBox=\"0 0 353.99952 353.99952\" xmlns=\"http://www.w3.org/2000/svg\" version=\"1.1\">\n",
       " <metadata>\n",
       "  <rdf:RDF xmlns:dc=\"http://purl.org/dc/elements/1.1/\" xmlns:cc=\"http://creativecommons.org/ns#\" xmlns:rdf=\"http://www.w3.org/1999/02/22-rdf-syntax-ns#\">\n",
       "   <cc:Work>\n",
       "    <dc:type rdf:resource=\"http://purl.org/dc/dcmitype/StillImage\"/>\n",
       "    <dc:date>2025-07-28T19:46:50.544838</dc:date>\n",
       "    <dc:format>image/svg+xml</dc:format>\n",
       "    <dc:creator>\n",
       "     <cc:Agent>\n",
       "      <dc:title>Matplotlib v3.10.1, https://matplotlib.org/</dc:title>\n",
       "     </cc:Agent>\n",
       "    </dc:creator>\n",
       "   </cc:Work>\n",
       "  </rdf:RDF>\n",
       " </metadata>\n",
       " <defs>\n",
       "  <style type=\"text/css\">*{stroke-linejoin: round; stroke-linecap: butt}</style>\n",
       " </defs>\n",
       " <g id=\"figure_1\">\n",
       "  <g id=\"axes_1\">\n",
       "   <g id=\"patch_1\">\n",
       "    <path d=\"M 10.529407 343.470113 \n",
       "L 10.529407 10.529407 \n",
       "L 343.470113 10.529407 \n",
       "L 343.470113 343.470113 \n",
       "z\n",
       "\" clip-path=\"url(#pa8d2d0a586)\" style=\"fill: #111111; stroke-dasharray: 2.59,1.12; stroke-dashoffset: 0; stroke: #c0c0c0; stroke-width: 0.7; stroke-linejoin: miter\"/>\n",
       "   </g>\n",
       "   <g id=\"LineCollection_1\">\n",
       "    <path d=\"M 38.274466 38.274466 \n",
       "L 315.725054 38.274466 \n",
       "\" clip-path=\"url(#pa8d2d0a586)\" style=\"fill: none; stroke: #dc143c; stroke-linecap: round\"/>\n",
       "    <path d=\"M 38.274466 38.274466 \n",
       "L 38.274466 315.725054 \n",
       "\" clip-path=\"url(#pa8d2d0a586)\" style=\"fill: none; stroke: #dc143c; stroke-linecap: round\"/>\n",
       "   </g>\n",
       "   <g id=\"PathCollection_1\">\n",
       "    <defs>\n",
       "     <path id=\"me44ed000a2\" d=\"M -4.795832 4.795832 \n",
       "L 4.795832 4.795832 \n",
       "L 4.795832 -4.795832 \n",
       "L -4.795832 -4.795832 \n",
       "z\n",
       "\" style=\"stroke: #111111; stroke-width: 0.3\"/>\n",
       "    </defs>\n",
       "    <g>\n",
       "     <use xlink:href=\"#me44ed000a2\" x=\"38.274466\" y=\"315.725054\" style=\"fill: #7cfc00; stroke: #111111; stroke-width: 0.3\"/>\n",
       "    </g>\n",
       "   </g>\n",
       "   <g id=\"PathCollection_2\">\n",
       "    <defs>\n",
       "     <path id=\"C0_0_99d1426580\" d=\"M 0 5.809475 \n",
       "C 1.540691 5.809475 3.018486 5.197352 4.107919 4.107919 \n",
       "C 5.197352 3.018486 5.809475 1.540691 5.809475 -0 \n",
       "C 5.809475 -1.540691 5.197352 -3.018486 4.107919 -4.107919 \n",
       "C 3.018486 -5.197352 1.540691 -5.809475 0 -5.809475 \n",
       "C -1.540691 -5.809475 -3.018486 -5.197352 -4.107919 -4.107919 \n",
       "C -5.197352 -3.018486 -5.809475 -1.540691 -5.809475 0 \n",
       "C -5.809475 1.540691 -5.197352 3.018486 -4.107919 4.107919 \n",
       "C -3.018486 5.197352 -1.540691 5.809475 0 5.809475 \n",
       "z\n",
       "\"/>\n",
       "    </defs>\n",
       "    <use xlink:href=\"#C0_0_99d1426580\" x=\"38.274466\" y=\"38.274466\" style=\"fill: #1f77b4\"/>\n",
       "    <use xlink:href=\"#C0_0_99d1426580\" x=\"315.725054\" y=\"38.274466\" style=\"fill: #1f77b4\"/>\n",
       "   </g>\n",
       "   <g id=\"text_1\">\n",
       "    <text style=\"font-size: 5px; font-family: 'DejaVu Sans', 'Bitstream Vera Sans', 'Computer Modern Sans Serif', 'Lucida Grande', 'Verdana', 'Geneva', 'Lucid', 'Arial', 'Helvetica', 'Avant Garde', sans-serif; text-anchor: middle\" x=\"38.274466\" y=\"39.654153\" transform=\"rotate(-0 38.274466 39.654153)\">0</text>\n",
       "   </g>\n",
       "   <g id=\"text_2\">\n",
       "    <text style=\"font-size: 5px; font-family: 'DejaVu Sans', 'Bitstream Vera Sans', 'Computer Modern Sans Serif', 'Lucida Grande', 'Verdana', 'Geneva', 'Lucid', 'Arial', 'Helvetica', 'Avant Garde', sans-serif; text-anchor: middle\" x=\"315.725054\" y=\"39.654153\" transform=\"rotate(-0 315.725054 39.654153)\">1</text>\n",
       "   </g>\n",
       "   <g id=\"text_3\">\n",
       "    <text style=\"font-size: 4px; font-family: 'DejaVu Sans', 'Bitstream Vera Sans', 'Computer Modern Sans Serif', 'Lucida Grande', 'Verdana', 'Geneva', 'Lucid', 'Arial', 'Helvetica', 'Avant Garde', sans-serif; text-anchor: middle\" x=\"38.274466\" y=\"316.828804\" transform=\"rotate(-0 38.274466 316.828804)\">-1</text>\n",
       "   </g>\n",
       "   <g id=\"legend_1\">\n",
       "    <g id=\"patch_2\">\n",
       "     <path d=\"M 263.133895 341.79952 \n",
       "L 339.79952 341.79952 \n",
       "Q 341.79952 341.79952 341.79952 339.79952 \n",
       "L 341.79952 283.873645 \n",
       "Q 341.79952 281.873645 339.79952 281.873645 \n",
       "L 263.133895 281.873645 \n",
       "Q 261.133895 281.873645 261.133895 283.873645 \n",
       "L 261.133895 339.79952 \n",
       "Q 261.133895 341.79952 263.133895 341.79952 \n",
       "z\n",
       "\" style=\"fill: #111111; opacity: 0.6; stroke: #ffffff; stroke-linejoin: miter\"/>\n",
       "    </g>\n",
       "    <g id=\"text_4\">\n",
       "     <text style=\"font-size: 12px; font-family: 'DejaVu Sans', 'Bitstream Vera Sans', 'Computer Modern Sans Serif', 'Lucida Grande', 'Verdana', 'Geneva', 'Lucid', 'Arial', 'Helvetica', 'Avant Garde', sans-serif; fill: #ffffff\" transform=\"translate(265.133895 294.99177)\">κ = 5, T = 2</text>\n",
       "     <text style=\"font-size: 12px; font-family: 'DejaVu Sans', 'Bitstream Vera Sans', 'Computer Modern Sans Serif', 'Lucida Grande', 'Verdana', 'Geneva', 'Lucid', 'Arial', 'Helvetica', 'Avant Garde', sans-serif; fill: #ffffff\" transform=\"translate(274.331708 308.429145)\">(+0) α: 1</text>\n",
       "     <text style=\"font-size: 12px; font-family: 'DejaVu Sans', 'Bitstream Vera Sans', 'Computer Modern Sans Serif', 'Lucida Grande', 'Verdana', 'Geneva', 'Lucid', 'Arial', 'Helvetica', 'Avant Garde', sans-serif; fill: #ffffff\" transform=\"translate(267.98952 321.86652)\">Σλ = 2.0 m</text>\n",
       "     <text style=\"font-size: 12px; font-family: 'DejaVu Sans', 'Bitstream Vera Sans', 'Computer Modern Sans Serif', 'Lucida Grande', 'Verdana', 'Geneva', 'Lucid', 'Arial', 'Helvetica', 'Avant Garde', sans-serif; fill: #ffffff\" transform=\"translate(288.107333 335.303895)\">20 €</text>\n",
       "    </g>\n",
       "   </g>\n",
       "  </g>\n",
       " </g>\n",
       " <defs>\n",
       "  <clipPath id=\"pa8d2d0a586\">\n",
       "   <rect x=\"7.2\" y=\"7.2\" width=\"339.59952\" height=\"339.59952\"/>\n",
       "  </clipPath>\n",
       " </defs>\n",
       "</svg>\n"
      ],
      "text/plain": [
       "<Figure size 1228.8x921.6 with 1 Axes>"
      ]
     },
     "metadata": {},
     "output_type": "display_data"
    }
   ],
   "source": [
    "wfn.plot(node_tag='label')"
   ]
  },
  {
   "cell_type": "markdown",
   "id": "c39a1865",
   "metadata": {},
   "source": [
    "## Calculate gradients\n",
    "### Gradient of length (default)\n",
    "Calculate gradient of turbines and substation using gradient() function. The expected gradient values are that moving first WT on x-axis infiniticimally will reduce the total length equally while on y-axis will increase the total length. And accordingly for the other turbine and substaion. The output of gradient() function is matching with the expectation."
   ]
  },
  {
   "cell_type": "code",
   "execution_count": 9,
   "id": "967cb0ac",
   "metadata": {},
   "outputs": [
    {
     "name": "stdout",
     "output_type": "stream",
     "text": [
      "WTs gradient:  [[-1.  1.]\n",
      " [ 1.  0.]]\n",
      "SS gradient:  [[ 0. -1.]]\n"
     ]
    }
   ],
   "source": [
    "grad_wts, grad_ss = wfn.gradient()\n",
    "print('WTs gradient: ', grad_wts)\n",
    "print('SS gradient: ', grad_ss)"
   ]
  },
  {
   "cell_type": "markdown",
   "id": "b65c9301",
   "metadata": {},
   "source": [
    "### Gradient of cost"
   ]
  },
  {
   "cell_type": "code",
   "execution_count": 10,
   "id": "5a69abdd",
   "metadata": {},
   "outputs": [
    {
     "name": "stdout",
     "output_type": "stream",
     "text": [
      "WTs gradient:  [[-10.  10.]\n",
      " [ 10.   0.]]\n",
      "SS gradient:  [[  0. -10.]]\n"
     ]
    }
   ],
   "source": [
    "grad_wts, grad_ss = wfn.gradient(gradient_type='cost')\n",
    "print('WTs gradient: ', grad_wts)\n",
    "print('SS gradient: ', grad_ss)"
   ]
  },
  {
   "cell_type": "markdown",
   "id": "7d89ee01",
   "metadata": {},
   "source": [
    "### Gradient with new coordinates"
   ]
  },
  {
   "cell_type": "markdown",
   "id": "fa9eefbf",
   "metadata": {},
   "source": [
    "Example 1"
   ]
  },
  {
   "cell_type": "code",
   "execution_count": 11,
   "id": "2edf4411",
   "metadata": {},
   "outputs": [
    {
     "name": "stdout",
     "output_type": "stream",
     "text": [
      "WTs gradient:  [[-1.4472136   0.89442719]\n",
      " [ 1.          0.        ]]\n",
      "SS gradient:  [[ 0.4472136  -0.89442719]]\n"
     ]
    }
   ],
   "source": [
    "grad_wts, grad_ss = wfn.gradient(substationsC=np.array([[0.5, 0],], dtype=float))\n",
    "print('WTs gradient: ', grad_wts)\n",
    "print('SS gradient: ', grad_ss)"
   ]
  },
  {
   "cell_type": "markdown",
   "id": "2834e1fb",
   "metadata": {},
   "source": [
    "Example 2"
   ]
  },
  {
   "cell_type": "code",
   "execution_count": 12,
   "id": "312cef75",
   "metadata": {},
   "outputs": [
    {
     "name": "stdout",
     "output_type": "stream",
     "text": [
      "WTs gradient:  [[0. 0.]\n",
      " [1. 0.]]\n",
      "SS gradient:  [[-1.  0.]]\n"
     ]
    }
   ],
   "source": [
    "grad_wts, grad_ss = wfn.gradient(substationsC=np.array([[-1, 1],], dtype=float))\n",
    "print('WTs gradient: ', grad_wts)\n",
    "print('SS gradient: ', grad_ss)"
   ]
  },
  {
   "cell_type": "markdown",
   "id": "848cabcc",
   "metadata": {},
   "source": [
    "> Note:  `.gradient()` will calculate gradients with new coordinate **but do not update the `wfn` object. For example if we plot the layout, original coordinates are depicted. If you need to update `wfn` see the notebook about [WindFarmNetwork class of API](api_01_WindFarmNetwork.ipynb)"
   ]
  },
  {
   "cell_type": "code",
   "execution_count": 13,
   "id": "5058944c",
   "metadata": {},
   "outputs": [
    {
     "data": {
      "text/plain": [
       "<Axes: >"
      ]
     },
     "execution_count": 13,
     "metadata": {},
     "output_type": "execute_result"
    },
    {
     "data": {
      "image/svg+xml": [
       "<?xml version=\"1.0\" encoding=\"utf-8\" standalone=\"no\"?>\n",
       "<!DOCTYPE svg PUBLIC \"-//W3C//DTD SVG 1.1//EN\"\n",
       "  \"http://www.w3.org/Graphics/SVG/1.1/DTD/svg11.dtd\">\n",
       "<svg xmlns:xlink=\"http://www.w3.org/1999/xlink\" width=\"353.99952pt\" height=\"353.99952pt\" viewBox=\"0 0 353.99952 353.99952\" xmlns=\"http://www.w3.org/2000/svg\" version=\"1.1\">\n",
       " <metadata>\n",
       "  <rdf:RDF xmlns:dc=\"http://purl.org/dc/elements/1.1/\" xmlns:cc=\"http://creativecommons.org/ns#\" xmlns:rdf=\"http://www.w3.org/1999/02/22-rdf-syntax-ns#\">\n",
       "   <cc:Work>\n",
       "    <dc:type rdf:resource=\"http://purl.org/dc/dcmitype/StillImage\"/>\n",
       "    <dc:date>2025-07-28T19:46:50.882273</dc:date>\n",
       "    <dc:format>image/svg+xml</dc:format>\n",
       "    <dc:creator>\n",
       "     <cc:Agent>\n",
       "      <dc:title>Matplotlib v3.10.1, https://matplotlib.org/</dc:title>\n",
       "     </cc:Agent>\n",
       "    </dc:creator>\n",
       "   </cc:Work>\n",
       "  </rdf:RDF>\n",
       " </metadata>\n",
       " <defs>\n",
       "  <style type=\"text/css\">*{stroke-linejoin: round; stroke-linecap: butt}</style>\n",
       " </defs>\n",
       " <g id=\"figure_1\">\n",
       "  <g id=\"axes_1\">\n",
       "   <g id=\"patch_1\">\n",
       "    <path d=\"M 8.881186 345.118334 \n",
       "L 8.881186 8.881186 \n",
       "L 345.118334 8.881186 \n",
       "L 345.118334 345.118334 \n",
       "z\n",
       "\" clip-path=\"url(#p62e721270f)\" style=\"fill: #111111; stroke-dasharray: 2.59,1.12; stroke-dashoffset: 0; stroke: #c0c0c0; stroke-width: 0.7; stroke-linejoin: miter\"/>\n",
       "   </g>\n",
       "   <g id=\"LineCollection_1\">\n",
       "    <path d=\"M 36.900948 36.900948 \n",
       "L 317.098572 36.900948 \n",
       "\" clip-path=\"url(#p62e721270f)\" style=\"fill: none; stroke: #dc143c; stroke-linecap: round\"/>\n",
       "    <path d=\"M 36.900948 36.900948 \n",
       "L 36.900948 317.098572 \n",
       "\" clip-path=\"url(#p62e721270f)\" style=\"fill: none; stroke: #dc143c; stroke-linecap: round\"/>\n",
       "   </g>\n",
       "   <g id=\"PathCollection_1\">\n",
       "    <defs>\n",
       "     <path id=\"ma4bfc1f92a\" d=\"M -2.95804 2.95804 \n",
       "L 2.95804 2.95804 \n",
       "L 2.95804 -2.95804 \n",
       "L -2.95804 -2.95804 \n",
       "z\n",
       "\" style=\"stroke: #111111; stroke-width: 0.3\"/>\n",
       "    </defs>\n",
       "    <g>\n",
       "     <use xlink:href=\"#ma4bfc1f92a\" x=\"36.900948\" y=\"317.098572\" style=\"fill: #7cfc00; stroke: #111111; stroke-width: 0.3\"/>\n",
       "    </g>\n",
       "   </g>\n",
       "   <g id=\"PathCollection_2\">\n",
       "    <defs>\n",
       "     <path id=\"C0_0_da62a40978\" d=\"M 0 2.95804 \n",
       "C 0.784481 2.95804 1.536938 2.646362 2.09165 2.09165 \n",
       "C 2.646362 1.536938 2.95804 0.784481 2.95804 -0 \n",
       "C 2.95804 -0.784481 2.646362 -1.536938 2.09165 -2.09165 \n",
       "C 1.536938 -2.646362 0.784481 -2.95804 0 -2.95804 \n",
       "C -0.784481 -2.95804 -1.536938 -2.646362 -2.09165 -2.09165 \n",
       "C -2.646362 -1.536938 -2.95804 -0.784481 -2.95804 0 \n",
       "C -2.95804 0.784481 -2.646362 1.536938 -2.09165 2.09165 \n",
       "C -1.536938 2.646362 -0.784481 2.95804 0 2.95804 \n",
       "z\n",
       "\"/>\n",
       "    </defs>\n",
       "    <use xlink:href=\"#C0_0_da62a40978\" x=\"36.900948\" y=\"36.900948\" style=\"fill: #1f77b4\"/>\n",
       "    <use xlink:href=\"#C0_0_da62a40978\" x=\"317.098572\" y=\"36.900948\" style=\"fill: #1f77b4\"/>\n",
       "   </g>\n",
       "   <g id=\"legend_1\">\n",
       "    <g id=\"patch_2\">\n",
       "     <path d=\"M 263.133895 341.79952 \n",
       "L 339.79952 341.79952 \n",
       "Q 341.79952 341.79952 341.79952 339.79952 \n",
       "L 341.79952 283.873645 \n",
       "Q 341.79952 281.873645 339.79952 281.873645 \n",
       "L 263.133895 281.873645 \n",
       "Q 261.133895 281.873645 261.133895 283.873645 \n",
       "L 261.133895 339.79952 \n",
       "Q 261.133895 341.79952 263.133895 341.79952 \n",
       "z\n",
       "\" style=\"fill: #111111; opacity: 0.6; stroke: #ffffff; stroke-linejoin: miter\"/>\n",
       "    </g>\n",
       "    <g id=\"text_1\">\n",
       "     <text style=\"font-size: 12px; font-family: 'DejaVu Sans', 'Bitstream Vera Sans', 'Computer Modern Sans Serif', 'Lucida Grande', 'Verdana', 'Geneva', 'Lucid', 'Arial', 'Helvetica', 'Avant Garde', sans-serif; fill: #ffffff\" transform=\"translate(265.133895 294.99177)\">κ = 5, T = 2</text>\n",
       "     <text style=\"font-size: 12px; font-family: 'DejaVu Sans', 'Bitstream Vera Sans', 'Computer Modern Sans Serif', 'Lucida Grande', 'Verdana', 'Geneva', 'Lucid', 'Arial', 'Helvetica', 'Avant Garde', sans-serif; fill: #ffffff\" transform=\"translate(274.331708 308.429145)\">(+0) α: 1</text>\n",
       "     <text style=\"font-size: 12px; font-family: 'DejaVu Sans', 'Bitstream Vera Sans', 'Computer Modern Sans Serif', 'Lucida Grande', 'Verdana', 'Geneva', 'Lucid', 'Arial', 'Helvetica', 'Avant Garde', sans-serif; fill: #ffffff\" transform=\"translate(267.98952 321.86652)\">Σλ = 2.0 m</text>\n",
       "     <text style=\"font-size: 12px; font-family: 'DejaVu Sans', 'Bitstream Vera Sans', 'Computer Modern Sans Serif', 'Lucida Grande', 'Verdana', 'Geneva', 'Lucid', 'Arial', 'Helvetica', 'Avant Garde', sans-serif; fill: #ffffff\" transform=\"translate(288.107333 335.303895)\">20 €</text>\n",
       "    </g>\n",
       "   </g>\n",
       "  </g>\n",
       " </g>\n",
       " <defs>\n",
       "  <clipPath id=\"p62e721270f\">\n",
       "   <rect x=\"7.2\" y=\"7.2\" width=\"339.59952\" height=\"339.59952\"/>\n",
       "  </clipPath>\n",
       " </defs>\n",
       "</svg>\n"
      ],
      "text/plain": [
       "<Figure size 1228.8x921.6 with 1 Axes>"
      ]
     },
     "metadata": {},
     "output_type": "display_data"
    }
   ],
   "source": [
    "wfn.plot()"
   ]
  }
 ],
 "metadata": {
  "kernelspec": {
   "display_name": "OptiWindNet",
   "language": "python",
   "name": "python3"
  },
  "language_info": {
   "codemirror_mode": {
    "name": "ipython",
    "version": 3
   },
   "file_extension": ".py",
   "mimetype": "text/x-python",
   "name": "python",
   "nbconvert_exporter": "python",
   "pygments_lexer": "ipython3",
   "version": "3.12.9"
  }
 },
 "nbformat": 4,
 "nbformat_minor": 5
}
