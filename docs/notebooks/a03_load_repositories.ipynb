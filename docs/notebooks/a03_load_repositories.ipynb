{
 "cells": [
  {
   "cell_type": "markdown",
   "id": "0ed2631d",
   "metadata": {},
   "source": [
    "# Load Location Data Repositories"
   ]
  },
  {
   "cell_type": "markdown",
   "id": "908a7529-521d-4e66-a19f-9e762a35b733",
   "metadata": {},
   "source": [
    "This notebook demonstrates how *OptiWindNet* can load all `osm.pbf` and `.yaml` files from a directory into a *namedtuple* of *networkx* graphs, which can be used to initialize a `WindFarmNetwork()` instance."
   ]
  },
  {
   "cell_type": "markdown",
   "id": "62ca07c2",
   "metadata": {},
   "source": [
    "## Import required modules"
   ]
  },
  {
   "cell_type": "markdown",
   "id": "e4d99b99",
   "metadata": {},
   "source": [
    "To use this functionality we need `load_repository()` as well as `WindFarmNetwork`."
   ]
  },
  {
   "cell_type": "code",
   "execution_count": 14,
   "id": "a0ab2186-9b34-4e8b-bfe1-e0e69f8f1c68",
   "metadata": {},
   "outputs": [],
   "source": [
    "from optiwindnet.api import WindFarmNetwork, load_repository"
   ]
  },
  {
   "cell_type": "code",
   "execution_count": 15,
   "id": "d6709eb8",
   "metadata": {},
   "outputs": [],
   "source": [
    "# Display figures as SVG in Jupyter notebooks\n",
    "%config InlineBackend.figure_formats = ['svg']"
   ]
  },
  {
   "cell_type": "markdown",
   "id": "929fdb41",
   "metadata": {},
   "source": [
    "## Load a repository"
   ]
  },
  {
   "cell_type": "markdown",
   "id": "cb8509f9",
   "metadata": {},
   "source": [
    "`load_repository()` reads the `.osm.pbf` and `.yaml` locations distributed with *OptiWindNet* into a *namedtuple* of *networkx* graphs containing location data.\n",
    "\n",
    ">Note: if no argument is passed to the function, it loads the default locations included in the *OptiWindNet* repository. However, the user can also provide a custom repository containing `.osm.pbf` and `.yaml` files by:\n",
    ">\n",
    ">```python\n",
    ">   locations = load_repository(path='path to the repository folder')\n",
    ">```"
   ]
  },
  {
   "cell_type": "code",
   "execution_count": 16,
   "id": "1909519a",
   "metadata": {},
   "outputs": [],
   "source": [
    "locations = load_repository()"
   ]
  },
  {
   "cell_type": "code",
   "execution_count": 17,
   "id": "b1ef1a8d",
   "metadata": {},
   "outputs": [
    {
     "data": {
      "text/plain": [
       "(91,\n",
       " 'anholt, borkum, borkum2, borssele, butendiek, cazzaro_2022, cazzaro_2022G140, cazzaro_2022G210, dantysk, doggerA, dudgeon, anglia, gode, gabbin, gwynt, horns, horns2, horns3, hornsea, hornsea2w, london, morayeast, moraywest, ormonde, race, rampion, rødsand2, sofia, taylor_2023, thanet, triton, walney1, walney2, walneyext, sands, yi_2019, albatros, amrumbank, arkona, baltic2, eagle, bard, beatrice, belwind, nanpeng, rudongdemo, bucht, fecamp, galloper, gemini1, gemini2, glotech1, hohesee, kustzuid, humber, kaskasi, kfA, kfB, bodhi, lillgrund, lincs, luchterduinen, meerwind, merkur, mermaid, neart, nordsee, nordseeost, norther, northwind, nysted, amalia, rental, riffgat, robin, rudongH10, rudongH6, rudongH8, brieuc, nazaire, sandbank, seagreen, shengsi2, sheringham, binhainorthH2, triborkum, vejamate, vineyard, rough, wikinger, jiaxing1')"
      ]
     },
     "execution_count": 17,
     "metadata": {},
     "output_type": "execute_result"
    }
   ],
   "source": [
    "len(locations), ', '.join(locations._fields)"
   ]
  },
  {
   "cell_type": "markdown",
   "id": "81767378",
   "metadata": {},
   "source": [
    "Each location is loaded as a *networkx* graph containing location data."
   ]
  },
  {
   "cell_type": "code",
   "execution_count": 18,
   "id": "60b90866",
   "metadata": {},
   "outputs": [
    {
     "data": {
      "text/plain": [
       "networkx.classes.graph.Graph"
      ]
     },
     "execution_count": 18,
     "metadata": {},
     "output_type": "execute_result"
    }
   ],
   "source": [
    "type(locations.seagreen)"
   ]
  },
  {
   "cell_type": "markdown",
   "id": "92abd914",
   "metadata": {},
   "source": [
    "## Use loaded locations"
   ]
  },
  {
   "cell_type": "markdown",
   "id": "d4505c6f",
   "metadata": {},
   "source": [
    "Initialize an instance of `WindFarmNetwork` with one of the locations (e.g. seagreen)."
   ]
  },
  {
   "cell_type": "code",
   "execution_count": 19,
   "id": "b93c9a50",
   "metadata": {},
   "outputs": [],
   "source": [
    "wfn = WindFarmNetwork(L=locations.seagreen, cables=[(2, 1500.0), (5, 1800.0)])"
   ]
  },
  {
   "cell_type": "markdown",
   "id": "9b53b817",
   "metadata": {},
   "source": [
    "### Plot location\n",
    "\n",
    "> Note: We could use `wfn_plot_location()` for plotting the location. For more details look into the notebook about [plotting](a04_Plotting.ipynb)"
   ]
  },
  {
   "cell_type": "code",
   "execution_count": 20,
   "id": "c0878ba3",
   "metadata": {},
   "outputs": [
    {
     "data": {
      "image/svg+xml": [
       "<svg xmlns=\"http://www.w3.org/2000/svg\" viewBox=\"0 0 1920 1080\"><defs><circle stroke=\"none\" stroke-width=\"2\" id=\"wtg\" r=\"12\"/><rect stroke=\"#111\" stroke-width=\"2\" id=\"oss\" width=\"21\" height=\"21\" fill=\"lawngreen\"/></defs><g id=\"seagreen\"><path stroke=\"silver\" stroke-dasharray=\"15 7\" stroke-width=\"2\" id=\"border\" d=\"M725 128 823 85 1262 120 1208 250 1240 399 1342 199 1588 1050 1325 1050 1317 918 1237 905 1241 1050 30 1050 116 30 348 48 402 137 665 334 729 313z\" fill-rule=\"evenodd\" fill=\"#111\"/><g id=\"WTGgrp\"><g fill=\"#9edae5\"><use href=\"#wtg\" x=\"742\" y=\"519\"/><use href=\"#wtg\" x=\"1240\" y=\"523\"/><use href=\"#wtg\" x=\"1164\" y=\"908\"/><use href=\"#wtg\" x=\"589\" y=\"585\"/><use href=\"#wtg\" x=\"1392\" y=\"540\"/><use href=\"#wtg\" x=\"1469\" y=\"858\"/><use href=\"#wtg\" x=\"912\" y=\"988\"/><use href=\"#wtg\" x=\"806\" y=\"303\"/><use href=\"#wtg\" x=\"1235\" y=\"606\"/><use href=\"#wtg\" x=\"197\" y=\"482\"/><use href=\"#wtg\" x=\"419\" y=\"901\"/><use href=\"#wtg\" x=\"859\" y=\"253\"/><use href=\"#wtg\" x=\"927\" y=\"737\"/><use href=\"#wtg\" x=\"101\" y=\"415\"/><use href=\"#wtg\" x=\"111\" y=\"1033\"/><use href=\"#wtg\" x=\"1114\" y=\"172\"/><use href=\"#wtg\" x=\"64\" y=\"999\"/><use href=\"#wtg\" x=\"1378\" y=\"707\"/><use href=\"#wtg\" x=\"270\" y=\"97\"/><use href=\"#wtg\" x=\"1299\" y=\"389\"/><use href=\"#wtg\" x=\"1457\" y=\"1024\"/><use href=\"#wtg\" x=\"1362\" y=\"957\"/><use href=\"#wtg\" x=\"504\" y=\"351\"/><use href=\"#wtg\" x=\"1392\" y=\"459\"/><use href=\"#wtg\" x=\"1118\" y=\"872\"/><use href=\"#wtg\" x=\"690\" y=\"572\"/><use href=\"#wtg\" x=\"1092\" y=\"505\"/><use href=\"#wtg\" x=\"1213\" y=\"939\"/><use href=\"#wtg\" x=\"631\" y=\"702\"/><use href=\"#wtg\" x=\"1383\" y=\"624\"/><use href=\"#wtg\" x=\"297\" y=\"467\"/><use href=\"#wtg\" x=\"563\" y=\"1005\"/><use href=\"#wtg\" x=\"907\" y=\"287\"/><use href=\"#wtg\" x=\"1330\" y=\"673\"/><use href=\"#wtg\" x=\"96\" y=\"499\"/><use href=\"#wtg\" x=\"456\" y=\"945\"/><use href=\"#wtg\" x=\"817\" y=\"136\"/><use href=\"#wtg\" x=\"1426\" y=\"741\"/><use href=\"#wtg\" x=\"350\" y=\"417\"/><use href=\"#wtg\" x=\"1352\" y=\"340\"/><use href=\"#wtg\" x=\"1510\" y=\"975\"/><use href=\"#wtg\" x=\"1177\" y=\"739\"/><use href=\"#wtg\" x=\"510\" y=\"268\"/><use href=\"#wtg\" x=\"1055\" y=\"304\"/><use href=\"#wtg\" x=\"1356\" y=\"1041\"/><use href=\"#wtg\" x=\"1515\" y=\"891\"/><use href=\"#wtg\" x=\"552\" y=\"384\"/><use href=\"#wtg\" x=\"1141\" y=\"537\"/><use href=\"#wtg\" x=\"1065\" y=\"922\"/><use href=\"#wtg\" x=\"539\" y=\"629\"/><use href=\"#wtg\" x=\"997\" y=\"438\"/><use href=\"#wtg\" x=\"1160\" y=\"989\"/><use href=\"#wtg\" x=\"795\" y=\"470\"/><use href=\"#wtg\" x=\"1284\" y=\"637\"/><use href=\"#wtg\" x=\"1209\" y=\"239\"/><use href=\"#wtg\" x=\"514\" y=\"969\"/><use href=\"#wtg\" x=\"811\" y=\"219\"/><use href=\"#wtg\" x=\"1081\" y=\"672\"/><use href=\"#wtg\" x=\"251\" y=\"430\"/><use href=\"#wtg\" x=\"360\" y=\"1035\"/><use href=\"#wtg\" x=\"912\" y=\"203\"/><use href=\"#wtg\" x=\"1277\" y=\"723\"/><use href=\"#wtg\" x=\"157\" y=\"282\"/><use href=\"#wtg\" x=\"1008\" y=\"271\"/><use href=\"#wtg\" x=\"1409\" y=\"991\"/><use href=\"#wtg\" x=\"1420\" y=\"824\"/><use href=\"#wtg\" x=\"652\" y=\"369\"/><use href=\"#wtg\" x=\"1151\" y=\"372\"/><use href=\"#wtg\" x=\"970\" y=\"855\"/><use href=\"#wtg\" x=\"700\" y=\"402\"/><use href=\"#wtg\" x=\"1044\" y=\"472\"/><use href=\"#wtg\" x=\"1113\" y=\"956\"/><use href=\"#wtg\" x=\"692\" y=\"727\"/><use href=\"#wtg\" x=\"938\" y=\"571\"/><use href=\"#wtg\" x=\"1012\" y=\"972\"/><use href=\"#wtg\" x=\"1059\" y=\"1005\"/><use href=\"#wtg\" x=\"901\" y=\"370\"/><use href=\"#wtg\" x=\"1033\" y=\"638\"/><use href=\"#wtg\" x=\"346\" y=\"503\"/><use href=\"#wtg\" x=\"461\" y=\"1018\"/><use href=\"#wtg\" x=\"864\" y=\"169\"/><use href=\"#wtg\" x=\"880\" y=\"704\"/><use href=\"#wtg\" x=\"308\" y=\"300\"/><use href=\"#wtg\" x=\"211\" y=\"1015\"/><use href=\"#wtg\" x=\"1066\" y=\"138\"/><use href=\"#wtg\" x=\"1226\" y=\"775\"/><use href=\"#wtg\" x=\"123\" y=\"82\"/><use href=\"#wtg\" x=\"1103\" y=\"338\"/><use href=\"#wtg\" x=\"1023\" y=\"805\"/><use href=\"#wtg\" x=\"1370\" y=\"874\"/><use href=\"#wtg\" x=\"511\" y=\"423\"/><use href=\"#wtg\" x=\"1246\" y=\"439\"/><use href=\"#wtg\" x=\"1070\" y=\"839\"/><use href=\"#wtg\" x=\"651\" y=\"527\"/><use href=\"#wtg\" x=\"949\" y=\"404\"/><use href=\"#wtg\" x=\"1208\" y=\"1023\"/><use href=\"#wtg\" x=\"848\" y=\"420\"/><use href=\"#wtg\" x=\"1437\" y=\"574\"/><use href=\"#wtg\" x=\"440\" y=\"568\"/><use href=\"#wtg\" x=\"710\" y=\"1020\"/><use href=\"#wtg\" x=\"854\" y=\"337\"/><use href=\"#wtg\" x=\"932\" y=\"652\"/><use href=\"#wtg\" x=\"144\" y=\"532\"/><use href=\"#wtg\" x=\"313\" y=\"1001\"/><use href=\"#wtg\" x=\"960\" y=\"237\"/><use href=\"#wtg\" x=\"1473\" y=\"774\"/><use href=\"#wtg\" x=\"118\" y=\"165\"/><use href=\"#wtg\" x=\"1161\" y=\"205\"/><use href=\"#wtg\" x=\"1556\" y=\"1011\"/><use href=\"#wtg\" x=\"1319\" y=\"840\"/><use href=\"#wtg\" x=\"414\" y=\"200\"/><use href=\"#wtg\" x=\"1200\" y=\"403\"/><use href=\"#wtg\" x=\"1017\" y=\"889\"/><use href=\"#wtg\" x=\"1415\" y=\"908\"/></g></g><g id=\"OSSgrp\"><use href=\"#oss\" x=\"672.5\" y=\"641.5\"/></g></g></svg>"
      ],
      "text/plain": [
       "<optiwindnet.api.WindFarmNetwork at 0x22a312b78f0>"
      ]
     },
     "execution_count": 20,
     "metadata": {},
     "output_type": "execute_result"
    }
   ],
   "source": [
    "wfn"
   ]
  },
  {
   "cell_type": "markdown",
   "id": "70bf4bce",
   "metadata": {},
   "source": [
    "## List locations in the loaded repository"
   ]
  },
  {
   "cell_type": "markdown",
   "id": "a6a1ee1e",
   "metadata": {},
   "source": [
    "Print (for all available locations):\n",
    "- `name`\n",
    "- `R`: number of Roots (Substations)\n",
    "- `T`: number of Terminals (Turbines)"
   ]
  },
  {
   "cell_type": "code",
   "execution_count": 21,
   "id": "66b9d999",
   "metadata": {},
   "outputs": [
    {
     "name": "stdout",
     "output_type": "stream",
     "text": [
      "anholt : Anholt -> 1 , 111\n",
      "borkum : Borkum Riffgrund 1 -> 1 , 78\n",
      "borkum2 : Borkum Riffgrund 2 -> 1 , 52\n",
      "borssele : Borssele -> 2 , 173\n",
      "butendiek : Butendiek -> 1 , 80\n",
      "cazzaro_2022 : Cazzaro-2022 -> 1 , 50\n",
      "cazzaro_2022G140 : Cazzaro-2022G-140 -> 3 , 140\n",
      "cazzaro_2022G210 : Cazzaro-2022G-210 -> 3 , 210\n",
      "dantysk : DanTysk -> 1 , 80\n",
      "doggerA : Dogger Bank A -> 1 , 95\n",
      "dudgeon : Dudgeon -> 1 , 67\n",
      "anglia : East Anglia ONE -> 1 , 102\n",
      "gode : Gode Wind 1 -> 1 , 55\n",
      "gabbin : Greater Gabbard Inner -> 1 , 102\n",
      "gwynt : Gwynt y Mor -> 2 , 160\n",
      "horns : Horns Rev 1 -> 1 , 80\n",
      "horns2 : Horns Rev 2 -> 1 , 91\n",
      "horns3 : Horns Rev 3 -> 1 , 49\n",
      "hornsea : Hornsea One -> 3 , 174\n",
      "hornsea2w : Hornsea Two West -> 1 , 110\n",
      "london : London Array -> 2 , 175\n",
      "morayeast : Moray East -> 3 , 100\n",
      "moraywest : Moray West -> 2 , 60\n",
      "ormonde : Ormonde -> 1 , 30\n",
      "race : Race Bank -> 2 , 91\n",
      "rampion : Rampion -> 1 , 116\n",
      "rødsand2 : Rødsand 2 -> 1 , 90\n",
      "sofia : Sofia -> 1 , 100\n",
      "taylor_2023 : Taylor-2023 -> 2 , 122\n",
      "thanet : Thanet -> 1 , 100\n",
      "triton : Triton Knoll -> 2 , 90\n",
      "walney1 : Walney 1 -> 1 , 51\n",
      "walney2 : Walney 2 -> 1 , 51\n",
      "walneyext : Walney Extension -> 2 , 87\n",
      "sands : West of Duddon Sands -> 1 , 108\n",
      "yi_2019 : Yi-2019 -> 2 , 119\n",
      "albatros : Albatros -> 1 , 16\n",
      "amrumbank : Amrumbank West -> 1 , 80\n",
      "arkona : Arkona -> 1 , 60\n",
      "baltic2 : Baltic 2 -> 1 , 80\n",
      "eagle : Baltic Eagle -> 1 , 50\n",
      "bard : BARD Offshore 1 -> 1 , 80\n",
      "beatrice : Beatrice -> 2 , 84\n",
      "belwind : Belwind -> 1 , 55\n",
      "nanpeng : CECEP Yangjiang Nanpeng Island -> 1 , 55\n",
      "rudongdemo : CGN Rudong Demonstration -> 1 , 38\n",
      "bucht : Deutsche Bucht -> 1 , 31\n",
      "fecamp : Fecamp -> 1 , 71\n",
      "galloper : Galloper Inner -> 1 , 38\n",
      "gemini1 : Gemini 1 -> 1 , 75\n",
      "gemini2 : Gemini 2 -> 1 , 75\n",
      "glotech1 : Global Tech 1 -> 1 , 80\n",
      "hohesee : Hohe See -> 1 , 71\n",
      "kustzuid : Hollandse Kust Zuid -> 2 , 139\n",
      "humber : Humber Gateway -> 1 , 73\n",
      "kaskasi : Kaskasi -> 1 , 38\n",
      "kfA : Kriegers Flak A -> 1 , 24\n",
      "kfB : Kriegers Flak B -> 1 , 48\n",
      "bodhi : Laoting Bodhi Island -> 1 , 75\n",
      "lillgrund : Lillgrund -> 1 , 48\n",
      "lincs : Lincs -> 1 , 75\n",
      "luchterduinen : Luchterduinen -> 1 , 43\n",
      "meerwind : Meerwind -> 1 , 80\n",
      "merkur : Merkur -> 1 , 66\n",
      "mermaid : Mermaid -> 1 , 27\n",
      "neart : Neart na Gaoithe -> 2 , 54\n",
      "nordsee : Nordsee One -> 1 , 54\n",
      "nordseeost : Nordsee Ost -> 1 , 48\n",
      "norther : Norther -> 1 , 44\n",
      "northwind : Northwind -> 1 , 72\n",
      "nysted : Nysted -> 1 , 72\n",
      "amalia : Princess Amalia -> 1 , 60\n",
      "rental : Rentel -> 1 , 42\n",
      "riffgat : Riffgat -> 1 , 30\n",
      "robin : Robin Rigg -> 1 , 60\n",
      "rudongH10 : Rudong H10 -> 1 , 100\n",
      "rudongH6 : Rudong H6 -> 1 , 100\n",
      "rudongH8 : Rudong H8 -> 1 , 65\n",
      "brieuc : Saint-Brieuc -> 1 , 62\n",
      "nazaire : Saint-Nazaire -> 1 , 80\n",
      "sandbank : Sandbank -> 1 , 72\n",
      "seagreen : Seagreen -> 1 , 114\n",
      "shengsi2 : Shengsi 2 -> 1 , 63\n",
      "sheringham : Sheringham Shoal -> 2 , 88\n",
      "binhainorthH2 : SPIC Binhai North H2 -> 1 , 100\n",
      "triborkum : Trianel Windpark Borkum -> 1 , 72\n",
      "vejamate : Veja Mate -> 1 , 67\n",
      "vineyard : Vineyard Wind 1 -> 1 , 62\n",
      "rough : Westermost Rough -> 1 , 35\n",
      "wikinger : Wikinger -> 1 , 70\n",
      "jiaxing1 : Zhejiang Jiaxing 1 -> 1 , 74\n"
     ]
    }
   ],
   "source": [
    "for L in locations:\n",
    "    print(L.graph['handle'], ':', L.graph['name'], '->',\n",
    "          L.graph['R'], ',', L.graph['T'])"
   ]
  },
  {
   "cell_type": "markdown",
   "id": "3cf6486e",
   "metadata": {},
   "source": [
    "Any of the locations in this list can be directly passed to `WindFarmNetwork` instance as `L` graph, e.g.:\n",
    "```python\n",
    "    wfn = WindFarmNetwork(L=locations.seagreen, cables=7)\n",
    "```"
   ]
  }
 ],
 "metadata": {
  "kernelspec": {
   "display_name": "OptiWindNet",
   "language": "python",
   "name": "python3"
  },
  "language_info": {
   "codemirror_mode": {
    "name": "ipython",
    "version": 3
   },
   "file_extension": ".py",
   "mimetype": "text/x-python",
   "name": "python",
   "nbconvert_exporter": "python",
   "pygments_lexer": "ipython3",
   "version": "3.12.9"
  }
 },
 "nbformat": 4,
 "nbformat_minor": 5
}
