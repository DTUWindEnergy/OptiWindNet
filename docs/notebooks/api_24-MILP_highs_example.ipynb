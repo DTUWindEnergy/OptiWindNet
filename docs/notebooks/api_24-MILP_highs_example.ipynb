{
 "cells": [
  {
   "cell_type": "markdown",
   "id": "5848a926-0ca5-4ce4-ada8-2cc9a7d784b1",
   "metadata": {},
   "source": [
    "## HiGHS example"
   ]
  },
  {
   "cell_type": "code",
   "execution_count": null,
   "id": "a261ff8d-2072-411a-8e0f-1a3cf121d74f",
   "metadata": {},
   "outputs": [],
   "source": [
    "from optiwindnet.api import WindFarmNetwork, Heuristic, MILP\n",
    "from optiwindnet.importer import load_repository"
   ]
  },
  {
   "cell_type": "code",
   "execution_count": null,
   "id": "20f70f83-2ca9-4e62-942d-ddfa5231c2c8",
   "metadata": {},
   "outputs": [],
   "source": [
    "from pyomo import environ as pyo"
   ]
  },
  {
   "cell_type": "markdown",
   "id": "2cb613dc-7548-48b2-8083-6f1d8024eadb",
   "metadata": {},
   "source": [
    "### Initialize Triton"
   ]
  },
  {
   "cell_type": "raw",
   "id": "28be74fa-8618-49fa-be17-3a9078568dad",
   "metadata": {},
   "source": [
    "highser = Highs()\n",
    "highser.available(), type(highser)"
   ]
  },
  {
   "cell_type": "code",
   "execution_count": null,
   "id": "9909aab1-9362-4221-bb7d-389032d0d829",
   "metadata": {},
   "outputs": [],
   "source": [
    "highser = pyo.SolverFactory('appsi_highs')\n",
    "highser.available(), type(highser)"
   ]
  },
  {
   "cell_type": "code",
   "execution_count": null,
   "id": "d1a64ce6-29ab-475b-8418-af899d232369",
   "metadata": {},
   "outputs": [],
   "source": [
    "locations = load_repository()"
   ]
  },
  {
   "cell_type": "markdown",
   "id": "047ae1e4-eb0c-40ad-8b2d-690ccc9602d1",
   "metadata": {},
   "source": [
    "### Optimize Triton"
   ]
  },
  {
   "cell_type": "code",
   "execution_count": null,
   "id": "4dfc0c8c-9a68-49bc-9758-b81fa31b19b2",
   "metadata": {},
   "outputs": [],
   "source": [
    "L = locations.triton\n",
    "capacity = 8\n",
    "wfn = WindFarmNetwork.upload_L(L=L, cables_capacity=capacity)"
   ]
  },
  {
   "cell_type": "code",
   "execution_count": null,
   "id": "97206bbb",
   "metadata": {},
   "outputs": [],
   "source": [
    "wfn.plot_L()"
   ]
  },
  {
   "cell_type": "code",
   "execution_count": null,
   "id": "1e40cc31",
   "metadata": {},
   "outputs": [],
   "source": [
    "wfn.plot_A()"
   ]
  },
  {
   "cell_type": "markdown",
   "id": "31a73ca3-01eb-46bc-9909-de5211f4ec4e",
   "metadata": {},
   "source": [
    "Initial heuristic solution to warm-start the solver:"
   ]
  },
  {
   "cell_type": "code",
   "execution_count": null,
   "id": "d43133d0-dbd1-4146-840d-dc2570b82483",
   "metadata": {},
   "outputs": [],
   "source": [
    "router_pre_solver = Heuristic(solver='EW')\n",
    "res_pre_solver= wfn.optimize(router=router_pre_solver)\n",
    "wfn.plot()"
   ]
  },
  {
   "cell_type": "code",
   "execution_count": null,
   "id": "71e05720-3404-4701-b376-3962d9bd759b",
   "metadata": {},
   "outputs": [],
   "source": []
  },
  {
   "cell_type": "code",
   "execution_count": null,
   "id": "ebe0ab78-9c38-4e26-8bde-28519035e4b8",
   "metadata": {
    "scrolled": true
   },
   "outputs": [],
   "source": [
    "# not sure if this one is the correct one\n",
    "# highser = pyo.SolverFactory('appsi_highs')\n",
    "highser.options.update(dict(\n",
    "))\n",
    "print(f'Solving \"{model.handle}\": {{R={len(model.R)}, T={len(model.T)}, k={model.k.value}}}\\n')\n",
    "result = highser.solve(model, tee=True)\n",
    "\n",
    "\n",
    "solver_options=dict(\n",
    "    time_limit=60,  # timelimit?\n",
    "    mip_rel_gap=0.005,  # mipgap?\n",
    "    tee=True\n",
    ")\n",
    "\n",
    "\n",
    "model_options = {\"gateXing_constraint\": False,\n",
    "                 \"branching\": True,\n",
    "                 \"gates_limit\": False}\n",
    "\n",
    "router = MILP(solver='highs', solver_options=solver_options, model_options=model_options, detour=True)\n",
    "res = wfn.optimize(router=router)"
   ]
  },
  {
   "cell_type": "code",
   "execution_count": null,
   "id": "008da20f-7e6e-4df1-af59-f558d3ccad4a",
   "metadata": {},
   "outputs": [],
   "source": [
    "wfn.plot()"
   ]
  }
 ],
 "metadata": {
  "kernelspec": {
   "display_name": "OptiWindNet",
   "language": "python",
   "name": "python3"
  },
  "language_info": {
   "codemirror_mode": {
    "name": "ipython",
    "version": 3
   },
   "file_extension": ".py",
   "mimetype": "text/x-python",
   "name": "python",
   "nbconvert_exporter": "python",
   "pygments_lexer": "ipython3",
   "version": "3.12.9"
  }
 },
 "nbformat": 4,
 "nbformat_minor": 5
}
