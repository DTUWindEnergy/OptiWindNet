{
 "cells": [
  {
   "cell_type": "markdown",
   "id": "ed13a6b8-1d5b-4ce0-9cd4-b81bac7b07dd",
   "metadata": {},
   "source": [
    "# Gradient"
   ]
  },
  {
   "cell_type": "markdown",
   "id": "48d6bae7",
   "metadata": {},
   "source": [
    "This notebook demonstrates how to use *OptiWindNet*’s `gradient()` function to analyze how small position changes in turbines or substations affect total cable length and cost. Through simple, controlled examples, we’ll calculate gradients for both distance and cost objectives, verify them against expected behavior, and explore the effect of temporarily substituting new coordinates without altering the underlying network object. The gradient function provides a practical way to assess sensitivity and guide layout optimization decisions.\n"
   ]
  },
  {
   "cell_type": "markdown",
   "id": "c5d3cfd8",
   "metadata": {},
   "source": [
    "## Import required packages"
   ]
  },
  {
   "cell_type": "code",
   "execution_count": 15,
   "id": "b0f61785-6be5-4a0f-8282-5c17f4cc28ad",
   "metadata": {},
   "outputs": [],
   "source": [
    "from optiwindnet.api import WindFarmNetwork\n",
    "import numpy as np"
   ]
  },
  {
   "cell_type": "code",
   "execution_count": 16,
   "id": "fb0ad137",
   "metadata": {},
   "outputs": [],
   "source": [
    "# Display figures as SVG in Jupyter notebooks\n",
    "%config InlineBackend.figure_formats = ['svg']"
   ]
  },
  {
   "cell_type": "markdown",
   "id": "52815e79",
   "metadata": {},
   "source": [
    "## A sample network"
   ]
  },
  {
   "cell_type": "markdown",
   "id": "3f8789d4-5f85-4e50-a7b6-dd9b57f0e4a2",
   "metadata": {},
   "source": [
    "Create a sample network with one substation and two wind turbines."
   ]
  },
  {
   "cell_type": "code",
   "execution_count": 17,
   "id": "4e702047",
   "metadata": {},
   "outputs": [],
   "source": [
    "substationsC = np.array([[0, 0]])\n",
    "turbinesC = np.array([[0, 1], [1, 1]])\n",
    "borderC = np.array([[-0.1, -0.1], [-0.1, 1.1], [1.1, 1.1], [1.1, -0.1]],\n",
    "    dtype=float)"
   ]
  },
  {
   "cell_type": "markdown",
   "id": "666f2926",
   "metadata": {},
   "source": [
    "Create an instance of WindFarmNetwork based on the defined data."
   ]
  },
  {
   "cell_type": "code",
   "execution_count": 18,
   "id": "06f2868e",
   "metadata": {},
   "outputs": [],
   "source": [
    "wfn = WindFarmNetwork(turbinesC=turbinesC, substationsC=substationsC, cables=[(5, 1800.0)], borderC=borderC)"
   ]
  },
  {
   "cell_type": "markdown",
   "id": "ed397773",
   "metadata": {},
   "source": [
    "Plot location (without the cabling layout)"
   ]
  },
  {
   "cell_type": "code",
   "execution_count": 19,
   "id": "f88ccb3c",
   "metadata": {},
   "outputs": [
    {
     "data": {
      "image/svg+xml": [
       "<svg xmlns=\"http://www.w3.org/2000/svg\" viewBox=\"0 0 1920 1080\"><defs><circle stroke=\"none\" stroke-width=\"2\" id=\"wtg\" r=\"12\"/><rect stroke=\"#111\" stroke-width=\"2\" id=\"oss\" width=\"21\" height=\"21\" fill=\"lawngreen\"/></defs><g id=\"\"><path stroke=\"silver\" stroke-dasharray=\"15 7\" stroke-width=\"2\" id=\"border\" d=\"M30 1050 30 30 1050 30 1050 1050z\" fill-rule=\"evenodd\" fill=\"#111\"/><g id=\"WTGgrp\"><g fill=\"#9edae5\"><use href=\"#wtg\" x=\"115\" y=\"115\"/><use href=\"#wtg\" x=\"965\" y=\"115\"/></g></g><g id=\"OSSgrp\"><use href=\"#oss\" x=\"104.5\" y=\"954.5\"/></g></g></svg>"
      ],
      "text/plain": [
       "<optiwindnet.api.WindFarmNetwork at 0x1f079d84bc0>"
      ]
     },
     "execution_count": 19,
     "metadata": {},
     "output_type": "execute_result"
    }
   ],
   "source": [
    "wfn # or wfn.plot_location()"
   ]
  },
  {
   "cell_type": "markdown",
   "id": "13554c48",
   "metadata": {},
   "source": [
    "### Optimize"
   ]
  },
  {
   "cell_type": "markdown",
   "id": "b38e2880",
   "metadata": {},
   "source": [
    "Run optimization with the default solver."
   ]
  },
  {
   "cell_type": "code",
   "execution_count": 20,
   "id": "f888963b",
   "metadata": {},
   "outputs": [],
   "source": [
    "res_optimize = wfn.optimize()"
   ]
  },
  {
   "cell_type": "markdown",
   "id": "602ccee2",
   "metadata": {},
   "source": [
    "Plot final layout"
   ]
  },
  {
   "cell_type": "code",
   "execution_count": 21,
   "id": "883efe11",
   "metadata": {},
   "outputs": [
    {
     "data": {
      "image/svg+xml": [
       "<svg xmlns=\"http://www.w3.org/2000/svg\" viewBox=\"0 0 1920 1080\"><defs><circle stroke=\"none\" stroke-width=\"2\" id=\"wtg\" r=\"12\"/><rect stroke=\"#111\" stroke-width=\"2\" id=\"oss\" width=\"21\" height=\"21\" fill=\"lawngreen\"/><filter x=\"-5%\" y=\"-5%\" id=\"bg_textbox\" width=\"110%\" height=\"110%\"><feFlood flood-opacity=\"0.6\" flood-color=\"black\" result=\"bg\"/><feMerge><feMergeNode in=\"bg\"/><feMergeNode in=\"SourceGraphic\"/></feMerge></filter></defs><g id=\"\"><path stroke=\"silver\" stroke-dasharray=\"15 7\" stroke-width=\"2\" id=\"border\" d=\"M30 1050 30 30 1050 30 1050 1050z\" fill-rule=\"evenodd\" fill=\"#111\"/><g stroke=\"crimson\" stroke-width=\"4\" id=\"edges_unspecified\"><line x1=\"115\" y1=\"115\" x2=\"965\" y2=\"115\"/><line x1=\"115\" y1=\"965\" x2=\"115\" y2=\"115\"/></g><g id=\"WTGgrp\"><g fill=\"#1f77b4\"><use href=\"#wtg\" x=\"115\" y=\"115\"/><use href=\"#wtg\" x=\"965\" y=\"115\"/></g></g><g id=\"OSSgrp\"><use href=\"#oss\" x=\"104.5\" y=\"954.5\"/></g></g><text filter=\"url(#bg_textbox)\" text-anchor=\"end\" font-family=\"sans-serif\" font-size=\"40\" fill=\"white\" x=\"1050\" y=\"1050\"><tspan x=\"1050\" dy=\"-0.0em\">3600 &#8364;</tspan><tspan x=\"1050\" dy=\"-1.3em\">&#931;&#955; = 2.0 m</tspan><tspan x=\"1050\" dy=\"-1.3em\">(+0) [-1]: 1</tspan><tspan x=\"1050\" dy=\"-1.3em\">&#954; = 5, T = 2</tspan></text></svg>"
      ],
      "text/plain": [
       "<optiwindnet.api.WindFarmNetwork at 0x1f079d84bc0>"
      ]
     },
     "execution_count": 21,
     "metadata": {},
     "output_type": "execute_result"
    }
   ],
   "source": [
    "wfn"
   ]
  },
  {
   "cell_type": "markdown",
   "id": "524593fa",
   "metadata": {},
   "source": []
  },
  {
   "cell_type": "markdown",
   "id": "28da0dae",
   "metadata": {},
   "source": [
    "## Calculate gradients"
   ]
  },
  {
   "cell_type": "markdown",
   "id": "c39a1865",
   "metadata": {},
   "source": [
    "### Gradient of length (default)\n",
    "Calculate gradient of turbines and substation using gradient() function. The expected gradient values are that moving first WT on x-axis infiniticimally will reduce the total length equally while on y-axis will increase the total length. And accordingly for the other turbine and substaion. The output of gradient() function is matching with the expectation."
   ]
  },
  {
   "cell_type": "code",
   "execution_count": 22,
   "id": "967cb0ac",
   "metadata": {},
   "outputs": [
    {
     "name": "stdout",
     "output_type": "stream",
     "text": [
      "WTs gradient: \n",
      "[[-1.  1.]\n",
      " [ 1.  0.]]\n",
      "\n",
      "SS gradient: \n",
      "[[ 0. -1.]]\n"
     ]
    }
   ],
   "source": [
    "grad_wts, grad_ss = wfn.gradient()\n",
    "print('WTs gradient: ')\n",
    "print(grad_wts)\n",
    "print()\n",
    "print('SS gradient: ')\n",
    "print(grad_ss)"
   ]
  },
  {
   "cell_type": "markdown",
   "id": "b65c9301",
   "metadata": {},
   "source": [
    "### Gradient of cost"
   ]
  },
  {
   "cell_type": "code",
   "execution_count": 23,
   "id": "5a69abdd",
   "metadata": {},
   "outputs": [
    {
     "name": "stdout",
     "output_type": "stream",
     "text": [
      "WTs gradient: \n",
      "[[-1800.  1800.]\n",
      " [ 1800.     0.]]\n",
      "\n",
      "SS gradient: \n",
      "[[    0. -1800.]]\n"
     ]
    }
   ],
   "source": [
    "grad_wts, grad_ss = wfn.gradient(gradient_type='cost')\n",
    "print('WTs gradient: ')\n",
    "print(grad_wts)\n",
    "print()\n",
    "print('SS gradient: ')\n",
    "print(grad_ss)"
   ]
  },
  {
   "cell_type": "markdown",
   "id": "7d89ee01",
   "metadata": {},
   "source": [
    "#### Gradient with new coordinates"
   ]
  },
  {
   "cell_type": "markdown",
   "id": "fa9eefbf",
   "metadata": {},
   "source": [
    "Example 1"
   ]
  },
  {
   "cell_type": "code",
   "execution_count": 24,
   "id": "2edf4411",
   "metadata": {},
   "outputs": [
    {
     "name": "stdout",
     "output_type": "stream",
     "text": [
      "WTs gradient: \n",
      "[[-1.4472136   0.89442719]\n",
      " [ 1.          0.        ]]\n",
      "\n",
      "SS gradient: \n",
      "[[ 0.4472136  -0.89442719]]\n"
     ]
    }
   ],
   "source": [
    "grad_wts, grad_ss = wfn.gradient(substationsC=np.array([[0.5, 0],], dtype=float))\n",
    "print('WTs gradient: ')\n",
    "print(grad_wts)\n",
    "print()\n",
    "print('SS gradient: ')\n",
    "print(grad_ss)"
   ]
  },
  {
   "cell_type": "markdown",
   "id": "2834e1fb",
   "metadata": {},
   "source": [
    "Example 2"
   ]
  },
  {
   "cell_type": "code",
   "execution_count": 25,
   "id": "312cef75",
   "metadata": {},
   "outputs": [
    {
     "name": "stdout",
     "output_type": "stream",
     "text": [
      "WTs gradient: \n",
      "[[0. 0.]\n",
      " [1. 0.]]\n",
      "\n",
      "SS gradient: \n",
      "[[-1.  0.]]\n"
     ]
    }
   ],
   "source": [
    "grad_wts, grad_ss = wfn.gradient(substationsC=np.array([[-1, 1],], dtype=float))\n",
    "print('WTs gradient: ')\n",
    "print(grad_wts)\n",
    "print()\n",
    "print('SS gradient: ')\n",
    "print(grad_ss)"
   ]
  },
  {
   "cell_type": "markdown",
   "id": "848cabcc",
   "metadata": {},
   "source": [
    "> Note:  `.gradient()` will calculate gradients with new coordinate **but do not update the `wfn` object. For example if we plot the layout, original coordinates are depicted. If you need to update `wfn` see the notebook about [WindFarmNetwork class of API](a02_WindFarmNetwork.ipynb)"
   ]
  },
  {
   "cell_type": "code",
   "execution_count": 26,
   "id": "5058944c",
   "metadata": {},
   "outputs": [
    {
     "data": {
      "image/svg+xml": [
       "<svg xmlns=\"http://www.w3.org/2000/svg\" viewBox=\"0 0 1920 1080\"><defs><circle stroke=\"none\" stroke-width=\"2\" id=\"wtg\" r=\"12\"/><rect stroke=\"#111\" stroke-width=\"2\" id=\"oss\" width=\"21\" height=\"21\" fill=\"lawngreen\"/><filter x=\"-5%\" y=\"-5%\" id=\"bg_textbox\" width=\"110%\" height=\"110%\"><feFlood flood-opacity=\"0.6\" flood-color=\"black\" result=\"bg\"/><feMerge><feMergeNode in=\"bg\"/><feMergeNode in=\"SourceGraphic\"/></feMerge></filter></defs><g id=\"\"><path stroke=\"silver\" stroke-dasharray=\"15 7\" stroke-width=\"2\" id=\"border\" d=\"M30 1050 30 30 1050 30 1050 1050z\" fill-rule=\"evenodd\" fill=\"#111\"/><g stroke=\"crimson\" stroke-width=\"4\" id=\"edges_unspecified\"><line x1=\"115\" y1=\"115\" x2=\"965\" y2=\"115\"/><line x1=\"115\" y1=\"965\" x2=\"115\" y2=\"115\"/></g><g id=\"WTGgrp\"><g fill=\"#1f77b4\"><use href=\"#wtg\" x=\"115\" y=\"115\"/><use href=\"#wtg\" x=\"965\" y=\"115\"/></g></g><g id=\"OSSgrp\"><use href=\"#oss\" x=\"104.5\" y=\"954.5\"/></g></g><text filter=\"url(#bg_textbox)\" text-anchor=\"end\" font-family=\"sans-serif\" font-size=\"40\" fill=\"white\" x=\"1050\" y=\"1050\"><tspan x=\"1050\" dy=\"-0.0em\">3600 &#8364;</tspan><tspan x=\"1050\" dy=\"-1.3em\">&#931;&#955; = 2.0 m</tspan><tspan x=\"1050\" dy=\"-1.3em\">(+0) [-1]: 1</tspan><tspan x=\"1050\" dy=\"-1.3em\">&#954; = 5, T = 2</tspan></text></svg>"
      ],
      "text/plain": [
       "<optiwindnet.api.WindFarmNetwork at 0x1f079d84bc0>"
      ]
     },
     "execution_count": 26,
     "metadata": {},
     "output_type": "execute_result"
    }
   ],
   "source": [
    "wfn"
   ]
  }
 ],
 "metadata": {
  "kernelspec": {
   "display_name": "OptiWindNet",
   "language": "python",
   "name": "python3"
  },
  "language_info": {
   "codemirror_mode": {
    "name": "ipython",
    "version": 3
   },
   "file_extension": ".py",
   "mimetype": "text/x-python",
   "name": "python",
   "nbconvert_exporter": "python",
   "pygments_lexer": "ipython3",
   "version": "3.12.9"
  }
 },
 "nbformat": 4,
 "nbformat_minor": 5
}
