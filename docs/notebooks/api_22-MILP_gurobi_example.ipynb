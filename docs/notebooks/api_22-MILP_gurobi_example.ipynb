{
 "cells": [
  {
   "cell_type": "markdown",
   "id": "baa0bae5-bb69-46b8-ae63-d4304f9859d9",
   "metadata": {},
   "source": [
    "## Gurobi example"
   ]
  },
  {
   "cell_type": "code",
   "execution_count": 1,
   "id": "23c1c992-a563-4f2d-bbc8-cf0884e5b275",
   "metadata": {},
   "outputs": [],
   "source": [
    "from optiwindnet.importer import load_repository\n",
    "from optiwindnet.svg import svgplot\n",
    "from optiwindnet.mesh import make_planar_embedding\n",
    "from optiwindnet.interarraylib import G_from_S\n",
    "from optiwindnet.heuristics import EW_presolver\n",
    "from optiwindnet.MILP import pyomo as omo\n",
    "from optiwindnet.pathfinding import PathFinder"
   ]
  },
  {
   "cell_type": "code",
   "execution_count": 2,
   "id": "4ac9d1b1-17f6-4ed5-906c-67179c34dd9f",
   "metadata": {},
   "outputs": [],
   "source": [
    "from pyomo import environ as pyo"
   ]
  },
  {
   "cell_type": "markdown",
   "id": "d4a80ecc-64a9-4007-b6d6-ade397e250a3",
   "metadata": {},
   "source": [
    "### Initialize Gwynt y Mor"
   ]
  },
  {
   "cell_type": "code",
   "execution_count": 3,
   "id": "29a6b5d1-a05f-4112-bf66-462b4d36b516",
   "metadata": {},
   "outputs": [],
   "source": [
    "locations = load_repository()"
   ]
  },
  {
   "cell_type": "code",
   "execution_count": 4,
   "id": "666ca26c-b3cf-4000-a44e-cab38866018d",
   "metadata": {},
   "outputs": [],
   "source": [
    "L = locations.gwynt\n",
    "capacity = 6"
   ]
  },
  {
   "cell_type": "code",
   "execution_count": 5,
   "id": "a23b577c-d334-405e-b70a-9b3717eefa2b",
   "metadata": {},
   "outputs": [
    {
     "data": {
      "image/svg+xml": [
       "<svg xmlns=\"http://www.w3.org/2000/svg\" viewBox=\"0 0 1920 1025\"><defs><filter x=\"-5%\" y=\"-5%\" id=\"bg_textbox\" width=\"110%\" height=\"110%\"><feFlood flood-opacity=\"0.7\" flood-color=\"#111\" result=\"bg\"/><feMerge><feMergeNode in=\"bg\"/><feMergeNode in=\"SourceGraphic\"/></feMerge></filter><circle stroke=\"none\" stroke-width=\"2\" id=\"wtg\" r=\"12\"/><rect stroke=\"none\" stroke-width=\"2\" id=\"oss\" width=\"21\" height=\"21\" fill=\"lawngreen\"/></defs><g id=\"gwynt\"><path stroke=\"silver\" stroke-dasharray=\"15 7\" stroke-width=\"2\" id=\"border\" d=\"M1228 156 1541 267 1890 995 1526 956 1269 866 953 924 932 820 786 842 636 967 477 991 367 868 351 779 90 453 51 416 30 318 247 138 868 30 1054 96z\" fill-rule=\"evenodd\" fill=\"#111\"/><g id=\"WTGgrp\"><g fill=\"#9edae5\"><use href=\"#wtg\" x=\"858\" y=\"36\"/><use href=\"#wtg\" x=\"943\" y=\"67\"/><use href=\"#wtg\" x=\"1029\" y=\"98\"/><use href=\"#wtg\" x=\"1221\" y=\"163\"/><use href=\"#wtg\" x=\"1306\" y=\"193\"/><use href=\"#wtg\" x=\"1391\" y=\"224\"/><use href=\"#wtg\" x=\"1476\" y=\"255\"/><use href=\"#wtg\" x=\"791\" y=\"90\"/><use href=\"#wtg\" x=\"876\" y=\"121\"/><use href=\"#wtg\" x=\"961\" y=\"152\"/><use href=\"#wtg\" x=\"1152\" y=\"221\"/><use href=\"#wtg\" x=\"1237\" y=\"252\"/><use href=\"#wtg\" x=\"1322\" y=\"283\"/><use href=\"#wtg\" x=\"1407\" y=\"314\"/><use href=\"#wtg\" x=\"1492\" y=\"344\"/><use href=\"#wtg\" x=\"1572\" y=\"378\"/><use href=\"#wtg\" x=\"1508\" y=\"433\"/><use href=\"#wtg\" x=\"1589\" y=\"461\"/><use href=\"#wtg\" x=\"637\" y=\"117\"/><use href=\"#wtg\" x=\"722\" y=\"148\"/><use href=\"#wtg\" x=\"807\" y=\"179\"/><use href=\"#wtg\" x=\"892\" y=\"210\"/><use href=\"#wtg\" x=\"977\" y=\"241\"/><use href=\"#wtg\" x=\"1168\" y=\"310\"/><use href=\"#wtg\" x=\"1253\" y=\"341\"/><use href=\"#wtg\" x=\"1338\" y=\"372\"/><use href=\"#wtg\" x=\"1423\" y=\"403\"/><use href=\"#wtg\" x=\"1439\" y=\"492\"/><use href=\"#wtg\" x=\"1524\" y=\"523\"/><use href=\"#wtg\" x=\"1609\" y=\"553\"/><use href=\"#wtg\" x=\"567\" y=\"176\"/><use href=\"#wtg\" x=\"652\" y=\"207\"/><use href=\"#wtg\" x=\"738\" y=\"237\"/><use href=\"#wtg\" x=\"823\" y=\"268\"/><use href=\"#wtg\" x=\"908\" y=\"299\"/><use href=\"#wtg\" x=\"1098\" y=\"368\"/><use href=\"#wtg\" x=\"1183\" y=\"399\"/><use href=\"#wtg\" x=\"1269\" y=\"430\"/><use href=\"#wtg\" x=\"1354\" y=\"461\"/><use href=\"#wtg\" x=\"1114\" y=\"458\"/><use href=\"#wtg\" x=\"1199\" y=\"488\"/><use href=\"#wtg\" x=\"1285\" y=\"519\"/><use href=\"#wtg\" x=\"1370\" y=\"550\"/><use href=\"#wtg\" x=\"1455\" y=\"581\"/><use href=\"#wtg\" x=\"1540\" y=\"612\"/><use href=\"#wtg\" x=\"1625\" y=\"643\"/><use href=\"#wtg\" x=\"1710\" y=\"673\"/><use href=\"#wtg\" x=\"242\" y=\"142\"/><use href=\"#wtg\" x=\"328\" y=\"172\"/><use href=\"#wtg\" x=\"413\" y=\"203\"/><use href=\"#wtg\" x=\"498\" y=\"234\"/><use href=\"#wtg\" x=\"583\" y=\"265\"/><use href=\"#wtg\" x=\"668\" y=\"296\"/><use href=\"#wtg\" x=\"754\" y=\"327\"/><use href=\"#wtg\" x=\"839\" y=\"357\"/><use href=\"#wtg\" x=\"924\" y=\"388\"/><use href=\"#wtg\" x=\"1045\" y=\"516\"/><use href=\"#wtg\" x=\"1130\" y=\"547\"/><use href=\"#wtg\" x=\"1215\" y=\"578\"/><use href=\"#wtg\" x=\"1300\" y=\"609\"/><use href=\"#wtg\" x=\"1386\" y=\"639\"/><use href=\"#wtg\" x=\"1471\" y=\"670\"/><use href=\"#wtg\" x=\"1556\" y=\"701\"/><use href=\"#wtg\" x=\"1641\" y=\"732\"/><use href=\"#wtg\" x=\"1726\" y=\"763\"/><use href=\"#wtg\" x=\"173\" y=\"200\"/><use href=\"#wtg\" x=\"258\" y=\"231\"/><use href=\"#wtg\" x=\"344\" y=\"262\"/><use href=\"#wtg\" x=\"429\" y=\"293\"/><use href=\"#wtg\" x=\"514\" y=\"323\"/><use href=\"#wtg\" x=\"599\" y=\"354\"/><use href=\"#wtg\" x=\"684\" y=\"385\"/><use href=\"#wtg\" x=\"769\" y=\"416\"/><use href=\"#wtg\" x=\"855\" y=\"447\"/><use href=\"#wtg\" x=\"870\" y=\"536\"/><use href=\"#wtg\" x=\"1061\" y=\"605\"/><use href=\"#wtg\" x=\"1146\" y=\"636\"/><use href=\"#wtg\" x=\"1231\" y=\"667\"/><use href=\"#wtg\" x=\"1316\" y=\"698\"/><use href=\"#wtg\" x=\"1402\" y=\"729\"/><use href=\"#wtg\" x=\"1487\" y=\"759\"/><use href=\"#wtg\" x=\"1572\" y=\"790\"/><use href=\"#wtg\" x=\"1657\" y=\"821\"/><use href=\"#wtg\" x=\"1742\" y=\"852\"/><use href=\"#wtg\" x=\"104\" y=\"258\"/><use href=\"#wtg\" x=\"189\" y=\"289\"/><use href=\"#wtg\" x=\"274\" y=\"320\"/><use href=\"#wtg\" x=\"359\" y=\"351\"/><use href=\"#wtg\" x=\"445\" y=\"382\"/><use href=\"#wtg\" x=\"530\" y=\"412\"/><use href=\"#wtg\" x=\"615\" y=\"443\"/><use href=\"#wtg\" x=\"700\" y=\"474\"/><use href=\"#wtg\" x=\"785\" y=\"505\"/><use href=\"#wtg\" x=\"801\" y=\"594\"/><use href=\"#wtg\" x=\"992\" y=\"664\"/><use href=\"#wtg\" x=\"1077\" y=\"694\"/><use href=\"#wtg\" x=\"1162\" y=\"725\"/><use href=\"#wtg\" x=\"1247\" y=\"756\"/><use href=\"#wtg\" x=\"1332\" y=\"787\"/><use href=\"#wtg\" x=\"1417\" y=\"818\"/><use href=\"#wtg\" x=\"1503\" y=\"849\"/><use href=\"#wtg\" x=\"1588\" y=\"879\"/><use href=\"#wtg\" x=\"1673\" y=\"910\"/><use href=\"#wtg\" x=\"35\" y=\"317\"/><use href=\"#wtg\" x=\"1758\" y=\"941\"/><use href=\"#wtg\" x=\"1843\" y=\"972\"/><use href=\"#wtg\" x=\"120\" y=\"348\"/><use href=\"#wtg\" x=\"205\" y=\"378\"/><use href=\"#wtg\" x=\"290\" y=\"409\"/><use href=\"#wtg\" x=\"375\" y=\"440\"/><use href=\"#wtg\" x=\"461\" y=\"471\"/><use href=\"#wtg\" x=\"546\" y=\"502\"/><use href=\"#wtg\" x=\"631\" y=\"532\"/><use href=\"#wtg\" x=\"716\" y=\"563\"/><use href=\"#wtg\" x=\"817\" y=\"683\"/><use href=\"#wtg\" x=\"1007\" y=\"753\"/><use href=\"#wtg\" x=\"1092\" y=\"784\"/><use href=\"#wtg\" x=\"1178\" y=\"814\"/><use href=\"#wtg\" x=\"1263\" y=\"845\"/><use href=\"#wtg\" x=\"1348\" y=\"876\"/><use href=\"#wtg\" x=\"1433\" y=\"907\"/><use href=\"#wtg\" x=\"1519\" y=\"936\"/><use href=\"#wtg\" x=\"52\" y=\"402\"/><use href=\"#wtg\" x=\"136\" y=\"437\"/><use href=\"#wtg\" x=\"221\" y=\"468\"/><use href=\"#wtg\" x=\"306\" y=\"498\"/><use href=\"#wtg\" x=\"391\" y=\"529\"/><use href=\"#wtg\" x=\"476\" y=\"560\"/><use href=\"#wtg\" x=\"562\" y=\"591\"/><use href=\"#wtg\" x=\"647\" y=\"622\"/><use href=\"#wtg\" x=\"732\" y=\"652\"/><use href=\"#wtg\" x=\"1023\" y=\"842\"/><use href=\"#wtg\" x=\"1108\" y=\"873\"/><use href=\"#wtg\" x=\"152\" y=\"526\"/><use href=\"#wtg\" x=\"237\" y=\"557\"/><use href=\"#wtg\" x=\"322\" y=\"587\"/><use href=\"#wtg\" x=\"407\" y=\"618\"/><use href=\"#wtg\" x=\"492\" y=\"649\"/><use href=\"#wtg\" x=\"577\" y=\"680\"/><use href=\"#wtg\" x=\"663\" y=\"711\"/><use href=\"#wtg\" x=\"748\" y=\"742\"/><use href=\"#wtg\" x=\"938\" y=\"811\"/><use href=\"#wtg\" x=\"253\" y=\"646\"/><use href=\"#wtg\" x=\"338\" y=\"677\"/><use href=\"#wtg\" x=\"423\" y=\"707\"/><use href=\"#wtg\" x=\"508\" y=\"738\"/><use href=\"#wtg\" x=\"593\" y=\"769\"/><use href=\"#wtg\" x=\"679\" y=\"800\"/><use href=\"#wtg\" x=\"764\" y=\"831\"/><use href=\"#wtg\" x=\"954\" y=\"900\"/><use href=\"#wtg\" x=\"354\" y=\"766\"/><use href=\"#wtg\" x=\"439\" y=\"797\"/><use href=\"#wtg\" x=\"524\" y=\"827\"/><use href=\"#wtg\" x=\"609\" y=\"858\"/><use href=\"#wtg\" x=\"694\" y=\"889\"/><use href=\"#wtg\" x=\"370\" y=\"855\"/><use href=\"#wtg\" x=\"455\" y=\"886\"/><use href=\"#wtg\" x=\"540\" y=\"917\"/><use href=\"#wtg\" x=\"625\" y=\"948\"/><use href=\"#wtg\" x=\"473\" y=\"970\"/></g></g><g id=\"OSSgrp\"><use href=\"#oss\" x=\"1282.5\" y=\"553.5\"/><use href=\"#oss\" x=\"489.5\" y=\"683.5\"/></g></g></svg>"
      ],
      "text/plain": [
       "<optiwindnet.svg.SvgRepr at 0x1a96db07230>"
      ]
     },
     "execution_count": 5,
     "metadata": {},
     "output_type": "execute_result"
    }
   ],
   "source": [
    "svgplot(L)"
   ]
  },
  {
   "cell_type": "markdown",
   "id": "958b4117-b54a-4bba-9201-615d4c922cb2",
   "metadata": {},
   "source": [
    "### Optimize Gwynt y Mor"
   ]
  },
  {
   "cell_type": "code",
   "execution_count": 6,
   "id": "df05184d-7caa-4b34-810e-37c13a7a8092",
   "metadata": {},
   "outputs": [],
   "source": [
    "P, A = make_planar_embedding(L)"
   ]
  },
  {
   "cell_type": "markdown",
   "id": "4f9b49b1-a597-4053-a3d1-f3de7bb8d164",
   "metadata": {},
   "source": [
    "Initial heuristic solution to warm-start the solver:"
   ]
  },
  {
   "cell_type": "code",
   "execution_count": 7,
   "id": "19eb273d-f662-4851-bf09-e0ec532d7b8b",
   "metadata": {},
   "outputs": [
    {
     "data": {
      "image/svg+xml": [
       "<svg xmlns=\"http://www.w3.org/2000/svg\" viewBox=\"0 0 1920 1025\"><defs><filter x=\"-5%\" y=\"-5%\" id=\"bg_textbox\" width=\"110%\" height=\"110%\"><feFlood flood-opacity=\"0.7\" flood-color=\"#111\" result=\"bg\"/><feMerge><feMergeNode in=\"bg\"/><feMergeNode in=\"SourceGraphic\"/></feMerge></filter><circle stroke=\"none\" stroke-width=\"2\" id=\"wtg\" r=\"12\"/><rect stroke=\"none\" stroke-width=\"2\" id=\"oss\" width=\"21\" height=\"21\" fill=\"lawngreen\"/></defs><g id=\"gwynt\"><path stroke=\"silver\" stroke-dasharray=\"15 7\" stroke-width=\"2\" id=\"border\" d=\"M1228 156 1541 267 1890 995 1526 956 1269 866 953 924 932 820 786 842 636 967 477 991 367 868 351 779 90 453 51 416 30 318 247 138 868 30 1054 96z\" fill-rule=\"evenodd\" fill=\"#111\"/><g stroke=\"crimson\" stroke-width=\"4\" id=\"edges_unspecified\"><line x1=\"344\" y1=\"262\" x2=\"359\" y2=\"351\"/><line x1=\"328\" y1=\"172\" x2=\"344\" y2=\"262\"/><line x1=\"500\" y1=\"694\" x2=\"439\" y2=\"797\"/><line x1=\"500\" y1=\"694\" x2=\"423\" y2=\"707\"/><line x1=\"500\" y1=\"694\" x2=\"562\" y2=\"591\"/><line x1=\"500\" y1=\"694\" x2=\"492\" y2=\"649\"/><line x1=\"500\" y1=\"694\" x2=\"593\" y2=\"769\"/><line x1=\"500\" y1=\"694\" x2=\"508\" y2=\"738\"/><line x1=\"500\" y1=\"694\" x2=\"577\" y2=\"680\"/><line x1=\"413\" y1=\"203\" x2=\"429\" y2=\"293\"/><line x1=\"429\" y1=\"293\" x2=\"445\" y2=\"382\"/><line x1=\"1417\" y1=\"818\" x2=\"1433\" y2=\"907\"/><line x1=\"1402\" y1=\"729\" x2=\"1417\" y2=\"818\"/><line x1=\"1293\" y1=\"564\" x2=\"1285\" y2=\"519\"/><line x1=\"1293\" y1=\"564\" x2=\"1300\" y2=\"609\"/><line x1=\"1293\" y1=\"564\" x2=\"1354\" y2=\"461\"/><line x1=\"1293\" y1=\"564\" x2=\"1231\" y2=\"667\"/><line x1=\"1293\" y1=\"564\" x2=\"1199\" y2=\"488\"/><line x1=\"1293\" y1=\"564\" x2=\"1370\" y2=\"550\"/><line x1=\"1293\" y1=\"564\" x2=\"1215\" y2=\"578\"/><line x1=\"1293\" y1=\"564\" x2=\"1386\" y2=\"639\"/><line x1=\"1503\" y1=\"849\" x2=\"1588\" y2=\"879\"/><line x1=\"1503\" y1=\"849\" x2=\"1519\" y2=\"936\"/><line x1=\"445\" y1=\"382\" x2=\"461\" y2=\"471\"/><line x1=\"359\" y1=\"351\" x2=\"375\" y2=\"440\"/><line x1=\"858\" y1=\"36\" x2=\"876\" y2=\"121\"/><line x1=\"943\" y1=\"67\" x2=\"876\" y2=\"121\"/><line x1=\"943\" y1=\"67\" x2=\"961\" y2=\"152\"/><line x1=\"1029\" y1=\"98\" x2=\"961\" y2=\"152\"/><line x1=\"1183\" y1=\"399\" x2=\"1199\" y2=\"488\"/><line x1=\"1114\" y1=\"458\" x2=\"1199\" y2=\"488\"/><line x1=\"1269\" y1=\"430\" x2=\"1285\" y2=\"519\"/><line x1=\"1588\" y1=\"879\" x2=\"1673\" y2=\"910\"/><line x1=\"1237\" y1=\"252\" x2=\"1253\" y2=\"341\"/><line x1=\"1221\" y1=\"163\" x2=\"1237\" y2=\"252\"/><line x1=\"1168\" y1=\"310\" x2=\"1183\" y2=\"399\"/><line x1=\"1152\" y1=\"221\" x2=\"1168\" y2=\"310\"/><line x1=\"439\" y1=\"797\" x2=\"370\" y2=\"855\"/><line x1=\"439\" y1=\"797\" x2=\"455\" y2=\"886\"/><line x1=\"1439\" y1=\"492\" x2=\"1370\" y2=\"550\"/><line x1=\"855\" y1=\"447\" x2=\"785\" y2=\"505\"/><line x1=\"924\" y1=\"388\" x2=\"855\" y2=\"447\"/><line x1=\"870\" y1=\"536\" x2=\"801\" y2=\"594\"/><line x1=\"152\" y1=\"526\" x2=\"237\" y2=\"557\"/><line x1=\"237\" y1=\"557\" x2=\"322\" y2=\"587\"/><line x1=\"1492\" y1=\"344\" x2=\"1572\" y2=\"378\"/><line x1=\"1572\" y1=\"378\" x2=\"1508\" y2=\"433\"/><line x1=\"1455\" y1=\"581\" x2=\"1540\" y2=\"612\"/><line x1=\"1524\" y1=\"523\" x2=\"1455\" y2=\"581\"/><line x1=\"1386\" y1=\"639\" x2=\"1487\" y2=\"759\"/><line x1=\"120\" y1=\"348\" x2=\"205\" y2=\"378\"/><line x1=\"120\" y1=\"348\" x2=\"52\" y2=\"402\"/><line x1=\"205\" y1=\"378\" x2=\"290\" y2=\"409\"/><line x1=\"35\" y1=\"317\" x2=\"52\" y2=\"402\"/><line x1=\"1077\" y1=\"694\" x2=\"1007\" y2=\"753\"/><line x1=\"1146\" y1=\"636\" x2=\"1077\" y2=\"694\"/><line x1=\"1092\" y1=\"784\" x2=\"1023\" y2=\"842\"/><line x1=\"1162\" y1=\"725\" x2=\"1092\" y2=\"784\"/><line x1=\"1508\" y1=\"433\" x2=\"1589\" y2=\"461\"/><line x1=\"1508\" y1=\"433\" x2=\"1439\" y2=\"492\"/><line x1=\"242\" y1=\"142\" x2=\"258\" y2=\"231\"/><line x1=\"290\" y1=\"409\" x2=\"391\" y2=\"529\"/><line x1=\"407\" y1=\"618\" x2=\"423\" y2=\"707\"/><line x1=\"423\" y1=\"707\" x2=\"354\" y2=\"766\"/><line x1=\"338\" y1=\"677\" x2=\"423\" y2=\"707\"/><line x1=\"637\" y1=\"117\" x2=\"652\" y2=\"207\"/><line x1=\"567\" y1=\"176\" x2=\"583\" y2=\"265\"/><line x1=\"258\" y1=\"231\" x2=\"274\" y2=\"320\"/><line x1=\"593\" y1=\"769\" x2=\"679\" y2=\"800\"/><line x1=\"679\" y1=\"800\" x2=\"764\" y2=\"831\"/><line x1=\"593\" y1=\"769\" x2=\"609\" y2=\"858\"/><line x1=\"609\" y1=\"858\" x2=\"694\" y2=\"889\"/><line x1=\"609\" y1=\"858\" x2=\"625\" y2=\"948\"/><line x1=\"1231\" y1=\"667\" x2=\"1162\" y2=\"725\"/><line x1=\"1178\" y1=\"814\" x2=\"1108\" y2=\"873\"/><line x1=\"1247\" y1=\"756\" x2=\"1178\" y2=\"814\"/><line x1=\"1487\" y1=\"759\" x2=\"1572\" y2=\"790\"/><line x1=\"1572\" y1=\"790\" x2=\"1657\" y2=\"821\"/><line x1=\"1524\" y1=\"523\" x2=\"1609\" y2=\"553\"/><line x1=\"1625\" y1=\"643\" x2=\"1710\" y2=\"673\"/><line x1=\"1540\" y1=\"612\" x2=\"1625\" y2=\"643\"/><line x1=\"892\" y1=\"210\" x2=\"977\" y2=\"241\"/><line x1=\"1657\" y1=\"821\" x2=\"1742\" y2=\"852\"/><line x1=\"461\" y1=\"471\" x2=\"476\" y2=\"560\"/><line x1=\"476\" y1=\"560\" x2=\"492\" y2=\"649\"/><line x1=\"1407\" y1=\"314\" x2=\"1338\" y2=\"372\"/><line x1=\"1322\" y1=\"283\" x2=\"1338\" y2=\"372\"/><line x1=\"1423\" y1=\"403\" x2=\"1354\" y2=\"461\"/><line x1=\"221\" y1=\"468\" x2=\"306\" y2=\"498\"/><line x1=\"306\" y1=\"498\" x2=\"322\" y2=\"587\"/><line x1=\"908\" y1=\"299\" x2=\"924\" y2=\"388\"/><line x1=\"1045\" y1=\"516\" x2=\"1130\" y2=\"547\"/><line x1=\"1023\" y1=\"842\" x2=\"954\" y2=\"900\"/><line x1=\"1130\" y1=\"547\" x2=\"1215\" y2=\"578\"/><line x1=\"1061\" y1=\"605\" x2=\"1146\" y2=\"636\"/><line x1=\"1098\" y1=\"368\" x2=\"1183\" y2=\"399\"/><line x1=\"1758\" y1=\"941\" x2=\"1843\" y2=\"972\"/><line x1=\"1061\" y1=\"605\" x2=\"992\" y2=\"664\"/><line x1=\"817\" y1=\"683\" x2=\"732\" y2=\"652\"/><line x1=\"508\" y1=\"738\" x2=\"524\" y2=\"827\"/><line x1=\"1007\" y1=\"753\" x2=\"938\" y2=\"811\"/><line x1=\"104\" y1=\"258\" x2=\"189\" y2=\"289\"/><line x1=\"253\" y1=\"646\" x2=\"338\" y2=\"677\"/><line x1=\"1476\" y1=\"255\" x2=\"1407\" y2=\"314\"/><line x1=\"173\" y1=\"200\" x2=\"189\" y2=\"289\"/><line x1=\"892\" y1=\"210\" x2=\"908\" y2=\"299\"/><line x1=\"514\" y1=\"323\" x2=\"530\" y2=\"412\"/><line x1=\"498\" y1=\"234\" x2=\"514\" y2=\"323\"/><line x1=\"599\" y1=\"354\" x2=\"530\" y2=\"412\"/><line x1=\"839\" y1=\"357\" x2=\"769\" y2=\"416\"/><line x1=\"1673\" y1=\"910\" x2=\"1758\" y2=\"941\"/><line x1=\"769\" y1=\"416\" x2=\"700\" y2=\"474\"/><line x1=\"700\" y1=\"474\" x2=\"631\" y2=\"532\"/><line x1=\"716\" y1=\"563\" x2=\"647\" y2=\"622\"/><line x1=\"1471\" y1=\"670\" x2=\"1556\" y2=\"701\"/><line x1=\"1556\" y1=\"701\" x2=\"1641\" y2=\"732\"/><line x1=\"1641\" y1=\"732\" x2=\"1726\" y2=\"763\"/><line x1=\"1306\" y1=\"193\" x2=\"1322\" y2=\"283\"/><line x1=\"1253\" y1=\"341\" x2=\"1269\" y2=\"430\"/><line x1=\"631\" y1=\"532\" x2=\"562\" y2=\"591\"/><line x1=\"136\" y1=\"437\" x2=\"221\" y2=\"468\"/><line x1=\"647\" y1=\"622\" x2=\"577\" y2=\"680\"/><line x1=\"583\" y1=\"265\" x2=\"599\" y2=\"354\"/><line x1=\"684\" y1=\"385\" x2=\"615\" y2=\"443\"/><line x1=\"615\" y1=\"443\" x2=\"546\" y2=\"502\"/><line x1=\"722\" y1=\"148\" x2=\"652\" y2=\"207\"/><line x1=\"652\" y1=\"207\" x2=\"668\" y2=\"296\"/><line x1=\"738\" y1=\"237\" x2=\"668\" y2=\"296\"/><line x1=\"801\" y1=\"594\" x2=\"732\" y2=\"652\"/><line x1=\"732\" y1=\"652\" x2=\"663\" y2=\"711\"/><line x1=\"1300\" y1=\"609\" x2=\"1247\" y2=\"756\"/><line x1=\"1247\" y1=\"756\" x2=\"1263\" y2=\"845\"/><line x1=\"1332\" y1=\"787\" x2=\"1348\" y2=\"876\"/><line x1=\"1316\" y1=\"698\" x2=\"1332\" y2=\"787\"/><line x1=\"1391\" y1=\"224\" x2=\"1407\" y2=\"314\"/><line x1=\"754\" y1=\"327\" x2=\"684\" y2=\"385\"/><line x1=\"823\" y1=\"268\" x2=\"754\" y2=\"327\"/><line x1=\"807\" y1=\"179\" x2=\"738\" y2=\"237\"/><line x1=\"540\" y1=\"917\" x2=\"473\" y2=\"970\"/><line x1=\"1316\" y1=\"698\" x2=\"1402\" y2=\"729\"/><line x1=\"189\" y1=\"289\" x2=\"274\" y2=\"320\"/><line x1=\"455\" y1=\"886\" x2=\"473\" y2=\"970\"/><line x1=\"858\" y1=\"36\" x2=\"791\" y2=\"90\"/><line x1=\"663\" y1=\"711\" x2=\"748\" y2=\"742\"/></g><g stroke=\"red\" stroke-dasharray=\"18 15\" stroke-width=\"4\" id=\"edges_tentative\"><line x1=\"500\" y1=\"694\" x2=\"663\" y2=\"711\"/><line x1=\"500\" y1=\"694\" x2=\"668\" y2=\"296\"/><line x1=\"500\" y1=\"694\" x2=\"391\" y2=\"529\"/><line x1=\"500\" y1=\"694\" x2=\"322\" y2=\"587\"/><line x1=\"500\" y1=\"694\" x2=\"375\" y2=\"440\"/><line x1=\"500\" y1=\"694\" x2=\"530\" y2=\"412\"/><line x1=\"500\" y1=\"694\" x2=\"274\" y2=\"320\"/><line x1=\"500\" y1=\"694\" x2=\"785\" y2=\"505\"/><line x1=\"500\" y1=\"694\" x2=\"546\" y2=\"502\"/><line x1=\"1293\" y1=\"564\" x2=\"1455\" y2=\"581\"/><line x1=\"1293\" y1=\"564\" x2=\"1316\" y2=\"698\"/><line x1=\"1293\" y1=\"564\" x2=\"1503\" y2=\"849\"/><line x1=\"1293\" y1=\"564\" x2=\"1471\" y2=\"670\"/><line x1=\"1293\" y1=\"564\" x2=\"1338\" y2=\"372\"/><line x1=\"1293\" y1=\"564\" x2=\"961\" y2=\"152\"/><line x1=\"1293\" y1=\"564\" x2=\"1146\" y2=\"636\"/></g><g id=\"WTGgrp\"><g fill=\"#c7c7c7\"><use href=\"#wtg\" x=\"344\" y=\"262\"/><use href=\"#wtg\" x=\"375\" y=\"440\"/><use href=\"#wtg\" x=\"328\" y=\"172\"/><use href=\"#wtg\" x=\"359\" y=\"351\"/></g><g fill=\"#98df8a\"><use href=\"#wtg\" x=\"429\" y=\"293\"/><use href=\"#wtg\" x=\"445\" y=\"382\"/><use href=\"#wtg\" x=\"413\" y=\"203\"/><use href=\"#wtg\" x=\"461\" y=\"471\"/><use href=\"#wtg\" x=\"476\" y=\"560\"/><use href=\"#wtg\" x=\"492\" y=\"649\"/></g><g fill=\"#f7b6d2\"><use href=\"#wtg\" x=\"1417\" y=\"818\"/><use href=\"#wtg\" x=\"1433\" y=\"907\"/><use href=\"#wtg\" x=\"1332\" y=\"787\"/><use href=\"#wtg\" x=\"1348\" y=\"876\"/><use href=\"#wtg\" x=\"1316\" y=\"698\"/><use href=\"#wtg\" x=\"1402\" y=\"729\"/></g><g fill=\"#1f77b4\"><use href=\"#wtg\" x=\"1503\" y=\"849\"/><use href=\"#wtg\" x=\"1588\" y=\"879\"/><use href=\"#wtg\" x=\"1843\" y=\"972\"/><use href=\"#wtg\" x=\"1519\" y=\"936\"/><use href=\"#wtg\" x=\"1673\" y=\"910\"/><use href=\"#wtg\" x=\"1758\" y=\"941\"/></g><g fill=\"#aec7e8\"><use href=\"#wtg\" x=\"876\" y=\"121\"/><use href=\"#wtg\" x=\"961\" y=\"152\"/><use href=\"#wtg\" x=\"1029\" y=\"98\"/><use href=\"#wtg\" x=\"858\" y=\"36\"/><use href=\"#wtg\" x=\"943\" y=\"67\"/><use href=\"#wtg\" x=\"791\" y=\"90\"/></g><g fill=\"#ff7f0e\"><use href=\"#wtg\" x=\"1199\" y=\"488\"/><use href=\"#wtg\" x=\"1168\" y=\"310\"/><use href=\"#wtg\" x=\"1152\" y=\"221\"/><use href=\"#wtg\" x=\"1098\" y=\"368\"/><use href=\"#wtg\" x=\"1114\" y=\"458\"/><use href=\"#wtg\" x=\"1183\" y=\"399\"/></g><g fill=\"#ffbb78\"><use href=\"#wtg\" x=\"1285\" y=\"519\"/><use href=\"#wtg\" x=\"1237\" y=\"252\"/><use href=\"#wtg\" x=\"1221\" y=\"163\"/><use href=\"#wtg\" x=\"1253\" y=\"341\"/><use href=\"#wtg\" x=\"1269\" y=\"430\"/></g><g fill=\"#bcbd22\"><use href=\"#wtg\" x=\"439\" y=\"797\"/><use href=\"#wtg\" x=\"370\" y=\"855\"/><use href=\"#wtg\" x=\"540\" y=\"917\"/><use href=\"#wtg\" x=\"473\" y=\"970\"/><use href=\"#wtg\" x=\"455\" y=\"886\"/></g><g fill=\"#2ca02c\"><use href=\"#wtg\" x=\"1370\" y=\"550\"/><use href=\"#wtg\" x=\"1492\" y=\"344\"/><use href=\"#wtg\" x=\"1572\" y=\"378\"/><use href=\"#wtg\" x=\"1508\" y=\"433\"/><use href=\"#wtg\" x=\"1589\" y=\"461\"/><use href=\"#wtg\" x=\"1439\" y=\"492\"/></g><g fill=\"#dbdb8d\"><use href=\"#wtg\" x=\"855\" y=\"447\"/><use href=\"#wtg\" x=\"785\" y=\"505\"/><use href=\"#wtg\" x=\"977\" y=\"241\"/><use href=\"#wtg\" x=\"924\" y=\"388\"/><use href=\"#wtg\" x=\"892\" y=\"210\"/><use href=\"#wtg\" x=\"908\" y=\"299\"/></g><g fill=\"#8c564b\"><use href=\"#wtg\" x=\"870\" y=\"536\"/><use href=\"#wtg\" x=\"817\" y=\"683\"/><use href=\"#wtg\" x=\"801\" y=\"594\"/><use href=\"#wtg\" x=\"732\" y=\"652\"/><use href=\"#wtg\" x=\"663\" y=\"711\"/><use href=\"#wtg\" x=\"748\" y=\"742\"/></g><g fill=\"#1f77b4\"><use href=\"#wtg\" x=\"152\" y=\"526\"/><use href=\"#wtg\" x=\"237\" y=\"557\"/><use href=\"#wtg\" x=\"306\" y=\"498\"/><use href=\"#wtg\" x=\"322\" y=\"587\"/><use href=\"#wtg\" x=\"221\" y=\"468\"/><use href=\"#wtg\" x=\"136\" y=\"437\"/></g><g fill=\"#98df8a\"><use href=\"#wtg\" x=\"1455\" y=\"581\"/><use href=\"#wtg\" x=\"1609\" y=\"553\"/><use href=\"#wtg\" x=\"1625\" y=\"643\"/><use href=\"#wtg\" x=\"1524\" y=\"523\"/><use href=\"#wtg\" x=\"1540\" y=\"612\"/><use href=\"#wtg\" x=\"1710\" y=\"673\"/></g><g fill=\"#d62728\"><use href=\"#wtg\" x=\"1386\" y=\"639\"/><use href=\"#wtg\" x=\"1487\" y=\"759\"/><use href=\"#wtg\" x=\"1572\" y=\"790\"/><use href=\"#wtg\" x=\"1657\" y=\"821\"/><use href=\"#wtg\" x=\"1742\" y=\"852\"/></g><g fill=\"#aec7e8\"><use href=\"#wtg\" x=\"120\" y=\"348\"/><use href=\"#wtg\" x=\"205\" y=\"378\"/><use href=\"#wtg\" x=\"52\" y=\"402\"/><use href=\"#wtg\" x=\"290\" y=\"409\"/><use href=\"#wtg\" x=\"35\" y=\"317\"/><use href=\"#wtg\" x=\"391\" y=\"529\"/></g><g fill=\"#8c564b\"><use href=\"#wtg\" x=\"1077\" y=\"694\"/><use href=\"#wtg\" x=\"1146\" y=\"636\"/><use href=\"#wtg\" x=\"992\" y=\"664\"/><use href=\"#wtg\" x=\"938\" y=\"811\"/><use href=\"#wtg\" x=\"1007\" y=\"753\"/><use href=\"#wtg\" x=\"1061\" y=\"605\"/></g><g fill=\"#e377c2\"><use href=\"#wtg\" x=\"1092\" y=\"784\"/><use href=\"#wtg\" x=\"1162\" y=\"725\"/><use href=\"#wtg\" x=\"954\" y=\"900\"/><use href=\"#wtg\" x=\"1023\" y=\"842\"/><use href=\"#wtg\" x=\"1231\" y=\"667\"/></g><g fill=\"#c5b0d5\"><use href=\"#wtg\" x=\"242\" y=\"142\"/><use href=\"#wtg\" x=\"258\" y=\"231\"/><use href=\"#wtg\" x=\"104\" y=\"258\"/><use href=\"#wtg\" x=\"173\" y=\"200\"/><use href=\"#wtg\" x=\"189\" y=\"289\"/><use href=\"#wtg\" x=\"274\" y=\"320\"/></g><g fill=\"#17becf\"><use href=\"#wtg\" x=\"407\" y=\"618\"/><use href=\"#wtg\" x=\"423\" y=\"707\"/><use href=\"#wtg\" x=\"253\" y=\"646\"/><use href=\"#wtg\" x=\"338\" y=\"677\"/><use href=\"#wtg\" x=\"354\" y=\"766\"/></g><g fill=\"#9467bd\"><use href=\"#wtg\" x=\"637\" y=\"117\"/><use href=\"#wtg\" x=\"652\" y=\"207\"/><use href=\"#wtg\" x=\"668\" y=\"296\"/><use href=\"#wtg\" x=\"722\" y=\"148\"/><use href=\"#wtg\" x=\"738\" y=\"237\"/><use href=\"#wtg\" x=\"807\" y=\"179\"/></g><g fill=\"#ff7f0e\"><use href=\"#wtg\" x=\"567\" y=\"176\"/><use href=\"#wtg\" x=\"514\" y=\"323\"/><use href=\"#wtg\" x=\"530\" y=\"412\"/><use href=\"#wtg\" x=\"599\" y=\"354\"/><use href=\"#wtg\" x=\"498\" y=\"234\"/><use href=\"#wtg\" x=\"583\" y=\"265\"/></g><g fill=\"#9edae5\"><use href=\"#wtg\" x=\"679\" y=\"800\"/><use href=\"#wtg\" x=\"609\" y=\"858\"/><use href=\"#wtg\" x=\"764\" y=\"831\"/><use href=\"#wtg\" x=\"694\" y=\"889\"/><use href=\"#wtg\" x=\"593\" y=\"769\"/><use href=\"#wtg\" x=\"625\" y=\"948\"/></g><g fill=\"#7f7f7f\"><use href=\"#wtg\" x=\"1178\" y=\"814\"/><use href=\"#wtg\" x=\"1108\" y=\"873\"/><use href=\"#wtg\" x=\"1247\" y=\"756\"/><use href=\"#wtg\" x=\"1263\" y=\"845\"/><use href=\"#wtg\" x=\"1300\" y=\"609\"/></g><g fill=\"#ff9896\"><use href=\"#wtg\" x=\"1338\" y=\"372\"/><use href=\"#wtg\" x=\"1476\" y=\"255\"/><use href=\"#wtg\" x=\"1306\" y=\"193\"/><use href=\"#wtg\" x=\"1322\" y=\"283\"/><use href=\"#wtg\" x=\"1407\" y=\"314\"/><use href=\"#wtg\" x=\"1391\" y=\"224\"/></g><g fill=\"#9467bd\"><use href=\"#wtg\" x=\"1354\" y=\"461\"/><use href=\"#wtg\" x=\"1423\" y=\"403\"/></g><g fill=\"#c5b0d5\"><use href=\"#wtg\" x=\"1045\" y=\"516\"/><use href=\"#wtg\" x=\"1215\" y=\"578\"/><use href=\"#wtg\" x=\"1130\" y=\"547\"/></g><g fill=\"#ffbb78\"><use href=\"#wtg\" x=\"524\" y=\"827\"/><use href=\"#wtg\" x=\"508\" y=\"738\"/></g><g fill=\"#2ca02c\"><use href=\"#wtg\" x=\"839\" y=\"357\"/><use href=\"#wtg\" x=\"700\" y=\"474\"/><use href=\"#wtg\" x=\"562\" y=\"591\"/><use href=\"#wtg\" x=\"631\" y=\"532\"/><use href=\"#wtg\" x=\"769\" y=\"416\"/></g><g fill=\"#d62728\"><use href=\"#wtg\" x=\"716\" y=\"563\"/><use href=\"#wtg\" x=\"647\" y=\"622\"/><use href=\"#wtg\" x=\"577\" y=\"680\"/></g><g fill=\"#c49c94\"><use href=\"#wtg\" x=\"1471\" y=\"670\"/><use href=\"#wtg\" x=\"1556\" y=\"701\"/><use href=\"#wtg\" x=\"1641\" y=\"732\"/><use href=\"#wtg\" x=\"1726\" y=\"763\"/></g><g fill=\"#ff9896\"><use href=\"#wtg\" x=\"615\" y=\"443\"/><use href=\"#wtg\" x=\"546\" y=\"502\"/><use href=\"#wtg\" x=\"754\" y=\"327\"/><use href=\"#wtg\" x=\"684\" y=\"385\"/><use href=\"#wtg\" x=\"823\" y=\"268\"/></g></g><g id=\"OSSgrp\"><use href=\"#oss\" x=\"1282.5\" y=\"553.5\"/><use href=\"#oss\" x=\"489.5\" y=\"683.5\"/></g></g><text filter=\"url(#bg_textbox)\" text-anchor=\"end\" font-family=\"sans-serif\" font-size=\"40\" fill=\"white\" x=\"1890\" y=\"995\"><tspan x=\"1890\" dy=\"-0.0em\">&#931;&#955; = 138349.0 m</tspan><tspan x=\"1890\" dy=\"-1.3em\">(+4) &#945;: 16, &#946;: 15</tspan><tspan x=\"1890\" dy=\"-1.3em\">&#954; = 6, T = 160</tspan></text></svg>"
      ],
      "text/plain": [
       "<optiwindnet.svg.SvgRepr at 0x1a96f6939e0>"
      ]
     },
     "execution_count": 7,
     "metadata": {},
     "output_type": "execute_result"
    }
   ],
   "source": [
    "Sʹ = EW_presolver(A, capacity=capacity)\n",
    "Gʹ = G_from_S(Sʹ, A)\n",
    "svgplot(Gʹ)"
   ]
  },
  {
   "cell_type": "code",
   "execution_count": 8,
   "id": "003714e7-bf75-4cda-ae19-58c74e126c75",
   "metadata": {},
   "outputs": [],
   "source": [
    "model = omo.make_min_length_model(\n",
    "    A, capacity,\n",
    "    gateXings_constraint=False,\n",
    "    branching=True,\n",
    "    gates_limit=False\n",
    ")\n",
    "omo.warmup_model(model, Sʹ);"
   ]
  },
  {
   "cell_type": "markdown",
   "id": "1dbc6982-18fe-447e-b6d0-935f491af2dc",
   "metadata": {},
   "source": [
    "The pyomo GurobiDirect class can work as context manager by passing the `manage_env=True` parameter to SolverFactory. Advantages of operating this way:\n",
    "- the Gurobi license is released after the context's scope ends\n",
    "- one can pass `options` that can only be set at the Gurobi environment creation (such as `threadlimit`)"
   ]
  },
  {
   "cell_type": "code",
   "execution_count": 9,
   "id": "e6cb074e-6852-46e0-8399-93e5c733e1da",
   "metadata": {
    "scrolled": true
   },
   "outputs": [
    {
     "name": "stdout",
     "output_type": "stream",
     "text": [
      "WARNING: The gurobipy module (an optional Pyomo dependency) failed to import:\n",
      "ModuleNotFoundError: No module named 'gurobipy'\n"
     ]
    },
    {
     "ename": "ApplicationError",
     "evalue": "No Python bindings available for <class 'pyomo.solvers.plugins.solvers.gurobi_direct.GurobiDirect'> solver plugin",
     "output_type": "error",
     "traceback": [
      "\u001b[31m---------------------------------------------------------------------------\u001b[39m",
      "\u001b[31mApplicationError\u001b[39m                          Traceback (most recent call last)",
      "\u001b[36mCell\u001b[39m\u001b[36m \u001b[39m\u001b[32mIn[9]\u001b[39m\u001b[32m, line 3\u001b[39m\n\u001b[32m      1\u001b[39m \u001b[38;5;28;01mwith\u001b[39;00m pyo.SolverFactory(\u001b[33m'\u001b[39m\u001b[33mgurobi\u001b[39m\u001b[33m'\u001b[39m, solver_io=\u001b[33m'\u001b[39m\u001b[33mpython\u001b[39m\u001b[33m'\u001b[39m, manage_env=\u001b[38;5;28;01mTrue\u001b[39;00m,\n\u001b[32m      2\u001b[39m                        options={\u001b[33m'\u001b[39m\u001b[33mthreadlimit\u001b[39m\u001b[33m'\u001b[39m: \u001b[32m16\u001b[39m}) \u001b[38;5;28;01mas\u001b[39;00m gurober:\n\u001b[32m----> \u001b[39m\u001b[32m3\u001b[39m     \u001b[38;5;28mprint\u001b[39m(\u001b[43mgurober\u001b[49m\u001b[43m.\u001b[49m\u001b[43mavailable\u001b[49m\u001b[43m(\u001b[49m\u001b[43m)\u001b[49m, \u001b[38;5;28mtype\u001b[39m(gurober))\n\u001b[32m      4\u001b[39m     gurober.options.mipgap = \u001b[32m0.005\u001b[39m  \u001b[38;5;66;03m# relative lower-bound to objective-value gap\u001b[39;00m\n\u001b[32m      5\u001b[39m     gurober.options.timelimit = \u001b[32m90\u001b[39m  \u001b[38;5;66;03m# seconds\u001b[39;00m\n",
      "\u001b[36mFile \u001b[39m\u001b[32mc:\\Users\\amia\\AppData\\Local\\miniconda3\\envs\\OptiWindNet\\Lib\\site-packages\\pyomo\\solvers\\plugins\\solvers\\gurobi_direct.py:215\u001b[39m, in \u001b[36mGurobiDirect.available\u001b[39m\u001b[34m(self, exception_flag)\u001b[39m\n\u001b[32m    213\u001b[39m     \u001b[38;5;28;01mif\u001b[39;00m exception_flag:\n\u001b[32m    214\u001b[39m         gurobipy.log_import_warning(logger=\u001b[34m__name__\u001b[39m)\n\u001b[32m--> \u001b[39m\u001b[32m215\u001b[39m         \u001b[38;5;28;01mraise\u001b[39;00m ApplicationError(\n\u001b[32m    216\u001b[39m             \u001b[33m\"\u001b[39m\u001b[33mNo Python bindings available for \u001b[39m\u001b[38;5;132;01m%s\u001b[39;00m\u001b[33m solver plugin\u001b[39m\u001b[33m\"\u001b[39m % (\u001b[38;5;28mtype\u001b[39m(\u001b[38;5;28mself\u001b[39m),)\n\u001b[32m    217\u001b[39m         )\n\u001b[32m    218\u001b[39m     \u001b[38;5;28;01mreturn\u001b[39;00m \u001b[38;5;28;01mFalse\u001b[39;00m\n\u001b[32m    220\u001b[39m \u001b[38;5;66;03m# Ensure environment is started to check for a valid license\u001b[39;00m\n",
      "\u001b[31mApplicationError\u001b[39m: No Python bindings available for <class 'pyomo.solvers.plugins.solvers.gurobi_direct.GurobiDirect'> solver plugin"
     ]
    }
   ],
   "source": [
    "with pyo.SolverFactory('gurobi', solver_io='python', manage_env=True,\n",
    "                       options={'threadlimit': 16}) as gurober:\n",
    "    print(gurober.available(), type(gurober))\n",
    "    gurober.options.mipgap = 0.005  # relative lower-bound to objective-value gap\n",
    "    gurober.options.timelimit = 90  # seconds\n",
    "    gurober.options.mipfocus = 1  # focus on producing solutions\n",
    "    print(f'Solving \"{model.handle}\": {{R={len(model.R)}, T={len(model.T)}, κ={model.k.value}}}\\n')\n",
    "    result = gurober.solve(model, warmstart=model.warmed_by, tee=True)"
   ]
  },
  {
   "cell_type": "code",
   "execution_count": null,
   "id": "2e66dc89-22fc-48ac-a231-648545678179",
   "metadata": {},
   "outputs": [
    {
     "data": {
      "image/svg+xml": [
       "<svg xmlns=\"http://www.w3.org/2000/svg\" viewBox=\"0 0 1920 1025\"><defs ><filter x=\"-5%\" y=\"-5%\" id=\"bg_textbox\" width=\"110%\" height=\"110%\"><feFlood flood-opacity=\"0.7\" flood-color=\"#111\" result=\"bg\"/><feMerge ><feMergeNode in=\"bg\"/><feMergeNode in=\"SourceGraphic\"/></feMerge></filter><circle stroke=\"none\" stroke-width=\"2\" id=\"wtg\" r=\"12\"/><rect stroke=\"none\" stroke-width=\"2\" id=\"oss\" width=\"21\" height=\"21\" fill=\"lawngreen\"/></defs><g id=\"gwynt\"><path stroke=\"silver\" stroke-dasharray=\"15 7\" stroke-width=\"2\" id=\"border\" d=\"M1228 156 1541 267 1890 995 1526 956 1269 866 953 924 932 820 786 842 636 967 477 991 367 868 351 779 90 453 51 416 30 318 247 138 868 30 1054 96z\" fill-rule=\"evenodd\" fill=\"#111\"/><g stroke=\"crimson\" stroke-width=\"4\" id=\"edges_unspecified\"><line x1=\"1293\" y1=\"564\" x2=\"1285\" y2=\"519\"/><line x1=\"1293\" y1=\"564\" x2=\"1300\" y2=\"609\"/><line x1=\"1293\" y1=\"564\" x2=\"1354\" y2=\"461\"/><line x1=\"1293\" y1=\"564\" x2=\"1231\" y2=\"667\"/><line x1=\"1293\" y1=\"564\" x2=\"1199\" y2=\"488\"/><line x1=\"1293\" y1=\"564\" x2=\"1370\" y2=\"550\"/><line x1=\"1293\" y1=\"564\" x2=\"1215\" y2=\"578\"/><line x1=\"1293\" y1=\"564\" x2=\"1386\" y2=\"639\"/><line x1=\"1293\" y1=\"564\" x2=\"1402\" y2=\"729\"/><line x1=\"1293\" y1=\"564\" x2=\"1439\" y2=\"492\"/><line x1=\"1293\" y1=\"564\" x2=\"1183\" y2=\"399\"/><line x1=\"1293\" y1=\"564\" x2=\"1098\" y2=\"368\"/><line x1=\"1293\" y1=\"564\" x2=\"1417\" y2=\"818\"/><line x1=\"1293\" y1=\"564\" x2=\"1130\" y2=\"547\"/><line x1=\"1417\" y1=\"818\" x2=\"1503\" y2=\"849\"/><line x1=\"1114\" y1=\"458\" x2=\"1199\" y2=\"488\"/><line x1=\"1269\" y1=\"430\" x2=\"1285\" y2=\"519\"/><line x1=\"1370\" y1=\"550\" x2=\"1455\" y2=\"581\"/><line x1=\"1386\" y1=\"639\" x2=\"1471\" y2=\"670\"/><line x1=\"1338\" y1=\"372\" x2=\"1354\" y2=\"461\"/><line x1=\"1215\" y1=\"578\" x2=\"1146\" y2=\"636\"/><line x1=\"977\" y1=\"241\" x2=\"1098\" y2=\"368\"/><line x1=\"1130\" y1=\"547\" x2=\"1061\" y2=\"605\"/><line x1=\"1045\" y1=\"516\" x2=\"1130\" y2=\"547\"/><line x1=\"1168\" y1=\"310\" x2=\"1183\" y2=\"399\"/><line x1=\"1423\" y1=\"403\" x2=\"1439\" y2=\"492\"/><line x1=\"1231\" y1=\"667\" x2=\"1162\" y2=\"725\"/><line x1=\"1300\" y1=\"609\" x2=\"1316\" y2=\"698\"/><line x1=\"1402\" y1=\"729\" x2=\"1487\" y2=\"759\"/><line x1=\"500\" y1=\"694\" x2=\"439\" y2=\"797\"/><line x1=\"500\" y1=\"694\" x2=\"423\" y2=\"707\"/><line x1=\"500\" y1=\"694\" x2=\"562\" y2=\"591\"/><line x1=\"500\" y1=\"694\" x2=\"492\" y2=\"649\"/><line x1=\"500\" y1=\"694\" x2=\"593\" y2=\"769\"/><line x1=\"500\" y1=\"694\" x2=\"407\" y2=\"618\"/><line x1=\"500\" y1=\"694\" x2=\"508\" y2=\"738\"/><line x1=\"500\" y1=\"694\" x2=\"577\" y2=\"680\"/><line x1=\"500\" y1=\"694\" x2=\"391\" y2=\"529\"/><line x1=\"500\" y1=\"694\" x2=\"322\" y2=\"587\"/><line x1=\"500\" y1=\"694\" x2=\"375\" y2=\"440\"/><line x1=\"500\" y1=\"694\" x2=\"631\" y2=\"532\"/><line x1=\"500\" y1=\"694\" x2=\"546\" y2=\"502\"/><line x1=\"359\" y1=\"351\" x2=\"375\" y2=\"440\"/><line x1=\"439\" y1=\"797\" x2=\"455\" y2=\"886\"/><line x1=\"306\" y1=\"498\" x2=\"407\" y2=\"618\"/><line x1=\"423\" y1=\"707\" x2=\"354\" y2=\"766\"/><line x1=\"338\" y1=\"677\" x2=\"423\" y2=\"707\"/><line x1=\"663\" y1=\"711\" x2=\"593\" y2=\"769\"/><line x1=\"237\" y1=\"557\" x2=\"322\" y2=\"587\"/><line x1=\"290\" y1=\"409\" x2=\"391\" y2=\"529\"/><line x1=\"508\" y1=\"738\" x2=\"524\" y2=\"827\"/><line x1=\"615\" y1=\"443\" x2=\"562\" y2=\"591\"/><line x1=\"476\" y1=\"560\" x2=\"492\" y2=\"649\"/><line x1=\"647\" y1=\"622\" x2=\"577\" y2=\"680\"/><line x1=\"530\" y1=\"412\" x2=\"546\" y2=\"502\"/><line x1=\"700\" y1=\"474\" x2=\"631\" y2=\"532\"/><line x1=\"242\" y1=\"142\" x2=\"328\" y2=\"172\"/><line x1=\"328\" y1=\"172\" x2=\"344\" y2=\"262\"/><line x1=\"413\" y1=\"203\" x2=\"344\" y2=\"262\"/><line x1=\"344\" y1=\"262\" x2=\"359\" y2=\"351\"/><line x1=\"429\" y1=\"293\" x2=\"514\" y2=\"323\"/><line x1=\"514\" y1=\"323\" x2=\"445\" y2=\"382\"/><line x1=\"445\" y1=\"382\" x2=\"461\" y2=\"471\"/><line x1=\"461\" y1=\"471\" x2=\"476\" y2=\"560\"/><line x1=\"858\" y1=\"36\" x2=\"791\" y2=\"90\"/><line x1=\"858\" y1=\"36\" x2=\"876\" y2=\"121\"/><line x1=\"876\" y1=\"121\" x2=\"892\" y2=\"210\"/><line x1=\"892\" y1=\"210\" x2=\"977\" y2=\"241\"/><line x1=\"943\" y1=\"67\" x2=\"961\" y2=\"152\"/><line x1=\"1029\" y1=\"98\" x2=\"961\" y2=\"152\"/><line x1=\"1114\" y1=\"458\" x2=\"924\" y2=\"388\"/><line x1=\"1253\" y1=\"341\" x2=\"1269\" y2=\"430\"/><line x1=\"1306\" y1=\"193\" x2=\"1237\" y2=\"252\"/><line x1=\"1237\" y1=\"252\" x2=\"1253\" y2=\"341\"/><line x1=\"1221\" y1=\"163\" x2=\"1237\" y2=\"252\"/><line x1=\"1152\" y1=\"221\" x2=\"1168\" y2=\"310\"/><line x1=\"1029\" y1=\"98\" x2=\"1152\" y2=\"221\"/><line x1=\"855\" y1=\"447\" x2=\"785\" y2=\"505\"/><line x1=\"839\" y1=\"357\" x2=\"855\" y2=\"447\"/><line x1=\"785\" y1=\"505\" x2=\"716\" y2=\"563\"/><line x1=\"870\" y1=\"536\" x2=\"801\" y2=\"594\"/><line x1=\"801\" y1=\"594\" x2=\"732\" y2=\"652\"/><line x1=\"136\" y1=\"437\" x2=\"152\" y2=\"526\"/><line x1=\"152\" y1=\"526\" x2=\"237\" y2=\"557\"/><line x1=\"52\" y1=\"402\" x2=\"136\" y2=\"437\"/><line x1=\"716\" y1=\"563\" x2=\"647\" y2=\"622\"/><line x1=\"1492\" y1=\"344\" x2=\"1572\" y2=\"378\"/><line x1=\"1492\" y1=\"344\" x2=\"1423\" y2=\"403\"/><line x1=\"1524\" y1=\"523\" x2=\"1455\" y2=\"581\"/><line x1=\"1524\" y1=\"523\" x2=\"1609\" y2=\"553\"/><line x1=\"1455\" y1=\"581\" x2=\"1540\" y2=\"612\"/><line x1=\"104\" y1=\"258\" x2=\"120\" y2=\"348\"/><line x1=\"120\" y1=\"348\" x2=\"205\" y2=\"378\"/><line x1=\"205\" y1=\"378\" x2=\"221\" y2=\"468\"/><line x1=\"221\" y1=\"468\" x2=\"306\" y2=\"498\"/><line x1=\"35\" y1=\"317\" x2=\"52\" y2=\"402\"/><line x1=\"274\" y1=\"320\" x2=\"290\" y2=\"409\"/><line x1=\"258\" y1=\"231\" x2=\"274\" y2=\"320\"/><line x1=\"253\" y1=\"646\" x2=\"338\" y2=\"677\"/><line x1=\"637\" y1=\"117\" x2=\"652\" y2=\"207\"/><line x1=\"652\" y1=\"207\" x2=\"668\" y2=\"296\"/><line x1=\"567\" y1=\"176\" x2=\"583\" y2=\"265\"/><line x1=\"498\" y1=\"234\" x2=\"583\" y2=\"265\"/><line x1=\"583\" y1=\"265\" x2=\"599\" y2=\"354\"/><line x1=\"258\" y1=\"231\" x2=\"189\" y2=\"289\"/><line x1=\"679\" y1=\"800\" x2=\"609\" y2=\"858\"/><line x1=\"748\" y1=\"742\" x2=\"679\" y2=\"800\"/><line x1=\"524\" y1=\"827\" x2=\"609\" y2=\"858\"/><line x1=\"748\" y1=\"742\" x2=\"764\" y2=\"831\"/><line x1=\"1625\" y1=\"643\" x2=\"1556\" y2=\"701\"/><line x1=\"1625\" y1=\"643\" x2=\"1710\" y2=\"673\"/><line x1=\"1471\" y1=\"670\" x2=\"1556\" y2=\"701\"/><line x1=\"1641\" y1=\"732\" x2=\"1572\" y2=\"790\"/><line x1=\"1641\" y1=\"732\" x2=\"1657\" y2=\"821\"/><line x1=\"1487\" y1=\"759\" x2=\"1572\" y2=\"790\"/><line x1=\"694\" y1=\"889\" x2=\"625\" y2=\"948\"/><line x1=\"540\" y1=\"917\" x2=\"625\" y2=\"948\"/><line x1=\"1407\" y1=\"314\" x2=\"1338\" y2=\"372\"/><line x1=\"1322\" y1=\"283\" x2=\"1407\" y2=\"314\"/><line x1=\"908\" y1=\"299\" x2=\"924\" y2=\"388\"/><line x1=\"823\" y1=\"268\" x2=\"908\" y2=\"299\"/><line x1=\"817\" y1=\"683\" x2=\"732\" y2=\"652\"/><line x1=\"732\" y1=\"652\" x2=\"663\" y2=\"711\"/><line x1=\"173\" y1=\"200\" x2=\"189\" y2=\"289\"/><line x1=\"599\" y1=\"354\" x2=\"530\" y2=\"412\"/><line x1=\"769\" y1=\"416\" x2=\"700\" y2=\"474\"/><line x1=\"754\" y1=\"327\" x2=\"769\" y2=\"416\"/><line x1=\"684\" y1=\"385\" x2=\"615\" y2=\"443\"/><line x1=\"668\" y1=\"296\" x2=\"684\" y2=\"385\"/><line x1=\"1391\" y1=\"224\" x2=\"1322\" y2=\"283\"/><line x1=\"1391\" y1=\"224\" x2=\"1476\" y2=\"255\"/><line x1=\"738\" y1=\"237\" x2=\"754\" y2=\"327\"/><line x1=\"722\" y1=\"148\" x2=\"738\" y2=\"237\"/><line x1=\"807\" y1=\"179\" x2=\"823\" y2=\"268\"/><line x1=\"540\" y1=\"917\" x2=\"473\" y2=\"970\"/><line x1=\"455\" y1=\"886\" x2=\"473\" y2=\"970\"/><line x1=\"1503\" y1=\"849\" x2=\"1588\" y2=\"879\"/><line x1=\"1588\" y1=\"879\" x2=\"1673\" y2=\"910\"/><line x1=\"1673\" y1=\"910\" x2=\"1758\" y2=\"941\"/><line x1=\"354\" y1=\"766\" x2=\"370\" y2=\"855\"/><line x1=\"1572\" y1=\"378\" x2=\"1508\" y2=\"433\"/><line x1=\"1508\" y1=\"433\" x2=\"1589\" y2=\"461\"/><line x1=\"1077\" y1=\"694\" x2=\"1092\" y2=\"784\"/><line x1=\"1092\" y1=\"784\" x2=\"1023\" y2=\"842\"/><line x1=\"1146\" y1=\"636\" x2=\"1077\" y2=\"694\"/><line x1=\"1023\" y1=\"842\" x2=\"954\" y2=\"900\"/><line x1=\"1247\" y1=\"756\" x2=\"1178\" y2=\"814\"/><line x1=\"1162\" y1=\"725\" x2=\"1247\" y2=\"756\"/><line x1=\"1247\" y1=\"756\" x2=\"1263\" y2=\"845\"/><line x1=\"1178\" y1=\"814\" x2=\"1108\" y2=\"873\"/><line x1=\"1710\" y1=\"673\" x2=\"1726\" y2=\"763\"/><line x1=\"1657\" y1=\"821\" x2=\"1742\" y2=\"852\"/><line x1=\"1433\" y1=\"907\" x2=\"1519\" y2=\"936\"/><line x1=\"1348\" y1=\"876\" x2=\"1433\" y2=\"907\"/><line x1=\"1332\" y1=\"787\" x2=\"1348\" y2=\"876\"/><line x1=\"1758\" y1=\"941\" x2=\"1843\" y2=\"972\"/><line x1=\"1061\" y1=\"605\" x2=\"992\" y2=\"664\"/><line x1=\"992\" y1=\"664\" x2=\"1007\" y2=\"753\"/><line x1=\"1007\" y1=\"753\" x2=\"938\" y2=\"811\"/><line x1=\"1316\" y1=\"698\" x2=\"1332\" y2=\"787\"/></g><g id=\"WTGgrp\"><g fill=\"#1f77b4\"><use href=\"#wtg\" x=\"1417\" y=\"818\"/><use href=\"#wtg\" x=\"1503\" y=\"849\"/><use href=\"#wtg\" x=\"1588\" y=\"879\"/><use href=\"#wtg\" x=\"1673\" y=\"910\"/><use href=\"#wtg\" x=\"1843\" y=\"972\"/><use href=\"#wtg\" x=\"1758\" y=\"941\"/></g><g fill=\"#aec7e8\"><use href=\"#wtg\" x=\"1199\" y=\"488\"/><use href=\"#wtg\" x=\"1114\" y=\"458\"/><use href=\"#wtg\" x=\"908\" y=\"299\"/><use href=\"#wtg\" x=\"924\" y=\"388\"/><use href=\"#wtg\" x=\"807\" y=\"179\"/><use href=\"#wtg\" x=\"823\" y=\"268\"/></g><g fill=\"#ff7f0e\"><use href=\"#wtg\" x=\"1285\" y=\"519\"/><use href=\"#wtg\" x=\"1269\" y=\"430\"/><use href=\"#wtg\" x=\"1306\" y=\"193\"/><use href=\"#wtg\" x=\"1237\" y=\"252\"/><use href=\"#wtg\" x=\"1221\" y=\"163\"/><use href=\"#wtg\" x=\"1253\" y=\"341\"/></g><g fill=\"#ffbb78\"><use href=\"#wtg\" x=\"1370\" y=\"550\"/><use href=\"#wtg\" x=\"1524\" y=\"523\"/><use href=\"#wtg\" x=\"1455\" y=\"581\"/><use href=\"#wtg\" x=\"1540\" y=\"612\"/><use href=\"#wtg\" x=\"1609\" y=\"553\"/></g><g fill=\"#2ca02c\"><use href=\"#wtg\" x=\"1386\" y=\"639\"/><use href=\"#wtg\" x=\"1625\" y=\"643\"/><use href=\"#wtg\" x=\"1556\" y=\"701\"/><use href=\"#wtg\" x=\"1471\" y=\"670\"/><use href=\"#wtg\" x=\"1710\" y=\"673\"/><use href=\"#wtg\" x=\"1726\" y=\"763\"/></g><g fill=\"#98df8a\"><use href=\"#wtg\" x=\"1354\" y=\"461\"/><use href=\"#wtg\" x=\"1338\" y=\"372\"/><use href=\"#wtg\" x=\"1407\" y=\"314\"/><use href=\"#wtg\" x=\"1391\" y=\"224\"/><use href=\"#wtg\" x=\"1322\" y=\"283\"/><use href=\"#wtg\" x=\"1476\" y=\"255\"/></g><g fill=\"#d62728\"><use href=\"#wtg\" x=\"1215\" y=\"578\"/><use href=\"#wtg\" x=\"1092\" y=\"784\"/><use href=\"#wtg\" x=\"1077\" y=\"694\"/><use href=\"#wtg\" x=\"1146\" y=\"636\"/><use href=\"#wtg\" x=\"1023\" y=\"842\"/><use href=\"#wtg\" x=\"954\" y=\"900\"/></g><g fill=\"#ff9896\"><use href=\"#wtg\" x=\"1098\" y=\"368\"/><use href=\"#wtg\" x=\"858\" y=\"36\"/><use href=\"#wtg\" x=\"876\" y=\"121\"/><use href=\"#wtg\" x=\"892\" y=\"210\"/><use href=\"#wtg\" x=\"977\" y=\"241\"/><use href=\"#wtg\" x=\"791\" y=\"90\"/></g><g fill=\"#9467bd\"><use href=\"#wtg\" x=\"1130\" y=\"547\"/><use href=\"#wtg\" x=\"1045\" y=\"516\"/><use href=\"#wtg\" x=\"992\" y=\"664\"/><use href=\"#wtg\" x=\"1061\" y=\"605\"/><use href=\"#wtg\" x=\"1007\" y=\"753\"/><use href=\"#wtg\" x=\"938\" y=\"811\"/></g><g fill=\"#c5b0d5\"><use href=\"#wtg\" x=\"1183\" y=\"399\"/><use href=\"#wtg\" x=\"943\" y=\"67\"/><use href=\"#wtg\" x=\"961\" y=\"152\"/><use href=\"#wtg\" x=\"1152\" y=\"221\"/><use href=\"#wtg\" x=\"1168\" y=\"310\"/><use href=\"#wtg\" x=\"1029\" y=\"98\"/></g><g fill=\"#8c564b\"><use href=\"#wtg\" x=\"1439\" y=\"492\"/><use href=\"#wtg\" x=\"1492\" y=\"344\"/><use href=\"#wtg\" x=\"1423\" y=\"403\"/><use href=\"#wtg\" x=\"1572\" y=\"378\"/><use href=\"#wtg\" x=\"1508\" y=\"433\"/><use href=\"#wtg\" x=\"1589\" y=\"461\"/></g><g fill=\"#c49c94\"><use href=\"#wtg\" x=\"1231\" y=\"667\"/><use href=\"#wtg\" x=\"1247\" y=\"756\"/><use href=\"#wtg\" x=\"1162\" y=\"725\"/><use href=\"#wtg\" x=\"1178\" y=\"814\"/><use href=\"#wtg\" x=\"1108\" y=\"873\"/><use href=\"#wtg\" x=\"1263\" y=\"845\"/></g><g fill=\"#e377c2\"><use href=\"#wtg\" x=\"1300\" y=\"609\"/><use href=\"#wtg\" x=\"1519\" y=\"936\"/><use href=\"#wtg\" x=\"1433\" y=\"907\"/><use href=\"#wtg\" x=\"1348\" y=\"876\"/><use href=\"#wtg\" x=\"1332\" y=\"787\"/><use href=\"#wtg\" x=\"1316\" y=\"698\"/></g><g fill=\"#f7b6d2\"><use href=\"#wtg\" x=\"1402\" y=\"729\"/><use href=\"#wtg\" x=\"1641\" y=\"732\"/><use href=\"#wtg\" x=\"1572\" y=\"790\"/><use href=\"#wtg\" x=\"1487\" y=\"759\"/><use href=\"#wtg\" x=\"1742\" y=\"852\"/><use href=\"#wtg\" x=\"1657\" y=\"821\"/></g><g fill=\"#7f7f7f\"><use href=\"#wtg\" x=\"375\" y=\"440\"/><use href=\"#wtg\" x=\"328\" y=\"172\"/><use href=\"#wtg\" x=\"344\" y=\"262\"/><use href=\"#wtg\" x=\"413\" y=\"203\"/><use href=\"#wtg\" x=\"359\" y=\"351\"/><use href=\"#wtg\" x=\"242\" y=\"142\"/></g><g fill=\"#c7c7c7\"><use href=\"#wtg\" x=\"439\" y=\"797\"/><use href=\"#wtg\" x=\"694\" y=\"889\"/><use href=\"#wtg\" x=\"625\" y=\"948\"/><use href=\"#wtg\" x=\"540\" y=\"917\"/><use href=\"#wtg\" x=\"473\" y=\"970\"/><use href=\"#wtg\" x=\"455\" y=\"886\"/></g><g fill=\"#bcbd22\"><use href=\"#wtg\" x=\"407\" y=\"618\"/><use href=\"#wtg\" x=\"120\" y=\"348\"/><use href=\"#wtg\" x=\"205\" y=\"378\"/><use href=\"#wtg\" x=\"104\" y=\"258\"/><use href=\"#wtg\" x=\"221\" y=\"468\"/><use href=\"#wtg\" x=\"306\" y=\"498\"/></g><g fill=\"#dbdb8d\"><use href=\"#wtg\" x=\"423\" y=\"707\"/><use href=\"#wtg\" x=\"338\" y=\"677\"/><use href=\"#wtg\" x=\"253\" y=\"646\"/><use href=\"#wtg\" x=\"370\" y=\"855\"/><use href=\"#wtg\" x=\"354\" y=\"766\"/></g><g fill=\"#17becf\"><use href=\"#wtg\" x=\"593\" y=\"769\"/><use href=\"#wtg\" x=\"870\" y=\"536\"/><use href=\"#wtg\" x=\"801\" y=\"594\"/><use href=\"#wtg\" x=\"817\" y=\"683\"/><use href=\"#wtg\" x=\"732\" y=\"652\"/><use href=\"#wtg\" x=\"663\" y=\"711\"/></g><g fill=\"#9edae5\"><use href=\"#wtg\" x=\"322\" y=\"587\"/><use href=\"#wtg\" x=\"152\" y=\"526\"/><use href=\"#wtg\" x=\"237\" y=\"557\"/><use href=\"#wtg\" x=\"136\" y=\"437\"/><use href=\"#wtg\" x=\"52\" y=\"402\"/><use href=\"#wtg\" x=\"35\" y=\"317\"/></g><g fill=\"#1f77b4\"><use href=\"#wtg\" x=\"391\" y=\"529\"/><use href=\"#wtg\" x=\"274\" y=\"320\"/><use href=\"#wtg\" x=\"290\" y=\"409\"/><use href=\"#wtg\" x=\"258\" y=\"231\"/><use href=\"#wtg\" x=\"173\" y=\"200\"/><use href=\"#wtg\" x=\"189\" y=\"289\"/></g><g fill=\"#aec7e8\"><use href=\"#wtg\" x=\"508\" y=\"738\"/><use href=\"#wtg\" x=\"679\" y=\"800\"/><use href=\"#wtg\" x=\"609\" y=\"858\"/><use href=\"#wtg\" x=\"748\" y=\"742\"/><use href=\"#wtg\" x=\"524\" y=\"827\"/><use href=\"#wtg\" x=\"764\" y=\"831\"/></g><g fill=\"#ff7f0e\"><use href=\"#wtg\" x=\"562\" y=\"591\"/><use href=\"#wtg\" x=\"637\" y=\"117\"/><use href=\"#wtg\" x=\"652\" y=\"207\"/><use href=\"#wtg\" x=\"615\" y=\"443\"/><use href=\"#wtg\" x=\"684\" y=\"385\"/><use href=\"#wtg\" x=\"668\" y=\"296\"/></g><g fill=\"#ffbb78\"><use href=\"#wtg\" x=\"492\" y=\"649\"/><use href=\"#wtg\" x=\"429\" y=\"293\"/><use href=\"#wtg\" x=\"514\" y=\"323\"/><use href=\"#wtg\" x=\"445\" y=\"382\"/><use href=\"#wtg\" x=\"461\" y=\"471\"/><use href=\"#wtg\" x=\"476\" y=\"560\"/></g><g fill=\"#2ca02c\"><use href=\"#wtg\" x=\"577\" y=\"680\"/><use href=\"#wtg\" x=\"855\" y=\"447\"/><use href=\"#wtg\" x=\"785\" y=\"505\"/><use href=\"#wtg\" x=\"839\" y=\"357\"/><use href=\"#wtg\" x=\"716\" y=\"563\"/><use href=\"#wtg\" x=\"647\" y=\"622\"/></g><g fill=\"#98df8a\"><use href=\"#wtg\" x=\"546\" y=\"502\"/><use href=\"#wtg\" x=\"567\" y=\"176\"/><use href=\"#wtg\" x=\"583\" y=\"265\"/><use href=\"#wtg\" x=\"599\" y=\"354\"/><use href=\"#wtg\" x=\"530\" y=\"412\"/><use href=\"#wtg\" x=\"498\" y=\"234\"/></g><g fill=\"#d62728\"><use href=\"#wtg\" x=\"631\" y=\"532\"/><use href=\"#wtg\" x=\"700\" y=\"474\"/><use href=\"#wtg\" x=\"769\" y=\"416\"/><use href=\"#wtg\" x=\"738\" y=\"237\"/><use href=\"#wtg\" x=\"754\" y=\"327\"/><use href=\"#wtg\" x=\"722\" y=\"148\"/></g></g><g id=\"OSSgrp\"><use href=\"#oss\" x=\"1282.5\" y=\"553.5\"/><use href=\"#oss\" x=\"489.5\" y=\"683.5\"/></g></g><text filter=\"url(#bg_textbox)\" text-anchor=\"end\" font-family=\"sans-serif\" font-size=\"40\" fill=\"white\" x=\"1890\" y=\"995\"><tspan x=\"1890\" dy=\"-0.0em\">&#931;&#955; = 129249.0 m</tspan><tspan x=\"1890\" dy=\"-1.3em\">(+0) &#945;: 13, &#946;: 14</tspan><tspan x=\"1890\" dy=\"-1.3em\">&#954; = 6, T = 160</tspan></text></svg>"
      ],
      "text/plain": [
       "<optiwindnet.svg.SvgRepr at 0x27dd68f9040>"
      ]
     },
     "execution_count": 10,
     "metadata": {},
     "output_type": "execute_result"
    }
   ],
   "source": [
    "S = omo.S_from_solution(model, gurober, result)\n",
    "G = G_from_S(S, A)\n",
    "H = PathFinder(G, planar=P, A=A).create_detours()\n",
    "svgplot(H)"
   ]
  }
 ],
 "metadata": {
  "kernelspec": {
   "display_name": "OptiWindNet",
   "language": "python",
   "name": "python3"
  },
  "language_info": {
   "codemirror_mode": {
    "name": "ipython",
    "version": 3
   },
   "file_extension": ".py",
   "mimetype": "text/x-python",
   "name": "python",
   "nbconvert_exporter": "python",
   "pygments_lexer": "ipython3",
   "version": "3.12.9"
  }
 },
 "nbformat": 4,
 "nbformat_minor": 5
}
