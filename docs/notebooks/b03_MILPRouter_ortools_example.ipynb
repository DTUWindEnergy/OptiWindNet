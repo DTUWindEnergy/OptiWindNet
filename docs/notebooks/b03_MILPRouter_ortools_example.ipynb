{
 "cells": [
  {
   "cell_type": "markdown",
   "id": "b977ea38-7154-4788-b4bb-382e8aed7d54",
   "metadata": {},
   "source": [
    "# OR-tools example"
   ]
  },
  {
   "cell_type": "markdown",
   "id": "28f9c4f4",
   "metadata": {},
   "source": [
    "This notebook demonstrates how to use `OptiWindNet` to design collector system cable layouts using the **MILPRouter with OR-Tools Solver**."
   ]
  },
  {
   "cell_type": "markdown",
   "id": "7954bf38",
   "metadata": {},
   "source": [
    "## Load data"
   ]
  },
  {
   "cell_type": "markdown",
   "id": "29423f3d",
   "metadata": {},
   "source": [
    "import required modules"
   ]
  },
  {
   "cell_type": "code",
   "execution_count": 1,
   "id": "23c1c992-a563-4f2d-bbc8-cf0884e5b275",
   "metadata": {},
   "outputs": [],
   "source": [
    "from optiwindnet.api import WindFarmNetwork, EWRouter, MILPRouter"
   ]
  },
  {
   "cell_type": "code",
   "execution_count": 2,
   "id": "2dfff35b",
   "metadata": {},
   "outputs": [],
   "source": [
    "# Display figures as SVG in Jupyter notebooks\n",
    "%config InlineBackend.figure_formats = ['svg']"
   ]
  },
  {
   "cell_type": "markdown",
   "id": "5ba38347",
   "metadata": {},
   "source": [
    "create an instance of `wfn` using `.from_pbf()`\n"
   ]
  },
  {
   "cell_type": "code",
   "execution_count": 3,
   "id": "2dcc046a",
   "metadata": {},
   "outputs": [],
   "source": [
    "wfn = WindFarmNetwork.from_pbf(filepath='data/DTU_letters.osm.pbf', cables=7)"
   ]
  },
  {
   "cell_type": "code",
   "execution_count": 5,
   "id": "c333f144",
   "metadata": {},
   "outputs": [
    {
     "data": {
      "image/svg+xml": [
       "<svg xmlns=\"http://www.w3.org/2000/svg\" viewBox=\"0 0 1920 891\"><defs><circle stroke=\"none\" stroke-width=\"2\" id=\"wtg\" r=\"12\"/><rect stroke=\"#111\" stroke-width=\"2\" id=\"oss\" width=\"21\" height=\"21\" fill=\"lawngreen\"/></defs><g id=\"dtu\"><path stroke=\"silver\" stroke-dasharray=\"15 7\" stroke-width=\"2\" id=\"border\" d=\"M30 861 405 859 519 794 605 676 650 524 650 366 770 366 770 861 1150 861 1149 366 1270 366 1271 533 1319 684 1408 799 1522 860 1646 858 1759 793 1845 675 1890 525 1890 30 1625 30 1625 501 1618 537 1606 564 1589 579 1572 580 1555 566 1542 539 1535 502 1535 31 30 30z M260 658 260 233 328 232 372 263 407 323 426 400 426 485 408 564 375 625 331 658z\" fill-rule=\"evenodd\" fill=\"#111\"/><g id=\"WTGgrp\"><g fill=\"#9edae5\"><use href=\"#wtg\" x=\"107\" y=\"42\"/><use href=\"#wtg\" x=\"237\" y=\"206\"/><use href=\"#wtg\" x=\"58\" y=\"286\"/><use href=\"#wtg\" x=\"239\" y=\"398\"/><use href=\"#wtg\" x=\"77\" y=\"590\"/><use href=\"#wtg\" x=\"329\" y=\"847\"/><use href=\"#wtg\" x=\"525\" y=\"753\"/><use href=\"#wtg\" x=\"236\" y=\"687\"/><use href=\"#wtg\" x=\"633\" y=\"448\"/><use href=\"#wtg\" x=\"438\" y=\"556\"/><use href=\"#wtg\" x=\"420\" y=\"282\"/><use href=\"#wtg\" x=\"392\" y=\"81\"/><use href=\"#wtg\" x=\"575\" y=\"202\"/><use href=\"#wtg\" x=\"739\" y=\"334\"/><use href=\"#wtg\" x=\"630\" y=\"43\"/><use href=\"#wtg\" x=\"1064\" y=\"42\"/><use href=\"#wtg\" x=\"915\" y=\"397\"/><use href=\"#wtg\" x=\"785\" y=\"526\"/><use href=\"#wtg\" x=\"1643\" y=\"840\"/><use href=\"#wtg\" x=\"904\" y=\"678\"/><use href=\"#wtg\" x=\"993\" y=\"847\"/><use href=\"#wtg\" x=\"1129\" y=\"512\"/><use href=\"#wtg\" x=\"828\" y=\"155\"/><use href=\"#wtg\" x=\"1271\" y=\"147\"/><use href=\"#wtg\" x=\"1068\" y=\"249\"/><use href=\"#wtg\" x=\"1517\" y=\"49\"/><use href=\"#wtg\" x=\"1519\" y=\"280\"/><use href=\"#wtg\" x=\"1313\" y=\"351\"/><use href=\"#wtg\" x=\"1445\" y=\"482\"/><use href=\"#wtg\" x=\"1338\" y=\"626\"/><use href=\"#wtg\" x=\"1446\" y=\"787\"/><use href=\"#wtg\" x=\"1588\" y=\"630\"/><use href=\"#wtg\" x=\"1823\" y=\"671\"/><use href=\"#wtg\" x=\"1649\" y=\"377\"/><use href=\"#wtg\" x=\"1875\" y=\"478\"/><use href=\"#wtg\" x=\"1876\" y=\"252\"/><use href=\"#wtg\" x=\"51\" y=\"845\"/><use href=\"#wtg\" x=\"1692\" y=\"146\"/><use href=\"#wtg\" x=\"1878\" y=\"42\"/><use href=\"#wtg\" x=\"1137\" y=\"704\"/></g></g><g id=\"OSSgrp\"><use href=\"#oss\" x=\"1199.5\" y=\"320.5\"/></g></g></svg>"
      ],
      "text/plain": [
       "<optiwindnet.api.WindFarmNetwork at 0x1d95abd6cc0>"
      ]
     },
     "execution_count": 5,
     "metadata": {},
     "output_type": "execute_result"
    }
   ],
   "source": [
    "wfn"
   ]
  },
  {
   "cell_type": "markdown",
   "id": "b2bb8f58-4c20-4fe0-9cad-912d06b5871c",
   "metadata": {},
   "source": [
    "## Optimize"
   ]
  },
  {
   "cell_type": "markdown",
   "id": "4f9b49b1-a597-4053-a3d1-f3de7bb8d164",
   "metadata": {},
   "source": [
    "Warmstart with `EWRouter`:"
   ]
  },
  {
   "cell_type": "markdown",
   "id": "1cac06fd",
   "metadata": {},
   "source": [
    ">Note: In OptiWindNet, `MILPRouter` automatically uses any existing feasible network and check if it is eligible as a **warm start** for the MILP solver. If eligible, the MILP model will be warmstarted from the existing network. Therefore, to warm-start a newly created `WindFarmNetwork`, simply run one optimization with any router (e.g., `EWRouter` or `HGSRouter`) to obtain an initial solution; subsequent runs with `MILPRouter` will pick it up automatically."
   ]
  },
  {
   "cell_type": "code",
   "execution_count": 6,
   "id": "19eb273d-f662-4851-bf09-e0ec532d7b8b",
   "metadata": {},
   "outputs": [],
   "source": [
    "res_warmstart= wfn.optimize(router=EWRouter())"
   ]
  },
  {
   "cell_type": "code",
   "execution_count": 7,
   "id": "743daf67",
   "metadata": {},
   "outputs": [
    {
     "data": {
      "text/plain": [
       "1820.1681190424422"
      ]
     },
     "execution_count": 7,
     "metadata": {},
     "output_type": "execute_result"
    }
   ],
   "source": [
    "wfn.length()"
   ]
  },
  {
   "cell_type": "markdown",
   "id": "0ace0e50",
   "metadata": {},
   "source": [
    "The syntax for defining a MILPRouter is:\n",
    "\n",
    "```python\n",
    "router = MILPRouter(solver_name='ortools', time_limit=60, mip_gap=0.005, verbose=True)\n",
    "```\n",
    "The solver name could be choosen from among following solvers:\n",
    "```python\n",
    "solver_name = 'ortools'\n",
    "solver_name = 'gurobi'\n",
    "solver_name = 'cbc'\n",
    "solver_name = 'cplex'\n",
    "solver_name = 'Highs'\n",
    "solver_name = 'scip'\n",
    "```\n",
    "\n",
    "Rest of arguments (time_limit, mip_gap, verbose) are the same for all solvers.\n",
    "\n",
    "In this example we use 'ortools' which is an opensource tool. You can easily use other solvers (note that depending on your problem size, you might need license for some of the solvers, e.g. cplex, gurobi)"
   ]
  },
  {
   "cell_type": "code",
   "execution_count": 8,
   "id": "003714e7-bf75-4cda-ae19-58c74e126c75",
   "metadata": {},
   "outputs": [],
   "source": [
    "router = MILPRouter(solver_name='ortools', time_limit=60, mip_gap=0.005, verbose=True)"
   ]
  },
  {
   "cell_type": "markdown",
   "id": "ffa9339a",
   "metadata": {},
   "source": [
    ">If desired, set the logging level to `INFO` before running `.optimize()` with the `MILPRouter` to display detailed messages about the solver configuration:\n",
    ">```python\n",
    ">import logging\n",
    ">logging.basicConfig(level=logging.INFO)\n",
    ">```"
   ]
  },
  {
   "cell_type": "code",
   "execution_count": 9,
   "id": "6ee86e45",
   "metadata": {},
   "outputs": [],
   "source": [
    "res = wfn.optimize(router=router)"
   ]
  },
  {
   "cell_type": "code",
   "execution_count": 10,
   "id": "404d3bbc",
   "metadata": {},
   "outputs": [
    {
     "data": {
      "text/plain": [
       "{'runtime': 60.1965191,\n",
       " 'bound': 1548.1667605297823,\n",
       " 'objective': 1575.3554359240065,\n",
       " 'relgap': 0.017258756198265224,\n",
       " 'termination': 'FEASIBLE'}"
      ]
     },
     "execution_count": 10,
     "metadata": {},
     "output_type": "execute_result"
    }
   ],
   "source": [
    "wfn.solution_info()"
   ]
  },
  {
   "cell_type": "code",
   "execution_count": 11,
   "id": "90ceb875",
   "metadata": {},
   "outputs": [
    {
     "data": {
      "text/plain": [
       "1575.355435924007"
      ]
     },
     "execution_count": 11,
     "metadata": {},
     "output_type": "execute_result"
    }
   ],
   "source": [
    "wfn.length()"
   ]
  },
  {
   "cell_type": "code",
   "execution_count": 12,
   "id": "d67a91f7",
   "metadata": {},
   "outputs": [
    {
     "data": {
      "image/svg+xml": [
       "<svg xmlns=\"http://www.w3.org/2000/svg\" viewBox=\"0 0 1920 891\"><defs><circle stroke=\"orange\" stroke-opacity=\"0.3\" stroke-width=\"4\" id=\"dt\" r=\"23\" fill=\"none\"/><circle stroke=\"none\" stroke-width=\"2\" id=\"wtg\" r=\"12\"/><rect stroke=\"#111\" stroke-width=\"2\" id=\"oss\" width=\"21\" height=\"21\" fill=\"lawngreen\"/><filter x=\"-5%\" y=\"-5%\" id=\"bg_textbox\" width=\"110%\" height=\"110%\"><feFlood flood-opacity=\"0.6\" flood-color=\"black\" result=\"bg\"/><feMerge><feMergeNode in=\"bg\"/><feMergeNode in=\"SourceGraphic\"/></feMerge></filter></defs><g id=\"dtu\"><path stroke=\"silver\" stroke-dasharray=\"15 7\" stroke-width=\"2\" id=\"border\" d=\"M30 861 405 859 519 794 605 676 650 524 650 366 770 366 770 861 1150 861 1149 366 1270 366 1271 533 1319 684 1408 799 1522 860 1646 858 1759 793 1845 675 1890 525 1890 30 1625 30 1625 501 1618 537 1606 564 1589 579 1572 580 1555 566 1542 539 1535 502 1535 31 30 30z M260 658 260 233 328 232 372 263 407 323 426 400 426 485 408 564 375 625 331 658z\" fill-rule=\"evenodd\" fill=\"#111\"/><g stroke=\"crimson\" stroke-width=\"4\" id=\"edges_unspecified\"><line x1=\"107\" y1=\"42\" x2=\"237\" y2=\"206\"/><line x1=\"237\" y1=\"206\" x2=\"58\" y2=\"286\"/><line x1=\"237\" y1=\"206\" x2=\"392\" y2=\"81\"/><line x1=\"392\" y1=\"81\" x2=\"630\" y2=\"43\"/><line x1=\"239\" y1=\"398\" x2=\"77\" y2=\"590\"/><line x1=\"420\" y1=\"282\" x2=\"575\" y2=\"202\"/><line x1=\"329\" y1=\"847\" x2=\"236\" y2=\"687\"/><line x1=\"329\" y1=\"847\" x2=\"525\" y2=\"753\"/><line x1=\"525\" y1=\"753\" x2=\"438\" y2=\"556\"/><line x1=\"633\" y1=\"448\" x2=\"438\" y2=\"556\"/><line x1=\"739\" y1=\"334\" x2=\"915\" y2=\"397\"/><line x1=\"575\" y1=\"202\" x2=\"828\" y2=\"155\"/><line x1=\"630\" y1=\"43\" x2=\"1064\" y2=\"42\"/><line x1=\"828\" y1=\"155\" x2=\"1068\" y2=\"249\"/><line x1=\"1210\" y1=\"331\" x2=\"915\" y2=\"397\"/><line x1=\"1064\" y1=\"42\" x2=\"1271\" y2=\"147\"/><line x1=\"1210\" y1=\"331\" x2=\"1271\" y2=\"147\"/><line x1=\"785\" y1=\"526\" x2=\"904\" y2=\"678\"/><line x1=\"904\" y1=\"678\" x2=\"993\" y2=\"847\"/><line x1=\"1643\" y1=\"840\" x2=\"1823\" y2=\"671\"/><line x1=\"1643\" y1=\"840\" x2=\"1446\" y2=\"787\"/><line x1=\"1338\" y1=\"626\" x2=\"1446\" y2=\"787\"/><line x1=\"993\" y1=\"847\" x2=\"1137\" y2=\"704\"/><line x1=\"1129\" y1=\"512\" x2=\"1137\" y2=\"704\"/><line x1=\"1210\" y1=\"331\" x2=\"1068\" y2=\"249\"/><line x1=\"1517\" y1=\"49\" x2=\"1519\" y2=\"280\"/><line x1=\"1519\" y1=\"280\" x2=\"1445\" y2=\"482\"/><line x1=\"1313\" y1=\"351\" x2=\"1445\" y2=\"482\"/><line x1=\"1445\" y1=\"482\" x2=\"1588\" y2=\"630\"/><line x1=\"77\" y1=\"590\" x2=\"51\" y2=\"845\"/><line x1=\"1823\" y1=\"671\" x2=\"1875\" y2=\"478\"/><line x1=\"1210\" y1=\"331\" x2=\"1313\" y2=\"351\"/><line x1=\"1649\" y1=\"377\" x2=\"1692\" y2=\"146\"/><line x1=\"1875\" y1=\"478\" x2=\"1876\" y2=\"252\"/><line x1=\"1876\" y1=\"252\" x2=\"1878\" y2=\"42\"/></g><g stroke=\"red\" stroke-width=\"4\" id=\"edges_contour\"><line x1=\"239\" y1=\"398\" x2=\"260\" y2=\"233\"/><line x1=\"420\" y1=\"282\" x2=\"328\" y2=\"232\"/><line x1=\"633\" y1=\"448\" x2=\"650\" y2=\"366\"/><line x1=\"739\" y1=\"334\" x2=\"650\" y2=\"366\"/><line x1=\"1588\" y1=\"630\" x2=\"1618\" y2=\"537\"/><line x1=\"1649\" y1=\"377\" x2=\"1618\" y2=\"537\"/><line x1=\"260\" y1=\"233\" x2=\"328\" y2=\"232\"/></g><g stroke=\"darkorange\" stroke-dasharray=\"18 15\" stroke-width=\"4\" id=\"detours\" fill=\"none\"><polyline points=\"1210 331 1270 366 1338 626\"/><polyline points=\"1210 331 1149 366 1129 512\"/></g><g id=\"DTgrp\"><use href=\"#dt\" x=\"1270\" y=\"366\"/><use href=\"#dt\" x=\"1149\" y=\"366\"/></g><g id=\"WTGgrp\"><g fill=\"#ff7f0e\"><use href=\"#wtg\" x=\"107\" y=\"42\"/><use href=\"#wtg\" x=\"237\" y=\"206\"/><use href=\"#wtg\" x=\"392\" y=\"81\"/><use href=\"#wtg\" x=\"630\" y=\"43\"/><use href=\"#wtg\" x=\"1064\" y=\"42\"/><use href=\"#wtg\" x=\"1271\" y=\"147\"/><use href=\"#wtg\" x=\"58\" y=\"286\"/></g><g fill=\"#ffbb78\"><use href=\"#wtg\" x=\"239\" y=\"398\"/><use href=\"#wtg\" x=\"420\" y=\"282\"/><use href=\"#wtg\" x=\"575\" y=\"202\"/><use href=\"#wtg\" x=\"828\" y=\"155\"/><use href=\"#wtg\" x=\"1068\" y=\"249\"/><use href=\"#wtg\" x=\"77\" y=\"590\"/><use href=\"#wtg\" x=\"51\" y=\"845\"/></g><g fill=\"#1f77b4\"><use href=\"#wtg\" x=\"329\" y=\"847\"/><use href=\"#wtg\" x=\"525\" y=\"753\"/><use href=\"#wtg\" x=\"438\" y=\"556\"/><use href=\"#wtg\" x=\"633\" y=\"448\"/><use href=\"#wtg\" x=\"739\" y=\"334\"/><use href=\"#wtg\" x=\"915\" y=\"397\"/><use href=\"#wtg\" x=\"236\" y=\"687\"/></g><g fill=\"#aec7e8\"><use href=\"#wtg\" x=\"785\" y=\"526\"/><use href=\"#wtg\" x=\"904\" y=\"678\"/><use href=\"#wtg\" x=\"993\" y=\"847\"/><use href=\"#wtg\" x=\"1137\" y=\"704\"/><use href=\"#wtg\" x=\"1129\" y=\"512\"/></g><g fill=\"#98df8a\"><use href=\"#wtg\" x=\"1643\" y=\"840\"/><use href=\"#wtg\" x=\"1446\" y=\"787\"/><use href=\"#wtg\" x=\"1823\" y=\"671\"/><use href=\"#wtg\" x=\"1338\" y=\"626\"/><use href=\"#wtg\" x=\"1875\" y=\"478\"/><use href=\"#wtg\" x=\"1876\" y=\"252\"/><use href=\"#wtg\" x=\"1878\" y=\"42\"/></g><g fill=\"#2ca02c\"><use href=\"#wtg\" x=\"1517\" y=\"49\"/><use href=\"#wtg\" x=\"1519\" y=\"280\"/><use href=\"#wtg\" x=\"1445\" y=\"482\"/><use href=\"#wtg\" x=\"1313\" y=\"351\"/><use href=\"#wtg\" x=\"1588\" y=\"630\"/><use href=\"#wtg\" x=\"1649\" y=\"377\"/><use href=\"#wtg\" x=\"1692\" y=\"146\"/></g></g><g id=\"OSSgrp\"><use href=\"#oss\" x=\"1199.5\" y=\"320.5\"/></g></g><text filter=\"url(#bg_textbox)\" text-anchor=\"end\" font-family=\"sans-serif\" font-size=\"40\" fill=\"white\" x=\"1890\" y=\"861\"><tspan x=\"1890\" dy=\"-0.0em\">0 &#8364;</tspan><tspan x=\"1890\" dy=\"-1.3em\">&#931;&#955; = 1575.4 m</tspan><tspan x=\"1890\" dy=\"-1.3em\">(+0) [-1]: 6</tspan><tspan x=\"1890\" dy=\"-1.3em\">&#954; = 7, T = 40</tspan></text></svg>"
      ],
      "text/plain": [
       "<optiwindnet.api.WindFarmNetwork at 0x1d95abd6cc0>"
      ]
     },
     "execution_count": 12,
     "metadata": {},
     "output_type": "execute_result"
    }
   ],
   "source": [
    "wfn"
   ]
  }
 ],
 "metadata": {
  "kernelspec": {
   "display_name": "OptiWindNet",
   "language": "python",
   "name": "python3"
  },
  "language_info": {
   "codemirror_mode": {
    "name": "ipython",
    "version": 3
   },
   "file_extension": ".py",
   "mimetype": "text/x-python",
   "name": "python",
   "nbconvert_exporter": "python",
   "pygments_lexer": "ipython3",
   "version": "3.12.9"
  }
 },
 "nbformat": 4,
 "nbformat_minor": 5
}
