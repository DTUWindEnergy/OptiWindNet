{
 "cells": [
  {
   "cell_type": "markdown",
   "id": "3ce77085-3338-46b2-8784-de1187f43f25",
   "metadata": {},
   "source": [
    "## Non-Branching Esau-Williams (NBEW) example"
   ]
  },
  {
   "cell_type": "markdown",
   "id": "10f37582-5d65-4a02-97c0-6d74eefe11e5",
   "metadata": {},
   "source": [
    "NBEW is a heuristic from *interarray* (*optiwindnet*'s predecessor). It takes in the raw location **L** and outputs the routeset **G**.\n",
    "\n",
    "This heuristic enforces a radial (no-branches) topology."
   ]
  },
  {
   "cell_type": "code",
   "execution_count": 1,
   "id": "672c7061-abbf-4da0-9236-232dde141ac9",
   "metadata": {},
   "outputs": [],
   "source": [
    "from optiwindnet.importer import load_repository\n",
    "from optiwindnet.svg import svgplot\n",
    "from optiwindnet.heuristics import NBEW\n",
    "from optiwindnet.interarraylib import calcload"
   ]
  },
  {
   "cell_type": "markdown",
   "id": "92bfd6df-c545-48d2-b4d0-e69a1a6c473b",
   "metadata": {},
   "source": [
    "### Load Sofia"
   ]
  },
  {
   "cell_type": "code",
   "execution_count": 2,
   "id": "51e1e821-a0ea-47c3-a197-4b625bbf3a3b",
   "metadata": {},
   "outputs": [],
   "source": [
    "locations = load_repository()"
   ]
  },
  {
   "cell_type": "code",
   "execution_count": 3,
   "id": "c751be23-18de-4f62-a717-59c72239bd2b",
   "metadata": {},
   "outputs": [],
   "source": [
    "L = locations.sofia"
   ]
  },
  {
   "cell_type": "code",
   "execution_count": 4,
   "id": "c3c0e36b-03b4-4640-b992-26c8dac8830a",
   "metadata": {},
   "outputs": [
    {
     "data": {
      "image/svg+xml": [
       "<svg xmlns=\"http://www.w3.org/2000/svg\" viewBox=\"0 0 1920 1080\"><defs><circle stroke=\"none\" stroke-width=\"2\" id=\"wtg\" r=\"12\"/><rect stroke=\"#111\" stroke-width=\"2\" id=\"oss\" width=\"21\" height=\"21\" fill=\"lawngreen\"/></defs><g id=\"sofia\"><path stroke=\"silver\" stroke-dasharray=\"15 7\" stroke-width=\"2\" id=\"border\" d=\"M1256 1047 1327 976 1333 32 177 30 34 173 30 1050z\" fill-rule=\"evenodd\" fill=\"#111\"/><g id=\"WTGgrp\"><g fill=\"#9edae5\"><use href=\"#wtg\" x=\"41\" y=\"1041\"/><use href=\"#wtg\" x=\"41\" y=\"966\"/><use href=\"#wtg\" x=\"41\" y=\"895\"/><use href=\"#wtg\" x=\"41\" y=\"824\"/><use href=\"#wtg\" x=\"41\" y=\"752\"/><use href=\"#wtg\" x=\"41\" y=\"681\"/><use href=\"#wtg\" x=\"41\" y=\"610\"/><use href=\"#wtg\" x=\"41\" y=\"539\"/><use href=\"#wtg\" x=\"41\" y=\"467\"/><use href=\"#wtg\" x=\"41\" y=\"396\"/><use href=\"#wtg\" x=\"41\" y=\"325\"/><use href=\"#wtg\" x=\"45\" y=\"183\"/><use href=\"#wtg\" x=\"115\" y=\"1041\"/><use href=\"#wtg\" x=\"116\" y=\"112\"/><use href=\"#wtg\" x=\"186\" y=\"1041\"/><use href=\"#wtg\" x=\"186\" y=\"752\"/><use href=\"#wtg\" x=\"186\" y=\"610\"/><use href=\"#wtg\" x=\"186\" y=\"468\"/><use href=\"#wtg\" x=\"186\" y=\"325\"/><use href=\"#wtg\" x=\"187\" y=\"40\"/><use href=\"#wtg\" x=\"256\" y=\"1041\"/><use href=\"#wtg\" x=\"257\" y=\"40\"/><use href=\"#wtg\" x=\"327\" y=\"1041\"/><use href=\"#wtg\" x=\"328\" y=\"753\"/><use href=\"#wtg\" x=\"328\" y=\"610\"/><use href=\"#wtg\" x=\"328\" y=\"468\"/><use href=\"#wtg\" x=\"327\" y=\"324\"/><use href=\"#wtg\" x=\"328\" y=\"183\"/><use href=\"#wtg\" x=\"328\" y=\"41\"/><use href=\"#wtg\" x=\"398\" y=\"1041\"/><use href=\"#wtg\" x=\"399\" y=\"41\"/><use href=\"#wtg\" x=\"469\" y=\"1041\"/><use href=\"#wtg\" x=\"469\" y=\"895\"/><use href=\"#wtg\" x=\"469\" y=\"753\"/><use href=\"#wtg\" x=\"469\" y=\"610\"/><use href=\"#wtg\" x=\"469\" y=\"468\"/><use href=\"#wtg\" x=\"470\" y=\"326\"/><use href=\"#wtg\" x=\"470\" y=\"183\"/><use href=\"#wtg\" x=\"470\" y=\"41\"/><use href=\"#wtg\" x=\"540\" y=\"1041\"/><use href=\"#wtg\" x=\"540\" y=\"41\"/><use href=\"#wtg\" x=\"610\" y=\"1041\"/><use href=\"#wtg\" x=\"611\" y=\"753\"/><use href=\"#wtg\" x=\"611\" y=\"611\"/><use href=\"#wtg\" x=\"611\" y=\"468\"/><use href=\"#wtg\" x=\"611\" y=\"326\"/><use href=\"#wtg\" x=\"611\" y=\"183\"/><use href=\"#wtg\" x=\"611\" y=\"41\"/><use href=\"#wtg\" x=\"681\" y=\"1041\"/><use href=\"#wtg\" x=\"682\" y=\"41\"/><use href=\"#wtg\" x=\"752\" y=\"1041\"/><use href=\"#wtg\" x=\"752\" y=\"753\"/><use href=\"#wtg\" x=\"753\" y=\"611\"/><use href=\"#wtg\" x=\"753\" y=\"326\"/><use href=\"#wtg\" x=\"753\" y=\"183\"/><use href=\"#wtg\" x=\"753\" y=\"41\"/><use href=\"#wtg\" x=\"823\" y=\"1041\"/><use href=\"#wtg\" x=\"824\" y=\"41\"/><use href=\"#wtg\" x=\"894\" y=\"1041\"/><use href=\"#wtg\" x=\"894\" y=\"896\"/><use href=\"#wtg\" x=\"894\" y=\"753\"/><use href=\"#wtg\" x=\"894\" y=\"611\"/><use href=\"#wtg\" x=\"894\" y=\"468\"/><use href=\"#wtg\" x=\"894\" y=\"326\"/><use href=\"#wtg\" x=\"894\" y=\"183\"/><use href=\"#wtg\" x=\"894\" y=\"41\"/><use href=\"#wtg\" x=\"965\" y=\"1042\"/><use href=\"#wtg\" x=\"965\" y=\"41\"/><use href=\"#wtg\" x=\"1035\" y=\"1041\"/><use href=\"#wtg\" x=\"1035\" y=\"753\"/><use href=\"#wtg\" x=\"1036\" y=\"611\"/><use href=\"#wtg\" x=\"1036\" y=\"469\"/><use href=\"#wtg\" x=\"1036\" y=\"326\"/><use href=\"#wtg\" x=\"1036\" y=\"183\"/><use href=\"#wtg\" x=\"1036\" y=\"41\"/><use href=\"#wtg\" x=\"1106\" y=\"1042\"/><use href=\"#wtg\" x=\"1107\" y=\"41\"/><use href=\"#wtg\" x=\"1177\" y=\"1042\"/><use href=\"#wtg\" x=\"1177\" y=\"753\"/><use href=\"#wtg\" x=\"1177\" y=\"611\"/><use href=\"#wtg\" x=\"1177\" y=\"469\"/><use href=\"#wtg\" x=\"1177\" y=\"326\"/><use href=\"#wtg\" x=\"1178\" y=\"184\"/><use href=\"#wtg\" x=\"1178\" y=\"41\"/><use href=\"#wtg\" x=\"1248\" y=\"1038\"/><use href=\"#wtg\" x=\"1251\" y=\"40\"/><use href=\"#wtg\" x=\"1319\" y=\"967\"/><use href=\"#wtg\" x=\"1324\" y=\"896\"/><use href=\"#wtg\" x=\"1323\" y=\"825\"/><use href=\"#wtg\" x=\"1324\" y=\"754\"/><use href=\"#wtg\" x=\"1323\" y=\"682\"/><use href=\"#wtg\" x=\"1324\" y=\"611\"/><use href=\"#wtg\" x=\"1324\" y=\"540\"/><use href=\"#wtg\" x=\"1324\" y=\"468\"/><use href=\"#wtg\" x=\"1324\" y=\"397\"/><use href=\"#wtg\" x=\"1324\" y=\"326\"/><use href=\"#wtg\" x=\"1324\" y=\"255\"/><use href=\"#wtg\" x=\"1324\" y=\"184\"/><use href=\"#wtg\" x=\"1324\" y=\"113\"/><use href=\"#wtg\" x=\"1324\" y=\"41\"/></g></g><g id=\"OSSgrp\"><use href=\"#oss\" x=\"742.5\" y=\"457.5\"/></g></g></svg>"
      ],
      "text/plain": [
       "<optiwindnet.svg.SvgRepr at 0x264d8510cb0>"
      ]
     },
     "execution_count": 4,
     "metadata": {},
     "output_type": "execute_result"
    }
   ],
   "source": [
    "svgplot(L)"
   ]
  },
  {
   "cell_type": "markdown",
   "id": "c7d1dd72-c13b-4454-8754-9098e2faf9a8",
   "metadata": {},
   "source": [
    "### Optimize Sofia"
   ]
  },
  {
   "cell_type": "code",
   "execution_count": 5,
   "id": "37c0ec1f-bcc2-4025-92bc-613fdebbf1b1",
   "metadata": {},
   "outputs": [
    {
     "data": {
      "image/svg+xml": [
       "<svg xmlns=\"http://www.w3.org/2000/svg\" viewBox=\"0 0 1920 1080\"><defs><circle stroke=\"none\" stroke-width=\"2\" id=\"wtg\" r=\"12\"/><rect stroke=\"#111\" stroke-width=\"2\" id=\"oss\" width=\"21\" height=\"21\" fill=\"lawngreen\"/><filter x=\"-5%\" y=\"-5%\" id=\"bg_textbox\" width=\"110%\" height=\"110%\"><feFlood flood-opacity=\"0.6\" flood-color=\"black\" result=\"bg\"/><feMerge><feMergeNode in=\"bg\"/><feMergeNode in=\"SourceGraphic\"/></feMerge></filter></defs><g id=\"sofia\"><path stroke=\"silver\" stroke-dasharray=\"15 7\" stroke-width=\"2\" id=\"border\" d=\"M1256 1047 1327 976 1333 32 177 30 34 173 30 1050z\" fill-rule=\"evenodd\" fill=\"#111\"/><g stroke=\"crimson\" stroke-width=\"4\" id=\"edges_unspecified\"><line x1=\"41\" y1=\"1041\" x2=\"115\" y2=\"1041\"/><line x1=\"41\" y1=\"966\" x2=\"41\" y2=\"895\"/><line x1=\"41\" y1=\"895\" x2=\"41\" y2=\"824\"/><line x1=\"41\" y1=\"824\" x2=\"41\" y2=\"752\"/><line x1=\"41\" y1=\"752\" x2=\"41\" y2=\"681\"/><line x1=\"41\" y1=\"681\" x2=\"41\" y2=\"610\"/><line x1=\"41\" y1=\"610\" x2=\"41\" y2=\"539\"/><line x1=\"41\" y1=\"539\" x2=\"186\" y2=\"610\"/><line x1=\"41\" y1=\"467\" x2=\"41\" y2=\"396\"/><line x1=\"41\" y1=\"467\" x2=\"186\" y2=\"468\"/><line x1=\"41\" y1=\"396\" x2=\"41\" y2=\"325\"/><line x1=\"41\" y1=\"325\" x2=\"186\" y2=\"325\"/><line x1=\"45\" y1=\"183\" x2=\"116\" y2=\"112\"/><line x1=\"115\" y1=\"1041\" x2=\"186\" y2=\"1041\"/><line x1=\"116\" y1=\"112\" x2=\"187\" y2=\"40\"/><line x1=\"186\" y1=\"1041\" x2=\"256\" y2=\"1041\"/><line x1=\"186\" y1=\"752\" x2=\"328\" y2=\"753\"/><line x1=\"186\" y1=\"610\" x2=\"328\" y2=\"610\"/><line x1=\"186\" y1=\"468\" x2=\"328\" y2=\"468\"/><line x1=\"186\" y1=\"325\" x2=\"327\" y2=\"324\"/><line x1=\"187\" y1=\"40\" x2=\"257\" y2=\"40\"/><line x1=\"256\" y1=\"1041\" x2=\"327\" y2=\"1041\"/><line x1=\"257\" y1=\"40\" x2=\"328\" y2=\"41\"/><line x1=\"327\" y1=\"1041\" x2=\"398\" y2=\"1041\"/><line x1=\"328\" y1=\"753\" x2=\"469\" y2=\"753\"/><line x1=\"753\" y1=\"468\" x2=\"328\" y2=\"610\"/><line x1=\"328\" y1=\"468\" x2=\"469\" y2=\"468\"/><line x1=\"327\" y1=\"324\" x2=\"470\" y2=\"326\"/><line x1=\"328\" y1=\"183\" x2=\"470\" y2=\"183\"/><line x1=\"328\" y1=\"41\" x2=\"399\" y2=\"41\"/><line x1=\"398\" y1=\"1041\" x2=\"469\" y2=\"1041\"/><line x1=\"399\" y1=\"41\" x2=\"470\" y2=\"41\"/><line x1=\"469\" y1=\"1041\" x2=\"540\" y2=\"1041\"/><line x1=\"469\" y1=\"895\" x2=\"611\" y2=\"753\"/><line x1=\"469\" y1=\"753\" x2=\"469\" y2=\"610\"/><line x1=\"753\" y1=\"468\" x2=\"469\" y2=\"610\"/><line x1=\"753\" y1=\"468\" x2=\"469\" y2=\"468\"/><line x1=\"470\" y1=\"183\" x2=\"611\" y2=\"183\"/><line x1=\"470\" y1=\"41\" x2=\"540\" y2=\"41\"/><line x1=\"540\" y1=\"1041\" x2=\"610\" y2=\"1041\"/><line x1=\"540\" y1=\"41\" x2=\"611\" y2=\"41\"/><line x1=\"753\" y1=\"468\" x2=\"610\" y2=\"1041\"/><line x1=\"611\" y1=\"753\" x2=\"611\" y2=\"611\"/><line x1=\"753\" y1=\"468\" x2=\"611\" y2=\"611\"/><line x1=\"753\" y1=\"468\" x2=\"611\" y2=\"468\"/><line x1=\"753\" y1=\"468\" x2=\"611\" y2=\"326\"/><line x1=\"611\" y1=\"326\" x2=\"611\" y2=\"183\"/><line x1=\"753\" y1=\"468\" x2=\"611\" y2=\"41\"/><line x1=\"753\" y1=\"468\" x2=\"681\" y2=\"1041\"/><line x1=\"681\" y1=\"1041\" x2=\"752\" y2=\"1041\"/><line x1=\"682\" y1=\"41\" x2=\"753\" y2=\"41\"/><line x1=\"752\" y1=\"1041\" x2=\"823\" y2=\"1041\"/><line x1=\"752\" y1=\"753\" x2=\"894\" y2=\"753\"/><line x1=\"752\" y1=\"753\" x2=\"753\" y2=\"611\"/><line x1=\"753\" y1=\"468\" x2=\"753\" y2=\"611\"/><line x1=\"753\" y1=\"468\" x2=\"753\" y2=\"326\"/><line x1=\"753\" y1=\"326\" x2=\"753\" y2=\"183\"/><line x1=\"753\" y1=\"183\" x2=\"753\" y2=\"41\"/><line x1=\"823\" y1=\"1041\" x2=\"894\" y2=\"1041\"/><line x1=\"824\" y1=\"41\" x2=\"894\" y2=\"41\"/><line x1=\"824\" y1=\"41\" x2=\"894\" y2=\"183\"/><line x1=\"894\" y1=\"1041\" x2=\"965\" y2=\"1042\"/><line x1=\"894\" y1=\"896\" x2=\"894\" y2=\"753\"/><line x1=\"753\" y1=\"468\" x2=\"894\" y2=\"611\"/><line x1=\"894\" y1=\"611\" x2=\"1035\" y2=\"753\"/><line x1=\"753\" y1=\"468\" x2=\"894\" y2=\"468\"/><line x1=\"753\" y1=\"468\" x2=\"894\" y2=\"326\"/><line x1=\"894\" y1=\"326\" x2=\"894\" y2=\"183\"/><line x1=\"894\" y1=\"41\" x2=\"965\" y2=\"41\"/><line x1=\"965\" y1=\"1042\" x2=\"1035\" y2=\"1041\"/><line x1=\"965\" y1=\"41\" x2=\"1036\" y2=\"41\"/><line x1=\"1035\" y1=\"1041\" x2=\"1106\" y2=\"1042\"/><line x1=\"1035\" y1=\"753\" x2=\"1177\" y2=\"753\"/><line x1=\"753\" y1=\"468\" x2=\"1036\" y2=\"611\"/><line x1=\"1036\" y1=\"611\" x2=\"1177\" y2=\"611\"/><line x1=\"753\" y1=\"468\" x2=\"1036\" y2=\"469\"/><line x1=\"1036\" y1=\"469\" x2=\"1177\" y2=\"469\"/><line x1=\"753\" y1=\"468\" x2=\"1036\" y2=\"326\"/><line x1=\"1036\" y1=\"326\" x2=\"1177\" y2=\"326\"/><line x1=\"1036\" y1=\"183\" x2=\"1178\" y2=\"184\"/><line x1=\"1036\" y1=\"41\" x2=\"1107\" y2=\"41\"/><line x1=\"1106\" y1=\"1042\" x2=\"1177\" y2=\"1042\"/><line x1=\"1107\" y1=\"41\" x2=\"1178\" y2=\"41\"/><line x1=\"1177\" y1=\"1042\" x2=\"1248\" y2=\"1038\"/><line x1=\"1177\" y1=\"611\" x2=\"1324\" y2=\"540\"/><line x1=\"1177\" y1=\"469\" x2=\"1324\" y2=\"468\"/><line x1=\"1177\" y1=\"326\" x2=\"1178\" y2=\"184\"/><line x1=\"1178\" y1=\"41\" x2=\"1251\" y2=\"40\"/><line x1=\"1319\" y1=\"967\" x2=\"1324\" y2=\"896\"/><line x1=\"1324\" y1=\"896\" x2=\"1323\" y2=\"825\"/><line x1=\"1323\" y1=\"825\" x2=\"1324\" y2=\"754\"/><line x1=\"1324\" y1=\"754\" x2=\"1323\" y2=\"682\"/><line x1=\"1323\" y1=\"682\" x2=\"1324\" y2=\"611\"/><line x1=\"1324\" y1=\"611\" x2=\"1324\" y2=\"540\"/><line x1=\"1324\" y1=\"468\" x2=\"1324\" y2=\"397\"/><line x1=\"1324\" y1=\"397\" x2=\"1324\" y2=\"326\"/><line x1=\"1324\" y1=\"326\" x2=\"1324\" y2=\"255\"/><line x1=\"1324\" y1=\"255\" x2=\"1324\" y2=\"184\"/><line x1=\"1324\" y1=\"184\" x2=\"1324\" y2=\"113\"/><line x1=\"1324\" y1=\"113\" x2=\"1324\" y2=\"41\"/></g><g id=\"WTGgrp\"><g fill=\"#c5b0d5\"><use href=\"#wtg\" x=\"41\" y=\"1041\"/><use href=\"#wtg\" x=\"115\" y=\"1041\"/><use href=\"#wtg\" x=\"186\" y=\"1041\"/><use href=\"#wtg\" x=\"256\" y=\"1041\"/><use href=\"#wtg\" x=\"327\" y=\"1041\"/><use href=\"#wtg\" x=\"398\" y=\"1041\"/><use href=\"#wtg\" x=\"469\" y=\"1041\"/><use href=\"#wtg\" x=\"540\" y=\"1041\"/><use href=\"#wtg\" x=\"610\" y=\"1041\"/></g><g fill=\"#8c564b\"><use href=\"#wtg\" x=\"41\" y=\"966\"/><use href=\"#wtg\" x=\"41\" y=\"895\"/><use href=\"#wtg\" x=\"41\" y=\"824\"/><use href=\"#wtg\" x=\"41\" y=\"752\"/><use href=\"#wtg\" x=\"41\" y=\"681\"/><use href=\"#wtg\" x=\"41\" y=\"610\"/><use href=\"#wtg\" x=\"41\" y=\"539\"/><use href=\"#wtg\" x=\"186\" y=\"610\"/><use href=\"#wtg\" x=\"328\" y=\"610\"/></g><g fill=\"#c49c94\"><use href=\"#wtg\" x=\"41\" y=\"467\"/><use href=\"#wtg\" x=\"41\" y=\"396\"/><use href=\"#wtg\" x=\"41\" y=\"325\"/><use href=\"#wtg\" x=\"186\" y=\"468\"/><use href=\"#wtg\" x=\"186\" y=\"325\"/><use href=\"#wtg\" x=\"328\" y=\"468\"/><use href=\"#wtg\" x=\"327\" y=\"324\"/><use href=\"#wtg\" x=\"469\" y=\"468\"/><use href=\"#wtg\" x=\"470\" y=\"326\"/></g><g fill=\"#7f7f7f\"><use href=\"#wtg\" x=\"45\" y=\"183\"/><use href=\"#wtg\" x=\"116\" y=\"112\"/><use href=\"#wtg\" x=\"187\" y=\"40\"/><use href=\"#wtg\" x=\"257\" y=\"40\"/><use href=\"#wtg\" x=\"328\" y=\"41\"/><use href=\"#wtg\" x=\"399\" y=\"41\"/><use href=\"#wtg\" x=\"470\" y=\"41\"/><use href=\"#wtg\" x=\"540\" y=\"41\"/><use href=\"#wtg\" x=\"611\" y=\"41\"/></g><g fill=\"#d62728\"><use href=\"#wtg\" x=\"186\" y=\"752\"/><use href=\"#wtg\" x=\"328\" y=\"753\"/><use href=\"#wtg\" x=\"469\" y=\"753\"/><use href=\"#wtg\" x=\"469\" y=\"610\"/></g><g fill=\"#ffbb78\"><use href=\"#wtg\" x=\"328\" y=\"183\"/><use href=\"#wtg\" x=\"470\" y=\"183\"/><use href=\"#wtg\" x=\"611\" y=\"326\"/><use href=\"#wtg\" x=\"611\" y=\"183\"/></g><g fill=\"#f7b6d2\"><use href=\"#wtg\" x=\"469\" y=\"895\"/><use href=\"#wtg\" x=\"611\" y=\"753\"/><use href=\"#wtg\" x=\"611\" y=\"611\"/></g><g fill=\"#ff7f0e\"><use href=\"#wtg\" x=\"611\" y=\"468\"/></g><g fill=\"#aec7e8\"><use href=\"#wtg\" x=\"681\" y=\"1041\"/><use href=\"#wtg\" x=\"752\" y=\"1041\"/><use href=\"#wtg\" x=\"823\" y=\"1041\"/><use href=\"#wtg\" x=\"894\" y=\"1041\"/><use href=\"#wtg\" x=\"965\" y=\"1042\"/><use href=\"#wtg\" x=\"1035\" y=\"1041\"/><use href=\"#wtg\" x=\"1106\" y=\"1042\"/><use href=\"#wtg\" x=\"1177\" y=\"1042\"/><use href=\"#wtg\" x=\"1248\" y=\"1038\"/></g><g fill=\"#ff9896\"><use href=\"#wtg\" x=\"682\" y=\"41\"/><use href=\"#wtg\" x=\"753\" y=\"326\"/><use href=\"#wtg\" x=\"753\" y=\"183\"/><use href=\"#wtg\" x=\"753\" y=\"41\"/></g><g fill=\"#c7c7c7\"><use href=\"#wtg\" x=\"752\" y=\"753\"/><use href=\"#wtg\" x=\"753\" y=\"611\"/><use href=\"#wtg\" x=\"894\" y=\"896\"/><use href=\"#wtg\" x=\"894\" y=\"753\"/></g><g fill=\"#bcbd22\"><use href=\"#wtg\" x=\"824\" y=\"41\"/><use href=\"#wtg\" x=\"894\" y=\"326\"/><use href=\"#wtg\" x=\"894\" y=\"183\"/><use href=\"#wtg\" x=\"894\" y=\"41\"/><use href=\"#wtg\" x=\"965\" y=\"41\"/><use href=\"#wtg\" x=\"1036\" y=\"41\"/><use href=\"#wtg\" x=\"1107\" y=\"41\"/><use href=\"#wtg\" x=\"1178\" y=\"41\"/><use href=\"#wtg\" x=\"1251\" y=\"40\"/></g><g fill=\"#2ca02c\"><use href=\"#wtg\" x=\"894\" y=\"611\"/><use href=\"#wtg\" x=\"1035\" y=\"753\"/><use href=\"#wtg\" x=\"1177\" y=\"753\"/></g><g fill=\"#9467bd\"><use href=\"#wtg\" x=\"894\" y=\"468\"/></g><g fill=\"#98df8a\"><use href=\"#wtg\" x=\"1036\" y=\"611\"/><use href=\"#wtg\" x=\"1177\" y=\"611\"/><use href=\"#wtg\" x=\"1319\" y=\"967\"/><use href=\"#wtg\" x=\"1324\" y=\"896\"/><use href=\"#wtg\" x=\"1323\" y=\"825\"/><use href=\"#wtg\" x=\"1324\" y=\"754\"/><use href=\"#wtg\" x=\"1323\" y=\"682\"/><use href=\"#wtg\" x=\"1324\" y=\"611\"/><use href=\"#wtg\" x=\"1324\" y=\"540\"/></g><g fill=\"#e377c2\"><use href=\"#wtg\" x=\"1036\" y=\"469\"/><use href=\"#wtg\" x=\"1177\" y=\"469\"/><use href=\"#wtg\" x=\"1324\" y=\"468\"/><use href=\"#wtg\" x=\"1324\" y=\"397\"/><use href=\"#wtg\" x=\"1324\" y=\"326\"/><use href=\"#wtg\" x=\"1324\" y=\"255\"/><use href=\"#wtg\" x=\"1324\" y=\"184\"/><use href=\"#wtg\" x=\"1324\" y=\"113\"/><use href=\"#wtg\" x=\"1324\" y=\"41\"/></g><g fill=\"#1f77b4\"><use href=\"#wtg\" x=\"1036\" y=\"326\"/><use href=\"#wtg\" x=\"1036\" y=\"183\"/><use href=\"#wtg\" x=\"1177\" y=\"326\"/><use href=\"#wtg\" x=\"1178\" y=\"184\"/></g></g><g id=\"OSSgrp\"><use href=\"#oss\" x=\"742.5\" y=\"457.5\"/></g></g><text filter=\"url(#bg_textbox)\" text-anchor=\"end\" font-family=\"sans-serif\" font-size=\"40\" fill=\"white\" x=\"1333\" y=\"1050\"><tspan x=\"1333\" dy=\"-0.0em\">&#931;&#955; = 275479.0 m</tspan><tspan x=\"1333\" dy=\"-1.3em\">(+5) OCP: 17</tspan><tspan x=\"1333\" dy=\"-1.3em\">&#954; = 9, T = 100</tspan></text></svg>"
      ],
      "text/plain": [
       "<optiwindnet.svg.SvgRepr at 0x264d363d5b0>"
      ]
     },
     "execution_count": 5,
     "metadata": {},
     "output_type": "execute_result"
    }
   ],
   "source": [
    "G = NBEW(L, capacity=9)\n",
    "calcload(G)\n",
    "svgplot(G)"
   ]
  }
 ],
 "metadata": {
  "language_info": {
   "name": "python"
  }
 },
 "nbformat": 4,
 "nbformat_minor": 5
}
