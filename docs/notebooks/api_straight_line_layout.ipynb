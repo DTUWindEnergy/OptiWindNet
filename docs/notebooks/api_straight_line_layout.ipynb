{
 "cells": [
  {
   "cell_type": "markdown",
   "id": "ed13a6b8-1d5b-4ce0-9cd4-b81bac7b07dd",
   "metadata": {},
   "source": [
    "## Plotting"
   ]
  },
  {
   "cell_type": "code",
   "execution_count": 4,
   "id": "b0f61785-6be5-4a0f-8282-5c17f4cc28ad",
   "metadata": {},
   "outputs": [],
   "source": [
    "from optiwindnet.api import WindFarmNetwork\n",
    "import numpy as np"
   ]
  },
  {
   "cell_type": "markdown",
   "id": "3f8789d4-5f85-4e50-a7b6-dd9b57f0e4a2",
   "metadata": {},
   "source": [
    "### Create a sample network"
   ]
  },
  {
   "cell_type": "code",
   "execution_count": 5,
   "id": "2ce45605-8d5f-46ca-bcb3-1c758b8c70d0",
   "metadata": {},
   "outputs": [],
   "source": [
    "\n",
    "\n",
    "substations = np.array([[696, 1063],], dtype=float)\n",
    "turbines = np.array(\n",
    "    [[1940, 279]],\n",
    "    dtype=float\n",
    ")"
   ]
  },
  {
   "cell_type": "code",
   "execution_count": 6,
   "id": "4e702047",
   "metadata": {},
   "outputs": [
    {
     "name": "stdout",
     "output_type": "stream",
     "text": [
      "WARNING: No cable data provided. Defaulting to cables = [(10, 1)], where 10 is the maximum cable capacity and 1 is the cost in €/m.\n"
     ]
    },
    {
     "ename": "ZeroDivisionError",
     "evalue": "float division by zero",
     "output_type": "error",
     "traceback": [
      "\u001b[31m---------------------------------------------------------------------------\u001b[39m",
      "\u001b[31mZeroDivisionError\u001b[39m                         Traceback (most recent call last)",
      "\u001b[36mCell\u001b[39m\u001b[36m \u001b[39m\u001b[32mIn[6]\u001b[39m\u001b[32m, line 1\u001b[39m\n\u001b[32m----> \u001b[39m\u001b[32m1\u001b[39m wfn = \u001b[43mWindFarmNetwork\u001b[49m\u001b[43m(\u001b[49m\u001b[43mturbines\u001b[49m\u001b[43m=\u001b[49m\u001b[43mturbines\u001b[49m\u001b[43m,\u001b[49m\u001b[43m \u001b[49m\u001b[43msubstations\u001b[49m\u001b[43m=\u001b[49m\u001b[43msubstations\u001b[49m\u001b[43m)\u001b[49m\n",
      "\u001b[36mFile \u001b[39m\u001b[32mC:\\code\\OptiWindNet\\optiwindnet\\api.py:88\u001b[39m, in \u001b[36mWindFarmNetwork.__init__\u001b[39m\u001b[34m(self, turbines, substations, cables, border, obstacles, name, handle, L, router, verbose, **kwargs)\u001b[39m\n\u001b[32m     86\u001b[39m \u001b[38;5;28mself\u001b[39m.L = L\n\u001b[32m     87\u001b[39m \u001b[38;5;66;03m# Compute the planar embedding\u001b[39;00m\n\u001b[32m---> \u001b[39m\u001b[32m88\u001b[39m \u001b[38;5;28mself\u001b[39m._P, \u001b[38;5;28mself\u001b[39m._A = \u001b[43mmake_planar_embedding\u001b[49m\u001b[43m(\u001b[49m\u001b[43mL\u001b[49m\u001b[43m)\u001b[49m\n\u001b[32m     89\u001b[39m \u001b[38;5;28mself\u001b[39m.border = border\n\u001b[32m     90\u001b[39m \u001b[38;5;28mself\u001b[39m.obstacles = obstacles\n",
      "\u001b[36mFile \u001b[39m\u001b[32mC:\\code\\OptiWindNet\\optiwindnet\\mesh.py:1085\u001b[39m, in \u001b[36mmake_planar_embedding\u001b[39m\u001b[34m(L, offset_scale, max_tri_AR)\u001b[39m\n\u001b[32m   1082\u001b[39m norm_offset = np.array((bX.min(), bY.min()), dtype=np.float64)\n\u001b[32m   1083\u001b[39m \u001b[38;5;66;03m# Take the sqrt() of the area and invert for the linear factor such that\u001b[39;00m\n\u001b[32m   1084\u001b[39m \u001b[38;5;66;03m# area=1.\u001b[39;00m\n\u001b[32m-> \u001b[39m\u001b[32m1085\u001b[39m norm_scale = \u001b[32;43m1.\u001b[39;49m\u001b[43m/\u001b[49m\u001b[43mmath\u001b[49m\u001b[43m.\u001b[49m\u001b[43msqrt\u001b[49m\u001b[43m(\u001b[49m\n\u001b[32m   1086\u001b[39m \u001b[43m    \u001b[49m\u001b[43marea_from_polygon_vertices\u001b[49m\u001b[43m(\u001b[49m\u001b[43m*\u001b[49m\u001b[43mVertexC\u001b[49m\u001b[43m[\u001b[49m\u001b[43mhull_concave\u001b[49m\u001b[43m]\u001b[49m\u001b[43m.\u001b[49m\u001b[43mT\u001b[49m\u001b[43m)\u001b[49m\u001b[43m)\u001b[49m\n\u001b[32m   1088\u001b[39m \u001b[38;5;66;03m# ############################\u001b[39;00m\n\u001b[32m   1089\u001b[39m \u001b[38;5;66;03m# P) Set A's graph attributes.\u001b[39;00m\n\u001b[32m   1090\u001b[39m \u001b[38;5;66;03m# ############################\u001b[39;00m\n\u001b[32m   1091\u001b[39m debug(\u001b[33m'\u001b[39m\u001b[33mPART P\u001b[39m\u001b[33m'\u001b[39m)\n",
      "\u001b[31mZeroDivisionError\u001b[39m: float division by zero"
     ]
    }
   ],
   "source": [
    "wfn = WindFarmNetwork(turbines=turbines, substations=substations)"
   ]
  },
  {
   "cell_type": "markdown",
   "id": "4c080471",
   "metadata": {},
   "source": [
    "Plots (gplot)"
   ]
  },
  {
   "cell_type": "code",
   "execution_count": null,
   "id": "f88ccb3c",
   "metadata": {},
   "outputs": [],
   "source": [
    "wfn.plot_location()"
   ]
  },
  {
   "cell_type": "code",
   "execution_count": null,
   "id": "a6623599",
   "metadata": {},
   "outputs": [],
   "source": [
    "wfn.plot_available_links()"
   ]
  },
  {
   "cell_type": "code",
   "execution_count": null,
   "id": "5ed660e5",
   "metadata": {},
   "outputs": [],
   "source": [
    "wfn.plot_navigation_mesh()"
   ]
  },
  {
   "cell_type": "markdown",
   "id": "68234d80",
   "metadata": {},
   "source": [
    "svgplots"
   ]
  },
  {
   "cell_type": "markdown",
   "id": "13554c48",
   "metadata": {},
   "source": [
    "Optimize"
   ]
  },
  {
   "cell_type": "code",
   "execution_count": null,
   "id": "f888963b",
   "metadata": {},
   "outputs": [],
   "source": [
    "wfn.optimize()"
   ]
  },
  {
   "cell_type": "code",
   "execution_count": null,
   "id": "8de38236",
   "metadata": {},
   "outputs": [],
   "source": [
    "wfn.plot_selected_links()"
   ]
  },
  {
   "cell_type": "code",
   "execution_count": null,
   "id": "883efe11",
   "metadata": {},
   "outputs": [],
   "source": [
    "wfn.plot()"
   ]
  },
  {
   "cell_type": "markdown",
   "id": "0d4a4c35-4ba9-475b-bd4e-62e909459b12",
   "metadata": {},
   "source": [
    "### Using Matplotlib-based `gplot()`"
   ]
  },
  {
   "cell_type": "markdown",
   "id": "40569656-a562-46cf-a4a1-c5f78cec0317",
   "metadata": {},
   "source": [
    "Matplotlib can produce inline plots in Jupyter notebooks using different formats. The default is PNG and it works ok, but the embedding of the binary image in the text-only `.ipynb` file makes them big and generates many false-positives when searching for short strings (outside of Jupyter, e.g. `ripgrep`).\n",
    "\n",
    "By using the SVG format, the notebooks are smaller in size and the false-positives are avoided. In addition, the vector-based figures saved within the notebook can be exported as editable SVG files without needing to run the notebook again. On JupyterLab:\n",
    "- Shift+Right_click -> \"Open image in new tab\"\n",
    "- Menu \"File\" -> \"Save\"\n",
    "\n",
    "The 'svg.fonttype' rcParams entry set to 'none' prevents Matplotlib from converting text to paths, which also helps with reducing image sizes (the drawback being possible visual differences if the fonts used at creation are not available when visualizing the figures).\n",
    "\n",
    "One drawback of SVG plots in Jupyter notebooks is having to mark the notebook as **Trusted** to display the figures when opening it in a different computer than the one that created it. In JupyterLab <Ctrl+Shift+C>, search for 'trust' and select \"Trust Notebook\"."
   ]
  },
  {
   "cell_type": "code",
   "execution_count": null,
   "id": "ed8cad93-9ea1-4fb5-ac52-f009377dacca",
   "metadata": {},
   "outputs": [],
   "source": [
    "import matplotlib.pyplot as plt\n",
    "%config InlineBackend.figure_formats = ['svg']\n",
    "plt.rcParams['svg.fonttype'] = 'none'"
   ]
  },
  {
   "cell_type": "markdown",
   "id": "b2829ede-58ba-4ec5-b0a6-633c246be220",
   "metadata": {},
   "source": [
    "The Matplotlib-based plotting functions in OptiWindNet are `gplot()` and `pplot()`."
   ]
  },
  {
   "cell_type": "markdown",
   "id": "24306491-58dd-41c6-9c7f-588ca90b0ece",
   "metadata": {},
   "source": [
    "`gplot()` returns a plt.Axes object, which can be used to adjust many aspects of the figure, or to save it to a file in a diversity of formats, e.g.:\n",
    "```python\n",
    "ax.figure.savefig('myfig.pdf')\n",
    "```"
   ]
  },
  {
   "cell_type": "markdown",
   "id": "9cc236bf-61b1-43b7-90d0-a866e32eb1f2",
   "metadata": {},
   "source": [
    "It is also possible to provide a pre-existing plt.Axes object within a matplotlib figure:"
   ]
  },
  {
   "cell_type": "code",
   "execution_count": null,
   "id": "64669b15",
   "metadata": {},
   "outputs": [],
   "source": [
    "fig, (ax1, ax2) = plt.subplots(1, 2, facecolor='none', figsize=(9, 3))\n",
    "\n",
    "wfn.plot_navigation_mesh(ax=ax1)\n",
    "wfn.plot_available_links(ax=ax2)"
   ]
  },
  {
   "cell_type": "markdown",
   "id": "7f83a63e-f40d-49d6-9c67-86f72535e604",
   "metadata": {},
   "source": [
    "`pplot(P, A)` is only useful for tinkering with the pathfinding algorithm and most OptiWindNet users will not need to use it. Plotting the available edges graph **A** is useful mainly for debugging."
   ]
  },
  {
   "cell_type": "markdown",
   "id": "a41f283c-8d65-4f29-a5e7-2ef05f0ecbf3",
   "metadata": {},
   "source": [
    "The main advantage of `gplot()` over `svgplot()` are node tags and figure legends:"
   ]
  },
  {
   "cell_type": "code",
   "execution_count": null,
   "id": "4e41efbe-054c-4949-9880-95c9029e3017",
   "metadata": {},
   "outputs": [],
   "source": [
    "wfn.plot(node_tag='label', infobox=False, legend=True)"
   ]
  },
  {
   "cell_type": "markdown",
   "id": "2a5748af-1d93-4920-a952-3e93e27c8d50",
   "metadata": {},
   "source": [
    "The nodes can also be tagged by the power they export towards the substation:"
   ]
  },
  {
   "cell_type": "code",
   "execution_count": null,
   "id": "3c8bbff6-e73b-44f8-932f-4d485763faa8",
   "metadata": {},
   "outputs": [],
   "source": [
    "wfn.plot(node_tag='load')"
   ]
  },
  {
   "cell_type": "markdown",
   "id": "ecc1bafd-e317-4091-af92-3634c225d91f",
   "metadata": {},
   "source": [
    "### Using `svgplot()`"
   ]
  },
  {
   "cell_type": "markdown",
   "id": "191c9857-bdba-4c0e-a891-1e93530e76fb",
   "metadata": {},
   "source": [
    "Most plots in the examples are created with `svgplot()`. The figures are visually similar to the ones generated with `gplot`, except for the lack of the `node_tag` and `legend` options. The infobox position here is fixed to the lower-right corner, while `gplot()` tries to place it in the least-obstrusive position.\n",
    "\n",
    "The advantage of a SVG created by `svgplot()` over the one produced by Matplotlib is its smaller and simpler structure, which is also better suited for further editing (e.g. using Inkscape)."
   ]
  },
  {
   "cell_type": "code",
   "execution_count": null,
   "id": "2389b968-027d-42fb-904b-8bfff20400b1",
   "metadata": {},
   "outputs": [],
   "source": [
    "wfn.svgplot()"
   ]
  },
  {
   "cell_type": "markdown",
   "id": "f2651184-c288-4c81-ae8a-0827585ea6f3",
   "metadata": {},
   "source": [
    "The `svgplot()` does not create an inline image upon being called, the SVG is displayed when the object returned by the `svgplot()` call is the cell output. To display figures created within the code cell, use `IPython.display.display`.\n",
    "\n",
    "To save to a file:\n",
    "```python\n",
    "svgplot(G).save('myfig.svg')\n",
    "```"
   ]
  },
  {
   "cell_type": "code",
   "execution_count": null,
   "id": "9c006848-7584-492a-bee0-8b80265bc920",
   "metadata": {},
   "outputs": [],
   "source": [
    "from IPython.display import display"
   ]
  },
  {
   "cell_type": "code",
   "execution_count": null,
   "id": "2d39a777-a0ab-4259-a5ba-15a5be18f0ec",
   "metadata": {},
   "outputs": [],
   "source": [
    "for cap in [9, 7, 5]:\n",
    "    wfn_loop = WindFarmNetwork.upload_L(L=L, cables_capacity=cap, router=router)\n",
    "    wfn_loop.optimize()\n",
    "    display(wfn_loop.svgplot())"
   ]
  },
  {
   "cell_type": "markdown",
   "id": "1226bc83-bd3c-45db-bbb1-aa88224ff2c9",
   "metadata": {},
   "source": [
    "### Dark and Light plotting themes"
   ]
  },
  {
   "cell_type": "markdown",
   "id": "fbbf39e7-b228-4142-93d5-1f757d8c0e5f",
   "metadata": {},
   "source": [
    "Both `gplot()` and `svgplot()` try to match the colors used in the figure to the operating system's theme via Python package `darkdetect`. This package detects the system's theme and not JupyterLab's theme, so it may lead no non-ideal results if they do not match.\n",
    "\n",
    "The example notebooks are created from a dark-themed system, but the figures might have a light background when the notebooks are run on a different computer.\n",
    "\n",
    "The theme can be enforced programmatically by setting the argument `dark` to `True` or `False`:"
   ]
  },
  {
   "cell_type": "code",
   "execution_count": null,
   "id": "09b9bc08-7048-4116-b5d2-0226ebeb2037",
   "metadata": {},
   "outputs": [],
   "source": [
    "wfn.svgplot(dark=False)"
   ]
  },
  {
   "cell_type": "markdown",
   "id": "334b548e-acd4-41c4-93e0-d715b1b0c5f4",
   "metadata": {},
   "source": [
    "### Rotated locations"
   ]
  },
  {
   "cell_type": "markdown",
   "id": "f0f10ebf-ffcb-4cd9-85fc-c95b7d0a2416",
   "metadata": {},
   "source": [
    "Each location included in OptiWindNet has a graph attribute called 'landscape_angle'."
   ]
  },
  {
   "cell_type": "code",
   "execution_count": null,
   "id": "c38128f0-22b3-400b-9604-48d423d6c25e",
   "metadata": {},
   "outputs": [],
   "source": [
    "L.graph['landscape_angle']"
   ]
  },
  {
   "cell_type": "markdown",
   "id": "78a9cadd-93d2-4fa8-a37f-f08947b6fa3e",
   "metadata": {},
   "source": [
    "This is the angle that will rotate the site to be in the best orientation for a landscape figure. If the user prefers the orientation to be with the north always up, the argument `landscape` can be used. Alternatively, 'landscape_angle' could be set to 0."
   ]
  },
  {
   "cell_type": "code",
   "execution_count": null,
   "id": "5a69abdd",
   "metadata": {},
   "outputs": [],
   "source": [
    "wfn.svgplot(landscape=False)"
   ]
  }
 ],
 "metadata": {
  "kernelspec": {
   "display_name": "OptiWindNet",
   "language": "python",
   "name": "python3"
  },
  "language_info": {
   "codemirror_mode": {
    "name": "ipython",
    "version": 3
   },
   "file_extension": ".py",
   "mimetype": "text/x-python",
   "name": "python",
   "nbconvert_exporter": "python",
   "pygments_lexer": "ipython3",
   "version": "3.12.9"
  }
 },
 "nbformat": 4,
 "nbformat_minor": 5
}
