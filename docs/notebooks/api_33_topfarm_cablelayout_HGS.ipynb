{
  "cells": [
    {
      "cell_type": "markdown",
      "metadata": {},
      "source": [
        "## OptiWindNet + TopFarm Integration Example (Metaheuristic routers)"
      ]
    },
    {
      "cell_type": "markdown",
      "metadata": {},
      "source": [
        "This notebook demonstrates how to use **OptiWindNet** in combination with **[TopFarm](https://gitlab.windenergy.dtu.dk/TOPFARM)**, a Python-based framework for wind farm layout optimization."
      ]
    },
    {
      "cell_type": "code",
      "execution_count": null,
      "metadata": {},
      "outputs": [],
      "source": [
        "# Install TopFarm if needed\n",
        "import importlib\n",
        "if not importlib.util.find_spec(\"topfarm\"):\n",
        "    !pip install git+https://gitlab.windenergy.dtu.dk/TOPFARM/TopFarm2.git"
      ]
    },
    {
      "cell_type": "code",
      "execution_count": null,
      "metadata": {},
      "outputs": [],
      "source": [
        "import importlib\n",
        "if not importlib.util.find_spec(\"optiwindnet\"):\n",
        "    !pip install git+https://gitlab.windenergy.dtu.dk/TOPFARM/OptiWindNet.git"
      ]
    },
    {
      "cell_type": "markdown",
      "metadata": {
        "id": "qVifpR3bLpQg"
      },
      "source": [
        "### Import"
      ]
    },
    {
      "cell_type": "code",
      "execution_count": null,
      "metadata": {
        "id": "pkQ-WmvSLpQg"
      },
      "outputs": [],
      "source": [
        "import numpy as np\n",
        "from scipy.interpolate import RegularGridInterpolator\n",
        "import matplotlib.pyplot as plt\n",
        "\n",
        "from topfarm.constraint_components.spacing import SpacingConstraint\n",
        "from topfarm.constraint_components.boundary import XYBoundaryConstraint\n",
        "from topfarm.easy_drivers import EasyScipyOptimizeDriver\n",
        "from topfarm.cost_models.cost_model_wrappers import CostModelComponent\n",
        "from topfarm._topfarm import TopFarmProblem, TopFarmGroup\n",
        "from topfarm.cost_models.py_wake_wrapper import PyWakeAEPCostModelComponent\n",
        "from topfarm.plotting import XYPlotComp\n",
        "from topfarm.utils import plot_list_recorder\n",
        "from topfarm.cost_models.economic_models.dtu_wind_cm_main import economic_evaluation\n",
        "\n",
        "from py_wake.examples.data.iea37._iea37 import IEA37_WindTurbines\n",
        "from py_wake import BastankhahGaussian\n",
        "from py_wake.examples.data.hornsrev1 import Hornsrev1Site\n",
        "\n",
        "from optiwindnet.api import WindFarmNetwork, MetaHeuristic"
      ]
    },
    {
      "cell_type": "code",
      "execution_count": null,
      "metadata": {},
      "outputs": [],
      "source": [
        "# Display figures as SVG in Jupyter notebooks\n",
        "%config InlineBackend.figure_formats = ['svg']"
      ]
    },
    {
      "cell_type": "markdown",
      "metadata": {
        "id": "RWQFjX0GLpQh"
      },
      "source": [
        "### Site"
      ]
    },
    {
      "cell_type": "code",
      "execution_count": null,
      "metadata": {
        "colab": {
          "base_uri": "https://localhost:8080/"
        },
        "id": "JJXQbzYzLpQh",
        "outputId": "d25bffa2-ce1b-44b0-b9f3-fcf4c3206459"
      },
      "outputs": [],
      "source": [
        "n_wt = 30\n",
        "initial = np.asarray([np.random.random(30)*6000, np.random.random(30)*-10000]).T\n",
        "x_init = initial[:,0]\n",
        "y_init = initial[:,1]\n",
        "boundary = np.array([(0, 0), (6000, 0), (6000, -10000), (0, -10000)])  # turbine boundaries\n",
        "drivers = [EasyScipyOptimizeDriver(maxiter=1000)]\n",
        "windTurbines = IEA37_WindTurbines()\n",
        "site = Hornsrev1Site()\n",
        "wfm = BastankhahGaussian(site, windTurbines)\n"
      ]
    },
    {
      "cell_type": "markdown",
      "metadata": {
        "id": "5mcjlLU9LpQh"
      },
      "source": [
        "### Bathymetry"
      ]
    },
    {
      "cell_type": "code",
      "execution_count": null,
      "metadata": {
        "colab": {
          "base_uri": "https://localhost:8080/",
          "height": 960
        },
        "id": "9f7tud-lLpQh",
        "outputId": "79767fc7-a0f6-4fde-b3b1-e66162595235"
      },
      "outputs": [],
      "source": [
        "sigma = 3000.0\n",
        "mu = 0.0\n",
        "\n",
        "x_peak_1 = 1000\n",
        "y_peak_1 = -1000\n",
        "x_peak_2 = 4000\n",
        "y_peak_2 = -8000\n",
        "x1, y1 = np.meshgrid(np.linspace(0 - x_peak_1, 6000- x_peak_1, 100), np.linspace(-10000 - y_peak_1, 0 - y_peak_1, 100))\n",
        "d1 = np.sqrt(x1*x1 + y1*y1)\n",
        "g1 = np.exp(-((d1 - mu)**2 / (2.0 * sigma**2)))\n",
        "x2, y2 = np.meshgrid(np.linspace(0 - x_peak_2, 6000- x_peak_2, 100), np.linspace(-10000 - y_peak_2, 0 - y_peak_2, 100))\n",
        "d2 = np.sqrt(x2*x2 + y2*y2)\n",
        "g2 = np.exp(-((d2 - mu)**2 / (2.0 * sigma**2)))\n",
        "g = 5 * g1 - 8 * g2 - 30\n",
        "\n",
        "plt.imshow(g, extent=(-1000, 7000, -11000, 1000), origin='lower', cmap='viridis')\n",
        "plt.colorbar()\n",
        "plt.title('2D Gaussian Function')\n",
        "plt.show()\n",
        "\n",
        "x = np.linspace(-1000, 7000, 100)\n",
        "y = np.linspace(-11000, 1000, 100)\n",
        "\n",
        "f = RegularGridInterpolator((x, y), g)"
      ]
    },
    {
      "cell_type": "markdown",
      "metadata": {
        "id": "cavaG4n5LpQh"
      },
      "source": [
        "### Cables"
      ]
    },
    {
      "cell_type": "code",
      "execution_count": null,
      "metadata": {
        "colab": {
          "base_uri": "https://localhost:8080/",
          "height": 1000
        },
        "id": "7ZK0dIB-LpQh",
        "outputId": "a8223567-6f10-4a34-f4de-27a68a96404d"
      },
      "outputs": [],
      "source": [
        "x_ss_init = x_init.mean()\n",
        "y_ss_init = y_init.mean()\n",
        "turbines_pos=  np.column_stack((x_init, y_init))\n",
        "substations_pos =  np.column_stack((x_ss_init, y_ss_init))\n",
        "\n",
        "# 'obstacles' is an optional location attribute\n",
        "obstaclesC = []\n",
        "\n",
        "borderC = boundary\n",
        "\n",
        "cables = np.array([(3, 100),(5, 150), (10, 250)])\n",
        "\n",
        "wfn = WindFarmNetwork(turbinesC=turbines_pos, substationsC=substations_pos, cables=cables, borderC=borderC, buffer_dist=0.001)\n",
        "router = MetaHeuristic(time_limit=0.2)\n",
        "res_optimize= wfn.optimize(router=router)\n",
        "#G = wfn.optimize(turbines_pos)\n",
        "cable_cost_ref = wfn.cost() # euro\n",
        "cable_length_ref = wfn.length()  # m\n",
        "cost_per_length_ref = cable_cost_ref / cable_length_ref # euro / m\n",
        "\n",
        "wfn.plot()"
      ]
    },
    {
      "cell_type": "markdown",
      "metadata": {
        "id": "cttgjphJLpQi"
      },
      "source": [
        "### Economy"
      ]
    },
    {
      "cell_type": "code",
      "execution_count": null,
      "metadata": {
        "id": "ypyellyMLpQi"
      },
      "outputs": [],
      "source": [
        "Drotor_vector = [windTurbines.diameter()] * n_wt\n",
        "power_rated_vector = [float(windTurbines.power(20))*1e-6] * n_wt\n",
        "hub_height_vector = [windTurbines.hub_height()] * n_wt\n",
        "\n",
        "# add additional cost model inputs for shore distance, energy price, project lifetime, rated rotor speed and water depth\n",
        "distance_from_shore = 30         # [km]\n",
        "energy_price = 0.1               # [Euro/kWh] What we get per kWh\n",
        "project_duration = 25            # [years]\n",
        "rated_rpm_array = [12] * n_wt    # [rpm]\n",
        "simres = wfm(x_init, y_init)\n",
        "aep = simres.aep().values.sum()\n",
        "CF = aep / (windTurbines.power(20)*1e-9 * 24*365*n_wt)\n",
        "\n",
        "eco_eval = economic_evaluation(distance_from_shore, energy_price, project_duration)\n",
        "npv_ref = eco_eval.calculate_npv(rated_rpm_array, Drotor_vector, power_rated_vector, hub_height_vector, 30, aep/n_wt * np.ones(n_wt)*10**6, cabling_cost=cable_cost_ref)"
      ]
    },
    {
      "cell_type": "markdown",
      "metadata": {
        "id": "Bgxh71W4LpQi"
      },
      "source": [
        "### Python Functions"
      ]
    },
    {
      "cell_type": "code",
      "execution_count": null,
      "metadata": {
        "id": "Ps7c34HILpQi"
      },
      "outputs": [],
      "source": [
        "# Water Depth\n",
        "def water_depth_func(x, y, **kwargs):\n",
        "    xnew, ynew = np.meshgrid(x, y)\n",
        "    points = np.array([xnew.flatten(), ynew.flatten()]).T\n",
        "    return - np.diag(f(points).reshape(n_wt, n_wt).T)\n",
        "\n",
        "# Cables\n",
        "def cable_func(x, y, x_substation, y_substation, **kwargs):\n",
        "    try:\n",
        "        wfn.optimize(\n",
        "            turbinesC=np.column_stack((x, y)),\n",
        "            substationsC=np.column_stack((float(x_substation[0]), float(y_substation[0]))),\n",
        "            router=router\n",
        "        )\n",
        "        cost = wfn.cost()\n",
        "    except Exception as e:\n",
        "        print('Optimizer failed:', e)\n",
        "        print('Assuming cost=1e20')\n",
        "        cost = 1e20\n",
        "\n",
        "    return cost, {'cabling_length': wfn.length(), 'terse_links': wfn.terse_links()}\n",
        "\n",
        "# Economy\n",
        "def npv_func(AEP, water_depth, cabling_cost, **kwargs):\n",
        "    eco_eval.calculate_npv(rated_rpm_array, Drotor_vector, power_rated_vector, hub_height_vector, water_depth, AEP/n_wt * np.ones(n_wt)*10**6, cabling_cost=cabling_cost)\n",
        "    eco_eval.calculate_irr(rated_rpm_array, Drotor_vector, power_rated_vector, hub_height_vector, water_depth, AEP/n_wt * np.ones(n_wt)*10**6, cabling_cost=cabling_cost)\n",
        "    CAPEX = eco_eval.project_costs_sums[\"CAPEX\"]\n",
        "    OPEX = eco_eval.project_costs_sums[\"OPEX\"]\n",
        "    return eco_eval.NPV, {'irr': eco_eval.IRR,\n",
        "                          'OPEX': OPEX,\n",
        "                          'CAPEX': CAPEX,}\n"
      ]
    },
    {
      "cell_type": "markdown",
      "metadata": {
        "id": "8taQ5YRyLpQi"
      },
      "source": [
        "### Components"
      ]
    },
    {
      "cell_type": "code",
      "execution_count": null,
      "metadata": {
        "id": "st5x1JOeLpQi"
      },
      "outputs": [],
      "source": [
        "# Water Depth\n",
        "water_depth_component = CostModelComponent(input_keys=[('x', x_init),('y', y_init)],\n",
        "                                          n_wt=n_wt,\n",
        "                                          cost_function=water_depth_func,\n",
        "                                          objective=False,\n",
        "                                          output_keys=[('water_depth', np.zeros(n_wt))])\n",
        "\n",
        "# Cables\n",
        "cable_component = CostModelComponent(input_keys=[('x', x_init),('y', y_init), ('x_substation', x_ss_init), ('y_substation', y_ss_init)],\n",
        "                                     n_wt=n_wt,\n",
        "                                     cost_function=cable_func,\n",
        "                                     objective=False,\n",
        "                                     output_keys=[('cabling_cost', 0)],\n",
        "                                     additional_output = [\n",
        "                                                ('cabling_length', 0.0),\n",
        "                                                ('terse_links', np.zeros((30,)))\n",
        "                                                ])\n",
        "\n",
        "# Economy\n",
        "npv_comp = CostModelComponent(input_keys=[('AEP', 0), ('water_depth', 30*np.ones(n_wt)), ('cabling_cost', 100000)],\n",
        "                              n_wt=n_wt,\n",
        "                              cost_function=npv_func,\n",
        "                              objective=True,\n",
        "                              maximize=True,\n",
        "                              output_keys=[('npv', 0)],\n",
        "                              additional_output=[('irr', 0),\n",
        "                                                 ('CAPEX', 0),\n",
        "                                                 ('OPEX', 0)])\n",
        "\n",
        "# AEP\n",
        "aep_comp = PyWakeAEPCostModelComponent(wfm, n_wt, objective=False)"
      ]
    },
    {
      "cell_type": "markdown",
      "metadata": {
        "id": "MKJngAUaLpQj"
      },
      "source": [
        "### Problem Assembly"
      ]
    },
    {
      "cell_type": "code",
      "execution_count": null,
      "metadata": {
        "colab": {
          "base_uri": "https://localhost:8080/"
        },
        "id": "ynnnkWZ8LpQj",
        "outputId": "765cb88c-4a7d-4f6e-b737-9cd842ec6532"
      },
      "outputs": [],
      "source": [
        "cost_comp = TopFarmGroup([PyWakeAEPCostModelComponent(wfm, n_wt, objective=False), water_depth_component, cable_component, npv_comp])\n",
        "\n",
        "\n",
        "tf = TopFarmProblem(\n",
        "    design_vars=dict(zip('xy', initial.T), x_substation=x_ss_init, y_substation=y_ss_init),\n",
        "    cost_comp=cost_comp,\n",
        "    constraints=[XYBoundaryConstraint(boundary),\n",
        "                 SpacingConstraint(500)\n",
        "                 ],\n",
        "    driver=drivers[0],\n",
        "    plot_comp=XYPlotComp()\n",
        ")\n"
      ]
    },
    {
      "cell_type": "markdown",
      "metadata": {
        "id": "wwRKzJCsLpQj"
      },
      "source": [
        "### Optimize"
      ]
    },
    {
      "cell_type": "code",
      "execution_count": null,
      "metadata": {
        "colab": {
          "base_uri": "https://localhost:8080/",
          "height": 1000
        },
        "id": "kcRs3C8-LpQj",
        "outputId": "c897df90-3fd2-4463-dbc4-cff590e15981"
      },
      "outputs": [],
      "source": [
        "cost, _, recorder = tf.optimize()\n"
      ]
    },
    {
      "cell_type": "markdown",
      "metadata": {
        "id": "2cffw37fLpQj"
      },
      "source": [
        "### Plot"
      ]
    },
    {
      "cell_type": "code",
      "execution_count": null,
      "metadata": {
        "colab": {
          "base_uri": "https://localhost:8080/",
          "height": 1000
        },
        "id": "L7x9T8NkLpQj",
        "outputId": "2be2288b-350d-4045-e63c-df7391ffc650"
      },
      "outputs": [],
      "source": [
        "plot_list_recorder(recorder)"
      ]
    },
    {
      "cell_type": "markdown",
      "metadata": {},
      "source": [
        "### 🔄 Sync Final Network Layout from TopFarm to OptiWindNet\n",
        "\n",
        "After TopFarm completes the optimization, the latest cable routing results are stored in the `terse_links` attribute of the TopFarm model output.\n",
        "\n",
        "To apply the final cable layout back to the `wfn` (OptiWindNet) instance for further analysis or visualization, use:\n",
        "\n",
        "```python\n",
        "wfn.update_from_terse_links()\n"
      ]
    },
    {
      "cell_type": "code",
      "execution_count": null,
      "metadata": {
        "colab": {
          "base_uri": "https://localhost:8080/",
          "height": 1000
        },
        "id": "tPe7AO_XLpQj",
        "outputId": "5f4ad4ef-3a70-40ec-8cde-fcc0a3b4d480"
      },
      "outputs": [],
      "source": [
        "x_opt = recorder['x'][-1]\n",
        "y_opt = recorder['y'][-1]\n",
        "x_sub_opt = recorder['x_substation'][-1]\n",
        "y_sub_opt = recorder['y_substation'][-1]\n",
        "terse_links = recorder['terse_links'][-1]\n",
        "\n",
        "wfn.update_from_terse_links(terse_links=terse_links, turbinesC=np.column_stack((x_opt, y_opt)), substationsC= np.column_stack((float(x_sub_opt), float(y_sub_opt))))\n",
        "\n",
        "wfn.plot()\n"
      ]
    },
    {
      "cell_type": "markdown",
      "metadata": {},
      "source": [
        "Compare the result with optimization"
      ]
    },
    {
      "cell_type": "code",
      "execution_count": null,
      "metadata": {},
      "outputs": [],
      "source": [
        "wfn.optimize(turbinesC=np.column_stack((x_opt, y_opt)), substationsC= np.column_stack((float(x_sub_opt), float(y_sub_opt))))\n",
        "\n",
        "wfn.plot()"
      ]
    }
  ],
  "metadata": {
    "colab": {
      "provenance": []
    },
    "kernelspec": {
      "display_name": "OptiWindNet",
      "language": "python",
      "name": "python3"
    },
    "language_info": {
      "codemirror_mode": {
        "name": "ipython",
        "version": 3
      },
      "file_extension": ".py",
      "mimetype": "text/x-python",
      "name": "python",
      "nbconvert_exporter": "python",
      "pygments_lexer": "ipython3",
      "version": "3.12.9"
    },
    "toc": {
      "base_numbering": 1,
      "nav_menu": {},
      "number_sections": true,
      "sideBar": true,
      "skip_h1_title": false,
      "title_cell": "Table of Contents",
      "title_sidebar": "Contents",
      "toc_cell": false,
      "toc_position": {},
      "toc_section_display": true,
      "toc_window_display": true
    }
  },
  "nbformat": 4,
  "nbformat_minor": 0
}
