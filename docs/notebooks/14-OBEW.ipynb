{
 "cells": [
  {
   "cell_type": "markdown",
   "id": "3ce77085-3338-46b2-8784-de1187f43f25",
   "metadata": {},
   "source": [
    "## Obstacle-Bypassing Esau-Williams (OBEW) example"
   ]
  },
  {
   "cell_type": "markdown",
   "id": "10f37582-5d65-4a02-97c0-6d74eefe11e5",
   "metadata": {},
   "source": [
    "OBEW is a heuristic from *interarray* (*optiwindnet*'s predecessor). It takes in the raw location **L** and outputs the routeset **G**."
   ]
  },
  {
   "cell_type": "code",
   "execution_count": 1,
   "id": "672c7061-abbf-4da0-9236-232dde141ac9",
   "metadata": {},
   "outputs": [],
   "source": [
    "from optiwindnet.importer import load_repository\n",
    "from optiwindnet.svg import svgplot\n",
    "from optiwindnet.heuristics import OBEW\n",
    "from optiwindnet.interarraylib import calcload"
   ]
  },
  {
   "cell_type": "markdown",
   "id": "92bfd6df-c545-48d2-b4d0-e69a1a6c473b",
   "metadata": {},
   "source": [
    "### Load Galloper"
   ]
  },
  {
   "cell_type": "code",
   "execution_count": 2,
   "id": "51e1e821-a0ea-47c3-a197-4b625bbf3a3b",
   "metadata": {},
   "outputs": [],
   "source": [
    "locations = load_repository()"
   ]
  },
  {
   "cell_type": "code",
   "execution_count": 3,
   "id": "c751be23-18de-4f62-a717-59c72239bd2b",
   "metadata": {},
   "outputs": [],
   "source": [
    "L = locations.galloper"
   ]
  },
  {
   "cell_type": "code",
   "execution_count": 4,
   "id": "c3c0e36b-03b4-4640-b992-26c8dac8830a",
   "metadata": {},
   "outputs": [
    {
     "data": {
      "image/svg+xml": [
       "<svg xmlns=\"http://www.w3.org/2000/svg\" viewBox=\"0 0 1920 1080\"><defs><circle stroke=\"none\" stroke-width=\"2\" id=\"wtg\" r=\"12\"/><rect stroke=\"#111\" stroke-width=\"2\" id=\"oss\" width=\"21\" height=\"21\" fill=\"lawngreen\"/></defs><g id=\"galloper\"><path stroke=\"silver\" stroke-dasharray=\"15 7\" stroke-width=\"2\" id=\"border\" d=\"M102 1029 30 794 299 104 336 72 365 30 765 124 1196 348 1328 1050 296 786 221 1050z\" fill-rule=\"evenodd\" fill=\"#111\"/><g id=\"WTGgrp\"><g fill=\"#9edae5\"><use href=\"#wtg\" x=\"1235\" y=\"946\"/><use href=\"#wtg\" x=\"1151\" y=\"852\"/><use href=\"#wtg\" x=\"1111\" y=\"959\"/><use href=\"#wtg\" x=\"1044\" y=\"812\"/><use href=\"#wtg\" x=\"1005\" y=\"919\"/><use href=\"#wtg\" x=\"898\" y=\"880\"/><use href=\"#wtg\" x=\"938\" y=\"771\"/><use href=\"#wtg\" x=\"830\" y=\"732\"/><use href=\"#wtg\" x=\"1164\" y=\"491\"/><use href=\"#wtg\" x=\"1017\" y=\"558\"/><use href=\"#wtg\" x=\"1057\" y=\"450\"/><use href=\"#wtg\" x=\"1097\" y=\"343\"/><use href=\"#wtg\" x=\"990\" y=\"304\"/><use href=\"#wtg\" x=\"950\" y=\"411\"/><use href=\"#wtg\" x=\"910\" y=\"517\"/><use href=\"#wtg\" x=\"883\" y=\"264\"/><use href=\"#wtg\" x=\"843\" y=\"372\"/><use href=\"#wtg\" x=\"737\" y=\"332\"/><use href=\"#wtg\" x=\"696\" y=\"438\"/><use href=\"#wtg\" x=\"669\" y=\"185\"/><use href=\"#wtg\" x=\"562\" y=\"145\"/><use href=\"#wtg\" x=\"523\" y=\"252\"/><use href=\"#wtg\" x=\"482\" y=\"361\"/><use href=\"#wtg\" x=\"376\" y=\"319\"/><use href=\"#wtg\" x=\"416\" y=\"214\"/><use href=\"#wtg\" x=\"457\" y=\"106\"/><use href=\"#wtg\" x=\"369\" y=\"73\"/><use href=\"#wtg\" x=\"306\" y=\"177\"/><use href=\"#wtg\" x=\"269\" y=\"280\"/><use href=\"#wtg\" x=\"189\" y=\"493\"/><use href=\"#wtg\" x=\"364\" y=\"681\"/><use href=\"#wtg\" x=\"256\" y=\"639\"/><use href=\"#wtg\" x=\"146\" y=\"600\"/><use href=\"#wtg\" x=\"217\" y=\"747\"/><use href=\"#wtg\" x=\"110\" y=\"707\"/><use href=\"#wtg\" x=\"70\" y=\"814\"/><use href=\"#wtg\" x=\"177\" y=\"853\"/><use href=\"#wtg\" x=\"138\" y=\"959\"/></g></g><g id=\"OSSgrp\"><use href=\"#oss\" x=\"623.5\" y=\"711.5\"/></g></g></svg>"
      ],
      "text/plain": [
       "<optiwindnet.svg.SvgRepr at 0x1d6f9dccc80>"
      ]
     },
     "execution_count": 4,
     "metadata": {},
     "output_type": "execute_result"
    }
   ],
   "source": [
    "svgplot(L)"
   ]
  },
  {
   "cell_type": "markdown",
   "id": "c7d1dd72-c13b-4454-8754-9098e2faf9a8",
   "metadata": {},
   "source": [
    "### Optimize Galloper"
   ]
  },
  {
   "cell_type": "code",
   "execution_count": 5,
   "id": "37c0ec1f-bcc2-4025-92bc-613fdebbf1b1",
   "metadata": {},
   "outputs": [
    {
     "data": {
      "image/svg+xml": [
       "<svg xmlns=\"http://www.w3.org/2000/svg\" viewBox=\"0 0 1920 1080\"><defs><circle stroke=\"none\" stroke-width=\"2\" id=\"wtg\" r=\"12\"/><rect stroke=\"#111\" stroke-width=\"2\" id=\"oss\" width=\"21\" height=\"21\" fill=\"lawngreen\"/><filter x=\"-5%\" y=\"-5%\" id=\"bg_textbox\" width=\"110%\" height=\"110%\"><feFlood flood-opacity=\"0.6\" flood-color=\"black\" result=\"bg\"/><feMerge><feMergeNode in=\"bg\"/><feMergeNode in=\"SourceGraphic\"/></feMerge></filter></defs><g id=\"galloper\"><path stroke=\"silver\" stroke-dasharray=\"15 7\" stroke-width=\"2\" id=\"border\" d=\"M102 1029 30 794 299 104 336 72 365 30 765 124 1196 348 1328 1050 296 786 221 1050z\" fill-rule=\"evenodd\" fill=\"#111\"/><g stroke=\"crimson\" stroke-width=\"4\" id=\"edges_unspecified\"><line x1=\"1235\" y1=\"946\" x2=\"1111\" y2=\"959\"/><line x1=\"1151\" y1=\"852\" x2=\"1044\" y2=\"812\"/><line x1=\"1111\" y1=\"959\" x2=\"1005\" y2=\"919\"/><line x1=\"1044\" y1=\"812\" x2=\"938\" y2=\"771\"/><line x1=\"1005\" y1=\"919\" x2=\"898\" y2=\"880\"/><line x1=\"634\" y1=\"722\" x2=\"898\" y2=\"880\"/><line x1=\"634\" y1=\"722\" x2=\"938\" y2=\"771\"/><line x1=\"634\" y1=\"722\" x2=\"830\" y2=\"732\"/><line x1=\"830\" y1=\"732\" x2=\"1017\" y2=\"558\"/><line x1=\"1164\" y1=\"491\" x2=\"1057\" y2=\"450\"/><line x1=\"1017\" y1=\"558\" x2=\"1057\" y2=\"450\"/><line x1=\"1057\" y1=\"450\" x2=\"1097\" y2=\"343\"/><line x1=\"990\" y1=\"304\" x2=\"950\" y2=\"411\"/><line x1=\"950\" y1=\"411\" x2=\"910\" y2=\"517\"/><line x1=\"634\" y1=\"722\" x2=\"910\" y2=\"517\"/><line x1=\"883\" y1=\"264\" x2=\"843\" y2=\"372\"/><line x1=\"843\" y1=\"372\" x2=\"737\" y2=\"332\"/><line x1=\"737\" y1=\"332\" x2=\"696\" y2=\"438\"/><line x1=\"634\" y1=\"722\" x2=\"696\" y2=\"438\"/><line x1=\"669\" y1=\"185\" x2=\"562\" y2=\"145\"/><line x1=\"562\" y1=\"145\" x2=\"523\" y2=\"252\"/><line x1=\"523\" y1=\"252\" x2=\"482\" y2=\"361\"/><line x1=\"634\" y1=\"722\" x2=\"482\" y2=\"361\"/><line x1=\"634\" y1=\"722\" x2=\"376\" y2=\"319\"/><line x1=\"376\" y1=\"319\" x2=\"269\" y2=\"280\"/><line x1=\"376\" y1=\"319\" x2=\"416\" y2=\"214\"/><line x1=\"416\" y1=\"214\" x2=\"457\" y2=\"106\"/><line x1=\"457\" y1=\"106\" x2=\"369\" y2=\"73\"/><line x1=\"306\" y1=\"177\" x2=\"269\" y2=\"280\"/><line x1=\"189\" y1=\"493\" x2=\"146\" y2=\"600\"/><line x1=\"634\" y1=\"722\" x2=\"364\" y2=\"681\"/><line x1=\"364\" y1=\"681\" x2=\"217\" y2=\"747\"/><line x1=\"634\" y1=\"722\" x2=\"256\" y2=\"639\"/><line x1=\"256\" y1=\"639\" x2=\"146\" y2=\"600\"/><line x1=\"217\" y1=\"747\" x2=\"110\" y2=\"707\"/><line x1=\"217\" y1=\"747\" x2=\"177\" y2=\"853\"/><line x1=\"70\" y1=\"814\" x2=\"177\" y2=\"853\"/><line x1=\"177\" y1=\"853\" x2=\"138\" y2=\"959\"/></g><g id=\"WTGgrp\"><g fill=\"#1f77b4\"><use href=\"#wtg\" x=\"1235\" y=\"946\"/><use href=\"#wtg\" x=\"1111\" y=\"959\"/><use href=\"#wtg\" x=\"1005\" y=\"919\"/><use href=\"#wtg\" x=\"898\" y=\"880\"/></g><g fill=\"#ff7f0e\"><use href=\"#wtg\" x=\"1151\" y=\"852\"/><use href=\"#wtg\" x=\"1044\" y=\"812\"/><use href=\"#wtg\" x=\"938\" y=\"771\"/></g><g fill=\"#aec7e8\"><use href=\"#wtg\" x=\"830\" y=\"732\"/><use href=\"#wtg\" x=\"1164\" y=\"491\"/><use href=\"#wtg\" x=\"1017\" y=\"558\"/><use href=\"#wtg\" x=\"1057\" y=\"450\"/><use href=\"#wtg\" x=\"1097\" y=\"343\"/></g><g fill=\"#9467bd\"><use href=\"#wtg\" x=\"990\" y=\"304\"/><use href=\"#wtg\" x=\"950\" y=\"411\"/><use href=\"#wtg\" x=\"910\" y=\"517\"/></g><g fill=\"#2ca02c\"><use href=\"#wtg\" x=\"883\" y=\"264\"/><use href=\"#wtg\" x=\"843\" y=\"372\"/><use href=\"#wtg\" x=\"737\" y=\"332\"/><use href=\"#wtg\" x=\"696\" y=\"438\"/></g><g fill=\"#d62728\"><use href=\"#wtg\" x=\"669\" y=\"185\"/><use href=\"#wtg\" x=\"562\" y=\"145\"/><use href=\"#wtg\" x=\"523\" y=\"252\"/><use href=\"#wtg\" x=\"482\" y=\"361\"/></g><g fill=\"#ffbb78\"><use href=\"#wtg\" x=\"376\" y=\"319\"/><use href=\"#wtg\" x=\"416\" y=\"214\"/><use href=\"#wtg\" x=\"457\" y=\"106\"/><use href=\"#wtg\" x=\"369\" y=\"73\"/><use href=\"#wtg\" x=\"306\" y=\"177\"/><use href=\"#wtg\" x=\"269\" y=\"280\"/></g><g fill=\"#98df8a\"><use href=\"#wtg\" x=\"189\" y=\"493\"/><use href=\"#wtg\" x=\"256\" y=\"639\"/><use href=\"#wtg\" x=\"146\" y=\"600\"/></g><g fill=\"#ff9896\"><use href=\"#wtg\" x=\"364\" y=\"681\"/><use href=\"#wtg\" x=\"217\" y=\"747\"/><use href=\"#wtg\" x=\"110\" y=\"707\"/><use href=\"#wtg\" x=\"70\" y=\"814\"/><use href=\"#wtg\" x=\"177\" y=\"853\"/><use href=\"#wtg\" x=\"138\" y=\"959\"/></g></g><g id=\"OSSgrp\"><use href=\"#oss\" x=\"623.5\" y=\"711.5\"/></g></g><text filter=\"url(#bg_textbox)\" text-anchor=\"end\" font-family=\"sans-serif\" font-size=\"40\" fill=\"white\" x=\"1328\" y=\"1050\"><tspan x=\"1328\" dy=\"-0.0em\">&#931;&#955; = 61190.0 m</tspan><tspan x=\"1328\" dy=\"-1.3em\">(+2) &#945;: 9</tspan><tspan x=\"1328\" dy=\"-1.3em\">&#954; = 6, T = 38</tspan></text></svg>"
      ],
      "text/plain": [
       "<optiwindnet.svg.SvgRepr at 0x1d6f93620c0>"
      ]
     },
     "execution_count": 5,
     "metadata": {},
     "output_type": "execute_result"
    }
   ],
   "source": [
    "G = OBEW(L, capacity=6, rootlust='0.6*cur_capacity/capacity')\n",
    "calcload(G)\n",
    "svgplot(G)"
   ]
  }
 ],
 "metadata": {
  "language_info": {
   "name": "python"
  }
 },
 "nbformat": 4,
 "nbformat_minor": 5
}
