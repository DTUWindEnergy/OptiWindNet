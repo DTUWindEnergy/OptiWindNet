{
 "cells": [
  {
   "cell_type": "markdown",
   "id": "3ce77085-3338-46b2-8784-de1187f43f25",
   "metadata": {},
   "source": [
    "## Obstacle-Bypassing Esau-Williams (OBEW) example"
   ]
  },
  {
   "cell_type": "markdown",
   "id": "10f37582-5d65-4a02-97c0-6d74eefe11e5",
   "metadata": {},
   "source": [
    "OBEW is a heuristic from *interarray* (*optiwindnet*'s predecessor). It takes in the raw location **L** and outputs the routeset **G**."
   ]
  },
  {
   "cell_type": "code",
   "execution_count": 1,
   "id": "672c7061-abbf-4da0-9236-232dde141ac9",
   "metadata": {},
   "outputs": [],
   "source": [
    "from optiwindnet.importer import load_repository\n",
    "from optiwindnet.svg import svgplot\n",
    "from optiwindnet.heuristics import OBEW\n",
    "from optiwindnet.interarraylib import calcload"
   ]
  },
  {
   "cell_type": "markdown",
   "id": "92bfd6df-c545-48d2-b4d0-e69a1a6c473b",
   "metadata": {},
   "source": [
    "### Load Borkum Riffgrund 2"
   ]
  },
  {
   "cell_type": "code",
   "execution_count": 2,
   "id": "51e1e821-a0ea-47c3-a197-4b625bbf3a3b",
   "metadata": {},
   "outputs": [],
   "source": [
    "locations = load_repository()"
   ]
  },
  {
   "cell_type": "code",
   "execution_count": 3,
   "id": "41408572-c6d3-4e23-aab5-a8ae52c9a2d7",
   "metadata": {},
   "outputs": [],
   "source": [
    "L = locations.borkum2"
   ]
  },
  {
   "cell_type": "code",
   "execution_count": 4,
   "id": "c3c0e36b-03b4-4640-b992-26c8dac8830a",
   "metadata": {},
   "outputs": [
    {
     "data": {
      "image/svg+xml": [
       "<svg xmlns=\"http://www.w3.org/2000/svg\" viewBox=\"0 0 1920 910\"><defs><circle stroke=\"none\" stroke-width=\"2\" id=\"wtg\" r=\"12\"/><rect stroke=\"#111\" stroke-width=\"2\" id=\"oss\" width=\"21\" height=\"21\" fill=\"lawngreen\"/></defs><g id=\"borkum2\"><path stroke=\"silver\" stroke-dasharray=\"15 7\" stroke-width=\"2\" id=\"border\" d=\"M134 209 372 30 472 163 533 244 641 293 700 371 984 308 1510 317 1890 42 1821 127 1482 538 1268 798 1190 880 1087 854 556 717 473 695 345 648 230 604 163 523 96 442 30 361z\" fill-rule=\"evenodd\" fill=\"#111\"/><g id=\"WTGgrp\"><g fill=\"#9edae5\"><use href=\"#wtg\" x=\"30\" y=\"361\"/><use href=\"#wtg\" x=\"96\" y=\"442\"/><use href=\"#wtg\" x=\"163\" y=\"523\"/><use href=\"#wtg\" x=\"230\" y=\"604\"/><use href=\"#wtg\" x=\"178\" y=\"381\"/><use href=\"#wtg\" x=\"241\" y=\"465\"/><use href=\"#wtg\" x=\"306\" y=\"547\"/><use href=\"#wtg\" x=\"345\" y=\"648\"/><use href=\"#wtg\" x=\"134\" y=\"209\"/><use href=\"#wtg\" x=\"388\" y=\"485\"/><use href=\"#wtg\" x=\"473\" y=\"695\"/><use href=\"#wtg\" x=\"556\" y=\"717\"/><use href=\"#wtg\" x=\"214\" y=\"149\"/><use href=\"#wtg\" x=\"348\" y=\"256\"/><use href=\"#wtg\" x=\"473\" y=\"421\"/><use href=\"#wtg\" x=\"573\" y=\"609\"/><use href=\"#wtg\" x=\"730\" y=\"761\"/><use href=\"#wtg\" x=\"372\" y=\"30\"/><use href=\"#wtg\" x=\"472\" y=\"163\"/><use href=\"#wtg\" x=\"533\" y=\"244\"/><use href=\"#wtg\" x=\"620\" y=\"441\"/><use href=\"#wtg\" x=\"713\" y=\"637\"/><use href=\"#wtg\" x=\"814\" y=\"698\"/><use href=\"#wtg\" x=\"865\" y=\"796\"/><use href=\"#wtg\" x=\"641\" y=\"293\"/><use href=\"#wtg\" x=\"700\" y=\"371\"/><use href=\"#wtg\" x=\"964\" y=\"721\"/><use href=\"#wtg\" x=\"985\" y=\"827\"/><use href=\"#wtg\" x=\"1087\" y=\"854\"/><use href=\"#wtg\" x=\"917\" y=\"483\"/><use href=\"#wtg\" x=\"983\" y=\"570\"/><use href=\"#wtg\" x=\"1049\" y=\"658\"/><use href=\"#wtg\" x=\"1115\" y=\"745\"/><use href=\"#wtg\" x=\"1190\" y=\"880\"/><use href=\"#wtg\" x=\"1268\" y=\"798\"/><use href=\"#wtg\" x=\"984\" y=\"308\"/><use href=\"#wtg\" x=\"1086\" y=\"356\"/><use href=\"#wtg\" x=\"1152\" y=\"443\"/><use href=\"#wtg\" x=\"1218\" y=\"530\"/><use href=\"#wtg\" x=\"1284\" y=\"618\"/><use href=\"#wtg\" x=\"1348\" y=\"702\"/><use href=\"#wtg\" x=\"1415\" y=\"620\"/><use href=\"#wtg\" x=\"1321\" y=\"316\"/><use href=\"#wtg\" x=\"1419\" y=\"407\"/><use href=\"#wtg\" x=\"1482\" y=\"538\"/><use href=\"#wtg\" x=\"1510\" y=\"317\"/><use href=\"#wtg\" x=\"1550\" y=\"456\"/><use href=\"#wtg\" x=\"1617\" y=\"375\"/><use href=\"#wtg\" x=\"1685\" y=\"293\"/><use href=\"#wtg\" x=\"1752\" y=\"211\"/><use href=\"#wtg\" x=\"1821\" y=\"127\"/><use href=\"#wtg\" x=\"1890\" y=\"42\"/></g></g><g id=\"OSSgrp\"><use href=\"#oss\" x=\"683.5\" y=\"440.5\"/></g></g></svg>"
      ],
      "text/plain": [
       "<optiwindnet.svg.SvgRepr at 0x2bcdb4e25d0>"
      ]
     },
     "execution_count": 4,
     "metadata": {},
     "output_type": "execute_result"
    }
   ],
   "source": [
    "svgplot(L)"
   ]
  },
  {
   "cell_type": "markdown",
   "id": "c7d1dd72-c13b-4454-8754-9098e2faf9a8",
   "metadata": {},
   "source": [
    "### Optimize Borkum Riffgrund 2"
   ]
  },
  {
   "cell_type": "code",
   "execution_count": 5,
   "id": "3d594b43-7577-4f04-99d8-2d369dc95d30",
   "metadata": {},
   "outputs": [
    {
     "data": {
      "image/svg+xml": [
       "<svg xmlns=\"http://www.w3.org/2000/svg\" viewBox=\"0 0 1920 910\"><defs><circle stroke=\"orange\" stroke-opacity=\"0.3\" stroke-width=\"4\" id=\"dt\" r=\"23\" fill=\"none\"/><circle stroke=\"none\" stroke-width=\"2\" id=\"wtg\" r=\"12\"/><rect stroke=\"#111\" stroke-width=\"2\" id=\"oss\" width=\"21\" height=\"21\" fill=\"lawngreen\"/><filter x=\"-5%\" y=\"-5%\" id=\"bg_textbox\" width=\"110%\" height=\"110%\"><feFlood flood-opacity=\"0.6\" flood-color=\"black\" result=\"bg\"/><feMerge><feMergeNode in=\"bg\"/><feMergeNode in=\"SourceGraphic\"/></feMerge></filter></defs><g id=\"borkum2\"><path stroke=\"silver\" stroke-dasharray=\"15 7\" stroke-width=\"2\" id=\"border\" d=\"M134 209 372 30 472 163 533 244 641 293 700 371 984 308 1510 317 1890 42 1821 127 1482 538 1268 798 1190 880 1087 854 556 717 473 695 345 648 230 604 163 523 96 442 30 361z\" fill-rule=\"evenodd\" fill=\"#111\"/><g stroke=\"crimson\" stroke-width=\"4\" id=\"edges_unspecified\"><line x1=\"30\" y1=\"361\" x2=\"96\" y2=\"442\"/><line x1=\"96\" y1=\"442\" x2=\"178\" y2=\"381\"/><line x1=\"163\" y1=\"523\" x2=\"241\" y2=\"465\"/><line x1=\"230\" y1=\"604\" x2=\"306\" y2=\"547\"/><line x1=\"178\" y1=\"381\" x2=\"241\" y2=\"465\"/><line x1=\"241\" y1=\"465\" x2=\"388\" y2=\"485\"/><line x1=\"306\" y1=\"547\" x2=\"345\" y2=\"648\"/><line x1=\"345\" y1=\"648\" x2=\"473\" y2=\"695\"/><line x1=\"134\" y1=\"209\" x2=\"214\" y2=\"149\"/><line x1=\"694\" y1=\"451\" x2=\"388\" y2=\"485\"/><line x1=\"473\" y1=\"695\" x2=\"556\" y2=\"717\"/><line x1=\"556\" y1=\"717\" x2=\"573\" y2=\"609\"/><line x1=\"214\" y1=\"149\" x2=\"348\" y2=\"256\"/><line x1=\"348\" y1=\"256\" x2=\"533\" y2=\"244\"/><line x1=\"473\" y1=\"421\" x2=\"620\" y2=\"441\"/><line x1=\"694\" y1=\"451\" x2=\"573\" y2=\"609\"/><line x1=\"730\" y1=\"761\" x2=\"814\" y2=\"698\"/><line x1=\"372\" y1=\"30\" x2=\"472\" y2=\"163\"/><line x1=\"472\" y1=\"163\" x2=\"533\" y2=\"244\"/><line x1=\"694\" y1=\"451\" x2=\"620\" y2=\"441\"/><line x1=\"620\" y1=\"441\" x2=\"641\" y2=\"293\"/><line x1=\"694\" y1=\"451\" x2=\"713\" y2=\"637\"/><line x1=\"713\" y1=\"637\" x2=\"814\" y2=\"698\"/><line x1=\"814\" y1=\"698\" x2=\"865\" y2=\"796\"/><line x1=\"694\" y1=\"451\" x2=\"700\" y2=\"371\"/><line x1=\"700\" y1=\"371\" x2=\"984\" y2=\"308\"/><line x1=\"694\" y1=\"451\" x2=\"964\" y2=\"721\"/><line x1=\"964\" y1=\"721\" x2=\"985\" y2=\"827\"/><line x1=\"985\" y1=\"827\" x2=\"1087\" y2=\"854\"/><line x1=\"1087\" y1=\"854\" x2=\"1190\" y2=\"880\"/><line x1=\"694\" y1=\"451\" x2=\"917\" y2=\"483\"/><line x1=\"917\" y1=\"483\" x2=\"983\" y2=\"570\"/><line x1=\"983\" y1=\"570\" x2=\"1049\" y2=\"658\"/><line x1=\"1049\" y1=\"658\" x2=\"1115\" y2=\"745\"/><line x1=\"1190\" y1=\"880\" x2=\"1268\" y2=\"798\"/><line x1=\"984\" y1=\"308\" x2=\"1086\" y2=\"356\"/><line x1=\"1086\" y1=\"356\" x2=\"1152\" y2=\"443\"/><line x1=\"1152\" y1=\"443\" x2=\"1321\" y2=\"316\"/><line x1=\"1218\" y1=\"530\" x2=\"1284\" y2=\"618\"/><line x1=\"1284\" y1=\"618\" x2=\"1415\" y2=\"620\"/><line x1=\"1284\" y1=\"618\" x2=\"1348\" y2=\"702\"/><line x1=\"1415\" y1=\"620\" x2=\"1482\" y2=\"538\"/><line x1=\"1321\" y1=\"316\" x2=\"1419\" y2=\"407\"/><line x1=\"1482\" y1=\"538\" x2=\"1550\" y2=\"456\"/><line x1=\"1510\" y1=\"317\" x2=\"1617\" y2=\"375\"/><line x1=\"1617\" y1=\"375\" x2=\"1685\" y2=\"293\"/><line x1=\"1685\" y1=\"293\" x2=\"1752\" y2=\"211\"/><line x1=\"1752\" y1=\"211\" x2=\"1821\" y2=\"127\"/><line x1=\"1821\" y1=\"127\" x2=\"1890\" y2=\"42\"/></g><g stroke=\"darkorange\" stroke-dasharray=\"18 15\" stroke-width=\"4\" id=\"detours\" fill=\"none\"><polyline points=\"694 451 1152 443 1419 407 1510 317\"/><polyline points=\"694 451 917 483 1218 530\"/><polyline points=\"694 451 641 293 533 244\"/></g><g id=\"DTgrp\"><use href=\"#dt\" x=\"1152\" y=\"443\"/><use href=\"#dt\" x=\"917\" y=\"483\"/><use href=\"#dt\" x=\"1419\" y=\"407\"/><use href=\"#dt\" x=\"641\" y=\"293\"/></g><g id=\"WTGgrp\"><g fill=\"#1f77b4\"><use href=\"#wtg\" x=\"30\" y=\"361\"/><use href=\"#wtg\" x=\"96\" y=\"442\"/><use href=\"#wtg\" x=\"163\" y=\"523\"/><use href=\"#wtg\" x=\"178\" y=\"381\"/><use href=\"#wtg\" x=\"241\" y=\"465\"/><use href=\"#wtg\" x=\"388\" y=\"485\"/></g><g fill=\"#aec7e8\"><use href=\"#wtg\" x=\"230\" y=\"604\"/><use href=\"#wtg\" x=\"306\" y=\"547\"/><use href=\"#wtg\" x=\"345\" y=\"648\"/><use href=\"#wtg\" x=\"473\" y=\"695\"/><use href=\"#wtg\" x=\"556\" y=\"717\"/><use href=\"#wtg\" x=\"573\" y=\"609\"/></g><g fill=\"#c5b0d5\"><use href=\"#wtg\" x=\"134\" y=\"209\"/><use href=\"#wtg\" x=\"214\" y=\"149\"/><use href=\"#wtg\" x=\"348\" y=\"256\"/><use href=\"#wtg\" x=\"372\" y=\"30\"/><use href=\"#wtg\" x=\"472\" y=\"163\"/><use href=\"#wtg\" x=\"533\" y=\"244\"/></g><g fill=\"#ff7f0e\"><use href=\"#wtg\" x=\"473\" y=\"421\"/><use href=\"#wtg\" x=\"620\" y=\"441\"/><use href=\"#wtg\" x=\"641\" y=\"293\"/></g><g fill=\"#ffbb78\"><use href=\"#wtg\" x=\"730\" y=\"761\"/><use href=\"#wtg\" x=\"713\" y=\"637\"/><use href=\"#wtg\" x=\"814\" y=\"698\"/><use href=\"#wtg\" x=\"865\" y=\"796\"/></g><g fill=\"#2ca02c\"><use href=\"#wtg\" x=\"700\" y=\"371\"/><use href=\"#wtg\" x=\"984\" y=\"308\"/><use href=\"#wtg\" x=\"1086\" y=\"356\"/><use href=\"#wtg\" x=\"1152\" y=\"443\"/><use href=\"#wtg\" x=\"1321\" y=\"316\"/><use href=\"#wtg\" x=\"1419\" y=\"407\"/></g><g fill=\"#98df8a\"><use href=\"#wtg\" x=\"964\" y=\"721\"/><use href=\"#wtg\" x=\"985\" y=\"827\"/><use href=\"#wtg\" x=\"1087\" y=\"854\"/><use href=\"#wtg\" x=\"1190\" y=\"880\"/><use href=\"#wtg\" x=\"1268\" y=\"798\"/></g><g fill=\"#d62728\"><use href=\"#wtg\" x=\"917\" y=\"483\"/><use href=\"#wtg\" x=\"983\" y=\"570\"/><use href=\"#wtg\" x=\"1049\" y=\"658\"/><use href=\"#wtg\" x=\"1115\" y=\"745\"/></g><g fill=\"#9467bd\"><use href=\"#wtg\" x=\"1218\" y=\"530\"/><use href=\"#wtg\" x=\"1284\" y=\"618\"/><use href=\"#wtg\" x=\"1348\" y=\"702\"/><use href=\"#wtg\" x=\"1415\" y=\"620\"/><use href=\"#wtg\" x=\"1482\" y=\"538\"/><use href=\"#wtg\" x=\"1550\" y=\"456\"/></g><g fill=\"#ff9896\"><use href=\"#wtg\" x=\"1510\" y=\"317\"/><use href=\"#wtg\" x=\"1617\" y=\"375\"/><use href=\"#wtg\" x=\"1685\" y=\"293\"/><use href=\"#wtg\" x=\"1752\" y=\"211\"/><use href=\"#wtg\" x=\"1821\" y=\"127\"/><use href=\"#wtg\" x=\"1890\" y=\"42\"/></g></g><g id=\"OSSgrp\"><use href=\"#oss\" x=\"683.5\" y=\"440.5\"/></g></g><text filter=\"url(#bg_textbox)\" text-anchor=\"end\" font-family=\"sans-serif\" font-size=\"40\" fill=\"white\" x=\"1890\" y=\"880\"><tspan x=\"1890\" dy=\"-0.0em\">&#931;&#955; = 58916.0 m</tspan><tspan x=\"1890\" dy=\"-1.3em\">(+1) OSS: 10</tspan><tspan x=\"1890\" dy=\"-1.3em\">&#954; = 6, T = 52</tspan></text></svg>"
      ],
      "text/plain": [
       "<optiwindnet.svg.SvgRepr at 0x2bcdc512270>"
      ]
     },
     "execution_count": 5,
     "metadata": {},
     "output_type": "execute_result"
    }
   ],
   "source": [
    "G = OBEW(L, capacity=6, rootlust='0.6*cur_capacity/capacity')\n",
    "calcload(G)\n",
    "svgplot(G)"
   ]
  },
  {
   "cell_type": "code",
   "execution_count": 6,
   "id": "b3122f33-df88-4357-9383-161c2db9f7aa",
   "metadata": {},
   "outputs": [
    {
     "data": {
      "image/svg+xml": [
       "<svg xmlns=\"http://www.w3.org/2000/svg\" viewBox=\"0 0 1920 910\"><defs><circle stroke=\"orange\" stroke-opacity=\"0.3\" stroke-width=\"4\" id=\"dt\" r=\"23\" fill=\"none\"/><circle stroke=\"none\" stroke-width=\"2\" id=\"wtg\" r=\"12\"/><rect stroke=\"#111\" stroke-width=\"2\" id=\"oss\" width=\"21\" height=\"21\" fill=\"lawngreen\"/><filter x=\"-5%\" y=\"-5%\" id=\"bg_textbox\" width=\"110%\" height=\"110%\"><feFlood flood-opacity=\"0.6\" flood-color=\"black\" result=\"bg\"/><feMerge><feMergeNode in=\"bg\"/><feMergeNode in=\"SourceGraphic\"/></feMerge></filter></defs><g id=\"borkum2\"><path stroke=\"silver\" stroke-dasharray=\"15 7\" stroke-width=\"2\" id=\"border\" d=\"M134 209 372 30 472 163 533 244 641 293 700 371 984 308 1510 317 1890 42 1821 127 1482 538 1268 798 1190 880 1087 854 556 717 473 695 345 648 230 604 163 523 96 442 30 361z\" fill-rule=\"evenodd\" fill=\"#111\"/><g stroke=\"crimson\" stroke-width=\"4\" id=\"edges_unspecified\"><line x1=\"30\" y1=\"361\" x2=\"96\" y2=\"442\"/><line x1=\"96\" y1=\"442\" x2=\"178\" y2=\"381\"/><line x1=\"163\" y1=\"523\" x2=\"241\" y2=\"465\"/><line x1=\"230\" y1=\"604\" x2=\"306\" y2=\"547\"/><line x1=\"178\" y1=\"381\" x2=\"241\" y2=\"465\"/><line x1=\"241\" y1=\"465\" x2=\"388\" y2=\"485\"/><line x1=\"306\" y1=\"547\" x2=\"345\" y2=\"648\"/><line x1=\"345\" y1=\"648\" x2=\"473\" y2=\"695\"/><line x1=\"134\" y1=\"209\" x2=\"214\" y2=\"149\"/><line x1=\"694\" y1=\"451\" x2=\"388\" y2=\"485\"/><line x1=\"473\" y1=\"695\" x2=\"556\" y2=\"717\"/><line x1=\"556\" y1=\"717\" x2=\"573\" y2=\"609\"/><line x1=\"214\" y1=\"149\" x2=\"348\" y2=\"256\"/><line x1=\"348\" y1=\"256\" x2=\"472\" y2=\"163\"/><line x1=\"473\" y1=\"421\" x2=\"620\" y2=\"441\"/><line x1=\"694\" y1=\"451\" x2=\"573\" y2=\"609\"/><line x1=\"730\" y1=\"761\" x2=\"814\" y2=\"698\"/><line x1=\"372\" y1=\"30\" x2=\"472\" y2=\"163\"/><line x1=\"472\" y1=\"163\" x2=\"533\" y2=\"244\"/><line x1=\"694\" y1=\"451\" x2=\"533\" y2=\"244\"/><line x1=\"694\" y1=\"451\" x2=\"620\" y2=\"441\"/><line x1=\"694\" y1=\"451\" x2=\"713\" y2=\"637\"/><line x1=\"713\" y1=\"637\" x2=\"814\" y2=\"698\"/><line x1=\"814\" y1=\"698\" x2=\"865\" y2=\"796\"/><line x1=\"641\" y1=\"293\" x2=\"700\" y2=\"371\"/><line x1=\"694\" y1=\"451\" x2=\"700\" y2=\"371\"/><line x1=\"694\" y1=\"451\" x2=\"964\" y2=\"721\"/><line x1=\"964\" y1=\"721\" x2=\"985\" y2=\"827\"/><line x1=\"985\" y1=\"827\" x2=\"1087\" y2=\"854\"/><line x1=\"1087\" y1=\"854\" x2=\"1190\" y2=\"880\"/><line x1=\"694\" y1=\"451\" x2=\"917\" y2=\"483\"/><line x1=\"917\" y1=\"483\" x2=\"983\" y2=\"570\"/><line x1=\"983\" y1=\"570\" x2=\"1049\" y2=\"658\"/><line x1=\"1049\" y1=\"658\" x2=\"1115\" y2=\"745\"/><line x1=\"1190\" y1=\"880\" x2=\"1268\" y2=\"798\"/><line x1=\"694\" y1=\"451\" x2=\"984\" y2=\"308\"/><line x1=\"984\" y1=\"308\" x2=\"1086\" y2=\"356\"/><line x1=\"1086\" y1=\"356\" x2=\"1152\" y2=\"443\"/><line x1=\"1152\" y1=\"443\" x2=\"1321\" y2=\"316\"/><line x1=\"1218\" y1=\"530\" x2=\"1284\" y2=\"618\"/><line x1=\"1284\" y1=\"618\" x2=\"1348\" y2=\"702\"/><line x1=\"1348\" y1=\"702\" x2=\"1415\" y2=\"620\"/><line x1=\"1415\" y1=\"620\" x2=\"1482\" y2=\"538\"/><line x1=\"1321\" y1=\"316\" x2=\"1419\" y2=\"407\"/><line x1=\"1419\" y1=\"407\" x2=\"1510\" y2=\"317\"/><line x1=\"694\" y1=\"451\" x2=\"1550\" y2=\"456\"/><line x1=\"1550\" y1=\"456\" x2=\"1617\" y2=\"375\"/><line x1=\"1617\" y1=\"375\" x2=\"1685\" y2=\"293\"/><line x1=\"1685\" y1=\"293\" x2=\"1752\" y2=\"211\"/><line x1=\"1752\" y1=\"211\" x2=\"1821\" y2=\"127\"/><line x1=\"1821\" y1=\"127\" x2=\"1890\" y2=\"42\"/></g><g stroke=\"darkorange\" stroke-dasharray=\"18 15\" stroke-width=\"4\" id=\"detours\" fill=\"none\"><polyline points=\"694 451 917 483 1218 530\"/></g><g id=\"DTgrp\"><use href=\"#dt\" x=\"917\" y=\"483\"/></g><g id=\"WTGgrp\"><g fill=\"#1f77b4\"><use href=\"#wtg\" x=\"30\" y=\"361\"/><use href=\"#wtg\" x=\"96\" y=\"442\"/><use href=\"#wtg\" x=\"163\" y=\"523\"/><use href=\"#wtg\" x=\"178\" y=\"381\"/><use href=\"#wtg\" x=\"241\" y=\"465\"/><use href=\"#wtg\" x=\"388\" y=\"485\"/></g><g fill=\"#aec7e8\"><use href=\"#wtg\" x=\"230\" y=\"604\"/><use href=\"#wtg\" x=\"306\" y=\"547\"/><use href=\"#wtg\" x=\"345\" y=\"648\"/><use href=\"#wtg\" x=\"473\" y=\"695\"/><use href=\"#wtg\" x=\"556\" y=\"717\"/><use href=\"#wtg\" x=\"573\" y=\"609\"/></g><g fill=\"#ff7f0e\"><use href=\"#wtg\" x=\"134\" y=\"209\"/><use href=\"#wtg\" x=\"214\" y=\"149\"/><use href=\"#wtg\" x=\"348\" y=\"256\"/><use href=\"#wtg\" x=\"372\" y=\"30\"/><use href=\"#wtg\" x=\"472\" y=\"163\"/><use href=\"#wtg\" x=\"533\" y=\"244\"/></g><g fill=\"#ffbb78\"><use href=\"#wtg\" x=\"473\" y=\"421\"/><use href=\"#wtg\" x=\"620\" y=\"441\"/></g><g fill=\"#2ca02c\"><use href=\"#wtg\" x=\"730\" y=\"761\"/><use href=\"#wtg\" x=\"713\" y=\"637\"/><use href=\"#wtg\" x=\"814\" y=\"698\"/><use href=\"#wtg\" x=\"865\" y=\"796\"/></g><g fill=\"#98df8a\"><use href=\"#wtg\" x=\"641\" y=\"293\"/><use href=\"#wtg\" x=\"700\" y=\"371\"/></g><g fill=\"#d62728\"><use href=\"#wtg\" x=\"964\" y=\"721\"/><use href=\"#wtg\" x=\"985\" y=\"827\"/><use href=\"#wtg\" x=\"1087\" y=\"854\"/><use href=\"#wtg\" x=\"1190\" y=\"880\"/><use href=\"#wtg\" x=\"1268\" y=\"798\"/></g><g fill=\"#ff9896\"><use href=\"#wtg\" x=\"917\" y=\"483\"/><use href=\"#wtg\" x=\"983\" y=\"570\"/><use href=\"#wtg\" x=\"1049\" y=\"658\"/><use href=\"#wtg\" x=\"1115\" y=\"745\"/></g><g fill=\"#9467bd\"><use href=\"#wtg\" x=\"984\" y=\"308\"/><use href=\"#wtg\" x=\"1086\" y=\"356\"/><use href=\"#wtg\" x=\"1152\" y=\"443\"/><use href=\"#wtg\" x=\"1321\" y=\"316\"/><use href=\"#wtg\" x=\"1419\" y=\"407\"/><use href=\"#wtg\" x=\"1510\" y=\"317\"/></g><g fill=\"#8c564b\"><use href=\"#wtg\" x=\"1218\" y=\"530\"/><use href=\"#wtg\" x=\"1284\" y=\"618\"/><use href=\"#wtg\" x=\"1348\" y=\"702\"/><use href=\"#wtg\" x=\"1415\" y=\"620\"/><use href=\"#wtg\" x=\"1482\" y=\"538\"/></g><g fill=\"#c5b0d5\"><use href=\"#wtg\" x=\"1550\" y=\"456\"/><use href=\"#wtg\" x=\"1617\" y=\"375\"/><use href=\"#wtg\" x=\"1685\" y=\"293\"/><use href=\"#wtg\" x=\"1752\" y=\"211\"/><use href=\"#wtg\" x=\"1821\" y=\"127\"/><use href=\"#wtg\" x=\"1890\" y=\"42\"/></g></g><g id=\"OSSgrp\"><use href=\"#oss\" x=\"683.5\" y=\"440.5\"/></g></g><text filter=\"url(#bg_textbox)\" text-anchor=\"end\" font-family=\"sans-serif\" font-size=\"40\" fill=\"white\" x=\"1890\" y=\"880\"><tspan x=\"1890\" dy=\"-0.0em\">&#931;&#955; = 58275.0 m</tspan><tspan x=\"1890\" dy=\"-1.3em\">(+2) OSS: 11</tspan><tspan x=\"1890\" dy=\"-1.3em\">&#954; = 6, T = 52</tspan></text></svg>"
      ],
      "text/plain": [
       "<optiwindnet.svg.SvgRepr at 0x2bcdc06d340>"
      ]
     },
     "execution_count": 6,
     "metadata": {},
     "output_type": "execute_result"
    }
   ],
   "source": [
    "G = OBEW(L, capacity=6)\n",
    "calcload(G)\n",
    "svgplot(G)"
   ]
  }
 ],
 "metadata": {
  "language_info": {
   "name": "python"
  }
 },
 "nbformat": 4,
 "nbformat_minor": 5
}
