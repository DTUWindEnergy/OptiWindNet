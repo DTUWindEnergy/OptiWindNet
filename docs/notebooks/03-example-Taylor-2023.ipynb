{
 "cells": [
  {
   "cell_type": "markdown",
   "id": "20e88a37-648d-44f2-a4cc-83e2e7385bc1",
   "metadata": {},
   "source": [
    "## Example -- Taylor 2023"
   ]
  },
  {
   "cell_type": "markdown",
   "id": "3da71e0a-3861-4a7c-8eaa-de84bce11338",
   "metadata": {},
   "source": [
    "Example of using `optiwindnet` for routing the cables of a wind farm location with 122 turbines and 2 substations, which has a concave cable-laying area and one obstacle within that area.\n",
    "\n",
    "Additional complexity on the geometry of the location has negligible impact on the solving time, as it does not increase the number of variables in the MILP model."
   ]
  },
  {
   "cell_type": "code",
   "execution_count": 1,
   "id": "e1d9344f-da3c-4aa4-b677-f6201323a5b7",
   "metadata": {},
   "outputs": [],
   "source": [
    "import pyomo.environ as pyo"
   ]
  },
  {
   "cell_type": "code",
   "execution_count": 2,
   "id": "a1ae5f35-904c-48de-a19a-4be303e46327",
   "metadata": {},
   "outputs": [],
   "source": [
    "from optiwindnet.importer import load_repository\n",
    "from optiwindnet.svg import svgplot\n",
    "from optiwindnet.interarraylib import G_from_S\n",
    "from optiwindnet.mesh import make_planar_embedding\n",
    "from optiwindnet.pathfinding import PathFinder\n",
    "from optiwindnet.heuristics import EW_presolver\n",
    "import optiwindnet.MILP.pyomo as omo"
   ]
  },
  {
   "cell_type": "markdown",
   "id": "c9f89a60-cb04-48b3-95f3-2862071f1917",
   "metadata": {},
   "source": [
    "### Solvers"
   ]
  },
  {
   "cell_type": "markdown",
   "id": "6a94f031-892d-4043-95e2-7a2aa325ec57",
   "metadata": {},
   "source": [
    "Using a MILP solver can produce better solutions. This notebook uses COIN-OR CBC but examples for other solvers can be found in the *MILP* notebooks.\n",
    "\n",
    "There are some differences in solver parameters even for the ones supported through pyomo.\n",
    "\n",
    "Gurobi and IBM ILOG CPLEX are comercial solvers (academic license available). Google's OR-Tools, COIN-OR CBC, SCIP and HiGHS are open-source software."
   ]
  },
  {
   "cell_type": "code",
   "execution_count": 3,
   "id": "785a2d76-b27a-4b4d-8075-d3deae96472a",
   "metadata": {},
   "outputs": [
    {
     "data": {
      "text/plain": [
       "(True, pyomo.solvers.plugins.solvers.CBCplugin.CBCSHELL)"
      ]
     },
     "execution_count": 3,
     "metadata": {},
     "output_type": "execute_result"
    }
   ],
   "source": [
    "cbcer = pyo.SolverFactory('cbc')\n",
    "cbcer.available(), type(cbcer)"
   ]
  },
  {
   "cell_type": "markdown",
   "id": "c37992fa-ecd0-4eec-9485-01c721213b72",
   "metadata": {},
   "source": [
    "### Load input data"
   ]
  },
  {
   "cell_type": "code",
   "execution_count": 4,
   "id": "9e47e5ac-661d-4084-ba6b-157aebe72cd8",
   "metadata": {},
   "outputs": [],
   "source": [
    "locations = load_repository()"
   ]
  },
  {
   "cell_type": "markdown",
   "id": "13a15e55-d94a-4af3-a2a2-a400367f926f",
   "metadata": {},
   "source": [
    "Using example location from <https://onlinelibrary.wiley.com/doi/abs/10.1049/rpg2.12593>."
   ]
  },
  {
   "cell_type": "code",
   "execution_count": 5,
   "id": "be962345-987c-4324-8572-928ab8b50564",
   "metadata": {},
   "outputs": [],
   "source": [
    "L = locations.taylor_2023"
   ]
  },
  {
   "cell_type": "markdown",
   "id": "621c55e4-3cfa-4057-8347-93ea6459c124",
   "metadata": {},
   "source": [
    "Note: To view SVG cell outputs, trust this notebook first."
   ]
  },
  {
   "cell_type": "code",
   "execution_count": 6,
   "id": "3eea4fa5-fed1-49bb-9129-ceb807345472",
   "metadata": {},
   "outputs": [
    {
     "data": {
      "image/svg+xml": [
       "<svg xmlns=\"http://www.w3.org/2000/svg\" viewBox=\"0 0 1920 1080\"><defs><filter x=\"-5%\" y=\"-5%\" id=\"bg_textbox\" width=\"110%\" height=\"110%\"><feFlood flood-opacity=\"0.7\" flood-color=\"#111\" result=\"bg\"/><feMerge><feMergeNode in=\"bg\"/><feMergeNode in=\"SourceGraphic\"/></feMerge></filter><circle stroke=\"none\" stroke-width=\"2\" id=\"wtg\" r=\"12\"/><rect stroke=\"none\" stroke-width=\"2\" id=\"oss\" width=\"21\" height=\"21\" fill=\"lawngreen\"/></defs><g id=\"taylor_2023\"><path stroke=\"silver\" stroke-dasharray=\"15 7\" stroke-width=\"2\" id=\"border\" d=\"M30 544 291 1050 724 822 735 817 973 679 944 712 760 833 1080 1050 1127 561 1037 146 737 30 59 297z M758 253 757 354 724 378 645 314 603 289 676 233z\" fill-rule=\"evenodd\" fill=\"#111\"/><g id=\"WTGgrp\"><g fill=\"#9edae5\"><use href=\"#wtg\" x=\"1091\" y=\"849\"/><use href=\"#wtg\" x=\"1066\" y=\"921\"/><use href=\"#wtg\" x=\"1033\" y=\"1000\"/><use href=\"#wtg\" x=\"1115\" y=\"594\"/><use href=\"#wtg\" x=\"1090\" y=\"665\"/><use href=\"#wtg\" x=\"1057\" y=\"741\"/><use href=\"#wtg\" x=\"1023\" y=\"812\"/><use href=\"#wtg\" x=\"984\" y=\"888\"/><use href=\"#wtg\" x=\"957\" y=\"962\"/><use href=\"#wtg\" x=\"1080\" y=\"482\"/><use href=\"#wtg\" x=\"1048\" y=\"556\"/><use href=\"#wtg\" x=\"1014\" y=\"631\"/><use href=\"#wtg\" x=\"981\" y=\"706\"/><use href=\"#wtg\" x=\"944\" y=\"776\"/><use href=\"#wtg\" x=\"911\" y=\"856\"/><use href=\"#wtg\" x=\"1063\" y=\"302\"/><use href=\"#wtg\" x=\"1038\" y=\"377\"/><use href=\"#wtg\" x=\"1006\" y=\"450\"/><use href=\"#wtg\" x=\"972\" y=\"524\"/><use href=\"#wtg\" x=\"940\" y=\"600\"/><use href=\"#wtg\" x=\"905\" y=\"675\"/><use href=\"#wtg\" x=\"841\" y=\"824\"/><use href=\"#wtg\" x=\"1029\" y=\"190\"/><use href=\"#wtg\" x=\"997\" y=\"265\"/><use href=\"#wtg\" x=\"962\" y=\"338\"/><use href=\"#wtg\" x=\"930\" y=\"412\"/><use href=\"#wtg\" x=\"899\" y=\"485\"/><use href=\"#wtg\" x=\"869\" y=\"562\"/><use href=\"#wtg\" x=\"836\" y=\"638\"/><use href=\"#wtg\" x=\"804\" y=\"712\"/><use href=\"#wtg\" x=\"770\" y=\"788\"/><use href=\"#wtg\" x=\"955\" y=\"155\"/><use href=\"#wtg\" x=\"921\" y=\"231\"/><use href=\"#wtg\" x=\"885\" y=\"305\"/><use href=\"#wtg\" x=\"852\" y=\"380\"/><use href=\"#wtg\" x=\"823\" y=\"456\"/><use href=\"#wtg\" x=\"793\" y=\"530\"/><use href=\"#wtg\" x=\"760\" y=\"605\"/><use href=\"#wtg\" x=\"727\" y=\"680\"/><use href=\"#wtg\" x=\"698\" y=\"751\"/><use href=\"#wtg\" x=\"664\" y=\"826\"/><use href=\"#wtg\" x=\"881\" y=\"119\"/><use href=\"#wtg\" x=\"846\" y=\"194\"/><use href=\"#wtg\" x=\"809\" y=\"270\"/><use href=\"#wtg\" x=\"779\" y=\"340\"/><use href=\"#wtg\" x=\"751\" y=\"414\"/><use href=\"#wtg\" x=\"721\" y=\"490\"/><use href=\"#wtg\" x=\"688\" y=\"564\"/><use href=\"#wtg\" x=\"655\" y=\"638\"/><use href=\"#wtg\" x=\"625\" y=\"715\"/><use href=\"#wtg\" x=\"592\" y=\"792\"/><use href=\"#wtg\" x=\"559\" y=\"867\"/><use href=\"#wtg\" x=\"806\" y=\"84\"/><use href=\"#wtg\" x=\"771\" y=\"162\"/><use href=\"#wtg\" x=\"737\" y=\"239\"/><use href=\"#wtg\" x=\"677\" y=\"380\"/><use href=\"#wtg\" x=\"646\" y=\"456\"/><use href=\"#wtg\" x=\"614\" y=\"530\"/><use href=\"#wtg\" x=\"579\" y=\"604\"/><use href=\"#wtg\" x=\"552\" y=\"680\"/><use href=\"#wtg\" x=\"517\" y=\"754\"/><use href=\"#wtg\" x=\"487\" y=\"830\"/><use href=\"#wtg\" x=\"455\" y=\"904\"/><use href=\"#wtg\" x=\"415\" y=\"975\"/><use href=\"#wtg\" x=\"731\" y=\"49\"/><use href=\"#wtg\" x=\"698\" y=\"122\"/><use href=\"#wtg\" x=\"666\" y=\"206\"/><use href=\"#wtg\" x=\"605\" y=\"348\"/><use href=\"#wtg\" x=\"574\" y=\"423\"/><use href=\"#wtg\" x=\"539\" y=\"499\"/><use href=\"#wtg\" x=\"504\" y=\"572\"/><use href=\"#wtg\" x=\"477\" y=\"647\"/><use href=\"#wtg\" x=\"441\" y=\"721\"/><use href=\"#wtg\" x=\"411\" y=\"797\"/><use href=\"#wtg\" x=\"378\" y=\"869\"/><use href=\"#wtg\" x=\"343\" y=\"947\"/><use href=\"#wtg\" x=\"311\" y=\"1021\"/><use href=\"#wtg\" x=\"623\" y=\"88\"/><use href=\"#wtg\" x=\"593\" y=\"163\"/><use href=\"#wtg\" x=\"564\" y=\"241\"/><use href=\"#wtg\" x=\"532\" y=\"315\"/><use href=\"#wtg\" x=\"498\" y=\"388\"/><use href=\"#wtg\" x=\"464\" y=\"460\"/><use href=\"#wtg\" x=\"433\" y=\"536\"/><use href=\"#wtg\" x=\"403\" y=\"611\"/><use href=\"#wtg\" x=\"368\" y=\"684\"/><use href=\"#wtg\" x=\"338\" y=\"759\"/><use href=\"#wtg\" x=\"302\" y=\"835\"/><use href=\"#wtg\" x=\"268\" y=\"909\"/><use href=\"#wtg\" x=\"517\" y=\"127\"/><use href=\"#wtg\" x=\"488\" y=\"202\"/><use href=\"#wtg\" x=\"458\" y=\"278\"/><use href=\"#wtg\" x=\"424\" y=\"350\"/><use href=\"#wtg\" x=\"391\" y=\"425\"/><use href=\"#wtg\" x=\"359\" y=\"500\"/><use href=\"#wtg\" x=\"328\" y=\"575\"/><use href=\"#wtg\" x=\"296\" y=\"649\"/><use href=\"#wtg\" x=\"261\" y=\"726\"/><use href=\"#wtg\" x=\"228\" y=\"803\"/><use href=\"#wtg\" x=\"412\" y=\"167\"/><use href=\"#wtg\" x=\"382\" y=\"241\"/><use href=\"#wtg\" x=\"350\" y=\"316\"/><use href=\"#wtg\" x=\"316\" y=\"390\"/><use href=\"#wtg\" x=\"287\" y=\"466\"/><use href=\"#wtg\" x=\"253\" y=\"541\"/><use href=\"#wtg\" x=\"221\" y=\"616\"/><use href=\"#wtg\" x=\"184\" y=\"690\"/><use href=\"#wtg\" x=\"154\" y=\"766\"/><use href=\"#wtg\" x=\"306\" y=\"209\"/><use href=\"#wtg\" x=\"276\" y=\"282\"/><use href=\"#wtg\" x=\"241\" y=\"360\"/><use href=\"#wtg\" x=\"209\" y=\"434\"/><use href=\"#wtg\" x=\"176\" y=\"509\"/><use href=\"#wtg\" x=\"144\" y=\"581\"/><use href=\"#wtg\" x=\"111\" y=\"656\"/><use href=\"#wtg\" x=\"201\" y=\"250\"/><use href=\"#wtg\" x=\"170\" y=\"320\"/><use href=\"#wtg\" x=\"133\" y=\"399\"/><use href=\"#wtg\" x=\"101\" y=\"471\"/><use href=\"#wtg\" x=\"68\" y=\"548\"/><use href=\"#wtg\" x=\"96\" y=\"292\"/><use href=\"#wtg\" x=\"62\" y=\"364\"/></g></g><g id=\"OSSgrp\"><use href=\"#oss\" x=\"740.5\" y=\"747.5\"/><use href=\"#oss\" x=\"465.5\" y=\"329.5\"/></g></g></svg>"
      ],
      "text/plain": [
       "<optiwindnet.svg.SvgRepr at 0x24f2f7f35c0>"
      ]
     },
     "execution_count": 6,
     "metadata": {},
     "output_type": "execute_result"
    }
   ],
   "source": [
    "svgplot(L)"
   ]
  },
  {
   "cell_type": "markdown",
   "id": "6e8e879e-618a-48d3-a2f6-6ab4db6af00f",
   "metadata": {},
   "source": [
    "When the location has more than one substation, we cannot use the *HGS-CVRP* meta-heuristic. Instead, we may use a very fast heuristic: *Esau-Williams presolver* (**EW_presolver**).\n",
    "\n",
    "**EW_presolver** has the downside of not limiting the number of feeders, thus the model to be warm-started must also have an unlimited number of feeders. This is usually not a problem, as most cable route sets produced by the MILP solver use the minimum number of feeders or only one more than the minimum."
   ]
  },
  {
   "cell_type": "markdown",
   "id": "59c0d61e-4daf-44f3-af91-f096952f07ab",
   "metadata": {},
   "source": [
    "### Generate the warm-start solution"
   ]
  },
  {
   "cell_type": "code",
   "execution_count": 7,
   "id": "82b73456-df11-4cae-a3f5-61921a434bbb",
   "metadata": {},
   "outputs": [],
   "source": [
    "P, A = make_planar_embedding(L)"
   ]
  },
  {
   "cell_type": "code",
   "execution_count": 8,
   "id": "9e10ca77-b6dd-45cf-bf48-68213efc9ded",
   "metadata": {},
   "outputs": [],
   "source": [
    "S_pre = EW_presolver(A, capacity=8)"
   ]
  },
  {
   "cell_type": "markdown",
   "id": "cff4d530-ff92-483f-9a65-43bc6c89f08c",
   "metadata": {},
   "source": [
    "### Visualizing the warm-start solution"
   ]
  },
  {
   "cell_type": "markdown",
   "id": "799a3e0d-83da-4d3d-a596-a693806da821",
   "metadata": {},
   "source": [
    "This section is unecessary in production."
   ]
  },
  {
   "cell_type": "code",
   "execution_count": 9,
   "id": "3c22ab24-6c0e-4d59-8a6e-c68f81d883fd",
   "metadata": {},
   "outputs": [],
   "source": [
    "G_pre = G_from_S(S_pre, A)"
   ]
  },
  {
   "cell_type": "code",
   "execution_count": 10,
   "id": "f4d4f373-58b5-4ab0-8d6d-7f9d503f12fb",
   "metadata": {},
   "outputs": [
    {
     "data": {
      "image/svg+xml": [
       "<svg xmlns=\"http://www.w3.org/2000/svg\" viewBox=\"0 0 1920 1080\"><defs><filter x=\"-5%\" y=\"-5%\" id=\"bg_textbox\" width=\"110%\" height=\"110%\"><feFlood flood-opacity=\"0.7\" flood-color=\"#111\" result=\"bg\"/><feMerge><feMergeNode in=\"bg\"/><feMergeNode in=\"SourceGraphic\"/></feMerge></filter><circle stroke=\"none\" stroke-width=\"2\" id=\"wtg\" r=\"12\"/><rect stroke=\"none\" stroke-width=\"2\" id=\"oss\" width=\"21\" height=\"21\" fill=\"lawngreen\"/></defs><g id=\"taylor_2023\"><path stroke=\"silver\" stroke-dasharray=\"15 7\" stroke-width=\"2\" id=\"border\" d=\"M30 544 291 1050 724 822 735 817 973 679 944 712 760 833 1080 1050 1127 561 1037 146 737 30 59 297z M758 253 757 354 724 378 645 314 603 289 676 233z\" fill-rule=\"evenodd\" fill=\"#111\"/><g stroke=\"crimson\" stroke-width=\"4\" id=\"edges_unspecified\"><line x1=\"605\" y1=\"348\" x2=\"574\" y2=\"423\"/><line x1=\"677\" y1=\"380\" x2=\"605\" y2=\"348\"/><line x1=\"476\" y1=\"340\" x2=\"532\" y2=\"315\"/><line x1=\"476\" y1=\"340\" x2=\"458\" y2=\"278\"/><line x1=\"476\" y1=\"340\" x2=\"391\" y2=\"425\"/><line x1=\"476\" y1=\"340\" x2=\"498\" y2=\"388\"/><line x1=\"476\" y1=\"340\" x2=\"424\" y2=\"350\"/><line x1=\"646\" y1=\"456\" x2=\"574\" y2=\"423\"/><line x1=\"574\" y1=\"423\" x2=\"498\" y2=\"388\"/><line x1=\"412\" y1=\"167\" x2=\"382\" y2=\"241\"/><line x1=\"382\" y1=\"241\" x2=\"350\" y2=\"316\"/><line x1=\"382\" y1=\"241\" x2=\"306\" y2=\"209\"/><line x1=\"1006\" y1=\"450\" x2=\"972\" y2=\"524\"/><line x1=\"972\" y1=\"524\" x2=\"940\" y2=\"600\"/><line x1=\"751\" y1=\"758\" x2=\"698\" y2=\"751\"/><line x1=\"751\" y1=\"758\" x2=\"804\" y2=\"712\"/><line x1=\"751\" y1=\"758\" x2=\"727\" y2=\"680\"/><line x1=\"751\" y1=\"758\" x2=\"664\" y2=\"826\"/><line x1=\"751\" y1=\"758\" x2=\"770\" y2=\"788\"/><line x1=\"930\" y1=\"412\" x2=\"899\" y2=\"485\"/><line x1=\"899\" y1=\"485\" x2=\"869\" y2=\"562\"/><line x1=\"343\" y1=\"947\" x2=\"311\" y2=\"1021\"/><line x1=\"184\" y1=\"690\" x2=\"154\" y2=\"766\"/><line x1=\"1091\" y1=\"849\" x2=\"1023\" y2=\"812\"/><line x1=\"1091\" y1=\"849\" x2=\"1066\" y2=\"921\"/><line x1=\"1057\" y1=\"741\" x2=\"1023\" y2=\"812\"/><line x1=\"664\" y1=\"826\" x2=\"592\" y2=\"792\"/><line x1=\"592\" y1=\"792\" x2=\"559\" y2=\"867\"/><line x1=\"424\" y1=\"350\" x2=\"350\" y2=\"316\"/><line x1=\"881\" y1=\"119\" x2=\"846\" y2=\"194\"/><line x1=\"955\" y1=\"155\" x2=\"881\" y2=\"119\"/><line x1=\"921\" y1=\"231\" x2=\"846\" y2=\"194\"/><line x1=\"846\" y1=\"194\" x2=\"771\" y2=\"162\"/><line x1=\"411\" y1=\"797\" x2=\"378\" y2=\"869\"/><line x1=\"487\" y1=\"830\" x2=\"411\" y2=\"797\"/><line x1=\"378\" y1=\"869\" x2=\"302\" y2=\"835\"/><line x1=\"455\" y1=\"904\" x2=\"415\" y2=\"975\"/><line x1=\"559\" y1=\"867\" x2=\"455\" y2=\"904\"/><line x1=\"962\" y1=\"338\" x2=\"930\" y2=\"412\"/><line x1=\"885\" y1=\"305\" x2=\"852\" y2=\"380\"/><line x1=\"852\" y1=\"380\" x2=\"823\" y2=\"456\"/><line x1=\"564\" y1=\"241\" x2=\"532\" y2=\"315\"/><line x1=\"1115\" y1=\"594\" x2=\"1048\" y2=\"556\"/><line x1=\"1115\" y1=\"594\" x2=\"1090\" y2=\"665\"/><line x1=\"1063\" y1=\"302\" x2=\"997\" y2=\"265\"/><line x1=\"1063\" y1=\"302\" x2=\"1038\" y2=\"377\"/><line x1=\"415\" y1=\"975\" x2=\"343\" y2=\"947\"/><line x1=\"287\" y1=\"466\" x2=\"253\" y2=\"541\"/><line x1=\"359\" y1=\"500\" x2=\"287\" y2=\"466\"/><line x1=\"241\" y1=\"360\" x2=\"209\" y2=\"434\"/><line x1=\"209\" y1=\"434\" x2=\"176\" y2=\"509\"/><line x1=\"184\" y1=\"690\" x2=\"111\" y2=\"656\"/><line x1=\"1038\" y1=\"377\" x2=\"1006\" y2=\"450\"/><line x1=\"688\" y1=\"564\" x2=\"655\" y2=\"638\"/><line x1=\"721\" y1=\"490\" x2=\"688\" y2=\"564\"/><line x1=\"655\" y1=\"638\" x2=\"625\" y2=\"715\"/><line x1=\"614\" y1=\"530\" x2=\"539\" y2=\"499\"/><line x1=\"698\" y1=\"751\" x2=\"625\" y2=\"715\"/><line x1=\"625\" y1=\"715\" x2=\"552\" y2=\"680\"/><line x1=\"579\" y1=\"604\" x2=\"552\" y2=\"680\"/><line x1=\"464\" y1=\"460\" x2=\"433\" y2=\"536\"/><line x1=\"302\" y1=\"835\" x2=\"228\" y2=\"803\"/><line x1=\"302\" y1=\"835\" x2=\"268\" y2=\"909\"/><line x1=\"1080\" y1=\"482\" x2=\"1048\" y2=\"556\"/><line x1=\"1048\" y1=\"556\" x2=\"1014\" y2=\"631\"/><line x1=\"1029\" y1=\"190\" x2=\"955\" y2=\"155\"/><line x1=\"751\" y1=\"414\" x2=\"677\" y2=\"380\"/><line x1=\"623\" y1=\"88\" x2=\"593\" y2=\"163\"/><line x1=\"698\" y1=\"122\" x2=\"623\" y2=\"88\"/><line x1=\"517\" y1=\"127\" x2=\"488\" y2=\"202\"/><line x1=\"176\" y1=\"509\" x2=\"144\" y2=\"581\"/><line x1=\"144\" y1=\"581\" x2=\"111\" y2=\"656\"/><line x1=\"101\" y1=\"471\" x2=\"68\" y2=\"548\"/><line x1=\"488\" y1=\"202\" x2=\"458\" y2=\"278\"/><line x1=\"316\" y1=\"390\" x2=\"241\" y2=\"360\"/><line x1=\"276\" y1=\"282\" x2=\"201\" y2=\"250\"/><line x1=\"823\" y1=\"456\" x2=\"793\" y2=\"530\"/><line x1=\"133\" y1=\"399\" x2=\"62\" y2=\"364\"/><line x1=\"133\" y1=\"399\" x2=\"101\" y2=\"471\"/><line x1=\"96\" y1=\"292\" x2=\"62\" y2=\"364\"/><line x1=\"793\" y1=\"530\" x2=\"760\" y2=\"605\"/><line x1=\"552\" y1=\"680\" x2=\"477\" y2=\"647\"/><line x1=\"940\" y1=\"600\" x2=\"804\" y2=\"712\"/><line x1=\"760\" y1=\"605\" x2=\"727\" y2=\"680\"/><line x1=\"911\" y1=\"856\" x2=\"841\" y2=\"824\"/><line x1=\"1066\" y1=\"921\" x2=\"1033\" y2=\"1000\"/><line x1=\"984\" y1=\"888\" x2=\"957\" y2=\"962\"/><line x1=\"771\" y1=\"162\" x2=\"737\" y2=\"239\"/><line x1=\"737\" y1=\"239\" x2=\"666\" y2=\"206\"/><line x1=\"809\" y1=\"270\" x2=\"779\" y2=\"340\"/><line x1=\"296\" y1=\"649\" x2=\"261\" y2=\"726\"/><line x1=\"869\" y1=\"562\" x2=\"836\" y2=\"638\"/><line x1=\"731\" y1=\"49\" x2=\"698\" y2=\"122\"/><line x1=\"593\" y1=\"163\" x2=\"564\" y2=\"241\"/><line x1=\"170\" y1=\"320\" x2=\"96\" y2=\"292\"/><line x1=\"517\" y1=\"754\" x2=\"487\" y2=\"830\"/><line x1=\"433\" y1=\"536\" x2=\"403\" y2=\"611\"/><line x1=\"504\" y1=\"572\" x2=\"433\" y2=\"536\"/><line x1=\"359\" y1=\"500\" x2=\"328\" y2=\"575\"/><line x1=\"328\" y1=\"575\" x2=\"296\" y2=\"649\"/><line x1=\"391\" y1=\"425\" x2=\"359\" y2=\"500\"/><line x1=\"253\" y1=\"541\" x2=\"221\" y2=\"616\"/><line x1=\"517\" y1=\"754\" x2=\"441\" y2=\"721\"/><line x1=\"403\" y1=\"611\" x2=\"368\" y2=\"684\"/><line x1=\"368\" y1=\"684\" x2=\"338\" y2=\"759\"/><line x1=\"779\" y1=\"340\" x2=\"751\" y2=\"414\"/><line x1=\"539\" y1=\"499\" x2=\"504\" y2=\"572\"/><line x1=\"201\" y1=\"250\" x2=\"170\" y2=\"320\"/><line x1=\"1014\" y1=\"631\" x2=\"905\" y2=\"675\"/><line x1=\"981\" y1=\"706\" x2=\"944\" y2=\"776\"/><line x1=\"944\" y1=\"776\" x2=\"911\" y2=\"856\"/><line x1=\"806\" y1=\"84\" x2=\"731\" y2=\"49\"/><line x1=\"984\" y1=\"888\" x2=\"911\" y2=\"856\"/></g><g stroke=\"red\" stroke-dasharray=\"18 15\" stroke-width=\"4\" id=\"edges_tentative\"><line x1=\"476\" y1=\"340\" x2=\"276\" y2=\"282\"/><line x1=\"476\" y1=\"340\" x2=\"316\" y2=\"390\"/><line x1=\"476\" y1=\"340\" x2=\"464\" y2=\"460\"/><line x1=\"476\" y1=\"340\" x2=\"666\" y2=\"206\"/><line x1=\"751\" y1=\"758\" x2=\"905\" y2=\"675\"/><line x1=\"751\" y1=\"758\" x2=\"981\" y2=\"706\"/><line x1=\"751\" y1=\"758\" x2=\"517\" y2=\"754\"/><line x1=\"751\" y1=\"758\" x2=\"836\" y2=\"638\"/><line x1=\"751\" y1=\"758\" x2=\"1057\" y2=\"741\"/></g><g id=\"WTGgrp\"><g fill=\"#c49c94\"><use href=\"#wtg\" x=\"605\" y=\"348\"/><use href=\"#wtg\" x=\"574\" y=\"423\"/><use href=\"#wtg\" x=\"498\" y=\"388\"/><use href=\"#wtg\" x=\"677\" y=\"380\"/><use href=\"#wtg\" x=\"646\" y=\"456\"/><use href=\"#wtg\" x=\"809\" y=\"270\"/><use href=\"#wtg\" x=\"751\" y=\"414\"/><use href=\"#wtg\" x=\"779\" y=\"340\"/></g><g fill=\"#e377c2\"><use href=\"#wtg\" x=\"412\" y=\"167\"/><use href=\"#wtg\" x=\"382\" y=\"241\"/><use href=\"#wtg\" x=\"350\" y=\"316\"/><use href=\"#wtg\" x=\"424\" y=\"350\"/><use href=\"#wtg\" x=\"306\" y=\"209\"/></g><g fill=\"#ffbb78\"><use href=\"#wtg\" x=\"972\" y=\"524\"/><use href=\"#wtg\" x=\"1063\" y=\"302\"/><use href=\"#wtg\" x=\"1038\" y=\"377\"/><use href=\"#wtg\" x=\"997\" y=\"265\"/><use href=\"#wtg\" x=\"1006\" y=\"450\"/><use href=\"#wtg\" x=\"804\" y=\"712\"/><use href=\"#wtg\" x=\"940\" y=\"600\"/></g><g fill=\"#98df8a\"><use href=\"#wtg\" x=\"899\" y=\"485\"/><use href=\"#wtg\" x=\"930\" y=\"412\"/><use href=\"#wtg\" x=\"962\" y=\"338\"/><use href=\"#wtg\" x=\"836\" y=\"638\"/><use href=\"#wtg\" x=\"869\" y=\"562\"/></g><g fill=\"#aec7e8\"><use href=\"#wtg\" x=\"311\" y=\"1021\"/><use href=\"#wtg\" x=\"664\" y=\"826\"/><use href=\"#wtg\" x=\"592\" y=\"792\"/><use href=\"#wtg\" x=\"455\" y=\"904\"/><use href=\"#wtg\" x=\"343\" y=\"947\"/><use href=\"#wtg\" x=\"559\" y=\"867\"/><use href=\"#wtg\" x=\"415\" y=\"975\"/></g><g fill=\"#c7c7c7\"><use href=\"#wtg\" x=\"154\" y=\"766\"/><use href=\"#wtg\" x=\"209\" y=\"434\"/><use href=\"#wtg\" x=\"184\" y=\"690\"/><use href=\"#wtg\" x=\"144\" y=\"581\"/><use href=\"#wtg\" x=\"316\" y=\"390\"/><use href=\"#wtg\" x=\"241\" y=\"360\"/><use href=\"#wtg\" x=\"111\" y=\"656\"/><use href=\"#wtg\" x=\"176\" y=\"509\"/></g><g fill=\"#1f77b4\"><use href=\"#wtg\" x=\"1091\" y=\"849\"/><use href=\"#wtg\" x=\"1057\" y=\"741\"/><use href=\"#wtg\" x=\"1033\" y=\"1000\"/><use href=\"#wtg\" x=\"1023\" y=\"812\"/><use href=\"#wtg\" x=\"1066\" y=\"921\"/></g><g fill=\"#17becf\"><use href=\"#wtg\" x=\"881\" y=\"119\"/><use href=\"#wtg\" x=\"846\" y=\"194\"/><use href=\"#wtg\" x=\"1029\" y=\"190\"/><use href=\"#wtg\" x=\"921\" y=\"231\"/><use href=\"#wtg\" x=\"737\" y=\"239\"/><use href=\"#wtg\" x=\"771\" y=\"162\"/><use href=\"#wtg\" x=\"955\" y=\"155\"/><use href=\"#wtg\" x=\"666\" y=\"206\"/></g><g fill=\"#ff9896\"><use href=\"#wtg\" x=\"411\" y=\"797\"/><use href=\"#wtg\" x=\"378\" y=\"869\"/><use href=\"#wtg\" x=\"302\" y=\"835\"/><use href=\"#wtg\" x=\"228\" y=\"803\"/><use href=\"#wtg\" x=\"268\" y=\"909\"/><use href=\"#wtg\" x=\"487\" y=\"830\"/><use href=\"#wtg\" x=\"441\" y=\"721\"/><use href=\"#wtg\" x=\"517\" y=\"754\"/></g><g fill=\"#2ca02c\"><use href=\"#wtg\" x=\"852\" y=\"380\"/><use href=\"#wtg\" x=\"885\" y=\"305\"/><use href=\"#wtg\" x=\"823\" y=\"456\"/><use href=\"#wtg\" x=\"793\" y=\"530\"/><use href=\"#wtg\" x=\"727\" y=\"680\"/><use href=\"#wtg\" x=\"760\" y=\"605\"/></g><g fill=\"#8c564b\"><use href=\"#wtg\" x=\"532\" y=\"315\"/><use href=\"#wtg\" x=\"623\" y=\"88\"/><use href=\"#wtg\" x=\"698\" y=\"122\"/><use href=\"#wtg\" x=\"593\" y=\"163\"/><use href=\"#wtg\" x=\"806\" y=\"84\"/><use href=\"#wtg\" x=\"564\" y=\"241\"/><use href=\"#wtg\" x=\"731\" y=\"49\"/></g><g fill=\"#9467bd\"><use href=\"#wtg\" x=\"1115\" y=\"594\"/><use href=\"#wtg\" x=\"1048\" y=\"556\"/><use href=\"#wtg\" x=\"1080\" y=\"482\"/><use href=\"#wtg\" x=\"1090\" y=\"665\"/><use href=\"#wtg\" x=\"1014\" y=\"631\"/><use href=\"#wtg\" x=\"905\" y=\"675\"/></g><g fill=\"#dbdb8d\"><use href=\"#wtg\" x=\"287\" y=\"466\"/><use href=\"#wtg\" x=\"261\" y=\"726\"/><use href=\"#wtg\" x=\"328\" y=\"575\"/><use href=\"#wtg\" x=\"359\" y=\"500\"/><use href=\"#wtg\" x=\"253\" y=\"541\"/><use href=\"#wtg\" x=\"296\" y=\"649\"/><use href=\"#wtg\" x=\"221\" y=\"616\"/><use href=\"#wtg\" x=\"391\" y=\"425\"/></g><g fill=\"#ff7f0e\"><use href=\"#wtg\" x=\"688\" y=\"564\"/><use href=\"#wtg\" x=\"655\" y=\"638\"/><use href=\"#wtg\" x=\"625\" y=\"715\"/><use href=\"#wtg\" x=\"579\" y=\"604\"/><use href=\"#wtg\" x=\"698\" y=\"751\"/><use href=\"#wtg\" x=\"721\" y=\"490\"/><use href=\"#wtg\" x=\"477\" y=\"647\"/><use href=\"#wtg\" x=\"552\" y=\"680\"/></g><g fill=\"#f7b6d2\"><use href=\"#wtg\" x=\"614\" y=\"530\"/><use href=\"#wtg\" x=\"464\" y=\"460\"/><use href=\"#wtg\" x=\"433\" y=\"536\"/><use href=\"#wtg\" x=\"368\" y=\"684\"/><use href=\"#wtg\" x=\"403\" y=\"611\"/><use href=\"#wtg\" x=\"539\" y=\"499\"/><use href=\"#wtg\" x=\"504\" y=\"572\"/><use href=\"#wtg\" x=\"338\" y=\"759\"/></g><g fill=\"#7f7f7f\"><use href=\"#wtg\" x=\"517\" y=\"127\"/><use href=\"#wtg\" x=\"458\" y=\"278\"/><use href=\"#wtg\" x=\"488\" y=\"202\"/></g><g fill=\"#bcbd22\"><use href=\"#wtg\" x=\"68\" y=\"548\"/><use href=\"#wtg\" x=\"276\" y=\"282\"/><use href=\"#wtg\" x=\"133\" y=\"399\"/><use href=\"#wtg\" x=\"62\" y=\"364\"/><use href=\"#wtg\" x=\"96\" y=\"292\"/><use href=\"#wtg\" x=\"170\" y=\"320\"/><use href=\"#wtg\" x=\"201\" y=\"250\"/><use href=\"#wtg\" x=\"101\" y=\"471\"/></g><g fill=\"#c5b0d5\"><use href=\"#wtg\" x=\"841\" y=\"824\"/><use href=\"#wtg\" x=\"957\" y=\"962\"/><use href=\"#wtg\" x=\"981\" y=\"706\"/><use href=\"#wtg\" x=\"944\" y=\"776\"/><use href=\"#wtg\" x=\"984\" y=\"888\"/><use href=\"#wtg\" x=\"911\" y=\"856\"/></g><g fill=\"#d62728\"><use href=\"#wtg\" x=\"770\" y=\"788\"/></g></g><g id=\"OSSgrp\"><use href=\"#oss\" x=\"740.5\" y=\"747.5\"/><use href=\"#oss\" x=\"465.5\" y=\"329.5\"/></g></g><text filter=\"url(#bg_textbox)\" text-anchor=\"end\" font-family=\"sans-serif\" font-size=\"40\" fill=\"white\" x=\"1127\" y=\"1050\"><tspan x=\"1127\" dy=\"-0.0em\">&#931;&#955; = 113017.0 m</tspan><tspan x=\"1127\" dy=\"-1.3em\">(+3) &#945;: 9, &#946;: 10</tspan><tspan x=\"1127\" dy=\"-1.3em\">&#954; = 8, T = 122</tspan></text></svg>"
      ],
      "text/plain": [
       "<optiwindnet.svg.SvgRepr at 0x24f31521d90>"
      ]
     },
     "execution_count": 10,
     "metadata": {},
     "output_type": "execute_result"
    }
   ],
   "source": [
    "svgplot(G_pre)"
   ]
  },
  {
   "cell_type": "markdown",
   "id": "6cd7e1d3-c65f-44c0-acf9-776b8c306cf1",
   "metadata": {},
   "source": [
    "If we wanted to use that solution, we should add detours to the feeder cables that have forbidden crossings:"
   ]
  },
  {
   "cell_type": "code",
   "execution_count": 11,
   "id": "8ba9fe21-d8e7-4775-8967-4cb82ae44af6",
   "metadata": {},
   "outputs": [
    {
     "data": {
      "image/svg+xml": [
       "<svg xmlns=\"http://www.w3.org/2000/svg\" viewBox=\"0 0 1920 1080\"><defs><filter x=\"-5%\" y=\"-5%\" id=\"bg_textbox\" width=\"110%\" height=\"110%\"><feFlood flood-opacity=\"0.7\" flood-color=\"#111\" result=\"bg\"/><feMerge><feMergeNode in=\"bg\"/><feMergeNode in=\"SourceGraphic\"/></feMerge></filter><circle stroke=\"none\" stroke-width=\"2\" id=\"wtg\" r=\"12\"/><rect stroke=\"none\" stroke-width=\"2\" id=\"oss\" width=\"21\" height=\"21\" fill=\"lawngreen\"/><circle stroke=\"orange\" stroke-opacity=\"0.3\" stroke-width=\"4\" id=\"dt\" r=\"23\" fill=\"none\"/></defs><g id=\"taylor_2023\"><path stroke=\"silver\" stroke-dasharray=\"15 7\" stroke-width=\"2\" id=\"border\" d=\"M30 544 291 1050 724 822 735 817 973 679 944 712 760 833 1080 1050 1127 561 1037 146 737 30 59 297z M758 253 757 354 724 378 645 314 603 289 676 233z\" fill-rule=\"evenodd\" fill=\"#111\"/><g stroke=\"crimson\" stroke-width=\"4\" id=\"edges_unspecified\"><line x1=\"605\" y1=\"348\" x2=\"574\" y2=\"423\"/><line x1=\"677\" y1=\"380\" x2=\"605\" y2=\"348\"/><line x1=\"476\" y1=\"340\" x2=\"532\" y2=\"315\"/><line x1=\"476\" y1=\"340\" x2=\"458\" y2=\"278\"/><line x1=\"476\" y1=\"340\" x2=\"391\" y2=\"425\"/><line x1=\"476\" y1=\"340\" x2=\"498\" y2=\"388\"/><line x1=\"476\" y1=\"340\" x2=\"424\" y2=\"350\"/><line x1=\"476\" y1=\"340\" x2=\"316\" y2=\"390\"/><line x1=\"476\" y1=\"340\" x2=\"464\" y2=\"460\"/><line x1=\"646\" y1=\"456\" x2=\"574\" y2=\"423\"/><line x1=\"574\" y1=\"423\" x2=\"498\" y2=\"388\"/><line x1=\"412\" y1=\"167\" x2=\"382\" y2=\"241\"/><line x1=\"382\" y1=\"241\" x2=\"350\" y2=\"316\"/><line x1=\"382\" y1=\"241\" x2=\"306\" y2=\"209\"/><line x1=\"1006\" y1=\"450\" x2=\"972\" y2=\"524\"/><line x1=\"972\" y1=\"524\" x2=\"940\" y2=\"600\"/><line x1=\"751\" y1=\"758\" x2=\"698\" y2=\"751\"/><line x1=\"751\" y1=\"758\" x2=\"804\" y2=\"712\"/><line x1=\"751\" y1=\"758\" x2=\"727\" y2=\"680\"/><line x1=\"751\" y1=\"758\" x2=\"664\" y2=\"826\"/><line x1=\"751\" y1=\"758\" x2=\"770\" y2=\"788\"/><line x1=\"751\" y1=\"758\" x2=\"905\" y2=\"675\"/><line x1=\"751\" y1=\"758\" x2=\"517\" y2=\"754\"/><line x1=\"751\" y1=\"758\" x2=\"836\" y2=\"638\"/><line x1=\"930\" y1=\"412\" x2=\"899\" y2=\"485\"/><line x1=\"899\" y1=\"485\" x2=\"869\" y2=\"562\"/><line x1=\"343\" y1=\"947\" x2=\"311\" y2=\"1021\"/><line x1=\"184\" y1=\"690\" x2=\"154\" y2=\"766\"/><line x1=\"1091\" y1=\"849\" x2=\"1023\" y2=\"812\"/><line x1=\"1091\" y1=\"849\" x2=\"1066\" y2=\"921\"/><line x1=\"1057\" y1=\"741\" x2=\"1023\" y2=\"812\"/><line x1=\"664\" y1=\"826\" x2=\"592\" y2=\"792\"/><line x1=\"592\" y1=\"792\" x2=\"559\" y2=\"867\"/><line x1=\"424\" y1=\"350\" x2=\"350\" y2=\"316\"/><line x1=\"881\" y1=\"119\" x2=\"846\" y2=\"194\"/><line x1=\"955\" y1=\"155\" x2=\"881\" y2=\"119\"/><line x1=\"921\" y1=\"231\" x2=\"846\" y2=\"194\"/><line x1=\"846\" y1=\"194\" x2=\"771\" y2=\"162\"/><line x1=\"411\" y1=\"797\" x2=\"378\" y2=\"869\"/><line x1=\"487\" y1=\"830\" x2=\"411\" y2=\"797\"/><line x1=\"378\" y1=\"869\" x2=\"302\" y2=\"835\"/><line x1=\"455\" y1=\"904\" x2=\"415\" y2=\"975\"/><line x1=\"559\" y1=\"867\" x2=\"455\" y2=\"904\"/><line x1=\"962\" y1=\"338\" x2=\"930\" y2=\"412\"/><line x1=\"885\" y1=\"305\" x2=\"852\" y2=\"380\"/><line x1=\"852\" y1=\"380\" x2=\"823\" y2=\"456\"/><line x1=\"564\" y1=\"241\" x2=\"532\" y2=\"315\"/><line x1=\"1115\" y1=\"594\" x2=\"1048\" y2=\"556\"/><line x1=\"1115\" y1=\"594\" x2=\"1090\" y2=\"665\"/><line x1=\"1063\" y1=\"302\" x2=\"997\" y2=\"265\"/><line x1=\"1063\" y1=\"302\" x2=\"1038\" y2=\"377\"/><line x1=\"415\" y1=\"975\" x2=\"343\" y2=\"947\"/><line x1=\"287\" y1=\"466\" x2=\"253\" y2=\"541\"/><line x1=\"359\" y1=\"500\" x2=\"287\" y2=\"466\"/><line x1=\"241\" y1=\"360\" x2=\"209\" y2=\"434\"/><line x1=\"209\" y1=\"434\" x2=\"176\" y2=\"509\"/><line x1=\"184\" y1=\"690\" x2=\"111\" y2=\"656\"/><line x1=\"1038\" y1=\"377\" x2=\"1006\" y2=\"450\"/><line x1=\"688\" y1=\"564\" x2=\"655\" y2=\"638\"/><line x1=\"721\" y1=\"490\" x2=\"688\" y2=\"564\"/><line x1=\"655\" y1=\"638\" x2=\"625\" y2=\"715\"/><line x1=\"614\" y1=\"530\" x2=\"539\" y2=\"499\"/><line x1=\"698\" y1=\"751\" x2=\"625\" y2=\"715\"/><line x1=\"625\" y1=\"715\" x2=\"552\" y2=\"680\"/><line x1=\"579\" y1=\"604\" x2=\"552\" y2=\"680\"/><line x1=\"464\" y1=\"460\" x2=\"433\" y2=\"536\"/><line x1=\"302\" y1=\"835\" x2=\"228\" y2=\"803\"/><line x1=\"302\" y1=\"835\" x2=\"268\" y2=\"909\"/><line x1=\"1080\" y1=\"482\" x2=\"1048\" y2=\"556\"/><line x1=\"1048\" y1=\"556\" x2=\"1014\" y2=\"631\"/><line x1=\"1029\" y1=\"190\" x2=\"955\" y2=\"155\"/><line x1=\"751\" y1=\"414\" x2=\"677\" y2=\"380\"/><line x1=\"623\" y1=\"88\" x2=\"593\" y2=\"163\"/><line x1=\"698\" y1=\"122\" x2=\"623\" y2=\"88\"/><line x1=\"517\" y1=\"127\" x2=\"488\" y2=\"202\"/><line x1=\"176\" y1=\"509\" x2=\"144\" y2=\"581\"/><line x1=\"144\" y1=\"581\" x2=\"111\" y2=\"656\"/><line x1=\"101\" y1=\"471\" x2=\"68\" y2=\"548\"/><line x1=\"488\" y1=\"202\" x2=\"458\" y2=\"278\"/><line x1=\"316\" y1=\"390\" x2=\"241\" y2=\"360\"/><line x1=\"276\" y1=\"282\" x2=\"201\" y2=\"250\"/><line x1=\"823\" y1=\"456\" x2=\"793\" y2=\"530\"/><line x1=\"133\" y1=\"399\" x2=\"62\" y2=\"364\"/><line x1=\"133\" y1=\"399\" x2=\"101\" y2=\"471\"/><line x1=\"96\" y1=\"292\" x2=\"62\" y2=\"364\"/><line x1=\"793\" y1=\"530\" x2=\"760\" y2=\"605\"/><line x1=\"552\" y1=\"680\" x2=\"477\" y2=\"647\"/><line x1=\"940\" y1=\"600\" x2=\"804\" y2=\"712\"/><line x1=\"760\" y1=\"605\" x2=\"727\" y2=\"680\"/><line x1=\"911\" y1=\"856\" x2=\"841\" y2=\"824\"/><line x1=\"1066\" y1=\"921\" x2=\"1033\" y2=\"1000\"/><line x1=\"984\" y1=\"888\" x2=\"957\" y2=\"962\"/><line x1=\"771\" y1=\"162\" x2=\"737\" y2=\"239\"/><line x1=\"737\" y1=\"239\" x2=\"666\" y2=\"206\"/><line x1=\"809\" y1=\"270\" x2=\"779\" y2=\"340\"/><line x1=\"296\" y1=\"649\" x2=\"261\" y2=\"726\"/><line x1=\"869\" y1=\"562\" x2=\"836\" y2=\"638\"/><line x1=\"731\" y1=\"49\" x2=\"698\" y2=\"122\"/><line x1=\"593\" y1=\"163\" x2=\"564\" y2=\"241\"/><line x1=\"170\" y1=\"320\" x2=\"96\" y2=\"292\"/><line x1=\"517\" y1=\"754\" x2=\"487\" y2=\"830\"/><line x1=\"433\" y1=\"536\" x2=\"403\" y2=\"611\"/><line x1=\"504\" y1=\"572\" x2=\"433\" y2=\"536\"/><line x1=\"359\" y1=\"500\" x2=\"328\" y2=\"575\"/><line x1=\"328\" y1=\"575\" x2=\"296\" y2=\"649\"/><line x1=\"391\" y1=\"425\" x2=\"359\" y2=\"500\"/><line x1=\"253\" y1=\"541\" x2=\"221\" y2=\"616\"/><line x1=\"517\" y1=\"754\" x2=\"441\" y2=\"721\"/><line x1=\"403\" y1=\"611\" x2=\"368\" y2=\"684\"/><line x1=\"368\" y1=\"684\" x2=\"338\" y2=\"759\"/><line x1=\"779\" y1=\"340\" x2=\"751\" y2=\"414\"/><line x1=\"539\" y1=\"499\" x2=\"504\" y2=\"572\"/><line x1=\"201\" y1=\"250\" x2=\"170\" y2=\"320\"/><line x1=\"1014\" y1=\"631\" x2=\"905\" y2=\"675\"/><line x1=\"981\" y1=\"706\" x2=\"944\" y2=\"776\"/><line x1=\"944\" y1=\"776\" x2=\"911\" y2=\"856\"/><line x1=\"806\" y1=\"84\" x2=\"731\" y2=\"49\"/><line x1=\"984\" y1=\"888\" x2=\"911\" y2=\"856\"/></g><g stroke=\"darkorange\" stroke-dasharray=\"18 15\" stroke-width=\"4\" id=\"detours\" fill=\"none\"><polyline points=\"751 758 973 679 981 706\"/><polyline points=\"751 758 973 679 1057 741\"/><polyline points=\"476 340 424 350 350 316 276 282\"/><polyline points=\"476 340 532 315 666 206\"/></g><g id=\"DTgrp\"><use href=\"#dt\" x=\"973\" y=\"679\"/><use href=\"#dt\" x=\"350\" y=\"316\"/><use href=\"#dt\" x=\"424\" y=\"350\"/><use href=\"#dt\" x=\"532\" y=\"315\"/><use href=\"#dt\" x=\"973\" y=\"679\"/></g><g id=\"WTGgrp\"><g fill=\"#c49c94\"><use href=\"#wtg\" x=\"605\" y=\"348\"/><use href=\"#wtg\" x=\"574\" y=\"423\"/><use href=\"#wtg\" x=\"498\" y=\"388\"/><use href=\"#wtg\" x=\"677\" y=\"380\"/><use href=\"#wtg\" x=\"646\" y=\"456\"/><use href=\"#wtg\" x=\"809\" y=\"270\"/><use href=\"#wtg\" x=\"751\" y=\"414\"/><use href=\"#wtg\" x=\"779\" y=\"340\"/></g><g fill=\"#e377c2\"><use href=\"#wtg\" x=\"412\" y=\"167\"/><use href=\"#wtg\" x=\"382\" y=\"241\"/><use href=\"#wtg\" x=\"350\" y=\"316\"/><use href=\"#wtg\" x=\"424\" y=\"350\"/><use href=\"#wtg\" x=\"306\" y=\"209\"/></g><g fill=\"#ffbb78\"><use href=\"#wtg\" x=\"972\" y=\"524\"/><use href=\"#wtg\" x=\"1063\" y=\"302\"/><use href=\"#wtg\" x=\"1038\" y=\"377\"/><use href=\"#wtg\" x=\"997\" y=\"265\"/><use href=\"#wtg\" x=\"1006\" y=\"450\"/><use href=\"#wtg\" x=\"804\" y=\"712\"/><use href=\"#wtg\" x=\"940\" y=\"600\"/></g><g fill=\"#98df8a\"><use href=\"#wtg\" x=\"899\" y=\"485\"/><use href=\"#wtg\" x=\"930\" y=\"412\"/><use href=\"#wtg\" x=\"962\" y=\"338\"/><use href=\"#wtg\" x=\"836\" y=\"638\"/><use href=\"#wtg\" x=\"869\" y=\"562\"/></g><g fill=\"#aec7e8\"><use href=\"#wtg\" x=\"311\" y=\"1021\"/><use href=\"#wtg\" x=\"664\" y=\"826\"/><use href=\"#wtg\" x=\"592\" y=\"792\"/><use href=\"#wtg\" x=\"455\" y=\"904\"/><use href=\"#wtg\" x=\"343\" y=\"947\"/><use href=\"#wtg\" x=\"559\" y=\"867\"/><use href=\"#wtg\" x=\"415\" y=\"975\"/></g><g fill=\"#c7c7c7\"><use href=\"#wtg\" x=\"154\" y=\"766\"/><use href=\"#wtg\" x=\"209\" y=\"434\"/><use href=\"#wtg\" x=\"184\" y=\"690\"/><use href=\"#wtg\" x=\"144\" y=\"581\"/><use href=\"#wtg\" x=\"316\" y=\"390\"/><use href=\"#wtg\" x=\"241\" y=\"360\"/><use href=\"#wtg\" x=\"111\" y=\"656\"/><use href=\"#wtg\" x=\"176\" y=\"509\"/></g><g fill=\"#1f77b4\"><use href=\"#wtg\" x=\"1091\" y=\"849\"/><use href=\"#wtg\" x=\"1057\" y=\"741\"/><use href=\"#wtg\" x=\"1033\" y=\"1000\"/><use href=\"#wtg\" x=\"1023\" y=\"812\"/><use href=\"#wtg\" x=\"1066\" y=\"921\"/></g><g fill=\"#17becf\"><use href=\"#wtg\" x=\"881\" y=\"119\"/><use href=\"#wtg\" x=\"846\" y=\"194\"/><use href=\"#wtg\" x=\"1029\" y=\"190\"/><use href=\"#wtg\" x=\"921\" y=\"231\"/><use href=\"#wtg\" x=\"737\" y=\"239\"/><use href=\"#wtg\" x=\"771\" y=\"162\"/><use href=\"#wtg\" x=\"955\" y=\"155\"/><use href=\"#wtg\" x=\"666\" y=\"206\"/></g><g fill=\"#ff9896\"><use href=\"#wtg\" x=\"411\" y=\"797\"/><use href=\"#wtg\" x=\"378\" y=\"869\"/><use href=\"#wtg\" x=\"302\" y=\"835\"/><use href=\"#wtg\" x=\"228\" y=\"803\"/><use href=\"#wtg\" x=\"268\" y=\"909\"/><use href=\"#wtg\" x=\"487\" y=\"830\"/><use href=\"#wtg\" x=\"441\" y=\"721\"/><use href=\"#wtg\" x=\"517\" y=\"754\"/></g><g fill=\"#2ca02c\"><use href=\"#wtg\" x=\"852\" y=\"380\"/><use href=\"#wtg\" x=\"885\" y=\"305\"/><use href=\"#wtg\" x=\"823\" y=\"456\"/><use href=\"#wtg\" x=\"793\" y=\"530\"/><use href=\"#wtg\" x=\"727\" y=\"680\"/><use href=\"#wtg\" x=\"760\" y=\"605\"/></g><g fill=\"#8c564b\"><use href=\"#wtg\" x=\"532\" y=\"315\"/><use href=\"#wtg\" x=\"623\" y=\"88\"/><use href=\"#wtg\" x=\"698\" y=\"122\"/><use href=\"#wtg\" x=\"593\" y=\"163\"/><use href=\"#wtg\" x=\"806\" y=\"84\"/><use href=\"#wtg\" x=\"564\" y=\"241\"/><use href=\"#wtg\" x=\"731\" y=\"49\"/></g><g fill=\"#9467bd\"><use href=\"#wtg\" x=\"1115\" y=\"594\"/><use href=\"#wtg\" x=\"1048\" y=\"556\"/><use href=\"#wtg\" x=\"1080\" y=\"482\"/><use href=\"#wtg\" x=\"1090\" y=\"665\"/><use href=\"#wtg\" x=\"1014\" y=\"631\"/><use href=\"#wtg\" x=\"905\" y=\"675\"/></g><g fill=\"#dbdb8d\"><use href=\"#wtg\" x=\"287\" y=\"466\"/><use href=\"#wtg\" x=\"261\" y=\"726\"/><use href=\"#wtg\" x=\"328\" y=\"575\"/><use href=\"#wtg\" x=\"359\" y=\"500\"/><use href=\"#wtg\" x=\"253\" y=\"541\"/><use href=\"#wtg\" x=\"296\" y=\"649\"/><use href=\"#wtg\" x=\"221\" y=\"616\"/><use href=\"#wtg\" x=\"391\" y=\"425\"/></g><g fill=\"#ff7f0e\"><use href=\"#wtg\" x=\"688\" y=\"564\"/><use href=\"#wtg\" x=\"655\" y=\"638\"/><use href=\"#wtg\" x=\"625\" y=\"715\"/><use href=\"#wtg\" x=\"579\" y=\"604\"/><use href=\"#wtg\" x=\"698\" y=\"751\"/><use href=\"#wtg\" x=\"721\" y=\"490\"/><use href=\"#wtg\" x=\"477\" y=\"647\"/><use href=\"#wtg\" x=\"552\" y=\"680\"/></g><g fill=\"#f7b6d2\"><use href=\"#wtg\" x=\"614\" y=\"530\"/><use href=\"#wtg\" x=\"464\" y=\"460\"/><use href=\"#wtg\" x=\"433\" y=\"536\"/><use href=\"#wtg\" x=\"368\" y=\"684\"/><use href=\"#wtg\" x=\"403\" y=\"611\"/><use href=\"#wtg\" x=\"539\" y=\"499\"/><use href=\"#wtg\" x=\"504\" y=\"572\"/><use href=\"#wtg\" x=\"338\" y=\"759\"/></g><g fill=\"#7f7f7f\"><use href=\"#wtg\" x=\"517\" y=\"127\"/><use href=\"#wtg\" x=\"458\" y=\"278\"/><use href=\"#wtg\" x=\"488\" y=\"202\"/></g><g fill=\"#bcbd22\"><use href=\"#wtg\" x=\"68\" y=\"548\"/><use href=\"#wtg\" x=\"276\" y=\"282\"/><use href=\"#wtg\" x=\"133\" y=\"399\"/><use href=\"#wtg\" x=\"62\" y=\"364\"/><use href=\"#wtg\" x=\"96\" y=\"292\"/><use href=\"#wtg\" x=\"170\" y=\"320\"/><use href=\"#wtg\" x=\"201\" y=\"250\"/><use href=\"#wtg\" x=\"101\" y=\"471\"/></g><g fill=\"#c5b0d5\"><use href=\"#wtg\" x=\"841\" y=\"824\"/><use href=\"#wtg\" x=\"957\" y=\"962\"/><use href=\"#wtg\" x=\"981\" y=\"706\"/><use href=\"#wtg\" x=\"944\" y=\"776\"/><use href=\"#wtg\" x=\"984\" y=\"888\"/><use href=\"#wtg\" x=\"911\" y=\"856\"/></g><g fill=\"#d62728\"><use href=\"#wtg\" x=\"770\" y=\"788\"/></g></g><g id=\"OSSgrp\"><use href=\"#oss\" x=\"740.5\" y=\"747.5\"/><use href=\"#oss\" x=\"465.5\" y=\"329.5\"/></g></g><text filter=\"url(#bg_textbox)\" text-anchor=\"end\" font-family=\"sans-serif\" font-size=\"40\" fill=\"white\" x=\"1127\" y=\"1050\"><tspan x=\"1127\" dy=\"-0.0em\">&#931;&#955; = 113112.0 m</tspan><tspan x=\"1127\" dy=\"-1.3em\">(+3) &#945;: 9, &#946;: 10</tspan><tspan x=\"1127\" dy=\"-1.3em\">&#954; = 8, T = 122</tspan></text></svg>"
      ],
      "text/plain": [
       "<optiwindnet.svg.SvgRepr at 0x24f2f9f27b0>"
      ]
     },
     "execution_count": 11,
     "metadata": {},
     "output_type": "execute_result"
    }
   ],
   "source": [
    "H_pre = PathFinder(G_pre, planar=P, A=A).create_detours()\n",
    "svgplot(H_pre)"
   ]
  },
  {
   "cell_type": "markdown",
   "id": "c28574f8-f005-44dd-b46e-efee042990de",
   "metadata": {},
   "source": [
    "### Create MILP model and optimize it"
   ]
  },
  {
   "cell_type": "code",
   "execution_count": 12,
   "id": "908dabdc-c6af-479c-b363-c744eaed92b6",
   "metadata": {
    "scrolled": true
   },
   "outputs": [],
   "source": [
    "model = omo.make_min_length_model(\n",
    "    A, S_pre.graph['capacity'],\n",
    "    gateXings_constraint=False,\n",
    "    gates_limit=False,\n",
    "    branching=True\n",
    ")\n",
    "omo.warmup_model(model, S_pre);"
   ]
  },
  {
   "cell_type": "code",
   "execution_count": 13,
   "id": "e6ef15cc-08a7-47c2-92ee-e7d4bebbf9f3",
   "metadata": {},
   "outputs": [
    {
     "data": {
      "text/plain": [
       "(True, pyomo.solvers.plugins.solvers.CBCplugin.CBCSHELL)"
      ]
     },
     "execution_count": 13,
     "metadata": {},
     "output_type": "execute_result"
    }
   ],
   "source": [
    "cbcer = pyo.SolverFactory('cbc')\n",
    "cbcer.available(), type(cbcer)"
   ]
  },
  {
   "cell_type": "code",
   "execution_count": 14,
   "id": "7174ef85-85dd-42f0-bf97-06f2dd30373d",
   "metadata": {
    "scrolled": true
   },
   "outputs": [
    {
     "name": "stdout",
     "output_type": "stream",
     "text": [
      "Solving \"taylor_2023\": {R=2, T=122, k=8}\n",
      "\n",
      "Welcome to the CBC MILP Solver \n",
      "Version: 2.10.12 \n",
      "Build Date: Mar  5 2025 \n",
      "\n",
      "command line - C:\\Users\\amia\\AppData\\Local\\miniconda3\\envs\\OptiWindNet\\Library\\bin\\cbc.exe -ratioGap 0.005 -seconds 300 -timeMode elapsed -threads 8 -RandomCbcSeed 4321 -nodeStrategy downFewest -Dins on -VndVariableNeighborhoodSearch on -pivotAndComplement on -Rens on -Rins on -proximitySearch off -gomoryCuts on -mixedIntegerRoundingCuts on -flowCoverCuts on -cliqueCuts off -twoMirCuts off -knapsackCuts off -probingCuts off -zeroHalfCuts off -liftAndProjectCuts off -residualCapacityCuts off -printingOptions all -import C:\\Users\\amia\\AppData\\Local\\Temp\\tmpt9jdzy5w.pyomo.lp -mipstart \\Users\\amia\\AppData\\Local\\Temp\\tmpfmi9m6z3.cbc.soln -stat=1 -solve -solu C:\\Users\\amia\\AppData\\Local\\Temp\\tmpt9jdzy5w.pyomo.soln (default strategy 1)\n",
      "ratioGap was changed from 0 to 0.005\n",
      "seconds was changed from 1e+100 to 300\n",
      "Option for timeMode changed from cpu to elapsed\n",
      "No match for threads - ? for list of commands\n",
      "No match for 8 - ? for list of commands\n",
      "randomCbcSeed was changed from -1 to 4321\n",
      "Option for nodeStrategy changed from fewest to downfewest\n",
      "Option for Dins changed from off to on\n",
      "Option for VndVariableNeighborhoodSearch changed from off to on\n",
      "Option for pivotAndComplement changed from off to on\n",
      "Option for Rens changed from off to on\n",
      "Option for gomoryCuts changed from ifmove to on\n",
      "Option for mixedIntegerRoundingCuts changed from ifmove to on\n",
      "Option for flowCoverCuts changed from ifmove to on\n",
      "Option for cliqueCuts changed from ifmove to off\n",
      "Option for twoMirCuts changed from root to off\n",
      "Option for knapsackCuts changed from ifmove to off\n",
      "Option for probingCuts changed from on to off\n",
      "Option for zeroHalfCuts changed from ifmove to off\n",
      "Option for printingOptions changed from normal to all\n",
      "opening mipstart file \\Users\\amia\\AppData\\Local\\Temp\\tmpfmi9m6z3.cbc.soln.\n",
      "MIPStart values read for 244 variables.\n",
      "Presolve 4442 (-2) rows, 2895 (-1) columns and 15128 (-1444) elements\n",
      "Statistics for presolved model\n",
      "Original problem has 2896 integers (1448 of which binary)\n",
      "Presolved problem has 2895 integers (1447 of which binary)\n",
      "==== 1448 zero objective 841 different\n",
      "==== absolute objective values 841 different\n",
      "==== for integers 1448 zero objective 841 different\n",
      "==== for integers absolute objective values 841 different\n",
      "===== end objective counts\n",
      "\n",
      "\n",
      "Problem has 4442 rows, 2895 columns (1447 with objective) and 15128 elements\n",
      "Column breakdown:\n",
      "0 of type 0.0->inf, 1448 of type 0.0->up, 0 of type lo->inf, \n",
      "0 of type lo->up, 0 of type free, 0 of type fixed, \n",
      "0 of type -inf->0.0, 0 of type -inf->up, 1447 of type 0.0->1.0 \n",
      "Row breakdown:\n",
      "0 of type E 0.0, 243 of type E 1.0, 0 of type E -1.0, \n",
      "1 of type E other, 0 of type G 0.0, 0 of type G 1.0, \n",
      "1 of type G other, 2895 of type L 0.0, 1178 of type L 1.0, \n",
      "124 of type L other, 0 of type Range 0.0->1.0, 0 of type Range other, \n",
      "0 of type Free \n",
      "Continuous objective value is 103555 - 0.06 seconds\n",
      "Cgl0003I 0 fixed, 0 tightened bounds, 652 strengthened rows, 0 substitutions\n",
      "Cgl0003I 0 fixed, 0 tightened bounds, 652 strengthened rows, 0 substitutions\n",
      "Cgl0003I 0 fixed, 0 tightened bounds, 343 strengthened rows, 0 substitutions\n",
      "Cgl0003I 0 fixed, 0 tightened bounds, 242 strengthened rows, 0 substitutions\n",
      "Cgl0003I 0 fixed, 0 tightened bounds, 121 strengthened rows, 0 substitutions\n",
      "Cgl0003I 0 fixed, 0 tightened bounds, 115 strengthened rows, 0 substitutions\n",
      "Cgl0003I 0 fixed, 0 tightened bounds, 112 strengthened rows, 0 substitutions\n",
      "Cgl0003I 0 fixed, 0 tightened bounds, 96 strengthened rows, 0 substitutions\n",
      "Cgl0003I 0 fixed, 0 tightened bounds, 89 strengthened rows, 0 substitutions\n",
      "Cgl0004I processed model has 3988 rows, 2896 columns (2896 integer (1448 of which binary)) and 16765 elements\n",
      "Cbc0045I MIPStart provided solution with cost 113017\n",
      "Cbc0012I Integer solution of 113017.26 found by Reduced search after 0 iterations and 0 nodes (0.52 seconds)\n",
      "Cbc0038I Full problem 3989 rows 2896 columns, reduced to 253 rows 145 columns\n",
      "Cbc0038I Full problem 3989 rows 2896 columns, reduced to 253 rows 145 columns\n",
      "Cbc0038I Full problem 3989 rows 2896 columns, reduced to 253 rows 145 columns\n",
      "Cbc0038I Full problem 3988 rows 2896 columns, reduced to 428 rows 234 columns\n",
      "Cbc0038I Full problem 3989 rows 2896 columns, reduced to 204 rows 122 columns\n",
      "Cbc0038I Full problem 3989 rows 2896 columns, reduced to 204 rows 122 columns\n",
      "Cbc0038I Full problem 3989 rows 2896 columns, reduced to 204 rows 122 columns\n",
      "Cbc0031I 92 added rows had average density of 117.25\n",
      "Cbc0013I At root node, 92 cuts changed objective from 104286.37 to 104878.12 in 18 passes\n",
      "Cbc0014I Cut generator 0 (Gomory) - 370 row cuts average 405.0 elements, 0 column cuts (0 active)  in 0.558 seconds - new frequency is 1\n",
      "Cbc0014I Cut generator 1 (MixedIntegerRounding2) - 3 row cuts average 202.7 elements, 0 column cuts (0 active)  in 0.080 seconds - new frequency is 3\n",
      "Cbc0014I Cut generator 2 (FlowCover) - 182 row cuts average 16.9 elements, 0 column cuts (0 active)  in 0.052 seconds - new frequency is 1\n",
      "Cbc0010I After 0 nodes, 1 on tree, 113017.26 best solution, best possible 104878.12 (2.33 seconds)\n",
      "Cbc0038I Full problem 3988 rows 2896 columns, reduced to 499 rows 272 columns\n",
      "Cbc0038I Full problem 3989 rows 2896 columns, reduced to 278 rows 160 columns\n",
      "Cbc0038I Full problem 3989 rows 2896 columns, reduced to 278 rows 160 columns\n",
      "Cbc0038I Full problem 3989 rows 2896 columns, reduced to 278 rows 160 columns\n",
      "Cbc0038I Full problem 3988 rows 2896 columns, reduced to 492 rows 256 columns\n",
      "Cbc0010I After 100 nodes, 62 on tree, 113017.26 best solution, best possible 104878.12 (11.00 seconds)\n",
      "Cbc0038I Full problem 3989 rows 2896 columns, reduced to 316 rows 186 columns\n",
      "Cbc0038I Full problem 3989 rows 2896 columns, reduced to 317 rows 186 columns\n",
      "Cbc0038I Full problem 3989 rows 2896 columns, reduced to 317 rows 186 columns\n",
      "Cbc0038I Full problem 3988 rows 2896 columns, reduced to 345 rows 183 columns\n",
      "Cbc0010I After 200 nodes, 115 on tree, 113017.26 best solution, best possible 104878.12 (12.32 seconds)\n",
      "Cbc0038I Full problem 3989 rows 2896 columns, reduced to 409 rows 241 columns\n",
      "Cbc0038I Full problem 3989 rows 2896 columns, reduced to 409 rows 241 columns\n",
      "Cbc0038I Full problem 3989 rows 2896 columns, reduced to 409 rows 241 columns\n",
      "Cbc0038I Full problem 3988 rows 2896 columns, reduced to 395 rows 211 columns\n",
      "Cbc0010I After 300 nodes, 155 on tree, 113017.26 best solution, best possible 104878.12 (13.31 seconds)\n",
      "Cbc0038I Full problem 3989 rows 2896 columns, reduced to 413 rows 243 columns\n",
      "Cbc0038I Full problem 3989 rows 2896 columns, reduced to 413 rows 243 columns\n",
      "Cbc0038I Full problem 3989 rows 2896 columns, reduced to 413 rows 243 columns\n",
      "Cbc0038I Full problem 3988 rows 2896 columns, reduced to 345 rows 185 columns\n",
      "Cbc0010I After 400 nodes, 190 on tree, 113017.26 best solution, best possible 104878.12 (14.23 seconds)\n",
      "Cbc0038I Full problem 3989 rows 2896 columns, reduced to 360 rows 208 columns\n",
      "Cbc0038I Full problem 3989 rows 2896 columns, reduced to 360 rows 208 columns\n",
      "Cbc0038I Full problem 3989 rows 2896 columns, reduced to 360 rows 208 columns\n",
      "Cbc0038I Full problem 3988 rows 2896 columns, reduced to 357 rows 193 columns\n",
      "Cbc0010I After 500 nodes, 220 on tree, 113017.26 best solution, best possible 104878.12 (15.52 seconds)\n",
      "Cbc0038I Full problem 3988 rows 2896 columns, reduced to 383 rows 205 columns\n",
      "Cbc0010I After 600 nodes, 255 on tree, 113017.26 best solution, best possible 104878.12 (16.88 seconds)\n",
      "Cbc0038I Full problem 3989 rows 2896 columns, reduced to 367 rows 213 columns\n",
      "Cbc0038I Full problem 3989 rows 2896 columns, reduced to 367 rows 213 columns\n",
      "Cbc0038I Full problem 3989 rows 2896 columns, reduced to 367 rows 213 columns\n",
      "Cbc0038I Full problem 3988 rows 2896 columns, reduced to 369 rows 200 columns\n",
      "Cbc0010I After 700 nodes, 296 on tree, 113017.26 best solution, best possible 104878.12 (18.24 seconds)\n",
      "Cbc0038I Full problem 3988 rows 2896 columns, reduced to 365 rows 200 columns\n",
      "Cbc0010I After 800 nodes, 304 on tree, 113017.26 best solution, best possible 104878.12 (19.33 seconds)\n",
      "Cbc0038I Full problem 3989 rows 2896 columns, reduced to 387 rows 223 columns\n",
      "Cbc0038I Full problem 3989 rows 2896 columns, reduced to 387 rows 223 columns\n",
      "Cbc0038I Full problem 3989 rows 2896 columns, reduced to 387 rows 223 columns\n",
      "Cbc0010I After 900 nodes, 327 on tree, 113017.26 best solution, best possible 104878.12 (20.50 seconds)\n",
      "Cbc0038I Full problem 3989 rows 2896 columns, reduced to 415 rows 240 columns\n",
      "Cbc0038I Full problem 3989 rows 2896 columns, reduced to 415 rows 240 columns\n",
      "Cbc0038I Full problem 3989 rows 2896 columns, reduced to 415 rows 240 columns\n",
      "Cbc0010I After 1000 nodes, 359 on tree, 113017.26 best solution, best possible 104878.12 (21.93 seconds)\n",
      "Cbc0010I After 1100 nodes, 455 on tree, 113017.26 best solution, best possible 104878.57 (25.65 seconds)\n",
      "Cbc0038I Full problem 3988 rows 2896 columns, reduced to 382 rows 211 columns\n",
      "Cbc0010I After 1200 nodes, 521 on tree, 113017.26 best solution, best possible 104878.57 (27.13 seconds)\n",
      "Cbc0010I After 1300 nodes, 508 on tree, 113017.26 best solution, best possible 104878.57 (29.71 seconds)\n",
      "Cbc0010I After 1400 nodes, 499 on tree, 113017.26 best solution, best possible 104878.57 (32.43 seconds)\n",
      "Cbc0010I After 1500 nodes, 484 on tree, 113017.26 best solution, best possible 104878.57 (36.35 seconds)\n",
      "Cbc0010I After 1600 nodes, 478 on tree, 113017.26 best solution, best possible 104878.57 (39.30 seconds)\n",
      "Cbc0010I After 1700 nodes, 469 on tree, 113017.26 best solution, best possible 104878.57 (41.08 seconds)\n",
      "Cbc0038I Full problem 3988 rows 2896 columns, reduced to 475 rows 254 columns\n",
      "Cbc0010I After 1800 nodes, 475 on tree, 113017.26 best solution, best possible 104878.57 (42.40 seconds)\n",
      "Cbc0010I After 1900 nodes, 472 on tree, 113017.26 best solution, best possible 104878.57 (43.42 seconds)\n",
      "Cbc0010I After 2000 nodes, 473 on tree, 113017.26 best solution, best possible 104878.57 (44.28 seconds)\n",
      "Cbc0010I After 2100 nodes, 478 on tree, 113017.26 best solution, best possible 104878.57 (45.16 seconds)\n",
      "Cbc0010I After 2200 nodes, 472 on tree, 113017.26 best solution, best possible 104878.57 (46.13 seconds)\n",
      "Cbc0010I After 2300 nodes, 478 on tree, 113017.26 best solution, best possible 104878.57 (47.35 seconds)\n",
      "Cbc0038I Full problem 3988 rows 2896 columns, reduced to 456 rows 245 columns\n",
      "Cbc0010I After 2400 nodes, 467 on tree, 113017.26 best solution, best possible 104878.57 (48.51 seconds)\n",
      "Cbc0010I After 2500 nodes, 463 on tree, 113017.26 best solution, best possible 104878.57 (50.57 seconds)\n",
      "Cbc0010I After 2600 nodes, 467 on tree, 113017.26 best solution, best possible 104878.57 (52.63 seconds)\n",
      "Cbc0010I After 2700 nodes, 462 on tree, 113017.26 best solution, best possible 104878.57 (55.18 seconds)\n",
      "Cbc0010I After 2800 nodes, 463 on tree, 113017.26 best solution, best possible 104878.57 (57.00 seconds)\n",
      "Cbc0010I After 2900 nodes, 470 on tree, 113017.26 best solution, best possible 104878.57 (58.57 seconds)\n",
      "Cbc0010I After 3000 nodes, 474 on tree, 113017.26 best solution, best possible 104878.57 (60.74 seconds)\n",
      "Cbc0010I After 3100 nodes, 462 on tree, 113017.26 best solution, best possible 104878.57 (62.87 seconds)\n",
      "Cbc0010I After 3200 nodes, 465 on tree, 113017.26 best solution, best possible 104878.57 (65.35 seconds)\n",
      "Cbc0038I Full problem 3989 rows 2896 columns, reduced to 465 rows 276 columns\n",
      "Cbc0038I Full problem 3989 rows 2896 columns, reduced to 465 rows 276 columns\n",
      "Cbc0038I Full problem 3989 rows 2896 columns, reduced to 465 rows 276 columns\n",
      "Cbc0010I After 3300 nodes, 461 on tree, 113017.26 best solution, best possible 104878.57 (67.69 seconds)\n",
      "Cbc0010I After 3400 nodes, 473 on tree, 113017.26 best solution, best possible 104878.57 (69.45 seconds)\n",
      "Cbc0010I After 3500 nodes, 464 on tree, 113017.26 best solution, best possible 104878.57 (71.16 seconds)\n",
      "Cbc0010I After 3600 nodes, 466 on tree, 113017.26 best solution, best possible 104878.57 (72.93 seconds)\n",
      "Cbc0038I Full problem 3988 rows 2896 columns, reduced to 530 rows 294 columns\n",
      "Cbc0010I After 3700 nodes, 461 on tree, 113017.26 best solution, best possible 104878.57 (75.01 seconds)\n",
      "Cbc0010I After 3800 nodes, 459 on tree, 113017.26 best solution, best possible 104878.57 (77.06 seconds)\n",
      "Cbc0010I After 3900 nodes, 470 on tree, 113017.26 best solution, best possible 104878.57 (79.10 seconds)\n",
      "Cbc0010I After 4000 nodes, 461 on tree, 113017.26 best solution, best possible 104878.57 (80.81 seconds)\n",
      "Cbc0010I After 4100 nodes, 463 on tree, 113017.26 best solution, best possible 104878.57 (82.46 seconds)\n",
      "Cbc0010I After 4200 nodes, 458 on tree, 113017.26 best solution, best possible 104878.57 (84.52 seconds)\n",
      "Cbc0010I After 4300 nodes, 463 on tree, 113017.26 best solution, best possible 104878.57 (86.43 seconds)\n",
      "Cbc0010I After 4400 nodes, 462 on tree, 113017.26 best solution, best possible 104878.57 (88.30 seconds)\n",
      "Cbc0038I Full problem 3989 rows 2896 columns, reduced to 393 rows 238 columns\n",
      "Cbc0038I Full problem 3989 rows 2896 columns, reduced to 393 rows 238 columns\n",
      "Cbc0038I Full problem 3989 rows 2896 columns, reduced to 393 rows 238 columns\n",
      "Cbc0010I After 4500 nodes, 457 on tree, 113017.26 best solution, best possible 104878.57 (90.61 seconds)\n",
      "Cbc0010I After 4600 nodes, 456 on tree, 113017.26 best solution, best possible 104878.57 (92.49 seconds)\n",
      "Cbc0010I After 4700 nodes, 456 on tree, 113017.26 best solution, best possible 104878.57 (95.06 seconds)\n",
      "Cbc0038I Full problem 3988 rows 2896 columns, reduced to 527 rows 293 columns\n",
      "Cbc0010I After 4800 nodes, 455 on tree, 113017.26 best solution, best possible 104878.57 (97.22 seconds)\n",
      "Cbc0010I After 4900 nodes, 469 on tree, 113017.26 best solution, best possible 104878.57 (99.35 seconds)\n",
      "Cbc0010I After 5000 nodes, 470 on tree, 113017.26 best solution, best possible 104878.57 (101.13 seconds)\n",
      "Cbc0038I Full problem 3989 rows 2896 columns, reduced to 395 rows 226 columns\n",
      "Cbc0038I Full problem 3989 rows 2896 columns, reduced to 395 rows 226 columns\n",
      "Cbc0038I Full problem 3989 rows 2896 columns, reduced to 395 rows 226 columns\n",
      "Cbc0010I After 5100 nodes, 567 on tree, 113017.26 best solution, best possible 104880.62 (106.79 seconds)\n",
      "Cbc0010I After 5200 nodes, 597 on tree, 113017.26 best solution, best possible 104880.62 (108.50 seconds)\n",
      "Cbc0010I After 5300 nodes, 596 on tree, 113017.26 best solution, best possible 104880.62 (109.97 seconds)\n",
      "Cbc0010I After 5400 nodes, 590 on tree, 113017.26 best solution, best possible 104880.62 (111.91 seconds)\n",
      "Cbc0010I After 5500 nodes, 591 on tree, 113017.26 best solution, best possible 104880.62 (113.33 seconds)\n",
      "Cbc0010I After 5600 nodes, 599 on tree, 113017.26 best solution, best possible 104880.62 (114.53 seconds)\n",
      "Cbc0038I Full problem 3989 rows 2896 columns, reduced to 434 rows 251 columns\n",
      "Cbc0038I Full problem 3989 rows 2896 columns, reduced to 434 rows 251 columns\n",
      "Cbc0038I Full problem 3989 rows 2896 columns, reduced to 434 rows 251 columns\n",
      "Cbc0010I After 5700 nodes, 601 on tree, 113017.26 best solution, best possible 104880.62 (115.91 seconds)\n",
      "Cbc0010I After 5800 nodes, 604 on tree, 113017.26 best solution, best possible 104880.62 (116.97 seconds)\n",
      "Cbc0010I After 5900 nodes, 601 on tree, 113017.26 best solution, best possible 104880.62 (118.01 seconds)\n",
      "Cbc0010I After 6000 nodes, 612 on tree, 113017.26 best solution, best possible 104880.62 (119.39 seconds)\n",
      "Cbc0038I Full problem 3988 rows 2896 columns, reduced to 472 rows 256 columns\n",
      "Cbc0038I Full problem 3988 rows 2896 columns, reduced to 423 rows 230 columns\n",
      "Cbc0010I After 6100 nodes, 598 on tree, 113017.26 best solution, best possible 104880.62 (120.75 seconds)\n",
      "Cbc0010I After 6200 nodes, 594 on tree, 113017.26 best solution, best possible 104880.62 (121.72 seconds)\n",
      "Cbc0038I Full problem 3989 rows 2896 columns, reduced to 431 rows 250 columns\n",
      "Cbc0038I Full problem 3989 rows 2896 columns, reduced to 431 rows 250 columns\n",
      "Cbc0038I Full problem 3989 rows 2896 columns, reduced to 431 rows 250 columns\n",
      "Cbc0010I After 6300 nodes, 599 on tree, 113017.26 best solution, best possible 104880.62 (122.92 seconds)\n",
      "Cbc0010I After 6400 nodes, 593 on tree, 113017.26 best solution, best possible 104880.62 (124.23 seconds)\n",
      "Cbc0010I After 6500 nodes, 603 on tree, 113017.26 best solution, best possible 104880.62 (125.43 seconds)\n",
      "Cbc0038I Full problem 3988 rows 2896 columns, reduced to 384 rows 208 columns\n",
      "Cbc0010I After 6600 nodes, 597 on tree, 113017.26 best solution, best possible 104880.62 (126.47 seconds)\n",
      "Cbc0010I After 6700 nodes, 596 on tree, 113017.26 best solution, best possible 104880.62 (127.83 seconds)\n",
      "Cbc0010I After 6800 nodes, 596 on tree, 113017.26 best solution, best possible 104880.62 (129.38 seconds)\n",
      "Cbc0038I Full problem 3989 rows 2896 columns, reduced to 398 rows 230 columns\n",
      "Cbc0038I Full problem 3989 rows 2896 columns, reduced to 398 rows 230 columns\n",
      "Cbc0038I Full problem 3989 rows 2896 columns, reduced to 398 rows 230 columns\n",
      "Cbc0010I After 6900 nodes, 595 on tree, 113017.26 best solution, best possible 104880.62 (131.27 seconds)\n",
      "Cbc0010I After 7000 nodes, 600 on tree, 113017.26 best solution, best possible 104880.62 (133.96 seconds)\n",
      "Cbc0010I After 7100 nodes, 600 on tree, 113017.26 best solution, best possible 104880.62 (136.62 seconds)\n",
      "Cbc0010I After 7200 nodes, 590 on tree, 113017.26 best solution, best possible 104880.62 (139.16 seconds)\n",
      "Cbc0010I After 7300 nodes, 590 on tree, 113017.26 best solution, best possible 104880.62 (141.85 seconds)\n",
      "Cbc0010I After 7400 nodes, 593 on tree, 113017.26 best solution, best possible 104880.62 (144.70 seconds)\n",
      "Cbc0038I Full problem 3989 rows 2896 columns, reduced to 394 rows 227 columns\n",
      "Cbc0038I Full problem 3989 rows 2896 columns, reduced to 394 rows 227 columns\n",
      "Cbc0038I Full problem 3989 rows 2896 columns, reduced to 394 rows 227 columns\n",
      "Cbc0010I After 7500 nodes, 591 on tree, 113017.26 best solution, best possible 104880.62 (147.52 seconds)\n",
      "Cbc0010I After 7600 nodes, 590 on tree, 113017.26 best solution, best possible 104880.62 (149.82 seconds)\n",
      "Cbc0010I After 7700 nodes, 599 on tree, 113017.26 best solution, best possible 104880.62 (152.10 seconds)\n",
      "Cbc0038I Full problem 3988 rows 2896 columns, reduced to 479 rows 268 columns\n",
      "Cbc0010I After 7800 nodes, 589 on tree, 113017.26 best solution, best possible 104880.62 (154.57 seconds)\n",
      "Cbc0010I After 7900 nodes, 594 on tree, 113017.26 best solution, best possible 104880.62 (156.79 seconds)\n",
      "Cbc0010I After 8000 nodes, 593 on tree, 113017.26 best solution, best possible 104880.62 (159.07 seconds)\n",
      "Cbc0038I Full problem 3988 rows 2896 columns, reduced to 479 rows 259 columns\n",
      "Cbc0038I Full problem 3989 rows 2896 columns, reduced to 454 rows 265 columns\n",
      "Cbc0038I Full problem 3989 rows 2896 columns, reduced to 454 rows 265 columns\n",
      "Cbc0038I Full problem 3989 rows 2896 columns, reduced to 454 rows 265 columns\n",
      "Cbc0010I After 8100 nodes, 595 on tree, 113017.26 best solution, best possible 104880.62 (162.25 seconds)\n",
      "Cbc0010I After 8200 nodes, 605 on tree, 113017.26 best solution, best possible 104880.62 (164.56 seconds)\n",
      "Cbc0010I After 8300 nodes, 595 on tree, 113017.26 best solution, best possible 104880.62 (165.96 seconds)\n",
      "Cbc0038I Full problem 3988 rows 2896 columns, reduced to 493 rows 266 columns\n",
      "Cbc0010I After 8400 nodes, 591 on tree, 113017.26 best solution, best possible 104880.62 (167.04 seconds)\n",
      "Cbc0038I Full problem 3988 rows 2896 columns, reduced to 477 rows 255 columns\n",
      "Cbc0010I After 8500 nodes, 588 on tree, 113017.26 best solution, best possible 104880.62 (168.06 seconds)\n",
      "Cbc0010I After 8600 nodes, 617 on tree, 113017.26 best solution, best possible 104880.62 (169.27 seconds)\n",
      "Cbc0038I Full problem 3989 rows 2896 columns, reduced to 423 rows 249 columns\n",
      "Cbc0038I Full problem 3989 rows 2896 columns, reduced to 423 rows 249 columns\n",
      "Cbc0038I Full problem 3989 rows 2896 columns, reduced to 423 rows 249 columns\n",
      "Cbc0010I After 8700 nodes, 605 on tree, 113017.26 best solution, best possible 104880.62 (170.65 seconds)\n",
      "Cbc0010I After 8800 nodes, 614 on tree, 113017.26 best solution, best possible 104880.62 (171.91 seconds)\n",
      "Cbc0010I After 8900 nodes, 607 on tree, 113017.26 best solution, best possible 104880.62 (173.44 seconds)\n",
      "Cbc0010I After 9000 nodes, 612 on tree, 113017.26 best solution, best possible 104880.62 (174.97 seconds)\n",
      "Cbc0010I After 9100 nodes, 709 on tree, 113017.26 best solution, best possible 104889.48 (179.41 seconds)\n",
      "Cbc0010I After 9200 nodes, 715 on tree, 113017.26 best solution, best possible 104889.48 (181.36 seconds)\n",
      "Cbc0010I After 9300 nodes, 714 on tree, 113017.26 best solution, best possible 104889.48 (182.73 seconds)\n",
      "Cbc0010I After 9400 nodes, 714 on tree, 113017.26 best solution, best possible 104889.48 (184.33 seconds)\n",
      "Cbc0010I After 9500 nodes, 715 on tree, 113017.26 best solution, best possible 104889.48 (186.11 seconds)\n",
      "Cbc0010I After 9600 nodes, 710 on tree, 113017.26 best solution, best possible 104889.48 (187.64 seconds)\n",
      "Cbc0038I Full problem 3988 rows 2896 columns, reduced to 395 rows 212 columns\n",
      "Cbc0010I After 9700 nodes, 712 on tree, 113017.26 best solution, best possible 104889.48 (189.78 seconds)\n",
      "Cbc0010I After 9800 nodes, 711 on tree, 113017.26 best solution, best possible 104889.48 (192.62 seconds)\n",
      "Cbc0010I After 9900 nodes, 714 on tree, 113017.26 best solution, best possible 104889.48 (195.35 seconds)\n",
      "Cbc0010I After 10000 nodes, 710 on tree, 113017.26 best solution, best possible 104889.48 (198.01 seconds)\n",
      "Cbc0010I After 10100 nodes, 706 on tree, 113017.26 best solution, best possible 104889.48 (200.61 seconds)\n",
      "Cbc0038I Full problem 3988 rows 2896 columns, reduced to 503 rows 276 columns\n",
      "Cbc0010I After 10200 nodes, 705 on tree, 113017.26 best solution, best possible 104889.48 (203.81 seconds)\n",
      "Cbc0010I After 10300 nodes, 714 on tree, 113017.26 best solution, best possible 104889.48 (207.33 seconds)\n",
      "Cbc0010I After 10400 nodes, 709 on tree, 113017.26 best solution, best possible 104889.48 (210.37 seconds)\n",
      "Cbc0038I Full problem 3989 rows 2896 columns, reduced to 422 rows 248 columns\n",
      "Cbc0038I Full problem 3989 rows 2896 columns, reduced to 422 rows 248 columns\n",
      "Cbc0038I Full problem 3989 rows 2896 columns, reduced to 422 rows 248 columns\n",
      "Cbc0010I After 10500 nodes, 717 on tree, 113017.26 best solution, best possible 104889.48 (212.44 seconds)\n",
      "Cbc0010I After 10600 nodes, 709 on tree, 113017.26 best solution, best possible 104889.48 (213.92 seconds)\n",
      "Cbc0010I After 10700 nodes, 708 on tree, 113017.26 best solution, best possible 104889.48 (215.33 seconds)\n",
      "Cbc0038I Full problem 3988 rows 2896 columns, reduced to 467 rows 255 columns\n",
      "Cbc0010I After 10800 nodes, 708 on tree, 113017.26 best solution, best possible 104889.48 (217.01 seconds)\n",
      "Cbc0010I After 10900 nodes, 713 on tree, 113017.26 best solution, best possible 104889.48 (218.66 seconds)\n",
      "Cbc0010I After 11000 nodes, 703 on tree, 113017.26 best solution, best possible 104889.48 (219.99 seconds)\n",
      "Cbc0010I After 11100 nodes, 751 on tree, 113017.26 best solution, best possible 104963.84 (230.32 seconds)\n",
      "Cbc0010I After 11200 nodes, 800 on tree, 113017.26 best solution, best possible 104984.54 (239.94 seconds)\n",
      "Cbc0010I After 11300 nodes, 850 on tree, 113017.26 best solution, best possible 105002.13 (245.52 seconds)\n",
      "Cbc0010I After 11400 nodes, 899 on tree, 113017.26 best solution, best possible 105012.72 (251.44 seconds)\n",
      "Cbc0010I After 11500 nodes, 948 on tree, 113017.26 best solution, best possible 105023.84 (256.28 seconds)\n",
      "Cbc0010I After 11600 nodes, 996 on tree, 113017.26 best solution, best possible 105031.36 (261.62 seconds)\n",
      "Cbc0010I After 11700 nodes, 1046 on tree, 113017.26 best solution, best possible 105037.77 (266.48 seconds)\n",
      "Cbc0010I After 11800 nodes, 1096 on tree, 113017.26 best solution, best possible 105044.22 (270.52 seconds)\n",
      "Cbc0010I After 11900 nodes, 1146 on tree, 113017.26 best solution, best possible 105050.4 (275.07 seconds)\n",
      "Cbc0010I After 12000 nodes, 1196 on tree, 113017.26 best solution, best possible 105057.23 (278.82 seconds)\n",
      "Cbc0010I After 12100 nodes, 1246 on tree, 113017.26 best solution, best possible 105062.82 (282.92 seconds)\n",
      "Cbc0010I After 12200 nodes, 1296 on tree, 113017.26 best solution, best possible 105065.59 (287.56 seconds)\n",
      "Cbc0010I After 12300 nodes, 1346 on tree, 113017.26 best solution, best possible 105069.67 (291.90 seconds)\n",
      "Cbc0010I After 12400 nodes, 1396 on tree, 113017.26 best solution, best possible 105073.36 (295.43 seconds)\n",
      "Cbc0020I Exiting on maximum time\n",
      "Cbc0005I Partial search - best objective 113017.26 (best possible 105073.36), took 863634 iterations and 12483 nodes (299.65 seconds)\n",
      "Cbc0032I Strong branching done 37368 times (679159 iterations), fathomed 1094 nodes and fixed 3489 variables\n",
      "Cbc0035I Maximum depth 170, 366140 variables fixed on reduced cost\n",
      "Cuts at root node changed objective from 104286 to 104878\n",
      "Gomory was tried 3902 times and created 2650 cuts of which 0 were active after adding rounds of cuts (16.397 seconds)\n",
      "MixedIntegerRounding2 was tried 5659 times and created 4194 cuts of which 0 were active after adding rounds of cuts (10.146 seconds)\n",
      "FlowCover was tried 3901 times and created 27483 cuts of which 0 were active after adding rounds of cuts (4.800 seconds)\n",
      "\n",
      "Result - Stopped on time limit\n",
      "\n",
      "Objective value:                113017.25676634\n",
      "Lower bound:                    105073.361\n",
      "Gap:                            0.08\n",
      "Enumerated nodes:               12483\n",
      "Total iterations:               863634\n",
      "Time (CPU seconds):             299.71\n",
      "Time (Wallclock seconds):       299.71\n",
      "\n",
      "Total time (CPU seconds):       299.78   (Wallclock seconds):       299.78\n",
      "\n",
      "WARNING: Loading a SolverResults object with an 'aborted' status, but\n",
      "containing a solution\n"
     ]
    }
   ],
   "source": [
    "cbcer.options.update(dict(\n",
    "    ratioGap=0.005,\n",
    "    seconds=300,\n",
    "    timeMode='elapsed',\n",
    "    threads=8,\n",
    "    # if repeatable results are desired, set the seed\n",
    "    RandomCbcSeed=4321,\n",
    "    # the parameters below and more can be experimented with\n",
    "    # http://www.decom.ufop.br/haroldo/files/cbcCommandLine.pdf\n",
    "    nodeStrategy='downFewest',\n",
    "    # Heuristics\n",
    "    Dins='on',\n",
    "    VndVariableNeighborhoodSearch='on',\n",
    "    pivotAndComplement='on',\n",
    "    Rens='on',\n",
    "    Rins='on',\n",
    "    proximitySearch='off',\n",
    "    # Cuts\n",
    "    gomoryCuts='on',\n",
    "    mixedIntegerRoundingCuts='on',\n",
    "    flowCoverCuts='on',\n",
    "    cliqueCuts='off',\n",
    "    twoMirCuts='off',\n",
    "    knapsackCuts='off',\n",
    "    probingCuts='off',\n",
    "    zeroHalfCuts='off',\n",
    "    liftAndProjectCuts='off',\n",
    "    residualCapacityCuts='off',\n",
    "))\n",
    "print(f'Solving \"{model.handle}\": {{R={len(model.R)}, T={len(model.T)}, k={model.k.value}}}\\n')\n",
    "result = cbcer.solve(model, warmstart=model.warmed_by, tee=True)"
   ]
  },
  {
   "cell_type": "markdown",
   "id": "44d06e34-832a-49fd-9a49-6ecb0ed431ee",
   "metadata": {},
   "source": [
    "### Trace routes from solution topology"
   ]
  },
  {
   "cell_type": "code",
   "execution_count": 15,
   "id": "48f4174b-3adb-4cbf-8cb4-00b58cf226d0",
   "metadata": {},
   "outputs": [],
   "source": [
    "S = omo.S_from_solution(model, cbcer, result)\n",
    "G = G_from_S(S, A)\n",
    "H = PathFinder(G, planar=P, A=A).create_detours()"
   ]
  },
  {
   "cell_type": "code",
   "execution_count": 16,
   "id": "42b84cd0-d148-4e5d-907c-7de61dc17450",
   "metadata": {},
   "outputs": [
    {
     "data": {
      "image/svg+xml": [
       "<svg xmlns=\"http://www.w3.org/2000/svg\" viewBox=\"0 0 1920 1080\"><defs><filter x=\"-5%\" y=\"-5%\" id=\"bg_textbox\" width=\"110%\" height=\"110%\"><feFlood flood-opacity=\"0.7\" flood-color=\"#111\" result=\"bg\"/><feMerge><feMergeNode in=\"bg\"/><feMergeNode in=\"SourceGraphic\"/></feMerge></filter><circle stroke=\"none\" stroke-width=\"2\" id=\"wtg\" r=\"12\"/><rect stroke=\"none\" stroke-width=\"2\" id=\"oss\" width=\"21\" height=\"21\" fill=\"lawngreen\"/><circle stroke=\"orange\" stroke-opacity=\"0.3\" stroke-width=\"4\" id=\"dt\" r=\"23\" fill=\"none\"/></defs><g id=\"taylor_2023\"><path stroke=\"silver\" stroke-dasharray=\"15 7\" stroke-width=\"2\" id=\"border\" d=\"M30 544 291 1050 724 822 735 817 973 679 944 712 760 833 1080 1050 1127 561 1037 146 737 30 59 297z M758 253 757 354 724 378 645 314 603 289 676 233z\" fill-rule=\"evenodd\" fill=\"#111\"/><g stroke=\"crimson\" stroke-width=\"4\" id=\"edges_unspecified\"><line x1=\"751\" y1=\"758\" x2=\"698\" y2=\"751\"/><line x1=\"751\" y1=\"758\" x2=\"804\" y2=\"712\"/><line x1=\"751\" y1=\"758\" x2=\"727\" y2=\"680\"/><line x1=\"751\" y1=\"758\" x2=\"664\" y2=\"826\"/><line x1=\"751\" y1=\"758\" x2=\"770\" y2=\"788\"/><line x1=\"751\" y1=\"758\" x2=\"905\" y2=\"675\"/><line x1=\"751\" y1=\"758\" x2=\"836\" y2=\"638\"/><line x1=\"751\" y1=\"758\" x2=\"517\" y2=\"754\"/><line x1=\"1057\" y1=\"741\" x2=\"1023\" y2=\"812\"/><line x1=\"664\" y1=\"826\" x2=\"592\" y2=\"792\"/><line x1=\"698\" y1=\"751\" x2=\"625\" y2=\"715\"/><line x1=\"940\" y1=\"600\" x2=\"804\" y2=\"712\"/><line x1=\"760\" y1=\"605\" x2=\"727\" y2=\"680\"/><line x1=\"869\" y1=\"562\" x2=\"836\" y2=\"638\"/><line x1=\"517\" y1=\"754\" x2=\"487\" y2=\"830\"/><line x1=\"517\" y1=\"754\" x2=\"441\" y2=\"721\"/><line x1=\"1014\" y1=\"631\" x2=\"905\" y2=\"675\"/><line x1=\"981\" y1=\"706\" x2=\"944\" y2=\"776\"/><line x1=\"476\" y1=\"340\" x2=\"532\" y2=\"315\"/><line x1=\"476\" y1=\"340\" x2=\"458\" y2=\"278\"/><line x1=\"476\" y1=\"340\" x2=\"391\" y2=\"425\"/><line x1=\"476\" y1=\"340\" x2=\"498\" y2=\"388\"/><line x1=\"476\" y1=\"340\" x2=\"424\" y2=\"350\"/><line x1=\"476\" y1=\"340\" x2=\"464\" y2=\"460\"/><line x1=\"476\" y1=\"340\" x2=\"316\" y2=\"390\"/><line x1=\"564\" y1=\"241\" x2=\"532\" y2=\"315\"/><line x1=\"574\" y1=\"423\" x2=\"498\" y2=\"388\"/><line x1=\"424\" y1=\"350\" x2=\"350\" y2=\"316\"/><line x1=\"464\" y1=\"460\" x2=\"433\" y2=\"536\"/><line x1=\"488\" y1=\"202\" x2=\"458\" y2=\"278\"/><line x1=\"316\" y1=\"390\" x2=\"241\" y2=\"360\"/><line x1=\"276\" y1=\"282\" x2=\"201\" y2=\"250\"/><line x1=\"391\" y1=\"425\" x2=\"359\" y2=\"500\"/><line x1=\"737\" y1=\"239\" x2=\"666\" y2=\"206\"/><line x1=\"605\" y1=\"348\" x2=\"574\" y2=\"423\"/><line x1=\"677\" y1=\"380\" x2=\"605\" y2=\"348\"/><line x1=\"646\" y1=\"456\" x2=\"574\" y2=\"423\"/><line x1=\"751\" y1=\"414\" x2=\"677\" y2=\"380\"/><line x1=\"412\" y1=\"167\" x2=\"382\" y2=\"241\"/><line x1=\"382\" y1=\"241\" x2=\"350\" y2=\"316\"/><line x1=\"382\" y1=\"241\" x2=\"306\" y2=\"209\"/><line x1=\"1006\" y1=\"450\" x2=\"972\" y2=\"524\"/><line x1=\"972\" y1=\"524\" x2=\"940\" y2=\"600\"/><line x1=\"1038\" y1=\"377\" x2=\"1006\" y2=\"450\"/><line x1=\"962\" y1=\"338\" x2=\"930\" y2=\"412\"/><line x1=\"930\" y1=\"412\" x2=\"899\" y2=\"485\"/><line x1=\"899\" y1=\"485\" x2=\"869\" y2=\"562\"/><line x1=\"1091\" y1=\"849\" x2=\"1023\" y2=\"812\"/><line x1=\"1091\" y1=\"849\" x2=\"1066\" y2=\"921\"/><line x1=\"881\" y1=\"119\" x2=\"846\" y2=\"194\"/><line x1=\"955\" y1=\"155\" x2=\"881\" y2=\"119\"/><line x1=\"921\" y1=\"231\" x2=\"846\" y2=\"194\"/><line x1=\"846\" y1=\"194\" x2=\"771\" y2=\"162\"/><line x1=\"1029\" y1=\"190\" x2=\"955\" y2=\"155\"/><line x1=\"771\" y1=\"162\" x2=\"737\" y2=\"239\"/><line x1=\"885\" y1=\"305\" x2=\"852\" y2=\"380\"/><line x1=\"852\" y1=\"380\" x2=\"823\" y2=\"456\"/><line x1=\"823\" y1=\"456\" x2=\"793\" y2=\"530\"/><line x1=\"593\" y1=\"163\" x2=\"564\" y2=\"241\"/><line x1=\"1115\" y1=\"594\" x2=\"1048\" y2=\"556\"/><line x1=\"1115\" y1=\"594\" x2=\"1090\" y2=\"665\"/><line x1=\"1080\" y1=\"482\" x2=\"1048\" y2=\"556\"/><line x1=\"1048\" y1=\"556\" x2=\"1014\" y2=\"631\"/><line x1=\"1063\" y1=\"302\" x2=\"997\" y2=\"265\"/><line x1=\"1063\" y1=\"302\" x2=\"1038\" y2=\"377\"/><line x1=\"184\" y1=\"690\" x2=\"111\" y2=\"656\"/><line x1=\"184\" y1=\"690\" x2=\"154\" y2=\"766\"/><line x1=\"144\" y1=\"581\" x2=\"111\" y2=\"656\"/><line x1=\"688\" y1=\"564\" x2=\"655\" y2=\"638\"/><line x1=\"721\" y1=\"490\" x2=\"688\" y2=\"564\"/><line x1=\"655\" y1=\"638\" x2=\"625\" y2=\"715\"/><line x1=\"625\" y1=\"715\" x2=\"552\" y2=\"680\"/><line x1=\"614\" y1=\"530\" x2=\"539\" y2=\"499\"/><line x1=\"539\" y1=\"499\" x2=\"504\" y2=\"572\"/><line x1=\"579\" y1=\"604\" x2=\"552\" y2=\"680\"/><line x1=\"552\" y1=\"680\" x2=\"477\" y2=\"647\"/><line x1=\"779\" y1=\"340\" x2=\"751\" y2=\"414\"/><line x1=\"731\" y1=\"49\" x2=\"698\" y2=\"122\"/><line x1=\"698\" y1=\"122\" x2=\"623\" y2=\"88\"/><line x1=\"623\" y1=\"88\" x2=\"593\" y2=\"163\"/><line x1=\"517\" y1=\"127\" x2=\"488\" y2=\"202\"/><line x1=\"793\" y1=\"530\" x2=\"760\" y2=\"605\"/><line x1=\"133\" y1=\"399\" x2=\"62\" y2=\"364\"/><line x1=\"133\" y1=\"399\" x2=\"101\" y2=\"471\"/><line x1=\"96\" y1=\"292\" x2=\"62\" y2=\"364\"/><line x1=\"809\" y1=\"270\" x2=\"779\" y2=\"340\"/><line x1=\"806\" y1=\"84\" x2=\"731\" y2=\"49\"/><line x1=\"504\" y1=\"572\" x2=\"433\" y2=\"536\"/><line x1=\"433\" y1=\"536\" x2=\"403\" y2=\"611\"/><line x1=\"984\" y1=\"888\" x2=\"911\" y2=\"856\"/><line x1=\"984\" y1=\"888\" x2=\"957\" y2=\"962\"/><line x1=\"944\" y1=\"776\" x2=\"911\" y2=\"856\"/><line x1=\"911\" y1=\"856\" x2=\"841\" y2=\"824\"/><line x1=\"343\" y1=\"947\" x2=\"311\" y2=\"1021\"/><line x1=\"415\" y1=\"975\" x2=\"343\" y2=\"947\"/><line x1=\"1066\" y1=\"921\" x2=\"1033\" y2=\"1000\"/><line x1=\"592\" y1=\"792\" x2=\"559\" y2=\"867\"/><line x1=\"559\" y1=\"867\" x2=\"455\" y2=\"904\"/><line x1=\"411\" y1=\"797\" x2=\"378\" y2=\"869\"/><line x1=\"378\" y1=\"869\" x2=\"302\" y2=\"835\"/><line x1=\"487\" y1=\"830\" x2=\"411\" y2=\"797\"/><line x1=\"302\" y1=\"835\" x2=\"228\" y2=\"803\"/><line x1=\"302\" y1=\"835\" x2=\"268\" y2=\"909\"/><line x1=\"455\" y1=\"904\" x2=\"415\" y2=\"975\"/><line x1=\"287\" y1=\"466\" x2=\"253\" y2=\"541\"/><line x1=\"359\" y1=\"500\" x2=\"287\" y2=\"466\"/><line x1=\"359\" y1=\"500\" x2=\"328\" y2=\"575\"/><line x1=\"253\" y1=\"541\" x2=\"221\" y2=\"616\"/><line x1=\"209\" y1=\"434\" x2=\"176\" y2=\"509\"/><line x1=\"176\" y1=\"509\" x2=\"144\" y2=\"581\"/><line x1=\"241\" y1=\"360\" x2=\"209\" y2=\"434\"/><line x1=\"101\" y1=\"471\" x2=\"68\" y2=\"548\"/><line x1=\"201\" y1=\"250\" x2=\"170\" y2=\"320\"/><line x1=\"170\" y1=\"320\" x2=\"96\" y2=\"292\"/><line x1=\"296\" y1=\"649\" x2=\"261\" y2=\"726\"/><line x1=\"328\" y1=\"575\" x2=\"296\" y2=\"649\"/><line x1=\"403\" y1=\"611\" x2=\"368\" y2=\"684\"/><line x1=\"368\" y1=\"684\" x2=\"338\" y2=\"759\"/></g><g stroke=\"darkorange\" stroke-dasharray=\"18 15\" stroke-width=\"4\" id=\"detours\" fill=\"none\"><polyline points=\"751 758 973 679 981 706\"/><polyline points=\"751 758 973 679 1057 741\"/><polyline points=\"476 340 424 350 350 316 276 282\"/><polyline points=\"476 340 532 315 666 206\"/></g><g id=\"DTgrp\"><use href=\"#dt\" x=\"973\" y=\"679\"/><use href=\"#dt\" x=\"350\" y=\"316\"/><use href=\"#dt\" x=\"424\" y=\"350\"/><use href=\"#dt\" x=\"532\" y=\"315\"/><use href=\"#dt\" x=\"973\" y=\"679\"/></g><g id=\"WTGgrp\"><g fill=\"#1f77b4\"><use href=\"#wtg\" x=\"1057\" y=\"741\"/><use href=\"#wtg\" x=\"1091\" y=\"849\"/><use href=\"#wtg\" x=\"1023\" y=\"812\"/><use href=\"#wtg\" x=\"1066\" y=\"921\"/><use href=\"#wtg\" x=\"1033\" y=\"1000\"/></g><g fill=\"#aec7e8\"><use href=\"#wtg\" x=\"664\" y=\"826\"/><use href=\"#wtg\" x=\"311\" y=\"1021\"/><use href=\"#wtg\" x=\"343\" y=\"947\"/><use href=\"#wtg\" x=\"592\" y=\"792\"/><use href=\"#wtg\" x=\"559\" y=\"867\"/><use href=\"#wtg\" x=\"415\" y=\"975\"/><use href=\"#wtg\" x=\"455\" y=\"904\"/></g><g fill=\"#ff7f0e\"><use href=\"#wtg\" x=\"698\" y=\"751\"/><use href=\"#wtg\" x=\"688\" y=\"564\"/><use href=\"#wtg\" x=\"655\" y=\"638\"/><use href=\"#wtg\" x=\"721\" y=\"490\"/><use href=\"#wtg\" x=\"625\" y=\"715\"/><use href=\"#wtg\" x=\"579\" y=\"604\"/><use href=\"#wtg\" x=\"552\" y=\"680\"/><use href=\"#wtg\" x=\"477\" y=\"647\"/></g><g fill=\"#ffbb78\"><use href=\"#wtg\" x=\"804\" y=\"712\"/><use href=\"#wtg\" x=\"972\" y=\"524\"/><use href=\"#wtg\" x=\"940\" y=\"600\"/><use href=\"#wtg\" x=\"1006\" y=\"450\"/><use href=\"#wtg\" x=\"1063\" y=\"302\"/><use href=\"#wtg\" x=\"1038\" y=\"377\"/><use href=\"#wtg\" x=\"997\" y=\"265\"/></g><g fill=\"#2ca02c\"><use href=\"#wtg\" x=\"727\" y=\"680\"/><use href=\"#wtg\" x=\"885\" y=\"305\"/><use href=\"#wtg\" x=\"852\" y=\"380\"/><use href=\"#wtg\" x=\"823\" y=\"456\"/><use href=\"#wtg\" x=\"793\" y=\"530\"/><use href=\"#wtg\" x=\"760\" y=\"605\"/></g><g fill=\"#98df8a\"><use href=\"#wtg\" x=\"836\" y=\"638\"/><use href=\"#wtg\" x=\"930\" y=\"412\"/><use href=\"#wtg\" x=\"899\" y=\"485\"/><use href=\"#wtg\" x=\"869\" y=\"562\"/><use href=\"#wtg\" x=\"962\" y=\"338\"/></g><g fill=\"#d62728\"><use href=\"#wtg\" x=\"770\" y=\"788\"/></g><g fill=\"#ff9896\"><use href=\"#wtg\" x=\"517\" y=\"754\"/><use href=\"#wtg\" x=\"378\" y=\"869\"/><use href=\"#wtg\" x=\"411\" y=\"797\"/><use href=\"#wtg\" x=\"487\" y=\"830\"/><use href=\"#wtg\" x=\"302\" y=\"835\"/><use href=\"#wtg\" x=\"228\" y=\"803\"/><use href=\"#wtg\" x=\"268\" y=\"909\"/><use href=\"#wtg\" x=\"441\" y=\"721\"/></g><g fill=\"#9467bd\"><use href=\"#wtg\" x=\"905\" y=\"675\"/><use href=\"#wtg\" x=\"1115\" y=\"594\"/><use href=\"#wtg\" x=\"1048\" y=\"556\"/><use href=\"#wtg\" x=\"1014\" y=\"631\"/><use href=\"#wtg\" x=\"1080\" y=\"482\"/><use href=\"#wtg\" x=\"1090\" y=\"665\"/></g><g fill=\"#c5b0d5\"><use href=\"#wtg\" x=\"981\" y=\"706\"/><use href=\"#wtg\" x=\"984\" y=\"888\"/><use href=\"#wtg\" x=\"911\" y=\"856\"/><use href=\"#wtg\" x=\"841\" y=\"824\"/><use href=\"#wtg\" x=\"957\" y=\"962\"/><use href=\"#wtg\" x=\"944\" y=\"776\"/></g><g fill=\"#8c564b\"><use href=\"#wtg\" x=\"532\" y=\"315\"/><use href=\"#wtg\" x=\"564\" y=\"241\"/><use href=\"#wtg\" x=\"698\" y=\"122\"/><use href=\"#wtg\" x=\"623\" y=\"88\"/><use href=\"#wtg\" x=\"593\" y=\"163\"/><use href=\"#wtg\" x=\"731\" y=\"49\"/><use href=\"#wtg\" x=\"806\" y=\"84\"/></g><g fill=\"#c49c94\"><use href=\"#wtg\" x=\"498\" y=\"388\"/><use href=\"#wtg\" x=\"605\" y=\"348\"/><use href=\"#wtg\" x=\"574\" y=\"423\"/><use href=\"#wtg\" x=\"677\" y=\"380\"/><use href=\"#wtg\" x=\"646\" y=\"456\"/><use href=\"#wtg\" x=\"751\" y=\"414\"/><use href=\"#wtg\" x=\"809\" y=\"270\"/><use href=\"#wtg\" x=\"779\" y=\"340\"/></g><g fill=\"#e377c2\"><use href=\"#wtg\" x=\"424\" y=\"350\"/><use href=\"#wtg\" x=\"412\" y=\"167\"/><use href=\"#wtg\" x=\"382\" y=\"241\"/><use href=\"#wtg\" x=\"350\" y=\"316\"/><use href=\"#wtg\" x=\"306\" y=\"209\"/></g><g fill=\"#f7b6d2\"><use href=\"#wtg\" x=\"464\" y=\"460\"/><use href=\"#wtg\" x=\"614\" y=\"530\"/><use href=\"#wtg\" x=\"539\" y=\"499\"/><use href=\"#wtg\" x=\"504\" y=\"572\"/><use href=\"#wtg\" x=\"433\" y=\"536\"/><use href=\"#wtg\" x=\"403\" y=\"611\"/><use href=\"#wtg\" x=\"338\" y=\"759\"/><use href=\"#wtg\" x=\"368\" y=\"684\"/></g><g fill=\"#7f7f7f\"><use href=\"#wtg\" x=\"458\" y=\"278\"/><use href=\"#wtg\" x=\"517\" y=\"127\"/><use href=\"#wtg\" x=\"488\" y=\"202\"/></g><g fill=\"#c7c7c7\"><use href=\"#wtg\" x=\"316\" y=\"390\"/><use href=\"#wtg\" x=\"184\" y=\"690\"/><use href=\"#wtg\" x=\"111\" y=\"656\"/><use href=\"#wtg\" x=\"154\" y=\"766\"/><use href=\"#wtg\" x=\"176\" y=\"509\"/><use href=\"#wtg\" x=\"209\" y=\"434\"/><use href=\"#wtg\" x=\"241\" y=\"360\"/><use href=\"#wtg\" x=\"144\" y=\"581\"/></g><g fill=\"#bcbd22\"><use href=\"#wtg\" x=\"276\" y=\"282\"/><use href=\"#wtg\" x=\"133\" y=\"399\"/><use href=\"#wtg\" x=\"62\" y=\"364\"/><use href=\"#wtg\" x=\"68\" y=\"548\"/><use href=\"#wtg\" x=\"101\" y=\"471\"/><use href=\"#wtg\" x=\"201\" y=\"250\"/><use href=\"#wtg\" x=\"96\" y=\"292\"/><use href=\"#wtg\" x=\"170\" y=\"320\"/></g><g fill=\"#dbdb8d\"><use href=\"#wtg\" x=\"391\" y=\"425\"/><use href=\"#wtg\" x=\"287\" y=\"466\"/><use href=\"#wtg\" x=\"359\" y=\"500\"/><use href=\"#wtg\" x=\"253\" y=\"541\"/><use href=\"#wtg\" x=\"261\" y=\"726\"/><use href=\"#wtg\" x=\"296\" y=\"649\"/><use href=\"#wtg\" x=\"328\" y=\"575\"/><use href=\"#wtg\" x=\"221\" y=\"616\"/></g><g fill=\"#17becf\"><use href=\"#wtg\" x=\"666\" y=\"206\"/><use href=\"#wtg\" x=\"881\" y=\"119\"/><use href=\"#wtg\" x=\"846\" y=\"194\"/><use href=\"#wtg\" x=\"955\" y=\"155\"/><use href=\"#wtg\" x=\"771\" y=\"162\"/><use href=\"#wtg\" x=\"921\" y=\"231\"/><use href=\"#wtg\" x=\"1029\" y=\"190\"/><use href=\"#wtg\" x=\"737\" y=\"239\"/></g></g><g id=\"OSSgrp\"><use href=\"#oss\" x=\"740.5\" y=\"747.5\"/><use href=\"#oss\" x=\"465.5\" y=\"329.5\"/></g></g><text filter=\"url(#bg_textbox)\" text-anchor=\"end\" font-family=\"sans-serif\" font-size=\"40\" fill=\"white\" x=\"1127\" y=\"1050\"><tspan x=\"1127\" dy=\"-0.0em\">&#931;&#955; = 113112.0 m</tspan><tspan x=\"1127\" dy=\"-1.3em\">(+3) &#945;: 9, &#946;: 10</tspan><tspan x=\"1127\" dy=\"-1.3em\">&#954; = 8, T = 122</tspan></text></svg>"
      ],
      "text/plain": [
       "<optiwindnet.svg.SvgRepr at 0x24f30c37950>"
      ]
     },
     "execution_count": 16,
     "metadata": {},
     "output_type": "execute_result"
    }
   ],
   "source": [
    "svgplot(H)"
   ]
  }
 ],
 "metadata": {
  "kernelspec": {
   "display_name": "OptiWindNet",
   "language": "python",
   "name": "python3"
  },
  "language_info": {
   "codemirror_mode": {
    "name": "ipython",
    "version": 3
   },
   "file_extension": ".py",
   "mimetype": "text/x-python",
   "name": "python",
   "nbconvert_exporter": "python",
   "pygments_lexer": "ipython3",
   "version": "3.12.9"
  }
 },
 "nbformat": 4,
 "nbformat_minor": 5
}
