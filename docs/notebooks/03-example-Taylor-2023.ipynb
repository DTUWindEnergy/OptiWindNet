{
 "cells": [
  {
   "cell_type": "markdown",
   "id": "20e88a37-648d-44f2-a4cc-83e2e7385bc1",
   "metadata": {},
   "source": [
    "## Example -- Taylor 2023"
   ]
  },
  {
   "cell_type": "markdown",
   "id": "3da71e0a-3861-4a7c-8eaa-de84bce11338",
   "metadata": {},
   "source": [
    "Example of using `optiwindnet` for routing the cables of a wind farm location with 122 turbines and 2 substations, which has a concave cable-laying area and one obstacle within that area.\n",
    "\n",
    "Additional complexity on the geometry of the location has negligible impact on the solving time, as it does not increase the number of variables in the MILP model."
   ]
  },
  {
   "cell_type": "code",
   "execution_count": 1,
   "id": "e1d9344f-da3c-4aa4-b677-f6201323a5b7",
   "metadata": {},
   "outputs": [],
   "source": [
    "import pyomo.environ as pyo"
   ]
  },
  {
   "cell_type": "code",
   "execution_count": 2,
   "id": "a1ae5f35-904c-48de-a19a-4be303e46327",
   "metadata": {},
   "outputs": [],
   "source": [
    "from optiwindnet.importer import load_repository\n",
    "from optiwindnet.svg import svgplot\n",
    "from optiwindnet.interarraylib import G_from_S\n",
    "from optiwindnet.mesh import make_planar_embedding\n",
    "from optiwindnet.pathfinding import PathFinder\n",
    "from optiwindnet.heuristics import EW_presolver\n",
    "import optiwindnet.MILP.pyomo as omo"
   ]
  },
  {
   "cell_type": "markdown",
   "id": "c9f89a60-cb04-48b3-95f3-2862071f1917",
   "metadata": {},
   "source": [
    "### Solvers"
   ]
  },
  {
   "cell_type": "markdown",
   "id": "6a94f031-892d-4043-95e2-7a2aa325ec57",
   "metadata": {},
   "source": [
    "Using a MILP solver can produce better solutions. This notebook uses COIN-OR CBC but examples for other solvers can be found in the *MILP* notebooks.\n",
    "\n",
    "There are some differences in solver parameters even for the ones supported through pyomo.\n",
    "\n",
    "Gurobi and IBM ILOG CPLEX are comercial solvers (academic license available). Google's OR-Tools, COIN-OR CBC, SCIP and HiGHS are open-source software."
   ]
  },
  {
   "cell_type": "code",
   "execution_count": 3,
   "id": "785a2d76-b27a-4b4d-8075-d3deae96472a",
   "metadata": {},
   "outputs": [
    {
     "data": {
      "text/plain": [
       "(False, pyomo.solvers.plugins.solvers.CBCplugin.CBCSHELL)"
      ]
     },
     "execution_count": 3,
     "metadata": {},
     "output_type": "execute_result"
    }
   ],
   "source": [
    "cbcer = pyo.SolverFactory('cbc')\n",
    "cbcer.available(), type(cbcer)"
   ]
  },
  {
   "cell_type": "markdown",
   "id": "c37992fa-ecd0-4eec-9485-01c721213b72",
   "metadata": {},
   "source": [
    "### Load input data"
   ]
  },
  {
   "cell_type": "code",
   "execution_count": 4,
   "id": "9e47e5ac-661d-4084-ba6b-157aebe72cd8",
   "metadata": {},
   "outputs": [],
   "source": [
    "locations = load_repository()"
   ]
  },
  {
   "cell_type": "markdown",
   "id": "13a15e55-d94a-4af3-a2a2-a400367f926f",
   "metadata": {},
   "source": [
    "Using example location from <https://onlinelibrary.wiley.com/doi/abs/10.1049/rpg2.12593>."
   ]
  },
  {
   "cell_type": "code",
   "execution_count": 5,
   "id": "be962345-987c-4324-8572-928ab8b50564",
   "metadata": {},
   "outputs": [],
   "source": [
    "L = locations.taylor_2023"
   ]
  },
  {
   "cell_type": "markdown",
   "id": "621c55e4-3cfa-4057-8347-93ea6459c124",
   "metadata": {},
   "source": [
    "Note: To view SVG cell outputs, trust this notebook first."
   ]
  },
  {
   "cell_type": "code",
   "execution_count": 6,
   "id": "3eea4fa5-fed1-49bb-9129-ceb807345472",
   "metadata": {},
   "outputs": [
    {
     "data": {
      "image/svg+xml": [
       "<svg xmlns=\"http://www.w3.org/2000/svg\" viewBox=\"0 0 1920 1080\"><defs ><filter x=\"-5%\" y=\"-5%\" id=\"bg_textbox\" width=\"110%\" height=\"110%\"><feFlood flood-opacity=\"0.7\" flood-color=\"#111\" result=\"bg\"/><feMerge ><feMergeNode in=\"bg\"/><feMergeNode in=\"SourceGraphic\"/></feMerge></filter><circle stroke=\"none\" stroke-width=\"2\" id=\"wtg\" r=\"12\"/><rect stroke=\"none\" stroke-width=\"2\" id=\"oss\" width=\"21\" height=\"21\" fill=\"lawngreen\"/></defs><g id=\"taylor_2023\"><path stroke=\"silver\" stroke-dasharray=\"15 7\" stroke-width=\"2\" id=\"border\" d=\"M30 544 291 1050 724 822 735 817 973 679 944 712 760 833 1080 1050 1127 561 1037 146 737 30 59 297z M758 253 757 354 724 378 645 314 603 289 676 233z\" fill-rule=\"evenodd\" fill=\"#111\"/><g id=\"WTGgrp\"><g fill=\"#9edae5\"><use href=\"#wtg\" x=\"1091\" y=\"849\"/><use href=\"#wtg\" x=\"1066\" y=\"921\"/><use href=\"#wtg\" x=\"1033\" y=\"1000\"/><use href=\"#wtg\" x=\"1115\" y=\"594\"/><use href=\"#wtg\" x=\"1090\" y=\"665\"/><use href=\"#wtg\" x=\"1057\" y=\"741\"/><use href=\"#wtg\" x=\"1023\" y=\"812\"/><use href=\"#wtg\" x=\"984\" y=\"888\"/><use href=\"#wtg\" x=\"957\" y=\"962\"/><use href=\"#wtg\" x=\"1080\" y=\"482\"/><use href=\"#wtg\" x=\"1048\" y=\"556\"/><use href=\"#wtg\" x=\"1014\" y=\"631\"/><use href=\"#wtg\" x=\"981\" y=\"706\"/><use href=\"#wtg\" x=\"944\" y=\"776\"/><use href=\"#wtg\" x=\"911\" y=\"856\"/><use href=\"#wtg\" x=\"1063\" y=\"302\"/><use href=\"#wtg\" x=\"1038\" y=\"377\"/><use href=\"#wtg\" x=\"1006\" y=\"450\"/><use href=\"#wtg\" x=\"972\" y=\"524\"/><use href=\"#wtg\" x=\"940\" y=\"600\"/><use href=\"#wtg\" x=\"905\" y=\"675\"/><use href=\"#wtg\" x=\"841\" y=\"824\"/><use href=\"#wtg\" x=\"1029\" y=\"190\"/><use href=\"#wtg\" x=\"997\" y=\"265\"/><use href=\"#wtg\" x=\"962\" y=\"338\"/><use href=\"#wtg\" x=\"930\" y=\"412\"/><use href=\"#wtg\" x=\"899\" y=\"485\"/><use href=\"#wtg\" x=\"869\" y=\"562\"/><use href=\"#wtg\" x=\"836\" y=\"638\"/><use href=\"#wtg\" x=\"804\" y=\"712\"/><use href=\"#wtg\" x=\"770\" y=\"788\"/><use href=\"#wtg\" x=\"955\" y=\"155\"/><use href=\"#wtg\" x=\"921\" y=\"231\"/><use href=\"#wtg\" x=\"885\" y=\"305\"/><use href=\"#wtg\" x=\"852\" y=\"380\"/><use href=\"#wtg\" x=\"823\" y=\"456\"/><use href=\"#wtg\" x=\"793\" y=\"530\"/><use href=\"#wtg\" x=\"760\" y=\"605\"/><use href=\"#wtg\" x=\"727\" y=\"680\"/><use href=\"#wtg\" x=\"698\" y=\"751\"/><use href=\"#wtg\" x=\"664\" y=\"826\"/><use href=\"#wtg\" x=\"881\" y=\"119\"/><use href=\"#wtg\" x=\"846\" y=\"194\"/><use href=\"#wtg\" x=\"809\" y=\"270\"/><use href=\"#wtg\" x=\"779\" y=\"340\"/><use href=\"#wtg\" x=\"751\" y=\"414\"/><use href=\"#wtg\" x=\"721\" y=\"490\"/><use href=\"#wtg\" x=\"688\" y=\"564\"/><use href=\"#wtg\" x=\"655\" y=\"638\"/><use href=\"#wtg\" x=\"625\" y=\"715\"/><use href=\"#wtg\" x=\"592\" y=\"792\"/><use href=\"#wtg\" x=\"559\" y=\"867\"/><use href=\"#wtg\" x=\"806\" y=\"84\"/><use href=\"#wtg\" x=\"771\" y=\"162\"/><use href=\"#wtg\" x=\"737\" y=\"239\"/><use href=\"#wtg\" x=\"677\" y=\"380\"/><use href=\"#wtg\" x=\"646\" y=\"456\"/><use href=\"#wtg\" x=\"614\" y=\"530\"/><use href=\"#wtg\" x=\"579\" y=\"604\"/><use href=\"#wtg\" x=\"552\" y=\"680\"/><use href=\"#wtg\" x=\"517\" y=\"754\"/><use href=\"#wtg\" x=\"487\" y=\"830\"/><use href=\"#wtg\" x=\"455\" y=\"904\"/><use href=\"#wtg\" x=\"415\" y=\"975\"/><use href=\"#wtg\" x=\"731\" y=\"49\"/><use href=\"#wtg\" x=\"698\" y=\"122\"/><use href=\"#wtg\" x=\"666\" y=\"206\"/><use href=\"#wtg\" x=\"605\" y=\"348\"/><use href=\"#wtg\" x=\"574\" y=\"423\"/><use href=\"#wtg\" x=\"539\" y=\"499\"/><use href=\"#wtg\" x=\"504\" y=\"572\"/><use href=\"#wtg\" x=\"477\" y=\"647\"/><use href=\"#wtg\" x=\"441\" y=\"721\"/><use href=\"#wtg\" x=\"411\" y=\"797\"/><use href=\"#wtg\" x=\"378\" y=\"869\"/><use href=\"#wtg\" x=\"343\" y=\"947\"/><use href=\"#wtg\" x=\"311\" y=\"1021\"/><use href=\"#wtg\" x=\"623\" y=\"88\"/><use href=\"#wtg\" x=\"593\" y=\"163\"/><use href=\"#wtg\" x=\"564\" y=\"241\"/><use href=\"#wtg\" x=\"532\" y=\"315\"/><use href=\"#wtg\" x=\"498\" y=\"388\"/><use href=\"#wtg\" x=\"464\" y=\"460\"/><use href=\"#wtg\" x=\"433\" y=\"536\"/><use href=\"#wtg\" x=\"403\" y=\"611\"/><use href=\"#wtg\" x=\"368\" y=\"684\"/><use href=\"#wtg\" x=\"338\" y=\"759\"/><use href=\"#wtg\" x=\"302\" y=\"835\"/><use href=\"#wtg\" x=\"268\" y=\"909\"/><use href=\"#wtg\" x=\"517\" y=\"127\"/><use href=\"#wtg\" x=\"488\" y=\"202\"/><use href=\"#wtg\" x=\"458\" y=\"278\"/><use href=\"#wtg\" x=\"424\" y=\"350\"/><use href=\"#wtg\" x=\"391\" y=\"425\"/><use href=\"#wtg\" x=\"359\" y=\"500\"/><use href=\"#wtg\" x=\"328\" y=\"575\"/><use href=\"#wtg\" x=\"296\" y=\"649\"/><use href=\"#wtg\" x=\"261\" y=\"726\"/><use href=\"#wtg\" x=\"228\" y=\"803\"/><use href=\"#wtg\" x=\"412\" y=\"167\"/><use href=\"#wtg\" x=\"382\" y=\"241\"/><use href=\"#wtg\" x=\"350\" y=\"316\"/><use href=\"#wtg\" x=\"316\" y=\"390\"/><use href=\"#wtg\" x=\"287\" y=\"466\"/><use href=\"#wtg\" x=\"253\" y=\"541\"/><use href=\"#wtg\" x=\"221\" y=\"616\"/><use href=\"#wtg\" x=\"184\" y=\"690\"/><use href=\"#wtg\" x=\"154\" y=\"766\"/><use href=\"#wtg\" x=\"306\" y=\"209\"/><use href=\"#wtg\" x=\"276\" y=\"282\"/><use href=\"#wtg\" x=\"241\" y=\"360\"/><use href=\"#wtg\" x=\"209\" y=\"434\"/><use href=\"#wtg\" x=\"176\" y=\"509\"/><use href=\"#wtg\" x=\"144\" y=\"581\"/><use href=\"#wtg\" x=\"111\" y=\"656\"/><use href=\"#wtg\" x=\"201\" y=\"250\"/><use href=\"#wtg\" x=\"170\" y=\"320\"/><use href=\"#wtg\" x=\"133\" y=\"399\"/><use href=\"#wtg\" x=\"101\" y=\"471\"/><use href=\"#wtg\" x=\"68\" y=\"548\"/><use href=\"#wtg\" x=\"96\" y=\"292\"/><use href=\"#wtg\" x=\"62\" y=\"364\"/></g></g><g id=\"OSSgrp\"><use href=\"#oss\" x=\"740.5\" y=\"747.5\"/><use href=\"#oss\" x=\"465.5\" y=\"329.5\"/></g></g></svg>"
      ],
      "text/plain": [
       "<optiwindnet.svg.SvgRepr at 0x17855068cb0>"
      ]
     },
     "execution_count": 6,
     "metadata": {},
     "output_type": "execute_result"
    }
   ],
   "source": [
    "svgplot(L)"
   ]
  },
  {
   "cell_type": "markdown",
   "id": "6e8e879e-618a-48d3-a2f6-6ab4db6af00f",
   "metadata": {},
   "source": [
    "When the location has more than one substation, we cannot use the *HGS-CVRP* meta-heuristic. Instead, we may use a very fast heuristic: *Esau-Williams presolver* (**EW_presolver**).\n",
    "\n",
    "**EW_presolver** has the downside of not limiting the number of feeders, thus the model to be warm-started must also have an unlimited number of feeders. This is usually not a problem, as most cable route sets produced by the MILP solver use the minimum number of feeders or only one more than the minimum."
   ]
  },
  {
   "cell_type": "markdown",
   "id": "59c0d61e-4daf-44f3-af91-f096952f07ab",
   "metadata": {},
   "source": [
    "### Generate the warm-start solution"
   ]
  },
  {
   "cell_type": "code",
   "execution_count": 7,
   "id": "82b73456-df11-4cae-a3f5-61921a434bbb",
   "metadata": {},
   "outputs": [],
   "source": [
    "P, A = make_planar_embedding(L)"
   ]
  },
  {
   "cell_type": "code",
   "execution_count": 8,
   "id": "9e10ca77-b6dd-45cf-bf48-68213efc9ded",
   "metadata": {},
   "outputs": [],
   "source": [
    "S_pre = EW_presolver(A, capacity=8)"
   ]
  },
  {
   "cell_type": "markdown",
   "id": "cff4d530-ff92-483f-9a65-43bc6c89f08c",
   "metadata": {},
   "source": [
    "### Visualizing the warm-start solution"
   ]
  },
  {
   "cell_type": "markdown",
   "id": "799a3e0d-83da-4d3d-a596-a693806da821",
   "metadata": {},
   "source": [
    "This section is unecessary in production."
   ]
  },
  {
   "cell_type": "code",
   "execution_count": 9,
   "id": "3c22ab24-6c0e-4d59-8a6e-c68f81d883fd",
   "metadata": {},
   "outputs": [],
   "source": [
    "G_pre = G_from_S(S_pre, A)"
   ]
  },
  {
   "cell_type": "code",
   "execution_count": 10,
   "id": "f4d4f373-58b5-4ab0-8d6d-7f9d503f12fb",
   "metadata": {},
   "outputs": [
    {
     "ename": "TypeError",
     "evalue": "G.__init__() got an unexpected keyword argument 'stroke_width'",
     "output_type": "error",
     "traceback": [
      "\u001b[31m---------------------------------------------------------------------------\u001b[39m",
      "\u001b[31mTypeError\u001b[39m                                 Traceback (most recent call last)",
      "\u001b[36mCell\u001b[39m\u001b[36m \u001b[39m\u001b[32mIn[10]\u001b[39m\u001b[32m, line 1\u001b[39m\n\u001b[32m----> \u001b[39m\u001b[32m1\u001b[39m \u001b[43msvgplot\u001b[49m\u001b[43m(\u001b[49m\u001b[43mG_pre\u001b[49m\u001b[43m)\u001b[49m\n",
      "\u001b[36mFile \u001b[39m\u001b[32mC:\\code\\OptiWindNet\\optiwindnet\\svg.py:189\u001b[39m, in \u001b[36msvgplot\u001b[39m\u001b[34m(G, landscape, dark, infobox, node_size, github_bugfix)\u001b[39m\n\u001b[32m    187\u001b[39m         \u001b[38;5;28;01mif\u001b[39;00m edge_kind \u001b[38;5;129;01min\u001b[39;00m kind2dasharray:\n\u001b[32m    188\u001b[39m             group_attrs[\u001b[33m'\u001b[39m\u001b[33mstroke_dasharray\u001b[39m\u001b[33m'\u001b[39m] = kind2dasharray[edge_kind]\n\u001b[32m--> \u001b[39m\u001b[32m189\u001b[39m         graphElements.append(\u001b[43msvg\u001b[49m\u001b[43m.\u001b[49m\u001b[43mG\u001b[49m\u001b[43m(\u001b[49m\n\u001b[32m    190\u001b[39m \u001b[43m            \u001b[49m\u001b[38;5;28;43mid\u001b[39;49m\u001b[43m=\u001b[49m\u001b[33;43m'\u001b[39;49m\u001b[33;43medges_\u001b[39;49m\u001b[33;43m'\u001b[39;49m\u001b[43m \u001b[49m\u001b[43m+\u001b[49m\u001b[43m \u001b[49m\u001b[43medge_kind\u001b[49m\u001b[43m,\u001b[49m\n\u001b[32m    191\u001b[39m \u001b[43m            \u001b[49m\u001b[43m*\u001b[49m\u001b[43m*\u001b[49m\u001b[43mgroup_attrs\u001b[49m\u001b[43m,\u001b[49m\n\u001b[32m    192\u001b[39m \u001b[43m            \u001b[49m\u001b[43melements\u001b[49m\u001b[43m=\u001b[49m\u001b[43mlines\u001b[49m\u001b[43m,\u001b[49m\n\u001b[32m    193\u001b[39m \u001b[43m        \u001b[49m\u001b[43m)\u001b[49m)\n\u001b[32m    195\u001b[39m \u001b[38;5;66;03m# detour elements\u001b[39;00m\n\u001b[32m    196\u001b[39m \u001b[38;5;28;01mif\u001b[39;00m D > \u001b[32m0\u001b[39m:\n\u001b[32m    197\u001b[39m     \u001b[38;5;66;03m# Detour edges as polylines (to align the dashes among overlapping lines)\u001b[39;00m\n",
      "\u001b[31mTypeError\u001b[39m: G.__init__() got an unexpected keyword argument 'stroke_width'"
     ]
    }
   ],
   "source": [
    "svgplot(G_pre)"
   ]
  },
  {
   "cell_type": "markdown",
   "id": "6cd7e1d3-c65f-44c0-acf9-776b8c306cf1",
   "metadata": {},
   "source": [
    "If we wanted to use that solution, we should add detours to the feeder cables that have forbidden crossings:"
   ]
  },
  {
   "cell_type": "code",
   "execution_count": null,
   "id": "8ba9fe21-d8e7-4775-8967-4cb82ae44af6",
   "metadata": {},
   "outputs": [],
   "source": [
    "H_pre = PathFinder(G_pre, planar=P, A=A).create_detours()\n",
    "svgplot(H_pre)"
   ]
  },
  {
   "cell_type": "markdown",
   "id": "c28574f8-f005-44dd-b46e-efee042990de",
   "metadata": {},
   "source": [
    "### Create MILP model and optimize it"
   ]
  },
  {
   "cell_type": "code",
   "execution_count": null,
   "id": "908dabdc-c6af-479c-b363-c744eaed92b6",
   "metadata": {
    "scrolled": true
   },
   "outputs": [],
   "source": [
    "model = omo.make_min_length_model(\n",
    "    A, S_pre.graph['capacity'],\n",
    "    gateXings_constraint=False,\n",
    "    gates_limit=False,\n",
    "    branching=True\n",
    ")\n",
    "omo.warmup_model(model, S_pre);"
   ]
  },
  {
   "cell_type": "code",
   "execution_count": null,
   "id": "e6ef15cc-08a7-47c2-92ee-e7d4bebbf9f3",
   "metadata": {},
   "outputs": [],
   "source": [
    "cbcer = pyo.SolverFactory('cbc')\n",
    "cbcer.available(), type(cbcer)"
   ]
  },
  {
   "cell_type": "code",
   "execution_count": null,
   "id": "7174ef85-85dd-42f0-bf97-06f2dd30373d",
   "metadata": {
    "scrolled": true
   },
   "outputs": [],
   "source": [
    "cbcer.options.update(dict(\n",
    "    ratioGap=0.005,\n",
    "    seconds=300,\n",
    "    timeMode='elapsed',\n",
    "    threads=8,\n",
    "    # if repeatable results are desired, set the seed\n",
    "    RandomCbcSeed=4321,\n",
    "    # the parameters below and more can be experimented with\n",
    "    # http://www.decom.ufop.br/haroldo/files/cbcCommandLine.pdf\n",
    "    nodeStrategy='downFewest',\n",
    "    # Heuristics\n",
    "    Dins='on',\n",
    "    VndVariableNeighborhoodSearch='on',\n",
    "    pivotAndComplement='on',\n",
    "    Rens='on',\n",
    "    Rins='on',\n",
    "    proximitySearch='off',\n",
    "    # Cuts\n",
    "    gomoryCuts='on',\n",
    "    mixedIntegerRoundingCuts='on',\n",
    "    flowCoverCuts='on',\n",
    "    cliqueCuts='off',\n",
    "    twoMirCuts='off',\n",
    "    knapsackCuts='off',\n",
    "    probingCuts='off',\n",
    "    zeroHalfCuts='off',\n",
    "    liftAndProjectCuts='off',\n",
    "    residualCapacityCuts='off',\n",
    "))\n",
    "print(f'Solving \"{model.handle}\": {{R={len(model.R)}, T={len(model.T)}, k={model.k.value}}}\\n')\n",
    "result = cbcer.solve(model, warmstart=model.warmed_by, tee=True)"
   ]
  },
  {
   "cell_type": "markdown",
   "id": "44d06e34-832a-49fd-9a49-6ecb0ed431ee",
   "metadata": {},
   "source": [
    "### Trace routes from solution topology"
   ]
  },
  {
   "cell_type": "code",
   "execution_count": null,
   "id": "48f4174b-3adb-4cbf-8cb4-00b58cf226d0",
   "metadata": {},
   "outputs": [],
   "source": [
    "S = omo.S_from_solution(model, cbcer, result)\n",
    "G = G_from_S(S, A)\n",
    "H = PathFinder(G, planar=P, A=A).create_detours()"
   ]
  },
  {
   "cell_type": "code",
   "execution_count": null,
   "id": "42b84cd0-d148-4e5d-907c-7de61dc17450",
   "metadata": {},
   "outputs": [],
   "source": [
    "svgplot(H)"
   ]
  }
 ],
 "metadata": {
  "kernelspec": {
   "display_name": "OptiWindNet",
   "language": "python",
   "name": "python3"
  },
  "language_info": {
   "codemirror_mode": {
    "name": "ipython",
    "version": 3
   },
   "file_extension": ".py",
   "mimetype": "text/x-python",
   "name": "python",
   "nbconvert_exporter": "python",
   "pygments_lexer": "ipython3",
   "version": "3.12.9"
  }
 },
 "nbformat": 4,
 "nbformat_minor": 5
}
