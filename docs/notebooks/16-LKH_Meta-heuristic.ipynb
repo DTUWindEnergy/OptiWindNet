{
 "cells": [
  {
   "cell_type": "markdown",
   "id": "3ce77085-3338-46b2-8784-de1187f43f25",
   "metadata": {},
   "source": [
    "## Lin-Kernighan-Helsgaun meta-heuristic example"
   ]
  },
  {
   "cell_type": "markdown",
   "id": "5003abe0-384b-46d8-87e0-934500cc0496",
   "metadata": {},
   "source": [
    "The meta-heuristic used is K. Helsgaun's [LKH-3](http://akira.ruc.dk/~keld/research/LKH-3/), an extension to [LKH-2](http://akira.ruc.dk/~keld/research/LKH/).\n",
    "\n",
    "- K. Helsgaun, [An Extension of the Lin-Kernighan-Helsgaun TSP Solver for Constrained Traveling Salesman and Vehicle Routing Problems](http://akira.ruc.dk/~keld/research/LKH-3/LKH-3_REPORT.pdf). Technical Report, Roskilde University, 2017."
   ]
  },
  {
   "cell_type": "markdown",
   "id": "3a003e11-a625-460f-865b-62a4439c2628",
   "metadata": {},
   "source": [
    "Notes:\n",
    "- OptiWindNet interfaces with the LKH solver through temporary files and system calls to the `LKH` executable, which must be in the **PATH** environment variable as seen from the Python code.\n",
    "- Keld Helsgaun distributes his implementation (for academic and non-commercial use) as C source code and as a Windows binary at <http://akira.ruc.dk/~keld/research/LKH-3/>.\n",
    "- OptiWindNet's LKH wrapper can only handle single-substation locations at the moment"
   ]
  },
  {
   "cell_type": "markdown",
   "id": "71a324a5-727c-40a0-b4df-72d522633b16",
   "metadata": {},
   "source": [
    "LKH can only produce *radial* topologies. Since a *radial* topology is a special case of the *branched* topology, solutions produced by this method can be used to warm-start both *branched*- and *radial*-topology models.\n",
    "\n",
    "If a routeset is desired, use *PathFinder*."
   ]
  },
  {
   "cell_type": "code",
   "execution_count": 1,
   "id": "672c7061-abbf-4da0-9236-232dde141ac9",
   "metadata": {},
   "outputs": [],
   "source": [
    "from optiwindnet.importer import load_repository\n",
    "from optiwindnet.svg import svgplot\n",
    "from optiwindnet.baselines.lkh import iterative_lkh\n",
    "from optiwindnet.mesh import make_planar_embedding\n",
    "from optiwindnet.pathfinding import PathFinder\n",
    "from optiwindnet.interarraylib import G_from_S, as_normalized"
   ]
  },
  {
   "cell_type": "markdown",
   "id": "92bfd6df-c545-48d2-b4d0-e69a1a6c473b",
   "metadata": {},
   "source": [
    "### Load Greater Gabbard Inner"
   ]
  },
  {
   "cell_type": "code",
   "execution_count": 2,
   "id": "51e1e821-a0ea-47c3-a197-4b625bbf3a3b",
   "metadata": {},
   "outputs": [],
   "source": [
    "locations = load_repository()"
   ]
  },
  {
   "cell_type": "code",
   "execution_count": 3,
   "id": "36ac83fb-02db-4640-b7a5-891715f70b83",
   "metadata": {},
   "outputs": [
    {
     "data": {
      "image/svg+xml": [
       "<svg xmlns=\"http://www.w3.org/2000/svg\" viewBox=\"0 0 1920 1080\"><defs><circle stroke=\"none\" stroke-width=\"2\" id=\"wtg\" r=\"12\"/><rect stroke=\"#111\" stroke-width=\"2\" id=\"oss\" width=\"21\" height=\"21\" fill=\"lawngreen\"/></defs><g id=\"gabbin\"><path stroke=\"silver\" stroke-dasharray=\"15 7\" stroke-width=\"2\" id=\"border\" d=\"M1403 578 1420 1012 449 1050 30 203 243 30 1146 183 1207 278 1186 318 1246 338z\" fill-rule=\"evenodd\" fill=\"#111\"/><g id=\"WTGgrp\"><g fill=\"#9edae5\"><use href=\"#wtg\" x=\"1131\" y=\"196\"/><use href=\"#wtg\" x=\"1172\" y=\"290\"/><use href=\"#wtg\" x=\"1075\" y=\"260\"/><use href=\"#wtg\" x=\"979\" y=\"230\"/><use href=\"#wtg\" x=\"884\" y=\"200\"/><use href=\"#wtg\" x=\"787\" y=\"170\"/><use href=\"#wtg\" x=\"692\" y=\"140\"/><use href=\"#wtg\" x=\"507\" y=\"89\"/><use href=\"#wtg\" x=\"1282\" y=\"412\"/><use href=\"#wtg\" x=\"1116\" y=\"355\"/><use href=\"#wtg\" x=\"1020\" y=\"324\"/><use href=\"#wtg\" x=\"925\" y=\"295\"/><use href=\"#wtg\" x=\"733\" y=\"235\"/><use href=\"#wtg\" x=\"637\" y=\"203\"/><use href=\"#wtg\" x=\"542\" y=\"174\"/><use href=\"#wtg\" x=\"446\" y=\"144\"/><use href=\"#wtg\" x=\"351\" y=\"111\"/><use href=\"#wtg\" x=\"222\" y=\"68\"/><use href=\"#wtg\" x=\"1347\" y=\"512\"/><use href=\"#wtg\" x=\"1252\" y=\"481\"/><use href=\"#wtg\" x=\"1156\" y=\"449\"/><use href=\"#wtg\" x=\"1061\" y=\"419\"/><use href=\"#wtg\" x=\"964\" y=\"389\"/><use href=\"#wtg\" x=\"869\" y=\"359\"/><use href=\"#wtg\" x=\"773\" y=\"329\"/><use href=\"#wtg\" x=\"678\" y=\"298\"/><use href=\"#wtg\" x=\"582\" y=\"268\"/><use href=\"#wtg\" x=\"488\" y=\"238\"/><use href=\"#wtg\" x=\"391\" y=\"207\"/><use href=\"#wtg\" x=\"296\" y=\"176\"/><use href=\"#wtg\" x=\"138\" y=\"128\"/><use href=\"#wtg\" x=\"1399\" y=\"711\"/><use href=\"#wtg\" x=\"1315\" y=\"737\"/><use href=\"#wtg\" x=\"1230\" y=\"672\"/><use href=\"#wtg\" x=\"1113\" y=\"633\"/><use href=\"#wtg\" x=\"1017\" y=\"601\"/><use href=\"#wtg\" x=\"923\" y=\"567\"/><use href=\"#wtg\" x=\"827\" y=\"537\"/><use href=\"#wtg\" x=\"732\" y=\"505\"/><use href=\"#wtg\" x=\"636\" y=\"473\"/><use href=\"#wtg\" x=\"540\" y=\"438\"/><use href=\"#wtg\" x=\"445\" y=\"407\"/><use href=\"#wtg\" x=\"349\" y=\"374\"/><use href=\"#wtg\" x=\"255\" y=\"361\"/><use href=\"#wtg\" x=\"164\" y=\"311\"/><use href=\"#wtg\" x=\"1058\" y=\"697\"/><use href=\"#wtg\" x=\"962\" y=\"664\"/><use href=\"#wtg\" x=\"868\" y=\"632\"/><use href=\"#wtg\" x=\"773\" y=\"601\"/><use href=\"#wtg\" x=\"675\" y=\"569\"/><use href=\"#wtg\" x=\"578\" y=\"535\"/><use href=\"#wtg\" x=\"482\" y=\"502\"/><use href=\"#wtg\" x=\"386\" y=\"470\"/><use href=\"#wtg\" x=\"263\" y=\"458\"/><use href=\"#wtg\" x=\"133\" y=\"389\"/><use href=\"#wtg\" x=\"1404\" y=\"854\"/><use href=\"#wtg\" x=\"1228\" y=\"821\"/><use href=\"#wtg\" x=\"1116\" y=\"786\"/><use href=\"#wtg\" x=\"1002\" y=\"761\"/><use href=\"#wtg\" x=\"907\" y=\"729\"/><use href=\"#wtg\" x=\"811\" y=\"696\"/><use href=\"#wtg\" x=\"618\" y=\"631\"/><use href=\"#wtg\" x=\"521\" y=\"600\"/><use href=\"#wtg\" x=\"426\" y=\"567\"/><use href=\"#wtg\" x=\"329\" y=\"541\"/><use href=\"#wtg\" x=\"179\" y=\"483\"/><use href=\"#wtg\" x=\"1406\" y=\"951\"/><use href=\"#wtg\" x=\"1264\" y=\"919\"/><use href=\"#wtg\" x=\"1140\" y=\"919\"/><use href=\"#wtg\" x=\"1060\" y=\"851\"/><use href=\"#wtg\" x=\"944\" y=\"825\"/><use href=\"#wtg\" x=\"849\" y=\"793\"/><use href=\"#wtg\" x=\"754\" y=\"760\"/><use href=\"#wtg\" x=\"658\" y=\"727\"/><use href=\"#wtg\" x=\"561\" y=\"696\"/><use href=\"#wtg\" x=\"465\" y=\"663\"/><use href=\"#wtg\" x=\"353\" y=\"639\"/><use href=\"#wtg\" x=\"228\" y=\"574\"/><use href=\"#wtg\" x=\"1240\" y=\"1007\"/><use href=\"#wtg\" x=\"1133\" y=\"1013\"/><use href=\"#wtg\" x=\"982\" y=\"921\"/><use href=\"#wtg\" x=\"887\" y=\"888\"/><use href=\"#wtg\" x=\"792\" y=\"856\"/><use href=\"#wtg\" x=\"697\" y=\"823\"/><use href=\"#wtg\" x=\"600\" y=\"792\"/><use href=\"#wtg\" x=\"503\" y=\"758\"/><use href=\"#wtg\" x=\"406\" y=\"729\"/><use href=\"#wtg\" x=\"272\" y=\"668\"/><use href=\"#wtg\" x=\"1022\" y=\"1016\"/><use href=\"#wtg\" x=\"926\" y=\"984\"/><use href=\"#wtg\" x=\"832\" y=\"952\"/><use href=\"#wtg\" x=\"736\" y=\"920\"/><use href=\"#wtg\" x=\"641\" y=\"888\"/><use href=\"#wtg\" x=\"544\" y=\"854\"/><use href=\"#wtg\" x=\"447\" y=\"825\"/><use href=\"#wtg\" x=\"317\" y=\"761\"/><use href=\"#wtg\" x=\"600\" y=\"962\"/><use href=\"#wtg\" x=\"497\" y=\"928\"/><use href=\"#wtg\" x=\"363\" y=\"854\"/><use href=\"#wtg\" x=\"543\" y=\"1022\"/><use href=\"#wtg\" x=\"410\" y=\"947\"/><use href=\"#wtg\" x=\"455\" y=\"1040\"/></g></g><g id=\"OSSgrp\"><use href=\"#oss\" x=\"707.5\" y=\"655.5\"/></g></g></svg>"
      ],
      "text/plain": [
       "<optiwindnet.svg.SvgRepr at 0x2e12b7cbb90>"
      ]
     },
     "execution_count": 3,
     "metadata": {},
     "output_type": "execute_result"
    }
   ],
   "source": [
    "L = locations.gabbin\n",
    "svgplot(L)"
   ]
  },
  {
   "cell_type": "markdown",
   "id": "c7d1dd72-c13b-4454-8754-9098e2faf9a8",
   "metadata": {},
   "source": [
    "### Optimize Greater Gabbard Inner"
   ]
  },
  {
   "cell_type": "code",
   "execution_count": 4,
   "id": "37c0ec1f-bcc2-4025-92bc-613fdebbf1b1",
   "metadata": {},
   "outputs": [
    {
     "name": "stdout",
     "output_type": "stream",
     "text": [
      "0.99\n"
     ]
    },
    {
     "data": {
      "image/svg+xml": [
       "<svg xmlns=\"http://www.w3.org/2000/svg\" viewBox=\"0 0 1920 1080\"><defs><circle stroke=\"none\" stroke-width=\"2\" id=\"wtg\" r=\"12\"/><rect stroke=\"#111\" stroke-width=\"2\" id=\"oss\" width=\"21\" height=\"21\" fill=\"lawngreen\"/><filter x=\"-5%\" y=\"-5%\" id=\"bg_textbox\" width=\"110%\" height=\"110%\"><feFlood flood-opacity=\"0.6\" flood-color=\"black\" result=\"bg\"/><feMerge><feMergeNode in=\"bg\"/><feMergeNode in=\"SourceGraphic\"/></feMerge></filter></defs><g id=\"gabbin\"><path stroke=\"silver\" stroke-dasharray=\"15 7\" stroke-width=\"2\" id=\"border\" d=\"M1403 578 1420 1012 449 1050 30 203 243 30 1146 183 1207 278 1186 318 1246 338z\" fill-rule=\"evenodd\" fill=\"#111\"/><g stroke=\"crimson\" stroke-width=\"4\" id=\"edges_unspecified\"><line x1=\"678\" y1=\"298\" x2=\"582\" y2=\"268\"/><line x1=\"582\" y1=\"268\" x2=\"488\" y2=\"238\"/><line x1=\"488\" y1=\"238\" x2=\"391\" y2=\"207\"/><line x1=\"391\" y1=\"207\" x2=\"296\" y2=\"176\"/><line x1=\"222\" y1=\"68\" x2=\"296\" y2=\"176\"/><line x1=\"222\" y1=\"68\" x2=\"138\" y2=\"128\"/><line x1=\"718\" y1=\"666\" x2=\"658\" y2=\"727\"/><line x1=\"718\" y1=\"666\" x2=\"773\" y2=\"601\"/><line x1=\"718\" y1=\"666\" x2=\"578\" y2=\"535\"/><line x1=\"718\" y1=\"666\" x2=\"618\" y2=\"631\"/><line x1=\"718\" y1=\"666\" x2=\"732\" y2=\"505\"/><line x1=\"718\" y1=\"666\" x2=\"868\" y2=\"632\"/><line x1=\"718\" y1=\"666\" x2=\"675\" y2=\"569\"/><line x1=\"718\" y1=\"666\" x2=\"754\" y2=\"760\"/><line x1=\"718\" y1=\"666\" x2=\"561\" y2=\"696\"/><line x1=\"718\" y1=\"666\" x2=\"697\" y2=\"823\"/><line x1=\"718\" y1=\"666\" x2=\"811\" y2=\"696\"/><line x1=\"636\" y1=\"473\" x2=\"675\" y2=\"569\"/><line x1=\"636\" y1=\"473\" x2=\"540\" y2=\"438\"/><line x1=\"540\" y1=\"438\" x2=\"445\" y2=\"407\"/><line x1=\"907\" y1=\"729\" x2=\"811\" y2=\"696\"/><line x1=\"1002\" y1=\"761\" x2=\"907\" y2=\"729\"/><line x1=\"1002\" y1=\"761\" x2=\"1060\" y2=\"851\"/><line x1=\"1140\" y1=\"919\" x2=\"1060\" y2=\"851\"/><line x1=\"1140\" y1=\"919\" x2=\"1133\" y2=\"1013\"/><line x1=\"1133\" y1=\"1013\" x2=\"1022\" y2=\"1016\"/><line x1=\"964\" y1=\"389\" x2=\"827\" y2=\"537\"/><line x1=\"1020\" y1=\"324\" x2=\"964\" y2=\"389\"/><line x1=\"1075\" y1=\"260\" x2=\"1020\" y2=\"324\"/><line x1=\"1131\" y1=\"196\" x2=\"1075\" y2=\"260\"/><line x1=\"1131\" y1=\"196\" x2=\"1172\" y2=\"290\"/><line x1=\"1172\" y1=\"290\" x2=\"1116\" y2=\"355\"/><line x1=\"618\" y1=\"631\" x2=\"521\" y2=\"600\"/><line x1=\"521\" y1=\"600\" x2=\"426\" y2=\"567\"/><line x1=\"426\" y1=\"567\" x2=\"329\" y2=\"541\"/><line x1=\"263\" y1=\"458\" x2=\"329\" y2=\"541\"/><line x1=\"263\" y1=\"458\" x2=\"179\" y2=\"483\"/><line x1=\"179\" y1=\"483\" x2=\"228\" y2=\"574\"/><line x1=\"561\" y1=\"696\" x2=\"503\" y2=\"758\"/><line x1=\"465\" y1=\"663\" x2=\"503\" y2=\"758\"/><line x1=\"465\" y1=\"663\" x2=\"406\" y2=\"729\"/><line x1=\"406\" y1=\"729\" x2=\"317\" y2=\"761\"/><line x1=\"272\" y1=\"668\" x2=\"317\" y2=\"761\"/><line x1=\"353\" y1=\"639\" x2=\"272\" y2=\"668\"/><line x1=\"849\" y1=\"793\" x2=\"754\" y2=\"760\"/><line x1=\"944\" y1=\"825\" x2=\"849\" y2=\"793\"/><line x1=\"944\" y1=\"825\" x2=\"887\" y2=\"888\"/><line x1=\"887\" y1=\"888\" x2=\"832\" y2=\"952\"/><line x1=\"926\" y1=\"984\" x2=\"832\" y2=\"952\"/><line x1=\"982\" y1=\"921\" x2=\"926\" y2=\"984\"/><line x1=\"962\" y1=\"664\" x2=\"868\" y2=\"632\"/><line x1=\"1058\" y1=\"697\" x2=\"962\" y2=\"664\"/><line x1=\"1058\" y1=\"697\" x2=\"1116\" y2=\"786\"/><line x1=\"1228\" y1=\"821\" x2=\"1116\" y2=\"786\"/><line x1=\"1228\" y1=\"821\" x2=\"1264\" y2=\"919\"/><line x1=\"1264\" y1=\"919\" x2=\"1240\" y2=\"1007\"/><line x1=\"1113\" y1=\"633\" x2=\"1017\" y2=\"601\"/><line x1=\"1230\" y1=\"672\" x2=\"1113\" y2=\"633\"/><line x1=\"1315\" y1=\"737\" x2=\"1230\" y2=\"672\"/><line x1=\"1399\" y1=\"711\" x2=\"1315\" y2=\"737\"/><line x1=\"1399\" y1=\"711\" x2=\"1404\" y2=\"854\"/><line x1=\"1404\" y1=\"854\" x2=\"1406\" y2=\"951\"/><line x1=\"773\" y1=\"329\" x2=\"732\" y2=\"505\"/><line x1=\"637\" y1=\"203\" x2=\"773\" y2=\"329\"/><line x1=\"637\" y1=\"203\" x2=\"542\" y2=\"174\"/><line x1=\"507\" y1=\"89\" x2=\"542\" y2=\"174\"/><line x1=\"507\" y1=\"89\" x2=\"446\" y2=\"144\"/><line x1=\"446\" y1=\"144\" x2=\"351\" y2=\"111\"/><line x1=\"792\" y1=\"856\" x2=\"697\" y2=\"823\"/><line x1=\"792\" y1=\"856\" x2=\"736\" y2=\"920\"/><line x1=\"736\" y1=\"920\" x2=\"641\" y2=\"888\"/><line x1=\"641\" y1=\"888\" x2=\"600\" y2=\"962\"/><line x1=\"600\" y1=\"962\" x2=\"543\" y2=\"1022\"/><line x1=\"543\" y1=\"1022\" x2=\"455\" y2=\"1040\"/><line x1=\"658\" y1=\"727\" x2=\"600\" y2=\"792\"/><line x1=\"600\" y1=\"792\" x2=\"544\" y2=\"854\"/><line x1=\"544\" y1=\"854\" x2=\"497\" y2=\"928\"/><line x1=\"497\" y1=\"928\" x2=\"410\" y2=\"947\"/><line x1=\"363\" y1=\"854\" x2=\"410\" y2=\"947\"/><line x1=\"447\" y1=\"825\" x2=\"363\" y2=\"854\"/><line x1=\"578\" y1=\"535\" x2=\"482\" y2=\"502\"/><line x1=\"482\" y1=\"502\" x2=\"386\" y2=\"470\"/><line x1=\"349\" y1=\"374\" x2=\"386\" y2=\"470\"/><line x1=\"349\" y1=\"374\" x2=\"255\" y2=\"361\"/><line x1=\"255\" y1=\"361\" x2=\"164\" y2=\"311\"/><line x1=\"164\" y1=\"311\" x2=\"133\" y2=\"389\"/><line x1=\"923\" y1=\"567\" x2=\"773\" y2=\"601\"/><line x1=\"1061\" y1=\"419\" x2=\"923\" y2=\"567\"/><line x1=\"1156\" y1=\"449\" x2=\"1061\" y2=\"419\"/><line x1=\"1252\" y1=\"481\" x2=\"1156\" y2=\"449\"/><line x1=\"1282\" y1=\"412\" x2=\"1252\" y2=\"481\"/><line x1=\"1282\" y1=\"412\" x2=\"1347\" y2=\"512\"/><line x1=\"925\" y1=\"295\" x2=\"869\" y2=\"359\"/><line x1=\"979\" y1=\"230\" x2=\"925\" y2=\"295\"/><line x1=\"979\" y1=\"230\" x2=\"884\" y2=\"200\"/><line x1=\"884\" y1=\"200\" x2=\"787\" y2=\"170\"/><line x1=\"787\" y1=\"170\" x2=\"733\" y2=\"235\"/><line x1=\"692\" y1=\"140\" x2=\"733\" y2=\"235\"/></g><g stroke=\"red\" stroke-dasharray=\"18 15\" stroke-width=\"4\" id=\"edges_tentative\"><line x1=\"718\" y1=\"666\" x2=\"678\" y2=\"298\"/><line x1=\"718\" y1=\"666\" x2=\"869\" y2=\"359\"/><line x1=\"718\" y1=\"666\" x2=\"1017\" y2=\"601\"/><line x1=\"718\" y1=\"666\" x2=\"827\" y2=\"537\"/></g><g id=\"WTGgrp\"><g fill=\"#1f77b4\"><use href=\"#wtg\" x=\"678\" y=\"298\"/><use href=\"#wtg\" x=\"582\" y=\"268\"/><use href=\"#wtg\" x=\"488\" y=\"238\"/><use href=\"#wtg\" x=\"391\" y=\"207\"/><use href=\"#wtg\" x=\"296\" y=\"176\"/><use href=\"#wtg\" x=\"222\" y=\"68\"/><use href=\"#wtg\" x=\"138\" y=\"128\"/></g><g fill=\"#aec7e8\"><use href=\"#wtg\" x=\"675\" y=\"569\"/><use href=\"#wtg\" x=\"636\" y=\"473\"/><use href=\"#wtg\" x=\"540\" y=\"438\"/><use href=\"#wtg\" x=\"445\" y=\"407\"/></g><g fill=\"#ff7f0e\"><use href=\"#wtg\" x=\"811\" y=\"696\"/><use href=\"#wtg\" x=\"907\" y=\"729\"/><use href=\"#wtg\" x=\"1002\" y=\"761\"/><use href=\"#wtg\" x=\"1060\" y=\"851\"/><use href=\"#wtg\" x=\"1140\" y=\"919\"/><use href=\"#wtg\" x=\"1133\" y=\"1013\"/><use href=\"#wtg\" x=\"1022\" y=\"1016\"/></g><g fill=\"#ffbb78\"><use href=\"#wtg\" x=\"827\" y=\"537\"/><use href=\"#wtg\" x=\"964\" y=\"389\"/><use href=\"#wtg\" x=\"1020\" y=\"324\"/><use href=\"#wtg\" x=\"1075\" y=\"260\"/><use href=\"#wtg\" x=\"1131\" y=\"196\"/><use href=\"#wtg\" x=\"1172\" y=\"290\"/><use href=\"#wtg\" x=\"1116\" y=\"355\"/></g><g fill=\"#2ca02c\"><use href=\"#wtg\" x=\"618\" y=\"631\"/><use href=\"#wtg\" x=\"521\" y=\"600\"/><use href=\"#wtg\" x=\"426\" y=\"567\"/><use href=\"#wtg\" x=\"329\" y=\"541\"/><use href=\"#wtg\" x=\"263\" y=\"458\"/><use href=\"#wtg\" x=\"179\" y=\"483\"/><use href=\"#wtg\" x=\"228\" y=\"574\"/></g><g fill=\"#98df8a\"><use href=\"#wtg\" x=\"561\" y=\"696\"/><use href=\"#wtg\" x=\"503\" y=\"758\"/><use href=\"#wtg\" x=\"465\" y=\"663\"/><use href=\"#wtg\" x=\"406\" y=\"729\"/><use href=\"#wtg\" x=\"317\" y=\"761\"/><use href=\"#wtg\" x=\"272\" y=\"668\"/><use href=\"#wtg\" x=\"353\" y=\"639\"/></g><g fill=\"#d62728\"><use href=\"#wtg\" x=\"754\" y=\"760\"/><use href=\"#wtg\" x=\"849\" y=\"793\"/><use href=\"#wtg\" x=\"944\" y=\"825\"/><use href=\"#wtg\" x=\"887\" y=\"888\"/><use href=\"#wtg\" x=\"832\" y=\"952\"/><use href=\"#wtg\" x=\"926\" y=\"984\"/><use href=\"#wtg\" x=\"982\" y=\"921\"/></g><g fill=\"#ff9896\"><use href=\"#wtg\" x=\"868\" y=\"632\"/><use href=\"#wtg\" x=\"962\" y=\"664\"/><use href=\"#wtg\" x=\"1058\" y=\"697\"/><use href=\"#wtg\" x=\"1116\" y=\"786\"/><use href=\"#wtg\" x=\"1228\" y=\"821\"/><use href=\"#wtg\" x=\"1264\" y=\"919\"/><use href=\"#wtg\" x=\"1240\" y=\"1007\"/></g><g fill=\"#9467bd\"><use href=\"#wtg\" x=\"1017\" y=\"601\"/><use href=\"#wtg\" x=\"1113\" y=\"633\"/><use href=\"#wtg\" x=\"1230\" y=\"672\"/><use href=\"#wtg\" x=\"1315\" y=\"737\"/><use href=\"#wtg\" x=\"1399\" y=\"711\"/><use href=\"#wtg\" x=\"1404\" y=\"854\"/><use href=\"#wtg\" x=\"1406\" y=\"951\"/></g><g fill=\"#c5b0d5\"><use href=\"#wtg\" x=\"732\" y=\"505\"/><use href=\"#wtg\" x=\"773\" y=\"329\"/><use href=\"#wtg\" x=\"637\" y=\"203\"/><use href=\"#wtg\" x=\"542\" y=\"174\"/><use href=\"#wtg\" x=\"507\" y=\"89\"/><use href=\"#wtg\" x=\"446\" y=\"144\"/><use href=\"#wtg\" x=\"351\" y=\"111\"/></g><g fill=\"#8c564b\"><use href=\"#wtg\" x=\"697\" y=\"823\"/><use href=\"#wtg\" x=\"792\" y=\"856\"/><use href=\"#wtg\" x=\"736\" y=\"920\"/><use href=\"#wtg\" x=\"641\" y=\"888\"/><use href=\"#wtg\" x=\"600\" y=\"962\"/><use href=\"#wtg\" x=\"543\" y=\"1022\"/><use href=\"#wtg\" x=\"455\" y=\"1040\"/></g><g fill=\"#c49c94\"><use href=\"#wtg\" x=\"658\" y=\"727\"/><use href=\"#wtg\" x=\"600\" y=\"792\"/><use href=\"#wtg\" x=\"544\" y=\"854\"/><use href=\"#wtg\" x=\"497\" y=\"928\"/><use href=\"#wtg\" x=\"410\" y=\"947\"/><use href=\"#wtg\" x=\"363\" y=\"854\"/><use href=\"#wtg\" x=\"447\" y=\"825\"/></g><g fill=\"#e377c2\"><use href=\"#wtg\" x=\"578\" y=\"535\"/><use href=\"#wtg\" x=\"482\" y=\"502\"/><use href=\"#wtg\" x=\"386\" y=\"470\"/><use href=\"#wtg\" x=\"349\" y=\"374\"/><use href=\"#wtg\" x=\"255\" y=\"361\"/><use href=\"#wtg\" x=\"164\" y=\"311\"/><use href=\"#wtg\" x=\"133\" y=\"389\"/></g><g fill=\"#f7b6d2\"><use href=\"#wtg\" x=\"773\" y=\"601\"/><use href=\"#wtg\" x=\"923\" y=\"567\"/><use href=\"#wtg\" x=\"1061\" y=\"419\"/><use href=\"#wtg\" x=\"1156\" y=\"449\"/><use href=\"#wtg\" x=\"1252\" y=\"481\"/><use href=\"#wtg\" x=\"1282\" y=\"412\"/><use href=\"#wtg\" x=\"1347\" y=\"512\"/></g><g fill=\"#7f7f7f\"><use href=\"#wtg\" x=\"869\" y=\"359\"/><use href=\"#wtg\" x=\"925\" y=\"295\"/><use href=\"#wtg\" x=\"979\" y=\"230\"/><use href=\"#wtg\" x=\"884\" y=\"200\"/><use href=\"#wtg\" x=\"787\" y=\"170\"/><use href=\"#wtg\" x=\"733\" y=\"235\"/><use href=\"#wtg\" x=\"692\" y=\"140\"/></g></g><g id=\"OSSgrp\"><use href=\"#oss\" x=\"707.5\" y=\"655.5\"/></g></g><text filter=\"url(#bg_textbox)\" text-anchor=\"end\" font-family=\"sans-serif\" font-size=\"40\" fill=\"white\" x=\"1420\" y=\"1050\"><tspan x=\"1420\" dy=\"-0.0em\">&#931;&#955; = 119904 m</tspan><tspan x=\"1420\" dy=\"-1.3em\">(+0) IG: 15</tspan><tspan x=\"1420\" dy=\"-1.3em\">&#954; = 7, T = 102</tspan></text></svg>"
      ],
      "text/plain": [
       "<optiwindnet.svg.SvgRepr at 0x2e12bf94650>"
      ]
     },
     "execution_count": 4,
     "metadata": {},
     "output_type": "execute_result"
    }
   ],
   "source": [
    "P, A = make_planar_embedding(L)\n",
    "S = iterative_lkh(as_normalized(A), capacity=7, time_limit=2)\n",
    "print(S.graph['solution_time'])\n",
    "G = G_from_S(S, A)\n",
    "svgplot(G)"
   ]
  },
  {
   "cell_type": "markdown",
   "id": "e8aa52ec-ba4f-41bd-9bb0-f6655fcc6aab",
   "metadata": {},
   "source": [
    "### Route the feeders so as to avoid crossings"
   ]
  },
  {
   "cell_type": "code",
   "execution_count": 5,
   "id": "cf958a39-99fe-48d6-891c-8ccb1688b261",
   "metadata": {},
   "outputs": [
    {
     "data": {
      "image/svg+xml": [
       "<svg xmlns=\"http://www.w3.org/2000/svg\" viewBox=\"0 0 1920 1080\"><defs><circle stroke=\"orange\" stroke-opacity=\"0.3\" stroke-width=\"4\" id=\"dt\" r=\"23\" fill=\"none\"/><circle stroke=\"none\" stroke-width=\"2\" id=\"wtg\" r=\"12\"/><rect stroke=\"#111\" stroke-width=\"2\" id=\"oss\" width=\"21\" height=\"21\" fill=\"lawngreen\"/><filter x=\"-5%\" y=\"-5%\" id=\"bg_textbox\" width=\"110%\" height=\"110%\"><feFlood flood-opacity=\"0.6\" flood-color=\"black\" result=\"bg\"/><feMerge><feMergeNode in=\"bg\"/><feMergeNode in=\"SourceGraphic\"/></feMerge></filter></defs><g id=\"gabbin\"><path stroke=\"silver\" stroke-dasharray=\"15 7\" stroke-width=\"2\" id=\"border\" d=\"M1403 578 1420 1012 449 1050 30 203 243 30 1146 183 1207 278 1186 318 1246 338z\" fill-rule=\"evenodd\" fill=\"#111\"/><g stroke=\"crimson\" stroke-width=\"4\" id=\"edges_unspecified\"><line x1=\"678\" y1=\"298\" x2=\"582\" y2=\"268\"/><line x1=\"718\" y1=\"666\" x2=\"678\" y2=\"298\"/><line x1=\"582\" y1=\"268\" x2=\"488\" y2=\"238\"/><line x1=\"488\" y1=\"238\" x2=\"391\" y2=\"207\"/><line x1=\"391\" y1=\"207\" x2=\"296\" y2=\"176\"/><line x1=\"222\" y1=\"68\" x2=\"296\" y2=\"176\"/><line x1=\"222\" y1=\"68\" x2=\"138\" y2=\"128\"/><line x1=\"718\" y1=\"666\" x2=\"658\" y2=\"727\"/><line x1=\"718\" y1=\"666\" x2=\"773\" y2=\"601\"/><line x1=\"718\" y1=\"666\" x2=\"578\" y2=\"535\"/><line x1=\"718\" y1=\"666\" x2=\"618\" y2=\"631\"/><line x1=\"718\" y1=\"666\" x2=\"732\" y2=\"505\"/><line x1=\"718\" y1=\"666\" x2=\"868\" y2=\"632\"/><line x1=\"718\" y1=\"666\" x2=\"675\" y2=\"569\"/><line x1=\"718\" y1=\"666\" x2=\"754\" y2=\"760\"/><line x1=\"718\" y1=\"666\" x2=\"561\" y2=\"696\"/><line x1=\"718\" y1=\"666\" x2=\"697\" y2=\"823\"/><line x1=\"718\" y1=\"666\" x2=\"811\" y2=\"696\"/><line x1=\"718\" y1=\"666\" x2=\"869\" y2=\"359\"/><line x1=\"636\" y1=\"473\" x2=\"675\" y2=\"569\"/><line x1=\"636\" y1=\"473\" x2=\"540\" y2=\"438\"/><line x1=\"540\" y1=\"438\" x2=\"445\" y2=\"407\"/><line x1=\"907\" y1=\"729\" x2=\"811\" y2=\"696\"/><line x1=\"1002\" y1=\"761\" x2=\"907\" y2=\"729\"/><line x1=\"1002\" y1=\"761\" x2=\"1060\" y2=\"851\"/><line x1=\"1140\" y1=\"919\" x2=\"1060\" y2=\"851\"/><line x1=\"1140\" y1=\"919\" x2=\"1133\" y2=\"1013\"/><line x1=\"1133\" y1=\"1013\" x2=\"1022\" y2=\"1016\"/><line x1=\"964\" y1=\"389\" x2=\"827\" y2=\"537\"/><line x1=\"1020\" y1=\"324\" x2=\"964\" y2=\"389\"/><line x1=\"1075\" y1=\"260\" x2=\"1020\" y2=\"324\"/><line x1=\"1131\" y1=\"196\" x2=\"1075\" y2=\"260\"/><line x1=\"1131\" y1=\"196\" x2=\"1172\" y2=\"290\"/><line x1=\"1172\" y1=\"290\" x2=\"1116\" y2=\"355\"/><line x1=\"618\" y1=\"631\" x2=\"521\" y2=\"600\"/><line x1=\"521\" y1=\"600\" x2=\"426\" y2=\"567\"/><line x1=\"426\" y1=\"567\" x2=\"329\" y2=\"541\"/><line x1=\"263\" y1=\"458\" x2=\"329\" y2=\"541\"/><line x1=\"263\" y1=\"458\" x2=\"179\" y2=\"483\"/><line x1=\"179\" y1=\"483\" x2=\"228\" y2=\"574\"/><line x1=\"561\" y1=\"696\" x2=\"503\" y2=\"758\"/><line x1=\"465\" y1=\"663\" x2=\"503\" y2=\"758\"/><line x1=\"465\" y1=\"663\" x2=\"406\" y2=\"729\"/><line x1=\"406\" y1=\"729\" x2=\"317\" y2=\"761\"/><line x1=\"272\" y1=\"668\" x2=\"317\" y2=\"761\"/><line x1=\"353\" y1=\"639\" x2=\"272\" y2=\"668\"/><line x1=\"849\" y1=\"793\" x2=\"754\" y2=\"760\"/><line x1=\"944\" y1=\"825\" x2=\"849\" y2=\"793\"/><line x1=\"944\" y1=\"825\" x2=\"887\" y2=\"888\"/><line x1=\"887\" y1=\"888\" x2=\"832\" y2=\"952\"/><line x1=\"926\" y1=\"984\" x2=\"832\" y2=\"952\"/><line x1=\"982\" y1=\"921\" x2=\"926\" y2=\"984\"/><line x1=\"962\" y1=\"664\" x2=\"868\" y2=\"632\"/><line x1=\"1058\" y1=\"697\" x2=\"962\" y2=\"664\"/><line x1=\"1058\" y1=\"697\" x2=\"1116\" y2=\"786\"/><line x1=\"1228\" y1=\"821\" x2=\"1116\" y2=\"786\"/><line x1=\"1228\" y1=\"821\" x2=\"1264\" y2=\"919\"/><line x1=\"1264\" y1=\"919\" x2=\"1240\" y2=\"1007\"/><line x1=\"1113\" y1=\"633\" x2=\"1017\" y2=\"601\"/><line x1=\"1230\" y1=\"672\" x2=\"1113\" y2=\"633\"/><line x1=\"1315\" y1=\"737\" x2=\"1230\" y2=\"672\"/><line x1=\"1399\" y1=\"711\" x2=\"1315\" y2=\"737\"/><line x1=\"1399\" y1=\"711\" x2=\"1404\" y2=\"854\"/><line x1=\"1404\" y1=\"854\" x2=\"1406\" y2=\"951\"/><line x1=\"773\" y1=\"329\" x2=\"732\" y2=\"505\"/><line x1=\"637\" y1=\"203\" x2=\"773\" y2=\"329\"/><line x1=\"637\" y1=\"203\" x2=\"542\" y2=\"174\"/><line x1=\"507\" y1=\"89\" x2=\"542\" y2=\"174\"/><line x1=\"507\" y1=\"89\" x2=\"446\" y2=\"144\"/><line x1=\"446\" y1=\"144\" x2=\"351\" y2=\"111\"/><line x1=\"792\" y1=\"856\" x2=\"697\" y2=\"823\"/><line x1=\"792\" y1=\"856\" x2=\"736\" y2=\"920\"/><line x1=\"736\" y1=\"920\" x2=\"641\" y2=\"888\"/><line x1=\"641\" y1=\"888\" x2=\"600\" y2=\"962\"/><line x1=\"600\" y1=\"962\" x2=\"543\" y2=\"1022\"/><line x1=\"543\" y1=\"1022\" x2=\"455\" y2=\"1040\"/><line x1=\"658\" y1=\"727\" x2=\"600\" y2=\"792\"/><line x1=\"600\" y1=\"792\" x2=\"544\" y2=\"854\"/><line x1=\"544\" y1=\"854\" x2=\"497\" y2=\"928\"/><line x1=\"497\" y1=\"928\" x2=\"410\" y2=\"947\"/><line x1=\"363\" y1=\"854\" x2=\"410\" y2=\"947\"/><line x1=\"447\" y1=\"825\" x2=\"363\" y2=\"854\"/><line x1=\"578\" y1=\"535\" x2=\"482\" y2=\"502\"/><line x1=\"482\" y1=\"502\" x2=\"386\" y2=\"470\"/><line x1=\"349\" y1=\"374\" x2=\"386\" y2=\"470\"/><line x1=\"349\" y1=\"374\" x2=\"255\" y2=\"361\"/><line x1=\"255\" y1=\"361\" x2=\"164\" y2=\"311\"/><line x1=\"164\" y1=\"311\" x2=\"133\" y2=\"389\"/><line x1=\"923\" y1=\"567\" x2=\"773\" y2=\"601\"/><line x1=\"1061\" y1=\"419\" x2=\"923\" y2=\"567\"/><line x1=\"1156\" y1=\"449\" x2=\"1061\" y2=\"419\"/><line x1=\"1252\" y1=\"481\" x2=\"1156\" y2=\"449\"/><line x1=\"1282\" y1=\"412\" x2=\"1252\" y2=\"481\"/><line x1=\"1282\" y1=\"412\" x2=\"1347\" y2=\"512\"/><line x1=\"925\" y1=\"295\" x2=\"869\" y2=\"359\"/><line x1=\"979\" y1=\"230\" x2=\"925\" y2=\"295\"/><line x1=\"979\" y1=\"230\" x2=\"884\" y2=\"200\"/><line x1=\"884\" y1=\"200\" x2=\"787\" y2=\"170\"/><line x1=\"787\" y1=\"170\" x2=\"733\" y2=\"235\"/><line x1=\"692\" y1=\"140\" x2=\"733\" y2=\"235\"/></g><g stroke=\"darkorange\" stroke-dasharray=\"18 15\" stroke-width=\"4\" id=\"detours\" fill=\"none\"><polyline points=\"718 666 868 632 1017 601\"/><polyline points=\"718 666 773 601 827 537\"/></g><g id=\"DTgrp\"><use href=\"#dt\" x=\"868\" y=\"632\"/><use href=\"#dt\" x=\"773\" y=\"601\"/></g><g id=\"WTGgrp\"><g fill=\"#1f77b4\"><use href=\"#wtg\" x=\"678\" y=\"298\"/><use href=\"#wtg\" x=\"582\" y=\"268\"/><use href=\"#wtg\" x=\"488\" y=\"238\"/><use href=\"#wtg\" x=\"391\" y=\"207\"/><use href=\"#wtg\" x=\"296\" y=\"176\"/><use href=\"#wtg\" x=\"222\" y=\"68\"/><use href=\"#wtg\" x=\"138\" y=\"128\"/></g><g fill=\"#aec7e8\"><use href=\"#wtg\" x=\"675\" y=\"569\"/><use href=\"#wtg\" x=\"636\" y=\"473\"/><use href=\"#wtg\" x=\"540\" y=\"438\"/><use href=\"#wtg\" x=\"445\" y=\"407\"/></g><g fill=\"#ff7f0e\"><use href=\"#wtg\" x=\"811\" y=\"696\"/><use href=\"#wtg\" x=\"907\" y=\"729\"/><use href=\"#wtg\" x=\"1002\" y=\"761\"/><use href=\"#wtg\" x=\"1060\" y=\"851\"/><use href=\"#wtg\" x=\"1140\" y=\"919\"/><use href=\"#wtg\" x=\"1133\" y=\"1013\"/><use href=\"#wtg\" x=\"1022\" y=\"1016\"/></g><g fill=\"#ffbb78\"><use href=\"#wtg\" x=\"827\" y=\"537\"/><use href=\"#wtg\" x=\"964\" y=\"389\"/><use href=\"#wtg\" x=\"1020\" y=\"324\"/><use href=\"#wtg\" x=\"1075\" y=\"260\"/><use href=\"#wtg\" x=\"1131\" y=\"196\"/><use href=\"#wtg\" x=\"1172\" y=\"290\"/><use href=\"#wtg\" x=\"1116\" y=\"355\"/></g><g fill=\"#2ca02c\"><use href=\"#wtg\" x=\"618\" y=\"631\"/><use href=\"#wtg\" x=\"521\" y=\"600\"/><use href=\"#wtg\" x=\"426\" y=\"567\"/><use href=\"#wtg\" x=\"329\" y=\"541\"/><use href=\"#wtg\" x=\"263\" y=\"458\"/><use href=\"#wtg\" x=\"179\" y=\"483\"/><use href=\"#wtg\" x=\"228\" y=\"574\"/></g><g fill=\"#98df8a\"><use href=\"#wtg\" x=\"561\" y=\"696\"/><use href=\"#wtg\" x=\"503\" y=\"758\"/><use href=\"#wtg\" x=\"465\" y=\"663\"/><use href=\"#wtg\" x=\"406\" y=\"729\"/><use href=\"#wtg\" x=\"317\" y=\"761\"/><use href=\"#wtg\" x=\"272\" y=\"668\"/><use href=\"#wtg\" x=\"353\" y=\"639\"/></g><g fill=\"#d62728\"><use href=\"#wtg\" x=\"754\" y=\"760\"/><use href=\"#wtg\" x=\"849\" y=\"793\"/><use href=\"#wtg\" x=\"944\" y=\"825\"/><use href=\"#wtg\" x=\"887\" y=\"888\"/><use href=\"#wtg\" x=\"832\" y=\"952\"/><use href=\"#wtg\" x=\"926\" y=\"984\"/><use href=\"#wtg\" x=\"982\" y=\"921\"/></g><g fill=\"#ff9896\"><use href=\"#wtg\" x=\"868\" y=\"632\"/><use href=\"#wtg\" x=\"962\" y=\"664\"/><use href=\"#wtg\" x=\"1058\" y=\"697\"/><use href=\"#wtg\" x=\"1116\" y=\"786\"/><use href=\"#wtg\" x=\"1228\" y=\"821\"/><use href=\"#wtg\" x=\"1264\" y=\"919\"/><use href=\"#wtg\" x=\"1240\" y=\"1007\"/></g><g fill=\"#9467bd\"><use href=\"#wtg\" x=\"1017\" y=\"601\"/><use href=\"#wtg\" x=\"1113\" y=\"633\"/><use href=\"#wtg\" x=\"1230\" y=\"672\"/><use href=\"#wtg\" x=\"1315\" y=\"737\"/><use href=\"#wtg\" x=\"1399\" y=\"711\"/><use href=\"#wtg\" x=\"1404\" y=\"854\"/><use href=\"#wtg\" x=\"1406\" y=\"951\"/></g><g fill=\"#c5b0d5\"><use href=\"#wtg\" x=\"732\" y=\"505\"/><use href=\"#wtg\" x=\"773\" y=\"329\"/><use href=\"#wtg\" x=\"637\" y=\"203\"/><use href=\"#wtg\" x=\"542\" y=\"174\"/><use href=\"#wtg\" x=\"507\" y=\"89\"/><use href=\"#wtg\" x=\"446\" y=\"144\"/><use href=\"#wtg\" x=\"351\" y=\"111\"/></g><g fill=\"#8c564b\"><use href=\"#wtg\" x=\"697\" y=\"823\"/><use href=\"#wtg\" x=\"792\" y=\"856\"/><use href=\"#wtg\" x=\"736\" y=\"920\"/><use href=\"#wtg\" x=\"641\" y=\"888\"/><use href=\"#wtg\" x=\"600\" y=\"962\"/><use href=\"#wtg\" x=\"543\" y=\"1022\"/><use href=\"#wtg\" x=\"455\" y=\"1040\"/></g><g fill=\"#c49c94\"><use href=\"#wtg\" x=\"658\" y=\"727\"/><use href=\"#wtg\" x=\"600\" y=\"792\"/><use href=\"#wtg\" x=\"544\" y=\"854\"/><use href=\"#wtg\" x=\"497\" y=\"928\"/><use href=\"#wtg\" x=\"410\" y=\"947\"/><use href=\"#wtg\" x=\"363\" y=\"854\"/><use href=\"#wtg\" x=\"447\" y=\"825\"/></g><g fill=\"#e377c2\"><use href=\"#wtg\" x=\"578\" y=\"535\"/><use href=\"#wtg\" x=\"482\" y=\"502\"/><use href=\"#wtg\" x=\"386\" y=\"470\"/><use href=\"#wtg\" x=\"349\" y=\"374\"/><use href=\"#wtg\" x=\"255\" y=\"361\"/><use href=\"#wtg\" x=\"164\" y=\"311\"/><use href=\"#wtg\" x=\"133\" y=\"389\"/></g><g fill=\"#f7b6d2\"><use href=\"#wtg\" x=\"773\" y=\"601\"/><use href=\"#wtg\" x=\"923\" y=\"567\"/><use href=\"#wtg\" x=\"1061\" y=\"419\"/><use href=\"#wtg\" x=\"1156\" y=\"449\"/><use href=\"#wtg\" x=\"1252\" y=\"481\"/><use href=\"#wtg\" x=\"1282\" y=\"412\"/><use href=\"#wtg\" x=\"1347\" y=\"512\"/></g><g fill=\"#7f7f7f\"><use href=\"#wtg\" x=\"869\" y=\"359\"/><use href=\"#wtg\" x=\"925\" y=\"295\"/><use href=\"#wtg\" x=\"979\" y=\"230\"/><use href=\"#wtg\" x=\"884\" y=\"200\"/><use href=\"#wtg\" x=\"787\" y=\"170\"/><use href=\"#wtg\" x=\"733\" y=\"235\"/><use href=\"#wtg\" x=\"692\" y=\"140\"/></g></g><g id=\"OSSgrp\"><use href=\"#oss\" x=\"707.5\" y=\"655.5\"/></g></g><text filter=\"url(#bg_textbox)\" text-anchor=\"end\" font-family=\"sans-serif\" font-size=\"40\" fill=\"white\" x=\"1420\" y=\"1050\"><tspan x=\"1420\" dy=\"-0.0em\">&#931;&#955; = 119904 m</tspan><tspan x=\"1420\" dy=\"-1.3em\">(+0) IG: 15</tspan><tspan x=\"1420\" dy=\"-1.3em\">&#954; = 7, T = 102</tspan></text></svg>"
      ],
      "text/plain": [
       "<optiwindnet.svg.SvgRepr at 0x2e12c07bec0>"
      ]
     },
     "execution_count": 5,
     "metadata": {},
     "output_type": "execute_result"
    }
   ],
   "source": [
    "H = PathFinder(G, P, A).create_detours()\n",
    "svgplot(H)"
   ]
  }
 ],
 "metadata": {
  "language_info": {
   "name": "python"
  }
 },
 "nbformat": 4,
 "nbformat_minor": 5
}
