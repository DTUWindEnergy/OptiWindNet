{
 "cells": [
  {
   "cell_type": "markdown",
   "id": "f7b072be-a181-48f3-9a7c-5d8f16012d49",
   "metadata": {},
   "source": [
    "# WindFarmNetwork/Router"
   ]
  },
  {
   "cell_type": "markdown",
   "id": "2ce7a38d",
   "metadata": {},
   "source": [
    "This notebook is a practical guide to *OptiWindNet*’s Network/Router API (i.e. high-level API). It covers creating a wind farm model, using different routers (`EWRouter`, `HGSRouter`, `MILPRouter`), and applying key `WindFarmNetwork` methods. Specifically, we will:\n",
    "\n",
    "* Explore the `WindFarmNetwork` class\n",
    "* Compare available routers and their use cases\n",
    "* Run a complete optimization example"
   ]
  },
  {
   "cell_type": "markdown",
   "id": "80c8c206-b99d-4ec4-a593-a10e8fbd57ed",
   "metadata": {},
   "source": [
    "## ✅ WindFarmNetwork"
   ]
  },
  {
   "cell_type": "markdown",
   "id": "2196d3c5",
   "metadata": {},
   "source": [
    "The `WindFarmNetwork` class is the **central user-facing object** in the OptiWindNet high-level-API. It handles layout modeling, routing, optimization, and visualization. It is flexible and extensible, supporting multiple input formats and routing algorithms, and is used to model and optimize the electrical network of a wind farm."
   ]
  },
  {
   "cell_type": "markdown",
   "id": "a8acf159",
   "metadata": {},
   "source": [
    "### To create a `WindFarmNetwork` instance:\n",
    "\n",
    "**Required:**\n",
    "\n",
    "* Turbine and substation coordinates *(see [Data Input](a01_data_input.ipynb) for formats)*\n",
    "* Cable data (capacities and costs, or at least maximum capacity as a single number)\n",
    "\n",
    "**Optional:**\n",
    "\n",
    "* Borders and obstacles: to add spatial constraints\n",
    "* Router: optimization strategy (defaults to `EWRouter` if not specified)\n",
    "* `buff_dist`: buffer distance to expand borders or shrink obstacles; useful when turbines are near edges or when integrating with tools like TopFarm"
   ]
  },
  {
   "cell_type": "markdown",
   "id": "4c944a01",
   "metadata": {},
   "source": [
    "### Key Responsibilities"
   ]
  },
  {
   "cell_type": "markdown",
   "id": "d128ab24",
   "metadata": {},
   "source": [
    "| Feature                      | Description                                                                                                                                    |\n",
    "| ---------------------------- | ---------------------------------------------------------------------------------------------------------------------------------------------- |\n",
    "| **Initialization & Parsing** | Accepts turbine/substation coordinates or layout graph `L` (Can be constructed from YAML, PBF, or WindIO formats for integration with real-world datasets), validates cable data, and constructs the internal graph structure.                 |\n",
    "| **Optimization**             | Interfaces smoothly with different routers (`EWRouter`, `HGSRouter`, `MILPRouter`) to optimize the network layout for cost and cable length. |\n",
    "| **Visualization**            | Provides plotting tools for location, links, mesh, and final network.                           |\n",
    "| **Gradient & Update Graph**  | Computes gradients for optimization and allows updating network layouts using a compact \"terse link\" format.                                   |"
   ]
  },
  {
   "cell_type": "markdown",
   "id": "a41b0f1b",
   "metadata": {},
   "source": [
    "### Example Workflow"
   ]
  },
  {
   "cell_type": "markdown",
   "id": "1d7ab495",
   "metadata": {},
   "source": [
    "```python\n",
    "# Initialize with coordinates and cable types\n",
    "wfn = WindFarmNetwork(cables=[(2, 1500.0), (5, 1800.0)], turbinesC=..., substationsC=...)\n",
    "\n",
    "# Optimize layout using default router (Esau-Williams)\n",
    "terse_links = wfn.optimize()\n",
    "\n",
    "# Access total cost or cable length\n",
    "total_cost = wfn.cost()\n",
    "total_length = wfn.length()\n",
    "\n",
    "# Visualize network\n",
    "wfn.plot() # or simply wfn if you are running on notebooks\n",
    "```"
   ]
  },
  {
   "cell_type": "markdown",
   "id": "dcf9eec1",
   "metadata": {},
   "source": [
    "## 🧭 **Router**"
   ]
  },
  {
   "cell_type": "markdown",
   "id": "ffd963f6",
   "metadata": {},
   "source": [
    "In OptiWindNet, a `Router` is used to compute the optimal layout of the wind farm’s electrical network. Given turbine and substation locations, available cable options, and routing constraints, a router determines *which turbines connect to which substations* and how cables should be laid to *minimize length (and concequently cost)*."
   ]
  },
  {
   "cell_type": "markdown",
   "id": "d9f536d0",
   "metadata": {},
   "source": [
    "### Currently Available Routers"
   ]
  },
  {
   "cell_type": "markdown",
   "id": "dbf55f1a",
   "metadata": {},
   "source": [
    "The routers currently included in the `optiwindnet.api` module are:\n",
    "\n",
    "* **EWRouter**\n",
    "\n",
    "  * *Fastest option* — completes in a fraction of a second\n",
    "  * Great for quick layout generation\n",
    "  * Produces only **branched-topology** solutions\n",
    "  * Heuristic method (EW = Esau-Williams) — solutions may be far from the optimum\n",
    "\n",
    "* **HGSRouter**\n",
    "\n",
    "  * *Still fast* — can provide high-quality solutions in **0.5–2 seconds**\n",
    "  * Produces only **radial-topology** solutions (no branching)\n",
    "  * A maximum number of feeders can be enforced\n",
    "  * Meta-heuristic method (HGS = Hybrid Genetic Search)\n",
    "\n",
    "* **MILPRouter**\n",
    "\n",
    "  * Delivers solutions with **quality guarantees** (a bound on the distance from the optimum)\n",
    "  * May take a **few to several minutes** depending on the problem size and quality required\n",
    "  * Full set of model options to choose from\n",
    "  * Should be used when optimality is more important than speed\n",
    "  * MILP = Mixed Integer Linear Programming"
   ]
  },
  {
   "cell_type": "markdown",
   "id": "961f9090",
   "metadata": {},
   "source": [
    "## Run an example"
   ]
  },
  {
   "cell_type": "markdown",
   "id": "39bcea21",
   "metadata": {},
   "source": [
    "In this section we will:\n",
    "- Create a simple wind farm network\n",
    "- Use heuristic and MILP optimization\n",
    "- Explore key methods such as:\n",
    "  - `.optimize()`\n",
    "  - `.plot()`\n",
    "  - `.cost()`, `.length()`\n",
    "  - `.terse_links()`, `.update_from_terse_links()`\n",
    "  - `.gradient()`\n",
    "  - `.get_network()`\n",
    "\n",
    "We start with dummy coordinates for 5 turbines and 1 substation, and define a simple cable type.\n"
   ]
  },
  {
   "cell_type": "markdown",
   "id": "de0f0c52",
   "metadata": {},
   "source": [
    "### Create a `WindFarmNetwork` instance"
   ]
  },
  {
   "cell_type": "markdown",
   "id": "c36112a8",
   "metadata": {},
   "source": [
    "Import required modules"
   ]
  },
  {
   "cell_type": "code",
   "execution_count": 1,
   "id": "afeaaf92",
   "metadata": {},
   "outputs": [],
   "source": [
    "import numpy as np\n",
    "from optiwindnet.api import WindFarmNetwork, EWRouter, MILPRouter, ModelOptions"
   ]
  },
  {
   "cell_type": "code",
   "execution_count": 2,
   "id": "d8fb593b",
   "metadata": {},
   "outputs": [],
   "source": [
    "# Display figures as SVG in Jupyter notebooks\n",
    "%config InlineBackend.figure_formats = ['svg']"
   ]
  },
  {
   "cell_type": "markdown",
   "id": "d5373461",
   "metadata": {},
   "source": [
    "#### Load location data"
   ]
  },
  {
   "cell_type": "markdown",
   "id": "4ff13e41",
   "metadata": {},
   "source": [
    "OptiWindNet works with location graphs that define turbine and substation positions (plus optional borders/obstacles).  \n",
    "You can load them from:\n",
    "- `.yaml` or `.osm.pbf` files\n",
    "- The included example repository\n",
    "- Your own coordinate arrays\n",
    "\n",
    "For more details see [Data Input](a01_data_input.ipynb).\n",
    "\n",
    "For the sake of simplicity, we consider dummy coordinates for 5 turbines and 1 substation, and define a simple cable type."
   ]
  },
  {
   "cell_type": "code",
   "execution_count": 3,
   "id": "1d496a0b",
   "metadata": {},
   "outputs": [],
   "source": [
    "turbinesC = np.array([[0, 0], [1, 1], [2, 0], [3, 1], [4, 0]])\n",
    "substationsC = np.array([[2, -2]])\n",
    "cables = [(2, 1500.0), (5, 1800.0)]\n",
    "\n",
    "wfn = WindFarmNetwork(\n",
    "    cables=cables,\n",
    "    turbinesC=turbinesC,\n",
    "    substationsC=substationsC\n",
    ")"
   ]
  },
  {
   "cell_type": "markdown",
   "id": "fcafb617",
   "metadata": {},
   "source": [
    "##### Plot location\n",
    "\n",
    "> **Note:** Many of the Jupyter notebooks provided include SVG figures as output. To ensure these visuals are displayed correctly in JupyterLab or Jupyter Notebook, make sure the notebook is marked as **trusted**.\n",
    "> *In JupyterLab, you can do this by pressing* `Ctrl + Shift + C` *and selecting* **Trust Notebook**."
   ]
  },
  {
   "cell_type": "code",
   "execution_count": 4,
   "id": "c2b946a4",
   "metadata": {},
   "outputs": [
    {
     "data": {
      "image/svg+xml": [
       "<svg xmlns=\"http://www.w3.org/2000/svg\" viewBox=\"0 0 1920 1080\"><defs><circle stroke=\"none\" stroke-width=\"2\" id=\"wtg\" r=\"12\"/><rect stroke=\"#111\" stroke-width=\"2\" id=\"oss\" width=\"21\" height=\"21\" fill=\"lawngreen\"/></defs><g id=\"\"><g id=\"WTGgrp\"><g fill=\"#9edae5\"><use href=\"#wtg\" x=\"30\" y=\"370\"/><use href=\"#wtg\" x=\"370\" y=\"30\"/><use href=\"#wtg\" x=\"710\" y=\"370\"/><use href=\"#wtg\" x=\"1050\" y=\"30\"/><use href=\"#wtg\" x=\"1390\" y=\"370\"/></g></g><g id=\"OSSgrp\"><use href=\"#oss\" x=\"699.5\" y=\"1039.5\"/></g></g></svg>"
      ],
      "text/plain": [
       "<optiwindnet.api.WindFarmNetwork at 0x2599ced02f0>"
      ]
     },
     "execution_count": 4,
     "metadata": {},
     "output_type": "execute_result"
    }
   ],
   "source": [
    "wfn"
   ]
  },
  {
   "cell_type": "markdown",
   "id": "03cf721a",
   "metadata": {},
   "source": [
    "### Method: `optimize(router=...)`\n",
    "\n",
    "This is the main method that computes the electrical network based on a given routing algorithm (heuristic, metaheuristic or MILP).\n",
    " > Note that the router could be passed directly to `WindFarmNetwork(router=...)`."
   ]
  },
  {
   "cell_type": "markdown",
   "id": "2865ca33-b8d1-42c9-bb49-5d088e866a9d",
   "metadata": {},
   "source": [
    "#### Use a heuristic router (Esau-Williams)"
   ]
  },
  {
   "cell_type": "code",
   "execution_count": 5,
   "id": "43d027d8-1b4c-4b78-96ba-2207a6a6056a",
   "metadata": {},
   "outputs": [
    {
     "data": {
      "text/plain": [
       "array([ 1,  2, -1,  2,  3])"
      ]
     },
     "execution_count": 5,
     "metadata": {},
     "output_type": "execute_result"
    }
   ],
   "source": [
    "wfn.optimize(router=EWRouter())"
   ]
  },
  {
   "cell_type": "markdown",
   "id": "b2bb6e6d",
   "metadata": {},
   "source": [
    "Plot the result"
   ]
  },
  {
   "cell_type": "code",
   "execution_count": 6,
   "id": "1388e2d8",
   "metadata": {},
   "outputs": [
    {
     "data": {
      "image/svg+xml": [
       "<svg xmlns=\"http://www.w3.org/2000/svg\" viewBox=\"0 0 1920 1080\"><defs><circle stroke=\"none\" stroke-width=\"2\" id=\"wtg\" r=\"12\"/><rect stroke=\"#111\" stroke-width=\"2\" id=\"oss\" width=\"21\" height=\"21\" fill=\"lawngreen\"/><filter x=\"-5%\" y=\"-5%\" id=\"bg_textbox\" width=\"110%\" height=\"110%\"><feFlood flood-opacity=\"0.6\" flood-color=\"black\" result=\"bg\"/><feMerge><feMergeNode in=\"bg\"/><feMergeNode in=\"SourceGraphic\"/></feMerge></filter></defs><g id=\"\"><g stroke=\"crimson\" stroke-width=\"4\" id=\"edges_unspecified\"><line x1=\"30\" y1=\"370\" x2=\"370\" y2=\"30\"/><line x1=\"710\" y1=\"1050\" x2=\"710\" y2=\"370\"/><line x1=\"370\" y1=\"30\" x2=\"710\" y2=\"370\"/><line x1=\"710\" y1=\"370\" x2=\"1050\" y2=\"30\"/><line x1=\"1050\" y1=\"30\" x2=\"1390\" y2=\"370\"/></g><g id=\"WTGgrp\"><g fill=\"#1f77b4\"><use href=\"#wtg\" x=\"30\" y=\"370\"/><use href=\"#wtg\" x=\"370\" y=\"30\"/><use href=\"#wtg\" x=\"710\" y=\"370\"/><use href=\"#wtg\" x=\"1050\" y=\"30\"/><use href=\"#wtg\" x=\"1390\" y=\"370\"/></g></g><g id=\"OSSgrp\"><use href=\"#oss\" x=\"699.5\" y=\"1039.5\"/></g></g><text filter=\"url(#bg_textbox)\" text-anchor=\"end\" font-family=\"sans-serif\" font-size=\"40\" fill=\"white\" x=\"1390\" y=\"1050\"><tspan x=\"1390\" dy=\"-0.0em\">12085 &#8364;</tspan><tspan x=\"1390\" dy=\"-1.3em\">&#931;&#955; = 7.6569 m</tspan><tspan x=\"1390\" dy=\"-1.3em\">(+0) [-1]: 1</tspan><tspan x=\"1390\" dy=\"-1.3em\">&#954; = 5, T = 5</tspan></text></svg>"
      ],
      "text/plain": [
       "<optiwindnet.api.WindFarmNetwork at 0x2599ced02f0>"
      ]
     },
     "execution_count": 6,
     "metadata": {},
     "output_type": "execute_result"
    }
   ],
   "source": [
    "wfn"
   ]
  },
  {
   "cell_type": "markdown",
   "id": "775d7118",
   "metadata": {},
   "source": [
    "#### Use a MILP router with full control over topology and feeders\n",
    "\n",
    "The solution from the previous call to `wfn.optimize()` is stored within the `wfn` object.\n",
    "If this solution is *feasible under the current `MILPRouter` settings*, it will be *automatically used as a warm start*.\n",
    "Otherwise, if it does not meet the current `ModelOptions` constraints, it will be *ignored*, and the MILP solver will start from scratch.\n"
   ]
  },
  {
   "cell_type": "code",
   "execution_count": 7,
   "id": "a5621cbd",
   "metadata": {},
   "outputs": [
    {
     "name": "stdout",
     "output_type": "stream",
     "text": [
      "\n",
      "Warning: No warmstarting (even though a solution is available) due to the following reason(s):\n",
      "    - branched structure not allowed under \"radial\" topology\n",
      "\n"
     ]
    },
    {
     "data": {
      "image/svg+xml": [
       "<svg xmlns=\"http://www.w3.org/2000/svg\" viewBox=\"0 0 1920 1080\"><defs><circle stroke=\"none\" stroke-width=\"2\" id=\"wtg\" r=\"12\"/><rect stroke=\"#111\" stroke-width=\"2\" id=\"oss\" width=\"21\" height=\"21\" fill=\"lawngreen\"/><filter x=\"-5%\" y=\"-5%\" id=\"bg_textbox\" width=\"110%\" height=\"110%\"><feFlood flood-opacity=\"0.6\" flood-color=\"black\" result=\"bg\"/><feMerge><feMergeNode in=\"bg\"/><feMergeNode in=\"SourceGraphic\"/></feMerge></filter></defs><g id=\"\"><g stroke=\"crimson\" stroke-width=\"4\" id=\"edges_unspecified\"><line x1=\"30\" y1=\"370\" x2=\"370\" y2=\"30\"/><line x1=\"370\" y1=\"30\" x2=\"710\" y2=\"370\"/><line x1=\"710\" y1=\"370\" x2=\"1050\" y2=\"30\"/><line x1=\"1050\" y1=\"30\" x2=\"1390\" y2=\"370\"/><line x1=\"710\" y1=\"1050\" x2=\"1390\" y2=\"370\"/></g><g id=\"WTGgrp\"><g fill=\"#1f77b4\"><use href=\"#wtg\" x=\"30\" y=\"370\"/><use href=\"#wtg\" x=\"370\" y=\"30\"/><use href=\"#wtg\" x=\"710\" y=\"370\"/><use href=\"#wtg\" x=\"1050\" y=\"30\"/><use href=\"#wtg\" x=\"1390\" y=\"370\"/></g></g><g id=\"OSSgrp\"><use href=\"#oss\" x=\"699.5\" y=\"1039.5\"/></g></g><text filter=\"url(#bg_textbox)\" text-anchor=\"end\" font-family=\"sans-serif\" font-size=\"40\" fill=\"white\" x=\"1390\" y=\"1050\"><tspan x=\"1390\" dy=\"-0.0em\">14425 &#8364;</tspan><tspan x=\"1390\" dy=\"-1.3em\">&#931;&#955; = 8.4853 m</tspan><tspan x=\"1390\" dy=\"-1.3em\">(+0) [-1]: 1</tspan><tspan x=\"1390\" dy=\"-1.3em\">&#954; = 5, T = 5</tspan></text></svg>"
      ],
      "text/plain": [
       "<optiwindnet.api.WindFarmNetwork at 0x2599ced02f0>"
      ]
     },
     "execution_count": 7,
     "metadata": {},
     "output_type": "execute_result"
    }
   ],
   "source": [
    "model_opts = ModelOptions(topology='radial', feeder_limit='minimum', feeder_route='straight')\n",
    "wfn.optimize(router=MILPRouter(solver_name='ortools', time_limit=2, mip_gap=0.01, model_options=model_opts), verbose=True)\n",
    "wfn"
   ]
  },
  {
   "cell_type": "markdown",
   "id": "3dbd5d88",
   "metadata": {},
   "source": [
    "### Method: `plot()` and Variants\n",
    "\n",
    "These methods help you visualize the layout at different stages:\n",
    "\n",
    "- `plot_location()` – turbine/substation coordinates and border\n",
    "- `plot()` – final optimized layout\n",
    "\n",
    "> For a detailed explanation of this method see [Plotting Notebook](a04_Plotting.ipynb).\n"
   ]
  },
  {
   "cell_type": "code",
   "execution_count": 8,
   "id": "89161332",
   "metadata": {},
   "outputs": [
    {
     "data": {
      "text/plain": [
       "<Axes: >"
      ]
     },
     "execution_count": 8,
     "metadata": {},
     "output_type": "execute_result"
    },
    {
     "data": {
      "image/svg+xml": [
       "<?xml version=\"1.0\" encoding=\"utf-8\" standalone=\"no\"?>\n",
       "<!DOCTYPE svg PUBLIC \"-//W3C//DTD SVG 1.1//EN\"\n",
       "  \"http://www.w3.org/Graphics/SVG/1.1/DTD/svg11.dtd\">\n",
       "<svg xmlns:xlink=\"http://www.w3.org/1999/xlink\" width=\"467.19936pt\" height=\"353.99952pt\" viewBox=\"0 0 467.19936 353.99952\" xmlns=\"http://www.w3.org/2000/svg\" version=\"1.1\">\n",
       " <metadata>\n",
       "  <rdf:RDF xmlns:dc=\"http://purl.org/dc/elements/1.1/\" xmlns:cc=\"http://creativecommons.org/ns#\" xmlns:rdf=\"http://www.w3.org/1999/02/22-rdf-syntax-ns#\">\n",
       "   <cc:Work>\n",
       "    <dc:type rdf:resource=\"http://purl.org/dc/dcmitype/StillImage\"/>\n",
       "    <dc:date>2025-08-27T16:42:32.446816</dc:date>\n",
       "    <dc:format>image/svg+xml</dc:format>\n",
       "    <dc:creator>\n",
       "     <cc:Agent>\n",
       "      <dc:title>Matplotlib v3.10.1, https://matplotlib.org/</dc:title>\n",
       "     </cc:Agent>\n",
       "    </dc:creator>\n",
       "   </cc:Work>\n",
       "  </rdf:RDF>\n",
       " </metadata>\n",
       " <defs>\n",
       "  <style type=\"text/css\">*{stroke-linejoin: round; stroke-linecap: butt}</style>\n",
       " </defs>\n",
       " <g id=\"figure_1\">\n",
       "  <g id=\"axes_1\">\n",
       "   <g id=\"PathCollection_1\">\n",
       "    <defs>\n",
       "     <path id=\"ma83adf4f6d\" d=\"M -2.95804 2.95804 \n",
       "L 2.95804 2.95804 \n",
       "L 2.95804 -2.95804 \n",
       "L -2.95804 -2.95804 \n",
       "z\n",
       "\" style=\"stroke: #111111; stroke-width: 0.3\"/>\n",
       "    </defs>\n",
       "    <g>\n",
       "     <use xlink:href=\"#ma83adf4f6d\" x=\"233.59968\" y=\"345.118334\" style=\"fill: #7cfc00; stroke: #111111; stroke-width: 0.3\"/>\n",
       "    </g>\n",
       "   </g>\n",
       "   <g id=\"PathCollection_2\">\n",
       "    <defs>\n",
       "     <path id=\"C0_0_a43da249e8\" d=\"M 0 2.95804 \n",
       "C 0.784481 2.95804 1.536938 2.646362 2.09165 2.09165 \n",
       "C 2.646362 1.536938 2.95804 0.784481 2.95804 -0 \n",
       "C 2.95804 -0.784481 2.646362 -1.536938 2.09165 -2.09165 \n",
       "C 1.536938 -2.646362 0.784481 -2.95804 0 -2.95804 \n",
       "C -0.784481 -2.95804 -1.536938 -2.646362 -2.09165 -2.09165 \n",
       "C -2.646362 -1.536938 -2.95804 -0.784481 -2.95804 0 \n",
       "C -2.95804 0.784481 -2.646362 1.536938 -2.09165 2.09165 \n",
       "C -1.536938 2.646362 -0.784481 2.95804 0 2.95804 \n",
       "z\n",
       "\"/>\n",
       "    </defs>\n",
       "    <use xlink:href=\"#C0_0_a43da249e8\" x=\"9.441581\" y=\"120.960235\" style=\"fill: #9edae5\"/>\n",
       "    <use xlink:href=\"#C0_0_a43da249e8\" x=\"121.52063\" y=\"8.881186\" style=\"fill: #9edae5\"/>\n",
       "    <use xlink:href=\"#C0_0_a43da249e8\" x=\"233.59968\" y=\"120.960235\" style=\"fill: #9edae5\"/>\n",
       "    <use xlink:href=\"#C0_0_a43da249e8\" x=\"345.67873\" y=\"8.881186\" style=\"fill: #9edae5\"/>\n",
       "    <use xlink:href=\"#C0_0_a43da249e8\" x=\"457.757779\" y=\"120.960235\" style=\"fill: #9edae5\"/>\n",
       "   </g>\n",
       "  </g>\n",
       " </g>\n",
       "</svg>\n"
      ],
      "text/plain": [
       "<Figure size 1228.8x921.6 with 1 Axes>"
      ]
     },
     "metadata": {},
     "output_type": "display_data"
    },
    {
     "data": {
      "image/svg+xml": [
       "<?xml version=\"1.0\" encoding=\"utf-8\" standalone=\"no\"?>\n",
       "<!DOCTYPE svg PUBLIC \"-//W3C//DTD SVG 1.1//EN\"\n",
       "  \"http://www.w3.org/Graphics/SVG/1.1/DTD/svg11.dtd\">\n",
       "<svg xmlns:xlink=\"http://www.w3.org/1999/xlink\" width=\"467.19936pt\" height=\"353.99952pt\" viewBox=\"0 0 467.19936 353.99952\" xmlns=\"http://www.w3.org/2000/svg\" version=\"1.1\">\n",
       " <metadata>\n",
       "  <rdf:RDF xmlns:dc=\"http://purl.org/dc/elements/1.1/\" xmlns:cc=\"http://creativecommons.org/ns#\" xmlns:rdf=\"http://www.w3.org/1999/02/22-rdf-syntax-ns#\">\n",
       "   <cc:Work>\n",
       "    <dc:type rdf:resource=\"http://purl.org/dc/dcmitype/StillImage\"/>\n",
       "    <dc:date>2025-08-27T16:42:32.490007</dc:date>\n",
       "    <dc:format>image/svg+xml</dc:format>\n",
       "    <dc:creator>\n",
       "     <cc:Agent>\n",
       "      <dc:title>Matplotlib v3.10.1, https://matplotlib.org/</dc:title>\n",
       "     </cc:Agent>\n",
       "    </dc:creator>\n",
       "   </cc:Work>\n",
       "  </rdf:RDF>\n",
       " </metadata>\n",
       " <defs>\n",
       "  <style type=\"text/css\">*{stroke-linejoin: round; stroke-linecap: butt}</style>\n",
       " </defs>\n",
       " <g id=\"figure_1\">\n",
       "  <g id=\"axes_1\">\n",
       "   <g id=\"LineCollection_1\">\n",
       "    <path d=\"M 29.81959 126.054737 \n",
       "L 131.709635 24.164692 \n",
       "\" clip-path=\"url(#p952b37fee4)\" style=\"fill: none; stroke: #dc143c; stroke-linecap: round\"/>\n",
       "    <path d=\"M 131.709635 24.164692 \n",
       "L 233.59968 126.054737 \n",
       "\" clip-path=\"url(#p952b37fee4)\" style=\"fill: none; stroke: #dc143c; stroke-linecap: round\"/>\n",
       "    <path d=\"M 233.59968 126.054737 \n",
       "L 335.489725 24.164692 \n",
       "\" clip-path=\"url(#p952b37fee4)\" style=\"fill: none; stroke: #dc143c; stroke-linecap: round\"/>\n",
       "    <path d=\"M 335.489725 24.164692 \n",
       "L 437.37977 126.054737 \n",
       "\" clip-path=\"url(#p952b37fee4)\" style=\"fill: none; stroke: #dc143c; stroke-linecap: round\"/>\n",
       "    <path d=\"M 437.37977 126.054737 \n",
       "L 233.59968 329.834828 \n",
       "\" clip-path=\"url(#p952b37fee4)\" style=\"fill: none; stroke: #dc143c; stroke-linecap: round\"/>\n",
       "   </g>\n",
       "   <g id=\"PathCollection_1\">\n",
       "    <defs>\n",
       "     <path id=\"m3b8c80aa12\" d=\"M -2.95804 2.95804 \n",
       "L 2.95804 2.95804 \n",
       "L 2.95804 -2.95804 \n",
       "L -2.95804 -2.95804 \n",
       "z\n",
       "\" style=\"stroke: #111111; stroke-width: 0.3\"/>\n",
       "    </defs>\n",
       "    <g>\n",
       "     <use xlink:href=\"#m3b8c80aa12\" x=\"233.59968\" y=\"329.834828\" style=\"fill: #7cfc00; stroke: #111111; stroke-width: 0.3\"/>\n",
       "    </g>\n",
       "   </g>\n",
       "   <g id=\"PathCollection_2\">\n",
       "    <defs>\n",
       "     <path id=\"C0_0_5af4383bcb\" d=\"M 0 2.95804 \n",
       "C 0.784481 2.95804 1.536938 2.646362 2.09165 2.09165 \n",
       "C 2.646362 1.536938 2.95804 0.784481 2.95804 -0 \n",
       "C 2.95804 -0.784481 2.646362 -1.536938 2.09165 -2.09165 \n",
       "C 1.536938 -2.646362 0.784481 -2.95804 0 -2.95804 \n",
       "C -0.784481 -2.95804 -1.536938 -2.646362 -2.09165 -2.09165 \n",
       "C -2.646362 -1.536938 -2.95804 -0.784481 -2.95804 0 \n",
       "C -2.95804 0.784481 -2.646362 1.536938 -2.09165 2.09165 \n",
       "C -1.536938 2.646362 -0.784481 2.95804 0 2.95804 \n",
       "z\n",
       "\"/>\n",
       "    </defs>\n",
       "    <use xlink:href=\"#C0_0_5af4383bcb\" x=\"29.81959\" y=\"126.054737\" style=\"fill: #1f77b4\"/>\n",
       "    <use xlink:href=\"#C0_0_5af4383bcb\" x=\"131.709635\" y=\"24.164692\" style=\"fill: #1f77b4\"/>\n",
       "    <use xlink:href=\"#C0_0_5af4383bcb\" x=\"233.59968\" y=\"126.054737\" style=\"fill: #1f77b4\"/>\n",
       "    <use xlink:href=\"#C0_0_5af4383bcb\" x=\"335.489725\" y=\"24.164692\" style=\"fill: #1f77b4\"/>\n",
       "    <use xlink:href=\"#C0_0_5af4383bcb\" x=\"437.37977\" y=\"126.054737\" style=\"fill: #1f77b4\"/>\n",
       "   </g>\n",
       "   <g id=\"legend_1\">\n",
       "    <g id=\"patch_1\">\n",
       "     <path d=\"M 359.139985 72.125875 \n",
       "L 452.99936 72.125875 \n",
       "Q 454.99936 72.125875 454.99936 70.125875 \n",
       "L 454.99936 14.2 \n",
       "Q 454.99936 12.2 452.99936 12.2 \n",
       "L 359.139985 12.2 \n",
       "Q 357.139985 12.2 357.139985 14.2 \n",
       "L 357.139985 70.125875 \n",
       "Q 357.139985 72.125875 359.139985 72.125875 \n",
       "z\n",
       "\" style=\"fill: #111111; opacity: 0.6; stroke: #ffffff; stroke-linejoin: miter\"/>\n",
       "    </g>\n",
       "    <g id=\"text_1\">\n",
       "     <text style=\"font-size: 12px; font-family: 'DejaVu Sans', 'Bitstream Vera Sans', 'Computer Modern Sans Serif', 'Lucida Grande', 'Verdana', 'Geneva', 'Lucid', 'Arial', 'Helvetica', 'Avant Garde', sans-serif; fill: #ffffff\" transform=\"translate(369.73686 25.318125)\">κ = 5, T = 5</text>\n",
       "     <text style=\"font-size: 12px; font-family: 'DejaVu Sans', 'Bitstream Vera Sans', 'Computer Modern Sans Serif', 'Lucida Grande', 'Verdana', 'Geneva', 'Lucid', 'Arial', 'Helvetica', 'Avant Garde', sans-serif; fill: #ffffff\" transform=\"translate(372.225923 38.7555)\">(+0) [-1]: 1</text>\n",
       "     <text style=\"font-size: 12px; font-family: 'DejaVu Sans', 'Bitstream Vera Sans', 'Computer Modern Sans Serif', 'Lucida Grande', 'Verdana', 'Geneva', 'Lucid', 'Arial', 'Helvetica', 'Avant Garde', sans-serif; fill: #ffffff\" transform=\"translate(361.139985 52.192875)\">Σλ = 8.4853 m</text>\n",
       "     <text style=\"font-size: 12px; font-family: 'DejaVu Sans', 'Bitstream Vera Sans', 'Computer Modern Sans Serif', 'Lucida Grande', 'Verdana', 'Geneva', 'Lucid', 'Arial', 'Helvetica', 'Avant Garde', sans-serif; fill: #ffffff\" transform=\"translate(381.257798 65.63025)\">14425 €</text>\n",
       "    </g>\n",
       "   </g>\n",
       "  </g>\n",
       " </g>\n",
       " <defs>\n",
       "  <clipPath id=\"p952b37fee4\">\n",
       "   <rect x=\"7.2\" y=\"7.2\" width=\"452.79936\" height=\"339.59952\"/>\n",
       "  </clipPath>\n",
       " </defs>\n",
       "</svg>\n"
      ],
      "text/plain": [
       "<Figure size 1228.8x921.6 with 1 Axes>"
      ]
     },
     "metadata": {},
     "output_type": "display_data"
    }
   ],
   "source": [
    "wfn.plot_location()\n",
    "wfn.plot() # wfn will do the same on notebooks (and if no G is available it will display L)"
   ]
  },
  {
   "cell_type": "markdown",
   "id": "b93855a6-3175-4c75-8358-0bc56e8e787b",
   "metadata": {},
   "source": [
    "### Method: `cost()` and `length()`"
   ]
  },
  {
   "cell_type": "markdown",
   "id": "711e2851-3c45-4e25-b6d2-30db7f0d56da",
   "metadata": {},
   "source": [
    "Returns the total cost and cable length of the optimized network."
   ]
  },
  {
   "cell_type": "code",
   "execution_count": 9,
   "id": "72ef1d9a",
   "metadata": {},
   "outputs": [
    {
     "name": "stdout",
     "output_type": "stream",
     "text": [
      "Network cost: 14424.97833620557\n",
      "Network length: 8.485281374238571\n"
     ]
    }
   ],
   "source": [
    "print(\"Network cost:\", wfn.cost())\n",
    "print(\"Network length:\", wfn.length())"
   ]
  },
  {
   "cell_type": "markdown",
   "id": "405e5e24-76d9-481f-bf5b-3e2b84feeb46",
   "metadata": {},
   "source": [
    "### Method: `terse_links()`"
   ]
  },
  {
   "cell_type": "markdown",
   "id": "5a5a48f5-c2b7-449b-8a10-0b2f62d19ca6",
   "metadata": {},
   "source": [
    "A terse link is a compact way to describe how each turbine is connected in the electrical network. It’s just a list (or array) where:\n",
    "\n",
    "* Each position `i` represents turbine `i`\n",
    "\n",
    "* The value at position `i` is the node that turbine `i` connects to\n",
    "(this could be another turbine or a substation)"
   ]
  },
  {
   "cell_type": "code",
   "execution_count": 10,
   "id": "deb7d87f",
   "metadata": {},
   "outputs": [
    {
     "name": "stdout",
     "output_type": "stream",
     "text": [
      "Terse link array: [ 1  2  3  4 -1]\n"
     ]
    }
   ],
   "source": [
    "terse = wfn.terse_links()\n",
    "print(\"Terse link array:\", terse)"
   ]
  },
  {
   "cell_type": "markdown",
   "id": "831e287d-0cf1-44cb-9b0c-11433a5006ea",
   "metadata": {},
   "source": [
    "### Method: `update_from_terse_links()`"
   ]
  },
  {
   "cell_type": "markdown",
   "id": "3e95d580-3031-43bd-b277-f020b96731b6",
   "metadata": {},
   "source": [
    "`update_from_terse_links()` allows you to reconstruct the network from a known `terse_link`, optionally updating coordinates. This method assumes a **valid and feasible network**, so it’s your responsibility to ensure that:\n",
    "* The connections form a proper **feeder tree**\n",
    "* Every turbine is (indirectly or directly) connected to a **substation**\n",
    "* Capacity constraints are not violated\n",
    "\n",
    "Suppose we have a wind farm with:\n",
    "* **5 turbines** → nodes `0, 1, 2, 3, 4`\n",
    "* **1 substation** → node `-1` (*Note: In optiwindnet, substations are assigned negative indices*)\n",
    "\n",
    "We want the following connections:\n",
    "* Turbine 0 → Substation (-1)\n",
    "* Turbine 1 → Turbine 0\n",
    "* Turbine 2 → Substation (-1)\n",
    "* Turbine 3 → Turbine 2\n",
    "* Turbine 4 → Turbine 3\n",
    "\n",
    "This gives us the `terse_links` array:\n",
    "\n",
    "```python\n",
    "terse_links = [-1, 0, -1, 2, 3]"
   ]
  },
  {
   "cell_type": "code",
   "execution_count": 11,
   "id": "af4c603a",
   "metadata": {},
   "outputs": [
    {
     "data": {
      "text/plain": [
       "<Axes: >"
      ]
     },
     "execution_count": 11,
     "metadata": {},
     "output_type": "execute_result"
    },
    {
     "data": {
      "image/svg+xml": [
       "<?xml version=\"1.0\" encoding=\"utf-8\" standalone=\"no\"?>\n",
       "<!DOCTYPE svg PUBLIC \"-//W3C//DTD SVG 1.1//EN\"\n",
       "  \"http://www.w3.org/Graphics/SVG/1.1/DTD/svg11.dtd\">\n",
       "<svg xmlns:xlink=\"http://www.w3.org/1999/xlink\" width=\"467.19936pt\" height=\"353.99952pt\" viewBox=\"0 0 467.19936 353.99952\" xmlns=\"http://www.w3.org/2000/svg\" version=\"1.1\">\n",
       " <metadata>\n",
       "  <rdf:RDF xmlns:dc=\"http://purl.org/dc/elements/1.1/\" xmlns:cc=\"http://creativecommons.org/ns#\" xmlns:rdf=\"http://www.w3.org/1999/02/22-rdf-syntax-ns#\">\n",
       "   <cc:Work>\n",
       "    <dc:type rdf:resource=\"http://purl.org/dc/dcmitype/StillImage\"/>\n",
       "    <dc:date>2025-08-27T16:42:32.742211</dc:date>\n",
       "    <dc:format>image/svg+xml</dc:format>\n",
       "    <dc:creator>\n",
       "     <cc:Agent>\n",
       "      <dc:title>Matplotlib v3.10.1, https://matplotlib.org/</dc:title>\n",
       "     </cc:Agent>\n",
       "    </dc:creator>\n",
       "   </cc:Work>\n",
       "  </rdf:RDF>\n",
       " </metadata>\n",
       " <defs>\n",
       "  <style type=\"text/css\">*{stroke-linejoin: round; stroke-linecap: butt}</style>\n",
       " </defs>\n",
       " <g id=\"figure_1\">\n",
       "  <g id=\"axes_1\">\n",
       "   <g id=\"LineCollection_1\">\n",
       "    <path d=\"M 29.81959 126.054737 \n",
       "L 131.709635 24.164692 \n",
       "\" clip-path=\"url(#p155088ecc2)\" style=\"fill: none; stroke: #dc143c; stroke-linecap: round\"/>\n",
       "    <path d=\"M 29.81959 126.054737 \n",
       "L 233.59968 329.834828 \n",
       "\" clip-path=\"url(#p155088ecc2)\" style=\"fill: none; stroke: #dc143c; stroke-linecap: round\"/>\n",
       "    <path d=\"M 233.59968 329.834828 \n",
       "L 233.59968 126.054737 \n",
       "\" clip-path=\"url(#p155088ecc2)\" style=\"fill: none; stroke: #dc143c; stroke-linecap: round\"/>\n",
       "    <path d=\"M 233.59968 126.054737 \n",
       "L 335.489725 24.164692 \n",
       "\" clip-path=\"url(#p155088ecc2)\" style=\"fill: none; stroke: #dc143c; stroke-linecap: round\"/>\n",
       "    <path d=\"M 335.489725 24.164692 \n",
       "L 437.37977 126.054737 \n",
       "\" clip-path=\"url(#p155088ecc2)\" style=\"fill: none; stroke: #dc143c; stroke-linecap: round\"/>\n",
       "   </g>\n",
       "   <g id=\"PathCollection_1\">\n",
       "    <defs>\n",
       "     <path id=\"mcf31c97437\" d=\"M -2.95804 2.95804 \n",
       "L 2.95804 2.95804 \n",
       "L 2.95804 -2.95804 \n",
       "L -2.95804 -2.95804 \n",
       "z\n",
       "\" style=\"stroke: #111111; stroke-width: 0.3\"/>\n",
       "    </defs>\n",
       "    <g>\n",
       "     <use xlink:href=\"#mcf31c97437\" x=\"233.59968\" y=\"329.834828\" style=\"fill: #7cfc00; stroke: #111111; stroke-width: 0.3\"/>\n",
       "    </g>\n",
       "   </g>\n",
       "   <g id=\"PathCollection_2\">\n",
       "    <defs>\n",
       "     <path id=\"C0_0_a73cc502bc\" d=\"M 0 2.95804 \n",
       "C 0.784481 2.95804 1.536938 2.646362 2.09165 2.09165 \n",
       "C 2.646362 1.536938 2.95804 0.784481 2.95804 -0 \n",
       "C 2.95804 -0.784481 2.646362 -1.536938 2.09165 -2.09165 \n",
       "C 1.536938 -2.646362 0.784481 -2.95804 0 -2.95804 \n",
       "C -0.784481 -2.95804 -1.536938 -2.646362 -2.09165 -2.09165 \n",
       "C -2.646362 -1.536938 -2.95804 -0.784481 -2.95804 0 \n",
       "C -2.95804 0.784481 -2.646362 1.536938 -2.09165 2.09165 \n",
       "C -1.536938 2.646362 -0.784481 2.95804 0 2.95804 \n",
       "z\n",
       "\"/>\n",
       "    </defs>\n",
       "    <use xlink:href=\"#C0_0_a73cc502bc\" x=\"29.81959\" y=\"126.054737\" style=\"fill: #1f77b4\"/>\n",
       "    <use xlink:href=\"#C0_0_a73cc502bc\" x=\"131.709635\" y=\"24.164692\" style=\"fill: #1f77b4\"/>\n",
       "    <use xlink:href=\"#C0_0_a73cc502bc\" x=\"233.59968\" y=\"126.054737\" style=\"fill: #aec7e8\"/>\n",
       "    <use xlink:href=\"#C0_0_a73cc502bc\" x=\"335.489725\" y=\"24.164692\" style=\"fill: #aec7e8\"/>\n",
       "    <use xlink:href=\"#C0_0_a73cc502bc\" x=\"437.37977\" y=\"126.054737\" style=\"fill: #aec7e8\"/>\n",
       "   </g>\n",
       "   <g id=\"legend_1\">\n",
       "    <g id=\"patch_1\">\n",
       "     <path d=\"M 359.139985 72.125875 \n",
       "L 452.99936 72.125875 \n",
       "Q 454.99936 72.125875 454.99936 70.125875 \n",
       "L 454.99936 14.2 \n",
       "Q 454.99936 12.2 452.99936 12.2 \n",
       "L 359.139985 12.2 \n",
       "Q 357.139985 12.2 357.139985 14.2 \n",
       "L 357.139985 70.125875 \n",
       "Q 357.139985 72.125875 359.139985 72.125875 \n",
       "z\n",
       "\" style=\"fill: #111111; opacity: 0.6; stroke: #ffffff; stroke-linejoin: miter\"/>\n",
       "    </g>\n",
       "    <g id=\"text_1\">\n",
       "     <text style=\"font-size: 12px; font-family: 'DejaVu Sans', 'Bitstream Vera Sans', 'Computer Modern Sans Serif', 'Lucida Grande', 'Verdana', 'Geneva', 'Lucid', 'Arial', 'Helvetica', 'Avant Garde', sans-serif; fill: #ffffff\" transform=\"translate(369.73686 25.318125)\">κ = 5, T = 5</text>\n",
       "     <text style=\"font-size: 12px; font-family: 'DejaVu Sans', 'Bitstream Vera Sans', 'Computer Modern Sans Serif', 'Lucida Grande', 'Verdana', 'Geneva', 'Lucid', 'Arial', 'Helvetica', 'Avant Garde', sans-serif; fill: #ffffff\" transform=\"translate(372.225923 38.7555)\">(+1) [-1]: 2</text>\n",
       "     <text style=\"font-size: 12px; font-family: 'DejaVu Sans', 'Bitstream Vera Sans', 'Computer Modern Sans Serif', 'Lucida Grande', 'Verdana', 'Geneva', 'Lucid', 'Arial', 'Helvetica', 'Avant Garde', sans-serif; fill: #ffffff\" transform=\"translate(361.139985 52.192875)\">Σλ = 9.0711 m</text>\n",
       "     <text style=\"font-size: 12px; font-family: 'DejaVu Sans', 'Bitstream Vera Sans', 'Computer Modern Sans Serif', 'Lucida Grande', 'Verdana', 'Geneva', 'Lucid', 'Arial', 'Helvetica', 'Avant Garde', sans-serif; fill: #ffffff\" transform=\"translate(381.257798 65.63025)\">14207 €</text>\n",
       "    </g>\n",
       "   </g>\n",
       "  </g>\n",
       " </g>\n",
       " <defs>\n",
       "  <clipPath id=\"p155088ecc2\">\n",
       "   <rect x=\"7.2\" y=\"7.2\" width=\"452.79936\" height=\"339.59952\"/>\n",
       "  </clipPath>\n",
       " </defs>\n",
       "</svg>\n"
      ],
      "text/plain": [
       "<Figure size 1228.8x921.6 with 1 Axes>"
      ]
     },
     "metadata": {},
     "output_type": "display_data"
    }
   ],
   "source": [
    "new_terse_links = np.array([-1, 0, -1, 2, 3])\n",
    "\n",
    "# Apply the new configuration\n",
    "wfn.update_from_terse_links(new_terse_links)\n",
    "\n",
    "# Visualize the updated layout\n",
    "wfn.plot()\n"
   ]
  },
  {
   "cell_type": "markdown",
   "id": "96a70239",
   "metadata": {},
   "source": [
    "### Method: `gradient()`\n",
    "\n",
    "This method computes the gradient of the cost or length with respect to turbine/substation positions.\n",
    "Useful for hybrid optimization or sensitivity analysis.\n",
    " > Note: default of `gradient_type` is `length`."
   ]
  },
  {
   "cell_type": "code",
   "execution_count": 12,
   "id": "3fe297b4",
   "metadata": {},
   "outputs": [
    {
     "name": "stdout",
     "output_type": "stream",
     "text": [
      "gradient_type=length\n",
      "\n",
      "Gradient (w.r.t. turbines):\n",
      " [[-1.41421356  0.        ]\n",
      " [ 0.70710678  0.70710678]\n",
      " [-0.70710678  0.29289322]\n",
      " [ 0.          1.41421356]\n",
      " [ 0.70710678 -0.70710678]]\n",
      "Gradient (w.r.t. substations):\n",
      " [[ 0.70710678 -1.70710678]]\n",
      "\n",
      " ------------- \n",
      "\n",
      "gradient_type=length\n",
      "\n"
     ]
    },
    {
     "ename": "TypeError",
     "evalue": "tuple indices must be integers or slices, not str",
     "output_type": "error",
     "traceback": [
      "\u001b[31m---------------------------------------------------------------------------\u001b[39m",
      "\u001b[31mTypeError\u001b[39m                                 Traceback (most recent call last)",
      "\u001b[36mCell\u001b[39m\u001b[36m \u001b[39m\u001b[32mIn[12]\u001b[39m\u001b[32m, line 8\u001b[39m\n\u001b[32m      6\u001b[39m \u001b[38;5;28mprint\u001b[39m(\u001b[33m'\u001b[39m\u001b[38;5;130;01m\\n\u001b[39;00m\u001b[33m ------------- \u001b[39m\u001b[38;5;130;01m\\n\u001b[39;00m\u001b[33m'\u001b[39m)\n\u001b[32m      7\u001b[39m \u001b[38;5;28mprint\u001b[39m(\u001b[33m'\u001b[39m\u001b[33mgradient_type=length\u001b[39m\u001b[38;5;130;01m\\n\u001b[39;00m\u001b[33m'\u001b[39m)\n\u001b[32m----> \u001b[39m\u001b[32m8\u001b[39m grad_turb, grad_subs = \u001b[43mwfn\u001b[49m\u001b[43m.\u001b[49m\u001b[43mgradient\u001b[49m\u001b[43m(\u001b[49m\u001b[43mgradient_type\u001b[49m\u001b[43m=\u001b[49m\u001b[33;43m'\u001b[39;49m\u001b[33;43mcost\u001b[39;49m\u001b[33;43m'\u001b[39;49m\u001b[43m)\u001b[49m\n\u001b[32m      9\u001b[39m \u001b[38;5;28mprint\u001b[39m(\u001b[33m\"\u001b[39m\u001b[33mGradient (w.r.t. turbines):\u001b[39m\u001b[38;5;130;01m\\n\u001b[39;00m\u001b[33m\"\u001b[39m, grad_turb)\n\u001b[32m     10\u001b[39m \u001b[38;5;28mprint\u001b[39m(\u001b[33m\"\u001b[39m\u001b[33mGradient (w.r.t. substations):\u001b[39m\u001b[38;5;130;01m\\n\u001b[39;00m\u001b[33m\"\u001b[39m, grad_subs)\n",
      "\u001b[36mFile \u001b[39m\u001b[32mC:\\code\\OptiWindNet\\optiwindnet\\api.py:543\u001b[39m, in \u001b[36mWindFarmNetwork.gradient\u001b[39m\u001b[34m(self, turbinesC, substationsC, gradient_type)\u001b[39m\n\u001b[32m    540\u001b[39m vec /= norm[:, \u001b[38;5;28;01mNone\u001b[39;00m]\n\u001b[32m    542\u001b[39m \u001b[38;5;28;01mif\u001b[39;00m gradient_type.lower() == \u001b[33m'\u001b[39m\u001b[33mcost\u001b[39m\u001b[33m'\u001b[39m:\n\u001b[32m--> \u001b[39m\u001b[32m543\u001b[39m     cable_costs = \u001b[43mnp\u001b[49m\u001b[43m.\u001b[49m\u001b[43mfromiter\u001b[49m\u001b[43m(\u001b[49m\n\u001b[32m    544\u001b[39m \u001b[43m        \u001b[49m\u001b[43m(\u001b[49m\n\u001b[32m    545\u001b[39m \u001b[43m            \u001b[49m\u001b[43mG\u001b[49m\u001b[43m.\u001b[49m\u001b[43mgraph\u001b[49m\u001b[43m[\u001b[49m\u001b[33;43m'\u001b[39;49m\u001b[33;43mcables\u001b[39;49m\u001b[33;43m'\u001b[39;49m\u001b[43m]\u001b[49m\u001b[43m[\u001b[49m\u001b[43mcable\u001b[49m\u001b[43m]\u001b[49m\u001b[43m[\u001b[49m\u001b[33;43m'\u001b[39;49m\u001b[33;43mcost\u001b[39;49m\u001b[33;43m'\u001b[39;49m\u001b[43m]\u001b[49m\n\u001b[32m    546\u001b[39m \u001b[43m            \u001b[49m\u001b[38;5;28;43;01mfor\u001b[39;49;00m\u001b[43m \u001b[49m\u001b[43m*\u001b[49m\u001b[43m_\u001b[49m\u001b[43m,\u001b[49m\u001b[43m \u001b[49m\u001b[43mcable\u001b[49m\u001b[43m \u001b[49m\u001b[38;5;129;43;01min\u001b[39;49;00m\u001b[43m \u001b[49m\u001b[43mG\u001b[49m\u001b[43m.\u001b[49m\u001b[43medges\u001b[49m\u001b[43m(\u001b[49m\u001b[43mdata\u001b[49m\u001b[43m=\u001b[49m\u001b[33;43m'\u001b[39;49m\u001b[33;43mcable\u001b[39;49m\u001b[33;43m'\u001b[39;49m\u001b[43m)\u001b[49m\n\u001b[32m    547\u001b[39m \u001b[43m        \u001b[49m\u001b[43m)\u001b[49m\u001b[43m,\u001b[49m\n\u001b[32m    548\u001b[39m \u001b[43m        \u001b[49m\u001b[43mdtype\u001b[49m\u001b[43m=\u001b[49m\u001b[43mnp\u001b[49m\u001b[43m.\u001b[49m\u001b[43mfloat64\u001b[49m\u001b[43m,\u001b[49m\n\u001b[32m    549\u001b[39m \u001b[43m        \u001b[49m\u001b[43mcount\u001b[49m\u001b[43m=\u001b[49m\u001b[43mG\u001b[49m\u001b[43m.\u001b[49m\u001b[43mnumber_of_edges\u001b[49m\u001b[43m(\u001b[49m\u001b[43m)\u001b[49m\u001b[43m,\u001b[49m\n\u001b[32m    550\u001b[39m \u001b[43m    \u001b[49m\u001b[43m)\u001b[49m\n\u001b[32m    551\u001b[39m     vec *= cable_costs[:, \u001b[38;5;28;01mNone\u001b[39;00m]\n\u001b[32m    553\u001b[39m np.add.at(gradients, _u, vec)\n",
      "\u001b[36mFile \u001b[39m\u001b[32mC:\\code\\OptiWindNet\\optiwindnet\\api.py:545\u001b[39m, in \u001b[36m<genexpr>\u001b[39m\u001b[34m(.0)\u001b[39m\n\u001b[32m    540\u001b[39m vec /= norm[:, \u001b[38;5;28;01mNone\u001b[39;00m]\n\u001b[32m    542\u001b[39m \u001b[38;5;28;01mif\u001b[39;00m gradient_type.lower() == \u001b[33m'\u001b[39m\u001b[33mcost\u001b[39m\u001b[33m'\u001b[39m:\n\u001b[32m    543\u001b[39m     cable_costs = np.fromiter(\n\u001b[32m    544\u001b[39m         (\n\u001b[32m--> \u001b[39m\u001b[32m545\u001b[39m             \u001b[43mG\u001b[49m\u001b[43m.\u001b[49m\u001b[43mgraph\u001b[49m\u001b[43m[\u001b[49m\u001b[33;43m'\u001b[39;49m\u001b[33;43mcables\u001b[39;49m\u001b[33;43m'\u001b[39;49m\u001b[43m]\u001b[49m\u001b[43m[\u001b[49m\u001b[43mcable\u001b[49m\u001b[43m]\u001b[49m\u001b[43m[\u001b[49m\u001b[33;43m'\u001b[39;49m\u001b[33;43mcost\u001b[39;49m\u001b[33;43m'\u001b[39;49m\u001b[43m]\u001b[49m\n\u001b[32m    546\u001b[39m             \u001b[38;5;28;01mfor\u001b[39;00m *_, cable \u001b[38;5;129;01min\u001b[39;00m G.edges(data=\u001b[33m'\u001b[39m\u001b[33mcable\u001b[39m\u001b[33m'\u001b[39m)\n\u001b[32m    547\u001b[39m         ),\n\u001b[32m    548\u001b[39m         dtype=np.float64,\n\u001b[32m    549\u001b[39m         count=G.number_of_edges(),\n\u001b[32m    550\u001b[39m     )\n\u001b[32m    551\u001b[39m     vec *= cable_costs[:, \u001b[38;5;28;01mNone\u001b[39;00m]\n\u001b[32m    553\u001b[39m np.add.at(gradients, _u, vec)\n",
      "\u001b[31mTypeError\u001b[39m: tuple indices must be integers or slices, not str"
     ]
    }
   ],
   "source": [
    "print('gradient_type=length\\n')\n",
    "grad_turb, grad_subs = wfn.gradient()\n",
    "print(\"Gradient (w.r.t. turbines):\\n\", grad_turb)\n",
    "print(\"Gradient (w.r.t. substations):\\n\", grad_subs)\n",
    "\n",
    "print('\\n ------------- \\n')\n",
    "print('gradient_type=length\\n')\n",
    "grad_turb, grad_subs = wfn.gradient(gradient_type='cost')\n",
    "print(\"Gradient (w.r.t. turbines):\\n\", grad_turb)\n",
    "print(\"Gradient (w.r.t. substations):\\n\", grad_subs)"
   ]
  },
  {
   "cell_type": "markdown",
   "id": "4eea9d03",
   "metadata": {},
   "source": [
    "### Method: `get_network()`\n",
    "\n",
    "This method returns the **final optimized network** as a **structured NumPy array**, where each row represents an edge in the network.\n",
    "\n",
    "Each edge includes detailed attributes such as:\n",
    "\n",
    "* **`src`**: index of the source node\n",
    "* **`tgt`**: index of the target (destination node)\n",
    "* **`length`**: physical cable length\n",
    "* **`load`**: electrical load carried through the cable (number of turbines)\n",
    "* **`cable`**: index of the cable type used (e.g., 0 for first type in cable list)\n",
    "* **`cost`**: cost associated with that cable"
   ]
  },
  {
   "cell_type": "code",
   "execution_count": null,
   "id": "9a0b2118",
   "metadata": {},
   "outputs": [
    {
     "data": {
      "text/plain": [
       "array([(0,  1, 1.41421356, 1., False, 0, 2121.32034356),\n",
       "       (0, -1, 2.82842712, 2., False, 0, 4242.64068712)],\n",
       "      dtype=[('src', '<i8'), ('tgt', '<i8'), ('length', '<f8'), ('load', '<f8'), ('reverse', '?'), ('cable', '<i8'), ('cost', '<f8')])"
      ]
     },
     "execution_count": 13,
     "metadata": {},
     "output_type": "execute_result"
    }
   ],
   "source": [
    "network_data = wfn.get_network()\n",
    "network_data[:2]  # Preview first few edges"
   ]
  },
  {
   "cell_type": "markdown",
   "id": "9276fb5d",
   "metadata": {},
   "source": [
    "### In this section:\n",
    "\n",
    "we explored the most useful methods of the `WindFarmNetwork` class:\n",
    "\n",
    "| Method | Purpose |\n",
    "|--------|---------|\n",
    "| `optimize()` | Run optimization with a router |\n",
    "| `plot()` | Visualize the network |\n",
    "| `cost()`, `length()` | Get total cost and length |\n",
    "| `terse_links()` | Get compact link encoding |\n",
    "| `update_from_terse_links()` | Apply terse links manually |\n",
    "| `gradient()` | Compute layout gradient |\n",
    "| `get_network()` | Export the final network data |\n",
    "\n",
    "For deeper insights into individual methods, refer to the dedicated notebooks provided.\n"
   ]
  }
 ],
 "metadata": {
  "kernelspec": {
   "display_name": "OptiWindNet",
   "language": "python",
   "name": "python3"
  },
  "language_info": {
   "codemirror_mode": {
    "name": "ipython",
    "version": 3
   },
   "file_extension": ".py",
   "mimetype": "text/x-python",
   "name": "python",
   "nbconvert_exporter": "python",
   "pygments_lexer": "ipython3",
   "version": "3.12.9"
  }
 },
 "nbformat": 4,
 "nbformat_minor": 5
}
