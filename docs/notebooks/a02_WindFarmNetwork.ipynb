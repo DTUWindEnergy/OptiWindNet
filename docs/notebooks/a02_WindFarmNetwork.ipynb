{
 "cells": [
  {
   "cell_type": "markdown",
   "id": "f7b072be-a181-48f3-9a7c-5d8f16012d49",
   "metadata": {},
   "source": [
    "# WindFarmNetwork/Router"
   ]
  },
  {
   "cell_type": "markdown",
   "id": "2ce7a38d",
   "metadata": {},
   "source": [
    "This notebook is a practical guide to *OptiWindNet*’s Network/Router API (i.e. high-level API). It covers creating a wind farm model, using different routers (`EWRouter`, `HGSRouter`, `MILPRouter`), and applying key `WindFarmNetwork` methods. Specifically, we will:\n",
    "\n",
    "* Explore the `WindFarmNetwork` class\n",
    "* Compare available routers and their use cases\n",
    "* Run a complete optimization example"
   ]
  },
  {
   "cell_type": "markdown",
   "id": "80c8c206-b99d-4ec4-a593-a10e8fbd57ed",
   "metadata": {},
   "source": [
    "## ✅ WindFarmNetwork"
   ]
  },
  {
   "cell_type": "markdown",
   "id": "2196d3c5",
   "metadata": {},
   "source": [
    "The `WindFarmNetwork` class is the **central user-facing object** in the OptiWindNet high-level-API. It handles layout modeling, routing, optimization, and visualization. It is flexible and extensible, supporting multiple input formats and routing algorithms, and is used to model and optimize the electrical network of a wind farm."
   ]
  },
  {
   "cell_type": "markdown",
   "id": "a8acf159",
   "metadata": {},
   "source": [
    "### To create a `WindFarmNetwork` instance:\n",
    "\n",
    "**Required:**\n",
    "\n",
    "* Turbine and substation coordinates *(see [Data Input](a01_data_input.ipynb) for formats)*\n",
    "* Cable data (capacities and costs, or at least maximum capacity as a single number)\n",
    "\n",
    "**Optional:**\n",
    "\n",
    "* Borders and obstacles: to add spatial constraints\n",
    "* Router: optimization strategy (defaults to `EWRouter` if not specified)\n",
    "* `buff_dist`: buffer distance to expand borders or shrink obstacles; useful when turbines are near edges or when integrating with tools like TopFarm"
   ]
  },
  {
   "cell_type": "markdown",
   "id": "4c944a01",
   "metadata": {},
   "source": [
    "### Key Responsibilities"
   ]
  },
  {
   "cell_type": "markdown",
   "id": "d128ab24",
   "metadata": {},
   "source": [
    "| Feature                      | Description                                                                                                                                    |\n",
    "| ---------------------------- | ---------------------------------------------------------------------------------------------------------------------------------------------- |\n",
    "| **Initialization & Parsing** | Accepts turbine/substation coordinates or layout graph `L` (Can be constructed from YAML, PBF, or WindIO formats for integration with real-world datasets), validates cable data, and constructs the internal graph structure.                 |\n",
    "| **Optimization**             | Interfaces smoothly with different routers (`EWRouter`, `HGSRouter`, `MILPRouter`) to optimize the network layout for cost and cable length. |\n",
    "| **Visualization**            | Provides plotting tools for location, links, mesh, and final network.                           |\n",
    "| **Gradient & Update Graph**  | Computes gradients for optimization and allows updating network layouts using a compact \"terse link\" format.                                   |"
   ]
  },
  {
   "cell_type": "markdown",
   "id": "a41b0f1b",
   "metadata": {},
   "source": [
    "### Example Workflow"
   ]
  },
  {
   "cell_type": "markdown",
   "id": "1d7ab495",
   "metadata": {},
   "source": [
    "```python\n",
    "# Initialize with coordinates and cable types\n",
    "wf = WindFarmNetwork(cables=[(2, 1500.0), (5, 1800.0)], turbinesC=..., substationsC=...)\n",
    "\n",
    "# Optimize layout using default router (Esau-Williams)\n",
    "terse_links = wf.optimize()\n",
    "\n",
    "# Access total cost or cable length\n",
    "total_cost = wf.cost()\n",
    "total_length = wf.length()\n",
    "\n",
    "# Visualize network\n",
    "wf.plot()\n",
    "```"
   ]
  },
  {
   "cell_type": "markdown",
   "id": "dcf9eec1",
   "metadata": {},
   "source": [
    "## 🧭 **Router**"
   ]
  },
  {
   "cell_type": "markdown",
   "id": "ffd963f6",
   "metadata": {},
   "source": [
    "In OptiWindNet, a `Router` is used to compute the optimal layout of the wind farm’s electrical network. Given turbine and substation locations, available cable options, and routing constraints, a router determines *which turbines connect to which substations* and how cables should be laid to *minimize length (and concequently cost)*."
   ]
  },
  {
   "cell_type": "markdown",
   "id": "d9f536d0",
   "metadata": {},
   "source": [
    "### Currently Available Routers"
   ]
  },
  {
   "cell_type": "markdown",
   "id": "dbf55f1a",
   "metadata": {},
   "source": [
    "The routers currently included in the `optiwindnet.api` module are:\n",
    "\n",
    "* **EWRouter**\n",
    "\n",
    "  * *Fastest option* — completes in a fraction of a second\n",
    "  * Great for quick layout generation\n",
    "  * Produces only **branched-topology** solutions\n",
    "  * Heuristic method (EW = Esau-Williams) — solutions may be far from the optimum\n",
    "\n",
    "* **HGSRouter**\n",
    "\n",
    "  * *Still fast* — can provide high-quality solutions in **0.5–2 seconds**\n",
    "  * Produces only **radial-topology** solutions (no branching)\n",
    "  * A maximum number of feeders can be enforced\n",
    "  * Meta-heuristic method (HGS = Hybrid Genetic Search)\n",
    "\n",
    "* **MILPRouter**\n",
    "\n",
    "  * Delivers solutions with **quality guarantees** (a bound on the distance from the optimum)\n",
    "  * May take a **few to several minutes** depending on the problem size and quality required\n",
    "  * Full set of model options to choose from\n",
    "  * Should be used when optimality is more important than speed\n",
    "  * MILP = Mixed Integer Linear Programming"
   ]
  },
  {
   "cell_type": "markdown",
   "id": "961f9090",
   "metadata": {},
   "source": [
    "## Run an example"
   ]
  },
  {
   "cell_type": "markdown",
   "id": "39bcea21",
   "metadata": {},
   "source": [
    "In this section we will:\n",
    "- Create a simple wind farm network\n",
    "- Use heuristic and MILP optimization\n",
    "- Explore key methods such as:\n",
    "  - `.optimize()`\n",
    "  - `.plot()`\n",
    "  - `.cost()`, `.length()`\n",
    "  - `.terse_links()`, `.update_from_terse_links()`\n",
    "  - `.gradient()`\n",
    "  - `.get_network()`\n",
    "\n",
    "We start with dummy coordinates for 5 turbines and 1 substation, and define a simple cable type.\n"
   ]
  },
  {
   "cell_type": "markdown",
   "id": "de0f0c52",
   "metadata": {},
   "source": [
    "### Create a `WindFarmNetwork` instance"
   ]
  },
  {
   "cell_type": "markdown",
   "id": "c36112a8",
   "metadata": {},
   "source": [
    "Import required modules"
   ]
  },
  {
   "cell_type": "code",
   "execution_count": 70,
   "id": "afeaaf92",
   "metadata": {},
   "outputs": [],
   "source": [
    "import numpy as np\n",
    "from optiwindnet.api import WindFarmNetwork, EWRouter, MILPRouter, ModelOptions"
   ]
  },
  {
   "cell_type": "code",
   "execution_count": 71,
   "id": "d8fb593b",
   "metadata": {},
   "outputs": [],
   "source": [
    "# Display figures as SVG in Jupyter notebooks\n",
    "%config InlineBackend.figure_formats = ['svg']"
   ]
  },
  {
   "cell_type": "markdown",
   "id": "d5373461",
   "metadata": {},
   "source": [
    "#### Load location data"
   ]
  },
  {
   "cell_type": "markdown",
   "id": "4ff13e41",
   "metadata": {},
   "source": [
    "OptiWindNet works with location graphs that define turbine and substation positions (plus optional borders/obstacles).  \n",
    "You can load them from:\n",
    "- `.yaml` or `.osm.pbf` files\n",
    "- The included example repository\n",
    "- Your own coordinate arrays\n",
    "\n",
    "For more details see [Data Input](a01_data_input.ipynb).\n",
    "\n",
    "For the sake of simplicity, we consider dummy coordinates for 5 turbines and 1 substation, and define a simple cable type."
   ]
  },
  {
   "cell_type": "code",
   "execution_count": null,
   "id": "1d496a0b",
   "metadata": {},
   "outputs": [],
   "source": [
    "turbinesC = np.array([[0, 0], [1, 1], [2, 0], [3, 1], [4, 0]])\n",
    "substationsC = np.array([[2, -2]])\n",
    "cables = [(2, 1500.0), (5, 1800.0)]\n",
    "\n",
    "wfn = WindFarmNetwork(\n",
    "    cables=cables,\n",
    "    turbinesC=turbinesC,\n",
    "    substationsC=substationsC\n",
    ")"
   ]
  },
  {
   "cell_type": "markdown",
   "id": "fcafb617",
   "metadata": {},
   "source": [
    "##### Plot location\n",
    "\n",
    "> **Note:** Many of the Jupyter notebooks provided include SVG figures as output. To ensure these visuals are displayed correctly in JupyterLab or Jupyter Notebook, make sure the notebook is marked as **trusted**.\n",
    "> *In JupyterLab, you can do this by pressing* `Ctrl + Shift + C` *and selecting* **Trust Notebook**."
   ]
  },
  {
   "cell_type": "code",
   "execution_count": 73,
   "id": "c2b946a4",
   "metadata": {},
   "outputs": [
    {
     "data": {
      "text/plain": [
       "<Axes: >"
      ]
     },
     "execution_count": 73,
     "metadata": {},
     "output_type": "execute_result"
    },
    {
     "data": {
      "image/svg+xml": [
       "<?xml version=\"1.0\" encoding=\"utf-8\" standalone=\"no\"?>\n",
       "<!DOCTYPE svg PUBLIC \"-//W3C//DTD SVG 1.1//EN\"\n",
       "  \"http://www.w3.org/Graphics/SVG/1.1/DTD/svg11.dtd\">\n",
       "<svg xmlns:xlink=\"http://www.w3.org/1999/xlink\" width=\"467.19936pt\" height=\"353.99952pt\" viewBox=\"0 0 467.19936 353.99952\" xmlns=\"http://www.w3.org/2000/svg\" version=\"1.1\">\n",
       " <metadata>\n",
       "  <rdf:RDF xmlns:dc=\"http://purl.org/dc/elements/1.1/\" xmlns:cc=\"http://creativecommons.org/ns#\" xmlns:rdf=\"http://www.w3.org/1999/02/22-rdf-syntax-ns#\">\n",
       "   <cc:Work>\n",
       "    <dc:type rdf:resource=\"http://purl.org/dc/dcmitype/StillImage\"/>\n",
       "    <dc:date>2025-08-15T13:46:28.791022</dc:date>\n",
       "    <dc:format>image/svg+xml</dc:format>\n",
       "    <dc:creator>\n",
       "     <cc:Agent>\n",
       "      <dc:title>Matplotlib v3.10.1, https://matplotlib.org/</dc:title>\n",
       "     </cc:Agent>\n",
       "    </dc:creator>\n",
       "   </cc:Work>\n",
       "  </rdf:RDF>\n",
       " </metadata>\n",
       " <defs>\n",
       "  <style type=\"text/css\">*{stroke-linejoin: round; stroke-linecap: butt}</style>\n",
       " </defs>\n",
       " <g id=\"figure_1\">\n",
       "  <g id=\"axes_1\">\n",
       "   <g id=\"PathCollection_1\">\n",
       "    <defs>\n",
       "     <path id=\"m92d7154a59\" d=\"M -2.95804 2.95804 \n",
       "L 2.95804 2.95804 \n",
       "L 2.95804 -2.95804 \n",
       "L -2.95804 -2.95804 \n",
       "z\n",
       "\" style=\"stroke: #111111; stroke-width: 0.3\"/>\n",
       "    </defs>\n",
       "    <g>\n",
       "     <use xlink:href=\"#m92d7154a59\" x=\"233.59968\" y=\"345.118334\" style=\"fill: #7cfc00; stroke: #111111; stroke-width: 0.3\"/>\n",
       "    </g>\n",
       "   </g>\n",
       "   <g id=\"PathCollection_2\">\n",
       "    <defs>\n",
       "     <path id=\"C0_0_c7fa7e35df\" d=\"M 0 2.95804 \n",
       "C 0.784481 2.95804 1.536938 2.646362 2.09165 2.09165 \n",
       "C 2.646362 1.536938 2.95804 0.784481 2.95804 -0 \n",
       "C 2.95804 -0.784481 2.646362 -1.536938 2.09165 -2.09165 \n",
       "C 1.536938 -2.646362 0.784481 -2.95804 0 -2.95804 \n",
       "C -0.784481 -2.95804 -1.536938 -2.646362 -2.09165 -2.09165 \n",
       "C -2.646362 -1.536938 -2.95804 -0.784481 -2.95804 0 \n",
       "C -2.95804 0.784481 -2.646362 1.536938 -2.09165 2.09165 \n",
       "C -1.536938 2.646362 -0.784481 2.95804 0 2.95804 \n",
       "z\n",
       "\"/>\n",
       "    </defs>\n",
       "    <use xlink:href=\"#C0_0_c7fa7e35df\" x=\"9.441581\" y=\"120.960235\" style=\"fill: #9edae5\"/>\n",
       "    <use xlink:href=\"#C0_0_c7fa7e35df\" x=\"121.52063\" y=\"8.881186\" style=\"fill: #9edae5\"/>\n",
       "    <use xlink:href=\"#C0_0_c7fa7e35df\" x=\"233.59968\" y=\"120.960235\" style=\"fill: #9edae5\"/>\n",
       "    <use xlink:href=\"#C0_0_c7fa7e35df\" x=\"345.67873\" y=\"8.881186\" style=\"fill: #9edae5\"/>\n",
       "    <use xlink:href=\"#C0_0_c7fa7e35df\" x=\"457.757779\" y=\"120.960235\" style=\"fill: #9edae5\"/>\n",
       "   </g>\n",
       "  </g>\n",
       " </g>\n",
       "</svg>\n"
      ],
      "text/plain": [
       "<Figure size 1228.8x921.6 with 1 Axes>"
      ]
     },
     "metadata": {},
     "output_type": "display_data"
    }
   ],
   "source": [
    "wfn.plot_location()"
   ]
  },
  {
   "cell_type": "markdown",
   "id": "03cf721a",
   "metadata": {},
   "source": [
    "### Method: `optimize(router=...)`\n",
    "\n",
    "This is the main method that computes the electrical network based on a given routing algorithm (heuristic, metaheuristic or MILP).\n",
    " > Note that the router could be passed directly to `WindFarmNetwork(router=...)`."
   ]
  },
  {
   "cell_type": "markdown",
   "id": "2865ca33-b8d1-42c9-bb49-5d088e866a9d",
   "metadata": {},
   "source": [
    "#### Use a heuristic router (Esau-Williams)"
   ]
  },
  {
   "cell_type": "code",
   "execution_count": 74,
   "id": "43d027d8-1b4c-4b78-96ba-2207a6a6056a",
   "metadata": {},
   "outputs": [
    {
     "data": {
      "text/plain": [
       "array([ 1,  2, -1,  2,  3])"
      ]
     },
     "execution_count": 74,
     "metadata": {},
     "output_type": "execute_result"
    }
   ],
   "source": [
    "wfn.optimize(router=EWRouter())"
   ]
  },
  {
   "cell_type": "markdown",
   "id": "b2bb6e6d",
   "metadata": {},
   "source": [
    "Plot the result"
   ]
  },
  {
   "cell_type": "code",
   "execution_count": 75,
   "id": "1388e2d8",
   "metadata": {},
   "outputs": [
    {
     "data": {
      "text/plain": [
       "<Axes: >"
      ]
     },
     "execution_count": 75,
     "metadata": {},
     "output_type": "execute_result"
    },
    {
     "data": {
      "image/svg+xml": [
       "<?xml version=\"1.0\" encoding=\"utf-8\" standalone=\"no\"?>\n",
       "<!DOCTYPE svg PUBLIC \"-//W3C//DTD SVG 1.1//EN\"\n",
       "  \"http://www.w3.org/Graphics/SVG/1.1/DTD/svg11.dtd\">\n",
       "<svg xmlns:xlink=\"http://www.w3.org/1999/xlink\" width=\"467.19936pt\" height=\"353.99952pt\" viewBox=\"0 0 467.19936 353.99952\" xmlns=\"http://www.w3.org/2000/svg\" version=\"1.1\">\n",
       " <metadata>\n",
       "  <rdf:RDF xmlns:dc=\"http://purl.org/dc/elements/1.1/\" xmlns:cc=\"http://creativecommons.org/ns#\" xmlns:rdf=\"http://www.w3.org/1999/02/22-rdf-syntax-ns#\">\n",
       "   <cc:Work>\n",
       "    <dc:type rdf:resource=\"http://purl.org/dc/dcmitype/StillImage\"/>\n",
       "    <dc:date>2025-08-15T13:46:29.014393</dc:date>\n",
       "    <dc:format>image/svg+xml</dc:format>\n",
       "    <dc:creator>\n",
       "     <cc:Agent>\n",
       "      <dc:title>Matplotlib v3.10.1, https://matplotlib.org/</dc:title>\n",
       "     </cc:Agent>\n",
       "    </dc:creator>\n",
       "   </cc:Work>\n",
       "  </rdf:RDF>\n",
       " </metadata>\n",
       " <defs>\n",
       "  <style type=\"text/css\">*{stroke-linejoin: round; stroke-linecap: butt}</style>\n",
       " </defs>\n",
       " <g id=\"figure_1\">\n",
       "  <g id=\"axes_1\">\n",
       "   <g id=\"LineCollection_1\">\n",
       "    <path d=\"M 29.81959 126.054737 \n",
       "L 131.709635 24.164692 \n",
       "\" clip-path=\"url(#pfa12220fd5)\" style=\"fill: none; stroke: #dc143c; stroke-linecap: round\"/>\n",
       "    <path d=\"M 233.59968 329.834828 \n",
       "L 233.59968 126.054737 \n",
       "\" clip-path=\"url(#pfa12220fd5)\" style=\"fill: none; stroke: #dc143c; stroke-linecap: round\"/>\n",
       "    <path d=\"M 131.709635 24.164692 \n",
       "L 233.59968 126.054737 \n",
       "\" clip-path=\"url(#pfa12220fd5)\" style=\"fill: none; stroke: #dc143c; stroke-linecap: round\"/>\n",
       "    <path d=\"M 233.59968 126.054737 \n",
       "L 335.489725 24.164692 \n",
       "\" clip-path=\"url(#pfa12220fd5)\" style=\"fill: none; stroke: #dc143c; stroke-linecap: round\"/>\n",
       "    <path d=\"M 335.489725 24.164692 \n",
       "L 437.37977 126.054737 \n",
       "\" clip-path=\"url(#pfa12220fd5)\" style=\"fill: none; stroke: #dc143c; stroke-linecap: round\"/>\n",
       "   </g>\n",
       "   <g id=\"PathCollection_1\">\n",
       "    <defs>\n",
       "     <path id=\"m2191e0e212\" d=\"M -2.95804 2.95804 \n",
       "L 2.95804 2.95804 \n",
       "L 2.95804 -2.95804 \n",
       "L -2.95804 -2.95804 \n",
       "z\n",
       "\" style=\"stroke: #111111; stroke-width: 0.3\"/>\n",
       "    </defs>\n",
       "    <g>\n",
       "     <use xlink:href=\"#m2191e0e212\" x=\"233.59968\" y=\"329.834828\" style=\"fill: #7cfc00; stroke: #111111; stroke-width: 0.3\"/>\n",
       "    </g>\n",
       "   </g>\n",
       "   <g id=\"PathCollection_2\">\n",
       "    <defs>\n",
       "     <path id=\"C0_0_0b689910a1\" d=\"M 0 2.95804 \n",
       "C 0.784481 2.95804 1.536938 2.646362 2.09165 2.09165 \n",
       "C 2.646362 1.536938 2.95804 0.784481 2.95804 -0 \n",
       "C 2.95804 -0.784481 2.646362 -1.536938 2.09165 -2.09165 \n",
       "C 1.536938 -2.646362 0.784481 -2.95804 0 -2.95804 \n",
       "C -0.784481 -2.95804 -1.536938 -2.646362 -2.09165 -2.09165 \n",
       "C -2.646362 -1.536938 -2.95804 -0.784481 -2.95804 0 \n",
       "C -2.95804 0.784481 -2.646362 1.536938 -2.09165 2.09165 \n",
       "C -1.536938 2.646362 -0.784481 2.95804 0 2.95804 \n",
       "z\n",
       "\"/>\n",
       "    </defs>\n",
       "    <use xlink:href=\"#C0_0_0b689910a1\" x=\"29.81959\" y=\"126.054737\" style=\"fill: #1f77b4\"/>\n",
       "    <use xlink:href=\"#C0_0_0b689910a1\" x=\"131.709635\" y=\"24.164692\" style=\"fill: #1f77b4\"/>\n",
       "    <use xlink:href=\"#C0_0_0b689910a1\" x=\"233.59968\" y=\"126.054737\" style=\"fill: #1f77b4\"/>\n",
       "    <use xlink:href=\"#C0_0_0b689910a1\" x=\"335.489725\" y=\"24.164692\" style=\"fill: #1f77b4\"/>\n",
       "    <use xlink:href=\"#C0_0_0b689910a1\" x=\"437.37977\" y=\"126.054737\" style=\"fill: #1f77b4\"/>\n",
       "   </g>\n",
       "   <g id=\"legend_1\">\n",
       "    <g id=\"patch_1\">\n",
       "     <path d=\"M 359.139985 72.125875 \n",
       "L 452.99936 72.125875 \n",
       "Q 454.99936 72.125875 454.99936 70.125875 \n",
       "L 454.99936 14.2 \n",
       "Q 454.99936 12.2 452.99936 12.2 \n",
       "L 359.139985 12.2 \n",
       "Q 357.139985 12.2 357.139985 14.2 \n",
       "L 357.139985 70.125875 \n",
       "Q 357.139985 72.125875 359.139985 72.125875 \n",
       "z\n",
       "\" style=\"fill: #111111; opacity: 0.6; stroke: #ffffff; stroke-linejoin: miter\"/>\n",
       "    </g>\n",
       "    <g id=\"text_1\">\n",
       "     <text style=\"font-size: 12px; font-family: 'DejaVu Sans', 'Bitstream Vera Sans', 'Computer Modern Sans Serif', 'Lucida Grande', 'Verdana', 'Geneva', 'Lucid', 'Arial', 'Helvetica', 'Avant Garde', sans-serif; fill: #ffffff\" transform=\"translate(365.91936 25.318125)\">κ = 10, T = 5</text>\n",
       "     <text style=\"font-size: 12px; font-family: 'DejaVu Sans', 'Bitstream Vera Sans', 'Computer Modern Sans Serif', 'Lucida Grande', 'Verdana', 'Geneva', 'Lucid', 'Arial', 'Helvetica', 'Avant Garde', sans-serif; fill: #ffffff\" transform=\"translate(372.225923 38.7555)\">(+0) [-1]: 1</text>\n",
       "     <text style=\"font-size: 12px; font-family: 'DejaVu Sans', 'Bitstream Vera Sans', 'Computer Modern Sans Serif', 'Lucida Grande', 'Verdana', 'Geneva', 'Lucid', 'Arial', 'Helvetica', 'Avant Garde', sans-serif; fill: #ffffff\" transform=\"translate(361.139985 52.192875)\">Σλ = 7.6569 m</text>\n",
       "     <text style=\"font-size: 12px; font-family: 'DejaVu Sans', 'Bitstream Vera Sans', 'Computer Modern Sans Serif', 'Lucida Grande', 'Verdana', 'Geneva', 'Lucid', 'Arial', 'Helvetica', 'Avant Garde', sans-serif; fill: #ffffff\" transform=\"translate(392.710298 65.63025)\">38 €</text>\n",
       "    </g>\n",
       "   </g>\n",
       "  </g>\n",
       " </g>\n",
       " <defs>\n",
       "  <clipPath id=\"pfa12220fd5\">\n",
       "   <rect x=\"7.2\" y=\"7.2\" width=\"452.79936\" height=\"339.59952\"/>\n",
       "  </clipPath>\n",
       " </defs>\n",
       "</svg>\n"
      ],
      "text/plain": [
       "<Figure size 1228.8x921.6 with 1 Axes>"
      ]
     },
     "metadata": {},
     "output_type": "display_data"
    }
   ],
   "source": [
    "wfn.plot()"
   ]
  },
  {
   "cell_type": "markdown",
   "id": "775d7118",
   "metadata": {},
   "source": [
    "#### Use a MILP router with full control over topology and feeders\n",
    "\n",
    "The solution from the previous call to `wfn.optimize()` is stored within the `wfn` object.\n",
    "If this solution is *feasible under the current `MILPRouter` settings*, it will be *automatically used as a warm start*.\n",
    "Otherwise, if it does not meet the current `ModelOptions` constraints, it will be *ignored*, and the MILP solver will start from scratch.\n"
   ]
  },
  {
   "cell_type": "code",
   "execution_count": 76,
   "id": "a5621cbd",
   "metadata": {},
   "outputs": [
    {
     "name": "stdout",
     "output_type": "stream",
     "text": [
      "\n",
      "Warning: No warmstarting (even though a solution is available) due to the following reason(s):\n",
      "    - branched structure not allowed under \"radial\" topology\n",
      "\n"
     ]
    },
    {
     "data": {
      "text/plain": [
       "<Axes: >"
      ]
     },
     "execution_count": 76,
     "metadata": {},
     "output_type": "execute_result"
    },
    {
     "data": {
      "image/svg+xml": [
       "<?xml version=\"1.0\" encoding=\"utf-8\" standalone=\"no\"?>\n",
       "<!DOCTYPE svg PUBLIC \"-//W3C//DTD SVG 1.1//EN\"\n",
       "  \"http://www.w3.org/Graphics/SVG/1.1/DTD/svg11.dtd\">\n",
       "<svg xmlns:xlink=\"http://www.w3.org/1999/xlink\" width=\"467.19936pt\" height=\"353.99952pt\" viewBox=\"0 0 467.19936 353.99952\" xmlns=\"http://www.w3.org/2000/svg\" version=\"1.1\">\n",
       " <metadata>\n",
       "  <rdf:RDF xmlns:dc=\"http://purl.org/dc/elements/1.1/\" xmlns:cc=\"http://creativecommons.org/ns#\" xmlns:rdf=\"http://www.w3.org/1999/02/22-rdf-syntax-ns#\">\n",
       "   <cc:Work>\n",
       "    <dc:type rdf:resource=\"http://purl.org/dc/dcmitype/StillImage\"/>\n",
       "    <dc:date>2025-08-15T13:46:29.406982</dc:date>\n",
       "    <dc:format>image/svg+xml</dc:format>\n",
       "    <dc:creator>\n",
       "     <cc:Agent>\n",
       "      <dc:title>Matplotlib v3.10.1, https://matplotlib.org/</dc:title>\n",
       "     </cc:Agent>\n",
       "    </dc:creator>\n",
       "   </cc:Work>\n",
       "  </rdf:RDF>\n",
       " </metadata>\n",
       " <defs>\n",
       "  <style type=\"text/css\">*{stroke-linejoin: round; stroke-linecap: butt}</style>\n",
       " </defs>\n",
       " <g id=\"figure_1\">\n",
       "  <g id=\"axes_1\">\n",
       "   <g id=\"LineCollection_1\">\n",
       "    <path d=\"M 29.81959 126.054737 \n",
       "L 131.709635 24.164692 \n",
       "\" clip-path=\"url(#pcd67df0d66)\" style=\"fill: none; stroke: #dc143c; stroke-linecap: round\"/>\n",
       "    <path d=\"M 131.709635 24.164692 \n",
       "L 233.59968 126.054737 \n",
       "\" clip-path=\"url(#pcd67df0d66)\" style=\"fill: none; stroke: #dc143c; stroke-linecap: round\"/>\n",
       "    <path d=\"M 233.59968 126.054737 \n",
       "L 335.489725 24.164692 \n",
       "\" clip-path=\"url(#pcd67df0d66)\" style=\"fill: none; stroke: #dc143c; stroke-linecap: round\"/>\n",
       "    <path d=\"M 335.489725 24.164692 \n",
       "L 437.37977 126.054737 \n",
       "\" clip-path=\"url(#pcd67df0d66)\" style=\"fill: none; stroke: #dc143c; stroke-linecap: round\"/>\n",
       "    <path d=\"M 437.37977 126.054737 \n",
       "L 233.59968 329.834828 \n",
       "\" clip-path=\"url(#pcd67df0d66)\" style=\"fill: none; stroke: #dc143c; stroke-linecap: round\"/>\n",
       "   </g>\n",
       "   <g id=\"PathCollection_1\">\n",
       "    <defs>\n",
       "     <path id=\"m1d10e2f8ad\" d=\"M -2.95804 2.95804 \n",
       "L 2.95804 2.95804 \n",
       "L 2.95804 -2.95804 \n",
       "L -2.95804 -2.95804 \n",
       "z\n",
       "\" style=\"stroke: #111111; stroke-width: 0.3\"/>\n",
       "    </defs>\n",
       "    <g>\n",
       "     <use xlink:href=\"#m1d10e2f8ad\" x=\"233.59968\" y=\"329.834828\" style=\"fill: #7cfc00; stroke: #111111; stroke-width: 0.3\"/>\n",
       "    </g>\n",
       "   </g>\n",
       "   <g id=\"PathCollection_2\">\n",
       "    <defs>\n",
       "     <path id=\"C0_0_06d769ef10\" d=\"M 0 2.95804 \n",
       "C 0.784481 2.95804 1.536938 2.646362 2.09165 2.09165 \n",
       "C 2.646362 1.536938 2.95804 0.784481 2.95804 -0 \n",
       "C 2.95804 -0.784481 2.646362 -1.536938 2.09165 -2.09165 \n",
       "C 1.536938 -2.646362 0.784481 -2.95804 0 -2.95804 \n",
       "C -0.784481 -2.95804 -1.536938 -2.646362 -2.09165 -2.09165 \n",
       "C -2.646362 -1.536938 -2.95804 -0.784481 -2.95804 0 \n",
       "C -2.95804 0.784481 -2.646362 1.536938 -2.09165 2.09165 \n",
       "C -1.536938 2.646362 -0.784481 2.95804 0 2.95804 \n",
       "z\n",
       "\"/>\n",
       "    </defs>\n",
       "    <use xlink:href=\"#C0_0_06d769ef10\" x=\"29.81959\" y=\"126.054737\" style=\"fill: #1f77b4\"/>\n",
       "    <use xlink:href=\"#C0_0_06d769ef10\" x=\"131.709635\" y=\"24.164692\" style=\"fill: #1f77b4\"/>\n",
       "    <use xlink:href=\"#C0_0_06d769ef10\" x=\"233.59968\" y=\"126.054737\" style=\"fill: #1f77b4\"/>\n",
       "    <use xlink:href=\"#C0_0_06d769ef10\" x=\"335.489725\" y=\"24.164692\" style=\"fill: #1f77b4\"/>\n",
       "    <use xlink:href=\"#C0_0_06d769ef10\" x=\"437.37977\" y=\"126.054737\" style=\"fill: #1f77b4\"/>\n",
       "   </g>\n",
       "   <g id=\"legend_1\">\n",
       "    <g id=\"patch_1\">\n",
       "     <path d=\"M 359.139985 72.125875 \n",
       "L 452.99936 72.125875 \n",
       "Q 454.99936 72.125875 454.99936 70.125875 \n",
       "L 454.99936 14.2 \n",
       "Q 454.99936 12.2 452.99936 12.2 \n",
       "L 359.139985 12.2 \n",
       "Q 357.139985 12.2 357.139985 14.2 \n",
       "L 357.139985 70.125875 \n",
       "Q 357.139985 72.125875 359.139985 72.125875 \n",
       "z\n",
       "\" style=\"fill: #111111; opacity: 0.6; stroke: #ffffff; stroke-linejoin: miter\"/>\n",
       "    </g>\n",
       "    <g id=\"text_1\">\n",
       "     <text style=\"font-size: 12px; font-family: 'DejaVu Sans', 'Bitstream Vera Sans', 'Computer Modern Sans Serif', 'Lucida Grande', 'Verdana', 'Geneva', 'Lucid', 'Arial', 'Helvetica', 'Avant Garde', sans-serif; fill: #ffffff\" transform=\"translate(365.91936 25.318125)\">κ = 10, T = 5</text>\n",
       "     <text style=\"font-size: 12px; font-family: 'DejaVu Sans', 'Bitstream Vera Sans', 'Computer Modern Sans Serif', 'Lucida Grande', 'Verdana', 'Geneva', 'Lucid', 'Arial', 'Helvetica', 'Avant Garde', sans-serif; fill: #ffffff\" transform=\"translate(372.225923 38.7555)\">(+0) [-1]: 1</text>\n",
       "     <text style=\"font-size: 12px; font-family: 'DejaVu Sans', 'Bitstream Vera Sans', 'Computer Modern Sans Serif', 'Lucida Grande', 'Verdana', 'Geneva', 'Lucid', 'Arial', 'Helvetica', 'Avant Garde', sans-serif; fill: #ffffff\" transform=\"translate(361.139985 52.192875)\">Σλ = 8.4853 m</text>\n",
       "     <text style=\"font-size: 12px; font-family: 'DejaVu Sans', 'Bitstream Vera Sans', 'Computer Modern Sans Serif', 'Lucida Grande', 'Verdana', 'Geneva', 'Lucid', 'Arial', 'Helvetica', 'Avant Garde', sans-serif; fill: #ffffff\" transform=\"translate(392.710298 65.63025)\">42 €</text>\n",
       "    </g>\n",
       "   </g>\n",
       "  </g>\n",
       " </g>\n",
       " <defs>\n",
       "  <clipPath id=\"pcd67df0d66\">\n",
       "   <rect x=\"7.2\" y=\"7.2\" width=\"452.79936\" height=\"339.59952\"/>\n",
       "  </clipPath>\n",
       " </defs>\n",
       "</svg>\n"
      ],
      "text/plain": [
       "<Figure size 1228.8x921.6 with 1 Axes>"
      ]
     },
     "metadata": {},
     "output_type": "display_data"
    }
   ],
   "source": [
    "model_opts = ModelOptions(topology='radial', feeder_limit='minimum', feeder_route='straight')\n",
    "wfn.optimize(router=MILPRouter(solver_name='ortools', time_limit=2, mip_gap=0.01, model_options=model_opts), verbose=True)\n",
    "wfn.plot()"
   ]
  },
  {
   "cell_type": "markdown",
   "id": "3dbd5d88",
   "metadata": {},
   "source": [
    "### Method: `plot()` and Variants\n",
    "\n",
    "These methods help you visualize the layout at different stages:\n",
    "\n",
    "- `plot_location()` – turbine/substation coordinates and border\n",
    "- `plot()` – final optimized layout\n",
    "\n",
    "> For a detailed explanation of this method see [Plotting Notebook](a04_Plotting.ipynb).\n"
   ]
  },
  {
   "cell_type": "code",
   "execution_count": 77,
   "id": "89161332",
   "metadata": {},
   "outputs": [
    {
     "data": {
      "text/plain": [
       "<Axes: >"
      ]
     },
     "execution_count": 77,
     "metadata": {},
     "output_type": "execute_result"
    },
    {
     "data": {
      "image/svg+xml": [
       "<?xml version=\"1.0\" encoding=\"utf-8\" standalone=\"no\"?>\n",
       "<!DOCTYPE svg PUBLIC \"-//W3C//DTD SVG 1.1//EN\"\n",
       "  \"http://www.w3.org/Graphics/SVG/1.1/DTD/svg11.dtd\">\n",
       "<svg xmlns:xlink=\"http://www.w3.org/1999/xlink\" width=\"467.19936pt\" height=\"353.99952pt\" viewBox=\"0 0 467.19936 353.99952\" xmlns=\"http://www.w3.org/2000/svg\" version=\"1.1\">\n",
       " <metadata>\n",
       "  <rdf:RDF xmlns:dc=\"http://purl.org/dc/elements/1.1/\" xmlns:cc=\"http://creativecommons.org/ns#\" xmlns:rdf=\"http://www.w3.org/1999/02/22-rdf-syntax-ns#\">\n",
       "   <cc:Work>\n",
       "    <dc:type rdf:resource=\"http://purl.org/dc/dcmitype/StillImage\"/>\n",
       "    <dc:date>2025-08-15T13:46:29.553676</dc:date>\n",
       "    <dc:format>image/svg+xml</dc:format>\n",
       "    <dc:creator>\n",
       "     <cc:Agent>\n",
       "      <dc:title>Matplotlib v3.10.1, https://matplotlib.org/</dc:title>\n",
       "     </cc:Agent>\n",
       "    </dc:creator>\n",
       "   </cc:Work>\n",
       "  </rdf:RDF>\n",
       " </metadata>\n",
       " <defs>\n",
       "  <style type=\"text/css\">*{stroke-linejoin: round; stroke-linecap: butt}</style>\n",
       " </defs>\n",
       " <g id=\"figure_1\">\n",
       "  <g id=\"axes_1\">\n",
       "   <g id=\"PathCollection_1\">\n",
       "    <defs>\n",
       "     <path id=\"m9a084fa779\" d=\"M -2.95804 2.95804 \n",
       "L 2.95804 2.95804 \n",
       "L 2.95804 -2.95804 \n",
       "L -2.95804 -2.95804 \n",
       "z\n",
       "\" style=\"stroke: #111111; stroke-width: 0.3\"/>\n",
       "    </defs>\n",
       "    <g>\n",
       "     <use xlink:href=\"#m9a084fa779\" x=\"233.59968\" y=\"345.118334\" style=\"fill: #7cfc00; stroke: #111111; stroke-width: 0.3\"/>\n",
       "    </g>\n",
       "   </g>\n",
       "   <g id=\"PathCollection_2\">\n",
       "    <defs>\n",
       "     <path id=\"C0_0_131d697f6b\" d=\"M 0 2.95804 \n",
       "C 0.784481 2.95804 1.536938 2.646362 2.09165 2.09165 \n",
       "C 2.646362 1.536938 2.95804 0.784481 2.95804 -0 \n",
       "C 2.95804 -0.784481 2.646362 -1.536938 2.09165 -2.09165 \n",
       "C 1.536938 -2.646362 0.784481 -2.95804 0 -2.95804 \n",
       "C -0.784481 -2.95804 -1.536938 -2.646362 -2.09165 -2.09165 \n",
       "C -2.646362 -1.536938 -2.95804 -0.784481 -2.95804 0 \n",
       "C -2.95804 0.784481 -2.646362 1.536938 -2.09165 2.09165 \n",
       "C -1.536938 2.646362 -0.784481 2.95804 0 2.95804 \n",
       "z\n",
       "\"/>\n",
       "    </defs>\n",
       "    <use xlink:href=\"#C0_0_131d697f6b\" x=\"9.441581\" y=\"120.960235\" style=\"fill: #9edae5\"/>\n",
       "    <use xlink:href=\"#C0_0_131d697f6b\" x=\"121.52063\" y=\"8.881186\" style=\"fill: #9edae5\"/>\n",
       "    <use xlink:href=\"#C0_0_131d697f6b\" x=\"233.59968\" y=\"120.960235\" style=\"fill: #9edae5\"/>\n",
       "    <use xlink:href=\"#C0_0_131d697f6b\" x=\"345.67873\" y=\"8.881186\" style=\"fill: #9edae5\"/>\n",
       "    <use xlink:href=\"#C0_0_131d697f6b\" x=\"457.757779\" y=\"120.960235\" style=\"fill: #9edae5\"/>\n",
       "   </g>\n",
       "  </g>\n",
       " </g>\n",
       "</svg>\n"
      ],
      "text/plain": [
       "<Figure size 1228.8x921.6 with 1 Axes>"
      ]
     },
     "metadata": {},
     "output_type": "display_data"
    },
    {
     "data": {
      "image/svg+xml": [
       "<?xml version=\"1.0\" encoding=\"utf-8\" standalone=\"no\"?>\n",
       "<!DOCTYPE svg PUBLIC \"-//W3C//DTD SVG 1.1//EN\"\n",
       "  \"http://www.w3.org/Graphics/SVG/1.1/DTD/svg11.dtd\">\n",
       "<svg xmlns:xlink=\"http://www.w3.org/1999/xlink\" width=\"467.19936pt\" height=\"353.99952pt\" viewBox=\"0 0 467.19936 353.99952\" xmlns=\"http://www.w3.org/2000/svg\" version=\"1.1\">\n",
       " <metadata>\n",
       "  <rdf:RDF xmlns:dc=\"http://purl.org/dc/elements/1.1/\" xmlns:cc=\"http://creativecommons.org/ns#\" xmlns:rdf=\"http://www.w3.org/1999/02/22-rdf-syntax-ns#\">\n",
       "   <cc:Work>\n",
       "    <dc:type rdf:resource=\"http://purl.org/dc/dcmitype/StillImage\"/>\n",
       "    <dc:date>2025-08-15T13:46:29.607574</dc:date>\n",
       "    <dc:format>image/svg+xml</dc:format>\n",
       "    <dc:creator>\n",
       "     <cc:Agent>\n",
       "      <dc:title>Matplotlib v3.10.1, https://matplotlib.org/</dc:title>\n",
       "     </cc:Agent>\n",
       "    </dc:creator>\n",
       "   </cc:Work>\n",
       "  </rdf:RDF>\n",
       " </metadata>\n",
       " <defs>\n",
       "  <style type=\"text/css\">*{stroke-linejoin: round; stroke-linecap: butt}</style>\n",
       " </defs>\n",
       " <g id=\"figure_1\">\n",
       "  <g id=\"axes_1\">\n",
       "   <g id=\"LineCollection_1\">\n",
       "    <path d=\"M 29.81959 126.054737 \n",
       "L 131.709635 24.164692 \n",
       "\" clip-path=\"url(#pbbd02b6cea)\" style=\"fill: none; stroke: #dc143c; stroke-linecap: round\"/>\n",
       "    <path d=\"M 131.709635 24.164692 \n",
       "L 233.59968 126.054737 \n",
       "\" clip-path=\"url(#pbbd02b6cea)\" style=\"fill: none; stroke: #dc143c; stroke-linecap: round\"/>\n",
       "    <path d=\"M 233.59968 126.054737 \n",
       "L 335.489725 24.164692 \n",
       "\" clip-path=\"url(#pbbd02b6cea)\" style=\"fill: none; stroke: #dc143c; stroke-linecap: round\"/>\n",
       "    <path d=\"M 335.489725 24.164692 \n",
       "L 437.37977 126.054737 \n",
       "\" clip-path=\"url(#pbbd02b6cea)\" style=\"fill: none; stroke: #dc143c; stroke-linecap: round\"/>\n",
       "    <path d=\"M 437.37977 126.054737 \n",
       "L 233.59968 329.834828 \n",
       "\" clip-path=\"url(#pbbd02b6cea)\" style=\"fill: none; stroke: #dc143c; stroke-linecap: round\"/>\n",
       "   </g>\n",
       "   <g id=\"PathCollection_1\">\n",
       "    <defs>\n",
       "     <path id=\"mec3c340a3c\" d=\"M -2.95804 2.95804 \n",
       "L 2.95804 2.95804 \n",
       "L 2.95804 -2.95804 \n",
       "L -2.95804 -2.95804 \n",
       "z\n",
       "\" style=\"stroke: #111111; stroke-width: 0.3\"/>\n",
       "    </defs>\n",
       "    <g>\n",
       "     <use xlink:href=\"#mec3c340a3c\" x=\"233.59968\" y=\"329.834828\" style=\"fill: #7cfc00; stroke: #111111; stroke-width: 0.3\"/>\n",
       "    </g>\n",
       "   </g>\n",
       "   <g id=\"PathCollection_2\">\n",
       "    <defs>\n",
       "     <path id=\"C0_0_4e7d190035\" d=\"M 0 2.95804 \n",
       "C 0.784481 2.95804 1.536938 2.646362 2.09165 2.09165 \n",
       "C 2.646362 1.536938 2.95804 0.784481 2.95804 -0 \n",
       "C 2.95804 -0.784481 2.646362 -1.536938 2.09165 -2.09165 \n",
       "C 1.536938 -2.646362 0.784481 -2.95804 0 -2.95804 \n",
       "C -0.784481 -2.95804 -1.536938 -2.646362 -2.09165 -2.09165 \n",
       "C -2.646362 -1.536938 -2.95804 -0.784481 -2.95804 0 \n",
       "C -2.95804 0.784481 -2.646362 1.536938 -2.09165 2.09165 \n",
       "C -1.536938 2.646362 -0.784481 2.95804 0 2.95804 \n",
       "z\n",
       "\"/>\n",
       "    </defs>\n",
       "    <use xlink:href=\"#C0_0_4e7d190035\" x=\"29.81959\" y=\"126.054737\" style=\"fill: #1f77b4\"/>\n",
       "    <use xlink:href=\"#C0_0_4e7d190035\" x=\"131.709635\" y=\"24.164692\" style=\"fill: #1f77b4\"/>\n",
       "    <use xlink:href=\"#C0_0_4e7d190035\" x=\"233.59968\" y=\"126.054737\" style=\"fill: #1f77b4\"/>\n",
       "    <use xlink:href=\"#C0_0_4e7d190035\" x=\"335.489725\" y=\"24.164692\" style=\"fill: #1f77b4\"/>\n",
       "    <use xlink:href=\"#C0_0_4e7d190035\" x=\"437.37977\" y=\"126.054737\" style=\"fill: #1f77b4\"/>\n",
       "   </g>\n",
       "   <g id=\"legend_1\">\n",
       "    <g id=\"patch_1\">\n",
       "     <path d=\"M 359.139985 72.125875 \n",
       "L 452.99936 72.125875 \n",
       "Q 454.99936 72.125875 454.99936 70.125875 \n",
       "L 454.99936 14.2 \n",
       "Q 454.99936 12.2 452.99936 12.2 \n",
       "L 359.139985 12.2 \n",
       "Q 357.139985 12.2 357.139985 14.2 \n",
       "L 357.139985 70.125875 \n",
       "Q 357.139985 72.125875 359.139985 72.125875 \n",
       "z\n",
       "\" style=\"fill: #111111; opacity: 0.6; stroke: #ffffff; stroke-linejoin: miter\"/>\n",
       "    </g>\n",
       "    <g id=\"text_1\">\n",
       "     <text style=\"font-size: 12px; font-family: 'DejaVu Sans', 'Bitstream Vera Sans', 'Computer Modern Sans Serif', 'Lucida Grande', 'Verdana', 'Geneva', 'Lucid', 'Arial', 'Helvetica', 'Avant Garde', sans-serif; fill: #ffffff\" transform=\"translate(365.91936 25.318125)\">κ = 10, T = 5</text>\n",
       "     <text style=\"font-size: 12px; font-family: 'DejaVu Sans', 'Bitstream Vera Sans', 'Computer Modern Sans Serif', 'Lucida Grande', 'Verdana', 'Geneva', 'Lucid', 'Arial', 'Helvetica', 'Avant Garde', sans-serif; fill: #ffffff\" transform=\"translate(372.225923 38.7555)\">(+0) [-1]: 1</text>\n",
       "     <text style=\"font-size: 12px; font-family: 'DejaVu Sans', 'Bitstream Vera Sans', 'Computer Modern Sans Serif', 'Lucida Grande', 'Verdana', 'Geneva', 'Lucid', 'Arial', 'Helvetica', 'Avant Garde', sans-serif; fill: #ffffff\" transform=\"translate(361.139985 52.192875)\">Σλ = 8.4853 m</text>\n",
       "     <text style=\"font-size: 12px; font-family: 'DejaVu Sans', 'Bitstream Vera Sans', 'Computer Modern Sans Serif', 'Lucida Grande', 'Verdana', 'Geneva', 'Lucid', 'Arial', 'Helvetica', 'Avant Garde', sans-serif; fill: #ffffff\" transform=\"translate(392.710298 65.63025)\">42 €</text>\n",
       "    </g>\n",
       "   </g>\n",
       "  </g>\n",
       " </g>\n",
       " <defs>\n",
       "  <clipPath id=\"pbbd02b6cea\">\n",
       "   <rect x=\"7.2\" y=\"7.2\" width=\"452.79936\" height=\"339.59952\"/>\n",
       "  </clipPath>\n",
       " </defs>\n",
       "</svg>\n"
      ],
      "text/plain": [
       "<Figure size 1228.8x921.6 with 1 Axes>"
      ]
     },
     "metadata": {},
     "output_type": "display_data"
    }
   ],
   "source": [
    "wfn.plot_location()\n",
    "wfn.plot()"
   ]
  },
  {
   "cell_type": "markdown",
   "id": "b93855a6-3175-4c75-8358-0bc56e8e787b",
   "metadata": {},
   "source": [
    "### Method: `cost()` and `length()`"
   ]
  },
  {
   "cell_type": "markdown",
   "id": "711e2851-3c45-4e25-b6d2-30db7f0d56da",
   "metadata": {},
   "source": [
    "Returns the total cost and cable length of the optimized network."
   ]
  },
  {
   "cell_type": "code",
   "execution_count": 78,
   "id": "72ef1d9a",
   "metadata": {},
   "outputs": [
    {
     "name": "stdout",
     "output_type": "stream",
     "text": [
      "Network cost: 42.42640687119285\n",
      "Network length: 8.485281374238571\n"
     ]
    }
   ],
   "source": [
    "print(\"Network cost:\", wfn.cost())\n",
    "print(\"Network length:\", wfn.length())"
   ]
  },
  {
   "cell_type": "markdown",
   "id": "405e5e24-76d9-481f-bf5b-3e2b84feeb46",
   "metadata": {},
   "source": [
    "### Method: `terse_links()`"
   ]
  },
  {
   "cell_type": "markdown",
   "id": "5a5a48f5-c2b7-449b-8a10-0b2f62d19ca6",
   "metadata": {},
   "source": [
    "A terse link is a compact way to describe how each turbine is connected in the electrical network. It’s just a list (or array) where:\n",
    "\n",
    "* Each position `i` represents turbine `i`\n",
    "\n",
    "* The value at position `i` is the node that turbine `i` connects to\n",
    "(this could be another turbine or a substation)"
   ]
  },
  {
   "cell_type": "code",
   "execution_count": 79,
   "id": "deb7d87f",
   "metadata": {},
   "outputs": [
    {
     "name": "stdout",
     "output_type": "stream",
     "text": [
      "Terse link array: [ 1  2  3  4 -1]\n"
     ]
    }
   ],
   "source": [
    "terse = wfn.terse_links()\n",
    "print(\"Terse link array:\", terse)"
   ]
  },
  {
   "cell_type": "markdown",
   "id": "831e287d-0cf1-44cb-9b0c-11433a5006ea",
   "metadata": {},
   "source": [
    "### Method: `update_from_terse_links()`"
   ]
  },
  {
   "cell_type": "markdown",
   "id": "3e95d580-3031-43bd-b277-f020b96731b6",
   "metadata": {},
   "source": [
    "`update_from_terse_links()` allows you to reconstruct the network from a known `terse_link`, optionally updating coordinates. This method assumes a **valid and feasible network**, so it’s your responsibility to ensure that:\n",
    "* The connections form a proper **feeder tree**\n",
    "* Every turbine is (indirectly or directly) connected to a **substation**\n",
    "* Capacity constraints are not violated\n",
    "\n",
    "Suppose we have a wind farm with:\n",
    "* **5 turbines** → nodes `0, 1, 2, 3, 4`\n",
    "* **1 substation** → node `-1` (*Note: In optiwindnet, substations are assigned negative indices*)\n",
    "\n",
    "We want the following connections:\n",
    "* Turbine 0 → Substation (-1)\n",
    "* Turbine 1 → Turbine 0\n",
    "* Turbine 2 → Substation (-1)\n",
    "* Turbine 3 → Turbine 2\n",
    "* Turbine 4 → Turbine 3\n",
    "\n",
    "This gives us the `terse_links` array:\n",
    "\n",
    "```python\n",
    "terse_links = [-1, 0, -1, 2, 3]"
   ]
  },
  {
   "cell_type": "code",
   "execution_count": 80,
   "id": "af4c603a",
   "metadata": {},
   "outputs": [
    {
     "name": "stdout",
     "output_type": "stream",
     "text": [
      "1\n",
      "[]\n"
     ]
    },
    {
     "data": {
      "text/plain": [
       "<Axes: >"
      ]
     },
     "execution_count": 80,
     "metadata": {},
     "output_type": "execute_result"
    },
    {
     "data": {
      "image/svg+xml": [
       "<?xml version=\"1.0\" encoding=\"utf-8\" standalone=\"no\"?>\n",
       "<!DOCTYPE svg PUBLIC \"-//W3C//DTD SVG 1.1//EN\"\n",
       "  \"http://www.w3.org/Graphics/SVG/1.1/DTD/svg11.dtd\">\n",
       "<svg xmlns:xlink=\"http://www.w3.org/1999/xlink\" width=\"467.19936pt\" height=\"353.99952pt\" viewBox=\"0 0 467.19936 353.99952\" xmlns=\"http://www.w3.org/2000/svg\" version=\"1.1\">\n",
       " <metadata>\n",
       "  <rdf:RDF xmlns:dc=\"http://purl.org/dc/elements/1.1/\" xmlns:cc=\"http://creativecommons.org/ns#\" xmlns:rdf=\"http://www.w3.org/1999/02/22-rdf-syntax-ns#\">\n",
       "   <cc:Work>\n",
       "    <dc:type rdf:resource=\"http://purl.org/dc/dcmitype/StillImage\"/>\n",
       "    <dc:date>2025-08-15T13:46:29.824711</dc:date>\n",
       "    <dc:format>image/svg+xml</dc:format>\n",
       "    <dc:creator>\n",
       "     <cc:Agent>\n",
       "      <dc:title>Matplotlib v3.10.1, https://matplotlib.org/</dc:title>\n",
       "     </cc:Agent>\n",
       "    </dc:creator>\n",
       "   </cc:Work>\n",
       "  </rdf:RDF>\n",
       " </metadata>\n",
       " <defs>\n",
       "  <style type=\"text/css\">*{stroke-linejoin: round; stroke-linecap: butt}</style>\n",
       " </defs>\n",
       " <g id=\"figure_1\">\n",
       "  <g id=\"axes_1\">\n",
       "   <g id=\"LineCollection_1\">\n",
       "    <path d=\"M 29.81959 126.054737 \n",
       "L 131.709635 24.164692 \n",
       "\" clip-path=\"url(#p2b10f85da8)\" style=\"fill: none; stroke: #dc143c; stroke-linecap: round\"/>\n",
       "    <path d=\"M 29.81959 126.054737 \n",
       "L 233.59968 329.834828 \n",
       "\" clip-path=\"url(#p2b10f85da8)\" style=\"fill: none; stroke: #dc143c; stroke-linecap: round\"/>\n",
       "    <path d=\"M 233.59968 126.054737 \n",
       "L 233.59968 329.834828 \n",
       "\" clip-path=\"url(#p2b10f85da8)\" style=\"fill: none; stroke: #dc143c; stroke-linecap: round\"/>\n",
       "    <path d=\"M 233.59968 126.054737 \n",
       "L 335.489725 24.164692 \n",
       "\" clip-path=\"url(#p2b10f85da8)\" style=\"fill: none; stroke: #dc143c; stroke-linecap: round\"/>\n",
       "    <path d=\"M 335.489725 24.164692 \n",
       "L 437.37977 126.054737 \n",
       "\" clip-path=\"url(#p2b10f85da8)\" style=\"fill: none; stroke: #dc143c; stroke-linecap: round\"/>\n",
       "   </g>\n",
       "   <g id=\"PathCollection_1\">\n",
       "    <defs>\n",
       "     <path id=\"mfc647a6e7a\" d=\"M -2.95804 2.95804 \n",
       "L 2.95804 2.95804 \n",
       "L 2.95804 -2.95804 \n",
       "L -2.95804 -2.95804 \n",
       "z\n",
       "\" style=\"stroke: #111111; stroke-width: 0.3\"/>\n",
       "    </defs>\n",
       "    <g>\n",
       "     <use xlink:href=\"#mfc647a6e7a\" x=\"233.59968\" y=\"329.834828\" style=\"fill: #7cfc00; stroke: #111111; stroke-width: 0.3\"/>\n",
       "    </g>\n",
       "   </g>\n",
       "   <g id=\"PathCollection_2\">\n",
       "    <defs>\n",
       "     <path id=\"C0_0_ca30dcdd70\" d=\"M 0 2.95804 \n",
       "C 0.784481 2.95804 1.536938 2.646362 2.09165 2.09165 \n",
       "C 2.646362 1.536938 2.95804 0.784481 2.95804 -0 \n",
       "C 2.95804 -0.784481 2.646362 -1.536938 2.09165 -2.09165 \n",
       "C 1.536938 -2.646362 0.784481 -2.95804 0 -2.95804 \n",
       "C -0.784481 -2.95804 -1.536938 -2.646362 -2.09165 -2.09165 \n",
       "C -2.646362 -1.536938 -2.95804 -0.784481 -2.95804 0 \n",
       "C -2.95804 0.784481 -2.646362 1.536938 -2.09165 2.09165 \n",
       "C -1.536938 2.646362 -0.784481 2.95804 0 2.95804 \n",
       "z\n",
       "\"/>\n",
       "    </defs>\n",
       "    <use xlink:href=\"#C0_0_ca30dcdd70\" x=\"29.81959\" y=\"126.054737\" style=\"fill: #1f77b4\"/>\n",
       "    <use xlink:href=\"#C0_0_ca30dcdd70\" x=\"131.709635\" y=\"24.164692\" style=\"fill: #1f77b4\"/>\n",
       "    <use xlink:href=\"#C0_0_ca30dcdd70\" x=\"233.59968\" y=\"126.054737\" style=\"fill: #aec7e8\"/>\n",
       "    <use xlink:href=\"#C0_0_ca30dcdd70\" x=\"335.489725\" y=\"24.164692\" style=\"fill: #aec7e8\"/>\n",
       "    <use xlink:href=\"#C0_0_ca30dcdd70\" x=\"437.37977\" y=\"126.054737\" style=\"fill: #aec7e8\"/>\n",
       "   </g>\n",
       "   <g id=\"legend_1\">\n",
       "    <g id=\"patch_1\">\n",
       "     <path d=\"M 359.139985 72.125875 \n",
       "L 452.99936 72.125875 \n",
       "Q 454.99936 72.125875 454.99936 70.125875 \n",
       "L 454.99936 14.2 \n",
       "Q 454.99936 12.2 452.99936 12.2 \n",
       "L 359.139985 12.2 \n",
       "Q 357.139985 12.2 357.139985 14.2 \n",
       "L 357.139985 70.125875 \n",
       "Q 357.139985 72.125875 359.139985 72.125875 \n",
       "z\n",
       "\" style=\"fill: #111111; opacity: 0.6; stroke: #ffffff; stroke-linejoin: miter\"/>\n",
       "    </g>\n",
       "    <g id=\"text_1\">\n",
       "     <text style=\"font-size: 12px; font-family: 'DejaVu Sans', 'Bitstream Vera Sans', 'Computer Modern Sans Serif', 'Lucida Grande', 'Verdana', 'Geneva', 'Lucid', 'Arial', 'Helvetica', 'Avant Garde', sans-serif; fill: #ffffff\" transform=\"translate(365.91936 25.318125)\">κ = 10, T = 5</text>\n",
       "     <text style=\"font-size: 12px; font-family: 'DejaVu Sans', 'Bitstream Vera Sans', 'Computer Modern Sans Serif', 'Lucida Grande', 'Verdana', 'Geneva', 'Lucid', 'Arial', 'Helvetica', 'Avant Garde', sans-serif; fill: #ffffff\" transform=\"translate(372.225923 38.7555)\">(+1) [-1]: 2</text>\n",
       "     <text style=\"font-size: 12px; font-family: 'DejaVu Sans', 'Bitstream Vera Sans', 'Computer Modern Sans Serif', 'Lucida Grande', 'Verdana', 'Geneva', 'Lucid', 'Arial', 'Helvetica', 'Avant Garde', sans-serif; fill: #ffffff\" transform=\"translate(361.139985 52.192875)\">Σλ = 9.0711 m</text>\n",
       "     <text style=\"font-size: 12px; font-family: 'DejaVu Sans', 'Bitstream Vera Sans', 'Computer Modern Sans Serif', 'Lucida Grande', 'Verdana', 'Geneva', 'Lucid', 'Arial', 'Helvetica', 'Avant Garde', sans-serif; fill: #ffffff\" transform=\"translate(392.710298 65.63025)\">45 €</text>\n",
       "    </g>\n",
       "   </g>\n",
       "  </g>\n",
       " </g>\n",
       " <defs>\n",
       "  <clipPath id=\"p2b10f85da8\">\n",
       "   <rect x=\"7.2\" y=\"7.2\" width=\"452.79936\" height=\"339.59952\"/>\n",
       "  </clipPath>\n",
       " </defs>\n",
       "</svg>\n"
      ],
      "text/plain": [
       "<Figure size 1228.8x921.6 with 1 Axes>"
      ]
     },
     "metadata": {},
     "output_type": "display_data"
    }
   ],
   "source": [
    "new_terse_links = np.array([-1, 0, -1, 2, 3])\n",
    "\n",
    "# Apply the new configuration\n",
    "wfn.update_from_terse_links(new_terse_links)\n",
    "\n",
    "# Visualize the updated layout\n",
    "wfn.plot()\n"
   ]
  },
  {
   "cell_type": "markdown",
   "id": "96a70239",
   "metadata": {},
   "source": [
    "### Method: `gradient()`\n",
    "\n",
    "This method computes the gradient of the cost or length with respect to turbine/substation positions.\n",
    "Useful for hybrid optimization or sensitivity analysis.\n",
    " > Note: default of `gradient_type` is `length`."
   ]
  },
  {
   "cell_type": "code",
   "execution_count": 81,
   "id": "3fe297b4",
   "metadata": {},
   "outputs": [
    {
     "name": "stdout",
     "output_type": "stream",
     "text": [
      "gradient_type=length\n",
      "\n",
      "Gradient (w.r.t. turbines):\n",
      " [[-1.41421356  0.        ]\n",
      " [ 0.70710678  0.70710678]\n",
      " [-0.70710678  0.29289322]\n",
      " [ 0.          1.41421356]\n",
      " [ 0.70710678 -0.70710678]]\n",
      "Gradient (w.r.t. substations):\n",
      " [[ 0.70710678 -1.70710678]]\n",
      "\n",
      " ------------- \n",
      "\n",
      "gradient_type=length\n",
      "\n",
      "Gradient (w.r.t. turbines):\n",
      " [[-7.07106781  0.        ]\n",
      " [ 3.53553391  3.53553391]\n",
      " [-3.53553391  1.46446609]\n",
      " [ 0.          7.07106781]\n",
      " [ 3.53553391 -3.53553391]]\n",
      "Gradient (w.r.t. substations):\n",
      " [[ 3.53553391 -8.53553391]]\n"
     ]
    }
   ],
   "source": [
    "print('gradient_type=length\\n')\n",
    "grad_turb, grad_subs = wfn.gradient()\n",
    "print(\"Gradient (w.r.t. turbines):\\n\", grad_turb)\n",
    "print(\"Gradient (w.r.t. substations):\\n\", grad_subs)\n",
    "\n",
    "print('\\n ------------- \\n')\n",
    "print('gradient_type=length\\n')\n",
    "grad_turb, grad_subs = wfn.gradient(gradient_type='cost')\n",
    "print(\"Gradient (w.r.t. turbines):\\n\", grad_turb)\n",
    "print(\"Gradient (w.r.t. substations):\\n\", grad_subs)"
   ]
  },
  {
   "cell_type": "markdown",
   "id": "4eea9d03",
   "metadata": {},
   "source": [
    "### Method: `get_network()`\n",
    "\n",
    "This method returns the **final optimized network** as a **structured NumPy array**, where each row represents an edge in the network.\n",
    "\n",
    "Each edge includes detailed attributes such as:\n",
    "\n",
    "* **`src`**: index of the source node\n",
    "* **`tgt`**: index of the target (destination node)\n",
    "* **`length`**: physical cable length\n",
    "* **`load`**: electrical load carried through the cable (number of turbines)\n",
    "* **`cable`**: index of the cable type used (e.g., 0 for first type in cable list)\n",
    "* **`cost`**: cost associated with that cable"
   ]
  },
  {
   "cell_type": "code",
   "execution_count": 82,
   "id": "9a0b2118",
   "metadata": {},
   "outputs": [
    {
     "data": {
      "text/plain": [
       "array([(0,  1, 1.41421356, 1., False, 0,  7.07106781),\n",
       "       (0, -1, 2.82842712, 2., False, 0, 14.14213562)],\n",
       "      dtype=[('src', '<i8'), ('tgt', '<i8'), ('length', '<f8'), ('load', '<f8'), ('reverse', '?'), ('cable', '<i8'), ('cost', '<f8')])"
      ]
     },
     "execution_count": 82,
     "metadata": {},
     "output_type": "execute_result"
    }
   ],
   "source": [
    "network_data = wfn.get_network()\n",
    "network_data[:2]  # Preview first few edges"
   ]
  },
  {
   "cell_type": "markdown",
   "id": "9276fb5d",
   "metadata": {},
   "source": [
    "### In this section:\n",
    "\n",
    "we explored the most useful methods of the `WindFarmNetwork` class:\n",
    "\n",
    "| Method | Purpose |\n",
    "|--------|---------|\n",
    "| `optimize()` | Run optimization with a router |\n",
    "| `plot()` | Visualize the network |\n",
    "| `cost()`, `length()` | Get total cost and length |\n",
    "| `terse_links()` | Get compact link encoding |\n",
    "| `update_from_terse_links()` | Apply terse links manually |\n",
    "| `gradient()` | Compute layout gradient |\n",
    "| `get_network()` | Export the final network data |\n",
    "\n",
    "For deeper insights into individual methods, refer to the dedicated notebooks provided.\n"
   ]
  }
 ],
 "metadata": {
  "kernelspec": {
   "display_name": "OptiWindNet",
   "language": "python",
   "name": "python3"
  },
  "language_info": {
   "codemirror_mode": {
    "name": "ipython",
    "version": 3
   },
   "file_extension": ".py",
   "mimetype": "text/x-python",
   "name": "python",
   "nbconvert_exporter": "python",
   "pygments_lexer": "ipython3",
   "version": "3.12.9"
  }
 },
 "nbformat": 4,
 "nbformat_minor": 5
}
