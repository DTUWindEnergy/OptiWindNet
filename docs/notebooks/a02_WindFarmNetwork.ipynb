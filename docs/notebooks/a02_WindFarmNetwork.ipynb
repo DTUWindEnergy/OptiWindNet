{
 "cells": [
  {
   "cell_type": "markdown",
   "id": "f7b072be-a181-48f3-9a7c-5d8f16012d49",
   "metadata": {},
   "source": [
    "# WindFarmNetwork/Router"
   ]
  },
  {
   "cell_type": "markdown",
   "id": "2ce7a38d",
   "metadata": {},
   "source": [
    "This notebook is a practical guide to *OptiWindNet*’s Network/Router API (i.e. high-level API). It covers creating a wind farm model, using different routers (`EWRouter`, `HGSRouter`, `MILPRouter`), and applying key `WindFarmNetwork` functionalities. Specifically, we will:\n",
    "\n",
    "* Explore the `WindFarmNetwork` class\n",
    "* Compare available routers and their use cases\n",
    "* Run a complete optimization example"
   ]
  },
  {
   "cell_type": "markdown",
   "id": "80c8c206-b99d-4ec4-a593-a10e8fbd57ed",
   "metadata": {},
   "source": [
    "## ✅ WindFarmNetwork"
   ]
  },
  {
   "cell_type": "markdown",
   "id": "2196d3c5",
   "metadata": {},
   "source": [
    "The `WindFarmNetwork` class is the **central user-facing component** in the OptiWindNet Network/Router-API. It is flexible and extensible, supporting multiple input formats and routers (electrical network optimzers), and is used to model and optimize the electrical network of a wind farm."
   ]
  },
  {
   "cell_type": "markdown",
   "id": "a8acf159",
   "metadata": {},
   "source": [
    "### To create a `WindFarmNetwork` instance:\n",
    "\n",
    "**Required:**\n",
    "\n",
    "* Turbine and substation coordinates *(see [Data Input](a01_data_input.ipynb) for formats)*\n",
    "* Cable data (capacities and costs, or at least maximum capacity as a single number)\n",
    "\n",
    "**Optional:**\n",
    "\n",
    "* Borders and obstacles: to add spatial constraints\n",
    "* Router: optimization strategy (defaults to `EWRouter` if not specified)\n",
    "* verbose: log/hide logging messages (default to `Fault`)."
   ]
  },
  {
   "cell_type": "markdown",
   "id": "4c944a01",
   "metadata": {},
   "source": [
    "### Key Responsibilities"
   ]
  },
  {
   "cell_type": "markdown",
   "id": "d128ab24",
   "metadata": {},
   "source": [
    "| Feature                      | Description                                                                                                                                    |\n",
    "| ---------------------------- | ---------------------------------------------------------------------------------------------------------------------------------------------- |\n",
    "| **Initialization & Parsing** | Accepts turbine/substation coordinates or the Location geometry `L` (Can be constructed from YAML, PBF, or WindIO formats for integration with real-world datasets), validates cable data, and constructs the internal graph structure.                 |\n",
    "| **Optimization**             | Interfaces smoothly with different routers (`EWRouter`, `HGSRouter`, `MILPRouter`) to optimize the network (cable routing) for cost and cable length. |\n",
    "| **Visualization**            | Provides plotting functions for location geometry, links, mesh, and the optimized network.                           |\n",
    "| **Gradient & Update Graph**  | Computes gradients for optimization and allows updating the electrical network using a compact \"terse link\" format.                                   |\n"
   ]
  },
  {
   "cell_type": "markdown",
   "id": "a41b0f1b",
   "metadata": {},
   "source": [
    "### Example Workflow"
   ]
  },
  {
   "cell_type": "markdown",
   "id": "1d7ab495",
   "metadata": {},
   "source": [
    "```python\n",
    "# Initialize with coordinates and cable types\n",
    "wfn = WindFarmNetwork(\n",
    "    cables=[(2, 1500.0), (5, 1800.0)],\n",
    "    turbinesC=...,\n",
    "    substationsC=...,\n",
    ")\n",
    "\n",
    "# Optimize electrical network using the default router (EWRouter)\n",
    "wfn.optimize()\n",
    "\n",
    "# Access total cost or cable length\n",
    "total_cost = wfn.cost()\n",
    "total_length = wfn.length()\n",
    "\n",
    "# Visualize network\n",
    "wfn.plot() # or simply wfn if you are running on notebooks\n",
    "```"
   ]
  },
  {
   "cell_type": "markdown",
   "id": "dcf9eec1",
   "metadata": {},
   "source": [
    "## 🧭 **Router**"
   ]
  },
  {
   "cell_type": "markdown",
   "id": "ffd963f6",
   "metadata": {},
   "source": [
    "In OptiWindNet, a `Router` is used to compute the optimal network (cable routing) of the wind farm’s electrical network. Given turbine and substation positions (layout), available cable options, and routing constraints, a router determines *which turbines connect to which substations* and how cables should be laid to *minimize length (and consequently cost)*."
   ]
  },
  {
   "cell_type": "markdown",
   "id": "d9f536d0",
   "metadata": {},
   "source": [
    "### Currently Available Routers"
   ]
  },
  {
   "cell_type": "markdown",
   "id": "dbf55f1a",
   "metadata": {},
   "source": [
    "The routers currently included in the `optiwindnet.api` module are:\n",
    "\n",
    "* **EWRouter**\n",
    "\n",
    "  * *Fastest option* — completes in a fraction of a second\n",
    "  * Great for quick network generation\n",
    "  * Produces only **branched-topology** solutions\n",
    "  * Heuristic method (EW = modified Esau-Williams) — solutions may be far from the optimum\n",
    "\n",
    "* **HGSRouter**\n",
    "\n",
    "  * *Still fast* — can provide high-quality solutions in **0.5–2 seconds**\n",
    "  * Produces only **radial-topology** solutions (no branching)\n",
    "  * A maximum number of feeders can be enforced\n",
    "  * Meta-heuristic method (HGS = Hybrid Genetic Search)\n",
    "\n",
    "* **MILPRouter**\n",
    "\n",
    "  * Delivers solutions with **quality guarantees** (a bound on the distance from the optimum)\n",
    "  * May take a **few to several minutes** depending on the problem size and quality required\n",
    "  * Full set of model options to choose from\n",
    "  * Should be used when optimality is more important than speed\n",
    "  * MILP = Mixed Integer Linear Programming"
   ]
  },
  {
   "cell_type": "markdown",
   "id": "961f9090",
   "metadata": {},
   "source": [
    "## Run an example"
   ]
  },
  {
   "cell_type": "markdown",
   "id": "39bcea21",
   "metadata": {},
   "source": [
    "In this section we will:\n",
    "- Create a simple wind farm network\n",
    "- Use heuristic and MILP optimization\n",
    "- Explore key methods such as:\n",
    "  - `.optimize()`\n",
    "  - `.plot()`\n",
    "  - `.cost()`, `.length()`\n",
    "  - `.terse_links()`, `.update_from_terse_links()`\n",
    "  - `.gradient()`\n",
    "  - `.get_network()`\n",
    "  - `.add_buffer()`"
   ]
  },
  {
   "cell_type": "markdown",
   "id": "de0f0c52",
   "metadata": {},
   "source": [
    "### Create a `WindFarmNetwork` instance"
   ]
  },
  {
   "cell_type": "markdown",
   "id": "c36112a8",
   "metadata": {},
   "source": [
    "Import required modules"
   ]
  },
  {
   "cell_type": "code",
   "execution_count": 1,
   "id": "afeaaf92",
   "metadata": {},
   "outputs": [],
   "source": [
    "import numpy as np\n",
    "from optiwindnet.api import WindFarmNetwork, EWRouter, MILPRouter, ModelOptions"
   ]
  },
  {
   "cell_type": "code",
   "execution_count": 2,
   "id": "d8fb593b",
   "metadata": {},
   "outputs": [],
   "source": [
    "# Display figures as SVG in Jupyter notebooks\n",
    "%config InlineBackend.figure_formats = ['svg']"
   ]
  },
  {
   "cell_type": "markdown",
   "id": "d5373461",
   "metadata": {},
   "source": [
    "#### Load location data"
   ]
  },
  {
   "cell_type": "markdown",
   "id": "4ff13e41",
   "metadata": {},
   "source": [
    "OptiWindNet operates on location geometries, which define turbine and substation positions (plus optional borders/obstacles).\n",
    "\n",
    "You can load a location from:\n",
    "- `.yaml` or `.osm.pbf` files;\n",
    "- The included locations repository;\n",
    "- Your own coordinate arrays.\n",
    "\n",
    "For more details see [Data Input](a01_data_input.ipynb).\n",
    "\n",
    "We start with a simple geometry (5 turbines and 1 substation), and define a simple set of cables."
   ]
  },
  {
   "cell_type": "code",
   "execution_count": 3,
   "id": "910dc391-6bf5-4fda-9a0b-a4faab58248a",
   "metadata": {},
   "outputs": [],
   "source": [
    "wfn = WindFarmNetwork(\n",
    "    cables=[(2, 1500.0), (5, 1800.0)],\n",
    "    turbinesC=np.array([[0, 0], [1, 1], [2, 0], [3, 1], [4, 0]]),\n",
    "    substationsC=np.array([[2, -2]]),\n",
    "    borderC=np.array([[0, -3], [0, 2], [4, 2.1], [5, 1], [4, -3]]),\n",
    "    obstacleC_=[np.array([[0.2, -2.5], [1.5, -2.5], [0.2, -1]])]\n",
    ")"
   ]
  },
  {
   "cell_type": "markdown",
   "id": "fcafb617",
   "metadata": {},
   "source": [
    "##### Plot location\n",
    "\n",
    "> **Note:** Many of the Jupyter notebooks provided include SVG figures as output. To ensure these visuals are displayed correctly in JupyterLab or Jupyter Notebook, make sure the notebook is marked as **trusted**.\n",
    "> *In JupyterLab, you can do this by pressing* `Ctrl + Shift + C` *and selecting* **Trust Notebook**."
   ]
  },
  {
   "cell_type": "code",
   "execution_count": 4,
   "id": "c2b946a4",
   "metadata": {},
   "outputs": [
    {
     "data": {
      "image/svg+xml": [
       "<svg xmlns=\"http://www.w3.org/2000/svg\" viewBox=\"0 0 1920 1080\"><defs><circle stroke=\"none\" stroke-width=\"2\" id=\"wtg\" r=\"12\"/><rect stroke=\"#111\" stroke-width=\"2\" id=\"oss\" width=\"21\" height=\"21\" fill=\"lawngreen\"/></defs><g id=\"\"><path stroke=\"silver\" stroke-dasharray=\"15 7\" stroke-width=\"2\" id=\"border\" d=\"M30 1050 30 50 830 30 1030 250 830 1050z M70 950 330 950 70 650z\" fill-rule=\"evenodd\" fill=\"#111\"/><g id=\"WTGgrp\"><g fill=\"#9edae5\"><use href=\"#wtg\" x=\"30\" y=\"450\"/><use href=\"#wtg\" x=\"230\" y=\"250\"/><use href=\"#wtg\" x=\"430\" y=\"450\"/><use href=\"#wtg\" x=\"630\" y=\"250\"/><use href=\"#wtg\" x=\"830\" y=\"450\"/></g></g><g id=\"OSSgrp\"><use href=\"#oss\" x=\"419.5\" y=\"839.5\"/></g></g></svg>"
      ],
      "text/plain": [
       "<optiwindnet.api.WindFarmNetwork at 0x2853dd602f0>"
      ]
     },
     "execution_count": 4,
     "metadata": {},
     "output_type": "execute_result"
    }
   ],
   "source": [
    "wfn"
   ]
  },
  {
   "cell_type": "markdown",
   "id": "9cd882d6",
   "metadata": {},
   "source": [
    "### Method: `optimize(router=...)`"
   ]
  },
  {
   "cell_type": "markdown",
   "id": "03cf721a",
   "metadata": {},
   "source": [
    "This is the main method that optimizes the electrical network using the given router (heuristic, metaheuristic or MILP).\n",
    " > Note that the router could be passed directly to `WindFarmNetwork(router=...)`."
   ]
  },
  {
   "cell_type": "markdown",
   "id": "2865ca33-b8d1-42c9-bb49-5d088e866a9d",
   "metadata": {},
   "source": [
    "#### Use a heuristic router (Esau-Williams)"
   ]
  },
  {
   "cell_type": "code",
   "execution_count": 5,
   "id": "43d027d8-1b4c-4b78-96ba-2207a6a6056a",
   "metadata": {},
   "outputs": [
    {
     "data": {
      "text/plain": [
       "array([ 1,  2, -1,  2,  3])"
      ]
     },
     "execution_count": 5,
     "metadata": {},
     "output_type": "execute_result"
    }
   ],
   "source": [
    "wfn.optimize(router=EWRouter())"
   ]
  },
  {
   "cell_type": "markdown",
   "id": "b2bb6e6d",
   "metadata": {},
   "source": [
    "Plot the result"
   ]
  },
  {
   "cell_type": "code",
   "execution_count": 6,
   "id": "1388e2d8",
   "metadata": {},
   "outputs": [
    {
     "data": {
      "image/svg+xml": [
       "<svg xmlns=\"http://www.w3.org/2000/svg\" viewBox=\"0 0 1920 1080\"><defs><circle stroke=\"none\" stroke-width=\"2\" id=\"wtg\" r=\"12\"/><rect stroke=\"#111\" stroke-width=\"2\" id=\"oss\" width=\"21\" height=\"21\" fill=\"lawngreen\"/><filter x=\"-5%\" y=\"-5%\" id=\"bg_textbox\" width=\"110%\" height=\"110%\"><feFlood flood-opacity=\"0.6\" flood-color=\"black\" result=\"bg\"/><feMerge><feMergeNode in=\"bg\"/><feMergeNode in=\"SourceGraphic\"/></feMerge></filter></defs><g id=\"\"><path stroke=\"silver\" stroke-dasharray=\"15 7\" stroke-width=\"2\" id=\"border\" d=\"M30 1050 30 50 830 30 1030 250 830 1050z M70 950 330 950 70 650z\" fill-rule=\"evenodd\" fill=\"#111\"/><g stroke=\"crimson\" stroke-width=\"4\" id=\"edges_unspecified\"><line x1=\"30\" y1=\"450\" x2=\"230\" y2=\"250\"/><line x1=\"430\" y1=\"850\" x2=\"430\" y2=\"450\"/><line x1=\"230\" y1=\"250\" x2=\"430\" y2=\"450\"/><line x1=\"430\" y1=\"450\" x2=\"630\" y2=\"250\"/><line x1=\"630\" y1=\"250\" x2=\"830\" y2=\"450\"/></g><g id=\"WTGgrp\"><g fill=\"#1f77b4\"><use href=\"#wtg\" x=\"30\" y=\"450\"/><use href=\"#wtg\" x=\"230\" y=\"250\"/><use href=\"#wtg\" x=\"430\" y=\"450\"/><use href=\"#wtg\" x=\"630\" y=\"250\"/><use href=\"#wtg\" x=\"830\" y=\"450\"/></g></g><g id=\"OSSgrp\"><use href=\"#oss\" x=\"419.5\" y=\"839.5\"/></g></g><text filter=\"url(#bg_textbox)\" text-anchor=\"end\" font-family=\"sans-serif\" font-size=\"40\" fill=\"white\" x=\"1030\" y=\"1050\"><tspan x=\"1030\" dy=\"-0.0em\">12085 &#8364;</tspan><tspan x=\"1030\" dy=\"-1.3em\">&#931;&#955; = 7.6569 m</tspan><tspan x=\"1030\" dy=\"-1.3em\">(+0) [-1]: 1</tspan><tspan x=\"1030\" dy=\"-1.3em\">&#954; = 5, T = 5</tspan></text></svg>"
      ],
      "text/plain": [
       "<optiwindnet.api.WindFarmNetwork at 0x2853dd602f0>"
      ]
     },
     "execution_count": 6,
     "metadata": {},
     "output_type": "execute_result"
    }
   ],
   "source": [
    "wfn"
   ]
  },
  {
   "cell_type": "markdown",
   "id": "775d7118",
   "metadata": {},
   "source": [
    "#### Use a MILP router with full control over topology and feeders\n",
    "\n",
    "The solution from the previous call to `wfn.optimize()` is stored within the `wfn` object.\n",
    "If this solution is *feasible under the current `MILPRouter` settings*, it will be *automatically used as a warm start*.\n",
    "Otherwise, if it does not meet the current `ModelOptions` constraints, it will be *ignored*, and the MILP solver will start from scratch.\n"
   ]
  },
  {
   "cell_type": "code",
   "execution_count": 7,
   "id": "a5621cbd",
   "metadata": {},
   "outputs": [
    {
     "name": "stdout",
     "output_type": "stream",
     "text": [
      "\n",
      "Warning: No warmstarting (even though a solution is available) due to the following reason(s):\n",
      "    - branched network incompatible with model option: topology=\"radial\"\n",
      "\n"
     ]
    },
    {
     "data": {
      "image/svg+xml": [
       "<svg xmlns=\"http://www.w3.org/2000/svg\" viewBox=\"0 0 1920 1080\"><defs><circle stroke=\"none\" stroke-width=\"2\" id=\"wtg\" r=\"12\"/><rect stroke=\"#111\" stroke-width=\"2\" id=\"oss\" width=\"21\" height=\"21\" fill=\"lawngreen\"/><filter x=\"-5%\" y=\"-5%\" id=\"bg_textbox\" width=\"110%\" height=\"110%\"><feFlood flood-opacity=\"0.6\" flood-color=\"black\" result=\"bg\"/><feMerge><feMergeNode in=\"bg\"/><feMergeNode in=\"SourceGraphic\"/></feMerge></filter></defs><g id=\"\"><path stroke=\"silver\" stroke-dasharray=\"15 7\" stroke-width=\"2\" id=\"border\" d=\"M30 1050 30 50 830 30 1030 250 830 1050z M70 950 330 950 70 650z\" fill-rule=\"evenodd\" fill=\"#111\"/><g stroke=\"crimson\" stroke-width=\"4\" id=\"edges_unspecified\"><line x1=\"30\" y1=\"450\" x2=\"230\" y2=\"250\"/><line x1=\"230\" y1=\"250\" x2=\"430\" y2=\"450\"/><line x1=\"430\" y1=\"450\" x2=\"630\" y2=\"250\"/><line x1=\"630\" y1=\"250\" x2=\"830\" y2=\"450\"/><line x1=\"430\" y1=\"850\" x2=\"830\" y2=\"450\"/></g><g id=\"WTGgrp\"><g fill=\"#1f77b4\"><use href=\"#wtg\" x=\"30\" y=\"450\"/><use href=\"#wtg\" x=\"230\" y=\"250\"/><use href=\"#wtg\" x=\"430\" y=\"450\"/><use href=\"#wtg\" x=\"630\" y=\"250\"/><use href=\"#wtg\" x=\"830\" y=\"450\"/></g></g><g id=\"OSSgrp\"><use href=\"#oss\" x=\"419.5\" y=\"839.5\"/></g></g><text filter=\"url(#bg_textbox)\" text-anchor=\"end\" font-family=\"sans-serif\" font-size=\"40\" fill=\"white\" x=\"1030\" y=\"1050\"><tspan x=\"1030\" dy=\"-0.0em\">14425 &#8364;</tspan><tspan x=\"1030\" dy=\"-1.3em\">&#931;&#955; = 8.4853 m</tspan><tspan x=\"1030\" dy=\"-1.3em\">(+0) [-1]: 1</tspan><tspan x=\"1030\" dy=\"-1.3em\">&#954; = 5, T = 5</tspan></text></svg>"
      ],
      "text/plain": [
       "<optiwindnet.api.WindFarmNetwork at 0x2853dd602f0>"
      ]
     },
     "execution_count": 7,
     "metadata": {},
     "output_type": "execute_result"
    }
   ],
   "source": [
    "model_opts = ModelOptions(\n",
    "    topology='radial',\n",
    "    feeder_limit='minimum',\n",
    "    feeder_route='straight',\n",
    ")\n",
    "wfn.optimize(\n",
    "    router=MILPRouter(\n",
    "        solver_name='ortools',\n",
    "        time_limit=2,\n",
    "        mip_gap=0.01,\n",
    "        model_options=model_opts\n",
    "    ),\n",
    "    verbose=True,\n",
    ")\n",
    "wfn"
   ]
  },
  {
   "cell_type": "markdown",
   "id": "2511d0d4-06d9-4baf-8de9-7939373fa5e8",
   "metadata": {},
   "source": [
    "### Method: `plot()` and Variants"
   ]
  },
  {
   "cell_type": "markdown",
   "id": "3dbd5d88",
   "metadata": {},
   "source": [
    "These methods help you visualize different stages of the optimization:\n",
    "\n",
    "- `plot_location()`: plot turbine/substation coordinates and borders\n",
    "- `plot()`: plot optimized electrical network\n",
    "\n",
    "> For more details, see the [Plotting](a04_Plotting.ipynb) tutorial."
   ]
  },
  {
   "cell_type": "code",
   "execution_count": 8,
   "id": "89161332",
   "metadata": {},
   "outputs": [
    {
     "data": {
      "text/plain": [
       "<Axes: >"
      ]
     },
     "execution_count": 8,
     "metadata": {},
     "output_type": "execute_result"
    },
    {
     "data": {
      "image/svg+xml": [
       "<?xml version=\"1.0\" encoding=\"utf-8\" standalone=\"no\"?>\n",
       "<!DOCTYPE svg PUBLIC \"-//W3C//DTD SVG 1.1//EN\"\n",
       "  \"http://www.w3.org/Graphics/SVG/1.1/DTD/svg11.dtd\">\n",
       "<svg xmlns:xlink=\"http://www.w3.org/1999/xlink\" width=\"347.340706pt\" height=\"353.99952pt\" viewBox=\"0 0 347.340706 353.99952\" xmlns=\"http://www.w3.org/2000/svg\" version=\"1.1\">\n",
       " <metadata>\n",
       "  <rdf:RDF xmlns:dc=\"http://purl.org/dc/elements/1.1/\" xmlns:cc=\"http://creativecommons.org/ns#\" xmlns:rdf=\"http://www.w3.org/1999/02/22-rdf-syntax-ns#\">\n",
       "   <cc:Work>\n",
       "    <dc:type rdf:resource=\"http://purl.org/dc/dcmitype/StillImage\"/>\n",
       "    <dc:date>2025-08-28T18:56:24.982726</dc:date>\n",
       "    <dc:format>image/svg+xml</dc:format>\n",
       "    <dc:creator>\n",
       "     <cc:Agent>\n",
       "      <dc:title>Matplotlib v3.10.1, https://matplotlib.org/</dc:title>\n",
       "     </cc:Agent>\n",
       "    </dc:creator>\n",
       "   </cc:Work>\n",
       "  </rdf:RDF>\n",
       " </metadata>\n",
       " <defs>\n",
       "  <style type=\"text/css\">*{stroke-linejoin: round; stroke-linecap: butt}</style>\n",
       " </defs>\n",
       " <g id=\"figure_1\">\n",
       "  <g id=\"axes_1\">\n",
       "   <g id=\"patch_1\">\n",
       "    <path d=\"M 8.848221 345.118334 \n",
       "L 8.848221 15.474071 \n",
       "L 272.563632 8.881186 \n",
       "L 338.492485 81.402924 \n",
       "L 272.563632 345.118334 \n",
       "z\n",
       "M 22.033992 312.153908 \n",
       "L 107.7415 312.153908 \n",
       "L 22.033992 213.260629 \n",
       "z\n",
       "\" clip-path=\"url(#p31eb10c275)\" style=\"fill: #111111; stroke-dasharray: 2.59,1.12; stroke-dashoffset: 0; stroke: #c0c0c0; stroke-width: 0.7; stroke-linejoin: miter\"/>\n",
       "   </g>\n",
       "   <g id=\"PathCollection_1\">\n",
       "    <defs>\n",
       "     <path id=\"mbf48d4630a\" d=\"M -2.95804 2.95804 \n",
       "L 2.95804 2.95804 \n",
       "L 2.95804 -2.95804 \n",
       "L -2.95804 -2.95804 \n",
       "z\n",
       "\" style=\"stroke: #111111; stroke-width: 0.3\"/>\n",
       "    </defs>\n",
       "    <g>\n",
       "     <use xlink:href=\"#mbf48d4630a\" x=\"140.705927\" y=\"279.189482\" style=\"fill: #7cfc00; stroke: #111111; stroke-width: 0.3\"/>\n",
       "    </g>\n",
       "   </g>\n",
       "   <g id=\"PathCollection_2\">\n",
       "    <defs>\n",
       "     <path id=\"C0_0_a63de84a9c\" d=\"M 0 2.95804 \n",
       "C 0.784481 2.95804 1.536938 2.646362 2.09165 2.09165 \n",
       "C 2.646362 1.536938 2.95804 0.784481 2.95804 -0 \n",
       "C 2.95804 -0.784481 2.646362 -1.536938 2.09165 -2.09165 \n",
       "C 1.536938 -2.646362 0.784481 -2.95804 0 -2.95804 \n",
       "C -0.784481 -2.95804 -1.536938 -2.646362 -2.09165 -2.09165 \n",
       "C -2.646362 -1.536938 -2.95804 -0.784481 -2.95804 0 \n",
       "C -2.95804 0.784481 -2.646362 1.536938 -2.09165 2.09165 \n",
       "C -1.536938 2.646362 -0.784481 2.95804 0 2.95804 \n",
       "z\n",
       "\"/>\n",
       "    </defs>\n",
       "    <use xlink:href=\"#C0_0_a63de84a9c\" x=\"8.848221\" y=\"147.331776\" style=\"fill: #9edae5\"/>\n",
       "    <use xlink:href=\"#C0_0_a63de84a9c\" x=\"74.777074\" y=\"81.402924\" style=\"fill: #9edae5\"/>\n",
       "    <use xlink:href=\"#C0_0_a63de84a9c\" x=\"140.705927\" y=\"147.331776\" style=\"fill: #9edae5\"/>\n",
       "    <use xlink:href=\"#C0_0_a63de84a9c\" x=\"206.634779\" y=\"81.402924\" style=\"fill: #9edae5\"/>\n",
       "    <use xlink:href=\"#C0_0_a63de84a9c\" x=\"272.563632\" y=\"147.331776\" style=\"fill: #9edae5\"/>\n",
       "   </g>\n",
       "  </g>\n",
       " </g>\n",
       " <defs>\n",
       "  <clipPath id=\"p31eb10c275\">\n",
       "   <rect x=\"7.2\" y=\"7.2\" width=\"332.940706\" height=\"339.59952\"/>\n",
       "  </clipPath>\n",
       " </defs>\n",
       "</svg>\n"
      ],
      "text/plain": [
       "<Figure size 1228.8x921.6 with 1 Axes>"
      ]
     },
     "metadata": {},
     "output_type": "display_data"
    },
    {
     "data": {
      "image/svg+xml": [
       "<?xml version=\"1.0\" encoding=\"utf-8\" standalone=\"no\"?>\n",
       "<!DOCTYPE svg PUBLIC \"-//W3C//DTD SVG 1.1//EN\"\n",
       "  \"http://www.w3.org/Graphics/SVG/1.1/DTD/svg11.dtd\">\n",
       "<svg xmlns:xlink=\"http://www.w3.org/1999/xlink\" width=\"360.658334pt\" height=\"353.99952pt\" viewBox=\"0 0 360.658334 353.99952\" xmlns=\"http://www.w3.org/2000/svg\" version=\"1.1\">\n",
       " <metadata>\n",
       "  <rdf:RDF xmlns:dc=\"http://purl.org/dc/elements/1.1/\" xmlns:cc=\"http://creativecommons.org/ns#\" xmlns:rdf=\"http://www.w3.org/1999/02/22-rdf-syntax-ns#\">\n",
       "   <cc:Work>\n",
       "    <dc:type rdf:resource=\"http://purl.org/dc/dcmitype/StillImage\"/>\n",
       "    <dc:date>2025-08-28T18:56:25.026480</dc:date>\n",
       "    <dc:format>image/svg+xml</dc:format>\n",
       "    <dc:creator>\n",
       "     <cc:Agent>\n",
       "      <dc:title>Matplotlib v3.10.1, https://matplotlib.org/</dc:title>\n",
       "     </cc:Agent>\n",
       "    </dc:creator>\n",
       "   </cc:Work>\n",
       "  </rdf:RDF>\n",
       " </metadata>\n",
       " <defs>\n",
       "  <style type=\"text/css\">*{stroke-linejoin: round; stroke-linecap: butt}</style>\n",
       " </defs>\n",
       " <g id=\"figure_1\">\n",
       "  <g id=\"axes_1\">\n",
       "   <g id=\"patch_1\">\n",
       "    <path d=\"M 22.099921 345.118334 \n",
       "L 22.099921 15.474071 \n",
       "L 285.815331 8.881186 \n",
       "L 351.744184 81.402924 \n",
       "L 285.815331 345.118334 \n",
       "z\n",
       "M 35.285691 312.153908 \n",
       "L 120.9932 312.153908 \n",
       "L 35.285691 213.260629 \n",
       "z\n",
       "\" clip-path=\"url(#p802903f35a)\" style=\"fill: #111111; stroke-dasharray: 2.59,1.12; stroke-dashoffset: 0; stroke: #c0c0c0; stroke-width: 0.7; stroke-linejoin: miter\"/>\n",
       "   </g>\n",
       "   <g id=\"LineCollection_1\">\n",
       "    <path d=\"M 22.099921 147.331776 \n",
       "L 88.028773 81.402924 \n",
       "\" clip-path=\"url(#p802903f35a)\" style=\"fill: none; stroke: #dc143c; stroke-linecap: round\"/>\n",
       "    <path d=\"M 88.028773 81.402924 \n",
       "L 153.957626 147.331776 \n",
       "\" clip-path=\"url(#p802903f35a)\" style=\"fill: none; stroke: #dc143c; stroke-linecap: round\"/>\n",
       "    <path d=\"M 153.957626 147.331776 \n",
       "L 219.886479 81.402924 \n",
       "\" clip-path=\"url(#p802903f35a)\" style=\"fill: none; stroke: #dc143c; stroke-linecap: round\"/>\n",
       "    <path d=\"M 219.886479 81.402924 \n",
       "L 285.815331 147.331776 \n",
       "\" clip-path=\"url(#p802903f35a)\" style=\"fill: none; stroke: #dc143c; stroke-linecap: round\"/>\n",
       "    <path d=\"M 285.815331 147.331776 \n",
       "L 153.957626 279.189482 \n",
       "\" clip-path=\"url(#p802903f35a)\" style=\"fill: none; stroke: #dc143c; stroke-linecap: round\"/>\n",
       "   </g>\n",
       "   <g id=\"PathCollection_1\">\n",
       "    <defs>\n",
       "     <path id=\"m173a47b5f9\" d=\"M -2.95804 2.95804 \n",
       "L 2.95804 2.95804 \n",
       "L 2.95804 -2.95804 \n",
       "L -2.95804 -2.95804 \n",
       "z\n",
       "\" style=\"stroke: #111111; stroke-width: 0.3\"/>\n",
       "    </defs>\n",
       "    <g>\n",
       "     <use xlink:href=\"#m173a47b5f9\" x=\"153.957626\" y=\"279.189482\" style=\"fill: #7cfc00; stroke: #111111; stroke-width: 0.3\"/>\n",
       "    </g>\n",
       "   </g>\n",
       "   <g id=\"PathCollection_2\">\n",
       "    <defs>\n",
       "     <path id=\"C0_0_2a46c93fca\" d=\"M 0 2.95804 \n",
       "C 0.784481 2.95804 1.536938 2.646362 2.09165 2.09165 \n",
       "C 2.646362 1.536938 2.95804 0.784481 2.95804 -0 \n",
       "C 2.95804 -0.784481 2.646362 -1.536938 2.09165 -2.09165 \n",
       "C 1.536938 -2.646362 0.784481 -2.95804 0 -2.95804 \n",
       "C -0.784481 -2.95804 -1.536938 -2.646362 -2.09165 -2.09165 \n",
       "C -2.646362 -1.536938 -2.95804 -0.784481 -2.95804 0 \n",
       "C -2.95804 0.784481 -2.646362 1.536938 -2.09165 2.09165 \n",
       "C -1.536938 2.646362 -0.784481 2.95804 0 2.95804 \n",
       "z\n",
       "\"/>\n",
       "    </defs>\n",
       "    <use xlink:href=\"#C0_0_2a46c93fca\" x=\"22.099921\" y=\"147.331776\" style=\"fill: #1f77b4\"/>\n",
       "    <use xlink:href=\"#C0_0_2a46c93fca\" x=\"88.028773\" y=\"81.402924\" style=\"fill: #1f77b4\"/>\n",
       "    <use xlink:href=\"#C0_0_2a46c93fca\" x=\"153.957626\" y=\"147.331776\" style=\"fill: #1f77b4\"/>\n",
       "    <use xlink:href=\"#C0_0_2a46c93fca\" x=\"219.886479\" y=\"81.402924\" style=\"fill: #1f77b4\"/>\n",
       "    <use xlink:href=\"#C0_0_2a46c93fca\" x=\"285.815331\" y=\"147.331776\" style=\"fill: #1f77b4\"/>\n",
       "   </g>\n",
       "   <g id=\"legend_1\">\n",
       "    <g id=\"patch_2\">\n",
       "     <path d=\"M 133.39948 341.79952 \n",
       "L 227.258855 341.79952 \n",
       "Q 229.258855 341.79952 229.258855 339.79952 \n",
       "L 229.258855 283.873645 \n",
       "Q 229.258855 281.873645 227.258855 281.873645 \n",
       "L 133.39948 281.873645 \n",
       "Q 131.39948 281.873645 131.39948 283.873645 \n",
       "L 131.39948 339.79952 \n",
       "Q 131.39948 341.79952 133.39948 341.79952 \n",
       "z\n",
       "\" style=\"fill: #111111; opacity: 0.6; stroke: #ffffff; stroke-linejoin: miter\"/>\n",
       "    </g>\n",
       "    <g id=\"text_1\">\n",
       "     <text style=\"font-size: 12px; font-family: 'DejaVu Sans', 'Bitstream Vera Sans', 'Computer Modern Sans Serif', 'Lucida Grande', 'Verdana', 'Geneva', 'Lucid', 'Arial', 'Helvetica', 'Avant Garde', sans-serif; fill: #ffffff\" transform=\"translate(143.996355 294.99177)\">κ = 5, T = 5</text>\n",
       "     <text style=\"font-size: 12px; font-family: 'DejaVu Sans', 'Bitstream Vera Sans', 'Computer Modern Sans Serif', 'Lucida Grande', 'Verdana', 'Geneva', 'Lucid', 'Arial', 'Helvetica', 'Avant Garde', sans-serif; fill: #ffffff\" transform=\"translate(146.485417 308.429145)\">(+0) [-1]: 1</text>\n",
       "     <text style=\"font-size: 12px; font-family: 'DejaVu Sans', 'Bitstream Vera Sans', 'Computer Modern Sans Serif', 'Lucida Grande', 'Verdana', 'Geneva', 'Lucid', 'Arial', 'Helvetica', 'Avant Garde', sans-serif; fill: #ffffff\" transform=\"translate(135.39948 321.86652)\">Σλ = 8.4853 m</text>\n",
       "     <text style=\"font-size: 12px; font-family: 'DejaVu Sans', 'Bitstream Vera Sans', 'Computer Modern Sans Serif', 'Lucida Grande', 'Verdana', 'Geneva', 'Lucid', 'Arial', 'Helvetica', 'Avant Garde', sans-serif; fill: #ffffff\" transform=\"translate(155.517292 335.303895)\">14425 €</text>\n",
       "    </g>\n",
       "   </g>\n",
       "  </g>\n",
       " </g>\n",
       " <defs>\n",
       "  <clipPath id=\"p802903f35a\">\n",
       "   <rect x=\"7.2\" y=\"7.2\" width=\"346.258334\" height=\"339.59952\"/>\n",
       "  </clipPath>\n",
       " </defs>\n",
       "</svg>\n"
      ],
      "text/plain": [
       "<Figure size 1228.8x921.6 with 1 Axes>"
      ]
     },
     "metadata": {},
     "output_type": "display_data"
    }
   ],
   "source": [
    "wfn.plot_location()\n",
    "wfn.plot() # wfn will do the same on notebooks (and if no G is available it will display L)"
   ]
  },
  {
   "cell_type": "markdown",
   "id": "b93855a6-3175-4c75-8358-0bc56e8e787b",
   "metadata": {},
   "source": [
    "### Method: `cost()` and `length()`"
   ]
  },
  {
   "cell_type": "markdown",
   "id": "711e2851-3c45-4e25-b6d2-30db7f0d56da",
   "metadata": {},
   "source": [
    "Returns the total cost and cable length of the optimized network."
   ]
  },
  {
   "cell_type": "code",
   "execution_count": 9,
   "id": "72ef1d9a",
   "metadata": {},
   "outputs": [
    {
     "name": "stdout",
     "output_type": "stream",
     "text": [
      "Network cost: 14424.97833620557\n",
      "Network length: 8.485281374238571\n"
     ]
    }
   ],
   "source": [
    "print(\"Network cost:\", wfn.cost())\n",
    "print(\"Network length:\", wfn.length())"
   ]
  },
  {
   "cell_type": "markdown",
   "id": "405e5e24-76d9-481f-bf5b-3e2b84feeb46",
   "metadata": {},
   "source": [
    "### Method: `terse_links()`"
   ]
  },
  {
   "cell_type": "markdown",
   "id": "5a5a48f5-c2b7-449b-8a10-0b2f62d19ca6",
   "metadata": {},
   "source": [
    "A terse link is a compact way to describe how each turbine is connected in the electrical network. It’s just a list (or array) where:\n",
    "\n",
    "* Each position `i` represents turbine `i`\n",
    "\n",
    "* The value at position `i` is the node that turbine `i` connects to\n",
    "(this could be another turbine or a substation)"
   ]
  },
  {
   "cell_type": "code",
   "execution_count": 10,
   "id": "deb7d87f",
   "metadata": {},
   "outputs": [
    {
     "name": "stdout",
     "output_type": "stream",
     "text": [
      "Terse link array: [ 1  2  3  4 -1]\n"
     ]
    }
   ],
   "source": [
    "terse = wfn.terse_links()\n",
    "print(\"Terse link array:\", terse)"
   ]
  },
  {
   "cell_type": "markdown",
   "id": "831e287d-0cf1-44cb-9b0c-11433a5006ea",
   "metadata": {},
   "source": [
    "### Method: `update_from_terse_links()`"
   ]
  },
  {
   "cell_type": "markdown",
   "id": "3e95d580-3031-43bd-b277-f020b96731b6",
   "metadata": {},
   "source": [
    "`update_from_terse_links()` allows you to reconstruct the network from a known `terse_link`, optionally updating coordinates. This method assumes a **valid and feasible network**, so it’s your responsibility to ensure that:\n",
    "* The connections form a proper **feeder tree**\n",
    "* Every turbine is (indirectly or directly) connected to a **substation**\n",
    "* Capacity constraints are not violated\n",
    "\n",
    "Suppose we have a wind farm with:\n",
    "* **5 turbines** → nodes `0, 1, 2, 3, 4`\n",
    "* **1 substation** → node `-1` (*Note: In optiwindnet, substations are assigned negative indices*)\n",
    "\n",
    "We want the following connections:\n",
    "* Turbine 0 → Substation (-1)\n",
    "* Turbine 1 → Turbine 0\n",
    "* Turbine 2 → Substation (-1)\n",
    "* Turbine 3 → Turbine 2\n",
    "* Turbine 4 → Turbine 3\n",
    "\n",
    "This gives us the `terse_links` array:\n",
    "\n",
    "```python\n",
    "terse_links = [-1, 0, -1, 2, 3]"
   ]
  },
  {
   "cell_type": "code",
   "execution_count": 11,
   "id": "af4c603a",
   "metadata": {},
   "outputs": [
    {
     "data": {
      "image/svg+xml": [
       "<svg xmlns=\"http://www.w3.org/2000/svg\" viewBox=\"0 0 1920 1080\"><defs><circle stroke=\"none\" stroke-width=\"2\" id=\"wtg\" r=\"12\"/><rect stroke=\"#111\" stroke-width=\"2\" id=\"oss\" width=\"21\" height=\"21\" fill=\"lawngreen\"/><filter x=\"-5%\" y=\"-5%\" id=\"bg_textbox\" width=\"110%\" height=\"110%\"><feFlood flood-opacity=\"0.6\" flood-color=\"black\" result=\"bg\"/><feMerge><feMergeNode in=\"bg\"/><feMergeNode in=\"SourceGraphic\"/></feMerge></filter></defs><g id=\"\"><path stroke=\"silver\" stroke-dasharray=\"15 7\" stroke-width=\"2\" id=\"border\" d=\"M30 1050 30 50 830 30 1030 250 830 1050z M70 950 330 950 70 650z\" fill-rule=\"evenodd\" fill=\"#111\"/><g stroke=\"crimson\" stroke-width=\"4\" id=\"edges_unspecified\"><line x1=\"30\" y1=\"450\" x2=\"230\" y2=\"250\"/><line x1=\"430\" y1=\"850\" x2=\"30\" y2=\"450\"/><line x1=\"430\" y1=\"850\" x2=\"430\" y2=\"450\"/><line x1=\"430\" y1=\"450\" x2=\"630\" y2=\"250\"/><line x1=\"630\" y1=\"250\" x2=\"830\" y2=\"450\"/></g><g id=\"WTGgrp\"><g fill=\"#1f77b4\"><use href=\"#wtg\" x=\"30\" y=\"450\"/><use href=\"#wtg\" x=\"230\" y=\"250\"/></g><g fill=\"#aec7e8\"><use href=\"#wtg\" x=\"430\" y=\"450\"/><use href=\"#wtg\" x=\"630\" y=\"250\"/><use href=\"#wtg\" x=\"830\" y=\"450\"/></g></g><g id=\"OSSgrp\"><use href=\"#oss\" x=\"419.5\" y=\"839.5\"/></g></g><text filter=\"url(#bg_textbox)\" text-anchor=\"end\" font-family=\"sans-serif\" font-size=\"40\" fill=\"white\" x=\"1030\" y=\"1050\"><tspan x=\"1030\" dy=\"-0.0em\">14207 &#8364;</tspan><tspan x=\"1030\" dy=\"-1.3em\">&#931;&#955; = 9.0711 m</tspan><tspan x=\"1030\" dy=\"-1.3em\">(+1) [-1]: 2</tspan><tspan x=\"1030\" dy=\"-1.3em\">&#954; = 5, T = 5</tspan></text></svg>"
      ],
      "text/plain": [
       "<optiwindnet.api.WindFarmNetwork at 0x2853dd602f0>"
      ]
     },
     "execution_count": 11,
     "metadata": {},
     "output_type": "execute_result"
    }
   ],
   "source": [
    "new_terse_links = np.array([-1, 0, -1, 2, 3])\n",
    "\n",
    "# Apply the new configuration\n",
    "wfn.update_from_terse_links(new_terse_links)\n",
    "\n",
    "# Visualize the updated network (cable routing)\n",
    "wfn\n"
   ]
  },
  {
   "cell_type": "markdown",
   "id": "3f277b56",
   "metadata": {},
   "source": [
    "### Method: `gradient()`"
   ]
  },
  {
   "cell_type": "markdown",
   "id": "96a70239",
   "metadata": {},
   "source": [
    "This method computes the gradient of the cost or length with respect to turbine/substation positions.\n",
    "Useful for hybrid optimization or sensitivity analysis.\n",
    " > Note: default of `gradient_type` is `length`."
   ]
  },
  {
   "cell_type": "code",
   "execution_count": 12,
   "id": "3fe297b4",
   "metadata": {},
   "outputs": [
    {
     "name": "stdout",
     "output_type": "stream",
     "text": [
      "--- gradient_type=length ---\n",
      "\n",
      "Gradient (w.r.t. turbines):\n",
      " [[-1.41421356  0.        ]\n",
      " [ 0.70710678  0.70710678]\n",
      " [-0.70710678  0.29289322]\n",
      " [ 0.          1.41421356]\n",
      " [ 0.70710678 -0.70710678]] \n",
      "\n",
      "Gradient (w.r.t. substations):\n",
      " [[ 0.70710678 -1.70710678]]\n",
      "\n",
      "\n",
      "--- gradient_type=length ---\n",
      "\n",
      "Gradient (w.r.t. turbines):\n",
      " [[-2121.32034356     0.        ]\n",
      " [ 1060.66017178  1060.66017178]\n",
      " [-1060.66017178   739.33982822]\n",
      " [    0.          2121.32034356]\n",
      " [ 1060.66017178 -1060.66017178]] \n",
      "\n",
      "Gradient (w.r.t. substations):\n",
      " [[ 1060.66017178 -2860.66017178]]\n"
     ]
    }
   ],
   "source": [
    "print('--- gradient_type=length ---\\n')\n",
    "grad_turb, grad_subs = wfn.gradient()\n",
    "print(\"Gradient (w.r.t. turbines):\\n\", grad_turb, \"\\n\")\n",
    "print(\"Gradient (w.r.t. substations):\\n\", grad_subs)\n",
    "print('\\n')\n",
    "print('--- gradient_type=length ---\\n')\n",
    "grad_turb, grad_subs = wfn.gradient(gradient_type='cost')\n",
    "print(\"Gradient (w.r.t. turbines):\\n\", grad_turb, \"\\n\")\n",
    "print(\"Gradient (w.r.t. substations):\\n\", grad_subs)"
   ]
  },
  {
   "cell_type": "markdown",
   "id": "95831235",
   "metadata": {},
   "source": [
    "### Method: `get_network()`"
   ]
  },
  {
   "cell_type": "markdown",
   "id": "4eea9d03",
   "metadata": {},
   "source": [
    "This method returns the **final optimized network** as a **structured NumPy array**, where each row represents an edge in the network.\n",
    "\n",
    "Each edge includes detailed attributes such as:\n",
    "\n",
    "* **`src`**: index of the source node\n",
    "* **`tgt`**: index of the target (destination node)\n",
    "* **`length`**: physical cable length\n",
    "* **`load`**: electrical load carried through the cable (number of turbines)\n",
    "* **`cable`**: index of the cable type used (e.g., 0 for first type in cable list)\n",
    "* **`cost`**: cost associated with the used cable (if cost is provided by the user)"
   ]
  },
  {
   "cell_type": "code",
   "execution_count": 13,
   "id": "9a0b2118",
   "metadata": {},
   "outputs": [
    {
     "data": {
      "text/plain": [
       "array([(1,  0, 1.41421356, 1., 0), (0, -1, 2.82842712, 2., 0)],\n",
       "      dtype=[('src', '<i8'), ('tgt', '<i8'), ('length', '<f8'), ('load', '<f8'), ('cable', '<i8')])"
      ]
     },
     "execution_count": 13,
     "metadata": {},
     "output_type": "execute_result"
    }
   ],
   "source": [
    "network_data = wfn.get_network()\n",
    "network_data[:2]  # preview only first few edges"
   ]
  },
  {
   "cell_type": "markdown",
   "id": "a1f6b235",
   "metadata": {},
   "source": [
    "### Method: `add_buffer()`"
   ]
  },
  {
   "cell_type": "markdown",
   "id": "15c085fb",
   "metadata": {},
   "source": [
    "This method redefines the border and obstacles by expanding the borders and shrinking the obstacles; useful when turbines are near edges or when integrating with tools like TopFarm|"
   ]
  },
  {
   "cell_type": "code",
   "execution_count": 14,
   "id": "a317f2a5",
   "metadata": {},
   "outputs": [
    {
     "name": "stderr",
     "output_type": "stream",
     "text": [
      "Buffering by 0.50 completely removed the obstacle at index 0. For visual comparison use plot_original_vs_buffered().\n"
     ]
    }
   ],
   "source": [
    "wfn.add_buffer(buffer_dist=0.5)"
   ]
  },
  {
   "cell_type": "code",
   "execution_count": 15,
   "id": "95c5da7b",
   "metadata": {},
   "outputs": [
    {
     "data": {
      "text/plain": [
       "<Axes: title={'center': 'Original and Buffered Shapes'}>"
      ]
     },
     "execution_count": 15,
     "metadata": {},
     "output_type": "execute_result"
    },
    {
     "data": {
      "image/svg+xml": [
       "<?xml version=\"1.0\" encoding=\"utf-8\" standalone=\"no\"?>\n",
       "<!DOCTYPE svg PUBLIC \"-//W3C//DTD SVG 1.1//EN\"\n",
       "  \"http://www.w3.org/Graphics/SVG/1.1/DTD/svg11.dtd\">\n",
       "<svg xmlns:xlink=\"http://www.w3.org/1999/xlink\" width=\"332.776064pt\" height=\"353.99952pt\" viewBox=\"0 0 332.776064 353.99952\" xmlns=\"http://www.w3.org/2000/svg\" version=\"1.1\">\n",
       " <metadata>\n",
       "  <rdf:RDF xmlns:dc=\"http://purl.org/dc/elements/1.1/\" xmlns:cc=\"http://creativecommons.org/ns#\" xmlns:rdf=\"http://www.w3.org/1999/02/22-rdf-syntax-ns#\">\n",
       "   <cc:Work>\n",
       "    <dc:type rdf:resource=\"http://purl.org/dc/dcmitype/StillImage\"/>\n",
       "    <dc:date>2025-08-28T18:56:25.672326</dc:date>\n",
       "    <dc:format>image/svg+xml</dc:format>\n",
       "    <dc:creator>\n",
       "     <cc:Agent>\n",
       "      <dc:title>Matplotlib v3.10.1, https://matplotlib.org/</dc:title>\n",
       "     </cc:Agent>\n",
       "    </dc:creator>\n",
       "   </cc:Work>\n",
       "  </rdf:RDF>\n",
       " </metadata>\n",
       " <defs>\n",
       "  <style type=\"text/css\">*{stroke-linejoin: round; stroke-linecap: butt}</style>\n",
       " </defs>\n",
       " <g id=\"figure_1\">\n",
       "  <g id=\"patch_1\">\n",
       "   <path d=\"M 0 353.99952 \n",
       "L 332.776064 353.99952 \n",
       "L 332.776064 0 \n",
       "L 0 0 \n",
       "z\n",
       "\" style=\"fill: #ffffff\"/>\n",
       "  </g>\n",
       "  <g id=\"axes_1\">\n",
       "   <g id=\"patch_2\">\n",
       "    <path d=\"M 45.8512 307.870805 \n",
       "L 45.8512 66.075199 \n",
       "L 239.287684 61.239287 \n",
       "L 287.646806 114.434321 \n",
       "L 239.287684 307.870805 \n",
       "z\n",
       "\" clip-path=\"url(#p20179bbed3)\" style=\"fill: #add8e6\"/>\n",
       "   </g>\n",
       "   <g id=\"patch_3\">\n",
       "    <path d=\"M 55.523024 283.691245 \n",
       "L 118.389882 283.691245 \n",
       "L 55.523024 211.152563 \n",
       "z\n",
       "\" clip-path=\"url(#p20179bbed3)\" style=\"fill: #ffffff\"/>\n",
       "   </g>\n",
       "   <g id=\"patch_4\">\n",
       "    <path d=\"M 45.8512 332.050366 \n",
       "L 28.753669 324.968336 \n",
       "L 21.671639 307.870805 \n",
       "L 21.671639 66.075199 \n",
       "L 28.541335 49.192672 \n",
       "L 45.2469 41.903191 \n",
       "L 238.683384 37.067279 \n",
       "L 257.17911 44.974355 \n",
       "L 305.538231 98.169388 \n",
       "L 311.104425 120.298725 \n",
       "L 262.745304 313.73521 \n",
       "L 254.168081 326.929266 \n",
       "L 239.287684 332.050366 \n",
       "L 45.8512 332.050366 \n",
       "z\n",
       "\" clip-path=\"url(#p20179bbed3)\" style=\"fill: none; stroke-dasharray: 3.7,1.6; stroke-dashoffset: 0; stroke: #ff0000; stroke-linejoin: miter\"/>\n",
       "   </g>\n",
       "   <g id=\"text_1\">\n",
       "    <text style=\"font-size: 12px; font-family: 'DejaVu Sans', 'Bitstream Vera Sans', 'Computer Modern Sans Serif', 'Lucida Grande', 'Verdana', 'Geneva', 'Lucid', 'Arial', 'Helvetica', 'Avant Garde', sans-serif; text-anchor: middle\" x=\"166.388032\" y=\"16.318125\" transform=\"rotate(-0 166.388032 16.318125)\">Original and Buffered Shapes</text>\n",
       "   </g>\n",
       "   <g id=\"legend_1\">\n",
       "    <g id=\"patch_5\">\n",
       "     <path d=\"M 107.279438 208.07601 \n",
       "L 225.496626 208.07601 \n",
       "Q 227.496626 208.07601 227.496626 206.07601 \n",
       "L 227.496626 163.041635 \n",
       "Q 227.496626 161.041635 225.496626 161.041635 \n",
       "L 107.279438 161.041635 \n",
       "Q 105.279438 161.041635 105.279438 163.041635 \n",
       "L 105.279438 206.07601 \n",
       "Q 105.279438 208.07601 107.279438 208.07601 \n",
       "z\n",
       "\" style=\"fill: #ffffff; opacity: 0.8; stroke: #cccccc; stroke-linejoin: miter\"/>\n",
       "    </g>\n",
       "    <g id=\"patch_6\">\n",
       "     <path d=\"M 109.279438 172.640072 \n",
       "L 129.279438 172.640072 \n",
       "L 129.279438 165.640072 \n",
       "L 109.279438 165.640072 \n",
       "z\n",
       "\" style=\"fill: #add8e6\"/>\n",
       "    </g>\n",
       "    <g id=\"text_2\">\n",
       "     <text style=\"font-size: 10px; font-family: 'DejaVu Sans', 'Bitstream Vera Sans', 'Computer Modern Sans Serif', 'Lucida Grande', 'Verdana', 'Geneva', 'Lucid', 'Arial', 'Helvetica', 'Avant Garde', sans-serif; text-anchor: start\" x=\"137.279438\" y=\"172.640072\" transform=\"rotate(-0 137.279438 172.640072)\">Original Border</text>\n",
       "    </g>\n",
       "    <g id=\"patch_7\">\n",
       "     <path d=\"M 109.279438 187.318197 \n",
       "L 129.279438 187.318197 \n",
       "L 129.279438 180.318197 \n",
       "L 109.279438 180.318197 \n",
       "z\n",
       "\" style=\"fill: #ffffff\"/>\n",
       "    </g>\n",
       "    <g id=\"text_3\">\n",
       "     <text style=\"font-size: 10px; font-family: 'DejaVu Sans', 'Bitstream Vera Sans', 'Computer Modern Sans Serif', 'Lucida Grande', 'Verdana', 'Geneva', 'Lucid', 'Arial', 'Helvetica', 'Avant Garde', sans-serif; text-anchor: start\" x=\"137.279438\" y=\"187.318197\" transform=\"rotate(-0 137.279438 187.318197)\">Original Obstacle</text>\n",
       "    </g>\n",
       "    <g id=\"patch_8\">\n",
       "     <path d=\"M 109.279438 201.996322 \n",
       "L 129.279438 201.996322 \n",
       "L 129.279438 194.996322 \n",
       "L 109.279438 194.996322 \n",
       "L 109.279438 201.996322 \n",
       "z\n",
       "\" style=\"fill: none; stroke-dasharray: 3.7,1.6; stroke-dashoffset: 0; stroke: #ff0000; stroke-linejoin: miter\"/>\n",
       "    </g>\n",
       "    <g id=\"text_4\">\n",
       "     <text style=\"font-size: 10px; font-family: 'DejaVu Sans', 'Bitstream Vera Sans', 'Computer Modern Sans Serif', 'Lucida Grande', 'Verdana', 'Geneva', 'Lucid', 'Arial', 'Helvetica', 'Avant Garde', sans-serif; text-anchor: start\" x=\"137.279438\" y=\"201.996322\" transform=\"rotate(-0 137.279438 201.996322)\">Buffered Border</text>\n",
       "    </g>\n",
       "   </g>\n",
       "  </g>\n",
       " </g>\n",
       " <defs>\n",
       "  <clipPath id=\"p20179bbed3\">\n",
       "   <rect x=\"7.2\" y=\"22.318125\" width=\"318.376064\" height=\"324.481395\"/>\n",
       "  </clipPath>\n",
       " </defs>\n",
       "</svg>\n"
      ],
      "text/plain": [
       "<Figure size 640x480 with 1 Axes>"
      ]
     },
     "metadata": {},
     "output_type": "display_data"
    }
   ],
   "source": [
    "wfn.plot_original_vs_buffered()"
   ]
  },
  {
   "cell_type": "code",
   "execution_count": 16,
   "id": "77dab41a",
   "metadata": {},
   "outputs": [
    {
     "data": {
      "image/svg+xml": [
       "<svg xmlns=\"http://www.w3.org/2000/svg\" viewBox=\"0 0 1920 1080\"><defs><circle stroke=\"none\" stroke-width=\"2\" id=\"wtg\" r=\"12\"/><rect stroke=\"#111\" stroke-width=\"2\" id=\"oss\" width=\"21\" height=\"21\" fill=\"lawngreen\"/><filter x=\"-5%\" y=\"-5%\" id=\"bg_textbox\" width=\"110%\" height=\"110%\"><feFlood flood-opacity=\"0.6\" flood-color=\"black\" result=\"bg\"/><feMerge><feMergeNode in=\"bg\"/><feMergeNode in=\"SourceGraphic\"/></feMerge></filter></defs><g id=\"\"><path stroke=\"silver\" stroke-dasharray=\"15 7\" stroke-width=\"2\" id=\"border\" d=\"M114 1050 54 1026 30 966 30 130 54 72 112 47 780 30 844 57 1012 241 1031 318 864 987 834 1032 782 1050z\" fill-rule=\"evenodd\" fill=\"#111\"/><g stroke=\"crimson\" stroke-width=\"4\" id=\"edges_unspecified\"><line x1=\"114\" y1=\"465\" x2=\"281\" y2=\"298\"/><line x1=\"281\" y1=\"298\" x2=\"448\" y2=\"465\"/><line x1=\"448\" y1=\"465\" x2=\"615\" y2=\"298\"/><line x1=\"615\" y1=\"298\" x2=\"782\" y2=\"465\"/><line x1=\"448\" y1=\"799\" x2=\"782\" y2=\"465\"/></g><g id=\"WTGgrp\"><g fill=\"#1f77b4\"><use href=\"#wtg\" x=\"114\" y=\"465\"/><use href=\"#wtg\" x=\"281\" y=\"298\"/><use href=\"#wtg\" x=\"448\" y=\"465\"/><use href=\"#wtg\" x=\"615\" y=\"298\"/><use href=\"#wtg\" x=\"782\" y=\"465\"/></g></g><g id=\"OSSgrp\"><use href=\"#oss\" x=\"437.5\" y=\"788.5\"/></g></g><text filter=\"url(#bg_textbox)\" text-anchor=\"end\" font-family=\"sans-serif\" font-size=\"40\" fill=\"white\" x=\"1031\" y=\"1050\"><tspan x=\"1031\" dy=\"-0.0em\">14425 &#8364;</tspan><tspan x=\"1031\" dy=\"-1.3em\">&#931;&#955; = 8.4853 m</tspan><tspan x=\"1031\" dy=\"-1.3em\">(+0) [-1]: 1</tspan><tspan x=\"1031\" dy=\"-1.3em\">&#954; = 5, T = 5</tspan></text></svg>"
      ],
      "text/plain": [
       "<optiwindnet.api.WindFarmNetwork at 0x2853dd602f0>"
      ]
     },
     "execution_count": 16,
     "metadata": {},
     "output_type": "execute_result"
    }
   ],
   "source": [
    "wfn.optimize()\n",
    "wfn"
   ]
  },
  {
   "cell_type": "markdown",
   "id": "9276fb5d",
   "metadata": {},
   "source": [
    "### In this section:\n",
    "\n",
    "we explored the most useful methods of the `WindFarmNetwork` class:\n",
    "\n",
    "| Method | Purpose |\n",
    "|--------|---------|\n",
    "| `optimize()` | Run optimization with a router |\n",
    "| `plot()` | Visualize the network |\n",
    "| `cost()`, `length()` | Get total cost and length |\n",
    "| `terse_links()` | Get compact link encoding |\n",
    "| `update_from_terse_links()` | Apply terse links manually |\n",
    "| `gradient()` | Compute network's gradient |\n",
    "| `get_network()` | Export the optimized network data |\n",
    "| `add_buffer()`| Expand border - Shrink obstacles|\n",
    "\n",
    "For deeper insights into individual methods, refer to the dedicated notebooks provided.\n"
   ]
  }
 ],
 "metadata": {
  "kernelspec": {
   "display_name": "OptiWindNet",
   "language": "python",
   "name": "python3"
  },
  "language_info": {
   "codemirror_mode": {
    "name": "ipython",
    "version": 3
   },
   "file_extension": ".py",
   "mimetype": "text/x-python",
   "name": "python",
   "nbconvert_exporter": "python",
   "pygments_lexer": "ipython3",
   "version": "3.12.9"
  }
 },
 "nbformat": 4,
 "nbformat_minor": 5
}
