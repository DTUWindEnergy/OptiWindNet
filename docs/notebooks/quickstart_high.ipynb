{
 "cells": [
  {
   "cell_type": "markdown",
   "id": "d3889873-304a-4138-8d26-71cd9df08281",
   "metadata": {
    "deletable": true,
    "editable": true,
    "frozen": false
   },
   "source": [
    "# 🚀 Quick Start"
   ]
  },
  {
   "cell_type": "markdown",
   "id": "b613f213-609c-4fab-b6e2-6da86ea72cb6",
   "metadata": {
    "deletable": true,
    "editable": true,
    "frozen": false
   },
   "source": [
    "This notebook shows the *minimum steps* needed to run a electrical network optimization in a wind farm via OptiWindNet."
   ]
  },
  {
   "cell_type": "markdown",
   "id": "56bae6b4-9cf4-4e01-83ce-e17d4b788b18",
   "metadata": {
    "deletable": true,
    "editable": true,
    "frozen": false
   },
   "source": [
    "## Steps"
   ]
  },
  {
   "cell_type": "markdown",
   "id": "77861cab-daa3-4bf5-98a9-27d52ad7cecb",
   "metadata": {
    "deletable": true,
    "editable": true,
    "frozen": false
   },
   "source": [
    "An network optimization via OptiWindNet involves two components:\n",
    "\n",
    "* A `WindFarmNetwork` containing the problem data.\n",
    "* A `Router` describing the method used to solve it.\n",
    "\n",
    "The network optimization can be performed using following steps:\n",
    "\n",
    "1) Create a `WindFarmNetwork` instance\n",
    "2) Define a router\n",
    "3) Run the optimization and get the results"
   ]
  },
  {
   "cell_type": "markdown",
   "id": "48145102",
   "metadata": {
    "deletable": true,
    "editable": true,
    "frozen": false
   },
   "source": [
    "### 1. Create a `WindFarmNetwork` instance"
   ]
  },
  {
   "cell_type": "markdown",
   "id": "fac8dccf",
   "metadata": {
    "deletable": true,
    "editable": true,
    "frozen": false
   },
   "source": [
    "The `WindFarmNetwork` component stores the turbine layout and runs optimization (storing the optimized network after running an optimization). See [WindFarmNetwork and Router](a02_WindFarmNetwork.ipynb) for some of the importnant methods and functionalities provided by this component."
   ]
  },
  {
   "cell_type": "code",
   "execution_count": 1,
   "id": "2f1ecb89-84e4-4316-9db9-dbaf5b282bf0",
   "metadata": {
    "deletable": true,
    "editable": true,
    "execution": {
     "iopub.execute_input": "2025-09-23T10:55:40.266162Z",
     "iopub.status.busy": "2025-09-23T10:55:40.266162Z",
     "iopub.status.idle": "2025-09-23T10:55:42.855232Z",
     "shell.execute_reply": "2025-09-23T10:55:42.855232Z",
     "shell.execute_reply.started": "2025-09-23T10:55:40.266162Z"
    },
    "frozen": false
   },
   "outputs": [],
   "source": [
    "from optiwindnet.api import WindFarmNetwork"
   ]
  },
  {
   "cell_type": "code",
   "execution_count": 2,
   "id": "c955df78",
   "metadata": {
    "deletable": true,
    "editable": true,
    "execution": {
     "iopub.execute_input": "2025-09-23T10:55:42.858433Z",
     "iopub.status.busy": "2025-09-23T10:55:42.855232Z",
     "iopub.status.idle": "2025-09-23T10:55:42.865715Z",
     "shell.execute_reply": "2025-09-23T10:55:42.864497Z",
     "shell.execute_reply.started": "2025-09-23T10:55:42.858433Z"
    },
    "frozen": false
   },
   "outputs": [],
   "source": [
    "import matplotlib.pyplot as plt\n",
    "# Display figures as SVG in Jupyter notebooks\n",
    "%config InlineBackend.figure_formats = ['svg']"
   ]
  },
  {
   "cell_type": "markdown",
   "id": "e0765d5c",
   "metadata": {
    "deletable": true,
    "editable": true,
    "frozen": false
   },
   "source": [
    "#### Load location data\n",
    "\n",
    "> Note: For details about *OptiWindNet*'s `load_repository()`, check [Load repositories containing location data](a03_load_repositories.ipynb)."
   ]
  },
  {
   "cell_type": "code",
   "execution_count": 3,
   "id": "1f2d7a49-6c57-49e9-bb85-cad2eb08d350",
   "metadata": {
    "deletable": true,
    "editable": true,
    "execution": {
     "iopub.execute_input": "2025-09-23T10:55:42.866940Z",
     "iopub.status.busy": "2025-09-23T10:55:42.866563Z",
     "iopub.status.idle": "2025-09-23T10:55:43.267239Z",
     "shell.execute_reply": "2025-09-23T10:55:43.267239Z",
     "shell.execute_reply.started": "2025-09-23T10:55:42.866940Z"
    },
    "frozen": false
   },
   "outputs": [],
   "source": [
    "from optiwindnet.api import load_repository\n",
    "locations = load_repository()\n",
    "L = locations.doggerA"
   ]
  },
  {
   "cell_type": "markdown",
   "id": "082fda01",
   "metadata": {
    "deletable": true,
    "editable": true,
    "frozen": false
   },
   "source": [
    "Initialize a `WindFarmNetwork` instance with a prebuilt `L` and a desired maximum cable capacity *(See [Data Input](a01_data_input.ipynb) for various input formats.)*"
   ]
  },
  {
   "cell_type": "code",
   "execution_count": 4,
   "id": "1cefe795",
   "metadata": {
    "deletable": true,
    "editable": true,
    "execution": {
     "iopub.execute_input": "2025-09-23T10:55:43.267239Z",
     "iopub.status.busy": "2025-09-23T10:55:43.267239Z",
     "iopub.status.idle": "2025-09-23T10:55:43.273920Z",
     "shell.execute_reply": "2025-09-23T10:55:43.272888Z",
     "shell.execute_reply.started": "2025-09-23T10:55:43.267239Z"
    },
    "frozen": false
   },
   "outputs": [],
   "source": [
    "wfn = WindFarmNetwork(L=L, cables=8)"
   ]
  },
  {
   "cell_type": "markdown",
   "id": "a8fd46b9",
   "metadata": {
    "deletable": true,
    "editable": true,
    "frozen": false
   },
   "source": [
    "We can plot the location to make sure `wfn` is created with the correct data."
   ]
  },
  {
   "cell_type": "markdown",
   "id": "753feb91",
   "metadata": {
    "deletable": true,
    "editable": true,
    "frozen": false
   },
   "source": [
    ">**Tip.** In a notebook, just put `wfn` as the last line of a cell for plotting G.\n",
    ">\n",
    ">* Before optimization (no `G` yet), it renders the location geometry `L`.\n",
    ">* If `G` exists (e.g. after a `optimize()` is run), it automatically renders `G`.\n",
    ">\n",
    ">We could use `wfn.plot_location()` for plotting the location geometry. For more details look into the notebook about [plotting](a04_Plotting.ipynb)"
   ]
  },
  {
   "cell_type": "code",
   "execution_count": 5,
   "id": "e0e31dfa",
   "metadata": {
    "deletable": true,
    "editable": true,
    "execution": {
     "iopub.execute_input": "2025-09-23T10:55:43.273920Z",
     "iopub.status.busy": "2025-09-23T10:55:43.273920Z",
     "iopub.status.idle": "2025-09-23T10:55:43.287241Z",
     "shell.execute_reply": "2025-09-23T10:55:43.287241Z",
     "shell.execute_reply.started": "2025-09-23T10:55:43.273920Z"
    },
    "frozen": false
   },
   "outputs": [
    {
     "data": {
      "image/svg+xml": [
       "<svg xmlns=\"http://www.w3.org/2000/svg\" viewBox=\"0 0 1920 1028\"><defs><circle stroke=\"none\" stroke-width=\"2\" id=\"wtg\" r=\"12\"/><rect stroke=\"#111\" stroke-width=\"2\" id=\"oss\" width=\"21\" height=\"21\" fill=\"lawngreen\"/></defs><g id=\"doggerA\"><path stroke=\"silver\" stroke-dasharray=\"15 7\" stroke-width=\"2\" id=\"border\" d=\"M1098 998 30 535 42 30 1727 39 1890 202z\" fill-rule=\"evenodd\" fill=\"#111\"/><g id=\"WTGgrp\"><g fill=\"#9edae5\"><use href=\"#wtg\" x=\"158\" y=\"367\"/><use href=\"#wtg\" x=\"655\" y=\"651\"/><use href=\"#wtg\" x=\"547\" y=\"560\"/><use href=\"#wtg\" x=\"224\" y=\"288\"/><use href=\"#wtg\" x=\"1045\" y=\"844\"/><use href=\"#wtg\" x=\"937\" y=\"753\"/><use href=\"#wtg\" x=\"829\" y=\"663\"/><use href=\"#wtg\" x=\"721\" y=\"572\"/><use href=\"#wtg\" x=\"613\" y=\"481\"/><use href=\"#wtg\" x=\"397\" y=\"301\"/><use href=\"#wtg\" x=\"290\" y=\"210\"/><use href=\"#wtg\" x=\"1111\" y=\"765\"/><use href=\"#wtg\" x=\"1003\" y=\"675\"/><use href=\"#wtg\" x=\"895\" y=\"584\"/><use href=\"#wtg\" x=\"787\" y=\"494\"/><use href=\"#wtg\" x=\"679\" y=\"403\"/><use href=\"#wtg\" x=\"463\" y=\"222\"/><use href=\"#wtg\" x=\"1176\" y=\"687\"/><use href=\"#wtg\" x=\"1069\" y=\"596\"/><use href=\"#wtg\" x=\"961\" y=\"505\"/><use href=\"#wtg\" x=\"853\" y=\"415\"/><use href=\"#wtg\" x=\"1308\" y=\"529\"/><use href=\"#wtg\" x=\"1374\" y=\"451\"/><use href=\"#wtg\" x=\"1266\" y=\"361\"/><use href=\"#wtg\" x=\"1158\" y=\"270\"/><use href=\"#wtg\" x=\"1440\" y=\"373\"/><use href=\"#wtg\" x=\"1332\" y=\"282\"/><use href=\"#wtg\" x=\"1224\" y=\"192\"/><use href=\"#wtg\" x=\"1506\" y=\"294\"/><use href=\"#wtg\" x=\"1398\" y=\"204\"/><use href=\"#wtg\" x=\"1572\" y=\"216\"/><use href=\"#wtg\" x=\"469\" y=\"79\"/><use href=\"#wtg\" x=\"538\" y=\"79\"/><use href=\"#wtg\" x=\"608\" y=\"80\"/><use href=\"#wtg\" x=\"677\" y=\"80\"/><use href=\"#wtg\" x=\"747\" y=\"81\"/><use href=\"#wtg\" x=\"816\" y=\"81\"/><use href=\"#wtg\" x=\"885\" y=\"82\"/><use href=\"#wtg\" x=\"954\" y=\"82\"/><use href=\"#wtg\" x=\"1024\" y=\"83\"/><use href=\"#wtg\" x=\"1093\" y=\"84\"/><use href=\"#wtg\" x=\"1163\" y=\"84\"/><use href=\"#wtg\" x=\"1232\" y=\"85\"/><use href=\"#wtg\" x=\"1301\" y=\"85\"/><use href=\"#wtg\" x=\"1371\" y=\"85\"/><use href=\"#wtg\" x=\"1440\" y=\"86\"/><use href=\"#wtg\" x=\"1510\" y=\"87\"/><use href=\"#wtg\" x=\"1579\" y=\"87\"/><use href=\"#wtg\" x=\"1648\" y=\"87\"/><use href=\"#wtg\" x=\"1717\" y=\"88\"/><use href=\"#wtg\" x=\"1836\" y=\"239\"/><use href=\"#wtg\" x=\"1787\" y=\"288\"/><use href=\"#wtg\" x=\"1738\" y=\"337\"/><use href=\"#wtg\" x=\"1689\" y=\"386\"/><use href=\"#wtg\" x=\"1640\" y=\"436\"/><use href=\"#wtg\" x=\"1591\" y=\"484\"/><use href=\"#wtg\" x=\"1542\" y=\"534\"/><use href=\"#wtg\" x=\"1493\" y=\"583\"/><use href=\"#wtg\" x=\"1445\" y=\"633\"/><use href=\"#wtg\" x=\"1298\" y=\"779\"/><use href=\"#wtg\" x=\"1249\" y=\"829\"/><use href=\"#wtg\" x=\"1200\" y=\"878\"/><use href=\"#wtg\" x=\"1035\" y=\"957\"/><use href=\"#wtg\" x=\"972\" y=\"930\"/><use href=\"#wtg\" x=\"844\" y=\"875\"/><use href=\"#wtg\" x=\"781\" y=\"847\"/><use href=\"#wtg\" x=\"717\" y=\"820\"/><use href=\"#wtg\" x=\"654\" y=\"792\"/><use href=\"#wtg\" x=\"590\" y=\"765\"/><use href=\"#wtg\" x=\"526\" y=\"737\"/><use href=\"#wtg\" x=\"462\" y=\"710\"/><use href=\"#wtg\" x=\"45\" y=\"417\"/><use href=\"#wtg\" x=\"47\" y=\"346\"/><use href=\"#wtg\" x=\"48\" y=\"278\"/><use href=\"#wtg\" x=\"50\" y=\"208\"/><use href=\"#wtg\" x=\"53\" y=\"78\"/><use href=\"#wtg\" x=\"122\" y=\"80\"/><use href=\"#wtg\" x=\"1102\" y=\"976\"/><use href=\"#wtg\" x=\"908\" y=\"903\"/><use href=\"#wtg\" x=\"374\" y=\"548\"/><use href=\"#wtg\" x=\"266\" y=\"458\"/><use href=\"#wtg\" x=\"440\" y=\"469\"/><use href=\"#wtg\" x=\"331\" y=\"379\"/><use href=\"#wtg\" x=\"505\" y=\"391\"/><use href=\"#wtg\" x=\"571\" y=\"313\"/><use href=\"#wtg\" x=\"1151\" y=\"927\"/><use href=\"#wtg\" x=\"399\" y=\"681\"/><use href=\"#wtg\" x=\"335\" y=\"654\"/><use href=\"#wtg\" x=\"272\" y=\"626\"/><use href=\"#wtg\" x=\"208\" y=\"599\"/><use href=\"#wtg\" x=\"145\" y=\"572\"/><use href=\"#wtg\" x=\"81\" y=\"544\"/><use href=\"#wtg\" x=\"43\" y=\"486\"/><use href=\"#wtg\" x=\"1774\" y=\"128\"/><use href=\"#wtg\" x=\"1831\" y=\"167\"/></g></g><g id=\"OSSgrp\"><use href=\"#oss\" x=\"733.5\" y=\"312.5\"/></g></g></svg>"
      ],
      "text/plain": [
       "<optiwindnet.api.WindFarmNetwork at 0x1a91e39d190>"
      ]
     },
     "execution_count": 5,
     "metadata": {},
     "output_type": "execute_result"
    }
   ],
   "source": [
    "wfn"
   ]
  },
  {
   "cell_type": "markdown",
   "id": "64a931d6-a64a-4e6b-a36d-6b103a8216dc",
   "metadata": {
    "deletable": true,
    "editable": true,
    "frozen": false
   },
   "source": [
    "### 2. Define a `Router`"
   ]
  },
  {
   "cell_type": "markdown",
   "id": "100bfc85-3785-435e-839e-1a6adef38c23",
   "metadata": {
    "deletable": true,
    "editable": true,
    "frozen": false
   },
   "source": [
    "Three built-in routers are available in *OptiWindNet* :\n",
    "\n",
    "| Router     | Speed | Accuracy | Notes |\n",
    "|------------|-------|----------|-------|\n",
    "| EWRouter   | ⭐⭐⭐  | ⭐       | Very fast heuristic |\n",
    "| HGSRouter  | ⭐⭐   | ⭐⭐       | Radial topology |\n",
    "| MILPRouter | ⭐    | ⭐⭐⭐      | Exact MILP solver |\n",
    "\n",
    "See [WindFarmNetwork and Router](a02_WindFarmNetwork.ipynb) for details about routers."
   ]
  },
  {
   "cell_type": "markdown",
   "id": "d949bb52-5c2b-467b-954b-1ff0be0f717c",
   "metadata": {
    "deletable": true,
    "editable": true,
    "frozen": false
   },
   "source": [
    "#### EWRouter"
   ]
  },
  {
   "cell_type": "markdown",
   "id": "90750db9-b0e4-48cf-ade0-339d2ef14d84",
   "metadata": {
    "deletable": true,
    "editable": true,
    "frozen": false
   },
   "source": [
    "To use this router, simply create an instance of the `EWRouter` class. All arguments are *optional*, making it quick and easy to get started with minimal configuration."
   ]
  },
  {
   "cell_type": "code",
   "execution_count": 6,
   "id": "b6a65515-8573-4fb7-9f14-f741d78eb361",
   "metadata": {
    "deletable": true,
    "editable": true,
    "execution": {
     "iopub.execute_input": "2025-09-23T10:55:43.287241Z",
     "iopub.status.busy": "2025-09-23T10:55:43.287241Z",
     "iopub.status.idle": "2025-09-23T10:55:43.295260Z",
     "shell.execute_reply": "2025-09-23T10:55:43.294244Z",
     "shell.execute_reply.started": "2025-09-23T10:55:43.287241Z"
    },
    "frozen": false
   },
   "outputs": [],
   "source": [
    "from optiwindnet.api import EWRouter"
   ]
  },
  {
   "cell_type": "code",
   "execution_count": 7,
   "id": "e4218728-24ee-4e12-a597-0aff167ce84d",
   "metadata": {
    "deletable": true,
    "editable": true,
    "execution": {
     "iopub.execute_input": "2025-09-23T10:55:43.296258Z",
     "iopub.status.busy": "2025-09-23T10:55:43.296258Z",
     "iopub.status.idle": "2025-09-23T10:55:43.301821Z",
     "shell.execute_reply": "2025-09-23T10:55:43.300779Z",
     "shell.execute_reply.started": "2025-09-23T10:55:43.296258Z"
    },
    "frozen": false
   },
   "outputs": [],
   "source": [
    "ew_router = EWRouter()"
   ]
  },
  {
   "cell_type": "markdown",
   "id": "e52ecc51",
   "metadata": {
    "deletable": true,
    "editable": true,
    "frozen": false
   },
   "source": [
    "#### HGSRouter\n",
    "\n",
    "To use this router, create an instance of the `HGSRouter` class. The *only required argument* is `time_limit`, which defines how long the optimization is allowed to run (in seconds)."
   ]
  },
  {
   "cell_type": "code",
   "execution_count": 8,
   "id": "3c842d29",
   "metadata": {
    "deletable": true,
    "editable": true,
    "execution": {
     "iopub.execute_input": "2025-09-23T10:55:43.302790Z",
     "iopub.status.busy": "2025-09-23T10:55:43.302790Z",
     "iopub.status.idle": "2025-09-23T10:55:43.308306Z",
     "shell.execute_reply": "2025-09-23T10:55:43.307794Z",
     "shell.execute_reply.started": "2025-09-23T10:55:43.302790Z"
    },
    "frozen": false
   },
   "outputs": [],
   "source": [
    "from optiwindnet.api import HGSRouter"
   ]
  },
  {
   "cell_type": "code",
   "execution_count": 9,
   "id": "346b0030",
   "metadata": {
    "deletable": true,
    "editable": true,
    "execution": {
     "iopub.execute_input": "2025-09-23T10:55:43.309321Z",
     "iopub.status.busy": "2025-09-23T10:55:43.309321Z",
     "iopub.status.idle": "2025-09-23T10:55:43.313681Z",
     "shell.execute_reply": "2025-09-23T10:55:43.313681Z",
     "shell.execute_reply.started": "2025-09-23T10:55:43.309321Z"
    },
    "frozen": false
   },
   "outputs": [],
   "source": [
    "hgs_router = HGSRouter(time_limit=1)"
   ]
  },
  {
   "cell_type": "markdown",
   "id": "8694bc98",
   "metadata": {
    "deletable": true,
    "editable": true,
    "frozen": false
   },
   "source": [
    "#### MILPRouter\n",
    "\n",
    "To use this router, create an instance of the `MILP` class.\n",
    "You must provide:\n",
    "\n",
    "* `solver_name`: the MILP solver to use (e.g., `'ortools'`, `'gurobi'`, `'cbc'`)\n",
    "* `time_limit`: maximum time allowed for solving (in seconds)\n",
    "* `mip_gap`: acceptable optimality gap (e.g., `0.005` = 0.5%)"
   ]
  },
  {
   "cell_type": "markdown",
   "id": "cc4966be",
   "metadata": {
    "deletable": true,
    "editable": true,
    "frozen": false
   },
   "source": [
    "Optional arguments:\n",
    "\n",
    "* `verbose` *(default: False)*: set to `True` to display solver progress and detailed logs\n",
    "* `solver_options`: dictionary of solver-specific parameters\n",
    "* `model_options`: advanced model settings (e.g., topology, feeder configuration)"
   ]
  },
  {
   "cell_type": "code",
   "execution_count": 10,
   "id": "9362998f",
   "metadata": {
    "deletable": true,
    "editable": true,
    "execution": {
     "iopub.execute_input": "2025-09-23T10:55:43.313681Z",
     "iopub.status.busy": "2025-09-23T10:55:43.313681Z",
     "iopub.status.idle": "2025-09-23T10:55:43.320026Z",
     "shell.execute_reply": "2025-09-23T10:55:43.320026Z",
     "shell.execute_reply.started": "2025-09-23T10:55:43.313681Z"
    },
    "frozen": false
   },
   "outputs": [],
   "source": [
    "from optiwindnet.api import MILPRouter"
   ]
  },
  {
   "cell_type": "code",
   "execution_count": 11,
   "id": "052b93cb",
   "metadata": {
    "deletable": true,
    "editable": true,
    "execution": {
     "iopub.execute_input": "2025-09-23T10:55:43.320026Z",
     "iopub.status.busy": "2025-09-23T10:55:43.320026Z",
     "iopub.status.idle": "2025-09-23T10:55:43.923552Z",
     "shell.execute_reply": "2025-09-23T10:55:43.923552Z",
     "shell.execute_reply.started": "2025-09-23T10:55:43.320026Z"
    },
    "frozen": false
   },
   "outputs": [],
   "source": [
    "milp_router = MILPRouter(solver_name='ortools', time_limit=20, mip_gap=0.005, verbose=True)"
   ]
  },
  {
   "cell_type": "markdown",
   "id": "77b319ef",
   "metadata": {
    "deletable": true,
    "editable": true,
    "frozen": false
   },
   "source": [
    "### 3. Run the optimization"
   ]
  },
  {
   "cell_type": "markdown",
   "id": "a1993761",
   "metadata": {
    "deletable": true,
    "editable": true,
    "frozen": false
   },
   "source": [
    "#### EWRouter (very fast)"
   ]
  },
  {
   "cell_type": "code",
   "execution_count": 12,
   "id": "db91b101-c598-4a53-859d-d2bd540c1bef",
   "metadata": {
    "deletable": true,
    "editable": true,
    "execution": {
     "iopub.execute_input": "2025-09-23T10:55:43.925555Z",
     "iopub.status.busy": "2025-09-23T10:55:43.924557Z",
     "iopub.status.idle": "2025-09-23T10:55:44.605131Z",
     "shell.execute_reply": "2025-09-23T10:55:44.605131Z",
     "shell.execute_reply.started": "2025-09-23T10:55:43.925555Z"
    },
    "frozen": false
   },
   "outputs": [
    {
     "name": "stdout",
     "output_type": "stream",
     "text": [
      "30.7 ms ± 1.24 ms per loop (mean ± std. dev. of 7 runs, 1 loop each)\n"
     ]
    }
   ],
   "source": [
    "%%timeit\n",
    "res_ew = wfn.optimize(router=ew_router)"
   ]
  },
  {
   "cell_type": "code",
   "execution_count": 13,
   "id": "0d340d87-76a2-4537-8267-a5ae267b3ac2",
   "metadata": {
    "deletable": true,
    "editable": true,
    "execution": {
     "iopub.execute_input": "2025-09-23T10:55:44.605131Z",
     "iopub.status.busy": "2025-09-23T10:55:44.605131Z",
     "iopub.status.idle": "2025-09-23T10:55:44.612904Z",
     "shell.execute_reply": "2025-09-23T10:55:44.611895Z",
     "shell.execute_reply.started": "2025-09-23T10:55:44.605131Z"
    },
    "frozen": false
   },
   "outputs": [
    {
     "data": {
      "text/plain": [
       "264936.30102115136"
      ]
     },
     "execution_count": 13,
     "metadata": {},
     "output_type": "execute_result"
    }
   ],
   "source": [
    "wfn.length()"
   ]
  },
  {
   "cell_type": "markdown",
   "id": "bc45a08e",
   "metadata": {
    "deletable": true,
    "editable": true,
    "frozen": false
   },
   "source": [
    "Plot optimized network\n",
    "\n",
    "> Note: we could use `wfn.plot()` for plotting the optimized network. For more details look into the notebook about [plotting](a04_Plotting.ipynb)"
   ]
  },
  {
   "cell_type": "code",
   "execution_count": 14,
   "id": "842e6996-49a7-4354-b28a-c3c042b5a6a3",
   "metadata": {
    "deletable": true,
    "editable": true,
    "execution": {
     "iopub.execute_input": "2025-09-23T10:55:44.616903Z",
     "iopub.status.busy": "2025-09-23T10:55:44.615902Z",
     "iopub.status.idle": "2025-09-23T10:55:44.629236Z",
     "shell.execute_reply": "2025-09-23T10:55:44.628225Z",
     "shell.execute_reply.started": "2025-09-23T10:55:44.616903Z"
    },
    "frozen": false
   },
   "outputs": [
    {
     "data": {
      "image/svg+xml": [
       "<svg xmlns=\"http://www.w3.org/2000/svg\" viewBox=\"0 0 1920 1028\"><defs><circle stroke=\"orange\" stroke-opacity=\"0.3\" stroke-width=\"4\" id=\"dt\" r=\"23\" fill=\"none\"/><circle stroke=\"none\" stroke-width=\"2\" id=\"wtg\" r=\"12\"/><rect stroke=\"#111\" stroke-width=\"2\" id=\"oss\" width=\"21\" height=\"21\" fill=\"lawngreen\"/><filter x=\"-5%\" y=\"-5%\" id=\"bg_textbox\" width=\"110%\" height=\"110%\"><feFlood flood-opacity=\"0.6\" flood-color=\"black\" result=\"bg\"/><feMerge><feMergeNode in=\"bg\"/><feMergeNode in=\"SourceGraphic\"/></feMerge></filter></defs><g id=\"doggerA\"><path stroke=\"silver\" stroke-dasharray=\"15 7\" stroke-width=\"2\" id=\"border\" d=\"M1098 998 30 535 42 30 1727 39 1890 202z\" fill-rule=\"evenodd\" fill=\"#111\"/><g stroke=\"crimson\" stroke-width=\"4\" id=\"edges_unspecified\"><line x1=\"158\" y1=\"367\" x2=\"224\" y2=\"288\"/><line x1=\"744\" y1=\"323\" x2=\"816\" y2=\"81\"/><line x1=\"744\" y1=\"323\" x2=\"853\" y2=\"415\"/><line x1=\"744\" y1=\"323\" x2=\"571\" y2=\"313\"/><line x1=\"744\" y1=\"323\" x2=\"679\" y2=\"403\"/><line x1=\"744\" y1=\"323\" x2=\"1158\" y2=\"270\"/><line x1=\"744\" y1=\"323\" x2=\"505\" y2=\"391\"/><line x1=\"744\" y1=\"323\" x2=\"1371\" y2=\"85\"/><line x1=\"744\" y1=\"323\" x2=\"1308\" y2=\"529\"/><line x1=\"655\" y1=\"651\" x2=\"721\" y2=\"572\"/><line x1=\"655\" y1=\"651\" x2=\"590\" y2=\"765\"/><line x1=\"547\" y1=\"560\" x2=\"613\" y2=\"481\"/><line x1=\"224\" y1=\"288\" x2=\"290\" y2=\"210\"/><line x1=\"1045\" y1=\"844\" x2=\"1111\" y2=\"765\"/><line x1=\"937\" y1=\"753\" x2=\"1003\" y2=\"675\"/><line x1=\"829\" y1=\"663\" x2=\"895\" y2=\"584\"/><line x1=\"613\" y1=\"481\" x2=\"679\" y2=\"403\"/><line x1=\"397\" y1=\"301\" x2=\"290\" y2=\"210\"/><line x1=\"397\" y1=\"301\" x2=\"331\" y2=\"379\"/><line x1=\"290\" y1=\"210\" x2=\"122\" y2=\"80\"/><line x1=\"1111\" y1=\"765\" x2=\"1176\" y2=\"687\"/><line x1=\"1003\" y1=\"675\" x2=\"1069\" y2=\"596\"/><line x1=\"895\" y1=\"584\" x2=\"787\" y2=\"494\"/><line x1=\"787\" y1=\"494\" x2=\"679\" y2=\"403\"/><line x1=\"463\" y1=\"222\" x2=\"571\" y2=\"313\"/><line x1=\"463\" y1=\"222\" x2=\"469\" y2=\"79\"/><line x1=\"1176\" y1=\"687\" x2=\"1069\" y2=\"596\"/><line x1=\"1069\" y1=\"596\" x2=\"961\" y2=\"505\"/><line x1=\"961\" y1=\"505\" x2=\"853\" y2=\"415\"/><line x1=\"1308\" y1=\"529\" x2=\"1374\" y2=\"451\"/><line x1=\"1308\" y1=\"529\" x2=\"1445\" y2=\"633\"/><line x1=\"1374\" y1=\"451\" x2=\"1440\" y2=\"373\"/><line x1=\"1266\" y1=\"361\" x2=\"1158\" y2=\"270\"/><line x1=\"1266\" y1=\"361\" x2=\"1332\" y2=\"282\"/><line x1=\"1158\" y1=\"270\" x2=\"1224\" y2=\"192\"/><line x1=\"1440\" y1=\"373\" x2=\"1506\" y2=\"294\"/><line x1=\"1332\" y1=\"282\" x2=\"1398\" y2=\"204\"/><line x1=\"1506\" y1=\"294\" x2=\"1572\" y2=\"216\"/><line x1=\"469\" y1=\"79\" x2=\"538\" y2=\"79\"/><line x1=\"538\" y1=\"79\" x2=\"608\" y2=\"80\"/><line x1=\"608\" y1=\"80\" x2=\"677\" y2=\"80\"/><line x1=\"677\" y1=\"80\" x2=\"747\" y2=\"81\"/><line x1=\"816\" y1=\"81\" x2=\"885\" y2=\"82\"/><line x1=\"885\" y1=\"82\" x2=\"954\" y2=\"82\"/><line x1=\"954\" y1=\"82\" x2=\"1024\" y2=\"83\"/><line x1=\"1024\" y1=\"83\" x2=\"1093\" y2=\"84\"/><line x1=\"1093\" y1=\"84\" x2=\"1163\" y2=\"84\"/><line x1=\"1163\" y1=\"84\" x2=\"1232\" y2=\"85\"/><line x1=\"1232\" y1=\"85\" x2=\"1301\" y2=\"85\"/><line x1=\"1371\" y1=\"85\" x2=\"1440\" y2=\"86\"/><line x1=\"1440\" y1=\"86\" x2=\"1510\" y2=\"87\"/><line x1=\"1510\" y1=\"87\" x2=\"1579\" y2=\"87\"/><line x1=\"1579\" y1=\"87\" x2=\"1648\" y2=\"87\"/><line x1=\"1648\" y1=\"87\" x2=\"1717\" y2=\"88\"/><line x1=\"1717\" y1=\"88\" x2=\"1774\" y2=\"128\"/><line x1=\"1836\" y1=\"239\" x2=\"1787\" y2=\"288\"/><line x1=\"1787\" y1=\"288\" x2=\"1738\" y2=\"337\"/><line x1=\"1738\" y1=\"337\" x2=\"1689\" y2=\"386\"/><line x1=\"1689\" y1=\"386\" x2=\"1640\" y2=\"436\"/><line x1=\"1640\" y1=\"436\" x2=\"1591\" y2=\"484\"/><line x1=\"1591\" y1=\"484\" x2=\"1542\" y2=\"534\"/><line x1=\"1542\" y1=\"534\" x2=\"1493\" y2=\"583\"/><line x1=\"1298\" y1=\"779\" x2=\"1249\" y2=\"829\"/><line x1=\"1249\" y1=\"829\" x2=\"1200\" y2=\"878\"/><line x1=\"1200\" y1=\"878\" x2=\"1151\" y2=\"927\"/><line x1=\"1035\" y1=\"957\" x2=\"1102\" y2=\"976\"/><line x1=\"1035\" y1=\"957\" x2=\"972\" y2=\"930\"/><line x1=\"972\" y1=\"930\" x2=\"908\" y2=\"903\"/><line x1=\"844\" y1=\"875\" x2=\"781\" y2=\"847\"/><line x1=\"781\" y1=\"847\" x2=\"717\" y2=\"820\"/><line x1=\"717\" y1=\"820\" x2=\"654\" y2=\"792\"/><line x1=\"654\" y1=\"792\" x2=\"590\" y2=\"765\"/><line x1=\"526\" y1=\"737\" x2=\"462\" y2=\"710\"/><line x1=\"462\" y1=\"710\" x2=\"399\" y2=\"681\"/><line x1=\"45\" y1=\"417\" x2=\"47\" y2=\"346\"/><line x1=\"45\" y1=\"417\" x2=\"43\" y2=\"486\"/><line x1=\"47\" y1=\"346\" x2=\"48\" y2=\"278\"/><line x1=\"48\" y1=\"278\" x2=\"50\" y2=\"208\"/><line x1=\"53\" y1=\"78\" x2=\"122\" y2=\"80\"/><line x1=\"1102\" y1=\"976\" x2=\"1151\" y2=\"927\"/><line x1=\"374\" y1=\"548\" x2=\"440\" y2=\"469\"/><line x1=\"374\" y1=\"548\" x2=\"335\" y2=\"654\"/><line x1=\"266\" y1=\"458\" x2=\"331\" y2=\"379\"/><line x1=\"440\" y1=\"469\" x2=\"505\" y2=\"391\"/><line x1=\"399\" y1=\"681\" x2=\"335\" y2=\"654\"/><line x1=\"335\" y1=\"654\" x2=\"272\" y2=\"626\"/><line x1=\"208\" y1=\"599\" x2=\"145\" y2=\"572\"/><line x1=\"145\" y1=\"572\" x2=\"81\" y2=\"544\"/><line x1=\"81\" y1=\"544\" x2=\"43\" y2=\"486\"/><line x1=\"1774\" y1=\"128\" x2=\"1831\" y2=\"167\"/></g><g stroke=\"darkorange\" stroke-dasharray=\"18 15\" stroke-width=\"4\" id=\"detours\" fill=\"none\"><polyline points=\"744 323 895 584 908 903\"/><polyline points=\"744 323 547 560 655 651\"/><polyline points=\"744 323 571 313 397 301\"/><polyline points=\"744 323 505 391 208 599\"/><polyline points=\"744 323 1445 633 1493 583\"/></g><g id=\"DTgrp\"><use href=\"#dt\" x=\"895\" y=\"584\"/><use href=\"#dt\" x=\"547\" y=\"560\"/><use href=\"#dt\" x=\"571\" y=\"313\"/><use href=\"#dt\" x=\"505\" y=\"391\"/><use href=\"#dt\" x=\"1445\" y=\"633\"/></g><g id=\"WTGgrp\"><g fill=\"#aec7e8\"><use href=\"#wtg\" x=\"158\" y=\"367\"/><use href=\"#wtg\" x=\"224\" y=\"288\"/><use href=\"#wtg\" x=\"397\" y=\"301\"/><use href=\"#wtg\" x=\"290\" y=\"210\"/><use href=\"#wtg\" x=\"53\" y=\"78\"/><use href=\"#wtg\" x=\"122\" y=\"80\"/><use href=\"#wtg\" x=\"266\" y=\"458\"/><use href=\"#wtg\" x=\"331\" y=\"379\"/></g><g fill=\"#1f77b4\"><use href=\"#wtg\" x=\"655\" y=\"651\"/><use href=\"#wtg\" x=\"721\" y=\"572\"/><use href=\"#wtg\" x=\"844\" y=\"875\"/><use href=\"#wtg\" x=\"781\" y=\"847\"/><use href=\"#wtg\" x=\"717\" y=\"820\"/><use href=\"#wtg\" x=\"654\" y=\"792\"/><use href=\"#wtg\" x=\"590\" y=\"765\"/></g><g fill=\"#ff7f0e\"><use href=\"#wtg\" x=\"547\" y=\"560\"/><use href=\"#wtg\" x=\"829\" y=\"663\"/><use href=\"#wtg\" x=\"613\" y=\"481\"/><use href=\"#wtg\" x=\"895\" y=\"584\"/><use href=\"#wtg\" x=\"787\" y=\"494\"/><use href=\"#wtg\" x=\"679\" y=\"403\"/></g><g fill=\"#ffbb78\"><use href=\"#wtg\" x=\"1045\" y=\"844\"/><use href=\"#wtg\" x=\"937\" y=\"753\"/><use href=\"#wtg\" x=\"1111\" y=\"765\"/><use href=\"#wtg\" x=\"1003\" y=\"675\"/><use href=\"#wtg\" x=\"1176\" y=\"687\"/><use href=\"#wtg\" x=\"1069\" y=\"596\"/><use href=\"#wtg\" x=\"961\" y=\"505\"/><use href=\"#wtg\" x=\"853\" y=\"415\"/></g><g fill=\"#c49c94\"><use href=\"#wtg\" x=\"463\" y=\"222\"/><use href=\"#wtg\" x=\"469\" y=\"79\"/><use href=\"#wtg\" x=\"538\" y=\"79\"/><use href=\"#wtg\" x=\"608\" y=\"80\"/><use href=\"#wtg\" x=\"677\" y=\"80\"/><use href=\"#wtg\" x=\"747\" y=\"81\"/><use href=\"#wtg\" x=\"571\" y=\"313\"/></g><g fill=\"#2ca02c\"><use href=\"#wtg\" x=\"1308\" y=\"529\"/><use href=\"#wtg\" x=\"1374\" y=\"451\"/><use href=\"#wtg\" x=\"1440\" y=\"373\"/><use href=\"#wtg\" x=\"1506\" y=\"294\"/><use href=\"#wtg\" x=\"1572\" y=\"216\"/><use href=\"#wtg\" x=\"1445\" y=\"633\"/></g><g fill=\"#98df8a\"><use href=\"#wtg\" x=\"1266\" y=\"361\"/><use href=\"#wtg\" x=\"1158\" y=\"270\"/><use href=\"#wtg\" x=\"1332\" y=\"282\"/><use href=\"#wtg\" x=\"1224\" y=\"192\"/><use href=\"#wtg\" x=\"1398\" y=\"204\"/></g><g fill=\"#d62728\"><use href=\"#wtg\" x=\"816\" y=\"81\"/><use href=\"#wtg\" x=\"885\" y=\"82\"/><use href=\"#wtg\" x=\"954\" y=\"82\"/><use href=\"#wtg\" x=\"1024\" y=\"83\"/><use href=\"#wtg\" x=\"1093\" y=\"84\"/><use href=\"#wtg\" x=\"1163\" y=\"84\"/><use href=\"#wtg\" x=\"1232\" y=\"85\"/><use href=\"#wtg\" x=\"1301\" y=\"85\"/></g><g fill=\"#ff9896\"><use href=\"#wtg\" x=\"1371\" y=\"85\"/><use href=\"#wtg\" x=\"1440\" y=\"86\"/><use href=\"#wtg\" x=\"1510\" y=\"87\"/><use href=\"#wtg\" x=\"1579\" y=\"87\"/><use href=\"#wtg\" x=\"1648\" y=\"87\"/><use href=\"#wtg\" x=\"1717\" y=\"88\"/><use href=\"#wtg\" x=\"1774\" y=\"128\"/><use href=\"#wtg\" x=\"1831\" y=\"167\"/></g><g fill=\"#9467bd\"><use href=\"#wtg\" x=\"1836\" y=\"239\"/><use href=\"#wtg\" x=\"1787\" y=\"288\"/><use href=\"#wtg\" x=\"1738\" y=\"337\"/><use href=\"#wtg\" x=\"1689\" y=\"386\"/><use href=\"#wtg\" x=\"1640\" y=\"436\"/><use href=\"#wtg\" x=\"1591\" y=\"484\"/><use href=\"#wtg\" x=\"1542\" y=\"534\"/><use href=\"#wtg\" x=\"1493\" y=\"583\"/></g><g fill=\"#c5b0d5\"><use href=\"#wtg\" x=\"1298\" y=\"779\"/><use href=\"#wtg\" x=\"1249\" y=\"829\"/><use href=\"#wtg\" x=\"1200\" y=\"878\"/><use href=\"#wtg\" x=\"1035\" y=\"957\"/><use href=\"#wtg\" x=\"972\" y=\"930\"/><use href=\"#wtg\" x=\"1102\" y=\"976\"/><use href=\"#wtg\" x=\"908\" y=\"903\"/><use href=\"#wtg\" x=\"1151\" y=\"927\"/></g><g fill=\"#8c564b\"><use href=\"#wtg\" x=\"526\" y=\"737\"/><use href=\"#wtg\" x=\"462\" y=\"710\"/><use href=\"#wtg\" x=\"374\" y=\"548\"/><use href=\"#wtg\" x=\"440\" y=\"469\"/><use href=\"#wtg\" x=\"505\" y=\"391\"/><use href=\"#wtg\" x=\"399\" y=\"681\"/><use href=\"#wtg\" x=\"335\" y=\"654\"/><use href=\"#wtg\" x=\"272\" y=\"626\"/></g><g fill=\"#e377c2\"><use href=\"#wtg\" x=\"45\" y=\"417\"/><use href=\"#wtg\" x=\"47\" y=\"346\"/><use href=\"#wtg\" x=\"48\" y=\"278\"/><use href=\"#wtg\" x=\"50\" y=\"208\"/><use href=\"#wtg\" x=\"208\" y=\"599\"/><use href=\"#wtg\" x=\"145\" y=\"572\"/><use href=\"#wtg\" x=\"81\" y=\"544\"/><use href=\"#wtg\" x=\"43\" y=\"486\"/></g></g><g id=\"OSSgrp\"><use href=\"#oss\" x=\"733.5\" y=\"312.5\"/></g></g><text filter=\"url(#bg_textbox)\" text-anchor=\"end\" font-family=\"sans-serif\" font-size=\"40\" fill=\"white\" x=\"1890\" y=\"998\"><tspan x=\"1890\" dy=\"-0.0em\">&#931;&#955; = 264936.0 m</tspan><tspan x=\"1890\" dy=\"-1.3em\">(+1) SS1: 13</tspan><tspan x=\"1890\" dy=\"-1.3em\">&#954; = 8, T = 95</tspan></text></svg>"
      ],
      "text/plain": [
       "<optiwindnet.api.WindFarmNetwork at 0x1a91e39d190>"
      ]
     },
     "execution_count": 14,
     "metadata": {},
     "output_type": "execute_result"
    }
   ],
   "source": [
    "wfn"
   ]
  },
  {
   "cell_type": "markdown",
   "id": "95ce79c5",
   "metadata": {
    "deletable": true,
    "editable": true,
    "frozen": false
   },
   "source": [
    "> **Note:** When calling `.optimize()` multiple times on the **same** `WindFarmNetwork` instance, the previously stored solution and related information (e.g., network graph, cost, length) will be **overwritten**.\n",
    "> You can verify this by checking the updated total length or by re-plotting the optimized network and comparing it to the earlier result."
   ]
  },
  {
   "cell_type": "markdown",
   "id": "0d00cd7e",
   "metadata": {
    "deletable": true,
    "editable": true,
    "frozen": false
   },
   "source": [
    "#### HGSRouter (fast - radial only solutions)"
   ]
  },
  {
   "cell_type": "code",
   "execution_count": 15,
   "id": "181abc1b",
   "metadata": {
    "deletable": true,
    "editable": true,
    "execution": {
     "iopub.execute_input": "2025-09-23T10:55:44.630233Z",
     "iopub.status.busy": "2025-09-23T10:55:44.629236Z",
     "iopub.status.idle": "2025-09-23T10:55:45.648740Z",
     "shell.execute_reply": "2025-09-23T10:55:45.648740Z",
     "shell.execute_reply.started": "2025-09-23T10:55:44.630233Z"
    },
    "frozen": false
   },
   "outputs": [],
   "source": [
    "res_hgs = wfn.optimize(router=hgs_router)"
   ]
  },
  {
   "cell_type": "code",
   "execution_count": 16,
   "id": "92dfde90",
   "metadata": {
    "deletable": true,
    "editable": true,
    "execution": {
     "iopub.execute_input": "2025-09-23T10:55:45.648740Z",
     "iopub.status.busy": "2025-09-23T10:55:45.648740Z",
     "iopub.status.idle": "2025-09-23T10:55:45.656387Z",
     "shell.execute_reply": "2025-09-23T10:55:45.656387Z",
     "shell.execute_reply.started": "2025-09-23T10:55:45.648740Z"
    },
    "frozen": false
   },
   "outputs": [
    {
     "data": {
      "text/plain": [
       "<optiwindnet.api.HGSRouter at 0x1a918558f50>"
      ]
     },
     "execution_count": 16,
     "metadata": {},
     "output_type": "execute_result"
    }
   ],
   "source": [
    "wfn.router"
   ]
  },
  {
   "cell_type": "code",
   "execution_count": 17,
   "id": "ecc63aca",
   "metadata": {
    "deletable": true,
    "editable": true,
    "execution": {
     "iopub.execute_input": "2025-09-23T10:55:45.656387Z",
     "iopub.status.busy": "2025-09-23T10:55:45.656387Z",
     "iopub.status.idle": "2025-09-23T10:55:45.665186Z",
     "shell.execute_reply": "2025-09-23T10:55:45.665186Z",
     "shell.execute_reply.started": "2025-09-23T10:55:45.656387Z"
    },
    "frozen": false
   },
   "outputs": [
    {
     "data": {
      "text/plain": [
       "243643.08713425565"
      ]
     },
     "execution_count": 17,
     "metadata": {},
     "output_type": "execute_result"
    }
   ],
   "source": [
    "wfn.length()"
   ]
  },
  {
   "cell_type": "code",
   "execution_count": 18,
   "id": "02a617ed",
   "metadata": {
    "deletable": true,
    "editable": true,
    "execution": {
     "iopub.execute_input": "2025-09-23T10:55:45.665186Z",
     "iopub.status.busy": "2025-09-23T10:55:45.665186Z",
     "iopub.status.idle": "2025-09-23T10:55:45.677394Z",
     "shell.execute_reply": "2025-09-23T10:55:45.676495Z",
     "shell.execute_reply.started": "2025-09-23T10:55:45.665186Z"
    },
    "frozen": false
   },
   "outputs": [
    {
     "data": {
      "image/svg+xml": [
       "<svg xmlns=\"http://www.w3.org/2000/svg\" viewBox=\"0 0 1920 1028\"><defs><circle stroke=\"none\" stroke-width=\"2\" id=\"wtg\" r=\"12\"/><rect stroke=\"#111\" stroke-width=\"2\" id=\"oss\" width=\"21\" height=\"21\" fill=\"lawngreen\"/><filter x=\"-5%\" y=\"-5%\" id=\"bg_textbox\" width=\"110%\" height=\"110%\"><feFlood flood-opacity=\"0.6\" flood-color=\"black\" result=\"bg\"/><feMerge><feMergeNode in=\"bg\"/><feMergeNode in=\"SourceGraphic\"/></feMerge></filter></defs><g id=\"doggerA\"><path stroke=\"silver\" stroke-dasharray=\"15 7\" stroke-width=\"2\" id=\"border\" d=\"M1098 998 30 535 42 30 1727 39 1890 202z\" fill-rule=\"evenodd\" fill=\"#111\"/><g stroke=\"crimson\" stroke-width=\"4\" id=\"edges_unspecified\"><line x1=\"744\" y1=\"323\" x2=\"571\" y2=\"313\"/><line x1=\"463\" y1=\"222\" x2=\"571\" y2=\"313\"/><line x1=\"397\" y1=\"301\" x2=\"463\" y2=\"222\"/><line x1=\"397\" y1=\"301\" x2=\"331\" y2=\"379\"/><line x1=\"266\" y1=\"458\" x2=\"331\" y2=\"379\"/><line x1=\"158\" y1=\"367\" x2=\"266\" y2=\"458\"/><line x1=\"158\" y1=\"367\" x2=\"47\" y2=\"346\"/><line x1=\"47\" y1=\"346\" x2=\"48\" y2=\"278\"/><line x1=\"744\" y1=\"323\" x2=\"787\" y2=\"494\"/><line x1=\"744\" y1=\"323\" x2=\"677\" y2=\"80\"/><line x1=\"744\" y1=\"323\" x2=\"853\" y2=\"415\"/><line x1=\"744\" y1=\"323\" x2=\"679\" y2=\"403\"/><line x1=\"744\" y1=\"323\" x2=\"608\" y2=\"80\"/><line x1=\"744\" y1=\"323\" x2=\"1158\" y2=\"270\"/><line x1=\"744\" y1=\"323\" x2=\"1266\" y2=\"361\"/><line x1=\"744\" y1=\"323\" x2=\"721\" y2=\"572\"/><line x1=\"744\" y1=\"323\" x2=\"1332\" y2=\"282\"/><line x1=\"744\" y1=\"323\" x2=\"961\" y2=\"505\"/><line x1=\"744\" y1=\"323\" x2=\"505\" y2=\"391\"/><line x1=\"440\" y1=\"469\" x2=\"505\" y2=\"391\"/><line x1=\"374\" y1=\"548\" x2=\"440\" y2=\"469\"/><line x1=\"374\" y1=\"548\" x2=\"208\" y2=\"599\"/><line x1=\"208\" y1=\"599\" x2=\"145\" y2=\"572\"/><line x1=\"145\" y1=\"572\" x2=\"81\" y2=\"544\"/><line x1=\"81\" y1=\"544\" x2=\"43\" y2=\"486\"/><line x1=\"45\" y1=\"417\" x2=\"43\" y2=\"486\"/><line x1=\"613\" y1=\"481\" x2=\"679\" y2=\"403\"/><line x1=\"547\" y1=\"560\" x2=\"613\" y2=\"481\"/><line x1=\"547\" y1=\"560\" x2=\"526\" y2=\"737\"/><line x1=\"526\" y1=\"737\" x2=\"462\" y2=\"710\"/><line x1=\"462\" y1=\"710\" x2=\"399\" y2=\"681\"/><line x1=\"399\" y1=\"681\" x2=\"335\" y2=\"654\"/><line x1=\"335\" y1=\"654\" x2=\"272\" y2=\"626\"/><line x1=\"655\" y1=\"651\" x2=\"721\" y2=\"572\"/><line x1=\"655\" y1=\"651\" x2=\"590\" y2=\"765\"/><line x1=\"654\" y1=\"792\" x2=\"590\" y2=\"765\"/><line x1=\"717\" y1=\"820\" x2=\"654\" y2=\"792\"/><line x1=\"781\" y1=\"847\" x2=\"717\" y2=\"820\"/><line x1=\"844\" y1=\"875\" x2=\"781\" y2=\"847\"/><line x1=\"844\" y1=\"875\" x2=\"908\" y2=\"903\"/><line x1=\"829\" y1=\"663\" x2=\"787\" y2=\"494\"/><line x1=\"937\" y1=\"753\" x2=\"829\" y2=\"663\"/><line x1=\"1045\" y1=\"844\" x2=\"937\" y2=\"753\"/><line x1=\"1045\" y1=\"844\" x2=\"972\" y2=\"930\"/><line x1=\"1035\" y1=\"957\" x2=\"972\" y2=\"930\"/><line x1=\"1035\" y1=\"957\" x2=\"1102\" y2=\"976\"/><line x1=\"1102\" y1=\"976\" x2=\"1151\" y2=\"927\"/><line x1=\"895\" y1=\"584\" x2=\"853\" y2=\"415\"/><line x1=\"1003\" y1=\"675\" x2=\"895\" y2=\"584\"/><line x1=\"1111\" y1=\"765\" x2=\"1003\" y2=\"675\"/><line x1=\"1111\" y1=\"765\" x2=\"1200\" y2=\"878\"/><line x1=\"1249\" y1=\"829\" x2=\"1200\" y2=\"878\"/><line x1=\"1298\" y1=\"779\" x2=\"1249\" y2=\"829\"/><line x1=\"1069\" y1=\"596\" x2=\"961\" y2=\"505\"/><line x1=\"1176\" y1=\"687\" x2=\"1069\" y2=\"596\"/><line x1=\"1176\" y1=\"687\" x2=\"1308\" y2=\"529\"/><line x1=\"1308\" y1=\"529\" x2=\"1445\" y2=\"633\"/><line x1=\"1493\" y1=\"583\" x2=\"1445\" y2=\"633\"/><line x1=\"1542\" y1=\"534\" x2=\"1493\" y2=\"583\"/><line x1=\"1591\" y1=\"484\" x2=\"1542\" y2=\"534\"/><line x1=\"1374\" y1=\"451\" x2=\"1266\" y2=\"361\"/><line x1=\"1374\" y1=\"451\" x2=\"1440\" y2=\"373\"/><line x1=\"1440\" y1=\"373\" x2=\"1640\" y2=\"436\"/><line x1=\"1689\" y1=\"386\" x2=\"1640\" y2=\"436\"/><line x1=\"1738\" y1=\"337\" x2=\"1689\" y2=\"386\"/><line x1=\"1787\" y1=\"288\" x2=\"1738\" y2=\"337\"/><line x1=\"1836\" y1=\"239\" x2=\"1787\" y2=\"288\"/><line x1=\"1332\" y1=\"282\" x2=\"1398\" y2=\"204\"/><line x1=\"1506\" y1=\"294\" x2=\"1398\" y2=\"204\"/><line x1=\"1506\" y1=\"294\" x2=\"1572\" y2=\"216\"/><line x1=\"1572\" y1=\"216\" x2=\"1648\" y2=\"87\"/><line x1=\"1648\" y1=\"87\" x2=\"1717\" y2=\"88\"/><line x1=\"1717\" y1=\"88\" x2=\"1774\" y2=\"128\"/><line x1=\"1774\" y1=\"128\" x2=\"1831\" y2=\"167\"/><line x1=\"1158\" y1=\"270\" x2=\"1224\" y2=\"192\"/><line x1=\"1224\" y1=\"192\" x2=\"1232\" y2=\"85\"/><line x1=\"1232\" y1=\"85\" x2=\"1301\" y2=\"85\"/><line x1=\"1301\" y1=\"85\" x2=\"1371\" y2=\"85\"/><line x1=\"1371\" y1=\"85\" x2=\"1440\" y2=\"86\"/><line x1=\"1440\" y1=\"86\" x2=\"1510\" y2=\"87\"/><line x1=\"1510\" y1=\"87\" x2=\"1579\" y2=\"87\"/><line x1=\"677\" y1=\"80\" x2=\"747\" y2=\"81\"/><line x1=\"747\" y1=\"81\" x2=\"816\" y2=\"81\"/><line x1=\"816\" y1=\"81\" x2=\"885\" y2=\"82\"/><line x1=\"885\" y1=\"82\" x2=\"954\" y2=\"82\"/><line x1=\"954\" y1=\"82\" x2=\"1024\" y2=\"83\"/><line x1=\"1024\" y1=\"83\" x2=\"1093\" y2=\"84\"/><line x1=\"1093\" y1=\"84\" x2=\"1163\" y2=\"84\"/><line x1=\"538\" y1=\"79\" x2=\"608\" y2=\"80\"/><line x1=\"469\" y1=\"79\" x2=\"538\" y2=\"79\"/><line x1=\"290\" y1=\"210\" x2=\"469\" y2=\"79\"/><line x1=\"224\" y1=\"288\" x2=\"290\" y2=\"210\"/><line x1=\"224\" y1=\"288\" x2=\"50\" y2=\"208\"/><line x1=\"50\" y1=\"208\" x2=\"53\" y2=\"78\"/><line x1=\"53\" y1=\"78\" x2=\"122\" y2=\"80\"/></g><g id=\"WTGgrp\"><g fill=\"#1f77b4\"><use href=\"#wtg\" x=\"571\" y=\"313\"/><use href=\"#wtg\" x=\"463\" y=\"222\"/><use href=\"#wtg\" x=\"397\" y=\"301\"/><use href=\"#wtg\" x=\"331\" y=\"379\"/><use href=\"#wtg\" x=\"266\" y=\"458\"/><use href=\"#wtg\" x=\"158\" y=\"367\"/><use href=\"#wtg\" x=\"47\" y=\"346\"/><use href=\"#wtg\" x=\"48\" y=\"278\"/></g><g fill=\"#aec7e8\"><use href=\"#wtg\" x=\"505\" y=\"391\"/><use href=\"#wtg\" x=\"440\" y=\"469\"/><use href=\"#wtg\" x=\"374\" y=\"548\"/><use href=\"#wtg\" x=\"208\" y=\"599\"/><use href=\"#wtg\" x=\"145\" y=\"572\"/><use href=\"#wtg\" x=\"81\" y=\"544\"/><use href=\"#wtg\" x=\"43\" y=\"486\"/><use href=\"#wtg\" x=\"45\" y=\"417\"/></g><g fill=\"#ff7f0e\"><use href=\"#wtg\" x=\"679\" y=\"403\"/><use href=\"#wtg\" x=\"613\" y=\"481\"/><use href=\"#wtg\" x=\"547\" y=\"560\"/><use href=\"#wtg\" x=\"526\" y=\"737\"/><use href=\"#wtg\" x=\"462\" y=\"710\"/><use href=\"#wtg\" x=\"399\" y=\"681\"/><use href=\"#wtg\" x=\"335\" y=\"654\"/><use href=\"#wtg\" x=\"272\" y=\"626\"/></g><g fill=\"#ffbb78\"><use href=\"#wtg\" x=\"721\" y=\"572\"/><use href=\"#wtg\" x=\"655\" y=\"651\"/><use href=\"#wtg\" x=\"590\" y=\"765\"/><use href=\"#wtg\" x=\"654\" y=\"792\"/><use href=\"#wtg\" x=\"717\" y=\"820\"/><use href=\"#wtg\" x=\"781\" y=\"847\"/><use href=\"#wtg\" x=\"844\" y=\"875\"/><use href=\"#wtg\" x=\"908\" y=\"903\"/></g><g fill=\"#2ca02c\"><use href=\"#wtg\" x=\"787\" y=\"494\"/><use href=\"#wtg\" x=\"829\" y=\"663\"/><use href=\"#wtg\" x=\"937\" y=\"753\"/><use href=\"#wtg\" x=\"1045\" y=\"844\"/><use href=\"#wtg\" x=\"972\" y=\"930\"/><use href=\"#wtg\" x=\"1035\" y=\"957\"/><use href=\"#wtg\" x=\"1102\" y=\"976\"/><use href=\"#wtg\" x=\"1151\" y=\"927\"/></g><g fill=\"#98df8a\"><use href=\"#wtg\" x=\"853\" y=\"415\"/><use href=\"#wtg\" x=\"895\" y=\"584\"/><use href=\"#wtg\" x=\"1003\" y=\"675\"/><use href=\"#wtg\" x=\"1111\" y=\"765\"/><use href=\"#wtg\" x=\"1200\" y=\"878\"/><use href=\"#wtg\" x=\"1249\" y=\"829\"/><use href=\"#wtg\" x=\"1298\" y=\"779\"/></g><g fill=\"#d62728\"><use href=\"#wtg\" x=\"961\" y=\"505\"/><use href=\"#wtg\" x=\"1069\" y=\"596\"/><use href=\"#wtg\" x=\"1176\" y=\"687\"/><use href=\"#wtg\" x=\"1308\" y=\"529\"/><use href=\"#wtg\" x=\"1445\" y=\"633\"/><use href=\"#wtg\" x=\"1493\" y=\"583\"/><use href=\"#wtg\" x=\"1542\" y=\"534\"/><use href=\"#wtg\" x=\"1591\" y=\"484\"/></g><g fill=\"#ff9896\"><use href=\"#wtg\" x=\"1266\" y=\"361\"/><use href=\"#wtg\" x=\"1374\" y=\"451\"/><use href=\"#wtg\" x=\"1440\" y=\"373\"/><use href=\"#wtg\" x=\"1640\" y=\"436\"/><use href=\"#wtg\" x=\"1689\" y=\"386\"/><use href=\"#wtg\" x=\"1738\" y=\"337\"/><use href=\"#wtg\" x=\"1787\" y=\"288\"/><use href=\"#wtg\" x=\"1836\" y=\"239\"/></g><g fill=\"#9467bd\"><use href=\"#wtg\" x=\"1332\" y=\"282\"/><use href=\"#wtg\" x=\"1398\" y=\"204\"/><use href=\"#wtg\" x=\"1506\" y=\"294\"/><use href=\"#wtg\" x=\"1572\" y=\"216\"/><use href=\"#wtg\" x=\"1648\" y=\"87\"/><use href=\"#wtg\" x=\"1717\" y=\"88\"/><use href=\"#wtg\" x=\"1774\" y=\"128\"/><use href=\"#wtg\" x=\"1831\" y=\"167\"/></g><g fill=\"#c5b0d5\"><use href=\"#wtg\" x=\"1158\" y=\"270\"/><use href=\"#wtg\" x=\"1224\" y=\"192\"/><use href=\"#wtg\" x=\"1232\" y=\"85\"/><use href=\"#wtg\" x=\"1301\" y=\"85\"/><use href=\"#wtg\" x=\"1371\" y=\"85\"/><use href=\"#wtg\" x=\"1440\" y=\"86\"/><use href=\"#wtg\" x=\"1510\" y=\"87\"/><use href=\"#wtg\" x=\"1579\" y=\"87\"/></g><g fill=\"#8c564b\"><use href=\"#wtg\" x=\"677\" y=\"80\"/><use href=\"#wtg\" x=\"747\" y=\"81\"/><use href=\"#wtg\" x=\"816\" y=\"81\"/><use href=\"#wtg\" x=\"885\" y=\"82\"/><use href=\"#wtg\" x=\"954\" y=\"82\"/><use href=\"#wtg\" x=\"1024\" y=\"83\"/><use href=\"#wtg\" x=\"1093\" y=\"84\"/><use href=\"#wtg\" x=\"1163\" y=\"84\"/></g><g fill=\"#c49c94\"><use href=\"#wtg\" x=\"608\" y=\"80\"/><use href=\"#wtg\" x=\"538\" y=\"79\"/><use href=\"#wtg\" x=\"469\" y=\"79\"/><use href=\"#wtg\" x=\"290\" y=\"210\"/><use href=\"#wtg\" x=\"224\" y=\"288\"/><use href=\"#wtg\" x=\"50\" y=\"208\"/><use href=\"#wtg\" x=\"53\" y=\"78\"/><use href=\"#wtg\" x=\"122\" y=\"80\"/></g></g><g id=\"OSSgrp\"><use href=\"#oss\" x=\"733.5\" y=\"312.5\"/></g></g><text filter=\"url(#bg_textbox)\" text-anchor=\"end\" font-family=\"sans-serif\" font-size=\"40\" fill=\"white\" x=\"1890\" y=\"998\"><tspan x=\"1890\" dy=\"-0.0em\">&#931;&#955; = 243643.0 m</tspan><tspan x=\"1890\" dy=\"-1.3em\">(+0) SS1: 12</tspan><tspan x=\"1890\" dy=\"-1.3em\">&#954; = 8, T = 95</tspan></text></svg>"
      ],
      "text/plain": [
       "<optiwindnet.api.WindFarmNetwork at 0x1a91e39d190>"
      ]
     },
     "execution_count": 18,
     "metadata": {},
     "output_type": "execute_result"
    }
   ],
   "source": [
    "wfn"
   ]
  },
  {
   "cell_type": "markdown",
   "id": "454c5969",
   "metadata": {
    "deletable": true,
    "editable": true,
    "frozen": false
   },
   "source": [
    "> Note that the HGSRouter always produces a network with **radial topology**.\n",
    ">\n",
    "> A **radial topology** means that each turbine is has at most two connections (maximum degree of 2). Constrast that with the default **branched topology**, where there is no limit on the number of connections of each turbine. See the figure below for an illustrative example."
   ]
  },
  {
   "cell_type": "code",
   "execution_count": 19,
   "id": "0251de67-d621-4087-ba09-08d1dfaaeab5",
   "metadata": {
    "editable": true,
    "execution": {
     "iopub.execute_input": "2025-09-23T10:55:45.677847Z",
     "iopub.status.busy": "2025-09-23T10:55:45.677847Z",
     "iopub.status.idle": "2025-09-23T10:55:45.684131Z",
     "shell.execute_reply": "2025-09-23T10:55:45.684131Z",
     "shell.execute_reply.started": "2025-09-23T10:55:45.677847Z"
    },
    "frozen": false
   },
   "outputs": [],
   "source": [
    "from optiwindnet.synthetic import toyfarm\n",
    "from optiwindnet.api import ModelOptions"
   ]
  },
  {
   "cell_type": "code",
   "execution_count": 27,
   "id": "78b2a511-03a4-444c-aa4c-3840df2ecbb5",
   "metadata": {
    "editable": true,
    "execution": {
     "iopub.execute_input": "2025-09-23T10:58:48.177264Z",
     "iopub.status.busy": "2025-09-23T10:58:48.177264Z",
     "iopub.status.idle": "2025-09-23T10:58:48.524320Z",
     "shell.execute_reply": "2025-09-23T10:58:48.524320Z",
     "shell.execute_reply.started": "2025-09-23T10:58:48.177264Z"
    },
    "frozen": false
   },
   "outputs": [
    {
     "data": {
      "image/svg+xml": [
       "<?xml version=\"1.0\" encoding=\"utf-8\" standalone=\"no\"?>\n",
       "<!DOCTYPE svg PUBLIC \"-//W3C//DTD SVG 1.1//EN\"\n",
       "  \"http://www.w3.org/Graphics/SVG/1.1/DTD/svg11.dtd\">\n",
       "<svg xmlns:xlink=\"http://www.w3.org/1999/xlink\" width=\"371.52pt\" height=\"233.756485pt\" viewBox=\"0 0 371.52 233.756485\" xmlns=\"http://www.w3.org/2000/svg\" version=\"1.1\">\n",
       " <metadata>\n",
       "  <rdf:RDF xmlns:dc=\"http://purl.org/dc/elements/1.1/\" xmlns:cc=\"http://creativecommons.org/ns#\" xmlns:rdf=\"http://www.w3.org/1999/02/22-rdf-syntax-ns#\">\n",
       "   <cc:Work>\n",
       "    <dc:type rdf:resource=\"http://purl.org/dc/dcmitype/StillImage\"/>\n",
       "    <dc:date>2025-09-23T12:58:48.510119</dc:date>\n",
       "    <dc:format>image/svg+xml</dc:format>\n",
       "    <dc:creator>\n",
       "     <cc:Agent>\n",
       "      <dc:title>Matplotlib v3.10.6, https://matplotlib.org/</dc:title>\n",
       "     </cc:Agent>\n",
       "    </dc:creator>\n",
       "   </cc:Work>\n",
       "  </rdf:RDF>\n",
       " </metadata>\n",
       " <defs>\n",
       "  <style type=\"text/css\">*{stroke-linejoin: round; stroke-linecap: butt}</style>\n",
       " </defs>\n",
       " <g id=\"figure_1\">\n",
       "  <g id=\"patch_1\">\n",
       "   <path d=\"M 0 233.756485 \n",
       "L 371.52 233.756485 \n",
       "L 371.52 0 \n",
       "L 0 0 \n",
       "L 0 233.756485 \n",
       "z\n",
       "\" style=\"fill: none\"/>\n",
       "  </g>\n",
       "  <g id=\"axes_1\">\n",
       "   <g id=\"patch_2\">\n",
       "    <path d=\"M 74.803731 32.520851 \n",
       "L 56.598736 89.294159 \n",
       "L 35.390856 139.498654 \n",
       "L 15.309058 187.169464 \n",
       "L 60.446184 216.353759 \n",
       "L 116.56261 198.148765 \n",
       "L 136.550568 148.601151 \n",
       "L 161.418215 106.373071 \n",
       "L 135.799846 72.590607 \n",
       "z\n",
       "\" clip-path=\"url(#pd7a11e372a)\" style=\"fill: #111111; stroke-dasharray: 2.59,1.12; stroke-dashoffset: 0; stroke: #c0c0c0; stroke-width: 0.7; stroke-linejoin: miter\"/>\n",
       "   </g>\n",
       "   <g id=\"LineCollection_1\">\n",
       "    <path d=\"M 74.803731 32.520851 \n",
       "L 96.011611 72.965968 \n",
       "\" clip-path=\"url(#pd7a11e372a)\" style=\"fill: none; stroke: #dc143c; stroke-linecap: round\"/>\n",
       "    <path d=\"M 96.011611 72.965968 \n",
       "L 56.598736 89.294159 \n",
       "\" clip-path=\"url(#pd7a11e372a)\" style=\"fill: none; stroke: #dc143c; stroke-linecap: round\"/>\n",
       "    <path d=\"M 56.598736 89.294159 \n",
       "L 35.390856 139.498654 \n",
       "\" clip-path=\"url(#pd7a11e372a)\" style=\"fill: none; stroke: #dc143c; stroke-linecap: round\"/>\n",
       "    <path d=\"M 35.390856 139.498654 \n",
       "L 70.205562 125.704148 \n",
       "\" clip-path=\"url(#pd7a11e372a)\" style=\"fill: none; stroke: #dc143c; stroke-linecap: round\"/>\n",
       "    <path d=\"M 135.799846 72.590607 \n",
       "L 161.418215 106.373071 \n",
       "\" clip-path=\"url(#pd7a11e372a)\" style=\"fill: none; stroke: #dc143c; stroke-linecap: round\"/>\n",
       "    <path d=\"M 161.418215 106.373071 \n",
       "L 136.550568 148.601151 \n",
       "\" clip-path=\"url(#pd7a11e372a)\" style=\"fill: none; stroke: #dc143c; stroke-linecap: round\"/>\n",
       "    <path d=\"M 136.550568 148.601151 \n",
       "L 105.020268 115.475568 \n",
       "\" clip-path=\"url(#pd7a11e372a)\" style=\"fill: none; stroke: #dc143c; stroke-linecap: round\"/>\n",
       "    <path d=\"M 15.309058 187.169464 \n",
       "L 60.446184 216.353759 \n",
       "\" clip-path=\"url(#pd7a11e372a)\" style=\"fill: none; stroke: #dc143c; stroke-linecap: round\"/>\n",
       "    <path d=\"M 60.446184 216.353759 \n",
       "L 116.56261 198.148765 \n",
       "\" clip-path=\"url(#pd7a11e372a)\" style=\"fill: none; stroke: #dc143c; stroke-linecap: round\"/>\n",
       "    <path d=\"M 116.56261 198.148765 \n",
       "L 78.651178 170.278232 \n",
       "\" clip-path=\"url(#pd7a11e372a)\" style=\"fill: none; stroke: #dc143c; stroke-linecap: round\"/>\n",
       "    <path d=\"M 105.020268 115.475568 \n",
       "L 70.205562 125.704148 \n",
       "\" clip-path=\"url(#pd7a11e372a)\" style=\"fill: none; stroke: #dc143c; stroke-linecap: round\"/>\n",
       "    <path d=\"M 78.651178 170.278232 \n",
       "L 70.205562 125.704148 \n",
       "\" clip-path=\"url(#pd7a11e372a)\" style=\"fill: none; stroke: #dc143c; stroke-linecap: round\"/>\n",
       "   </g>\n",
       "   <g id=\"PathCollection_1\">\n",
       "    <defs>\n",
       "     <path id=\"mad6bec9da6\" d=\"M -2.95804 2.95804 \n",
       "L 2.95804 2.95804 \n",
       "L 2.95804 -2.95804 \n",
       "L -2.95804 -2.95804 \n",
       "z\n",
       "\" style=\"stroke: #111111; stroke-width: 0.3\"/>\n",
       "    </defs>\n",
       "    <g>\n",
       "     <use xlink:href=\"#mad6bec9da6\" x=\"70.205562\" y=\"125.704148\" style=\"fill: #7cfc00; stroke: #111111; stroke-width: 0.3\"/>\n",
       "    </g>\n",
       "   </g>\n",
       "   <g id=\"PathCollection_2\">\n",
       "    <defs>\n",
       "     <path id=\"C0_0_d7753f2e98\" d=\"M 0 2.95804 \n",
       "C 0.784481 2.95804 1.536938 2.646362 2.09165 2.09165 \n",
       "C 2.646362 1.536938 2.95804 0.784481 2.95804 -0 \n",
       "C 2.95804 -0.784481 2.646362 -1.536938 2.09165 -2.09165 \n",
       "C 1.536938 -2.646362 0.784481 -2.95804 0 -2.95804 \n",
       "C -0.784481 -2.95804 -1.536938 -2.646362 -2.09165 -2.09165 \n",
       "C -2.646362 -1.536938 -2.95804 -0.784481 -2.95804 0 \n",
       "C -2.95804 0.784481 -2.646362 1.536938 -2.09165 2.09165 \n",
       "C -1.536938 2.646362 -0.784481 2.95804 0 2.95804 \n",
       "z\n",
       "\"/>\n",
       "    </defs>\n",
       "    <use xlink:href=\"#C0_0_d7753f2e98\" x=\"74.803731\" y=\"32.520851\" style=\"fill: #1f77b4\"/>\n",
       "    <use xlink:href=\"#C0_0_d7753f2e98\" x=\"56.598736\" y=\"89.294159\" style=\"fill: #1f77b4\"/>\n",
       "    <use xlink:href=\"#C0_0_d7753f2e98\" x=\"96.011611\" y=\"72.965968\" style=\"fill: #1f77b4\"/>\n",
       "    <use xlink:href=\"#C0_0_d7753f2e98\" x=\"135.799846\" y=\"72.590607\" style=\"fill: #aec7e8\"/>\n",
       "    <use xlink:href=\"#C0_0_d7753f2e98\" x=\"35.390856\" y=\"139.498654\" style=\"fill: #1f77b4\"/>\n",
       "    <use xlink:href=\"#C0_0_d7753f2e98\" x=\"105.020268\" y=\"115.475568\" style=\"fill: #aec7e8\"/>\n",
       "    <use xlink:href=\"#C0_0_d7753f2e98\" x=\"161.418215\" y=\"106.373071\" style=\"fill: #aec7e8\"/>\n",
       "    <use xlink:href=\"#C0_0_d7753f2e98\" x=\"15.309058\" y=\"187.169464\" style=\"fill: #ff7f0e\"/>\n",
       "    <use xlink:href=\"#C0_0_d7753f2e98\" x=\"78.651178\" y=\"170.278232\" style=\"fill: #ff7f0e\"/>\n",
       "    <use xlink:href=\"#C0_0_d7753f2e98\" x=\"136.550568\" y=\"148.601151\" style=\"fill: #aec7e8\"/>\n",
       "    <use xlink:href=\"#C0_0_d7753f2e98\" x=\"60.446184\" y=\"216.353759\" style=\"fill: #ff7f0e\"/>\n",
       "    <use xlink:href=\"#C0_0_d7753f2e98\" x=\"116.56261\" y=\"198.148765\" style=\"fill: #ff7f0e\"/>\n",
       "   </g>\n",
       "   <g id=\"text_1\">\n",
       "    <text style=\"font-size: 12px; font-family: 'DejaVu Sans', 'Bitstream Vera Sans', 'Computer Modern Sans Serif', 'Lucida Grande', 'Verdana', 'Geneva', 'Lucid', 'Arial', 'Helvetica', 'Avant Garde', sans-serif; text-anchor: middle; fill: #888888\" x=\"88.363636\" y=\"16.318125\" transform=\"rotate(-0 88.363636 16.318125)\">Radial</text>\n",
       "   </g>\n",
       "  </g>\n",
       "  <g id=\"axes_2\">\n",
       "   <g id=\"patch_3\">\n",
       "    <path d=\"M 269.596458 32.520851 \n",
       "L 251.391464 89.294159 \n",
       "L 230.183583 139.498654 \n",
       "L 210.101785 187.169464 \n",
       "L 255.238911 216.353759 \n",
       "L 311.355337 198.148765 \n",
       "L 331.343295 148.601151 \n",
       "L 356.210942 106.373071 \n",
       "L 330.592573 72.590607 \n",
       "z\n",
       "\" clip-path=\"url(#pdca87dfb9c)\" style=\"fill: #111111; stroke-dasharray: 2.59,1.12; stroke-dashoffset: 0; stroke: #c0c0c0; stroke-width: 0.7; stroke-linejoin: miter\"/>\n",
       "   </g>\n",
       "   <g id=\"LineCollection_2\">\n",
       "    <path d=\"M 269.596458 32.520851 \n",
       "L 290.804338 72.965968 \n",
       "\" clip-path=\"url(#pdca87dfb9c)\" style=\"fill: none; stroke: #dc143c; stroke-linecap: round\"/>\n",
       "    <path d=\"M 290.804338 72.965968 \n",
       "L 251.391464 89.294159 \n",
       "\" clip-path=\"url(#pdca87dfb9c)\" style=\"fill: none; stroke: #dc143c; stroke-linecap: round\"/>\n",
       "    <path d=\"M 290.804338 72.965968 \n",
       "L 330.592573 72.590607 \n",
       "\" clip-path=\"url(#pdca87dfb9c)\" style=\"fill: none; stroke: #dc143c; stroke-linecap: round\"/>\n",
       "    <path d=\"M 356.210942 106.373071 \n",
       "L 331.343295 148.601151 \n",
       "\" clip-path=\"url(#pdca87dfb9c)\" style=\"fill: none; stroke: #dc143c; stroke-linecap: round\"/>\n",
       "    <path d=\"M 331.343295 148.601151 \n",
       "L 299.812995 115.475568 \n",
       "\" clip-path=\"url(#pdca87dfb9c)\" style=\"fill: none; stroke: #dc143c; stroke-linecap: round\"/>\n",
       "    <path d=\"M 331.343295 148.601151 \n",
       "L 311.355337 198.148765 \n",
       "\" clip-path=\"url(#pdca87dfb9c)\" style=\"fill: none; stroke: #dc143c; stroke-linecap: round\"/>\n",
       "    <path d=\"M 251.391464 89.294159 \n",
       "L 264.998289 125.704148 \n",
       "\" clip-path=\"url(#pdca87dfb9c)\" style=\"fill: none; stroke: #dc143c; stroke-linecap: round\"/>\n",
       "    <path d=\"M 273.443905 170.278232 \n",
       "L 230.183583 139.498654 \n",
       "\" clip-path=\"url(#pdca87dfb9c)\" style=\"fill: none; stroke: #dc143c; stroke-linecap: round\"/>\n",
       "    <path d=\"M 273.443905 170.278232 \n",
       "L 255.238911 216.353759 \n",
       "\" clip-path=\"url(#pdca87dfb9c)\" style=\"fill: none; stroke: #dc143c; stroke-linecap: round\"/>\n",
       "    <path d=\"M 230.183583 139.498654 \n",
       "L 264.998289 125.704148 \n",
       "\" clip-path=\"url(#pdca87dfb9c)\" style=\"fill: none; stroke: #dc143c; stroke-linecap: round\"/>\n",
       "    <path d=\"M 230.183583 139.498654 \n",
       "L 210.101785 187.169464 \n",
       "\" clip-path=\"url(#pdca87dfb9c)\" style=\"fill: none; stroke: #dc143c; stroke-linecap: round\"/>\n",
       "    <path d=\"M 299.812995 115.475568 \n",
       "L 264.998289 125.704148 \n",
       "\" clip-path=\"url(#pdca87dfb9c)\" style=\"fill: none; stroke: #dc143c; stroke-linecap: round\"/>\n",
       "   </g>\n",
       "   <g id=\"PathCollection_3\">\n",
       "    <g>\n",
       "     <use xlink:href=\"#mad6bec9da6\" x=\"264.998289\" y=\"125.704148\" style=\"fill: #7cfc00; stroke: #111111; stroke-width: 0.3\"/>\n",
       "    </g>\n",
       "   </g>\n",
       "   <g id=\"PathCollection_4\">\n",
       "    <defs>\n",
       "     <path id=\"C1_0_12df551021\" d=\"M 0 2.95804 \n",
       "C 0.784481 2.95804 1.536938 2.646362 2.09165 2.09165 \n",
       "C 2.646362 1.536938 2.95804 0.784481 2.95804 -0 \n",
       "C 2.95804 -0.784481 2.646362 -1.536938 2.09165 -2.09165 \n",
       "C 1.536938 -2.646362 0.784481 -2.95804 0 -2.95804 \n",
       "C -0.784481 -2.95804 -1.536938 -2.646362 -2.09165 -2.09165 \n",
       "C -2.646362 -1.536938 -2.95804 -0.784481 -2.95804 0 \n",
       "C -2.95804 0.784481 -2.646362 1.536938 -2.09165 2.09165 \n",
       "C -1.536938 2.646362 -0.784481 2.95804 0 2.95804 \n",
       "z\n",
       "\"/>\n",
       "    </defs>\n",
       "    <use xlink:href=\"#C1_0_12df551021\" x=\"269.596458\" y=\"32.520851\" style=\"fill: #1f77b4\"/>\n",
       "    <use xlink:href=\"#C1_0_12df551021\" x=\"251.391464\" y=\"89.294159\" style=\"fill: #1f77b4\"/>\n",
       "    <use xlink:href=\"#C1_0_12df551021\" x=\"290.804338\" y=\"72.965968\" style=\"fill: #1f77b4\"/>\n",
       "    <use xlink:href=\"#C1_0_12df551021\" x=\"330.592573\" y=\"72.590607\" style=\"fill: #1f77b4\"/>\n",
       "    <use xlink:href=\"#C1_0_12df551021\" x=\"230.183583\" y=\"139.498654\" style=\"fill: #aec7e8\"/>\n",
       "    <use xlink:href=\"#C1_0_12df551021\" x=\"299.812995\" y=\"115.475568\" style=\"fill: #ff7f0e\"/>\n",
       "    <use xlink:href=\"#C1_0_12df551021\" x=\"356.210942\" y=\"106.373071\" style=\"fill: #ff7f0e\"/>\n",
       "    <use xlink:href=\"#C1_0_12df551021\" x=\"210.101785\" y=\"187.169464\" style=\"fill: #aec7e8\"/>\n",
       "    <use xlink:href=\"#C1_0_12df551021\" x=\"273.443905\" y=\"170.278232\" style=\"fill: #aec7e8\"/>\n",
       "    <use xlink:href=\"#C1_0_12df551021\" x=\"331.343295\" y=\"148.601151\" style=\"fill: #ff7f0e\"/>\n",
       "    <use xlink:href=\"#C1_0_12df551021\" x=\"255.238911\" y=\"216.353759\" style=\"fill: #aec7e8\"/>\n",
       "    <use xlink:href=\"#C1_0_12df551021\" x=\"311.355337\" y=\"198.148765\" style=\"fill: #ff7f0e\"/>\n",
       "   </g>\n",
       "   <g id=\"text_2\">\n",
       "    <text style=\"font-size: 12px; font-family: 'DejaVu Sans', 'Bitstream Vera Sans', 'Computer Modern Sans Serif', 'Lucida Grande', 'Verdana', 'Geneva', 'Lucid', 'Arial', 'Helvetica', 'Avant Garde', sans-serif; text-anchor: middle; fill: #888888\" x=\"283.156364\" y=\"16.318125\" transform=\"rotate(-0 283.156364 16.318125)\">Branched</text>\n",
       "   </g>\n",
       "  </g>\n",
       " </g>\n",
       " <defs>\n",
       "  <clipPath id=\"pd7a11e372a\">\n",
       "   <rect x=\"7.2\" y=\"22.318125\" width=\"162.327273\" height=\"204.23836\"/>\n",
       "  </clipPath>\n",
       "  <clipPath id=\"pdca87dfb9c\">\n",
       "   <rect x=\"201.992727\" y=\"22.318125\" width=\"162.327273\" height=\"204.23836\"/>\n",
       "  </clipPath>\n",
       " </defs>\n",
       "</svg>\n"
      ],
      "text/plain": [
       "<Figure size 640x480 with 2 Axes>"
      ]
     },
     "metadata": {},
     "output_type": "display_data"
    }
   ],
   "source": [
    "fig, (axl, axr) = plt.subplots(1, 2, facecolor='none')\n",
    "\n",
    "wfn = WindFarmNetwork(L=toyfarm(), cables=4)\n",
    "opt_milp = dict(mip_gap=0.001, time_limit=5, solver_name='ortools')\n",
    "\n",
    "axl.set_title('Radial', color='#888888')\n",
    "wfn.optimize(\n",
    "    router=MILPRouter(**opt_milp,\n",
    "                      model_options=ModelOptions(topology='radial', feeder_limit='minimum'))\n",
    ")\n",
    "wfn.plot(ax=axl, infobox=False)\n",
    "\n",
    "axr.set_title('Branched', color='#888888');\n",
    "wfn.optimize(\n",
    "    router=MILPRouter(**opt_milp,\n",
    "                      model_options=ModelOptions(topology='branched', feeder_limit='minimum'))\n",
    ")\n",
    "wfn.plot(ax=axr, infobox=False);"
   ]
  },
  {
   "cell_type": "markdown",
   "id": "fb0f3edb",
   "metadata": {
    "deletable": true,
    "editable": true,
    "frozen": false
   },
   "source": [
    "#### MILPRouter"
   ]
  },
  {
   "cell_type": "markdown",
   "id": "5040c87d",
   "metadata": {
    "deletable": true,
    "editable": true,
    "frozen": false
   },
   "source": [
    "\n",
    "(high-quality solutions with guarantees, may take several minutes)"
   ]
  },
  {
   "cell_type": "markdown",
   "id": "f421ae7d",
   "metadata": {
    "deletable": true,
    "editable": true,
    "frozen": false
   },
   "source": [
    "> Note:\n",
    "> * if a `WindFarmNetwork` already has a solution, `MILPRouter` will use it as a warm start.\n",
    "> * To avoid warm-starting, create a **new** `WindFarmNetwork` and run MILP directly.  \n",
    "> * Set `verbose=True` to see warm-start messages in the logs (The log messages of the MILP router provide information about warm-start).\n"
   ]
  },
  {
   "cell_type": "code",
   "execution_count": 21,
   "id": "64e22c2f-1339-48b6-86a8-635874e8b382",
   "metadata": {
    "deletable": true,
    "editable": true,
    "execution": {
     "iopub.execute_input": "2025-09-23T10:55:46.177946Z",
     "iopub.status.busy": "2025-09-23T10:55:46.177946Z",
     "iopub.status.idle": "2025-09-23T10:55:46.295127Z",
     "shell.execute_reply": "2025-09-23T10:55:46.294744Z",
     "shell.execute_reply.started": "2025-09-23T10:55:46.177946Z"
    },
    "frozen": false,
    "scrolled": true
   },
   "outputs": [
    {
     "name": "stdout",
     "output_type": "stream",
     "text": [
      "Using warm start: the model is initialized with the provided solution S.\n",
      "\n",
      "\n",
      "Starting CP-SAT solver v9.14.6206\n",
      "Parameters: max_time_in_seconds: 20 log_search_progress: true relative_gap_limit: 0.005\n",
      "Setting number of workers to 16\n",
      "\n",
      "Initial optimization model '': (model_fingerprint: 0x955c5001f5d4f2a1)\n",
      "#Variables: 168 (#bools: 84 in floating point objective) (144 primary variables)\n",
      "  - 84 Booleans in [0,1]\n",
      "  - 72 in [0,3]\n",
      "  - 12 in [0,4]\n",
      "#kAtMostOne: 54 (#literals: 144)\n",
      "#kLinear1: 168 (#enforced: 168)\n",
      "#kLinearN: 39 (#terms: 420)\n",
      "\n",
      "Starting presolve at 0.00s\n",
      "The solution hint is complete and is feasible.\n",
      "[Scaling] Floating point objective has 84 terms with magnitude in [386.681, 1216.1] average = 708.069\n",
      "[Scaling] Objective coefficient relative error: 7.9849e-09\n",
      "[Scaling] Objective worst-case absolute error: 9.48666e-05\n",
      "[Scaling] Objective scaling factor: 131072\n",
      "  9.79e-05s  0.00e+00d  [DetectDominanceRelations] \n",
      "  1.79e-03s  0.00e+00d  [operations_research::sat::CpModelPresolver::PresolveToFixPoint] #num_loops=2 #num_dual_strengthening=1 \n",
      "  3.83e-05s  0.00e+00d  [operations_research::sat::CpModelPresolver::ExtractEncodingFromLinear] #potential_supersets=66 \n",
      "  8.03e-05s  0.00e+00d  [operations_research::sat::CpModelPresolver::DetectDuplicateColumns] \n",
      "  6.88e-05s  0.00e+00d  [operations_research::sat::CpModelPresolver::DetectDuplicateConstraints] \n",
      "[Symmetry] Graph for symmetry has 627 nodes and 1'134 arcs.\n",
      "[Symmetry] Symmetry computation done. time: 0.0001595 dtime: 0.0001114\n",
      "  9.98e-05s  0.00e+00d  [operations_research::sat::CpModelPresolver::DetectDuplicateConstraintsWithDifferentEnforcements] \n",
      "  2.32e-03s  2.33e-04d  [operations_research::sat::CpModelPresolver::Probe] #probed=168 \n",
      "  1.73e-04s  2.39e-05d  [MaxClique] Merged 54(144 literals) into 34(104 literals) at_most_ones. \n",
      "  8.49e-05s  0.00e+00d  [DetectDominanceRelations] \n",
      "  9.57e-04s  0.00e+00d  [operations_research::sat::CpModelPresolver::PresolveToFixPoint] #num_loops=1 #num_dual_strengthening=1 \n",
      "  1.02e-04s  0.00e+00d  [operations_research::sat::CpModelPresolver::ProcessAtMostOneAndLinear] \n",
      "  5.67e-05s  0.00e+00d  [operations_research::sat::CpModelPresolver::DetectDuplicateConstraints] \n",
      "  7.70e-05s  0.00e+00d  [operations_research::sat::CpModelPresolver::DetectDuplicateConstraintsWithDifferentEnforcements] \n",
      "  1.24e-04s  1.42e-06d  [operations_research::sat::CpModelPresolver::DetectDominatedLinearConstraints] #relevant_constraints=27 #num_inclusions=13 \n",
      "  1.28e-05s  0.00e+00d  [operations_research::sat::CpModelPresolver::DetectDifferentVariables] \n",
      "  3.18e-04s  5.00e-06d  [operations_research::sat::CpModelPresolver::ProcessSetPPC] #relevant_constraints=48 #num_inclusions=46 \n",
      "  1.96e-05s  0.00e+00d  [operations_research::sat::CpModelPresolver::FindAlmostIdenticalLinearConstraints] \n",
      "  7.47e-05s  1.68e-05d  [operations_research::sat::CpModelPresolver::FindBigAtMostOneAndLinearOverlap] \n",
      "  5.28e-05s  1.85e-05d  [operations_research::sat::CpModelPresolver::FindBigVerticalLinearOverlap] \n",
      "  1.90e-05s  1.24e-06d  [operations_research::sat::CpModelPresolver::FindBigHorizontalLinearOverlap] #linears=25 \n",
      "  6.00e-06s  0.00e+00d  [operations_research::sat::CpModelPresolver::MergeClauses] \n",
      "  8.60e-05s  0.00e+00d  [DetectDominanceRelations] \n",
      "  7.81e-04s  0.00e+00d  [operations_research::sat::CpModelPresolver::PresolveToFixPoint] #num_loops=1 #num_dual_strengthening=1 \n",
      "  7.59e-05s  0.00e+00d  [DetectDominanceRelations] \n",
      "  7.66e-04s  0.00e+00d  [operations_research::sat::CpModelPresolver::PresolveToFixPoint] #num_loops=1 #num_dual_strengthening=1 \n",
      "  4.05e-05s  0.00e+00d  [operations_research::sat::CpModelPresolver::DetectDuplicateColumns] \n",
      "  5.89e-05s  0.00e+00d  [operations_research::sat::CpModelPresolver::DetectDuplicateConstraints] \n",
      "[Symmetry] Graph for symmetry has 586 nodes and 970 arcs.\n",
      "[Symmetry] Symmetry computation done. time: 0.0001207 dtime: 0.00010311\n",
      "[SAT presolve] num removable Booleans: 0 / 84\n",
      "[SAT presolve] num trivial clauses: 0\n",
      "[SAT presolve] [0s] clauses:16 literals:32 vars:32 one_side_vars:32 simple_definition:0 singleton_clauses:0\n",
      "[SAT presolve] [0.0001736s] clauses:16 literals:32 vars:32 one_side_vars:32 simple_definition:0 singleton_clauses:0\n",
      "[SAT presolve] [0.0254241s] clauses:16 literals:32 vars:32 one_side_vars:32 simple_definition:0 singleton_clauses:0\n",
      "  6.30e-05s  0.00e+00d  [operations_research::sat::CpModelPresolver::DetectDuplicateConstraintsWithDifferentEnforcements] \n",
      "  1.53e-03s  2.13e-04d  [operations_research::sat::CpModelPresolver::Probe] #probed=168 \n",
      "  1.67e-04s  2.32e-05d  [MaxClique] \n",
      "  7.00e-05s  0.00e+00d  [DetectDominanceRelations] \n",
      "  7.68e-04s  0.00e+00d  [operations_research::sat::CpModelPresolver::PresolveToFixPoint] #num_loops=1 #num_dual_strengthening=1 \n",
      "  5.91e-05s  0.00e+00d  [operations_research::sat::CpModelPresolver::ProcessAtMostOneAndLinear] \n",
      "  5.23e-05s  0.00e+00d  [operations_research::sat::CpModelPresolver::DetectDuplicateConstraints] \n",
      "  5.09e-05s  0.00e+00d  [operations_research::sat::CpModelPresolver::DetectDuplicateConstraintsWithDifferentEnforcements] \n",
      "  7.55e-05s  1.06e-06d  [operations_research::sat::CpModelPresolver::DetectDominatedLinearConstraints] #relevant_constraints=26 #num_inclusions=12 \n",
      "  1.06e-05s  0.00e+00d  [operations_research::sat::CpModelPresolver::DetectDifferentVariables] \n",
      "  4.61e-05s  5.90e-07d  [operations_research::sat::CpModelPresolver::ProcessSetPPC] #relevant_constraints=47 \n",
      "  1.07e-05s  0.00e+00d  [operations_research::sat::CpModelPresolver::FindAlmostIdenticalLinearConstraints] \n",
      "  5.92e-05s  1.70e-05d  [operations_research::sat::CpModelPresolver::FindBigAtMostOneAndLinearOverlap] \n",
      "  4.34e-05s  1.85e-05d  [operations_research::sat::CpModelPresolver::FindBigVerticalLinearOverlap] \n",
      "  1.36e-05s  1.24e-06d  [operations_research::sat::CpModelPresolver::FindBigHorizontalLinearOverlap] #linears=25 \n",
      "  6.40e-06s  0.00e+00d  [operations_research::sat::CpModelPresolver::MergeClauses] \n",
      "  6.55e-05s  0.00e+00d  [DetectDominanceRelations] \n",
      "  6.81e-04s  0.00e+00d  [operations_research::sat::CpModelPresolver::PresolveToFixPoint] #num_loops=1 #num_dual_strengthening=1 \n",
      "  8.69e-05s  0.00e+00d  [operations_research::sat::CpModelPresolver::ExpandObjective] #entries=524 #tight_variables=84 #tight_constraints=12 \n",
      "\n",
      "Presolve summary:\n",
      "  - 0 affine relations were detected.\n",
      "  - rule 'TODO linear inclusion: superset is equality' was applied 25 times.\n",
      "  - rule 'at_most_one: transformed into max clique.' was applied 1 time.\n",
      "  - rule 'deductions: 168 stored' was applied 1 time.\n",
      "  - rule 'exactly_one: simplified objective' was applied 12 times.\n",
      "  - rule 'linear: positive equal one' was applied 12 times.\n",
      "  - rule 'objective: shifted cost with exactly ones' was applied 12 times.\n",
      "  - rule 'presolve: 0 unused variables removed.' was applied 1 time.\n",
      "  - rule 'presolve: iteration' was applied 2 times.\n",
      "  - rule 'setppc: exactly_one included in linear' was applied 12 times.\n",
      "  - rule 'setppc: reduced linear coefficients' was applied 11 times.\n",
      "  - rule 'setppc: removed trivial linear constraint' was applied 1 time.\n",
      "  - rule 'variables: detect fully reified value encoding' was applied 84 times.\n",
      "  - rule 'variables: detect half reified value encoding' was applied 168 times.\n",
      "\n",
      "Presolved optimization model '': (model_fingerprint: 0xeb7459a60a77f582)\n",
      "#Variables: 168 (#bools: 72 in objective) (144 primary variables)\n",
      "  - 84 Booleans in [0,1]\n",
      "  - 72 in [0,3]\n",
      "  - 12 in [0,4]\n",
      "#kAtMostOne: 18 (#literals: 72)\n",
      "#kBoolAnd: 16 (#enforced: 16) (#literals: 32)\n",
      "#kExactlyOne: 12 (#literals: 84)\n",
      "#kLinear1: 168 (#enforced: 168)\n",
      "#kLinearN: 26 (#terms: 252)\n",
      "[Symmetry] Graph for symmetry has 586 nodes and 970 arcs.\n",
      "[Symmetry] Symmetry computation done. time: 0.0001057 dtime: 0.00010384\n",
      "\n",
      "Preloading model.\n",
      "#Bound   0.05s best:inf   next:[5537.84464,22998.8419] initial_domain\n",
      "#1       0.05s best:5789.115 next:[5537.84464,5789.11499] complete_hint\n",
      "#Model   0.05s var:168/168 constraints:240/240\n",
      "\n",
      "Starting search at 0.05s with 16 workers.\n",
      "11 full problem subsolvers: [core, default_lp, lb_tree_search, max_lp, no_lp, objective_lb_search, probing, pseudo_costs, quick_restart, quick_restart_no_lp, reduced_costs]\n",
      "5 first solution subsolvers: [fj(2), fs_random, fs_random_no_lp, fs_random_quick_restart_no_lp]\n",
      "11 interleaved subsolvers: [feasibility_pump, graph_arc_lns, graph_cst_lns, graph_dec_lns, graph_var_lns, lb_relax_lns, ls, ls_lin, rins/rens, rnd_cst_lns, rnd_var_lns]\n",
      "3 helper subsolvers: [neighborhood_helper, synchronization_agent, update_gap_integral]\n",
      "\n",
      "#Bound   0.06s best:5789.115 next:[5565.63215,5789.11499] am1_presolve (num_literals=72 num_am1=1 increase=3642164 work_done=259)\n",
      "#2       0.06s best:5706.7879 next:[5565.63215,5706.7879] no_lp [hint] (fixed_bools=32/84)\n",
      "#3       0.06s best:5638.86652 next:[5565.63215,5638.86651] quick_restart_no_lp [hint] (fixed_bools=42/84)\n",
      "#Model   0.06s var:104/168 constraints:164/240\n",
      "#Bound   0.06s best:5638.86652 next:[5598.09191,5638.86651] lb_tree_search\n",
      "#Bound   0.06s best:5638.86652 next:[5608.26906,5638.86651] no_lp\n",
      "#Done    0.06s quick_restart_no_lp\n",
      "#Model   0.06s var:45/168 constraints:76/240\n",
      "#Done    0.07s pseudo_costs [hint]\n",
      "#Done    0.07s quick_restart [hint]\n",
      "#Done    0.07s default_lp [hint]\n",
      "\n",
      "Task timing                                n [     min,      max]      avg      dev     time         n [     min,      max]      avg      dev    dtime\n",
      "                           'core':         1 [ 10.60ms,  10.60ms]  10.60ms   0.00ns  10.60ms         1 [100.71us, 100.71us] 100.71us   0.00ns 100.71us\n",
      "                     'default_lp':         1 [ 10.72ms,  10.72ms]  10.72ms   0.00ns  10.72ms         0 [  0.00ns,   0.00ns]   0.00ns   0.00ns   0.00ns\n",
      "               'feasibility_pump':         0 [  0.00ns,   0.00ns]   0.00ns   0.00ns   0.00ns         0 [  0.00ns,   0.00ns]   0.00ns   0.00ns   0.00ns\n",
      "                             'fj':         0 [  0.00ns,   0.00ns]   0.00ns   0.00ns   0.00ns         0 [  0.00ns,   0.00ns]   0.00ns   0.00ns   0.00ns\n",
      "                             'fj':         0 [  0.00ns,   0.00ns]   0.00ns   0.00ns   0.00ns         0 [  0.00ns,   0.00ns]   0.00ns   0.00ns   0.00ns\n",
      "                      'fs_random':         0 [  0.00ns,   0.00ns]   0.00ns   0.00ns   0.00ns         0 [  0.00ns,   0.00ns]   0.00ns   0.00ns   0.00ns\n",
      "                'fs_random_no_lp':         0 [  0.00ns,   0.00ns]   0.00ns   0.00ns   0.00ns         0 [  0.00ns,   0.00ns]   0.00ns   0.00ns   0.00ns\n",
      "  'fs_random_quick_restart_no_lp':         0 [  0.00ns,   0.00ns]   0.00ns   0.00ns   0.00ns         0 [  0.00ns,   0.00ns]   0.00ns   0.00ns   0.00ns\n",
      "                  'graph_arc_lns':         1 [  3.29ms,   3.29ms]   3.29ms   0.00ns   3.29ms         1 [ 10.00ns,  10.00ns]  10.00ns   0.00ns  10.00ns\n",
      "                  'graph_cst_lns':         1 [  3.12ms,   3.12ms]   3.12ms   0.00ns   3.12ms         1 [ 10.00ns,  10.00ns]  10.00ns   0.00ns  10.00ns\n",
      "                  'graph_dec_lns':         1 [  2.85ms,   2.85ms]   2.85ms   0.00ns   2.85ms         0 [  0.00ns,   0.00ns]   0.00ns   0.00ns   0.00ns\n",
      "                  'graph_var_lns':         1 [  3.24ms,   3.24ms]   3.24ms   0.00ns   3.24ms         1 [ 10.00ns,  10.00ns]  10.00ns   0.00ns  10.00ns\n",
      "                   'lb_relax_lns':         0 [  0.00ns,   0.00ns]   0.00ns   0.00ns   0.00ns         0 [  0.00ns,   0.00ns]   0.00ns   0.00ns   0.00ns\n",
      "                 'lb_tree_search':         1 [  9.28ms,   9.28ms]   9.28ms   0.00ns   9.28ms         0 [  0.00ns,   0.00ns]   0.00ns   0.00ns   0.00ns\n",
      "                             'ls':         0 [  0.00ns,   0.00ns]   0.00ns   0.00ns   0.00ns         0 [  0.00ns,   0.00ns]   0.00ns   0.00ns   0.00ns\n",
      "                         'ls_lin':         0 [  0.00ns,   0.00ns]   0.00ns   0.00ns   0.00ns         0 [  0.00ns,   0.00ns]   0.00ns   0.00ns   0.00ns\n",
      "                         'max_lp':         1 [ 10.33ms,  10.33ms]  10.33ms   0.00ns  10.33ms         0 [  0.00ns,   0.00ns]   0.00ns   0.00ns   0.00ns\n",
      "                          'no_lp':         1 [ 10.38ms,  10.38ms]  10.38ms   0.00ns  10.38ms         1 [128.61us, 128.61us] 128.61us   0.00ns 128.61us\n",
      "            'objective_lb_search':         1 [  8.65ms,   8.65ms]   8.65ms   0.00ns   8.65ms         0 [  0.00ns,   0.00ns]   0.00ns   0.00ns   0.00ns\n",
      "                        'probing':         1 [  8.62ms,   8.62ms]   8.62ms   0.00ns   8.62ms         0 [  0.00ns,   0.00ns]   0.00ns   0.00ns   0.00ns\n",
      "                   'pseudo_costs':         1 [  9.27ms,   9.27ms]   9.27ms   0.00ns   9.27ms         0 [  0.00ns,   0.00ns]   0.00ns   0.00ns   0.00ns\n",
      "                  'quick_restart':         1 [  9.94ms,   9.94ms]   9.94ms   0.00ns   9.94ms         0 [  0.00ns,   0.00ns]   0.00ns   0.00ns   0.00ns\n",
      "            'quick_restart_no_lp':         1 [  8.30ms,   8.30ms]   8.30ms   0.00ns   8.30ms         1 [ 19.47us,  19.47us]  19.47us   0.00ns  19.47us\n",
      "                  'reduced_costs':         1 [  9.60ms,   9.60ms]   9.60ms   0.00ns   9.60ms         0 [  0.00ns,   0.00ns]   0.00ns   0.00ns   0.00ns\n",
      "                      'rins/rens':         0 [  0.00ns,   0.00ns]   0.00ns   0.00ns   0.00ns         0 [  0.00ns,   0.00ns]   0.00ns   0.00ns   0.00ns\n",
      "                    'rnd_cst_lns':         1 [  3.66ms,   3.66ms]   3.66ms   0.00ns   3.66ms         1 [ 10.00ns,  10.00ns]  10.00ns   0.00ns  10.00ns\n",
      "                    'rnd_var_lns':         1 [  3.70ms,   3.70ms]   3.70ms   0.00ns   3.70ms         1 [ 10.00ns,  10.00ns]  10.00ns   0.00ns  10.00ns\n",
      "\n",
      "Search stats                        Bools  Conflicts  Branches  Restarts  BoolPropag  IntegerPropag\n",
      "                           'core':     85          2       257       199       1'075          3'528\n",
      "                     'default_lp':     84          0       168       168         740          2'463\n",
      "                      'fs_random':      0          0         0         0           0              0\n",
      "                'fs_random_no_lp':      0          0         0         0           0              0\n",
      "  'fs_random_quick_restart_no_lp':      0          0         0         0           0              0\n",
      "                 'lb_tree_search':     84          0       168       168         740          2'577\n",
      "                         'max_lp':     84          0       168       168         740          2'577\n",
      "                          'no_lp':     84         16       261       196       1'241          3'912\n",
      "            'objective_lb_search':     84          0       168       168         740          2'460\n",
      "                        'probing':     84          0       168       168         740          2'460\n",
      "                   'pseudo_costs':     84          0       168       168         740          2'579\n",
      "                  'quick_restart':     84          0       168       168         740          2'462\n",
      "            'quick_restart_no_lp':     84          2       186       170         895          2'959\n",
      "                  'reduced_costs':     84          0       168       168         740          2'577\n",
      "\n",
      "SAT stats                           ClassicMinim  LitRemoved  LitLearned  LitForgotten  Subsumed  MClauses  MDecisions  MLitTrue  MSubsumed  MLitRemoved  MReused\n",
      "                           'core':             0           0           2             0         0         6          12         0          0            0        0\n",
      "                     'default_lp':             0           0           0             0         0         0           0         0          0            0        0\n",
      "                      'fs_random':             0           0           0             0         0         0           0         0          0            0        0\n",
      "                'fs_random_no_lp':             0           0           0             0         0         0           0         0          0            0        0\n",
      "  'fs_random_quick_restart_no_lp':             0           0           0             0         0         0           0         0          0            0        0\n",
      "                 'lb_tree_search':             0           0           0             0         0         0           0         0          0            0        0\n",
      "                         'max_lp':             0           0           0             0         0         0           0         0          0            0        0\n",
      "                          'no_lp':             3           9          44             0         1         0           0         0          0            0        0\n",
      "            'objective_lb_search':             0           0           0             0         0         0           0         0          0            0        0\n",
      "                        'probing':             0           0           0             0         0         0           0         0          0            0        0\n",
      "                   'pseudo_costs':             0           0           0             0         0         0           0         0          0            0        0\n",
      "                  'quick_restart':             0           0           0             0         0         0           0         0          0            0        0\n",
      "            'quick_restart_no_lp':             0           0           4             0         0         0           0         0          0            0        0\n",
      "                  'reduced_costs':             0           0           0             0         0         0           0         0          0            0        0\n",
      "\n",
      "Lp stats                  Component  Iterations  AddedCuts  OPTIMAL  DUAL_F.  DUAL_U.\n",
      "           'default_lp':          1          49         24        3        1        0\n",
      "       'lb_tree_search':          1          33          0        2        0        0\n",
      "               'max_lp':          1          33          0        2        0        0\n",
      "  'objective_lb_search':          1          32          0        2        0        0\n",
      "              'probing':          1          30          0        2        0        0\n",
      "         'pseudo_costs':          1          29         14        3        0        0\n",
      "        'quick_restart':          1          30         29        3        0        0\n",
      "        'reduced_costs':          1          23          0        2        0        0\n",
      "\n",
      "Lp dimension              Final dimension of first component\n",
      "           'default_lp':   64 rows, 156 columns, 281 entries\n",
      "       'lb_tree_search':  324 rows, 168 columns, 944 entries\n",
      "               'max_lp':  324 rows, 168 columns, 944 entries\n",
      "  'objective_lb_search':   25 rows, 156 columns, 192 entries\n",
      "              'probing':   25 rows, 156 columns, 192 entries\n",
      "         'pseudo_costs':   50 rows, 168 columns, 258 entries\n",
      "        'quick_restart':   70 rows, 156 columns, 306 entries\n",
      "        'reduced_costs':   26 rows, 168 columns, 194 entries\n",
      "\n",
      "Lp debug                  CutPropag  CutEqPropag  Adjust  Overflow  Bad  BadScaling\n",
      "           'default_lp':          0            0       1         0    0           0\n",
      "       'lb_tree_search':          0            0       2         0    0           0\n",
      "               'max_lp':          0            0       2         0    0           0\n",
      "  'objective_lb_search':          0            0       0         0    0           0\n",
      "              'probing':          0            0       0         0    0           0\n",
      "         'pseudo_costs':          0            0       0         0    0           0\n",
      "        'quick_restart':          0            0       0         0    0           0\n",
      "        'reduced_costs':          0            0       0         0    0           0\n",
      "\n",
      "Lp pool                   Constraints  Updates  Simplif  Merged  Shortened  Split  Strenghtened  Cuts/Call\n",
      "           'default_lp':          296        0        0       0          0      0             0      24/36\n",
      "       'lb_tree_search':          324        0        0       0          0      0             0        0/0\n",
      "               'max_lp':          324        0        0       0          0      0             0        0/0\n",
      "  'objective_lb_search':          272        0        0       0          0      0             0        0/0\n",
      "              'probing':          272        0        0       0          0      0             0        0/0\n",
      "         'pseudo_costs':          338        0        0       0          0      0             0      14/26\n",
      "        'quick_restart':          301        0        0       0          0      0             0      29/40\n",
      "        'reduced_costs':          324        0        0       0          0      0             0        0/0\n",
      "\n",
      "Lp Cut    default_lp  quick_restart  pseudo_costs\n",
      "     IB:          24             29            14\n",
      "\n",
      "LNS stats           Improv/Calls  Closed  Difficulty  TimeLimit\n",
      "  'graph_arc_lns':           0/1    100%    7.07e-01       0.10\n",
      "  'graph_cst_lns':           0/1    100%    7.07e-01       0.10\n",
      "  'graph_dec_lns':           0/0      0%    5.00e-01       0.10\n",
      "  'graph_var_lns':           1/1    100%    7.07e-01       0.10\n",
      "   'lb_relax_lns':           0/0      0%    5.00e-01       0.50\n",
      "      'rins/rens':           0/0      0%    5.00e-01       0.10\n",
      "    'rnd_cst_lns':           0/1    100%    7.07e-01       0.10\n",
      "    'rnd_var_lns':           0/1    100%    7.07e-01       0.10\n",
      "\n",
      "Solutions (3)             Num   Rank\n",
      "        'complete_hint':    1  [1,1]\n",
      "                'no_lp':    1  [2,2]\n",
      "  'quick_restart_no_lp':    1  [3,3]\n",
      "\n",
      "Objective bounds     Num\n",
      "    'am1_presolve':    1\n",
      "  'initial_domain':    1\n",
      "  'lb_tree_search':    1\n",
      "           'no_lp':    1\n",
      "\n",
      "Solution repositories    Added  Queried  Synchro\n",
      "  'feasible solutions':      7       12        5\n",
      "   'fj solution hints':      0        0        0\n",
      "        'lp solutions':      0        0        0\n",
      "                'pump':      0        0\n",
      "\n",
      "Improving bounds shared    Num  Sym\n",
      "                  'core':   15    0\n",
      "                 'no_lp':  154    0\n",
      "\n",
      "Clauses shared            Num\n",
      "                 'core':   18\n",
      "                'no_lp':   32\n",
      "  'quick_restart_no_lp':    2\n",
      "\n",
      "[Scaling] scaled_objective_bound: 5638.87 corrected_bound: 5638.87 delta: 4.61656e-06\n",
      "CpSolverResponse summary:\n",
      "status: OPTIMAL\n",
      "objective: 5638.866513159817\n",
      "best_bound: 5638.866511496722\n",
      "integers: 0\n",
      "booleans: 0\n",
      "conflicts: 0\n",
      "branches: 0\n",
      "propagations: 0\n",
      "integer_propagations: 0\n",
      "restarts: 0\n",
      "lp_iterations: 0\n",
      "walltime: 0.0981034\n",
      "usertime: 0.0981035\n",
      "deterministic_time: 0.000823157\n",
      "gap_integral: 8.41469e-05\n",
      "solution_fingerprint: 0xfeaeef1b91cbcc7d\n",
      "\n"
     ]
    }
   ],
   "source": [
    "res_milp = wfn.optimize(router=milp_router)"
   ]
  },
  {
   "cell_type": "code",
   "execution_count": 22,
   "id": "c4d1f9b9",
   "metadata": {
    "deletable": true,
    "editable": true,
    "execution": {
     "iopub.execute_input": "2025-09-23T10:55:46.295127Z",
     "iopub.status.busy": "2025-09-23T10:55:46.295127Z",
     "iopub.status.idle": "2025-09-23T10:55:46.302071Z",
     "shell.execute_reply": "2025-09-23T10:55:46.302071Z",
     "shell.execute_reply.started": "2025-09-23T10:55:46.295127Z"
    },
    "frozen": false
   },
   "outputs": [
    {
     "data": {
      "text/plain": [
       "<optiwindnet.api.MILPRouter at 0x1a91e5f2a50>"
      ]
     },
     "execution_count": 22,
     "metadata": {},
     "output_type": "execute_result"
    }
   ],
   "source": [
    "wfn.router"
   ]
  },
  {
   "cell_type": "code",
   "execution_count": 23,
   "id": "acd659f9",
   "metadata": {
    "deletable": true,
    "editable": true,
    "execution": {
     "iopub.execute_input": "2025-09-23T10:55:46.302071Z",
     "iopub.status.busy": "2025-09-23T10:55:46.302071Z",
     "iopub.status.idle": "2025-09-23T10:55:46.308914Z",
     "shell.execute_reply": "2025-09-23T10:55:46.308914Z",
     "shell.execute_reply.started": "2025-09-23T10:55:46.302071Z"
    },
    "frozen": false
   },
   "outputs": [
    {
     "data": {
      "text/plain": [
       "5638.866513159817"
      ]
     },
     "execution_count": 23,
     "metadata": {},
     "output_type": "execute_result"
    }
   ],
   "source": [
    "wfn.length()"
   ]
  },
  {
   "cell_type": "code",
   "execution_count": 24,
   "id": "1569125c",
   "metadata": {
    "deletable": true,
    "editable": true,
    "execution": {
     "iopub.execute_input": "2025-09-23T10:55:46.311126Z",
     "iopub.status.busy": "2025-09-23T10:55:46.310663Z",
     "iopub.status.idle": "2025-09-23T10:55:46.317752Z",
     "shell.execute_reply": "2025-09-23T10:55:46.317752Z",
     "shell.execute_reply.started": "2025-09-23T10:55:46.311126Z"
    },
    "frozen": false
   },
   "outputs": [
    {
     "data": {
      "image/svg+xml": [
       "<svg xmlns=\"http://www.w3.org/2000/svg\" viewBox=\"0 0 1920 1080\"><defs><circle stroke=\"none\" stroke-width=\"2\" id=\"wtg\" r=\"12\"/><rect stroke=\"#111\" stroke-width=\"2\" id=\"oss\" width=\"21\" height=\"21\" fill=\"lawngreen\"/><filter x=\"-5%\" y=\"-5%\" id=\"bg_textbox\" width=\"110%\" height=\"110%\"><feFlood flood-opacity=\"0.6\" flood-color=\"black\" result=\"bg\"/><feMerge><feMergeNode in=\"bg\"/><feMergeNode in=\"SourceGraphic\"/></feMerge></filter></defs><g id=\"toy\"><path stroke=\"silver\" stroke-dasharray=\"15 7\" stroke-width=\"2\" id=\"border\" d=\"M360 30 259 345 141 624 30 888 280 1050 592 949 703 674 841 440 699 252z\" fill-rule=\"evenodd\" fill=\"#111\"/><g stroke=\"crimson\" stroke-width=\"4\" id=\"edges_unspecified\"><line x1=\"360\" y1=\"30\" x2=\"478\" y2=\"254\"/><line x1=\"259\" y1=\"345\" x2=\"478\" y2=\"254\"/><line x1=\"478\" y1=\"254\" x2=\"699\" y2=\"252\"/><line x1=\"841\" y1=\"440\" x2=\"703\" y2=\"674\"/><line x1=\"528\" y1=\"490\" x2=\"703\" y2=\"674\"/><line x1=\"335\" y1=\"547\" x2=\"259\" y2=\"345\"/><line x1=\"141\" y1=\"624\" x2=\"30\" y2=\"888\"/><line x1=\"335\" y1=\"547\" x2=\"141\" y2=\"624\"/><line x1=\"335\" y1=\"547\" x2=\"528\" y2=\"490\"/><line x1=\"381\" y1=\"794\" x2=\"592\" y2=\"949\"/><line x1=\"335\" y1=\"547\" x2=\"381\" y2=\"794\"/><line x1=\"381\" y1=\"794\" x2=\"280\" y2=\"1050\"/></g><g id=\"WTGgrp\"><g fill=\"#1f77b4\"><use href=\"#wtg\" x=\"360\" y=\"30\"/><use href=\"#wtg\" x=\"478\" y=\"254\"/><use href=\"#wtg\" x=\"259\" y=\"345\"/><use href=\"#wtg\" x=\"699\" y=\"252\"/></g><g fill=\"#ff7f0e\"><use href=\"#wtg\" x=\"841\" y=\"440\"/><use href=\"#wtg\" x=\"703\" y=\"674\"/><use href=\"#wtg\" x=\"528\" y=\"490\"/></g><g fill=\"#aec7e8\"><use href=\"#wtg\" x=\"30\" y=\"888\"/><use href=\"#wtg\" x=\"141\" y=\"624\"/></g><g fill=\"#ffbb78\"><use href=\"#wtg\" x=\"592\" y=\"949\"/><use href=\"#wtg\" x=\"381\" y=\"794\"/><use href=\"#wtg\" x=\"280\" y=\"1050\"/></g></g><g id=\"OSSgrp\"><use href=\"#oss\" x=\"324.5\" y=\"536.5\"/></g></g><text filter=\"url(#bg_textbox)\" text-anchor=\"end\" font-family=\"sans-serif\" font-size=\"40\" fill=\"white\" x=\"841\" y=\"1050\"><tspan x=\"841\" dy=\"-0.0em\">&#931;&#955; = 5638.9 m</tspan><tspan x=\"841\" dy=\"-1.3em\">(+1) [-1]: 4</tspan><tspan x=\"841\" dy=\"-1.3em\">&#954; = 4, T = 12</tspan></text></svg>"
      ],
      "text/plain": [
       "<optiwindnet.api.WindFarmNetwork at 0x1a920a87110>"
      ]
     },
     "execution_count": 24,
     "metadata": {},
     "output_type": "execute_result"
    }
   ],
   "source": [
    "wfn"
   ]
  }
 ],
 "metadata": {
  "kernelspec": {
   "display_name": "«work312»",
   "language": "python",
   "name": "work312"
  },
  "language_info": {
   "codemirror_mode": {
    "name": "ipython",
    "version": 3
   },
   "file_extension": ".py",
   "mimetype": "text/x-python",
   "name": "python",
   "nbconvert_exporter": "python",
   "pygments_lexer": "ipython3",
   "version": "3.12.11"
  }
 },
 "nbformat": 4,
 "nbformat_minor": 5
}
