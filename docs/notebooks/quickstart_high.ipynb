{
 "cells": [
  {
   "cell_type": "markdown",
   "id": "d3889873-304a-4138-8d26-71cd9df08281",
   "metadata": {
    "deletable": true,
    "editable": true,
    "frozen": false
   },
   "source": [
    "# 🚀 Quick Start"
   ]
  },
  {
   "cell_type": "markdown",
   "id": "b613f213-609c-4fab-b6e2-6da86ea72cb6",
   "metadata": {
    "deletable": true,
    "editable": true,
    "frozen": false
   },
   "source": [
    "This notebook shows the *minimum steps* needed to run a electrical network optimization in a wind farm via OptiWindNet."
   ]
  },
  {
   "cell_type": "markdown",
   "id": "56bae6b4-9cf4-4e01-83ce-e17d4b788b18",
   "metadata": {
    "deletable": true,
    "editable": true,
    "frozen": false
   },
   "source": [
    "## Steps"
   ]
  },
  {
   "cell_type": "markdown",
   "id": "77861cab-daa3-4bf5-98a9-27d52ad7cecb",
   "metadata": {
    "deletable": true,
    "editable": true,
    "frozen": false
   },
   "source": [
    "An network optimization via OptiWindNet involves two components:\n",
    "\n",
    "* A `WindFarmNetwork` containing the problem data.\n",
    "* A `Router` describing the method used to solve it.\n",
    "\n",
    "The network optimization can be performed using following steps:\n",
    "\n",
    "1) Create a `WindFarmNetwork` instance\n",
    "2) Define a router\n",
    "3) Run the optimization and get the results"
   ]
  },
  {
   "cell_type": "markdown",
   "id": "48145102",
   "metadata": {
    "deletable": true,
    "editable": true,
    "frozen": false
   },
   "source": [
    "### 1. Create a `WindFarmNetwork` instance"
   ]
  },
  {
   "cell_type": "markdown",
   "id": "fac8dccf",
   "metadata": {
    "deletable": true,
    "editable": true,
    "frozen": false
   },
   "source": [
    "The `WindFarmNetwork` component stores the turbine layout and runs optimization (storing the optimized network after running an optimization). See [WindFarmNetwork and Router](a02_WindFarmNetwork.ipynb) for some of the importnant methods and functionalities provided by this component."
   ]
  },
  {
   "cell_type": "code",
   "execution_count": 1,
   "id": "2f1ecb89-84e4-4316-9db9-dbaf5b282bf0",
   "metadata": {
    "deletable": true,
    "editable": true,
    "execution": {
     "iopub.execute_input": "2025-09-23T11:08:10.511618Z",
     "iopub.status.busy": "2025-09-23T11:08:10.511618Z",
     "iopub.status.idle": "2025-09-23T11:08:13.643054Z",
     "shell.execute_reply": "2025-09-23T11:08:13.643054Z",
     "shell.execute_reply.started": "2025-09-23T11:08:10.511618Z"
    },
    "frozen": false
   },
   "outputs": [],
   "source": [
    "from optiwindnet.api import WindFarmNetwork"
   ]
  },
  {
   "cell_type": "code",
   "execution_count": 2,
   "id": "c955df78",
   "metadata": {
    "deletable": true,
    "editable": true,
    "execution": {
     "iopub.execute_input": "2025-09-23T11:08:13.643054Z",
     "iopub.status.busy": "2025-09-23T11:08:13.643054Z",
     "iopub.status.idle": "2025-09-23T11:08:13.653689Z",
     "shell.execute_reply": "2025-09-23T11:08:13.652607Z",
     "shell.execute_reply.started": "2025-09-23T11:08:13.643054Z"
    },
    "frozen": false
   },
   "outputs": [],
   "source": [
    "import matplotlib.pyplot as plt\n",
    "# Display figures as SVG in Jupyter notebooks\n",
    "%config InlineBackend.figure_formats = ['svg']"
   ]
  },
  {
   "cell_type": "markdown",
   "id": "e0765d5c",
   "metadata": {
    "deletable": true,
    "editable": true,
    "frozen": false
   },
   "source": [
    "#### Load location data\n",
    "\n",
    "> Note: For details about *OptiWindNet*'s `load_repository()`, check [Load repositories containing location data](a03_load_repositories.ipynb)."
   ]
  },
  {
   "cell_type": "code",
   "execution_count": 3,
   "id": "1f2d7a49-6c57-49e9-bb85-cad2eb08d350",
   "metadata": {
    "deletable": true,
    "editable": true,
    "execution": {
     "iopub.execute_input": "2025-09-23T11:08:13.656110Z",
     "iopub.status.busy": "2025-09-23T11:08:13.654885Z",
     "iopub.status.idle": "2025-09-23T11:08:14.968397Z",
     "shell.execute_reply": "2025-09-23T11:08:14.968397Z",
     "shell.execute_reply.started": "2025-09-23T11:08:13.656110Z"
    },
    "frozen": false
   },
   "outputs": [],
   "source": [
    "from optiwindnet.api import load_repository\n",
    "locations = load_repository()\n",
    "L = locations.doggerA"
   ]
  },
  {
   "cell_type": "markdown",
   "id": "082fda01",
   "metadata": {
    "deletable": true,
    "editable": true,
    "frozen": false
   },
   "source": [
    "Initialize a `WindFarmNetwork` instance with a prebuilt `L` and a desired maximum cable capacity *(See [Data Input](a01_data_input.ipynb) for various input formats.)*"
   ]
  },
  {
   "cell_type": "code",
   "execution_count": 4,
   "id": "1cefe795",
   "metadata": {
    "deletable": true,
    "editable": true,
    "execution": {
     "iopub.execute_input": "2025-09-23T11:08:14.968397Z",
     "iopub.status.busy": "2025-09-23T11:08:14.968397Z",
     "iopub.status.idle": "2025-09-23T11:08:14.973584Z",
     "shell.execute_reply": "2025-09-23T11:08:14.972846Z",
     "shell.execute_reply.started": "2025-09-23T11:08:14.968397Z"
    },
    "frozen": false
   },
   "outputs": [],
   "source": [
    "wfn = WindFarmNetwork(L=L, cables=8)"
   ]
  },
  {
   "cell_type": "markdown",
   "id": "a8fd46b9",
   "metadata": {
    "deletable": true,
    "editable": true,
    "frozen": false
   },
   "source": [
    "We can plot the location to make sure `wfn` is created with the correct data."
   ]
  },
  {
   "cell_type": "markdown",
   "id": "753feb91",
   "metadata": {
    "deletable": true,
    "editable": true,
    "frozen": false
   },
   "source": [
    ">**Tip.** In a notebook, just put `wfn` as the last line of a cell for plotting G.\n",
    ">\n",
    ">* Before optimization (no `G` yet), it renders the location geometry `L`.\n",
    ">* If `G` exists (e.g. after a `optimize()` is run), it automatically renders `G`.\n",
    ">\n",
    ">We could use `wfn.plot_location()` for plotting the location geometry. For more details look into the notebook about [plotting](a04_Plotting.ipynb)"
   ]
  },
  {
   "cell_type": "code",
   "execution_count": 5,
   "id": "e0e31dfa",
   "metadata": {
    "deletable": true,
    "editable": true,
    "execution": {
     "iopub.execute_input": "2025-09-23T11:08:14.975727Z",
     "iopub.status.busy": "2025-09-23T11:08:14.975727Z",
     "iopub.status.idle": "2025-09-23T11:08:14.987203Z",
     "shell.execute_reply": "2025-09-23T11:08:14.985814Z",
     "shell.execute_reply.started": "2025-09-23T11:08:14.975727Z"
    },
    "frozen": false
   },
   "outputs": [
    {
     "data": {
      "image/svg+xml": [
       "<svg xmlns=\"http://www.w3.org/2000/svg\" viewBox=\"0 0 1920 1028\"><defs><circle stroke=\"none\" stroke-width=\"2\" id=\"wtg\" r=\"12\"/><rect stroke=\"#111\" stroke-width=\"2\" id=\"oss\" width=\"21\" height=\"21\" fill=\"lawngreen\"/></defs><g id=\"doggerA\"><path stroke=\"silver\" stroke-dasharray=\"15 7\" stroke-width=\"2\" id=\"border\" d=\"M1098 998 30 535 42 30 1727 39 1890 202z\" fill-rule=\"evenodd\" fill=\"#111\"/><g id=\"WTGgrp\"><g fill=\"#9edae5\"><use href=\"#wtg\" x=\"158\" y=\"367\"/><use href=\"#wtg\" x=\"655\" y=\"651\"/><use href=\"#wtg\" x=\"547\" y=\"560\"/><use href=\"#wtg\" x=\"224\" y=\"288\"/><use href=\"#wtg\" x=\"1045\" y=\"844\"/><use href=\"#wtg\" x=\"937\" y=\"753\"/><use href=\"#wtg\" x=\"829\" y=\"663\"/><use href=\"#wtg\" x=\"721\" y=\"572\"/><use href=\"#wtg\" x=\"613\" y=\"481\"/><use href=\"#wtg\" x=\"397\" y=\"301\"/><use href=\"#wtg\" x=\"290\" y=\"210\"/><use href=\"#wtg\" x=\"1111\" y=\"765\"/><use href=\"#wtg\" x=\"1003\" y=\"675\"/><use href=\"#wtg\" x=\"895\" y=\"584\"/><use href=\"#wtg\" x=\"787\" y=\"494\"/><use href=\"#wtg\" x=\"679\" y=\"403\"/><use href=\"#wtg\" x=\"463\" y=\"222\"/><use href=\"#wtg\" x=\"1176\" y=\"687\"/><use href=\"#wtg\" x=\"1069\" y=\"596\"/><use href=\"#wtg\" x=\"961\" y=\"505\"/><use href=\"#wtg\" x=\"853\" y=\"415\"/><use href=\"#wtg\" x=\"1308\" y=\"529\"/><use href=\"#wtg\" x=\"1374\" y=\"451\"/><use href=\"#wtg\" x=\"1266\" y=\"361\"/><use href=\"#wtg\" x=\"1158\" y=\"270\"/><use href=\"#wtg\" x=\"1440\" y=\"373\"/><use href=\"#wtg\" x=\"1332\" y=\"282\"/><use href=\"#wtg\" x=\"1224\" y=\"192\"/><use href=\"#wtg\" x=\"1506\" y=\"294\"/><use href=\"#wtg\" x=\"1398\" y=\"204\"/><use href=\"#wtg\" x=\"1572\" y=\"216\"/><use href=\"#wtg\" x=\"469\" y=\"79\"/><use href=\"#wtg\" x=\"538\" y=\"79\"/><use href=\"#wtg\" x=\"608\" y=\"80\"/><use href=\"#wtg\" x=\"677\" y=\"80\"/><use href=\"#wtg\" x=\"747\" y=\"81\"/><use href=\"#wtg\" x=\"816\" y=\"81\"/><use href=\"#wtg\" x=\"885\" y=\"82\"/><use href=\"#wtg\" x=\"954\" y=\"82\"/><use href=\"#wtg\" x=\"1024\" y=\"83\"/><use href=\"#wtg\" x=\"1093\" y=\"84\"/><use href=\"#wtg\" x=\"1163\" y=\"84\"/><use href=\"#wtg\" x=\"1232\" y=\"85\"/><use href=\"#wtg\" x=\"1301\" y=\"85\"/><use href=\"#wtg\" x=\"1371\" y=\"85\"/><use href=\"#wtg\" x=\"1440\" y=\"86\"/><use href=\"#wtg\" x=\"1510\" y=\"87\"/><use href=\"#wtg\" x=\"1579\" y=\"87\"/><use href=\"#wtg\" x=\"1648\" y=\"87\"/><use href=\"#wtg\" x=\"1717\" y=\"88\"/><use href=\"#wtg\" x=\"1836\" y=\"239\"/><use href=\"#wtg\" x=\"1787\" y=\"288\"/><use href=\"#wtg\" x=\"1738\" y=\"337\"/><use href=\"#wtg\" x=\"1689\" y=\"386\"/><use href=\"#wtg\" x=\"1640\" y=\"436\"/><use href=\"#wtg\" x=\"1591\" y=\"484\"/><use href=\"#wtg\" x=\"1542\" y=\"534\"/><use href=\"#wtg\" x=\"1493\" y=\"583\"/><use href=\"#wtg\" x=\"1445\" y=\"633\"/><use href=\"#wtg\" x=\"1298\" y=\"779\"/><use href=\"#wtg\" x=\"1249\" y=\"829\"/><use href=\"#wtg\" x=\"1200\" y=\"878\"/><use href=\"#wtg\" x=\"1035\" y=\"957\"/><use href=\"#wtg\" x=\"972\" y=\"930\"/><use href=\"#wtg\" x=\"844\" y=\"875\"/><use href=\"#wtg\" x=\"781\" y=\"847\"/><use href=\"#wtg\" x=\"717\" y=\"820\"/><use href=\"#wtg\" x=\"654\" y=\"792\"/><use href=\"#wtg\" x=\"590\" y=\"765\"/><use href=\"#wtg\" x=\"526\" y=\"737\"/><use href=\"#wtg\" x=\"462\" y=\"710\"/><use href=\"#wtg\" x=\"45\" y=\"417\"/><use href=\"#wtg\" x=\"47\" y=\"346\"/><use href=\"#wtg\" x=\"48\" y=\"278\"/><use href=\"#wtg\" x=\"50\" y=\"208\"/><use href=\"#wtg\" x=\"53\" y=\"78\"/><use href=\"#wtg\" x=\"122\" y=\"80\"/><use href=\"#wtg\" x=\"1102\" y=\"976\"/><use href=\"#wtg\" x=\"908\" y=\"903\"/><use href=\"#wtg\" x=\"374\" y=\"548\"/><use href=\"#wtg\" x=\"266\" y=\"458\"/><use href=\"#wtg\" x=\"440\" y=\"469\"/><use href=\"#wtg\" x=\"331\" y=\"379\"/><use href=\"#wtg\" x=\"505\" y=\"391\"/><use href=\"#wtg\" x=\"571\" y=\"313\"/><use href=\"#wtg\" x=\"1151\" y=\"927\"/><use href=\"#wtg\" x=\"399\" y=\"681\"/><use href=\"#wtg\" x=\"335\" y=\"654\"/><use href=\"#wtg\" x=\"272\" y=\"626\"/><use href=\"#wtg\" x=\"208\" y=\"599\"/><use href=\"#wtg\" x=\"145\" y=\"572\"/><use href=\"#wtg\" x=\"81\" y=\"544\"/><use href=\"#wtg\" x=\"43\" y=\"486\"/><use href=\"#wtg\" x=\"1774\" y=\"128\"/><use href=\"#wtg\" x=\"1831\" y=\"167\"/></g></g><g id=\"OSSgrp\"><use href=\"#oss\" x=\"733.5\" y=\"312.5\"/></g></g></svg>"
      ],
      "text/plain": [
       "<optiwindnet.api.WindFarmNetwork at 0x29efaff1040>"
      ]
     },
     "execution_count": 5,
     "metadata": {},
     "output_type": "execute_result"
    }
   ],
   "source": [
    "wfn"
   ]
  },
  {
   "cell_type": "markdown",
   "id": "64a931d6-a64a-4e6b-a36d-6b103a8216dc",
   "metadata": {
    "deletable": true,
    "editable": true,
    "frozen": false
   },
   "source": [
    "### 2. Define a `Router`"
   ]
  },
  {
   "cell_type": "markdown",
   "id": "100bfc85-3785-435e-839e-1a6adef38c23",
   "metadata": {
    "deletable": true,
    "editable": true,
    "frozen": false
   },
   "source": [
    "Three built-in routers are available in *OptiWindNet* :\n",
    "\n",
    "| Router     | Speed | Accuracy | Notes |\n",
    "|------------|-------|----------|-------|\n",
    "| EWRouter   | ⭐⭐⭐  | ⭐       | Very fast heuristic |\n",
    "| HGSRouter  | ⭐⭐   | ⭐⭐       | Radial topology |\n",
    "| MILPRouter | ⭐    | ⭐⭐⭐      | Exact MILP solver |\n",
    "\n",
    "See [WindFarmNetwork and Router](a02_WindFarmNetwork.ipynb) for details about routers."
   ]
  },
  {
   "cell_type": "markdown",
   "id": "d949bb52-5c2b-467b-954b-1ff0be0f717c",
   "metadata": {
    "deletable": true,
    "editable": true,
    "frozen": false
   },
   "source": [
    "#### EWRouter"
   ]
  },
  {
   "cell_type": "markdown",
   "id": "90750db9-b0e4-48cf-ade0-339d2ef14d84",
   "metadata": {
    "deletable": true,
    "editable": true,
    "frozen": false
   },
   "source": [
    "To use this router, simply create an instance of the `EWRouter` class. All arguments are *optional*, making it quick and easy to get started with minimal configuration."
   ]
  },
  {
   "cell_type": "code",
   "execution_count": 6,
   "id": "b6a65515-8573-4fb7-9f14-f741d78eb361",
   "metadata": {
    "deletable": true,
    "editable": true,
    "execution": {
     "iopub.execute_input": "2025-09-23T11:08:14.989218Z",
     "iopub.status.busy": "2025-09-23T11:08:14.988220Z",
     "iopub.status.idle": "2025-09-23T11:08:14.993591Z",
     "shell.execute_reply": "2025-09-23T11:08:14.992583Z",
     "shell.execute_reply.started": "2025-09-23T11:08:14.989218Z"
    },
    "frozen": false
   },
   "outputs": [],
   "source": [
    "from optiwindnet.api import EWRouter"
   ]
  },
  {
   "cell_type": "code",
   "execution_count": 7,
   "id": "e4218728-24ee-4e12-a597-0aff167ce84d",
   "metadata": {
    "deletable": true,
    "editable": true,
    "execution": {
     "iopub.execute_input": "2025-09-23T11:08:14.994289Z",
     "iopub.status.busy": "2025-09-23T11:08:14.994289Z",
     "iopub.status.idle": "2025-09-23T11:08:14.999679Z",
     "shell.execute_reply": "2025-09-23T11:08:14.999679Z",
     "shell.execute_reply.started": "2025-09-23T11:08:14.994289Z"
    },
    "frozen": false
   },
   "outputs": [],
   "source": [
    "ew_router = EWRouter()"
   ]
  },
  {
   "cell_type": "markdown",
   "id": "e52ecc51",
   "metadata": {
    "deletable": true,
    "editable": true,
    "frozen": false
   },
   "source": [
    "#### HGSRouter\n",
    "\n",
    "To use this router, create an instance of the `HGSRouter` class. The *only required argument* is `time_limit`, which defines how long the optimization is allowed to run (in seconds)."
   ]
  },
  {
   "cell_type": "code",
   "execution_count": 8,
   "id": "3c842d29",
   "metadata": {
    "deletable": true,
    "editable": true,
    "execution": {
     "iopub.execute_input": "2025-09-23T11:08:14.999679Z",
     "iopub.status.busy": "2025-09-23T11:08:14.999679Z",
     "iopub.status.idle": "2025-09-23T11:08:15.007257Z",
     "shell.execute_reply": "2025-09-23T11:08:15.006750Z",
     "shell.execute_reply.started": "2025-09-23T11:08:14.999679Z"
    },
    "frozen": false
   },
   "outputs": [],
   "source": [
    "from optiwindnet.api import HGSRouter"
   ]
  },
  {
   "cell_type": "code",
   "execution_count": 9,
   "id": "346b0030",
   "metadata": {
    "deletable": true,
    "editable": true,
    "execution": {
     "iopub.execute_input": "2025-09-23T11:08:15.009264Z",
     "iopub.status.busy": "2025-09-23T11:08:15.009264Z",
     "iopub.status.idle": "2025-09-23T11:08:15.014750Z",
     "shell.execute_reply": "2025-09-23T11:08:15.013739Z",
     "shell.execute_reply.started": "2025-09-23T11:08:15.009264Z"
    },
    "frozen": false
   },
   "outputs": [],
   "source": [
    "hgs_router = HGSRouter(time_limit=1)"
   ]
  },
  {
   "cell_type": "markdown",
   "id": "8694bc98",
   "metadata": {
    "deletable": true,
    "editable": true,
    "frozen": false
   },
   "source": [
    "#### MILPRouter\n",
    "\n",
    "To use this router, create an instance of the `MILP` class.\n",
    "You must provide:\n",
    "\n",
    "* `solver_name`: the MILP solver to use (e.g., `'ortools'`, `'gurobi'`, `'cbc'`)\n",
    "* `time_limit`: maximum time allowed for solving (in seconds)\n",
    "* `mip_gap`: acceptable optimality gap (e.g., `0.005` = 0.5%)"
   ]
  },
  {
   "cell_type": "markdown",
   "id": "cc4966be",
   "metadata": {
    "deletable": true,
    "editable": true,
    "frozen": false
   },
   "source": [
    "Optional arguments:\n",
    "\n",
    "* `verbose` *(default: False)*: set to `True` to display solver progress and detailed logs\n",
    "* `solver_options`: dictionary of solver-specific parameters\n",
    "* `model_options`: advanced model settings (e.g., topology, feeder configuration)"
   ]
  },
  {
   "cell_type": "code",
   "execution_count": 10,
   "id": "9362998f",
   "metadata": {
    "deletable": true,
    "editable": true,
    "execution": {
     "iopub.execute_input": "2025-09-23T11:08:15.015749Z",
     "iopub.status.busy": "2025-09-23T11:08:15.015749Z",
     "iopub.status.idle": "2025-09-23T11:08:15.019746Z",
     "shell.execute_reply": "2025-09-23T11:08:15.019746Z",
     "shell.execute_reply.started": "2025-09-23T11:08:15.015749Z"
    },
    "frozen": false
   },
   "outputs": [],
   "source": [
    "from optiwindnet.api import MILPRouter"
   ]
  },
  {
   "cell_type": "code",
   "execution_count": 11,
   "id": "052b93cb",
   "metadata": {
    "deletable": true,
    "editable": true,
    "execution": {
     "iopub.execute_input": "2025-09-23T11:08:15.021033Z",
     "iopub.status.busy": "2025-09-23T11:08:15.021033Z",
     "iopub.status.idle": "2025-09-23T11:08:17.438720Z",
     "shell.execute_reply": "2025-09-23T11:08:17.438142Z",
     "shell.execute_reply.started": "2025-09-23T11:08:15.021033Z"
    },
    "frozen": false
   },
   "outputs": [],
   "source": [
    "milp_router = MILPRouter(solver_name='ortools', time_limit=20, mip_gap=0.005, verbose=True)"
   ]
  },
  {
   "cell_type": "markdown",
   "id": "77b319ef",
   "metadata": {
    "deletable": true,
    "editable": true,
    "frozen": false
   },
   "source": [
    "### 3. Run the optimization"
   ]
  },
  {
   "cell_type": "markdown",
   "id": "a1993761",
   "metadata": {
    "deletable": true,
    "editable": true,
    "frozen": false
   },
   "source": [
    "#### EWRouter (very fast)"
   ]
  },
  {
   "cell_type": "code",
   "execution_count": 12,
   "id": "db91b101-c598-4a53-859d-d2bd540c1bef",
   "metadata": {
    "deletable": true,
    "editable": true,
    "execution": {
     "iopub.execute_input": "2025-09-23T11:08:17.440082Z",
     "iopub.status.busy": "2025-09-23T11:08:17.440082Z",
     "iopub.status.idle": "2025-09-23T11:08:18.156934Z",
     "shell.execute_reply": "2025-09-23T11:08:18.156221Z",
     "shell.execute_reply.started": "2025-09-23T11:08:17.440082Z"
    },
    "frozen": false
   },
   "outputs": [
    {
     "name": "stdout",
     "output_type": "stream",
     "text": [
      "27.1 ms ± 533 μs per loop (mean ± std. dev. of 7 runs, 1 loop each)\n"
     ]
    }
   ],
   "source": [
    "%%timeit\n",
    "res_ew = wfn.optimize(router=ew_router)"
   ]
  },
  {
   "cell_type": "code",
   "execution_count": 13,
   "id": "0d340d87-76a2-4537-8267-a5ae267b3ac2",
   "metadata": {
    "deletable": true,
    "editable": true,
    "execution": {
     "iopub.execute_input": "2025-09-23T11:08:18.157442Z",
     "iopub.status.busy": "2025-09-23T11:08:18.157442Z",
     "iopub.status.idle": "2025-09-23T11:08:18.162799Z",
     "shell.execute_reply": "2025-09-23T11:08:18.162799Z",
     "shell.execute_reply.started": "2025-09-23T11:08:18.157442Z"
    },
    "frozen": false
   },
   "outputs": [
    {
     "data": {
      "text/plain": [
       "264936.30102115136"
      ]
     },
     "execution_count": 13,
     "metadata": {},
     "output_type": "execute_result"
    }
   ],
   "source": [
    "wfn.length()"
   ]
  },
  {
   "cell_type": "markdown",
   "id": "bc45a08e",
   "metadata": {
    "deletable": true,
    "editable": true,
    "frozen": false
   },
   "source": [
    "Plot optimized network\n",
    "\n",
    "> Note: we could use `wfn.plot()` for plotting the optimized network. For more details look into the notebook about [plotting](a04_Plotting.ipynb)"
   ]
  },
  {
   "cell_type": "code",
   "execution_count": 14,
   "id": "842e6996-49a7-4354-b28a-c3c042b5a6a3",
   "metadata": {
    "deletable": true,
    "editable": true,
    "execution": {
     "iopub.execute_input": "2025-09-23T11:08:18.162799Z",
     "iopub.status.busy": "2025-09-23T11:08:18.162799Z",
     "iopub.status.idle": "2025-09-23T11:08:18.176476Z",
     "shell.execute_reply": "2025-09-23T11:08:18.176476Z",
     "shell.execute_reply.started": "2025-09-23T11:08:18.162799Z"
    },
    "frozen": false
   },
   "outputs": [
    {
     "data": {
      "image/svg+xml": [
       "<svg xmlns=\"http://www.w3.org/2000/svg\" viewBox=\"0 0 1920 1028\"><defs><circle stroke=\"orange\" stroke-opacity=\"0.3\" stroke-width=\"4\" id=\"dt\" r=\"23\" fill=\"none\"/><circle stroke=\"none\" stroke-width=\"2\" id=\"wtg\" r=\"12\"/><rect stroke=\"#111\" stroke-width=\"2\" id=\"oss\" width=\"21\" height=\"21\" fill=\"lawngreen\"/><filter x=\"-5%\" y=\"-5%\" id=\"bg_textbox\" width=\"110%\" height=\"110%\"><feFlood flood-opacity=\"0.6\" flood-color=\"black\" result=\"bg\"/><feMerge><feMergeNode in=\"bg\"/><feMergeNode in=\"SourceGraphic\"/></feMerge></filter></defs><g id=\"doggerA\"><path stroke=\"silver\" stroke-dasharray=\"15 7\" stroke-width=\"2\" id=\"border\" d=\"M1098 998 30 535 42 30 1727 39 1890 202z\" fill-rule=\"evenodd\" fill=\"#111\"/><g stroke=\"crimson\" stroke-width=\"4\" id=\"edges_unspecified\"><line x1=\"158\" y1=\"367\" x2=\"224\" y2=\"288\"/><line x1=\"744\" y1=\"323\" x2=\"816\" y2=\"81\"/><line x1=\"744\" y1=\"323\" x2=\"853\" y2=\"415\"/><line x1=\"744\" y1=\"323\" x2=\"571\" y2=\"313\"/><line x1=\"744\" y1=\"323\" x2=\"679\" y2=\"403\"/><line x1=\"744\" y1=\"323\" x2=\"1158\" y2=\"270\"/><line x1=\"744\" y1=\"323\" x2=\"505\" y2=\"391\"/><line x1=\"744\" y1=\"323\" x2=\"1371\" y2=\"85\"/><line x1=\"744\" y1=\"323\" x2=\"1308\" y2=\"529\"/><line x1=\"655\" y1=\"651\" x2=\"721\" y2=\"572\"/><line x1=\"655\" y1=\"651\" x2=\"590\" y2=\"765\"/><line x1=\"547\" y1=\"560\" x2=\"613\" y2=\"481\"/><line x1=\"224\" y1=\"288\" x2=\"290\" y2=\"210\"/><line x1=\"1045\" y1=\"844\" x2=\"1111\" y2=\"765\"/><line x1=\"937\" y1=\"753\" x2=\"1003\" y2=\"675\"/><line x1=\"829\" y1=\"663\" x2=\"895\" y2=\"584\"/><line x1=\"613\" y1=\"481\" x2=\"679\" y2=\"403\"/><line x1=\"397\" y1=\"301\" x2=\"290\" y2=\"210\"/><line x1=\"397\" y1=\"301\" x2=\"331\" y2=\"379\"/><line x1=\"290\" y1=\"210\" x2=\"122\" y2=\"80\"/><line x1=\"1111\" y1=\"765\" x2=\"1176\" y2=\"687\"/><line x1=\"1003\" y1=\"675\" x2=\"1069\" y2=\"596\"/><line x1=\"895\" y1=\"584\" x2=\"787\" y2=\"494\"/><line x1=\"787\" y1=\"494\" x2=\"679\" y2=\"403\"/><line x1=\"463\" y1=\"222\" x2=\"571\" y2=\"313\"/><line x1=\"463\" y1=\"222\" x2=\"469\" y2=\"79\"/><line x1=\"1176\" y1=\"687\" x2=\"1069\" y2=\"596\"/><line x1=\"1069\" y1=\"596\" x2=\"961\" y2=\"505\"/><line x1=\"961\" y1=\"505\" x2=\"853\" y2=\"415\"/><line x1=\"1308\" y1=\"529\" x2=\"1374\" y2=\"451\"/><line x1=\"1308\" y1=\"529\" x2=\"1445\" y2=\"633\"/><line x1=\"1374\" y1=\"451\" x2=\"1440\" y2=\"373\"/><line x1=\"1266\" y1=\"361\" x2=\"1158\" y2=\"270\"/><line x1=\"1266\" y1=\"361\" x2=\"1332\" y2=\"282\"/><line x1=\"1158\" y1=\"270\" x2=\"1224\" y2=\"192\"/><line x1=\"1440\" y1=\"373\" x2=\"1506\" y2=\"294\"/><line x1=\"1332\" y1=\"282\" x2=\"1398\" y2=\"204\"/><line x1=\"1506\" y1=\"294\" x2=\"1572\" y2=\"216\"/><line x1=\"469\" y1=\"79\" x2=\"538\" y2=\"79\"/><line x1=\"538\" y1=\"79\" x2=\"608\" y2=\"80\"/><line x1=\"608\" y1=\"80\" x2=\"677\" y2=\"80\"/><line x1=\"677\" y1=\"80\" x2=\"747\" y2=\"81\"/><line x1=\"816\" y1=\"81\" x2=\"885\" y2=\"82\"/><line x1=\"885\" y1=\"82\" x2=\"954\" y2=\"82\"/><line x1=\"954\" y1=\"82\" x2=\"1024\" y2=\"83\"/><line x1=\"1024\" y1=\"83\" x2=\"1093\" y2=\"84\"/><line x1=\"1093\" y1=\"84\" x2=\"1163\" y2=\"84\"/><line x1=\"1163\" y1=\"84\" x2=\"1232\" y2=\"85\"/><line x1=\"1232\" y1=\"85\" x2=\"1301\" y2=\"85\"/><line x1=\"1371\" y1=\"85\" x2=\"1440\" y2=\"86\"/><line x1=\"1440\" y1=\"86\" x2=\"1510\" y2=\"87\"/><line x1=\"1510\" y1=\"87\" x2=\"1579\" y2=\"87\"/><line x1=\"1579\" y1=\"87\" x2=\"1648\" y2=\"87\"/><line x1=\"1648\" y1=\"87\" x2=\"1717\" y2=\"88\"/><line x1=\"1717\" y1=\"88\" x2=\"1774\" y2=\"128\"/><line x1=\"1836\" y1=\"239\" x2=\"1787\" y2=\"288\"/><line x1=\"1787\" y1=\"288\" x2=\"1738\" y2=\"337\"/><line x1=\"1738\" y1=\"337\" x2=\"1689\" y2=\"386\"/><line x1=\"1689\" y1=\"386\" x2=\"1640\" y2=\"436\"/><line x1=\"1640\" y1=\"436\" x2=\"1591\" y2=\"484\"/><line x1=\"1591\" y1=\"484\" x2=\"1542\" y2=\"534\"/><line x1=\"1542\" y1=\"534\" x2=\"1493\" y2=\"583\"/><line x1=\"1298\" y1=\"779\" x2=\"1249\" y2=\"829\"/><line x1=\"1249\" y1=\"829\" x2=\"1200\" y2=\"878\"/><line x1=\"1200\" y1=\"878\" x2=\"1151\" y2=\"927\"/><line x1=\"1035\" y1=\"957\" x2=\"1102\" y2=\"976\"/><line x1=\"1035\" y1=\"957\" x2=\"972\" y2=\"930\"/><line x1=\"972\" y1=\"930\" x2=\"908\" y2=\"903\"/><line x1=\"844\" y1=\"875\" x2=\"781\" y2=\"847\"/><line x1=\"781\" y1=\"847\" x2=\"717\" y2=\"820\"/><line x1=\"717\" y1=\"820\" x2=\"654\" y2=\"792\"/><line x1=\"654\" y1=\"792\" x2=\"590\" y2=\"765\"/><line x1=\"526\" y1=\"737\" x2=\"462\" y2=\"710\"/><line x1=\"462\" y1=\"710\" x2=\"399\" y2=\"681\"/><line x1=\"45\" y1=\"417\" x2=\"47\" y2=\"346\"/><line x1=\"45\" y1=\"417\" x2=\"43\" y2=\"486\"/><line x1=\"47\" y1=\"346\" x2=\"48\" y2=\"278\"/><line x1=\"48\" y1=\"278\" x2=\"50\" y2=\"208\"/><line x1=\"53\" y1=\"78\" x2=\"122\" y2=\"80\"/><line x1=\"1102\" y1=\"976\" x2=\"1151\" y2=\"927\"/><line x1=\"374\" y1=\"548\" x2=\"440\" y2=\"469\"/><line x1=\"374\" y1=\"548\" x2=\"335\" y2=\"654\"/><line x1=\"266\" y1=\"458\" x2=\"331\" y2=\"379\"/><line x1=\"440\" y1=\"469\" x2=\"505\" y2=\"391\"/><line x1=\"399\" y1=\"681\" x2=\"335\" y2=\"654\"/><line x1=\"335\" y1=\"654\" x2=\"272\" y2=\"626\"/><line x1=\"208\" y1=\"599\" x2=\"145\" y2=\"572\"/><line x1=\"145\" y1=\"572\" x2=\"81\" y2=\"544\"/><line x1=\"81\" y1=\"544\" x2=\"43\" y2=\"486\"/><line x1=\"1774\" y1=\"128\" x2=\"1831\" y2=\"167\"/></g><g stroke=\"darkorange\" stroke-dasharray=\"18 15\" stroke-width=\"4\" id=\"detours\" fill=\"none\"><polyline points=\"744 323 895 584 908 903\"/><polyline points=\"744 323 547 560 655 651\"/><polyline points=\"744 323 571 313 397 301\"/><polyline points=\"744 323 505 391 208 599\"/><polyline points=\"744 323 1445 633 1493 583\"/></g><g id=\"DTgrp\"><use href=\"#dt\" x=\"895\" y=\"584\"/><use href=\"#dt\" x=\"547\" y=\"560\"/><use href=\"#dt\" x=\"571\" y=\"313\"/><use href=\"#dt\" x=\"505\" y=\"391\"/><use href=\"#dt\" x=\"1445\" y=\"633\"/></g><g id=\"WTGgrp\"><g fill=\"#aec7e8\"><use href=\"#wtg\" x=\"158\" y=\"367\"/><use href=\"#wtg\" x=\"224\" y=\"288\"/><use href=\"#wtg\" x=\"397\" y=\"301\"/><use href=\"#wtg\" x=\"290\" y=\"210\"/><use href=\"#wtg\" x=\"53\" y=\"78\"/><use href=\"#wtg\" x=\"122\" y=\"80\"/><use href=\"#wtg\" x=\"266\" y=\"458\"/><use href=\"#wtg\" x=\"331\" y=\"379\"/></g><g fill=\"#1f77b4\"><use href=\"#wtg\" x=\"655\" y=\"651\"/><use href=\"#wtg\" x=\"721\" y=\"572\"/><use href=\"#wtg\" x=\"844\" y=\"875\"/><use href=\"#wtg\" x=\"781\" y=\"847\"/><use href=\"#wtg\" x=\"717\" y=\"820\"/><use href=\"#wtg\" x=\"654\" y=\"792\"/><use href=\"#wtg\" x=\"590\" y=\"765\"/></g><g fill=\"#ff7f0e\"><use href=\"#wtg\" x=\"547\" y=\"560\"/><use href=\"#wtg\" x=\"829\" y=\"663\"/><use href=\"#wtg\" x=\"613\" y=\"481\"/><use href=\"#wtg\" x=\"895\" y=\"584\"/><use href=\"#wtg\" x=\"787\" y=\"494\"/><use href=\"#wtg\" x=\"679\" y=\"403\"/></g><g fill=\"#ffbb78\"><use href=\"#wtg\" x=\"1045\" y=\"844\"/><use href=\"#wtg\" x=\"937\" y=\"753\"/><use href=\"#wtg\" x=\"1111\" y=\"765\"/><use href=\"#wtg\" x=\"1003\" y=\"675\"/><use href=\"#wtg\" x=\"1176\" y=\"687\"/><use href=\"#wtg\" x=\"1069\" y=\"596\"/><use href=\"#wtg\" x=\"961\" y=\"505\"/><use href=\"#wtg\" x=\"853\" y=\"415\"/></g><g fill=\"#c49c94\"><use href=\"#wtg\" x=\"463\" y=\"222\"/><use href=\"#wtg\" x=\"469\" y=\"79\"/><use href=\"#wtg\" x=\"538\" y=\"79\"/><use href=\"#wtg\" x=\"608\" y=\"80\"/><use href=\"#wtg\" x=\"677\" y=\"80\"/><use href=\"#wtg\" x=\"747\" y=\"81\"/><use href=\"#wtg\" x=\"571\" y=\"313\"/></g><g fill=\"#2ca02c\"><use href=\"#wtg\" x=\"1308\" y=\"529\"/><use href=\"#wtg\" x=\"1374\" y=\"451\"/><use href=\"#wtg\" x=\"1440\" y=\"373\"/><use href=\"#wtg\" x=\"1506\" y=\"294\"/><use href=\"#wtg\" x=\"1572\" y=\"216\"/><use href=\"#wtg\" x=\"1445\" y=\"633\"/></g><g fill=\"#98df8a\"><use href=\"#wtg\" x=\"1266\" y=\"361\"/><use href=\"#wtg\" x=\"1158\" y=\"270\"/><use href=\"#wtg\" x=\"1332\" y=\"282\"/><use href=\"#wtg\" x=\"1224\" y=\"192\"/><use href=\"#wtg\" x=\"1398\" y=\"204\"/></g><g fill=\"#d62728\"><use href=\"#wtg\" x=\"816\" y=\"81\"/><use href=\"#wtg\" x=\"885\" y=\"82\"/><use href=\"#wtg\" x=\"954\" y=\"82\"/><use href=\"#wtg\" x=\"1024\" y=\"83\"/><use href=\"#wtg\" x=\"1093\" y=\"84\"/><use href=\"#wtg\" x=\"1163\" y=\"84\"/><use href=\"#wtg\" x=\"1232\" y=\"85\"/><use href=\"#wtg\" x=\"1301\" y=\"85\"/></g><g fill=\"#ff9896\"><use href=\"#wtg\" x=\"1371\" y=\"85\"/><use href=\"#wtg\" x=\"1440\" y=\"86\"/><use href=\"#wtg\" x=\"1510\" y=\"87\"/><use href=\"#wtg\" x=\"1579\" y=\"87\"/><use href=\"#wtg\" x=\"1648\" y=\"87\"/><use href=\"#wtg\" x=\"1717\" y=\"88\"/><use href=\"#wtg\" x=\"1774\" y=\"128\"/><use href=\"#wtg\" x=\"1831\" y=\"167\"/></g><g fill=\"#9467bd\"><use href=\"#wtg\" x=\"1836\" y=\"239\"/><use href=\"#wtg\" x=\"1787\" y=\"288\"/><use href=\"#wtg\" x=\"1738\" y=\"337\"/><use href=\"#wtg\" x=\"1689\" y=\"386\"/><use href=\"#wtg\" x=\"1640\" y=\"436\"/><use href=\"#wtg\" x=\"1591\" y=\"484\"/><use href=\"#wtg\" x=\"1542\" y=\"534\"/><use href=\"#wtg\" x=\"1493\" y=\"583\"/></g><g fill=\"#c5b0d5\"><use href=\"#wtg\" x=\"1298\" y=\"779\"/><use href=\"#wtg\" x=\"1249\" y=\"829\"/><use href=\"#wtg\" x=\"1200\" y=\"878\"/><use href=\"#wtg\" x=\"1035\" y=\"957\"/><use href=\"#wtg\" x=\"972\" y=\"930\"/><use href=\"#wtg\" x=\"1102\" y=\"976\"/><use href=\"#wtg\" x=\"908\" y=\"903\"/><use href=\"#wtg\" x=\"1151\" y=\"927\"/></g><g fill=\"#8c564b\"><use href=\"#wtg\" x=\"526\" y=\"737\"/><use href=\"#wtg\" x=\"462\" y=\"710\"/><use href=\"#wtg\" x=\"374\" y=\"548\"/><use href=\"#wtg\" x=\"440\" y=\"469\"/><use href=\"#wtg\" x=\"505\" y=\"391\"/><use href=\"#wtg\" x=\"399\" y=\"681\"/><use href=\"#wtg\" x=\"335\" y=\"654\"/><use href=\"#wtg\" x=\"272\" y=\"626\"/></g><g fill=\"#e377c2\"><use href=\"#wtg\" x=\"45\" y=\"417\"/><use href=\"#wtg\" x=\"47\" y=\"346\"/><use href=\"#wtg\" x=\"48\" y=\"278\"/><use href=\"#wtg\" x=\"50\" y=\"208\"/><use href=\"#wtg\" x=\"208\" y=\"599\"/><use href=\"#wtg\" x=\"145\" y=\"572\"/><use href=\"#wtg\" x=\"81\" y=\"544\"/><use href=\"#wtg\" x=\"43\" y=\"486\"/></g></g><g id=\"OSSgrp\"><use href=\"#oss\" x=\"733.5\" y=\"312.5\"/></g></g><text filter=\"url(#bg_textbox)\" text-anchor=\"end\" font-family=\"sans-serif\" font-size=\"40\" fill=\"white\" x=\"1890\" y=\"998\"><tspan x=\"1890\" dy=\"-0.0em\">&#931;&#955; = 264936.0 m</tspan><tspan x=\"1890\" dy=\"-1.3em\">(+1) SS1: 13</tspan><tspan x=\"1890\" dy=\"-1.3em\">&#954; = 8, T = 95</tspan></text></svg>"
      ],
      "text/plain": [
       "<optiwindnet.api.WindFarmNetwork at 0x29efaff1040>"
      ]
     },
     "execution_count": 14,
     "metadata": {},
     "output_type": "execute_result"
    }
   ],
   "source": [
    "wfn"
   ]
  },
  {
   "cell_type": "markdown",
   "id": "95ce79c5",
   "metadata": {
    "deletable": true,
    "editable": true,
    "frozen": false
   },
   "source": [
    "> **Note:** When calling `.optimize()` multiple times on the **same** `WindFarmNetwork` instance, the previously stored solution and related information (e.g., network graph, cost, length) will be **overwritten**.\n",
    "> You can verify this by checking the updated total length or by re-plotting the optimized network and comparing it to the earlier result."
   ]
  },
  {
   "cell_type": "markdown",
   "id": "0d00cd7e",
   "metadata": {
    "deletable": true,
    "editable": true,
    "frozen": false
   },
   "source": [
    "#### HGSRouter (fast - radial only solutions)"
   ]
  },
  {
   "cell_type": "code",
   "execution_count": 15,
   "id": "181abc1b",
   "metadata": {
    "deletable": true,
    "editable": true,
    "execution": {
     "iopub.execute_input": "2025-09-23T11:08:18.178488Z",
     "iopub.status.busy": "2025-09-23T11:08:18.177488Z",
     "iopub.status.idle": "2025-09-23T11:08:19.240074Z",
     "shell.execute_reply": "2025-09-23T11:08:19.239550Z",
     "shell.execute_reply.started": "2025-09-23T11:08:18.178488Z"
    },
    "frozen": false
   },
   "outputs": [],
   "source": [
    "res_hgs = wfn.optimize(router=hgs_router)"
   ]
  },
  {
   "cell_type": "code",
   "execution_count": 16,
   "id": "92dfde90",
   "metadata": {
    "deletable": true,
    "editable": true,
    "execution": {
     "iopub.execute_input": "2025-09-23T11:08:19.242090Z",
     "iopub.status.busy": "2025-09-23T11:08:19.242090Z",
     "iopub.status.idle": "2025-09-23T11:08:19.248288Z",
     "shell.execute_reply": "2025-09-23T11:08:19.248288Z",
     "shell.execute_reply.started": "2025-09-23T11:08:19.242090Z"
    },
    "frozen": false
   },
   "outputs": [
    {
     "data": {
      "text/plain": [
       "<optiwindnet.api.HGSRouter at 0x29ef4f4a300>"
      ]
     },
     "execution_count": 16,
     "metadata": {},
     "output_type": "execute_result"
    }
   ],
   "source": [
    "wfn.router"
   ]
  },
  {
   "cell_type": "code",
   "execution_count": 17,
   "id": "ecc63aca",
   "metadata": {
    "deletable": true,
    "editable": true,
    "execution": {
     "iopub.execute_input": "2025-09-23T11:08:19.250568Z",
     "iopub.status.busy": "2025-09-23T11:08:19.249567Z",
     "iopub.status.idle": "2025-09-23T11:08:19.258436Z",
     "shell.execute_reply": "2025-09-23T11:08:19.257352Z",
     "shell.execute_reply.started": "2025-09-23T11:08:19.250568Z"
    },
    "frozen": false
   },
   "outputs": [
    {
     "data": {
      "text/plain": [
       "243320.14066103278"
      ]
     },
     "execution_count": 17,
     "metadata": {},
     "output_type": "execute_result"
    }
   ],
   "source": [
    "wfn.length()"
   ]
  },
  {
   "cell_type": "code",
   "execution_count": 18,
   "id": "02a617ed",
   "metadata": {
    "deletable": true,
    "editable": true,
    "execution": {
     "iopub.execute_input": "2025-09-23T11:08:19.259979Z",
     "iopub.status.busy": "2025-09-23T11:08:19.259979Z",
     "iopub.status.idle": "2025-09-23T11:08:19.270707Z",
     "shell.execute_reply": "2025-09-23T11:08:19.269985Z",
     "shell.execute_reply.started": "2025-09-23T11:08:19.259979Z"
    },
    "frozen": false
   },
   "outputs": [
    {
     "data": {
      "image/svg+xml": [
       "<svg xmlns=\"http://www.w3.org/2000/svg\" viewBox=\"0 0 1920 1028\"><defs><circle stroke=\"none\" stroke-width=\"2\" id=\"wtg\" r=\"12\"/><rect stroke=\"#111\" stroke-width=\"2\" id=\"oss\" width=\"21\" height=\"21\" fill=\"lawngreen\"/><filter x=\"-5%\" y=\"-5%\" id=\"bg_textbox\" width=\"110%\" height=\"110%\"><feFlood flood-opacity=\"0.6\" flood-color=\"black\" result=\"bg\"/><feMerge><feMergeNode in=\"bg\"/><feMergeNode in=\"SourceGraphic\"/></feMerge></filter></defs><g id=\"doggerA\"><path stroke=\"silver\" stroke-dasharray=\"15 7\" stroke-width=\"2\" id=\"border\" d=\"M1098 998 30 535 42 30 1727 39 1890 202z\" fill-rule=\"evenodd\" fill=\"#111\"/><g stroke=\"crimson\" stroke-width=\"4\" id=\"edges_unspecified\"><line x1=\"744\" y1=\"323\" x2=\"571\" y2=\"313\"/><line x1=\"397\" y1=\"301\" x2=\"571\" y2=\"313\"/><line x1=\"397\" y1=\"301\" x2=\"331\" y2=\"379\"/><line x1=\"266\" y1=\"458\" x2=\"331\" y2=\"379\"/><line x1=\"158\" y1=\"367\" x2=\"266\" y2=\"458\"/><line x1=\"158\" y1=\"367\" x2=\"47\" y2=\"346\"/><line x1=\"45\" y1=\"417\" x2=\"47\" y2=\"346\"/><line x1=\"45\" y1=\"417\" x2=\"43\" y2=\"486\"/><line x1=\"744\" y1=\"323\" x2=\"787\" y2=\"494\"/><line x1=\"744\" y1=\"323\" x2=\"853\" y2=\"415\"/><line x1=\"744\" y1=\"323\" x2=\"954\" y2=\"82\"/><line x1=\"744\" y1=\"323\" x2=\"679\" y2=\"403\"/><line x1=\"744\" y1=\"323\" x2=\"1158\" y2=\"270\"/><line x1=\"744\" y1=\"323\" x2=\"1224\" y2=\"192\"/><line x1=\"744\" y1=\"323\" x2=\"1266\" y2=\"361\"/><line x1=\"744\" y1=\"323\" x2=\"1024\" y2=\"83\"/><line x1=\"744\" y1=\"323\" x2=\"463\" y2=\"222\"/><line x1=\"744\" y1=\"323\" x2=\"895\" y2=\"584\"/><line x1=\"744\" y1=\"323\" x2=\"505\" y2=\"391\"/><line x1=\"440\" y1=\"469\" x2=\"505\" y2=\"391\"/><line x1=\"374\" y1=\"548\" x2=\"440\" y2=\"469\"/><line x1=\"374\" y1=\"548\" x2=\"335\" y2=\"654\"/><line x1=\"335\" y1=\"654\" x2=\"272\" y2=\"626\"/><line x1=\"272\" y1=\"626\" x2=\"208\" y2=\"599\"/><line x1=\"208\" y1=\"599\" x2=\"145\" y2=\"572\"/><line x1=\"145\" y1=\"572\" x2=\"81\" y2=\"544\"/><line x1=\"613\" y1=\"481\" x2=\"679\" y2=\"403\"/><line x1=\"547\" y1=\"560\" x2=\"613\" y2=\"481\"/><line x1=\"547\" y1=\"560\" x2=\"399\" y2=\"681\"/><line x1=\"462\" y1=\"710\" x2=\"399\" y2=\"681\"/><line x1=\"526\" y1=\"737\" x2=\"462\" y2=\"710\"/><line x1=\"590\" y1=\"765\" x2=\"526\" y2=\"737\"/><line x1=\"654\" y1=\"792\" x2=\"590\" y2=\"765\"/><line x1=\"721\" y1=\"572\" x2=\"787\" y2=\"494\"/><line x1=\"655\" y1=\"651\" x2=\"721\" y2=\"572\"/><line x1=\"655\" y1=\"651\" x2=\"717\" y2=\"820\"/><line x1=\"781\" y1=\"847\" x2=\"717\" y2=\"820\"/><line x1=\"844\" y1=\"875\" x2=\"781\" y2=\"847\"/><line x1=\"844\" y1=\"875\" x2=\"908\" y2=\"903\"/><line x1=\"972\" y1=\"930\" x2=\"908\" y2=\"903\"/><line x1=\"829\" y1=\"663\" x2=\"895\" y2=\"584\"/><line x1=\"937\" y1=\"753\" x2=\"829\" y2=\"663\"/><line x1=\"1045\" y1=\"844\" x2=\"937\" y2=\"753\"/><line x1=\"1045\" y1=\"844\" x2=\"1035\" y2=\"957\"/><line x1=\"1035\" y1=\"957\" x2=\"1102\" y2=\"976\"/><line x1=\"1102\" y1=\"976\" x2=\"1151\" y2=\"927\"/><line x1=\"1200\" y1=\"878\" x2=\"1151\" y2=\"927\"/><line x1=\"961\" y1=\"505\" x2=\"853\" y2=\"415\"/><line x1=\"1069\" y1=\"596\" x2=\"961\" y2=\"505\"/><line x1=\"1003\" y1=\"675\" x2=\"1069\" y2=\"596\"/><line x1=\"1111\" y1=\"765\" x2=\"1003\" y2=\"675\"/><line x1=\"1111\" y1=\"765\" x2=\"1176\" y2=\"687\"/><line x1=\"1176\" y1=\"687\" x2=\"1298\" y2=\"779\"/><line x1=\"1298\" y1=\"779\" x2=\"1249\" y2=\"829\"/><line x1=\"1374\" y1=\"451\" x2=\"1266\" y2=\"361\"/><line x1=\"1308\" y1=\"529\" x2=\"1374\" y2=\"451\"/><line x1=\"1308\" y1=\"529\" x2=\"1445\" y2=\"633\"/><line x1=\"1493\" y1=\"583\" x2=\"1445\" y2=\"633\"/><line x1=\"1542\" y1=\"534\" x2=\"1493\" y2=\"583\"/><line x1=\"1591\" y1=\"484\" x2=\"1542\" y2=\"534\"/><line x1=\"1640\" y1=\"436\" x2=\"1591\" y2=\"484\"/><line x1=\"1158\" y1=\"270\" x2=\"1332\" y2=\"282\"/><line x1=\"1440\" y1=\"373\" x2=\"1332\" y2=\"282\"/><line x1=\"1440\" y1=\"373\" x2=\"1506\" y2=\"294\"/><line x1=\"1506\" y1=\"294\" x2=\"1689\" y2=\"386\"/><line x1=\"1738\" y1=\"337\" x2=\"1689\" y2=\"386\"/><line x1=\"1787\" y1=\"288\" x2=\"1738\" y2=\"337\"/><line x1=\"1836\" y1=\"239\" x2=\"1787\" y2=\"288\"/><line x1=\"1224\" y1=\"192\" x2=\"1398\" y2=\"204\"/><line x1=\"1398\" y1=\"204\" x2=\"1572\" y2=\"216\"/><line x1=\"1572\" y1=\"216\" x2=\"1579\" y2=\"87\"/><line x1=\"1579\" y1=\"87\" x2=\"1648\" y2=\"87\"/><line x1=\"1648\" y1=\"87\" x2=\"1717\" y2=\"88\"/><line x1=\"1717\" y1=\"88\" x2=\"1774\" y2=\"128\"/><line x1=\"1774\" y1=\"128\" x2=\"1831\" y2=\"167\"/><line x1=\"1024\" y1=\"83\" x2=\"1093\" y2=\"84\"/><line x1=\"1093\" y1=\"84\" x2=\"1163\" y2=\"84\"/><line x1=\"1163\" y1=\"84\" x2=\"1232\" y2=\"85\"/><line x1=\"1232\" y1=\"85\" x2=\"1301\" y2=\"85\"/><line x1=\"1301\" y1=\"85\" x2=\"1371\" y2=\"85\"/><line x1=\"1371\" y1=\"85\" x2=\"1440\" y2=\"86\"/><line x1=\"1440\" y1=\"86\" x2=\"1510\" y2=\"87\"/><line x1=\"885\" y1=\"82\" x2=\"954\" y2=\"82\"/><line x1=\"816\" y1=\"81\" x2=\"885\" y2=\"82\"/><line x1=\"747\" y1=\"81\" x2=\"816\" y2=\"81\"/><line x1=\"677\" y1=\"80\" x2=\"747\" y2=\"81\"/><line x1=\"608\" y1=\"80\" x2=\"677\" y2=\"80\"/><line x1=\"538\" y1=\"79\" x2=\"608\" y2=\"80\"/><line x1=\"469\" y1=\"79\" x2=\"538\" y2=\"79\"/><line x1=\"290\" y1=\"210\" x2=\"463\" y2=\"222\"/><line x1=\"224\" y1=\"288\" x2=\"290\" y2=\"210\"/><line x1=\"224\" y1=\"288\" x2=\"48\" y2=\"278\"/><line x1=\"48\" y1=\"278\" x2=\"50\" y2=\"208\"/><line x1=\"50\" y1=\"208\" x2=\"53\" y2=\"78\"/><line x1=\"53\" y1=\"78\" x2=\"122\" y2=\"80\"/></g><g id=\"WTGgrp\"><g fill=\"#1f77b4\"><use href=\"#wtg\" x=\"571\" y=\"313\"/><use href=\"#wtg\" x=\"397\" y=\"301\"/><use href=\"#wtg\" x=\"331\" y=\"379\"/><use href=\"#wtg\" x=\"266\" y=\"458\"/><use href=\"#wtg\" x=\"158\" y=\"367\"/><use href=\"#wtg\" x=\"47\" y=\"346\"/><use href=\"#wtg\" x=\"45\" y=\"417\"/><use href=\"#wtg\" x=\"43\" y=\"486\"/></g><g fill=\"#aec7e8\"><use href=\"#wtg\" x=\"505\" y=\"391\"/><use href=\"#wtg\" x=\"440\" y=\"469\"/><use href=\"#wtg\" x=\"374\" y=\"548\"/><use href=\"#wtg\" x=\"335\" y=\"654\"/><use href=\"#wtg\" x=\"272\" y=\"626\"/><use href=\"#wtg\" x=\"208\" y=\"599\"/><use href=\"#wtg\" x=\"145\" y=\"572\"/><use href=\"#wtg\" x=\"81\" y=\"544\"/></g><g fill=\"#ff7f0e\"><use href=\"#wtg\" x=\"679\" y=\"403\"/><use href=\"#wtg\" x=\"613\" y=\"481\"/><use href=\"#wtg\" x=\"547\" y=\"560\"/><use href=\"#wtg\" x=\"399\" y=\"681\"/><use href=\"#wtg\" x=\"462\" y=\"710\"/><use href=\"#wtg\" x=\"526\" y=\"737\"/><use href=\"#wtg\" x=\"590\" y=\"765\"/><use href=\"#wtg\" x=\"654\" y=\"792\"/></g><g fill=\"#ffbb78\"><use href=\"#wtg\" x=\"787\" y=\"494\"/><use href=\"#wtg\" x=\"721\" y=\"572\"/><use href=\"#wtg\" x=\"655\" y=\"651\"/><use href=\"#wtg\" x=\"717\" y=\"820\"/><use href=\"#wtg\" x=\"781\" y=\"847\"/><use href=\"#wtg\" x=\"844\" y=\"875\"/><use href=\"#wtg\" x=\"908\" y=\"903\"/><use href=\"#wtg\" x=\"972\" y=\"930\"/></g><g fill=\"#2ca02c\"><use href=\"#wtg\" x=\"895\" y=\"584\"/><use href=\"#wtg\" x=\"829\" y=\"663\"/><use href=\"#wtg\" x=\"937\" y=\"753\"/><use href=\"#wtg\" x=\"1045\" y=\"844\"/><use href=\"#wtg\" x=\"1035\" y=\"957\"/><use href=\"#wtg\" x=\"1102\" y=\"976\"/><use href=\"#wtg\" x=\"1151\" y=\"927\"/><use href=\"#wtg\" x=\"1200\" y=\"878\"/></g><g fill=\"#98df8a\"><use href=\"#wtg\" x=\"853\" y=\"415\"/><use href=\"#wtg\" x=\"961\" y=\"505\"/><use href=\"#wtg\" x=\"1069\" y=\"596\"/><use href=\"#wtg\" x=\"1003\" y=\"675\"/><use href=\"#wtg\" x=\"1111\" y=\"765\"/><use href=\"#wtg\" x=\"1176\" y=\"687\"/><use href=\"#wtg\" x=\"1298\" y=\"779\"/><use href=\"#wtg\" x=\"1249\" y=\"829\"/></g><g fill=\"#d62728\"><use href=\"#wtg\" x=\"1266\" y=\"361\"/><use href=\"#wtg\" x=\"1374\" y=\"451\"/><use href=\"#wtg\" x=\"1308\" y=\"529\"/><use href=\"#wtg\" x=\"1445\" y=\"633\"/><use href=\"#wtg\" x=\"1493\" y=\"583\"/><use href=\"#wtg\" x=\"1542\" y=\"534\"/><use href=\"#wtg\" x=\"1591\" y=\"484\"/><use href=\"#wtg\" x=\"1640\" y=\"436\"/></g><g fill=\"#ff9896\"><use href=\"#wtg\" x=\"1158\" y=\"270\"/><use href=\"#wtg\" x=\"1332\" y=\"282\"/><use href=\"#wtg\" x=\"1440\" y=\"373\"/><use href=\"#wtg\" x=\"1506\" y=\"294\"/><use href=\"#wtg\" x=\"1689\" y=\"386\"/><use href=\"#wtg\" x=\"1738\" y=\"337\"/><use href=\"#wtg\" x=\"1787\" y=\"288\"/><use href=\"#wtg\" x=\"1836\" y=\"239\"/></g><g fill=\"#9467bd\"><use href=\"#wtg\" x=\"1224\" y=\"192\"/><use href=\"#wtg\" x=\"1398\" y=\"204\"/><use href=\"#wtg\" x=\"1572\" y=\"216\"/><use href=\"#wtg\" x=\"1579\" y=\"87\"/><use href=\"#wtg\" x=\"1648\" y=\"87\"/><use href=\"#wtg\" x=\"1717\" y=\"88\"/><use href=\"#wtg\" x=\"1774\" y=\"128\"/><use href=\"#wtg\" x=\"1831\" y=\"167\"/></g><g fill=\"#c5b0d5\"><use href=\"#wtg\" x=\"1024\" y=\"83\"/><use href=\"#wtg\" x=\"1093\" y=\"84\"/><use href=\"#wtg\" x=\"1163\" y=\"84\"/><use href=\"#wtg\" x=\"1232\" y=\"85\"/><use href=\"#wtg\" x=\"1301\" y=\"85\"/><use href=\"#wtg\" x=\"1371\" y=\"85\"/><use href=\"#wtg\" x=\"1440\" y=\"86\"/><use href=\"#wtg\" x=\"1510\" y=\"87\"/></g><g fill=\"#8c564b\"><use href=\"#wtg\" x=\"954\" y=\"82\"/><use href=\"#wtg\" x=\"885\" y=\"82\"/><use href=\"#wtg\" x=\"816\" y=\"81\"/><use href=\"#wtg\" x=\"747\" y=\"81\"/><use href=\"#wtg\" x=\"677\" y=\"80\"/><use href=\"#wtg\" x=\"608\" y=\"80\"/><use href=\"#wtg\" x=\"538\" y=\"79\"/><use href=\"#wtg\" x=\"469\" y=\"79\"/></g><g fill=\"#c49c94\"><use href=\"#wtg\" x=\"463\" y=\"222\"/><use href=\"#wtg\" x=\"290\" y=\"210\"/><use href=\"#wtg\" x=\"224\" y=\"288\"/><use href=\"#wtg\" x=\"48\" y=\"278\"/><use href=\"#wtg\" x=\"50\" y=\"208\"/><use href=\"#wtg\" x=\"53\" y=\"78\"/><use href=\"#wtg\" x=\"122\" y=\"80\"/></g></g><g id=\"OSSgrp\"><use href=\"#oss\" x=\"733.5\" y=\"312.5\"/></g></g><text filter=\"url(#bg_textbox)\" text-anchor=\"end\" font-family=\"sans-serif\" font-size=\"40\" fill=\"white\" x=\"1890\" y=\"998\"><tspan x=\"1890\" dy=\"-0.0em\">&#931;&#955; = 243320.0 m</tspan><tspan x=\"1890\" dy=\"-1.3em\">(+0) SS1: 12</tspan><tspan x=\"1890\" dy=\"-1.3em\">&#954; = 8, T = 95</tspan></text></svg>"
      ],
      "text/plain": [
       "<optiwindnet.api.WindFarmNetwork at 0x29efaff1040>"
      ]
     },
     "execution_count": 18,
     "metadata": {},
     "output_type": "execute_result"
    }
   ],
   "source": [
    "wfn"
   ]
  },
  {
   "cell_type": "markdown",
   "id": "454c5969",
   "metadata": {
    "deletable": true,
    "editable": true,
    "frozen": false
   },
   "source": [
    "> Note that the HGSRouter always produces a network with **radial topology**.\n",
    ">\n",
    "> A **radial topology** means that each turbine is has at most two connections (maximum degree of 2). Constrast that with the default **branched topology**, where there is no limit on the number of connections of each turbine. See the figure below for an illustrative example."
   ]
  },
  {
   "cell_type": "code",
   "execution_count": 19,
   "id": "0251de67-d621-4087-ba09-08d1dfaaeab5",
   "metadata": {
    "editable": true,
    "execution": {
     "iopub.execute_input": "2025-09-23T11:08:19.271714Z",
     "iopub.status.busy": "2025-09-23T11:08:19.271714Z",
     "iopub.status.idle": "2025-09-23T11:08:19.280225Z",
     "shell.execute_reply": "2025-09-23T11:08:19.279716Z",
     "shell.execute_reply.started": "2025-09-23T11:08:19.271714Z"
    },
    "frozen": false
   },
   "outputs": [],
   "source": [
    "from optiwindnet.synthetic import toyfarm\n",
    "from optiwindnet.api import ModelOptions"
   ]
  },
  {
   "cell_type": "code",
   "execution_count": 20,
   "id": "78b2a511-03a4-444c-aa4c-3840df2ecbb5",
   "metadata": {
    "editable": true,
    "execution": {
     "iopub.execute_input": "2025-09-23T11:08:19.281249Z",
     "iopub.status.busy": "2025-09-23T11:08:19.281249Z",
     "iopub.status.idle": "2025-09-23T11:08:19.726897Z",
     "shell.execute_reply": "2025-09-23T11:08:19.726897Z",
     "shell.execute_reply.started": "2025-09-23T11:08:19.281249Z"
    },
    "frozen": false
   },
   "outputs": [
    {
     "data": {
      "image/svg+xml": [
       "<?xml version=\"1.0\" encoding=\"utf-8\" standalone=\"no\"?>\n",
       "<!DOCTYPE svg PUBLIC \"-//W3C//DTD SVG 1.1//EN\"\n",
       "  \"http://www.w3.org/Graphics/SVG/1.1/DTD/svg11.dtd\">\n",
       "<svg xmlns:xlink=\"http://www.w3.org/1999/xlink\" width=\"371.52pt\" height=\"233.756485pt\" viewBox=\"0 0 371.52 233.756485\" xmlns=\"http://www.w3.org/2000/svg\" version=\"1.1\">\n",
       " <metadata>\n",
       "  <rdf:RDF xmlns:dc=\"http://purl.org/dc/elements/1.1/\" xmlns:cc=\"http://creativecommons.org/ns#\" xmlns:rdf=\"http://www.w3.org/1999/02/22-rdf-syntax-ns#\">\n",
       "   <cc:Work>\n",
       "    <dc:type rdf:resource=\"http://purl.org/dc/dcmitype/StillImage\"/>\n",
       "    <dc:date>2025-09-23T13:08:19.706264</dc:date>\n",
       "    <dc:format>image/svg+xml</dc:format>\n",
       "    <dc:creator>\n",
       "     <cc:Agent>\n",
       "      <dc:title>Matplotlib v3.10.6, https://matplotlib.org/</dc:title>\n",
       "     </cc:Agent>\n",
       "    </dc:creator>\n",
       "   </cc:Work>\n",
       "  </rdf:RDF>\n",
       " </metadata>\n",
       " <defs>\n",
       "  <style type=\"text/css\">*{stroke-linejoin: round; stroke-linecap: butt}</style>\n",
       " </defs>\n",
       " <g id=\"figure_1\">\n",
       "  <g id=\"patch_1\">\n",
       "   <path d=\"M 0 233.756485 \n",
       "L 371.52 233.756485 \n",
       "L 371.52 0 \n",
       "L 0 0 \n",
       "L 0 233.756485 \n",
       "z\n",
       "\" style=\"fill: none\"/>\n",
       "  </g>\n",
       "  <g id=\"axes_1\">\n",
       "   <g id=\"patch_2\">\n",
       "    <path d=\"M 74.803731 32.520851 \n",
       "L 56.598736 89.294159 \n",
       "L 35.390856 139.498654 \n",
       "L 15.309058 187.169464 \n",
       "L 60.446184 216.353759 \n",
       "L 116.56261 198.148765 \n",
       "L 136.550568 148.601151 \n",
       "L 161.418215 106.373071 \n",
       "L 135.799846 72.590607 \n",
       "z\n",
       "\" clip-path=\"url(#p1209cf8169)\" style=\"fill: #111111; stroke-dasharray: 2.59,1.12; stroke-dashoffset: 0; stroke: #c0c0c0; stroke-width: 0.7; stroke-linejoin: miter\"/>\n",
       "   </g>\n",
       "   <g id=\"LineCollection_1\">\n",
       "    <path d=\"M 74.803731 32.520851 \n",
       "L 96.011611 72.965968 \n",
       "\" clip-path=\"url(#p1209cf8169)\" style=\"fill: none; stroke: #dc143c; stroke-linecap: round\"/>\n",
       "    <path d=\"M 96.011611 72.965968 \n",
       "L 56.598736 89.294159 \n",
       "\" clip-path=\"url(#p1209cf8169)\" style=\"fill: none; stroke: #dc143c; stroke-linecap: round\"/>\n",
       "    <path d=\"M 56.598736 89.294159 \n",
       "L 35.390856 139.498654 \n",
       "\" clip-path=\"url(#p1209cf8169)\" style=\"fill: none; stroke: #dc143c; stroke-linecap: round\"/>\n",
       "    <path d=\"M 35.390856 139.498654 \n",
       "L 70.205562 125.704148 \n",
       "\" clip-path=\"url(#p1209cf8169)\" style=\"fill: none; stroke: #dc143c; stroke-linecap: round\"/>\n",
       "    <path d=\"M 135.799846 72.590607 \n",
       "L 161.418215 106.373071 \n",
       "\" clip-path=\"url(#p1209cf8169)\" style=\"fill: none; stroke: #dc143c; stroke-linecap: round\"/>\n",
       "    <path d=\"M 161.418215 106.373071 \n",
       "L 136.550568 148.601151 \n",
       "\" clip-path=\"url(#p1209cf8169)\" style=\"fill: none; stroke: #dc143c; stroke-linecap: round\"/>\n",
       "    <path d=\"M 136.550568 148.601151 \n",
       "L 105.020268 115.475568 \n",
       "\" clip-path=\"url(#p1209cf8169)\" style=\"fill: none; stroke: #dc143c; stroke-linecap: round\"/>\n",
       "    <path d=\"M 15.309058 187.169464 \n",
       "L 60.446184 216.353759 \n",
       "\" clip-path=\"url(#p1209cf8169)\" style=\"fill: none; stroke: #dc143c; stroke-linecap: round\"/>\n",
       "    <path d=\"M 60.446184 216.353759 \n",
       "L 116.56261 198.148765 \n",
       "\" clip-path=\"url(#p1209cf8169)\" style=\"fill: none; stroke: #dc143c; stroke-linecap: round\"/>\n",
       "    <path d=\"M 116.56261 198.148765 \n",
       "L 78.651178 170.278232 \n",
       "\" clip-path=\"url(#p1209cf8169)\" style=\"fill: none; stroke: #dc143c; stroke-linecap: round\"/>\n",
       "    <path d=\"M 105.020268 115.475568 \n",
       "L 70.205562 125.704148 \n",
       "\" clip-path=\"url(#p1209cf8169)\" style=\"fill: none; stroke: #dc143c; stroke-linecap: round\"/>\n",
       "    <path d=\"M 78.651178 170.278232 \n",
       "L 70.205562 125.704148 \n",
       "\" clip-path=\"url(#p1209cf8169)\" style=\"fill: none; stroke: #dc143c; stroke-linecap: round\"/>\n",
       "   </g>\n",
       "   <g id=\"PathCollection_1\">\n",
       "    <defs>\n",
       "     <path id=\"m3f54c156a3\" d=\"M -2.95804 2.95804 \n",
       "L 2.95804 2.95804 \n",
       "L 2.95804 -2.95804 \n",
       "L -2.95804 -2.95804 \n",
       "z\n",
       "\" style=\"stroke: #111111; stroke-width: 0.3\"/>\n",
       "    </defs>\n",
       "    <g>\n",
       "     <use xlink:href=\"#m3f54c156a3\" x=\"70.205562\" y=\"125.704148\" style=\"fill: #7cfc00; stroke: #111111; stroke-width: 0.3\"/>\n",
       "    </g>\n",
       "   </g>\n",
       "   <g id=\"PathCollection_2\">\n",
       "    <defs>\n",
       "     <path id=\"C0_0_1f83879f68\" d=\"M 0 2.95804 \n",
       "C 0.784481 2.95804 1.536938 2.646362 2.09165 2.09165 \n",
       "C 2.646362 1.536938 2.95804 0.784481 2.95804 -0 \n",
       "C 2.95804 -0.784481 2.646362 -1.536938 2.09165 -2.09165 \n",
       "C 1.536938 -2.646362 0.784481 -2.95804 0 -2.95804 \n",
       "C -0.784481 -2.95804 -1.536938 -2.646362 -2.09165 -2.09165 \n",
       "C -2.646362 -1.536938 -2.95804 -0.784481 -2.95804 0 \n",
       "C -2.95804 0.784481 -2.646362 1.536938 -2.09165 2.09165 \n",
       "C -1.536938 2.646362 -0.784481 2.95804 0 2.95804 \n",
       "z\n",
       "\"/>\n",
       "    </defs>\n",
       "    <use xlink:href=\"#C0_0_1f83879f68\" x=\"74.803731\" y=\"32.520851\" style=\"fill: #1f77b4\"/>\n",
       "    <use xlink:href=\"#C0_0_1f83879f68\" x=\"56.598736\" y=\"89.294159\" style=\"fill: #1f77b4\"/>\n",
       "    <use xlink:href=\"#C0_0_1f83879f68\" x=\"96.011611\" y=\"72.965968\" style=\"fill: #1f77b4\"/>\n",
       "    <use xlink:href=\"#C0_0_1f83879f68\" x=\"135.799846\" y=\"72.590607\" style=\"fill: #aec7e8\"/>\n",
       "    <use xlink:href=\"#C0_0_1f83879f68\" x=\"35.390856\" y=\"139.498654\" style=\"fill: #1f77b4\"/>\n",
       "    <use xlink:href=\"#C0_0_1f83879f68\" x=\"105.020268\" y=\"115.475568\" style=\"fill: #aec7e8\"/>\n",
       "    <use xlink:href=\"#C0_0_1f83879f68\" x=\"161.418215\" y=\"106.373071\" style=\"fill: #aec7e8\"/>\n",
       "    <use xlink:href=\"#C0_0_1f83879f68\" x=\"15.309058\" y=\"187.169464\" style=\"fill: #ff7f0e\"/>\n",
       "    <use xlink:href=\"#C0_0_1f83879f68\" x=\"78.651178\" y=\"170.278232\" style=\"fill: #ff7f0e\"/>\n",
       "    <use xlink:href=\"#C0_0_1f83879f68\" x=\"136.550568\" y=\"148.601151\" style=\"fill: #aec7e8\"/>\n",
       "    <use xlink:href=\"#C0_0_1f83879f68\" x=\"60.446184\" y=\"216.353759\" style=\"fill: #ff7f0e\"/>\n",
       "    <use xlink:href=\"#C0_0_1f83879f68\" x=\"116.56261\" y=\"198.148765\" style=\"fill: #ff7f0e\"/>\n",
       "   </g>\n",
       "   <g id=\"text_1\">\n",
       "    <text style=\"font-size: 12px; font-family: 'DejaVu Sans', 'Bitstream Vera Sans', 'Computer Modern Sans Serif', 'Lucida Grande', 'Verdana', 'Geneva', 'Lucid', 'Arial', 'Helvetica', 'Avant Garde', sans-serif; text-anchor: middle; fill: #888888\" x=\"88.363636\" y=\"16.318125\" transform=\"rotate(-0 88.363636 16.318125)\">Radial</text>\n",
       "   </g>\n",
       "  </g>\n",
       "  <g id=\"axes_2\">\n",
       "   <g id=\"patch_3\">\n",
       "    <path d=\"M 269.596458 32.520851 \n",
       "L 251.391464 89.294159 \n",
       "L 230.183583 139.498654 \n",
       "L 210.101785 187.169464 \n",
       "L 255.238911 216.353759 \n",
       "L 311.355337 198.148765 \n",
       "L 331.343295 148.601151 \n",
       "L 356.210942 106.373071 \n",
       "L 330.592573 72.590607 \n",
       "z\n",
       "\" clip-path=\"url(#p6aea7eb2be)\" style=\"fill: #111111; stroke-dasharray: 2.59,1.12; stroke-dashoffset: 0; stroke: #c0c0c0; stroke-width: 0.7; stroke-linejoin: miter\"/>\n",
       "   </g>\n",
       "   <g id=\"LineCollection_2\">\n",
       "    <path d=\"M 269.596458 32.520851 \n",
       "L 290.804338 72.965968 \n",
       "\" clip-path=\"url(#p6aea7eb2be)\" style=\"fill: none; stroke: #dc143c; stroke-linecap: round\"/>\n",
       "    <path d=\"M 290.804338 72.965968 \n",
       "L 251.391464 89.294159 \n",
       "\" clip-path=\"url(#p6aea7eb2be)\" style=\"fill: none; stroke: #dc143c; stroke-linecap: round\"/>\n",
       "    <path d=\"M 290.804338 72.965968 \n",
       "L 330.592573 72.590607 \n",
       "\" clip-path=\"url(#p6aea7eb2be)\" style=\"fill: none; stroke: #dc143c; stroke-linecap: round\"/>\n",
       "    <path d=\"M 356.210942 106.373071 \n",
       "L 331.343295 148.601151 \n",
       "\" clip-path=\"url(#p6aea7eb2be)\" style=\"fill: none; stroke: #dc143c; stroke-linecap: round\"/>\n",
       "    <path d=\"M 331.343295 148.601151 \n",
       "L 299.812995 115.475568 \n",
       "\" clip-path=\"url(#p6aea7eb2be)\" style=\"fill: none; stroke: #dc143c; stroke-linecap: round\"/>\n",
       "    <path d=\"M 331.343295 148.601151 \n",
       "L 311.355337 198.148765 \n",
       "\" clip-path=\"url(#p6aea7eb2be)\" style=\"fill: none; stroke: #dc143c; stroke-linecap: round\"/>\n",
       "    <path d=\"M 251.391464 89.294159 \n",
       "L 264.998289 125.704148 \n",
       "\" clip-path=\"url(#p6aea7eb2be)\" style=\"fill: none; stroke: #dc143c; stroke-linecap: round\"/>\n",
       "    <path d=\"M 273.443905 170.278232 \n",
       "L 230.183583 139.498654 \n",
       "\" clip-path=\"url(#p6aea7eb2be)\" style=\"fill: none; stroke: #dc143c; stroke-linecap: round\"/>\n",
       "    <path d=\"M 273.443905 170.278232 \n",
       "L 255.238911 216.353759 \n",
       "\" clip-path=\"url(#p6aea7eb2be)\" style=\"fill: none; stroke: #dc143c; stroke-linecap: round\"/>\n",
       "    <path d=\"M 230.183583 139.498654 \n",
       "L 264.998289 125.704148 \n",
       "\" clip-path=\"url(#p6aea7eb2be)\" style=\"fill: none; stroke: #dc143c; stroke-linecap: round\"/>\n",
       "    <path d=\"M 230.183583 139.498654 \n",
       "L 210.101785 187.169464 \n",
       "\" clip-path=\"url(#p6aea7eb2be)\" style=\"fill: none; stroke: #dc143c; stroke-linecap: round\"/>\n",
       "    <path d=\"M 299.812995 115.475568 \n",
       "L 264.998289 125.704148 \n",
       "\" clip-path=\"url(#p6aea7eb2be)\" style=\"fill: none; stroke: #dc143c; stroke-linecap: round\"/>\n",
       "   </g>\n",
       "   <g id=\"PathCollection_3\">\n",
       "    <g>\n",
       "     <use xlink:href=\"#m3f54c156a3\" x=\"264.998289\" y=\"125.704148\" style=\"fill: #7cfc00; stroke: #111111; stroke-width: 0.3\"/>\n",
       "    </g>\n",
       "   </g>\n",
       "   <g id=\"PathCollection_4\">\n",
       "    <defs>\n",
       "     <path id=\"C1_0_03d0448ba3\" d=\"M 0 2.95804 \n",
       "C 0.784481 2.95804 1.536938 2.646362 2.09165 2.09165 \n",
       "C 2.646362 1.536938 2.95804 0.784481 2.95804 -0 \n",
       "C 2.95804 -0.784481 2.646362 -1.536938 2.09165 -2.09165 \n",
       "C 1.536938 -2.646362 0.784481 -2.95804 0 -2.95804 \n",
       "C -0.784481 -2.95804 -1.536938 -2.646362 -2.09165 -2.09165 \n",
       "C -2.646362 -1.536938 -2.95804 -0.784481 -2.95804 0 \n",
       "C -2.95804 0.784481 -2.646362 1.536938 -2.09165 2.09165 \n",
       "C -1.536938 2.646362 -0.784481 2.95804 0 2.95804 \n",
       "z\n",
       "\"/>\n",
       "    </defs>\n",
       "    <use xlink:href=\"#C1_0_03d0448ba3\" x=\"269.596458\" y=\"32.520851\" style=\"fill: #1f77b4\"/>\n",
       "    <use xlink:href=\"#C1_0_03d0448ba3\" x=\"251.391464\" y=\"89.294159\" style=\"fill: #1f77b4\"/>\n",
       "    <use xlink:href=\"#C1_0_03d0448ba3\" x=\"290.804338\" y=\"72.965968\" style=\"fill: #1f77b4\"/>\n",
       "    <use xlink:href=\"#C1_0_03d0448ba3\" x=\"330.592573\" y=\"72.590607\" style=\"fill: #1f77b4\"/>\n",
       "    <use xlink:href=\"#C1_0_03d0448ba3\" x=\"230.183583\" y=\"139.498654\" style=\"fill: #aec7e8\"/>\n",
       "    <use xlink:href=\"#C1_0_03d0448ba3\" x=\"299.812995\" y=\"115.475568\" style=\"fill: #ff7f0e\"/>\n",
       "    <use xlink:href=\"#C1_0_03d0448ba3\" x=\"356.210942\" y=\"106.373071\" style=\"fill: #ff7f0e\"/>\n",
       "    <use xlink:href=\"#C1_0_03d0448ba3\" x=\"210.101785\" y=\"187.169464\" style=\"fill: #aec7e8\"/>\n",
       "    <use xlink:href=\"#C1_0_03d0448ba3\" x=\"273.443905\" y=\"170.278232\" style=\"fill: #aec7e8\"/>\n",
       "    <use xlink:href=\"#C1_0_03d0448ba3\" x=\"331.343295\" y=\"148.601151\" style=\"fill: #ff7f0e\"/>\n",
       "    <use xlink:href=\"#C1_0_03d0448ba3\" x=\"255.238911\" y=\"216.353759\" style=\"fill: #aec7e8\"/>\n",
       "    <use xlink:href=\"#C1_0_03d0448ba3\" x=\"311.355337\" y=\"198.148765\" style=\"fill: #ff7f0e\"/>\n",
       "   </g>\n",
       "   <g id=\"text_2\">\n",
       "    <text style=\"font-size: 12px; font-family: 'DejaVu Sans', 'Bitstream Vera Sans', 'Computer Modern Sans Serif', 'Lucida Grande', 'Verdana', 'Geneva', 'Lucid', 'Arial', 'Helvetica', 'Avant Garde', sans-serif; text-anchor: middle; fill: #888888\" x=\"283.156364\" y=\"16.318125\" transform=\"rotate(-0 283.156364 16.318125)\">Branched</text>\n",
       "   </g>\n",
       "  </g>\n",
       " </g>\n",
       " <defs>\n",
       "  <clipPath id=\"p1209cf8169\">\n",
       "   <rect x=\"7.2\" y=\"22.318125\" width=\"162.327273\" height=\"204.23836\"/>\n",
       "  </clipPath>\n",
       "  <clipPath id=\"p6aea7eb2be\">\n",
       "   <rect x=\"201.992727\" y=\"22.318125\" width=\"162.327273\" height=\"204.23836\"/>\n",
       "  </clipPath>\n",
       " </defs>\n",
       "</svg>\n"
      ],
      "text/plain": [
       "<Figure size 640x480 with 2 Axes>"
      ]
     },
     "metadata": {},
     "output_type": "display_data"
    }
   ],
   "source": [
    "fig, (axl, axr) = plt.subplots(1, 2, facecolor='none')\n",
    "\n",
    "wfn_toy = WindFarmNetwork(L=toyfarm(), cables=4)\n",
    "opt_milp = dict(mip_gap=0.001, time_limit=5, solver_name='ortools')\n",
    "\n",
    "axl.set_title('Radial', color='#888888')\n",
    "wfn_toy.optimize(\n",
    "    router=MILPRouter(**opt_milp,\n",
    "                      model_options=ModelOptions(topology='radial', feeder_limit='minimum'))\n",
    ")\n",
    "wfn_toy.plot(ax=axl, infobox=False)\n",
    "\n",
    "axr.set_title('Branched', color='#888888');\n",
    "wfn_toy.optimize(\n",
    "    router=MILPRouter(**opt_milp,\n",
    "                      model_options=ModelOptions(topology='branched', feeder_limit='minimum'))\n",
    ")\n",
    "wfn_toy.plot(ax=axr, infobox=False);"
   ]
  },
  {
   "cell_type": "markdown",
   "id": "fb0f3edb",
   "metadata": {
    "deletable": true,
    "editable": true,
    "frozen": false
   },
   "source": [
    "#### MILPRouter"
   ]
  },
  {
   "cell_type": "markdown",
   "id": "5040c87d",
   "metadata": {
    "deletable": true,
    "editable": true,
    "frozen": false
   },
   "source": [
    "\n",
    "(high-quality solutions with guarantees, may take several minutes)"
   ]
  },
  {
   "cell_type": "markdown",
   "id": "f421ae7d",
   "metadata": {
    "deletable": true,
    "editable": true,
    "frozen": false
   },
   "source": [
    "> Note:\n",
    "> * if a `WindFarmNetwork` already has a solution, `MILPRouter` will use it as a warm start.\n",
    "> * To avoid warm-starting, create a **new** `WindFarmNetwork` and run MILP directly.  \n",
    "> * Set `verbose=True` to see warm-start messages in the logs (The log messages of the MILP router provide information about warm-start).\n"
   ]
  },
  {
   "cell_type": "code",
   "execution_count": 21,
   "id": "64e22c2f-1339-48b6-86a8-635874e8b382",
   "metadata": {
    "deletable": true,
    "editable": true,
    "execution": {
     "iopub.execute_input": "2025-09-23T11:08:19.726897Z",
     "iopub.status.busy": "2025-09-23T11:08:19.726897Z",
     "iopub.status.idle": "2025-09-23T11:08:39.985336Z",
     "shell.execute_reply": "2025-09-23T11:08:39.985336Z",
     "shell.execute_reply.started": "2025-09-23T11:08:19.726897Z"
    },
    "frozen": false,
    "scrolled": true
   },
   "outputs": [
    {
     "name": "stdout",
     "output_type": "stream",
     "text": [
      "Using warm start: the model is initialized with the provided solution S.\n",
      "\n",
      "\n",
      "Starting CP-SAT solver v9.14.6206\n",
      "Parameters: max_time_in_seconds: 20 log_search_progress: true relative_gap_limit: 0.005\n",
      "Setting number of workers to 16\n",
      "\n",
      "Initial optimization model '': (model_fingerprint: 0x1ca9e24cf88b271e)\n",
      "#Variables: 1'690 (#bools: 845 in floating point objective) (1'500 primary variables)\n",
      "  - 845 Booleans in [0,1]\n",
      "  - 750 in [0,7]\n",
      "  - 95 in [0,8]\n",
      "#kAtMostOne: 635 (#literals: 1'926)\n",
      "#kLinear1: 1'690 (#enforced: 1'690)\n",
      "#kLinear3: 4\n",
      "#kLinearN: 284 (#terms: 4'213)\n",
      "\n",
      "Starting presolve at 0.01s\n",
      "The solution hint is complete and is feasible.\n",
      "[Scaling] Floating point objective has 845 terms with magnitude in [1409.66, 22631.9] average = 4594.28\n",
      "[Scaling] Objective coefficient relative error: 1.60816e-10\n",
      "[Scaling] Objective worst-case absolute error: 5.3597e-05\n",
      "[Scaling] Objective scaling factor: 2.09715e+06\n",
      "  5.57e-04s  0.00e+00d  [DetectDominanceRelations] \n",
      "  1.65e-02s  0.00e+00d  [operations_research::sat::CpModelPresolver::PresolveToFixPoint] #num_loops=2 #num_dual_strengthening=1 \n",
      "  8.41e-05s  0.00e+00d  [operations_research::sat::CpModelPresolver::ExtractEncodingFromLinear] #potential_supersets=730 \n",
      "  3.39e-04s  0.00e+00d  [operations_research::sat::CpModelPresolver::DetectDuplicateColumns] \n",
      "  4.47e-04s  0.00e+00d  [operations_research::sat::CpModelPresolver::DetectDuplicateConstraints] \n",
      "[Symmetry] Graph for symmetry has 6'328 nodes and 11'931 arcs.\n",
      "[Symmetry] Symmetry computation done. time: 0.0010884 dtime: 0.00115685\n",
      "  3.38e-04s  0.00e+00d  [operations_research::sat::CpModelPresolver::DetectDuplicateConstraintsWithDifferentEnforcements] \n",
      "  1.12e-02s  3.73e-03d  [operations_research::sat::CpModelPresolver::Probe] #probed=1'690 \n",
      "  2.07e-03s  3.79e-04d  [MaxClique] Merged 635(1'926 literals) into 330(1'316 literals) at_most_ones. \n",
      "  5.65e-04s  0.00e+00d  [DetectDominanceRelations] \n",
      "  5.30e-03s  0.00e+00d  [operations_research::sat::CpModelPresolver::PresolveToFixPoint] #num_loops=1 #num_dual_strengthening=1 \n",
      "  6.48e-04s  0.00e+00d  [operations_research::sat::CpModelPresolver::ProcessAtMostOneAndLinear] \n",
      "  4.19e-04s  0.00e+00d  [operations_research::sat::CpModelPresolver::DetectDuplicateConstraints] \n",
      "  7.13e-04s  0.00e+00d  [operations_research::sat::CpModelPresolver::DetectDuplicateConstraintsWithDifferentEnforcements] \n",
      "  4.86e-04s  1.43e-05d  [operations_research::sat::CpModelPresolver::DetectDominatedLinearConstraints] #relevant_constraints=193 #num_inclusions=96 \n",
      "  5.08e-05s  0.00e+00d  [operations_research::sat::CpModelPresolver::DetectDifferentVariables] \n",
      "  6.47e-03s  3.72e-04d  [operations_research::sat::CpModelPresolver::ProcessSetPPC] #relevant_constraints=427 #num_inclusions=425 \n",
      "  4.29e-04s  0.00e+00d  [operations_research::sat::CpModelPresolver::FindAlmostIdenticalLinearConstraints] \n",
      "  1.50e-03s  2.83e-04d  [operations_research::sat::CpModelPresolver::FindBigAtMostOneAndLinearOverlap] \n",
      "  7.18e-04s  3.25e-04d  [operations_research::sat::CpModelPresolver::FindBigVerticalLinearOverlap] \n",
      "  1.26e-04s  1.24e-05d  [operations_research::sat::CpModelPresolver::FindBigHorizontalLinearOverlap] #linears=179 \n",
      "  6.11e-05s  0.00e+00d  [operations_research::sat::CpModelPresolver::MergeClauses] \n",
      "  6.32e-04s  0.00e+00d  [DetectDominanceRelations] \n",
      "  7.19e-03s  0.00e+00d  [operations_research::sat::CpModelPresolver::PresolveToFixPoint] #num_loops=1 #num_dual_strengthening=1 \n",
      "  1.00e-03s  0.00e+00d  [DetectDominanceRelations] \n",
      "  7.58e-03s  0.00e+00d  [operations_research::sat::CpModelPresolver::PresolveToFixPoint] #num_loops=1 #num_dual_strengthening=1 \n",
      "  3.55e-04s  0.00e+00d  [operations_research::sat::CpModelPresolver::DetectDuplicateColumns] \n",
      "  6.46e-04s  0.00e+00d  [operations_research::sat::CpModelPresolver::DetectDuplicateConstraints] \n",
      "[Symmetry] Graph for symmetry has 5'717 nodes and 9'866 arcs.\n",
      "[Symmetry] Symmetry computation done. time: 0.0008608 dtime: 0.00104489\n",
      "[SAT presolve] num removable Booleans: 0 / 845\n",
      "[SAT presolve] num trivial clauses: 0\n",
      "[SAT presolve] [0s] clauses:70 literals:140 vars:140 one_side_vars:140 simple_definition:0 singleton_clauses:0\n",
      "[SAT presolve] [0.000426s] clauses:70 literals:140 vars:140 one_side_vars:140 simple_definition:0 singleton_clauses:0\n",
      "[SAT presolve] [0.0005982s] clauses:70 literals:140 vars:140 one_side_vars:140 simple_definition:0 singleton_clauses:0\n",
      "  1.08e-03s  0.00e+00d  [operations_research::sat::CpModelPresolver::DetectDuplicateConstraintsWithDifferentEnforcements] \n",
      "  1.73e-02s  3.45e-03d  [operations_research::sat::CpModelPresolver::Probe] #probed=1'690 \n",
      "  7.41e-04s  3.69e-04d  [MaxClique] \n",
      "  4.20e-04s  0.00e+00d  [DetectDominanceRelations] \n",
      "  4.22e-03s  0.00e+00d  [operations_research::sat::CpModelPresolver::PresolveToFixPoint] #num_loops=1 #num_dual_strengthening=1 \n",
      "  3.94e-04s  0.00e+00d  [operations_research::sat::CpModelPresolver::ProcessAtMostOneAndLinear] \n",
      "  1.48e-03s  0.00e+00d  [operations_research::sat::CpModelPresolver::DetectDuplicateConstraints] \n",
      "  7.27e-04s  0.00e+00d  [operations_research::sat::CpModelPresolver::DetectDuplicateConstraintsWithDifferentEnforcements] \n",
      "  5.50e-04s  1.07e-05d  [operations_research::sat::CpModelPresolver::DetectDominatedLinearConstraints] #relevant_constraints=192 #num_inclusions=95 \n",
      "  1.09e-04s  0.00e+00d  [operations_research::sat::CpModelPresolver::DetectDifferentVariables] \n",
      "  4.58e-04s  6.76e-06d  [operations_research::sat::CpModelPresolver::ProcessSetPPC] #relevant_constraints=426 \n",
      "  9.39e-05s  0.00e+00d  [operations_research::sat::CpModelPresolver::FindAlmostIdenticalLinearConstraints] \n",
      "  1.07e-03s  2.79e-04d  [operations_research::sat::CpModelPresolver::FindBigAtMostOneAndLinearOverlap] \n",
      "  6.47e-04s  3.25e-04d  [operations_research::sat::CpModelPresolver::FindBigVerticalLinearOverlap] \n",
      "  2.88e-04s  1.24e-05d  [operations_research::sat::CpModelPresolver::FindBigHorizontalLinearOverlap] #linears=179 \n",
      "  6.69e-05s  0.00e+00d  [operations_research::sat::CpModelPresolver::MergeClauses] \n",
      "  8.35e-04s  0.00e+00d  [DetectDominanceRelations] \n",
      "  7.27e-03s  0.00e+00d  [operations_research::sat::CpModelPresolver::PresolveToFixPoint] #num_loops=1 #num_dual_strengthening=1 \n",
      "  1.31e-03s  0.00e+00d  [operations_research::sat::CpModelPresolver::ExpandObjective] #entries=7'754 #tight_variables=845 #tight_constraints=95 \n",
      "\n",
      "Presolve summary:\n",
      "  - 0 affine relations were detected.\n",
      "  - rule 'TODO linear inclusion: superset is equality' was applied 191 times.\n",
      "  - rule 'at_most_one: transformed into max clique.' was applied 1 time.\n",
      "  - rule 'deductions: 1690 stored' was applied 1 time.\n",
      "  - rule 'exactly_one: simplified objective' was applied 95 times.\n",
      "  - rule 'linear: positive equal one' was applied 95 times.\n",
      "  - rule 'objective: shifted cost with exactly ones' was applied 95 times.\n",
      "  - rule 'presolve: 0 unused variables removed.' was applied 1 time.\n",
      "  - rule 'presolve: iteration' was applied 2 times.\n",
      "  - rule 'setppc: exactly_one included in linear' was applied 95 times.\n",
      "  - rule 'setppc: reduced linear coefficients' was applied 94 times.\n",
      "  - rule 'setppc: removed trivial linear constraint' was applied 1 time.\n",
      "  - rule 'variables: detect fully reified value encoding' was applied 845 times.\n",
      "  - rule 'variables: detect half reified value encoding' was applied 1'690 times.\n",
      "\n",
      "Presolved optimization model '': (model_fingerprint: 0x4c137ca78c049677)\n",
      "#Variables: 1'690 (#bools: 750 in objective) (1'500 primary variables)\n",
      "  - 845 Booleans in [0,1]\n",
      "  - 750 in [0,7]\n",
      "  - 95 in [0,8]\n",
      "#kAtMostOne: 260 (#literals: 1'176)\n",
      "#kBoolAnd: 70 (#enforced: 70) (#literals: 140)\n",
      "#kExactlyOne: 95 (#literals: 845)\n",
      "#kLinear1: 1'690 (#enforced: 1'690)\n",
      "#kLinear3: 4\n",
      "#kLinearN: 188 (#terms: 2'523)\n",
      "[Symmetry] Graph for symmetry has 5'717 nodes and 9'866 arcs.\n",
      "[Symmetry] Symmetry computation done. time: 0.0006776 dtime: 0.00104362\n",
      "\n",
      "Preloading model.\n",
      "#Bound   0.15s best:inf   next:[160817.074,2309766.32] initial_domain\n",
      "#1       0.15s best:243320.141 next:[160817.074,243320.141] complete_hint\n",
      "#Model   0.15s var:1690/1690 constraints:2307/2307\n",
      "\n",
      "Starting search at 0.15s with 16 workers.\n",
      "11 full problem subsolvers: [core, default_lp, lb_tree_search, max_lp, no_lp, objective_lb_search, probing, pseudo_costs, quick_restart, quick_restart_no_lp, reduced_costs]\n",
      "5 first solution subsolvers: [fj(2), fs_random, fs_random_no_lp, fs_random_quick_restart_no_lp]\n",
      "11 interleaved subsolvers: [feasibility_pump, graph_arc_lns, graph_cst_lns, graph_dec_lns, graph_var_lns, lb_relax_lns, ls, ls_lin, rins/rens, rnd_cst_lns, rnd_var_lns]\n",
      "3 helper subsolvers: [neighborhood_helper, synchronization_agent, update_gap_integral]\n",
      "\n",
      "#Bound   0.21s best:243320.141 next:[162472.38,243320.141] am1_presolve (num_literals=750 num_am1=34 increase=3471428032 work_done=2720)\n",
      "#Bound   0.23s best:243320.141 next:[188354.862,243320.141] quick_restart\n",
      "#Bound   0.23s best:243320.141 next:[189781.728,243320.141] reduced_costs\n",
      "#Bound   0.27s best:243320.141 next:[189787.863,243320.141] reduced_costs\n",
      "#Bound   0.28s best:243320.141 next:[189880.947,243320.141] pseudo_costs\n",
      "#Bound   0.29s best:243320.141 next:[189886.17,243320.141] reduced_costs\n",
      "#Bound   0.30s best:243320.141 next:[223973.897,243320.141] max_lp\n",
      "#2       0.33s best:243311.587 next:[223973.897,243311.587] quick_restart_no_lp (fixed_bools=0/898)\n",
      "#3       0.36s best:243295.975 next:[223973.897,243295.975] quick_restart_no_lp (fixed_bools=0/898)\n",
      "#Bound   0.47s best:243295.975 next:[225385.939,243295.975] max_lp\n",
      "#Bound   0.49s best:243295.975 next:[225492.229,243295.975] lb_tree_search\n",
      "#4       0.50s best:243295.34 next:[225492.229,243295.34] quick_restart_no_lp (fixed_bools=0/920)\n",
      "#5       0.51s best:242452.081 next:[225492.229,242452.081] rins_lp_lns (d=5.00e-01 s=23 t=0.10 p=0.00 stall=0 h=base)\n",
      "#6       0.52s best:242451.446 next:[225492.229,242451.446] rins_lp_lns (d=5.00e-01 s=23 t=0.10 p=0.00 stall=0 h=base) [combined with: quick_restart_no_lp...]\n",
      "#Bound   0.66s best:242451.446 next:[226110.959,242451.446] max_lp\n",
      "#Bound   0.68s best:242451.446 next:[226273.297,242451.446] lb_tree_search\n",
      "#Bound   0.92s best:242451.446 next:[226518.351,242451.446] max_lp\n",
      "#Bound   0.92s best:242451.446 next:[226563.242,242451.446] lb_tree_search\n",
      "#7       1.08s best:242043.138 next:[226563.242,242043.138] quick_restart_no_lp (fixed_bools=0/944)\n",
      "#Bound   1.18s best:242043.138 next:[226957.188,242043.138] lb_tree_search\n",
      "#Bound   1.21s best:242043.138 next:[226990.815,242043.138] max_lp\n",
      "#Bound   1.54s best:242043.138 next:[227472.946,242043.138] max_lp\n",
      "#8       1.65s best:241866.111 next:[227472.946,241866.111] graph_cst_lns (d=8.14e-01 s=33 t=0.10 p=1.00 stall=2 h=base)\n",
      "#9       2.27s best:241281.171 next:[227472.946,241281.171] lb_relax_lns_int_h (d=5.00e-01 s=35 t=0.50 p=0.00 stall=0 h=base)\n",
      "#10      2.28s best:241104.144 next:[227472.946,241104.144] lb_relax_lns_int_h (d=5.00e-01 s=35 t=0.50 p=0.00 stall=0 h=base) [combined with: graph_cst_lns (d=8.1...]\n",
      "#Bound   2.56s best:241104.144 next:[227789.346,241104.144] max_lp\n",
      "#Bound   3.70s best:241104.144 next:[227792.858,241104.144] lb_tree_search\n",
      "#Bound   4.51s best:241104.144 next:[228049.802,241104.144] max_lp\n",
      "#Bound   5.03s best:241104.144 next:[228206.693,241104.144] max_lp\n",
      "#Bound   6.35s best:241104.144 next:[228359.768,241104.144] max_lp\n",
      "#Bound   7.76s best:241104.144 next:[228501.209,241104.144] max_lp\n",
      "#Bound   9.15s best:241104.144 next:[228626.598,241104.144] max_lp\n",
      "#Bound  12.36s best:241104.144 next:[228672.707,241104.144] lb_tree_search\n",
      "#Bound  14.12s best:241104.144 next:[228773.659,241104.144] lb_tree_search\n",
      "#Bound  15.92s best:241104.144 next:[228877.499,241104.144] lb_tree_search\n",
      "#Bound  17.71s best:241104.144 next:[229009.825,241104.144] lb_tree_search\n",
      "#Bound  19.52s best:241104.144 next:[229136.565,241104.144] lb_tree_search\n",
      "\n",
      "Task timing                                n [     min,      max]      avg      dev     time         n [     min,      max]      avg      dev    dtime\n",
      "                           'core':         1 [  19.85s,   19.85s]   19.85s   0.00ns   19.85s         1 [  12.95s,   12.95s]   12.95s   0.00ns   12.95s\n",
      "                     'default_lp':         1 [  19.85s,   19.85s]   19.85s   0.00ns   19.85s         1 [   4.62s,    4.62s]    4.62s   0.00ns    4.62s\n",
      "               'feasibility_pump':        84 [ 84.10us, 678.67ms]  98.57ms 199.08ms    8.28s        17 [163.16ms, 322.49ms] 225.74ms  43.90ms    3.84s\n",
      "                             'fj':         0 [  0.00ns,   0.00ns]   0.00ns   0.00ns   0.00ns         0 [  0.00ns,   0.00ns]   0.00ns   0.00ns   0.00ns\n",
      "                             'fj':         0 [  0.00ns,   0.00ns]   0.00ns   0.00ns   0.00ns         0 [  0.00ns,   0.00ns]   0.00ns   0.00ns   0.00ns\n",
      "                      'fs_random':         0 [  0.00ns,   0.00ns]   0.00ns   0.00ns   0.00ns         0 [  0.00ns,   0.00ns]   0.00ns   0.00ns   0.00ns\n",
      "                'fs_random_no_lp':         0 [  0.00ns,   0.00ns]   0.00ns   0.00ns   0.00ns         0 [  0.00ns,   0.00ns]   0.00ns   0.00ns   0.00ns\n",
      "  'fs_random_quick_restart_no_lp':         0 [  0.00ns,   0.00ns]   0.00ns   0.00ns   0.00ns         0 [  0.00ns,   0.00ns]   0.00ns   0.00ns   0.00ns\n",
      "                  'graph_arc_lns':        32 [ 11.46ms, 723.81ms] 275.21ms 201.46ms    8.81s        32 [916.00ns, 100.21ms]  60.64ms  45.63ms    1.94s\n",
      "                  'graph_cst_lns':        34 [ 16.62ms,    1.75s] 304.57ms 320.00ms   10.36s        34 [339.00ns, 102.39ms]  56.70ms  47.19ms    1.93s\n",
      "                  'graph_dec_lns':        32 [ 12.74ms, 907.24ms] 262.92ms 225.17ms    8.41s        32 [ 10.00ns, 100.32ms]  52.30ms  47.72ms    1.67s\n",
      "                  'graph_var_lns':        34 [ 14.25ms,    1.18s] 252.35ms 236.66ms    8.58s        34 [ 10.00ns, 100.43ms]  55.27ms  46.18ms    1.88s\n",
      "                   'lb_relax_lns':         8 [387.19ms,    1.96s]    1.18s 595.78ms    9.47s         8 [ 89.19ms, 557.39ms] 348.88ms 189.80ms    2.79s\n",
      "                 'lb_tree_search':         1 [  19.85s,   19.85s]   19.85s   0.00ns   19.85s         1 [   1.17s,    1.17s]    1.17s   0.00ns    1.17s\n",
      "                             'ls':        41 [183.20ms, 240.98ms] 206.18ms  16.27ms    8.45s        41 [100.00ms, 100.04ms] 100.01ms   5.62us    4.10s\n",
      "                         'ls_lin':        41 [180.05ms, 249.85ms] 205.61ms  17.49ms    8.43s        41 [100.01ms, 100.04ms] 100.01ms   7.70us    4.10s\n",
      "                         'max_lp':         1 [  19.85s,   19.85s]   19.85s   0.00ns   19.85s         1 [   3.90s,    3.90s]    3.90s   0.00ns    3.90s\n",
      "                          'no_lp':         1 [  19.85s,   19.85s]   19.85s   0.00ns   19.85s         1 [  11.52s,   11.52s]   11.52s   0.00ns   11.52s\n",
      "            'objective_lb_search':         1 [  19.85s,   19.85s]   19.85s   0.00ns   19.85s         1 [   6.29s,    6.29s]    6.29s   0.00ns    6.29s\n",
      "                        'probing':         1 [  19.85s,   19.85s]   19.85s   0.00ns   19.85s         1 [   1.23s,    1.23s]    1.23s   0.00ns    1.23s\n",
      "                   'pseudo_costs':         1 [  19.84s,   19.84s]   19.84s   0.00ns   19.84s         1 [   4.08s,    4.08s]    4.08s   0.00ns    4.08s\n",
      "                  'quick_restart':         1 [  19.85s,   19.85s]   19.85s   0.00ns   19.85s         1 [   4.87s,    4.87s]    4.87s   0.00ns    4.87s\n",
      "            'quick_restart_no_lp':         1 [  19.94s,   19.94s]   19.94s   0.00ns   19.94s         1 [   9.42s,    9.42s]    9.42s   0.00ns    9.42s\n",
      "                  'reduced_costs':         1 [  19.85s,   19.85s]   19.85s   0.00ns   19.85s         1 [   5.30s,    5.30s]    5.30s   0.00ns    5.30s\n",
      "                      'rins/rens':        38 [  1.29ms, 556.42ms] 250.73ms 185.02ms    9.53s        31 [141.51us, 100.15ms]  71.65ms  39.61ms    2.22s\n",
      "                    'rnd_cst_lns':        33 [ 20.36ms, 840.13ms] 310.84ms 223.60ms   10.26s        33 [137.00ns, 100.43ms]  58.58ms  43.45ms    1.93s\n",
      "                    'rnd_var_lns':        35 [ 18.92ms, 829.74ms] 245.58ms 192.95ms    8.60s        35 [151.00ns, 100.25ms]  49.37ms  45.43ms    1.73s\n",
      "\n",
      "Search stats                        Bools  Conflicts  Branches  Restarts  BoolPropag  IntegerPropag\n",
      "                           'core':    879    268'292   585'047    27'909   4'031'610     11'829'069\n",
      "                     'default_lp':    917        487    21'103    10'312     108'585        458'176\n",
      "                      'fs_random':      0          0         0         0           0              0\n",
      "                'fs_random_no_lp':      0          0         0         0           0              0\n",
      "  'fs_random_quick_restart_no_lp':      0          0         0         0           0              0\n",
      "                 'lb_tree_search':    845          0    30'766    17'337     127'434        355'424\n",
      "                         'max_lp':    845        201     9'666     5'169      46'691        205'599\n",
      "                          'no_lp':    845    145'053   254'933    23'324   9'745'562     31'476'689\n",
      "            'objective_lb_search':    896        663    16'183     8'546      88'318        375'916\n",
      "                        'probing':    866         10     2'068     1'775      13'543         46'250\n",
      "                   'pseudo_costs':    845        835    28'620    13'869     142'075        661'021\n",
      "                  'quick_restart':    881        110    32'904    17'310     137'024        592'446\n",
      "            'quick_restart_no_lp':  1'187     43'564   954'303    28'849   4'909'103     18'556'213\n",
      "                  'reduced_costs':    846        595    30'679    13'800     122'569        604'254\n",
      "\n",
      "SAT stats                           ClassicMinim  LitRemoved  LitLearned  LitForgotten  Subsumed  MClauses  MDecisions  MLitTrue  MSubsumed  MLitRemoved  MReused\n",
      "                           'core':       256'862   2'582'917  16'922'046    15'599'430     2'175     9'368      98'312         0        727       11'146    1'236\n",
      "                     'default_lp':           459      25'780      50'102             0         2       985       7'643         0          5           31        2\n",
      "                      'fs_random':             0           0           0             0         0         0           0         0          0            0        0\n",
      "                'fs_random_no_lp':             0           0           0             0         0         0           0         0          0            0        0\n",
      "  'fs_random_quick_restart_no_lp':             0           0           0             0         0         0           0         0          0            0        0\n",
      "                 'lb_tree_search':             0           0           0             0         0     1'710      13'500         0          0            0        0\n",
      "                         'max_lp':           195      14'125      45'809             0         0       380       3'000         0          0            0        0\n",
      "                          'no_lp':       142'392   1'585'255  11'531'844    10'257'196       738     5'907      41'273         0        115        1'810    3'564\n",
      "            'objective_lb_search':           651      44'287      36'084             0         1       770       6'034         0          0            0        0\n",
      "                        'probing':             7         397       2'492             0         0         0           0         0          0            0        0\n",
      "                   'pseudo_costs':           760      47'745     171'559             0         6     1'331      10'503         0          1            4        0\n",
      "                  'quick_restart':           100       4'808      15'308             0         0     1'719      13'518         0          0            0        0\n",
      "            'quick_restart_no_lp':        40'702   1'536'083   4'651'901     3'342'486       190    10'404      65'029         0      1'046        9'560      668\n",
      "                  'reduced_costs':           555      22'243     105'017             0         1     1'330      10'500         0          0            0        0\n",
      "\n",
      "Lp stats                  Component  Iterations  AddedCuts  OPTIMAL  DUAL_F.  DUAL_U.\n",
      "           'default_lp':          1      60'122      4'166    2'891        2       26\n",
      "       'lb_tree_search':          1       6'623      3'101      191        1        0\n",
      "               'max_lp':          1      28'512      3'630    1'354       49       20\n",
      "  'objective_lb_search':          1      77'021      3'478    2'609        2       23\n",
      "              'probing':          1       8'996      5'627      241        0        3\n",
      "         'pseudo_costs':          1      58'264      4'038    3'162      182      152\n",
      "        'quick_restart':          1      38'840      4'073    1'334        1       19\n",
      "        'reduced_costs':          1      67'618      3'588    2'097      276      119\n",
      "\n",
      "Lp dimension                  Final dimension of first component\n",
      "           'default_lp':   1010 rows, 1596 columns, 7432 entries\n",
      "       'lb_tree_search':  4123 rows, 1690 columns, 49432 entries\n",
      "               'max_lp':   1000 rows, 1690 columns, 8697 entries\n",
      "  'objective_lb_search':   1006 rows, 1596 columns, 9463 entries\n",
      "              'probing':  2571 rows, 1596 columns, 43296 entries\n",
      "         'pseudo_costs':  1479 rows, 1690 columns, 13585 entries\n",
      "        'quick_restart':  1625 rows, 1596 columns, 20601 entries\n",
      "        'reduced_costs':  1379 rows, 1690 columns, 13636 entries\n",
      "\n",
      "Lp debug                  CutPropag  CutEqPropag  Adjust  Overflow     Bad  BadScaling\n",
      "           'default_lp':          0            0   2'906         0   9'321           0\n",
      "       'lb_tree_search':          0            3     192         0  63'941           0\n",
      "               'max_lp':          0            0   1'421         0  36'796           0\n",
      "  'objective_lb_search':          0            0   2'619         0  10'162           0\n",
      "              'probing':          0           22     236         0  55'335           0\n",
      "         'pseudo_costs':          0            0   3'440         0  12'043           0\n",
      "        'quick_restart':          0            8   1'345         0  22'026           0\n",
      "        'reduced_costs':          0            0   2'481         0  18'767           0\n",
      "\n",
      "Lp pool                   Constraints  Updates  Simplif  Merged  Shortened  Split  Strenghtened     Cuts/Call\n",
      "           'default_lp':        6'966       47        0       0          0     36            96   4'166/8'882\n",
      "       'lb_tree_search':        6'253      619        0       0          0    939            33   3'101/6'014\n",
      "               'max_lp':        6'782      311        0       0          0    535            44   3'630/6'823\n",
      "  'objective_lb_search':        6'278       49        0       0          0     24           142   3'478/7'247\n",
      "              'probing':        8'427      425        0       0          0    381           301  5'627/11'370\n",
      "         'pseudo_costs':        7'190       90        0       0          0     70           129   4'038/8'865\n",
      "        'quick_restart':        6'873      177        0       0          0    169            96   4'073/8'316\n",
      "        'reduced_costs':        6'740      165        0       0          0    113            78   3'588/6'832\n",
      "\n",
      "Lp Cut            pseudo_costs  default_lp  max_lp  quick_restart  reduced_costs  lb_tree_search  probing  objective_lb_search\n",
      "          CG_FF:            40          45      28             28             29               5       32                   28\n",
      "           CG_K:            22          20      22             12              5               1       25                   13\n",
      "          CG_KL:             3           4       4              3              -               -        4                    2\n",
      "           CG_R:            48          65      48             33             52              18       66                   46\n",
      "          CG_RB:            98         116      65             82             86              56      140                  104\n",
      "         CG_RBP:            36          55      21             34             24               4       69                   68\n",
      "             IB:         1'337       1'271     398            974          1'148               -      714                  944\n",
      "       MIR_1_FF:           131         228     152            229            122             161      352                  159\n",
      "        MIR_1_K:            40          74      19             85             15               2       88                   63\n",
      "       MIR_1_KL:            13          30       1             39              3               5       48                   26\n",
      "        MIR_1_R:             -           4       3              3              -               -       10                    1\n",
      "       MIR_1_RB:            74         133      71            120             75              54      221                   84\n",
      "      MIR_1_RBP:            26          79      26            106             17              16      167                   72\n",
      "       MIR_2_FF:           157         171     216            216            152             201      279                  180\n",
      "        MIR_2_K:            35          92      25             90             26               8       90                   79\n",
      "       MIR_2_KL:            14          14       8             18              1               2       37                   22\n",
      "        MIR_2_R:            18          11       5             11              7               8       16                   10\n",
      "       MIR_2_RB:           164         180     211            179            172             188      266                  147\n",
      "      MIR_2_RBP:            50          92      50            131             46              35      194                  105\n",
      "       MIR_3_FF:           170         142     233            143            158             190      164                  121\n",
      "        MIR_3_K:            58          60      48             98             27              25      107                   74\n",
      "       MIR_3_KL:            24          16       4             21              3               2       14                    6\n",
      "        MIR_3_R:            19           4      13              6             12              11       16                   10\n",
      "       MIR_3_RB:           187         140     204            138            169             193      196                  132\n",
      "      MIR_3_RBP:            56          70      66             93             57              63      151                   75\n",
      "       MIR_4_FF:            96          83     172             65            107             163      121                   79\n",
      "        MIR_4_K:            48          49      50             57             24              37       70                   46\n",
      "       MIR_4_KL:             6           7       5              -              3               2        9                    4\n",
      "        MIR_4_R:            15           3      12              5             12               6        7                    5\n",
      "       MIR_4_RB:           128         106     158             75            130             116      133                   75\n",
      "      MIR_4_RBP:            52          53      62             60             42              67       97                   40\n",
      "       MIR_5_FF:            68          45     121             43             57             129       85                   46\n",
      "        MIR_5_K:            38          43      35             33             18              34       59                   33\n",
      "       MIR_5_KL:             3           3       4              1              6               6       10                    -\n",
      "        MIR_5_R:            14           4      15              -              8              12        7                    2\n",
      "       MIR_5_RB:            85          58     115             36             79             103       89                   34\n",
      "      MIR_5_RBP:            25          29      35             38             19              51       57                   23\n",
      "       MIR_6_FF:            43          28      88             21             46              95       43                   25\n",
      "        MIR_6_K:            26          22      33             23             25              37       33                   25\n",
      "       MIR_6_KL:            10           3      18              7             22              19       15                    7\n",
      "        MIR_6_R:             9           2       9              2              9               8        4                    4\n",
      "       MIR_6_RB:            51          21      53             14             44              46       43                   26\n",
      "      MIR_6_RBP:            30          19      47             26             31              51       46                   26\n",
      "   ZERO_HALF_FF:            37          54      20             41             28               6       51                   34\n",
      "    ZERO_HALF_K:            11          12       3             11              6               -       15                   11\n",
      "   ZERO_HALF_KL:             1           -       -              2              3               -        1                    2\n",
      "    ZERO_HALF_R:           349         293     527            487            364             706      942                  279\n",
      "   ZERO_HALF_RB:            57          79      89             96             77             127      167                   58\n",
      "  ZERO_HALF_RBP:            16          34      18             38             22              32       57                   23\n",
      "\n",
      "LNS stats           Improv/Calls  Closed  Difficulty  TimeLimit\n",
      "  'graph_arc_lns':          1/32     47%    3.04e-01       0.10\n",
      "  'graph_cst_lns':          5/34     47%    4.81e-01       0.10\n",
      "  'graph_dec_lns':          3/32     53%    7.94e-01       0.10\n",
      "  'graph_var_lns':          1/34     50%    6.45e-01       0.10\n",
      "   'lb_relax_lns':           3/8     50%    4.45e-01       0.50\n",
      "      'rins/rens':         30/37     49%    4.35e-01       0.10\n",
      "    'rnd_cst_lns':          3/33     48%    6.23e-01       0.10\n",
      "    'rnd_var_lns':          3/35     51%    7.43e-01       0.10\n",
      "\n",
      "LS stats                                    Batches  Restarts/Perturbs  LinMoves  GenMoves  CompoundMoves  Bactracks  WeightUpdates  ScoreComputed\n",
      "                         'ls_lin_restart':        4                  3    49'741         0              0          0          8'228      1'814'099\n",
      "                'ls_lin_restart_compound':        3                  3         0    43'384          4'282     19'547            221      1'324'704\n",
      "        'ls_lin_restart_compound_perturb':        7                  4         0   106'959          9'006     48'968            497      3'130'240\n",
      "                   'ls_lin_restart_decay':        6                  5    91'775         0              0          0          1'496      2'074'521\n",
      "          'ls_lin_restart_decay_compound':        4                  3         0    52'241          8'438     21'887            120      1'727'819\n",
      "  'ls_lin_restart_decay_compound_perturb':        7                  4         0    87'945         14'492     36'708            159      2'808'999\n",
      "           'ls_lin_restart_decay_perturb':        5                  4    77'257         0              0          0          1'279      1'767'426\n",
      "                 'ls_lin_restart_perturb':        5                  5    65'458         0              0          0         11'020      2'352'449\n",
      "                             'ls_restart':        4                  3    50'125         0              0          0          6'904      1'882'031\n",
      "                    'ls_restart_compound':       10                  6         0   144'809         13'805     65'489            549      4'347'219\n",
      "            'ls_restart_compound_perturb':        6                  4         0    90'707          9'017     40'827            512      2'678'311\n",
      "                       'ls_restart_decay':        5                  5    76'899         0              0          0          1'272      1'747'994\n",
      "              'ls_restart_decay_compound':        6                  5         0    78'058         13'759     32'136            208      2'222'190\n",
      "      'ls_restart_decay_compound_perturb':        1                  1         0    12'770          2'257      5'255             49        373'725\n",
      "               'ls_restart_decay_perturb':        5                  4    76'665         0              0          0          1'243      1'753'511\n",
      "                     'ls_restart_perturb':        4                  3    49'609         0              0          0          6'664      1'872'833\n",
      "\n",
      "Solutions (10)            Num    Rank\n",
      "        'complete_hint':    1   [1,1]\n",
      "        'graph_cst_lns':    1   [8,8]\n",
      "   'lb_relax_lns_int_h':    2  [9,10]\n",
      "  'quick_restart_no_lp':    4   [2,7]\n",
      "          'rins_lp_lns':    2   [5,6]\n",
      "\n",
      "Objective bounds     Num\n",
      "    'am1_presolve':    1\n",
      "  'initial_domain':    1\n",
      "  'lb_tree_search':   10\n",
      "          'max_lp':   12\n",
      "    'pseudo_costs':    1\n",
      "   'quick_restart':    1\n",
      "   'reduced_costs':    3\n",
      "\n",
      "Solution repositories    Added  Queried  Synchro\n",
      "  'feasible solutions':     81      584       50\n",
      "   'fj solution hints':      0        0        0\n",
      "        'lp solutions':    128       19       99\n",
      "                'pump':    336       19\n",
      "\n",
      "Clauses shared      Num\n",
      "  'quick_restart':    1\n",
      "\n",
      "[Scaling] scaled_objective_bound: 229137 corrected_bound: 229137 delta: -1.0003e-06\n",
      "CpSolverResponse summary:\n",
      "status: FEASIBLE\n",
      "objective: 241104.1441382698\n",
      "best_bound: 229136.564610051\n",
      "integers: 0\n",
      "booleans: 0\n",
      "conflicts: 0\n",
      "branches: 0\n",
      "propagations: 0\n",
      "integer_propagations: 0\n",
      "restarts: 0\n",
      "lp_iterations: 0\n",
      "walltime: 20.1462\n",
      "usertime: 20.1462\n",
      "deterministic_time: 93.4995\n",
      "gap_integral: 879.814\n",
      "solution_fingerprint: 0xee4c149db2925d59\n",
      "\n"
     ]
    }
   ],
   "source": [
    "res_milp = wfn.optimize(router=milp_router)"
   ]
  },
  {
   "cell_type": "code",
   "execution_count": 22,
   "id": "c4d1f9b9",
   "metadata": {
    "deletable": true,
    "editable": true,
    "execution": {
     "iopub.execute_input": "2025-09-23T11:08:39.987557Z",
     "iopub.status.busy": "2025-09-23T11:08:39.985336Z",
     "iopub.status.idle": "2025-09-23T11:08:39.992751Z",
     "shell.execute_reply": "2025-09-23T11:08:39.992751Z",
     "shell.execute_reply.started": "2025-09-23T11:08:39.987557Z"
    },
    "frozen": false
   },
   "outputs": [
    {
     "data": {
      "text/plain": [
       "<optiwindnet.api.MILPRouter at 0x29ef4e52930>"
      ]
     },
     "execution_count": 22,
     "metadata": {},
     "output_type": "execute_result"
    }
   ],
   "source": [
    "wfn.router"
   ]
  },
  {
   "cell_type": "code",
   "execution_count": 23,
   "id": "acd659f9",
   "metadata": {
    "deletable": true,
    "editable": true,
    "execution": {
     "iopub.execute_input": "2025-09-23T11:08:39.993758Z",
     "iopub.status.busy": "2025-09-23T11:08:39.993758Z",
     "iopub.status.idle": "2025-09-23T11:08:40.001267Z",
     "shell.execute_reply": "2025-09-23T11:08:40.000760Z",
     "shell.execute_reply.started": "2025-09-23T11:08:39.993758Z"
    },
    "frozen": false
   },
   "outputs": [
    {
     "data": {
      "text/plain": [
       "241104.1441382698"
      ]
     },
     "execution_count": 23,
     "metadata": {},
     "output_type": "execute_result"
    }
   ],
   "source": [
    "wfn.length()"
   ]
  },
  {
   "cell_type": "code",
   "execution_count": 24,
   "id": "1569125c",
   "metadata": {
    "deletable": true,
    "editable": true,
    "execution": {
     "iopub.execute_input": "2025-09-23T11:08:40.002276Z",
     "iopub.status.busy": "2025-09-23T11:08:40.002276Z",
     "iopub.status.idle": "2025-09-23T11:08:40.013124Z",
     "shell.execute_reply": "2025-09-23T11:08:40.012801Z",
     "shell.execute_reply.started": "2025-09-23T11:08:40.002276Z"
    },
    "frozen": false
   },
   "outputs": [
    {
     "data": {
      "image/svg+xml": [
       "<svg xmlns=\"http://www.w3.org/2000/svg\" viewBox=\"0 0 1920 1028\"><defs><circle stroke=\"none\" stroke-width=\"2\" id=\"wtg\" r=\"12\"/><rect stroke=\"#111\" stroke-width=\"2\" id=\"oss\" width=\"21\" height=\"21\" fill=\"lawngreen\"/><filter x=\"-5%\" y=\"-5%\" id=\"bg_textbox\" width=\"110%\" height=\"110%\"><feFlood flood-opacity=\"0.6\" flood-color=\"black\" result=\"bg\"/><feMerge><feMergeNode in=\"bg\"/><feMergeNode in=\"SourceGraphic\"/></feMerge></filter></defs><g id=\"doggerA\"><path stroke=\"silver\" stroke-dasharray=\"15 7\" stroke-width=\"2\" id=\"border\" d=\"M1098 998 30 535 42 30 1727 39 1890 202z\" fill-rule=\"evenodd\" fill=\"#111\"/><g stroke=\"crimson\" stroke-width=\"4\" id=\"edges_unspecified\"><line x1=\"158\" y1=\"367\" x2=\"266\" y2=\"458\"/><line x1=\"158\" y1=\"367\" x2=\"47\" y2=\"346\"/><line x1=\"266\" y1=\"458\" x2=\"331\" y2=\"379\"/><line x1=\"655\" y1=\"651\" x2=\"721\" y2=\"572\"/><line x1=\"655\" y1=\"651\" x2=\"717\" y2=\"820\"/><line x1=\"721\" y1=\"572\" x2=\"787\" y2=\"494\"/><line x1=\"547\" y1=\"560\" x2=\"462\" y2=\"710\"/><line x1=\"547\" y1=\"560\" x2=\"613\" y2=\"481\"/><line x1=\"613\" y1=\"481\" x2=\"679\" y2=\"403\"/><line x1=\"224\" y1=\"288\" x2=\"290\" y2=\"210\"/><line x1=\"224\" y1=\"288\" x2=\"48\" y2=\"278\"/><line x1=\"290\" y1=\"210\" x2=\"463\" y2=\"222\"/><line x1=\"1045\" y1=\"844\" x2=\"937\" y2=\"753\"/><line x1=\"1045\" y1=\"844\" x2=\"1035\" y2=\"957\"/><line x1=\"937\" y1=\"753\" x2=\"1003\" y2=\"675\"/><line x1=\"1003\" y1=\"675\" x2=\"895\" y2=\"584\"/><line x1=\"829\" y1=\"663\" x2=\"895\" y2=\"584\"/><line x1=\"744\" y1=\"323\" x2=\"895\" y2=\"584\"/><line x1=\"744\" y1=\"323\" x2=\"787\" y2=\"494\"/><line x1=\"744\" y1=\"323\" x2=\"679\" y2=\"403\"/><line x1=\"397\" y1=\"301\" x2=\"331\" y2=\"379\"/><line x1=\"397\" y1=\"301\" x2=\"571\" y2=\"313\"/><line x1=\"744\" y1=\"323\" x2=\"571\" y2=\"313\"/><line x1=\"744\" y1=\"323\" x2=\"463\" y2=\"222\"/><line x1=\"1111\" y1=\"765\" x2=\"1200\" y2=\"878\"/><line x1=\"1111\" y1=\"765\" x2=\"1176\" y2=\"687\"/><line x1=\"1176\" y1=\"687\" x2=\"1069\" y2=\"596\"/><line x1=\"1069\" y1=\"596\" x2=\"961\" y2=\"505\"/><line x1=\"961\" y1=\"505\" x2=\"853\" y2=\"415\"/><line x1=\"744\" y1=\"323\" x2=\"853\" y2=\"415\"/><line x1=\"1308\" y1=\"529\" x2=\"1374\" y2=\"451\"/><line x1=\"1308\" y1=\"529\" x2=\"1445\" y2=\"633\"/><line x1=\"1374\" y1=\"451\" x2=\"1266\" y2=\"361\"/><line x1=\"744\" y1=\"323\" x2=\"1266\" y2=\"361\"/><line x1=\"1440\" y1=\"373\" x2=\"1332\" y2=\"282\"/><line x1=\"1440\" y1=\"373\" x2=\"1506\" y2=\"294\"/><line x1=\"1158\" y1=\"270\" x2=\"1332\" y2=\"282\"/><line x1=\"469\" y1=\"79\" x2=\"538\" y2=\"79\"/><line x1=\"538\" y1=\"79\" x2=\"608\" y2=\"80\"/><line x1=\"608\" y1=\"80\" x2=\"677\" y2=\"80\"/><line x1=\"677\" y1=\"80\" x2=\"747\" y2=\"81\"/><line x1=\"744\" y1=\"323\" x2=\"747\" y2=\"81\"/><line x1=\"747\" y1=\"81\" x2=\"816\" y2=\"81\"/><line x1=\"1836\" y1=\"239\" x2=\"1787\" y2=\"288\"/><line x1=\"1787\" y1=\"288\" x2=\"1738\" y2=\"337\"/><line x1=\"1738\" y1=\"337\" x2=\"1689\" y2=\"386\"/><line x1=\"1506\" y1=\"294\" x2=\"1689\" y2=\"386\"/><line x1=\"1640\" y1=\"436\" x2=\"1591\" y2=\"484\"/><line x1=\"1591\" y1=\"484\" x2=\"1542\" y2=\"534\"/><line x1=\"1542\" y1=\"534\" x2=\"1493\" y2=\"583\"/><line x1=\"1493\" y1=\"583\" x2=\"1445\" y2=\"633\"/><line x1=\"1298\" y1=\"779\" x2=\"1249\" y2=\"829\"/><line x1=\"1249\" y1=\"829\" x2=\"1200\" y2=\"878\"/><line x1=\"972\" y1=\"930\" x2=\"908\" y2=\"903\"/><line x1=\"844\" y1=\"875\" x2=\"908\" y2=\"903\"/><line x1=\"844\" y1=\"875\" x2=\"781\" y2=\"847\"/><line x1=\"781\" y1=\"847\" x2=\"717\" y2=\"820\"/><line x1=\"654\" y1=\"792\" x2=\"590\" y2=\"765\"/><line x1=\"590\" y1=\"765\" x2=\"526\" y2=\"737\"/><line x1=\"526\" y1=\"737\" x2=\"462\" y2=\"710\"/><line x1=\"462\" y1=\"710\" x2=\"399\" y2=\"681\"/><line x1=\"45\" y1=\"417\" x2=\"47\" y2=\"346\"/><line x1=\"45\" y1=\"417\" x2=\"43\" y2=\"486\"/><line x1=\"374\" y1=\"548\" x2=\"440\" y2=\"469\"/><line x1=\"374\" y1=\"548\" x2=\"335\" y2=\"654\"/><line x1=\"440\" y1=\"469\" x2=\"505\" y2=\"391\"/><line x1=\"744\" y1=\"323\" x2=\"505\" y2=\"391\"/><line x1=\"48\" y1=\"278\" x2=\"50\" y2=\"208\"/><line x1=\"1035\" y1=\"957\" x2=\"1102\" y2=\"976\"/><line x1=\"744\" y1=\"323\" x2=\"1158\" y2=\"270\"/><line x1=\"1224\" y1=\"192\" x2=\"1398\" y2=\"204\"/><line x1=\"1398\" y1=\"204\" x2=\"1572\" y2=\"216\"/><line x1=\"744\" y1=\"323\" x2=\"1224\" y2=\"192\"/><line x1=\"1572\" y1=\"216\" x2=\"1579\" y2=\"87\"/><line x1=\"1579\" y1=\"87\" x2=\"1648\" y2=\"87\"/><line x1=\"816\" y1=\"81\" x2=\"885\" y2=\"82\"/><line x1=\"885\" y1=\"82\" x2=\"954\" y2=\"82\"/><line x1=\"1093\" y1=\"84\" x2=\"1163\" y2=\"84\"/><line x1=\"1024\" y1=\"83\" x2=\"1093\" y2=\"84\"/><line x1=\"744\" y1=\"323\" x2=\"1024\" y2=\"83\"/><line x1=\"1163\" y1=\"84\" x2=\"1232\" y2=\"85\"/><line x1=\"1232\" y1=\"85\" x2=\"1301\" y2=\"85\"/><line x1=\"1301\" y1=\"85\" x2=\"1371\" y2=\"85\"/><line x1=\"1371\" y1=\"85\" x2=\"1440\" y2=\"86\"/><line x1=\"1440\" y1=\"86\" x2=\"1510\" y2=\"87\"/><line x1=\"1648\" y1=\"87\" x2=\"1717\" y2=\"88\"/><line x1=\"1717\" y1=\"88\" x2=\"1774\" y2=\"128\"/><line x1=\"1774\" y1=\"128\" x2=\"1831\" y2=\"167\"/><line x1=\"1102\" y1=\"976\" x2=\"1151\" y2=\"927\"/><line x1=\"50\" y1=\"208\" x2=\"53\" y2=\"78\"/><line x1=\"53\" y1=\"78\" x2=\"122\" y2=\"80\"/><line x1=\"335\" y1=\"654\" x2=\"272\" y2=\"626\"/><line x1=\"272\" y1=\"626\" x2=\"208\" y2=\"599\"/><line x1=\"208\" y1=\"599\" x2=\"145\" y2=\"572\"/><line x1=\"145\" y1=\"572\" x2=\"81\" y2=\"544\"/></g><g id=\"WTGgrp\"><g fill=\"#c49c94\"><use href=\"#wtg\" x=\"158\" y=\"367\"/><use href=\"#wtg\" x=\"266\" y=\"458\"/><use href=\"#wtg\" x=\"397\" y=\"301\"/><use href=\"#wtg\" x=\"571\" y=\"313\"/><use href=\"#wtg\" x=\"45\" y=\"417\"/><use href=\"#wtg\" x=\"47\" y=\"346\"/><use href=\"#wtg\" x=\"331\" y=\"379\"/><use href=\"#wtg\" x=\"43\" y=\"486\"/></g><g fill=\"#aec7e8\"><use href=\"#wtg\" x=\"655\" y=\"651\"/><use href=\"#wtg\" x=\"721\" y=\"572\"/><use href=\"#wtg\" x=\"787\" y=\"494\"/><use href=\"#wtg\" x=\"972\" y=\"930\"/><use href=\"#wtg\" x=\"908\" y=\"903\"/><use href=\"#wtg\" x=\"844\" y=\"875\"/><use href=\"#wtg\" x=\"781\" y=\"847\"/><use href=\"#wtg\" x=\"717\" y=\"820\"/></g><g fill=\"#ff7f0e\"><use href=\"#wtg\" x=\"547\" y=\"560\"/><use href=\"#wtg\" x=\"613\" y=\"481\"/><use href=\"#wtg\" x=\"679\" y=\"403\"/><use href=\"#wtg\" x=\"654\" y=\"792\"/><use href=\"#wtg\" x=\"590\" y=\"765\"/><use href=\"#wtg\" x=\"526\" y=\"737\"/><use href=\"#wtg\" x=\"462\" y=\"710\"/><use href=\"#wtg\" x=\"399\" y=\"681\"/></g><g fill=\"#ffbb78\"><use href=\"#wtg\" x=\"224\" y=\"288\"/><use href=\"#wtg\" x=\"290\" y=\"210\"/><use href=\"#wtg\" x=\"463\" y=\"222\"/><use href=\"#wtg\" x=\"48\" y=\"278\"/><use href=\"#wtg\" x=\"50\" y=\"208\"/><use href=\"#wtg\" x=\"53\" y=\"78\"/><use href=\"#wtg\" x=\"122\" y=\"80\"/></g><g fill=\"#1f77b4\"><use href=\"#wtg\" x=\"1045\" y=\"844\"/><use href=\"#wtg\" x=\"937\" y=\"753\"/><use href=\"#wtg\" x=\"1003\" y=\"675\"/><use href=\"#wtg\" x=\"829\" y=\"663\"/><use href=\"#wtg\" x=\"895\" y=\"584\"/><use href=\"#wtg\" x=\"1035\" y=\"957\"/><use href=\"#wtg\" x=\"1102\" y=\"976\"/><use href=\"#wtg\" x=\"1151\" y=\"927\"/></g><g fill=\"#2ca02c\"><use href=\"#wtg\" x=\"1111\" y=\"765\"/><use href=\"#wtg\" x=\"1176\" y=\"687\"/><use href=\"#wtg\" x=\"1069\" y=\"596\"/><use href=\"#wtg\" x=\"961\" y=\"505\"/><use href=\"#wtg\" x=\"853\" y=\"415\"/><use href=\"#wtg\" x=\"1298\" y=\"779\"/><use href=\"#wtg\" x=\"1249\" y=\"829\"/><use href=\"#wtg\" x=\"1200\" y=\"878\"/></g><g fill=\"#98df8a\"><use href=\"#wtg\" x=\"1308\" y=\"529\"/><use href=\"#wtg\" x=\"1374\" y=\"451\"/><use href=\"#wtg\" x=\"1266\" y=\"361\"/><use href=\"#wtg\" x=\"1640\" y=\"436\"/><use href=\"#wtg\" x=\"1591\" y=\"484\"/><use href=\"#wtg\" x=\"1542\" y=\"534\"/><use href=\"#wtg\" x=\"1493\" y=\"583\"/><use href=\"#wtg\" x=\"1445\" y=\"633\"/></g><g fill=\"#d62728\"><use href=\"#wtg\" x=\"1440\" y=\"373\"/><use href=\"#wtg\" x=\"1332\" y=\"282\"/><use href=\"#wtg\" x=\"1836\" y=\"239\"/><use href=\"#wtg\" x=\"1787\" y=\"288\"/><use href=\"#wtg\" x=\"1738\" y=\"337\"/><use href=\"#wtg\" x=\"1689\" y=\"386\"/><use href=\"#wtg\" x=\"1158\" y=\"270\"/><use href=\"#wtg\" x=\"1506\" y=\"294\"/></g><g fill=\"#9467bd\"><use href=\"#wtg\" x=\"469\" y=\"79\"/><use href=\"#wtg\" x=\"538\" y=\"79\"/><use href=\"#wtg\" x=\"608\" y=\"80\"/><use href=\"#wtg\" x=\"677\" y=\"80\"/><use href=\"#wtg\" x=\"747\" y=\"81\"/><use href=\"#wtg\" x=\"816\" y=\"81\"/><use href=\"#wtg\" x=\"885\" y=\"82\"/><use href=\"#wtg\" x=\"954\" y=\"82\"/></g><g fill=\"#8c564b\"><use href=\"#wtg\" x=\"374\" y=\"548\"/><use href=\"#wtg\" x=\"440\" y=\"469\"/><use href=\"#wtg\" x=\"505\" y=\"391\"/><use href=\"#wtg\" x=\"335\" y=\"654\"/><use href=\"#wtg\" x=\"272\" y=\"626\"/><use href=\"#wtg\" x=\"208\" y=\"599\"/><use href=\"#wtg\" x=\"145\" y=\"572\"/><use href=\"#wtg\" x=\"81\" y=\"544\"/></g><g fill=\"#ff9896\"><use href=\"#wtg\" x=\"1398\" y=\"204\"/><use href=\"#wtg\" x=\"1224\" y=\"192\"/><use href=\"#wtg\" x=\"1572\" y=\"216\"/><use href=\"#wtg\" x=\"1579\" y=\"87\"/><use href=\"#wtg\" x=\"1648\" y=\"87\"/><use href=\"#wtg\" x=\"1717\" y=\"88\"/><use href=\"#wtg\" x=\"1774\" y=\"128\"/><use href=\"#wtg\" x=\"1831\" y=\"167\"/></g><g fill=\"#c5b0d5\"><use href=\"#wtg\" x=\"1093\" y=\"84\"/><use href=\"#wtg\" x=\"1024\" y=\"83\"/><use href=\"#wtg\" x=\"1163\" y=\"84\"/><use href=\"#wtg\" x=\"1232\" y=\"85\"/><use href=\"#wtg\" x=\"1301\" y=\"85\"/><use href=\"#wtg\" x=\"1371\" y=\"85\"/><use href=\"#wtg\" x=\"1440\" y=\"86\"/><use href=\"#wtg\" x=\"1510\" y=\"87\"/></g></g><g id=\"OSSgrp\"><use href=\"#oss\" x=\"733.5\" y=\"312.5\"/></g></g><text filter=\"url(#bg_textbox)\" text-anchor=\"end\" font-family=\"sans-serif\" font-size=\"40\" fill=\"white\" x=\"1890\" y=\"998\"><tspan x=\"1890\" dy=\"-0.0em\">&#931;&#955; = 241104.0 m</tspan><tspan x=\"1890\" dy=\"-1.3em\">(+0) SS1: 12</tspan><tspan x=\"1890\" dy=\"-1.3em\">&#954; = 8, T = 95</tspan></text></svg>"
      ],
      "text/plain": [
       "<optiwindnet.api.WindFarmNetwork at 0x29efaff1040>"
      ]
     },
     "execution_count": 24,
     "metadata": {},
     "output_type": "execute_result"
    }
   ],
   "source": [
    "wfn"
   ]
  }
 ],
 "metadata": {
  "kernelspec": {
   "display_name": "«work312»",
   "language": "python",
   "name": "work312"
  },
  "language_info": {
   "codemirror_mode": {
    "name": "ipython",
    "version": 3
   },
   "file_extension": ".py",
   "mimetype": "text/x-python",
   "name": "python",
   "nbconvert_exporter": "python",
   "pygments_lexer": "ipython3",
   "version": "3.12.11"
  }
 },
 "nbformat": 4,
 "nbformat_minor": 5
}
