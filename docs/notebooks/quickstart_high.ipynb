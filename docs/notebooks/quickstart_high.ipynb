{
 "cells": [
  {
   "cell_type": "markdown",
   "id": "d3889873-304a-4138-8d26-71cd9df08281",
   "metadata": {},
   "source": [
    "# 🚀 Quick Start"
   ]
  },
  {
   "cell_type": "markdown",
   "id": "b613f213-609c-4fab-b6e2-6da86ea72cb6",
   "metadata": {},
   "source": [
    "This notebook shows the *minimum steps* needed to run a electrical network optimization in a wind farm via OptiWindNet."
   ]
  },
  {
   "cell_type": "markdown",
   "id": "56bae6b4-9cf4-4e01-83ce-e17d4b788b18",
   "metadata": {},
   "source": [
    "## Steps"
   ]
  },
  {
   "cell_type": "markdown",
   "id": "77861cab-daa3-4bf5-98a9-27d52ad7cecb",
   "metadata": {},
   "source": [
    "An network optimization via OptiWindNet involves two components:\n",
    "\n",
    "* A `WindFarmNetwork` containing the problem data.\n",
    "* A `Router` describing the method used to solve it.\n",
    "\n",
    "The network optimization can be performed using following steps:\n",
    "\n",
    "1) Create a `WindFarmNetwork` instance\n",
    "2) Define a router\n",
    "3) Run the optimization and get the results"
   ]
  },
  {
   "cell_type": "markdown",
   "id": "48145102",
   "metadata": {},
   "source": [
    "### 1. Create a `WindFarmNetwork` instance"
   ]
  },
  {
   "cell_type": "markdown",
   "id": "fac8dccf",
   "metadata": {},
   "source": [
    "The `WindFarmNetwork` component stores the turbine layout and runs optimization (storing the optimized network after running an optimization). See [WindFarmNetwork and Router](a02_WindFarmNetwork.ipynb) for some of the importnant methods and functionalities provided by this component."
   ]
  },
  {
   "cell_type": "code",
   "execution_count": 1,
   "id": "2f1ecb89-84e4-4316-9db9-dbaf5b282bf0",
   "metadata": {},
   "outputs": [],
   "source": [
    "from optiwindnet.api import WindFarmNetwork"
   ]
  },
  {
   "cell_type": "code",
   "execution_count": 2,
   "id": "c955df78",
   "metadata": {},
   "outputs": [],
   "source": [
    "# Display figures as SVG in Jupyter notebooks\n",
    "%config InlineBackend.figure_formats = ['svg']"
   ]
  },
  {
   "cell_type": "markdown",
   "id": "e0765d5c",
   "metadata": {},
   "source": [
    "#### Load location data\n",
    "\n",
    "> Note: For details about *OptiWindNet*'s `load_repository()`, check [Load repositories containing location data](a03_load_repositories.ipynb)."
   ]
  },
  {
   "cell_type": "code",
   "execution_count": 3,
   "id": "1f2d7a49-6c57-49e9-bb85-cad2eb08d350",
   "metadata": {},
   "outputs": [],
   "source": [
    "from optiwindnet.api import load_repository\n",
    "locations = load_repository()\n",
    "L = locations.doggerA"
   ]
  },
  {
   "cell_type": "markdown",
   "id": "082fda01",
   "metadata": {},
   "source": [
    "Initialize a `WindFarmNetwork` instance with a prebuilt `L` and a desired maximum cable capacity *(See [Data Input](a01_data_input.ipynb) for various input formats.)*"
   ]
  },
  {
   "cell_type": "code",
   "execution_count": 4,
   "id": "1cefe795",
   "metadata": {},
   "outputs": [],
   "source": [
    "wfn = WindFarmNetwork(L=L, cables=8)"
   ]
  },
  {
   "cell_type": "markdown",
   "id": "a8fd46b9",
   "metadata": {},
   "source": [
    "We can plot the location to make sure `wfn` is created with the correct data."
   ]
  },
  {
   "cell_type": "markdown",
   "id": "753feb91",
   "metadata": {},
   "source": [
    ">**Tip.** In a notebook, just put `wfn` as the last line of a cell for plotting G.\n",
    ">\n",
    ">* Before optimization (no `G` yet), it renders the location geometry `L`.\n",
    ">* If `G` exists (e.g. after a `optimize()` is run), it automatically renders `G`.\n",
    ">\n",
    ">We could use `wfn.plot_location()` for plotting the location geometry. For more details look into the notebook about [plotting](a04_Plotting.ipynb)"
   ]
  },
  {
   "cell_type": "code",
   "execution_count": 5,
   "id": "e0e31dfa",
   "metadata": {},
   "outputs": [
    {
     "data": {
      "image/svg+xml": [
       "<svg xmlns=\"http://www.w3.org/2000/svg\" viewBox=\"0 0 1920 1028\"><defs><circle stroke=\"none\" stroke-width=\"2\" id=\"wtg\" r=\"12\"/><rect stroke=\"#111\" stroke-width=\"2\" id=\"oss\" width=\"21\" height=\"21\" fill=\"lawngreen\"/></defs><g id=\"doggerA\"><path stroke=\"silver\" stroke-dasharray=\"15 7\" stroke-width=\"2\" id=\"border\" d=\"M1098 998 30 535 42 30 1727 39 1890 202z\" fill-rule=\"evenodd\" fill=\"#111\"/><g id=\"WTGgrp\"><g fill=\"#9edae5\"><use href=\"#wtg\" x=\"158\" y=\"367\"/><use href=\"#wtg\" x=\"655\" y=\"651\"/><use href=\"#wtg\" x=\"547\" y=\"560\"/><use href=\"#wtg\" x=\"224\" y=\"288\"/><use href=\"#wtg\" x=\"1045\" y=\"844\"/><use href=\"#wtg\" x=\"937\" y=\"753\"/><use href=\"#wtg\" x=\"829\" y=\"663\"/><use href=\"#wtg\" x=\"721\" y=\"572\"/><use href=\"#wtg\" x=\"613\" y=\"481\"/><use href=\"#wtg\" x=\"397\" y=\"301\"/><use href=\"#wtg\" x=\"290\" y=\"210\"/><use href=\"#wtg\" x=\"1111\" y=\"765\"/><use href=\"#wtg\" x=\"1003\" y=\"675\"/><use href=\"#wtg\" x=\"895\" y=\"584\"/><use href=\"#wtg\" x=\"787\" y=\"494\"/><use href=\"#wtg\" x=\"679\" y=\"403\"/><use href=\"#wtg\" x=\"463\" y=\"222\"/><use href=\"#wtg\" x=\"1176\" y=\"687\"/><use href=\"#wtg\" x=\"1069\" y=\"596\"/><use href=\"#wtg\" x=\"961\" y=\"505\"/><use href=\"#wtg\" x=\"853\" y=\"415\"/><use href=\"#wtg\" x=\"1308\" y=\"529\"/><use href=\"#wtg\" x=\"1374\" y=\"451\"/><use href=\"#wtg\" x=\"1266\" y=\"361\"/><use href=\"#wtg\" x=\"1158\" y=\"270\"/><use href=\"#wtg\" x=\"1440\" y=\"373\"/><use href=\"#wtg\" x=\"1332\" y=\"282\"/><use href=\"#wtg\" x=\"1224\" y=\"192\"/><use href=\"#wtg\" x=\"1506\" y=\"294\"/><use href=\"#wtg\" x=\"1398\" y=\"204\"/><use href=\"#wtg\" x=\"1572\" y=\"216\"/><use href=\"#wtg\" x=\"469\" y=\"79\"/><use href=\"#wtg\" x=\"538\" y=\"79\"/><use href=\"#wtg\" x=\"608\" y=\"80\"/><use href=\"#wtg\" x=\"677\" y=\"80\"/><use href=\"#wtg\" x=\"747\" y=\"81\"/><use href=\"#wtg\" x=\"816\" y=\"81\"/><use href=\"#wtg\" x=\"885\" y=\"82\"/><use href=\"#wtg\" x=\"954\" y=\"82\"/><use href=\"#wtg\" x=\"1024\" y=\"83\"/><use href=\"#wtg\" x=\"1093\" y=\"84\"/><use href=\"#wtg\" x=\"1163\" y=\"84\"/><use href=\"#wtg\" x=\"1232\" y=\"85\"/><use href=\"#wtg\" x=\"1301\" y=\"85\"/><use href=\"#wtg\" x=\"1371\" y=\"85\"/><use href=\"#wtg\" x=\"1440\" y=\"86\"/><use href=\"#wtg\" x=\"1510\" y=\"87\"/><use href=\"#wtg\" x=\"1579\" y=\"87\"/><use href=\"#wtg\" x=\"1648\" y=\"87\"/><use href=\"#wtg\" x=\"1717\" y=\"88\"/><use href=\"#wtg\" x=\"1836\" y=\"239\"/><use href=\"#wtg\" x=\"1787\" y=\"288\"/><use href=\"#wtg\" x=\"1738\" y=\"337\"/><use href=\"#wtg\" x=\"1689\" y=\"386\"/><use href=\"#wtg\" x=\"1640\" y=\"436\"/><use href=\"#wtg\" x=\"1591\" y=\"484\"/><use href=\"#wtg\" x=\"1542\" y=\"534\"/><use href=\"#wtg\" x=\"1493\" y=\"583\"/><use href=\"#wtg\" x=\"1445\" y=\"633\"/><use href=\"#wtg\" x=\"1298\" y=\"779\"/><use href=\"#wtg\" x=\"1249\" y=\"829\"/><use href=\"#wtg\" x=\"1200\" y=\"878\"/><use href=\"#wtg\" x=\"1035\" y=\"957\"/><use href=\"#wtg\" x=\"972\" y=\"930\"/><use href=\"#wtg\" x=\"844\" y=\"875\"/><use href=\"#wtg\" x=\"781\" y=\"847\"/><use href=\"#wtg\" x=\"717\" y=\"820\"/><use href=\"#wtg\" x=\"654\" y=\"792\"/><use href=\"#wtg\" x=\"590\" y=\"765\"/><use href=\"#wtg\" x=\"526\" y=\"737\"/><use href=\"#wtg\" x=\"462\" y=\"710\"/><use href=\"#wtg\" x=\"45\" y=\"417\"/><use href=\"#wtg\" x=\"47\" y=\"346\"/><use href=\"#wtg\" x=\"48\" y=\"278\"/><use href=\"#wtg\" x=\"50\" y=\"208\"/><use href=\"#wtg\" x=\"53\" y=\"78\"/><use href=\"#wtg\" x=\"122\" y=\"80\"/><use href=\"#wtg\" x=\"1102\" y=\"976\"/><use href=\"#wtg\" x=\"908\" y=\"903\"/><use href=\"#wtg\" x=\"374\" y=\"548\"/><use href=\"#wtg\" x=\"266\" y=\"458\"/><use href=\"#wtg\" x=\"440\" y=\"469\"/><use href=\"#wtg\" x=\"331\" y=\"379\"/><use href=\"#wtg\" x=\"505\" y=\"391\"/><use href=\"#wtg\" x=\"571\" y=\"313\"/><use href=\"#wtg\" x=\"1151\" y=\"927\"/><use href=\"#wtg\" x=\"399\" y=\"681\"/><use href=\"#wtg\" x=\"335\" y=\"654\"/><use href=\"#wtg\" x=\"272\" y=\"626\"/><use href=\"#wtg\" x=\"208\" y=\"599\"/><use href=\"#wtg\" x=\"145\" y=\"572\"/><use href=\"#wtg\" x=\"81\" y=\"544\"/><use href=\"#wtg\" x=\"43\" y=\"486\"/><use href=\"#wtg\" x=\"1774\" y=\"128\"/><use href=\"#wtg\" x=\"1831\" y=\"167\"/></g></g><g id=\"OSSgrp\"><use href=\"#oss\" x=\"733.5\" y=\"312.5\"/></g></g></svg>"
      ],
      "text/plain": [
       "<optiwindnet.api.WindFarmNetwork at 0x2504e9ff500>"
      ]
     },
     "execution_count": 5,
     "metadata": {},
     "output_type": "execute_result"
    }
   ],
   "source": [
    "wfn"
   ]
  },
  {
   "cell_type": "markdown",
   "id": "64a931d6-a64a-4e6b-a36d-6b103a8216dc",
   "metadata": {},
   "source": [
    "### 2. Define a `Router`"
   ]
  },
  {
   "cell_type": "markdown",
   "id": "100bfc85-3785-435e-839e-1a6adef38c23",
   "metadata": {},
   "source": [
    "Three built-in routers are available in *OptiWindNet* :\n",
    "\n",
    "| Router     | Speed | Accuracy | Notes |\n",
    "|------------|-------|----------|-------|\n",
    "| EWRouter   | ⭐⭐⭐  | ⭐       | Very fast heuristic |\n",
    "| HGSRouter  | ⭐⭐   | ⭐⭐       | Radial topology |\n",
    "| MILPRouter | ⭐    | ⭐⭐⭐      | Exact MILP solver |\n",
    "\n",
    "See [WindFarmNetwork and Router](a02_WindFarmNetwork.ipynb) for details about routers."
   ]
  },
  {
   "cell_type": "markdown",
   "id": "d949bb52-5c2b-467b-954b-1ff0be0f717c",
   "metadata": {},
   "source": [
    "#### EWRouter"
   ]
  },
  {
   "cell_type": "markdown",
   "id": "90750db9-b0e4-48cf-ade0-339d2ef14d84",
   "metadata": {},
   "source": [
    "To use this router, simply create an instance of the `EWRouter` class. All arguments are *optional*, making it quick and easy to get started with minimal configuration."
   ]
  },
  {
   "cell_type": "code",
   "execution_count": 6,
   "id": "b6a65515-8573-4fb7-9f14-f741d78eb361",
   "metadata": {},
   "outputs": [],
   "source": [
    "from optiwindnet.api import EWRouter"
   ]
  },
  {
   "cell_type": "code",
   "execution_count": 7,
   "id": "e4218728-24ee-4e12-a597-0aff167ce84d",
   "metadata": {},
   "outputs": [],
   "source": [
    "ew_router = EWRouter()"
   ]
  },
  {
   "cell_type": "markdown",
   "id": "e52ecc51",
   "metadata": {},
   "source": [
    "#### HGSRouter\n",
    "\n",
    "To use this router, create an instance of the `HGSRouter` class. The *only required argument* is `time_limit`, which defines how long the optimization is allowed to run (in seconds)."
   ]
  },
  {
   "cell_type": "code",
   "execution_count": 8,
   "id": "3c842d29",
   "metadata": {},
   "outputs": [],
   "source": [
    "from optiwindnet.api import HGSRouter"
   ]
  },
  {
   "cell_type": "code",
   "execution_count": 9,
   "id": "346b0030",
   "metadata": {},
   "outputs": [],
   "source": [
    "hgs_router = HGSRouter(time_limit=1)"
   ]
  },
  {
   "cell_type": "markdown",
   "id": "8694bc98",
   "metadata": {},
   "source": [
    "#### MILPRouter\n",
    "\n",
    "To use this router, create an instance of the `MILP` class.\n",
    "You must provide:\n",
    "\n",
    "* `solver_name`: the MILP solver to use (e.g., `'ortools'`, `'gurobi'`, `'cbc'`)\n",
    "* `time_limit`: maximum time allowed for solving (in seconds)\n",
    "* `mip_gap`: acceptable optimality gap (e.g., `0.005` = 0.5%)"
   ]
  },
  {
   "cell_type": "markdown",
   "id": "cc4966be",
   "metadata": {},
   "source": [
    "Optional arguments:\n",
    "\n",
    "* `verbose` *(default: False)*: set to `True` to display solver progress and detailed logs\n",
    "* `solver_options`: dictionary of solver-specific parameters\n",
    "* `model_options`: advanced model settings (e.g., topology, feeder configuration)"
   ]
  },
  {
   "cell_type": "code",
   "execution_count": 10,
   "id": "9362998f",
   "metadata": {},
   "outputs": [],
   "source": [
    "from optiwindnet.api import MILPRouter"
   ]
  },
  {
   "cell_type": "code",
   "execution_count": 11,
   "id": "052b93cb",
   "metadata": {},
   "outputs": [],
   "source": [
    "milp_router = MILPRouter(solver_name='ortools', time_limit=20, mip_gap=0.005, verbose=True)"
   ]
  },
  {
   "cell_type": "markdown",
   "id": "77b319ef",
   "metadata": {},
   "source": [
    "### 3. Run the optimization"
   ]
  },
  {
   "cell_type": "markdown",
   "id": "a1993761",
   "metadata": {},
   "source": [
    "#### EWRouter (very fast)"
   ]
  },
  {
   "cell_type": "code",
   "execution_count": 12,
   "id": "db91b101-c598-4a53-859d-d2bd540c1bef",
   "metadata": {},
   "outputs": [
    {
     "name": "stdout",
     "output_type": "stream",
     "text": [
      "63.6 ms ± 9.11 ms per loop (mean ± std. dev. of 7 runs, 1 loop each)\n"
     ]
    }
   ],
   "source": [
    "%%timeit\n",
    "res_ew = wfn.optimize(router=ew_router)"
   ]
  },
  {
   "cell_type": "code",
   "execution_count": 13,
   "id": "0d340d87-76a2-4537-8267-a5ae267b3ac2",
   "metadata": {},
   "outputs": [
    {
     "data": {
      "text/plain": [
       "264936.30102115136"
      ]
     },
     "execution_count": 13,
     "metadata": {},
     "output_type": "execute_result"
    }
   ],
   "source": [
    "wfn.length()"
   ]
  },
  {
   "cell_type": "markdown",
   "id": "bc45a08e",
   "metadata": {},
   "source": [
    "Plot optimized network\n",
    "\n",
    "> Note: we could use `wfn.plot()` for plotting the optimized network. For more details look into the notebook about [plotting](a04_Plotting.ipynb)"
   ]
  },
  {
   "cell_type": "code",
   "execution_count": 14,
   "id": "842e6996-49a7-4354-b28a-c3c042b5a6a3",
   "metadata": {},
   "outputs": [
    {
     "data": {
      "image/svg+xml": [
       "<svg xmlns=\"http://www.w3.org/2000/svg\" viewBox=\"0 0 1920 1028\"><defs><circle stroke=\"orange\" stroke-opacity=\"0.3\" stroke-width=\"4\" id=\"dt\" r=\"23\" fill=\"none\"/><circle stroke=\"none\" stroke-width=\"2\" id=\"wtg\" r=\"12\"/><rect stroke=\"#111\" stroke-width=\"2\" id=\"oss\" width=\"21\" height=\"21\" fill=\"lawngreen\"/><filter x=\"-5%\" y=\"-5%\" id=\"bg_textbox\" width=\"110%\" height=\"110%\"><feFlood flood-opacity=\"0.6\" flood-color=\"black\" result=\"bg\"/><feMerge><feMergeNode in=\"bg\"/><feMergeNode in=\"SourceGraphic\"/></feMerge></filter></defs><g id=\"doggerA\"><path stroke=\"silver\" stroke-dasharray=\"15 7\" stroke-width=\"2\" id=\"border\" d=\"M1098 998 30 535 42 30 1727 39 1890 202z\" fill-rule=\"evenodd\" fill=\"#111\"/><g stroke=\"crimson\" stroke-width=\"4\" id=\"edges_unspecified\"><line x1=\"158\" y1=\"367\" x2=\"224\" y2=\"288\"/><line x1=\"744\" y1=\"323\" x2=\"816\" y2=\"81\"/><line x1=\"744\" y1=\"323\" x2=\"853\" y2=\"415\"/><line x1=\"744\" y1=\"323\" x2=\"571\" y2=\"313\"/><line x1=\"744\" y1=\"323\" x2=\"679\" y2=\"403\"/><line x1=\"744\" y1=\"323\" x2=\"1158\" y2=\"270\"/><line x1=\"744\" y1=\"323\" x2=\"505\" y2=\"391\"/><line x1=\"744\" y1=\"323\" x2=\"1371\" y2=\"85\"/><line x1=\"744\" y1=\"323\" x2=\"1308\" y2=\"529\"/><line x1=\"655\" y1=\"651\" x2=\"721\" y2=\"572\"/><line x1=\"655\" y1=\"651\" x2=\"590\" y2=\"765\"/><line x1=\"547\" y1=\"560\" x2=\"613\" y2=\"481\"/><line x1=\"224\" y1=\"288\" x2=\"290\" y2=\"210\"/><line x1=\"1045\" y1=\"844\" x2=\"1111\" y2=\"765\"/><line x1=\"937\" y1=\"753\" x2=\"1003\" y2=\"675\"/><line x1=\"829\" y1=\"663\" x2=\"895\" y2=\"584\"/><line x1=\"613\" y1=\"481\" x2=\"679\" y2=\"403\"/><line x1=\"397\" y1=\"301\" x2=\"290\" y2=\"210\"/><line x1=\"397\" y1=\"301\" x2=\"331\" y2=\"379\"/><line x1=\"290\" y1=\"210\" x2=\"122\" y2=\"80\"/><line x1=\"1111\" y1=\"765\" x2=\"1176\" y2=\"687\"/><line x1=\"1003\" y1=\"675\" x2=\"1069\" y2=\"596\"/><line x1=\"895\" y1=\"584\" x2=\"787\" y2=\"494\"/><line x1=\"787\" y1=\"494\" x2=\"679\" y2=\"403\"/><line x1=\"463\" y1=\"222\" x2=\"571\" y2=\"313\"/><line x1=\"463\" y1=\"222\" x2=\"469\" y2=\"79\"/><line x1=\"1176\" y1=\"687\" x2=\"1069\" y2=\"596\"/><line x1=\"1069\" y1=\"596\" x2=\"961\" y2=\"505\"/><line x1=\"961\" y1=\"505\" x2=\"853\" y2=\"415\"/><line x1=\"1308\" y1=\"529\" x2=\"1374\" y2=\"451\"/><line x1=\"1308\" y1=\"529\" x2=\"1445\" y2=\"633\"/><line x1=\"1374\" y1=\"451\" x2=\"1440\" y2=\"373\"/><line x1=\"1266\" y1=\"361\" x2=\"1158\" y2=\"270\"/><line x1=\"1266\" y1=\"361\" x2=\"1332\" y2=\"282\"/><line x1=\"1158\" y1=\"270\" x2=\"1224\" y2=\"192\"/><line x1=\"1440\" y1=\"373\" x2=\"1506\" y2=\"294\"/><line x1=\"1332\" y1=\"282\" x2=\"1398\" y2=\"204\"/><line x1=\"1506\" y1=\"294\" x2=\"1572\" y2=\"216\"/><line x1=\"469\" y1=\"79\" x2=\"538\" y2=\"79\"/><line x1=\"538\" y1=\"79\" x2=\"608\" y2=\"80\"/><line x1=\"608\" y1=\"80\" x2=\"677\" y2=\"80\"/><line x1=\"677\" y1=\"80\" x2=\"747\" y2=\"81\"/><line x1=\"816\" y1=\"81\" x2=\"885\" y2=\"82\"/><line x1=\"885\" y1=\"82\" x2=\"954\" y2=\"82\"/><line x1=\"954\" y1=\"82\" x2=\"1024\" y2=\"83\"/><line x1=\"1024\" y1=\"83\" x2=\"1093\" y2=\"84\"/><line x1=\"1093\" y1=\"84\" x2=\"1163\" y2=\"84\"/><line x1=\"1163\" y1=\"84\" x2=\"1232\" y2=\"85\"/><line x1=\"1232\" y1=\"85\" x2=\"1301\" y2=\"85\"/><line x1=\"1371\" y1=\"85\" x2=\"1440\" y2=\"86\"/><line x1=\"1440\" y1=\"86\" x2=\"1510\" y2=\"87\"/><line x1=\"1510\" y1=\"87\" x2=\"1579\" y2=\"87\"/><line x1=\"1579\" y1=\"87\" x2=\"1648\" y2=\"87\"/><line x1=\"1648\" y1=\"87\" x2=\"1717\" y2=\"88\"/><line x1=\"1717\" y1=\"88\" x2=\"1774\" y2=\"128\"/><line x1=\"1836\" y1=\"239\" x2=\"1787\" y2=\"288\"/><line x1=\"1787\" y1=\"288\" x2=\"1738\" y2=\"337\"/><line x1=\"1738\" y1=\"337\" x2=\"1689\" y2=\"386\"/><line x1=\"1689\" y1=\"386\" x2=\"1640\" y2=\"436\"/><line x1=\"1640\" y1=\"436\" x2=\"1591\" y2=\"484\"/><line x1=\"1591\" y1=\"484\" x2=\"1542\" y2=\"534\"/><line x1=\"1542\" y1=\"534\" x2=\"1493\" y2=\"583\"/><line x1=\"1298\" y1=\"779\" x2=\"1249\" y2=\"829\"/><line x1=\"1249\" y1=\"829\" x2=\"1200\" y2=\"878\"/><line x1=\"1200\" y1=\"878\" x2=\"1151\" y2=\"927\"/><line x1=\"1035\" y1=\"957\" x2=\"1102\" y2=\"976\"/><line x1=\"1035\" y1=\"957\" x2=\"972\" y2=\"930\"/><line x1=\"972\" y1=\"930\" x2=\"908\" y2=\"903\"/><line x1=\"844\" y1=\"875\" x2=\"781\" y2=\"847\"/><line x1=\"781\" y1=\"847\" x2=\"717\" y2=\"820\"/><line x1=\"717\" y1=\"820\" x2=\"654\" y2=\"792\"/><line x1=\"654\" y1=\"792\" x2=\"590\" y2=\"765\"/><line x1=\"526\" y1=\"737\" x2=\"462\" y2=\"710\"/><line x1=\"462\" y1=\"710\" x2=\"399\" y2=\"681\"/><line x1=\"45\" y1=\"417\" x2=\"47\" y2=\"346\"/><line x1=\"45\" y1=\"417\" x2=\"43\" y2=\"486\"/><line x1=\"47\" y1=\"346\" x2=\"48\" y2=\"278\"/><line x1=\"48\" y1=\"278\" x2=\"50\" y2=\"208\"/><line x1=\"53\" y1=\"78\" x2=\"122\" y2=\"80\"/><line x1=\"1102\" y1=\"976\" x2=\"1151\" y2=\"927\"/><line x1=\"374\" y1=\"548\" x2=\"440\" y2=\"469\"/><line x1=\"374\" y1=\"548\" x2=\"335\" y2=\"654\"/><line x1=\"266\" y1=\"458\" x2=\"331\" y2=\"379\"/><line x1=\"440\" y1=\"469\" x2=\"505\" y2=\"391\"/><line x1=\"399\" y1=\"681\" x2=\"335\" y2=\"654\"/><line x1=\"335\" y1=\"654\" x2=\"272\" y2=\"626\"/><line x1=\"208\" y1=\"599\" x2=\"145\" y2=\"572\"/><line x1=\"145\" y1=\"572\" x2=\"81\" y2=\"544\"/><line x1=\"81\" y1=\"544\" x2=\"43\" y2=\"486\"/><line x1=\"1774\" y1=\"128\" x2=\"1831\" y2=\"167\"/></g><g stroke=\"darkorange\" stroke-dasharray=\"18 15\" stroke-width=\"4\" id=\"detours\" fill=\"none\"><polyline points=\"744 323 895 584 908 903\"/><polyline points=\"744 323 547 560 655 651\"/><polyline points=\"744 323 571 313 397 301\"/><polyline points=\"744 323 505 391 208 599\"/><polyline points=\"744 323 1445 633 1493 583\"/></g><g id=\"DTgrp\"><use href=\"#dt\" x=\"895\" y=\"584\"/><use href=\"#dt\" x=\"547\" y=\"560\"/><use href=\"#dt\" x=\"571\" y=\"313\"/><use href=\"#dt\" x=\"505\" y=\"391\"/><use href=\"#dt\" x=\"1445\" y=\"633\"/></g><g id=\"WTGgrp\"><g fill=\"#aec7e8\"><use href=\"#wtg\" x=\"158\" y=\"367\"/><use href=\"#wtg\" x=\"224\" y=\"288\"/><use href=\"#wtg\" x=\"397\" y=\"301\"/><use href=\"#wtg\" x=\"290\" y=\"210\"/><use href=\"#wtg\" x=\"53\" y=\"78\"/><use href=\"#wtg\" x=\"122\" y=\"80\"/><use href=\"#wtg\" x=\"266\" y=\"458\"/><use href=\"#wtg\" x=\"331\" y=\"379\"/></g><g fill=\"#1f77b4\"><use href=\"#wtg\" x=\"655\" y=\"651\"/><use href=\"#wtg\" x=\"721\" y=\"572\"/><use href=\"#wtg\" x=\"844\" y=\"875\"/><use href=\"#wtg\" x=\"781\" y=\"847\"/><use href=\"#wtg\" x=\"717\" y=\"820\"/><use href=\"#wtg\" x=\"654\" y=\"792\"/><use href=\"#wtg\" x=\"590\" y=\"765\"/></g><g fill=\"#ff7f0e\"><use href=\"#wtg\" x=\"547\" y=\"560\"/><use href=\"#wtg\" x=\"829\" y=\"663\"/><use href=\"#wtg\" x=\"613\" y=\"481\"/><use href=\"#wtg\" x=\"895\" y=\"584\"/><use href=\"#wtg\" x=\"787\" y=\"494\"/><use href=\"#wtg\" x=\"679\" y=\"403\"/></g><g fill=\"#ffbb78\"><use href=\"#wtg\" x=\"1045\" y=\"844\"/><use href=\"#wtg\" x=\"937\" y=\"753\"/><use href=\"#wtg\" x=\"1111\" y=\"765\"/><use href=\"#wtg\" x=\"1003\" y=\"675\"/><use href=\"#wtg\" x=\"1176\" y=\"687\"/><use href=\"#wtg\" x=\"1069\" y=\"596\"/><use href=\"#wtg\" x=\"961\" y=\"505\"/><use href=\"#wtg\" x=\"853\" y=\"415\"/></g><g fill=\"#c49c94\"><use href=\"#wtg\" x=\"463\" y=\"222\"/><use href=\"#wtg\" x=\"469\" y=\"79\"/><use href=\"#wtg\" x=\"538\" y=\"79\"/><use href=\"#wtg\" x=\"608\" y=\"80\"/><use href=\"#wtg\" x=\"677\" y=\"80\"/><use href=\"#wtg\" x=\"747\" y=\"81\"/><use href=\"#wtg\" x=\"571\" y=\"313\"/></g><g fill=\"#2ca02c\"><use href=\"#wtg\" x=\"1308\" y=\"529\"/><use href=\"#wtg\" x=\"1374\" y=\"451\"/><use href=\"#wtg\" x=\"1440\" y=\"373\"/><use href=\"#wtg\" x=\"1506\" y=\"294\"/><use href=\"#wtg\" x=\"1572\" y=\"216\"/><use href=\"#wtg\" x=\"1445\" y=\"633\"/></g><g fill=\"#98df8a\"><use href=\"#wtg\" x=\"1266\" y=\"361\"/><use href=\"#wtg\" x=\"1158\" y=\"270\"/><use href=\"#wtg\" x=\"1332\" y=\"282\"/><use href=\"#wtg\" x=\"1224\" y=\"192\"/><use href=\"#wtg\" x=\"1398\" y=\"204\"/></g><g fill=\"#d62728\"><use href=\"#wtg\" x=\"816\" y=\"81\"/><use href=\"#wtg\" x=\"885\" y=\"82\"/><use href=\"#wtg\" x=\"954\" y=\"82\"/><use href=\"#wtg\" x=\"1024\" y=\"83\"/><use href=\"#wtg\" x=\"1093\" y=\"84\"/><use href=\"#wtg\" x=\"1163\" y=\"84\"/><use href=\"#wtg\" x=\"1232\" y=\"85\"/><use href=\"#wtg\" x=\"1301\" y=\"85\"/></g><g fill=\"#ff9896\"><use href=\"#wtg\" x=\"1371\" y=\"85\"/><use href=\"#wtg\" x=\"1440\" y=\"86\"/><use href=\"#wtg\" x=\"1510\" y=\"87\"/><use href=\"#wtg\" x=\"1579\" y=\"87\"/><use href=\"#wtg\" x=\"1648\" y=\"87\"/><use href=\"#wtg\" x=\"1717\" y=\"88\"/><use href=\"#wtg\" x=\"1774\" y=\"128\"/><use href=\"#wtg\" x=\"1831\" y=\"167\"/></g><g fill=\"#9467bd\"><use href=\"#wtg\" x=\"1836\" y=\"239\"/><use href=\"#wtg\" x=\"1787\" y=\"288\"/><use href=\"#wtg\" x=\"1738\" y=\"337\"/><use href=\"#wtg\" x=\"1689\" y=\"386\"/><use href=\"#wtg\" x=\"1640\" y=\"436\"/><use href=\"#wtg\" x=\"1591\" y=\"484\"/><use href=\"#wtg\" x=\"1542\" y=\"534\"/><use href=\"#wtg\" x=\"1493\" y=\"583\"/></g><g fill=\"#c5b0d5\"><use href=\"#wtg\" x=\"1298\" y=\"779\"/><use href=\"#wtg\" x=\"1249\" y=\"829\"/><use href=\"#wtg\" x=\"1200\" y=\"878\"/><use href=\"#wtg\" x=\"1035\" y=\"957\"/><use href=\"#wtg\" x=\"972\" y=\"930\"/><use href=\"#wtg\" x=\"1102\" y=\"976\"/><use href=\"#wtg\" x=\"908\" y=\"903\"/><use href=\"#wtg\" x=\"1151\" y=\"927\"/></g><g fill=\"#8c564b\"><use href=\"#wtg\" x=\"526\" y=\"737\"/><use href=\"#wtg\" x=\"462\" y=\"710\"/><use href=\"#wtg\" x=\"374\" y=\"548\"/><use href=\"#wtg\" x=\"440\" y=\"469\"/><use href=\"#wtg\" x=\"505\" y=\"391\"/><use href=\"#wtg\" x=\"399\" y=\"681\"/><use href=\"#wtg\" x=\"335\" y=\"654\"/><use href=\"#wtg\" x=\"272\" y=\"626\"/></g><g fill=\"#e377c2\"><use href=\"#wtg\" x=\"45\" y=\"417\"/><use href=\"#wtg\" x=\"47\" y=\"346\"/><use href=\"#wtg\" x=\"48\" y=\"278\"/><use href=\"#wtg\" x=\"50\" y=\"208\"/><use href=\"#wtg\" x=\"208\" y=\"599\"/><use href=\"#wtg\" x=\"145\" y=\"572\"/><use href=\"#wtg\" x=\"81\" y=\"544\"/><use href=\"#wtg\" x=\"43\" y=\"486\"/></g></g><g id=\"OSSgrp\"><use href=\"#oss\" x=\"733.5\" y=\"312.5\"/></g></g><text filter=\"url(#bg_textbox)\" text-anchor=\"end\" font-family=\"sans-serif\" font-size=\"40\" fill=\"white\" x=\"1890\" y=\"998\"><tspan x=\"1890\" dy=\"-0.0em\">&#931;&#955; = 264936.0 m</tspan><tspan x=\"1890\" dy=\"-1.3em\">(+1) SS1: 13</tspan><tspan x=\"1890\" dy=\"-1.3em\">&#954; = 8, T = 95</tspan></text></svg>"
      ],
      "text/plain": [
       "<optiwindnet.api.WindFarmNetwork at 0x2504e9ff500>"
      ]
     },
     "execution_count": 14,
     "metadata": {},
     "output_type": "execute_result"
    }
   ],
   "source": [
    "wfn"
   ]
  },
  {
   "cell_type": "markdown",
   "id": "95ce79c5",
   "metadata": {},
   "source": [
    "> **Note:** When calling `.optimize()` multiple times on the **same** `WindFarmNetwork` instance, the previously stored solution and related information (e.g., network graph, cost, length) will be **overwritten**.\n",
    "> You can verify this by checking the updated total length or by re-plotting the optimized network and comparing it to the earlier result."
   ]
  },
  {
   "cell_type": "markdown",
   "id": "0d00cd7e",
   "metadata": {},
   "source": [
    "#### HGSRouter (fast - radial only solutions)"
   ]
  },
  {
   "cell_type": "code",
   "execution_count": 15,
   "id": "181abc1b",
   "metadata": {},
   "outputs": [],
   "source": [
    "res_hgs = wfn.optimize(router=hgs_router)"
   ]
  },
  {
   "cell_type": "code",
   "execution_count": 16,
   "id": "92dfde90",
   "metadata": {},
   "outputs": [
    {
     "data": {
      "text/plain": [
       "<optiwindnet.api.HGSRouter at 0x2504eac3500>"
      ]
     },
     "execution_count": 16,
     "metadata": {},
     "output_type": "execute_result"
    }
   ],
   "source": [
    "wfn.router"
   ]
  },
  {
   "cell_type": "code",
   "execution_count": 17,
   "id": "ecc63aca",
   "metadata": {},
   "outputs": [
    {
     "data": {
      "text/plain": [
       "248087.41457130547"
      ]
     },
     "execution_count": 17,
     "metadata": {},
     "output_type": "execute_result"
    }
   ],
   "source": [
    "wfn.length()"
   ]
  },
  {
   "cell_type": "markdown",
   "id": "ce5e9095",
   "metadata": {},
   "source": [
    "> Note that with `HGSRouter`,  the optimized network has a *radial topology*, forming a single connected tree without any subtree (`HGSRouter`produces *radial-topology* networks)."
   ]
  },
  {
   "cell_type": "code",
   "execution_count": 18,
   "id": "02a617ed",
   "metadata": {},
   "outputs": [
    {
     "data": {
      "image/svg+xml": [
       "<svg xmlns=\"http://www.w3.org/2000/svg\" viewBox=\"0 0 1920 1028\"><defs><circle stroke=\"orange\" stroke-opacity=\"0.3\" stroke-width=\"4\" id=\"dt\" r=\"23\" fill=\"none\"/><circle stroke=\"none\" stroke-width=\"2\" id=\"wtg\" r=\"12\"/><rect stroke=\"#111\" stroke-width=\"2\" id=\"oss\" width=\"21\" height=\"21\" fill=\"lawngreen\"/><filter x=\"-5%\" y=\"-5%\" id=\"bg_textbox\" width=\"110%\" height=\"110%\"><feFlood flood-opacity=\"0.6\" flood-color=\"black\" result=\"bg\"/><feMerge><feMergeNode in=\"bg\"/><feMergeNode in=\"SourceGraphic\"/></feMerge></filter></defs><g id=\"doggerA\"><path stroke=\"silver\" stroke-dasharray=\"15 7\" stroke-width=\"2\" id=\"border\" d=\"M1098 998 30 535 42 30 1727 39 1890 202z\" fill-rule=\"evenodd\" fill=\"#111\"/><g stroke=\"crimson\" stroke-width=\"4\" id=\"edges_unspecified\"><line x1=\"440\" y1=\"469\" x2=\"505\" y2=\"391\"/><line x1=\"744\" y1=\"323\" x2=\"505\" y2=\"391\"/><line x1=\"374\" y1=\"548\" x2=\"440\" y2=\"469\"/><line x1=\"374\" y1=\"548\" x2=\"208\" y2=\"599\"/><line x1=\"208\" y1=\"599\" x2=\"145\" y2=\"572\"/><line x1=\"145\" y1=\"572\" x2=\"81\" y2=\"544\"/><line x1=\"81\" y1=\"544\" x2=\"43\" y2=\"486\"/><line x1=\"45\" y1=\"417\" x2=\"43\" y2=\"486\"/><line x1=\"744\" y1=\"323\" x2=\"787\" y2=\"494\"/><line x1=\"744\" y1=\"323\" x2=\"677\" y2=\"80\"/><line x1=\"744\" y1=\"323\" x2=\"853\" y2=\"415\"/><line x1=\"744\" y1=\"323\" x2=\"571\" y2=\"313\"/><line x1=\"744\" y1=\"323\" x2=\"679\" y2=\"403\"/><line x1=\"744\" y1=\"323\" x2=\"1158\" y2=\"270\"/><line x1=\"744\" y1=\"323\" x2=\"1266\" y2=\"361\"/><line x1=\"744\" y1=\"323\" x2=\"721\" y2=\"572\"/><line x1=\"744\" y1=\"323\" x2=\"1332\" y2=\"282\"/><line x1=\"744\" y1=\"323\" x2=\"961\" y2=\"505\"/><line x1=\"613\" y1=\"481\" x2=\"679\" y2=\"403\"/><line x1=\"547\" y1=\"560\" x2=\"613\" y2=\"481\"/><line x1=\"547\" y1=\"560\" x2=\"526\" y2=\"737\"/><line x1=\"526\" y1=\"737\" x2=\"462\" y2=\"710\"/><line x1=\"462\" y1=\"710\" x2=\"399\" y2=\"681\"/><line x1=\"399\" y1=\"681\" x2=\"335\" y2=\"654\"/><line x1=\"335\" y1=\"654\" x2=\"272\" y2=\"626\"/><line x1=\"655\" y1=\"651\" x2=\"721\" y2=\"572\"/><line x1=\"655\" y1=\"651\" x2=\"590\" y2=\"765\"/><line x1=\"654\" y1=\"792\" x2=\"590\" y2=\"765\"/><line x1=\"717\" y1=\"820\" x2=\"654\" y2=\"792\"/><line x1=\"781\" y1=\"847\" x2=\"717\" y2=\"820\"/><line x1=\"844\" y1=\"875\" x2=\"781\" y2=\"847\"/><line x1=\"844\" y1=\"875\" x2=\"908\" y2=\"903\"/><line x1=\"829\" y1=\"663\" x2=\"787\" y2=\"494\"/><line x1=\"937\" y1=\"753\" x2=\"829\" y2=\"663\"/><line x1=\"1045\" y1=\"844\" x2=\"937\" y2=\"753\"/><line x1=\"1045\" y1=\"844\" x2=\"972\" y2=\"930\"/><line x1=\"1035\" y1=\"957\" x2=\"972\" y2=\"930\"/><line x1=\"1035\" y1=\"957\" x2=\"1102\" y2=\"976\"/><line x1=\"1102\" y1=\"976\" x2=\"1151\" y2=\"927\"/><line x1=\"895\" y1=\"584\" x2=\"853\" y2=\"415\"/><line x1=\"1003\" y1=\"675\" x2=\"895\" y2=\"584\"/><line x1=\"1111\" y1=\"765\" x2=\"1003\" y2=\"675\"/><line x1=\"1111\" y1=\"765\" x2=\"1200\" y2=\"878\"/><line x1=\"1249\" y1=\"829\" x2=\"1200\" y2=\"878\"/><line x1=\"1298\" y1=\"779\" x2=\"1249\" y2=\"829\"/><line x1=\"1069\" y1=\"596\" x2=\"961\" y2=\"505\"/><line x1=\"1176\" y1=\"687\" x2=\"1069\" y2=\"596\"/><line x1=\"1176\" y1=\"687\" x2=\"1308\" y2=\"529\"/><line x1=\"1308\" y1=\"529\" x2=\"1445\" y2=\"633\"/><line x1=\"1493\" y1=\"583\" x2=\"1445\" y2=\"633\"/><line x1=\"1542\" y1=\"534\" x2=\"1493\" y2=\"583\"/><line x1=\"1591\" y1=\"484\" x2=\"1542\" y2=\"534\"/><line x1=\"1374\" y1=\"451\" x2=\"1266\" y2=\"361\"/><line x1=\"1374\" y1=\"451\" x2=\"1440\" y2=\"373\"/><line x1=\"1440\" y1=\"373\" x2=\"1640\" y2=\"436\"/><line x1=\"1689\" y1=\"386\" x2=\"1640\" y2=\"436\"/><line x1=\"1738\" y1=\"337\" x2=\"1689\" y2=\"386\"/><line x1=\"1787\" y1=\"288\" x2=\"1738\" y2=\"337\"/><line x1=\"1836\" y1=\"239\" x2=\"1787\" y2=\"288\"/><line x1=\"1332\" y1=\"282\" x2=\"1398\" y2=\"204\"/><line x1=\"1506\" y1=\"294\" x2=\"1398\" y2=\"204\"/><line x1=\"1506\" y1=\"294\" x2=\"1572\" y2=\"216\"/><line x1=\"1572\" y1=\"216\" x2=\"1648\" y2=\"87\"/><line x1=\"1648\" y1=\"87\" x2=\"1717\" y2=\"88\"/><line x1=\"1717\" y1=\"88\" x2=\"1774\" y2=\"128\"/><line x1=\"1774\" y1=\"128\" x2=\"1831\" y2=\"167\"/><line x1=\"1158\" y1=\"270\" x2=\"1224\" y2=\"192\"/><line x1=\"1224\" y1=\"192\" x2=\"1232\" y2=\"85\"/><line x1=\"1232\" y1=\"85\" x2=\"1301\" y2=\"85\"/><line x1=\"1301\" y1=\"85\" x2=\"1371\" y2=\"85\"/><line x1=\"1371\" y1=\"85\" x2=\"1440\" y2=\"86\"/><line x1=\"1440\" y1=\"86\" x2=\"1510\" y2=\"87\"/><line x1=\"1510\" y1=\"87\" x2=\"1579\" y2=\"87\"/><line x1=\"677\" y1=\"80\" x2=\"747\" y2=\"81\"/><line x1=\"747\" y1=\"81\" x2=\"816\" y2=\"81\"/><line x1=\"816\" y1=\"81\" x2=\"885\" y2=\"82\"/><line x1=\"885\" y1=\"82\" x2=\"954\" y2=\"82\"/><line x1=\"954\" y1=\"82\" x2=\"1024\" y2=\"83\"/><line x1=\"1024\" y1=\"83\" x2=\"1093\" y2=\"84\"/><line x1=\"1093\" y1=\"84\" x2=\"1163\" y2=\"84\"/><line x1=\"608\" y1=\"80\" x2=\"571\" y2=\"313\"/><line x1=\"538\" y1=\"79\" x2=\"608\" y2=\"80\"/><line x1=\"469\" y1=\"79\" x2=\"538\" y2=\"79\"/><line x1=\"463\" y1=\"222\" x2=\"469\" y2=\"79\"/><line x1=\"397\" y1=\"301\" x2=\"463\" y2=\"222\"/><line x1=\"397\" y1=\"301\" x2=\"331\" y2=\"379\"/><line x1=\"266\" y1=\"458\" x2=\"331\" y2=\"379\"/><line x1=\"224\" y1=\"288\" x2=\"290\" y2=\"210\"/><line x1=\"158\" y1=\"367\" x2=\"224\" y2=\"288\"/><line x1=\"158\" y1=\"367\" x2=\"47\" y2=\"346\"/><line x1=\"47\" y1=\"346\" x2=\"48\" y2=\"278\"/><line x1=\"48\" y1=\"278\" x2=\"50\" y2=\"208\"/><line x1=\"50\" y1=\"208\" x2=\"53\" y2=\"78\"/><line x1=\"53\" y1=\"78\" x2=\"122\" y2=\"80\"/></g><g stroke=\"darkorange\" stroke-dasharray=\"18 15\" stroke-width=\"4\" id=\"detours\" fill=\"none\"><polyline points=\"744 323 266 458 158 367\"/></g><g id=\"DTgrp\"><use href=\"#dt\" x=\"266\" y=\"458\"/></g><g id=\"WTGgrp\"><g fill=\"#1f77b4\"><use href=\"#wtg\" x=\"505\" y=\"391\"/><use href=\"#wtg\" x=\"440\" y=\"469\"/><use href=\"#wtg\" x=\"374\" y=\"548\"/><use href=\"#wtg\" x=\"208\" y=\"599\"/><use href=\"#wtg\" x=\"145\" y=\"572\"/><use href=\"#wtg\" x=\"81\" y=\"544\"/><use href=\"#wtg\" x=\"43\" y=\"486\"/><use href=\"#wtg\" x=\"45\" y=\"417\"/></g><g fill=\"#aec7e8\"><use href=\"#wtg\" x=\"679\" y=\"403\"/><use href=\"#wtg\" x=\"613\" y=\"481\"/><use href=\"#wtg\" x=\"547\" y=\"560\"/><use href=\"#wtg\" x=\"526\" y=\"737\"/><use href=\"#wtg\" x=\"462\" y=\"710\"/><use href=\"#wtg\" x=\"399\" y=\"681\"/><use href=\"#wtg\" x=\"335\" y=\"654\"/><use href=\"#wtg\" x=\"272\" y=\"626\"/></g><g fill=\"#ff7f0e\"><use href=\"#wtg\" x=\"721\" y=\"572\"/><use href=\"#wtg\" x=\"655\" y=\"651\"/><use href=\"#wtg\" x=\"590\" y=\"765\"/><use href=\"#wtg\" x=\"654\" y=\"792\"/><use href=\"#wtg\" x=\"717\" y=\"820\"/><use href=\"#wtg\" x=\"781\" y=\"847\"/><use href=\"#wtg\" x=\"844\" y=\"875\"/><use href=\"#wtg\" x=\"908\" y=\"903\"/></g><g fill=\"#ffbb78\"><use href=\"#wtg\" x=\"787\" y=\"494\"/><use href=\"#wtg\" x=\"829\" y=\"663\"/><use href=\"#wtg\" x=\"937\" y=\"753\"/><use href=\"#wtg\" x=\"1045\" y=\"844\"/><use href=\"#wtg\" x=\"972\" y=\"930\"/><use href=\"#wtg\" x=\"1035\" y=\"957\"/><use href=\"#wtg\" x=\"1102\" y=\"976\"/><use href=\"#wtg\" x=\"1151\" y=\"927\"/></g><g fill=\"#2ca02c\"><use href=\"#wtg\" x=\"853\" y=\"415\"/><use href=\"#wtg\" x=\"895\" y=\"584\"/><use href=\"#wtg\" x=\"1003\" y=\"675\"/><use href=\"#wtg\" x=\"1111\" y=\"765\"/><use href=\"#wtg\" x=\"1200\" y=\"878\"/><use href=\"#wtg\" x=\"1249\" y=\"829\"/><use href=\"#wtg\" x=\"1298\" y=\"779\"/></g><g fill=\"#98df8a\"><use href=\"#wtg\" x=\"961\" y=\"505\"/><use href=\"#wtg\" x=\"1069\" y=\"596\"/><use href=\"#wtg\" x=\"1176\" y=\"687\"/><use href=\"#wtg\" x=\"1308\" y=\"529\"/><use href=\"#wtg\" x=\"1445\" y=\"633\"/><use href=\"#wtg\" x=\"1493\" y=\"583\"/><use href=\"#wtg\" x=\"1542\" y=\"534\"/><use href=\"#wtg\" x=\"1591\" y=\"484\"/></g><g fill=\"#d62728\"><use href=\"#wtg\" x=\"1266\" y=\"361\"/><use href=\"#wtg\" x=\"1374\" y=\"451\"/><use href=\"#wtg\" x=\"1440\" y=\"373\"/><use href=\"#wtg\" x=\"1640\" y=\"436\"/><use href=\"#wtg\" x=\"1689\" y=\"386\"/><use href=\"#wtg\" x=\"1738\" y=\"337\"/><use href=\"#wtg\" x=\"1787\" y=\"288\"/><use href=\"#wtg\" x=\"1836\" y=\"239\"/></g><g fill=\"#ff9896\"><use href=\"#wtg\" x=\"1332\" y=\"282\"/><use href=\"#wtg\" x=\"1398\" y=\"204\"/><use href=\"#wtg\" x=\"1506\" y=\"294\"/><use href=\"#wtg\" x=\"1572\" y=\"216\"/><use href=\"#wtg\" x=\"1648\" y=\"87\"/><use href=\"#wtg\" x=\"1717\" y=\"88\"/><use href=\"#wtg\" x=\"1774\" y=\"128\"/><use href=\"#wtg\" x=\"1831\" y=\"167\"/></g><g fill=\"#9467bd\"><use href=\"#wtg\" x=\"1158\" y=\"270\"/><use href=\"#wtg\" x=\"1224\" y=\"192\"/><use href=\"#wtg\" x=\"1232\" y=\"85\"/><use href=\"#wtg\" x=\"1301\" y=\"85\"/><use href=\"#wtg\" x=\"1371\" y=\"85\"/><use href=\"#wtg\" x=\"1440\" y=\"86\"/><use href=\"#wtg\" x=\"1510\" y=\"87\"/><use href=\"#wtg\" x=\"1579\" y=\"87\"/></g><g fill=\"#c5b0d5\"><use href=\"#wtg\" x=\"677\" y=\"80\"/><use href=\"#wtg\" x=\"747\" y=\"81\"/><use href=\"#wtg\" x=\"816\" y=\"81\"/><use href=\"#wtg\" x=\"885\" y=\"82\"/><use href=\"#wtg\" x=\"954\" y=\"82\"/><use href=\"#wtg\" x=\"1024\" y=\"83\"/><use href=\"#wtg\" x=\"1093\" y=\"84\"/><use href=\"#wtg\" x=\"1163\" y=\"84\"/></g><g fill=\"#8c564b\"><use href=\"#wtg\" x=\"571\" y=\"313\"/><use href=\"#wtg\" x=\"608\" y=\"80\"/><use href=\"#wtg\" x=\"538\" y=\"79\"/><use href=\"#wtg\" x=\"469\" y=\"79\"/><use href=\"#wtg\" x=\"463\" y=\"222\"/><use href=\"#wtg\" x=\"397\" y=\"301\"/><use href=\"#wtg\" x=\"331\" y=\"379\"/><use href=\"#wtg\" x=\"266\" y=\"458\"/></g><g fill=\"#c49c94\"><use href=\"#wtg\" x=\"290\" y=\"210\"/><use href=\"#wtg\" x=\"224\" y=\"288\"/><use href=\"#wtg\" x=\"158\" y=\"367\"/><use href=\"#wtg\" x=\"47\" y=\"346\"/><use href=\"#wtg\" x=\"48\" y=\"278\"/><use href=\"#wtg\" x=\"50\" y=\"208\"/><use href=\"#wtg\" x=\"53\" y=\"78\"/><use href=\"#wtg\" x=\"122\" y=\"80\"/></g></g><g id=\"OSSgrp\"><use href=\"#oss\" x=\"733.5\" y=\"312.5\"/></g></g><text filter=\"url(#bg_textbox)\" text-anchor=\"end\" font-family=\"sans-serif\" font-size=\"40\" fill=\"white\" x=\"1890\" y=\"998\"><tspan x=\"1890\" dy=\"-0.0em\">&#931;&#955; = 248087.0 m</tspan><tspan x=\"1890\" dy=\"-1.3em\">(+0) SS1: 12</tspan><tspan x=\"1890\" dy=\"-1.3em\">&#954; = 8, T = 95</tspan></text></svg>"
      ],
      "text/plain": [
       "<optiwindnet.api.WindFarmNetwork at 0x2504e9ff500>"
      ]
     },
     "execution_count": 18,
     "metadata": {},
     "output_type": "execute_result"
    }
   ],
   "source": [
    "wfn"
   ]
  },
  {
   "cell_type": "markdown",
   "id": "fb0f3edb",
   "metadata": {},
   "source": [
    "#### MILPRouter"
   ]
  },
  {
   "cell_type": "markdown",
   "id": "5040c87d",
   "metadata": {},
   "source": [
    "\n",
    "(high-quality solutions with guarantees, may take several minutes)"
   ]
  },
  {
   "cell_type": "markdown",
   "id": "f421ae7d",
   "metadata": {},
   "source": [
    "> Note:\n",
    "> * if a `WindFarmNetwork` already has a solution, `MILPRouter` will use it as a warm start.\n",
    "> * To avoid warm-starting, create a **new** `WindFarmNetwork` and run MILP directly.  \n",
    "> * Set `verbose=True` to see warm-start messages in the logs (The log messages of the MILP router provide information about warm-start).\n"
   ]
  },
  {
   "cell_type": "code",
   "execution_count": 19,
   "id": "64e22c2f-1339-48b6-86a8-635874e8b382",
   "metadata": {
    "scrolled": true
   },
   "outputs": [
    {
     "name": "stdout",
     "output_type": "stream",
     "text": [
      "Using warm start: the model is initialized with the provided solution S.\n",
      "\n",
      "\n",
      "Starting CP-SAT solver v9.14.6206\n",
      "Parameters: max_time_in_seconds: 20 log_search_progress: true relative_gap_limit: 0.005\n",
      "Setting number of workers to 8\n",
      "\n",
      "Initial optimization model '': (model_fingerprint: 0x1143ced3f4b75a14)\n",
      "#Variables: 1'690 (#bools: 845 in floating point objective) (1'500 primary variables)\n",
      "  - 845 Booleans in [0,1]\n",
      "  - 750 in [0,7]\n",
      "  - 95 in [0,8]\n",
      "#kAtMostOne: 635 (#literals: 1'926)\n",
      "#kLinear1: 1'690 (#enforced: 1'690)\n",
      "#kLinear3: 4\n",
      "#kLinearN: 284 (#terms: 4'213)\n",
      "\n",
      "Starting presolve at 0.01s\n",
      "The solution hint is complete and is feasible.\n",
      "[Scaling] Floating point objective has 845 terms with magnitude in [1409.66, 22631.9] average = 4594.28\n",
      "[Scaling] Objective coefficient relative error: 1.60816e-10\n",
      "[Scaling] Objective worst-case absolute error: 5.3597e-05\n",
      "[Scaling] Objective scaling factor: 2.09715e+06\n",
      "  1.11e-03s  0.00e+00d  [DetectDominanceRelations] \n",
      "  2.70e-02s  0.00e+00d  [operations_research::sat::CpModelPresolver::PresolveToFixPoint] #num_loops=2 #num_dual_strengthening=1 \n",
      "  2.18e-04s  0.00e+00d  [operations_research::sat::CpModelPresolver::ExtractEncodingFromLinear] #potential_supersets=730 \n",
      "  7.10e-04s  0.00e+00d  [operations_research::sat::CpModelPresolver::DetectDuplicateColumns] \n",
      "  1.02e-03s  0.00e+00d  [operations_research::sat::CpModelPresolver::DetectDuplicateConstraints] \n",
      "[Symmetry] Graph for symmetry has 6'328 nodes and 11'931 arcs.\n",
      "[Symmetry] Symmetry computation done. time: 0.0036187 dtime: 0.00115685\n",
      "  1.44e-03s  0.00e+00d  [operations_research::sat::CpModelPresolver::DetectDuplicateConstraintsWithDifferentEnforcements] \n",
      "  9.69e-02s  3.73e-03d  [operations_research::sat::CpModelPresolver::Probe] #probed=1'690 \n",
      "  2.57e-03s  3.79e-04d  [MaxClique] Merged 635(1'926 literals) into 330(1'316 literals) at_most_ones. \n",
      "  3.28e-03s  0.00e+00d  [DetectDominanceRelations] \n",
      "  3.18e-02s  0.00e+00d  [operations_research::sat::CpModelPresolver::PresolveToFixPoint] #num_loops=1 #num_dual_strengthening=1 \n",
      "  2.59e-03s  0.00e+00d  [operations_research::sat::CpModelPresolver::ProcessAtMostOneAndLinear] \n",
      "  1.05e-03s  0.00e+00d  [operations_research::sat::CpModelPresolver::DetectDuplicateConstraints] \n",
      "  7.61e-04s  0.00e+00d  [operations_research::sat::CpModelPresolver::DetectDuplicateConstraintsWithDifferentEnforcements] \n",
      "  1.03e-03s  1.43e-05d  [operations_research::sat::CpModelPresolver::DetectDominatedLinearConstraints] #relevant_constraints=193 #num_inclusions=96 \n",
      "  9.30e-05s  0.00e+00d  [operations_research::sat::CpModelPresolver::DetectDifferentVariables] \n",
      "  1.85e-02s  3.72e-04d  [operations_research::sat::CpModelPresolver::ProcessSetPPC] #relevant_constraints=427 #num_inclusions=425 \n",
      "  2.89e-04s  0.00e+00d  [operations_research::sat::CpModelPresolver::FindAlmostIdenticalLinearConstraints] \n",
      "  3.14e-03s  2.83e-04d  [operations_research::sat::CpModelPresolver::FindBigAtMostOneAndLinearOverlap] \n",
      "  3.20e-03s  3.25e-04d  [operations_research::sat::CpModelPresolver::FindBigVerticalLinearOverlap] \n",
      "  6.20e-04s  1.24e-05d  [operations_research::sat::CpModelPresolver::FindBigHorizontalLinearOverlap] #linears=179 \n",
      "  1.79e-04s  0.00e+00d  [operations_research::sat::CpModelPresolver::MergeClauses] \n",
      "  1.39e-03s  0.00e+00d  [DetectDominanceRelations] \n",
      "  1.51e-02s  0.00e+00d  [operations_research::sat::CpModelPresolver::PresolveToFixPoint] #num_loops=1 #num_dual_strengthening=1 \n",
      "  9.51e-04s  0.00e+00d  [DetectDominanceRelations] \n",
      "  1.16e-02s  0.00e+00d  [operations_research::sat::CpModelPresolver::PresolveToFixPoint] #num_loops=1 #num_dual_strengthening=1 \n",
      "  4.00e-04s  0.00e+00d  [operations_research::sat::CpModelPresolver::DetectDuplicateColumns] \n",
      "  1.16e-03s  0.00e+00d  [operations_research::sat::CpModelPresolver::DetectDuplicateConstraints] \n",
      "[Symmetry] Graph for symmetry has 5'717 nodes and 9'866 arcs.\n",
      "[Symmetry] Symmetry computation done. time: 0.0019254 dtime: 0.00104489\n",
      "[SAT presolve] num removable Booleans: 0 / 845\n",
      "[SAT presolve] num trivial clauses: 0\n",
      "[SAT presolve] [0s] clauses:70 literals:140 vars:140 one_side_vars:140 simple_definition:0 singleton_clauses:0\n",
      "[SAT presolve] [0.0002323s] clauses:70 literals:140 vars:140 one_side_vars:140 simple_definition:0 singleton_clauses:0\n",
      "[SAT presolve] [0.0003645s] clauses:70 literals:140 vars:140 one_side_vars:140 simple_definition:0 singleton_clauses:0\n",
      "  6.29e-04s  0.00e+00d  [operations_research::sat::CpModelPresolver::DetectDuplicateConstraintsWithDifferentEnforcements] \n",
      "  2.34e-02s  3.45e-03d  [operations_research::sat::CpModelPresolver::Probe] #probed=1'690 \n",
      "  9.08e-04s  3.69e-04d  [MaxClique] \n",
      "  8.86e-04s  0.00e+00d  [DetectDominanceRelations] \n",
      "  1.10e-02s  0.00e+00d  [operations_research::sat::CpModelPresolver::PresolveToFixPoint] #num_loops=1 #num_dual_strengthening=1 \n",
      "  8.32e-04s  0.00e+00d  [operations_research::sat::CpModelPresolver::ProcessAtMostOneAndLinear] \n",
      "  7.05e-04s  0.00e+00d  [operations_research::sat::CpModelPresolver::DetectDuplicateConstraints] \n",
      "  6.60e-04s  0.00e+00d  [operations_research::sat::CpModelPresolver::DetectDuplicateConstraintsWithDifferentEnforcements] \n",
      "  8.18e-04s  1.07e-05d  [operations_research::sat::CpModelPresolver::DetectDominatedLinearConstraints] #relevant_constraints=192 #num_inclusions=95 \n",
      "  8.40e-05s  0.00e+00d  [operations_research::sat::CpModelPresolver::DetectDifferentVariables] \n",
      "  5.03e-04s  6.76e-06d  [operations_research::sat::CpModelPresolver::ProcessSetPPC] #relevant_constraints=426 \n",
      "  1.18e-04s  0.00e+00d  [operations_research::sat::CpModelPresolver::FindAlmostIdenticalLinearConstraints] \n",
      "  2.00e-03s  2.79e-04d  [operations_research::sat::CpModelPresolver::FindBigAtMostOneAndLinearOverlap] \n",
      "  9.95e-04s  3.25e-04d  [operations_research::sat::CpModelPresolver::FindBigVerticalLinearOverlap] \n",
      "  1.58e-04s  1.24e-05d  [operations_research::sat::CpModelPresolver::FindBigHorizontalLinearOverlap] #linears=179 \n",
      "  8.35e-05s  0.00e+00d  [operations_research::sat::CpModelPresolver::MergeClauses] \n",
      "  7.56e-04s  0.00e+00d  [DetectDominanceRelations] \n",
      "  8.17e-03s  0.00e+00d  [operations_research::sat::CpModelPresolver::PresolveToFixPoint] #num_loops=1 #num_dual_strengthening=1 \n",
      "  1.13e-03s  0.00e+00d  [operations_research::sat::CpModelPresolver::ExpandObjective] #entries=7'754 #tight_variables=845 #tight_constraints=95 \n",
      "\n",
      "Presolve summary:\n",
      "  - 0 affine relations were detected.\n",
      "  - rule 'TODO linear inclusion: superset is equality' was applied 191 times.\n",
      "  - rule 'at_most_one: transformed into max clique.' was applied 1 time.\n",
      "  - rule 'deductions: 1690 stored' was applied 1 time.\n",
      "  - rule 'exactly_one: simplified objective' was applied 95 times.\n",
      "  - rule 'linear: positive equal one' was applied 95 times.\n",
      "  - rule 'objective: shifted cost with exactly ones' was applied 95 times.\n",
      "  - rule 'presolve: 0 unused variables removed.' was applied 1 time.\n",
      "  - rule 'presolve: iteration' was applied 2 times.\n",
      "  - rule 'setppc: exactly_one included in linear' was applied 95 times.\n",
      "  - rule 'setppc: reduced linear coefficients' was applied 94 times.\n",
      "  - rule 'setppc: removed trivial linear constraint' was applied 1 time.\n",
      "  - rule 'variables: detect fully reified value encoding' was applied 845 times.\n",
      "  - rule 'variables: detect half reified value encoding' was applied 1'690 times.\n",
      "\n",
      "Presolved optimization model '': (model_fingerprint: 0xaafd2a7a20599894)\n",
      "#Variables: 1'690 (#bools: 750 in objective) (1'500 primary variables)\n",
      "  - 845 Booleans in [0,1]\n",
      "  - 750 in [0,7]\n",
      "  - 95 in [0,8]\n",
      "#kAtMostOne: 260 (#literals: 1'176)\n",
      "#kBoolAnd: 70 (#enforced: 70) (#literals: 140)\n",
      "#kExactlyOne: 95 (#literals: 845)\n",
      "#kLinear1: 1'690 (#enforced: 1'690)\n",
      "#kLinear3: 4\n",
      "#kLinearN: 188 (#terms: 2'523)\n",
      "[Symmetry] Graph for symmetry has 5'717 nodes and 9'866 arcs.\n",
      "[Symmetry] Symmetry computation done. time: 0.0010454 dtime: 0.00104362\n",
      "\n",
      "Preloading model.\n",
      "#Bound   0.33s best:inf   next:[160817.074,2309766.32] initial_domain\n",
      "#1       0.34s best:244584.558 next:[160817.074,244584.558] complete_hint\n",
      "#Model   0.34s var:1690/1690 constraints:2307/2307\n",
      "\n",
      "Starting search at 0.35s with 8 workers.\n",
      "6 full problem subsolvers: [core, default_lp, max_lp, no_lp, quick_restart, reduced_costs]\n",
      "2 first solution subsolvers: [fj, fs_random_no_lp]\n",
      "9 interleaved subsolvers: [feasibility_pump, graph_arc_lns, graph_cst_lns, graph_dec_lns, graph_var_lns, ls, rins/rens, rnd_cst_lns, rnd_var_lns]\n",
      "3 helper subsolvers: [neighborhood_helper, synchronization_agent, update_gap_integral]\n",
      "\n",
      "#Bound   0.42s best:244584.558 next:[162472.38,244584.558] am1_presolve (num_literals=750 num_am1=34 increase=3471428032 work_done=2720)\n",
      "#Bound   0.47s best:244584.558 next:[188354.862,244584.558] default_lp\n",
      "#Bound   0.50s best:244584.558 next:[189781.728,244584.558] reduced_costs\n",
      "#Bound   0.56s best:244584.558 next:[189787.863,244584.558] reduced_costs\n",
      "#Bound   0.58s best:244584.558 next:[223973.897,244584.558] max_lp\n",
      "#Bound   0.89s best:244584.558 next:[225385.939,244584.558] max_lp\n",
      "#2       1.04s best:243865.397 next:[225385.939,243865.397] rnd_var_lns (d=7.07e-01 s=14 t=0.10 p=1.00 stall=1 h=base)\n",
      "#Bound   1.33s best:243865.397 next:[226110.959,243865.397] max_lp\n",
      "#Bound   1.76s best:243865.397 next:[226518.351,243865.397] max_lp\n",
      "#3       1.80s best:243740.005 next:[226518.351,243740.005] rins_lp_lns (d=5.00e-01 s=15 t=0.10 p=0.00 stall=0 h=base)\n",
      "#Bound   2.29s best:243740.005 next:[226990.815,243740.005] max_lp\n",
      "#4       2.38s best:242944.353 next:[226990.815,242944.353] graph_var_lns (d=7.07e-01 s=17 t=0.10 p=1.00 stall=1 h=base)\n",
      "#5       2.39s best:242818.961 next:[226990.815,242818.961] graph_var_lns (d=7.07e-01 s=17 t=0.10 p=1.00 stall=1 h=base) [combined with: rins_lp_lns (d=5.00e...]\n",
      "#6       2.70s best:242666.678 next:[226990.815,242666.678] graph_cst_lns (d=7.07e-01 s=18 t=0.10 p=1.00 stall=1 h=base)\n",
      "#Bound   2.94s best:242666.678 next:[227472.946,242666.678] max_lp\n",
      "#7       4.20s best:242291.463 next:[227472.946,242291.463] graph_dec_lns (d=8.14e-01 s=27 t=0.10 p=1.00 stall=2 h=base)\n",
      "#Bound   4.80s best:242291.463 next:[227789.346,242291.463] max_lp\n",
      "#Bound   8.86s best:242291.463 next:[228054.733,242291.463] max_lp\n",
      "#Bound  10.07s best:242291.463 next:[228231.89,242291.463] max_lp\n",
      "#Bound  12.72s best:242291.463 next:[228432.604,242291.463] max_lp\n",
      "#Bound  15.80s best:242291.463 next:[228499.783,242291.463] max_lp\n",
      "#Bound  18.59s best:242291.463 next:[228585.717,242291.463] max_lp\n",
      "\n",
      "Task timing                   n [     min,      max]      avg      dev     time         n [     min,      max]      avg      dev    dtime\n",
      "              'core':         1 [  19.64s,   19.64s]   19.64s   0.00ns   19.64s         1 [   3.89s,    3.89s]    3.89s   0.00ns    3.89s\n",
      "        'default_lp':         1 [  19.67s,   19.67s]   19.67s   0.00ns   19.67s         1 [   2.37s,    2.37s]    2.37s   0.00ns    2.37s\n",
      "  'feasibility_pump':         5 [ 28.82ms,    1.87s]    1.01s 624.66ms    5.03s         4 [203.47ms, 278.51ms] 242.92ms  31.59ms 971.69ms\n",
      "                'fj':         0 [  0.00ns,   0.00ns]   0.00ns   0.00ns   0.00ns         0 [  0.00ns,   0.00ns]   0.00ns   0.00ns   0.00ns\n",
      "   'fs_random_no_lp':         0 [  0.00ns,   0.00ns]   0.00ns   0.00ns   0.00ns         0 [  0.00ns,   0.00ns]   0.00ns   0.00ns   0.00ns\n",
      "     'graph_arc_lns':         7 [ 32.35ms,    1.17s] 627.34ms 422.93ms    4.39s         7 [ 41.07us, 100.16ms]  65.62ms  43.15ms 459.37ms\n",
      "     'graph_cst_lns':         6 [ 40.66ms,    1.60s] 638.56ms 564.17ms    3.83s         6 [545.00ns, 100.04ms]  54.84ms  46.19ms 329.02ms\n",
      "     'graph_dec_lns':        10 [  4.18ms,    1.32s] 405.76ms 444.48ms    4.06s         7 [ 10.00ns, 100.03ms]  53.66ms  45.47ms 375.59ms\n",
      "     'graph_var_lns':         8 [ 22.85ms,    1.14s] 500.48ms 360.24ms    4.00s         8 [ 48.00ns, 100.11ms]  61.23ms  42.02ms 489.83ms\n",
      "                'ls':        10 [315.15ms, 617.23ms] 400.38ms  88.77ms    4.00s        10 [100.01ms, 100.02ms] 100.01ms   2.88us    1.00s\n",
      "            'max_lp':         1 [  19.67s,   19.67s]   19.67s   0.00ns   19.67s         1 [994.60ms, 994.60ms] 994.60ms   0.00ns 994.60ms\n",
      "             'no_lp':         1 [  19.67s,   19.67s]   19.67s   0.00ns   19.67s         1 [   4.26s,    4.26s]    4.26s   0.00ns    4.26s\n",
      "     'quick_restart':         1 [  19.67s,   19.67s]   19.67s   0.00ns   19.67s         1 [   2.38s,    2.38s]    2.38s   0.00ns    2.38s\n",
      "     'reduced_costs':         1 [  19.66s,   19.66s]   19.66s   0.00ns   19.66s         1 [   1.82s,    1.82s]    1.82s   0.00ns    1.82s\n",
      "         'rins/rens':         7 [ 50.03ms,    1.31s] 641.34ms 417.33ms    4.49s         7 [565.52us, 100.35ms]  70.82ms  44.22ms 495.76ms\n",
      "       'rnd_cst_lns':         9 [ 65.34ms,    1.16s] 550.32ms 344.82ms    4.95s         9 [ 63.74us, 100.52ms]  55.92ms  40.73ms 503.31ms\n",
      "       'rnd_var_lns':         9 [ 29.73ms,    1.18s] 488.67ms 417.38ms    4.40s         9 [ 10.00ns, 100.01ms]  46.89ms  43.89ms 422.04ms\n",
      "\n",
      "Search stats          Bools  Conflicts  Branches  Restarts  BoolPropag  IntegerPropag\n",
      "             'core':    879    100'184   222'411     3'631   1'563'992      4'358'308\n",
      "       'default_lp':    886        201     9'739     5'140      48'965        202'584\n",
      "  'fs_random_no_lp':      0          0         0         0           0              0\n",
      "           'max_lp':    845         12     2'117     1'691      12'393         44'461\n",
      "            'no_lp':    845     54'967    94'098    12'590   3'755'749     11'717'817\n",
      "    'quick_restart':    884         64    19'667    10'250      82'835        349'205\n",
      "    'reduced_costs':    846        255    14'816     6'915      58'107        276'717\n",
      "\n",
      "SAT stats             ClassicMinim  LitRemoved  LitLearned  LitForgotten  Subsumed  MClauses  MDecisions  MLitTrue  MSubsumed  MLitRemoved  MReused\n",
      "             'core':        95'190   1'143'886   7'880'337     7'206'317       811       297       1'809         0          8           48        1\n",
      "       'default_lp':           175       7'162      17'290             0         2       380       3'000         0          0            0        0\n",
      "  'fs_random_no_lp':             0           0           0             0         0         0           0         0          0            0        0\n",
      "           'max_lp':            12         600       1'876             0         0         0           0         0          0            0        0\n",
      "            'no_lp':        53'775     548'981   4'642'610     3'464'736       227     1'788      13'217         0         11          152      613\n",
      "    'quick_restart':            48       2'272       7'473             0         2       950       7'500         0          0            0        0\n",
      "    'reduced_costs':           215       9'170      39'262             0         0       570       4'500         0          0            0        0\n",
      "\n",
      "Lp stats            Component  Iterations  AddedCuts  OPTIMAL  DUAL_F.  DUAL_U.\n",
      "     'default_lp':          1      31'645      3'218    1'443        2       27\n",
      "         'max_lp':          1       7'796      2'569      234        4        3\n",
      "  'quick_restart':          1      24'357      3'666      963        2        2\n",
      "  'reduced_costs':          1      26'067      3'139      910      107       61\n",
      "\n",
      "Lp dimension            Final dimension of first component\n",
      "     'default_lp':   1094 rows, 1596 columns, 7200 entries\n",
      "         'max_lp':  3972 rows, 1690 columns, 41307 entries\n",
      "  'quick_restart':  1622 rows, 1596 columns, 16568 entries\n",
      "  'reduced_costs':  1392 rows, 1690 columns, 13170 entries\n",
      "\n",
      "Lp debug            CutPropag  CutEqPropag  Adjust  Overflow     Bad  BadScaling\n",
      "     'default_lp':          0            1   1'454         0   6'820           0\n",
      "         'max_lp':          0            0     241         0  35'383           0\n",
      "  'quick_restart':          0            5     960         0  14'466           0\n",
      "  'reduced_costs':          0            0   1'043         0  12'250           0\n",
      "\n",
      "Lp pool             Constraints  Updates  Simplif  Merged  Shortened  Split  Strenghtened    Cuts/Call\n",
      "     'default_lp':        6'018       30        0       0          0     10           114  3'218/6'731\n",
      "         'max_lp':        5'721      303        0       0          0    431            28  2'569/4'851\n",
      "  'quick_restart':        6'466      100        0       0          0     41           102  3'666/7'488\n",
      "  'reduced_costs':        6'291       88        0       0          0     39           105  3'139/5'850\n",
      "\n",
      "Lp Cut            default_lp  max_lp  quick_restart  reduced_costs\n",
      "          CG_FF:          26       9             22             17\n",
      "           CG_K:          10       6              6              4\n",
      "          CG_KL:           1       -              1              1\n",
      "           CG_R:          66      33             44             38\n",
      "          CG_RB:          86      67            104             82\n",
      "         CG_RBP:          54      20             53             19\n",
      "             IB:       1'042       -            904            900\n",
      "       MIR_1_FF:         152     104            191            109\n",
      "        MIR_1_K:          52       2             71             12\n",
      "       MIR_1_KL:          28       1             31              6\n",
      "        MIR_1_R:           -       -              2              -\n",
      "       MIR_1_RB:          88      49            114             64\n",
      "      MIR_1_RBP:          71      10             83             23\n",
      "       MIR_2_FF:         150     157            191            138\n",
      "        MIR_2_K:          62       9             76             20\n",
      "       MIR_2_KL:          18       1             32             10\n",
      "        MIR_2_R:           4       8             13              7\n",
      "       MIR_2_RB:         122     166            133            153\n",
      "      MIR_2_RBP:          67      37            103             42\n",
      "       MIR_3_FF:         111     188            130            154\n",
      "        MIR_3_K:          66      24             87             49\n",
      "       MIR_3_KL:          12       -             10             10\n",
      "        MIR_3_R:           9      11              7             16\n",
      "       MIR_3_RB:          97     177            107            167\n",
      "      MIR_3_RBP:          63      51             81             52\n",
      "       MIR_4_FF:          67     147             77            112\n",
      "        MIR_4_K:          30      41             54             30\n",
      "       MIR_4_KL:           2       -              5              3\n",
      "        MIR_4_R:           3      10              6              8\n",
      "       MIR_4_RB:          72     138             69            126\n",
      "      MIR_4_RBP:          24      58             47             40\n",
      "       MIR_5_FF:          36     114             42             58\n",
      "        MIR_5_K:          29      29             41             24\n",
      "       MIR_5_KL:           1       4              1              2\n",
      "        MIR_5_R:           1      12              4              5\n",
      "       MIR_5_RB:          41      94             32             73\n",
      "      MIR_5_RBP:          22      33             30             23\n",
      "       MIR_6_FF:          24      70             22             36\n",
      "        MIR_6_K:          17      24             24             20\n",
      "       MIR_6_KL:           3      14              3             15\n",
      "        MIR_6_R:           -       9              1              5\n",
      "       MIR_6_RB:          15      54             14             45\n",
      "      MIR_6_RBP:          13      30             24             29\n",
      "   ZERO_HALF_FF:          31       8             48             35\n",
      "    ZERO_HALF_K:           9       2             16              7\n",
      "   ZERO_HALF_KL:           -       -              1              1\n",
      "    ZERO_HALF_R:         257     443            406            283\n",
      "   ZERO_HALF_RB:          38      95             74             51\n",
      "  ZERO_HALF_RBP:          26      10             29             15\n",
      "\n",
      "LNS stats           Improv/Calls  Closed  Difficulty  TimeLimit\n",
      "  'graph_arc_lns':           0/7     43%    3.48e-01       0.10\n",
      "  'graph_cst_lns':           1/6     50%    5.87e-01       0.10\n",
      "  'graph_dec_lns':           1/7     57%    7.63e-01       0.10\n",
      "  'graph_var_lns':           1/8     50%    6.07e-01       0.10\n",
      "      'rins/rens':           6/7     43%    3.75e-01       0.10\n",
      "    'rnd_cst_lns':           0/9     56%    7.37e-01       0.10\n",
      "    'rnd_var_lns':           1/9     56%    7.55e-01       0.10\n",
      "\n",
      "LS stats                          Batches  Restarts/Perturbs  LinMoves  GenMoves  CompoundMoves  Bactracks  WeightUpdates  ScoreComputed\n",
      "                   'ls_restart':        2                  2    25'532         0              0          0          4'401        931'710\n",
      "          'ls_restart_compound':        2                  2         0    28'249          2'621     12'813            182        812'729\n",
      "  'ls_restart_compound_perturb':        1                  1         0    17'739          1'229      8'249            165        483'723\n",
      "             'ls_restart_decay':        3                  3    45'965         0              0          0            767      1'046'265\n",
      "    'ls_restart_decay_compound':        1                  1         0    13'265          2'465      5'398             39        360'414\n",
      "     'ls_restart_decay_perturb':        1                  1    15'327         0              0          0            261        348'322\n",
      "\n",
      "Solutions (7)       Num   Rank\n",
      "  'complete_hint':    1  [1,1]\n",
      "  'graph_cst_lns':    1  [6,6]\n",
      "  'graph_dec_lns':    1  [7,7]\n",
      "  'graph_var_lns':    2  [4,5]\n",
      "    'rins_lp_lns':    1  [3,3]\n",
      "    'rnd_var_lns':    1  [2,2]\n",
      "\n",
      "Objective bounds     Num\n",
      "    'am1_presolve':    1\n",
      "      'default_lp':    1\n",
      "  'initial_domain':    1\n",
      "          'max_lp':   12\n",
      "   'reduced_costs':    2\n",
      "\n",
      "Solution repositories    Added  Queried  Synchro\n",
      "  'feasible solutions':     10      129       10\n",
      "   'fj solution hints':      0        0        0\n",
      "        'lp solutions':     37        4       35\n",
      "                'pump':     66        3\n",
      "\n",
      "[Scaling] scaled_objective_bound: 228586 corrected_bound: 228586 delta: -1.01834e-06\n",
      "CpSolverResponse summary:\n",
      "status: FEASIBLE\n",
      "objective: 242291.4629585487\n",
      "best_bound: 228585.7166972807\n",
      "integers: 0\n",
      "booleans: 0\n",
      "conflicts: 0\n",
      "branches: 0\n",
      "propagations: 0\n",
      "integer_propagations: 0\n",
      "restarts: 0\n",
      "lp_iterations: 0\n",
      "walltime: 20.1035\n",
      "usertime: 20.1035\n",
      "deterministic_time: 20.7684\n",
      "gap_integral: 198.033\n",
      "solution_fingerprint: 0x1f2e2497516a497d\n",
      "\n"
     ]
    }
   ],
   "source": [
    "res_milp = wfn.optimize(router=milp_router)"
   ]
  },
  {
   "cell_type": "code",
   "execution_count": 20,
   "id": "c4d1f9b9",
   "metadata": {},
   "outputs": [
    {
     "data": {
      "text/plain": [
       "<optiwindnet.api.MILPRouter at 0x2504ebc5e50>"
      ]
     },
     "execution_count": 20,
     "metadata": {},
     "output_type": "execute_result"
    }
   ],
   "source": [
    "wfn.router"
   ]
  },
  {
   "cell_type": "code",
   "execution_count": 21,
   "id": "acd659f9",
   "metadata": {},
   "outputs": [
    {
     "data": {
      "text/plain": [
       "242818.96092155538"
      ]
     },
     "execution_count": 21,
     "metadata": {},
     "output_type": "execute_result"
    }
   ],
   "source": [
    "wfn.length()"
   ]
  },
  {
   "cell_type": "code",
   "execution_count": 22,
   "id": "1569125c",
   "metadata": {},
   "outputs": [
    {
     "data": {
      "image/svg+xml": [
       "<svg xmlns=\"http://www.w3.org/2000/svg\" viewBox=\"0 0 1920 1028\"><defs><circle stroke=\"none\" stroke-width=\"2\" id=\"wtg\" r=\"12\"/><rect stroke=\"#111\" stroke-width=\"2\" id=\"oss\" width=\"21\" height=\"21\" fill=\"lawngreen\"/><filter x=\"-5%\" y=\"-5%\" id=\"bg_textbox\" width=\"110%\" height=\"110%\"><feFlood flood-opacity=\"0.6\" flood-color=\"black\" result=\"bg\"/><feMerge><feMergeNode in=\"bg\"/><feMergeNode in=\"SourceGraphic\"/></feMerge></filter></defs><g id=\"doggerA\"><path stroke=\"silver\" stroke-dasharray=\"15 7\" stroke-width=\"2\" id=\"border\" d=\"M1098 998 30 535 42 30 1727 39 1890 202z\" fill-rule=\"evenodd\" fill=\"#111\"/><g stroke=\"crimson\" stroke-width=\"4\" id=\"edges_unspecified\"><line x1=\"158\" y1=\"367\" x2=\"266\" y2=\"458\"/><line x1=\"158\" y1=\"367\" x2=\"47\" y2=\"346\"/><line x1=\"266\" y1=\"458\" x2=\"331\" y2=\"379\"/><line x1=\"655\" y1=\"651\" x2=\"721\" y2=\"572\"/><line x1=\"655\" y1=\"651\" x2=\"590\" y2=\"765\"/><line x1=\"744\" y1=\"323\" x2=\"721\" y2=\"572\"/><line x1=\"547\" y1=\"560\" x2=\"462\" y2=\"710\"/><line x1=\"547\" y1=\"560\" x2=\"613\" y2=\"481\"/><line x1=\"613\" y1=\"481\" x2=\"679\" y2=\"403\"/><line x1=\"224\" y1=\"288\" x2=\"290\" y2=\"210\"/><line x1=\"397\" y1=\"301\" x2=\"290\" y2=\"210\"/><line x1=\"1045\" y1=\"844\" x2=\"972\" y2=\"930\"/><line x1=\"1045\" y1=\"844\" x2=\"937\" y2=\"753\"/><line x1=\"937\" y1=\"753\" x2=\"829\" y2=\"663\"/><line x1=\"829\" y1=\"663\" x2=\"787\" y2=\"494\"/><line x1=\"744\" y1=\"323\" x2=\"787\" y2=\"494\"/><line x1=\"744\" y1=\"323\" x2=\"679\" y2=\"403\"/><line x1=\"397\" y1=\"301\" x2=\"463\" y2=\"222\"/><line x1=\"463\" y1=\"222\" x2=\"571\" y2=\"313\"/><line x1=\"463\" y1=\"222\" x2=\"469\" y2=\"79\"/><line x1=\"1111\" y1=\"765\" x2=\"1200\" y2=\"878\"/><line x1=\"1111\" y1=\"765\" x2=\"1003\" y2=\"675\"/><line x1=\"1003\" y1=\"675\" x2=\"895\" y2=\"584\"/><line x1=\"895\" y1=\"584\" x2=\"853\" y2=\"415\"/><line x1=\"744\" y1=\"323\" x2=\"853\" y2=\"415\"/><line x1=\"744\" y1=\"323\" x2=\"571\" y2=\"313\"/><line x1=\"1176\" y1=\"687\" x2=\"1308\" y2=\"529\"/><line x1=\"1176\" y1=\"687\" x2=\"1069\" y2=\"596\"/><line x1=\"1069\" y1=\"596\" x2=\"961\" y2=\"505\"/><line x1=\"744\" y1=\"323\" x2=\"961\" y2=\"505\"/><line x1=\"1374\" y1=\"451\" x2=\"1266\" y2=\"361\"/><line x1=\"1374\" y1=\"451\" x2=\"1440\" y2=\"373\"/><line x1=\"744\" y1=\"323\" x2=\"1266\" y2=\"361\"/><line x1=\"1506\" y1=\"294\" x2=\"1572\" y2=\"216\"/><line x1=\"1506\" y1=\"294\" x2=\"1398\" y2=\"204\"/><line x1=\"1332\" y1=\"282\" x2=\"1398\" y2=\"204\"/><line x1=\"677\" y1=\"80\" x2=\"747\" y2=\"81\"/><line x1=\"744\" y1=\"323\" x2=\"747\" y2=\"81\"/><line x1=\"747\" y1=\"81\" x2=\"816\" y2=\"81\"/><line x1=\"1836\" y1=\"239\" x2=\"1787\" y2=\"288\"/><line x1=\"1787\" y1=\"288\" x2=\"1738\" y2=\"337\"/><line x1=\"1738\" y1=\"337\" x2=\"1689\" y2=\"386\"/><line x1=\"1689\" y1=\"386\" x2=\"1640\" y2=\"436\"/><line x1=\"1440\" y1=\"373\" x2=\"1640\" y2=\"436\"/><line x1=\"1591\" y1=\"484\" x2=\"1542\" y2=\"534\"/><line x1=\"1542\" y1=\"534\" x2=\"1493\" y2=\"583\"/><line x1=\"1493\" y1=\"583\" x2=\"1445\" y2=\"633\"/><line x1=\"1308\" y1=\"529\" x2=\"1445\" y2=\"633\"/><line x1=\"1298\" y1=\"779\" x2=\"1249\" y2=\"829\"/><line x1=\"1249\" y1=\"829\" x2=\"1200\" y2=\"878\"/><line x1=\"1035\" y1=\"957\" x2=\"1102\" y2=\"976\"/><line x1=\"1035\" y1=\"957\" x2=\"972\" y2=\"930\"/><line x1=\"844\" y1=\"875\" x2=\"908\" y2=\"903\"/><line x1=\"844\" y1=\"875\" x2=\"781\" y2=\"847\"/><line x1=\"781\" y1=\"847\" x2=\"717\" y2=\"820\"/><line x1=\"717\" y1=\"820\" x2=\"654\" y2=\"792\"/><line x1=\"654\" y1=\"792\" x2=\"590\" y2=\"765\"/><line x1=\"526\" y1=\"737\" x2=\"462\" y2=\"710\"/><line x1=\"462\" y1=\"710\" x2=\"399\" y2=\"681\"/><line x1=\"45\" y1=\"417\" x2=\"43\" y2=\"486\"/><line x1=\"81\" y1=\"544\" x2=\"43\" y2=\"486\"/><line x1=\"374\" y1=\"548\" x2=\"440\" y2=\"469\"/><line x1=\"374\" y1=\"548\" x2=\"208\" y2=\"599\"/><line x1=\"440\" y1=\"469\" x2=\"505\" y2=\"391\"/><line x1=\"744\" y1=\"323\" x2=\"331\" y2=\"379\"/><line x1=\"744\" y1=\"323\" x2=\"505\" y2=\"391\"/><line x1=\"47\" y1=\"346\" x2=\"48\" y2=\"278\"/><line x1=\"469\" y1=\"79\" x2=\"538\" y2=\"79\"/><line x1=\"1158\" y1=\"270\" x2=\"1224\" y2=\"192\"/><line x1=\"1224\" y1=\"192\" x2=\"1232\" y2=\"85\"/><line x1=\"744\" y1=\"323\" x2=\"1158\" y2=\"270\"/><line x1=\"744\" y1=\"323\" x2=\"1332\" y2=\"282\"/><line x1=\"1232\" y1=\"85\" x2=\"1301\" y2=\"85\"/><line x1=\"1572\" y1=\"216\" x2=\"1648\" y2=\"87\"/><line x1=\"1648\" y1=\"87\" x2=\"1717\" y2=\"88\"/><line x1=\"538\" y1=\"79\" x2=\"608\" y2=\"80\"/><line x1=\"816\" y1=\"81\" x2=\"885\" y2=\"82\"/><line x1=\"885\" y1=\"82\" x2=\"954\" y2=\"82\"/><line x1=\"954\" y1=\"82\" x2=\"1024\" y2=\"83\"/><line x1=\"1024\" y1=\"83\" x2=\"1093\" y2=\"84\"/><line x1=\"1093\" y1=\"84\" x2=\"1163\" y2=\"84\"/><line x1=\"1301\" y1=\"85\" x2=\"1371\" y2=\"85\"/><line x1=\"1371\" y1=\"85\" x2=\"1440\" y2=\"86\"/><line x1=\"1440\" y1=\"86\" x2=\"1510\" y2=\"87\"/><line x1=\"1510\" y1=\"87\" x2=\"1579\" y2=\"87\"/><line x1=\"1717\" y1=\"88\" x2=\"1774\" y2=\"128\"/><line x1=\"1774\" y1=\"128\" x2=\"1831\" y2=\"167\"/><line x1=\"1102\" y1=\"976\" x2=\"1151\" y2=\"927\"/><line x1=\"399\" y1=\"681\" x2=\"335\" y2=\"654\"/><line x1=\"48\" y1=\"278\" x2=\"50\" y2=\"208\"/><line x1=\"50\" y1=\"208\" x2=\"53\" y2=\"78\"/><line x1=\"53\" y1=\"78\" x2=\"122\" y2=\"80\"/><line x1=\"208\" y1=\"599\" x2=\"145\" y2=\"572\"/><line x1=\"335\" y1=\"654\" x2=\"272\" y2=\"626\"/><line x1=\"145\" y1=\"572\" x2=\"81\" y2=\"544\"/></g><g id=\"WTGgrp\"><g fill=\"#c5b0d5\"><use href=\"#wtg\" x=\"158\" y=\"367\"/><use href=\"#wtg\" x=\"266\" y=\"458\"/><use href=\"#wtg\" x=\"331\" y=\"379\"/><use href=\"#wtg\" x=\"47\" y=\"346\"/><use href=\"#wtg\" x=\"48\" y=\"278\"/><use href=\"#wtg\" x=\"50\" y=\"208\"/><use href=\"#wtg\" x=\"53\" y=\"78\"/><use href=\"#wtg\" x=\"122\" y=\"80\"/></g><g fill=\"#1f77b4\"><use href=\"#wtg\" x=\"655\" y=\"651\"/><use href=\"#wtg\" x=\"721\" y=\"572\"/><use href=\"#wtg\" x=\"844\" y=\"875\"/><use href=\"#wtg\" x=\"781\" y=\"847\"/><use href=\"#wtg\" x=\"717\" y=\"820\"/><use href=\"#wtg\" x=\"654\" y=\"792\"/><use href=\"#wtg\" x=\"590\" y=\"765\"/><use href=\"#wtg\" x=\"908\" y=\"903\"/></g><g fill=\"#ff7f0e\"><use href=\"#wtg\" x=\"547\" y=\"560\"/><use href=\"#wtg\" x=\"613\" y=\"481\"/><use href=\"#wtg\" x=\"679\" y=\"403\"/><use href=\"#wtg\" x=\"526\" y=\"737\"/><use href=\"#wtg\" x=\"462\" y=\"710\"/><use href=\"#wtg\" x=\"399\" y=\"681\"/><use href=\"#wtg\" x=\"335\" y=\"654\"/><use href=\"#wtg\" x=\"272\" y=\"626\"/></g><g fill=\"#c49c94\"><use href=\"#wtg\" x=\"224\" y=\"288\"/><use href=\"#wtg\" x=\"290\" y=\"210\"/><use href=\"#wtg\" x=\"397\" y=\"301\"/><use href=\"#wtg\" x=\"463\" y=\"222\"/><use href=\"#wtg\" x=\"571\" y=\"313\"/><use href=\"#wtg\" x=\"469\" y=\"79\"/><use href=\"#wtg\" x=\"538\" y=\"79\"/><use href=\"#wtg\" x=\"608\" y=\"80\"/></g><g fill=\"#aec7e8\"><use href=\"#wtg\" x=\"1045\" y=\"844\"/><use href=\"#wtg\" x=\"937\" y=\"753\"/><use href=\"#wtg\" x=\"829\" y=\"663\"/><use href=\"#wtg\" x=\"787\" y=\"494\"/><use href=\"#wtg\" x=\"1035\" y=\"957\"/><use href=\"#wtg\" x=\"972\" y=\"930\"/><use href=\"#wtg\" x=\"1102\" y=\"976\"/><use href=\"#wtg\" x=\"1151\" y=\"927\"/></g><g fill=\"#2ca02c\"><use href=\"#wtg\" x=\"1111\" y=\"765\"/><use href=\"#wtg\" x=\"1003\" y=\"675\"/><use href=\"#wtg\" x=\"895\" y=\"584\"/><use href=\"#wtg\" x=\"853\" y=\"415\"/><use href=\"#wtg\" x=\"1298\" y=\"779\"/><use href=\"#wtg\" x=\"1249\" y=\"829\"/><use href=\"#wtg\" x=\"1200\" y=\"878\"/></g><g fill=\"#ffbb78\"><use href=\"#wtg\" x=\"1176\" y=\"687\"/><use href=\"#wtg\" x=\"1069\" y=\"596\"/><use href=\"#wtg\" x=\"961\" y=\"505\"/><use href=\"#wtg\" x=\"1591\" y=\"484\"/><use href=\"#wtg\" x=\"1542\" y=\"534\"/><use href=\"#wtg\" x=\"1493\" y=\"583\"/><use href=\"#wtg\" x=\"1445\" y=\"633\"/><use href=\"#wtg\" x=\"1308\" y=\"529\"/></g><g fill=\"#98df8a\"><use href=\"#wtg\" x=\"1374\" y=\"451\"/><use href=\"#wtg\" x=\"1266\" y=\"361\"/><use href=\"#wtg\" x=\"1836\" y=\"239\"/><use href=\"#wtg\" x=\"1787\" y=\"288\"/><use href=\"#wtg\" x=\"1738\" y=\"337\"/><use href=\"#wtg\" x=\"1689\" y=\"386\"/><use href=\"#wtg\" x=\"1640\" y=\"436\"/><use href=\"#wtg\" x=\"1440\" y=\"373\"/></g><g fill=\"#ff9896\"><use href=\"#wtg\" x=\"1506\" y=\"294\"/><use href=\"#wtg\" x=\"1398\" y=\"204\"/><use href=\"#wtg\" x=\"1332\" y=\"282\"/><use href=\"#wtg\" x=\"1572\" y=\"216\"/><use href=\"#wtg\" x=\"1648\" y=\"87\"/><use href=\"#wtg\" x=\"1717\" y=\"88\"/><use href=\"#wtg\" x=\"1774\" y=\"128\"/><use href=\"#wtg\" x=\"1831\" y=\"167\"/></g><g fill=\"#9467bd\"><use href=\"#wtg\" x=\"677\" y=\"80\"/><use href=\"#wtg\" x=\"747\" y=\"81\"/><use href=\"#wtg\" x=\"816\" y=\"81\"/><use href=\"#wtg\" x=\"885\" y=\"82\"/><use href=\"#wtg\" x=\"954\" y=\"82\"/><use href=\"#wtg\" x=\"1024\" y=\"83\"/><use href=\"#wtg\" x=\"1093\" y=\"84\"/><use href=\"#wtg\" x=\"1163\" y=\"84\"/></g><g fill=\"#8c564b\"><use href=\"#wtg\" x=\"45\" y=\"417\"/><use href=\"#wtg\" x=\"43\" y=\"486\"/><use href=\"#wtg\" x=\"374\" y=\"548\"/><use href=\"#wtg\" x=\"440\" y=\"469\"/><use href=\"#wtg\" x=\"505\" y=\"391\"/><use href=\"#wtg\" x=\"208\" y=\"599\"/><use href=\"#wtg\" x=\"145\" y=\"572\"/><use href=\"#wtg\" x=\"81\" y=\"544\"/></g><g fill=\"#d62728\"><use href=\"#wtg\" x=\"1224\" y=\"192\"/><use href=\"#wtg\" x=\"1158\" y=\"270\"/><use href=\"#wtg\" x=\"1232\" y=\"85\"/><use href=\"#wtg\" x=\"1301\" y=\"85\"/><use href=\"#wtg\" x=\"1371\" y=\"85\"/><use href=\"#wtg\" x=\"1440\" y=\"86\"/><use href=\"#wtg\" x=\"1510\" y=\"87\"/><use href=\"#wtg\" x=\"1579\" y=\"87\"/></g></g><g id=\"OSSgrp\"><use href=\"#oss\" x=\"733.5\" y=\"312.5\"/></g></g><text filter=\"url(#bg_textbox)\" text-anchor=\"end\" font-family=\"sans-serif\" font-size=\"40\" fill=\"white\" x=\"1890\" y=\"998\"><tspan x=\"1890\" dy=\"-0.0em\">&#931;&#955; = 242819.0 m</tspan><tspan x=\"1890\" dy=\"-1.3em\">(+0) SS1: 12</tspan><tspan x=\"1890\" dy=\"-1.3em\">&#954; = 8, T = 95</tspan></text></svg>"
      ],
      "text/plain": [
       "<optiwindnet.api.WindFarmNetwork at 0x2504e9ff500>"
      ]
     },
     "execution_count": 22,
     "metadata": {},
     "output_type": "execute_result"
    }
   ],
   "source": [
    "wfn"
   ]
  }
 ],
 "metadata": {
  "kernelspec": {
   "display_name": "OptiWindNet",
   "language": "python",
   "name": "python3"
  },
  "language_info": {
   "codemirror_mode": {
    "name": "ipython",
    "version": 3
   },
   "file_extension": ".py",
   "mimetype": "text/x-python",
   "name": "python",
   "nbconvert_exporter": "python",
   "pygments_lexer": "ipython3",
   "version": "3.12.9"
  }
 },
 "nbformat": 4,
 "nbformat_minor": 5
}
