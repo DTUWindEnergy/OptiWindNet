{
 "cells": [
  {
   "cell_type": "markdown",
   "id": "d3889873-304a-4138-8d26-71cd9df08281",
   "metadata": {
    "deletable": true,
    "editable": true,
    "frozen": false
   },
   "source": [
    "# 🚀 Quick Start"
   ]
  },
  {
   "cell_type": "markdown",
   "id": "b613f213-609c-4fab-b6e2-6da86ea72cb6",
   "metadata": {
    "deletable": true,
    "editable": true,
    "frozen": false
   },
   "source": [
    "This notebook shows the *minimum steps* needed to run a electrical network optimization in a wind farm via OptiWindNet."
   ]
  },
  {
   "cell_type": "markdown",
   "id": "56bae6b4-9cf4-4e01-83ce-e17d4b788b18",
   "metadata": {
    "deletable": true,
    "editable": true,
    "frozen": false
   },
   "source": [
    "## Steps"
   ]
  },
  {
   "cell_type": "markdown",
   "id": "77861cab-daa3-4bf5-98a9-27d52ad7cecb",
   "metadata": {
    "deletable": true,
    "editable": true,
    "frozen": false
   },
   "source": [
    "An network optimization via OptiWindNet involves two components:\n",
    "\n",
    "* A `WindFarmNetwork` containing the problem data.\n",
    "* A `Router` describing the method used to solve it.\n",
    "\n",
    "The network optimization can be performed using following steps:\n",
    "\n",
    "1) Create a `WindFarmNetwork` instance\n",
    "2) Define a router\n",
    "3) Run the optimization and get the results"
   ]
  },
  {
   "cell_type": "markdown",
   "id": "48145102",
   "metadata": {
    "deletable": true,
    "editable": true,
    "frozen": false
   },
   "source": [
    "### 1. Create a `WindFarmNetwork` instance"
   ]
  },
  {
   "cell_type": "markdown",
   "id": "fac8dccf",
   "metadata": {
    "deletable": true,
    "editable": true,
    "frozen": false
   },
   "source": [
    "The `WindFarmNetwork` component stores the turbine layout and runs optimization (storing the optimized network after running an optimization). See [WindFarmNetwork and Router](a02_WindFarmNetwork.ipynb) for some of the importnant methods and functionalities provided by this component."
   ]
  },
  {
   "cell_type": "code",
   "execution_count": 1,
   "id": "2f1ecb89-84e4-4316-9db9-dbaf5b282bf0",
   "metadata": {
    "deletable": true,
    "editable": true,
    "execution": {
     "iopub.execute_input": "2025-09-17T18:09:53.049016Z",
     "iopub.status.busy": "2025-09-17T18:09:53.049016Z",
     "iopub.status.idle": "2025-09-17T18:10:00.250358Z",
     "shell.execute_reply": "2025-09-17T18:10:00.250358Z",
     "shell.execute_reply.started": "2025-09-17T18:09:53.049016Z"
    },
    "frozen": false
   },
   "outputs": [],
   "source": [
    "from optiwindnet.api import WindFarmNetwork"
   ]
  },
  {
   "cell_type": "code",
   "execution_count": 2,
   "id": "c955df78",
   "metadata": {
    "deletable": true,
    "editable": true,
    "execution": {
     "iopub.execute_input": "2025-09-17T18:10:00.254824Z",
     "iopub.status.busy": "2025-09-17T18:10:00.254824Z",
     "iopub.status.idle": "2025-09-17T18:10:00.264619Z",
     "shell.execute_reply": "2025-09-17T18:10:00.264619Z",
     "shell.execute_reply.started": "2025-09-17T18:10:00.254824Z"
    },
    "frozen": false
   },
   "outputs": [],
   "source": [
    "# Display figures as SVG in Jupyter notebooks\n",
    "%config InlineBackend.figure_formats = ['svg']"
   ]
  },
  {
   "cell_type": "markdown",
   "id": "e0765d5c",
   "metadata": {
    "deletable": true,
    "editable": true,
    "frozen": false
   },
   "source": [
    "#### Load location data\n",
    "\n",
    "> Note: For details about *OptiWindNet*'s `load_repository()`, check [Load repositories containing location data](a03_load_repositories.ipynb)."
   ]
  },
  {
   "cell_type": "code",
   "execution_count": 3,
   "id": "1f2d7a49-6c57-49e9-bb85-cad2eb08d350",
   "metadata": {
    "deletable": true,
    "editable": true,
    "execution": {
     "iopub.execute_input": "2025-09-17T18:10:00.264619Z",
     "iopub.status.busy": "2025-09-17T18:10:00.264619Z",
     "iopub.status.idle": "2025-09-17T18:10:01.550610Z",
     "shell.execute_reply": "2025-09-17T18:10:01.550610Z",
     "shell.execute_reply.started": "2025-09-17T18:10:00.264619Z"
    },
    "frozen": false
   },
   "outputs": [],
   "source": [
    "from optiwindnet.api import load_repository\n",
    "locations = load_repository()\n",
    "L = locations.doggerA"
   ]
  },
  {
   "cell_type": "markdown",
   "id": "082fda01",
   "metadata": {
    "deletable": true,
    "editable": true,
    "frozen": false
   },
   "source": [
    "Initialize a `WindFarmNetwork` instance with a prebuilt `L` and a desired maximum cable capacity *(See [Data Input](a01_data_input.ipynb) for various input formats.)*"
   ]
  },
  {
   "cell_type": "code",
   "execution_count": 4,
   "id": "1cefe795",
   "metadata": {
    "deletable": true,
    "editable": true,
    "execution": {
     "iopub.execute_input": "2025-09-17T18:10:01.550610Z",
     "iopub.status.busy": "2025-09-17T18:10:01.550610Z",
     "iopub.status.idle": "2025-09-17T18:10:01.560360Z",
     "shell.execute_reply": "2025-09-17T18:10:01.559393Z",
     "shell.execute_reply.started": "2025-09-17T18:10:01.550610Z"
    },
    "frozen": false
   },
   "outputs": [],
   "source": [
    "wfn = WindFarmNetwork(L=L, cables=8)"
   ]
  },
  {
   "cell_type": "markdown",
   "id": "a8fd46b9",
   "metadata": {
    "deletable": true,
    "editable": true,
    "frozen": false
   },
   "source": [
    "We can plot the location to make sure `wfn` is created with the correct data."
   ]
  },
  {
   "cell_type": "markdown",
   "id": "753feb91",
   "metadata": {
    "deletable": true,
    "editable": true,
    "frozen": false
   },
   "source": [
    ">**Tip.** In a notebook, just put `wfn` as the last line of a cell for plotting G.\n",
    ">\n",
    ">* Before optimization (no `G` yet), it renders the location geometry `L`.\n",
    ">* If `G` exists (e.g. after a `optimize()` is run), it automatically renders `G`.\n",
    ">\n",
    ">We could use `wfn.plot_location()` for plotting the location geometry. For more details look into the notebook about [plotting](a04_Plotting.ipynb)"
   ]
  },
  {
   "cell_type": "code",
   "execution_count": 5,
   "id": "e0e31dfa",
   "metadata": {
    "deletable": true,
    "editable": true,
    "execution": {
     "iopub.execute_input": "2025-09-17T18:10:01.561589Z",
     "iopub.status.busy": "2025-09-17T18:10:01.560360Z",
     "iopub.status.idle": "2025-09-17T18:10:01.572742Z",
     "shell.execute_reply": "2025-09-17T18:10:01.572742Z",
     "shell.execute_reply.started": "2025-09-17T18:10:01.561589Z"
    },
    "frozen": false
   },
   "outputs": [
    {
     "data": {
      "image/svg+xml": [
       "<svg xmlns=\"http://www.w3.org/2000/svg\" viewBox=\"0 0 1920 1028\"><defs><circle stroke=\"none\" stroke-width=\"2\" id=\"wtg\" r=\"12\"/><rect stroke=\"#111\" stroke-width=\"2\" id=\"oss\" width=\"21\" height=\"21\" fill=\"lawngreen\"/></defs><g id=\"doggerA\"><path stroke=\"silver\" stroke-dasharray=\"15 7\" stroke-width=\"2\" id=\"border\" d=\"M1098 998 30 535 42 30 1727 39 1890 202z\" fill-rule=\"evenodd\" fill=\"#111\"/><g id=\"WTGgrp\"><g fill=\"#9edae5\"><use href=\"#wtg\" x=\"158\" y=\"367\"/><use href=\"#wtg\" x=\"655\" y=\"651\"/><use href=\"#wtg\" x=\"547\" y=\"560\"/><use href=\"#wtg\" x=\"224\" y=\"288\"/><use href=\"#wtg\" x=\"1045\" y=\"844\"/><use href=\"#wtg\" x=\"937\" y=\"753\"/><use href=\"#wtg\" x=\"829\" y=\"663\"/><use href=\"#wtg\" x=\"721\" y=\"572\"/><use href=\"#wtg\" x=\"613\" y=\"481\"/><use href=\"#wtg\" x=\"397\" y=\"301\"/><use href=\"#wtg\" x=\"290\" y=\"210\"/><use href=\"#wtg\" x=\"1111\" y=\"765\"/><use href=\"#wtg\" x=\"1003\" y=\"675\"/><use href=\"#wtg\" x=\"895\" y=\"584\"/><use href=\"#wtg\" x=\"787\" y=\"494\"/><use href=\"#wtg\" x=\"679\" y=\"403\"/><use href=\"#wtg\" x=\"463\" y=\"222\"/><use href=\"#wtg\" x=\"1176\" y=\"687\"/><use href=\"#wtg\" x=\"1069\" y=\"596\"/><use href=\"#wtg\" x=\"961\" y=\"505\"/><use href=\"#wtg\" x=\"853\" y=\"415\"/><use href=\"#wtg\" x=\"1308\" y=\"529\"/><use href=\"#wtg\" x=\"1374\" y=\"451\"/><use href=\"#wtg\" x=\"1266\" y=\"361\"/><use href=\"#wtg\" x=\"1158\" y=\"270\"/><use href=\"#wtg\" x=\"1440\" y=\"373\"/><use href=\"#wtg\" x=\"1332\" y=\"282\"/><use href=\"#wtg\" x=\"1224\" y=\"192\"/><use href=\"#wtg\" x=\"1506\" y=\"294\"/><use href=\"#wtg\" x=\"1398\" y=\"204\"/><use href=\"#wtg\" x=\"1572\" y=\"216\"/><use href=\"#wtg\" x=\"469\" y=\"79\"/><use href=\"#wtg\" x=\"538\" y=\"79\"/><use href=\"#wtg\" x=\"608\" y=\"80\"/><use href=\"#wtg\" x=\"677\" y=\"80\"/><use href=\"#wtg\" x=\"747\" y=\"81\"/><use href=\"#wtg\" x=\"816\" y=\"81\"/><use href=\"#wtg\" x=\"885\" y=\"82\"/><use href=\"#wtg\" x=\"954\" y=\"82\"/><use href=\"#wtg\" x=\"1024\" y=\"83\"/><use href=\"#wtg\" x=\"1093\" y=\"84\"/><use href=\"#wtg\" x=\"1163\" y=\"84\"/><use href=\"#wtg\" x=\"1232\" y=\"85\"/><use href=\"#wtg\" x=\"1301\" y=\"85\"/><use href=\"#wtg\" x=\"1371\" y=\"85\"/><use href=\"#wtg\" x=\"1440\" y=\"86\"/><use href=\"#wtg\" x=\"1510\" y=\"87\"/><use href=\"#wtg\" x=\"1579\" y=\"87\"/><use href=\"#wtg\" x=\"1648\" y=\"87\"/><use href=\"#wtg\" x=\"1717\" y=\"88\"/><use href=\"#wtg\" x=\"1836\" y=\"239\"/><use href=\"#wtg\" x=\"1787\" y=\"288\"/><use href=\"#wtg\" x=\"1738\" y=\"337\"/><use href=\"#wtg\" x=\"1689\" y=\"386\"/><use href=\"#wtg\" x=\"1640\" y=\"436\"/><use href=\"#wtg\" x=\"1591\" y=\"484\"/><use href=\"#wtg\" x=\"1542\" y=\"534\"/><use href=\"#wtg\" x=\"1493\" y=\"583\"/><use href=\"#wtg\" x=\"1445\" y=\"633\"/><use href=\"#wtg\" x=\"1298\" y=\"779\"/><use href=\"#wtg\" x=\"1249\" y=\"829\"/><use href=\"#wtg\" x=\"1200\" y=\"878\"/><use href=\"#wtg\" x=\"1035\" y=\"957\"/><use href=\"#wtg\" x=\"972\" y=\"930\"/><use href=\"#wtg\" x=\"844\" y=\"875\"/><use href=\"#wtg\" x=\"781\" y=\"847\"/><use href=\"#wtg\" x=\"717\" y=\"820\"/><use href=\"#wtg\" x=\"654\" y=\"792\"/><use href=\"#wtg\" x=\"590\" y=\"765\"/><use href=\"#wtg\" x=\"526\" y=\"737\"/><use href=\"#wtg\" x=\"462\" y=\"710\"/><use href=\"#wtg\" x=\"45\" y=\"417\"/><use href=\"#wtg\" x=\"47\" y=\"346\"/><use href=\"#wtg\" x=\"48\" y=\"278\"/><use href=\"#wtg\" x=\"50\" y=\"208\"/><use href=\"#wtg\" x=\"53\" y=\"78\"/><use href=\"#wtg\" x=\"122\" y=\"80\"/><use href=\"#wtg\" x=\"1102\" y=\"976\"/><use href=\"#wtg\" x=\"908\" y=\"903\"/><use href=\"#wtg\" x=\"374\" y=\"548\"/><use href=\"#wtg\" x=\"266\" y=\"458\"/><use href=\"#wtg\" x=\"440\" y=\"469\"/><use href=\"#wtg\" x=\"331\" y=\"379\"/><use href=\"#wtg\" x=\"505\" y=\"391\"/><use href=\"#wtg\" x=\"571\" y=\"313\"/><use href=\"#wtg\" x=\"1151\" y=\"927\"/><use href=\"#wtg\" x=\"399\" y=\"681\"/><use href=\"#wtg\" x=\"335\" y=\"654\"/><use href=\"#wtg\" x=\"272\" y=\"626\"/><use href=\"#wtg\" x=\"208\" y=\"599\"/><use href=\"#wtg\" x=\"145\" y=\"572\"/><use href=\"#wtg\" x=\"81\" y=\"544\"/><use href=\"#wtg\" x=\"43\" y=\"486\"/><use href=\"#wtg\" x=\"1774\" y=\"128\"/><use href=\"#wtg\" x=\"1831\" y=\"167\"/></g></g><g id=\"OSSgrp\"><use href=\"#oss\" x=\"733.5\" y=\"312.5\"/></g></g></svg>"
      ],
      "text/plain": [
       "<optiwindnet.api.WindFarmNetwork at 0x21627b020f0>"
      ]
     },
     "execution_count": 5,
     "metadata": {},
     "output_type": "execute_result"
    }
   ],
   "source": [
    "wfn"
   ]
  },
  {
   "cell_type": "markdown",
   "id": "64a931d6-a64a-4e6b-a36d-6b103a8216dc",
   "metadata": {
    "deletable": true,
    "editable": true,
    "frozen": false
   },
   "source": [
    "### 2. Define a `Router`"
   ]
  },
  {
   "cell_type": "markdown",
   "id": "100bfc85-3785-435e-839e-1a6adef38c23",
   "metadata": {
    "deletable": true,
    "editable": true,
    "frozen": false
   },
   "source": [
    "Three built-in routers are available in *OptiWindNet* :\n",
    "\n",
    "| Router     | Speed | Accuracy | Notes |\n",
    "|------------|-------|----------|-------|\n",
    "| EWRouter   | ⭐⭐⭐  | ⭐       | Very fast heuristic |\n",
    "| HGSRouter  | ⭐⭐   | ⭐⭐       | Radial topology |\n",
    "| MILPRouter | ⭐    | ⭐⭐⭐      | Exact MILP solver |\n",
    "\n",
    "See [WindFarmNetwork and Router](a02_WindFarmNetwork.ipynb) for details about routers."
   ]
  },
  {
   "cell_type": "markdown",
   "id": "d949bb52-5c2b-467b-954b-1ff0be0f717c",
   "metadata": {
    "deletable": true,
    "editable": true,
    "frozen": false
   },
   "source": [
    "#### EWRouter"
   ]
  },
  {
   "cell_type": "markdown",
   "id": "90750db9-b0e4-48cf-ade0-339d2ef14d84",
   "metadata": {
    "deletable": true,
    "editable": true,
    "frozen": false
   },
   "source": [
    "To use this router, simply create an instance of the `EWRouter` class. All arguments are *optional*, making it quick and easy to get started with minimal configuration."
   ]
  },
  {
   "cell_type": "code",
   "execution_count": 6,
   "id": "b6a65515-8573-4fb7-9f14-f741d78eb361",
   "metadata": {
    "deletable": true,
    "editable": true,
    "execution": {
     "iopub.execute_input": "2025-09-17T18:10:01.572742Z",
     "iopub.status.busy": "2025-09-17T18:10:01.572742Z",
     "iopub.status.idle": "2025-09-17T18:10:01.578314Z",
     "shell.execute_reply": "2025-09-17T18:10:01.577735Z",
     "shell.execute_reply.started": "2025-09-17T18:10:01.572742Z"
    },
    "frozen": false
   },
   "outputs": [],
   "source": [
    "from optiwindnet.api import EWRouter"
   ]
  },
  {
   "cell_type": "code",
   "execution_count": 7,
   "id": "e4218728-24ee-4e12-a597-0aff167ce84d",
   "metadata": {
    "deletable": true,
    "editable": true,
    "execution": {
     "iopub.execute_input": "2025-09-17T18:10:01.579327Z",
     "iopub.status.busy": "2025-09-17T18:10:01.579327Z",
     "iopub.status.idle": "2025-09-17T18:10:01.583349Z",
     "shell.execute_reply": "2025-09-17T18:10:01.583349Z",
     "shell.execute_reply.started": "2025-09-17T18:10:01.579327Z"
    },
    "frozen": false
   },
   "outputs": [],
   "source": [
    "ew_router = EWRouter()"
   ]
  },
  {
   "cell_type": "markdown",
   "id": "e52ecc51",
   "metadata": {
    "deletable": true,
    "editable": true,
    "frozen": false
   },
   "source": [
    "#### HGSRouter\n",
    "\n",
    "To use this router, create an instance of the `HGSRouter` class. The *only required argument* is `time_limit`, which defines how long the optimization is allowed to run (in seconds)."
   ]
  },
  {
   "cell_type": "code",
   "execution_count": 8,
   "id": "3c842d29",
   "metadata": {
    "deletable": true,
    "editable": true,
    "execution": {
     "iopub.execute_input": "2025-09-17T18:10:01.585357Z",
     "iopub.status.busy": "2025-09-17T18:10:01.584357Z",
     "iopub.status.idle": "2025-09-17T18:10:01.588858Z",
     "shell.execute_reply": "2025-09-17T18:10:01.588858Z",
     "shell.execute_reply.started": "2025-09-17T18:10:01.585357Z"
    },
    "frozen": false
   },
   "outputs": [],
   "source": [
    "from optiwindnet.api import HGSRouter"
   ]
  },
  {
   "cell_type": "code",
   "execution_count": 9,
   "id": "346b0030",
   "metadata": {
    "deletable": true,
    "editable": true,
    "execution": {
     "iopub.execute_input": "2025-09-17T18:10:01.590865Z",
     "iopub.status.busy": "2025-09-17T18:10:01.589863Z",
     "iopub.status.idle": "2025-09-17T18:10:01.593717Z",
     "shell.execute_reply": "2025-09-17T18:10:01.593717Z",
     "shell.execute_reply.started": "2025-09-17T18:10:01.590865Z"
    },
    "frozen": false
   },
   "outputs": [],
   "source": [
    "hgs_router = HGSRouter(time_limit=1)"
   ]
  },
  {
   "cell_type": "markdown",
   "id": "8694bc98",
   "metadata": {
    "deletable": true,
    "editable": true,
    "frozen": false
   },
   "source": [
    "#### MILPRouter\n",
    "\n",
    "To use this router, create an instance of the `MILP` class.\n",
    "You must provide:\n",
    "\n",
    "* `solver_name`: the MILP solver to use (e.g., `'ortools'`, `'gurobi'`, `'cbc'`)\n",
    "* `time_limit`: maximum time allowed for solving (in seconds)\n",
    "* `mip_gap`: acceptable optimality gap (e.g., `0.005` = 0.5%)"
   ]
  },
  {
   "cell_type": "markdown",
   "id": "cc4966be",
   "metadata": {
    "deletable": true,
    "editable": true,
    "frozen": false
   },
   "source": [
    "Optional arguments:\n",
    "\n",
    "* `verbose` *(default: False)*: set to `True` to display solver progress and detailed logs\n",
    "* `solver_options`: dictionary of solver-specific parameters\n",
    "* `model_options`: advanced model settings (e.g., topology, feeder configuration)"
   ]
  },
  {
   "cell_type": "code",
   "execution_count": 10,
   "id": "9362998f",
   "metadata": {
    "deletable": true,
    "editable": true,
    "execution": {
     "iopub.execute_input": "2025-09-17T18:10:01.595903Z",
     "iopub.status.busy": "2025-09-17T18:10:01.595903Z",
     "iopub.status.idle": "2025-09-17T18:10:01.599903Z",
     "shell.execute_reply": "2025-09-17T18:10:01.599903Z",
     "shell.execute_reply.started": "2025-09-17T18:10:01.595903Z"
    },
    "frozen": false
   },
   "outputs": [],
   "source": [
    "from optiwindnet.api import MILPRouter"
   ]
  },
  {
   "cell_type": "code",
   "execution_count": 11,
   "id": "052b93cb",
   "metadata": {
    "deletable": true,
    "editable": true,
    "execution": {
     "iopub.execute_input": "2025-09-17T18:10:01.602208Z",
     "iopub.status.busy": "2025-09-17T18:10:01.601207Z",
     "iopub.status.idle": "2025-09-17T18:10:04.071717Z",
     "shell.execute_reply": "2025-09-17T18:10:04.070658Z",
     "shell.execute_reply.started": "2025-09-17T18:10:01.602208Z"
    },
    "frozen": false
   },
   "outputs": [],
   "source": [
    "milp_router = MILPRouter(solver_name='ortools', time_limit=20, mip_gap=0.005, verbose=True)"
   ]
  },
  {
   "cell_type": "markdown",
   "id": "77b319ef",
   "metadata": {
    "deletable": true,
    "editable": true,
    "frozen": false
   },
   "source": [
    "### 3. Run the optimization"
   ]
  },
  {
   "cell_type": "markdown",
   "id": "a1993761",
   "metadata": {
    "deletable": true,
    "editable": true,
    "frozen": false
   },
   "source": [
    "#### EWRouter (very fast)"
   ]
  },
  {
   "cell_type": "code",
   "execution_count": 12,
   "id": "db91b101-c598-4a53-859d-d2bd540c1bef",
   "metadata": {
    "deletable": true,
    "editable": true,
    "execution": {
     "iopub.execute_input": "2025-09-17T18:10:04.072674Z",
     "iopub.status.busy": "2025-09-17T18:10:04.071717Z",
     "iopub.status.idle": "2025-09-17T18:10:04.839327Z",
     "shell.execute_reply": "2025-09-17T18:10:04.839327Z",
     "shell.execute_reply.started": "2025-09-17T18:10:04.072674Z"
    },
    "frozen": false
   },
   "outputs": [
    {
     "name": "stdout",
     "output_type": "stream",
     "text": [
      "29.8 ms ± 2.41 ms per loop (mean ± std. dev. of 7 runs, 1 loop each)\n"
     ]
    }
   ],
   "source": [
    "%%timeit\n",
    "res_ew = wfn.optimize(router=ew_router)"
   ]
  },
  {
   "cell_type": "code",
   "execution_count": 13,
   "id": "0381bcfd-db74-45dd-9da7-a70334c3a5a9",
   "metadata": {
    "execution": {
     "iopub.execute_input": "2025-09-17T18:10:04.841347Z",
     "iopub.status.busy": "2025-09-17T18:10:04.840336Z",
     "iopub.status.idle": "2025-09-17T18:10:04.845895Z",
     "shell.execute_reply": "2025-09-17T18:10:04.845895Z",
     "shell.execute_reply.started": "2025-09-17T18:10:04.841347Z"
    }
   },
   "outputs": [
    {
     "data": {
      "text/plain": [
       "{'router': 'EWRouter', 'capacity': 8, 'iterations': 83}"
      ]
     },
     "execution_count": 13,
     "metadata": {},
     "output_type": "execute_result"
    }
   ],
   "source": [
    "wfn.solution_info()"
   ]
  },
  {
   "cell_type": "code",
   "execution_count": 14,
   "id": "35182dae-be76-481c-8ed7-309eb31fd789",
   "metadata": {
    "execution": {
     "iopub.execute_input": "2025-09-17T18:10:04.846902Z",
     "iopub.status.busy": "2025-09-17T18:10:04.846902Z",
     "iopub.status.idle": "2025-09-17T18:10:04.853903Z",
     "shell.execute_reply": "2025-09-17T18:10:04.853903Z",
     "shell.execute_reply.started": "2025-09-17T18:10:04.846902Z"
    }
   },
   "outputs": [
    {
     "data": {
      "text/plain": [
       "{'fun_fingerprint': {'funhash': b'\\x06\\xe6\\n\\x81\\x0cow\\x17r\\x80\\xaf\\xe0\\xaeF:\\x1b\\x00\\xc4\\xa0u\\xff\\xb29\\xe4\\x84\\xb7+\\xd0\\x14\\x97\\xa9\\xde',\n",
       "  'funfile': 'C:\\\\Users\\\\s213184\\\\docs\\\\git\\\\OptiWindNet.git\\\\build\\\\__editable__.optiwindnet-0.0.7.dev55+g9cd2048cd-py3-none-any\\\\optiwindnet\\\\heuristics\\\\EW_presolver.py',\n",
       "  'funname': 'EW_presolver'}}"
      ]
     },
     "execution_count": 14,
     "metadata": {},
     "output_type": "execute_result"
    }
   ],
   "source": [
    "wfn.G.graph['method_options']"
   ]
  },
  {
   "cell_type": "code",
   "execution_count": 15,
   "id": "cfbd20c6-de03-4149-9dec-dcdaffb3ef10",
   "metadata": {
    "execution": {
     "iopub.execute_input": "2025-09-17T18:10:04.855397Z",
     "iopub.status.busy": "2025-09-17T18:10:04.855397Z",
     "iopub.status.idle": "2025-09-17T18:10:04.859899Z",
     "shell.execute_reply": "2025-09-17T18:10:04.859899Z",
     "shell.execute_reply.started": "2025-09-17T18:10:04.855397Z"
    }
   },
   "outputs": [
    {
     "data": {
      "text/plain": [
       "83"
      ]
     },
     "execution_count": 15,
     "metadata": {},
     "output_type": "execute_result"
    }
   ],
   "source": [
    "wfn.G.graph['iterations']"
   ]
  },
  {
   "cell_type": "code",
   "execution_count": 16,
   "id": "0d340d87-76a2-4537-8267-a5ae267b3ac2",
   "metadata": {
    "deletable": true,
    "editable": true,
    "execution": {
     "iopub.execute_input": "2025-09-17T18:10:04.861928Z",
     "iopub.status.busy": "2025-09-17T18:10:04.859899Z",
     "iopub.status.idle": "2025-09-17T18:10:04.868936Z",
     "shell.execute_reply": "2025-09-17T18:10:04.868936Z",
     "shell.execute_reply.started": "2025-09-17T18:10:04.861928Z"
    },
    "frozen": false
   },
   "outputs": [
    {
     "data": {
      "text/plain": [
       "264936.30102115136"
      ]
     },
     "execution_count": 16,
     "metadata": {},
     "output_type": "execute_result"
    }
   ],
   "source": [
    "wfn.length()"
   ]
  },
  {
   "cell_type": "markdown",
   "id": "bc45a08e",
   "metadata": {
    "deletable": true,
    "editable": true,
    "frozen": false
   },
   "source": [
    "Plot optimized network\n",
    "\n",
    "> Note: we could use `wfn.plot()` for plotting the optimized network. For more details look into the notebook about [plotting](a04_Plotting.ipynb)"
   ]
  },
  {
   "cell_type": "code",
   "execution_count": 17,
   "id": "842e6996-49a7-4354-b28a-c3c042b5a6a3",
   "metadata": {
    "deletable": true,
    "editable": true,
    "execution": {
     "iopub.execute_input": "2025-09-17T18:10:04.871119Z",
     "iopub.status.busy": "2025-09-17T18:10:04.870122Z",
     "iopub.status.idle": "2025-09-17T18:10:04.883403Z",
     "shell.execute_reply": "2025-09-17T18:10:04.882395Z",
     "shell.execute_reply.started": "2025-09-17T18:10:04.871119Z"
    },
    "frozen": false
   },
   "outputs": [
    {
     "data": {
      "image/svg+xml": [
       "<svg xmlns=\"http://www.w3.org/2000/svg\" viewBox=\"0 0 1920 1028\"><defs><circle stroke=\"orange\" stroke-opacity=\"0.3\" stroke-width=\"4\" id=\"dt\" r=\"23\" fill=\"none\"/><circle stroke=\"none\" stroke-width=\"2\" id=\"wtg\" r=\"12\"/><rect stroke=\"#111\" stroke-width=\"2\" id=\"oss\" width=\"21\" height=\"21\" fill=\"lawngreen\"/><filter x=\"-5%\" y=\"-5%\" id=\"bg_textbox\" width=\"110%\" height=\"110%\"><feFlood flood-opacity=\"0.6\" flood-color=\"black\" result=\"bg\"/><feMerge><feMergeNode in=\"bg\"/><feMergeNode in=\"SourceGraphic\"/></feMerge></filter></defs><g id=\"doggerA\"><path stroke=\"silver\" stroke-dasharray=\"15 7\" stroke-width=\"2\" id=\"border\" d=\"M1098 998 30 535 42 30 1727 39 1890 202z\" fill-rule=\"evenodd\" fill=\"#111\"/><g stroke=\"crimson\" stroke-width=\"4\" id=\"edges_unspecified\"><line x1=\"158\" y1=\"367\" x2=\"224\" y2=\"288\"/><line x1=\"744\" y1=\"323\" x2=\"816\" y2=\"81\"/><line x1=\"744\" y1=\"323\" x2=\"853\" y2=\"415\"/><line x1=\"744\" y1=\"323\" x2=\"571\" y2=\"313\"/><line x1=\"744\" y1=\"323\" x2=\"679\" y2=\"403\"/><line x1=\"744\" y1=\"323\" x2=\"1158\" y2=\"270\"/><line x1=\"744\" y1=\"323\" x2=\"505\" y2=\"391\"/><line x1=\"744\" y1=\"323\" x2=\"1371\" y2=\"85\"/><line x1=\"744\" y1=\"323\" x2=\"1308\" y2=\"529\"/><line x1=\"655\" y1=\"651\" x2=\"721\" y2=\"572\"/><line x1=\"655\" y1=\"651\" x2=\"590\" y2=\"765\"/><line x1=\"547\" y1=\"560\" x2=\"613\" y2=\"481\"/><line x1=\"224\" y1=\"288\" x2=\"290\" y2=\"210\"/><line x1=\"1045\" y1=\"844\" x2=\"1111\" y2=\"765\"/><line x1=\"937\" y1=\"753\" x2=\"1003\" y2=\"675\"/><line x1=\"829\" y1=\"663\" x2=\"895\" y2=\"584\"/><line x1=\"613\" y1=\"481\" x2=\"679\" y2=\"403\"/><line x1=\"397\" y1=\"301\" x2=\"290\" y2=\"210\"/><line x1=\"397\" y1=\"301\" x2=\"331\" y2=\"379\"/><line x1=\"290\" y1=\"210\" x2=\"122\" y2=\"80\"/><line x1=\"1111\" y1=\"765\" x2=\"1176\" y2=\"687\"/><line x1=\"1003\" y1=\"675\" x2=\"1069\" y2=\"596\"/><line x1=\"895\" y1=\"584\" x2=\"787\" y2=\"494\"/><line x1=\"787\" y1=\"494\" x2=\"679\" y2=\"403\"/><line x1=\"463\" y1=\"222\" x2=\"571\" y2=\"313\"/><line x1=\"463\" y1=\"222\" x2=\"469\" y2=\"79\"/><line x1=\"1176\" y1=\"687\" x2=\"1069\" y2=\"596\"/><line x1=\"1069\" y1=\"596\" x2=\"961\" y2=\"505\"/><line x1=\"961\" y1=\"505\" x2=\"853\" y2=\"415\"/><line x1=\"1308\" y1=\"529\" x2=\"1374\" y2=\"451\"/><line x1=\"1308\" y1=\"529\" x2=\"1445\" y2=\"633\"/><line x1=\"1374\" y1=\"451\" x2=\"1440\" y2=\"373\"/><line x1=\"1266\" y1=\"361\" x2=\"1158\" y2=\"270\"/><line x1=\"1266\" y1=\"361\" x2=\"1332\" y2=\"282\"/><line x1=\"1158\" y1=\"270\" x2=\"1224\" y2=\"192\"/><line x1=\"1440\" y1=\"373\" x2=\"1506\" y2=\"294\"/><line x1=\"1332\" y1=\"282\" x2=\"1398\" y2=\"204\"/><line x1=\"1506\" y1=\"294\" x2=\"1572\" y2=\"216\"/><line x1=\"469\" y1=\"79\" x2=\"538\" y2=\"79\"/><line x1=\"538\" y1=\"79\" x2=\"608\" y2=\"80\"/><line x1=\"608\" y1=\"80\" x2=\"677\" y2=\"80\"/><line x1=\"677\" y1=\"80\" x2=\"747\" y2=\"81\"/><line x1=\"816\" y1=\"81\" x2=\"885\" y2=\"82\"/><line x1=\"885\" y1=\"82\" x2=\"954\" y2=\"82\"/><line x1=\"954\" y1=\"82\" x2=\"1024\" y2=\"83\"/><line x1=\"1024\" y1=\"83\" x2=\"1093\" y2=\"84\"/><line x1=\"1093\" y1=\"84\" x2=\"1163\" y2=\"84\"/><line x1=\"1163\" y1=\"84\" x2=\"1232\" y2=\"85\"/><line x1=\"1232\" y1=\"85\" x2=\"1301\" y2=\"85\"/><line x1=\"1371\" y1=\"85\" x2=\"1440\" y2=\"86\"/><line x1=\"1440\" y1=\"86\" x2=\"1510\" y2=\"87\"/><line x1=\"1510\" y1=\"87\" x2=\"1579\" y2=\"87\"/><line x1=\"1579\" y1=\"87\" x2=\"1648\" y2=\"87\"/><line x1=\"1648\" y1=\"87\" x2=\"1717\" y2=\"88\"/><line x1=\"1717\" y1=\"88\" x2=\"1774\" y2=\"128\"/><line x1=\"1836\" y1=\"239\" x2=\"1787\" y2=\"288\"/><line x1=\"1787\" y1=\"288\" x2=\"1738\" y2=\"337\"/><line x1=\"1738\" y1=\"337\" x2=\"1689\" y2=\"386\"/><line x1=\"1689\" y1=\"386\" x2=\"1640\" y2=\"436\"/><line x1=\"1640\" y1=\"436\" x2=\"1591\" y2=\"484\"/><line x1=\"1591\" y1=\"484\" x2=\"1542\" y2=\"534\"/><line x1=\"1542\" y1=\"534\" x2=\"1493\" y2=\"583\"/><line x1=\"1298\" y1=\"779\" x2=\"1249\" y2=\"829\"/><line x1=\"1249\" y1=\"829\" x2=\"1200\" y2=\"878\"/><line x1=\"1200\" y1=\"878\" x2=\"1151\" y2=\"927\"/><line x1=\"1035\" y1=\"957\" x2=\"1102\" y2=\"976\"/><line x1=\"1035\" y1=\"957\" x2=\"972\" y2=\"930\"/><line x1=\"972\" y1=\"930\" x2=\"908\" y2=\"903\"/><line x1=\"844\" y1=\"875\" x2=\"781\" y2=\"847\"/><line x1=\"781\" y1=\"847\" x2=\"717\" y2=\"820\"/><line x1=\"717\" y1=\"820\" x2=\"654\" y2=\"792\"/><line x1=\"654\" y1=\"792\" x2=\"590\" y2=\"765\"/><line x1=\"526\" y1=\"737\" x2=\"462\" y2=\"710\"/><line x1=\"462\" y1=\"710\" x2=\"399\" y2=\"681\"/><line x1=\"45\" y1=\"417\" x2=\"47\" y2=\"346\"/><line x1=\"45\" y1=\"417\" x2=\"43\" y2=\"486\"/><line x1=\"47\" y1=\"346\" x2=\"48\" y2=\"278\"/><line x1=\"48\" y1=\"278\" x2=\"50\" y2=\"208\"/><line x1=\"53\" y1=\"78\" x2=\"122\" y2=\"80\"/><line x1=\"1102\" y1=\"976\" x2=\"1151\" y2=\"927\"/><line x1=\"374\" y1=\"548\" x2=\"440\" y2=\"469\"/><line x1=\"374\" y1=\"548\" x2=\"335\" y2=\"654\"/><line x1=\"266\" y1=\"458\" x2=\"331\" y2=\"379\"/><line x1=\"440\" y1=\"469\" x2=\"505\" y2=\"391\"/><line x1=\"399\" y1=\"681\" x2=\"335\" y2=\"654\"/><line x1=\"335\" y1=\"654\" x2=\"272\" y2=\"626\"/><line x1=\"208\" y1=\"599\" x2=\"145\" y2=\"572\"/><line x1=\"145\" y1=\"572\" x2=\"81\" y2=\"544\"/><line x1=\"81\" y1=\"544\" x2=\"43\" y2=\"486\"/><line x1=\"1774\" y1=\"128\" x2=\"1831\" y2=\"167\"/></g><g stroke=\"darkorange\" stroke-dasharray=\"18 15\" stroke-width=\"4\" id=\"detours\" fill=\"none\"><polyline points=\"744 323 895 584 908 903\"/><polyline points=\"744 323 547 560 655 651\"/><polyline points=\"744 323 571 313 397 301\"/><polyline points=\"744 323 505 391 208 599\"/><polyline points=\"744 323 1445 633 1493 583\"/></g><g id=\"DTgrp\"><use href=\"#dt\" x=\"895\" y=\"584\"/><use href=\"#dt\" x=\"547\" y=\"560\"/><use href=\"#dt\" x=\"571\" y=\"313\"/><use href=\"#dt\" x=\"505\" y=\"391\"/><use href=\"#dt\" x=\"1445\" y=\"633\"/></g><g id=\"WTGgrp\"><g fill=\"#aec7e8\"><use href=\"#wtg\" x=\"158\" y=\"367\"/><use href=\"#wtg\" x=\"224\" y=\"288\"/><use href=\"#wtg\" x=\"397\" y=\"301\"/><use href=\"#wtg\" x=\"290\" y=\"210\"/><use href=\"#wtg\" x=\"53\" y=\"78\"/><use href=\"#wtg\" x=\"122\" y=\"80\"/><use href=\"#wtg\" x=\"266\" y=\"458\"/><use href=\"#wtg\" x=\"331\" y=\"379\"/></g><g fill=\"#1f77b4\"><use href=\"#wtg\" x=\"655\" y=\"651\"/><use href=\"#wtg\" x=\"721\" y=\"572\"/><use href=\"#wtg\" x=\"844\" y=\"875\"/><use href=\"#wtg\" x=\"781\" y=\"847\"/><use href=\"#wtg\" x=\"717\" y=\"820\"/><use href=\"#wtg\" x=\"654\" y=\"792\"/><use href=\"#wtg\" x=\"590\" y=\"765\"/></g><g fill=\"#ff7f0e\"><use href=\"#wtg\" x=\"547\" y=\"560\"/><use href=\"#wtg\" x=\"829\" y=\"663\"/><use href=\"#wtg\" x=\"613\" y=\"481\"/><use href=\"#wtg\" x=\"895\" y=\"584\"/><use href=\"#wtg\" x=\"787\" y=\"494\"/><use href=\"#wtg\" x=\"679\" y=\"403\"/></g><g fill=\"#ffbb78\"><use href=\"#wtg\" x=\"1045\" y=\"844\"/><use href=\"#wtg\" x=\"937\" y=\"753\"/><use href=\"#wtg\" x=\"1111\" y=\"765\"/><use href=\"#wtg\" x=\"1003\" y=\"675\"/><use href=\"#wtg\" x=\"1176\" y=\"687\"/><use href=\"#wtg\" x=\"1069\" y=\"596\"/><use href=\"#wtg\" x=\"961\" y=\"505\"/><use href=\"#wtg\" x=\"853\" y=\"415\"/></g><g fill=\"#c49c94\"><use href=\"#wtg\" x=\"463\" y=\"222\"/><use href=\"#wtg\" x=\"469\" y=\"79\"/><use href=\"#wtg\" x=\"538\" y=\"79\"/><use href=\"#wtg\" x=\"608\" y=\"80\"/><use href=\"#wtg\" x=\"677\" y=\"80\"/><use href=\"#wtg\" x=\"747\" y=\"81\"/><use href=\"#wtg\" x=\"571\" y=\"313\"/></g><g fill=\"#2ca02c\"><use href=\"#wtg\" x=\"1308\" y=\"529\"/><use href=\"#wtg\" x=\"1374\" y=\"451\"/><use href=\"#wtg\" x=\"1440\" y=\"373\"/><use href=\"#wtg\" x=\"1506\" y=\"294\"/><use href=\"#wtg\" x=\"1572\" y=\"216\"/><use href=\"#wtg\" x=\"1445\" y=\"633\"/></g><g fill=\"#98df8a\"><use href=\"#wtg\" x=\"1266\" y=\"361\"/><use href=\"#wtg\" x=\"1158\" y=\"270\"/><use href=\"#wtg\" x=\"1332\" y=\"282\"/><use href=\"#wtg\" x=\"1224\" y=\"192\"/><use href=\"#wtg\" x=\"1398\" y=\"204\"/></g><g fill=\"#d62728\"><use href=\"#wtg\" x=\"816\" y=\"81\"/><use href=\"#wtg\" x=\"885\" y=\"82\"/><use href=\"#wtg\" x=\"954\" y=\"82\"/><use href=\"#wtg\" x=\"1024\" y=\"83\"/><use href=\"#wtg\" x=\"1093\" y=\"84\"/><use href=\"#wtg\" x=\"1163\" y=\"84\"/><use href=\"#wtg\" x=\"1232\" y=\"85\"/><use href=\"#wtg\" x=\"1301\" y=\"85\"/></g><g fill=\"#ff9896\"><use href=\"#wtg\" x=\"1371\" y=\"85\"/><use href=\"#wtg\" x=\"1440\" y=\"86\"/><use href=\"#wtg\" x=\"1510\" y=\"87\"/><use href=\"#wtg\" x=\"1579\" y=\"87\"/><use href=\"#wtg\" x=\"1648\" y=\"87\"/><use href=\"#wtg\" x=\"1717\" y=\"88\"/><use href=\"#wtg\" x=\"1774\" y=\"128\"/><use href=\"#wtg\" x=\"1831\" y=\"167\"/></g><g fill=\"#9467bd\"><use href=\"#wtg\" x=\"1836\" y=\"239\"/><use href=\"#wtg\" x=\"1787\" y=\"288\"/><use href=\"#wtg\" x=\"1738\" y=\"337\"/><use href=\"#wtg\" x=\"1689\" y=\"386\"/><use href=\"#wtg\" x=\"1640\" y=\"436\"/><use href=\"#wtg\" x=\"1591\" y=\"484\"/><use href=\"#wtg\" x=\"1542\" y=\"534\"/><use href=\"#wtg\" x=\"1493\" y=\"583\"/></g><g fill=\"#c5b0d5\"><use href=\"#wtg\" x=\"1298\" y=\"779\"/><use href=\"#wtg\" x=\"1249\" y=\"829\"/><use href=\"#wtg\" x=\"1200\" y=\"878\"/><use href=\"#wtg\" x=\"1035\" y=\"957\"/><use href=\"#wtg\" x=\"972\" y=\"930\"/><use href=\"#wtg\" x=\"1102\" y=\"976\"/><use href=\"#wtg\" x=\"908\" y=\"903\"/><use href=\"#wtg\" x=\"1151\" y=\"927\"/></g><g fill=\"#8c564b\"><use href=\"#wtg\" x=\"526\" y=\"737\"/><use href=\"#wtg\" x=\"462\" y=\"710\"/><use href=\"#wtg\" x=\"374\" y=\"548\"/><use href=\"#wtg\" x=\"440\" y=\"469\"/><use href=\"#wtg\" x=\"505\" y=\"391\"/><use href=\"#wtg\" x=\"399\" y=\"681\"/><use href=\"#wtg\" x=\"335\" y=\"654\"/><use href=\"#wtg\" x=\"272\" y=\"626\"/></g><g fill=\"#e377c2\"><use href=\"#wtg\" x=\"45\" y=\"417\"/><use href=\"#wtg\" x=\"47\" y=\"346\"/><use href=\"#wtg\" x=\"48\" y=\"278\"/><use href=\"#wtg\" x=\"50\" y=\"208\"/><use href=\"#wtg\" x=\"208\" y=\"599\"/><use href=\"#wtg\" x=\"145\" y=\"572\"/><use href=\"#wtg\" x=\"81\" y=\"544\"/><use href=\"#wtg\" x=\"43\" y=\"486\"/></g></g><g id=\"OSSgrp\"><use href=\"#oss\" x=\"733.5\" y=\"312.5\"/></g></g><text filter=\"url(#bg_textbox)\" text-anchor=\"end\" font-family=\"sans-serif\" font-size=\"40\" fill=\"white\" x=\"1890\" y=\"998\"><tspan x=\"1890\" dy=\"-0.0em\">&#931;&#955; = 264936 m</tspan><tspan x=\"1890\" dy=\"-1.3em\">(+1) SS1: 13</tspan><tspan x=\"1890\" dy=\"-1.3em\">&#954; = 8, T = 95</tspan></text></svg>"
      ],
      "text/plain": [
       "<optiwindnet.api.WindFarmNetwork at 0x21627b020f0>"
      ]
     },
     "execution_count": 17,
     "metadata": {},
     "output_type": "execute_result"
    }
   ],
   "source": [
    "wfn"
   ]
  },
  {
   "cell_type": "markdown",
   "id": "95ce79c5",
   "metadata": {
    "deletable": true,
    "editable": true,
    "frozen": false
   },
   "source": [
    "> **Note:** When calling `.optimize()` multiple times on the **same** `WindFarmNetwork` instance, the previously stored solution and related information (e.g., network graph, cost, length) will be **overwritten**.\n",
    "> You can verify this by checking the updated total length or by re-plotting the optimized network and comparing it to the earlier result."
   ]
  },
  {
   "cell_type": "markdown",
   "id": "0d00cd7e",
   "metadata": {
    "deletable": true,
    "editable": true,
    "frozen": false
   },
   "source": [
    "#### HGSRouter (fast - radial only solutions)"
   ]
  },
  {
   "cell_type": "code",
   "execution_count": 18,
   "id": "181abc1b",
   "metadata": {
    "deletable": true,
    "editable": true,
    "execution": {
     "iopub.execute_input": "2025-09-17T18:10:04.884402Z",
     "iopub.status.busy": "2025-09-17T18:10:04.884402Z",
     "iopub.status.idle": "2025-09-17T18:10:05.951762Z",
     "shell.execute_reply": "2025-09-17T18:10:05.951762Z",
     "shell.execute_reply.started": "2025-09-17T18:10:04.884402Z"
    },
    "frozen": false
   },
   "outputs": [],
   "source": [
    "res_hgs = wfn.optimize(router=hgs_router)"
   ]
  },
  {
   "cell_type": "code",
   "execution_count": 19,
   "id": "4b66dedb-064c-4708-a4a8-8621db56d88f",
   "metadata": {
    "execution": {
     "iopub.execute_input": "2025-09-17T18:10:05.952771Z",
     "iopub.status.busy": "2025-09-17T18:10:05.952771Z",
     "iopub.status.idle": "2025-09-17T18:10:05.957772Z",
     "shell.execute_reply": "2025-09-17T18:10:05.957772Z",
     "shell.execute_reply.started": "2025-09-17T18:10:05.952771Z"
    }
   },
   "outputs": [
    {
     "data": {
      "text/plain": [
       "{'router': 'HGSRouter',\n",
       " 'capacity': 8,\n",
       " 'solver_name': 'HGS-CVRP',\n",
       " 'feeders_above_min': None,\n",
       " 'complete': False,\n",
       " 'nbGranular': 20,\n",
       " 'mu': 25,\n",
       " 'lambda_': 40,\n",
       " 'nbElite': 4,\n",
       " 'nbClose': 5,\n",
       " 'nbIterPenaltyManagement': 100,\n",
       " 'targetFeasible': 0.2,\n",
       " 'penaltyDecrease': 0.85,\n",
       " 'penaltyIncrease': 1.2,\n",
       " 'seed': 6893757305993552979,\n",
       " 'nbIter': 20000,\n",
       " 'nbIterTraces': 500,\n",
       " 'timeLimit': 1,\n",
       " 'useSwapStar': True,\n",
       " 'runtime': 1.0}"
      ]
     },
     "execution_count": 19,
     "metadata": {},
     "output_type": "execute_result"
    }
   ],
   "source": [
    "wfn.solution_info()"
   ]
  },
  {
   "cell_type": "code",
   "execution_count": 20,
   "id": "ecc63aca",
   "metadata": {
    "deletable": true,
    "editable": true,
    "execution": {
     "iopub.execute_input": "2025-09-17T18:10:05.959935Z",
     "iopub.status.busy": "2025-09-17T18:10:05.958937Z",
     "iopub.status.idle": "2025-09-17T18:10:05.966525Z",
     "shell.execute_reply": "2025-09-17T18:10:05.965514Z",
     "shell.execute_reply.started": "2025-09-17T18:10:05.959935Z"
    },
    "frozen": false
   },
   "outputs": [
    {
     "data": {
      "text/plain": [
       "243311.58718579228"
      ]
     },
     "execution_count": 20,
     "metadata": {},
     "output_type": "execute_result"
    }
   ],
   "source": [
    "wfn.length()"
   ]
  },
  {
   "cell_type": "markdown",
   "id": "ce5e9095",
   "metadata": {
    "deletable": true,
    "editable": true,
    "frozen": false
   },
   "source": [
    "> Note that with `HGSRouter`,  the optimized network has a *radial topology*, forming a single connected tree without any subtree (`HGSRouter`produces *radial-topology* networks)."
   ]
  },
  {
   "cell_type": "code",
   "execution_count": 21,
   "id": "02a617ed",
   "metadata": {
    "deletable": true,
    "editable": true,
    "execution": {
     "iopub.execute_input": "2025-09-17T18:10:05.967528Z",
     "iopub.status.busy": "2025-09-17T18:10:05.966525Z",
     "iopub.status.idle": "2025-09-17T18:10:05.976960Z",
     "shell.execute_reply": "2025-09-17T18:10:05.975951Z",
     "shell.execute_reply.started": "2025-09-17T18:10:05.967528Z"
    },
    "frozen": false
   },
   "outputs": [
    {
     "data": {
      "image/svg+xml": [
       "<svg xmlns=\"http://www.w3.org/2000/svg\" viewBox=\"0 0 1920 1028\"><defs><circle stroke=\"none\" stroke-width=\"2\" id=\"wtg\" r=\"12\"/><rect stroke=\"#111\" stroke-width=\"2\" id=\"oss\" width=\"21\" height=\"21\" fill=\"lawngreen\"/><filter x=\"-5%\" y=\"-5%\" id=\"bg_textbox\" width=\"110%\" height=\"110%\"><feFlood flood-opacity=\"0.6\" flood-color=\"black\" result=\"bg\"/><feMerge><feMergeNode in=\"bg\"/><feMergeNode in=\"SourceGraphic\"/></feMerge></filter></defs><g id=\"doggerA\"><path stroke=\"silver\" stroke-dasharray=\"15 7\" stroke-width=\"2\" id=\"border\" d=\"M1098 998 30 535 42 30 1727 39 1890 202z\" fill-rule=\"evenodd\" fill=\"#111\"/><g stroke=\"crimson\" stroke-width=\"4\" id=\"edges_unspecified\"><line x1=\"744\" y1=\"323\" x2=\"571\" y2=\"313\"/><line x1=\"397\" y1=\"301\" x2=\"571\" y2=\"313\"/><line x1=\"397\" y1=\"301\" x2=\"331\" y2=\"379\"/><line x1=\"266\" y1=\"458\" x2=\"331\" y2=\"379\"/><line x1=\"158\" y1=\"367\" x2=\"266\" y2=\"458\"/><line x1=\"158\" y1=\"367\" x2=\"47\" y2=\"346\"/><line x1=\"45\" y1=\"417\" x2=\"47\" y2=\"346\"/><line x1=\"45\" y1=\"417\" x2=\"43\" y2=\"486\"/><line x1=\"744\" y1=\"323\" x2=\"787\" y2=\"494\"/><line x1=\"744\" y1=\"323\" x2=\"853\" y2=\"415\"/><line x1=\"744\" y1=\"323\" x2=\"954\" y2=\"82\"/><line x1=\"744\" y1=\"323\" x2=\"679\" y2=\"403\"/><line x1=\"744\" y1=\"323\" x2=\"1158\" y2=\"270\"/><line x1=\"744\" y1=\"323\" x2=\"1224\" y2=\"192\"/><line x1=\"744\" y1=\"323\" x2=\"1266\" y2=\"361\"/><line x1=\"744\" y1=\"323\" x2=\"1024\" y2=\"83\"/><line x1=\"744\" y1=\"323\" x2=\"463\" y2=\"222\"/><line x1=\"744\" y1=\"323\" x2=\"895\" y2=\"584\"/><line x1=\"744\" y1=\"323\" x2=\"505\" y2=\"391\"/><line x1=\"440\" y1=\"469\" x2=\"505\" y2=\"391\"/><line x1=\"374\" y1=\"548\" x2=\"440\" y2=\"469\"/><line x1=\"374\" y1=\"548\" x2=\"335\" y2=\"654\"/><line x1=\"335\" y1=\"654\" x2=\"272\" y2=\"626\"/><line x1=\"272\" y1=\"626\" x2=\"208\" y2=\"599\"/><line x1=\"208\" y1=\"599\" x2=\"145\" y2=\"572\"/><line x1=\"145\" y1=\"572\" x2=\"81\" y2=\"544\"/><line x1=\"613\" y1=\"481\" x2=\"679\" y2=\"403\"/><line x1=\"547\" y1=\"560\" x2=\"613\" y2=\"481\"/><line x1=\"547\" y1=\"560\" x2=\"399\" y2=\"681\"/><line x1=\"462\" y1=\"710\" x2=\"399\" y2=\"681\"/><line x1=\"526\" y1=\"737\" x2=\"462\" y2=\"710\"/><line x1=\"590\" y1=\"765\" x2=\"526\" y2=\"737\"/><line x1=\"654\" y1=\"792\" x2=\"590\" y2=\"765\"/><line x1=\"721\" y1=\"572\" x2=\"787\" y2=\"494\"/><line x1=\"655\" y1=\"651\" x2=\"721\" y2=\"572\"/><line x1=\"655\" y1=\"651\" x2=\"717\" y2=\"820\"/><line x1=\"781\" y1=\"847\" x2=\"717\" y2=\"820\"/><line x1=\"844\" y1=\"875\" x2=\"781\" y2=\"847\"/><line x1=\"844\" y1=\"875\" x2=\"908\" y2=\"903\"/><line x1=\"972\" y1=\"930\" x2=\"908\" y2=\"903\"/><line x1=\"829\" y1=\"663\" x2=\"895\" y2=\"584\"/><line x1=\"937\" y1=\"753\" x2=\"829\" y2=\"663\"/><line x1=\"937\" y1=\"753\" x2=\"1003\" y2=\"675\"/><line x1=\"1111\" y1=\"765\" x2=\"1003\" y2=\"675\"/><line x1=\"1045\" y1=\"844\" x2=\"1111\" y2=\"765\"/><line x1=\"1045\" y1=\"844\" x2=\"1035\" y2=\"957\"/><line x1=\"1035\" y1=\"957\" x2=\"1102\" y2=\"976\"/><line x1=\"961\" y1=\"505\" x2=\"853\" y2=\"415\"/><line x1=\"1069\" y1=\"596\" x2=\"961\" y2=\"505\"/><line x1=\"1176\" y1=\"687\" x2=\"1069\" y2=\"596\"/><line x1=\"1176\" y1=\"687\" x2=\"1298\" y2=\"779\"/><line x1=\"1298\" y1=\"779\" x2=\"1249\" y2=\"829\"/><line x1=\"1249\" y1=\"829\" x2=\"1200\" y2=\"878\"/><line x1=\"1200\" y1=\"878\" x2=\"1151\" y2=\"927\"/><line x1=\"1374\" y1=\"451\" x2=\"1266\" y2=\"361\"/><line x1=\"1308\" y1=\"529\" x2=\"1374\" y2=\"451\"/><line x1=\"1308\" y1=\"529\" x2=\"1445\" y2=\"633\"/><line x1=\"1493\" y1=\"583\" x2=\"1445\" y2=\"633\"/><line x1=\"1542\" y1=\"534\" x2=\"1493\" y2=\"583\"/><line x1=\"1591\" y1=\"484\" x2=\"1542\" y2=\"534\"/><line x1=\"1640\" y1=\"436\" x2=\"1591\" y2=\"484\"/><line x1=\"1158\" y1=\"270\" x2=\"1332\" y2=\"282\"/><line x1=\"1440\" y1=\"373\" x2=\"1332\" y2=\"282\"/><line x1=\"1440\" y1=\"373\" x2=\"1506\" y2=\"294\"/><line x1=\"1506\" y1=\"294\" x2=\"1689\" y2=\"386\"/><line x1=\"1738\" y1=\"337\" x2=\"1689\" y2=\"386\"/><line x1=\"1787\" y1=\"288\" x2=\"1738\" y2=\"337\"/><line x1=\"1836\" y1=\"239\" x2=\"1787\" y2=\"288\"/><line x1=\"1224\" y1=\"192\" x2=\"1398\" y2=\"204\"/><line x1=\"1398\" y1=\"204\" x2=\"1572\" y2=\"216\"/><line x1=\"1572\" y1=\"216\" x2=\"1579\" y2=\"87\"/><line x1=\"1579\" y1=\"87\" x2=\"1648\" y2=\"87\"/><line x1=\"1648\" y1=\"87\" x2=\"1717\" y2=\"88\"/><line x1=\"1717\" y1=\"88\" x2=\"1774\" y2=\"128\"/><line x1=\"1774\" y1=\"128\" x2=\"1831\" y2=\"167\"/><line x1=\"1024\" y1=\"83\" x2=\"1093\" y2=\"84\"/><line x1=\"1093\" y1=\"84\" x2=\"1163\" y2=\"84\"/><line x1=\"1163\" y1=\"84\" x2=\"1232\" y2=\"85\"/><line x1=\"1232\" y1=\"85\" x2=\"1301\" y2=\"85\"/><line x1=\"1301\" y1=\"85\" x2=\"1371\" y2=\"85\"/><line x1=\"1371\" y1=\"85\" x2=\"1440\" y2=\"86\"/><line x1=\"1440\" y1=\"86\" x2=\"1510\" y2=\"87\"/><line x1=\"885\" y1=\"82\" x2=\"954\" y2=\"82\"/><line x1=\"816\" y1=\"81\" x2=\"885\" y2=\"82\"/><line x1=\"747\" y1=\"81\" x2=\"816\" y2=\"81\"/><line x1=\"677\" y1=\"80\" x2=\"747\" y2=\"81\"/><line x1=\"608\" y1=\"80\" x2=\"677\" y2=\"80\"/><line x1=\"538\" y1=\"79\" x2=\"608\" y2=\"80\"/><line x1=\"469\" y1=\"79\" x2=\"538\" y2=\"79\"/><line x1=\"290\" y1=\"210\" x2=\"463\" y2=\"222\"/><line x1=\"224\" y1=\"288\" x2=\"290\" y2=\"210\"/><line x1=\"224\" y1=\"288\" x2=\"48\" y2=\"278\"/><line x1=\"48\" y1=\"278\" x2=\"50\" y2=\"208\"/><line x1=\"50\" y1=\"208\" x2=\"53\" y2=\"78\"/><line x1=\"53\" y1=\"78\" x2=\"122\" y2=\"80\"/></g><g id=\"WTGgrp\"><g fill=\"#1f77b4\"><use href=\"#wtg\" x=\"571\" y=\"313\"/><use href=\"#wtg\" x=\"397\" y=\"301\"/><use href=\"#wtg\" x=\"331\" y=\"379\"/><use href=\"#wtg\" x=\"266\" y=\"458\"/><use href=\"#wtg\" x=\"158\" y=\"367\"/><use href=\"#wtg\" x=\"47\" y=\"346\"/><use href=\"#wtg\" x=\"45\" y=\"417\"/><use href=\"#wtg\" x=\"43\" y=\"486\"/></g><g fill=\"#aec7e8\"><use href=\"#wtg\" x=\"505\" y=\"391\"/><use href=\"#wtg\" x=\"440\" y=\"469\"/><use href=\"#wtg\" x=\"374\" y=\"548\"/><use href=\"#wtg\" x=\"335\" y=\"654\"/><use href=\"#wtg\" x=\"272\" y=\"626\"/><use href=\"#wtg\" x=\"208\" y=\"599\"/><use href=\"#wtg\" x=\"145\" y=\"572\"/><use href=\"#wtg\" x=\"81\" y=\"544\"/></g><g fill=\"#ff7f0e\"><use href=\"#wtg\" x=\"679\" y=\"403\"/><use href=\"#wtg\" x=\"613\" y=\"481\"/><use href=\"#wtg\" x=\"547\" y=\"560\"/><use href=\"#wtg\" x=\"399\" y=\"681\"/><use href=\"#wtg\" x=\"462\" y=\"710\"/><use href=\"#wtg\" x=\"526\" y=\"737\"/><use href=\"#wtg\" x=\"590\" y=\"765\"/><use href=\"#wtg\" x=\"654\" y=\"792\"/></g><g fill=\"#ffbb78\"><use href=\"#wtg\" x=\"787\" y=\"494\"/><use href=\"#wtg\" x=\"721\" y=\"572\"/><use href=\"#wtg\" x=\"655\" y=\"651\"/><use href=\"#wtg\" x=\"717\" y=\"820\"/><use href=\"#wtg\" x=\"781\" y=\"847\"/><use href=\"#wtg\" x=\"844\" y=\"875\"/><use href=\"#wtg\" x=\"908\" y=\"903\"/><use href=\"#wtg\" x=\"972\" y=\"930\"/></g><g fill=\"#2ca02c\"><use href=\"#wtg\" x=\"895\" y=\"584\"/><use href=\"#wtg\" x=\"829\" y=\"663\"/><use href=\"#wtg\" x=\"937\" y=\"753\"/><use href=\"#wtg\" x=\"1003\" y=\"675\"/><use href=\"#wtg\" x=\"1111\" y=\"765\"/><use href=\"#wtg\" x=\"1045\" y=\"844\"/><use href=\"#wtg\" x=\"1035\" y=\"957\"/><use href=\"#wtg\" x=\"1102\" y=\"976\"/></g><g fill=\"#98df8a\"><use href=\"#wtg\" x=\"853\" y=\"415\"/><use href=\"#wtg\" x=\"961\" y=\"505\"/><use href=\"#wtg\" x=\"1069\" y=\"596\"/><use href=\"#wtg\" x=\"1176\" y=\"687\"/><use href=\"#wtg\" x=\"1298\" y=\"779\"/><use href=\"#wtg\" x=\"1249\" y=\"829\"/><use href=\"#wtg\" x=\"1200\" y=\"878\"/><use href=\"#wtg\" x=\"1151\" y=\"927\"/></g><g fill=\"#d62728\"><use href=\"#wtg\" x=\"1266\" y=\"361\"/><use href=\"#wtg\" x=\"1374\" y=\"451\"/><use href=\"#wtg\" x=\"1308\" y=\"529\"/><use href=\"#wtg\" x=\"1445\" y=\"633\"/><use href=\"#wtg\" x=\"1493\" y=\"583\"/><use href=\"#wtg\" x=\"1542\" y=\"534\"/><use href=\"#wtg\" x=\"1591\" y=\"484\"/><use href=\"#wtg\" x=\"1640\" y=\"436\"/></g><g fill=\"#ff9896\"><use href=\"#wtg\" x=\"1158\" y=\"270\"/><use href=\"#wtg\" x=\"1332\" y=\"282\"/><use href=\"#wtg\" x=\"1440\" y=\"373\"/><use href=\"#wtg\" x=\"1506\" y=\"294\"/><use href=\"#wtg\" x=\"1689\" y=\"386\"/><use href=\"#wtg\" x=\"1738\" y=\"337\"/><use href=\"#wtg\" x=\"1787\" y=\"288\"/><use href=\"#wtg\" x=\"1836\" y=\"239\"/></g><g fill=\"#9467bd\"><use href=\"#wtg\" x=\"1224\" y=\"192\"/><use href=\"#wtg\" x=\"1398\" y=\"204\"/><use href=\"#wtg\" x=\"1572\" y=\"216\"/><use href=\"#wtg\" x=\"1579\" y=\"87\"/><use href=\"#wtg\" x=\"1648\" y=\"87\"/><use href=\"#wtg\" x=\"1717\" y=\"88\"/><use href=\"#wtg\" x=\"1774\" y=\"128\"/><use href=\"#wtg\" x=\"1831\" y=\"167\"/></g><g fill=\"#c5b0d5\"><use href=\"#wtg\" x=\"1024\" y=\"83\"/><use href=\"#wtg\" x=\"1093\" y=\"84\"/><use href=\"#wtg\" x=\"1163\" y=\"84\"/><use href=\"#wtg\" x=\"1232\" y=\"85\"/><use href=\"#wtg\" x=\"1301\" y=\"85\"/><use href=\"#wtg\" x=\"1371\" y=\"85\"/><use href=\"#wtg\" x=\"1440\" y=\"86\"/><use href=\"#wtg\" x=\"1510\" y=\"87\"/></g><g fill=\"#8c564b\"><use href=\"#wtg\" x=\"954\" y=\"82\"/><use href=\"#wtg\" x=\"885\" y=\"82\"/><use href=\"#wtg\" x=\"816\" y=\"81\"/><use href=\"#wtg\" x=\"747\" y=\"81\"/><use href=\"#wtg\" x=\"677\" y=\"80\"/><use href=\"#wtg\" x=\"608\" y=\"80\"/><use href=\"#wtg\" x=\"538\" y=\"79\"/><use href=\"#wtg\" x=\"469\" y=\"79\"/></g><g fill=\"#c49c94\"><use href=\"#wtg\" x=\"463\" y=\"222\"/><use href=\"#wtg\" x=\"290\" y=\"210\"/><use href=\"#wtg\" x=\"224\" y=\"288\"/><use href=\"#wtg\" x=\"48\" y=\"278\"/><use href=\"#wtg\" x=\"50\" y=\"208\"/><use href=\"#wtg\" x=\"53\" y=\"78\"/><use href=\"#wtg\" x=\"122\" y=\"80\"/></g></g><g id=\"OSSgrp\"><use href=\"#oss\" x=\"733.5\" y=\"312.5\"/></g></g><text filter=\"url(#bg_textbox)\" text-anchor=\"end\" font-family=\"sans-serif\" font-size=\"40\" fill=\"white\" x=\"1890\" y=\"998\"><tspan x=\"1890\" dy=\"-0.0em\">&#931;&#955; = 243312 m</tspan><tspan x=\"1890\" dy=\"-1.3em\">(+0) SS1: 12</tspan><tspan x=\"1890\" dy=\"-1.3em\">&#954; = 8, T = 95</tspan></text></svg>"
      ],
      "text/plain": [
       "<optiwindnet.api.WindFarmNetwork at 0x21627b020f0>"
      ]
     },
     "execution_count": 21,
     "metadata": {},
     "output_type": "execute_result"
    }
   ],
   "source": [
    "wfn"
   ]
  },
  {
   "cell_type": "markdown",
   "id": "fb0f3edb",
   "metadata": {
    "deletable": true,
    "editable": true,
    "frozen": false
   },
   "source": [
    "#### MILPRouter"
   ]
  },
  {
   "cell_type": "markdown",
   "id": "5040c87d",
   "metadata": {
    "deletable": true,
    "editable": true,
    "frozen": false
   },
   "source": [
    "\n",
    "(high-quality solutions with guarantees, may take several minutes)"
   ]
  },
  {
   "cell_type": "markdown",
   "id": "f421ae7d",
   "metadata": {
    "deletable": true,
    "editable": true,
    "frozen": false
   },
   "source": [
    "> Note:\n",
    "> * if a `WindFarmNetwork` already has a solution, `MILPRouter` will use it as a warm start.\n",
    "> * To avoid warm-starting, create a **new** `WindFarmNetwork` and run MILP directly.  \n",
    "> * Set `verbose=True` to see warm-start messages in the logs (The log messages of the MILP router provide information about warm-start).\n"
   ]
  },
  {
   "cell_type": "code",
   "execution_count": 22,
   "id": "64e22c2f-1339-48b6-86a8-635874e8b382",
   "metadata": {
    "deletable": true,
    "editable": true,
    "execution": {
     "iopub.execute_input": "2025-09-17T18:10:05.976960Z",
     "iopub.status.busy": "2025-09-17T18:10:05.976960Z",
     "iopub.status.idle": "2025-09-17T18:10:26.233109Z",
     "shell.execute_reply": "2025-09-17T18:10:26.232585Z",
     "shell.execute_reply.started": "2025-09-17T18:10:05.976960Z"
    },
    "frozen": false,
    "scrolled": true
   },
   "outputs": [
    {
     "name": "stdout",
     "output_type": "stream",
     "text": [
      "Using warm start: the model is initialized with the provided solution S.\n",
      "\n",
      "\n",
      "Starting CP-SAT solver v9.14.6206\n",
      "Parameters: max_time_in_seconds: 20 log_search_progress: true relative_gap_limit: 0.005\n",
      "Setting number of workers to 16\n",
      "\n",
      "Initial optimization model '': (model_fingerprint: 0x883d0ea4bfef9250)\n",
      "#Variables: 1'690 (#bools: 845 in floating point objective) (1'500 primary variables)\n",
      "  - 845 Booleans in [0,1]\n",
      "  - 750 in [0,7]\n",
      "  - 95 in [0,8]\n",
      "#kAtMostOne: 635 (#literals: 1'926)\n",
      "#kLinear1: 1'690 (#enforced: 1'690)\n",
      "#kLinear3: 4\n",
      "#kLinearN: 284 (#terms: 4'213)\n",
      "\n",
      "Starting presolve at 0.00s\n",
      "The solution hint is complete and is feasible.\n",
      "[Scaling] Floating point objective has 845 terms with magnitude in [1409.66, 22631.9] average = 4594.28\n",
      "[Scaling] Objective coefficient relative error: 1.60816e-10\n",
      "[Scaling] Objective worst-case absolute error: 5.3597e-05\n",
      "[Scaling] Objective scaling factor: 2.09715e+06\n",
      "  6.47e-04s  0.00e+00d  [DetectDominanceRelations] \n",
      "  1.20e-02s  0.00e+00d  [operations_research::sat::CpModelPresolver::PresolveToFixPoint] #num_loops=2 #num_dual_strengthening=1 \n",
      "  1.05e-04s  0.00e+00d  [operations_research::sat::CpModelPresolver::ExtractEncodingFromLinear] #potential_supersets=730 \n",
      "  4.94e-04s  0.00e+00d  [operations_research::sat::CpModelPresolver::DetectDuplicateColumns] \n",
      "  3.98e-04s  0.00e+00d  [operations_research::sat::CpModelPresolver::DetectDuplicateConstraints] \n",
      "[Symmetry] Graph for symmetry has 6'328 nodes and 11'931 arcs.\n",
      "[Symmetry] Symmetry computation done. time: 0.0011028 dtime: 0.00115685\n",
      "  4.55e-04s  0.00e+00d  [operations_research::sat::CpModelPresolver::DetectDuplicateConstraintsWithDifferentEnforcements] \n",
      "  1.17e-02s  3.73e-03d  [operations_research::sat::CpModelPresolver::Probe] #probed=1'690 \n",
      "  1.07e-03s  3.79e-04d  [MaxClique] Merged 635(1'926 literals) into 330(1'316 literals) at_most_ones. \n",
      "  4.28e-04s  0.00e+00d  [DetectDominanceRelations] \n",
      "  3.96e-03s  0.00e+00d  [operations_research::sat::CpModelPresolver::PresolveToFixPoint] #num_loops=1 #num_dual_strengthening=1 \n",
      "  4.95e-04s  0.00e+00d  [operations_research::sat::CpModelPresolver::ProcessAtMostOneAndLinear] \n",
      "  6.09e-04s  0.00e+00d  [operations_research::sat::CpModelPresolver::DetectDuplicateConstraints] \n",
      "  4.28e-04s  0.00e+00d  [operations_research::sat::CpModelPresolver::DetectDuplicateConstraintsWithDifferentEnforcements] \n",
      "  8.40e-04s  1.43e-05d  [operations_research::sat::CpModelPresolver::DetectDominatedLinearConstraints] #relevant_constraints=193 #num_inclusions=96 \n",
      "  5.72e-05s  0.00e+00d  [operations_research::sat::CpModelPresolver::DetectDifferentVariables] \n",
      "  8.45e-03s  3.72e-04d  [operations_research::sat::CpModelPresolver::ProcessSetPPC] #relevant_constraints=427 #num_inclusions=425 \n",
      "  8.81e-05s  0.00e+00d  [operations_research::sat::CpModelPresolver::FindAlmostIdenticalLinearConstraints] \n",
      "  1.15e-03s  2.83e-04d  [operations_research::sat::CpModelPresolver::FindBigAtMostOneAndLinearOverlap] \n",
      "  5.13e-04s  3.25e-04d  [operations_research::sat::CpModelPresolver::FindBigVerticalLinearOverlap] \n",
      "  9.05e-05s  1.24e-05d  [operations_research::sat::CpModelPresolver::FindBigHorizontalLinearOverlap] #linears=179 \n",
      "  3.83e-05s  0.00e+00d  [operations_research::sat::CpModelPresolver::MergeClauses] \n",
      "  5.84e-04s  0.00e+00d  [DetectDominanceRelations] \n",
      "  4.42e-03s  0.00e+00d  [operations_research::sat::CpModelPresolver::PresolveToFixPoint] #num_loops=1 #num_dual_strengthening=1 \n",
      "  6.51e-04s  0.00e+00d  [DetectDominanceRelations] \n",
      "  5.20e-03s  0.00e+00d  [operations_research::sat::CpModelPresolver::PresolveToFixPoint] #num_loops=1 #num_dual_strengthening=1 \n",
      "  2.40e-04s  0.00e+00d  [operations_research::sat::CpModelPresolver::DetectDuplicateColumns] \n",
      "  4.35e-04s  0.00e+00d  [operations_research::sat::CpModelPresolver::DetectDuplicateConstraints] \n",
      "[Symmetry] Graph for symmetry has 5'717 nodes and 9'866 arcs.\n",
      "[Symmetry] Symmetry computation done. time: 0.0008437 dtime: 0.00104489\n",
      "[SAT presolve] num removable Booleans: 0 / 845\n",
      "[SAT presolve] num trivial clauses: 0\n",
      "[SAT presolve] [0s] clauses:70 literals:140 vars:140 one_side_vars:140 simple_definition:0 singleton_clauses:0\n",
      "[SAT presolve] [0.0003402s] clauses:70 literals:140 vars:140 one_side_vars:140 simple_definition:0 singleton_clauses:0\n",
      "[SAT presolve] [0.0004212s] clauses:70 literals:140 vars:140 one_side_vars:140 simple_definition:0 singleton_clauses:0\n",
      "  5.37e-04s  0.00e+00d  [operations_research::sat::CpModelPresolver::DetectDuplicateConstraintsWithDifferentEnforcements] \n",
      "  1.23e-02s  3.45e-03d  [operations_research::sat::CpModelPresolver::Probe] #probed=1'690 \n",
      "  6.40e-04s  3.69e-04d  [MaxClique] \n",
      "  4.59e-04s  0.00e+00d  [DetectDominanceRelations] \n",
      "  6.13e-03s  0.00e+00d  [operations_research::sat::CpModelPresolver::PresolveToFixPoint] #num_loops=1 #num_dual_strengthening=1 \n",
      "  4.16e-04s  0.00e+00d  [operations_research::sat::CpModelPresolver::ProcessAtMostOneAndLinear] \n",
      "  3.74e-04s  0.00e+00d  [operations_research::sat::CpModelPresolver::DetectDuplicateConstraints] \n",
      "  3.41e-04s  0.00e+00d  [operations_research::sat::CpModelPresolver::DetectDuplicateConstraintsWithDifferentEnforcements] \n",
      "  4.72e-04s  1.07e-05d  [operations_research::sat::CpModelPresolver::DetectDominatedLinearConstraints] #relevant_constraints=192 #num_inclusions=95 \n",
      "  7.17e-05s  0.00e+00d  [operations_research::sat::CpModelPresolver::DetectDifferentVariables] \n",
      "  4.48e-04s  6.76e-06d  [operations_research::sat::CpModelPresolver::ProcessSetPPC] #relevant_constraints=426 \n",
      "  8.32e-05s  0.00e+00d  [operations_research::sat::CpModelPresolver::FindAlmostIdenticalLinearConstraints] \n",
      "  1.47e-03s  2.79e-04d  [operations_research::sat::CpModelPresolver::FindBigAtMostOneAndLinearOverlap] \n",
      "  5.41e-04s  3.25e-04d  [operations_research::sat::CpModelPresolver::FindBigVerticalLinearOverlap] \n",
      "  1.92e-04s  1.24e-05d  [operations_research::sat::CpModelPresolver::FindBigHorizontalLinearOverlap] #linears=179 \n",
      "  4.45e-05s  0.00e+00d  [operations_research::sat::CpModelPresolver::MergeClauses] \n",
      "  5.61e-04s  0.00e+00d  [DetectDominanceRelations] \n",
      "  6.51e-03s  0.00e+00d  [operations_research::sat::CpModelPresolver::PresolveToFixPoint] #num_loops=1 #num_dual_strengthening=1 \n",
      "  6.51e-04s  0.00e+00d  [operations_research::sat::CpModelPresolver::ExpandObjective] #entries=7'754 #tight_variables=845 #tight_constraints=95 \n",
      "\n",
      "Presolve summary:\n",
      "  - 0 affine relations were detected.\n",
      "  - rule 'TODO linear inclusion: superset is equality' was applied 191 times.\n",
      "  - rule 'at_most_one: transformed into max clique.' was applied 1 time.\n",
      "  - rule 'deductions: 1690 stored' was applied 1 time.\n",
      "  - rule 'exactly_one: simplified objective' was applied 95 times.\n",
      "  - rule 'linear: positive equal one' was applied 95 times.\n",
      "  - rule 'objective: shifted cost with exactly ones' was applied 95 times.\n",
      "  - rule 'presolve: 0 unused variables removed.' was applied 1 time.\n",
      "  - rule 'presolve: iteration' was applied 2 times.\n",
      "  - rule 'setppc: exactly_one included in linear' was applied 95 times.\n",
      "  - rule 'setppc: reduced linear coefficients' was applied 94 times.\n",
      "  - rule 'setppc: removed trivial linear constraint' was applied 1 time.\n",
      "  - rule 'variables: detect fully reified value encoding' was applied 845 times.\n",
      "  - rule 'variables: detect half reified value encoding' was applied 1'690 times.\n",
      "\n",
      "Presolved optimization model '': (model_fingerprint: 0x988de63819a82e82)\n",
      "#Variables: 1'690 (#bools: 750 in objective) (1'500 primary variables)\n",
      "  - 845 Booleans in [0,1]\n",
      "  - 750 in [0,7]\n",
      "  - 95 in [0,8]\n",
      "#kAtMostOne: 260 (#literals: 1'176)\n",
      "#kBoolAnd: 70 (#enforced: 70) (#literals: 140)\n",
      "#kExactlyOne: 95 (#literals: 845)\n",
      "#kLinear1: 1'690 (#enforced: 1'690)\n",
      "#kLinear3: 4\n",
      "#kLinearN: 188 (#terms: 2'523)\n",
      "[Symmetry] Graph for symmetry has 5'717 nodes and 9'866 arcs.\n",
      "[Symmetry] Symmetry computation done. time: 0.0012072 dtime: 0.00104362\n",
      "\n",
      "Preloading model.\n",
      "#Bound   0.12s best:inf   next:[160817.074,2309766.32] initial_domain\n",
      "#1       0.12s best:243311.587 next:[160817.074,243311.587] complete_hint\n",
      "#Model   0.12s var:1690/1690 constraints:2307/2307\n",
      "\n",
      "Starting search at 0.13s with 16 workers.\n",
      "11 full problem subsolvers: [core, default_lp, lb_tree_search, max_lp, no_lp, objective_lb_search, probing, pseudo_costs, quick_restart, quick_restart_no_lp, reduced_costs]\n",
      "5 first solution subsolvers: [fj(2), fs_random, fs_random_no_lp, fs_random_quick_restart_no_lp]\n",
      "11 interleaved subsolvers: [feasibility_pump, graph_arc_lns, graph_cst_lns, graph_dec_lns, graph_var_lns, lb_relax_lns, ls, ls_lin, rins/rens, rnd_cst_lns, rnd_var_lns]\n",
      "3 helper subsolvers: [neighborhood_helper, synchronization_agent, update_gap_integral]\n",
      "\n",
      "#Bound   0.18s best:243311.587 next:[162472.38,243311.587] am1_presolve (num_literals=750 num_am1=34 increase=3471428032 work_done=2720)\n",
      "#Bound   0.20s best:243311.587 next:[188354.862,243311.587] objective_lb_search\n",
      "#Bound   0.20s best:243311.587 next:[189781.728,243311.587] pseudo_costs\n",
      "#2       0.23s best:243295.975 next:[189781.728,243295.975] quick_restart_no_lp (fixed_bools=0/845)\n",
      "#Bound   0.24s best:243295.975 next:[189787.863,243295.975] reduced_costs\n",
      "#Bound   0.26s best:243295.975 next:[189880.947,243295.975] pseudo_costs\n",
      "#Bound   0.26s best:243295.975 next:[223973.897,243295.975] lb_tree_search\n",
      "#3       0.26s best:243295.34 next:[223973.897,243295.34] quick_restart_no_lp (fixed_bools=0/869)\n",
      "#Bound   0.42s best:243295.34 next:[225492.229,243295.34] lb_tree_search\n",
      "#Bound   0.61s best:243295.34 next:[226273.297,243295.34] lb_tree_search\n",
      "#4       0.77s best:242451.446 next:[226273.297,242451.446] rins_lp_lns (d=5.00e-01 s=23 t=0.10 p=0.00 stall=0 h=base)\n",
      "#Bound   0.84s best:242451.446 next:[226563.242,242451.446] lb_tree_search\n",
      "#Bound   1.08s best:242451.446 next:[226957.188,242451.446] lb_tree_search\n",
      "#Bound   1.13s best:242451.446 next:[226990.815,242451.446] max_lp\n",
      "#5       1.22s best:241897.988 next:[226990.815,241897.988] rnd_var_lns (d=8.14e-01 s=30 t=0.10 p=1.00 stall=2 h=base)\n",
      "#Bound   1.46s best:241897.988 next:[227472.946,241897.988] max_lp\n",
      "#6       1.57s best:241489.68 next:[227472.946,241489.68] graph_arc_lns (d=2.93e-01 s=37 t=0.10 p=0.00 stall=1 h=base)\n",
      "#Bound   2.46s best:241489.68 next:[227789.346,241489.68] max_lp\n",
      "#7       2.57s best:241312.653 next:[227789.346,241312.653] rnd_var_lns (d=8.08e-01 s=51 t=0.10 p=0.75 stall=1 h=base)\n",
      "#8       3.09s best:240950.632 next:[227789.346,240950.632] graph_arc_lns (d=4.81e-01 s=60 t=0.10 p=0.50 stall=2 h=base)\n",
      "#9       4.31s best:240742.123 next:[227789.346,240742.123] graph_var_lns (d=7.19e-01 s=83 t=0.10 p=0.57 stall=7 h=base)\n",
      "#Bound   4.48s best:240742.123 next:[228049.025,240742.123] max_lp\n",
      "#Bound   5.73s best:240742.123 next:[228160.267,240742.123] max_lp\n",
      "#Bound   5.99s best:240742.123 next:[228175.988,240742.123] lb_tree_search\n",
      "#Bound   7.03s best:240742.123 next:[228286.344,240742.123] max_lp\n",
      "#Bound   7.46s best:240742.123 next:[228321.314,240742.123] lb_tree_search\n",
      "#Bound   8.57s best:240742.123 next:[228417.477,240742.123] max_lp\n",
      "#Bound  10.14s best:240742.123 next:[228614.334,240742.123] max_lp\n",
      "#Bound  11.91s best:240742.123 next:[228738.9,240742.123] lb_tree_search\n",
      "#Bound  13.38s best:240742.123 next:[228804.306,240742.123] lb_tree_search\n",
      "#Bound  14.98s best:240742.123 next:[228910.601,240742.123] lb_tree_search\n",
      "#Bound  16.66s best:240742.123 next:[229020.36,240742.123] lb_tree_search\n",
      "#Bound  18.39s best:240742.123 next:[229074.004,240742.123] lb_tree_search\n",
      "\n",
      "Task timing                                n [     min,      max]      avg      dev     time         n [     min,      max]      avg      dev    dtime\n",
      "                           'core':         1 [  19.87s,   19.87s]   19.87s   0.00ns   19.87s         1 [  12.70s,   12.70s]   12.70s   0.00ns   12.70s\n",
      "                     'default_lp':         1 [  19.91s,   19.91s]   19.91s   0.00ns   19.91s         1 [   5.92s,    5.92s]    5.92s   0.00ns    5.92s\n",
      "               'feasibility_pump':        19 [ 17.23ms, 706.69ms] 468.24ms 145.30ms    8.90s        18 [163.16ms, 322.49ms] 223.59ms  43.57ms    4.02s\n",
      "                             'fj':         0 [  0.00ns,   0.00ns]   0.00ns   0.00ns   0.00ns         0 [  0.00ns,   0.00ns]   0.00ns   0.00ns   0.00ns\n",
      "                             'fj':         0 [  0.00ns,   0.00ns]   0.00ns   0.00ns   0.00ns         0 [  0.00ns,   0.00ns]   0.00ns   0.00ns   0.00ns\n",
      "                      'fs_random':         0 [  0.00ns,   0.00ns]   0.00ns   0.00ns   0.00ns         0 [  0.00ns,   0.00ns]   0.00ns   0.00ns   0.00ns\n",
      "                'fs_random_no_lp':         0 [  0.00ns,   0.00ns]   0.00ns   0.00ns   0.00ns         0 [  0.00ns,   0.00ns]   0.00ns   0.00ns   0.00ns\n",
      "  'fs_random_quick_restart_no_lp':         0 [  0.00ns,   0.00ns]   0.00ns   0.00ns   0.00ns         0 [  0.00ns,   0.00ns]   0.00ns   0.00ns   0.00ns\n",
      "                  'graph_arc_lns':        36 [ 17.16ms, 478.60ms] 240.55ms 165.45ms    8.66s        36 [ 60.27us, 100.23ms]  58.71ms  45.40ms    2.11s\n",
      "                  'graph_cst_lns':        30 [ 13.07ms, 698.68ms] 322.84ms 225.63ms    9.69s        30 [ 10.00ns, 100.38ms]  59.19ms  44.95ms    1.78s\n",
      "                  'graph_dec_lns':        33 [ 12.60ms, 773.23ms] 272.52ms 233.27ms    8.99s        33 [ 10.00ns, 100.22ms]  53.17ms  48.60ms    1.75s\n",
      "                  'graph_var_lns':        39 [  8.72ms, 525.16ms] 228.91ms 181.83ms    8.93s        39 [ 10.00ns, 100.23ms]  54.01ms  47.64ms    2.11s\n",
      "                   'lb_relax_lns':         9 [370.32ms,    1.86s]    1.04s 642.87ms    9.36s         9 [ 64.36ms, 586.37ms] 296.96ms 224.08ms    2.67s\n",
      "                 'lb_tree_search':         1 [  19.87s,   19.87s]   19.87s   0.00ns   19.87s         1 [992.73ms, 992.73ms] 992.73ms   0.00ns 992.73ms\n",
      "                             'ls':        41 [185.69ms, 246.78ms] 209.85ms  15.92ms    8.60s        41 [100.01ms, 100.05ms] 100.01ms   7.53us    4.10s\n",
      "                         'ls_lin':        42 [180.53ms, 252.24ms] 204.66ms  16.23ms    8.60s        42 [100.00ms, 100.03ms] 100.01ms   5.48us    4.20s\n",
      "                         'max_lp':         1 [  19.91s,   19.91s]   19.91s   0.00ns   19.91s         1 [   3.46s,    3.46s]    3.46s   0.00ns    3.46s\n",
      "                          'no_lp':         1 [  19.87s,   19.87s]   19.87s   0.00ns   19.87s         1 [  11.62s,   11.62s]   11.62s   0.00ns   11.62s\n",
      "            'objective_lb_search':         1 [  19.87s,   19.87s]   19.87s   0.00ns   19.87s         1 [   5.95s,    5.95s]    5.95s   0.00ns    5.95s\n",
      "                        'probing':         1 [  19.91s,   19.91s]   19.91s   0.00ns   19.91s         1 [   1.39s,    1.39s]    1.39s   0.00ns    1.39s\n",
      "                   'pseudo_costs':         1 [  19.91s,   19.91s]   19.91s   0.00ns   19.91s         1 [   5.22s,    5.22s]    5.22s   0.00ns    5.22s\n",
      "                  'quick_restart':         1 [  19.91s,   19.91s]   19.91s   0.00ns   19.91s         1 [   5.43s,    5.43s]    5.43s   0.00ns    5.43s\n",
      "            'quick_restart_no_lp':         1 [  19.87s,   19.87s]   19.87s   0.00ns   19.87s         1 [   9.09s,    9.09s]    9.09s   0.00ns    9.09s\n",
      "                  'reduced_costs':         1 [  19.91s,   19.91s]   19.91s   0.00ns   19.91s         1 [   5.31s,    5.31s]    5.31s   0.00ns    5.31s\n",
      "                      'rins/rens':        38 [ 11.07ms, 524.85ms] 237.56ms 190.94ms    9.03s        32 [ 10.00ns, 100.16ms]  65.76ms  45.80ms    2.10s\n",
      "                    'rnd_cst_lns':        35 [ 19.76ms, 923.43ms] 278.89ms 213.65ms    9.76s        34 [ 10.00ns, 100.34ms]  56.61ms  44.17ms    1.92s\n",
      "                    'rnd_var_lns':        28 [ 25.59ms,    1.04s] 312.32ms 228.77ms    8.75s        28 [113.00ns, 100.45ms]  58.96ms  45.43ms    1.65s\n",
      "\n",
      "Search stats                        Bools  Conflicts   Branches  Restarts  BoolPropag  IntegerPropag\n",
      "                           'core':    879    263'490    571'291    23'197   4'097'953     11'761'062\n",
      "                     'default_lp':    917        775     14'540     6'838     104'709        415'601\n",
      "                      'fs_random':      0          0          0         0           0              0\n",
      "                'fs_random_no_lp':      0          0          0         0           0              0\n",
      "  'fs_random_quick_restart_no_lp':      0          0          0         0           0              0\n",
      "                 'lb_tree_search':    845          0     30'752    17'351     127'419        330'137\n",
      "                         'max_lp':    845        101      9'291     5'173      42'020        179'855\n",
      "                          'no_lp':    845    146'426    238'905    21'024   9'858'272     32'942'860\n",
      "            'objective_lb_search':    884        529     19'216    10'218      98'549        422'934\n",
      "                        'probing':    866         10      2'060     1'775      13'530         46'063\n",
      "                   'pseudo_costs':    845        909     21'209    10'398     118'992        547'959\n",
      "                  'quick_restart':    918        105     29'769    15'354     128'800        539'862\n",
      "            'quick_restart_no_lp':  1'265     43'943  1'000'722    29'776   5'185'751     18'885'840\n",
      "                  'reduced_costs':    845        545     29'760    13'879     118'401        581'222\n",
      "\n",
      "SAT stats                           ClassicMinim  LitRemoved  LitLearned  LitForgotten  Subsumed  MClauses  MDecisions  MLitTrue  MSubsumed  MLitRemoved  MReused\n",
      "                           'core':       251'505   2'862'168  18'078'806    15'924'749     2'239     7'771      81'762         0        586        8'933    1'598\n",
      "                     'default_lp':           723      22'775      81'936             0         2       630       4'747         0          7           61       10\n",
      "                      'fs_random':             0           0           0             0         0         0           0         0          0            0        0\n",
      "                'fs_random_no_lp':             0           0           0             0         0         0           0         0          0            0        0\n",
      "  'fs_random_quick_restart_no_lp':             0           0           0             0         0         0           0         0          0            0        0\n",
      "                 'lb_tree_search':             0           0           0             0         0     1'710      13'500         0          0            0        0\n",
      "                         'max_lp':            97       5'483      20'693             0         0       380       3'000         0          0            0        0\n",
      "                          'no_lp':       144'318   1'767'590  11'633'699    10'218'479       650     5'093      34'108         0        108        1'193    3'715\n",
      "            'objective_lb_search':           522      42'143      22'758             0         0       950       7'500         0          0            0        0\n",
      "                        'probing':             7         269       2'349             0         0         0           0         0          0            0        0\n",
      "                   'pseudo_costs':           890      68'361     150'833             0         0       951       7'503         0          1            4        0\n",
      "                  'quick_restart':            86       3'432      12'834             0         0     1'540      12'140         0          0            0        0\n",
      "            'quick_restart_no_lp':        40'614   1'477'789   4'576'471     3'314'176       203    12'014      74'381         0      1'144       10'547    1'028\n",
      "                  'reduced_costs':           511      18'192      84'983             0         0     1'330      10'500         0          0            0        0\n",
      "\n",
      "Lp stats                  Component  Iterations  AddedCuts  OPTIMAL  DUAL_F.  DUAL_U.\n",
      "           'default_lp':          1      79'986      3'689    2'978        0       47\n",
      "       'lb_tree_search':          1       6'096      3'257      193        0        0\n",
      "               'max_lp':          1      24'119      3'351    1'007       31       21\n",
      "  'objective_lb_search':          1      71'218      3'713    2'253        0       17\n",
      "              'probing':          1       9'062      5'554      257        0        3\n",
      "         'pseudo_costs':          1      80'726      3'645    3'234      327       95\n",
      "        'quick_restart':          1      41'711      4'052    1'443        1       13\n",
      "        'reduced_costs':          1      59'868      3'586    1'978      204       96\n",
      "\n",
      "Lp dimension                  Final dimension of first component\n",
      "           'default_lp':   1180 rows, 1596 columns, 9796 entries\n",
      "       'lb_tree_search':  4073 rows, 1690 columns, 47223 entries\n",
      "               'max_lp':  1577 rows, 1690 columns, 20453 entries\n",
      "  'objective_lb_search':  1343 rows, 1596 columns, 15212 entries\n",
      "              'probing':  2455 rows, 1596 columns, 51591 entries\n",
      "         'pseudo_costs':   1092 rows, 1690 columns, 8782 entries\n",
      "        'quick_restart':  1497 rows, 1596 columns, 18332 entries\n",
      "        'reduced_costs':  1311 rows, 1690 columns, 15478 entries\n",
      "\n",
      "Lp debug                  CutPropag  CutEqPropag  Adjust  Overflow     Bad  BadScaling\n",
      "           'default_lp':          0            0   3'012         0   8'936           0\n",
      "       'lb_tree_search':          0            0     193         0  63'809           0\n",
      "               'max_lp':          0            0   1'055         0  40'413           0\n",
      "  'objective_lb_search':          0            1   2'254         0  13'907           0\n",
      "              'probing':          0            7     252         0  60'989           0\n",
      "         'pseudo_costs':          0           10   3'585         0  11'716           0\n",
      "        'quick_restart':          0            1   1'450         0  21'320           0\n",
      "        'reduced_costs':          0            0   2'256         0  22'753           0\n",
      "\n",
      "Lp pool                   Constraints  Updates  Simplif  Merged  Shortened  Split  Strenghtened     Cuts/Call\n",
      "           'default_lp':        6'489       53        0       0          0     44           121   3'689/7'640\n",
      "       'lb_tree_search':        6'409      578        0       0          0    918            42   3'257/6'126\n",
      "               'max_lp':        6'503      350        0       0          0    589            26   3'351/6'260\n",
      "  'objective_lb_search':        6'513      110        0       0          0     56           100   3'713/7'652\n",
      "              'probing':        8'353      400        0       1          0    351           179  5'554/11'265\n",
      "         'pseudo_costs':        6'797       92        0       0          0     60            85   3'645/7'479\n",
      "        'quick_restart':        6'852      189        0       0          0    217           166   4'052/8'077\n",
      "        'reduced_costs':        6'738      221        0       0          0    139            73   3'586/7'204\n",
      "\n",
      "Lp Cut            lb_tree_search  objective_lb_search  default_lp  max_lp  quick_restart  reduced_costs  pseudo_costs  probing\n",
      "          CG_FF:               5                   23          26      14             30             23            27       28\n",
      "           CG_K:               1                   12          11       9             14             11            11       14\n",
      "          CG_KL:               -                    -           2       -              4              1             1        5\n",
      "           CG_R:              29                   42          51      37             46             42            46       53\n",
      "          CG_RB:              62                  100         102      59            101             93            95      131\n",
      "         CG_RBP:              10                   61          56      23             47             19            26       60\n",
      "         Clique:               -                    -           -       2              -              -             -        -\n",
      "             IB:               -                  943       1'155     312          1'010          1'070         1'267      686\n",
      "       MIR_1_FF:             157                  214         181     147            236            126           107      353\n",
      "        MIR_1_K:               4                   61          60      16             89             18            36       84\n",
      "       MIR_1_KL:               1                   24          34       4             38              5            10       45\n",
      "        MIR_1_R:               -                    4           1       2              3              4             1        1\n",
      "       MIR_1_RB:              54                  115          83      62            126             87            81      200\n",
      "      MIR_1_RBP:              20                   86          74      15             84             21            28      183\n",
      "       MIR_2_FF:             221                  198         167     193            229            168           151      314\n",
      "        MIR_2_K:              14                   63          72      19             76             43            33       86\n",
      "       MIR_2_KL:               1                   24          29       -             25              5             9       33\n",
      "        MIR_2_R:              11                    9          13      10              4              7            12       11\n",
      "       MIR_2_RB:             196                  149         144     204            183            173           162      261\n",
      "      MIR_2_RBP:              44                  127          95      49            120             46            61      207\n",
      "       MIR_3_FF:             216                  129         113     241            149            141           141      210\n",
      "        MIR_3_K:              28                   66          68      34             76             44            42      105\n",
      "       MIR_3_KL:               1                   10          12       1             13              4             6       17\n",
      "        MIR_3_R:               7                    8           7      14              5              7            20       12\n",
      "       MIR_3_RB:             207                  110         119     216            109            158           148      199\n",
      "      MIR_3_RBP:              69                   78          83      64             85             56            51      153\n",
      "       MIR_4_FF:             194                   71          78     155             85            115            81      117\n",
      "        MIR_4_K:              41                   51          49      51             54             30            35       79\n",
      "       MIR_4_KL:               1                    7           5       2              4              4             6        7\n",
      "        MIR_4_R:               6                   10          10      18              8             12             6        8\n",
      "       MIR_4_RB:             135                   91          77     148             67            104           113      104\n",
      "      MIR_4_RBP:              73                   47          36      57             48             39            36      106\n",
      "       MIR_5_FF:             121                   44          34     119             51             61            66       81\n",
      "        MIR_5_K:              44                   28          26      34             38             23            18       58\n",
      "       MIR_5_KL:               8                    2           -       6              2              4             2        9\n",
      "        MIR_5_R:              16                    7           4      12              5              8             8        4\n",
      "       MIR_5_RB:              95                   36          38     100             36             69            85       66\n",
      "      MIR_5_RBP:              51                   30          23      46             39             24            23       57\n",
      "       MIR_6_FF:              82                   29          25      87             30             44            36       55\n",
      "        MIR_6_K:              42                   27          19      34             28             18            19       43\n",
      "       MIR_6_KL:              30                    6           5      22             10             13            16       16\n",
      "        MIR_6_R:               8                    5           2       5              3              2             5        5\n",
      "       MIR_6_RB:              48                   27          25      55             13             34            54       42\n",
      "      MIR_6_RBP:              61                   23          14      49             25             26            20       51\n",
      "   ZERO_HALF_FF:               6                   26          32      13             30             50            38       41\n",
      "    ZERO_HALF_K:               -                   12          14       3              9             19             8       10\n",
      "   ZERO_HALF_KL:               -                    1           2       -              5              3             1        1\n",
      "    ZERO_HALF_R:             687                  367         301     481            440            394           306      908\n",
      "   ZERO_HALF_RB:             108                   83          88      84             77             87            77      181\n",
      "  ZERO_HALF_RBP:              42                   27          24      23             43             31            14       54\n",
      "\n",
      "LNS stats           Improv/Calls  Closed  Difficulty  TimeLimit\n",
      "  'graph_arc_lns':          4/36     50%    4.31e-01       0.10\n",
      "  'graph_cst_lns':          0/30     50%    6.28e-01       0.10\n",
      "  'graph_dec_lns':          2/33     48%    6.68e-01       0.10\n",
      "  'graph_var_lns':          3/39     49%    5.98e-01       0.10\n",
      "   'lb_relax_lns':           5/9     56%    5.63e-01       0.50\n",
      "      'rins/rens':         33/38     50%    5.38e-01       0.10\n",
      "    'rnd_cst_lns':          2/34     50%    6.76e-01       0.10\n",
      "    'rnd_var_lns':          4/28     46%    5.72e-01       0.10\n",
      "\n",
      "LS stats                                    Batches  Restarts/Perturbs  LinMoves  GenMoves  CompoundMoves  Bactracks  WeightUpdates  ScoreComputed\n",
      "                         'ls_lin_restart':        2                  2    25'802         0              0          0          4'505        890'014\n",
      "                'ls_lin_restart_compound':        3                  2         0    44'464          4'205     20'128            238      1'332'024\n",
      "        'ls_lin_restart_compound_perturb':        4                  4         0    63'652          5'985     28'827            395      1'815'752\n",
      "                   'ls_lin_restart_decay':        6                  4    92'636         0              0          0          1'496      2'110'309\n",
      "          'ls_lin_restart_decay_compound':        5                  5         0    63'298         11'012     26'127            224      2'004'158\n",
      "  'ls_lin_restart_decay_compound_perturb':        9                  7         0   112'283         22'286     44'972            304      3'529'373\n",
      "           'ls_lin_restart_decay_perturb':        8                  7   122'650         0              0          0          2'078      2'778'610\n",
      "                 'ls_lin_restart_perturb':        5                  3    61'213         0              0          0          8'988      2'423'329\n",
      "                             'ls_restart':        2                  2    26'275         0              0          0          3'613        956'813\n",
      "                    'ls_restart_compound':        5                  5         0    72'218          6'596     32'803            509      2'146'078\n",
      "            'ls_restart_compound_perturb':        7                  6         0   109'907          9'643     50'124            812      3'096'738\n",
      "                       'ls_restart_decay':        8                  7   122'763         0              0          0          2'057      2'769'120\n",
      "              'ls_restart_decay_compound':        7                  4         0    92'912         14'673     39'107            191      3'101'093\n",
      "      'ls_restart_decay_compound_perturb':        8                  6         0   108'344         20'186     44'067            218      3'113'663\n",
      "               'ls_restart_decay_perturb':        1                  1    15'080         0              0          0            259        337'123\n",
      "                     'ls_restart_perturb':        3                  3    38'245         0              0          0          5'094      1'404'285\n",
      "\n",
      "Solutions (9)             Num   Rank\n",
      "        'complete_hint':    1  [1,1]\n",
      "        'graph_arc_lns':    2  [6,8]\n",
      "        'graph_var_lns':    1  [9,9]\n",
      "  'quick_restart_no_lp':    2  [2,3]\n",
      "          'rins_lp_lns':    1  [4,4]\n",
      "          'rnd_var_lns':    2  [5,7]\n",
      "\n",
      "Objective bounds          Num\n",
      "         'am1_presolve':    1\n",
      "       'initial_domain':    1\n",
      "       'lb_tree_search':   12\n",
      "               'max_lp':    8\n",
      "  'objective_lb_search':    1\n",
      "         'pseudo_costs':    2\n",
      "        'reduced_costs':    1\n",
      "\n",
      "Solution repositories    Added  Queried  Synchro\n",
      "  'feasible solutions':     76      592       48\n",
      "   'fj solution hints':      0        0        0\n",
      "        'lp solutions':    104       19       92\n",
      "                'pump':    286       19\n",
      "\n",
      "[Scaling] scaled_objective_bound: 229074 corrected_bound: 229074 delta: -1.00237e-06\n",
      "CpSolverResponse summary:\n",
      "status: FEASIBLE\n",
      "objective: 240742.1231357091\n",
      "best_bound: 229074.004259635\n",
      "integers: 0\n",
      "booleans: 0\n",
      "conflicts: 0\n",
      "branches: 0\n",
      "propagations: 0\n",
      "integer_propagations: 0\n",
      "restarts: 0\n",
      "lp_iterations: 0\n",
      "walltime: 20.1384\n",
      "usertime: 20.1384\n",
      "deterministic_time: 95.5174\n",
      "gap_integral: 896.323\n",
      "solution_fingerprint: 0x3856540257f2eea4\n",
      "\n"
     ]
    }
   ],
   "source": [
    "res_milp = wfn.optimize(router=milp_router)"
   ]
  },
  {
   "cell_type": "code",
   "execution_count": 23,
   "id": "d2c2a59c-cf3b-455b-b90a-a8f2abedf512",
   "metadata": {
    "execution": {
     "iopub.execute_input": "2025-09-17T18:10:26.235082Z",
     "iopub.status.busy": "2025-09-17T18:10:26.234112Z",
     "iopub.status.idle": "2025-09-17T18:10:26.241553Z",
     "shell.execute_reply": "2025-09-17T18:10:26.241553Z",
     "shell.execute_reply.started": "2025-09-17T18:10:26.235082Z"
    }
   },
   "outputs": [
    {
     "data": {
      "text/plain": [
       "{'router': 'MILPRouter',\n",
       " 'capacity': 8,\n",
       " 'solver_name': 'ortools',\n",
       " 'topology': <Topology.BRANCHED: 'branched'>,\n",
       " 'feeder_route': <FeederRoute.SEGMENTED: 'segmented'>,\n",
       " 'feeder_limit': <FeederLimit.UNLIMITED: 'unlimited'>,\n",
       " 'max_feeders': 0,\n",
       " 'runtime': 20.1384063,\n",
       " 'bound': 229074.00425963502,\n",
       " 'objective': 240742.12313570915,\n",
       " 'relgap': 0.04846729240439851,\n",
       " 'termination': 'FEASIBLE'}"
      ]
     },
     "execution_count": 23,
     "metadata": {},
     "output_type": "execute_result"
    }
   ],
   "source": [
    "wfn.solution_info()"
   ]
  },
  {
   "cell_type": "code",
   "execution_count": 24,
   "id": "acd659f9",
   "metadata": {
    "deletable": true,
    "editable": true,
    "execution": {
     "iopub.execute_input": "2025-09-17T18:10:26.243562Z",
     "iopub.status.busy": "2025-09-17T18:10:26.242575Z",
     "iopub.status.idle": "2025-09-17T18:10:26.250327Z",
     "shell.execute_reply": "2025-09-17T18:10:26.249318Z",
     "shell.execute_reply.started": "2025-09-17T18:10:26.243562Z"
    },
    "frozen": false
   },
   "outputs": [
    {
     "data": {
      "text/plain": [
       "240742.12313570912"
      ]
     },
     "execution_count": 24,
     "metadata": {},
     "output_type": "execute_result"
    }
   ],
   "source": [
    "wfn.length()"
   ]
  },
  {
   "cell_type": "code",
   "execution_count": 25,
   "id": "1569125c",
   "metadata": {
    "deletable": true,
    "editable": true,
    "execution": {
     "iopub.execute_input": "2025-09-17T18:10:26.251328Z",
     "iopub.status.busy": "2025-09-17T18:10:26.251328Z",
     "iopub.status.idle": "2025-09-17T18:10:26.263830Z",
     "shell.execute_reply": "2025-09-17T18:10:26.263442Z",
     "shell.execute_reply.started": "2025-09-17T18:10:26.251328Z"
    },
    "frozen": false
   },
   "outputs": [
    {
     "data": {
      "image/svg+xml": [
       "<svg xmlns=\"http://www.w3.org/2000/svg\" viewBox=\"0 0 1920 1028\"><defs><circle stroke=\"none\" stroke-width=\"2\" id=\"wtg\" r=\"12\"/><rect stroke=\"#111\" stroke-width=\"2\" id=\"oss\" width=\"21\" height=\"21\" fill=\"lawngreen\"/><filter x=\"-5%\" y=\"-5%\" id=\"bg_textbox\" width=\"110%\" height=\"110%\"><feFlood flood-opacity=\"0.6\" flood-color=\"black\" result=\"bg\"/><feMerge><feMergeNode in=\"bg\"/><feMergeNode in=\"SourceGraphic\"/></feMerge></filter></defs><g id=\"doggerA\"><path stroke=\"silver\" stroke-dasharray=\"15 7\" stroke-width=\"2\" id=\"border\" d=\"M1098 998 30 535 42 30 1727 39 1890 202z\" fill-rule=\"evenodd\" fill=\"#111\"/><g stroke=\"crimson\" stroke-width=\"4\" id=\"edges_unspecified\"><line x1=\"158\" y1=\"367\" x2=\"266\" y2=\"458\"/><line x1=\"158\" y1=\"367\" x2=\"47\" y2=\"346\"/><line x1=\"266\" y1=\"458\" x2=\"331\" y2=\"379\"/><line x1=\"655\" y1=\"651\" x2=\"721\" y2=\"572\"/><line x1=\"655\" y1=\"651\" x2=\"717\" y2=\"820\"/><line x1=\"721\" y1=\"572\" x2=\"787\" y2=\"494\"/><line x1=\"547\" y1=\"560\" x2=\"462\" y2=\"710\"/><line x1=\"547\" y1=\"560\" x2=\"613\" y2=\"481\"/><line x1=\"613\" y1=\"481\" x2=\"679\" y2=\"403\"/><line x1=\"224\" y1=\"288\" x2=\"290\" y2=\"210\"/><line x1=\"224\" y1=\"288\" x2=\"48\" y2=\"278\"/><line x1=\"290\" y1=\"210\" x2=\"463\" y2=\"222\"/><line x1=\"1045\" y1=\"844\" x2=\"937\" y2=\"753\"/><line x1=\"1045\" y1=\"844\" x2=\"1035\" y2=\"957\"/><line x1=\"937\" y1=\"753\" x2=\"1003\" y2=\"675\"/><line x1=\"1003\" y1=\"675\" x2=\"895\" y2=\"584\"/><line x1=\"829\" y1=\"663\" x2=\"895\" y2=\"584\"/><line x1=\"744\" y1=\"323\" x2=\"895\" y2=\"584\"/><line x1=\"744\" y1=\"323\" x2=\"787\" y2=\"494\"/><line x1=\"744\" y1=\"323\" x2=\"679\" y2=\"403\"/><line x1=\"397\" y1=\"301\" x2=\"331\" y2=\"379\"/><line x1=\"397\" y1=\"301\" x2=\"571\" y2=\"313\"/><line x1=\"744\" y1=\"323\" x2=\"571\" y2=\"313\"/><line x1=\"744\" y1=\"323\" x2=\"463\" y2=\"222\"/><line x1=\"1111\" y1=\"765\" x2=\"1200\" y2=\"878\"/><line x1=\"1111\" y1=\"765\" x2=\"1176\" y2=\"687\"/><line x1=\"1176\" y1=\"687\" x2=\"1069\" y2=\"596\"/><line x1=\"1069\" y1=\"596\" x2=\"961\" y2=\"505\"/><line x1=\"961\" y1=\"505\" x2=\"853\" y2=\"415\"/><line x1=\"744\" y1=\"323\" x2=\"853\" y2=\"415\"/><line x1=\"1374\" y1=\"451\" x2=\"1266\" y2=\"361\"/><line x1=\"1374\" y1=\"451\" x2=\"1440\" y2=\"373\"/><line x1=\"744\" y1=\"323\" x2=\"1266\" y2=\"361\"/><line x1=\"1224\" y1=\"192\" x2=\"1232\" y2=\"85\"/><line x1=\"1163\" y1=\"84\" x2=\"1232\" y2=\"85\"/><line x1=\"1232\" y1=\"85\" x2=\"1301\" y2=\"85\"/><line x1=\"469\" y1=\"79\" x2=\"538\" y2=\"79\"/><line x1=\"538\" y1=\"79\" x2=\"608\" y2=\"80\"/><line x1=\"608\" y1=\"80\" x2=\"677\" y2=\"80\"/><line x1=\"677\" y1=\"80\" x2=\"747\" y2=\"81\"/><line x1=\"744\" y1=\"323\" x2=\"747\" y2=\"81\"/><line x1=\"747\" y1=\"81\" x2=\"816\" y2=\"81\"/><line x1=\"1836\" y1=\"239\" x2=\"1787\" y2=\"288\"/><line x1=\"1836\" y1=\"239\" x2=\"1831\" y2=\"167\"/><line x1=\"1572\" y1=\"216\" x2=\"1787\" y2=\"288\"/><line x1=\"1738\" y1=\"337\" x2=\"1689\" y2=\"386\"/><line x1=\"1689\" y1=\"386\" x2=\"1640\" y2=\"436\"/><line x1=\"1640\" y1=\"436\" x2=\"1591\" y2=\"484\"/><line x1=\"1591\" y1=\"484\" x2=\"1542\" y2=\"534\"/><line x1=\"1542\" y1=\"534\" x2=\"1493\" y2=\"583\"/><line x1=\"1493\" y1=\"583\" x2=\"1445\" y2=\"633\"/><line x1=\"1308\" y1=\"529\" x2=\"1445\" y2=\"633\"/><line x1=\"1298\" y1=\"779\" x2=\"1249\" y2=\"829\"/><line x1=\"1249\" y1=\"829\" x2=\"1200\" y2=\"878\"/><line x1=\"972\" y1=\"930\" x2=\"908\" y2=\"903\"/><line x1=\"844\" y1=\"875\" x2=\"908\" y2=\"903\"/><line x1=\"844\" y1=\"875\" x2=\"781\" y2=\"847\"/><line x1=\"781\" y1=\"847\" x2=\"717\" y2=\"820\"/><line x1=\"654\" y1=\"792\" x2=\"590\" y2=\"765\"/><line x1=\"590\" y1=\"765\" x2=\"526\" y2=\"737\"/><line x1=\"526\" y1=\"737\" x2=\"462\" y2=\"710\"/><line x1=\"462\" y1=\"710\" x2=\"399\" y2=\"681\"/><line x1=\"45\" y1=\"417\" x2=\"47\" y2=\"346\"/><line x1=\"45\" y1=\"417\" x2=\"43\" y2=\"486\"/><line x1=\"374\" y1=\"548\" x2=\"440\" y2=\"469\"/><line x1=\"374\" y1=\"548\" x2=\"335\" y2=\"654\"/><line x1=\"440\" y1=\"469\" x2=\"505\" y2=\"391\"/><line x1=\"744\" y1=\"323\" x2=\"505\" y2=\"391\"/><line x1=\"48\" y1=\"278\" x2=\"50\" y2=\"208\"/><line x1=\"1035\" y1=\"957\" x2=\"1102\" y2=\"976\"/><line x1=\"744\" y1=\"323\" x2=\"1308\" y2=\"529\"/><line x1=\"1440\" y1=\"373\" x2=\"1506\" y2=\"294\"/><line x1=\"1332\" y1=\"282\" x2=\"1398\" y2=\"204\"/><line x1=\"1158\" y1=\"270\" x2=\"1332\" y2=\"282\"/><line x1=\"744\" y1=\"323\" x2=\"1158\" y2=\"270\"/><line x1=\"1506\" y1=\"294\" x2=\"1572\" y2=\"216\"/><line x1=\"1398\" y1=\"204\" x2=\"1510\" y2=\"87\"/><line x1=\"1510\" y1=\"87\" x2=\"1579\" y2=\"87\"/><line x1=\"816\" y1=\"81\" x2=\"885\" y2=\"82\"/><line x1=\"885\" y1=\"82\" x2=\"954\" y2=\"82\"/><line x1=\"1093\" y1=\"84\" x2=\"1163\" y2=\"84\"/><line x1=\"1024\" y1=\"83\" x2=\"1093\" y2=\"84\"/><line x1=\"744\" y1=\"323\" x2=\"1024\" y2=\"83\"/><line x1=\"1301\" y1=\"85\" x2=\"1371\" y2=\"85\"/><line x1=\"1371\" y1=\"85\" x2=\"1440\" y2=\"86\"/><line x1=\"1579\" y1=\"87\" x2=\"1648\" y2=\"87\"/><line x1=\"1648\" y1=\"87\" x2=\"1717\" y2=\"88\"/><line x1=\"1717\" y1=\"88\" x2=\"1774\" y2=\"128\"/><line x1=\"1102\" y1=\"976\" x2=\"1151\" y2=\"927\"/><line x1=\"50\" y1=\"208\" x2=\"53\" y2=\"78\"/><line x1=\"53\" y1=\"78\" x2=\"122\" y2=\"80\"/><line x1=\"335\" y1=\"654\" x2=\"272\" y2=\"626\"/><line x1=\"272\" y1=\"626\" x2=\"208\" y2=\"599\"/><line x1=\"208\" y1=\"599\" x2=\"145\" y2=\"572\"/><line x1=\"145\" y1=\"572\" x2=\"81\" y2=\"544\"/></g><g id=\"WTGgrp\"><g fill=\"#c49c94\"><use href=\"#wtg\" x=\"158\" y=\"367\"/><use href=\"#wtg\" x=\"266\" y=\"458\"/><use href=\"#wtg\" x=\"397\" y=\"301\"/><use href=\"#wtg\" x=\"571\" y=\"313\"/><use href=\"#wtg\" x=\"45\" y=\"417\"/><use href=\"#wtg\" x=\"47\" y=\"346\"/><use href=\"#wtg\" x=\"331\" y=\"379\"/><use href=\"#wtg\" x=\"43\" y=\"486\"/></g><g fill=\"#aec7e8\"><use href=\"#wtg\" x=\"655\" y=\"651\"/><use href=\"#wtg\" x=\"721\" y=\"572\"/><use href=\"#wtg\" x=\"787\" y=\"494\"/><use href=\"#wtg\" x=\"972\" y=\"930\"/><use href=\"#wtg\" x=\"908\" y=\"903\"/><use href=\"#wtg\" x=\"844\" y=\"875\"/><use href=\"#wtg\" x=\"781\" y=\"847\"/><use href=\"#wtg\" x=\"717\" y=\"820\"/></g><g fill=\"#ff7f0e\"><use href=\"#wtg\" x=\"547\" y=\"560\"/><use href=\"#wtg\" x=\"613\" y=\"481\"/><use href=\"#wtg\" x=\"679\" y=\"403\"/><use href=\"#wtg\" x=\"654\" y=\"792\"/><use href=\"#wtg\" x=\"590\" y=\"765\"/><use href=\"#wtg\" x=\"526\" y=\"737\"/><use href=\"#wtg\" x=\"462\" y=\"710\"/><use href=\"#wtg\" x=\"399\" y=\"681\"/></g><g fill=\"#ffbb78\"><use href=\"#wtg\" x=\"224\" y=\"288\"/><use href=\"#wtg\" x=\"290\" y=\"210\"/><use href=\"#wtg\" x=\"463\" y=\"222\"/><use href=\"#wtg\" x=\"48\" y=\"278\"/><use href=\"#wtg\" x=\"50\" y=\"208\"/><use href=\"#wtg\" x=\"53\" y=\"78\"/><use href=\"#wtg\" x=\"122\" y=\"80\"/></g><g fill=\"#1f77b4\"><use href=\"#wtg\" x=\"1045\" y=\"844\"/><use href=\"#wtg\" x=\"937\" y=\"753\"/><use href=\"#wtg\" x=\"1003\" y=\"675\"/><use href=\"#wtg\" x=\"829\" y=\"663\"/><use href=\"#wtg\" x=\"895\" y=\"584\"/><use href=\"#wtg\" x=\"1035\" y=\"957\"/><use href=\"#wtg\" x=\"1102\" y=\"976\"/><use href=\"#wtg\" x=\"1151\" y=\"927\"/></g><g fill=\"#2ca02c\"><use href=\"#wtg\" x=\"1111\" y=\"765\"/><use href=\"#wtg\" x=\"1176\" y=\"687\"/><use href=\"#wtg\" x=\"1069\" y=\"596\"/><use href=\"#wtg\" x=\"961\" y=\"505\"/><use href=\"#wtg\" x=\"853\" y=\"415\"/><use href=\"#wtg\" x=\"1298\" y=\"779\"/><use href=\"#wtg\" x=\"1249\" y=\"829\"/><use href=\"#wtg\" x=\"1200\" y=\"878\"/></g><g fill=\"#d62728\"><use href=\"#wtg\" x=\"1374\" y=\"451\"/><use href=\"#wtg\" x=\"1266\" y=\"361\"/><use href=\"#wtg\" x=\"1836\" y=\"239\"/><use href=\"#wtg\" x=\"1787\" y=\"288\"/><use href=\"#wtg\" x=\"1440\" y=\"373\"/><use href=\"#wtg\" x=\"1506\" y=\"294\"/><use href=\"#wtg\" x=\"1572\" y=\"216\"/><use href=\"#wtg\" x=\"1831\" y=\"167\"/></g><g fill=\"#c5b0d5\"><use href=\"#wtg\" x=\"1224\" y=\"192\"/><use href=\"#wtg\" x=\"1232\" y=\"85\"/><use href=\"#wtg\" x=\"1093\" y=\"84\"/><use href=\"#wtg\" x=\"1024\" y=\"83\"/><use href=\"#wtg\" x=\"1163\" y=\"84\"/><use href=\"#wtg\" x=\"1301\" y=\"85\"/><use href=\"#wtg\" x=\"1371\" y=\"85\"/><use href=\"#wtg\" x=\"1440\" y=\"86\"/></g><g fill=\"#9467bd\"><use href=\"#wtg\" x=\"469\" y=\"79\"/><use href=\"#wtg\" x=\"538\" y=\"79\"/><use href=\"#wtg\" x=\"608\" y=\"80\"/><use href=\"#wtg\" x=\"677\" y=\"80\"/><use href=\"#wtg\" x=\"747\" y=\"81\"/><use href=\"#wtg\" x=\"816\" y=\"81\"/><use href=\"#wtg\" x=\"885\" y=\"82\"/><use href=\"#wtg\" x=\"954\" y=\"82\"/></g><g fill=\"#98df8a\"><use href=\"#wtg\" x=\"1738\" y=\"337\"/><use href=\"#wtg\" x=\"1689\" y=\"386\"/><use href=\"#wtg\" x=\"1640\" y=\"436\"/><use href=\"#wtg\" x=\"1591\" y=\"484\"/><use href=\"#wtg\" x=\"1542\" y=\"534\"/><use href=\"#wtg\" x=\"1493\" y=\"583\"/><use href=\"#wtg\" x=\"1445\" y=\"633\"/><use href=\"#wtg\" x=\"1308\" y=\"529\"/></g><g fill=\"#8c564b\"><use href=\"#wtg\" x=\"374\" y=\"548\"/><use href=\"#wtg\" x=\"440\" y=\"469\"/><use href=\"#wtg\" x=\"505\" y=\"391\"/><use href=\"#wtg\" x=\"335\" y=\"654\"/><use href=\"#wtg\" x=\"272\" y=\"626\"/><use href=\"#wtg\" x=\"208\" y=\"599\"/><use href=\"#wtg\" x=\"145\" y=\"572\"/><use href=\"#wtg\" x=\"81\" y=\"544\"/></g><g fill=\"#ff9896\"><use href=\"#wtg\" x=\"1332\" y=\"282\"/><use href=\"#wtg\" x=\"1158\" y=\"270\"/><use href=\"#wtg\" x=\"1398\" y=\"204\"/><use href=\"#wtg\" x=\"1510\" y=\"87\"/><use href=\"#wtg\" x=\"1579\" y=\"87\"/><use href=\"#wtg\" x=\"1648\" y=\"87\"/><use href=\"#wtg\" x=\"1717\" y=\"88\"/><use href=\"#wtg\" x=\"1774\" y=\"128\"/></g></g><g id=\"OSSgrp\"><use href=\"#oss\" x=\"733.5\" y=\"312.5\"/></g></g><text filter=\"url(#bg_textbox)\" text-anchor=\"end\" font-family=\"sans-serif\" font-size=\"40\" fill=\"white\" x=\"1890\" y=\"998\"><tspan x=\"1890\" dy=\"-0.0em\">&#931;&#955; = 240742 m</tspan><tspan x=\"1890\" dy=\"-1.3em\">(+0) SS1: 12</tspan><tspan x=\"1890\" dy=\"-1.3em\">&#954; = 8, T = 95</tspan></text></svg>"
      ],
      "text/plain": [
       "<optiwindnet.api.WindFarmNetwork at 0x21627b020f0>"
      ]
     },
     "execution_count": 25,
     "metadata": {},
     "output_type": "execute_result"
    }
   ],
   "source": [
    "wfn"
   ]
  },
  {
   "cell_type": "code",
   "execution_count": null,
   "id": "269b0718-0d84-43fd-b93f-4dc2c7c99de1",
   "metadata": {},
   "outputs": [],
   "source": []
  }
 ],
 "metadata": {
  "kernelspec": {
   "display_name": "«work312»",
   "language": "python",
   "name": "work312"
  },
  "language_info": {
   "codemirror_mode": {
    "name": "ipython",
    "version": 3
   },
   "file_extension": ".py",
   "mimetype": "text/x-python",
   "name": "python",
   "nbconvert_exporter": "python",
   "pygments_lexer": "ipython3",
   "version": "3.12.11"
  }
 },
 "nbformat": 4,
 "nbformat_minor": 5
}
