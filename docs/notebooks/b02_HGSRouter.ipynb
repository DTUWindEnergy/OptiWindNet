{
 "cells": [
  {
   "cell_type": "markdown",
   "id": "fbed597e",
   "metadata": {},
   "source": [
    "# HGSRouter example"
   ]
  },
  {
   "cell_type": "markdown",
   "id": "5767fd33",
   "metadata": {},
   "source": [
    "This notebook uses `OptiWindNet` to route the collector system cables via `HGSRouter`."
   ]
  },
  {
   "cell_type": "markdown",
   "id": "9fe197e1",
   "metadata": {},
   "source": [
    "## 🧬 HGS (Hybrid Genetic Search)"
   ]
  },
  {
   "cell_type": "markdown",
   "id": "6b901e0f",
   "metadata": {},
   "source": [
    "`HGSRouter` is a *metaheuristic based router* that applies *Hybrid Genetic Search (HGS)* to solve the wind farm network layout problem as a *Capacitated Vehicle Routing Problem (CVRP)*. It can handle both single and multiple substations and is well-suited for *fast and high-quality layouts*.\n",
    "\n",
    "This router is slower than `EWRouter` but typically yields *better-quality solutions*, especially for medium and large windfarms with one substation."
   ]
  },
  {
   "cell_type": "markdown",
   "id": "1435a3f2",
   "metadata": {},
   "source": [
    "### 🔧 Constructor: `HGSRouter(...)`"
   ]
  },
  {
   "cell_type": "markdown",
   "id": "917f3e68",
   "metadata": {},
   "source": [
    "**Required arguments:**\n",
    "\n",
    "| Argument     | Type  | Description                                                                                                             |\n",
    "| ------------ | ----- | ----------------------------------------------------------------------------------------------------------------------- |\n",
    "| `time_limit` | `int` | Time limit (in seconds) which controls how long the genetic algorithm can search for better solutions. |\n",
    "\n",
    "**Optional arguments:**\n",
    "\n",
    "| Argument       | Type          | Description                                                                             |\n",
    "| -------------- | ------------- | --------------------------------------------------------------------------------------- |\n",
    "| `feeder_limit` | `int or None` | Maximum number of feeders (only used in single-substation problems).                    |\n",
    "| `max_iter`     | `int`         | Maximum number of local iterations (default: `10`).                                     |\n",
    "| `balanced`     | `bool`        | If `True`, tries to balance the number of turbines per feeder. |\n",
    "| `seed`         | `int`         | Random seed for reproducibility (default: `0`).                                         |\n",
    "| `verbose`      | `bool`        | If `True`, prints routing details and warnings.                                         |\n",
    "\n",
    "**✅ Example**\n",
    "\n",
    "```python\n",
    "router = HGSRouter(time_limit=60, feeder_limit=10, balanced=True)\n",
    "wf = WindFarmNetwork(cables=..., turbinesC=..., substationsC=..., router=router)\n",
    "wf.optimize()\n",
    "```\n",
    "* HGSRouter trades speed for *higher-quality layouts* and is particularly useful when:\n",
    "\n",
    "  * A better solution is worth longer runtime (respect to `EWRouter`)\n",
    "  * The number of turbines connected to each feeder needs to be balanced\n",
    "\n",
    "* In *multi-substation networks*, the `feeder_limit` is ignored (not yet supported)."
   ]
  },
  {
   "cell_type": "markdown",
   "id": "b9ee6aad",
   "metadata": {},
   "source": [
    ">This router is implemented [vidalt/HGS-CVRP: Modern implementation of the hybrid genetic search (HGS) algorithm specialized to the capacitated vehicle routing problem (CVRP). This code also includes an additional neighborhood called SWAP\\*.](https://github.com/vidalt/HGS-CVRP)\n",
    ">\n",
    ">HGSRouter can only produce *radial* topologies. Since a *radial* topology is a special case of the *branched* topology, solutions produced by this method can be used to warm-start both *branched*- and *radial*-topology models."
   ]
  },
  {
   "cell_type": "markdown",
   "id": "ce9294e2",
   "metadata": {},
   "source": [
    "## Load data"
   ]
  },
  {
   "cell_type": "markdown",
   "id": "89e1961f",
   "metadata": {},
   "source": [
    "import required modules"
   ]
  },
  {
   "cell_type": "code",
   "execution_count": 13,
   "id": "c42a3703-113b-4aee-8dfb-a0b3b54663e6",
   "metadata": {},
   "outputs": [],
   "source": [
    "from optiwindnet.api import WindFarmNetwork, HGSRouter"
   ]
  },
  {
   "cell_type": "code",
   "execution_count": 14,
   "id": "dcede524",
   "metadata": {},
   "outputs": [],
   "source": [
    "# Display figures as SVG in Jupyter notebooks\n",
    "%config InlineBackend.figure_formats = ['svg']"
   ]
  },
  {
   "cell_type": "markdown",
   "id": "bde9df37",
   "metadata": {},
   "source": [
    "Create an instance of `wfn` using `.from_pbf()`\n"
   ]
  },
  {
   "cell_type": "code",
   "execution_count": 15,
   "id": "ed908310",
   "metadata": {},
   "outputs": [],
   "source": [
    "wfn = WindFarmNetwork.from_pbf(filepath='data/DTU_letters.osm.pbf', cables= [(7, 2000.0)])"
   ]
  },
  {
   "cell_type": "code",
   "execution_count": 16,
   "id": "c838598f",
   "metadata": {},
   "outputs": [
    {
     "data": {
      "image/svg+xml": [
       "<svg xmlns=\"http://www.w3.org/2000/svg\" viewBox=\"0 0 1920 891\"><defs><circle stroke=\"none\" stroke-width=\"2\" id=\"wtg\" r=\"12\"/><rect stroke=\"#111\" stroke-width=\"2\" id=\"oss\" width=\"21\" height=\"21\" fill=\"lawngreen\"/></defs><g id=\"dtu\"><path stroke=\"silver\" stroke-dasharray=\"15 7\" stroke-width=\"2\" id=\"border\" d=\"M30 861 405 859 519 794 605 676 650 524 650 366 770 366 770 861 1150 861 1149 366 1270 366 1271 533 1319 684 1408 799 1522 860 1646 858 1759 793 1845 675 1890 525 1890 30 1625 30 1625 501 1618 537 1606 564 1589 579 1572 580 1555 566 1542 539 1535 502 1535 31 30 30z M260 658 260 233 328 232 372 263 407 323 426 400 426 485 408 564 375 625 331 658z\" fill-rule=\"evenodd\" fill=\"#111\"/><g id=\"WTGgrp\"><g fill=\"#9edae5\"><use href=\"#wtg\" x=\"107\" y=\"42\"/><use href=\"#wtg\" x=\"237\" y=\"206\"/><use href=\"#wtg\" x=\"58\" y=\"286\"/><use href=\"#wtg\" x=\"239\" y=\"398\"/><use href=\"#wtg\" x=\"77\" y=\"590\"/><use href=\"#wtg\" x=\"329\" y=\"847\"/><use href=\"#wtg\" x=\"525\" y=\"753\"/><use href=\"#wtg\" x=\"236\" y=\"687\"/><use href=\"#wtg\" x=\"633\" y=\"448\"/><use href=\"#wtg\" x=\"438\" y=\"556\"/><use href=\"#wtg\" x=\"420\" y=\"282\"/><use href=\"#wtg\" x=\"392\" y=\"81\"/><use href=\"#wtg\" x=\"575\" y=\"202\"/><use href=\"#wtg\" x=\"739\" y=\"334\"/><use href=\"#wtg\" x=\"630\" y=\"43\"/><use href=\"#wtg\" x=\"1064\" y=\"42\"/><use href=\"#wtg\" x=\"915\" y=\"397\"/><use href=\"#wtg\" x=\"785\" y=\"526\"/><use href=\"#wtg\" x=\"1643\" y=\"840\"/><use href=\"#wtg\" x=\"904\" y=\"678\"/><use href=\"#wtg\" x=\"993\" y=\"847\"/><use href=\"#wtg\" x=\"1129\" y=\"512\"/><use href=\"#wtg\" x=\"828\" y=\"155\"/><use href=\"#wtg\" x=\"1271\" y=\"147\"/><use href=\"#wtg\" x=\"1068\" y=\"249\"/><use href=\"#wtg\" x=\"1517\" y=\"49\"/><use href=\"#wtg\" x=\"1519\" y=\"280\"/><use href=\"#wtg\" x=\"1313\" y=\"351\"/><use href=\"#wtg\" x=\"1445\" y=\"482\"/><use href=\"#wtg\" x=\"1338\" y=\"626\"/><use href=\"#wtg\" x=\"1446\" y=\"787\"/><use href=\"#wtg\" x=\"1588\" y=\"630\"/><use href=\"#wtg\" x=\"1823\" y=\"671\"/><use href=\"#wtg\" x=\"1649\" y=\"377\"/><use href=\"#wtg\" x=\"1875\" y=\"478\"/><use href=\"#wtg\" x=\"1876\" y=\"252\"/><use href=\"#wtg\" x=\"51\" y=\"845\"/><use href=\"#wtg\" x=\"1692\" y=\"146\"/><use href=\"#wtg\" x=\"1878\" y=\"42\"/><use href=\"#wtg\" x=\"1137\" y=\"704\"/></g></g><g id=\"OSSgrp\"><use href=\"#oss\" x=\"1199.5\" y=\"320.5\"/></g></g></svg>"
      ],
      "text/plain": [
       "<optiwindnet.api.WindFarmNetwork at 0x26c4756af60>"
      ]
     },
     "execution_count": 16,
     "metadata": {},
     "output_type": "execute_result"
    }
   ],
   "source": [
    "wfn"
   ]
  },
  {
   "cell_type": "markdown",
   "id": "5d38a18d-ab5e-4b03-ae74-9ccb4dedbe07",
   "metadata": {},
   "source": [
    "## Optimize with HGSRouter"
   ]
  },
  {
   "cell_type": "code",
   "execution_count": 17,
   "id": "7884b794",
   "metadata": {},
   "outputs": [],
   "source": [
    "router = HGSRouter(time_limit=10)"
   ]
  },
  {
   "cell_type": "code",
   "execution_count": 18,
   "id": "98fc84a8",
   "metadata": {},
   "outputs": [],
   "source": [
    "res = wfn.optimize(router=router)"
   ]
  },
  {
   "cell_type": "code",
   "execution_count": 19,
   "id": "fbb5bb95",
   "metadata": {},
   "outputs": [
    {
     "data": {
      "text/plain": [
       "1596.158040734816"
      ]
     },
     "execution_count": 19,
     "metadata": {},
     "output_type": "execute_result"
    }
   ],
   "source": [
    "wfn.length()"
   ]
  },
  {
   "cell_type": "markdown",
   "id": "b4165029",
   "metadata": {},
   "source": [
    "### Get solution_time"
   ]
  },
  {
   "cell_type": "markdown",
   "id": "3d18f6e4",
   "metadata": {},
   "source": [
    "We can see the solution time for HGS using:\n",
    "```python\n",
    "wfn.S.graph['solution_time']\n",
    "```\n",
    "It prints the computation time for each subgroup of turbines assigned to a specific substation.\n",
    "The HGS algorithm groups turbines and allocates each group to a substation prior to optimization."
   ]
  },
  {
   "cell_type": "code",
   "execution_count": 20,
   "id": "5aaefea4",
   "metadata": {},
   "outputs": [
    {
     "name": "stdout",
     "output_type": "stream",
     "text": [
      "0.06\n"
     ]
    }
   ],
   "source": [
    "print(wfn.S.graph['solution_time'])"
   ]
  },
  {
   "cell_type": "markdown",
   "id": "2bb4e742",
   "metadata": {},
   "source": [
    "### Choosing `time_limit` wisely"
   ]
  },
  {
   "cell_type": "markdown",
   "id": "ed68ae5c",
   "metadata": {},
   "source": [
    "Based on the solution times observed in the previous step, we can make an informed decision about the time limit for the HGS router. If increasing the time limit does not significantly improve the solution (e.g., does not result in a noticeably shorter cable length), we can consider reducing it to save computational resources. In this case, a time limit of 0.1 second appears to be sufficient, as it is well above all the solution times."
   ]
  },
  {
   "cell_type": "code",
   "execution_count": 21,
   "id": "45d586b9",
   "metadata": {},
   "outputs": [],
   "source": [
    "router_reduced_timelimit = HGSRouter(time_limit=0.1)\n",
    "res_reduced_timelimit = wfn.optimize(router=router_reduced_timelimit)"
   ]
  },
  {
   "cell_type": "code",
   "execution_count": 22,
   "id": "c8947907",
   "metadata": {},
   "outputs": [
    {
     "name": "stdout",
     "output_type": "stream",
     "text": [
      "0.05\n"
     ]
    }
   ],
   "source": [
    "print(wfn.S.graph['solution_time'])"
   ]
  },
  {
   "cell_type": "markdown",
   "id": "c61410af",
   "metadata": {},
   "source": [
    "#### Check the length\n",
    "\n",
    "We can see that, as expected, reducing the time limt from 10 seconds to 1 seconds has not affected the resultant length."
   ]
  },
  {
   "cell_type": "code",
   "execution_count": 23,
   "id": "045e232b",
   "metadata": {},
   "outputs": [
    {
     "data": {
      "text/plain": [
       "1596.158040734816"
      ]
     },
     "execution_count": 23,
     "metadata": {},
     "output_type": "execute_result"
    }
   ],
   "source": [
    "wfn.length()"
   ]
  },
  {
   "cell_type": "markdown",
   "id": "8d7ad952",
   "metadata": {},
   "source": [
    "### Plot the Optimized Network Graph"
   ]
  },
  {
   "cell_type": "code",
   "execution_count": 24,
   "id": "696b6ca2",
   "metadata": {},
   "outputs": [
    {
     "data": {
      "image/svg+xml": [
       "<svg xmlns=\"http://www.w3.org/2000/svg\" viewBox=\"0 0 1920 891\"><defs><circle stroke=\"orange\" stroke-opacity=\"0.3\" stroke-width=\"4\" id=\"dt\" r=\"23\" fill=\"none\"/><circle stroke=\"none\" stroke-width=\"2\" id=\"wtg\" r=\"12\"/><rect stroke=\"#111\" stroke-width=\"2\" id=\"oss\" width=\"21\" height=\"21\" fill=\"lawngreen\"/><filter x=\"-5%\" y=\"-5%\" id=\"bg_textbox\" width=\"110%\" height=\"110%\"><feFlood flood-opacity=\"0.6\" flood-color=\"black\" result=\"bg\"/><feMerge><feMergeNode in=\"bg\"/><feMergeNode in=\"SourceGraphic\"/></feMerge></filter></defs><g id=\"dtu\"><path stroke=\"silver\" stroke-dasharray=\"15 7\" stroke-width=\"2\" id=\"border\" d=\"M30 861 405 859 519 794 605 676 650 524 650 366 770 366 770 861 1150 861 1149 366 1270 366 1271 533 1319 684 1408 799 1522 860 1646 858 1759 793 1845 675 1890 525 1890 30 1625 30 1625 501 1618 537 1606 564 1589 579 1572 580 1555 566 1542 539 1535 502 1535 31 30 30z M260 658 260 233 328 232 372 263 407 323 426 400 426 485 408 564 375 625 331 658z\" fill-rule=\"evenodd\" fill=\"#111\"/><g stroke=\"crimson\" stroke-width=\"4\" id=\"edges_unspecified\"><line x1=\"633\" y1=\"448\" x2=\"438\" y2=\"556\"/><line x1=\"525\" y1=\"753\" x2=\"438\" y2=\"556\"/><line x1=\"329\" y1=\"847\" x2=\"525\" y2=\"753\"/><line x1=\"329\" y1=\"847\" x2=\"236\" y2=\"687\"/><line x1=\"77\" y1=\"590\" x2=\"236\" y2=\"687\"/><line x1=\"77\" y1=\"590\" x2=\"51\" y2=\"845\"/><line x1=\"1210\" y1=\"331\" x2=\"1271\" y2=\"147\"/><line x1=\"1210\" y1=\"331\" x2=\"915\" y2=\"397\"/><line x1=\"1210\" y1=\"331\" x2=\"1068\" y2=\"249\"/><line x1=\"1210\" y1=\"331\" x2=\"1313\" y2=\"351\"/><line x1=\"1129\" y1=\"512\" x2=\"1137\" y2=\"704\"/><line x1=\"993\" y1=\"847\" x2=\"1137\" y2=\"704\"/><line x1=\"904\" y1=\"678\" x2=\"993\" y2=\"847\"/><line x1=\"785\" y1=\"526\" x2=\"904\" y2=\"678\"/><line x1=\"1338\" y1=\"626\" x2=\"1446\" y2=\"787\"/><line x1=\"1643\" y1=\"840\" x2=\"1446\" y2=\"787\"/><line x1=\"1643\" y1=\"840\" x2=\"1823\" y2=\"671\"/><line x1=\"1823\" y1=\"671\" x2=\"1875\" y2=\"478\"/><line x1=\"1313\" y1=\"351\" x2=\"1445\" y2=\"482\"/><line x1=\"1445\" y1=\"482\" x2=\"1588\" y2=\"630\"/><line x1=\"1649\" y1=\"377\" x2=\"1692\" y2=\"146\"/><line x1=\"1876\" y1=\"252\" x2=\"1692\" y2=\"146\"/><line x1=\"1876\" y1=\"252\" x2=\"1878\" y2=\"42\"/><line x1=\"1271\" y1=\"147\" x2=\"1517\" y2=\"49\"/><line x1=\"1517\" y1=\"49\" x2=\"1519\" y2=\"280\"/><line x1=\"1064\" y1=\"42\" x2=\"1068\" y2=\"249\"/><line x1=\"1064\" y1=\"42\" x2=\"828\" y2=\"155\"/><line x1=\"630\" y1=\"43\" x2=\"828\" y2=\"155\"/><line x1=\"392\" y1=\"81\" x2=\"630\" y2=\"43\"/><line x1=\"107\" y1=\"42\" x2=\"392\" y2=\"81\"/><line x1=\"739\" y1=\"334\" x2=\"915\" y2=\"397\"/><line x1=\"575\" y1=\"202\" x2=\"739\" y2=\"334\"/><line x1=\"420\" y1=\"282\" x2=\"575\" y2=\"202\"/><line x1=\"237\" y1=\"206\" x2=\"239\" y2=\"398\"/><line x1=\"58\" y1=\"286\" x2=\"239\" y2=\"398\"/></g><g stroke=\"red\" stroke-width=\"4\" id=\"edges_contour\"><line x1=\"1588\" y1=\"630\" x2=\"1618\" y2=\"537\"/><line x1=\"1649\" y1=\"377\" x2=\"1618\" y2=\"537\"/><line x1=\"420\" y1=\"282\" x2=\"328\" y2=\"232\"/><line x1=\"237\" y1=\"206\" x2=\"328\" y2=\"232\"/></g><g stroke=\"darkorange\" stroke-dasharray=\"18 15\" stroke-width=\"4\" id=\"detours\" fill=\"none\"><polyline points=\"1210 331 1270 366 1338 626\"/><polyline points=\"1210 331 915 397 770 366 650 366 633 448\"/><polyline points=\"1210 331 1149 366 1129 512\"/></g><g id=\"DTgrp\"><use href=\"#dt\" x=\"1270\" y=\"366\"/><use href=\"#dt\" x=\"650\" y=\"366\"/><use href=\"#dt\" x=\"770\" y=\"366\"/><use href=\"#dt\" x=\"915\" y=\"397\"/><use href=\"#dt\" x=\"1149\" y=\"366\"/></g><g id=\"WTGgrp\"><g fill=\"#1f77b4\"><use href=\"#wtg\" x=\"633\" y=\"448\"/><use href=\"#wtg\" x=\"438\" y=\"556\"/><use href=\"#wtg\" x=\"525\" y=\"753\"/><use href=\"#wtg\" x=\"329\" y=\"847\"/><use href=\"#wtg\" x=\"236\" y=\"687\"/><use href=\"#wtg\" x=\"77\" y=\"590\"/><use href=\"#wtg\" x=\"51\" y=\"845\"/></g><g fill=\"#aec7e8\"><use href=\"#wtg\" x=\"1129\" y=\"512\"/><use href=\"#wtg\" x=\"1137\" y=\"704\"/><use href=\"#wtg\" x=\"993\" y=\"847\"/><use href=\"#wtg\" x=\"904\" y=\"678\"/><use href=\"#wtg\" x=\"785\" y=\"526\"/></g><g fill=\"#ff7f0e\"><use href=\"#wtg\" x=\"1338\" y=\"626\"/><use href=\"#wtg\" x=\"1446\" y=\"787\"/><use href=\"#wtg\" x=\"1643\" y=\"840\"/><use href=\"#wtg\" x=\"1823\" y=\"671\"/><use href=\"#wtg\" x=\"1875\" y=\"478\"/></g><g fill=\"#ffbb78\"><use href=\"#wtg\" x=\"1313\" y=\"351\"/><use href=\"#wtg\" x=\"1445\" y=\"482\"/><use href=\"#wtg\" x=\"1588\" y=\"630\"/><use href=\"#wtg\" x=\"1649\" y=\"377\"/><use href=\"#wtg\" x=\"1692\" y=\"146\"/><use href=\"#wtg\" x=\"1876\" y=\"252\"/><use href=\"#wtg\" x=\"1878\" y=\"42\"/></g><g fill=\"#2ca02c\"><use href=\"#wtg\" x=\"1271\" y=\"147\"/><use href=\"#wtg\" x=\"1517\" y=\"49\"/><use href=\"#wtg\" x=\"1519\" y=\"280\"/></g><g fill=\"#98df8a\"><use href=\"#wtg\" x=\"1068\" y=\"249\"/><use href=\"#wtg\" x=\"1064\" y=\"42\"/><use href=\"#wtg\" x=\"828\" y=\"155\"/><use href=\"#wtg\" x=\"630\" y=\"43\"/><use href=\"#wtg\" x=\"392\" y=\"81\"/><use href=\"#wtg\" x=\"107\" y=\"42\"/></g><g fill=\"#d62728\"><use href=\"#wtg\" x=\"915\" y=\"397\"/><use href=\"#wtg\" x=\"739\" y=\"334\"/><use href=\"#wtg\" x=\"575\" y=\"202\"/><use href=\"#wtg\" x=\"420\" y=\"282\"/><use href=\"#wtg\" x=\"237\" y=\"206\"/><use href=\"#wtg\" x=\"239\" y=\"398\"/><use href=\"#wtg\" x=\"58\" y=\"286\"/></g></g><g id=\"OSSgrp\"><use href=\"#oss\" x=\"1199.5\" y=\"320.5\"/></g></g><text filter=\"url(#bg_textbox)\" text-anchor=\"end\" font-family=\"sans-serif\" font-size=\"40\" fill=\"white\" x=\"1890\" y=\"861\"><tspan x=\"1890\" dy=\"-0.0em\">3192316 &#8364;</tspan><tspan x=\"1890\" dy=\"-1.3em\">&#931;&#955; = 1596.2 m</tspan><tspan x=\"1890\" dy=\"-1.3em\">(+1) [-1]: 7</tspan><tspan x=\"1890\" dy=\"-1.3em\">&#954; = 7, T = 40</tspan></text></svg>"
      ],
      "text/plain": [
       "<optiwindnet.api.WindFarmNetwork at 0x26c4756af60>"
      ]
     },
     "execution_count": 24,
     "metadata": {},
     "output_type": "execute_result"
    }
   ],
   "source": [
    "wfn"
   ]
  }
 ],
 "metadata": {
  "kernelspec": {
   "display_name": "OptiWindNet",
   "language": "python",
   "name": "python3"
  },
  "language_info": {
   "codemirror_mode": {
    "name": "ipython",
    "version": 3
   },
   "file_extension": ".py",
   "mimetype": "text/x-python",
   "name": "python",
   "nbconvert_exporter": "python",
   "pygments_lexer": "ipython3",
   "version": "3.12.9"
  }
 },
 "nbformat": 4,
 "nbformat_minor": 5
}
