{
 "cells": [
  {
   "cell_type": "markdown",
   "id": "fbed597e",
   "metadata": {},
   "source": [
    "# HGSRouter example"
   ]
  },
  {
   "cell_type": "markdown",
   "id": "5767fd33",
   "metadata": {},
   "source": [
    "This notebook uses `OptiWindNet` to route the collector system cables via `HGSRouter`."
   ]
  },
  {
   "cell_type": "markdown",
   "id": "9fe197e1",
   "metadata": {},
   "source": [
    "## 🧬 HGS (Hybrid Genetic Search)"
   ]
  },
  {
   "cell_type": "markdown",
   "id": "6b901e0f",
   "metadata": {},
   "source": [
    "`HGSRouter` is a *metaheuristic based router* that applies *Hybrid Genetic Search (HGS)* to solve the wind farm network layout problem as a *Capacitated Vehicle Routing Problem (CVRP)*. It can handle both single and multiple substations and is well-suited for *fast and high-quality layouts*.\n",
    "\n",
    "This router is slower than `EWRouter` but typically yields *better-quality solutions*, especially for medium and large windfarms with one substation."
   ]
  },
  {
   "cell_type": "markdown",
   "id": "1435a3f2",
   "metadata": {},
   "source": [
    "### 🔧 Constructor: `HGSRouter(...)`"
   ]
  },
  {
   "cell_type": "markdown",
   "id": "917f3e68",
   "metadata": {},
   "source": [
    "**Required arguments:**\n",
    "\n",
    "| Argument     | Type  | Description                                                                                                             |\n",
    "| ------------ | ----- | ----------------------------------------------------------------------------------------------------------------------- |\n",
    "| `time_limit` | `int` | Time limit (in seconds) which controls how long the genetic algorithm can search for better solutions. |\n",
    "\n",
    "**Optional arguments:**\n",
    "\n",
    "| Argument       | Type          | Description                                                                             |\n",
    "| -------------- | ------------- | --------------------------------------------------------------------------------------- |\n",
    "| `feeder_limit` | `int or None` | Maximum number of feeders (only used in single-substation problems).                    |\n",
    "| `max_iter`     | `int`         | Maximum number of local iterations (default: `10`).                                     |\n",
    "| `balanced`     | `bool`        | If `True`, tries to balance the number of turbines per feeder. |\n",
    "| `seed`         | `int`         | Random seed for reproducibility (default: `0`).                                         |\n",
    "| `verbose`      | `bool`        | If `True`, prints routing details and warnings.                                         |\n",
    "\n",
    "**✅ Example**\n",
    "\n",
    "```python\n",
    "router = HGSRouter(time_limit=60, feeder_limit=10, balanced=True)\n",
    "wf = WindFarmNetwork(cables=..., turbinesC=..., substationsC=..., router=router)\n",
    "wf.optimize()\n",
    "```\n",
    "* HGSRouter trades speed for *higher-quality layouts* and is particularly useful when:\n",
    "\n",
    "  * A better solution is worth longer runtime (respect to `EWRouter`)\n",
    "  * The number of turbines connected to each feeder needs to be balanced\n",
    "\n",
    "* In *multi-substation networks*, the `feeder_limit` is ignored (not yet supported)."
   ]
  },
  {
   "cell_type": "markdown",
   "id": "b9ee6aad",
   "metadata": {},
   "source": [
    ">This router is implemented [vidalt/HGS-CVRP: Modern implementation of the hybrid genetic search (HGS) algorithm specialized to the capacitated vehicle routing problem (CVRP). This code also includes an additional neighborhood called SWAP\\*.](https://github.com/vidalt/HGS-CVRP)\n",
    ">\n",
    ">HGSRouter can only produce *radial* topologies. Since a *radial* topology is a special case of the *branched* topology, solutions produced by this method can be used to warm-start both *branched*- and *radial*-topology models."
   ]
  },
  {
   "cell_type": "markdown",
   "id": "ce9294e2",
   "metadata": {},
   "source": [
    "## Load data"
   ]
  },
  {
   "cell_type": "markdown",
   "id": "89e1961f",
   "metadata": {},
   "source": [
    "import required modules"
   ]
  },
  {
   "cell_type": "code",
   "execution_count": 54,
   "id": "c42a3703-113b-4aee-8dfb-a0b3b54663e6",
   "metadata": {},
   "outputs": [],
   "source": [
    "from optiwindnet.api import WindFarmNetwork, HGSRouter"
   ]
  },
  {
   "cell_type": "code",
   "execution_count": 55,
   "id": "dcede524",
   "metadata": {},
   "outputs": [],
   "source": [
    "# Display figures as SVG in Jupyter notebooks\n",
    "%config InlineBackend.figure_formats = ['svg']"
   ]
  },
  {
   "cell_type": "markdown",
   "id": "bde9df37",
   "metadata": {},
   "source": [
    "Create an instance of `wfn` using `.from_pbf()`\n"
   ]
  },
  {
   "cell_type": "code",
   "execution_count": 56,
   "id": "ed908310",
   "metadata": {},
   "outputs": [],
   "source": [
    "wfn = WindFarmNetwork.from_pbf(filepath='data/DTU_letters.osm.pbf', cables=7)"
   ]
  },
  {
   "cell_type": "code",
   "execution_count": 57,
   "id": "c838598f",
   "metadata": {},
   "outputs": [
    {
     "data": {
      "text/plain": [
       "<Axes: >"
      ]
     },
     "execution_count": 57,
     "metadata": {},
     "output_type": "execute_result"
    },
    {
     "data": {
      "image/svg+xml": [
       "<?xml version=\"1.0\" encoding=\"utf-8\" standalone=\"no\"?>\n",
       "<!DOCTYPE svg PUBLIC \"-//W3C//DTD SVG 1.1//EN\"\n",
       "  \"http://www.w3.org/Graphics/SVG/1.1/DTD/svg11.dtd\">\n",
       "<svg xmlns:xlink=\"http://www.w3.org/1999/xlink\" width=\"469.19952pt\" height=\"217.542663pt\" viewBox=\"0 0 469.19952 217.542663\" xmlns=\"http://www.w3.org/2000/svg\" version=\"1.1\">\n",
       " <metadata>\n",
       "  <rdf:RDF xmlns:dc=\"http://purl.org/dc/elements/1.1/\" xmlns:cc=\"http://creativecommons.org/ns#\" xmlns:rdf=\"http://www.w3.org/1999/02/22-rdf-syntax-ns#\">\n",
       "   <cc:Work>\n",
       "    <dc:type rdf:resource=\"http://purl.org/dc/dcmitype/StillImage\"/>\n",
       "    <dc:date>2025-08-14T21:23:51.492016</dc:date>\n",
       "    <dc:format>image/svg+xml</dc:format>\n",
       "    <dc:creator>\n",
       "     <cc:Agent>\n",
       "      <dc:title>Matplotlib v3.10.1, https://matplotlib.org/</dc:title>\n",
       "     </cc:Agent>\n",
       "    </dc:creator>\n",
       "   </cc:Work>\n",
       "  </rdf:RDF>\n",
       " </metadata>\n",
       " <defs>\n",
       "  <style type=\"text/css\">*{stroke-linejoin: round; stroke-linecap: butt}</style>\n",
       " </defs>\n",
       " <g id=\"figure_1\">\n",
       "  <g id=\"axes_1\">\n",
       "   <g id=\"patch_1\">\n",
       "    <path d=\"M 9.451483 209.333075 \n",
       "L 100.339339 208.814006 \n",
       "L 127.757652 193.070537 \n",
       "L 148.588074 164.498413 \n",
       "L 159.54525 127.793242 \n",
       "L 159.545717 89.53808 \n",
       "L 188.636171 89.538366 \n",
       "L 188.635305 209.337006 \n",
       "L 280.545964 209.336949 \n",
       "L 280.475652 89.538346 \n",
       "L 309.566094 89.538046 \n",
       "L 309.835324 129.834074 \n",
       "L 321.616018 166.523859 \n",
       "L 343.00123 194.405404 \n",
       "L 370.731589 209.212767 \n",
       "L 400.585404 208.705612 \n",
       "L 428.028907 192.945443 \n",
       "L 448.866548 164.341615 \n",
       "L 459.743874 127.8968 \n",
       "L 459.748037 8.205672 \n",
       "L 395.586998 8.207731 \n",
       "L 395.59007 122.175193 \n",
       "L 393.97801 130.814482 \n",
       "L 390.961637 137.489646 \n",
       "L 386.983002 141.157209 \n",
       "L 382.657543 141.280079 \n",
       "L 378.635386 137.827549 \n",
       "L 375.531995 131.33668 \n",
       "L 373.824138 122.313849 \n",
       "L 373.804144 8.37707 \n",
       "L 9.458961 8.205657 \n",
       "z\n",
       "M 65.216458 160.292141 \n",
       "L 65.219333 57.234882 \n",
       "L 81.515457 57.051177 \n",
       "L 92.324458 64.662578 \n",
       "L 100.654242 78.979686 \n",
       "L 105.247975 97.838832 \n",
       "L 105.3949 118.355145 \n",
       "L 101.077701 137.413584 \n",
       "L 92.955198 152.098598 \n",
       "L 82.258332 160.200519 \n",
       "z\n",
       "\" clip-path=\"url(#pd5b4129030)\" style=\"fill: #111111; stroke-dasharray: 2.59,1.12; stroke-dashoffset: 0; stroke: #c0c0c0; stroke-width: 0.7; stroke-linejoin: miter\"/>\n",
       "   </g>\n",
       "   <g id=\"PathCollection_1\">\n",
       "    <defs>\n",
       "     <path id=\"mbe7a901f12\" d=\"M -2.95804 2.95804 \n",
       "L 2.95804 2.95804 \n",
       "L 2.95804 -2.95804 \n",
       "L -2.95804 -2.95804 \n",
       "z\n",
       "\" style=\"stroke: #111111; stroke-width: 0.3\"/>\n",
       "    </defs>\n",
       "    <g>\n",
       "     <use xlink:href=\"#mbe7a901f12\" x=\"295.064126\" y=\"80.929654\" style=\"fill: #7cfc00; stroke: #111111; stroke-width: 0.3\"/>\n",
       "    </g>\n",
       "   </g>\n",
       "   <g id=\"PathCollection_2\">\n",
       "    <defs>\n",
       "     <path id=\"C0_0_528647c7c8\" d=\"M 0 2.95804 \n",
       "C 0.784481 2.95804 1.536938 2.646362 2.09165 2.09165 \n",
       "C 2.646362 1.536938 2.95804 0.784481 2.95804 -0 \n",
       "C 2.95804 -0.784481 2.646362 -1.536938 2.09165 -2.09165 \n",
       "C 1.536938 -2.646362 0.784481 -2.95804 0 -2.95804 \n",
       "C -0.784481 -2.95804 -1.536938 -2.646362 -2.09165 -2.09165 \n",
       "C -2.646362 -1.536938 -2.95804 -0.784481 -2.95804 0 \n",
       "C -2.95804 0.784481 -2.646362 1.536938 -2.09165 2.09165 \n",
       "C -1.536938 2.646362 -0.784481 2.95804 0 2.95804 \n",
       "z\n",
       "\"/>\n",
       "    </defs>\n",
       "    <use xlink:href=\"#C0_0_528647c7c8\" x=\"28.086568\" y=\"10.983779\" style=\"fill: #9edae5\"/>\n",
       "    <use xlink:href=\"#C0_0_528647c7c8\" x=\"59.541881\" y=\"50.835839\" style=\"fill: #9edae5\"/>\n",
       "    <use xlink:href=\"#C0_0_528647c7c8\" x=\"16.139803\" y=\"70.138481\" style=\"fill: #9edae5\"/>\n",
       "    <use xlink:href=\"#C0_0_528647c7c8\" x=\"60.164648\" y=\"97.254592\" style=\"fill: #9edae5\"/>\n",
       "    <use xlink:href=\"#C0_0_528647c7c8\" x=\"20.89603\" y=\"143.764143\" style=\"fill: #9edae5\"/>\n",
       "    <use xlink:href=\"#C0_0_528647c7c8\" x=\"81.83245\" y=\"205.836639\" style=\"fill: #9edae5\"/>\n",
       "    <use xlink:href=\"#C0_0_528647c7c8\" x=\"129.196766\" y=\"183.142326\" style=\"fill: #9edae5\"/>\n",
       "    <use xlink:href=\"#C0_0_528647c7c8\" x=\"59.330484\" y=\"167.25862\" style=\"fill: #9edae5\"/>\n",
       "    <use xlink:href=\"#C0_0_528647c7c8\" x=\"155.402066\" y=\"109.271738\" style=\"fill: #9edae5\"/>\n",
       "    <use xlink:href=\"#C0_0_528647c7c8\" x=\"108.237729\" y=\"135.388191\" style=\"fill: #9edae5\"/>\n",
       "    <use xlink:href=\"#C0_0_528647c7c8\" x=\"103.870346\" y=\"69.266349\" style=\"fill: #9edae5\"/>\n",
       "    <use xlink:href=\"#C0_0_528647c7c8\" x=\"97.179636\" y=\"20.4383\" style=\"fill: #9edae5\"/>\n",
       "    <use xlink:href=\"#C0_0_528647c7c8\" x=\"141.377795\" y=\"49.778851\" style=\"fill: #9edae5\"/>\n",
       "    <use xlink:href=\"#C0_0_528647c7c8\" x=\"180.999562\" y=\"81.635614\" style=\"fill: #9edae5\"/>\n",
       "    <use xlink:href=\"#C0_0_528647c7c8\" x=\"154.753237\" y=\"11.339736\" style=\"fill: #9edae5\"/>\n",
       "    <use xlink:href=\"#C0_0_528647c7c8\" x=\"259.76701\" y=\"11.156076\" style=\"fill: #9edae5\"/>\n",
       "    <use xlink:href=\"#C0_0_528647c7c8\" x=\"223.681657\" y=\"97.088278\" style=\"fill: #9edae5\"/>\n",
       "    <use xlink:href=\"#C0_0_528647c7c8\" x=\"192.120521\" y=\"128.28459\" style=\"fill: #9edae5\"/>\n",
       "    <use xlink:href=\"#C0_0_528647c7c8\" x=\"400.013166\" y=\"204.209538\" style=\"fill: #9edae5\"/>\n",
       "    <use xlink:href=\"#C0_0_528647c7c8\" x=\"220.977049\" y=\"164.943984\" style=\"fill: #9edae5\"/>\n",
       "    <use xlink:href=\"#C0_0_528647c7c8\" x=\"242.691217\" y=\"205.945893\" style=\"fill: #9edae5\"/>\n",
       "    <use xlink:href=\"#C0_0_528647c7c8\" x=\"275.621716\" y=\"124.816595\" style=\"fill: #9edae5\"/>\n",
       "    <use xlink:href=\"#C0_0_528647c7c8\" x=\"202.696242\" y=\"38.301401\" style=\"fill: #9edae5\"/>\n",
       "    <use xlink:href=\"#C0_0_528647c7c8\" x=\"309.886146\" y=\"36.582364\" style=\"fill: #9edae5\"/>\n",
       "    <use xlink:href=\"#C0_0_528647c7c8\" x=\"260.764059\" y=\"61.18086\" style=\"fill: #9edae5\"/>\n",
       "    <use xlink:href=\"#C0_0_528647c7c8\" x=\"369.478876\" y=\"12.765845\" style=\"fill: #9edae5\"/>\n",
       "    <use xlink:href=\"#C0_0_528647c7c8\" x=\"370.000226\" y=\"68.744471\" style=\"fill: #9edae5\"/>\n",
       "    <use xlink:href=\"#C0_0_528647c7c8\" x=\"320.115226\" y=\"85.824407\" style=\"fill: #9edae5\"/>\n",
       "    <use xlink:href=\"#C0_0_528647c7c8\" x=\"352.118787\" y=\"117.695469\" style=\"fill: #9edae5\"/>\n",
       "    <use xlink:href=\"#C0_0_528647c7c8\" x=\"326.019292\" y=\"152.360336\" style=\"fill: #9edae5\"/>\n",
       "    <use xlink:href=\"#C0_0_528647c7c8\" x=\"352.146266\" y=\"191.382257\" style=\"fill: #9edae5\"/>\n",
       "    <use xlink:href=\"#C0_0_528647c7c8\" x=\"386.567244\" y=\"153.525305\" style=\"fill: #9edae5\"/>\n",
       "    <use xlink:href=\"#C0_0_528647c7c8\" x=\"443.414158\" y=\"163.390419\" style=\"fill: #9edae5\"/>\n",
       "    <use xlink:href=\"#C0_0_528647c7c8\" x=\"401.405611\" y=\"92.129485\" style=\"fill: #9edae5\"/>\n",
       "    <use xlink:href=\"#C0_0_528647c7c8\" x=\"456.189477\" y=\"116.664382\" style=\"fill: #9edae5\"/>\n",
       "    <use xlink:href=\"#C0_0_528647c7c8\" x=\"456.438824\" y=\"61.974735\" style=\"fill: #9edae5\"/>\n",
       "    <use xlink:href=\"#C0_0_528647c7c8\" x=\"14.4186\" y=\"205.404926\" style=\"fill: #9edae5\"/>\n",
       "    <use xlink:href=\"#C0_0_528647c7c8\" x=\"411.927138\" y=\"36.319348\" style=\"fill: #9edae5\"/>\n",
       "    <use xlink:href=\"#C0_0_528647c7c8\" x=\"456.853006\" y=\"10.998573\" style=\"fill: #9edae5\"/>\n",
       "    <use xlink:href=\"#C0_0_528647c7c8\" x=\"277.555086\" y=\"171.327349\" style=\"fill: #9edae5\"/>\n",
       "   </g>\n",
       "  </g>\n",
       " </g>\n",
       " <defs>\n",
       "  <clipPath id=\"pd5b4129030\">\n",
       "   <rect x=\"7.2\" y=\"7.2\" width=\"454.79952\" height=\"203.142663\"/>\n",
       "  </clipPath>\n",
       " </defs>\n",
       "</svg>\n"
      ],
      "text/plain": [
       "<Figure size 1228.8x921.6 with 1 Axes>"
      ]
     },
     "metadata": {},
     "output_type": "display_data"
    }
   ],
   "source": [
    "wfn.plot_location()"
   ]
  },
  {
   "cell_type": "markdown",
   "id": "5d38a18d-ab5e-4b03-ae74-9ccb4dedbe07",
   "metadata": {},
   "source": [
    "## Optimize with HGSRouter"
   ]
  },
  {
   "cell_type": "code",
   "execution_count": 58,
   "id": "7884b794",
   "metadata": {},
   "outputs": [],
   "source": [
    "router = HGSRouter(time_limit=10)"
   ]
  },
  {
   "cell_type": "code",
   "execution_count": 59,
   "id": "98fc84a8",
   "metadata": {},
   "outputs": [],
   "source": [
    "res = wfn.optimize(router=router)"
   ]
  },
  {
   "cell_type": "code",
   "execution_count": 60,
   "id": "fbb5bb95",
   "metadata": {},
   "outputs": [
    {
     "data": {
      "text/plain": [
       "1596.158040734816"
      ]
     },
     "execution_count": 60,
     "metadata": {},
     "output_type": "execute_result"
    }
   ],
   "source": [
    "wfn.length()"
   ]
  },
  {
   "cell_type": "markdown",
   "id": "b4165029",
   "metadata": {},
   "source": [
    "### Get solution_time"
   ]
  },
  {
   "cell_type": "markdown",
   "id": "3d18f6e4",
   "metadata": {},
   "source": [
    "We can see the solution time for HGS using:\n",
    "```python\n",
    "wfn.S.graph['solution_time']\n",
    "```\n",
    "It prints the computation time for each subgroup of turbines assigned to a specific substation.\n",
    "The HGS algorithm groups turbines and allocates each group to a substation prior to optimization."
   ]
  },
  {
   "cell_type": "code",
   "execution_count": 61,
   "id": "5aaefea4",
   "metadata": {},
   "outputs": [
    {
     "name": "stdout",
     "output_type": "stream",
     "text": [
      "0.06\n"
     ]
    }
   ],
   "source": [
    "print(wfn.S.graph['solution_time'])"
   ]
  },
  {
   "cell_type": "markdown",
   "id": "2bb4e742",
   "metadata": {},
   "source": [
    "### Choosing `time_limit` wisely"
   ]
  },
  {
   "cell_type": "markdown",
   "id": "ed68ae5c",
   "metadata": {},
   "source": [
    "Based on the solution times observed in the previous step, we can make an informed decision about the time limit for the HGS router. If increasing the time limit does not significantly improve the solution (e.g., does not result in a noticeably shorter cable length), we can consider reducing it to save computational resources. In this case, a time limit of 0.1 second appears to be sufficient, as it is well above all the solution times."
   ]
  },
  {
   "cell_type": "code",
   "execution_count": 62,
   "id": "45d586b9",
   "metadata": {},
   "outputs": [],
   "source": [
    "router_reduced_timelimit = HGSRouter(time_limit=0.1)\n",
    "res_reduced_timelimit = wfn.optimize(router=router_reduced_timelimit)"
   ]
  },
  {
   "cell_type": "code",
   "execution_count": 63,
   "id": "c8947907",
   "metadata": {},
   "outputs": [
    {
     "name": "stdout",
     "output_type": "stream",
     "text": [
      "0.1\n"
     ]
    }
   ],
   "source": [
    "print(wfn.S.graph['solution_time'])"
   ]
  },
  {
   "cell_type": "markdown",
   "id": "c61410af",
   "metadata": {},
   "source": [
    "#### Check the length\n",
    "\n",
    "We can see that, as expected, reducing the time limt from 10 seconds to 1 seconds has not affected the resultant length."
   ]
  },
  {
   "cell_type": "code",
   "execution_count": 64,
   "id": "045e232b",
   "metadata": {},
   "outputs": [
    {
     "data": {
      "text/plain": [
       "1596.158040734816"
      ]
     },
     "execution_count": 64,
     "metadata": {},
     "output_type": "execute_result"
    }
   ],
   "source": [
    "wfn.length()"
   ]
  },
  {
   "cell_type": "markdown",
   "id": "8d7ad952",
   "metadata": {},
   "source": [
    "### Plot the Optimized Network Graph"
   ]
  },
  {
   "cell_type": "code",
   "execution_count": 65,
   "id": "696b6ca2",
   "metadata": {},
   "outputs": [
    {
     "data": {
      "text/plain": [
       "<Axes: >"
      ]
     },
     "execution_count": 65,
     "metadata": {},
     "output_type": "execute_result"
    },
    {
     "data": {
      "image/svg+xml": [
       "<?xml version=\"1.0\" encoding=\"utf-8\" standalone=\"no\"?>\n",
       "<!DOCTYPE svg PUBLIC \"-//W3C//DTD SVG 1.1//EN\"\n",
       "  \"http://www.w3.org/Graphics/SVG/1.1/DTD/svg11.dtd\">\n",
       "<svg xmlns:xlink=\"http://www.w3.org/1999/xlink\" width=\"469.19952pt\" height=\"214.810896pt\" viewBox=\"0 0 469.19952 214.810896\" xmlns=\"http://www.w3.org/2000/svg\" version=\"1.1\">\n",
       " <metadata>\n",
       "  <rdf:RDF xmlns:dc=\"http://purl.org/dc/elements/1.1/\" xmlns:cc=\"http://creativecommons.org/ns#\" xmlns:rdf=\"http://www.w3.org/1999/02/22-rdf-syntax-ns#\">\n",
       "   <cc:Work>\n",
       "    <dc:type rdf:resource=\"http://purl.org/dc/dcmitype/StillImage\"/>\n",
       "    <dc:date>2025-08-14T21:24:02.084272</dc:date>\n",
       "    <dc:format>image/svg+xml</dc:format>\n",
       "    <dc:creator>\n",
       "     <cc:Agent>\n",
       "      <dc:title>Matplotlib v3.10.1, https://matplotlib.org/</dc:title>\n",
       "     </cc:Agent>\n",
       "    </dc:creator>\n",
       "   </cc:Work>\n",
       "  </rdf:RDF>\n",
       " </metadata>\n",
       " <defs>\n",
       "  <style type=\"text/css\">*{stroke-linejoin: round; stroke-linecap: butt}</style>\n",
       " </defs>\n",
       " <g id=\"figure_1\">\n",
       "  <g id=\"axes_1\">\n",
       "   <g id=\"patch_1\">\n",
       "    <path d=\"M 25.323704 200.733346 \n",
       "L 109.417297 200.25308 \n",
       "L 134.785971 185.686504 \n",
       "L 154.059229 159.250271 \n",
       "L 164.197308 125.288972 \n",
       "L 164.19774 89.89355 \n",
       "L 191.113555 89.893815 \n",
       "L 191.112754 200.736984 \n",
       "L 276.152691 200.736931 \n",
       "L 276.087634 89.893796 \n",
       "L 303.003439 89.893519 \n",
       "L 303.252543 127.177243 \n",
       "L 314.152579 161.124306 \n",
       "L 333.939153 186.921584 \n",
       "L 359.596547 200.622032 \n",
       "L 387.218659 200.152789 \n",
       "L 412.61064 185.570761 \n",
       "L 431.890576 159.105195 \n",
       "L 441.954775 125.384789 \n",
       "L 441.958627 14.641094 \n",
       "L 382.593906 14.643 \n",
       "L 382.596747 120.090896 \n",
       "L 381.105197 128.084361 \n",
       "L 378.31431 134.260527 \n",
       "L 374.633096 137.653924 \n",
       "L 370.630984 137.767609 \n",
       "L 366.9095 134.573171 \n",
       "L 364.038101 128.567523 \n",
       "L 362.457914 120.219188 \n",
       "L 362.439415 14.79968 \n",
       "L 25.330623 14.64108 \n",
       "z\n",
       "M 76.920004 155.358436 \n",
       "L 76.922664 60.005157 \n",
       "L 92.000582 59.835184 \n",
       "L 102.001563 66.877601 \n",
       "L 109.70866 80.124442 \n",
       "L 113.958991 97.573785 \n",
       "L 114.094932 116.556414 \n",
       "L 110.100463 134.190151 \n",
       "L 102.585153 147.777397 \n",
       "L 92.687924 155.273663 \n",
       "z\n",
       "\" clip-path=\"url(#p7464b2de6a)\" style=\"fill: #111111; stroke-dasharray: 2.59,1.12; stroke-dashoffset: 0; stroke: #c0c0c0; stroke-width: 0.7; stroke-linejoin: miter\"/>\n",
       "   </g>\n",
       "   <g id=\"LineCollection_1\">\n",
       "    <path d=\"M 374.248417 149.097451 \n",
       "L 381.105197 128.084361 \n",
       "\" clip-path=\"url(#p7464b2de6a)\" style=\"fill: none; stroke: #ff0000; stroke-linecap: round\"/>\n",
       "    <path d=\"M 387.977552 92.291237 \n",
       "L 381.105197 128.084361 \n",
       "\" clip-path=\"url(#p7464b2de6a)\" style=\"fill: none; stroke: #ff0000; stroke-linecap: round\"/>\n",
       "    <path d=\"M 112.684346 71.13722 \n",
       "L 92.000582 59.835184 \n",
       "\" clip-path=\"url(#p7464b2de6a)\" style=\"fill: none; stroke: #ff0000; stroke-linecap: round\"/>\n",
       "    <path d=\"M 71.669627 54.084471 \n",
       "L 92.000582 59.835184 \n",
       "\" clip-path=\"url(#p7464b2de6a)\" style=\"fill: none; stroke: #ff0000; stroke-linecap: round\"/>\n",
       "   </g>\n",
       "   <g id=\"LineCollection_2\">\n",
       "    <path d=\"M 160.363844 108.152031 \n",
       "L 116.725247 132.316166 \n",
       "\" clip-path=\"url(#p7464b2de6a)\" style=\"fill: none; stroke: #dc143c; stroke-linecap: round\"/>\n",
       "    <path d=\"M 116.725247 132.316166 \n",
       "L 136.117505 176.500471 \n",
       "\" clip-path=\"url(#p7464b2de6a)\" style=\"fill: none; stroke: #dc143c; stroke-linecap: round\"/>\n",
       "    <path d=\"M 136.117505 176.500471 \n",
       "L 92.293878 197.498284 \n",
       "\" clip-path=\"url(#p7464b2de6a)\" style=\"fill: none; stroke: #dc143c; stroke-linecap: round\"/>\n",
       "    <path d=\"M 92.293878 197.498284 \n",
       "L 71.474032 161.804141 \n",
       "\" clip-path=\"url(#p7464b2de6a)\" style=\"fill: none; stroke: #dc143c; stroke-linecap: round\"/>\n",
       "    <path d=\"M 71.474032 161.804141 \n",
       "L 35.912721 140.065978 \n",
       "\" clip-path=\"url(#p7464b2de6a)\" style=\"fill: none; stroke: #dc143c; stroke-linecap: round\"/>\n",
       "    <path d=\"M 35.912721 140.065978 \n",
       "L 29.919508 197.098844 \n",
       "\" clip-path=\"url(#p7464b2de6a)\" style=\"fill: none; stroke: #dc143c; stroke-linecap: round\"/>\n",
       "    <path d=\"M 289.585556 81.928642 \n",
       "L 303.299565 40.896505 \n",
       "\" clip-path=\"url(#p7464b2de6a)\" style=\"fill: none; stroke: #dc143c; stroke-linecap: round\"/>\n",
       "    <path d=\"M 289.585556 81.928642 \n",
       "L 223.539239 96.879338 \n",
       "\" clip-path=\"url(#p7464b2de6a)\" style=\"fill: none; stroke: #dc143c; stroke-linecap: round\"/>\n",
       "    <path d=\"M 289.585556 81.928642 \n",
       "L 257.849569 63.656156 \n",
       "\" clip-path=\"url(#p7464b2de6a)\" style=\"fill: none; stroke: #dc143c; stroke-linecap: round\"/>\n",
       "    <path d=\"M 289.585556 81.928642 \n",
       "L 312.763977 86.457491 \n",
       "\" clip-path=\"url(#p7464b2de6a)\" style=\"fill: none; stroke: #dc143c; stroke-linecap: round\"/>\n",
       "    <path d=\"M 271.596552 122.534842 \n",
       "L 273.385394 165.568715 \n",
       "\" clip-path=\"url(#p7464b2de6a)\" style=\"fill: none; stroke: #dc143c; stroke-linecap: round\"/>\n",
       "    <path d=\"M 273.385394 165.568715 \n",
       "L 241.127751 197.599371 \n",
       "\" clip-path=\"url(#p7464b2de6a)\" style=\"fill: none; stroke: #dc143c; stroke-linecap: round\"/>\n",
       "    <path d=\"M 241.127751 197.599371 \n",
       "L 221.036812 159.662534 \n",
       "\" clip-path=\"url(#p7464b2de6a)\" style=\"fill: none; stroke: #dc143c; stroke-linecap: round\"/>\n",
       "    <path d=\"M 221.036812 159.662534 \n",
       "L 194.337435 125.743589 \n",
       "\" clip-path=\"url(#p7464b2de6a)\" style=\"fill: none; stroke: #dc143c; stroke-linecap: round\"/>\n",
       "    <path d=\"M 318.226689 148.019569 \n",
       "L 342.400558 184.124431 \n",
       "\" clip-path=\"url(#p7464b2de6a)\" style=\"fill: none; stroke: #dc143c; stroke-linecap: round\"/>\n",
       "    <path d=\"M 342.400558 184.124431 \n",
       "L 386.689198 195.992816 \n",
       "\" clip-path=\"url(#p7464b2de6a)\" style=\"fill: none; stroke: #dc143c; stroke-linecap: round\"/>\n",
       "    <path d=\"M 386.689198 195.992816 \n",
       "L 426.845777 158.225104 \n",
       "\" clip-path=\"url(#p7464b2de6a)\" style=\"fill: none; stroke: #dc143c; stroke-linecap: round\"/>\n",
       "    <path d=\"M 426.845777 158.225104 \n",
       "L 438.666085 114.992043 \n",
       "\" clip-path=\"url(#p7464b2de6a)\" style=\"fill: none; stroke: #dc143c; stroke-linecap: round\"/>\n",
       "    <path d=\"M 312.763977 86.457491 \n",
       "L 342.375133 115.946051 \n",
       "\" clip-path=\"url(#p7464b2de6a)\" style=\"fill: none; stroke: #dc143c; stroke-linecap: round\"/>\n",
       "    <path d=\"M 342.375133 115.946051 \n",
       "L 374.248417 149.097451 \n",
       "\" clip-path=\"url(#p7464b2de6a)\" style=\"fill: none; stroke: #dc143c; stroke-linecap: round\"/>\n",
       "    <path d=\"M 387.977552 92.291237 \n",
       "L 397.712548 40.65315 \n",
       "\" clip-path=\"url(#p7464b2de6a)\" style=\"fill: none; stroke: #dc143c; stroke-linecap: round\"/>\n",
       "    <path d=\"M 397.712548 40.65315 \n",
       "L 438.896792 64.390685 \n",
       "\" clip-path=\"url(#p7464b2de6a)\" style=\"fill: none; stroke: #dc143c; stroke-linecap: round\"/>\n",
       "    <path d=\"M 438.896792 64.390685 \n",
       "L 439.280012 17.225213 \n",
       "\" clip-path=\"url(#p7464b2de6a)\" style=\"fill: none; stroke: #dc143c; stroke-linecap: round\"/>\n",
       "    <path d=\"M 303.299565 40.896505 \n",
       "L 358.437479 18.860375 \n",
       "\" clip-path=\"url(#p7464b2de6a)\" style=\"fill: none; stroke: #dc143c; stroke-linecap: round\"/>\n",
       "    <path d=\"M 358.437479 18.860375 \n",
       "L 358.919856 70.654354 \n",
       "\" clip-path=\"url(#p7464b2de6a)\" style=\"fill: none; stroke: #dc143c; stroke-linecap: round\"/>\n",
       "    <path d=\"M 257.849569 63.656156 \n",
       "L 256.927054 17.370943 \n",
       "\" clip-path=\"url(#p7464b2de6a)\" style=\"fill: none; stroke: #dc143c; stroke-linecap: round\"/>\n",
       "    <path d=\"M 256.927054 17.370943 \n",
       "L 204.122575 42.487036 \n",
       "\" clip-path=\"url(#p7464b2de6a)\" style=\"fill: none; stroke: #dc143c; stroke-linecap: round\"/>\n",
       "    <path d=\"M 204.122575 42.487036 \n",
       "L 159.763519 17.540874 \n",
       "\" clip-path=\"url(#p7464b2de6a)\" style=\"fill: none; stroke: #dc143c; stroke-linecap: round\"/>\n",
       "    <path d=\"M 159.763519 17.540874 \n",
       "L 106.493795 25.95928 \n",
       "\" clip-path=\"url(#p7464b2de6a)\" style=\"fill: none; stroke: #dc143c; stroke-linecap: round\"/>\n",
       "    <path d=\"M 106.493795 25.95928 \n",
       "L 42.565736 17.211525 \n",
       "\" clip-path=\"url(#p7464b2de6a)\" style=\"fill: none; stroke: #dc143c; stroke-linecap: round\"/>\n",
       "    <path d=\"M 223.539239 96.879338 \n",
       "L 184.047816 82.581828 \n",
       "\" clip-path=\"url(#p7464b2de6a)\" style=\"fill: none; stroke: #dc143c; stroke-linecap: round\"/>\n",
       "    <path d=\"M 184.047816 82.581828 \n",
       "L 147.387949 53.106497 \n",
       "\" clip-path=\"url(#p7464b2de6a)\" style=\"fill: none; stroke: #dc143c; stroke-linecap: round\"/>\n",
       "    <path d=\"M 147.387949 53.106497 \n",
       "L 112.684346 71.13722 \n",
       "\" clip-path=\"url(#p7464b2de6a)\" style=\"fill: none; stroke: #dc143c; stroke-linecap: round\"/>\n",
       "    <path d=\"M 71.669627 54.084471 \n",
       "L 72.245839 97.03322 \n",
       "\" clip-path=\"url(#p7464b2de6a)\" style=\"fill: none; stroke: #dc143c; stroke-linecap: round\"/>\n",
       "    <path d=\"M 72.245839 97.03322 \n",
       "L 31.512043 71.944156 \n",
       "\" clip-path=\"url(#p7464b2de6a)\" style=\"fill: none; stroke: #dc143c; stroke-linecap: round\"/>\n",
       "   </g>\n",
       "   <g id=\"LineCollection_3\">\n",
       "    <path d=\"M 160.363844 108.152031 \n",
       "L 164.19774 89.89355 \n",
       "\" clip-path=\"url(#p7464b2de6a)\" style=\"fill: none; stroke-dasharray: 3,3; stroke-dashoffset: 0; stroke: #ff8c00; stroke-linecap: round\"/>\n",
       "    <path d=\"M 289.585556 81.928642 \n",
       "L 303.003439 89.893519 \n",
       "\" clip-path=\"url(#p7464b2de6a)\" style=\"fill: none; stroke-dasharray: 3,3; stroke-dashoffset: 0; stroke: #ff8c00; stroke-linecap: round\"/>\n",
       "    <path d=\"M 289.585556 81.928642 \n",
       "L 223.539239 96.879338 \n",
       "\" clip-path=\"url(#p7464b2de6a)\" style=\"fill: none; stroke-dasharray: 3,3; stroke-dashoffset: 0; stroke: #ff8c00; stroke-linecap: round\"/>\n",
       "    <path d=\"M 289.585556 81.928642 \n",
       "L 276.087634 89.893796 \n",
       "\" clip-path=\"url(#p7464b2de6a)\" style=\"fill: none; stroke-dasharray: 3,3; stroke-dashoffset: 0; stroke: #ff8c00; stroke-linecap: round\"/>\n",
       "    <path d=\"M 271.596552 122.534842 \n",
       "L 276.087634 89.893796 \n",
       "\" clip-path=\"url(#p7464b2de6a)\" style=\"fill: none; stroke-dasharray: 3,3; stroke-dashoffset: 0; stroke: #ff8c00; stroke-linecap: round\"/>\n",
       "    <path d=\"M 318.226689 148.019569 \n",
       "L 303.003439 89.893519 \n",
       "\" clip-path=\"url(#p7464b2de6a)\" style=\"fill: none; stroke-dasharray: 3,3; stroke-dashoffset: 0; stroke: #ff8c00; stroke-linecap: round\"/>\n",
       "    <path d=\"M 164.19774 89.89355 \n",
       "L 191.113555 89.893815 \n",
       "\" clip-path=\"url(#p7464b2de6a)\" style=\"fill: none; stroke-dasharray: 3,3; stroke-dashoffset: 0; stroke: #ff8c00; stroke-linecap: round\"/>\n",
       "    <path d=\"M 191.113555 89.893815 \n",
       "L 223.539239 96.879338 \n",
       "\" clip-path=\"url(#p7464b2de6a)\" style=\"fill: none; stroke-dasharray: 3,3; stroke-dashoffset: 0; stroke: #ff8c00; stroke-linecap: round\"/>\n",
       "   </g>\n",
       "   <g id=\"PathCollection_1\">\n",
       "    <defs>\n",
       "     <path id=\"m295227ce33\" d=\"M -2.95804 2.95804 \n",
       "L 2.95804 2.95804 \n",
       "L 2.95804 -2.95804 \n",
       "L -2.95804 -2.95804 \n",
       "z\n",
       "\" style=\"stroke: #111111; stroke-width: 0.3\"/>\n",
       "    </defs>\n",
       "    <g>\n",
       "     <use xlink:href=\"#m295227ce33\" x=\"289.585556\" y=\"81.928642\" style=\"fill: #7cfc00; stroke: #111111; stroke-width: 0.3\"/>\n",
       "    </g>\n",
       "   </g>\n",
       "   <g id=\"PathCollection_2\">\n",
       "    <defs>\n",
       "     <path id=\"C0_0_a71834d2ed\" d=\"M 0 2.95804 \n",
       "C 0.784481 2.95804 1.536938 2.646362 2.09165 2.09165 \n",
       "C 2.646362 1.536938 2.95804 0.784481 2.95804 -0 \n",
       "C 2.95804 -0.784481 2.646362 -1.536938 2.09165 -2.09165 \n",
       "C 1.536938 -2.646362 0.784481 -2.95804 0 -2.95804 \n",
       "C -0.784481 -2.95804 -1.536938 -2.646362 -2.09165 -2.09165 \n",
       "C -2.646362 -1.536938 -2.95804 -0.784481 -2.95804 0 \n",
       "C -2.95804 0.784481 -2.646362 1.536938 -2.09165 2.09165 \n",
       "C -1.536938 2.646362 -0.784481 2.95804 0 2.95804 \n",
       "z\n",
       "\"/>\n",
       "    </defs>\n",
       "    <use xlink:href=\"#C0_0_a71834d2ed\" x=\"42.565736\" y=\"17.211525\" style=\"fill: #98df8a\"/>\n",
       "    <use xlink:href=\"#C0_0_a71834d2ed\" x=\"71.669627\" y=\"54.084471\" style=\"fill: #d62728\"/>\n",
       "    <use xlink:href=\"#C0_0_a71834d2ed\" x=\"31.512043\" y=\"71.944156\" style=\"fill: #d62728\"/>\n",
       "    <use xlink:href=\"#C0_0_a71834d2ed\" x=\"72.245839\" y=\"97.03322\" style=\"fill: #d62728\"/>\n",
       "    <use xlink:href=\"#C0_0_a71834d2ed\" x=\"35.912721\" y=\"140.065978\" style=\"fill: #1f77b4\"/>\n",
       "    <use xlink:href=\"#C0_0_a71834d2ed\" x=\"92.293878\" y=\"197.498284\" style=\"fill: #1f77b4\"/>\n",
       "    <use xlink:href=\"#C0_0_a71834d2ed\" x=\"136.117505\" y=\"176.500471\" style=\"fill: #1f77b4\"/>\n",
       "    <use xlink:href=\"#C0_0_a71834d2ed\" x=\"71.474032\" y=\"161.804141\" style=\"fill: #1f77b4\"/>\n",
       "    <use xlink:href=\"#C0_0_a71834d2ed\" x=\"160.363844\" y=\"108.152031\" style=\"fill: #1f77b4\"/>\n",
       "    <use xlink:href=\"#C0_0_a71834d2ed\" x=\"116.725247\" y=\"132.316166\" style=\"fill: #1f77b4\"/>\n",
       "    <use xlink:href=\"#C0_0_a71834d2ed\" x=\"112.684346\" y=\"71.13722\" style=\"fill: #d62728\"/>\n",
       "    <use xlink:href=\"#C0_0_a71834d2ed\" x=\"106.493795\" y=\"25.95928\" style=\"fill: #98df8a\"/>\n",
       "    <use xlink:href=\"#C0_0_a71834d2ed\" x=\"147.387949\" y=\"53.106497\" style=\"fill: #d62728\"/>\n",
       "    <use xlink:href=\"#C0_0_a71834d2ed\" x=\"184.047816\" y=\"82.581828\" style=\"fill: #d62728\"/>\n",
       "    <use xlink:href=\"#C0_0_a71834d2ed\" x=\"159.763519\" y=\"17.540874\" style=\"fill: #98df8a\"/>\n",
       "    <use xlink:href=\"#C0_0_a71834d2ed\" x=\"256.927054\" y=\"17.370943\" style=\"fill: #98df8a\"/>\n",
       "    <use xlink:href=\"#C0_0_a71834d2ed\" x=\"223.539239\" y=\"96.879338\" style=\"fill: #d62728\"/>\n",
       "    <use xlink:href=\"#C0_0_a71834d2ed\" x=\"194.337435\" y=\"125.743589\" style=\"fill: #aec7e8\"/>\n",
       "    <use xlink:href=\"#C0_0_a71834d2ed\" x=\"386.689198\" y=\"195.992816\" style=\"fill: #ff7f0e\"/>\n",
       "    <use xlink:href=\"#C0_0_a71834d2ed\" x=\"221.036812\" y=\"159.662534\" style=\"fill: #aec7e8\"/>\n",
       "    <use xlink:href=\"#C0_0_a71834d2ed\" x=\"241.127751\" y=\"197.599371\" style=\"fill: #aec7e8\"/>\n",
       "    <use xlink:href=\"#C0_0_a71834d2ed\" x=\"271.596552\" y=\"122.534842\" style=\"fill: #aec7e8\"/>\n",
       "    <use xlink:href=\"#C0_0_a71834d2ed\" x=\"204.122575\" y=\"42.487036\" style=\"fill: #98df8a\"/>\n",
       "    <use xlink:href=\"#C0_0_a71834d2ed\" x=\"303.299565\" y=\"40.896505\" style=\"fill: #2ca02c\"/>\n",
       "    <use xlink:href=\"#C0_0_a71834d2ed\" x=\"257.849569\" y=\"63.656156\" style=\"fill: #98df8a\"/>\n",
       "    <use xlink:href=\"#C0_0_a71834d2ed\" x=\"358.437479\" y=\"18.860375\" style=\"fill: #2ca02c\"/>\n",
       "    <use xlink:href=\"#C0_0_a71834d2ed\" x=\"358.919856\" y=\"70.654354\" style=\"fill: #2ca02c\"/>\n",
       "    <use xlink:href=\"#C0_0_a71834d2ed\" x=\"312.763977\" y=\"86.457491\" style=\"fill: #ffbb78\"/>\n",
       "    <use xlink:href=\"#C0_0_a71834d2ed\" x=\"342.375133\" y=\"115.946051\" style=\"fill: #ffbb78\"/>\n",
       "    <use xlink:href=\"#C0_0_a71834d2ed\" x=\"318.226689\" y=\"148.019569\" style=\"fill: #ff7f0e\"/>\n",
       "    <use xlink:href=\"#C0_0_a71834d2ed\" x=\"342.400558\" y=\"184.124431\" style=\"fill: #ff7f0e\"/>\n",
       "    <use xlink:href=\"#C0_0_a71834d2ed\" x=\"374.248417\" y=\"149.097451\" style=\"fill: #ffbb78\"/>\n",
       "    <use xlink:href=\"#C0_0_a71834d2ed\" x=\"426.845777\" y=\"158.225104\" style=\"fill: #ff7f0e\"/>\n",
       "    <use xlink:href=\"#C0_0_a71834d2ed\" x=\"387.977552\" y=\"92.291237\" style=\"fill: #ffbb78\"/>\n",
       "    <use xlink:href=\"#C0_0_a71834d2ed\" x=\"438.666085\" y=\"114.992043\" style=\"fill: #ff7f0e\"/>\n",
       "    <use xlink:href=\"#C0_0_a71834d2ed\" x=\"438.896792\" y=\"64.390685\" style=\"fill: #ffbb78\"/>\n",
       "    <use xlink:href=\"#C0_0_a71834d2ed\" x=\"29.919508\" y=\"197.098844\" style=\"fill: #1f77b4\"/>\n",
       "    <use xlink:href=\"#C0_0_a71834d2ed\" x=\"397.712548\" y=\"40.65315\" style=\"fill: #ffbb78\"/>\n",
       "    <use xlink:href=\"#C0_0_a71834d2ed\" x=\"439.280012\" y=\"17.225213\" style=\"fill: #ffbb78\"/>\n",
       "    <use xlink:href=\"#C0_0_a71834d2ed\" x=\"273.385394\" y=\"165.568715\" style=\"fill: #aec7e8\"/>\n",
       "   </g>\n",
       "   <g id=\"PathCollection_3\">\n",
       "    <defs>\n",
       "     <path id=\"C1_0_b5c4c5c384\" d=\"M 0 4.743416 \n",
       "C 1.257969 4.743416 2.464584 4.24362 3.354102 3.354102 \n",
       "C 4.24362 2.464584 4.743416 1.257969 4.743416 -0 \n",
       "C 4.743416 -1.257969 4.24362 -2.464584 3.354102 -3.354102 \n",
       "C 2.464584 -4.24362 1.257969 -4.743416 0 -4.743416 \n",
       "C -1.257969 -4.743416 -2.464584 -4.24362 -3.354102 -3.354102 \n",
       "C -4.24362 -2.464584 -4.743416 -1.257969 -4.743416 0 \n",
       "C -4.743416 1.257969 -4.24362 2.464584 -3.354102 3.354102 \n",
       "C -2.464584 4.24362 -1.257969 4.743416 0 4.743416 \n",
       "z\n",
       "\"/>\n",
       "    </defs>\n",
       "    <use xlink:href=\"#C1_0_b5c4c5c384\" x=\"303.003439\" y=\"89.893519\" style=\"fill: none; stroke: #ffa500; stroke-opacity: 0.4\"/>\n",
       "    <use xlink:href=\"#C1_0_b5c4c5c384\" x=\"164.19774\" y=\"89.89355\" style=\"fill: none; stroke: #ffa500; stroke-opacity: 0.4\"/>\n",
       "    <use xlink:href=\"#C1_0_b5c4c5c384\" x=\"191.113555\" y=\"89.893815\" style=\"fill: none; stroke: #ffa500; stroke-opacity: 0.4\"/>\n",
       "    <use xlink:href=\"#C1_0_b5c4c5c384\" x=\"223.539239\" y=\"96.879338\" style=\"fill: none; stroke: #ffa500; stroke-opacity: 0.4\"/>\n",
       "    <use xlink:href=\"#C1_0_b5c4c5c384\" x=\"276.087634\" y=\"89.893796\" style=\"fill: none; stroke: #ffa500; stroke-opacity: 0.4\"/>\n",
       "   </g>\n",
       "   <g id=\"legend_1\">\n",
       "    <g id=\"patch_2\">\n",
       "     <path d=\"M 14.2 137.368386 \n",
       "L 108.059375 137.368386 \n",
       "Q 110.059375 137.368386 110.059375 135.368386 \n",
       "L 110.059375 79.442511 \n",
       "Q 110.059375 77.442511 108.059375 77.442511 \n",
       "L 14.2 77.442511 \n",
       "Q 12.2 77.442511 12.2 79.442511 \n",
       "L 12.2 135.368386 \n",
       "Q 12.2 137.368386 14.2 137.368386 \n",
       "z\n",
       "\" style=\"fill: #111111; opacity: 0.6; stroke: #ffffff; stroke-linejoin: miter\"/>\n",
       "    </g>\n",
       "    <g id=\"text_1\">\n",
       "     <text style=\"font-size: 12px; font-family: 'DejaVu Sans', 'Bitstream Vera Sans', 'Computer Modern Sans Serif', 'Lucida Grande', 'Verdana', 'Geneva', 'Lucid', 'Arial', 'Helvetica', 'Avant Garde', sans-serif; fill: #ffffff\" transform=\"translate(20.979375 90.560636)\">κ = 7, T = 40</text>\n",
       "     <text style=\"font-size: 12px; font-family: 'DejaVu Sans', 'Bitstream Vera Sans', 'Computer Modern Sans Serif', 'Lucida Grande', 'Verdana', 'Geneva', 'Lucid', 'Arial', 'Helvetica', 'Avant Garde', sans-serif; fill: #ffffff\" transform=\"translate(27.285938 103.998011)\">(+1) [-1]: 7</text>\n",
       "     <text style=\"font-size: 12px; font-family: 'DejaVu Sans', 'Bitstream Vera Sans', 'Computer Modern Sans Serif', 'Lucida Grande', 'Verdana', 'Geneva', 'Lucid', 'Arial', 'Helvetica', 'Avant Garde', sans-serif; fill: #ffffff\" transform=\"translate(16.2 117.435386)\">Σλ = 1596.2 m</text>\n",
       "     <text style=\"font-size: 12px; font-family: 'DejaVu Sans', 'Bitstream Vera Sans', 'Computer Modern Sans Serif', 'Lucida Grande', 'Verdana', 'Geneva', 'Lucid', 'Arial', 'Helvetica', 'Avant Garde', sans-serif; fill: #ffffff\" transform=\"translate(51.587813 130.872761)\">0 €</text>\n",
       "    </g>\n",
       "   </g>\n",
       "  </g>\n",
       " </g>\n",
       " <defs>\n",
       "  <clipPath id=\"p7464b2de6a\">\n",
       "   <rect x=\"7.2\" y=\"7.2\" width=\"454.79952\" height=\"200.410896\"/>\n",
       "  </clipPath>\n",
       " </defs>\n",
       "</svg>\n"
      ],
      "text/plain": [
       "<Figure size 1228.8x921.6 with 1 Axes>"
      ]
     },
     "metadata": {},
     "output_type": "display_data"
    }
   ],
   "source": [
    "wfn.plot()"
   ]
  }
 ],
 "metadata": {
  "kernelspec": {
   "display_name": "OptiWindNet",
   "language": "python",
   "name": "python3"
  },
  "language_info": {
   "codemirror_mode": {
    "name": "ipython",
    "version": 3
   },
   "file_extension": ".py",
   "mimetype": "text/x-python",
   "name": "python",
   "nbconvert_exporter": "python",
   "pygments_lexer": "ipython3",
   "version": "3.12.9"
  }
 },
 "nbformat": 4,
 "nbformat_minor": 5
}
