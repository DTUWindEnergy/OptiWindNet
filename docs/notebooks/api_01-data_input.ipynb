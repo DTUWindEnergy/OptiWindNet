{
 "cells": [
  {
   "attachments": {},
   "cell_type": "markdown",
   "id": "3e61c1aa-b033-4628-939c-81f08eeaa32c",
   "metadata": {},
   "source": [
    "**Note**: many of the jupyter notebooks provided here have SVG figures as cell outputs, which will only be displayed by JupyterLab or Jupyter Notebook if the notebook is marked as **trusted** (In JupyterLab: Ctrl+Shift+C -> Trust Notebook)."
   ]
  },
  {
   "cell_type": "markdown",
   "id": "06194dbd",
   "metadata": {},
   "source": [
    "Import WindFarmNetwork from optiwindnet.api"
   ]
  },
  {
   "cell_type": "code",
   "execution_count": 11,
   "id": "fa29e2ac-26f7-4927-bebf-eeef30a5ab37",
   "metadata": {},
   "outputs": [],
   "source": [
    "from optiwindnet.api import WindFarmNetwork"
   ]
  },
  {
   "cell_type": "markdown",
   "id": "5ec7e27e-3eef-427a-ac74-f4f6ea49c935",
   "metadata": {},
   "source": [
    "# Data Input"
   ]
  },
  {
   "cell_type": "markdown",
   "id": "fca2771e-61e8-4f29-a6ae-8bbce26c4762",
   "metadata": {},
   "source": [
    "There are 3 alternatives to import wind farm layout data for use within **optiwindnet**:\n",
    "- optiwindnet API\n",
    "- `.yaml` file\n",
    "- `.osm.pbf` file"
   ]
  },
  {
   "cell_type": "markdown",
   "id": "1bcfeda4-e9da-4305-b7ab-22c38f96f199",
   "metadata": {},
   "source": [
    "### Option 0: Use the optiwindnet API from Python"
   ]
  },
  {
   "cell_type": "code",
   "execution_count": 12,
   "id": "f82d5c6e-408c-4173-a434-157d53347e58",
   "metadata": {},
   "outputs": [],
   "source": [
    "import numpy as np"
   ]
  },
  {
   "cell_type": "code",
   "execution_count": 13,
   "id": "e93a9280-594e-4840-8ea6-ec2a0bd800b3",
   "metadata": {},
   "outputs": [],
   "source": [
    "# all coordinates are sequences of (x, y) pairs\n",
    "# if input coordinates are in arrays X and Y, use `np.hstack((X, Y))`\n",
    "borderC = np.array( # coordinate sequence defines the polygon, last-first segment implicit\n",
    "    [[1951, 200], [1951, 1383], [386, 1383], [650, 708], [624, 678],\n",
    "     [4, 1036], [4, 3], [1152, 3], [917, 819], [957, 854]],\n",
    "    dtype=float)\n",
    "obstaclesC = [\n",
    "    # first obstacle\n",
    "    np.array([[1540, 920], [1600, 940], [1600, 1150], [1400, 1200]]),\n",
    "    # [second obstacle] ...\n",
    "]\n",
    "substationsC = np.array([[696, 1063],], dtype=float)\n",
    "turbinesC = np.array(\n",
    "    [[1940, 279], [1920, 703], [1475, 696], [1839, 1250],\n",
    "     [1277, 1296], [442, 1359], [737, 435], [1060, 26],\n",
    "     [522, 176], [87, 35], [184, 417], [71, 878]],\n",
    "    dtype=float)\n",
    "cables = [(3, 206), (5, 287), (7, 406)]"
   ]
  },
  {
   "cell_type": "code",
   "execution_count": 14,
   "id": "06fae7b8",
   "metadata": {},
   "outputs": [],
   "source": [
    "wfn1 = WindFarmNetwork(turbinesC=turbinesC, substationsC=substationsC, cables=cables, borderC=borderC, obstaclesC=obstaclesC)"
   ]
  },
  {
   "cell_type": "code",
   "execution_count": 15,
   "id": "5539b8f8-a4d6-4aa6-b1c3-faf04331f38a",
   "metadata": {},
   "outputs": [
    {
     "data": {
      "text/plain": [
       "<Axes: >"
      ]
     },
     "execution_count": 15,
     "metadata": {},
     "output_type": "execute_result"
    },
    {
     "data": {
      "image/svg+xml": [
       "<?xml version=\"1.0\" encoding=\"utf-8\" standalone=\"no\"?>\n",
       "<!DOCTYPE svg PUBLIC \"-//W3C//DTD SVG 1.1//EN\"\n",
       "  \"http://www.w3.org/Graphics/SVG/1.1/DTD/svg11.dtd\">\n",
       "<svg xmlns:xlink=\"http://www.w3.org/1999/xlink\" width=\"469.19952pt\" height=\"336.754051pt\" viewBox=\"0 0 469.19952 336.754051\" xmlns=\"http://www.w3.org/2000/svg\" version=\"1.1\">\n",
       " <metadata>\n",
       "  <rdf:RDF xmlns:dc=\"http://purl.org/dc/elements/1.1/\" xmlns:cc=\"http://creativecommons.org/ns#\" xmlns:rdf=\"http://www.w3.org/1999/02/22-rdf-syntax-ns#\">\n",
       "   <cc:Work>\n",
       "    <dc:type rdf:resource=\"http://purl.org/dc/dcmitype/StillImage\"/>\n",
       "    <dc:date>2025-05-21T17:28:45.280019</dc:date>\n",
       "    <dc:format>image/svg+xml</dc:format>\n",
       "    <dc:creator>\n",
       "     <cc:Agent>\n",
       "      <dc:title>Matplotlib v3.10.1, https://matplotlib.org/</dc:title>\n",
       "     </cc:Agent>\n",
       "    </dc:creator>\n",
       "   </cc:Work>\n",
       "  </rdf:RDF>\n",
       " </metadata>\n",
       " <defs>\n",
       "  <style type=\"text/css\">*{stroke-linejoin: round; stroke-linecap: butt}</style>\n",
       " </defs>\n",
       " <g id=\"figure_1\">\n",
       "  <g id=\"axes_1\">\n",
       "   <g id=\"patch_1\">\n",
       "    <path d=\"M 459.748037 282.396646 \n",
       "L 459.748037 8.795812 \n",
       "L 97.799343 8.795812 \n",
       "L 158.856503 164.907869 \n",
       "L 152.843298 171.846182 \n",
       "L 9.451483 89.048973 \n",
       "L 9.451483 327.958239 \n",
       "L 274.957618 327.958239 \n",
       "L 220.607494 139.236108 \n",
       "L 229.858579 131.141409 \n",
       "z\n",
       "M 332.314344 51.119525 \n",
       "L 378.569768 62.683381 \n",
       "L 378.569768 111.251577 \n",
       "L 364.693141 115.877119 \n",
       "z\n",
       "\" clip-path=\"url(#pa5a7f08d74)\" style=\"fill: #111111; stroke-dasharray: 2.59,1.12; stroke-dashoffset: 0; stroke: #c0c0c0; stroke-width: 0.7; stroke-linejoin: miter\"/>\n",
       "   </g>\n",
       "   <g id=\"PathCollection_1\">\n",
       "    <path d=\"M 166.537211 85.762531 \n",
       "L 172.45329 85.762531 \n",
       "L 172.45329 79.846451 \n",
       "L 166.537211 79.846451 \n",
       "z\n",
       "\" style=\"fill: #7cfc00\"/>\n",
       "   </g>\n",
       "   <g id=\"PathCollection_2\">\n",
       "    <defs>\n",
       "     <path id=\"C0_0_54c26eed4e\" d=\"M 0 2.95804 \n",
       "C 0.784481 2.95804 1.536938 2.646362 2.09165 2.09165 \n",
       "C 2.646362 1.536938 2.95804 0.784481 2.95804 -0 \n",
       "C 2.95804 -0.784481 2.646362 -1.536938 2.09165 -2.09165 \n",
       "C 1.536938 -2.646362 0.784481 -2.95804 0 -2.95804 \n",
       "C -0.784481 -2.95804 -1.536938 -2.646362 -2.09165 -2.09165 \n",
       "C -2.646362 -1.536938 -2.95804 -0.784481 -2.95804 0 \n",
       "C -2.95804 0.784481 -2.646362 1.536938 -2.09165 2.09165 \n",
       "C -1.536938 2.646362 -0.784481 2.95804 0 2.95804 \n",
       "z\n",
       "\"/>\n",
       "    </defs>\n",
       "    <use xlink:href=\"#C0_0_54c26eed4e\" x=\"457.203989\" y=\"264.125754\" style=\"fill: #9edae5\"/>\n",
       "    <use xlink:href=\"#C0_0_54c26eed4e\" x=\"452.578446\" y=\"166.064254\" style=\"fill: #9edae5\"/>\n",
       "    <use xlink:href=\"#C0_0_54c26eed4e\" x=\"349.660128\" y=\"167.683194\" style=\"fill: #9edae5\"/>\n",
       "    <use xlink:href=\"#C0_0_54c26eed4e\" x=\"433.845\" y=\"39.555669\" style=\"fill: #9edae5\"/>\n",
       "    <use xlink:href=\"#C0_0_54c26eed4e\" x=\"303.867258\" y=\"28.916922\" style=\"fill: #9edae5\"/>\n",
       "    <use xlink:href=\"#C0_0_54c26eed4e\" x=\"110.750862\" y=\"14.346463\" style=\"fill: #9edae5\"/>\n",
       "    <use xlink:href=\"#C0_0_54c26eed4e\" x=\"178.977612\" y=\"228.046523\" style=\"fill: #9edae5\"/>\n",
       "    <use xlink:href=\"#C0_0_54c26eed4e\" x=\"253.680122\" y=\"322.638865\" style=\"fill: #9edae5\"/>\n",
       "    <use xlink:href=\"#C0_0_54c26eed4e\" x=\"129.253031\" y=\"287.947297\" style=\"fill: #9edae5\"/>\n",
       "    <use xlink:href=\"#C0_0_54c26eed4e\" x=\"28.647484\" y=\"320.557371\" style=\"fill: #9edae5\"/>\n",
       "    <use xlink:href=\"#C0_0_54c26eed4e\" x=\"51.081365\" y=\"232.209511\" style=\"fill: #9edae5\"/>\n",
       "    <use xlink:href=\"#C0_0_54c26eed4e\" x=\"24.94705\" y=\"125.590758\" style=\"fill: #9edae5\"/>\n",
       "   </g>\n",
       "  </g>\n",
       " </g>\n",
       " <defs>\n",
       "  <clipPath id=\"pa5a7f08d74\">\n",
       "   <rect x=\"7.2\" y=\"7.2\" width=\"454.79952\" height=\"322.354051\"/>\n",
       "  </clipPath>\n",
       " </defs>\n",
       "</svg>\n"
      ],
      "text/plain": [
       "<Figure size 1228.8x921.6 with 1 Axes>"
      ]
     },
     "metadata": {},
     "output_type": "display_data"
    }
   ],
   "source": [
    "# set Matplotlib option to generate inline SVG\n",
    "import matplotlib.pyplot as plt\n",
    "%config InlineBackend.figure_formats = ['svg']\n",
    "plt.rcParams['svg.fonttype'] = 'none'\n",
    "\n",
    "# plot location\n",
    "wfn1.plot_location()"
   ]
  },
  {
   "cell_type": "markdown",
   "id": "ac064931-e789-467f-8378-0e64d098d46a",
   "metadata": {},
   "source": [
    "### Option 1: YAML input file"
   ]
  },
  {
   "cell_type": "code",
   "execution_count": 16,
   "id": "501eb6be-c087-46c2-85cd-11b5de328c57",
   "metadata": {},
   "outputs": [],
   "source": [
    "with open('data/example_location.yaml', 'w') as yaml_file:\n",
    "    yaml_file.write('''\n",
    "# coordinate format can be \"planar\" or \"latlon\"\n",
    "#   - for \"latlon\" examples, see `optiwindnet/data/*.yaml`\n",
    "#   - this field is optional, default is \"latlon\"\n",
    "#   - coordinates are converted to floats, so floats may be used as well\n",
    "COORDINATE_FORMAT: planar\n",
    "\n",
    "# extents define a polygon:\n",
    "#   - do not repeat the initial vertex at the end\n",
    "#   - line breaks are optional\n",
    "EXTENTS: [\n",
    "  [1951, 200],\n",
    "  [1951, 1383],\n",
    "  [386, 1383],\n",
    "  [650, 708],\n",
    "  [624, 678],\n",
    "  [4, 1036],\n",
    "  [4, 3],\n",
    "  [1152, 3],\n",
    "  [917, 819],\n",
    "  [957, 854]\n",
    "]\n",
    "\n",
    "# obstacles is optional and must be a list of polygons (even if 1 obstacle)\n",
    "OBSTACLES: [\n",
    "  [  # first obstacle\n",
    "    [1540, 920],\n",
    "    [1600, 940],\n",
    "    [1600, 1150],\n",
    "    [1400, 1200],\n",
    "  ],\n",
    "  # [second obstacle]\n",
    "]\n",
    "\n",
    "SUBSTATIONS: [\n",
    "  [696, 1063],\n",
    "]\n",
    "\n",
    "TURBINES: [\n",
    "  [1940, 279],\n",
    "  [1920, 703],\n",
    "  [1475, 696],\n",
    "  [1839, 1250],\n",
    "  [1277, 1296],\n",
    "  [442, 1359],\n",
    "  [737, 435],\n",
    "  [1060, 26],\n",
    "  [522, 176],\n",
    "  [87, 35],\n",
    "  [184, 417],\n",
    "  [71, 878],\n",
    "]\n",
    "''')"
   ]
  },
  {
   "cell_type": "code",
   "execution_count": 17,
   "id": "a42be570-4222-4faf-a247-60611d55a09a",
   "metadata": {},
   "outputs": [],
   "source": [
    "wfn2 = WindFarmNetwork.from_yaml('data/example_location.yaml', cables=cables)"
   ]
  },
  {
   "cell_type": "code",
   "execution_count": 18,
   "id": "5dc83b7b-d9be-48e0-9255-fabcef9cc7c2",
   "metadata": {},
   "outputs": [
    {
     "data": {
      "text/plain": [
       "<Axes: >"
      ]
     },
     "execution_count": 18,
     "metadata": {},
     "output_type": "execute_result"
    },
    {
     "data": {
      "image/svg+xml": [
       "<?xml version=\"1.0\" encoding=\"utf-8\" standalone=\"no\"?>\n",
       "<!DOCTYPE svg PUBLIC \"-//W3C//DTD SVG 1.1//EN\"\n",
       "  \"http://www.w3.org/Graphics/SVG/1.1/DTD/svg11.dtd\">\n",
       "<svg xmlns:xlink=\"http://www.w3.org/1999/xlink\" width=\"469.19952pt\" height=\"336.754051pt\" viewBox=\"0 0 469.19952 336.754051\" xmlns=\"http://www.w3.org/2000/svg\" version=\"1.1\">\n",
       " <metadata>\n",
       "  <rdf:RDF xmlns:dc=\"http://purl.org/dc/elements/1.1/\" xmlns:cc=\"http://creativecommons.org/ns#\" xmlns:rdf=\"http://www.w3.org/1999/02/22-rdf-syntax-ns#\">\n",
       "   <cc:Work>\n",
       "    <dc:type rdf:resource=\"http://purl.org/dc/dcmitype/StillImage\"/>\n",
       "    <dc:date>2025-05-21T17:28:45.406340</dc:date>\n",
       "    <dc:format>image/svg+xml</dc:format>\n",
       "    <dc:creator>\n",
       "     <cc:Agent>\n",
       "      <dc:title>Matplotlib v3.10.1, https://matplotlib.org/</dc:title>\n",
       "     </cc:Agent>\n",
       "    </dc:creator>\n",
       "   </cc:Work>\n",
       "  </rdf:RDF>\n",
       " </metadata>\n",
       " <defs>\n",
       "  <style type=\"text/css\">*{stroke-linejoin: round; stroke-linecap: butt}</style>\n",
       " </defs>\n",
       " <g id=\"figure_1\">\n",
       "  <g id=\"axes_1\">\n",
       "   <g id=\"patch_1\">\n",
       "    <path d=\"M 459.748037 282.396646 \n",
       "L 459.748037 8.795812 \n",
       "L 97.799343 8.795812 \n",
       "L 158.856503 164.907869 \n",
       "L 152.843298 171.846182 \n",
       "L 9.451483 89.048973 \n",
       "L 9.451483 327.958239 \n",
       "L 274.957618 327.958239 \n",
       "L 220.607494 139.236108 \n",
       "L 229.858579 131.141409 \n",
       "z\n",
       "M 332.314344 51.119525 \n",
       "L 378.569768 62.683381 \n",
       "L 378.569768 111.251577 \n",
       "L 364.693141 115.877119 \n",
       "z\n",
       "\" clip-path=\"url(#pa14c37076d)\" style=\"fill: #111111; stroke-dasharray: 2.59,1.12; stroke-dashoffset: 0; stroke: #c0c0c0; stroke-width: 0.7; stroke-linejoin: miter\"/>\n",
       "   </g>\n",
       "   <g id=\"PathCollection_1\">\n",
       "    <path d=\"M 166.537211 85.762531 \n",
       "L 172.45329 85.762531 \n",
       "L 172.45329 79.846451 \n",
       "L 166.537211 79.846451 \n",
       "z\n",
       "\" style=\"fill: #7cfc00\"/>\n",
       "   </g>\n",
       "   <g id=\"PathCollection_2\">\n",
       "    <defs>\n",
       "     <path id=\"C0_0_9dc08a7a2b\" d=\"M 0 2.95804 \n",
       "C 0.784481 2.95804 1.536938 2.646362 2.09165 2.09165 \n",
       "C 2.646362 1.536938 2.95804 0.784481 2.95804 -0 \n",
       "C 2.95804 -0.784481 2.646362 -1.536938 2.09165 -2.09165 \n",
       "C 1.536938 -2.646362 0.784481 -2.95804 0 -2.95804 \n",
       "C -0.784481 -2.95804 -1.536938 -2.646362 -2.09165 -2.09165 \n",
       "C -2.646362 -1.536938 -2.95804 -0.784481 -2.95804 0 \n",
       "C -2.95804 0.784481 -2.646362 1.536938 -2.09165 2.09165 \n",
       "C -1.536938 2.646362 -0.784481 2.95804 0 2.95804 \n",
       "z\n",
       "\"/>\n",
       "    </defs>\n",
       "    <use xlink:href=\"#C0_0_9dc08a7a2b\" x=\"457.203989\" y=\"264.125754\" style=\"fill: #9edae5\"/>\n",
       "    <use xlink:href=\"#C0_0_9dc08a7a2b\" x=\"452.578446\" y=\"166.064254\" style=\"fill: #9edae5\"/>\n",
       "    <use xlink:href=\"#C0_0_9dc08a7a2b\" x=\"349.660128\" y=\"167.683194\" style=\"fill: #9edae5\"/>\n",
       "    <use xlink:href=\"#C0_0_9dc08a7a2b\" x=\"433.845\" y=\"39.555669\" style=\"fill: #9edae5\"/>\n",
       "    <use xlink:href=\"#C0_0_9dc08a7a2b\" x=\"303.867258\" y=\"28.916922\" style=\"fill: #9edae5\"/>\n",
       "    <use xlink:href=\"#C0_0_9dc08a7a2b\" x=\"110.750862\" y=\"14.346463\" style=\"fill: #9edae5\"/>\n",
       "    <use xlink:href=\"#C0_0_9dc08a7a2b\" x=\"178.977612\" y=\"228.046523\" style=\"fill: #9edae5\"/>\n",
       "    <use xlink:href=\"#C0_0_9dc08a7a2b\" x=\"253.680122\" y=\"322.638865\" style=\"fill: #9edae5\"/>\n",
       "    <use xlink:href=\"#C0_0_9dc08a7a2b\" x=\"129.253031\" y=\"287.947297\" style=\"fill: #9edae5\"/>\n",
       "    <use xlink:href=\"#C0_0_9dc08a7a2b\" x=\"28.647484\" y=\"320.557371\" style=\"fill: #9edae5\"/>\n",
       "    <use xlink:href=\"#C0_0_9dc08a7a2b\" x=\"51.081365\" y=\"232.209511\" style=\"fill: #9edae5\"/>\n",
       "    <use xlink:href=\"#C0_0_9dc08a7a2b\" x=\"24.94705\" y=\"125.590758\" style=\"fill: #9edae5\"/>\n",
       "   </g>\n",
       "  </g>\n",
       " </g>\n",
       " <defs>\n",
       "  <clipPath id=\"pa14c37076d\">\n",
       "   <rect x=\"7.2\" y=\"7.2\" width=\"454.79952\" height=\"322.354051\"/>\n",
       "  </clipPath>\n",
       " </defs>\n",
       "</svg>\n"
      ],
      "text/plain": [
       "<Figure size 1228.8x921.6 with 1 Axes>"
      ]
     },
     "metadata": {},
     "output_type": "display_data"
    }
   ],
   "source": [
    "wfn2.plot_location()"
   ]
  },
  {
   "cell_type": "markdown",
   "id": "ace13a16-228e-419c-b014-e7bba9da09e5",
   "metadata": {},
   "source": [
    "### Option 2: OSM.PBF input file (aka OpenStreetMap protobuffer format)"
   ]
  },
  {
   "cell_type": "markdown",
   "id": "8530db3e-a4b1-4e94-b97c-714fe14f44fb",
   "metadata": {},
   "source": [
    "Use of the JOSM open-source map editor is recommended if using this format: <https://josm.openstreetmap.de/>."
   ]
  },
  {
   "cell_type": "markdown",
   "id": "66e8ff88-400c-4a1a-a182-19d60cf1270a",
   "metadata": {},
   "source": [
    "See `optiwindnet/data/*.osm.pbf` for more examples."
   ]
  },
  {
   "cell_type": "markdown",
   "id": "69a168b1-5835-4959-823e-4e788e6ffc92",
   "metadata": {},
   "source": [
    "`.osm.pbf` format does not support obstacles at the moment."
   ]
  },
  {
   "cell_type": "code",
   "execution_count": 19,
   "id": "0baae019-4743-40cd-b7d9-bfbd49dc3137",
   "metadata": {},
   "outputs": [],
   "source": [
    "wfn3 = WindFarmNetwork.from_pbf('data/example_location.osm.pbf', cables=cables)"
   ]
  },
  {
   "cell_type": "code",
   "execution_count": 20,
   "id": "45f77ec2-53e9-4858-8771-d6fa22cc032e",
   "metadata": {},
   "outputs": [
    {
     "data": {
      "text/plain": [
       "<Axes: >"
      ]
     },
     "execution_count": 20,
     "metadata": {},
     "output_type": "execute_result"
    },
    {
     "data": {
      "image/svg+xml": [
       "<?xml version=\"1.0\" encoding=\"utf-8\" standalone=\"no\"?>\n",
       "<!DOCTYPE svg PUBLIC \"-//W3C//DTD SVG 1.1//EN\"\n",
       "  \"http://www.w3.org/Graphics/SVG/1.1/DTD/svg11.dtd\">\n",
       "<svg xmlns:xlink=\"http://www.w3.org/1999/xlink\" width=\"469.19952pt\" height=\"336.649096pt\" viewBox=\"0 0 469.19952 336.649096\" xmlns=\"http://www.w3.org/2000/svg\" version=\"1.1\">\n",
       " <metadata>\n",
       "  <rdf:RDF xmlns:dc=\"http://purl.org/dc/elements/1.1/\" xmlns:cc=\"http://creativecommons.org/ns#\" xmlns:rdf=\"http://www.w3.org/1999/02/22-rdf-syntax-ns#\">\n",
       "   <cc:Work>\n",
       "    <dc:type rdf:resource=\"http://purl.org/dc/dcmitype/StillImage\"/>\n",
       "    <dc:date>2025-05-21T17:28:45.483637</dc:date>\n",
       "    <dc:format>image/svg+xml</dc:format>\n",
       "    <dc:creator>\n",
       "     <cc:Agent>\n",
       "      <dc:title>Matplotlib v3.10.1, https://matplotlib.org/</dc:title>\n",
       "     </cc:Agent>\n",
       "    </dc:creator>\n",
       "   </cc:Work>\n",
       "  </rdf:RDF>\n",
       " </metadata>\n",
       " <defs>\n",
       "  <style type=\"text/css\">*{stroke-linejoin: round; stroke-linecap: butt}</style>\n",
       " </defs>\n",
       " <g id=\"figure_1\">\n",
       "  <g id=\"axes_1\">\n",
       "   <g id=\"patch_1\">\n",
       "    <path d=\"M 229.803438 131.028192 \n",
       "L 220.580671 139.208293 \n",
       "L 274.886582 327.851025 \n",
       "L 9.451483 327.853804 \n",
       "L 9.451483 89.055788 \n",
       "L 152.911857 171.717828 \n",
       "L 158.787278 164.906962 \n",
       "L 97.747647 8.795293 \n",
       "L 459.748037 8.796772 \n",
       "L 459.746316 282.372829 \n",
       "z\n",
       "\" clip-path=\"url(#p1d95daf0bc)\" style=\"fill: #111111; stroke-dasharray: 2.59,1.12; stroke-dashoffset: 0; stroke: #c0c0c0; stroke-width: 0.7; stroke-linejoin: miter\"/>\n",
       "   </g>\n",
       "   <g id=\"PathCollection_1\">\n",
       "    <path d=\"M 166.410062 85.72054 \n",
       "L 172.326142 85.72054 \n",
       "L 172.326142 79.804461 \n",
       "L 166.410062 79.804461 \n",
       "z\n",
       "\" style=\"fill: #7cfc00\"/>\n",
       "   </g>\n",
       "   <g id=\"PathCollection_2\">\n",
       "    <defs>\n",
       "     <path id=\"C0_0_c04cc748f8\" d=\"M 0 2.95804 \n",
       "C 0.784481 2.95804 1.536938 2.646362 2.09165 2.09165 \n",
       "C 2.646362 1.536938 2.95804 0.784481 2.95804 -0 \n",
       "C 2.95804 -0.784481 2.646362 -1.536938 2.09165 -2.09165 \n",
       "C 1.536938 -2.646362 0.784481 -2.95804 0 -2.95804 \n",
       "C -0.784481 -2.95804 -1.536938 -2.646362 -2.09165 -2.09165 \n",
       "C -2.646362 -1.536938 -2.95804 -0.784481 -2.95804 0 \n",
       "C -2.95804 0.784481 -2.646362 1.536938 -2.09165 2.09165 \n",
       "C -1.536938 2.646362 -0.784481 2.95804 0 2.95804 \n",
       "z\n",
       "\"/>\n",
       "    </defs>\n",
       "    <use xlink:href=\"#C0_0_c04cc748f8\" x=\"457.249935\" y=\"264.105171\" style=\"fill: #9edae5\"/>\n",
       "    <use xlink:href=\"#C0_0_c04cc748f8\" x=\"452.596787\" y=\"165.935624\" style=\"fill: #9edae5\"/>\n",
       "    <use xlink:href=\"#C0_0_c04cc748f8\" x=\"349.696742\" y=\"167.600982\" style=\"fill: #9edae5\"/>\n",
       "    <use xlink:href=\"#C0_0_c04cc748f8\" x=\"433.79062\" y=\"39.518181\" style=\"fill: #9edae5\"/>\n",
       "    <use xlink:href=\"#C0_0_c04cc748f8\" x=\"303.813713\" y=\"28.878167\" style=\"fill: #9edae5\"/>\n",
       "    <use xlink:href=\"#C0_0_c04cc748f8\" x=\"110.683182\" y=\"14.293807\" style=\"fill: #9edae5\"/>\n",
       "    <use xlink:href=\"#C0_0_c04cc748f8\" x=\"178.964419\" y=\"228.111503\" style=\"fill: #9edae5\"/>\n",
       "    <use xlink:href=\"#C0_0_c04cc748f8\" x=\"253.674278\" y=\"322.590494\" style=\"fill: #9edae5\"/>\n",
       "    <use xlink:href=\"#C0_0_c04cc748f8\" x=\"129.180647\" y=\"287.84821\" style=\"fill: #9edae5\"/>\n",
       "    <use xlink:href=\"#C0_0_c04cc748f8\" x=\"28.674999\" y=\"320.500614\" style=\"fill: #9edae5\"/>\n",
       "    <use xlink:href=\"#C0_0_c04cc748f8\" x=\"51.152919\" y=\"232.254005\" style=\"fill: #9edae5\"/>\n",
       "    <use xlink:href=\"#C0_0_c04cc748f8\" x=\"24.898391\" y=\"125.563929\" style=\"fill: #9edae5\"/>\n",
       "   </g>\n",
       "  </g>\n",
       " </g>\n",
       " <defs>\n",
       "  <clipPath id=\"p1d95daf0bc\">\n",
       "   <rect x=\"7.2\" y=\"7.2\" width=\"454.79952\" height=\"322.249096\"/>\n",
       "  </clipPath>\n",
       " </defs>\n",
       "</svg>\n"
      ],
      "text/plain": [
       "<Figure size 1228.8x921.6 with 1 Axes>"
      ]
     },
     "metadata": {},
     "output_type": "display_data"
    }
   ],
   "source": [
    "wfn3.plot_location()"
   ]
  },
  {
   "cell_type": "markdown",
   "id": "3efe86db",
   "metadata": {},
   "source": []
  }
 ],
 "metadata": {
  "kernelspec": {
   "display_name": "OptiWindNet",
   "language": "python",
   "name": "python3"
  },
  "language_info": {
   "codemirror_mode": {
    "name": "ipython",
    "version": 3
   },
   "file_extension": ".py",
   "mimetype": "text/x-python",
   "name": "python",
   "nbconvert_exporter": "python",
   "pygments_lexer": "ipython3",
   "version": "3.12.9"
  }
 },
 "nbformat": 4,
 "nbformat_minor": 5
}
