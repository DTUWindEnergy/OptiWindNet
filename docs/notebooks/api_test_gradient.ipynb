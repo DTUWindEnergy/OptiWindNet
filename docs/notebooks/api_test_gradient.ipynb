{
 "cells": [
  {
   "cell_type": "markdown",
   "id": "ed13a6b8-1d5b-4ce0-9cd4-b81bac7b07dd",
   "metadata": {},
   "source": [
    "## Plotting"
   ]
  },
  {
   "cell_type": "code",
   "execution_count": 1,
   "id": "b0f61785-6be5-4a0f-8282-5c17f4cc28ad",
   "metadata": {},
   "outputs": [
    {
     "name": "stdout",
     "output_type": "stream",
     "text": [
      "load c:\\Users\\amia\\AppData\\Local\\miniconda3\\envs\\OptiWindNet\\Lib\\site-packages\\ortools\\.libs\\zlib1.dll...\n",
      "load c:\\Users\\amia\\AppData\\Local\\miniconda3\\envs\\OptiWindNet\\Lib\\site-packages\\ortools\\.libs\\abseil_dll.dll...\n",
      "load c:\\Users\\amia\\AppData\\Local\\miniconda3\\envs\\OptiWindNet\\Lib\\site-packages\\ortools\\.libs\\utf8_validity.dll...\n",
      "load c:\\Users\\amia\\AppData\\Local\\miniconda3\\envs\\OptiWindNet\\Lib\\site-packages\\ortools\\.libs\\re2.dll...\n",
      "load c:\\Users\\amia\\AppData\\Local\\miniconda3\\envs\\OptiWindNet\\Lib\\site-packages\\ortools\\.libs\\libprotobuf.dll...\n",
      "load c:\\Users\\amia\\AppData\\Local\\miniconda3\\envs\\OptiWindNet\\Lib\\site-packages\\ortools\\.libs\\highs.dll...\n",
      "load c:\\Users\\amia\\AppData\\Local\\miniconda3\\envs\\OptiWindNet\\Lib\\site-packages\\ortools\\.libs\\ortools.dll...\n"
     ]
    }
   ],
   "source": [
    "from optiwindnet.api import WindFarmNetwork\n",
    "import numpy as np"
   ]
  },
  {
   "cell_type": "markdown",
   "id": "3f8789d4-5f85-4e50-a7b6-dd9b57f0e4a2",
   "metadata": {},
   "source": [
    "### Create a sample network"
   ]
  },
  {
   "cell_type": "code",
   "execution_count": 2,
   "id": "4e702047",
   "metadata": {},
   "outputs": [],
   "source": [
    "substations = np.array([[0, 0],], dtype=float)\n",
    "turbines = np.array(\n",
    "    [[0, 1], [1, 1]],\n",
    "    dtype=float\n",
    ")"
   ]
  },
  {
   "cell_type": "code",
   "execution_count": 3,
   "id": "06f2868e",
   "metadata": {},
   "outputs": [],
   "source": [
    "wfn = WindFarmNetwork(turbines=turbines, substations=substations, cables=[(5, 10)])"
   ]
  },
  {
   "cell_type": "code",
   "execution_count": 4,
   "id": "f88ccb3c",
   "metadata": {},
   "outputs": [
    {
     "data": {
      "text/plain": [
       "<Axes: >"
      ]
     },
     "execution_count": 4,
     "metadata": {},
     "output_type": "execute_result"
    },
    {
     "data": {
      "image/svg+xml": [
       "<?xml version=\"1.0\" encoding=\"utf-8\" standalone=\"no\"?>\n",
       "<!DOCTYPE svg PUBLIC \"-//W3C//DTD SVG 1.1//EN\"\n",
       "  \"http://www.w3.org/Graphics/SVG/1.1/DTD/svg11.dtd\">\n",
       "<svg xmlns:xlink=\"http://www.w3.org/1999/xlink\" width=\"353.99952pt\" height=\"353.99952pt\" viewBox=\"0 0 353.99952 353.99952\" xmlns=\"http://www.w3.org/2000/svg\" version=\"1.1\">\n",
       " <metadata>\n",
       "  <rdf:RDF xmlns:dc=\"http://purl.org/dc/elements/1.1/\" xmlns:cc=\"http://creativecommons.org/ns#\" xmlns:rdf=\"http://www.w3.org/1999/02/22-rdf-syntax-ns#\">\n",
       "   <cc:Work>\n",
       "    <dc:type rdf:resource=\"http://purl.org/dc/dcmitype/StillImage\"/>\n",
       "    <dc:date>2025-04-15T11:58:15.619652</dc:date>\n",
       "    <dc:format>image/svg+xml</dc:format>\n",
       "    <dc:creator>\n",
       "     <cc:Agent>\n",
       "      <dc:title>Matplotlib v3.10.1, https://matplotlib.org/</dc:title>\n",
       "     </cc:Agent>\n",
       "    </dc:creator>\n",
       "   </cc:Work>\n",
       "  </rdf:RDF>\n",
       " </metadata>\n",
       " <defs>\n",
       "  <style type=\"text/css\">*{stroke-linejoin: round; stroke-linecap: butt}</style>\n",
       " </defs>\n",
       " <g id=\"figure_1\">\n",
       "  <g id=\"axes_1\">\n",
       "   <g id=\"PathCollection_1\">\n",
       "    <path d=\"M 5.923146 348.076374 \n",
       "L 11.839226 348.076374 \n",
       "L 11.839226 342.160294 \n",
       "L 5.923146 342.160294 \n",
       "z\n",
       "\" style=\"fill: #7cfc00\"/>\n",
       "   </g>\n",
       "   <g id=\"PathCollection_2\">\n",
       "    <defs>\n",
       "     <path id=\"C0_0_f0f532a9ce\" d=\"M 0 2.95804 \n",
       "C 0.784481 2.95804 1.536938 2.646362 2.09165 2.09165 \n",
       "C 2.646362 1.536938 2.95804 0.784481 2.95804 -0 \n",
       "C 2.95804 -0.784481 2.646362 -1.536938 2.09165 -2.09165 \n",
       "C 1.536938 -2.646362 0.784481 -2.95804 0 -2.95804 \n",
       "C -0.784481 -2.95804 -1.536938 -2.646362 -2.09165 -2.09165 \n",
       "C -2.646362 -1.536938 -2.95804 -0.784481 -2.95804 0 \n",
       "C -2.95804 0.784481 -2.646362 1.536938 -2.09165 2.09165 \n",
       "C -1.536938 2.646362 -0.784481 2.95804 0 2.95804 \n",
       "z\n",
       "\"/>\n",
       "    </defs>\n",
       "    <use xlink:href=\"#C0_0_f0f532a9ce\" x=\"8.881186\" y=\"8.881186\" style=\"fill: #9edae5\"/>\n",
       "    <use xlink:href=\"#C0_0_f0f532a9ce\" x=\"345.118334\" y=\"8.881186\" style=\"fill: #9edae5\"/>\n",
       "   </g>\n",
       "  </g>\n",
       " </g>\n",
       "</svg>\n"
      ],
      "text/plain": [
       "<Figure size 1228.8x921.6 with 1 Axes>"
      ]
     },
     "metadata": {},
     "output_type": "display_data"
    }
   ],
   "source": [
    "import matplotlib.pyplot as plt\n",
    "%config InlineBackend.figure_formats = ['svg']\n",
    "plt.rcParams['svg.fonttype'] = 'none'\n",
    "wfn.plot_location()"
   ]
  },
  {
   "cell_type": "code",
   "execution_count": 5,
   "id": "a6623599",
   "metadata": {},
   "outputs": [
    {
     "data": {
      "text/plain": [
       "<Axes: >"
      ]
     },
     "execution_count": 5,
     "metadata": {},
     "output_type": "execute_result"
    },
    {
     "data": {
      "image/svg+xml": [
       "<?xml version=\"1.0\" encoding=\"utf-8\" standalone=\"no\"?>\n",
       "<!DOCTYPE svg PUBLIC \"-//W3C//DTD SVG 1.1//EN\"\n",
       "  \"http://www.w3.org/Graphics/SVG/1.1/DTD/svg11.dtd\">\n",
       "<svg xmlns:xlink=\"http://www.w3.org/1999/xlink\" width=\"454.647273pt\" height=\"180.72pt\" viewBox=\"0 0 454.647273 180.72\" xmlns=\"http://www.w3.org/2000/svg\" version=\"1.1\">\n",
       " <metadata>\n",
       "  <rdf:RDF xmlns:dc=\"http://purl.org/dc/elements/1.1/\" xmlns:cc=\"http://creativecommons.org/ns#\" xmlns:rdf=\"http://www.w3.org/1999/02/22-rdf-syntax-ns#\">\n",
       "   <cc:Work>\n",
       "    <dc:type rdf:resource=\"http://purl.org/dc/dcmitype/StillImage\"/>\n",
       "    <dc:date>2025-04-15T11:58:15.683622</dc:date>\n",
       "    <dc:format>image/svg+xml</dc:format>\n",
       "    <dc:creator>\n",
       "     <cc:Agent>\n",
       "      <dc:title>Matplotlib v3.10.1, https://matplotlib.org/</dc:title>\n",
       "     </cc:Agent>\n",
       "    </dc:creator>\n",
       "   </cc:Work>\n",
       "  </rdf:RDF>\n",
       " </metadata>\n",
       " <defs>\n",
       "  <style type=\"text/css\">*{stroke-linejoin: round; stroke-linecap: butt}</style>\n",
       " </defs>\n",
       " <g id=\"figure_1\">\n",
       "  <g id=\"patch_1\">\n",
       "   <path d=\"M 0 180.72 \n",
       "L 454.647273 180.72 \n",
       "L 454.647273 0 \n",
       "L 0 0 \n",
       "L 0 180.72 \n",
       "z\n",
       "\" style=\"fill: none\"/>\n",
       "  </g>\n",
       "  <g id=\"axes_1\">\n",
       "   <g id=\"LineCollection_1\">\n",
       "    <path d=\"M 14.76 14.76 \n",
       "L 14.76 165.96 \n",
       "\" clip-path=\"url(#pd887a8b3e4)\" style=\"fill: none; stroke-dasharray: 6.4,1.6,1,1.6; stroke-dashoffset: 0; stroke: #9932cc; stroke-linecap: round\"/>\n",
       "    <path d=\"M 14.76 14.76 \n",
       "L -1 28.052392 \n",
       "\" clip-path=\"url(#pd887a8b3e4)\" style=\"fill: none; stroke-dasharray: 6.4,1.6,1,1.6; stroke-dashoffset: 0; stroke: #9932cc; stroke-linecap: round\"/>\n",
       "    <path d=\"M 14.76 14.76 \n",
       "L 17.011429 -1 \n",
       "\" clip-path=\"url(#pd887a8b3e4)\" style=\"fill: none; stroke-dasharray: 6.4,1.6,1,1.6; stroke-dashoffset: 0; stroke: #9932cc; stroke-linecap: round\"/>\n",
       "    <path d=\"M 14.76 14.76 \n",
       "L 165.96 14.76 \n",
       "\" clip-path=\"url(#pd887a8b3e4)\" style=\"fill: none; stroke-dasharray: 6.4,1.6,1,1.6; stroke-dashoffset: 0; stroke: #9932cc; stroke-linecap: round\"/>\n",
       "    <path d=\"M 165.96 14.76 \n",
       "L 14.76 165.96 \n",
       "\" clip-path=\"url(#pd887a8b3e4)\" style=\"fill: none; stroke-dasharray: 6.4,1.6,1,1.6; stroke-dashoffset: 0; stroke: #9932cc; stroke-linecap: round\"/>\n",
       "    <path d=\"M 165.96 14.76 \n",
       "L 163.708571 -1 \n",
       "\" clip-path=\"url(#pd887a8b3e4)\" style=\"fill: none; stroke-dasharray: 6.4,1.6,1,1.6; stroke-dashoffset: 0; stroke: #9932cc; stroke-linecap: round\"/>\n",
       "    <path d=\"M 165.96 14.76 \n",
       "L 363.914562 181.72 \n",
       "\" clip-path=\"url(#pd887a8b3e4)\" style=\"fill: none; stroke-dasharray: 6.4,1.6,1,1.6; stroke-dashoffset: 0; stroke: #9932cc; stroke-linecap: round\"/>\n",
       "    <path d=\"M 14.76 165.96 \n",
       "L 56.409494 181.72 \n",
       "\" clip-path=\"url(#pd887a8b3e4)\" style=\"fill: none; stroke-dasharray: 6.4,1.6,1,1.6; stroke-dashoffset: 0; stroke: #9932cc; stroke-linecap: round\"/>\n",
       "    <path d=\"M 14.76 165.96 \n",
       "L -1 173.935435 \n",
       "\" clip-path=\"url(#pd887a8b3e4)\" style=\"fill: none; stroke-dasharray: 6.4,1.6,1,1.6; stroke-dashoffset: 0; stroke: #9932cc; stroke-linecap: round\"/>\n",
       "    <path clip-path=\"url(#pd887a8b3e4)\" style=\"fill: none; stroke-dasharray: 6.4,1.6,1,1.6; stroke-dashoffset: 0; stroke: #9932cc; stroke-linecap: round\"/>\n",
       "    <path d=\"M 455.647273 118.256116 \n",
       "L 386.794722 -1 \n",
       "\" clip-path=\"url(#pd887a8b3e4)\" style=\"fill: none; stroke-dasharray: 6.4,1.6,1,1.6; stroke-dashoffset: 0; stroke: #9932cc; stroke-linecap: round\"/>\n",
       "    <path clip-path=\"url(#pd887a8b3e4)\" style=\"fill: none; stroke-dasharray: 6.4,1.6,1,1.6; stroke-dashoffset: 0; stroke: #9932cc; stroke-linecap: round\"/>\n",
       "   </g>\n",
       "   <g id=\"PathCollection_1\">\n",
       "    <path d=\"M 11.80196 168.91804 \n",
       "L 17.71804 168.91804 \n",
       "L 17.71804 163.00196 \n",
       "L 11.80196 163.00196 \n",
       "z\n",
       "\" style=\"fill: #7cfc00\"/>\n",
       "   </g>\n",
       "   <g id=\"PathCollection_2\">\n",
       "    <defs>\n",
       "     <path id=\"C0_0_54a2aee090\" d=\"M 0 2.95804 \n",
       "C 0.784481 2.95804 1.536938 2.646362 2.09165 2.09165 \n",
       "C 2.646362 1.536938 2.95804 0.784481 2.95804 -0 \n",
       "C 2.95804 -0.784481 2.646362 -1.536938 2.09165 -2.09165 \n",
       "C 1.536938 -2.646362 0.784481 -2.95804 0 -2.95804 \n",
       "C -0.784481 -2.95804 -1.536938 -2.646362 -2.09165 -2.09165 \n",
       "C -2.646362 -1.536938 -2.95804 -0.784481 -2.95804 0 \n",
       "C -2.95804 0.784481 -2.646362 1.536938 -2.09165 2.09165 \n",
       "C -1.536938 2.646362 -0.784481 2.95804 0 2.95804 \n",
       "z\n",
       "\"/>\n",
       "    </defs>\n",
       "    <use xlink:href=\"#C0_0_54a2aee090\" x=\"14.76\" y=\"14.76\" style=\"fill: #9edae5\"/>\n",
       "    <use xlink:href=\"#C0_0_54a2aee090\" x=\"165.96\" y=\"14.76\" style=\"fill: #9edae5\"/>\n",
       "   </g>\n",
       "  </g>\n",
       "  <g id=\"axes_2\">\n",
       "   <g id=\"LineCollection_2\">\n",
       "    <path d=\"M 288.687273 14.76 \n",
       "L 439.887273 14.76 \n",
       "\" clip-path=\"url(#pdca1194c45)\" style=\"fill: none; stroke: #008b8b; stroke-linecap: round\"/>\n",
       "    <path d=\"M 288.687273 14.76 \n",
       "L 288.687273 165.96 \n",
       "\" clip-path=\"url(#pdca1194c45)\" style=\"fill: none; stroke: #008b8b; stroke-linecap: round\"/>\n",
       "    <path d=\"M 439.887273 14.76 \n",
       "L 288.687273 165.96 \n",
       "\" clip-path=\"url(#pdca1194c45)\" style=\"fill: none; stroke: #008b8b; stroke-linecap: round\"/>\n",
       "   </g>\n",
       "   <g id=\"PathCollection_3\">\n",
       "    <path d=\"M 285.729233 168.91804 \n",
       "L 291.645313 168.91804 \n",
       "L 291.645313 163.00196 \n",
       "L 285.729233 163.00196 \n",
       "z\n",
       "\" style=\"fill: #7cfc00\"/>\n",
       "   </g>\n",
       "   <g id=\"PathCollection_4\">\n",
       "    <defs>\n",
       "     <path id=\"C1_0_dfe97320d9\" d=\"M 0 2.95804 \n",
       "C 0.784481 2.95804 1.536938 2.646362 2.09165 2.09165 \n",
       "C 2.646362 1.536938 2.95804 0.784481 2.95804 -0 \n",
       "C 2.95804 -0.784481 2.646362 -1.536938 2.09165 -2.09165 \n",
       "C 1.536938 -2.646362 0.784481 -2.95804 0 -2.95804 \n",
       "C -0.784481 -2.95804 -1.536938 -2.646362 -2.09165 -2.09165 \n",
       "C -2.646362 -1.536938 -2.95804 -0.784481 -2.95804 0 \n",
       "C -2.95804 0.784481 -2.646362 1.536938 -2.09165 2.09165 \n",
       "C -1.536938 2.646362 -0.784481 2.95804 0 2.95804 \n",
       "z\n",
       "\"/>\n",
       "    </defs>\n",
       "    <use xlink:href=\"#C1_0_dfe97320d9\" x=\"288.687273\" y=\"14.76\" style=\"fill: #9edae5\"/>\n",
       "    <use xlink:href=\"#C1_0_dfe97320d9\" x=\"439.887273\" y=\"14.76\" style=\"fill: #9edae5\"/>\n",
       "   </g>\n",
       "  </g>\n",
       " </g>\n",
       " <defs>\n",
       "  <clipPath id=\"pd887a8b3e4\">\n",
       "   <rect x=\"7.2\" y=\"7.2\" width=\"166.32\" height=\"166.32\"/>\n",
       "  </clipPath>\n",
       "  <clipPath id=\"pdca1194c45\">\n",
       "   <rect x=\"281.127273\" y=\"7.2\" width=\"166.32\" height=\"166.32\"/>\n",
       "  </clipPath>\n",
       " </defs>\n",
       "</svg>\n"
      ],
      "text/plain": [
       "<Figure size 900x300 with 2 Axes>"
      ]
     },
     "metadata": {},
     "output_type": "display_data"
    }
   ],
   "source": [
    "fig, (ax1, ax2) = plt.subplots(1, 2, facecolor='none', figsize=(9, 3))\n",
    "wfn.plot_navigation_mesh(ax=ax1)\n",
    "wfn.plot_available_links(ax=ax2)"
   ]
  },
  {
   "cell_type": "markdown",
   "id": "13554c48",
   "metadata": {},
   "source": [
    "Optimize"
   ]
  },
  {
   "cell_type": "code",
   "execution_count": 6,
   "id": "f888963b",
   "metadata": {},
   "outputs": [],
   "source": [
    "res = wfn.optimize()"
   ]
  },
  {
   "cell_type": "code",
   "execution_count": 7,
   "id": "d83847ad",
   "metadata": {},
   "outputs": [
    {
     "data": {
      "text/plain": [
       "<Axes: >"
      ]
     },
     "execution_count": 7,
     "metadata": {},
     "output_type": "execute_result"
    },
    {
     "data": {
      "image/svg+xml": [
       "<?xml version=\"1.0\" encoding=\"utf-8\" standalone=\"no\"?>\n",
       "<!DOCTYPE svg PUBLIC \"-//W3C//DTD SVG 1.1//EN\"\n",
       "  \"http://www.w3.org/Graphics/SVG/1.1/DTD/svg11.dtd\">\n",
       "<svg xmlns:xlink=\"http://www.w3.org/1999/xlink\" width=\"353.99952pt\" height=\"353.99952pt\" viewBox=\"0 0 353.99952 353.99952\" xmlns=\"http://www.w3.org/2000/svg\" version=\"1.1\">\n",
       " <metadata>\n",
       "  <rdf:RDF xmlns:dc=\"http://purl.org/dc/elements/1.1/\" xmlns:cc=\"http://creativecommons.org/ns#\" xmlns:rdf=\"http://www.w3.org/1999/02/22-rdf-syntax-ns#\">\n",
       "   <cc:Work>\n",
       "    <dc:type rdf:resource=\"http://purl.org/dc/dcmitype/StillImage\"/>\n",
       "    <dc:date>2025-04-15T11:58:15.815431</dc:date>\n",
       "    <dc:format>image/svg+xml</dc:format>\n",
       "    <dc:creator>\n",
       "     <cc:Agent>\n",
       "      <dc:title>Matplotlib v3.10.1, https://matplotlib.org/</dc:title>\n",
       "     </cc:Agent>\n",
       "    </dc:creator>\n",
       "   </cc:Work>\n",
       "  </rdf:RDF>\n",
       " </metadata>\n",
       " <defs>\n",
       "  <style type=\"text/css\">*{stroke-linejoin: round; stroke-linecap: butt}</style>\n",
       " </defs>\n",
       " <g id=\"figure_1\">\n",
       "  <g id=\"axes_1\">\n",
       "   <g id=\"LineCollection_1\">\n",
       "    <path d=\"M 24.164692 24.164692 \n",
       "L 329.834828 24.164692 \n",
       "\" clip-path=\"url(#p3b72e3b867)\" style=\"fill: none; stroke: #dc143c; stroke-linecap: round\"/>\n",
       "    <path d=\"M 24.164692 24.164692 \n",
       "L 24.164692 329.834828 \n",
       "\" clip-path=\"url(#p3b72e3b867)\" style=\"fill: none; stroke: #dc143c; stroke-linecap: round\"/>\n",
       "   </g>\n",
       "   <g id=\"PathCollection_1\">\n",
       "    <path d=\"M 21.206653 332.792867 \n",
       "L 27.122732 332.792867 \n",
       "L 27.122732 326.876788 \n",
       "L 21.206653 326.876788 \n",
       "z\n",
       "\" style=\"fill: #7cfc00\"/>\n",
       "   </g>\n",
       "   <g id=\"PathCollection_2\">\n",
       "    <defs>\n",
       "     <path id=\"C0_0_da61cd39a1\" d=\"M 0 2.95804 \n",
       "C 0.784481 2.95804 1.536938 2.646362 2.09165 2.09165 \n",
       "C 2.646362 1.536938 2.95804 0.784481 2.95804 -0 \n",
       "C 2.95804 -0.784481 2.646362 -1.536938 2.09165 -2.09165 \n",
       "C 1.536938 -2.646362 0.784481 -2.95804 0 -2.95804 \n",
       "C -0.784481 -2.95804 -1.536938 -2.646362 -2.09165 -2.09165 \n",
       "C -2.646362 -1.536938 -2.95804 -0.784481 -2.95804 0 \n",
       "C -2.95804 0.784481 -2.646362 1.536938 -2.09165 2.09165 \n",
       "C -1.536938 2.646362 -0.784481 2.95804 0 2.95804 \n",
       "z\n",
       "\"/>\n",
       "    </defs>\n",
       "    <use xlink:href=\"#C0_0_da61cd39a1\" x=\"24.164692\" y=\"24.164692\" style=\"fill: #1f77b4\"/>\n",
       "    <use xlink:href=\"#C0_0_da61cd39a1\" x=\"329.834828\" y=\"24.164692\" style=\"fill: #1f77b4\"/>\n",
       "   </g>\n",
       "   <g id=\"legend_1\">\n",
       "    <g id=\"patch_1\">\n",
       "     <path d=\"M 263.133895 341.79952 \n",
       "L 339.79952 341.79952 \n",
       "Q 341.79952 341.79952 341.79952 339.79952 \n",
       "L 341.79952 297.31102 \n",
       "Q 341.79952 295.31102 339.79952 295.31102 \n",
       "L 263.133895 295.31102 \n",
       "Q 261.133895 295.31102 261.133895 297.31102 \n",
       "L 261.133895 339.79952 \n",
       "Q 261.133895 341.79952 263.133895 341.79952 \n",
       "z\n",
       "\" style=\"fill: #111111; opacity: 0.6; stroke: #ffffff; stroke-linejoin: miter\"/>\n",
       "    </g>\n",
       "    <g id=\"text_1\">\n",
       "     <text style=\"font-size: 12px; font-family: 'DejaVu Sans', 'Bitstream Vera Sans', 'Computer Modern Sans Serif', 'Lucida Grande', 'Verdana', 'Geneva', 'Lucid', 'Arial', 'Helvetica', 'Avant Garde', sans-serif; fill: #ffffff\" transform=\"translate(265.133895 308.429145)\">κ = 5, T = 2</text>\n",
       "     <text style=\"font-size: 12px; font-family: 'DejaVu Sans', 'Bitstream Vera Sans', 'Computer Modern Sans Serif', 'Lucida Grande', 'Verdana', 'Geneva', 'Lucid', 'Arial', 'Helvetica', 'Avant Garde', sans-serif; fill: #ffffff\" transform=\"translate(274.331708 321.86652)\">(+0) α: 1</text>\n",
       "     <text style=\"font-size: 12px; font-family: 'DejaVu Sans', 'Bitstream Vera Sans', 'Computer Modern Sans Serif', 'Lucida Grande', 'Verdana', 'Geneva', 'Lucid', 'Arial', 'Helvetica', 'Avant Garde', sans-serif; fill: #ffffff\" transform=\"translate(267.98952 335.303895)\">Σλ = 2.0 m</text>\n",
       "    </g>\n",
       "   </g>\n",
       "  </g>\n",
       " </g>\n",
       " <defs>\n",
       "  <clipPath id=\"p3b72e3b867\">\n",
       "   <rect x=\"7.2\" y=\"7.2\" width=\"339.59952\" height=\"339.59952\"/>\n",
       "  </clipPath>\n",
       " </defs>\n",
       "</svg>\n"
      ],
      "text/plain": [
       "<Figure size 1228.8x921.6 with 1 Axes>"
      ]
     },
     "metadata": {},
     "output_type": "display_data"
    }
   ],
   "source": [
    "wfn.plot_selected_links()"
   ]
  },
  {
   "cell_type": "code",
   "execution_count": 8,
   "id": "883efe11",
   "metadata": {},
   "outputs": [
    {
     "data": {
      "text/plain": [
       "<Axes: >"
      ]
     },
     "execution_count": 8,
     "metadata": {},
     "output_type": "execute_result"
    },
    {
     "data": {
      "image/svg+xml": [
       "<?xml version=\"1.0\" encoding=\"utf-8\" standalone=\"no\"?>\n",
       "<!DOCTYPE svg PUBLIC \"-//W3C//DTD SVG 1.1//EN\"\n",
       "  \"http://www.w3.org/Graphics/SVG/1.1/DTD/svg11.dtd\">\n",
       "<svg xmlns:xlink=\"http://www.w3.org/1999/xlink\" width=\"353.99952pt\" height=\"353.99952pt\" viewBox=\"0 0 353.99952 353.99952\" xmlns=\"http://www.w3.org/2000/svg\" version=\"1.1\">\n",
       " <metadata>\n",
       "  <rdf:RDF xmlns:dc=\"http://purl.org/dc/elements/1.1/\" xmlns:cc=\"http://creativecommons.org/ns#\" xmlns:rdf=\"http://www.w3.org/1999/02/22-rdf-syntax-ns#\">\n",
       "   <cc:Work>\n",
       "    <dc:type rdf:resource=\"http://purl.org/dc/dcmitype/StillImage\"/>\n",
       "    <dc:date>2025-04-15T11:58:15.882645</dc:date>\n",
       "    <dc:format>image/svg+xml</dc:format>\n",
       "    <dc:creator>\n",
       "     <cc:Agent>\n",
       "      <dc:title>Matplotlib v3.10.1, https://matplotlib.org/</dc:title>\n",
       "     </cc:Agent>\n",
       "    </dc:creator>\n",
       "   </cc:Work>\n",
       "  </rdf:RDF>\n",
       " </metadata>\n",
       " <defs>\n",
       "  <style type=\"text/css\">*{stroke-linejoin: round; stroke-linecap: butt}</style>\n",
       " </defs>\n",
       " <g id=\"figure_1\">\n",
       "  <g id=\"axes_1\">\n",
       "   <g id=\"LineCollection_1\">\n",
       "    <path d=\"M 24.164692 24.164692 \n",
       "L 329.834828 24.164692 \n",
       "\" clip-path=\"url(#p18e09e637a)\" style=\"fill: none; stroke: #dc143c; stroke-linecap: round\"/>\n",
       "    <path d=\"M 24.164692 24.164692 \n",
       "L 24.164692 329.834828 \n",
       "\" clip-path=\"url(#p18e09e637a)\" style=\"fill: none; stroke: #dc143c; stroke-linecap: round\"/>\n",
       "   </g>\n",
       "   <g id=\"PathCollection_1\">\n",
       "    <path d=\"M 21.206653 332.792867 \n",
       "L 27.122732 332.792867 \n",
       "L 27.122732 326.876788 \n",
       "L 21.206653 326.876788 \n",
       "z\n",
       "\" style=\"fill: #7cfc00\"/>\n",
       "   </g>\n",
       "   <g id=\"PathCollection_2\">\n",
       "    <defs>\n",
       "     <path id=\"C0_0_468e846f29\" d=\"M 0 2.95804 \n",
       "C 0.784481 2.95804 1.536938 2.646362 2.09165 2.09165 \n",
       "C 2.646362 1.536938 2.95804 0.784481 2.95804 -0 \n",
       "C 2.95804 -0.784481 2.646362 -1.536938 2.09165 -2.09165 \n",
       "C 1.536938 -2.646362 0.784481 -2.95804 0 -2.95804 \n",
       "C -0.784481 -2.95804 -1.536938 -2.646362 -2.09165 -2.09165 \n",
       "C -2.646362 -1.536938 -2.95804 -0.784481 -2.95804 0 \n",
       "C -2.95804 0.784481 -2.646362 1.536938 -2.09165 2.09165 \n",
       "C -1.536938 2.646362 -0.784481 2.95804 0 2.95804 \n",
       "z\n",
       "\"/>\n",
       "    </defs>\n",
       "    <use xlink:href=\"#C0_0_468e846f29\" x=\"24.164692\" y=\"24.164692\" style=\"fill: #1f77b4\"/>\n",
       "    <use xlink:href=\"#C0_0_468e846f29\" x=\"329.834828\" y=\"24.164692\" style=\"fill: #1f77b4\"/>\n",
       "   </g>\n",
       "   <g id=\"legend_1\">\n",
       "    <g id=\"patch_1\">\n",
       "     <path d=\"M 263.133895 341.79952 \n",
       "L 339.79952 341.79952 \n",
       "Q 341.79952 341.79952 341.79952 339.79952 \n",
       "L 341.79952 283.873645 \n",
       "Q 341.79952 281.873645 339.79952 281.873645 \n",
       "L 263.133895 281.873645 \n",
       "Q 261.133895 281.873645 261.133895 283.873645 \n",
       "L 261.133895 339.79952 \n",
       "Q 261.133895 341.79952 263.133895 341.79952 \n",
       "z\n",
       "\" style=\"fill: #111111; opacity: 0.6; stroke: #ffffff; stroke-linejoin: miter\"/>\n",
       "    </g>\n",
       "    <g id=\"text_1\">\n",
       "     <text style=\"font-size: 12px; font-family: 'DejaVu Sans', 'Bitstream Vera Sans', 'Computer Modern Sans Serif', 'Lucida Grande', 'Verdana', 'Geneva', 'Lucid', 'Arial', 'Helvetica', 'Avant Garde', sans-serif; fill: #ffffff\" transform=\"translate(265.133895 294.99177)\">κ = 5, T = 2</text>\n",
       "     <text style=\"font-size: 12px; font-family: 'DejaVu Sans', 'Bitstream Vera Sans', 'Computer Modern Sans Serif', 'Lucida Grande', 'Verdana', 'Geneva', 'Lucid', 'Arial', 'Helvetica', 'Avant Garde', sans-serif; fill: #ffffff\" transform=\"translate(274.331708 308.429145)\">(+0) α: 1</text>\n",
       "     <text style=\"font-size: 12px; font-family: 'DejaVu Sans', 'Bitstream Vera Sans', 'Computer Modern Sans Serif', 'Lucida Grande', 'Verdana', 'Geneva', 'Lucid', 'Arial', 'Helvetica', 'Avant Garde', sans-serif; fill: #ffffff\" transform=\"translate(267.98952 321.86652)\">Σλ = 2.0 m</text>\n",
       "     <text style=\"font-size: 12px; font-family: 'DejaVu Sans', 'Bitstream Vera Sans', 'Computer Modern Sans Serif', 'Lucida Grande', 'Verdana', 'Geneva', 'Lucid', 'Arial', 'Helvetica', 'Avant Garde', sans-serif; fill: #ffffff\" transform=\"translate(288.107333 335.303895)\">20 €</text>\n",
       "    </g>\n",
       "   </g>\n",
       "  </g>\n",
       " </g>\n",
       " <defs>\n",
       "  <clipPath id=\"p18e09e637a\">\n",
       "   <rect x=\"7.2\" y=\"7.2\" width=\"339.59952\" height=\"339.59952\"/>\n",
       "  </clipPath>\n",
       " </defs>\n",
       "</svg>\n"
      ],
      "text/plain": [
       "<Figure size 1228.8x921.6 with 1 Axes>"
      ]
     },
     "metadata": {},
     "output_type": "display_data"
    }
   ],
   "source": [
    "wfn.plot()"
   ]
  },
  {
   "cell_type": "code",
   "execution_count": 9,
   "id": "5a69abdd",
   "metadata": {},
   "outputs": [
    {
     "name": "stdout",
     "output_type": "stream",
     "text": [
      "WTs gradient:  [[-10.  10.]\n",
      " [ 10.   0.]]\n",
      "SS gradient:  [[  0. -10.]]\n"
     ]
    }
   ],
   "source": [
    "grad_wts, grad_ss = wfn.gradient()\n",
    "print('WTs gradient: ', grad_wts)\n",
    "print('SS gradient: ', grad_ss)"
   ]
  },
  {
   "cell_type": "code",
   "execution_count": 10,
   "id": "967cb0ac",
   "metadata": {},
   "outputs": [
    {
     "name": "stdout",
     "output_type": "stream",
     "text": [
      "WTs gradient:  [[-1.  1.]\n",
      " [ 1.  0.]]\n",
      "SS gradient:  [[ 0. -1.]]\n"
     ]
    }
   ],
   "source": [
    "grad_wts, grad_ss = wfn.gradient(gradient_type='length')\n",
    "print('WTs gradient: ', grad_wts)\n",
    "print('SS gradient: ', grad_ss)"
   ]
  },
  {
   "cell_type": "code",
   "execution_count": 11,
   "id": "2edf4411",
   "metadata": {},
   "outputs": [
    {
     "name": "stdout",
     "output_type": "stream",
     "text": [
      "WTs gradient:  [[-1.4472136   0.89442719]\n",
      " [ 1.          0.        ]]\n",
      "SS gradient:  [[ 0.4472136  -0.89442719]]\n"
     ]
    }
   ],
   "source": [
    "grad_wts, grad_ss = wfn.gradient(substations=np.array([[0.5, 0],], dtype=float), gradient_type='length')\n",
    "print('WTs gradient: ', grad_wts)\n",
    "print('SS gradient: ', grad_ss)"
   ]
  },
  {
   "cell_type": "code",
   "execution_count": 12,
   "id": "18ba9903",
   "metadata": {},
   "outputs": [
    {
     "data": {
      "text/plain": [
       "<Axes: >"
      ]
     },
     "execution_count": 12,
     "metadata": {},
     "output_type": "execute_result"
    },
    {
     "data": {
      "image/svg+xml": [
       "<?xml version=\"1.0\" encoding=\"utf-8\" standalone=\"no\"?>\n",
       "<!DOCTYPE svg PUBLIC \"-//W3C//DTD SVG 1.1//EN\"\n",
       "  \"http://www.w3.org/Graphics/SVG/1.1/DTD/svg11.dtd\">\n",
       "<svg xmlns:xlink=\"http://www.w3.org/1999/xlink\" width=\"353.99952pt\" height=\"353.99952pt\" viewBox=\"0 0 353.99952 353.99952\" xmlns=\"http://www.w3.org/2000/svg\" version=\"1.1\">\n",
       " <metadata>\n",
       "  <rdf:RDF xmlns:dc=\"http://purl.org/dc/elements/1.1/\" xmlns:cc=\"http://creativecommons.org/ns#\" xmlns:rdf=\"http://www.w3.org/1999/02/22-rdf-syntax-ns#\">\n",
       "   <cc:Work>\n",
       "    <dc:type rdf:resource=\"http://purl.org/dc/dcmitype/StillImage\"/>\n",
       "    <dc:date>2025-04-15T11:58:16.017520</dc:date>\n",
       "    <dc:format>image/svg+xml</dc:format>\n",
       "    <dc:creator>\n",
       "     <cc:Agent>\n",
       "      <dc:title>Matplotlib v3.10.1, https://matplotlib.org/</dc:title>\n",
       "     </cc:Agent>\n",
       "    </dc:creator>\n",
       "   </cc:Work>\n",
       "  </rdf:RDF>\n",
       " </metadata>\n",
       " <defs>\n",
       "  <style type=\"text/css\">*{stroke-linejoin: round; stroke-linecap: butt}</style>\n",
       " </defs>\n",
       " <g id=\"figure_1\">\n",
       "  <g id=\"axes_1\">\n",
       "   <g id=\"LineCollection_1\">\n",
       "    <path d=\"M 24.164692 24.164692 \n",
       "L 329.834828 24.164692 \n",
       "\" clip-path=\"url(#p20a3a7ba2a)\" style=\"fill: none; stroke: #dc143c; stroke-linecap: round\"/>\n",
       "    <path d=\"M 24.164692 24.164692 \n",
       "L 176.99976 329.834828 \n",
       "\" clip-path=\"url(#p20a3a7ba2a)\" style=\"fill: none; stroke: #dc143c; stroke-linecap: round\"/>\n",
       "   </g>\n",
       "   <g id=\"PathCollection_1\">\n",
       "    <path d=\"M 174.04172 332.792867 \n",
       "L 179.9578 332.792867 \n",
       "L 179.9578 326.876788 \n",
       "L 174.04172 326.876788 \n",
       "z\n",
       "\" style=\"fill: #7cfc00\"/>\n",
       "   </g>\n",
       "   <g id=\"PathCollection_2\">\n",
       "    <defs>\n",
       "     <path id=\"C0_0_deba693d0e\" d=\"M 0 2.95804 \n",
       "C 0.784481 2.95804 1.536938 2.646362 2.09165 2.09165 \n",
       "C 2.646362 1.536938 2.95804 0.784481 2.95804 -0 \n",
       "C 2.95804 -0.784481 2.646362 -1.536938 2.09165 -2.09165 \n",
       "C 1.536938 -2.646362 0.784481 -2.95804 0 -2.95804 \n",
       "C -0.784481 -2.95804 -1.536938 -2.646362 -2.09165 -2.09165 \n",
       "C -2.646362 -1.536938 -2.95804 -0.784481 -2.95804 0 \n",
       "C -2.95804 0.784481 -2.646362 1.536938 -2.09165 2.09165 \n",
       "C -1.536938 2.646362 -0.784481 2.95804 0 2.95804 \n",
       "z\n",
       "\"/>\n",
       "    </defs>\n",
       "    <use xlink:href=\"#C0_0_deba693d0e\" x=\"24.164692\" y=\"24.164692\" style=\"fill: #1f77b4\"/>\n",
       "    <use xlink:href=\"#C0_0_deba693d0e\" x=\"329.834828\" y=\"24.164692\" style=\"fill: #1f77b4\"/>\n",
       "   </g>\n",
       "   <g id=\"legend_1\">\n",
       "    <g id=\"patch_1\">\n",
       "     <path d=\"M 14.2 341.79952 \n",
       "L 100.424375 341.79952 \n",
       "Q 102.424375 341.79952 102.424375 339.79952 \n",
       "L 102.424375 283.873645 \n",
       "Q 102.424375 281.873645 100.424375 281.873645 \n",
       "L 14.2 281.873645 \n",
       "Q 12.2 281.873645 12.2 283.873645 \n",
       "L 12.2 339.79952 \n",
       "Q 12.2 341.79952 14.2 341.79952 \n",
       "z\n",
       "\" style=\"fill: #111111; opacity: 0.6; stroke: #ffffff; stroke-linejoin: miter\"/>\n",
       "    </g>\n",
       "    <g id=\"text_1\">\n",
       "     <text style=\"font-size: 12px; font-family: 'DejaVu Sans', 'Bitstream Vera Sans', 'Computer Modern Sans Serif', 'Lucida Grande', 'Verdana', 'Geneva', 'Lucid', 'Arial', 'Helvetica', 'Avant Garde', sans-serif; fill: #ffffff\" transform=\"translate(20.979375 294.99177)\">κ = 5, T = 2</text>\n",
       "     <text style=\"font-size: 12px; font-family: 'DejaVu Sans', 'Bitstream Vera Sans', 'Computer Modern Sans Serif', 'Lucida Grande', 'Verdana', 'Geneva', 'Lucid', 'Arial', 'Helvetica', 'Avant Garde', sans-serif; fill: #ffffff\" transform=\"translate(30.177188 308.429145)\">(+0) α: 1</text>\n",
       "     <text style=\"font-size: 12px; font-family: 'DejaVu Sans', 'Bitstream Vera Sans', 'Computer Modern Sans Serif', 'Lucida Grande', 'Verdana', 'Geneva', 'Lucid', 'Arial', 'Helvetica', 'Avant Garde', sans-serif; fill: #ffffff\" transform=\"translate(16.2 321.86652)\">Σλ = 2.118 m</text>\n",
       "     <text style=\"font-size: 12px; font-family: 'DejaVu Sans', 'Bitstream Vera Sans', 'Computer Modern Sans Serif', 'Lucida Grande', 'Verdana', 'Geneva', 'Lucid', 'Arial', 'Helvetica', 'Avant Garde', sans-serif; fill: #ffffff\" transform=\"translate(43.952813 335.303895)\">21 €</text>\n",
       "    </g>\n",
       "   </g>\n",
       "  </g>\n",
       " </g>\n",
       " <defs>\n",
       "  <clipPath id=\"p20a3a7ba2a\">\n",
       "   <rect x=\"7.2\" y=\"7.2\" width=\"339.59952\" height=\"339.59952\"/>\n",
       "  </clipPath>\n",
       " </defs>\n",
       "</svg>\n"
      ],
      "text/plain": [
       "<Figure size 1228.8x921.6 with 1 Axes>"
      ]
     },
     "metadata": {},
     "output_type": "display_data"
    }
   ],
   "source": [
    "wfn.plot()"
   ]
  },
  {
   "cell_type": "code",
   "execution_count": 13,
   "id": "ff94ef2f",
   "metadata": {},
   "outputs": [
    {
     "data": {
      "text/plain": [
       "<Axes: >"
      ]
     },
     "execution_count": 13,
     "metadata": {},
     "output_type": "execute_result"
    },
    {
     "data": {
      "image/svg+xml": [
       "<?xml version=\"1.0\" encoding=\"utf-8\" standalone=\"no\"?>\n",
       "<!DOCTYPE svg PUBLIC \"-//W3C//DTD SVG 1.1//EN\"\n",
       "  \"http://www.w3.org/Graphics/SVG/1.1/DTD/svg11.dtd\">\n",
       "<svg xmlns:xlink=\"http://www.w3.org/1999/xlink\" width=\"353.99952pt\" height=\"353.99952pt\" viewBox=\"0 0 353.99952 353.99952\" xmlns=\"http://www.w3.org/2000/svg\" version=\"1.1\">\n",
       " <metadata>\n",
       "  <rdf:RDF xmlns:dc=\"http://purl.org/dc/elements/1.1/\" xmlns:cc=\"http://creativecommons.org/ns#\" xmlns:rdf=\"http://www.w3.org/1999/02/22-rdf-syntax-ns#\">\n",
       "   <cc:Work>\n",
       "    <dc:type rdf:resource=\"http://purl.org/dc/dcmitype/StillImage\"/>\n",
       "    <dc:date>2025-04-15T11:58:16.067627</dc:date>\n",
       "    <dc:format>image/svg+xml</dc:format>\n",
       "    <dc:creator>\n",
       "     <cc:Agent>\n",
       "      <dc:title>Matplotlib v3.10.1, https://matplotlib.org/</dc:title>\n",
       "     </cc:Agent>\n",
       "    </dc:creator>\n",
       "   </cc:Work>\n",
       "  </rdf:RDF>\n",
       " </metadata>\n",
       " <defs>\n",
       "  <style type=\"text/css\">*{stroke-linejoin: round; stroke-linecap: butt}</style>\n",
       " </defs>\n",
       " <g id=\"figure_1\">\n",
       "  <g id=\"axes_1\">\n",
       "   <g id=\"LineCollection_1\">\n",
       "    <path d=\"M 22.636342 22.636342 \n",
       "L 331.363178 22.636342 \n",
       "\" clip-path=\"url(#p6b9eea97df)\" style=\"fill: none; stroke: #008b8b; stroke-linecap: round\"/>\n",
       "    <path d=\"M 22.636342 22.636342 \n",
       "L 176.99976 331.363178 \n",
       "\" clip-path=\"url(#p6b9eea97df)\" style=\"fill: none; stroke: #008b8b; stroke-linecap: round\"/>\n",
       "    <path d=\"M 331.363178 22.636342 \n",
       "L 176.99976 331.363178 \n",
       "\" clip-path=\"url(#p6b9eea97df)\" style=\"fill: none; stroke: #008b8b; stroke-linecap: round\"/>\n",
       "   </g>\n",
       "   <g id=\"PathCollection_1\">\n",
       "    <path d=\"M 174.04172 334.321218 \n",
       "L 179.9578 334.321218 \n",
       "L 179.9578 328.405138 \n",
       "L 174.04172 328.405138 \n",
       "z\n",
       "\" style=\"fill: #7cfc00\"/>\n",
       "   </g>\n",
       "   <g id=\"PathCollection_2\">\n",
       "    <defs>\n",
       "     <path id=\"C0_0_f5468f8fab\" d=\"M 0 2.95804 \n",
       "C 0.784481 2.95804 1.536938 2.646362 2.09165 2.09165 \n",
       "C 2.646362 1.536938 2.95804 0.784481 2.95804 -0 \n",
       "C 2.95804 -0.784481 2.646362 -1.536938 2.09165 -2.09165 \n",
       "C 1.536938 -2.646362 0.784481 -2.95804 0 -2.95804 \n",
       "C -0.784481 -2.95804 -1.536938 -2.646362 -2.09165 -2.09165 \n",
       "C -2.646362 -1.536938 -2.95804 -0.784481 -2.95804 0 \n",
       "C -2.95804 0.784481 -2.646362 1.536938 -2.09165 2.09165 \n",
       "C -1.536938 2.646362 -0.784481 2.95804 0 2.95804 \n",
       "z\n",
       "\"/>\n",
       "    </defs>\n",
       "    <use xlink:href=\"#C0_0_f5468f8fab\" x=\"22.636342\" y=\"22.636342\" style=\"fill: #9edae5\"/>\n",
       "    <use xlink:href=\"#C0_0_f5468f8fab\" x=\"331.363178\" y=\"22.636342\" style=\"fill: #9edae5\"/>\n",
       "   </g>\n",
       "  </g>\n",
       " </g>\n",
       " <defs>\n",
       "  <clipPath id=\"p6b9eea97df\">\n",
       "   <rect x=\"7.2\" y=\"7.2\" width=\"339.59952\" height=\"339.59952\"/>\n",
       "  </clipPath>\n",
       " </defs>\n",
       "</svg>\n"
      ],
      "text/plain": [
       "<Figure size 1228.8x921.6 with 1 Axes>"
      ]
     },
     "metadata": {},
     "output_type": "display_data"
    }
   ],
   "source": [
    "wfn.plot_available_links()"
   ]
  },
  {
   "cell_type": "code",
   "execution_count": 14,
   "id": "312cef75",
   "metadata": {},
   "outputs": [
    {
     "name": "stdout",
     "output_type": "stream",
     "text": [
      "WTs gradient:  [[0. 0.]\n",
      " [1. 0.]]\n",
      "SS gradient:  [[-1.  0.]]\n"
     ]
    }
   ],
   "source": [
    "grad_wts, grad_ss = wfn.gradient(substations=np.array([[-1, 1],], dtype=float), gradient_type='length')\n",
    "print('WTs gradient: ', grad_wts)\n",
    "print('SS gradient: ', grad_ss)"
   ]
  },
  {
   "cell_type": "code",
   "execution_count": 15,
   "id": "61ff000c",
   "metadata": {},
   "outputs": [
    {
     "data": {
      "text/plain": [
       "<Axes: >"
      ]
     },
     "execution_count": 15,
     "metadata": {},
     "output_type": "execute_result"
    },
    {
     "data": {
      "image/svg+xml": [
       "<?xml version=\"1.0\" encoding=\"utf-8\" standalone=\"no\"?>\n",
       "<!DOCTYPE svg PUBLIC \"-//W3C//DTD SVG 1.1//EN\"\n",
       "  \"http://www.w3.org/Graphics/SVG/1.1/DTD/svg11.dtd\">\n",
       "<svg xmlns:xlink=\"http://www.w3.org/1999/xlink\" width=\"469.19952pt\" height=\"79.325875pt\" viewBox=\"0 0 469.19952 79.325875\" xmlns=\"http://www.w3.org/2000/svg\" version=\"1.1\">\n",
       " <metadata>\n",
       "  <rdf:RDF xmlns:dc=\"http://purl.org/dc/elements/1.1/\" xmlns:cc=\"http://creativecommons.org/ns#\" xmlns:rdf=\"http://www.w3.org/1999/02/22-rdf-syntax-ns#\">\n",
       "   <cc:Work>\n",
       "    <dc:type rdf:resource=\"http://purl.org/dc/dcmitype/StillImage\"/>\n",
       "    <dc:date>2025-04-15T11:58:16.154034</dc:date>\n",
       "    <dc:format>image/svg+xml</dc:format>\n",
       "    <dc:creator>\n",
       "     <cc:Agent>\n",
       "      <dc:title>Matplotlib v3.10.1, https://matplotlib.org/</dc:title>\n",
       "     </cc:Agent>\n",
       "    </dc:creator>\n",
       "   </cc:Work>\n",
       "  </rdf:RDF>\n",
       " </metadata>\n",
       " <defs>\n",
       "  <style type=\"text/css\">*{stroke-linejoin: round; stroke-linecap: butt}</style>\n",
       " </defs>\n",
       " <g id=\"figure_1\">\n",
       "  <g id=\"axes_1\">\n",
       "   <g id=\"LineCollection_1\">\n",
       "    <path d=\"M 234.59976 17.536353 \n",
       "L 439.280012 17.536353 \n",
       "\" clip-path=\"url(#p6052d3457f)\" style=\"fill: none; stroke: #dc143c; stroke-linecap: round\"/>\n",
       "    <path d=\"M 234.59976 17.536353 \n",
       "L 29.919508 17.536353 \n",
       "\" clip-path=\"url(#p6052d3457f)\" style=\"fill: none; stroke: #dc143c; stroke-linecap: round\"/>\n",
       "   </g>\n",
       "   <g id=\"PathCollection_1\">\n",
       "    <path d=\"M 26.961468 20.494393 \n",
       "L 32.877548 20.494393 \n",
       "L 32.877548 14.578313 \n",
       "L 26.961468 14.578313 \n",
       "z\n",
       "\" style=\"fill: #7cfc00\"/>\n",
       "   </g>\n",
       "   <g id=\"PathCollection_2\">\n",
       "    <defs>\n",
       "     <path id=\"C0_0_1b222476be\" d=\"M 0 2.95804 \n",
       "C 0.784481 2.95804 1.536938 2.646362 2.09165 2.09165 \n",
       "C 2.646362 1.536938 2.95804 0.784481 2.95804 -0 \n",
       "C 2.95804 -0.784481 2.646362 -1.536938 2.09165 -2.09165 \n",
       "C 1.536938 -2.646362 0.784481 -2.95804 0 -2.95804 \n",
       "C -0.784481 -2.95804 -1.536938 -2.646362 -2.09165 -2.09165 \n",
       "C -2.646362 -1.536938 -2.95804 -0.784481 -2.95804 0 \n",
       "C -2.95804 0.784481 -2.646362 1.536938 -2.09165 2.09165 \n",
       "C -1.536938 2.646362 -0.784481 2.95804 0 2.95804 \n",
       "z\n",
       "\"/>\n",
       "    </defs>\n",
       "    <use xlink:href=\"#C0_0_1b222476be\" x=\"234.59976\" y=\"17.536353\" style=\"fill: #1f77b4\"/>\n",
       "    <use xlink:href=\"#C0_0_1b222476be\" x=\"439.280012\" y=\"17.536353\" style=\"fill: #1f77b4\"/>\n",
       "   </g>\n",
       "   <g id=\"legend_1\">\n",
       "    <g id=\"patch_1\">\n",
       "     <path d=\"M 378.333895 72.125875 \n",
       "L 454.99952 72.125875 \n",
       "Q 456.99952 72.125875 456.99952 70.125875 \n",
       "L 456.99952 14.2 \n",
       "Q 456.99952 12.2 454.99952 12.2 \n",
       "L 378.333895 12.2 \n",
       "Q 376.333895 12.2 376.333895 14.2 \n",
       "L 376.333895 70.125875 \n",
       "Q 376.333895 72.125875 378.333895 72.125875 \n",
       "z\n",
       "\" style=\"fill: #111111; opacity: 0.6; stroke: #ffffff; stroke-linejoin: miter\"/>\n",
       "    </g>\n",
       "    <g id=\"text_1\">\n",
       "     <text style=\"font-size: 12px; font-family: 'DejaVu Sans', 'Bitstream Vera Sans', 'Computer Modern Sans Serif', 'Lucida Grande', 'Verdana', 'Geneva', 'Lucid', 'Arial', 'Helvetica', 'Avant Garde', sans-serif; fill: #ffffff\" transform=\"translate(380.333895 25.318125)\">κ = 5, T = 2</text>\n",
       "     <text style=\"font-size: 12px; font-family: 'DejaVu Sans', 'Bitstream Vera Sans', 'Computer Modern Sans Serif', 'Lucida Grande', 'Verdana', 'Geneva', 'Lucid', 'Arial', 'Helvetica', 'Avant Garde', sans-serif; fill: #ffffff\" transform=\"translate(389.531708 38.7555)\">(+0) α: 1</text>\n",
       "     <text style=\"font-size: 12px; font-family: 'DejaVu Sans', 'Bitstream Vera Sans', 'Computer Modern Sans Serif', 'Lucida Grande', 'Verdana', 'Geneva', 'Lucid', 'Arial', 'Helvetica', 'Avant Garde', sans-serif; fill: #ffffff\" transform=\"translate(383.18952 52.192875)\">Σλ = 2.0 m</text>\n",
       "     <text style=\"font-size: 12px; font-family: 'DejaVu Sans', 'Bitstream Vera Sans', 'Computer Modern Sans Serif', 'Lucida Grande', 'Verdana', 'Geneva', 'Lucid', 'Arial', 'Helvetica', 'Avant Garde', sans-serif; fill: #ffffff\" transform=\"translate(403.307333 65.63025)\">20 €</text>\n",
       "    </g>\n",
       "   </g>\n",
       "  </g>\n",
       " </g>\n",
       " <defs>\n",
       "  <clipPath id=\"p6052d3457f\">\n",
       "   <rect x=\"7.2\" y=\"7.2\" width=\"454.79952\" height=\"20.672705\"/>\n",
       "  </clipPath>\n",
       " </defs>\n",
       "</svg>\n"
      ],
      "text/plain": [
       "<Figure size 1228.8x921.6 with 1 Axes>"
      ]
     },
     "metadata": {},
     "output_type": "display_data"
    }
   ],
   "source": [
    "wfn.plot()"
   ]
  }
 ],
 "metadata": {
  "kernelspec": {
   "display_name": "OptiWindNet",
   "language": "python",
   "name": "python3"
  },
  "language_info": {
   "codemirror_mode": {
    "name": "ipython",
    "version": 3
   },
   "file_extension": ".py",
   "mimetype": "text/x-python",
   "name": "python",
   "nbconvert_exporter": "python",
   "pygments_lexer": "ipython3",
   "version": "3.12.9"
  }
 },
 "nbformat": 4,
 "nbformat_minor": 5
}
