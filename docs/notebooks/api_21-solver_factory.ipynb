{
 "cells": [
  {
   "cell_type": "markdown",
   "id": "b977ea38-7154-4788-b4bb-382e8aed7d54",
   "metadata": {
    "deletable": true,
    "editable": true,
    "frozen": false
   },
   "source": [
    "## OR-tools example"
   ]
  },
  {
   "cell_type": "code",
   "execution_count": null,
   "id": "23c1c992-a563-4f2d-bbc8-cf0884e5b275",
   "metadata": {
    "deletable": true,
    "editable": true,
    "execution": {
     "iopub.execute_input": "2025-04-11T11:10:59.427107Z",
     "iopub.status.busy": "2025-04-11T11:10:59.427107Z",
     "iopub.status.idle": "2025-04-11T11:11:01.095473Z",
     "shell.execute_reply": "2025-04-11T11:11:01.095473Z",
     "shell.execute_reply.started": "2025-04-11T11:10:59.427107Z"
    },
    "frozen": false
   },
   "outputs": [],
   "source": [
    "from optiwindnet.importer import load_repository\n",
    "from optiwindnet.svg import svgplot\n",
    "from optiwindnet.mesh import make_planar_embedding\n",
    "from optiwindnet.interarraylib import G_from_S\n",
    "from optiwindnet.heuristics import EW_presolver\n",
    "from optiwindnet.pathfinding import PathFinder\n",
    "\n",
    "from optiwindnet.api import WindFarmNetwork, Heuristic, MILP"
   ]
  },
  {
   "cell_type": "code",
   "execution_count": null,
   "id": "2ebc886d-28a6-4931-a2c1-d79aff63c9cf",
   "metadata": {
    "deletable": true,
    "editable": true,
    "execution": {
     "iopub.execute_input": "2025-04-11T11:11:01.096483Z",
     "iopub.status.busy": "2025-04-11T11:11:01.095473Z",
     "iopub.status.idle": "2025-04-11T11:11:01.099841Z",
     "shell.execute_reply": "2025-04-11T11:11:01.099841Z",
     "shell.execute_reply.started": "2025-04-11T11:11:01.096483Z"
    },
    "frozen": false
   },
   "outputs": [],
   "source": [
    "from optiwindnet.MILP import solver_factory"
   ]
  },
  {
   "cell_type": "code",
   "execution_count": 3,
   "id": "94119fd4-db0a-472c-bcc0-8999e9511530",
   "metadata": {
    "deletable": true,
    "editable": true,
    "execution": {
     "iopub.execute_input": "2025-04-11T11:11:01.100839Z",
     "iopub.status.busy": "2025-04-11T11:11:01.100839Z",
     "iopub.status.idle": "2025-04-11T11:11:01.103481Z",
     "shell.execute_reply": "2025-04-11T11:11:01.103481Z",
     "shell.execute_reply.started": "2025-04-11T11:11:01.100839Z"
    },
    "frozen": false
   },
   "outputs": [],
   "source": [
    "import logging\n",
    "import sys\n",
    "logger_MILP = logging.getLogger('optiwindnet.MILP')\n",
    "stdoutHandler = logging.StreamHandler(stream=sys.stdout)\n",
    "logger_MILP.addHandler(stdoutHandler)\n",
    "logger_MILP.setLevel(logging.INFO)"
   ]
  },
  {
   "cell_type": "markdown",
   "id": "5ae468f4-9a5a-4300-adfc-7381afd09dd9",
   "metadata": {
    "deletable": true,
    "editable": true,
    "frozen": false
   },
   "source": [
    "### Initialize Moray East"
   ]
  },
  {
   "cell_type": "code",
   "execution_count": 4,
   "id": "29a6b5d1-a05f-4112-bf66-462b4d36b516",
   "metadata": {
    "deletable": true,
    "editable": true,
    "execution": {
     "iopub.execute_input": "2025-04-11T11:11:01.104480Z",
     "iopub.status.busy": "2025-04-11T11:11:01.104480Z",
     "iopub.status.idle": "2025-04-11T11:11:01.861242Z",
     "shell.execute_reply": "2025-04-11T11:11:01.861242Z",
     "shell.execute_reply.started": "2025-04-11T11:11:01.104480Z"
    },
    "frozen": false
   },
   "outputs": [],
   "source": [
    "locations = load_repository()"
   ]
  },
  {
   "cell_type": "code",
   "execution_count": 5,
   "id": "6493ef36-765a-4cd3-9dc8-f2d952a23573",
   "metadata": {
    "deletable": true,
    "editable": true,
    "execution": {
     "iopub.execute_input": "2025-04-11T11:11:01.862244Z",
     "iopub.status.busy": "2025-04-11T11:11:01.862244Z",
     "iopub.status.idle": "2025-04-11T11:11:01.865863Z",
     "shell.execute_reply": "2025-04-11T11:11:01.865863Z",
     "shell.execute_reply.started": "2025-04-11T11:11:01.862244Z"
    },
    "frozen": false
   },
   "outputs": [],
   "source": [
    "L = locations.moray\n",
    "capacity = 7"
   ]
  },
  {
   "cell_type": "code",
   "execution_count": 6,
   "id": "2a81cdd4-7be8-4da3-9b94-9799c6f1760b",
   "metadata": {
    "deletable": true,
    "editable": true,
    "execution": {
     "iopub.execute_input": "2025-04-11T11:11:01.867101Z",
     "iopub.status.busy": "2025-04-11T11:11:01.867101Z",
     "iopub.status.idle": "2025-04-11T11:11:01.900583Z",
     "shell.execute_reply": "2025-04-11T11:11:01.900583Z",
     "shell.execute_reply.started": "2025-04-11T11:11:01.867101Z"
    },
    "frozen": false
   },
   "outputs": [
    {
     "data": {
      "image/svg+xml": [
       "<svg xmlns=\"http://www.w3.org/2000/svg\" viewBox=\"0 0 1920 1080\"><defs><filter x=\"-5%\" y=\"-5%\" id=\"bg_textbox\" width=\"110%\" height=\"110%\"><feFlood flood-opacity=\"0.7\" flood-color=\"#111\" result=\"bg\"/><feMerge><feMergeNode in=\"bg\"/><feMergeNode in=\"SourceGraphic\"/></feMerge></filter><circle stroke=\"none\" stroke-width=\"2\" id=\"wtg\" r=\"12\"/><rect stroke=\"none\" stroke-width=\"2\" id=\"oss\" width=\"21\" height=\"21\" fill=\"lawngreen\"/></defs><g id=\"moray\"><path stroke=\"silver\" stroke-dasharray=\"15 7\" stroke-width=\"2\" id=\"border\" d=\"M1471 544 1103 863 895 1043 421 1050 30 30 79 90 117 127 165 165 217 198 277 226 325 243 400 260 441 266 498 267 559 263 645 245 690 229 738 208 789 180 838 145 895 205 1022 314 1149 406 1271 472 1347 505z\" fill-rule=\"evenodd\" fill=\"#111\"/><g id=\"WTGgrp\"><g fill=\"#9edae5\"><use href=\"#wtg\" x=\"87\" y=\"161\"/><use href=\"#wtg\" x=\"144\" y=\"161\"/><use href=\"#wtg\" x=\"143\" y=\"239\"/><use href=\"#wtg\" x=\"200\" y=\"239\"/><use href=\"#wtg\" x=\"257\" y=\"239\"/><use href=\"#wtg\" x=\"313\" y=\"240\"/><use href=\"#wtg\" x=\"769\" y=\"239\"/><use href=\"#wtg\" x=\"826\" y=\"239\"/><use href=\"#wtg\" x=\"142\" y=\"317\"/><use href=\"#wtg\" x=\"256\" y=\"317\"/><use href=\"#wtg\" x=\"313\" y=\"317\"/><use href=\"#wtg\" x=\"427\" y=\"317\"/><use href=\"#wtg\" x=\"484\" y=\"317\"/><use href=\"#wtg\" x=\"540\" y=\"317\"/><use href=\"#wtg\" x=\"597\" y=\"317\"/><use href=\"#wtg\" x=\"654\" y=\"318\"/><use href=\"#wtg\" x=\"711\" y=\"317\"/><use href=\"#wtg\" x=\"768\" y=\"317\"/><use href=\"#wtg\" x=\"825\" y=\"317\"/><use href=\"#wtg\" x=\"882\" y=\"317\"/><use href=\"#wtg\" x=\"939\" y=\"317\"/><use href=\"#wtg\" x=\"255\" y=\"395\"/><use href=\"#wtg\" x=\"312\" y=\"395\"/><use href=\"#wtg\" x=\"369\" y=\"395\"/><use href=\"#wtg\" x=\"426\" y=\"396\"/><use href=\"#wtg\" x=\"483\" y=\"395\"/><use href=\"#wtg\" x=\"540\" y=\"395\"/><use href=\"#wtg\" x=\"597\" y=\"395\"/><use href=\"#wtg\" x=\"654\" y=\"395\"/><use href=\"#wtg\" x=\"710\" y=\"395\"/><use href=\"#wtg\" x=\"767\" y=\"395\"/><use href=\"#wtg\" x=\"824\" y=\"396\"/><use href=\"#wtg\" x=\"881\" y=\"396\"/><use href=\"#wtg\" x=\"938\" y=\"395\"/><use href=\"#wtg\" x=\"995\" y=\"396\"/><use href=\"#wtg\" x=\"254\" y=\"473\"/><use href=\"#wtg\" x=\"311\" y=\"474\"/><use href=\"#wtg\" x=\"823\" y=\"474\"/><use href=\"#wtg\" x=\"1051\" y=\"474\"/><use href=\"#wtg\" x=\"1108\" y=\"474\"/><use href=\"#wtg\" x=\"253\" y=\"552\"/><use href=\"#wtg\" x=\"481\" y=\"552\"/><use href=\"#wtg\" x=\"1221\" y=\"552\"/><use href=\"#wtg\" x=\"309\" y=\"630\"/><use href=\"#wtg\" x=\"366\" y=\"630\"/><use href=\"#wtg\" x=\"423\" y=\"630\"/><use href=\"#wtg\" x=\"480\" y=\"630\"/><use href=\"#wtg\" x=\"537\" y=\"630\"/><use href=\"#wtg\" x=\"594\" y=\"630\"/><use href=\"#wtg\" x=\"651\" y=\"630\"/><use href=\"#wtg\" x=\"765\" y=\"630\"/><use href=\"#wtg\" x=\"879\" y=\"630\"/><use href=\"#wtg\" x=\"936\" y=\"630\"/><use href=\"#wtg\" x=\"993\" y=\"630\"/><use href=\"#wtg\" x=\"1049\" y=\"630\"/><use href=\"#wtg\" x=\"1106\" y=\"630\"/><use href=\"#wtg\" x=\"1163\" y=\"630\"/><use href=\"#wtg\" x=\"1220\" y=\"630\"/><use href=\"#wtg\" x=\"1277\" y=\"630\"/><use href=\"#wtg\" x=\"309\" y=\"708\"/><use href=\"#wtg\" x=\"365\" y=\"708\"/><use href=\"#wtg\" x=\"422\" y=\"708\"/><use href=\"#wtg\" x=\"479\" y=\"708\"/><use href=\"#wtg\" x=\"536\" y=\"708\"/><use href=\"#wtg\" x=\"593\" y=\"708\"/><use href=\"#wtg\" x=\"650\" y=\"708\"/><use href=\"#wtg\" x=\"764\" y=\"708\"/><use href=\"#wtg\" x=\"821\" y=\"708\"/><use href=\"#wtg\" x=\"935\" y=\"708\"/><use href=\"#wtg\" x=\"992\" y=\"708\"/><use href=\"#wtg\" x=\"1049\" y=\"708\"/><use href=\"#wtg\" x=\"1106\" y=\"708\"/><use href=\"#wtg\" x=\"1163\" y=\"708\"/><use href=\"#wtg\" x=\"1219\" y=\"708\"/><use href=\"#wtg\" x=\"1276\" y=\"708\"/><use href=\"#wtg\" x=\"365\" y=\"786\"/><use href=\"#wtg\" x=\"422\" y=\"786\"/><use href=\"#wtg\" x=\"1048\" y=\"786\"/><use href=\"#wtg\" x=\"1105\" y=\"786\"/><use href=\"#wtg\" x=\"1162\" y=\"786\"/><use href=\"#wtg\" x=\"421\" y=\"864\"/><use href=\"#wtg\" x=\"478\" y=\"864\"/><use href=\"#wtg\" x=\"535\" y=\"864\"/><use href=\"#wtg\" x=\"591\" y=\"864\"/><use href=\"#wtg\" x=\"705\" y=\"864\"/><use href=\"#wtg\" x=\"762\" y=\"864\"/><use href=\"#wtg\" x=\"819\" y=\"864\"/><use href=\"#wtg\" x=\"933\" y=\"864\"/><use href=\"#wtg\" x=\"990\" y=\"864\"/><use href=\"#wtg\" x=\"1047\" y=\"864\"/><use href=\"#wtg\" x=\"1103\" y=\"863\"/><use href=\"#wtg\" x=\"534\" y=\"942\"/><use href=\"#wtg\" x=\"591\" y=\"942\"/><use href=\"#wtg\" x=\"648\" y=\"942\"/><use href=\"#wtg\" x=\"932\" y=\"942\"/><use href=\"#wtg\" x=\"992\" y=\"950\"/><use href=\"#wtg\" x=\"533\" y=\"1020\"/><use href=\"#wtg\" x=\"647\" y=\"1020\"/><use href=\"#wtg\" x=\"704\" y=\"1020\"/><use href=\"#wtg\" x=\"761\" y=\"1020\"/></g></g><g id=\"OSSgrp\"><use href=\"#oss\" x=\"869.5\" y=\"541.5\"/><use href=\"#oss\" x=\"581.5\" y=\"775.5\"/><use href=\"#oss\" x=\"357.5\" y=\"463.5\"/></g></g></svg>"
      ],
      "text/plain": [
       "<optiwindnet.svg.SvgRepr at 0x2aded767590>"
      ]
     },
     "execution_count": 6,
     "metadata": {},
     "output_type": "execute_result"
    }
   ],
   "source": [
    "svgplot(L)"
   ]
  },
  {
   "cell_type": "markdown",
   "id": "b2bb8f58-4c20-4fe0-9cad-912d06b5871c",
   "metadata": {
    "deletable": true,
    "editable": true,
    "frozen": false
   },
   "source": [
    "### Optimize Moray East"
   ]
  },
  {
   "cell_type": "code",
   "execution_count": 7,
   "id": "df05184d-7caa-4b34-810e-37c13a7a8092",
   "metadata": {
    "deletable": true,
    "editable": true,
    "execution": {
     "iopub.execute_input": "2025-04-11T11:11:02.149411Z",
     "iopub.status.busy": "2025-04-11T11:11:02.149411Z",
     "iopub.status.idle": "2025-04-11T11:11:02.532278Z",
     "shell.execute_reply": "2025-04-11T11:11:02.532278Z",
     "shell.execute_reply.started": "2025-04-11T11:11:02.149411Z"
    },
    "frozen": false
   },
   "outputs": [],
   "source": [
    "P, A = make_planar_embedding(L)"
   ]
  },
  {
   "cell_type": "markdown",
   "id": "4f9b49b1-a597-4053-a3d1-f3de7bb8d164",
   "metadata": {
    "deletable": true,
    "editable": true,
    "frozen": false
   },
   "source": [
    "Initial heuristic solution to warm-start the solver:"
   ]
  },
  {
   "cell_type": "code",
   "execution_count": 8,
   "id": "19eb273d-f662-4851-bf09-e0ec532d7b8b",
   "metadata": {
    "deletable": true,
    "editable": true,
    "execution": {
     "iopub.execute_input": "2025-04-11T11:11:05.413127Z",
     "iopub.status.busy": "2025-04-11T11:11:05.413127Z",
     "iopub.status.idle": "2025-04-11T11:11:05.437478Z",
     "shell.execute_reply": "2025-04-11T11:11:05.437478Z",
     "shell.execute_reply.started": "2025-04-11T11:11:05.413127Z"
    },
    "frozen": false
   },
   "outputs": [
    {
     "data": {
      "image/svg+xml": [
       "<svg xmlns=\"http://www.w3.org/2000/svg\" viewBox=\"0 0 1920 1080\"><defs><filter x=\"-5%\" y=\"-5%\" id=\"bg_textbox\" width=\"110%\" height=\"110%\"><feFlood flood-opacity=\"0.7\" flood-color=\"#111\" result=\"bg\"/><feMerge><feMergeNode in=\"bg\"/><feMergeNode in=\"SourceGraphic\"/></feMerge></filter><circle stroke=\"none\" stroke-width=\"2\" id=\"wtg\" r=\"12\"/><rect stroke=\"none\" stroke-width=\"2\" id=\"oss\" width=\"21\" height=\"21\" fill=\"lawngreen\"/></defs><g id=\"moray\"><path stroke=\"silver\" stroke-dasharray=\"15 7\" stroke-width=\"2\" id=\"border\" d=\"M1471 544 1103 863 895 1043 421 1050 30 30 79 90 117 127 165 165 217 198 277 226 325 243 400 260 441 266 498 267 559 263 645 245 690 229 738 208 789 180 838 145 895 205 1022 314 1149 406 1271 472 1347 505z\" fill-rule=\"evenodd\" fill=\"#111\"/><g stroke=\"crimson\" stroke-width=\"4\" id=\"edges_unspecified\"><line x1=\"879\" y1=\"630\" x2=\"821\" y2=\"708\"/><line x1=\"764\" y1=\"708\" x2=\"821\" y2=\"708\"/><line x1=\"880\" y1=\"552\" x2=\"823\" y2=\"474\"/><line x1=\"880\" y1=\"552\" x2=\"879\" y2=\"630\"/><line x1=\"880\" y1=\"552\" x2=\"993\" y2=\"630\"/><line x1=\"880\" y1=\"552\" x2=\"881\" y2=\"396\"/><line x1=\"880\" y1=\"552\" x2=\"936\" y2=\"630\"/><line x1=\"880\" y1=\"552\" x2=\"1049\" y2=\"630\"/><line x1=\"880\" y1=\"552\" x2=\"824\" y2=\"396\"/><line x1=\"936\" y1=\"630\" x2=\"935\" y2=\"708\"/><line x1=\"935\" y1=\"708\" x2=\"992\" y2=\"708\"/><line x1=\"143\" y1=\"239\" x2=\"142\" y2=\"317\"/><line x1=\"368\" y1=\"474\" x2=\"369\" y2=\"395\"/><line x1=\"368\" y1=\"474\" x2=\"481\" y2=\"552\"/><line x1=\"368\" y1=\"474\" x2=\"311\" y2=\"474\"/><line x1=\"368\" y1=\"474\" x2=\"366\" y2=\"630\"/><line x1=\"256\" y1=\"317\" x2=\"313\" y2=\"317\"/><line x1=\"992\" y1=\"708\" x2=\"1048\" y2=\"786\"/><line x1=\"1048\" y1=\"786\" x2=\"1105\" y2=\"786\"/><line x1=\"1047\" y1=\"864\" x2=\"1103\" y2=\"863\"/><line x1=\"654\" y1=\"395\" x2=\"710\" y2=\"395\"/><line x1=\"710\" y1=\"395\" x2=\"767\" y2=\"395\"/><line x1=\"765\" y1=\"630\" x2=\"764\" y2=\"708\"/><line x1=\"427\" y1=\"317\" x2=\"426\" y2=\"396\"/><line x1=\"427\" y1=\"317\" x2=\"484\" y2=\"317\"/><line x1=\"369\" y1=\"395\" x2=\"426\" y2=\"396\"/><line x1=\"534\" y1=\"942\" x2=\"591\" y2=\"942\"/><line x1=\"591\" y1=\"942\" x2=\"648\" y2=\"942\"/><line x1=\"592\" y1=\"786\" x2=\"593\" y2=\"708\"/><line x1=\"592\" y1=\"786\" x2=\"536\" y2=\"708\"/><line x1=\"592\" y1=\"786\" x2=\"591\" y2=\"864\"/><line x1=\"647\" y1=\"1020\" x2=\"704\" y2=\"1020\"/><line x1=\"648\" y1=\"942\" x2=\"647\" y2=\"1020\"/><line x1=\"254\" y1=\"473\" x2=\"253\" y2=\"552\"/><line x1=\"309\" y1=\"708\" x2=\"365\" y2=\"708\"/><line x1=\"1219\" y1=\"708\" x2=\"1276\" y2=\"708\"/><line x1=\"1163\" y1=\"708\" x2=\"1219\" y2=\"708\"/><line x1=\"881\" y1=\"396\" x2=\"938\" y2=\"395\"/><line x1=\"938\" y1=\"395\" x2=\"995\" y2=\"396\"/><line x1=\"1051\" y1=\"474\" x2=\"1108\" y2=\"474\"/><line x1=\"995\" y1=\"396\" x2=\"1051\" y2=\"474\"/><line x1=\"540\" y1=\"317\" x2=\"597\" y2=\"317\"/><line x1=\"654\" y1=\"318\" x2=\"711\" y2=\"317\"/><line x1=\"309\" y1=\"630\" x2=\"366\" y2=\"630\"/><line x1=\"365\" y1=\"708\" x2=\"422\" y2=\"708\"/><line x1=\"711\" y1=\"317\" x2=\"768\" y2=\"317\"/><line x1=\"537\" y1=\"630\" x2=\"594\" y2=\"630\"/><line x1=\"480\" y1=\"630\" x2=\"537\" y2=\"630\"/><line x1=\"594\" y1=\"630\" x2=\"651\" y2=\"630\"/><line x1=\"933\" y1=\"864\" x2=\"990\" y2=\"864\"/><line x1=\"990\" y1=\"864\" x2=\"1047\" y2=\"864\"/><line x1=\"932\" y1=\"942\" x2=\"992\" y2=\"950\"/><line x1=\"993\" y1=\"630\" x2=\"1049\" y2=\"708\"/><line x1=\"1049\" y1=\"708\" x2=\"1106\" y2=\"708\"/><line x1=\"421\" y1=\"864\" x2=\"478\" y2=\"864\"/><line x1=\"478\" y1=\"864\" x2=\"535\" y2=\"864\"/><line x1=\"313\" y1=\"317\" x2=\"312\" y2=\"395\"/><line x1=\"255\" y1=\"395\" x2=\"312\" y2=\"395\"/><line x1=\"312\" y1=\"395\" x2=\"311\" y2=\"474\"/><line x1=\"535\" y1=\"864\" x2=\"591\" y2=\"864\"/><line x1=\"534\" y1=\"942\" x2=\"533\" y2=\"1020\"/><line x1=\"591\" y1=\"864\" x2=\"705\" y2=\"864\"/><line x1=\"705\" y1=\"864\" x2=\"762\" y2=\"864\"/><line x1=\"597\" y1=\"395\" x2=\"654\" y2=\"395\"/><line x1=\"1105\" y1=\"786\" x2=\"1162\" y2=\"786\"/><line x1=\"254\" y1=\"473\" x2=\"311\" y2=\"474\"/><line x1=\"1049\" y1=\"630\" x2=\"1106\" y2=\"630\"/><line x1=\"1106\" y1=\"630\" x2=\"1163\" y2=\"630\"/><line x1=\"1163\" y1=\"630\" x2=\"1220\" y2=\"630\"/><line x1=\"422\" y1=\"708\" x2=\"479\" y2=\"708\"/><line x1=\"479\" y1=\"708\" x2=\"536\" y2=\"708\"/><line x1=\"933\" y1=\"864\" x2=\"932\" y2=\"942\"/><line x1=\"769\" y1=\"239\" x2=\"826\" y2=\"239\"/><line x1=\"422\" y1=\"708\" x2=\"422\" y2=\"786\"/><line x1=\"365\" y1=\"786\" x2=\"422\" y2=\"786\"/><line x1=\"144\" y1=\"161\" x2=\"143\" y2=\"239\"/><line x1=\"143\" y1=\"239\" x2=\"200\" y2=\"239\"/><line x1=\"200\" y1=\"239\" x2=\"257\" y2=\"239\"/><line x1=\"819\" y1=\"864\" x2=\"933\" y2=\"864\"/><line x1=\"1220\" y1=\"630\" x2=\"1277\" y2=\"630\"/><line x1=\"1221\" y1=\"552\" x2=\"1220\" y2=\"630\"/><line x1=\"882\" y1=\"317\" x2=\"881\" y2=\"396\"/><line x1=\"767\" y1=\"395\" x2=\"823\" y2=\"474\"/><line x1=\"882\" y1=\"317\" x2=\"939\" y2=\"317\"/><line x1=\"484\" y1=\"317\" x2=\"540\" y2=\"317\"/><line x1=\"540\" y1=\"395\" x2=\"597\" y2=\"395\"/><line x1=\"257\" y1=\"239\" x2=\"313\" y2=\"240\"/><line x1=\"593\" y1=\"708\" x2=\"650\" y2=\"708\"/><line x1=\"704\" y1=\"1020\" x2=\"761\" y2=\"1020\"/><line x1=\"366\" y1=\"630\" x2=\"423\" y2=\"630\"/><line x1=\"1106\" y1=\"708\" x2=\"1163\" y2=\"708\"/><line x1=\"768\" y1=\"317\" x2=\"825\" y2=\"317\"/><line x1=\"826\" y1=\"239\" x2=\"825\" y2=\"317\"/><line x1=\"825\" y1=\"317\" x2=\"824\" y2=\"396\"/><line x1=\"483\" y1=\"395\" x2=\"540\" y2=\"395\"/><line x1=\"423\" y1=\"630\" x2=\"480\" y2=\"630\"/><line x1=\"87\" y1=\"161\" x2=\"144\" y2=\"161\"/></g><g stroke=\"red\" stroke-dasharray=\"18 15\" stroke-width=\"4\" id=\"edges_tentative\"><line x1=\"368\" y1=\"474\" x2=\"313\" y2=\"240\"/><line x1=\"592\" y1=\"786\" x2=\"591\" y2=\"942\"/><line x1=\"592\" y1=\"786\" x2=\"819\" y2=\"864\"/></g><g id=\"WTGgrp\"><g fill=\"#1f77b4\"><use href=\"#wtg\" x=\"821\" y=\"708\"/><use href=\"#wtg\" x=\"765\" y=\"630\"/><use href=\"#wtg\" x=\"879\" y=\"630\"/><use href=\"#wtg\" x=\"764\" y=\"708\"/></g><g fill=\"#98df8a\"><use href=\"#wtg\" x=\"935\" y=\"708\"/><use href=\"#wtg\" x=\"1048\" y=\"786\"/><use href=\"#wtg\" x=\"1162\" y=\"786\"/><use href=\"#wtg\" x=\"992\" y=\"708\"/><use href=\"#wtg\" x=\"936\" y=\"630\"/><use href=\"#wtg\" x=\"1105\" y=\"786\"/></g><g fill=\"#bcbd22\"><use href=\"#wtg\" x=\"142\" y=\"317\"/><use href=\"#wtg\" x=\"143\" y=\"239\"/><use href=\"#wtg\" x=\"200\" y=\"239\"/><use href=\"#wtg\" x=\"257\" y=\"239\"/><use href=\"#wtg\" x=\"313\" y=\"240\"/><use href=\"#wtg\" x=\"144\" y=\"161\"/><use href=\"#wtg\" x=\"87\" y=\"161\"/></g><g fill=\"#f7b6d2\"><use href=\"#wtg\" x=\"256\" y=\"317\"/><use href=\"#wtg\" x=\"253\" y=\"552\"/><use href=\"#wtg\" x=\"313\" y=\"317\"/><use href=\"#wtg\" x=\"312\" y=\"395\"/><use href=\"#wtg\" x=\"311\" y=\"474\"/><use href=\"#wtg\" x=\"255\" y=\"395\"/><use href=\"#wtg\" x=\"254\" y=\"473\"/></g><g fill=\"#c5b0d5\"><use href=\"#wtg\" x=\"1103\" y=\"863\"/><use href=\"#wtg\" x=\"990\" y=\"864\"/><use href=\"#wtg\" x=\"992\" y=\"950\"/><use href=\"#wtg\" x=\"1047\" y=\"864\"/><use href=\"#wtg\" x=\"932\" y=\"942\"/><use href=\"#wtg\" x=\"933\" y=\"864\"/><use href=\"#wtg\" x=\"819\" y=\"864\"/></g><g fill=\"#2ca02c\"><use href=\"#wtg\" x=\"710\" y=\"395\"/><use href=\"#wtg\" x=\"654\" y=\"395\"/><use href=\"#wtg\" x=\"767\" y=\"395\"/><use href=\"#wtg\" x=\"597\" y=\"395\"/><use href=\"#wtg\" x=\"483\" y=\"395\"/><use href=\"#wtg\" x=\"540\" y=\"395\"/><use href=\"#wtg\" x=\"823\" y=\"474\"/></g><g fill=\"#e377c2\"><use href=\"#wtg\" x=\"427\" y=\"317\"/><use href=\"#wtg\" x=\"369\" y=\"395\"/><use href=\"#wtg\" x=\"597\" y=\"317\"/><use href=\"#wtg\" x=\"426\" y=\"396\"/><use href=\"#wtg\" x=\"540\" y=\"317\"/><use href=\"#wtg\" x=\"484\" y=\"317\"/></g><g fill=\"#ff9896\"><use href=\"#wtg\" x=\"591\" y=\"942\"/><use href=\"#wtg\" x=\"647\" y=\"1020\"/><use href=\"#wtg\" x=\"534\" y=\"942\"/><use href=\"#wtg\" x=\"648\" y=\"942\"/><use href=\"#wtg\" x=\"533\" y=\"1020\"/><use href=\"#wtg\" x=\"761\" y=\"1020\"/><use href=\"#wtg\" x=\"704\" y=\"1020\"/></g><g fill=\"#9467bd\"><use href=\"#wtg\" x=\"309\" y=\"708\"/><use href=\"#wtg\" x=\"365\" y=\"708\"/><use href=\"#wtg\" x=\"479\" y=\"708\"/><use href=\"#wtg\" x=\"422\" y=\"708\"/><use href=\"#wtg\" x=\"422\" y=\"786\"/><use href=\"#wtg\" x=\"536\" y=\"708\"/><use href=\"#wtg\" x=\"365\" y=\"786\"/></g><g fill=\"#d62728\"><use href=\"#wtg\" x=\"1219\" y=\"708\"/><use href=\"#wtg\" x=\"1276\" y=\"708\"/><use href=\"#wtg\" x=\"1049\" y=\"708\"/><use href=\"#wtg\" x=\"1163\" y=\"708\"/><use href=\"#wtg\" x=\"1106\" y=\"708\"/><use href=\"#wtg\" x=\"993\" y=\"630\"/></g><g fill=\"#ff7f0e\"><use href=\"#wtg\" x=\"938\" y=\"395\"/><use href=\"#wtg\" x=\"1051\" y=\"474\"/><use href=\"#wtg\" x=\"881\" y=\"396\"/><use href=\"#wtg\" x=\"939\" y=\"317\"/><use href=\"#wtg\" x=\"1108\" y=\"474\"/><use href=\"#wtg\" x=\"995\" y=\"396\"/><use href=\"#wtg\" x=\"882\" y=\"317\"/></g><g fill=\"#ffbb78\"><use href=\"#wtg\" x=\"654\" y=\"318\"/><use href=\"#wtg\" x=\"711\" y=\"317\"/><use href=\"#wtg\" x=\"769\" y=\"239\"/><use href=\"#wtg\" x=\"825\" y=\"317\"/><use href=\"#wtg\" x=\"768\" y=\"317\"/><use href=\"#wtg\" x=\"824\" y=\"396\"/><use href=\"#wtg\" x=\"826\" y=\"239\"/></g><g fill=\"#c7c7c7\"><use href=\"#wtg\" x=\"309\" y=\"630\"/><use href=\"#wtg\" x=\"537\" y=\"630\"/><use href=\"#wtg\" x=\"594\" y=\"630\"/><use href=\"#wtg\" x=\"651\" y=\"630\"/><use href=\"#wtg\" x=\"366\" y=\"630\"/><use href=\"#wtg\" x=\"423\" y=\"630\"/><use href=\"#wtg\" x=\"480\" y=\"630\"/></g><g fill=\"#8c564b\"><use href=\"#wtg\" x=\"421\" y=\"864\"/><use href=\"#wtg\" x=\"478\" y=\"864\"/><use href=\"#wtg\" x=\"535\" y=\"864\"/><use href=\"#wtg\" x=\"705\" y=\"864\"/><use href=\"#wtg\" x=\"591\" y=\"864\"/><use href=\"#wtg\" x=\"762\" y=\"864\"/></g><g fill=\"#aec7e8\"><use href=\"#wtg\" x=\"1106\" y=\"630\"/><use href=\"#wtg\" x=\"1163\" y=\"630\"/><use href=\"#wtg\" x=\"1049\" y=\"630\"/><use href=\"#wtg\" x=\"1220\" y=\"630\"/><use href=\"#wtg\" x=\"1221\" y=\"552\"/><use href=\"#wtg\" x=\"1277\" y=\"630\"/></g><g fill=\"#7f7f7f\"><use href=\"#wtg\" x=\"481\" y=\"552\"/></g><g fill=\"#c49c94\"><use href=\"#wtg\" x=\"650\" y=\"708\"/><use href=\"#wtg\" x=\"593\" y=\"708\"/></g></g><g id=\"OSSgrp\"><use href=\"#oss\" x=\"869.5\" y=\"541.5\"/><use href=\"#oss\" x=\"581.5\" y=\"775.5\"/><use href=\"#oss\" x=\"357.5\" y=\"463.5\"/></g></g><text filter=\"url(#bg_textbox)\" text-anchor=\"end\" font-family=\"sans-serif\" font-size=\"40\" fill=\"white\" x=\"1471\" y=\"1050\"><tspan x=\"1471\" dy=\"-0.0em\">&#931;&#955; = 150853.0 m</tspan><tspan x=\"1471\" dy=\"-1.3em\">(+2) &#945;: 5, &#946;: 5, &#947;: 7</tspan><tspan x=\"1471\" dy=\"-1.3em\">&#954; = 7, T = 100</tspan></text></svg>"
      ],
      "text/plain": [
       "<optiwindnet.svg.SvgRepr at 0x2adf416a8a0>"
      ]
     },
     "execution_count": 8,
     "metadata": {},
     "output_type": "execute_result"
    }
   ],
   "source": [
    "Sʹ = EW_presolver(A, capacity=capacity)\n",
    "Gʹ = G_from_S(Sʹ, A)\n",
    "svgplot(Gʹ)"
   ]
  },
  {
   "cell_type": "markdown",
   "id": "1200ade2-7c8f-46bd-8afd-f291caa3ff18",
   "metadata": {
    "deletable": true,
    "editable": true,
    "frozen": false,
    "jp-MarkdownHeadingCollapsed": true
   },
   "source": [
    "## CPLEX"
   ]
  },
  {
   "cell_type": "code",
   "execution_count": 9,
   "id": "13b19d4b-928a-4231-b7c7-f5cd2093fa7c",
   "metadata": {
    "deletable": true,
    "editable": true,
    "execution": {
     "iopub.execute_input": "2025-04-11T10:23:58.699987Z",
     "iopub.status.busy": "2025-04-11T10:23:58.699987Z",
     "iopub.status.idle": "2025-04-11T10:23:59.323236Z",
     "shell.execute_reply": "2025-04-11T10:23:59.323236Z",
     "shell.execute_reply.started": "2025-04-11T10:23:58.699987Z"
    },
    "frozen": false
   },
   "outputs": [],
   "source": [
    "solver = solver_factory('cplex')"
   ]
  },
  {
   "cell_type": "code",
   "execution_count": 10,
   "id": "54f6bbc8-f71d-40a3-9b71-e6005f2096be",
   "metadata": {
    "deletable": true,
    "editable": true,
    "execution": {
     "iopub.execute_input": "2025-04-11T10:23:59.324237Z",
     "iopub.status.busy": "2025-04-11T10:23:59.324237Z",
     "iopub.status.idle": "2025-04-11T10:23:59.393188Z",
     "shell.execute_reply": "2025-04-11T10:23:59.392190Z",
     "shell.execute_reply.started": "2025-04-11T10:23:59.324237Z"
    },
    "frozen": false
   },
   "outputs": [],
   "source": [
    "solver.set_problem(\n",
    "    P, A, capacity, warmstart=Sʹ,\n",
    "    gateXings_constraint=False,\n",
    "    branching=True,\n",
    "    gates_limit=False,\n",
    ")"
   ]
  },
  {
   "cell_type": "code",
   "execution_count": 11,
   "id": "67bc62ff-3703-4f36-bb52-b929807bc6f4",
   "metadata": {
    "deletable": true,
    "editable": true,
    "execution": {
     "iopub.execute_input": "2025-04-11T10:23:59.394185Z",
     "iopub.status.busy": "2025-04-11T10:23:59.393188Z",
     "iopub.status.idle": "2025-04-11T10:24:03.330961Z",
     "shell.execute_reply": "2025-04-11T10:24:03.330961Z",
     "shell.execute_reply.started": "2025-04-11T10:23:59.394185Z"
    },
    "frozen": false
   },
   "outputs": [
    {
     "name": "stdout",
     "output_type": "stream",
     "text": [
      "objective: 143303.812473, bound: 141873.359886, gap: 0.0100, termination: optimal\n"
     ]
    },
    {
     "data": {
      "text/plain": [
       "(143303.81247279348, 141873.35988639478, 0.009981957644499273, 'optimal')"
      ]
     },
     "execution_count": 11,
     "metadata": {},
     "output_type": "execute_result"
    }
   ],
   "source": [
    "solver.solve(timelimit=5, mipgap=0.01)"
   ]
  },
  {
   "cell_type": "code",
   "execution_count": 12,
   "id": "f69d80de-dd6e-4e4e-95a3-1d428c28097e",
   "metadata": {
    "deletable": true,
    "editable": true,
    "execution": {
     "iopub.execute_input": "2025-04-11T10:24:03.330961Z",
     "iopub.status.busy": "2025-04-11T10:24:03.330961Z",
     "iopub.status.idle": "2025-04-11T10:24:03.346336Z",
     "shell.execute_reply": "2025-04-11T10:24:03.346336Z",
     "shell.execute_reply.started": "2025-04-11T10:24:03.330961Z"
    },
    "frozen": false
   },
   "outputs": [
    {
     "name": "stdout",
     "output_type": "stream",
     "text": [
      "Solution pool has 26 solutions.\n",
      "#0 -> incumbent (objective: 143303.812, length: 143303.812)\n",
      "#1 halted pool search: objective (143304.253) > incumbent's length\n"
     ]
    }
   ],
   "source": [
    "G = solver.get_solution()"
   ]
  },
  {
   "cell_type": "code",
   "execution_count": 13,
   "id": "45bcf690-af78-4bc2-9e16-c86b3c60c932",
   "metadata": {
    "deletable": true,
    "editable": true,
    "execution": {
     "iopub.execute_input": "2025-04-11T10:37:17.206827Z",
     "iopub.status.busy": "2025-04-11T10:37:17.205830Z",
     "iopub.status.idle": "2025-04-11T10:37:17.210812Z",
     "shell.execute_reply": "2025-04-11T10:37:17.210812Z",
     "shell.execute_reply.started": "2025-04-11T10:37:17.206827Z"
    },
    "frozen": false
   },
   "outputs": [
    {
     "data": {
      "text/plain": [
       "24"
      ]
     },
     "execution_count": 13,
     "metadata": {},
     "output_type": "execute_result"
    }
   ],
   "source": [
    "solver.soln"
   ]
  },
  {
   "cell_type": "code",
   "execution_count": 14,
   "id": "fd3397dc-277b-4654-8a7f-7f342a6732b9",
   "metadata": {
    "deletable": true,
    "editable": true,
    "execution": {
     "iopub.execute_input": "2025-04-11T10:37:44.791047Z",
     "iopub.status.busy": "2025-04-11T10:37:44.790219Z",
     "iopub.status.idle": "2025-04-11T10:37:44.798385Z",
     "shell.execute_reply": "2025-04-11T10:37:44.798385Z",
     "shell.execute_reply.started": "2025-04-11T10:37:44.790219Z"
    },
    "frozen": false
   },
   "outputs": [
    {
     "data": {
      "image/svg+xml": [
       "<svg xmlns=\"http://www.w3.org/2000/svg\" viewBox=\"0 0 1920 1080\"><defs><filter x=\"-5%\" y=\"-5%\" id=\"bg_textbox\" width=\"110%\" height=\"110%\"><feFlood flood-opacity=\"0.7\" flood-color=\"#111\" result=\"bg\"/><feMerge><feMergeNode in=\"bg\"/><feMergeNode in=\"SourceGraphic\"/></feMerge></filter><circle stroke=\"none\" stroke-width=\"2\" id=\"wtg\" r=\"12\"/><rect stroke=\"none\" stroke-width=\"2\" id=\"oss\" width=\"21\" height=\"21\" fill=\"lawngreen\"/></defs><g id=\"moray\"><path stroke=\"silver\" stroke-dasharray=\"15 7\" stroke-width=\"2\" id=\"border\" d=\"M1471 544 1103 863 895 1043 421 1050 30 30 79 90 117 127 165 165 217 198 277 226 325 243 400 260 441 266 498 267 559 263 645 245 690 229 738 208 789 180 838 145 895 205 1022 314 1149 406 1271 472 1347 505z\" fill-rule=\"evenodd\" fill=\"#111\"/><g stroke=\"crimson\" stroke-width=\"4\" id=\"edges_unspecified\"><line x1=\"142\" y1=\"317\" x2=\"256\" y2=\"317\"/><line x1=\"143\" y1=\"239\" x2=\"142\" y2=\"317\"/><line x1=\"256\" y1=\"317\" x2=\"255\" y2=\"395\"/><line x1=\"255\" y1=\"395\" x2=\"254\" y2=\"473\"/><line x1=\"1047\" y1=\"864\" x2=\"1103\" y2=\"863\"/><line x1=\"1105\" y1=\"786\" x2=\"1103\" y2=\"863\"/><line x1=\"765\" y1=\"630\" x2=\"764\" y2=\"708\"/><line x1=\"650\" y1=\"708\" x2=\"764\" y2=\"708\"/><line x1=\"764\" y1=\"708\" x2=\"821\" y2=\"708\"/><line x1=\"427\" y1=\"317\" x2=\"369\" y2=\"395\"/><line x1=\"427\" y1=\"317\" x2=\"484\" y2=\"317\"/><line x1=\"368\" y1=\"474\" x2=\"369\" y2=\"395\"/><line x1=\"309\" y1=\"630\" x2=\"309\" y2=\"708\"/><line x1=\"309\" y1=\"630\" x2=\"366\" y2=\"630\"/><line x1=\"309\" y1=\"708\" x2=\"365\" y2=\"708\"/><line x1=\"365\" y1=\"708\" x2=\"422\" y2=\"708\"/><line x1=\"939\" y1=\"317\" x2=\"938\" y2=\"395\"/><line x1=\"882\" y1=\"317\" x2=\"939\" y2=\"317\"/><line x1=\"881\" y1=\"396\" x2=\"938\" y2=\"395\"/><line x1=\"938\" y1=\"395\" x2=\"995\" y2=\"396\"/><line x1=\"422\" y1=\"708\" x2=\"479\" y2=\"708\"/><line x1=\"537\" y1=\"630\" x2=\"594\" y2=\"630\"/><line x1=\"480\" y1=\"630\" x2=\"537\" y2=\"630\"/><line x1=\"594\" y1=\"630\" x2=\"651\" y2=\"630\"/><line x1=\"594\" y1=\"630\" x2=\"593\" y2=\"708\"/><line x1=\"481\" y1=\"552\" x2=\"480\" y2=\"630\"/><line x1=\"423\" y1=\"630\" x2=\"480\" y2=\"630\"/><line x1=\"592\" y1=\"786\" x2=\"593\" y2=\"708\"/><line x1=\"421\" y1=\"864\" x2=\"478\" y2=\"864\"/><line x1=\"422\" y1=\"786\" x2=\"421\" y2=\"864\"/><line x1=\"478\" y1=\"864\" x2=\"535\" y2=\"864\"/><line x1=\"365\" y1=\"786\" x2=\"422\" y2=\"786\"/><line x1=\"592\" y1=\"786\" x2=\"535\" y2=\"864\"/><line x1=\"535\" y1=\"864\" x2=\"534\" y2=\"942\"/><line x1=\"313\" y1=\"317\" x2=\"312\" y2=\"395\"/><line x1=\"313\" y1=\"240\" x2=\"313\" y2=\"317\"/><line x1=\"368\" y1=\"474\" x2=\"312\" y2=\"395\"/><line x1=\"257\" y1=\"239\" x2=\"313\" y2=\"240\"/><line x1=\"254\" y1=\"473\" x2=\"311\" y2=\"474\"/><line x1=\"254\" y1=\"473\" x2=\"253\" y2=\"552\"/><line x1=\"368\" y1=\"474\" x2=\"311\" y2=\"474\"/><line x1=\"479\" y1=\"708\" x2=\"536\" y2=\"708\"/><line x1=\"592\" y1=\"786\" x2=\"536\" y2=\"708\"/><line x1=\"769\" y1=\"239\" x2=\"826\" y2=\"239\"/><line x1=\"826\" y1=\"239\" x2=\"825\" y2=\"317\"/><line x1=\"144\" y1=\"161\" x2=\"200\" y2=\"239\"/><line x1=\"200\" y1=\"239\" x2=\"257\" y2=\"239\"/><line x1=\"87\" y1=\"161\" x2=\"144\" y2=\"161\"/><line x1=\"1221\" y1=\"552\" x2=\"1220\" y2=\"630\"/><line x1=\"1163\" y1=\"630\" x2=\"1220\" y2=\"630\"/><line x1=\"1220\" y1=\"630\" x2=\"1277\" y2=\"630\"/><line x1=\"768\" y1=\"317\" x2=\"825\" y2=\"317\"/><line x1=\"825\" y1=\"317\" x2=\"824\" y2=\"396\"/><line x1=\"824\" y1=\"396\" x2=\"823\" y2=\"474\"/><line x1=\"880\" y1=\"552\" x2=\"823\" y2=\"474\"/><line x1=\"935\" y1=\"708\" x2=\"1048\" y2=\"786\"/><line x1=\"879\" y1=\"630\" x2=\"935\" y2=\"708\"/><line x1=\"880\" y1=\"552\" x2=\"879\" y2=\"630\"/><line x1=\"1048\" y1=\"786\" x2=\"1105\" y2=\"786\"/><line x1=\"1105\" y1=\"786\" x2=\"1162\" y2=\"786\"/><line x1=\"654\" y1=\"395\" x2=\"710\" y2=\"395\"/><line x1=\"710\" y1=\"395\" x2=\"767\" y2=\"395\"/><line x1=\"597\" y1=\"395\" x2=\"654\" y2=\"395\"/><line x1=\"484\" y1=\"317\" x2=\"540\" y2=\"317\"/><line x1=\"591\" y1=\"864\" x2=\"591\" y2=\"942\"/><line x1=\"591\" y1=\"942\" x2=\"648\" y2=\"942\"/><line x1=\"592\" y1=\"786\" x2=\"591\" y2=\"864\"/><line x1=\"648\" y1=\"942\" x2=\"647\" y2=\"1020\"/><line x1=\"647\" y1=\"1020\" x2=\"704\" y2=\"1020\"/><line x1=\"704\" y1=\"1020\" x2=\"761\" y2=\"1020\"/><line x1=\"1219\" y1=\"708\" x2=\"1276\" y2=\"708\"/><line x1=\"1163\" y1=\"708\" x2=\"1219\" y2=\"708\"/><line x1=\"1106\" y1=\"708\" x2=\"1163\" y2=\"708\"/><line x1=\"880\" y1=\"552\" x2=\"881\" y2=\"396\"/><line x1=\"995\" y1=\"396\" x2=\"1051\" y2=\"474\"/><line x1=\"1051\" y1=\"474\" x2=\"1108\" y2=\"474\"/><line x1=\"597\" y1=\"317\" x2=\"654\" y2=\"318\"/><line x1=\"654\" y1=\"318\" x2=\"711\" y2=\"317\"/><line x1=\"540\" y1=\"317\" x2=\"597\" y2=\"317\"/><line x1=\"933\" y1=\"864\" x2=\"990\" y2=\"864\"/><line x1=\"819\" y1=\"864\" x2=\"933\" y2=\"864\"/><line x1=\"933\" y1=\"864\" x2=\"932\" y2=\"942\"/><line x1=\"932\" y1=\"942\" x2=\"992\" y2=\"950\"/><line x1=\"992\" y1=\"708\" x2=\"1049\" y2=\"708\"/><line x1=\"1049\" y1=\"708\" x2=\"1106\" y2=\"708\"/><line x1=\"936\" y1=\"630\" x2=\"992\" y2=\"708\"/><line x1=\"534\" y1=\"942\" x2=\"533\" y2=\"1020\"/><line x1=\"705\" y1=\"864\" x2=\"762\" y2=\"864\"/><line x1=\"762\" y1=\"864\" x2=\"819\" y2=\"864\"/><line x1=\"592\" y1=\"786\" x2=\"705\" y2=\"864\"/><line x1=\"540\" y1=\"395\" x2=\"597\" y2=\"395\"/><line x1=\"592\" y1=\"786\" x2=\"650\" y2=\"708\"/><line x1=\"1106\" y1=\"630\" x2=\"1163\" y2=\"630\"/><line x1=\"1049\" y1=\"630\" x2=\"1106\" y2=\"630\"/><line x1=\"993\" y1=\"630\" x2=\"1049\" y2=\"630\"/><line x1=\"880\" y1=\"552\" x2=\"993\" y2=\"630\"/><line x1=\"426\" y1=\"396\" x2=\"483\" y2=\"395\"/><line x1=\"483\" y1=\"395\" x2=\"540\" y2=\"395\"/><line x1=\"368\" y1=\"474\" x2=\"426\" y2=\"396\"/><line x1=\"880\" y1=\"552\" x2=\"936\" y2=\"630\"/></g><g id=\"WTGgrp\"><g fill=\"#7f7f7f\"><use href=\"#wtg\" x=\"142\" y=\"317\"/><use href=\"#wtg\" x=\"256\" y=\"317\"/><use href=\"#wtg\" x=\"143\" y=\"239\"/><use href=\"#wtg\" x=\"255\" y=\"395\"/><use href=\"#wtg\" x=\"254\" y=\"473\"/><use href=\"#wtg\" x=\"311\" y=\"474\"/><use href=\"#wtg\" x=\"253\" y=\"552\"/></g><g fill=\"#ff7f0e\"><use href=\"#wtg\" x=\"1047\" y=\"864\"/><use href=\"#wtg\" x=\"1103\" y=\"863\"/><use href=\"#wtg\" x=\"935\" y=\"708\"/><use href=\"#wtg\" x=\"879\" y=\"630\"/><use href=\"#wtg\" x=\"1048\" y=\"786\"/><use href=\"#wtg\" x=\"1105\" y=\"786\"/><use href=\"#wtg\" x=\"1162\" y=\"786\"/></g><g fill=\"#ff9896\"><use href=\"#wtg\" x=\"765\" y=\"630\"/><use href=\"#wtg\" x=\"764\" y=\"708\"/><use href=\"#wtg\" x=\"821\" y=\"708\"/><use href=\"#wtg\" x=\"650\" y=\"708\"/></g><g fill=\"#e377c2\"><use href=\"#wtg\" x=\"427\" y=\"317\"/><use href=\"#wtg\" x=\"369\" y=\"395\"/><use href=\"#wtg\" x=\"484\" y=\"317\"/><use href=\"#wtg\" x=\"654\" y=\"318\"/><use href=\"#wtg\" x=\"597\" y=\"317\"/><use href=\"#wtg\" x=\"540\" y=\"317\"/><use href=\"#wtg\" x=\"711\" y=\"317\"/></g><g fill=\"#98df8a\"><use href=\"#wtg\" x=\"309\" y=\"630\"/><use href=\"#wtg\" x=\"309\" y=\"708\"/><use href=\"#wtg\" x=\"365\" y=\"708\"/><use href=\"#wtg\" x=\"422\" y=\"708\"/><use href=\"#wtg\" x=\"479\" y=\"708\"/><use href=\"#wtg\" x=\"536\" y=\"708\"/><use href=\"#wtg\" x=\"366\" y=\"630\"/></g><g fill=\"#1f77b4\"><use href=\"#wtg\" x=\"939\" y=\"317\"/><use href=\"#wtg\" x=\"938\" y=\"395\"/><use href=\"#wtg\" x=\"882\" y=\"317\"/><use href=\"#wtg\" x=\"881\" y=\"396\"/><use href=\"#wtg\" x=\"995\" y=\"396\"/><use href=\"#wtg\" x=\"1051\" y=\"474\"/><use href=\"#wtg\" x=\"1108\" y=\"474\"/></g><g fill=\"#d62728\"><use href=\"#wtg\" x=\"537\" y=\"630\"/><use href=\"#wtg\" x=\"594\" y=\"630\"/><use href=\"#wtg\" x=\"480\" y=\"630\"/><use href=\"#wtg\" x=\"593\" y=\"708\"/><use href=\"#wtg\" x=\"481\" y=\"552\"/><use href=\"#wtg\" x=\"423\" y=\"630\"/><use href=\"#wtg\" x=\"651\" y=\"630\"/></g><g fill=\"#9467bd\"><use href=\"#wtg\" x=\"421\" y=\"864\"/><use href=\"#wtg\" x=\"478\" y=\"864\"/><use href=\"#wtg\" x=\"422\" y=\"786\"/><use href=\"#wtg\" x=\"535\" y=\"864\"/><use href=\"#wtg\" x=\"365\" y=\"786\"/><use href=\"#wtg\" x=\"534\" y=\"942\"/><use href=\"#wtg\" x=\"533\" y=\"1020\"/></g><g fill=\"#c49c94\"><use href=\"#wtg\" x=\"313\" y=\"317\"/><use href=\"#wtg\" x=\"312\" y=\"395\"/><use href=\"#wtg\" x=\"313\" y=\"240\"/><use href=\"#wtg\" x=\"200\" y=\"239\"/><use href=\"#wtg\" x=\"257\" y=\"239\"/><use href=\"#wtg\" x=\"144\" y=\"161\"/><use href=\"#wtg\" x=\"87\" y=\"161\"/></g><g fill=\"#aec7e8\"><use href=\"#wtg\" x=\"769\" y=\"239\"/><use href=\"#wtg\" x=\"826\" y=\"239\"/><use href=\"#wtg\" x=\"768\" y=\"317\"/><use href=\"#wtg\" x=\"825\" y=\"317\"/><use href=\"#wtg\" x=\"824\" y=\"396\"/><use href=\"#wtg\" x=\"823\" y=\"474\"/></g><g fill=\"#2ca02c\"><use href=\"#wtg\" x=\"1221\" y=\"552\"/><use href=\"#wtg\" x=\"1220\" y=\"630\"/><use href=\"#wtg\" x=\"1163\" y=\"630\"/><use href=\"#wtg\" x=\"1106\" y=\"630\"/><use href=\"#wtg\" x=\"1049\" y=\"630\"/><use href=\"#wtg\" x=\"993\" y=\"630\"/><use href=\"#wtg\" x=\"1277\" y=\"630\"/></g><g fill=\"#f7b6d2\"><use href=\"#wtg\" x=\"710\" y=\"395\"/><use href=\"#wtg\" x=\"654\" y=\"395\"/><use href=\"#wtg\" x=\"767\" y=\"395\"/><use href=\"#wtg\" x=\"597\" y=\"395\"/><use href=\"#wtg\" x=\"483\" y=\"395\"/><use href=\"#wtg\" x=\"426\" y=\"396\"/><use href=\"#wtg\" x=\"540\" y=\"395\"/></g><g fill=\"#c5b0d5\"><use href=\"#wtg\" x=\"591\" y=\"942\"/><use href=\"#wtg\" x=\"591\" y=\"864\"/><use href=\"#wtg\" x=\"648\" y=\"942\"/><use href=\"#wtg\" x=\"647\" y=\"1020\"/><use href=\"#wtg\" x=\"704\" y=\"1020\"/><use href=\"#wtg\" x=\"761\" y=\"1020\"/></g><g fill=\"#ffbb78\"><use href=\"#wtg\" x=\"1276\" y=\"708\"/><use href=\"#wtg\" x=\"1219\" y=\"708\"/><use href=\"#wtg\" x=\"1163\" y=\"708\"/><use href=\"#wtg\" x=\"1049\" y=\"708\"/><use href=\"#wtg\" x=\"992\" y=\"708\"/><use href=\"#wtg\" x=\"1106\" y=\"708\"/><use href=\"#wtg\" x=\"936\" y=\"630\"/></g><g fill=\"#8c564b\"><use href=\"#wtg\" x=\"990\" y=\"864\"/><use href=\"#wtg\" x=\"933\" y=\"864\"/><use href=\"#wtg\" x=\"992\" y=\"950\"/><use href=\"#wtg\" x=\"932\" y=\"942\"/><use href=\"#wtg\" x=\"762\" y=\"864\"/><use href=\"#wtg\" x=\"705\" y=\"864\"/><use href=\"#wtg\" x=\"819\" y=\"864\"/></g></g><g id=\"OSSgrp\"><use href=\"#oss\" x=\"869.5\" y=\"541.5\"/><use href=\"#oss\" x=\"581.5\" y=\"775.5\"/><use href=\"#oss\" x=\"357.5\" y=\"463.5\"/></g></g><text filter=\"url(#bg_textbox)\" text-anchor=\"end\" font-family=\"sans-serif\" font-size=\"40\" fill=\"white\" x=\"1471\" y=\"1050\"><tspan x=\"1471\" dy=\"-0.0em\">&#931;&#955; = 143304.0 m</tspan><tspan x=\"1471\" dy=\"-1.3em\">(+0) &#945;: 4, &#946;: 6, &#947;: 5</tspan><tspan x=\"1471\" dy=\"-1.3em\">&#954; = 7, T = 100</tspan></text></svg>"
      ],
      "text/plain": [
       "<optiwindnet.svg.SvgRepr at 0x1328e739160>"
      ]
     },
     "execution_count": 14,
     "metadata": {},
     "output_type": "execute_result"
    }
   ],
   "source": [
    "svgplot(G)"
   ]
  },
  {
   "cell_type": "code",
   "execution_count": 16,
   "id": "87cc0961-bf00-42f1-b4ae-6435315bf60c",
   "metadata": {
    "deletable": true,
    "editable": true,
    "execution": {
     "iopub.execute_input": "2025-04-11T10:38:18.531234Z",
     "iopub.status.busy": "2025-04-11T10:38:18.530326Z",
     "iopub.status.idle": "2025-04-11T10:38:19.359586Z",
     "shell.execute_reply": "2025-04-11T10:38:19.359586Z",
     "shell.execute_reply.started": "2025-04-11T10:38:18.531234Z"
    },
    "frozen": false
   },
   "outputs": [
    {
     "ename": "KeyError",
     "evalue": "'pool_entry'",
     "output_type": "error",
     "traceback": [
      "\u001b[31m---------------------------------------------------------------------------\u001b[39m",
      "\u001b[31mKeyError\u001b[39m                                  Traceback (most recent call last)",
      "\u001b[36mCell\u001b[39m\u001b[36m \u001b[39m\u001b[32mIn[16]\u001b[39m\u001b[32m, line 1\u001b[39m\n\u001b[32m----> \u001b[39m\u001b[32m1\u001b[39m \u001b[43mG\u001b[49m\u001b[43m.\u001b[49m\u001b[43mgraph\u001b[49m\u001b[43m[\u001b[49m\u001b[33;43m'\u001b[39;49m\u001b[33;43mpool_entry\u001b[39;49m\u001b[33;43m'\u001b[39;49m\u001b[43m]\u001b[49m\n",
      "\u001b[31mKeyError\u001b[39m: 'pool_entry'"
     ]
    }
   ],
   "source": [
    "G.graph['pool_entry']"
   ]
  },
  {
   "cell_type": "code",
   "execution_count": null,
   "id": "43c5f79d-46a4-444d-b4a1-11b151d33105",
   "metadata": {
    "deletable": true,
    "editable": true,
    "execution": {
     "iopub.execute_input": "2025-04-11T10:38:32.608476Z",
     "iopub.status.busy": "2025-04-11T10:38:32.607488Z",
     "iopub.status.idle": "2025-04-11T10:38:32.638955Z",
     "shell.execute_reply": "2025-04-11T10:38:32.637940Z",
     "shell.execute_reply.started": "2025-04-11T10:38:32.607488Z"
    },
    "frozen": false
   },
   "outputs": [],
   "source": [
    "solver.sorted_index_"
   ]
  },
  {
   "cell_type": "markdown",
   "id": "7efec2e0-8546-4d75-8987-3080a2305d08",
   "metadata": {
    "editable": true,
    "frozen": false
   },
   "source": [
    "## ORTools"
   ]
  },
  {
   "cell_type": "code",
   "execution_count": 9,
   "id": "d22cb16c-a880-485c-9879-bea55da3b0ad",
   "metadata": {
    "editable": true,
    "execution": {
     "iopub.execute_input": "2025-04-11T11:11:12.040644Z",
     "iopub.status.busy": "2025-04-11T11:11:12.040644Z",
     "iopub.status.idle": "2025-04-11T11:11:12.109321Z",
     "shell.execute_reply": "2025-04-11T11:11:12.109321Z",
     "shell.execute_reply.started": "2025-04-11T11:11:12.040644Z"
    },
    "frozen": false
   },
   "outputs": [
    {
     "name": "stdout",
     "output_type": "stream",
     "text": [
      "load C:\\Users\\s213184\\programs\\miniconda\\envs\\work312\\Lib\\site-packages\\ortools\\.libs\\zlib1.dll...\n",
      "load C:\\Users\\s213184\\programs\\miniconda\\envs\\work312\\Lib\\site-packages\\ortools\\.libs\\abseil_dll.dll...\n",
      "load C:\\Users\\s213184\\programs\\miniconda\\envs\\work312\\Lib\\site-packages\\ortools\\.libs\\utf8_validity.dll...\n",
      "load C:\\Users\\s213184\\programs\\miniconda\\envs\\work312\\Lib\\site-packages\\ortools\\.libs\\re2.dll...\n",
      "load C:\\Users\\s213184\\programs\\miniconda\\envs\\work312\\Lib\\site-packages\\ortools\\.libs\\libprotobuf.dll...\n",
      "load C:\\Users\\s213184\\programs\\miniconda\\envs\\work312\\Lib\\site-packages\\ortools\\.libs\\highs.dll...\n",
      "load C:\\Users\\s213184\\programs\\miniconda\\envs\\work312\\Lib\\site-packages\\ortools\\.libs\\ortools.dll...\n"
     ]
    }
   ],
   "source": [
    "solver = solver_factory('ortools')"
   ]
  },
  {
   "cell_type": "code",
   "execution_count": 10,
   "id": "5eb3c8bc-7eac-47be-a18c-ae3a0f4b65a3",
   "metadata": {
    "editable": true,
    "execution": {
     "iopub.execute_input": "2025-04-11T11:11:13.414455Z",
     "iopub.status.busy": "2025-04-11T11:11:13.414455Z",
     "iopub.status.idle": "2025-04-11T11:11:13.565539Z",
     "shell.execute_reply": "2025-04-11T11:11:13.564914Z",
     "shell.execute_reply.started": "2025-04-11T11:11:13.414455Z"
    },
    "frozen": false
   },
   "outputs": [],
   "source": [
    "solver.set_problem(\n",
    "    P, A, capacity, warmstart=Sʹ,\n",
    "    gateXings_constraint=False,\n",
    "    branching=True,\n",
    "    gates_limit=False,\n",
    ")"
   ]
  },
  {
   "cell_type": "code",
   "execution_count": 15,
   "id": "74f2dc62-b3b7-49dd-bf35-6f15300294f9",
   "metadata": {
    "editable": true,
    "execution": {
     "iopub.execute_input": "2025-04-11T11:12:00.795246Z",
     "iopub.status.busy": "2025-04-11T11:12:00.795246Z",
     "iopub.status.idle": "2025-04-11T11:12:37.568674Z",
     "shell.execute_reply": "2025-04-11T11:12:37.568674Z",
     "shell.execute_reply.started": "2025-04-11T11:12:00.795246Z"
    },
    "frozen": false,
    "scrolled": true
   },
   "outputs": [
    {
     "name": "stdout",
     "output_type": "stream",
     "text": [
      "\n",
      "Starting CP-SAT solver v9.12.4544\n",
      "Parameters: max_time_in_seconds: 60 log_search_progress: true relative_gap_limit: 0.01\n",
      "Setting number of workers to 16\n",
      "\n",
      "Initial optimization model 'Moray East': (model_fingerprint: 0x5d39f93dff015e4f)\n",
      "#Variables: 2'428 (#bools: 1'214 in floating point objective)\n",
      "  - 1'214 Booleans in [0,1]\n",
      "  - 914 in [0,6]\n",
      "  - 300 in [0,7]\n",
      "#kAtMostOne: 780 (#literals: 2'330)\n",
      "#kLinear1: 2'428 (#enforced: 2'428)\n",
      "#kLinearN: 303 (#terms: 6'070)\n",
      "\n",
      "Starting presolve at 0.00s\n",
      "The solution hint is complete and is feasible.\n",
      "[Scaling] Floating point objective has 1214 terms with magnitude in [1119.02, 18596.1] average = 3961.18\n",
      "[Scaling] Objective coefficient relative error: 2.09617e-10\n",
      "[Scaling] Objective worst-case absolute error: 7.83325e-05\n",
      "[Scaling] Objective scaling factor: 2.09715e+06\n",
      "  7.82e-04s  0.00e+00d  [DetectDominanceRelations] \n",
      "  1.34e-02s  0.00e+00d  [operations_research::sat::CpModelPresolver::PresolveToFixPoint] #num_loops=2 #num_dual_strengthening=1 \n",
      "  3.21e-04s  0.00e+00d  [operations_research::sat::CpModelPresolver::ExtractEncodingFromLinear] #potential_supersets=880 \n",
      "  6.64e-04s  0.00e+00d  [operations_research::sat::CpModelPresolver::DetectDuplicateColumns] \n",
      "  6.57e-04s  0.00e+00d  [operations_research::sat::CpModelPresolver::DetectDuplicateConstraints] \n",
      "[Symmetry] Graph for symmetry has 8'511 nodes and 16'285 arcs.\n",
      "[Symmetry] Symmetry computation done. time: 0.0009825 dtime: 0.00153942\n",
      "  7.57e-04s  0.00e+00d  [operations_research::sat::CpModelPresolver::DetectDuplicateConstraintsWithDifferentEnforcements] \n",
      "  1.75e-02s  5.94e-03d  [operations_research::sat::CpModelPresolver::Probe] #probed=2'428 \n",
      "  8.05e-04s  5.10e-04d  [MaxClique] Merged 780(2'330 literals) into 415(1'600 literals) at_most_ones. \n",
      "  6.78e-04s  0.00e+00d  [DetectDominanceRelations] \n",
      "  6.23e-03s  0.00e+00d  [operations_research::sat::CpModelPresolver::PresolveToFixPoint] #num_loops=1 #num_dual_strengthening=1 \n",
      "  1.14e-03s  0.00e+00d  [operations_research::sat::CpModelPresolver::ProcessAtMostOneAndLinear] \n",
      "  6.08e-04s  0.00e+00d  [operations_research::sat::CpModelPresolver::DetectDuplicateConstraints] \n",
      "  5.53e-04s  0.00e+00d  [operations_research::sat::CpModelPresolver::DetectDuplicateConstraintsWithDifferentEnforcements] \n",
      "  6.28e-04s  2.03e-05d  [operations_research::sat::CpModelPresolver::DetectDominatedLinearConstraints] #relevant_constraints=203 #num_inclusions=101 \n",
      "  4.96e-05s  0.00e+00d  [operations_research::sat::CpModelPresolver::DetectDifferentVariables] \n",
      "  1.99e-02s  6.42e-04d  [operations_research::sat::CpModelPresolver::ProcessSetPPC] #relevant_constraints=517 #num_inclusions=515 \n",
      "  2.65e-04s  2.00e-07d  [operations_research::sat::CpModelPresolver::FindAlmostIdenticalLinearConstraints] #num_tested_pairs=2 \n",
      "  3.19e-03s  1.23e-03d  [operations_research::sat::CpModelPresolver::FindBigAtMostOneAndLinearOverlap] \n",
      "  1.66e-03s  1.24e-03d  [operations_research::sat::CpModelPresolver::FindBigVerticalLinearOverlap] \n",
      "  6.70e-04s  6.15e-04d  [operations_research::sat::CpModelPresolver::FindBigHorizontalLinearOverlap] #linears=200 \n",
      "  7.74e-05s  0.00e+00d  [operations_research::sat::CpModelPresolver::MergeClauses] \n",
      "  9.03e-04s  0.00e+00d  [DetectDominanceRelations] \n",
      "  7.51e-03s  0.00e+00d  [operations_research::sat::CpModelPresolver::PresolveToFixPoint] #num_loops=1 #num_dual_strengthening=1 \n",
      "  7.05e-04s  0.00e+00d  [DetectDominanceRelations] \n",
      "  7.23e-03s  0.00e+00d  [operations_research::sat::CpModelPresolver::PresolveToFixPoint] #num_loops=1 #num_dual_strengthening=1 \n",
      "  6.34e-04s  0.00e+00d  [operations_research::sat::CpModelPresolver::DetectDuplicateColumns] \n",
      "  1.01e-03s  0.00e+00d  [operations_research::sat::CpModelPresolver::DetectDuplicateConstraints] \n",
      "[Symmetry] Graph for symmetry has 7'780 nodes and 13'611 arcs.\n",
      "[Symmetry] Symmetry computation done. time: 0.0010383 dtime: 0.00140254\n",
      "[SAT presolve] num removable Booleans: 0 / 1214\n",
      "[SAT presolve] num trivial clauses: 0\n",
      "[SAT presolve] [0s] clauses:92 literals:184 vars:184 one_side_vars:184 simple_definition:0 singleton_clauses:0\n",
      "[SAT presolve] [0.0004107s] clauses:92 literals:184 vars:184 one_side_vars:184 simple_definition:0 singleton_clauses:0\n",
      "[SAT presolve] [0.0006067s] clauses:92 literals:184 vars:184 one_side_vars:184 simple_definition:0 singleton_clauses:0\n",
      "  7.64e-04s  0.00e+00d  [operations_research::sat::CpModelPresolver::DetectDuplicateConstraintsWithDifferentEnforcements] \n",
      "  1.74e-02s  5.50e-03d  [operations_research::sat::CpModelPresolver::Probe] #probed=2'428 \n",
      "  7.83e-04s  4.98e-04d  [MaxClique] \n",
      "  6.69e-04s  0.00e+00d  [DetectDominanceRelations] \n",
      "  6.38e-03s  0.00e+00d  [operations_research::sat::CpModelPresolver::PresolveToFixPoint] #num_loops=1 #num_dual_strengthening=1 \n",
      "  7.85e-04s  0.00e+00d  [operations_research::sat::CpModelPresolver::ProcessAtMostOneAndLinear] \n",
      "  7.29e-04s  0.00e+00d  [operations_research::sat::CpModelPresolver::DetectDuplicateConstraints] \n",
      "  5.59e-04s  0.00e+00d  [operations_research::sat::CpModelPresolver::DetectDuplicateConstraintsWithDifferentEnforcements] \n",
      "  4.84e-04s  1.49e-05d  [operations_research::sat::CpModelPresolver::DetectDominatedLinearConstraints] #relevant_constraints=202 #num_inclusions=100 \n",
      "  7.14e-05s  0.00e+00d  [operations_research::sat::CpModelPresolver::DetectDifferentVariables] \n",
      "  4.00e-04s  9.15e-06d  [operations_research::sat::CpModelPresolver::ProcessSetPPC] #relevant_constraints=516 \n",
      "  9.81e-05s  5.15e-07d  [operations_research::sat::CpModelPresolver::FindAlmostIdenticalLinearConstraints] #num_tested_pairs=5 \n",
      "  1.70e-03s  1.23e-03d  [operations_research::sat::CpModelPresolver::FindBigAtMostOneAndLinearOverlap] \n",
      "  1.52e-03s  1.24e-03d  [operations_research::sat::CpModelPresolver::FindBigVerticalLinearOverlap] \n",
      "  6.23e-04s  6.15e-04d  [operations_research::sat::CpModelPresolver::FindBigHorizontalLinearOverlap] #linears=200 \n",
      "  6.65e-05s  0.00e+00d  [operations_research::sat::CpModelPresolver::MergeClauses] \n",
      "  9.19e-04s  0.00e+00d  [DetectDominanceRelations] \n",
      "  9.19e-03s  0.00e+00d  [operations_research::sat::CpModelPresolver::PresolveToFixPoint] #num_loops=1 #num_dual_strengthening=1 \n",
      "  1.92e-03s  0.00e+00d  [operations_research::sat::CpModelPresolver::ExpandObjective] #entries=13'930 #tight_variables=1'214 #tight_constraints=100 \n",
      "\n",
      "Presolve summary:\n",
      "  - 0 affine relations were detected.\n",
      "  - rule 'TODO linear inclusion: superset is equality' was applied 201 times.\n",
      "  - rule 'at_most_one: transformed into max clique.' was applied 1 time.\n",
      "  - rule 'deductions: 2428 stored' was applied 1 time.\n",
      "  - rule 'exactly_one: simplified objective' was applied 100 times.\n",
      "  - rule 'linear: positive equal one' was applied 100 times.\n",
      "  - rule 'objective: shifted cost with exactly ones' was applied 100 times.\n",
      "  - rule 'presolve: 0 unused variables removed.' was applied 1 time.\n",
      "  - rule 'presolve: iteration' was applied 2 times.\n",
      "  - rule 'setppc: exactly_one included in linear' was applied 100 times.\n",
      "  - rule 'setppc: reduced linear coefficients' was applied 99 times.\n",
      "  - rule 'setppc: removed trivial linear constraint' was applied 1 time.\n",
      "  - rule 'variables: detect fully reified value encoding' was applied 1'214 times.\n",
      "  - rule 'variables: detect half reified value encoding' was applied 2'428 times.\n",
      "\n",
      "Presolved optimization model 'Moray East': (model_fingerprint: 0xa83484c60c2d75f3)\n",
      "#Variables: 2'428 (#bools: 1'114 in objective)\n",
      "  - 1'214 Booleans in [0,1]\n",
      "  - 914 in [0,6]\n",
      "  - 300 in [0,7]\n",
      "#kAtMostOne: 323 (#literals: 1'416)\n",
      "#kBoolAnd: 92 (#enforced: 92) (#literals: 184)\n",
      "#kExactlyOne: 100 (#literals: 1'214)\n",
      "#kLinear1: 2'428 (#enforced: 2'428)\n",
      "#kLinearN: 202 (#terms: 3'642)\n",
      "[Symmetry] Graph for symmetry has 7'780 nodes and 13'611 arcs.\n",
      "[Symmetry] Symmetry computation done. time: 0.0008012 dtime: 0.00139993\n",
      "\n",
      "Preloading model.\n",
      "#Bound   0.17s best:inf   next:[115871.04,3269969.96] initial_domain\n",
      "#1       0.17s best:150853.103 next:[115871.04,150853.103] complete_hint\n",
      "#Model   0.18s var:2428/2428 constraints:3145/3145\n",
      "\n",
      "Starting search at 0.19s with 16 workers.\n",
      "11 full problem subsolvers: [core, default_lp, lb_tree_search, max_lp, no_lp, objective_lb_search, probing, pseudo_costs, quick_restart, quick_restart_no_lp, reduced_costs]\n",
      "5 first solution subsolvers: [fj(2), fs_random, fs_random_no_lp, fs_random_quick_restart_no_lp]\n",
      "11 interleaved subsolvers: [feasibility_pump, graph_arc_lns, graph_cst_lns, graph_dec_lns, graph_var_lns, lb_relax_lns, ls, ls_lin, rins/rens, rnd_cst_lns, rnd_var_lns]\n",
      "3 helper subsolvers: [neighborhood_helper, synchronization_agent, update_gap_integral]\n",
      "\n",
      "#Bound   0.24s best:150853.103 next:[119116.745,150853.103] am1_presolve (num_literals=1114 num_am1=33 increase=6806735150 work_done=3867)\n",
      "#Bound   0.26s best:150853.103 next:[124581.312,150853.103] objective_lb_search\n",
      "#Bound   0.26s best:150853.103 next:[126580.195,150853.103] pseudo_costs\n",
      "#2       0.31s best:150852.588 next:[126580.195,150852.588] rnd_var_lns (d=7.07e-01 s=21 t=0.10 p=1.00 stall=1 h=base)\n",
      "#Bound   0.32s best:150852.588 next:[139019.159,150852.588] max_lp\n",
      "#3       0.32s best:150850.17 next:[139019.159,150850.17] quick_restart_no_lp (fixed_bools=0/1238)\n",
      "#4       0.34s best:150848.307 next:[139019.159,150848.307] quick_restart_no_lp (fixed_bools=0/1253)\n",
      "#Bound   0.44s best:150848.307 next:[139554.89,150848.307] max_lp\n",
      "#Bound   0.45s best:150848.307 next:[139649.74,150848.307] lb_tree_search\n",
      "#5       0.46s best:150492.996 next:[139649.74,150492.996] graph_arc_lns (d=5.00e-01 s=14 t=0.10 p=0.00 stall=0 h=base)\n",
      "#6       0.57s best:150451.575 next:[139649.74,150451.575] graph_cst_lns (d=7.07e-01 s=24 t=0.10 p=1.00 stall=1 h=base)\n",
      "#7       0.59s best:150094.401 next:[139649.74,150094.401] graph_cst_lns (d=7.07e-01 s=24 t=0.10 p=1.00 stall=1 h=base) [combined with: graph_arc_lns (d=5.0...]\n",
      "#8       0.60s best:149735.744 next:[139649.74,149735.744] ls_restart_compound(batch:1 lin{mvs:0 evals:56'482} gen{mvs:1'618 evals:0} comp{mvs:68 btracks:775} #w_updates:23 #perturb:0)\n",
      "#Bound   0.61s best:149735.744 next:[139987.637,149735.744] max_lp\n",
      "#9       0.65s best:149733.881 next:[139987.637,149733.881] quick_restart_no_lp (fixed_bools=0/1288)\n",
      "#Bound   0.66s best:149733.881 next:[140042.367,149733.881] lb_tree_search\n",
      "#Bound   0.79s best:149733.881 next:[140235.818,149733.881] max_lp\n",
      "#Bound   0.89s best:149733.881 next:[140399.161,149733.881] lb_tree_search\n",
      "#10      0.97s best:149733.467 next:[140399.161,149733.467] quick_restart_no_lp (fixed_bools=0/1294)\n",
      "#Bound   1.05s best:149733.467 next:[140527.73,149733.467] max_lp\n",
      "#Bound   1.19s best:149733.467 next:[140604.599,149733.467] lb_tree_search\n",
      "#11      1.45s best:149733.027 next:[140604.599,149733.027] quick_restart_no_lp (fixed_bools=0/1295)\n",
      "#Bound   1.52s best:149733.027 next:[140622.188,149733.027] max_lp\n",
      "#Model   1.90s var:2400/2428 constraints:3117/3145\n",
      "#12      1.90s best:149422.429 next:[140622.188,149422.429] reduced_costs (fixed_bools=0/1216)\n",
      "#Bound   1.92s best:149422.429 next:[140794.051,149422.429] max_lp\n",
      "#13      1.95s best:148646.28 next:[140794.051,148646.28] quick_restart_no_lp (fixed_bools=14/1324)\n",
      "#14      2.04s best:148287.823 next:[140794.051,148287.823] graph_arc_lns (d=3.08e-01 s=56 t=0.10 p=0.33 stall=2 h=base)\n",
      "#15      2.17s best:147868.935 next:[140794.051,147868.935] graph_dec_lns (d=8.21e-01 s=57 t=0.10 p=0.75 stall=4 h=base)\n",
      "#16      2.19s best:147848.196 next:[140794.051,147848.196] graph_arc_lns (d=4.46e-01 s=58 t=0.10 p=0.50 stall=0 h=base) [combined with: graph_dec_lns (d=8.2...]\n",
      "#17      2.22s best:147788.592 next:[140794.051,147788.592] ls_lin_restart_decay_compound_perturb(batch:1 lin{mvs:0 evals:14'261} gen{mvs:661 evals:0} comp{mvs:27 btracks:317} #w_updates:6 #perturb:0)\n",
      "#Model   2.32s var:2388/2428 constraints:3104/3145\n",
      "#18      2.35s best:147431.162 next:[140794.051,147431.162] quick_restart_no_lp (fixed_bools=20/1341)\n",
      "#Bound   2.57s best:147431.162 next:[140980.271,147431.162] max_lp\n",
      "#19      2.70s best:147430.721 next:[140980.271,147430.721] graph_var_lns (d=7.83e-01 s=65 t=0.10 p=0.67 stall=6 h=base)\n",
      "#20      2.97s best:147428.589 next:[140980.271,147428.589] graph_dec_lns (d=8.73e-01 s=68 t=0.10 p=0.80 stall=0 h=base)\n",
      "#21      2.98s best:147428.149 next:[140980.271,147428.149] graph_dec_lns (d=8.73e-01 s=68 t=0.10 p=0.80 stall=0 h=base) [combined with: graph_var_lns (d=7.8...]\n",
      "#22      3.01s best:147428.142 next:[140980.271,147428.142] quick_restart_no_lp (fixed_bools=20/1343)\n",
      "#23      3.11s best:146653.844 next:[140980.271,146653.844] ls_restart_decay_compound(batch:1 lin{mvs:0 evals:116'424} gen{mvs:5'089 evals:0} comp{mvs:341 btracks:2'374} #w_updates:53 #perturb:0)\n",
      "#Model   3.13s var:2378/2428 constraints:3094/3145\n",
      "#24      3.23s best:146652.32 next:[140980.271,146652.32] quick_restart_no_lp (fixed_bools=25/1347)\n",
      "#25      3.26s best:146292.273 next:[140980.271,146292.273] graph_cst_lns (d=8.08e-01 s=74 t=0.10 p=0.75 stall=2 h=base) [combined with: quick_restart_no_lp...]\n",
      "#26      3.31s best:145884.971 next:[140980.271,145884.971] graph_arc_lns (d=4.58e-01 s=85 t=0.10 p=0.50 stall=1 h=base)\n",
      "#27      3.37s best:145527.644 next:[140980.271,145527.644] quick_restart_no_lp (fixed_bools=25/1350)\n",
      "#Bound   3.49s best:145527.644 next:[141109.481,145527.644] max_lp\n",
      "#Model   3.53s var:2324/2428 constraints:3040/3145\n",
      "#28      3.53s best:145509.437 next:[141109.481,145509.437] quick_restart_no_lp (fixed_bools=52/1352)\n",
      "#29      3.88s best:145110.583 next:[141109.481,145110.583] graph_var_lns (d=8.32e-01 s=92 t=0.10 p=0.67 stall=2 h=base)\n",
      "#30      3.90s best:145092.376 next:[141109.481,145092.376] graph_var_lns (d=8.32e-01 s=92 t=0.10 p=0.67 stall=2 h=base) [combined with: quick_restart_no_lp...]\n",
      "#31      4.30s best:144634.78 next:[141109.481,144634.78] graph_dec_lns (d=7.63e-01 s=102 t=0.10 p=0.57 stall=0 h=base)\n",
      "#Bound   4.76s best:144634.78 next:[141202.835,144634.78] lb_tree_search\n",
      "#32      4.84s best:144615.383 next:[141202.835,144615.383] rins_lp_lns (d=6.11e-01 s=114 t=0.10 p=0.50 stall=0 h=base)\n",
      "#Bound   5.03s best:144615.383 next:[141216.081,144615.383] max_lp\n",
      "#33      5.04s best:144284.499 next:[141216.081,144284.499] rnd_cst_lns (d=7.91e-01 s=121 t=0.10 p=0.60 stall=3 h=base)\n",
      "#34      5.58s best:143300.106 next:[141216.081,143300.106] graph_var_lns (d=7.19e-01 s=130 t=0.10 p=0.55 stall=1 h=base)\n",
      "#Bound   5.94s best:143300.106 next:[141329.472,143300.106] lb_tree_search\n",
      "#Model   6.12s var:2114/2428 constraints:2829/3145\n",
      "#Bound   7.26s best:143300.106 next:[141367.788,143300.106] lb_tree_search\n",
      "#Bound   8.76s best:143300.106 next:[141424.466,143300.106] lb_tree_search\n",
      "#Bound  10.42s best:143300.106 next:[141474.318,143300.106] lb_tree_search\n",
      "#Bound  11.94s best:143300.106 next:[141503.385,143300.106] lb_tree_search\n",
      "#Model  12.41s var:1686/2428 constraints:2365/3145\n",
      "#Bound  13.57s best:143300.106 next:[141584.829,143300.106] lb_tree_search\n",
      "#Bound  15.21s best:143300.106 next:[141634.351,143300.106] lb_tree_search\n",
      "#Bound  15.24s best:143300.106 next:[141635.023,143300.106] lb_tree_search\n",
      "#Bound  16.70s best:143300.106 next:[141674.073,143300.106] lb_tree_search\n",
      "#Bound  17.71s best:143300.106 next:[141701.079,143300.106] lb_tree_search\n",
      "#Model  17.72s var:1592/2428 constraints:2263/3145\n",
      "#Bound  18.91s best:143300.106 next:[141734.386,143300.106] lb_tree_search\n",
      "#Model  18.95s var:1576/2428 constraints:2245/3145\n",
      "#Bound  20.09s best:143300.106 next:[141768.528,143300.106] lb_tree_search\n",
      "#Model  20.16s var:1550/2428 constraints:2213/3145\n",
      "#Model  20.86s var:1548/2428 constraints:2211/3145\n",
      "#Bound  21.12s best:143300.106 next:[141775.75,143300.106] lb_tree_search\n",
      "#Bound  22.36s best:143300.106 next:[141781.23,143300.106] lb_tree_search\n",
      "#Model  22.40s var:1546/2428 constraints:2209/3145\n",
      "#Bound  23.57s best:143300.106 next:[141787.032,143300.106] lb_tree_search\n",
      "#Bound  24.68s best:143300.106 next:[141794.249,143300.106] lb_tree_search\n",
      "#Model  24.78s var:1544/2428 constraints:2207/3145\n",
      "#Bound  25.76s best:143300.106 next:[141795.04,143300.106] lb_tree_search\n",
      "#Bound  26.91s best:143300.106 next:[141801.422,143300.106] lb_tree_search\n",
      "#Bound  28.27s best:143300.106 next:[141809.775,143300.106] lb_tree_search\n",
      "#Model  28.30s var:1542/2428 constraints:2205/3145\n",
      "#Bound  29.61s best:143300.106 next:[141824.899,143300.106] lb_tree_search\n",
      "#Model  29.70s var:1540/2428 constraints:2202/3145\n",
      "#Bound  30.84s best:143300.106 next:[141827.273,143300.106] lb_tree_search\n",
      "#Bound  32.32s best:143300.106 next:[141829.832,143300.106] lb_tree_search\n",
      "#Bound  33.70s best:143300.106 next:[141834.061,143300.106] lb_tree_search\n",
      "#Model  33.73s var:1538/2428 constraints:2200/3145\n",
      "#Bound  34.85s best:143300.106 next:[141865.221,143300.106] max_lp\n",
      "#Model  35.25s var:1536/2428 constraints:2198/3145\n",
      "#Bound  36.52s best:143300.106 next:[141885.276,143300.106] max_lp\n",
      "Relative gap limit of 0.01 reached.\n",
      "#Model  36.57s var:1512/2428 constraints:2172/3145\n",
      "\n",
      "Task timing                                n [     min,      max]      avg      dev     time         n [     min,      max]      avg      dev    dtime\n",
      "                           'core':         1 [  36.37s,   36.37s]   36.37s   0.00ns   36.37s         1 [  48.65s,   48.65s]   48.65s   0.00ns   48.65s\n",
      "                     'default_lp':         1 [  36.37s,   36.37s]   36.37s   0.00ns   36.37s         1 [  11.20s,   11.20s]   11.20s   0.00ns   11.20s\n",
      "               'feasibility_pump':        25 [ 16.14ms,    1.23s] 636.96ms 269.53ms   15.92s        24 [144.59ms, 779.16ms] 382.65ms 154.17ms    9.18s\n",
      "                             'fj':         0 [  0.00ns,   0.00ns]   0.00ns   0.00ns   0.00ns         0 [  0.00ns,   0.00ns]   0.00ns   0.00ns   0.00ns\n",
      "                             'fj':         0 [  0.00ns,   0.00ns]   0.00ns   0.00ns   0.00ns         0 [  0.00ns,   0.00ns]   0.00ns   0.00ns   0.00ns\n",
      "                      'fs_random':         0 [  0.00ns,   0.00ns]   0.00ns   0.00ns   0.00ns         0 [  0.00ns,   0.00ns]   0.00ns   0.00ns   0.00ns\n",
      "                'fs_random_no_lp':         0 [  0.00ns,   0.00ns]   0.00ns   0.00ns   0.00ns         0 [  0.00ns,   0.00ns]   0.00ns   0.00ns   0.00ns\n",
      "  'fs_random_quick_restart_no_lp':         0 [  0.00ns,   0.00ns]   0.00ns   0.00ns   0.00ns         0 [  0.00ns,   0.00ns]   0.00ns   0.00ns   0.00ns\n",
      "                  'graph_arc_lns':        68 [ 19.76ms,    1.05s] 239.72ms 175.61ms   16.30s        68 [145.95us, 101.12ms]  64.02ms  42.86ms    4.35s\n",
      "                  'graph_cst_lns':        77 [ 13.79ms, 763.93ms] 219.85ms 164.39ms   16.93s        77 [ 10.00ns, 100.32ms]  57.73ms  46.95ms    4.45s\n",
      "                  'graph_dec_lns':        63 [ 13.10ms, 756.99ms] 264.36ms 182.09ms   16.65s        63 [ 10.00ns, 100.45ms]  61.23ms  45.01ms    3.86s\n",
      "                  'graph_var_lns':        72 [ 16.72ms, 625.09ms] 225.41ms 163.43ms   16.23s        72 [833.00ns, 100.26ms]  59.45ms  46.11ms    4.28s\n",
      "                   'lb_relax_lns':        19 [247.02ms,    2.04s]    1.02s 628.74ms   19.44s        19 [ 58.42ms, 618.45ms] 365.74ms 233.69ms    6.95s\n",
      "                 'lb_tree_search':         1 [  36.37s,   36.37s]   36.37s   0.00ns   36.37s         1 [   2.50s,    2.50s]    2.50s   0.00ns    2.50s\n",
      "                             'ls':       114 [ 50.43ms, 180.52ms] 138.93ms  16.94ms   15.84s       114 [ 34.65ms, 100.05ms]  99.29ms   6.31ms   11.32s\n",
      "                         'ls_lin':       112 [ 24.24ms, 192.90ms] 141.17ms  23.92ms   15.81s       112 [ 14.02ms, 100.06ms]  98.62ms  10.46ms   11.05s\n",
      "                         'max_lp':         1 [  36.37s,   36.37s]   36.37s   0.00ns   36.37s         1 [   2.42s,    2.42s]    2.42s   0.00ns    2.42s\n",
      "                          'no_lp':         1 [  36.36s,   36.36s]   36.36s   0.00ns   36.36s         1 [  18.19s,   18.19s]   18.19s   0.00ns   18.19s\n",
      "            'objective_lb_search':         1 [  36.37s,   36.37s]   36.37s   0.00ns   36.37s         1 [  14.82s,   14.82s]   14.82s   0.00ns   14.82s\n",
      "                        'probing':         1 [  36.37s,   36.37s]   36.37s   0.00ns   36.37s         1 [   4.01s,    4.01s]    4.01s   0.00ns    4.01s\n",
      "                   'pseudo_costs':         1 [  36.37s,   36.37s]   36.37s   0.00ns   36.37s         1 [   6.84s,    6.84s]    6.84s   0.00ns    6.84s\n",
      "                  'quick_restart':         1 [  36.37s,   36.37s]   36.37s   0.00ns   36.37s         1 [  10.02s,   10.02s]   10.02s   0.00ns   10.02s\n",
      "            'quick_restart_no_lp':         1 [  36.36s,   36.36s]   36.36s   0.00ns   36.36s         1 [  20.57s,   20.57s]   20.57s   0.00ns   20.57s\n",
      "                  'reduced_costs':         1 [  36.37s,   36.37s]   36.37s   0.00ns   36.37s         1 [  17.48s,   17.48s]   17.48s   0.00ns   17.48s\n",
      "                      'rins/rens':        80 [  1.45ms, 445.38ms] 200.77ms 166.38ms   16.06s        63 [ 84.59us, 100.17ms]  66.15ms  44.39ms    4.17s\n",
      "                    'rnd_cst_lns':        67 [ 18.06ms, 763.82ms] 236.13ms 168.53ms   15.82s        67 [192.00ns, 100.41ms]  55.53ms  45.09ms    3.72s\n",
      "                    'rnd_var_lns':        60 [ 17.13ms, 802.51ms] 276.50ms 198.88ms   16.59s        60 [142.00ns, 100.43ms]  61.20ms  43.84ms    3.67s\n",
      "\n",
      "Search stats                        Bools  Conflicts   Branches  Restarts  BoolPropag  IntegerPropag\n",
      "                           'core':  1'247    242'137    509'015    11'715   8'139'809     12'715'653\n",
      "                     'default_lp':  1'279        510     14'980     7'423      75'363        507'828\n",
      "                      'fs_random':      0          0          0         0           0              0\n",
      "                'fs_random_no_lp':      0          0          0         0           0              0\n",
      "  'fs_random_quick_restart_no_lp':      0          0          0         0           0              0\n",
      "                 'lb_tree_search':  1'214          0     49'604    22'907     149'952        422'265\n",
      "                         'max_lp':  1'214         15      2'522     2'429      19'630         68'865\n",
      "                          'no_lp':  1'214    245'947    375'592    14'029  24'740'437     77'947'102\n",
      "            'objective_lb_search':  1'257        338     16'152     8'030      67'755        510'382\n",
      "                        'probing':  1'235         14      3'026     2'513      20'661         75'630\n",
      "                   'pseudo_costs':  1'214      4'746     27'663    10'218     525'753      2'772'867\n",
      "                  'quick_restart':  1'227         64     19'095     9'024      66'599        537'650\n",
      "            'quick_restart_no_lp':  1'541     77'033  2'034'213    49'816   9'648'958     45'133'054\n",
      "                  'reduced_costs':  1'217      1'440     33'414    12'981     147'667      1'104'917\n",
      "\n",
      "SAT stats                           ClassicMinim  LitRemoved  LitLearned  LitForgotten  Subsumed  MClauses  MDecisions  MLitTrue  MSubsumed  MLitRemoved  MReused\n",
      "                           'core':       227'022   6'202'545  56'114'592    49'441'703     1'746     1'339       9'062         0          0            1        0\n",
      "                     'default_lp':           499      48'454      73'398             0         1       632       4'944         0          1            4        0\n",
      "                      'fs_random':             0           0           0             0         0         0           0         0          0            0        0\n",
      "                'fs_random_no_lp':             0           0           0             0         0         0           0         0          0            0        0\n",
      "  'fs_random_quick_restart_no_lp':             0           0           0             0         0         0           0         0          0            0        0\n",
      "                 'lb_tree_search':             0           0           0             0         0     3'200      21'712         0          0            0        0\n",
      "                         'max_lp':            15         550       1'904             0         0         0           0         0          0            0        0\n",
      "                          'no_lp':       240'873   4'766'049  25'964'894    22'689'966     2'598     1'274      11'166         0         23          134      153\n",
      "            'objective_lb_search':           330      44'207      22'091             0         1       800       5'716         0          0            0        0\n",
      "                        'probing':            14         639       7'279             0         0         0           0         0          0            0        0\n",
      "                   'pseudo_costs':         4'588     210'333     586'599             0        13       800       7'378         0          0            0        0\n",
      "                  'quick_restart':            62       2'700      14'339             0         0     1'008       6'927         0          1            4        8\n",
      "            'quick_restart_no_lp':        72'428   1'968'053   9'367'409     6'436'439       446    21'107     130'673         0      2'284       20'026    1'330\n",
      "                  'reduced_costs':         1'390      81'536     346'832             0         0     1'000       9'702         0          0            0        0\n",
      "\n",
      "Lp stats                  Component  Iterations  AddedCuts  OPTIMAL  DUAL_F.  DUAL_U.\n",
      "           'default_lp':          1      81'093      7'798    1'659        1        7\n",
      "       'lb_tree_search':          1      10'720      3'451      175        1        0\n",
      "               'max_lp':          1      12'425      3'846      132        3        0\n",
      "  'objective_lb_search':          1      79'561      6'634      988        1        8\n",
      "              'probing':          1      16'321      6'429      246        0        0\n",
      "         'pseudo_costs':          1     166'219      2'499    9'572      214      307\n",
      "        'quick_restart':          1      41'782      7'271      586        2        3\n",
      "        'reduced_costs':          1     190'933      4'161    3'143      656      102\n",
      "\n",
      "Lp dimension                  Final dimension of first component\n",
      "           'default_lp':  1812 rows, 2331 columns, 21948 entries\n",
      "       'lb_tree_search':  2587 rows, 2428 columns, 55431 entries\n",
      "               'max_lp':  4598 rows, 2428 columns, 73180 entries\n",
      "  'objective_lb_search':  1335 rows, 2331 columns, 18157 entries\n",
      "              'probing':  2778 rows, 2331 columns, 58788 entries\n",
      "         'pseudo_costs':    909 rows, 2428 columns, 4747 entries\n",
      "        'quick_restart':  2193 rows, 2331 columns, 40163 entries\n",
      "        'reduced_costs':  1122 rows, 2428 columns, 14196 entries\n",
      "\n",
      "Lp debug                  CutPropag  CutEqPropag  Adjust  Overflow      Bad  BadScaling\n",
      "           'default_lp':          0            0   1'645         0   76'095           0\n",
      "       'lb_tree_search':          0           17     176         0  133'300           0\n",
      "               'max_lp':          0           28     135         0  126'493           0\n",
      "  'objective_lb_search':          0           43     974         0   66'292           0\n",
      "              'probing':          0            3     224         0  124'456           0\n",
      "         'pseudo_costs':          0            0   9'999         0    1'338           0\n",
      "        'quick_restart':          0            6     568         0   88'253           0\n",
      "        'reduced_costs':          0           11   3'821         0   18'295           0\n",
      "\n",
      "Lp pool                   Constraints  Updates  Simplif  Merged  Shortened  Split  Strenghtened     Cuts/Call\n",
      "           'default_lp':       11'773    1'030   44'349       1     27'558    229           653  7'798/16'406\n",
      "       'lb_tree_search':        7'809    2'166   37'915       1     12'969  1'064           411   3'451/5'805\n",
      "               'max_lp':        8'205    2'042   33'425       0     13'467    924           190   3'846/6'382\n",
      "  'objective_lb_search':       10'610    1'499   35'270       0     21'799    262           452  6'634/13'528\n",
      "              'probing':       10'405    1'571   13'868       0     10'250    684           526  6'429/12'645\n",
      "         'pseudo_costs':        6'858        3    2'434       0      2'303      0            69   2'499/9'113\n",
      "        'quick_restart':       11'247    1'625   36'871       0     22'410    298           784  7'271/14'447\n",
      "        'reduced_costs':        8'520      432   10'624       0      6'122     53           299   4'161/9'932\n",
      "\n",
      "Lp Cut            default_lp  max_lp  quick_restart  reduced_costs  pseudo_costs  lb_tree_search  probing  objective_lb_search\n",
      "          CG_FF:          81      14             51             38            27               8       44                   61\n",
      "           CG_K:          58       5             34             21            13               4       38                   39\n",
      "          CG_KL:          13       -             10              7             5               1       12                    9\n",
      "           CG_R:         146      28             80             72            41              22      109                  102\n",
      "          CG_RB:         247      73            158            107            32              77      159                  181\n",
      "         CG_RBP:         118      24             76             43            23              18       78                   71\n",
      "             IB:       1'469       -          1'207          1'750         2'124              28    1'082                1'225\n",
      "       MIR_1_FF:         406     316            489            112             8             447      436                  423\n",
      "        MIR_1_K:         118      13            166             18             5              16      115                  144\n",
      "       MIR_1_KL:          66       8             63              8             1              13       64                   54\n",
      "        MIR_1_R:          10      11             31              2             -              20        4                   28\n",
      "       MIR_1_RB:         143      52            131             43             8              58       91                  120\n",
      "      MIR_1_RBP:         144     177            270             22             5             128      126                  165\n",
      "       MIR_2_FF:         399     289            410            138            13             262      411                  378\n",
      "        MIR_2_K:         175      33            147             28             2              26      144                  149\n",
      "       MIR_2_KL:          68      20             59             11             1              20       52                   41\n",
      "        MIR_2_R:          27      34             52             22             -              27       16                   20\n",
      "       MIR_2_RB:         286     210            264            138            16             166      217                  250\n",
      "      MIR_2_RBP:         174     127            198             45             3              84      158                  169\n",
      "       MIR_3_FF:         311     269            283            144            16             240      291                  267\n",
      "        MIR_3_K:         168      46            151             28             4              38      120                  142\n",
      "       MIR_3_KL:          42       7             40              9             2              14       37                   35\n",
      "        MIR_3_R:          19      23             29             29             2              26       20                   22\n",
      "       MIR_3_RB:         240     154            196            128            26             146      165                  196\n",
      "      MIR_3_RBP:         155      71            136             43            14              49      114                  121\n",
      "       MIR_4_FF:         229     237            219            102             6             170      198                  218\n",
      "        MIR_4_K:         118      73            128             26             1              34      114                  112\n",
      "       MIR_4_KL:          24      21             25             12             2              10       27                   17\n",
      "        MIR_4_R:          17      24             22             17             3              24       17                   26\n",
      "       MIR_4_RB:         160     129            124             96            15             112      138                  122\n",
      "      MIR_4_RBP:         101      70            103             28             4              56       90                   93\n",
      "       MIR_5_FF:         167     152            171             73             1             115      140                  149\n",
      "        MIR_5_K:         104      52            101             33             3              31       99                   86\n",
      "       MIR_5_KL:          45      21             26             30             1              20       34                   25\n",
      "        MIR_5_R:           8      18             16             11             1              20       12                   19\n",
      "       MIR_5_RB:         103      82            101             67             9              70       86                   83\n",
      "      MIR_5_RBP:         115      85             91             48             2              63       86                   83\n",
      "       MIR_6_FF:         106      79            106             43             -              79       84                   84\n",
      "        MIR_6_K:          88      52             96             55             1              50       75                  117\n",
      "       MIR_6_KL:          57      54             43             38             1              62       50                   43\n",
      "        MIR_6_R:          11      14             20              7             -              13       11                   15\n",
      "       MIR_6_RB:          70      64             62             50             6              46       51                   63\n",
      "      MIR_6_RBP:         142     125            111             54             2             133      106                  101\n",
      "   ZERO_HALF_FF:          49       6             37             33             7               8       52                   46\n",
      "    ZERO_HALF_K:          23       1             16              5             2               1       28                   20\n",
      "   ZERO_HALF_KL:          12       5              9              8             -               3        9                   10\n",
      "    ZERO_HALF_R:         780     392            724            266            32             312      693                  559\n",
      "   ZERO_HALF_RB:         129      59            124             41             7              50       82                   68\n",
      "  ZERO_HALF_RBP:          57      27             65             12             2              31       44                   63\n",
      "\n",
      "LNS stats           Improv/Calls  Closed  Difficulty  TimeLimit\n",
      "  'graph_arc_lns':         10/68     47%    2.79e-01       0.10\n",
      "  'graph_cst_lns':         13/77     48%    4.72e-01       0.10\n",
      "  'graph_dec_lns':          6/63     49%    7.37e-01       0.10\n",
      "  'graph_var_lns':         11/72     47%    4.59e-01       0.10\n",
      "   'lb_relax_lns':          5/19     42%    2.10e-01       0.50\n",
      "      'rins/rens':         62/78     49%    4.71e-01       0.10\n",
      "    'rnd_cst_lns':          8/67     52%    7.98e-01       0.10\n",
      "    'rnd_var_lns':         10/60     53%    8.34e-01       0.10\n",
      "\n",
      "LS stats                                    Batches  Restarts/Perturbs  LinMoves  GenMoves  CompoundMoves  Bactracks  WeightUpdates  ScoreComputed\n",
      "                         'ls_lin_restart':       11                  9   114'675         0              0          0         17'505      4'259'667\n",
      "                'ls_lin_restart_compound':        9                  8         0    97'420          9'733     43'836            531      3'096'757\n",
      "        'ls_lin_restart_compound_perturb':       11                 10         0   126'620         11'679     57'458            878      3'885'197\n",
      "                   'ls_lin_restart_decay':       19                 12   234'547         0              0          0          3'909      5'405'207\n",
      "          'ls_lin_restart_decay_compound':        8                  7         0    88'334         15'269     36'516            211      2'587'651\n",
      "  'ls_lin_restart_decay_compound_perturb':       27                  9         0   275'483         48'303    113'503            295      7'949'716\n",
      "           'ls_lin_restart_decay_perturb':       10                  7   118'890         0              0          0          1'962      2'859'990\n",
      "                 'ls_lin_restart_perturb':       17                  9   188'234         0              0          0         37'189      6'891'479\n",
      "                             'ls_restart':       11                  6   122'557         0              0          0         19'372      4'503'769\n",
      "                    'ls_restart_compound':       12                  7         0   135'886         11'837     62'011            584      3'730'782\n",
      "            'ls_restart_compound_perturb':        7                  7         0    75'660          7'096     34'274            529      2'280'234\n",
      "                       'ls_restart_decay':       11                  9   131'268         0              0          0          2'204      3'197'707\n",
      "              'ls_restart_decay_compound':        9                  7         0    88'089         16'036     36'014            267      2'708'326\n",
      "      'ls_restart_decay_compound_perturb':       19                 13         0   198'968         37'009     80'939            441      6'125'975\n",
      "               'ls_restart_decay_perturb':        9                  7   108'766         0              0          0          1'825      2'592'966\n",
      "                     'ls_restart_perturb':       36                 16   408'461         0              0          0         66'977     15'115'745\n",
      "\n",
      "Solutions (34)                              Num     Rank\n",
      "                          'complete_hint':    1    [1,1]\n",
      "                          'graph_arc_lns':    4   [5,26]\n",
      "                          'graph_cst_lns':    3   [6,25]\n",
      "                          'graph_dec_lns':    4  [15,31]\n",
      "                          'graph_var_lns':    4  [19,34]\n",
      "  'ls_lin_restart_decay_compound_perturb':    1  [17,17]\n",
      "                    'ls_restart_compound':    1    [8,8]\n",
      "              'ls_restart_decay_compound':    1  [23,23]\n",
      "                    'quick_restart_no_lp':   11   [3,28]\n",
      "                          'reduced_costs':    1  [12,12]\n",
      "                            'rins_lp_lns':    1  [32,32]\n",
      "                            'rnd_cst_lns':    1  [33,33]\n",
      "                            'rnd_var_lns':    1    [2,2]\n",
      "\n",
      "Objective bounds          Num\n",
      "         'am1_presolve':    1\n",
      "       'initial_domain':    1\n",
      "       'lb_tree_search':   28\n",
      "               'max_lp':   12\n",
      "  'objective_lb_search':    1\n",
      "         'pseudo_costs':    1\n",
      "\n",
      "Solution repositories    Added  Queried  Synchro\n",
      "  'feasible solutions':    181    1'215      118\n",
      "   'fj solution hints':      0        0        0\n",
      "        'lp solutions':    206       48      158\n",
      "                'pump':    350       32\n",
      "\n",
      "Improving bounds shared    Num  Sym\n",
      "            'default_lp':   30    0\n",
      "        'lb_tree_search':  148    0\n",
      "                'max_lp':  507    0\n",
      "               'probing':   10    0\n",
      "         'quick_restart':   13    0\n",
      "   'quick_restart_no_lp':   30    0\n",
      "         'reduced_costs':  210    0\n",
      "\n",
      "Clauses shared            Num\n",
      "              'probing':   25\n",
      "  'quick_restart_no_lp':   12\n",
      "\n",
      "[Scaling] scaled_objective_bound: 141885 corrected_bound: 141885 delta: 1.6538e-06\n",
      "[Scaling] Warning: OPTIMAL was reported, yet the objective gap (1414.83) is greater than requested absolute limit (0.0001).\n",
      "CpSolverResponse summary:\n",
      "status: OPTIMAL\n",
      "objective: 143300.1064689605\n",
      "best_bound: 141885.2759502085\n",
      "integers: 0\n",
      "booleans: 0\n",
      "conflicts: 0\n",
      "branches: 0\n",
      "propagations: 0\n",
      "integer_propagations: 0\n",
      "restarts: 0\n",
      "lp_iterations: 0\n",
      "walltime: 36.7515\n",
      "usertime: 36.7515\n",
      "deterministic_time: 223.719\n",
      "gap_integral: 1645.58\n",
      "solution_fingerprint: 0x97a8a214cd55dca\n",
      "\n"
     ]
    },
    {
     "data": {
      "text/plain": [
       "4"
      ]
     },
     "execution_count": 15,
     "metadata": {},
     "output_type": "execute_result"
    }
   ],
   "source": [
    "solver.solve(timelimit=60, mipgap=0.01, verbose=True)"
   ]
  },
  {
   "cell_type": "code",
   "execution_count": 16,
   "id": "aa7d2a12-e8bc-45cf-8ab4-e18b89025fc2",
   "metadata": {
    "editable": true,
    "execution": {
     "iopub.execute_input": "2025-04-11T11:20:38.826614Z",
     "iopub.status.busy": "2025-04-11T11:20:38.826614Z",
     "iopub.status.idle": "2025-04-11T11:20:38.842235Z",
     "shell.execute_reply": "2025-04-11T11:20:38.842235Z",
     "shell.execute_reply.started": "2025-04-11T11:20:38.826614Z"
    },
    "frozen": false
   },
   "outputs": [
    {
     "name": "stdout",
     "output_type": "stream",
     "text": [
      "Solution pool has 34 solutions.\n",
      "#0 -> incumbent (objective: 143300.106, length: 143300.106)\n",
      "#1 halted pool search: objective (144284.499) > incumbent's length\n"
     ]
    }
   ],
   "source": [
    "G = solver.get_solution()"
   ]
  },
  {
   "cell_type": "code",
   "execution_count": 18,
   "id": "356bdc53-ef00-4cc7-8d6d-3e3d561e78ad",
   "metadata": {
    "editable": true,
    "execution": {
     "iopub.execute_input": "2025-04-11T11:20:45.262149Z",
     "iopub.status.busy": "2025-04-11T11:20:45.261160Z",
     "iopub.status.idle": "2025-04-11T11:20:45.272749Z",
     "shell.execute_reply": "2025-04-11T11:20:45.272648Z",
     "shell.execute_reply.started": "2025-04-11T11:20:45.262149Z"
    },
    "frozen": false
   },
   "outputs": [
    {
     "data": {
      "image/svg+xml": [
       "<svg xmlns=\"http://www.w3.org/2000/svg\" viewBox=\"0 0 1920 1080\"><defs><filter x=\"-5%\" y=\"-5%\" id=\"bg_textbox\" width=\"110%\" height=\"110%\"><feFlood flood-opacity=\"0.7\" flood-color=\"#111\" result=\"bg\"/><feMerge><feMergeNode in=\"bg\"/><feMergeNode in=\"SourceGraphic\"/></feMerge></filter><circle stroke=\"none\" stroke-width=\"2\" id=\"wtg\" r=\"12\"/><rect stroke=\"none\" stroke-width=\"2\" id=\"oss\" width=\"21\" height=\"21\" fill=\"lawngreen\"/></defs><g id=\"moray\"><path stroke=\"silver\" stroke-dasharray=\"15 7\" stroke-width=\"2\" id=\"border\" d=\"M1471 544 1103 863 895 1043 421 1050 30 30 79 90 117 127 165 165 217 198 277 226 325 243 400 260 441 266 498 267 559 263 645 245 690 229 738 208 789 180 838 145 895 205 1022 314 1149 406 1271 472 1347 505z\" fill-rule=\"evenodd\" fill=\"#111\"/><g stroke=\"crimson\" stroke-width=\"4\" id=\"edges_unspecified\"><line x1=\"142\" y1=\"317\" x2=\"256\" y2=\"317\"/><line x1=\"143\" y1=\"239\" x2=\"142\" y2=\"317\"/><line x1=\"256\" y1=\"317\" x2=\"255\" y2=\"395\"/><line x1=\"255\" y1=\"395\" x2=\"254\" y2=\"473\"/><line x1=\"1047\" y1=\"864\" x2=\"1103\" y2=\"863\"/><line x1=\"1105\" y1=\"786\" x2=\"1103\" y2=\"863\"/><line x1=\"765\" y1=\"630\" x2=\"764\" y2=\"708\"/><line x1=\"650\" y1=\"708\" x2=\"764\" y2=\"708\"/><line x1=\"764\" y1=\"708\" x2=\"821\" y2=\"708\"/><line x1=\"427\" y1=\"317\" x2=\"369\" y2=\"395\"/><line x1=\"427\" y1=\"317\" x2=\"484\" y2=\"317\"/><line x1=\"368\" y1=\"474\" x2=\"369\" y2=\"395\"/><line x1=\"309\" y1=\"630\" x2=\"309\" y2=\"708\"/><line x1=\"309\" y1=\"630\" x2=\"366\" y2=\"630\"/><line x1=\"309\" y1=\"708\" x2=\"365\" y2=\"708\"/><line x1=\"365\" y1=\"708\" x2=\"422\" y2=\"708\"/><line x1=\"939\" y1=\"317\" x2=\"938\" y2=\"395\"/><line x1=\"882\" y1=\"317\" x2=\"939\" y2=\"317\"/><line x1=\"881\" y1=\"396\" x2=\"938\" y2=\"395\"/><line x1=\"938\" y1=\"395\" x2=\"995\" y2=\"396\"/><line x1=\"422\" y1=\"708\" x2=\"479\" y2=\"708\"/><line x1=\"711\" y1=\"317\" x2=\"768\" y2=\"317\"/><line x1=\"768\" y1=\"317\" x2=\"825\" y2=\"317\"/><line x1=\"537\" y1=\"630\" x2=\"594\" y2=\"630\"/><line x1=\"480\" y1=\"630\" x2=\"537\" y2=\"630\"/><line x1=\"594\" y1=\"630\" x2=\"651\" y2=\"630\"/><line x1=\"594\" y1=\"630\" x2=\"593\" y2=\"708\"/><line x1=\"481\" y1=\"552\" x2=\"480\" y2=\"630\"/><line x1=\"423\" y1=\"630\" x2=\"480\" y2=\"630\"/><line x1=\"592\" y1=\"786\" x2=\"593\" y2=\"708\"/><line x1=\"421\" y1=\"864\" x2=\"478\" y2=\"864\"/><line x1=\"422\" y1=\"786\" x2=\"421\" y2=\"864\"/><line x1=\"478\" y1=\"864\" x2=\"535\" y2=\"864\"/><line x1=\"365\" y1=\"786\" x2=\"422\" y2=\"786\"/><line x1=\"592\" y1=\"786\" x2=\"535\" y2=\"864\"/><line x1=\"535\" y1=\"864\" x2=\"534\" y2=\"942\"/><line x1=\"313\" y1=\"317\" x2=\"312\" y2=\"395\"/><line x1=\"313\" y1=\"240\" x2=\"313\" y2=\"317\"/><line x1=\"368\" y1=\"474\" x2=\"312\" y2=\"395\"/><line x1=\"257\" y1=\"239\" x2=\"313\" y2=\"240\"/><line x1=\"254\" y1=\"473\" x2=\"311\" y2=\"474\"/><line x1=\"254\" y1=\"473\" x2=\"253\" y2=\"552\"/><line x1=\"368\" y1=\"474\" x2=\"311\" y2=\"474\"/><line x1=\"479\" y1=\"708\" x2=\"536\" y2=\"708\"/><line x1=\"592\" y1=\"786\" x2=\"536\" y2=\"708\"/><line x1=\"769\" y1=\"239\" x2=\"826\" y2=\"239\"/><line x1=\"826\" y1=\"239\" x2=\"825\" y2=\"317\"/><line x1=\"144\" y1=\"161\" x2=\"200\" y2=\"239\"/><line x1=\"200\" y1=\"239\" x2=\"257\" y2=\"239\"/><line x1=\"87\" y1=\"161\" x2=\"144\" y2=\"161\"/><line x1=\"1221\" y1=\"552\" x2=\"1220\" y2=\"630\"/><line x1=\"1163\" y1=\"630\" x2=\"1220\" y2=\"630\"/><line x1=\"1220\" y1=\"630\" x2=\"1277\" y2=\"630\"/><line x1=\"825\" y1=\"317\" x2=\"824\" y2=\"396\"/><line x1=\"824\" y1=\"396\" x2=\"823\" y2=\"474\"/><line x1=\"880\" y1=\"552\" x2=\"823\" y2=\"474\"/><line x1=\"935\" y1=\"708\" x2=\"1048\" y2=\"786\"/><line x1=\"879\" y1=\"630\" x2=\"935\" y2=\"708\"/><line x1=\"880\" y1=\"552\" x2=\"879\" y2=\"630\"/><line x1=\"1048\" y1=\"786\" x2=\"1105\" y2=\"786\"/><line x1=\"1105\" y1=\"786\" x2=\"1162\" y2=\"786\"/><line x1=\"654\" y1=\"395\" x2=\"710\" y2=\"395\"/><line x1=\"710\" y1=\"395\" x2=\"767\" y2=\"395\"/><line x1=\"597\" y1=\"395\" x2=\"654\" y2=\"395\"/><line x1=\"484\" y1=\"317\" x2=\"540\" y2=\"317\"/><line x1=\"591\" y1=\"864\" x2=\"591\" y2=\"942\"/><line x1=\"591\" y1=\"942\" x2=\"648\" y2=\"942\"/><line x1=\"592\" y1=\"786\" x2=\"591\" y2=\"864\"/><line x1=\"648\" y1=\"942\" x2=\"647\" y2=\"1020\"/><line x1=\"647\" y1=\"1020\" x2=\"704\" y2=\"1020\"/><line x1=\"704\" y1=\"1020\" x2=\"761\" y2=\"1020\"/><line x1=\"1219\" y1=\"708\" x2=\"1276\" y2=\"708\"/><line x1=\"1163\" y1=\"708\" x2=\"1219\" y2=\"708\"/><line x1=\"1106\" y1=\"708\" x2=\"1163\" y2=\"708\"/><line x1=\"880\" y1=\"552\" x2=\"881\" y2=\"396\"/><line x1=\"995\" y1=\"396\" x2=\"1051\" y2=\"474\"/><line x1=\"1051\" y1=\"474\" x2=\"1108\" y2=\"474\"/><line x1=\"597\" y1=\"317\" x2=\"654\" y2=\"318\"/><line x1=\"540\" y1=\"317\" x2=\"597\" y2=\"317\"/><line x1=\"933\" y1=\"864\" x2=\"990\" y2=\"864\"/><line x1=\"819\" y1=\"864\" x2=\"933\" y2=\"864\"/><line x1=\"933\" y1=\"864\" x2=\"932\" y2=\"942\"/><line x1=\"932\" y1=\"942\" x2=\"992\" y2=\"950\"/><line x1=\"992\" y1=\"708\" x2=\"1049\" y2=\"708\"/><line x1=\"1049\" y1=\"708\" x2=\"1106\" y2=\"708\"/><line x1=\"936\" y1=\"630\" x2=\"992\" y2=\"708\"/><line x1=\"534\" y1=\"942\" x2=\"533\" y2=\"1020\"/><line x1=\"705\" y1=\"864\" x2=\"762\" y2=\"864\"/><line x1=\"762\" y1=\"864\" x2=\"819\" y2=\"864\"/><line x1=\"592\" y1=\"786\" x2=\"705\" y2=\"864\"/><line x1=\"540\" y1=\"395\" x2=\"597\" y2=\"395\"/><line x1=\"592\" y1=\"786\" x2=\"650\" y2=\"708\"/><line x1=\"1106\" y1=\"630\" x2=\"1163\" y2=\"630\"/><line x1=\"1049\" y1=\"630\" x2=\"1106\" y2=\"630\"/><line x1=\"993\" y1=\"630\" x2=\"1049\" y2=\"630\"/><line x1=\"880\" y1=\"552\" x2=\"993\" y2=\"630\"/><line x1=\"426\" y1=\"396\" x2=\"483\" y2=\"395\"/><line x1=\"483\" y1=\"395\" x2=\"540\" y2=\"395\"/><line x1=\"368\" y1=\"474\" x2=\"426\" y2=\"396\"/><line x1=\"880\" y1=\"552\" x2=\"936\" y2=\"630\"/></g><g id=\"WTGgrp\"><g fill=\"#7f7f7f\"><use href=\"#wtg\" x=\"142\" y=\"317\"/><use href=\"#wtg\" x=\"256\" y=\"317\"/><use href=\"#wtg\" x=\"143\" y=\"239\"/><use href=\"#wtg\" x=\"255\" y=\"395\"/><use href=\"#wtg\" x=\"254\" y=\"473\"/><use href=\"#wtg\" x=\"311\" y=\"474\"/><use href=\"#wtg\" x=\"253\" y=\"552\"/></g><g fill=\"#ff7f0e\"><use href=\"#wtg\" x=\"1047\" y=\"864\"/><use href=\"#wtg\" x=\"1103\" y=\"863\"/><use href=\"#wtg\" x=\"935\" y=\"708\"/><use href=\"#wtg\" x=\"879\" y=\"630\"/><use href=\"#wtg\" x=\"1048\" y=\"786\"/><use href=\"#wtg\" x=\"1105\" y=\"786\"/><use href=\"#wtg\" x=\"1162\" y=\"786\"/></g><g fill=\"#ff9896\"><use href=\"#wtg\" x=\"765\" y=\"630\"/><use href=\"#wtg\" x=\"764\" y=\"708\"/><use href=\"#wtg\" x=\"821\" y=\"708\"/><use href=\"#wtg\" x=\"650\" y=\"708\"/></g><g fill=\"#e377c2\"><use href=\"#wtg\" x=\"427\" y=\"317\"/><use href=\"#wtg\" x=\"369\" y=\"395\"/><use href=\"#wtg\" x=\"484\" y=\"317\"/><use href=\"#wtg\" x=\"654\" y=\"318\"/><use href=\"#wtg\" x=\"597\" y=\"317\"/><use href=\"#wtg\" x=\"540\" y=\"317\"/></g><g fill=\"#98df8a\"><use href=\"#wtg\" x=\"309\" y=\"630\"/><use href=\"#wtg\" x=\"309\" y=\"708\"/><use href=\"#wtg\" x=\"365\" y=\"708\"/><use href=\"#wtg\" x=\"422\" y=\"708\"/><use href=\"#wtg\" x=\"479\" y=\"708\"/><use href=\"#wtg\" x=\"536\" y=\"708\"/><use href=\"#wtg\" x=\"366\" y=\"630\"/></g><g fill=\"#1f77b4\"><use href=\"#wtg\" x=\"939\" y=\"317\"/><use href=\"#wtg\" x=\"938\" y=\"395\"/><use href=\"#wtg\" x=\"882\" y=\"317\"/><use href=\"#wtg\" x=\"881\" y=\"396\"/><use href=\"#wtg\" x=\"995\" y=\"396\"/><use href=\"#wtg\" x=\"1051\" y=\"474\"/><use href=\"#wtg\" x=\"1108\" y=\"474\"/></g><g fill=\"#aec7e8\"><use href=\"#wtg\" x=\"711\" y=\"317\"/><use href=\"#wtg\" x=\"768\" y=\"317\"/><use href=\"#wtg\" x=\"769\" y=\"239\"/><use href=\"#wtg\" x=\"826\" y=\"239\"/><use href=\"#wtg\" x=\"825\" y=\"317\"/><use href=\"#wtg\" x=\"824\" y=\"396\"/><use href=\"#wtg\" x=\"823\" y=\"474\"/></g><g fill=\"#d62728\"><use href=\"#wtg\" x=\"537\" y=\"630\"/><use href=\"#wtg\" x=\"594\" y=\"630\"/><use href=\"#wtg\" x=\"480\" y=\"630\"/><use href=\"#wtg\" x=\"593\" y=\"708\"/><use href=\"#wtg\" x=\"481\" y=\"552\"/><use href=\"#wtg\" x=\"423\" y=\"630\"/><use href=\"#wtg\" x=\"651\" y=\"630\"/></g><g fill=\"#9467bd\"><use href=\"#wtg\" x=\"421\" y=\"864\"/><use href=\"#wtg\" x=\"478\" y=\"864\"/><use href=\"#wtg\" x=\"422\" y=\"786\"/><use href=\"#wtg\" x=\"535\" y=\"864\"/><use href=\"#wtg\" x=\"365\" y=\"786\"/><use href=\"#wtg\" x=\"534\" y=\"942\"/><use href=\"#wtg\" x=\"533\" y=\"1020\"/></g><g fill=\"#c49c94\"><use href=\"#wtg\" x=\"313\" y=\"317\"/><use href=\"#wtg\" x=\"312\" y=\"395\"/><use href=\"#wtg\" x=\"313\" y=\"240\"/><use href=\"#wtg\" x=\"200\" y=\"239\"/><use href=\"#wtg\" x=\"257\" y=\"239\"/><use href=\"#wtg\" x=\"144\" y=\"161\"/><use href=\"#wtg\" x=\"87\" y=\"161\"/></g><g fill=\"#2ca02c\"><use href=\"#wtg\" x=\"1221\" y=\"552\"/><use href=\"#wtg\" x=\"1220\" y=\"630\"/><use href=\"#wtg\" x=\"1163\" y=\"630\"/><use href=\"#wtg\" x=\"1106\" y=\"630\"/><use href=\"#wtg\" x=\"1049\" y=\"630\"/><use href=\"#wtg\" x=\"993\" y=\"630\"/><use href=\"#wtg\" x=\"1277\" y=\"630\"/></g><g fill=\"#f7b6d2\"><use href=\"#wtg\" x=\"710\" y=\"395\"/><use href=\"#wtg\" x=\"654\" y=\"395\"/><use href=\"#wtg\" x=\"767\" y=\"395\"/><use href=\"#wtg\" x=\"597\" y=\"395\"/><use href=\"#wtg\" x=\"483\" y=\"395\"/><use href=\"#wtg\" x=\"426\" y=\"396\"/><use href=\"#wtg\" x=\"540\" y=\"395\"/></g><g fill=\"#c5b0d5\"><use href=\"#wtg\" x=\"591\" y=\"942\"/><use href=\"#wtg\" x=\"591\" y=\"864\"/><use href=\"#wtg\" x=\"648\" y=\"942\"/><use href=\"#wtg\" x=\"647\" y=\"1020\"/><use href=\"#wtg\" x=\"704\" y=\"1020\"/><use href=\"#wtg\" x=\"761\" y=\"1020\"/></g><g fill=\"#ffbb78\"><use href=\"#wtg\" x=\"1276\" y=\"708\"/><use href=\"#wtg\" x=\"1219\" y=\"708\"/><use href=\"#wtg\" x=\"1163\" y=\"708\"/><use href=\"#wtg\" x=\"1049\" y=\"708\"/><use href=\"#wtg\" x=\"992\" y=\"708\"/><use href=\"#wtg\" x=\"1106\" y=\"708\"/><use href=\"#wtg\" x=\"936\" y=\"630\"/></g><g fill=\"#8c564b\"><use href=\"#wtg\" x=\"990\" y=\"864\"/><use href=\"#wtg\" x=\"933\" y=\"864\"/><use href=\"#wtg\" x=\"992\" y=\"950\"/><use href=\"#wtg\" x=\"932\" y=\"942\"/><use href=\"#wtg\" x=\"762\" y=\"864\"/><use href=\"#wtg\" x=\"705\" y=\"864\"/><use href=\"#wtg\" x=\"819\" y=\"864\"/></g></g><g id=\"OSSgrp\"><use href=\"#oss\" x=\"869.5\" y=\"541.5\"/><use href=\"#oss\" x=\"581.5\" y=\"775.5\"/><use href=\"#oss\" x=\"357.5\" y=\"463.5\"/></g></g><text filter=\"url(#bg_textbox)\" text-anchor=\"end\" font-family=\"sans-serif\" font-size=\"40\" fill=\"white\" x=\"1471\" y=\"1050\"><tspan x=\"1471\" dy=\"-0.0em\">&#931;&#955; = 143300.0 m</tspan><tspan x=\"1471\" dy=\"-1.3em\">(+0) &#945;: 4, &#946;: 6, &#947;: 5</tspan><tspan x=\"1471\" dy=\"-1.3em\">&#954; = 7, T = 100</tspan></text></svg>"
      ],
      "text/plain": [
       "<optiwindnet.svg.SvgRepr at 0x2ad893b3320>"
      ]
     },
     "execution_count": 18,
     "metadata": {},
     "output_type": "execute_result"
    }
   ],
   "source": [
    "svgplot(G)"
   ]
  },
  {
   "cell_type": "code",
   "execution_count": 16,
   "id": "aded37c4-3037-4fec-bc31-890ee7b303d3",
   "metadata": {
    "editable": true,
    "execution": {
     "iopub.execute_input": "2025-04-11T10:38:18.531234Z",
     "iopub.status.busy": "2025-04-11T10:38:18.530326Z",
     "iopub.status.idle": "2025-04-11T10:38:19.359586Z",
     "shell.execute_reply": "2025-04-11T10:38:19.359586Z",
     "shell.execute_reply.started": "2025-04-11T10:38:18.531234Z"
    },
    "frozen": false
   },
   "outputs": [
    {
     "ename": "KeyError",
     "evalue": "'pool_entry'",
     "output_type": "error",
     "traceback": [
      "\u001b[31m---------------------------------------------------------------------------\u001b[39m",
      "\u001b[31mKeyError\u001b[39m                                  Traceback (most recent call last)",
      "\u001b[36mCell\u001b[39m\u001b[36m \u001b[39m\u001b[32mIn[16]\u001b[39m\u001b[32m, line 1\u001b[39m\n\u001b[32m----> \u001b[39m\u001b[32m1\u001b[39m \u001b[43mG\u001b[49m\u001b[43m.\u001b[49m\u001b[43mgraph\u001b[49m\u001b[43m[\u001b[49m\u001b[33;43m'\u001b[39;49m\u001b[33;43mpool_entry\u001b[39;49m\u001b[33;43m'\u001b[39;49m\u001b[43m]\u001b[49m\n",
      "\u001b[31mKeyError\u001b[39m: 'pool_entry'"
     ]
    }
   ],
   "source": [
    "G.graph['pool_entry']"
   ]
  },
  {
   "cell_type": "code",
   "execution_count": null,
   "id": "2267c5c3-0044-4ebb-98e2-362ef52aed97",
   "metadata": {
    "editable": true,
    "execution": {
     "iopub.execute_input": "2025-04-11T10:38:32.608476Z",
     "iopub.status.busy": "2025-04-11T10:38:32.607488Z",
     "iopub.status.idle": "2025-04-11T10:38:32.638955Z",
     "shell.execute_reply": "2025-04-11T10:38:32.637940Z",
     "shell.execute_reply.started": "2025-04-11T10:38:32.607488Z"
    },
    "frozen": false
   },
   "outputs": [],
   "source": [
    "solver.sorted_index_"
   ]
  },
  {
   "cell_type": "markdown",
   "id": "3fd1fcd9-d695-4a86-85dd-c198a1c1167b",
   "metadata": {
    "deletable": true,
    "editable": true,
    "frozen": false
   },
   "source": [
    "## Gurobi"
   ]
  },
  {
   "cell_type": "code",
   "execution_count": 9,
   "id": "5612f55a-40a0-4d37-9295-637033e01e03",
   "metadata": {
    "deletable": true,
    "editable": true,
    "execution": {
     "iopub.execute_input": "2025-04-11T10:53:13.529426Z",
     "iopub.status.busy": "2025-04-11T10:53:13.529426Z",
     "iopub.status.idle": "2025-04-11T10:53:14.127503Z",
     "shell.execute_reply": "2025-04-11T10:53:14.127503Z",
     "shell.execute_reply.started": "2025-04-11T10:53:13.529426Z"
    },
    "frozen": false
   },
   "outputs": [],
   "source": [
    "solver = solver_factory('gurobi')"
   ]
  },
  {
   "cell_type": "code",
   "execution_count": 10,
   "id": "92b5a9e3-8a8b-4d43-ad3f-755b3379db26",
   "metadata": {
    "deletable": true,
    "editable": true,
    "execution": {
     "iopub.execute_input": "2025-04-11T10:53:14.294399Z",
     "iopub.status.busy": "2025-04-11T10:53:14.294399Z",
     "iopub.status.idle": "2025-04-11T10:53:14.469656Z",
     "shell.execute_reply": "2025-04-11T10:53:14.469656Z",
     "shell.execute_reply.started": "2025-04-11T10:53:14.294399Z"
    },
    "frozen": false
   },
   "outputs": [],
   "source": [
    "solver.set_problem(\n",
    "    P, A, capacity, warmstart=Sʹ,\n",
    "    gateXings_constraint=False,\n",
    "    branching=True,\n",
    "    gates_limit=False,\n",
    ")"
   ]
  },
  {
   "cell_type": "code",
   "execution_count": 11,
   "id": "98bf3881-0c21-444f-8865-04dbd143bc59",
   "metadata": {
    "deletable": true,
    "editable": true,
    "execution": {
     "iopub.execute_input": "2025-04-11T10:53:15.987628Z",
     "iopub.status.busy": "2025-04-11T10:53:15.986615Z",
     "iopub.status.idle": "2025-04-11T10:53:19.279398Z",
     "shell.execute_reply": "2025-04-11T10:53:19.279398Z",
     "shell.execute_reply.started": "2025-04-11T10:53:15.987628Z"
    },
    "frozen": false
   },
   "outputs": [
    {
     "name": "stdout",
     "output_type": "stream",
     "text": [
      "objective: 143408.367091, bound: 141975.482767, gap: 0.0100, termination: optimal\n"
     ]
    },
    {
     "data": {
      "text/plain": [
       "(143408.36709080794, 141975.48276651348, 0.00999163684352622, 'optimal')"
      ]
     },
     "execution_count": 11,
     "metadata": {},
     "output_type": "execute_result"
    }
   ],
   "source": [
    "solver.solve(timelimit=5, mipgap=0.01)"
   ]
  },
  {
   "cell_type": "code",
   "execution_count": 12,
   "id": "7633d32d-9bd3-4e34-bb7b-09ca9472e8be",
   "metadata": {
    "deletable": true,
    "editable": true,
    "execution": {
     "iopub.execute_input": "2025-04-11T10:53:22.171180Z",
     "iopub.status.busy": "2025-04-11T10:53:22.170185Z",
     "iopub.status.idle": "2025-04-11T10:53:22.292524Z",
     "shell.execute_reply": "2025-04-11T10:53:22.292524Z",
     "shell.execute_reply.started": "2025-04-11T10:53:22.171180Z"
    },
    "frozen": false
   },
   "outputs": [
    {
     "name": "stdout",
     "output_type": "stream",
     "text": [
      "Solution pool has 10 solutions.\n",
      "#0 -> incumbent (objective: 143408.367, length: 146531.915)\n",
      "#1 discarded (objective: 143409.684, length: 146531.915)\n",
      "#2 -> incumbent (objective: 143840.069, length: 143840.069)\n",
      "#3 halted pool search: objective (143840.608) > incumbent's length\n"
     ]
    }
   ],
   "source": [
    "G = solver.get_solution()"
   ]
  },
  {
   "cell_type": "code",
   "execution_count": 13,
   "id": "d823c234-8fdb-4f5d-84e8-50582829d0d6",
   "metadata": {
    "deletable": true,
    "editable": true,
    "execution": {
     "iopub.execute_input": "2025-04-11T10:54:42.561950Z",
     "iopub.status.busy": "2025-04-11T10:54:42.561950Z",
     "iopub.status.idle": "2025-04-11T10:54:42.574765Z",
     "shell.execute_reply": "2025-04-11T10:54:42.574223Z",
     "shell.execute_reply.started": "2025-04-11T10:54:42.561950Z"
    },
    "frozen": false
   },
   "outputs": [
    {
     "data": {
      "image/svg+xml": [
       "<svg xmlns=\"http://www.w3.org/2000/svg\" viewBox=\"0 0 1920 1080\"><defs><filter x=\"-5%\" y=\"-5%\" id=\"bg_textbox\" width=\"110%\" height=\"110%\"><feFlood flood-opacity=\"0.7\" flood-color=\"#111\" result=\"bg\"/><feMerge><feMergeNode in=\"bg\"/><feMergeNode in=\"SourceGraphic\"/></feMerge></filter><circle stroke=\"none\" stroke-width=\"2\" id=\"wtg\" r=\"12\"/><rect stroke=\"none\" stroke-width=\"2\" id=\"oss\" width=\"21\" height=\"21\" fill=\"lawngreen\"/></defs><g id=\"moray\"><path stroke=\"silver\" stroke-dasharray=\"15 7\" stroke-width=\"2\" id=\"border\" d=\"M1471 544 1103 863 895 1043 421 1050 30 30 79 90 117 127 165 165 217 198 277 226 325 243 400 260 441 266 498 267 559 263 645 245 690 229 738 208 789 180 838 145 895 205 1022 314 1149 406 1271 472 1347 505z\" fill-rule=\"evenodd\" fill=\"#111\"/><g stroke=\"crimson\" stroke-width=\"4\" id=\"edges_unspecified\"><line x1=\"256\" y1=\"317\" x2=\"313\" y2=\"317\"/><line x1=\"256\" y1=\"317\" x2=\"255\" y2=\"395\"/><line x1=\"255\" y1=\"395\" x2=\"312\" y2=\"395\"/><line x1=\"1047\" y1=\"864\" x2=\"1103\" y2=\"863\"/><line x1=\"1105\" y1=\"786\" x2=\"1103\" y2=\"863\"/><line x1=\"765\" y1=\"630\" x2=\"764\" y2=\"708\"/><line x1=\"650\" y1=\"708\" x2=\"764\" y2=\"708\"/><line x1=\"764\" y1=\"708\" x2=\"821\" y2=\"708\"/><line x1=\"427\" y1=\"317\" x2=\"369\" y2=\"395\"/><line x1=\"427\" y1=\"317\" x2=\"484\" y2=\"317\"/><line x1=\"368\" y1=\"474\" x2=\"369\" y2=\"395\"/><line x1=\"309\" y1=\"630\" x2=\"309\" y2=\"708\"/><line x1=\"309\" y1=\"630\" x2=\"366\" y2=\"630\"/><line x1=\"309\" y1=\"708\" x2=\"365\" y2=\"708\"/><line x1=\"365\" y1=\"708\" x2=\"422\" y2=\"708\"/><line x1=\"939\" y1=\"317\" x2=\"938\" y2=\"395\"/><line x1=\"882\" y1=\"317\" x2=\"939\" y2=\"317\"/><line x1=\"881\" y1=\"396\" x2=\"938\" y2=\"395\"/><line x1=\"938\" y1=\"395\" x2=\"995\" y2=\"396\"/><line x1=\"422\" y1=\"708\" x2=\"479\" y2=\"708\"/><line x1=\"537\" y1=\"630\" x2=\"594\" y2=\"630\"/><line x1=\"480\" y1=\"630\" x2=\"537\" y2=\"630\"/><line x1=\"594\" y1=\"630\" x2=\"651\" y2=\"630\"/><line x1=\"594\" y1=\"630\" x2=\"593\" y2=\"708\"/><line x1=\"481\" y1=\"552\" x2=\"480\" y2=\"630\"/><line x1=\"423\" y1=\"630\" x2=\"480\" y2=\"630\"/><line x1=\"592\" y1=\"786\" x2=\"593\" y2=\"708\"/><line x1=\"421\" y1=\"864\" x2=\"478\" y2=\"864\"/><line x1=\"422\" y1=\"786\" x2=\"421\" y2=\"864\"/><line x1=\"478\" y1=\"864\" x2=\"535\" y2=\"864\"/><line x1=\"365\" y1=\"786\" x2=\"422\" y2=\"786\"/><line x1=\"592\" y1=\"786\" x2=\"535\" y2=\"864\"/><line x1=\"535\" y1=\"864\" x2=\"534\" y2=\"942\"/><line x1=\"312\" y1=\"395\" x2=\"311\" y2=\"474\"/><line x1=\"368\" y1=\"474\" x2=\"311\" y2=\"474\"/><line x1=\"254\" y1=\"473\" x2=\"311\" y2=\"474\"/><line x1=\"254\" y1=\"473\" x2=\"253\" y2=\"552\"/><line x1=\"479\" y1=\"708\" x2=\"536\" y2=\"708\"/><line x1=\"592\" y1=\"786\" x2=\"536\" y2=\"708\"/><line x1=\"769\" y1=\"239\" x2=\"826\" y2=\"239\"/><line x1=\"826\" y1=\"239\" x2=\"825\" y2=\"317\"/><line x1=\"143\" y1=\"239\" x2=\"142\" y2=\"317\"/><line x1=\"144\" y1=\"161\" x2=\"143\" y2=\"239\"/><line x1=\"143\" y1=\"239\" x2=\"200\" y2=\"239\"/><line x1=\"200\" y1=\"239\" x2=\"257\" y2=\"239\"/><line x1=\"87\" y1=\"161\" x2=\"144\" y2=\"161\"/><line x1=\"257\" y1=\"239\" x2=\"313\" y2=\"240\"/><line x1=\"1221\" y1=\"552\" x2=\"1220\" y2=\"630\"/><line x1=\"1163\" y1=\"630\" x2=\"1220\" y2=\"630\"/><line x1=\"1220\" y1=\"630\" x2=\"1277\" y2=\"630\"/><line x1=\"767\" y1=\"395\" x2=\"824\" y2=\"396\"/><line x1=\"768\" y1=\"317\" x2=\"767\" y2=\"395\"/><line x1=\"824\" y1=\"396\" x2=\"823\" y2=\"474\"/><line x1=\"768\" y1=\"317\" x2=\"825\" y2=\"317\"/><line x1=\"368\" y1=\"474\" x2=\"313\" y2=\"240\"/><line x1=\"880\" y1=\"552\" x2=\"823\" y2=\"474\"/><line x1=\"935\" y1=\"708\" x2=\"1048\" y2=\"786\"/><line x1=\"879\" y1=\"630\" x2=\"935\" y2=\"708\"/><line x1=\"880\" y1=\"552\" x2=\"879\" y2=\"630\"/><line x1=\"1048\" y1=\"786\" x2=\"1105\" y2=\"786\"/><line x1=\"1105\" y1=\"786\" x2=\"1162\" y2=\"786\"/><line x1=\"654\" y1=\"395\" x2=\"710\" y2=\"395\"/><line x1=\"597\" y1=\"395\" x2=\"654\" y2=\"395\"/><line x1=\"484\" y1=\"317\" x2=\"540\" y2=\"317\"/><line x1=\"591\" y1=\"864\" x2=\"591\" y2=\"942\"/><line x1=\"591\" y1=\"942\" x2=\"648\" y2=\"942\"/><line x1=\"592\" y1=\"786\" x2=\"591\" y2=\"864\"/><line x1=\"648\" y1=\"942\" x2=\"647\" y2=\"1020\"/><line x1=\"647\" y1=\"1020\" x2=\"704\" y2=\"1020\"/><line x1=\"704\" y1=\"1020\" x2=\"761\" y2=\"1020\"/><line x1=\"1219\" y1=\"708\" x2=\"1276\" y2=\"708\"/><line x1=\"1163\" y1=\"708\" x2=\"1219\" y2=\"708\"/><line x1=\"1106\" y1=\"708\" x2=\"1163\" y2=\"708\"/><line x1=\"880\" y1=\"552\" x2=\"881\" y2=\"396\"/><line x1=\"995\" y1=\"396\" x2=\"1051\" y2=\"474\"/><line x1=\"1051\" y1=\"474\" x2=\"1108\" y2=\"474\"/><line x1=\"597\" y1=\"317\" x2=\"654\" y2=\"318\"/><line x1=\"654\" y1=\"318\" x2=\"711\" y2=\"317\"/><line x1=\"540\" y1=\"317\" x2=\"597\" y2=\"317\"/><line x1=\"933\" y1=\"864\" x2=\"990\" y2=\"864\"/><line x1=\"819\" y1=\"864\" x2=\"933\" y2=\"864\"/><line x1=\"933\" y1=\"864\" x2=\"932\" y2=\"942\"/><line x1=\"932\" y1=\"942\" x2=\"992\" y2=\"950\"/><line x1=\"992\" y1=\"708\" x2=\"1049\" y2=\"708\"/><line x1=\"1049\" y1=\"708\" x2=\"1106\" y2=\"708\"/><line x1=\"936\" y1=\"630\" x2=\"992\" y2=\"708\"/><line x1=\"534\" y1=\"942\" x2=\"533\" y2=\"1020\"/><line x1=\"705\" y1=\"864\" x2=\"762\" y2=\"864\"/><line x1=\"762\" y1=\"864\" x2=\"819\" y2=\"864\"/><line x1=\"592\" y1=\"786\" x2=\"705\" y2=\"864\"/><line x1=\"540\" y1=\"395\" x2=\"597\" y2=\"395\"/><line x1=\"592\" y1=\"786\" x2=\"650\" y2=\"708\"/><line x1=\"1106\" y1=\"630\" x2=\"1163\" y2=\"630\"/><line x1=\"1049\" y1=\"630\" x2=\"1106\" y2=\"630\"/><line x1=\"993\" y1=\"630\" x2=\"1049\" y2=\"630\"/><line x1=\"880\" y1=\"552\" x2=\"993\" y2=\"630\"/><line x1=\"426\" y1=\"396\" x2=\"483\" y2=\"395\"/><line x1=\"483\" y1=\"395\" x2=\"540\" y2=\"395\"/><line x1=\"368\" y1=\"474\" x2=\"426\" y2=\"396\"/><line x1=\"880\" y1=\"552\" x2=\"936\" y2=\"630\"/></g><g id=\"WTGgrp\"><g fill=\"#7f7f7f\"><use href=\"#wtg\" x=\"256\" y=\"317\"/><use href=\"#wtg\" x=\"255\" y=\"395\"/><use href=\"#wtg\" x=\"312\" y=\"395\"/><use href=\"#wtg\" x=\"311\" y=\"474\"/><use href=\"#wtg\" x=\"254\" y=\"473\"/><use href=\"#wtg\" x=\"313\" y=\"317\"/><use href=\"#wtg\" x=\"253\" y=\"552\"/></g><g fill=\"#ff7f0e\"><use href=\"#wtg\" x=\"1047\" y=\"864\"/><use href=\"#wtg\" x=\"1103\" y=\"863\"/><use href=\"#wtg\" x=\"935\" y=\"708\"/><use href=\"#wtg\" x=\"879\" y=\"630\"/><use href=\"#wtg\" x=\"1048\" y=\"786\"/><use href=\"#wtg\" x=\"1105\" y=\"786\"/><use href=\"#wtg\" x=\"1162\" y=\"786\"/></g><g fill=\"#ff9896\"><use href=\"#wtg\" x=\"765\" y=\"630\"/><use href=\"#wtg\" x=\"764\" y=\"708\"/><use href=\"#wtg\" x=\"821\" y=\"708\"/><use href=\"#wtg\" x=\"650\" y=\"708\"/></g><g fill=\"#e377c2\"><use href=\"#wtg\" x=\"427\" y=\"317\"/><use href=\"#wtg\" x=\"369\" y=\"395\"/><use href=\"#wtg\" x=\"484\" y=\"317\"/><use href=\"#wtg\" x=\"654\" y=\"318\"/><use href=\"#wtg\" x=\"597\" y=\"317\"/><use href=\"#wtg\" x=\"540\" y=\"317\"/><use href=\"#wtg\" x=\"711\" y=\"317\"/></g><g fill=\"#98df8a\"><use href=\"#wtg\" x=\"309\" y=\"630\"/><use href=\"#wtg\" x=\"309\" y=\"708\"/><use href=\"#wtg\" x=\"365\" y=\"708\"/><use href=\"#wtg\" x=\"422\" y=\"708\"/><use href=\"#wtg\" x=\"479\" y=\"708\"/><use href=\"#wtg\" x=\"536\" y=\"708\"/><use href=\"#wtg\" x=\"366\" y=\"630\"/></g><g fill=\"#1f77b4\"><use href=\"#wtg\" x=\"939\" y=\"317\"/><use href=\"#wtg\" x=\"938\" y=\"395\"/><use href=\"#wtg\" x=\"882\" y=\"317\"/><use href=\"#wtg\" x=\"881\" y=\"396\"/><use href=\"#wtg\" x=\"995\" y=\"396\"/><use href=\"#wtg\" x=\"1051\" y=\"474\"/><use href=\"#wtg\" x=\"1108\" y=\"474\"/></g><g fill=\"#d62728\"><use href=\"#wtg\" x=\"537\" y=\"630\"/><use href=\"#wtg\" x=\"594\" y=\"630\"/><use href=\"#wtg\" x=\"480\" y=\"630\"/><use href=\"#wtg\" x=\"593\" y=\"708\"/><use href=\"#wtg\" x=\"481\" y=\"552\"/><use href=\"#wtg\" x=\"423\" y=\"630\"/><use href=\"#wtg\" x=\"651\" y=\"630\"/></g><g fill=\"#9467bd\"><use href=\"#wtg\" x=\"421\" y=\"864\"/><use href=\"#wtg\" x=\"478\" y=\"864\"/><use href=\"#wtg\" x=\"422\" y=\"786\"/><use href=\"#wtg\" x=\"535\" y=\"864\"/><use href=\"#wtg\" x=\"365\" y=\"786\"/><use href=\"#wtg\" x=\"534\" y=\"942\"/><use href=\"#wtg\" x=\"533\" y=\"1020\"/></g><g fill=\"#aec7e8\"><use href=\"#wtg\" x=\"769\" y=\"239\"/><use href=\"#wtg\" x=\"826\" y=\"239\"/><use href=\"#wtg\" x=\"767\" y=\"395\"/><use href=\"#wtg\" x=\"824\" y=\"396\"/><use href=\"#wtg\" x=\"768\" y=\"317\"/><use href=\"#wtg\" x=\"825\" y=\"317\"/><use href=\"#wtg\" x=\"823\" y=\"474\"/></g><g fill=\"#c49c94\"><use href=\"#wtg\" x=\"143\" y=\"239\"/><use href=\"#wtg\" x=\"200\" y=\"239\"/><use href=\"#wtg\" x=\"144\" y=\"161\"/><use href=\"#wtg\" x=\"257\" y=\"239\"/><use href=\"#wtg\" x=\"313\" y=\"240\"/><use href=\"#wtg\" x=\"87\" y=\"161\"/><use href=\"#wtg\" x=\"142\" y=\"317\"/></g><g fill=\"#2ca02c\"><use href=\"#wtg\" x=\"1221\" y=\"552\"/><use href=\"#wtg\" x=\"1220\" y=\"630\"/><use href=\"#wtg\" x=\"1163\" y=\"630\"/><use href=\"#wtg\" x=\"1106\" y=\"630\"/><use href=\"#wtg\" x=\"1049\" y=\"630\"/><use href=\"#wtg\" x=\"993\" y=\"630\"/><use href=\"#wtg\" x=\"1277\" y=\"630\"/></g><g fill=\"#f7b6d2\"><use href=\"#wtg\" x=\"710\" y=\"395\"/><use href=\"#wtg\" x=\"654\" y=\"395\"/><use href=\"#wtg\" x=\"597\" y=\"395\"/><use href=\"#wtg\" x=\"483\" y=\"395\"/><use href=\"#wtg\" x=\"426\" y=\"396\"/><use href=\"#wtg\" x=\"540\" y=\"395\"/></g><g fill=\"#c5b0d5\"><use href=\"#wtg\" x=\"591\" y=\"942\"/><use href=\"#wtg\" x=\"591\" y=\"864\"/><use href=\"#wtg\" x=\"648\" y=\"942\"/><use href=\"#wtg\" x=\"647\" y=\"1020\"/><use href=\"#wtg\" x=\"704\" y=\"1020\"/><use href=\"#wtg\" x=\"761\" y=\"1020\"/></g><g fill=\"#ffbb78\"><use href=\"#wtg\" x=\"1276\" y=\"708\"/><use href=\"#wtg\" x=\"1219\" y=\"708\"/><use href=\"#wtg\" x=\"1163\" y=\"708\"/><use href=\"#wtg\" x=\"1049\" y=\"708\"/><use href=\"#wtg\" x=\"992\" y=\"708\"/><use href=\"#wtg\" x=\"1106\" y=\"708\"/><use href=\"#wtg\" x=\"936\" y=\"630\"/></g><g fill=\"#8c564b\"><use href=\"#wtg\" x=\"990\" y=\"864\"/><use href=\"#wtg\" x=\"933\" y=\"864\"/><use href=\"#wtg\" x=\"992\" y=\"950\"/><use href=\"#wtg\" x=\"932\" y=\"942\"/><use href=\"#wtg\" x=\"762\" y=\"864\"/><use href=\"#wtg\" x=\"705\" y=\"864\"/><use href=\"#wtg\" x=\"819\" y=\"864\"/></g></g><g id=\"OSSgrp\"><use href=\"#oss\" x=\"869.5\" y=\"541.5\"/><use href=\"#oss\" x=\"581.5\" y=\"775.5\"/><use href=\"#oss\" x=\"357.5\" y=\"463.5\"/></g></g><text filter=\"url(#bg_textbox)\" text-anchor=\"end\" font-family=\"sans-serif\" font-size=\"40\" fill=\"white\" x=\"1471\" y=\"1050\"><tspan x=\"1471\" dy=\"-0.0em\">&#931;&#955; = 143840.0 m</tspan><tspan x=\"1471\" dy=\"-1.3em\">(+0) &#945;: 4, &#946;: 6, &#947;: 5</tspan><tspan x=\"1471\" dy=\"-1.3em\">&#954; = 7, T = 100</tspan></text></svg>"
      ],
      "text/plain": [
       "<optiwindnet.svg.SvgRepr at 0x1d8cef32fc0>"
      ]
     },
     "execution_count": 13,
     "metadata": {},
     "output_type": "execute_result"
    }
   ],
   "source": [
    "svgplot(G)"
   ]
  },
  {
   "cell_type": "markdown",
   "id": "47c6c799-ef4a-43af-8a9a-66b83bd3e662",
   "metadata": {
    "deletable": true,
    "editable": true,
    "frozen": false
   },
   "source": [
    "## CBC"
   ]
  },
  {
   "cell_type": "code",
   "execution_count": 9,
   "id": "2fbd3f4b-b428-49c7-980b-d08dabf9d5ba",
   "metadata": {
    "deletable": true,
    "editable": true,
    "execution": {
     "iopub.execute_input": "2025-04-11T11:04:27.575278Z",
     "iopub.status.busy": "2025-04-11T11:04:27.575278Z",
     "iopub.status.idle": "2025-04-11T11:04:28.037949Z",
     "shell.execute_reply": "2025-04-11T11:04:28.037949Z",
     "shell.execute_reply.started": "2025-04-11T11:04:27.575278Z"
    },
    "frozen": false
   },
   "outputs": [],
   "source": [
    "solver = solver_factory('cbc')"
   ]
  },
  {
   "cell_type": "code",
   "execution_count": 10,
   "id": "92c13687-d2f6-425b-b679-c4d3144c788a",
   "metadata": {
    "deletable": true,
    "editable": true,
    "execution": {
     "iopub.execute_input": "2025-04-11T11:04:28.039471Z",
     "iopub.status.busy": "2025-04-11T11:04:28.038953Z",
     "iopub.status.idle": "2025-04-11T11:04:28.186623Z",
     "shell.execute_reply": "2025-04-11T11:04:28.186623Z",
     "shell.execute_reply.started": "2025-04-11T11:04:28.039471Z"
    },
    "frozen": false
   },
   "outputs": [],
   "source": [
    "solver.set_problem(\n",
    "    P, A, capacity, warmstart=Sʹ,\n",
    "    gateXings_constraint=False,\n",
    "    branching=True,\n",
    "    gates_limit=False,\n",
    ")"
   ]
  },
  {
   "cell_type": "code",
   "execution_count": 11,
   "id": "7bb8dfa6-719e-4f9f-bd89-aeb6240d0ee2",
   "metadata": {
    "deletable": true,
    "editable": true,
    "execution": {
     "iopub.execute_input": "2025-04-11T11:04:28.186623Z",
     "iopub.status.busy": "2025-04-11T11:04:28.186623Z",
     "iopub.status.idle": "2025-04-11T11:05:29.505560Z",
     "shell.execute_reply": "2025-04-11T11:05:29.505560Z",
     "shell.execute_reply.started": "2025-04-11T11:04:28.186623Z"
    },
    "frozen": false,
    "scrolled": true
   },
   "outputs": [
    {
     "name": "stdout",
     "output_type": "stream",
     "text": [
      "Welcome to the CBC MILP Solver \n",
      "Version: 2.10.8 \n",
      "Build Date: Jan  1 1970 \n",
      "\n",
      "command line - C:\\Users\\s213184\\programs\\cbc_julia_mingw32_2.10.8\\bin\\cbc.exe -threads 16 -timeMode elapsed -nodeStrategy downFewest -Dins on -VndVariableNeighborhoodSearch on -Rens on -Rins on -pivotAndComplement off -proximitySearch off -gomoryCuts on -mixedIntegerRoundingCuts on -flowCoverCuts on -cliqueCuts off -twoMirCuts off -knapsackCuts off -probingCuts off -zeroHalfCuts off -liftAndProjectCuts off -residualCapacityCuts off -seconds 60 -ratioGap 0.01 -printingOptions all -import C:\\Users\\s213184\\tmp\\tmpksj2o33x.pyomo.lp -mipstart \\Users\\s213184\\tmp\\tmpm0y7wnuz.cbc.soln -stat=1 -solve -solu C:\\Users\\s213184\\tmp\\tmpksj2o33x.pyomo.soln (default strategy 1)\n",
      "threads was changed from 0 to 16\n",
      "Option for timeMode changed from cpu to elapsed\n",
      "Option for nodeStrategy changed from fewest to downfewest\n",
      "Option for Dins changed from off to on\n",
      "Option for VndVariableNeighborhoodSearch changed from off to on\n",
      "Option for Rens changed from off to on\n",
      "Option for gomoryCuts changed from ifmove to on\n",
      "Option for mixedIntegerRoundingCuts changed from ifmove to on\n",
      "Option for flowCoverCuts changed from ifmove to on\n",
      "Option for cliqueCuts changed from ifmove to off\n",
      "Option for twoMirCuts changed from root to off\n",
      "Option for knapsackCuts changed from ifmove to off\n",
      "Option for probingCuts changed from on to off\n",
      "Option for zeroHalfCuts changed from ifmove to off\n",
      "seconds was changed from 1e+100 to 60\n",
      "ratioGap was changed from 0 to 0.01\n",
      "Option for printingOptions changed from normal to all\n",
      "opening mipstart file \\Users\\s213184\\tmp\\tmpm0y7wnuz.cbc.soln.\n",
      "MIPStart values read for 200 variables.\n",
      "Presolve 3510 (-1) rows, 2428 (0) columns and 12042 (-1214) elements\n",
      "Statistics for presolved model\n",
      "Original problem has 2428 integers (1214 of which binary)\n",
      "==== 1214 zero objective 758 different\n",
      "==== absolute objective values 758 different\n",
      "==== for integers 1214 zero objective 758 different\n",
      "==== for integers absolute objective values 758 different\n",
      "===== end objective counts\n",
      "\n",
      "\n",
      "Problem has 3510 rows, 2428 columns (1214 with objective) and 12042 elements\n",
      "Column breakdown:\n",
      "0 of type 0.0->inf, 1214 of type 0.0->up, 0 of type lo->inf, \n",
      "0 of type lo->up, 0 of type free, 0 of type fixed, \n",
      "0 of type -inf->0.0, 0 of type -inf->up, 1214 of type 0.0->1.0 \n",
      "Row breakdown:\n",
      "0 of type E 0.0, 200 of type E 1.0, 0 of type E -1.0, \n",
      "1 of type E other, 0 of type G 0.0, 0 of type G 1.0, \n",
      "1 of type G other, 2428 of type L 0.0, 780 of type L 1.0, \n",
      "100 of type L other, 0 of type Range 0.0->1.0, 0 of type Range other, \n",
      "0 of type Free \n",
      "Continuous objective value is 139019 - 0.03 seconds\n",
      "Cgl0003I 0 fixed, 0 tightened bounds, 365 strengthened rows, 0 substitutions\n",
      "Cgl0003I 0 fixed, 0 tightened bounds, 365 strengthened rows, 0 substitutions\n",
      "Cgl0003I 0 fixed, 0 tightened bounds, 107 strengthened rows, 0 substitutions\n",
      "Cgl0003I 0 fixed, 0 tightened bounds, 56 strengthened rows, 0 substitutions\n",
      "Cgl0004I processed model has 3220 rows, 2428 columns (2428 integer (1214 of which binary)) and 12866 elements\n",
      "Cbc0045I MIPStart provided solution with cost 150853\n",
      "Cbc0012I Integer solution of 150853.1 found by Reduced search after 0 iterations and 0 nodes (0.18 seconds)\n",
      "Cbc0038I Reduced cost fixing fixed 8 variables\n",
      "Cbc0038I Full problem 3221 rows 2428 columns, reduced to 241 rows 132 columns\n",
      "Cbc0038I Full problem 3221 rows 2428 columns, reduced to 241 rows 132 columns\n",
      "Cbc0038I Full problem 3221 rows 2428 columns, reduced to 241 rows 132 columns\n",
      "Cbc0038I Full problem 3220 rows 2428 columns, reduced to 333 rows 176 columns\n",
      "Cbc0038I Full problem 3221 rows 2428 columns, reduced to 285 rows 165 columns\n",
      "Cbc0038I Full problem 3221 rows 2428 columns, reduced to 285 rows 165 columns\n",
      "Cbc0038I Full problem 3221 rows 2428 columns, reduced to 285 rows 165 columns\n",
      "Cbc0031I 59 added rows had average density of 140.37288\n",
      "Cbc0013I At root node, 59 cuts changed objective from 139019.16 to 140672.64 in 19 passes\n",
      "Cbc0014I Cut generator 0 (Gomory) - 228 row cuts average 298.0 elements, 0 column cuts (0 active)  in 0.260 seconds - new frequency is 1\n",
      "Cbc0014I Cut generator 1 (MixedIntegerRounding2) - 1 row cuts average 39.0 elements, 0 column cuts (0 active)  in 0.051 seconds - new frequency is 4\n",
      "Cbc0014I Cut generator 2 (FlowCover) - 76 row cuts average 15.0 elements, 0 column cuts (0 active)  in 0.018 seconds - new frequency is 1\n",
      "Cbc0010I After 0 nodes, 1 on tree, 150853.1 best solution, best possible 140672.64 (1.16 seconds)\n",
      "Cbc0012I Integer solution of 149482.71 found by heuristic after 11540 iterations and 74 nodes (3.07 seconds)\n",
      "Cbc0012I Integer solution of 148452.52 found by DiveCoefficient after 10715 iterations and 63 nodes (3.12 seconds)\n",
      "Cbc0012I Integer solution of 148452.52 found by heuristic after 12053 iterations and 81 nodes (3.12 seconds)\n",
      "Cbc0012I Integer solution of 145481.06 found by heuristic after 12799 iterations and 90 nodes (3.19 seconds)\n",
      "Cbc0010I After 100 nodes, 51 on tree, 145481.06 best solution, best possible 140741.81 (3.29 seconds)\n",
      "Cbc0010I After 200 nodes, 103 on tree, 145481.06 best solution, best possible 140741.81 (4.08 seconds)\n",
      "Cbc0010I After 300 nodes, 150 on tree, 145481.06 best solution, best possible 140741.81 (4.73 seconds)\n",
      "Cbc0010I After 400 nodes, 200 on tree, 145481.06 best solution, best possible 140741.81 (5.25 seconds)\n",
      "Cbc0010I After 500 nodes, 249 on tree, 145481.06 best solution, best possible 140741.81 (5.77 seconds)\n",
      "Cbc0010I After 600 nodes, 295 on tree, 145481.06 best solution, best possible 140741.81 (6.20 seconds)\n",
      "Cbc0010I After 700 nodes, 345 on tree, 145481.06 best solution, best possible 140741.81 (6.64 seconds)\n",
      "Cbc0010I After 800 nodes, 391 on tree, 145481.06 best solution, best possible 140741.81 (7.05 seconds)\n",
      "Cbc0010I After 900 nodes, 440 on tree, 145481.06 best solution, best possible 140741.81 (7.38 seconds)\n",
      "Cbc0010I After 1000 nodes, 489 on tree, 145481.06 best solution, best possible 140741.81 (7.67 seconds)\n",
      "Cbc0010I After 1100 nodes, 537 on tree, 145481.06 best solution, best possible 140741.81 (7.93 seconds)\n",
      "Cbc0010I After 1200 nodes, 586 on tree, 145481.06 best solution, best possible 140741.81 (8.19 seconds)\n",
      "Cbc0010I After 1300 nodes, 637 on tree, 145481.06 best solution, best possible 140741.81 (8.49 seconds)\n",
      "Cbc0010I After 1400 nodes, 680 on tree, 145481.06 best solution, best possible 140741.81 (8.74 seconds)\n",
      "Cbc0010I After 1500 nodes, 730 on tree, 145481.06 best solution, best possible 140741.81 (9.01 seconds)\n",
      "Cbc0010I After 1600 nodes, 778 on tree, 145481.06 best solution, best possible 140741.81 (9.25 seconds)\n",
      "Cbc0010I After 1700 nodes, 827 on tree, 145481.06 best solution, best possible 140741.81 (9.51 seconds)\n",
      "Cbc0010I After 1800 nodes, 873 on tree, 145481.06 best solution, best possible 140741.81 (9.69 seconds)\n",
      "Cbc0010I After 1900 nodes, 923 on tree, 145481.06 best solution, best possible 140741.81 (9.88 seconds)\n",
      "Cbc0010I After 2000 nodes, 972 on tree, 145481.06 best solution, best possible 140741.81 (10.10 seconds)\n",
      "Cbc0010I After 2100 nodes, 1013 on tree, 145481.06 best solution, best possible 140741.81 (10.30 seconds)\n",
      "Cbc0010I After 2200 nodes, 1059 on tree, 145481.06 best solution, best possible 140741.81 (10.47 seconds)\n",
      "Cbc0010I After 2300 nodes, 1108 on tree, 145481.06 best solution, best possible 140741.81 (10.63 seconds)\n",
      "Cbc0010I After 2400 nodes, 1151 on tree, 145481.06 best solution, best possible 140741.81 (10.75 seconds)\n",
      "Cbc0010I After 2500 nodes, 1168 on tree, 145481.06 best solution, best possible 140741.81 (10.87 seconds)\n",
      "Cbc0010I After 2600 nodes, 1184 on tree, 145481.06 best solution, best possible 140741.81 (11.02 seconds)\n",
      "Cbc0010I After 2700 nodes, 1239 on tree, 145481.06 best solution, best possible 140741.81 (11.14 seconds)\n",
      "Cbc0010I After 2800 nodes, 1289 on tree, 145481.06 best solution, best possible 140741.81 (11.25 seconds)\n",
      "Cbc0010I After 2900 nodes, 1335 on tree, 145481.06 best solution, best possible 140741.81 (11.35 seconds)\n",
      "Cbc0010I After 3000 nodes, 1371 on tree, 145481.06 best solution, best possible 140741.81 (11.47 seconds)\n",
      "Cbc0010I After 3100 nodes, 1408 on tree, 145481.06 best solution, best possible 140741.81 (11.57 seconds)\n",
      "Cbc0010I After 3200 nodes, 1439 on tree, 145481.06 best solution, best possible 140741.81 (11.65 seconds)\n",
      "Cbc0010I After 3300 nodes, 1478 on tree, 145481.06 best solution, best possible 140741.81 (11.77 seconds)\n",
      "Cbc0010I After 3400 nodes, 1516 on tree, 145481.06 best solution, best possible 140741.81 (11.88 seconds)\n",
      "Cbc0010I After 3500 nodes, 1549 on tree, 145481.06 best solution, best possible 140741.81 (11.97 seconds)\n",
      "Cbc0010I After 3600 nodes, 1568 on tree, 145481.06 best solution, best possible 140741.81 (12.07 seconds)\n",
      "Cbc0010I After 3700 nodes, 1602 on tree, 145481.06 best solution, best possible 140741.81 (12.17 seconds)\n",
      "Cbc0010I After 3800 nodes, 1631 on tree, 145481.06 best solution, best possible 140741.81 (12.26 seconds)\n",
      "Cbc0012I Integer solution of 145287.43 found by heuristic after 235019 iterations and 3821 nodes (12.28 seconds)\n",
      "Cbc0010I After 3900 nodes, 1504 on tree, 145287.43 best solution, best possible 140741.81 (12.38 seconds)\n",
      "Cbc0010I After 4000 nodes, 1510 on tree, 145287.43 best solution, best possible 140741.81 (12.47 seconds)\n",
      "Cbc0010I After 4100 nodes, 1502 on tree, 145287.43 best solution, best possible 140741.81 (12.56 seconds)\n",
      "Cbc0010I After 4200 nodes, 1499 on tree, 145287.43 best solution, best possible 140741.81 (12.66 seconds)\n",
      "Cbc0012I Integer solution of 144855.23 found by heuristic after 249368 iterations and 4236 nodes (12.70 seconds)\n",
      "Cbc0010I After 4300 nodes, 1163 on tree, 144855.23 best solution, best possible 140741.81 (12.78 seconds)\n",
      "Cbc0010I After 4400 nodes, 1150 on tree, 144855.23 best solution, best possible 140741.81 (12.86 seconds)\n",
      "Cbc0010I After 4500 nodes, 1143 on tree, 144855.23 best solution, best possible 140741.81 (12.94 seconds)\n",
      "Cbc0010I After 4600 nodes, 1139 on tree, 144855.23 best solution, best possible 140741.81 (13.08 seconds)\n",
      "Cbc0010I After 4700 nodes, 1180 on tree, 144855.23 best solution, best possible 140741.81 (13.33 seconds)\n",
      "Cbc0010I After 4800 nodes, 1234 on tree, 144855.23 best solution, best possible 140741.81 (13.54 seconds)\n",
      "Cbc0010I After 4900 nodes, 1284 on tree, 144855.23 best solution, best possible 140741.81 (13.80 seconds)\n",
      "Cbc0010I After 5000 nodes, 1334 on tree, 144855.23 best solution, best possible 140741.81 (13.99 seconds)\n",
      "Cbc0010I After 5100 nodes, 1380 on tree, 144855.23 best solution, best possible 140741.81 (14.16 seconds)\n",
      "Cbc0010I After 5200 nodes, 1429 on tree, 144855.23 best solution, best possible 140741.81 (14.35 seconds)\n",
      "Cbc0010I After 5300 nodes, 1474 on tree, 144855.23 best solution, best possible 140741.81 (14.49 seconds)\n",
      "Cbc0010I After 5400 nodes, 1516 on tree, 144855.23 best solution, best possible 140741.81 (14.63 seconds)\n",
      "Cbc0010I After 5500 nodes, 1567 on tree, 144855.23 best solution, best possible 140741.81 (14.76 seconds)\n",
      "Cbc0010I After 5600 nodes, 1609 on tree, 144855.23 best solution, best possible 140741.81 (14.87 seconds)\n",
      "Cbc0012I Integer solution of 144691.73 found by heuristic after 344867 iterations and 5663 nodes (14.93 seconds)\n",
      "Cbc0010I After 5700 nodes, 1555 on tree, 144691.73 best solution, best possible 140741.81 (14.97 seconds)\n",
      "Cbc0010I After 5800 nodes, 1587 on tree, 144691.73 best solution, best possible 140741.81 (15.08 seconds)\n",
      "Cbc0012I Integer solution of 144628.08 found by heuristic after 352855 iterations and 5804 nodes (15.08 seconds)\n",
      "Cbc0010I After 5900 nodes, 1589 on tree, 144628.08 best solution, best possible 140741.81 (15.22 seconds)\n",
      "Cbc0010I After 6000 nodes, 1634 on tree, 144628.08 best solution, best possible 140741.81 (15.35 seconds)\n",
      "Cbc0010I After 6100 nodes, 1677 on tree, 144628.08 best solution, best possible 140741.81 (15.48 seconds)\n",
      "Cbc0010I After 6200 nodes, 1711 on tree, 144628.08 best solution, best possible 140741.81 (15.57 seconds)\n",
      "Cbc0010I After 6300 nodes, 1746 on tree, 144628.08 best solution, best possible 140741.81 (15.69 seconds)\n",
      "Cbc0010I After 6400 nodes, 1781 on tree, 144628.08 best solution, best possible 140741.81 (15.81 seconds)\n",
      "Cbc0010I After 6500 nodes, 1804 on tree, 144628.08 best solution, best possible 140741.81 (15.91 seconds)\n",
      "Cbc0010I After 6600 nodes, 1844 on tree, 144628.08 best solution, best possible 140741.81 (16.05 seconds)\n",
      "Cbc0010I After 6700 nodes, 1893 on tree, 144628.08 best solution, best possible 140741.81 (16.23 seconds)\n",
      "Cbc0010I After 6800 nodes, 1941 on tree, 144628.08 best solution, best possible 140741.81 (16.41 seconds)\n",
      "Cbc0010I After 6900 nodes, 1990 on tree, 144628.08 best solution, best possible 140741.81 (16.55 seconds)\n",
      "Cbc0010I After 7000 nodes, 2029 on tree, 144628.08 best solution, best possible 140741.81 (16.66 seconds)\n",
      "Cbc0010I After 7100 nodes, 2069 on tree, 144628.08 best solution, best possible 140741.81 (16.77 seconds)\n",
      "Cbc0010I After 7200 nodes, 2106 on tree, 144628.08 best solution, best possible 140741.81 (16.90 seconds)\n",
      "Cbc0010I After 7300 nodes, 2137 on tree, 144628.08 best solution, best possible 140741.81 (17.01 seconds)\n",
      "Cbc0010I After 7400 nodes, 2185 on tree, 144628.08 best solution, best possible 140741.81 (17.13 seconds)\n",
      "Cbc0010I After 7500 nodes, 2241 on tree, 144628.08 best solution, best possible 140741.81 (17.28 seconds)\n",
      "Cbc0010I After 7600 nodes, 2291 on tree, 144628.08 best solution, best possible 140741.81 (17.43 seconds)\n",
      "Cbc0010I After 7700 nodes, 2337 on tree, 144628.08 best solution, best possible 140741.81 (17.58 seconds)\n",
      "Cbc0010I After 7800 nodes, 2388 on tree, 144628.08 best solution, best possible 140741.81 (17.75 seconds)\n",
      "Cbc0010I After 7900 nodes, 2438 on tree, 144628.08 best solution, best possible 140741.81 (17.90 seconds)\n",
      "Cbc0010I After 8000 nodes, 2490 on tree, 144628.08 best solution, best possible 140741.81 (18.05 seconds)\n",
      "Cbc0010I After 8100 nodes, 2539 on tree, 144628.08 best solution, best possible 140741.81 (18.19 seconds)\n",
      "Cbc0010I After 8200 nodes, 2587 on tree, 144628.08 best solution, best possible 140741.81 (18.34 seconds)\n",
      "Cbc0010I After 8300 nodes, 2638 on tree, 144628.08 best solution, best possible 140741.81 (18.53 seconds)\n",
      "Cbc0010I After 8400 nodes, 2682 on tree, 144628.08 best solution, best possible 140741.81 (18.69 seconds)\n",
      "Cbc0010I After 8500 nodes, 2736 on tree, 144628.08 best solution, best possible 140741.81 (18.86 seconds)\n",
      "Cbc0010I After 8600 nodes, 2787 on tree, 144628.08 best solution, best possible 140741.81 (19.00 seconds)\n",
      "Cbc0010I After 8700 nodes, 2833 on tree, 144628.08 best solution, best possible 140741.81 (19.14 seconds)\n",
      "Cbc0010I After 8800 nodes, 2885 on tree, 144628.08 best solution, best possible 140741.81 (19.28 seconds)\n",
      "Cbc0010I After 8900 nodes, 2935 on tree, 144628.08 best solution, best possible 140741.81 (19.45 seconds)\n",
      "Cbc0010I After 9000 nodes, 2985 on tree, 144628.08 best solution, best possible 140741.81 (19.59 seconds)\n",
      "Cbc0010I After 9100 nodes, 3030 on tree, 144628.08 best solution, best possible 140741.81 (19.76 seconds)\n",
      "Cbc0010I After 9200 nodes, 3079 on tree, 144628.08 best solution, best possible 140741.81 (19.90 seconds)\n",
      "Cbc0010I After 9300 nodes, 3128 on tree, 144628.08 best solution, best possible 140741.81 (20.05 seconds)\n",
      "Cbc0010I After 9400 nodes, 3178 on tree, 144628.08 best solution, best possible 140741.81 (20.18 seconds)\n",
      "Cbc0010I After 9500 nodes, 3224 on tree, 144628.08 best solution, best possible 140741.81 (20.33 seconds)\n",
      "Cbc0010I After 9600 nodes, 3276 on tree, 144628.08 best solution, best possible 140741.81 (20.48 seconds)\n",
      "Cbc0010I After 9700 nodes, 3322 on tree, 144628.08 best solution, best possible 140741.81 (20.65 seconds)\n",
      "Cbc0010I After 9800 nodes, 3368 on tree, 144628.08 best solution, best possible 140741.81 (20.78 seconds)\n",
      "Cbc0010I After 9900 nodes, 3417 on tree, 144628.08 best solution, best possible 140741.81 (20.92 seconds)\n",
      "Cbc0010I After 10000 nodes, 3463 on tree, 144628.08 best solution, best possible 140741.81 (21.06 seconds)\n",
      "Cbc0010I After 10100 nodes, 3512 on tree, 144628.08 best solution, best possible 140741.81 (21.21 seconds)\n",
      "Cbc0010I After 10200 nodes, 3559 on tree, 144628.08 best solution, best possible 140741.81 (21.36 seconds)\n",
      "Cbc0010I After 10300 nodes, 3611 on tree, 144628.08 best solution, best possible 140741.81 (21.49 seconds)\n",
      "Cbc0010I After 10400 nodes, 3657 on tree, 144628.08 best solution, best possible 140741.81 (21.65 seconds)\n",
      "Cbc0010I After 10500 nodes, 3704 on tree, 144628.08 best solution, best possible 140741.81 (21.79 seconds)\n",
      "Cbc0010I After 10600 nodes, 3749 on tree, 144628.08 best solution, best possible 140741.81 (21.93 seconds)\n",
      "Cbc0010I After 10700 nodes, 3799 on tree, 144628.08 best solution, best possible 140741.81 (22.09 seconds)\n",
      "Cbc0010I After 10800 nodes, 3845 on tree, 144628.08 best solution, best possible 140741.81 (22.28 seconds)\n",
      "Cbc0010I After 10900 nodes, 3893 on tree, 144628.08 best solution, best possible 140741.81 (22.43 seconds)\n",
      "Cbc0010I After 11000 nodes, 3942 on tree, 144628.08 best solution, best possible 140741.81 (22.58 seconds)\n",
      "Cbc0010I After 11100 nodes, 3988 on tree, 144628.08 best solution, best possible 140741.82 (23.18 seconds)\n",
      "Cbc0010I After 11200 nodes, 4039 on tree, 144628.08 best solution, best possible 140741.82 (23.53 seconds)\n",
      "Cbc0010I After 11300 nodes, 4091 on tree, 144628.08 best solution, best possible 140741.82 (23.91 seconds)\n",
      "Cbc0010I After 11400 nodes, 4139 on tree, 144628.08 best solution, best possible 140741.82 (24.15 seconds)\n",
      "Cbc0010I After 11500 nodes, 4189 on tree, 144628.08 best solution, best possible 140911.53 (24.41 seconds)\n",
      "Cbc0010I After 11600 nodes, 4240 on tree, 144628.08 best solution, best possible 140927.54 (24.67 seconds)\n",
      "Cbc0010I After 11700 nodes, 4292 on tree, 144628.08 best solution, best possible 140933.03 (24.99 seconds)\n",
      "Cbc0010I After 11800 nodes, 4343 on tree, 144628.08 best solution, best possible 141076.62 (25.25 seconds)\n",
      "Cbc0010I After 11900 nodes, 4392 on tree, 144628.08 best solution, best possible 141182.95 (25.48 seconds)\n",
      "Cbc0010I After 12000 nodes, 4440 on tree, 144628.08 best solution, best possible 141226.81 (25.70 seconds)\n",
      "Cbc0010I After 12100 nodes, 4491 on tree, 144628.08 best solution, best possible 141241.05 (25.94 seconds)\n",
      "Cbc0010I After 12200 nodes, 4541 on tree, 144628.08 best solution, best possible 141250.25 (26.18 seconds)\n",
      "Cbc0010I After 12300 nodes, 4590 on tree, 144628.08 best solution, best possible 141264.07 (26.38 seconds)\n",
      "Cbc0010I After 12400 nodes, 4639 on tree, 144628.08 best solution, best possible 141272.97 (26.61 seconds)\n",
      "Cbc0010I After 12500 nodes, 4691 on tree, 144628.08 best solution, best possible 141285.31 (26.82 seconds)\n",
      "Cbc0010I After 12600 nodes, 4741 on tree, 144628.08 best solution, best possible 141293.56 (27.06 seconds)\n",
      "Cbc0010I After 12700 nodes, 4790 on tree, 144628.08 best solution, best possible 141303.71 (27.28 seconds)\n",
      "Cbc0010I After 12800 nodes, 4841 on tree, 144628.08 best solution, best possible 141308.49 (27.48 seconds)\n",
      "Cbc0010I After 12900 nodes, 4891 on tree, 144628.08 best solution, best possible 141312.28 (27.69 seconds)\n",
      "Cbc0010I After 13000 nodes, 4938 on tree, 144628.08 best solution, best possible 141325.7 (27.90 seconds)\n",
      "Cbc0010I After 13100 nodes, 4994 on tree, 144628.08 best solution, best possible 141326.74 (28.10 seconds)\n",
      "Cbc0010I After 13200 nodes, 5045 on tree, 144628.08 best solution, best possible 141326.74 (28.30 seconds)\n",
      "Cbc0010I After 13300 nodes, 5092 on tree, 144628.08 best solution, best possible 141326.74 (28.50 seconds)\n",
      "Cbc0010I After 13400 nodes, 5144 on tree, 144628.08 best solution, best possible 141326.74 (28.70 seconds)\n",
      "Cbc0010I After 13500 nodes, 5192 on tree, 144628.08 best solution, best possible 141326.74 (28.89 seconds)\n",
      "Cbc0010I After 13600 nodes, 5242 on tree, 144628.08 best solution, best possible 141326.74 (29.09 seconds)\n",
      "Cbc0010I After 13700 nodes, 5290 on tree, 144628.08 best solution, best possible 141326.74 (29.26 seconds)\n",
      "Cbc0010I After 13800 nodes, 5339 on tree, 144628.08 best solution, best possible 141326.74 (29.48 seconds)\n",
      "Cbc0010I After 13900 nodes, 5390 on tree, 144628.08 best solution, best possible 141326.74 (29.73 seconds)\n",
      "Cbc0010I After 14000 nodes, 5435 on tree, 144628.08 best solution, best possible 141326.74 (29.99 seconds)\n",
      "Cbc0010I After 14100 nodes, 5486 on tree, 144628.08 best solution, best possible 141330.89 (30.31 seconds)\n",
      "Cbc0010I After 14200 nodes, 5535 on tree, 144628.08 best solution, best possible 141336.26 (30.67 seconds)\n",
      "Cbc0010I After 14300 nodes, 5585 on tree, 144628.08 best solution, best possible 141345.9 (31.04 seconds)\n",
      "Cbc0010I After 14400 nodes, 5637 on tree, 144628.08 best solution, best possible 141348.97 (31.35 seconds)\n",
      "Cbc0010I After 14500 nodes, 5682 on tree, 144628.08 best solution, best possible 141357.56 (31.68 seconds)\n",
      "Cbc0010I After 14600 nodes, 5734 on tree, 144628.08 best solution, best possible 141364.31 (32.00 seconds)\n",
      "Cbc0010I After 14700 nodes, 5786 on tree, 144628.08 best solution, best possible 141364.44 (32.31 seconds)\n",
      "Cbc0010I After 14800 nodes, 5834 on tree, 144628.08 best solution, best possible 141375.59 (32.71 seconds)\n",
      "Cbc0010I After 14900 nodes, 5886 on tree, 144628.08 best solution, best possible 141380.73 (33.10 seconds)\n",
      "Cbc0010I After 15000 nodes, 5934 on tree, 144628.08 best solution, best possible 141384.98 (33.46 seconds)\n",
      "Cbc0012I Integer solution of 144616.3 found by heuristic after 1103937 iterations and 15052 nodes (33.63 seconds)\n",
      "Cbc0010I After 15100 nodes, 5978 on tree, 144616.3 best solution, best possible 141387.32 (33.83 seconds)\n",
      "Cbc0010I After 15200 nodes, 6025 on tree, 144616.3 best solution, best possible 141388.5 (34.14 seconds)\n",
      "Cbc0010I After 15300 nodes, 6075 on tree, 144616.3 best solution, best possible 141388.5 (34.42 seconds)\n",
      "Cbc0010I After 15400 nodes, 6122 on tree, 144616.3 best solution, best possible 141388.5 (34.67 seconds)\n",
      "Cbc0010I After 15500 nodes, 6170 on tree, 144616.3 best solution, best possible 141388.5 (34.96 seconds)\n",
      "Cbc0010I After 15600 nodes, 6220 on tree, 144616.3 best solution, best possible 141388.5 (35.23 seconds)\n",
      "Cbc0010I After 15700 nodes, 6271 on tree, 144616.3 best solution, best possible 141388.5 (35.52 seconds)\n",
      "Cbc0010I After 15800 nodes, 6317 on tree, 144616.3 best solution, best possible 141388.5 (35.79 seconds)\n",
      "Cbc0010I After 15900 nodes, 6363 on tree, 144616.3 best solution, best possible 141388.5 (36.07 seconds)\n",
      "Cbc0010I After 16000 nodes, 6415 on tree, 144616.3 best solution, best possible 141388.5 (36.37 seconds)\n",
      "Cbc0010I After 16100 nodes, 6464 on tree, 144616.3 best solution, best possible 141391.06 (36.73 seconds)\n",
      "Cbc0010I After 16200 nodes, 6513 on tree, 144616.3 best solution, best possible 141397.13 (37.07 seconds)\n",
      "Cbc0010I After 16300 nodes, 6564 on tree, 144616.3 best solution, best possible 141401.56 (37.40 seconds)\n",
      "Cbc0010I After 16400 nodes, 6614 on tree, 144616.3 best solution, best possible 141409.57 (37.75 seconds)\n",
      "Cbc0010I After 16500 nodes, 6664 on tree, 144616.3 best solution, best possible 141412.34 (38.07 seconds)\n",
      "Cbc0010I After 16600 nodes, 6712 on tree, 144616.3 best solution, best possible 141417.01 (38.39 seconds)\n",
      "Cbc0010I After 16700 nodes, 6763 on tree, 144616.3 best solution, best possible 141422.29 (38.70 seconds)\n",
      "Cbc0010I After 16800 nodes, 6813 on tree, 144616.3 best solution, best possible 141427.79 (39.00 seconds)\n",
      "Cbc0010I After 16900 nodes, 6862 on tree, 144616.3 best solution, best possible 141427.79 (39.29 seconds)\n",
      "Cbc0010I After 17000 nodes, 6913 on tree, 144616.3 best solution, best possible 141427.9 (39.61 seconds)\n",
      "Cbc0010I After 17100 nodes, 6964 on tree, 144616.3 best solution, best possible 141427.9 (39.90 seconds)\n",
      "Cbc0010I After 17200 nodes, 7013 on tree, 144616.3 best solution, best possible 141427.9 (40.25 seconds)\n",
      "Cbc0010I After 17300 nodes, 7064 on tree, 144616.3 best solution, best possible 141427.9 (40.72 seconds)\n",
      "Cbc0010I After 17400 nodes, 7111 on tree, 144616.3 best solution, best possible 141427.9 (41.11 seconds)\n",
      "Cbc0010I After 17500 nodes, 7156 on tree, 144616.3 best solution, best possible 141427.9 (41.50 seconds)\n",
      "Cbc0010I After 17600 nodes, 7202 on tree, 144616.3 best solution, best possible 141427.9 (41.88 seconds)\n",
      "Cbc0010I After 17700 nodes, 7256 on tree, 144616.3 best solution, best possible 141427.9 (42.21 seconds)\n",
      "Cbc0010I After 17800 nodes, 7305 on tree, 144616.3 best solution, best possible 141427.9 (42.60 seconds)\n",
      "Cbc0010I After 17900 nodes, 7355 on tree, 144616.3 best solution, best possible 141427.9 (42.95 seconds)\n",
      "Cbc0010I After 18000 nodes, 7402 on tree, 144616.3 best solution, best possible 141427.9 (43.31 seconds)\n",
      "Cbc0010I After 18100 nodes, 7447 on tree, 144616.3 best solution, best possible 141439.09 (43.77 seconds)\n",
      "Cbc0010I After 18200 nodes, 7496 on tree, 144616.3 best solution, best possible 141441.74 (44.14 seconds)\n",
      "Cbc0010I After 18300 nodes, 7546 on tree, 144616.3 best solution, best possible 141447.46 (44.51 seconds)\n",
      "Cbc0010I After 18400 nodes, 7596 on tree, 144616.3 best solution, best possible 141452.81 (44.93 seconds)\n",
      "Cbc0010I After 18500 nodes, 7645 on tree, 144616.3 best solution, best possible 141453.52 (45.29 seconds)\n",
      "Cbc0010I After 18600 nodes, 7695 on tree, 144616.3 best solution, best possible 141458.94 (45.68 seconds)\n",
      "Cbc0010I After 18700 nodes, 7746 on tree, 144616.3 best solution, best possible 141458.94 (46.01 seconds)\n",
      "Cbc0010I After 18800 nodes, 7796 on tree, 144616.3 best solution, best possible 141458.94 (46.36 seconds)\n",
      "Cbc0010I After 18900 nodes, 7846 on tree, 144616.3 best solution, best possible 141458.94 (46.70 seconds)\n",
      "Cbc0010I After 19000 nodes, 7895 on tree, 144616.3 best solution, best possible 141471.49 (47.09 seconds)\n",
      "Cbc0010I After 19100 nodes, 7945 on tree, 144616.3 best solution, best possible 141475.34 (47.49 seconds)\n",
      "Cbc0010I After 19200 nodes, 7996 on tree, 144616.3 best solution, best possible 141477.59 (47.86 seconds)\n",
      "Cbc0010I After 19300 nodes, 8046 on tree, 144616.3 best solution, best possible 141481.94 (48.23 seconds)\n",
      "Cbc0010I After 19400 nodes, 8096 on tree, 144616.3 best solution, best possible 141486.88 (48.63 seconds)\n",
      "Cbc0010I After 19500 nodes, 8147 on tree, 144616.3 best solution, best possible 141489.13 (49.07 seconds)\n",
      "Cbc0010I After 19600 nodes, 8195 on tree, 144616.3 best solution, best possible 141489.13 (49.53 seconds)\n",
      "Cbc0010I After 19700 nodes, 8247 on tree, 144616.3 best solution, best possible 141494.85 (49.97 seconds)\n",
      "Cbc0010I After 19800 nodes, 8294 on tree, 144616.3 best solution, best possible 141500.47 (50.37 seconds)\n",
      "Cbc0010I After 19900 nodes, 8344 on tree, 144616.3 best solution, best possible 141503.7 (50.84 seconds)\n",
      "Cbc0010I After 20000 nodes, 8394 on tree, 144616.3 best solution, best possible 141503.99 (51.32 seconds)\n",
      "Cbc0010I After 20100 nodes, 8443 on tree, 144616.3 best solution, best possible 141508.86 (51.79 seconds)\n",
      "Cbc0010I After 20200 nodes, 8495 on tree, 144616.3 best solution, best possible 141511.63 (52.22 seconds)\n",
      "Cbc0010I After 20300 nodes, 8545 on tree, 144616.3 best solution, best possible 141514.55 (52.65 seconds)\n",
      "Cbc0010I After 20400 nodes, 8595 on tree, 144616.3 best solution, best possible 141519.34 (53.13 seconds)\n",
      "Cbc0010I After 20500 nodes, 8643 on tree, 144616.3 best solution, best possible 141521.61 (53.67 seconds)\n",
      "Cbc0010I After 20600 nodes, 8693 on tree, 144616.3 best solution, best possible 141524.79 (54.12 seconds)\n",
      "Cbc0010I After 20700 nodes, 8745 on tree, 144616.3 best solution, best possible 141527.85 (54.60 seconds)\n",
      "Cbc0010I After 20800 nodes, 8793 on tree, 144616.3 best solution, best possible 141529.27 (55.08 seconds)\n",
      "Cbc0010I After 20900 nodes, 8844 on tree, 144616.3 best solution, best possible 141533.06 (55.58 seconds)\n",
      "Cbc0010I After 21000 nodes, 8896 on tree, 144616.3 best solution, best possible 141534.85 (56.03 seconds)\n",
      "Cbc0010I After 21100 nodes, 8944 on tree, 144616.3 best solution, best possible 141536.95 (56.51 seconds)\n",
      "Cbc0010I After 21200 nodes, 8992 on tree, 144616.3 best solution, best possible 141536.95 (56.96 seconds)\n",
      "Cbc0010I After 21300 nodes, 9040 on tree, 144616.3 best solution, best possible 141536.95 (57.38 seconds)\n",
      "Cbc0010I After 21400 nodes, 9090 on tree, 144616.3 best solution, best possible 141536.95 (57.83 seconds)\n",
      "Cbc0010I After 21500 nodes, 9141 on tree, 144616.3 best solution, best possible 141536.95 (58.23 seconds)\n",
      "Cbc0010I After 21600 nodes, 9182 on tree, 144616.3 best solution, best possible 141536.95 (58.61 seconds)\n",
      "Cbc0010I After 21700 nodes, 9229 on tree, 144616.3 best solution, best possible 141536.95 (59.03 seconds)\n",
      "Cbc0010I After 21800 nodes, 9277 on tree, 144616.3 best solution, best possible 141536.95 (59.48 seconds)\n",
      "Cbc0030I Thread 0 used 1350 times,  waiting to start 0.69367886,  8447 locks, 0.82930851 locked, 0.52722883 waiting for locks\n",
      "Cbc0030I Thread 1 used 1389 times,  waiting to start 0.77620363,  8647 locks, 0.8996973 locked, 0.58157301 waiting for locks\n",
      "Cbc0030I Thread 2 used 1374 times,  waiting to start 0.94891644,  8755 locks, 0.84790182 locked, 0.59564757 waiting for locks\n",
      "Cbc0030I Thread 3 used 1390 times,  waiting to start 1.0239425,  8753 locks, 0.92530632 locked, 0.65528202 waiting for locks\n",
      "Cbc0030I Thread 4 used 1360 times,  waiting to start 1.0485826,  8554 locks, 0.86274648 locked, 0.55027127 waiting for locks\n",
      "Cbc0030I Thread 5 used 1363 times,  waiting to start 1.210681,  8483 locks, 0.78832579 locked, 0.5242877 waiting for locks\n",
      "Cbc0030I Thread 6 used 1367 times,  waiting to start 1.3118963,  8640 locks, 0.83939981 locked, 0.53236747 waiting for locks\n",
      "Cbc0030I Thread 7 used 1410 times,  waiting to start 1.3794265,  8842 locks, 0.84743786 locked, 0.54581261 waiting for locks\n",
      "Cbc0030I Thread 8 used 1395 times,  waiting to start 1.5532076,  8661 locks, 0.9466424 locked, 0.62107754 waiting for locks\n",
      "Cbc0030I Thread 9 used 1445 times,  waiting to start 1.565542,  8996 locks, 0.96206212 locked, 0.63119268 waiting for locks\n",
      "Cbc0030I Thread 10 used 1360 times,  waiting to start 1.5339093,  8658 locks, 0.93099117 locked, 0.59849763 waiting for locks\n",
      "Cbc0030I Thread 11 used 1257 times,  waiting to start 1.5245924,  7945 locks, 0.81003928 locked, 0.53375912 waiting for locks\n",
      "Cbc0030I Thread 12 used 1257 times,  waiting to start 1.4772871,  8038 locks, 0.84915352 locked, 0.54937077 waiting for locks\n",
      "Cbc0030I Thread 13 used 1399 times,  waiting to start 1.5328739,  8854 locks, 0.92762637 locked, 0.59726763 waiting for locks\n",
      "Cbc0030I Thread 14 used 1363 times,  waiting to start 1.8275049,  8609 locks, 0.81842995 locked, 0.61381841 waiting for locks\n",
      "Cbc0030I Thread 15 used 1434 times,  waiting to start 1.9172361,  9025 locks, 0.89661479 locked, 0.57051826 waiting for locks\n",
      "Cbc0030I Main thread 50.99941 waiting for threads,  44080 locks, 0.071667194 locked, 1.5305483 waiting for locks\n",
      "Cbc0020I Exiting on maximum time\n",
      "Cbc0005I Partial search - best objective 144616.3 (best possible 141536.95), took 1726059 iterations and 21898 nodes (60.59 seconds)\n",
      "Cbc0032I Strong branching done 45424 times (1396348 iterations), fathomed 253 nodes and fixed 1421 variables\n",
      "Cbc0035I Maximum depth 70, 1014314 variables fixed on reduced cost\n",
      "Cuts at root node changed objective from 139019 to 140673\n",
      "Gomory was tried 9077 times and created 5457 cuts of which 0 were active after adding rounds of cuts (45.061 seconds)\n",
      "MixedIntegerRounding2 was tried 8320 times and created 2576 cuts of which 0 were active after adding rounds of cuts (27.296 seconds)\n",
      "FlowCover was tried 9077 times and created 30109 cuts of which 0 were active after adding rounds of cuts (20.563 seconds)\n",
      "\n",
      "Result - Stopped on time limit\n",
      "\n",
      "Objective value:                144616.29813700\n",
      "Lower bound:                    141536.948\n",
      "Gap:                            0.02\n",
      "Enumerated nodes:               21898\n",
      "Total iterations:               1726059\n",
      "Time (CPU seconds):             60.62\n",
      "Time (Wallclock seconds):       60.62\n",
      "\n",
      "Total time (CPU seconds):       60.67   (Wallclock seconds):       60.67\n",
      "\n",
      "WARNING: Loading a SolverResults object with an 'aborted' status, but\n",
      "containing a solution\n",
      "objective: 144616.298137, bound: 141536.950000, gap: 0.0213, termination: maxTimeLimit\n"
     ]
    },
    {
     "data": {
      "text/plain": [
       "(144616.298137, 141536.95, 0.02129323026981944, 'maxTimeLimit')"
      ]
     },
     "execution_count": 11,
     "metadata": {},
     "output_type": "execute_result"
    }
   ],
   "source": [
    "solver.solve(timelimit=60, mipgap=0.01, verbose=True)"
   ]
  },
  {
   "cell_type": "code",
   "execution_count": 12,
   "id": "d899f155-1386-4613-a529-c97bf88bdd39",
   "metadata": {
    "deletable": true,
    "editable": true,
    "execution": {
     "iopub.execute_input": "2025-04-11T11:05:55.617958Z",
     "iopub.status.busy": "2025-04-11T11:05:55.617958Z",
     "iopub.status.idle": "2025-04-11T11:05:55.637866Z",
     "shell.execute_reply": "2025-04-11T11:05:55.637866Z",
     "shell.execute_reply.started": "2025-04-11T11:05:55.617958Z"
    },
    "frozen": false
   },
   "outputs": [],
   "source": [
    "G = solver.get_solution()"
   ]
  },
  {
   "cell_type": "code",
   "execution_count": 13,
   "id": "b5b230ce-2e0c-4c4c-a10d-3dfea5ad52b8",
   "metadata": {
    "deletable": true,
    "editable": true,
    "execution": {
     "iopub.execute_input": "2025-04-11T11:05:56.016346Z",
     "iopub.status.busy": "2025-04-11T11:05:56.016346Z",
     "iopub.status.idle": "2025-04-11T11:05:56.023198Z",
     "shell.execute_reply": "2025-04-11T11:05:56.023198Z",
     "shell.execute_reply.started": "2025-04-11T11:05:56.016346Z"
    },
    "frozen": false
   },
   "outputs": [
    {
     "data": {
      "image/svg+xml": [
       "<svg xmlns=\"http://www.w3.org/2000/svg\" viewBox=\"0 0 1920 1080\"><defs><filter x=\"-5%\" y=\"-5%\" id=\"bg_textbox\" width=\"110%\" height=\"110%\"><feFlood flood-opacity=\"0.7\" flood-color=\"#111\" result=\"bg\"/><feMerge><feMergeNode in=\"bg\"/><feMergeNode in=\"SourceGraphic\"/></feMerge></filter><circle stroke=\"none\" stroke-width=\"2\" id=\"wtg\" r=\"12\"/><rect stroke=\"none\" stroke-width=\"2\" id=\"oss\" width=\"21\" height=\"21\" fill=\"lawngreen\"/></defs><g id=\"moray\"><path stroke=\"silver\" stroke-dasharray=\"15 7\" stroke-width=\"2\" id=\"border\" d=\"M1471 544 1103 863 895 1043 421 1050 30 30 79 90 117 127 165 165 217 198 277 226 325 243 400 260 441 266 498 267 559 263 645 245 690 229 738 208 789 180 838 145 895 205 1022 314 1149 406 1271 472 1347 505z\" fill-rule=\"evenodd\" fill=\"#111\"/><g stroke=\"crimson\" stroke-width=\"4\" id=\"edges_unspecified\"><line x1=\"200\" y1=\"239\" x2=\"256\" y2=\"317\"/><line x1=\"143\" y1=\"239\" x2=\"200\" y2=\"239\"/><line x1=\"256\" y1=\"317\" x2=\"255\" y2=\"395\"/><line x1=\"368\" y1=\"474\" x2=\"255\" y2=\"395\"/><line x1=\"1047\" y1=\"864\" x2=\"1103\" y2=\"863\"/><line x1=\"1105\" y1=\"786\" x2=\"1103\" y2=\"863\"/><line x1=\"427\" y1=\"317\" x2=\"426\" y2=\"396\"/><line x1=\"427\" y1=\"317\" x2=\"484\" y2=\"317\"/><line x1=\"369\" y1=\"395\" x2=\"426\" y2=\"396\"/><line x1=\"309\" y1=\"708\" x2=\"365\" y2=\"708\"/><line x1=\"365\" y1=\"708\" x2=\"422\" y2=\"708\"/><line x1=\"309\" y1=\"630\" x2=\"366\" y2=\"630\"/><line x1=\"366\" y1=\"630\" x2=\"423\" y2=\"630\"/><line x1=\"422\" y1=\"708\" x2=\"479\" y2=\"708\"/><line x1=\"711\" y1=\"317\" x2=\"768\" y2=\"317\"/><line x1=\"768\" y1=\"317\" x2=\"825\" y2=\"317\"/><line x1=\"537\" y1=\"630\" x2=\"594\" y2=\"630\"/><line x1=\"594\" y1=\"630\" x2=\"651\" y2=\"630\"/><line x1=\"651\" y1=\"630\" x2=\"765\" y2=\"630\"/><line x1=\"651\" y1=\"630\" x2=\"650\" y2=\"708\"/><line x1=\"592\" y1=\"786\" x2=\"650\" y2=\"708\"/><line x1=\"421\" y1=\"864\" x2=\"478\" y2=\"864\"/><line x1=\"422\" y1=\"786\" x2=\"421\" y2=\"864\"/><line x1=\"478\" y1=\"864\" x2=\"535\" y2=\"864\"/><line x1=\"365\" y1=\"786\" x2=\"422\" y2=\"786\"/><line x1=\"592\" y1=\"786\" x2=\"535\" y2=\"864\"/><line x1=\"535\" y1=\"864\" x2=\"534\" y2=\"942\"/><line x1=\"313\" y1=\"317\" x2=\"312\" y2=\"395\"/><line x1=\"313\" y1=\"240\" x2=\"313\" y2=\"317\"/><line x1=\"368\" y1=\"474\" x2=\"312\" y2=\"395\"/><line x1=\"257\" y1=\"239\" x2=\"313\" y2=\"240\"/><line x1=\"254\" y1=\"473\" x2=\"311\" y2=\"474\"/><line x1=\"254\" y1=\"473\" x2=\"253\" y2=\"552\"/><line x1=\"368\" y1=\"474\" x2=\"311\" y2=\"474\"/><line x1=\"479\" y1=\"708\" x2=\"536\" y2=\"708\"/><line x1=\"536\" y1=\"708\" x2=\"593\" y2=\"708\"/><line x1=\"769\" y1=\"239\" x2=\"826\" y2=\"239\"/><line x1=\"826\" y1=\"239\" x2=\"825\" y2=\"317\"/><line x1=\"143\" y1=\"239\" x2=\"142\" y2=\"317\"/><line x1=\"144\" y1=\"161\" x2=\"143\" y2=\"239\"/><line x1=\"87\" y1=\"161\" x2=\"144\" y2=\"161\"/><line x1=\"1221\" y1=\"552\" x2=\"1220\" y2=\"630\"/><line x1=\"1163\" y1=\"630\" x2=\"1220\" y2=\"630\"/><line x1=\"1220\" y1=\"630\" x2=\"1277\" y2=\"630\"/><line x1=\"882\" y1=\"317\" x2=\"881\" y2=\"396\"/><line x1=\"882\" y1=\"317\" x2=\"939\" y2=\"317\"/><line x1=\"880\" y1=\"552\" x2=\"881\" y2=\"396\"/><line x1=\"881\" y1=\"396\" x2=\"938\" y2=\"395\"/><line x1=\"592\" y1=\"786\" x2=\"593\" y2=\"708\"/><line x1=\"423\" y1=\"630\" x2=\"480\" y2=\"630\"/><line x1=\"825\" y1=\"317\" x2=\"824\" y2=\"396\"/><line x1=\"824\" y1=\"396\" x2=\"823\" y2=\"474\"/><line x1=\"481\" y1=\"552\" x2=\"480\" y2=\"630\"/><line x1=\"880\" y1=\"552\" x2=\"823\" y2=\"474\"/><line x1=\"764\" y1=\"708\" x2=\"821\" y2=\"708\"/><line x1=\"765\" y1=\"630\" x2=\"764\" y2=\"708\"/><line x1=\"935\" y1=\"708\" x2=\"1048\" y2=\"786\"/><line x1=\"879\" y1=\"630\" x2=\"935\" y2=\"708\"/><line x1=\"880\" y1=\"552\" x2=\"879\" y2=\"630\"/><line x1=\"1048\" y1=\"786\" x2=\"1105\" y2=\"786\"/><line x1=\"1105\" y1=\"786\" x2=\"1162\" y2=\"786\"/><line x1=\"654\" y1=\"395\" x2=\"710\" y2=\"395\"/><line x1=\"710\" y1=\"395\" x2=\"767\" y2=\"395\"/><line x1=\"597\" y1=\"395\" x2=\"654\" y2=\"395\"/><line x1=\"484\" y1=\"317\" x2=\"540\" y2=\"317\"/><line x1=\"368\" y1=\"474\" x2=\"369\" y2=\"395\"/><line x1=\"591\" y1=\"864\" x2=\"591\" y2=\"942\"/><line x1=\"591\" y1=\"942\" x2=\"648\" y2=\"942\"/><line x1=\"592\" y1=\"786\" x2=\"591\" y2=\"864\"/><line x1=\"648\" y1=\"942\" x2=\"647\" y2=\"1020\"/><line x1=\"647\" y1=\"1020\" x2=\"704\" y2=\"1020\"/><line x1=\"704\" y1=\"1020\" x2=\"761\" y2=\"1020\"/><line x1=\"1219\" y1=\"708\" x2=\"1276\" y2=\"708\"/><line x1=\"1163\" y1=\"708\" x2=\"1219\" y2=\"708\"/><line x1=\"1106\" y1=\"708\" x2=\"1163\" y2=\"708\"/><line x1=\"938\" y1=\"395\" x2=\"995\" y2=\"396\"/><line x1=\"995\" y1=\"396\" x2=\"1051\" y2=\"474\"/><line x1=\"1051\" y1=\"474\" x2=\"1108\" y2=\"474\"/><line x1=\"597\" y1=\"317\" x2=\"654\" y2=\"318\"/><line x1=\"540\" y1=\"317\" x2=\"597\" y2=\"317\"/><line x1=\"933\" y1=\"864\" x2=\"990\" y2=\"864\"/><line x1=\"819\" y1=\"864\" x2=\"933\" y2=\"864\"/><line x1=\"933\" y1=\"864\" x2=\"932\" y2=\"942\"/><line x1=\"932\" y1=\"942\" x2=\"992\" y2=\"950\"/><line x1=\"992\" y1=\"708\" x2=\"1049\" y2=\"708\"/><line x1=\"1049\" y1=\"708\" x2=\"1106\" y2=\"708\"/><line x1=\"936\" y1=\"630\" x2=\"992\" y2=\"708\"/><line x1=\"534\" y1=\"942\" x2=\"533\" y2=\"1020\"/><line x1=\"705\" y1=\"864\" x2=\"762\" y2=\"864\"/><line x1=\"762\" y1=\"864\" x2=\"819\" y2=\"864\"/><line x1=\"592\" y1=\"786\" x2=\"705\" y2=\"864\"/><line x1=\"540\" y1=\"395\" x2=\"597\" y2=\"395\"/><line x1=\"1106\" y1=\"630\" x2=\"1163\" y2=\"630\"/><line x1=\"1049\" y1=\"630\" x2=\"1106\" y2=\"630\"/><line x1=\"993\" y1=\"630\" x2=\"1049\" y2=\"630\"/><line x1=\"880\" y1=\"552\" x2=\"993\" y2=\"630\"/><line x1=\"368\" y1=\"474\" x2=\"481\" y2=\"552\"/><line x1=\"483\" y1=\"395\" x2=\"540\" y2=\"395\"/><line x1=\"880\" y1=\"552\" x2=\"936\" y2=\"630\"/><line x1=\"368\" y1=\"474\" x2=\"483\" y2=\"395\"/></g><g id=\"WTGgrp\"><g fill=\"#8c564b\"><use href=\"#wtg\" x=\"200\" y=\"239\"/><use href=\"#wtg\" x=\"256\" y=\"317\"/><use href=\"#wtg\" x=\"255\" y=\"395\"/><use href=\"#wtg\" x=\"143\" y=\"239\"/><use href=\"#wtg\" x=\"144\" y=\"161\"/><use href=\"#wtg\" x=\"87\" y=\"161\"/><use href=\"#wtg\" x=\"142\" y=\"317\"/></g><g fill=\"#ff7f0e\"><use href=\"#wtg\" x=\"1047\" y=\"864\"/><use href=\"#wtg\" x=\"1103\" y=\"863\"/><use href=\"#wtg\" x=\"935\" y=\"708\"/><use href=\"#wtg\" x=\"879\" y=\"630\"/><use href=\"#wtg\" x=\"1048\" y=\"786\"/><use href=\"#wtg\" x=\"1105\" y=\"786\"/><use href=\"#wtg\" x=\"1162\" y=\"786\"/></g><g fill=\"#e377c2\"><use href=\"#wtg\" x=\"427\" y=\"317\"/><use href=\"#wtg\" x=\"426\" y=\"396\"/><use href=\"#wtg\" x=\"484\" y=\"317\"/><use href=\"#wtg\" x=\"369\" y=\"395\"/><use href=\"#wtg\" x=\"654\" y=\"318\"/><use href=\"#wtg\" x=\"597\" y=\"317\"/><use href=\"#wtg\" x=\"540\" y=\"317\"/></g><g fill=\"#98df8a\"><use href=\"#wtg\" x=\"309\" y=\"708\"/><use href=\"#wtg\" x=\"365\" y=\"708\"/><use href=\"#wtg\" x=\"422\" y=\"708\"/><use href=\"#wtg\" x=\"479\" y=\"708\"/><use href=\"#wtg\" x=\"536\" y=\"708\"/><use href=\"#wtg\" x=\"593\" y=\"708\"/></g><g fill=\"#c7c7c7\"><use href=\"#wtg\" x=\"309\" y=\"630\"/><use href=\"#wtg\" x=\"366\" y=\"630\"/><use href=\"#wtg\" x=\"423\" y=\"630\"/><use href=\"#wtg\" x=\"480\" y=\"630\"/><use href=\"#wtg\" x=\"481\" y=\"552\"/></g><g fill=\"#aec7e8\"><use href=\"#wtg\" x=\"711\" y=\"317\"/><use href=\"#wtg\" x=\"768\" y=\"317\"/><use href=\"#wtg\" x=\"769\" y=\"239\"/><use href=\"#wtg\" x=\"826\" y=\"239\"/><use href=\"#wtg\" x=\"825\" y=\"317\"/><use href=\"#wtg\" x=\"824\" y=\"396\"/><use href=\"#wtg\" x=\"823\" y=\"474\"/></g><g fill=\"#d62728\"><use href=\"#wtg\" x=\"537\" y=\"630\"/><use href=\"#wtg\" x=\"594\" y=\"630\"/><use href=\"#wtg\" x=\"651\" y=\"630\"/><use href=\"#wtg\" x=\"650\" y=\"708\"/><use href=\"#wtg\" x=\"821\" y=\"708\"/><use href=\"#wtg\" x=\"764\" y=\"708\"/><use href=\"#wtg\" x=\"765\" y=\"630\"/></g><g fill=\"#ff9896\"><use href=\"#wtg\" x=\"421\" y=\"864\"/><use href=\"#wtg\" x=\"478\" y=\"864\"/><use href=\"#wtg\" x=\"422\" y=\"786\"/><use href=\"#wtg\" x=\"535\" y=\"864\"/><use href=\"#wtg\" x=\"365\" y=\"786\"/><use href=\"#wtg\" x=\"534\" y=\"942\"/><use href=\"#wtg\" x=\"533\" y=\"1020\"/></g><g fill=\"#c49c94\"><use href=\"#wtg\" x=\"313\" y=\"317\"/><use href=\"#wtg\" x=\"312\" y=\"395\"/><use href=\"#wtg\" x=\"313\" y=\"240\"/><use href=\"#wtg\" x=\"257\" y=\"239\"/></g><g fill=\"#7f7f7f\"><use href=\"#wtg\" x=\"254\" y=\"473\"/><use href=\"#wtg\" x=\"311\" y=\"474\"/><use href=\"#wtg\" x=\"253\" y=\"552\"/></g><g fill=\"#2ca02c\"><use href=\"#wtg\" x=\"1221\" y=\"552\"/><use href=\"#wtg\" x=\"1220\" y=\"630\"/><use href=\"#wtg\" x=\"1163\" y=\"630\"/><use href=\"#wtg\" x=\"1106\" y=\"630\"/><use href=\"#wtg\" x=\"1049\" y=\"630\"/><use href=\"#wtg\" x=\"993\" y=\"630\"/><use href=\"#wtg\" x=\"1277\" y=\"630\"/></g><g fill=\"#1f77b4\"><use href=\"#wtg\" x=\"882\" y=\"317\"/><use href=\"#wtg\" x=\"881\" y=\"396\"/><use href=\"#wtg\" x=\"938\" y=\"395\"/><use href=\"#wtg\" x=\"995\" y=\"396\"/><use href=\"#wtg\" x=\"1051\" y=\"474\"/><use href=\"#wtg\" x=\"1108\" y=\"474\"/><use href=\"#wtg\" x=\"939\" y=\"317\"/></g><g fill=\"#f7b6d2\"><use href=\"#wtg\" x=\"710\" y=\"395\"/><use href=\"#wtg\" x=\"654\" y=\"395\"/><use href=\"#wtg\" x=\"767\" y=\"395\"/><use href=\"#wtg\" x=\"597\" y=\"395\"/><use href=\"#wtg\" x=\"540\" y=\"395\"/><use href=\"#wtg\" x=\"483\" y=\"395\"/></g><g fill=\"#9467bd\"><use href=\"#wtg\" x=\"591\" y=\"942\"/><use href=\"#wtg\" x=\"591\" y=\"864\"/><use href=\"#wtg\" x=\"648\" y=\"942\"/><use href=\"#wtg\" x=\"647\" y=\"1020\"/><use href=\"#wtg\" x=\"704\" y=\"1020\"/><use href=\"#wtg\" x=\"761\" y=\"1020\"/></g><g fill=\"#ffbb78\"><use href=\"#wtg\" x=\"1276\" y=\"708\"/><use href=\"#wtg\" x=\"1219\" y=\"708\"/><use href=\"#wtg\" x=\"1163\" y=\"708\"/><use href=\"#wtg\" x=\"1049\" y=\"708\"/><use href=\"#wtg\" x=\"992\" y=\"708\"/><use href=\"#wtg\" x=\"1106\" y=\"708\"/><use href=\"#wtg\" x=\"936\" y=\"630\"/></g><g fill=\"#c5b0d5\"><use href=\"#wtg\" x=\"990\" y=\"864\"/><use href=\"#wtg\" x=\"933\" y=\"864\"/><use href=\"#wtg\" x=\"992\" y=\"950\"/><use href=\"#wtg\" x=\"932\" y=\"942\"/><use href=\"#wtg\" x=\"762\" y=\"864\"/><use href=\"#wtg\" x=\"705\" y=\"864\"/><use href=\"#wtg\" x=\"819\" y=\"864\"/></g></g><g id=\"OSSgrp\"><use href=\"#oss\" x=\"869.5\" y=\"541.5\"/><use href=\"#oss\" x=\"581.5\" y=\"775.5\"/><use href=\"#oss\" x=\"357.5\" y=\"463.5\"/></g></g><text filter=\"url(#bg_textbox)\" text-anchor=\"end\" font-family=\"sans-serif\" font-size=\"40\" fill=\"white\" x=\"1471\" y=\"1050\"><tspan x=\"1471\" dy=\"-0.0em\">&#931;&#955; = 144616.0 m</tspan><tspan x=\"1471\" dy=\"-1.3em\">(+1) &#945;: 6, &#946;: 5, &#947;: 5</tspan><tspan x=\"1471\" dy=\"-1.3em\">&#954; = 7, T = 100</tspan></text></svg>"
      ],
      "text/plain": [
       "<optiwindnet.svg.SvgRepr at 0x2bd924332c0>"
      ]
     },
     "execution_count": 13,
     "metadata": {},
     "output_type": "execute_result"
    }
   ],
   "source": [
    "svgplot(G)"
   ]
  },
  {
   "cell_type": "markdown",
   "id": "abc280bb-75ea-4306-a03c-1eea914db7d4",
   "metadata": {
    "editable": true,
    "frozen": false
   },
   "source": [
    "## HiGHS"
   ]
  },
  {
   "cell_type": "code",
   "execution_count": 14,
   "id": "4289f191-15cf-4dae-9120-949c6c0bb183",
   "metadata": {
    "editable": true,
    "execution": {
     "iopub.execute_input": "2025-04-11T11:07:48.222341Z",
     "iopub.status.busy": "2025-04-11T11:07:48.222341Z",
     "iopub.status.idle": "2025-04-11T11:07:48.229156Z",
     "shell.execute_reply": "2025-04-11T11:07:48.229156Z",
     "shell.execute_reply.started": "2025-04-11T11:07:48.222341Z"
    },
    "frozen": false
   },
   "outputs": [],
   "source": [
    "solver = solver_factory('highs')"
   ]
  },
  {
   "cell_type": "code",
   "execution_count": 15,
   "id": "020c25e2-9afe-475a-8043-9eff33e162a4",
   "metadata": {
    "editable": true,
    "execution": {
     "iopub.execute_input": "2025-04-11T11:07:49.161965Z",
     "iopub.status.busy": "2025-04-11T11:07:49.161965Z",
     "iopub.status.idle": "2025-04-11T11:07:49.213823Z",
     "shell.execute_reply": "2025-04-11T11:07:49.213823Z",
     "shell.execute_reply.started": "2025-04-11T11:07:49.161965Z"
    },
    "frozen": false
   },
   "outputs": [],
   "source": [
    "solver.set_problem(\n",
    "    P, A, capacity, warmstart=Sʹ,\n",
    "    gateXings_constraint=False,\n",
    "    branching=True,\n",
    "    gates_limit=False,\n",
    ")"
   ]
  },
  {
   "cell_type": "code",
   "execution_count": 16,
   "id": "1d7ce1d0-ec68-4c20-8057-1c3df71c2510",
   "metadata": {
    "editable": true,
    "execution": {
     "iopub.execute_input": "2025-04-11T11:07:51.489685Z",
     "iopub.status.busy": "2025-04-11T11:07:51.488683Z",
     "iopub.status.idle": "2025-04-11T11:08:51.790091Z",
     "shell.execute_reply": "2025-04-11T11:08:51.790091Z",
     "shell.execute_reply.started": "2025-04-11T11:07:51.489685Z"
    },
    "frozen": false
   },
   "outputs": [
    {
     "name": "stdout",
     "output_type": "stream",
     "text": [
      "Running HiGHS 1.10.0 (git hash: n/a): Copyright (c) 2025 HiGHS under MIT licence terms\n",
      "RUN!\n",
      "MIP  has 3511 rows; 2428 cols; 13256 nonzeros; 2428 integer variables (1214 binary)\n",
      "Coefficient ranges:\n",
      "  Matrix [1e+00, 7e+00]\n",
      "  Cost   [1e+03, 2e+04]\n",
      "  Bound  [1e+00, 7e+00]\n",
      "  RHS    [1e+00, 1e+02]\n",
      "Assessing feasibility of MIP using primal feasibility and integrality tolerance of       1e-06\n",
      "Solution has               num          max          sum\n",
      "Col     infeasibilities      0            0            0\n",
      "Integer infeasibilities      0            0            0\n",
      "Row     infeasibilities      0            0            0\n",
      "Row     residuals            0            0            0\n",
      "Presolving model\n",
      "3511 rows, 2428 cols, 13256 nonzeros  0s\n",
      "3165 rows, 2424 cols, 11445 nonzeros  0s\n",
      "\n",
      "MIP start solution is feasible, objective value is 150853.103342\n",
      "\n",
      "Solving MIP model with:\n",
      "   3165 rows\n",
      "   2424 cols (1210 binary, 1214 integer, 0 implied int., 0 continuous)\n",
      "   11445 nonzeros\n",
      "\n",
      "Src: B => Branching; C => Central rounding; F => Feasibility pump; H => Heuristic; L => Sub-MIP;\n",
      "     P => Empty MIP; R => Randomized rounding; S => Solve LP; T => Evaluate node; U => Unbounded;\n",
      "     z => Trivial zero; l => Trivial lower; u => Trivial upper; p => Trivial point; X => User solution\n",
      "\n",
      "        Nodes      |    B&B Tree     |            Objective Bounds              |  Dynamic Constraints |       Work      \n",
      "Src  Proc. InQueue |  Leaves   Expl. | BestBound       BestSol              Gap |   Cuts   InLp Confl. | LpIters     Time\n",
      "\n",
      "         0       0         0   0.00%   4514.712767     150853.103342     97.01%        0      0      0         0     0.1s\n",
      "         0       0         0   0.00%   139019.15876    150853.103342      7.84%        0      0      4      1451     0.1s\n",
      " L       0       0         0   0.00%   141535.452302   148696.943788      4.82%     4124    119    116      3608     3.7s\n",
      "         0       0         0   0.00%   141541.435521   148696.943788      4.81%     4161     63    339     18611    10.3s\n",
      "\n",
      "7.8% inactive integer columns, restarting\n",
      "Model after restart has 2971 rows, 2231 cols (1112 bin., 1119 int., 0 impl., 0 cont.), and 10709 nonzeros\n",
      "\n",
      "         0       0         0   0.00%   141541.435521   148696.943788      4.81%       63      0      0     18611    10.4s\n",
      "         0       0         0   0.00%   141541.435521   148696.943788      4.81%       63     61      1     19236    10.5s\n",
      "        12      11         0   0.05%   141609.822557   148696.943788      4.77%      546     57    301     63599    20.5s\n",
      "        19      16         0   0.83%   141635.598049   148696.943788      4.75%      563     62    398    108006    27.3s\n",
      " L      50       4         0  78.12%   141652.156426   143973.837122      1.61%      778     71    992    132344    33.4s\n",
      "       147      48         1  86.45%   141818.266314   143973.837122      1.50%      874     87   3355    157946    38.5s\n",
      "       229      74         1  86.48%   141833.29466    143973.837122      1.49%      835     76   5220    181004    43.6s\n",
      "       294      85         3  86.48%   141934.796584   143973.837122      1.42%      663     80   6752    204427    48.7s\n",
      "       366     107         5  86.51%   141967.433447   143973.837122      1.39%      738     99   8874    229057    53.8s\n",
      "       432     121         6  86.51%   141993.350339   143973.837122      1.38%      606     97   9721    249881    58.9s\n",
      "       446     122         7  86.51%   141993.535047   143973.837122      1.38%      658    107   9954    254337    60.0s\n",
      "\n",
      "Solving report\n",
      "  Status            Time limit reached\n",
      "  Primal bound      143973.837122\n",
      "  Dual bound        141993.535047\n",
      "  Gap               1.38% (tolerance: 1%)\n",
      "  P-D integral      2.08014020078\n",
      "  Solution status   feasible\n",
      "                    143973.837122 (objective)\n",
      "                    0 (bound viol.)\n",
      "                    2.31775533611e-13 (int. viol.)\n",
      "                    0 (row viol.)\n",
      "  Timing            60.00 (total)\n",
      "                    0.00 (presolve)\n",
      "                    0.00 (solve)\n",
      "                    0.00 (postsolve)\n",
      "  Max sub-MIP depth 5\n",
      "  Nodes             446\n",
      "  Repair LPs        0 (0 feasible; 0 iterations)\n",
      "  LP iterations     254337 (total)\n",
      "                    145433 (strong br.)\n",
      "                    17983 (separation)\n",
      "                    17891 (heuristics)\n",
      "WARNING: Loading a feasible but suboptimal solution. Please set\n",
      "load_solution=False and check results.termination_condition and\n",
      "results.found_feasible_solution() before loading a solution.\n",
      "objective: 143973.837122, bound: 141993.535047, gap: 0.0138, termination: maxTimeLimit\n"
     ]
    },
    {
     "data": {
      "text/plain": [
       "(143973.83712234336, 141993.53504697292, 0.013754596772243222, 'maxTimeLimit')"
      ]
     },
     "execution_count": 16,
     "metadata": {},
     "output_type": "execute_result"
    }
   ],
   "source": [
    "solver.solve(timelimit=60, mipgap=0.01, verbose=True)"
   ]
  },
  {
   "cell_type": "code",
   "execution_count": 17,
   "id": "935afe7a-288a-49b8-9e84-3bf8919210b4",
   "metadata": {
    "editable": true,
    "execution": {
     "iopub.execute_input": "2025-04-11T11:08:57.872796Z",
     "iopub.status.busy": "2025-04-11T11:08:57.872796Z",
     "iopub.status.idle": "2025-04-11T11:08:57.926313Z",
     "shell.execute_reply": "2025-04-11T11:08:57.925910Z",
     "shell.execute_reply.started": "2025-04-11T11:08:57.872796Z"
    },
    "frozen": false
   },
   "outputs": [],
   "source": [
    "G = solver.get_solution()"
   ]
  },
  {
   "cell_type": "code",
   "execution_count": 18,
   "id": "0114df50-7a84-4317-b4fa-3b27b187b785",
   "metadata": {
    "editable": true,
    "execution": {
     "iopub.execute_input": "2025-04-11T11:09:00.714733Z",
     "iopub.status.busy": "2025-04-11T11:09:00.714733Z",
     "iopub.status.idle": "2025-04-11T11:09:00.726688Z",
     "shell.execute_reply": "2025-04-11T11:09:00.726688Z",
     "shell.execute_reply.started": "2025-04-11T11:09:00.714733Z"
    },
    "frozen": false
   },
   "outputs": [
    {
     "data": {
      "image/svg+xml": [
       "<svg xmlns=\"http://www.w3.org/2000/svg\" viewBox=\"0 0 1920 1080\"><defs><filter x=\"-5%\" y=\"-5%\" id=\"bg_textbox\" width=\"110%\" height=\"110%\"><feFlood flood-opacity=\"0.7\" flood-color=\"#111\" result=\"bg\"/><feMerge><feMergeNode in=\"bg\"/><feMergeNode in=\"SourceGraphic\"/></feMerge></filter><circle stroke=\"none\" stroke-width=\"2\" id=\"wtg\" r=\"12\"/><rect stroke=\"none\" stroke-width=\"2\" id=\"oss\" width=\"21\" height=\"21\" fill=\"lawngreen\"/><circle stroke=\"orange\" stroke-opacity=\"0.3\" stroke-width=\"4\" id=\"dt\" r=\"23\" fill=\"none\"/></defs><g id=\"moray\"><path stroke=\"silver\" stroke-dasharray=\"15 7\" stroke-width=\"2\" id=\"border\" d=\"M1471 544 1103 863 895 1043 421 1050 30 30 79 90 117 127 165 165 217 198 277 226 325 243 400 260 441 266 498 267 559 263 645 245 690 229 738 208 789 180 838 145 895 205 1022 314 1149 406 1271 472 1347 505z\" fill-rule=\"evenodd\" fill=\"#111\"/><g stroke=\"crimson\" stroke-width=\"4\" id=\"edges_unspecified\"><line x1=\"142\" y1=\"317\" x2=\"256\" y2=\"317\"/><line x1=\"256\" y1=\"317\" x2=\"255\" y2=\"395\"/><line x1=\"255\" y1=\"395\" x2=\"254\" y2=\"473\"/><line x1=\"1047\" y1=\"864\" x2=\"1103\" y2=\"863\"/><line x1=\"1105\" y1=\"786\" x2=\"1103\" y2=\"863\"/><line x1=\"427\" y1=\"317\" x2=\"369\" y2=\"395\"/><line x1=\"427\" y1=\"317\" x2=\"484\" y2=\"317\"/><line x1=\"312\" y1=\"395\" x2=\"369\" y2=\"395\"/><line x1=\"368\" y1=\"474\" x2=\"369\" y2=\"395\"/><line x1=\"309\" y1=\"630\" x2=\"309\" y2=\"708\"/><line x1=\"309\" y1=\"630\" x2=\"366\" y2=\"630\"/><line x1=\"309\" y1=\"708\" x2=\"365\" y2=\"708\"/><line x1=\"365\" y1=\"708\" x2=\"422\" y2=\"708\"/><line x1=\"939\" y1=\"317\" x2=\"938\" y2=\"395\"/><line x1=\"882\" y1=\"317\" x2=\"939\" y2=\"317\"/><line x1=\"881\" y1=\"396\" x2=\"938\" y2=\"395\"/><line x1=\"938\" y1=\"395\" x2=\"995\" y2=\"396\"/><line x1=\"422\" y1=\"708\" x2=\"479\" y2=\"708\"/><line x1=\"711\" y1=\"317\" x2=\"768\" y2=\"317\"/><line x1=\"768\" y1=\"317\" x2=\"825\" y2=\"317\"/><line x1=\"537\" y1=\"630\" x2=\"594\" y2=\"630\"/><line x1=\"480\" y1=\"630\" x2=\"537\" y2=\"630\"/><line x1=\"594\" y1=\"630\" x2=\"651\" y2=\"630\"/><line x1=\"594\" y1=\"630\" x2=\"593\" y2=\"708\"/><line x1=\"481\" y1=\"552\" x2=\"480\" y2=\"630\"/><line x1=\"423\" y1=\"630\" x2=\"480\" y2=\"630\"/><line x1=\"592\" y1=\"786\" x2=\"593\" y2=\"708\"/><line x1=\"421\" y1=\"864\" x2=\"478\" y2=\"864\"/><line x1=\"422\" y1=\"786\" x2=\"421\" y2=\"864\"/><line x1=\"478\" y1=\"864\" x2=\"535\" y2=\"864\"/><line x1=\"365\" y1=\"786\" x2=\"422\" y2=\"786\"/><line x1=\"592\" y1=\"786\" x2=\"535\" y2=\"864\"/><line x1=\"535\" y1=\"864\" x2=\"534\" y2=\"942\"/><line x1=\"313\" y1=\"240\" x2=\"313\" y2=\"317\"/><line x1=\"257\" y1=\"239\" x2=\"313\" y2=\"240\"/><line x1=\"254\" y1=\"473\" x2=\"311\" y2=\"474\"/><line x1=\"254\" y1=\"473\" x2=\"253\" y2=\"552\"/><line x1=\"368\" y1=\"474\" x2=\"311\" y2=\"474\"/><line x1=\"479\" y1=\"708\" x2=\"536\" y2=\"708\"/><line x1=\"592\" y1=\"786\" x2=\"536\" y2=\"708\"/><line x1=\"769\" y1=\"239\" x2=\"826\" y2=\"239\"/><line x1=\"826\" y1=\"239\" x2=\"825\" y2=\"317\"/><line x1=\"144\" y1=\"161\" x2=\"143\" y2=\"239\"/><line x1=\"143\" y1=\"239\" x2=\"200\" y2=\"239\"/><line x1=\"200\" y1=\"239\" x2=\"257\" y2=\"239\"/><line x1=\"87\" y1=\"161\" x2=\"144\" y2=\"161\"/><line x1=\"1221\" y1=\"552\" x2=\"1220\" y2=\"630\"/><line x1=\"1163\" y1=\"630\" x2=\"1220\" y2=\"630\"/><line x1=\"1220\" y1=\"630\" x2=\"1277\" y2=\"630\"/><line x1=\"825\" y1=\"317\" x2=\"824\" y2=\"396\"/><line x1=\"824\" y1=\"396\" x2=\"823\" y2=\"474\"/><line x1=\"880\" y1=\"552\" x2=\"823\" y2=\"474\"/><line x1=\"764\" y1=\"708\" x2=\"821\" y2=\"708\"/><line x1=\"765\" y1=\"630\" x2=\"764\" y2=\"708\"/><line x1=\"935\" y1=\"708\" x2=\"1048\" y2=\"786\"/><line x1=\"879\" y1=\"630\" x2=\"935\" y2=\"708\"/><line x1=\"880\" y1=\"552\" x2=\"879\" y2=\"630\"/><line x1=\"1048\" y1=\"786\" x2=\"1105\" y2=\"786\"/><line x1=\"1105\" y1=\"786\" x2=\"1162\" y2=\"786\"/><line x1=\"654\" y1=\"395\" x2=\"710\" y2=\"395\"/><line x1=\"710\" y1=\"395\" x2=\"767\" y2=\"395\"/><line x1=\"597\" y1=\"395\" x2=\"654\" y2=\"395\"/><line x1=\"880\" y1=\"552\" x2=\"765\" y2=\"630\"/><line x1=\"484\" y1=\"317\" x2=\"540\" y2=\"317\"/><line x1=\"591\" y1=\"864\" x2=\"591\" y2=\"942\"/><line x1=\"591\" y1=\"942\" x2=\"648\" y2=\"942\"/><line x1=\"592\" y1=\"786\" x2=\"591\" y2=\"864\"/><line x1=\"648\" y1=\"942\" x2=\"647\" y2=\"1020\"/><line x1=\"647\" y1=\"1020\" x2=\"704\" y2=\"1020\"/><line x1=\"704\" y1=\"1020\" x2=\"761\" y2=\"1020\"/><line x1=\"1219\" y1=\"708\" x2=\"1276\" y2=\"708\"/><line x1=\"1163\" y1=\"708\" x2=\"1219\" y2=\"708\"/><line x1=\"1106\" y1=\"708\" x2=\"1163\" y2=\"708\"/><line x1=\"880\" y1=\"552\" x2=\"881\" y2=\"396\"/><line x1=\"995\" y1=\"396\" x2=\"1051\" y2=\"474\"/><line x1=\"1051\" y1=\"474\" x2=\"1108\" y2=\"474\"/><line x1=\"597\" y1=\"317\" x2=\"654\" y2=\"318\"/><line x1=\"540\" y1=\"317\" x2=\"597\" y2=\"317\"/><line x1=\"933\" y1=\"864\" x2=\"990\" y2=\"864\"/><line x1=\"819\" y1=\"864\" x2=\"933\" y2=\"864\"/><line x1=\"933\" y1=\"864\" x2=\"932\" y2=\"942\"/><line x1=\"932\" y1=\"942\" x2=\"992\" y2=\"950\"/><line x1=\"992\" y1=\"708\" x2=\"1049\" y2=\"708\"/><line x1=\"1049\" y1=\"708\" x2=\"1106\" y2=\"708\"/><line x1=\"936\" y1=\"630\" x2=\"992\" y2=\"708\"/><line x1=\"534\" y1=\"942\" x2=\"533\" y2=\"1020\"/><line x1=\"705\" y1=\"864\" x2=\"762\" y2=\"864\"/><line x1=\"762\" y1=\"864\" x2=\"819\" y2=\"864\"/><line x1=\"592\" y1=\"786\" x2=\"705\" y2=\"864\"/><line x1=\"540\" y1=\"395\" x2=\"597\" y2=\"395\"/><line x1=\"1106\" y1=\"630\" x2=\"1163\" y2=\"630\"/><line x1=\"1049\" y1=\"630\" x2=\"1106\" y2=\"630\"/><line x1=\"993\" y1=\"630\" x2=\"1049\" y2=\"630\"/><line x1=\"880\" y1=\"552\" x2=\"993\" y2=\"630\"/><line x1=\"426\" y1=\"396\" x2=\"483\" y2=\"395\"/><line x1=\"483\" y1=\"395\" x2=\"540\" y2=\"395\"/><line x1=\"368\" y1=\"474\" x2=\"426\" y2=\"396\"/><line x1=\"880\" y1=\"552\" x2=\"936\" y2=\"630\"/><line x1=\"592\" y1=\"786\" x2=\"650\" y2=\"708\"/></g><g stroke=\"darkorange\" stroke-dasharray=\"18 15\" stroke-width=\"4\" id=\"detours\" fill=\"none\"><polyline points=\"368 474 312 395 313 317\"/></g><g id=\"DTgrp\"><use href=\"#dt\" x=\"312\" y=\"395\"/></g><g id=\"WTGgrp\"><g fill=\"#c7c7c7\"><use href=\"#wtg\" x=\"142\" y=\"317\"/><use href=\"#wtg\" x=\"256\" y=\"317\"/><use href=\"#wtg\" x=\"255\" y=\"395\"/><use href=\"#wtg\" x=\"254\" y=\"473\"/><use href=\"#wtg\" x=\"311\" y=\"474\"/><use href=\"#wtg\" x=\"253\" y=\"552\"/></g><g fill=\"#ffbb78\"><use href=\"#wtg\" x=\"1047\" y=\"864\"/><use href=\"#wtg\" x=\"1103\" y=\"863\"/><use href=\"#wtg\" x=\"935\" y=\"708\"/><use href=\"#wtg\" x=\"879\" y=\"630\"/><use href=\"#wtg\" x=\"1048\" y=\"786\"/><use href=\"#wtg\" x=\"1105\" y=\"786\"/><use href=\"#wtg\" x=\"1162\" y=\"786\"/></g><g fill=\"#f7b6d2\"><use href=\"#wtg\" x=\"427\" y=\"317\"/><use href=\"#wtg\" x=\"369\" y=\"395\"/><use href=\"#wtg\" x=\"312\" y=\"395\"/><use href=\"#wtg\" x=\"484\" y=\"317\"/><use href=\"#wtg\" x=\"654\" y=\"318\"/><use href=\"#wtg\" x=\"597\" y=\"317\"/><use href=\"#wtg\" x=\"540\" y=\"317\"/></g><g fill=\"#d62728\"><use href=\"#wtg\" x=\"309\" y=\"630\"/><use href=\"#wtg\" x=\"309\" y=\"708\"/><use href=\"#wtg\" x=\"365\" y=\"708\"/><use href=\"#wtg\" x=\"422\" y=\"708\"/><use href=\"#wtg\" x=\"479\" y=\"708\"/><use href=\"#wtg\" x=\"536\" y=\"708\"/><use href=\"#wtg\" x=\"366\" y=\"630\"/></g><g fill=\"#1f77b4\"><use href=\"#wtg\" x=\"939\" y=\"317\"/><use href=\"#wtg\" x=\"938\" y=\"395\"/><use href=\"#wtg\" x=\"882\" y=\"317\"/><use href=\"#wtg\" x=\"881\" y=\"396\"/><use href=\"#wtg\" x=\"995\" y=\"396\"/><use href=\"#wtg\" x=\"1051\" y=\"474\"/><use href=\"#wtg\" x=\"1108\" y=\"474\"/></g><g fill=\"#aec7e8\"><use href=\"#wtg\" x=\"711\" y=\"317\"/><use href=\"#wtg\" x=\"768\" y=\"317\"/><use href=\"#wtg\" x=\"769\" y=\"239\"/><use href=\"#wtg\" x=\"826\" y=\"239\"/><use href=\"#wtg\" x=\"825\" y=\"317\"/><use href=\"#wtg\" x=\"824\" y=\"396\"/><use href=\"#wtg\" x=\"823\" y=\"474\"/></g><g fill=\"#ff9896\"><use href=\"#wtg\" x=\"537\" y=\"630\"/><use href=\"#wtg\" x=\"594\" y=\"630\"/><use href=\"#wtg\" x=\"480\" y=\"630\"/><use href=\"#wtg\" x=\"593\" y=\"708\"/><use href=\"#wtg\" x=\"481\" y=\"552\"/><use href=\"#wtg\" x=\"423\" y=\"630\"/><use href=\"#wtg\" x=\"651\" y=\"630\"/></g><g fill=\"#c5b0d5\"><use href=\"#wtg\" x=\"421\" y=\"864\"/><use href=\"#wtg\" x=\"478\" y=\"864\"/><use href=\"#wtg\" x=\"422\" y=\"786\"/><use href=\"#wtg\" x=\"535\" y=\"864\"/><use href=\"#wtg\" x=\"365\" y=\"786\"/><use href=\"#wtg\" x=\"534\" y=\"942\"/><use href=\"#wtg\" x=\"533\" y=\"1020\"/></g><g fill=\"#e377c2\"><use href=\"#wtg\" x=\"313\" y=\"240\"/><use href=\"#wtg\" x=\"313\" y=\"317\"/><use href=\"#wtg\" x=\"143\" y=\"239\"/><use href=\"#wtg\" x=\"200\" y=\"239\"/><use href=\"#wtg\" x=\"144\" y=\"161\"/><use href=\"#wtg\" x=\"257\" y=\"239\"/><use href=\"#wtg\" x=\"87\" y=\"161\"/></g><g fill=\"#98df8a\"><use href=\"#wtg\" x=\"1221\" y=\"552\"/><use href=\"#wtg\" x=\"1220\" y=\"630\"/><use href=\"#wtg\" x=\"1163\" y=\"630\"/><use href=\"#wtg\" x=\"1106\" y=\"630\"/><use href=\"#wtg\" x=\"1049\" y=\"630\"/><use href=\"#wtg\" x=\"993\" y=\"630\"/><use href=\"#wtg\" x=\"1277\" y=\"630\"/></g><g fill=\"#ff7f0e\"><use href=\"#wtg\" x=\"821\" y=\"708\"/><use href=\"#wtg\" x=\"764\" y=\"708\"/><use href=\"#wtg\" x=\"765\" y=\"630\"/></g><g fill=\"#7f7f7f\"><use href=\"#wtg\" x=\"710\" y=\"395\"/><use href=\"#wtg\" x=\"654\" y=\"395\"/><use href=\"#wtg\" x=\"767\" y=\"395\"/><use href=\"#wtg\" x=\"597\" y=\"395\"/><use href=\"#wtg\" x=\"483\" y=\"395\"/><use href=\"#wtg\" x=\"426\" y=\"396\"/><use href=\"#wtg\" x=\"540\" y=\"395\"/></g><g fill=\"#8c564b\"><use href=\"#wtg\" x=\"591\" y=\"942\"/><use href=\"#wtg\" x=\"591\" y=\"864\"/><use href=\"#wtg\" x=\"648\" y=\"942\"/><use href=\"#wtg\" x=\"647\" y=\"1020\"/><use href=\"#wtg\" x=\"704\" y=\"1020\"/><use href=\"#wtg\" x=\"761\" y=\"1020\"/></g><g fill=\"#2ca02c\"><use href=\"#wtg\" x=\"1276\" y=\"708\"/><use href=\"#wtg\" x=\"1219\" y=\"708\"/><use href=\"#wtg\" x=\"1163\" y=\"708\"/><use href=\"#wtg\" x=\"1049\" y=\"708\"/><use href=\"#wtg\" x=\"992\" y=\"708\"/><use href=\"#wtg\" x=\"1106\" y=\"708\"/><use href=\"#wtg\" x=\"936\" y=\"630\"/></g><g fill=\"#c49c94\"><use href=\"#wtg\" x=\"990\" y=\"864\"/><use href=\"#wtg\" x=\"933\" y=\"864\"/><use href=\"#wtg\" x=\"992\" y=\"950\"/><use href=\"#wtg\" x=\"932\" y=\"942\"/><use href=\"#wtg\" x=\"762\" y=\"864\"/><use href=\"#wtg\" x=\"705\" y=\"864\"/><use href=\"#wtg\" x=\"819\" y=\"864\"/></g><g fill=\"#9467bd\"><use href=\"#wtg\" x=\"650\" y=\"708\"/></g></g><g id=\"OSSgrp\"><use href=\"#oss\" x=\"869.5\" y=\"541.5\"/><use href=\"#oss\" x=\"581.5\" y=\"775.5\"/><use href=\"#oss\" x=\"357.5\" y=\"463.5\"/></g></g><text filter=\"url(#bg_textbox)\" text-anchor=\"end\" font-family=\"sans-serif\" font-size=\"40\" fill=\"white\" x=\"1471\" y=\"1050\"><tspan x=\"1471\" dy=\"-0.0em\">&#931;&#955; = 144144.0 m</tspan><tspan x=\"1471\" dy=\"-1.3em\">(+1) &#945;: 4, &#946;: 6, &#947;: 6</tspan><tspan x=\"1471\" dy=\"-1.3em\">&#954; = 7, T = 100</tspan></text></svg>"
      ],
      "text/plain": [
       "<optiwindnet.svg.SvgRepr at 0x2bd956b32c0>"
      ]
     },
     "execution_count": 18,
     "metadata": {},
     "output_type": "execute_result"
    }
   ],
   "source": [
    "svgplot(G)"
   ]
  },
  {
   "cell_type": "code",
   "execution_count": null,
   "id": "8e1f1afb-e4f1-4df6-9d84-9eb76a001712",
   "metadata": {
    "deletable": true,
    "editable": true,
    "frozen": false
   },
   "outputs": [],
   "source": []
  },
  {
   "cell_type": "code",
   "execution_count": null,
   "id": "7e42786f-7e50-466b-bc88-e59dcbe4c6d9",
   "metadata": {
    "deletable": true,
    "editable": true,
    "frozen": false
   },
   "outputs": [],
   "source": []
  },
  {
   "cell_type": "code",
   "execution_count": 17,
   "id": "003714e7-bf75-4cda-ae19-58c74e126c75",
   "metadata": {
    "deletable": false,
    "editable": false,
    "execution": {
     "iopub.execute_input": "2025-04-11T10:05:26.679552Z",
     "iopub.status.busy": "2025-04-11T10:05:26.679552Z",
     "iopub.status.idle": "2025-04-11T10:05:27.267483Z",
     "shell.execute_reply": "2025-04-11T10:05:27.267483Z",
     "shell.execute_reply.started": "2025-04-11T10:05:26.679552Z"
    },
    "frozen": true
   },
   "outputs": [
    {
     "ename": "NameError",
     "evalue": "name 'ort' is not defined",
     "output_type": "error",
     "traceback": [
      "\u001b[31m---------------------------------------------------------------------------\u001b[39m",
      "\u001b[31mNameError\u001b[39m                                 Traceback (most recent call last)",
      "\u001b[36mCell\u001b[39m\u001b[36m \u001b[39m\u001b[32mIn[17]\u001b[39m\u001b[32m, line 1\u001b[39m\n\u001b[32m----> \u001b[39m\u001b[32m1\u001b[39m model = \u001b[43mort\u001b[49m.make_min_length_model(\n\u001b[32m      2\u001b[39m     A, capacity,\n\u001b[32m      3\u001b[39m     gateXings_constraint=\u001b[38;5;28;01mFalse\u001b[39;00m,\n\u001b[32m      4\u001b[39m     branching=\u001b[38;5;28;01mTrue\u001b[39;00m,\n\u001b[32m      5\u001b[39m     gates_limit=\u001b[38;5;28;01mFalse\u001b[39;00m\n\u001b[32m      6\u001b[39m )\n\u001b[32m      7\u001b[39m ort.warmup_model(model, Sʹ);\n",
      "\u001b[31mNameError\u001b[39m: name 'ort' is not defined"
     ]
    }
   ],
   "source": [
    "model = ort.make_min_length_model(\n",
    "    A, capacity,\n",
    "    gateXings_constraint=False,\n",
    "    branching=True,\n",
    "    gates_limit=False\n",
    ")\n",
    "ort.warmup_model(model, Sʹ);"
   ]
  },
  {
   "cell_type": "code",
   "execution_count": 9,
   "id": "04b7446c-eb45-4719-9341-622b62c2cdfb",
   "metadata": {
    "deletable": false,
    "editable": false,
    "execution": {
     "iopub.execute_input": "2025-04-07T12:41:14.730904Z",
     "iopub.status.busy": "2025-04-07T12:41:14.729904Z",
     "iopub.status.idle": "2025-04-07T12:41:54.815435Z",
     "shell.execute_reply": "2025-04-07T12:41:54.815435Z",
     "shell.execute_reply.started": "2025-04-07T12:41:14.730904Z"
    },
    "frozen": true,
    "scrolled": true
   },
   "outputs": [
    {
     "name": "stdout",
     "output_type": "stream",
     "text": [
      "\n",
      "Starting CP-SAT solver v9.12.4544\n",
      "Parameters: max_time_in_seconds: 40 log_search_progress: true relative_gap_limit: 0.005 num_workers: 8\n",
      "\n",
      "Initial optimization model 'Moray East': (model_fingerprint: 0x5d39f93dff015e4f)\n",
      "#Variables: 2'428 (#bools: 1'214 in floating point objective)\n",
      "  - 1'214 Booleans in [0,1]\n",
      "  - 914 in [0,6]\n",
      "  - 300 in [0,7]\n",
      "#kAtMostOne: 780 (#literals: 2'330)\n",
      "#kLinear1: 2'428 (#enforced: 2'428)\n",
      "#kLinearN: 303 (#terms: 6'070)\n",
      "\n",
      "Starting presolve at 0.00s\n",
      "The solution hint is complete and is feasible.\n",
      "[Scaling] Floating point objective has 1214 terms with magnitude in [1119.02, 18596.1] average = 3961.18\n",
      "[Scaling] Objective coefficient relative error: 2.09617e-10\n",
      "[Scaling] Objective worst-case absolute error: 7.83325e-05\n",
      "[Scaling] Objective scaling factor: 2.09715e+06\n",
      "  7.57e-04s  0.00e+00d  [DetectDominanceRelations] \n",
      "  1.52e-02s  0.00e+00d  [operations_research::sat::CpModelPresolver::PresolveToFixPoint] #num_loops=2 #num_dual_strengthening=1 \n",
      "  1.49e-04s  0.00e+00d  [operations_research::sat::CpModelPresolver::ExtractEncodingFromLinear] #potential_supersets=880 \n",
      "  3.43e-04s  0.00e+00d  [operations_research::sat::CpModelPresolver::DetectDuplicateColumns] \n",
      "  5.35e-04s  0.00e+00d  [operations_research::sat::CpModelPresolver::DetectDuplicateConstraints] \n",
      "[Symmetry] Graph for symmetry has 8'511 nodes and 16'285 arcs.\n",
      "[Symmetry] Symmetry computation done. time: 0.0007826 dtime: 0.00153942\n",
      "  5.45e-04s  0.00e+00d  [operations_research::sat::CpModelPresolver::DetectDuplicateConstraintsWithDifferentEnforcements] \n",
      "  1.49e-02s  5.94e-03d  [operations_research::sat::CpModelPresolver::Probe] #probed=2'428 \n",
      "  7.26e-04s  5.10e-04d  [MaxClique] Merged 780(2'330 literals) into 415(1'600 literals) at_most_ones. \n",
      "  6.15e-04s  0.00e+00d  [DetectDominanceRelations] \n",
      "  5.50e-03s  0.00e+00d  [operations_research::sat::CpModelPresolver::PresolveToFixPoint] #num_loops=1 #num_dual_strengthening=1 \n",
      "  7.34e-04s  0.00e+00d  [operations_research::sat::CpModelPresolver::ProcessAtMostOneAndLinear] \n",
      "  5.07e-04s  0.00e+00d  [operations_research::sat::CpModelPresolver::DetectDuplicateConstraints] \n",
      "  5.31e-04s  0.00e+00d  [operations_research::sat::CpModelPresolver::DetectDuplicateConstraintsWithDifferentEnforcements] \n",
      "  5.82e-04s  2.03e-05d  [operations_research::sat::CpModelPresolver::DetectDominatedLinearConstraints] #relevant_constraints=203 #num_inclusions=101 \n",
      "  4.78e-05s  0.00e+00d  [operations_research::sat::CpModelPresolver::DetectDifferentVariables] \n",
      "  1.03e-02s  6.42e-04d  [operations_research::sat::CpModelPresolver::ProcessSetPPC] #relevant_constraints=517 #num_inclusions=515 \n",
      "  1.15e-04s  2.00e-07d  [operations_research::sat::CpModelPresolver::FindAlmostIdenticalLinearConstraints] #num_tested_pairs=2 \n",
      "  1.62e-03s  1.23e-03d  [operations_research::sat::CpModelPresolver::FindBigAtMostOneAndLinearOverlap] \n",
      "  9.16e-04s  1.24e-03d  [operations_research::sat::CpModelPresolver::FindBigVerticalLinearOverlap] \n",
      "  5.46e-04s  6.15e-04d  [operations_research::sat::CpModelPresolver::FindBigHorizontalLinearOverlap] #linears=200 \n",
      "  4.44e-05s  0.00e+00d  [operations_research::sat::CpModelPresolver::MergeClauses] \n",
      "  6.44e-04s  0.00e+00d  [DetectDominanceRelations] \n",
      "  5.49e-03s  0.00e+00d  [operations_research::sat::CpModelPresolver::PresolveToFixPoint] #num_loops=1 #num_dual_strengthening=1 \n",
      "  6.49e-04s  0.00e+00d  [DetectDominanceRelations] \n",
      "  5.39e-03s  0.00e+00d  [operations_research::sat::CpModelPresolver::PresolveToFixPoint] #num_loops=1 #num_dual_strengthening=1 \n",
      "  2.25e-04s  0.00e+00d  [operations_research::sat::CpModelPresolver::DetectDuplicateColumns] \n",
      "  5.14e-04s  0.00e+00d  [operations_research::sat::CpModelPresolver::DetectDuplicateConstraints] \n",
      "[Symmetry] Graph for symmetry has 7'780 nodes and 13'611 arcs.\n",
      "[Symmetry] Symmetry computation done. time: 0.0005172 dtime: 0.00140254\n",
      "[SAT presolve] num removable Booleans: 0 / 1214\n",
      "[SAT presolve] num trivial clauses: 0\n",
      "[SAT presolve] [0s] clauses:92 literals:184 vars:184 one_side_vars:184 simple_definition:0 singleton_clauses:0\n",
      "[SAT presolve] [0.0002691s] clauses:92 literals:184 vars:184 one_side_vars:184 simple_definition:0 singleton_clauses:0\n",
      "[SAT presolve] [0.0003615s] clauses:92 literals:184 vars:184 one_side_vars:184 simple_definition:0 singleton_clauses:0\n",
      "  5.72e-04s  0.00e+00d  [operations_research::sat::CpModelPresolver::DetectDuplicateConstraintsWithDifferentEnforcements] \n",
      "  1.39e-02s  5.50e-03d  [operations_research::sat::CpModelPresolver::Probe] #probed=2'428 \n",
      "  5.48e-04s  4.98e-04d  [MaxClique] \n",
      "  5.84e-04s  0.00e+00d  [DetectDominanceRelations] \n",
      "  4.93e-03s  0.00e+00d  [operations_research::sat::CpModelPresolver::PresolveToFixPoint] #num_loops=1 #num_dual_strengthening=1 \n",
      "  5.14e-04s  0.00e+00d  [operations_research::sat::CpModelPresolver::ProcessAtMostOneAndLinear] \n",
      "  4.75e-04s  0.00e+00d  [operations_research::sat::CpModelPresolver::DetectDuplicateConstraints] \n",
      "  4.81e-04s  0.00e+00d  [operations_research::sat::CpModelPresolver::DetectDuplicateConstraintsWithDifferentEnforcements] \n",
      "  4.62e-04s  1.49e-05d  [operations_research::sat::CpModelPresolver::DetectDominatedLinearConstraints] #relevant_constraints=202 #num_inclusions=100 \n",
      "  4.57e-05s  0.00e+00d  [operations_research::sat::CpModelPresolver::DetectDifferentVariables] \n",
      "  2.79e-04s  9.15e-06d  [operations_research::sat::CpModelPresolver::ProcessSetPPC] #relevant_constraints=516 \n",
      "  6.54e-05s  5.15e-07d  [operations_research::sat::CpModelPresolver::FindAlmostIdenticalLinearConstraints] #num_tested_pairs=5 \n",
      "  1.46e-03s  1.23e-03d  [operations_research::sat::CpModelPresolver::FindBigAtMostOneAndLinearOverlap] \n",
      "  7.85e-04s  1.24e-03d  [operations_research::sat::CpModelPresolver::FindBigVerticalLinearOverlap] \n",
      "  5.49e-04s  6.15e-04d  [operations_research::sat::CpModelPresolver::FindBigHorizontalLinearOverlap] #linears=200 \n",
      "  7.30e-05s  0.00e+00d  [operations_research::sat::CpModelPresolver::MergeClauses] \n",
      "  6.94e-04s  0.00e+00d  [DetectDominanceRelations] \n",
      "  5.88e-03s  0.00e+00d  [operations_research::sat::CpModelPresolver::PresolveToFixPoint] #num_loops=1 #num_dual_strengthening=1 \n",
      "  9.13e-04s  0.00e+00d  [operations_research::sat::CpModelPresolver::ExpandObjective] #entries=13'930 #tight_variables=1'214 #tight_constraints=100 \n",
      "\n",
      "Presolve summary:\n",
      "  - 0 affine relations were detected.\n",
      "  - rule 'TODO linear inclusion: superset is equality' was applied 201 times.\n",
      "  - rule 'at_most_one: transformed into max clique.' was applied 1 time.\n",
      "  - rule 'deductions: 2428 stored' was applied 1 time.\n",
      "  - rule 'exactly_one: simplified objective' was applied 100 times.\n",
      "  - rule 'linear: positive equal one' was applied 100 times.\n",
      "  - rule 'objective: shifted cost with exactly ones' was applied 100 times.\n",
      "  - rule 'presolve: 0 unused variables removed.' was applied 1 time.\n",
      "  - rule 'presolve: iteration' was applied 2 times.\n",
      "  - rule 'setppc: exactly_one included in linear' was applied 100 times.\n",
      "  - rule 'setppc: reduced linear coefficients' was applied 99 times.\n",
      "  - rule 'setppc: removed trivial linear constraint' was applied 1 time.\n",
      "  - rule 'variables: detect fully reified value encoding' was applied 1'214 times.\n",
      "  - rule 'variables: detect half reified value encoding' was applied 2'428 times.\n",
      "\n",
      "Presolved optimization model 'Moray East': (model_fingerprint: 0xa83484c60c2d75f3)\n",
      "#Variables: 2'428 (#bools: 1'114 in objective)\n",
      "  - 1'214 Booleans in [0,1]\n",
      "  - 914 in [0,6]\n",
      "  - 300 in [0,7]\n",
      "#kAtMostOne: 323 (#literals: 1'416)\n",
      "#kBoolAnd: 92 (#enforced: 92) (#literals: 184)\n",
      "#kExactlyOne: 100 (#literals: 1'214)\n",
      "#kLinear1: 2'428 (#enforced: 2'428)\n",
      "#kLinearN: 202 (#terms: 3'642)\n",
      "[Symmetry] Graph for symmetry has 7'780 nodes and 13'611 arcs.\n",
      "[Symmetry] Symmetry computation done. time: 0.0005358 dtime: 0.00139993\n",
      "\n",
      "Preloading model.\n",
      "#Bound   0.13s best:inf   next:[115871.04,3269969.96] initial_domain\n",
      "#1       0.13s best:150853.103 next:[115871.04,150853.103] complete_hint\n",
      "#Model   0.13s var:2428/2428 constraints:3145/3145\n",
      "\n",
      "Starting search at 0.13s with 8 workers.\n",
      "6 full problem subsolvers: [core, default_lp, max_lp, no_lp, quick_restart, reduced_costs]\n",
      "2 first solution subsolvers: [fj, fs_random_no_lp]\n",
      "9 interleaved subsolvers: [feasibility_pump, graph_arc_lns, graph_cst_lns, graph_dec_lns, graph_var_lns, ls, rins/rens, rnd_cst_lns, rnd_var_lns]\n",
      "3 helper subsolvers: [neighborhood_helper, synchronization_agent, update_gap_integral]\n",
      "\n",
      "#Bound   0.16s best:150853.103 next:[119116.745,150853.103] am1_presolve (num_literals=1114 num_am1=33 increase=6806735150 work_done=3867)\n",
      "#Bound   0.18s best:150853.103 next:[126580.195,150853.103] reduced_costs\n",
      "#Bound   0.22s best:150853.103 next:[126580.202,150853.103] reduced_costs\n",
      "#Bound   0.23s best:150853.103 next:[139019.159,150853.103] max_lp\n",
      "#2       0.23s best:150852.535 next:[139019.159,150852.535] no_lp\n",
      "#Bound   0.33s best:150852.535 next:[139554.89,150852.535] max_lp\n",
      "#3       0.40s best:150830.534 next:[139554.89,150830.534] rnd_cst_lns (d=7.07e-01 s=16 t=0.10 p=1.00 stall=1 h=base)\n",
      "#Bound   0.44s best:150830.534 next:[139987.637,150830.534] max_lp\n",
      "#4       0.52s best:150291.941 next:[139987.637,150291.941] graph_var_lns (d=7.07e-01 s=17 t=0.10 p=1.00 stall=1 h=base)\n",
      "#Bound   0.56s best:150291.941 next:[140163.807,150291.941] max_lp\n",
      "#5       0.70s best:150095.283 next:[140163.807,150095.283] graph_arc_lns (d=7.07e-01 s=18 t=0.10 p=1.00 stall=1 h=base)\n",
      "#6       0.71s best:149556.69 next:[140163.807,149556.69] graph_arc_lns (d=7.07e-01 s=18 t=0.10 p=1.00 stall=1 h=base) [combined with: graph_var_lns (d=7.0...]\n",
      "#Bound   0.78s best:149556.69 next:[140392.889,149556.69] max_lp\n",
      "#Bound   0.94s best:149556.69 next:[140488.084,149556.69] max_lp\n",
      "#Model   0.97s var:2384/2428 constraints:3100/3145\n",
      "#Bound   1.40s best:149556.69 next:[140660.382,149556.69] max_lp\n",
      "#7       1.41s best:149552.977 next:[140660.382,149552.977] graph_dec_lns (d=8.14e-01 s=27 t=0.10 p=1.00 stall=2 h=base)\n",
      "#8       1.79s best:149525.367 next:[140660.382,149525.367] graph_var_lns (d=7.21e-01 s=38 t=0.10 p=0.67 stall=1 h=base)\n",
      "#9       1.86s best:149143.049 next:[140660.382,149143.049] graph_arc_lns (d=3.59e-01 s=39 t=0.10 p=0.33 stall=1 h=base)\n",
      "#10      2.02s best:149021.096 next:[140660.382,149021.096] reduced_costs\n",
      "#Bound   2.10s best:149021.096 next:[140826.542,149021.096] max_lp\n",
      "#11      2.52s best:148533.462 next:[140826.542,148533.462] graph_cst_lns (d=6.31e-01 s=49 t=0.10 p=0.60 stall=0 h=base)\n",
      "#Model   2.61s var:2338/2428 constraints:3054/3145\n",
      "#12      2.64s best:148055.604 next:[140826.542,148055.604] ls_restart_decay_compound_perturb(batch:1 lin{mvs:0 evals:53'692} gen{mvs:2'590 evals:0} comp{mvs:186 btracks:1'202} #w_updates:34 #perturb:0)\n",
      "#13      2.71s best:147698.43 next:[140826.542,147698.43] graph_dec_lns (d=8.63e-01 s=50 t=0.10 p=0.80 stall=2 h=base)\n",
      "#14      2.73s best:147677.53 next:[140826.542,147677.53] rnd_var_lns (d=7.29e-01 s=52 t=0.10 p=0.60 stall=5 h=base) [combined with: graph_dec_lns (d=8.6...]\n",
      "#15      2.77s best:147598.731 next:[140826.542,147598.731] graph_arc_lns (d=2.48e-01 s=53 t=0.10 p=0.25 stall=0 h=base)\n",
      "#16      2.77s best:147577.832 next:[140826.542,147577.832] graph_arc_lns (d=2.48e-01 s=53 t=0.10 p=0.25 stall=0 h=base) [combined with: rnd_var_lns (d=7.29e...]\n",
      "#Bound   2.90s best:147577.832 next:[140946.052,147577.832] max_lp\n",
      "#17      3.00s best:147577.391 next:[140946.052,147577.391] graph_cst_lns (d=7.33e-01 s=55 t=0.10 p=0.67 stall=0 h=base)\n",
      "#18      3.03s best:147505.985 next:[140946.052,147505.985] graph_arc_lns (d=3.49e-01 s=58 t=0.10 p=0.40 stall=0 h=base)\n",
      "#19      3.46s best:146521.143 next:[140946.052,146521.143] graph_var_lns (d=7.29e-01 s=62 t=0.10 p=0.60 stall=1 h=base)\n",
      "#20      3.56s best:146519.594 next:[140946.052,146519.594] graph_dec_lns (d=7.45e-01 s=65 t=0.10 p=0.57 stall=1 h=base)\n",
      "#Bound   3.58s best:146519.594 next:[141088.701,146519.594] max_lp\n",
      "#Bound   4.06s best:146519.594 next:[141311.947,146519.594] max_lp\n",
      "#21      4.21s best:146518.923 next:[141311.947,146518.923] graph_var_lns (d=8.03e-01 s=71 t=0.10 p=0.67 stall=0 h=base)\n",
      "#Bound   4.56s best:146518.923 next:[141399.24,146518.923] max_lp\n",
      "#Model   4.62s var:2330/2428 constraints:3046/3145\n",
      "#22      4.91s best:146410.663 next:[141399.24,146410.663] graph_arc_lns (d=3.60e-01 s=81 t=0.10 p=0.44 stall=3 h=base)\n",
      "#Bound   5.60s best:146410.663 next:[141481.067,146410.663] max_lp\n",
      "#23      5.77s best:145634.729 next:[141481.067,145634.729] graph_arc_lns (d=6.77e-01 s=96 t=0.10 p=0.58 stall=2 h=base)\n",
      "#Bound   6.38s best:145634.729 next:[141554.223,145634.729] max_lp\n",
      "#Model   7.02s var:2150/2428 constraints:2865/3145\n",
      "#Model   7.08s var:2106/2428 constraints:2821/3145\n",
      "#Bound   7.35s best:145634.729 next:[141621.928,145634.729] max_lp\n",
      "#Bound   8.32s best:145634.729 next:[141667.254,145634.729] max_lp\n",
      "#24      8.50s best:145537.634 next:[141667.254,145537.634] rins_lp_lns (d=5.06e-01 s=133 t=0.10 p=0.50 stall=0 h=base)\n",
      "#25      8.72s best:145120.766 next:[141667.254,145120.766] graph_var_lns (d=7.40e-01 s=136 t=0.10 p=0.55 stall=4 h=base)\n",
      "#26      8.76s best:144593.11 next:[141667.254,144593.11] graph_cst_lns (d=6.24e-01 s=139 t=0.10 p=0.53 stall=9 h=base)\n",
      "#27      8.99s best:144100.134 next:[141667.254,144100.134] graph_dec_lns (d=8.02e-01 s=143 t=0.10 p=0.56 stall=8 h=base)\n",
      "#Model   9.25s var:2104/2428 constraints:2819/3145\n",
      "#Bound   9.44s best:144100.134 next:[141746.39,144100.134] max_lp\n",
      "#28     10.11s best:144098.61 next:[141746.39,144098.61] graph_var_lns (d=6.65e-01 s=161 t=0.10 p=0.50 stall=1 h=base)\n",
      "#29     10.25s best:143633.831 next:[141746.39,143633.831] graph_arc_lns (d=4.72e-01 s=160 t=0.10 p=0.50 stall=7 h=base)\n",
      "#30     10.25s best:143632.307 next:[141746.39,143632.307] graph_arc_lns (d=4.72e-01 s=160 t=0.10 p=0.50 stall=7 h=base) [combined with: graph_var_lns (d=6.6...]\n",
      "#Bound  10.26s best:143632.307 next:[141780.014,143632.307] max_lp\n",
      "#Bound  11.15s best:143632.307 next:[141829.761,143632.307] max_lp\n",
      "#Model  11.16s var:2062/2428 constraints:2777/3145\n",
      "#Bound  13.56s best:143632.307 next:[141837.258,143632.307] max_lp\n",
      "#Bound  13.59s best:143632.307 next:[141838.491,143632.307] max_lp\n",
      "#Model  14.14s var:1954/2428 constraints:2661/3145\n",
      "#Bound  14.62s best:143632.307 next:[141852.04,143632.307] max_lp\n",
      "#31     14.73s best:143301.424 next:[141852.04,143301.424] rins_pump_lns (d=4.18e-01 s=230 t=0.10 p=0.48 stall=0 h=base)\n",
      "#Bound  15.62s best:143301.424 next:[141880.32,143301.424] max_lp\n",
      "#Bound  16.61s best:143301.424 next:[141898.187,143301.424] max_lp\n",
      "#Model  16.80s var:1768/2428 constraints:2455/3145\n",
      "#Bound  17.27s best:143301.424 next:[141903.249,143301.424] max_lp\n",
      "#Model  17.28s var:1764/2428 constraints:2451/3145\n",
      "#32     17.72s best:143300.106 next:[141903.249,143300.106] graph_cst_lns (d=5.79e-01 s=267 t=0.10 p=0.50 stall=12 h=stalling)\n",
      "#Model  18.17s var:1760/2428 constraints:2447/3145\n",
      "#Bound  18.23s best:143300.106 next:[141906.736,143300.106] max_lp\n",
      "#Bound  19.29s best:143300.106 next:[141916.276,143300.106] max_lp\n",
      "#Bound  20.46s best:143300.106 next:[141917.512,143300.106] max_lp\n",
      "#Bound  20.51s best:143300.106 next:[141919.586,143300.106] max_lp\n",
      "#Bound  21.35s best:143300.106 next:[141921.296,143300.106] max_lp\n",
      "#Model  21.58s var:1718/2428 constraints:2401/3145\n",
      "#Bound  22.34s best:143300.106 next:[141925.941,143300.106] max_lp\n",
      "#Bound  23.21s best:143300.106 next:[141930.326,143300.106] max_lp\n",
      "#Model  23.23s var:1532/2428 constraints:2199/3145\n",
      "#Model  23.64s var:1530/2428 constraints:2197/3145\n",
      "#Bound  24.29s best:143300.106 next:[141933.133,143300.106] max_lp\n",
      "#Model  24.38s var:1528/2428 constraints:2195/3145\n",
      "#Bound  25.29s best:143300.106 next:[141940.719,143300.106] max_lp\n",
      "#Bound  26.16s best:143300.106 next:[141945.729,143300.106] max_lp\n",
      "#Bound  27.05s best:143300.106 next:[141956.787,143300.106] max_lp\n",
      "#Model  27.06s var:1514/2428 constraints:2181/3145\n",
      "#Bound  29.70s best:143300.106 next:[141956.918,143300.106] max_lp\n",
      "#Bound  30.58s best:143300.106 next:[141958.141,143300.106] max_lp\n",
      "#Model  30.68s var:1508/2428 constraints:2175/3145\n",
      "#Model  32.67s var:1506/2428 constraints:2173/3145\n",
      "#Model  34.14s var:1502/2428 constraints:2166/3145\n",
      "#Bound  35.50s best:143300.106 next:[141959.574,143300.106] max_lp\n",
      "#Bound  36.24s best:143300.106 next:[141964.231,143300.106] max_lp\n",
      "#Model  36.30s var:1494/2428 constraints:2154/3145\n",
      "#Bound  37.07s best:143300.106 next:[141975.389,143300.106] max_lp\n",
      "#Bound  38.11s best:143300.106 next:[141992.673,143300.106] max_lp\n",
      "#Bound  38.92s best:143300.106 next:[141995.817,143300.106] max_lp\n",
      "#Model  38.99s var:1478/2428 constraints:2138/3145\n",
      "\n",
      "Task timing                   n [     min,      max]      avg      dev     time         n [     min,      max]      avg      dev    dtime\n",
      "              'core':         1 [  39.86s,   39.86s]   39.86s   0.00ns   39.86s         1 [   1.22m,    1.22m]    1.22m   0.00ns    1.22m\n",
      "        'default_lp':         1 [  39.86s,   39.86s]   39.86s   0.00ns   39.86s         1 [  25.04s,   25.04s]   25.04s   0.00ns   25.04s\n",
      "  'feasibility_pump':        89 [ 63.80us, 768.94ms]  98.71ms 203.70ms    8.79s        19 [190.08ms, 779.16ms] 410.69ms 155.72ms    7.80s\n",
      "                'fj':         0 [  0.00ns,   0.00ns]   0.00ns   0.00ns   0.00ns         0 [  0.00ns,   0.00ns]   0.00ns   0.00ns   0.00ns\n",
      "   'fs_random_no_lp':         0 [  0.00ns,   0.00ns]   0.00ns   0.00ns   0.00ns         0 [  0.00ns,   0.00ns]   0.00ns   0.00ns   0.00ns\n",
      "     'graph_arc_lns':        71 [ 14.91ms, 336.02ms] 126.75ms  81.88ms    9.00s        71 [  1.20us, 100.27ms]  58.62ms  44.35ms    4.16s\n",
      "     'graph_cst_lns':        66 [  5.11ms, 480.57ms] 136.55ms  99.04ms    9.01s        66 [ 10.00ns, 100.39ms]  56.40ms  45.07ms    3.72s\n",
      "     'graph_dec_lns':        61 [  5.91ms, 351.63ms] 148.05ms  88.46ms    9.03s        60 [ 10.00ns, 100.13ms]  60.68ms  42.62ms    3.64s\n",
      "     'graph_var_lns':        61 [  8.96ms, 506.27ms] 147.85ms  97.47ms    9.02s        61 [  1.60us, 100.44ms]  64.07ms  42.54ms    3.91s\n",
      "                'ls':        89 [ 29.90ms, 147.89ms]  79.87ms  13.70ms    7.11s        89 [ 35.04ms, 100.06ms]  99.29ms   6.85ms    8.84s\n",
      "            'max_lp':         1 [  39.86s,   39.86s]   39.86s   0.00ns   39.86s         1 [  12.50s,   12.50s]   12.50s   0.00ns   12.50s\n",
      "             'no_lp':         1 [  39.86s,   39.86s]   39.86s   0.00ns   39.86s         1 [  36.92s,   36.92s]   36.92s   0.00ns   36.92s\n",
      "     'quick_restart':         1 [  39.86s,   39.86s]   39.86s   0.00ns   39.86s         1 [  18.44s,   18.44s]   18.44s   0.00ns   18.44s\n",
      "     'reduced_costs':         1 [  39.87s,   39.87s]   39.87s   0.00ns   39.87s         1 [  31.88s,   31.88s]   31.88s   0.00ns   31.88s\n",
      "         'rins/rens':        71 [  3.00ms, 291.79ms] 127.44ms 108.01ms    9.05s        57 [  3.26us, 200.10ms]  64.82ms  48.68ms    3.69s\n",
      "       'rnd_cst_lns':        63 [ 18.56ms, 509.61ms] 147.42ms 105.27ms    9.29s        63 [  1.63us, 100.42ms]  55.65ms  45.27ms    3.51s\n",
      "       'rnd_var_lns':        61 [ 11.59ms, 389.33ms] 151.41ms  89.69ms    9.24s        61 [  1.61us, 100.24ms]  60.38ms  42.50ms    3.68s\n",
      "\n",
      "Search stats          Bools  Conflicts   Branches  Restarts  BoolPropag  IntegerPropag\n",
      "             'core':  1'247    597'903  1'109'949    12'198  10'670'632     26'395'665\n",
      "       'default_lp':  1'292        969     27'456    12'730     149'100      1'021'621\n",
      "  'fs_random_no_lp':      0          0          0         0           0              0\n",
      "           'max_lp':  1'214        162     17'466     8'442      63'028        528'913\n",
      "            'no_lp':  1'214    554'031    748'373    46'238  48'452'073    143'535'753\n",
      "    'quick_restart':  1'265        138     41'282    18'253     148'431      1'218'324\n",
      "    'reduced_costs':  1'225        800     34'938    14'628     134'796      1'047'358\n",
      "\n",
      "SAT stats             ClassicMinim  LitRemoved   LitLearned  LitForgotten  Subsumed  MClauses  MDecisions  MLitTrue  MSubsumed  MLitRemoved  MReused\n",
      "             'core':       561'376  14'271'079  129'379'579   121'739'968     5'131     1'445      11'306         0         57          466       35\n",
      "       'default_lp':           949      85'322      159'068             0         2     1'234       9'943         0          0            0        3\n",
      "  'fs_random_no_lp':             0           0            0             0         0         0           0         0          0            0        0\n",
      "           'max_lp':           158      10'620       25'849             0         0     1'000       6'516         0          0            0        0\n",
      "            'no_lp':       536'955   5'660'680   61'297'133    54'868'267     2'476     4'928      64'960         0         74        2'367      883\n",
      "    'quick_restart':           124       5'903       19'639             0         1     2'290      16'496         0          5           37        2\n",
      "    'reduced_costs':           751      57'604      133'236             0         2     1'200      11'408         0          0            0        0\n",
      "\n",
      "Lp stats            Component  Iterations  AddedCuts  OPTIMAL  DUAL_F.  DUAL_U.\n",
      "     'default_lp':          1     174'323      8'580    2'817        2       57\n",
      "         'max_lp':          1      47'508      4'904      619       63       11\n",
      "  'quick_restart':          1      75'000      7'237    1'211        4       15\n",
      "  'reduced_costs':          1     190'079      6'548    1'726      638       60\n",
      "\n",
      "Lp dimension            Final dimension of first component\n",
      "     'default_lp':  1446 rows, 2331 columns, 17045 entries\n",
      "         'max_lp':  2175 rows, 2428 columns, 43079 entries\n",
      "  'quick_restart':  2077 rows, 2331 columns, 37520 entries\n",
      "  'reduced_costs':  1646 rows, 2428 columns, 22628 entries\n",
      "\n",
      "Lp debug            CutPropag  CutEqPropag  Adjust  Overflow      Bad  BadScaling\n",
      "     'default_lp':          0            0   2'852         0   84'825           0\n",
      "         'max_lp':          0            8     690         0  175'069           0\n",
      "  'quick_restart':          0            6   1'208         0  132'225           0\n",
      "  'reduced_costs':          0            1   2'404         0   83'150           0\n",
      "\n",
      "Lp pool             Constraints  Updates  Simplif  Merged  Shortened  Split  Strenghtened     Cuts/Call\n",
      "     'default_lp':       12'556    1'312   52'172       0     33'247    498           560  8'580/18'869\n",
      "         'max_lp':        9'263    3'045   49'109       0     21'160  1'363           294   4'904/8'180\n",
      "  'quick_restart':       11'213    2'273   53'758       0     28'784    445           697  7'237/14'651\n",
      "  'reduced_costs':       10'907    1'536   30'755       0     18'601    378           456  6'548/13'506\n",
      "\n",
      "Lp Cut            default_lp  max_lp  quick_restart  reduced_costs\n",
      "          CG_FF:          69      13             56             61\n",
      "           CG_K:          48       4             38             20\n",
      "          CG_KL:           6       -              9              4\n",
      "           CG_R:         112      21             69             93\n",
      "          CG_RB:         221      68            127            150\n",
      "         CG_RBP:          94      10             65             76\n",
      "             IB:       1'569     192          1'396          1'631\n",
      "       MIR_1_FF:         527     527            627            377\n",
      "        MIR_1_K:         160     127            175             38\n",
      "       MIR_1_KL:          60      19             60             22\n",
      "        MIR_1_R:          16      31             11             11\n",
      "       MIR_1_RB:         164      65            136             80\n",
      "      MIR_1_RBP:         170     215            207            139\n",
      "       MIR_2_FF:         493     324            436            359\n",
      "        MIR_2_K:         209      86            151             52\n",
      "       MIR_2_KL:          66      27             57             31\n",
      "        MIR_2_R:          25      38             25             29\n",
      "       MIR_2_RB:         317     182            250            214\n",
      "      MIR_2_RBP:         187     105            159            133\n",
      "       MIR_3_FF:         391     283            297            324\n",
      "        MIR_3_K:         188      75            137             49\n",
      "       MIR_3_KL:          40      25             39             14\n",
      "        MIR_3_R:          25      29             14             32\n",
      "       MIR_3_RB:         258     166            187            207\n",
      "      MIR_3_RBP:         143      85            132             66\n",
      "       MIR_4_FF:         248     250            237            276\n",
      "        MIR_4_K:         125      73            114             43\n",
      "       MIR_4_KL:          27      36             25             17\n",
      "        MIR_4_R:          24      24             20             20\n",
      "       MIR_4_RB:         191     115            121            153\n",
      "      MIR_4_RBP:         106      76            101             88\n",
      "       MIR_5_FF:         192     157            163            164\n",
      "        MIR_5_K:         129      61             89             47\n",
      "       MIR_5_KL:          42      34             26             43\n",
      "        MIR_5_R:          10      18             10             16\n",
      "       MIR_5_RB:         113      72             84            101\n",
      "      MIR_5_RBP:         109      92            105            103\n",
      "       MIR_6_FF:         136     124            112            119\n",
      "        MIR_6_K:         112      80            108             68\n",
      "       MIR_6_KL:          57      76             51             67\n",
      "        MIR_6_R:           9      13             11             22\n",
      "       MIR_6_RB:          84      73             63             90\n",
      "      MIR_6_RBP:         133     142            111            137\n",
      "   ZERO_HALF_FF:          57       8             35             45\n",
      "    ZERO_HALF_K:          31       3             15              5\n",
      "   ZERO_HALF_KL:          16       2              7              9\n",
      "    ZERO_HALF_R:         888     511            647            571\n",
      "   ZERO_HALF_RB:         114      94             80             93\n",
      "  ZERO_HALF_RBP:          69      53             42             39\n",
      "\n",
      "LNS stats           Improv/Calls  Closed  Difficulty  TimeLimit\n",
      "  'graph_arc_lns':          9/71     51%    5.04e-01       0.10\n",
      "  'graph_cst_lns':          9/66     52%    6.94e-01       0.10\n",
      "  'graph_dec_lns':          7/61     54%    8.67e-01       0.10\n",
      "  'graph_var_lns':         10/61     48%    5.30e-01       0.10\n",
      "      'rins/rens':         57/71     51%    5.59e-01       0.10\n",
      "    'rnd_cst_lns':          7/63     51%    7.37e-01       0.10\n",
      "    'rnd_var_lns':          4/61     51%    7.69e-01       0.10\n",
      "\n",
      "LS stats                                Batches  Restarts/Perturbs  LinMoves  GenMoves  CompoundMoves  Bactracks  WeightUpdates  ScoreComputed\n",
      "                         'ls_restart':       11                 10   113'157         0              0          0         20'199      4'233'240\n",
      "                'ls_restart_compound':       15                 13         0   174'345         17'280     78'516          1'165      4'928'942\n",
      "        'ls_restart_compound_perturb':       10                  7         0   118'608         10'600     53'986            626      3'163'043\n",
      "                   'ls_restart_decay':       14                 10   172'869         0              0          0          3'006      3'921'294\n",
      "          'ls_restart_decay_compound':        7                  6         0    67'967         11'223     28'363            219      2'002'118\n",
      "  'ls_restart_decay_compound_perturb':       13                 12         0   126'131         23'231     51'420            433      3'662'530\n",
      "           'ls_restart_decay_perturb':       10                  7   123'815         0              0          0          2'115      2'821'739\n",
      "                 'ls_restart_perturb':        9                  8    93'635         0              0          0         14'129      3'479'304\n",
      "\n",
      "Solutions (32)                          Num     Rank\n",
      "                      'complete_hint':    1    [1,1]\n",
      "                      'graph_arc_lns':   10   [5,30]\n",
      "                      'graph_cst_lns':    4  [11,32]\n",
      "                      'graph_dec_lns':    4   [7,27]\n",
      "                      'graph_var_lns':    6   [4,28]\n",
      "  'ls_restart_decay_compound_perturb':    1  [12,12]\n",
      "                              'no_lp':    1    [2,2]\n",
      "                      'reduced_costs':    1  [10,10]\n",
      "                        'rins_lp_lns':    1  [24,24]\n",
      "                      'rins_pump_lns':    1  [31,31]\n",
      "                        'rnd_cst_lns':    1    [3,3]\n",
      "                        'rnd_var_lns':    1  [14,14]\n",
      "\n",
      "Objective bounds     Num\n",
      "    'am1_presolve':    1\n",
      "  'initial_domain':    1\n",
      "          'max_lp':   43\n",
      "   'reduced_costs':    2\n",
      "\n",
      "Solution repositories    Added  Queried  Synchro\n",
      "  'feasible solutions':    114    1'036       83\n",
      "   'fj solution hints':      0        0        0\n",
      "        'lp solutions':     92       42       63\n",
      "                'pump':    352       29\n",
      "\n",
      "Improving bounds shared    Num  Sym\n",
      "            'default_lp':  339    0\n",
      "                'max_lp':  319    0\n",
      "         'quick_restart':  103    0\n",
      "         'reduced_costs':  192    0\n",
      "\n",
      "Clauses shared      Num\n",
      "           'core':    2\n",
      "  'quick_restart':   10\n",
      "  'reduced_costs':    1\n",
      "\n",
      "[Scaling] scaled_objective_bound: 141996 corrected_bound: 141996 delta: 1.66282e-06\n",
      "CpSolverResponse summary:\n",
      "status: FEASIBLE\n",
      "objective: 143300.1064689605\n",
      "best_bound: 141995.8172180714\n",
      "integers: 0\n",
      "booleans: 0\n",
      "conflicts: 0\n",
      "branches: 0\n",
      "propagations: 0\n",
      "integer_propagations: 0\n",
      "restarts: 0\n",
      "lp_iterations: 0\n",
      "walltime: 40.0583\n",
      "usertime: 40.0583\n",
      "deterministic_time: 241.075\n",
      "gap_integral: 1747.57\n",
      "solution_fingerprint: 0x97a8a214cd55dca\n",
      "\n",
      "================================================================= \n",
      "best solution's strategy: graph_cst_lns (d=5.79e-01 s=267 t=0.10 p=0.50 stall=12 h=stalling) \n",
      "gap: 0.9%\n"
     ]
    }
   ],
   "source": [
    "orter.parameters.max_time_in_seconds = 40\n",
    "orter.parameters.relative_gap_limit = 0.005\n",
    "orter.parameters.num_workers = 8\n",
    "\n",
    "# be verbose\n",
    "orter.parameters.log_search_progress = True\n",
    "# required to get the log inside the notebook (goes only to console otherwise)\n",
    "orter.log_callback = print\n",
    "\n",
    "result = orter.solve(model)\n",
    "\n",
    "gap = 1 - orter.BestObjectiveBound()/orter.ObjectiveValue()\n",
    "print('=================================================================',\n",
    "      #orter.ResponseStats(),  # uncomment if orter.parameters.log_search_progress == False\n",
    "      f\"\\nbest solution's strategy: {orter.SolutionInfo()}\",\n",
    "      f'\\ngap: {100*gap:.1f}%')"
   ]
  },
  {
   "cell_type": "code",
   "execution_count": 9,
   "id": "3fb92d29-a696-48c2-af4c-824f17dd4a8d",
   "metadata": {
    "deletable": false,
    "editable": false,
    "frozen": true,
    "scrolled": true
   },
   "outputs": [
    {
     "name": "stdout",
     "output_type": "stream",
     "text": [
      "\n",
      "Starting CP-SAT solver v9.11.4210\n",
      "Parameters: max_time_in_seconds: 40 log_search_progress: true relative_gap_limit: 0.005 num_workers: 8\n",
      "\n",
      "Initial optimization model 'Moray East': (model_fingerprint: 0x7b9ac3fa114f13b7)\n",
      "#Variables: 2'428 (#bools: 757 in floating point objective)\n",
      "  - 1'671 Booleans in [0,1]\n",
      "  - 457 in [-6,6]\n",
      "  - 300 in [0,7]\n",
      "#kAtMostOne: 423 (#literals: 1'922)\n",
      "#kLinear1: 3'342 (#enforced: 3'342)\n",
      "#kLinearN: 103 (#terms: 2'571)\n",
      "\n",
      "Starting presolve at 0.01s\n",
      "The solution hint is complete and is feasible.\n",
      "[Scaling] Floating point objective has 757 terms with magnitude in [1119.02, 18596.1] average = 4819.24\n",
      "[Scaling] Objective coefficient relative error: 4.16209e-10\n",
      "[Scaling] Objective worst-case absolute error: 9.52168e-05\n",
      "[Scaling] Objective scaling factor: 1.04858e+06\n",
      "  5.92e-04s  0.00e+00d  [DetectDominanceRelations] \n",
      "  1.14e-02s  0.00e+00d  [operations_research::sat::CpModelPresolver::PresolveToFixPoint] #num_loops=2 #num_dual_strengthening=1 \n",
      "  7.54e-05s  0.00e+00d  [operations_research::sat::CpModelPresolver::ExtractEncodingFromLinear] #potential_supersets=423 \n",
      "[Symmetry] Graph for symmetry has 8'575 nodes and 13'717 arcs.\n",
      "[Symmetry] Symmetry computation done. time: 0.0009241 dtime: 0.00188147\n",
      "  4.35e-04s  0.00e+00d  [operations_research::sat::CpModelPresolver::DetectDuplicateConstraintsWithDifferentEnforcements] \n",
      "  1.25e-02s  5.27e-03d  [operations_research::sat::CpModelPresolver::Probe] #probed=3'342 \n",
      "  6.72e-04s  0.00e+00d  [MaxClique] \n",
      "  5.03e-04s  0.00e+00d  [DetectDominanceRelations] \n",
      "  5.18e-03s  0.00e+00d  [operations_research::sat::CpModelPresolver::PresolveToFixPoint] #num_loops=1 #num_dual_strengthening=1 \n",
      "  7.52e-04s  0.00e+00d  [operations_research::sat::CpModelPresolver::ProcessAtMostOneAndLinear] \n",
      "  4.95e-04s  0.00e+00d  [operations_research::sat::CpModelPresolver::DetectDuplicateConstraints] \n",
      "  1.46e-03s  0.00e+00d  [operations_research::sat::CpModelPresolver::DetectDuplicateConstraintsWithDifferentEnforcements] \n",
      "  1.44e-04s  9.07e-06d  [operations_research::sat::CpModelPresolver::DetectDominatedLinearConstraints] #relevant_constraints=103 #num_inclusions=1 \n",
      "  3.29e-05s  0.00e+00d  [operations_research::sat::CpModelPresolver::DetectDifferentVariables] \n",
      "  2.09e-04s  2.56e-04d  [operations_research::sat::CpModelPresolver::ProcessSetPPC] #relevant_constraints=425 #num_inclusions=323 \n",
      "  4.78e-05s  2.40e-07d  [operations_research::sat::CpModelPresolver::FindAlmostIdenticalLinearConstraints] #num_tested_pairs=4 \n",
      "  4.26e-03s  6.40e-03d  [operations_research::sat::CpModelPresolver::FindBigAtMostOneAndLinearOverlap] \n",
      "  5.98e-04s  3.90e-03d  [operations_research::sat::CpModelPresolver::FindBigVerticalLinearOverlap] \n",
      "  2.65e-04s  1.64e-04d  [operations_research::sat::CpModelPresolver::FindBigHorizontalLinearOverlap] #blocks=1 #saved_nz=297 #linears=103 \n",
      "  1.71e-05s  0.00e+00d  [operations_research::sat::CpModelPresolver::MergeClauses] \n",
      "  5.03e-04s  0.00e+00d  [DetectDominanceRelations] \n",
      "  5.13e-03s  0.00e+00d  [operations_research::sat::CpModelPresolver::PresolveToFixPoint] #num_loops=2 #num_dual_strengthening=1 \n",
      "  5.25e-04s  0.00e+00d  [DetectDominanceRelations] \n",
      "  5.20e-03s  0.00e+00d  [operations_research::sat::CpModelPresolver::PresolveToFixPoint] #num_loops=1 #num_dual_strengthening=1 \n",
      "[Symmetry] Graph for symmetry has 8'577 nodes and 13'420 arcs.\n",
      "[Symmetry] Symmetry computation done. time: 0.0006469 dtime: 0.00183019\n",
      "[SAT presolve] num removable Booleans: 0 / 1671\n",
      "[SAT presolve] num trivial clauses: 0\n",
      "[SAT presolve] [0s] clauses:261 literals:522 vars:365 one_side_vars:365 simple_definition:0 singleton_clauses:0\n",
      "[SAT presolve] [0.0003773s] clauses:261 literals:522 vars:365 one_side_vars:365 simple_definition:0 singleton_clauses:0\n",
      "[SAT presolve] [0.0005634s] clauses:261 literals:522 vars:365 one_side_vars:365 simple_definition:0 singleton_clauses:0\n",
      "  3.71e-04s  0.00e+00d  [operations_research::sat::CpModelPresolver::DetectDuplicateConstraintsWithDifferentEnforcements] \n",
      "  1.55e-02s  6.54e-03d  [operations_research::sat::CpModelPresolver::Probe] #probed=3'342 \n",
      "  6.01e-04s  0.00e+00d  [MaxClique] \n",
      "  5.09e-04s  0.00e+00d  [DetectDominanceRelations] \n",
      "  5.41e-03s  0.00e+00d  [operations_research::sat::CpModelPresolver::PresolveToFixPoint] #num_loops=1 #num_dual_strengthening=1 \n",
      "  1.22e-03s  0.00e+00d  [operations_research::sat::CpModelPresolver::ProcessAtMostOneAndLinear] \n",
      "  1.03e-03s  0.00e+00d  [operations_research::sat::CpModelPresolver::DetectDuplicateConstraints] \n",
      "  8.42e-04s  0.00e+00d  [operations_research::sat::CpModelPresolver::DetectDuplicateConstraintsWithDifferentEnforcements] \n",
      "  1.92e-04s  6.82e-06d  [operations_research::sat::CpModelPresolver::DetectDominatedLinearConstraints] #relevant_constraints=103 \n",
      "  7.63e-05s  0.00e+00d  [operations_research::sat::CpModelPresolver::DetectDifferentVariables] \n",
      "  4.98e-04s  1.58e-04d  [operations_research::sat::CpModelPresolver::ProcessSetPPC] #relevant_constraints=425 #num_inclusions=323 \n",
      "  1.52e-04s  1.25e-07d  [operations_research::sat::CpModelPresolver::FindAlmostIdenticalLinearConstraints] #num_tested_pairs=2 \n",
      "  4.92e-03s  3.04e-03d  [operations_research::sat::CpModelPresolver::FindBigAtMostOneAndLinearOverlap] \n",
      "  1.09e-03s  2.09e-03d  [operations_research::sat::CpModelPresolver::FindBigVerticalLinearOverlap] \n",
      "  4.46e-04s  5.51e-04d  [operations_research::sat::CpModelPresolver::FindBigHorizontalLinearOverlap] #linears=103 \n",
      "  3.37e-05s  0.00e+00d  [operations_research::sat::CpModelPresolver::MergeClauses] \n",
      "  6.94e-04s  0.00e+00d  [DetectDominanceRelations] \n",
      "  6.84e-03s  0.00e+00d  [operations_research::sat::CpModelPresolver::PresolveToFixPoint] #num_loops=1 #num_dual_strengthening=1 \n",
      "  3.01e-04s  0.00e+00d  [operations_research::sat::CpModelPresolver::ExpandObjective] #entries=457 #tight_variables=1 #tight_constraints=1 \n",
      "\n",
      "Presolve summary:\n",
      "  - 0 affine relations were detected.\n",
      "  - rule 'TODO dual: make linear1 equiv' was applied 5'484 times.\n",
      "  - rule 'TODO linear inclusion: superset is equality' was applied 1 time.\n",
      "  - rule 'deductions: 3342 stored' was applied 1 time.\n",
      "  - rule 'linear matrix: common horizontal rectangle' was applied 1 time.\n",
      "  - rule 'linear1: always true' was applied 1 time.\n",
      "  - rule 'linear: reduced variable domains' was applied 1 time.\n",
      "  - rule 'linear: simplified rhs' was applied 2'130 times.\n",
      "  - rule 'presolve: 0 unused variables removed.' was applied 1 time.\n",
      "  - rule 'presolve: iteration' was applied 2 times.\n",
      "  - rule 'variables: detect fully reified value encoding' was applied 757 times.\n",
      "  - rule 'variables: detect half reified value encoding' was applied 1'514 times.\n",
      "\n",
      "Presolved optimization model 'Moray East': (model_fingerprint: 0xed4f8392ba35f545)\n",
      "#Variables: 2'429 (#bools: 757 in objective)\n",
      "  - 1'671 Booleans in [0,1]\n",
      "  - 457 in [-6,6]\n",
      "  - 300 in [0,7]\n",
      "  - 1 in [15,100]\n",
      "#kAtMostOne: 162 (#literals: 1'400)\n",
      "#kBoolAnd: 203 (#enforced: 203) (#literals: 464)\n",
      "#kLinear1: 3'342 (#enforced: 3'342)\n",
      "#kLinearN: 103 (#terms: 2'273)\n",
      "\n",
      "Preloading model.\n",
      "#Bound   0.12s best:inf   next:[0,3648163.45] initial_domain\n",
      "#1       0.12s best:150853.103 next:[0,150853.103] complete_hint\n",
      "[Symmetry] Graph for symmetry has 8'577 nodes and 13'420 arcs.\n",
      "[Symmetry] Symmetry computation done. time: 0.000624 dtime: 0.00183019\n",
      "#Model   0.12s var:2429/2429 constraints:3810/3810\n",
      "\n",
      "Starting search at 0.12s with 8 workers.\n",
      "6 full problem subsolvers: [core, default_lp, max_lp, no_lp, quick_restart, reduced_costs]\n",
      "2 first solution subsolvers: [fj, fs_random_no_lp]\n",
      "9 interleaved subsolvers: [feasibility_pump, graph_arc_lns, graph_cst_lns, graph_dec_lns, graph_var_lns, ls, rins/rens, rnd_cst_lns, rnd_var_lns]\n",
      "3 helper subsolvers: [neighborhood_helper, synchronization_agent, update_gap_integral]\n",
      "\n",
      "#Bound   0.18s best:150853.103 next:[129803.739,150853.103] quick_restart\n",
      "#Bound   0.25s best:150853.103 next:[134462.493,150853.103] max_lp\n",
      "#Bound   0.49s best:150853.103 next:[136656.913,150853.103] max_lp\n",
      "#Bound   0.89s best:150853.103 next:[137131.066,150853.103] max_lp\n",
      "#Bound   1.03s best:150853.103 next:[137316.101,150853.103] default_lp\n",
      "#Bound   1.21s best:150853.103 next:[138426.312,150853.103] default_lp\n",
      "#Bound   1.47s best:150853.103 next:[138949.518,150853.103] default_lp\n",
      "#Bound   1.72s best:150853.103 next:[139229.771,150853.103] default_lp\n",
      "#Model   1.76s var:2407/2429 constraints:3788/3810\n",
      "#Bound   2.03s best:150853.103 next:[139543.412,150853.103] default_lp\n",
      "#Bound   2.31s best:150853.103 next:[139760.39,150853.103] default_lp\n",
      "#Bound   2.71s best:150853.103 next:[139811.005,150853.103] default_lp\n",
      "#Model   2.72s var:2403/2429 constraints:3784/3810\n",
      "#Model   2.83s var:2397/2429 constraints:3778/3810\n",
      "#Bound   3.12s best:150853.103 next:[139959.432,150853.103] default_lp\n",
      "#2       3.40s best:150852.147 next:[139959.432,150852.147] rins_lp_lns (d=0.29 s=41 t=0.10 p=0.00 stall=1 h=auto_l0)\n",
      "#Bound   3.65s best:150852.147 next:[139998.842,150852.147] default_lp\n",
      "#Bound   4.08s best:150852.147 next:[140054.074,150852.147] default_lp\n",
      "#3       6.89s best:149965.017 next:[140054.074,149965.017] reduced_costs (fixed_bools=16/1687)\n",
      "#Model   8.51s var:2381/2429 constraints:3762/3810\n",
      "#4       8.55s best:149963.569 next:[140054.074,149963.569] graph_dec_lns (d=0.79 s=84 t=0.10 p=0.62 stall=8 h=auto_l0)\n",
      "#5       8.75s best:149937.731 next:[140054.074,149937.731] rins_lp_lns (d=0.46 s=87 t=0.10 p=0.50 stall=4 h=auto_l0)\n",
      "#6       9.31s best:149471.428 next:[140054.074,149471.428] rnd_cst_lns (d=0.67 s=89 t=0.10 p=0.56 stall=9 h=auto_l0)\n",
      "#7       9.33s best:149471.427 next:[140054.074,149471.427] graph_arc_lns (d=0.37 s=91 t=0.10 p=0.44 stall=9 h=auto_l0)\n",
      "#Model  10.78s var:2379/2429 constraints:3760/3810\n",
      "#8      11.51s best:149053.552 next:[140054.074,149053.552] graph_dec_lns (d=0.72 s=111 t=0.10 p=0.55 stall=2 h=auto_l0)\n",
      "#Bound  12.28s best:149053.552 next:[140120.172,149053.552] max_lp\n",
      "#9      12.42s best:148503.707 next:[140120.172,148503.707] rins_lp_lns (d=0.46 s=123 t=0.10 p=0.50 stall=3 h=auto_l0)\n",
      "#10     12.72s best:148084.836 next:[140120.172,148084.836] rnd_cst_lns (d=0.67 s=125 t=0.10 p=0.54 stall=3 h=auto_l0)\n",
      "#Bound  13.32s best:148084.836 next:[140198.865,148084.836] max_lp\n",
      "#Model  14.16s var:2317/2429 constraints:3696/3810\n",
      "#Bound  14.52s best:148084.836 next:[140291.985,148084.836] max_lp\n",
      "#Model  15.68s var:2299/2429 constraints:3678/3810\n",
      "#Bound  15.80s best:148084.836 next:[140362.829,148084.836] max_lp\n",
      "#Model  16.84s var:2293/2429 constraints:3672/3810\n",
      "#Bound  17.18s best:148084.836 next:[140448.461,148084.836] max_lp\n",
      "#11     17.33s best:147523.027 next:[140448.461,147523.027] graph_var_lns (d=0.83 s=180 t=0.10 p=0.58 stall=1 h=auto_l0)\n",
      "#12     18.10s best:147254.992 next:[140448.461,147254.992] reduced_costs (fixed_bools=57/1693)\n",
      "#Bound  18.60s best:147254.992 next:[140521.556,147254.992] max_lp\n",
      "#13     19.54s best:145981.579 next:[140521.556,145981.579] graph_arc_lns (d=0.58 s=199 t=0.10 p=0.52 stall=11 h=folio_rnd)\n",
      "#Model  19.87s var:2259/2429 constraints:3638/3810\n",
      "#Model  20.10s var:2255/2429 constraints:3634/3810\n",
      "#Bound  20.14s best:145981.579 next:[140591.304,145981.579] max_lp\n",
      "#14     21.32s best:145336.531 next:[140591.304,145336.531] rins_pump_lns (d=0.55 s=222 t=0.10 p=0.53 stall=8 h=auto_l0)\n",
      "#Bound  21.84s best:145336.531 next:[140692.312,145336.531] max_lp\n",
      "#Bound  22.03s best:145336.531 next:[140739.523,145336.531] max_lp\n",
      "#Bound  23.62s best:145336.531 next:[140815.708,145336.531] max_lp\n",
      "#Model  23.66s var:2147/2429 constraints:3523/3810\n",
      "#Model  25.26s var:2145/2429 constraints:3521/3810\n",
      "#Bound  25.67s best:145336.531 next:[140896.409,145336.531] max_lp\n",
      "#Bound  27.39s best:145336.531 next:[140918.5,145336.531] max_lp\n",
      "#Model  27.43s var:2099/2429 constraints:3473/3810\n",
      "#Bound  29.04s best:145336.531 next:[140953.49,145336.531] max_lp\n",
      "#15     30.64s best:145336.059 next:[140953.49,145336.059] rnd_var_lns (d=0.75 s=313 t=0.10 p=0.53 stall=34 h=folio_rnd)\n",
      "#Bound  30.85s best:145336.059 next:[140982.659,145336.059] max_lp\n",
      "#Model  30.88s var:2097/2429 constraints:3471/3810\n",
      "#Bound  38.60s best:145336.059 next:[141070.452,145336.059] max_lp\n",
      "#Model  38.71s var:2095/2429 constraints:3469/3810\n",
      "#Bound  39.98s best:145336.059 next:[141127.502,145336.059] max_lp\n",
      "#Model  40.05s var:2091/2429 constraints:3465/3810\n",
      "\n",
      "Task timing                   n [     min,      max]      avg      dev     time         n [     min,      max]      avg      dev    dtime\n",
      "              'core':         1 [  39.88s,   39.88s]   39.88s   0.00ns   39.88s         1 [  28.54s,   28.54s]   28.54s   0.00ns   28.54s\n",
      "        'default_lp':         1 [  39.87s,   39.87s]   39.87s   0.00ns   39.87s         1 [  20.02s,   20.02s]   20.02s   0.00ns   20.02s\n",
      "  'feasibility_pump':        46 [ 78.00us,    1.33s] 321.45ms 324.64ms   14.79s        44 [107.12ms, 936.08ms] 214.55ms 220.87ms    9.44s\n",
      "                'fj':         0 [  0.00ns,   0.00ns]   0.00ns   0.00ns   0.00ns         0 [  0.00ns,   0.00ns]   0.00ns   0.00ns   0.00ns\n",
      "   'fs_random_no_lp':         0 [  0.00ns,   0.00ns]   0.00ns   0.00ns   0.00ns         0 [  0.00ns,   0.00ns]   0.00ns   0.00ns   0.00ns\n",
      "     'graph_arc_lns':        46 [ 17.71ms, 584.26ms] 164.40ms 113.83ms    7.56s        46 [ 40.58us, 100.16ms]  56.05ms  45.49ms    2.58s\n",
      "     'graph_cst_lns':        46 [ 15.08ms, 689.89ms] 196.98ms 147.58ms    9.06s        46 [  8.41us, 100.39ms]  56.37ms  45.43ms    2.59s\n",
      "     'graph_dec_lns':        46 [ 10.49ms, 759.12ms] 192.01ms 184.16ms    8.83s        46 [ 10.00ns, 100.93ms]  49.66ms  49.18ms    2.28s\n",
      "     'graph_var_lns':        46 [  6.45ms, 654.67ms] 229.88ms 170.86ms   10.57s        46 [ 10.00ns, 100.20ms]  63.38ms  43.44ms    2.92s\n",
      "                'ls':        46 [ 75.97ms, 148.18ms] 107.56ms  17.86ms    4.95s        46 [100.01ms, 100.06ms] 100.02ms  11.25us    4.60s\n",
      "            'max_lp':         1 [  39.92s,   39.92s]   39.92s   0.00ns   39.92s         1 [   1.29s,    1.29s]    1.29s   0.00ns    1.29s\n",
      "             'no_lp':         1 [  39.87s,   39.87s]   39.87s   0.00ns   39.87s         1 [  26.16s,   26.16s]   26.16s   0.00ns   26.16s\n",
      "     'quick_restart':         1 [  39.87s,   39.87s]   39.87s   0.00ns   39.87s         1 [  13.42s,   13.42s]   13.42s   0.00ns   13.42s\n",
      "     'reduced_costs':         1 [  39.87s,   39.87s]   39.87s   0.00ns   39.87s         1 [  10.86s,   10.86s]   10.86s   0.00ns   10.86s\n",
      "         'rins/rens':        47 [  1.57ms, 356.32ms] 130.37ms 120.27ms    6.13s        37 [ 10.00ns, 100.11ms]  61.91ms  43.53ms    2.29s\n",
      "       'rnd_cst_lns':        46 [ 23.18ms, 358.99ms] 173.55ms 113.15ms    7.98s        46 [ 83.63us, 100.52ms]  53.61ms  46.69ms    2.47s\n",
      "       'rnd_var_lns':        47 [ 15.46ms, 550.78ms] 208.60ms 142.35ms    9.80s        46 [478.00ns, 100.21ms]  57.71ms  46.60ms    2.65s\n",
      "\n",
      "Search stats          Bools  Conflicts  Branches  Restarts  BoolPropag  IntegerPropag\n",
      "             'core':  1'671    668'987   919'016     6'839  20'122'791     58'093'548\n",
      "       'default_lp':  1'910      1'099    90'058    33'398     675'280      1'487'431\n",
      "  'fs_random_no_lp':      0          0         0         0           0              0\n",
      "           'max_lp':  1'671         12     3'588     3'344      26'404         78'791\n",
      "            'no_lp':  1'671    291'210   657'010    50'108  39'169'445     73'907'373\n",
      "    'quick_restart':  1'731        102   107'584    44'743     646'202      1'579'197\n",
      "    'reduced_costs':  1'697      2'208   118'669    43'866     780'279      2'673'830\n",
      "\n",
      "SAT stats             ClassicMinim  LitRemoved   LitLearned  LitForgotten  Subsumed  MClauses  MDecisions  MLitTrue  MSubsumed  MLitRemoved  MReused\n",
      "             'core':       183'075   2'732'742  108'251'223    98'495'188    18'965       914       4'570         0          0            0        0\n",
      "       'default_lp':           918      55'114      139'036             0        16     8'640      50'173         0         29          427       21\n",
      "  'fs_random_no_lp':             0           0            0             0         0         0           0         0          0            0        0\n",
      "           'max_lp':            12         667        3'588             0         0         0           0         0          0            0        0\n",
      "            'no_lp':       280'034   5'831'397   49'795'890    45'037'086     2'008    13'204      78'002         0         27          223      125\n",
      "    'quick_restart':            80       3'700       12'340             0         2    11'906      59'813         0          6           44       24\n",
      "    'reduced_costs':         1'914      83'756      923'678             0        17    10'976      54'880         0          0            0        0\n",
      "\n",
      "Lp stats            Component  Iterations  AddedCuts  OPTIMAL  DUAL_F.  DUAL_U.\n",
      "     'default_lp':          1     135'653      4'075    3'072        6       79\n",
      "         'max_lp':          1      20'413     18'398      201        6        0\n",
      "  'quick_restart':          1      48'778      3'977      997        2       15\n",
      "  'reduced_costs':          1     167'940     12'755    6'063    1'535      352\n",
      "\n",
      "Lp dimension                                                           Final dimension of first component\n",
      "     'default_lp':  1204 rows, 1515 columns, 23873 entries with magnitude in [2.284482e-04, 1.000000e+00]\n",
      "         'max_lp':  3029 rows, 2429 columns, 71326 entries with magnitude in [4.761656e-04, 1.000000e+00]\n",
      "  'quick_restart':  1675 rows, 1515 columns, 55003 entries with magnitude in [1.418262e-04, 1.000000e+00]\n",
      "  'reduced_costs':    896 rows, 2429 columns, 9701 entries with magnitude in [2.637143e-04, 1.000000e+00]\n",
      "\n",
      "Lp debug            CutPropag  CutEqPropag  Adjust  Overflow     Bad  BadScaling\n",
      "     'default_lp':          0           19   3'143         0  18'612           0\n",
      "         'max_lp':          2            1     207         0  59'795           0\n",
      "  'quick_restart':          2           44   1'005         0  32'383           0\n",
      "  'reduced_costs':          0            0   7'841         0   4'387           0\n",
      "\n",
      "Lp pool             Constraints  Updates  Simplif  Merged  Shortened  Split  Strenghtened      Cuts/Call\n",
      "     'default_lp':        6'154      787   23'821       0     18'100     85         1'486   4'075/10'541\n",
      "         'max_lp':       12'938    1'406   31'597       0     27'387  2'474         5'135  18'398/42'259\n",
      "  'quick_restart':        6'056    1'105   30'055       0     20'823    322           772   3'977/10'038\n",
      "  'reduced_costs':       13'295      259    7'272       0      5'897  1'805         4'035  12'755/35'461\n",
      "\n",
      "Lp Cut            default_lp  quick_restart  reduced_costs  max_lp\n",
      "          CG_FF:          29             12             89      39\n",
      "           CG_K:         100             58            336     192\n",
      "          CG_KL:           8              4             23      16\n",
      "           CG_R:          46             23            132      29\n",
      "          CG_RB:         745            916          1'145   1'623\n",
      "         CG_RBP:         273            225            424     368\n",
      "         Clique:           -              -            288     142\n",
      "             IB:         646            424          3'070       6\n",
      "       MIR_1_FF:          90             66             94      49\n",
      "        MIR_1_K:          70             56            251     160\n",
      "       MIR_1_KL:          23             22             90     112\n",
      "        MIR_1_R:          25             24              9      18\n",
      "       MIR_1_RB:         122            164            377     300\n",
      "      MIR_1_RBP:          22             24             95      66\n",
      "       MIR_2_FF:          23             18             18      81\n",
      "        MIR_2_K:         105             90            612   1'055\n",
      "       MIR_2_KL:          43             32            348   1'497\n",
      "        MIR_2_R:          10              8             16      13\n",
      "       MIR_2_RB:         264            309          1'169   2'859\n",
      "      MIR_2_RBP:          51             37            275     631\n",
      "       MIR_3_FF:          13              4             15      59\n",
      "        MIR_3_K:          78             66            240     562\n",
      "       MIR_3_KL:          14             13             78     391\n",
      "        MIR_3_R:           9             16             12      10\n",
      "       MIR_3_RB:         240            252            669   2'467\n",
      "      MIR_3_RBP:          53             37            187     251\n",
      "       MIR_4_FF:          12              3              4      42\n",
      "        MIR_4_K:          48             39            140     261\n",
      "       MIR_4_KL:          16              4             47     136\n",
      "        MIR_4_R:           5             12              6       7\n",
      "       MIR_4_RB:         128            164            392   1'495\n",
      "      MIR_4_RBP:          56             24             94     143\n",
      "       MIR_5_FF:           5              3              5      34\n",
      "        MIR_5_K:          30             39            106     135\n",
      "       MIR_5_KL:          13              5             39      70\n",
      "        MIR_5_R:           4              5             12       3\n",
      "       MIR_5_RB:         106            124            265     745\n",
      "      MIR_5_RBP:          29             30             71     100\n",
      "       MIR_6_FF:           3              1              1      16\n",
      "        MIR_6_K:          26             31             60      99\n",
      "       MIR_6_KL:           8              4             24      57\n",
      "        MIR_6_R:          12              9              1       1\n",
      "       MIR_6_RB:          73             75            176     436\n",
      "      MIR_6_RBP:          35             13             45      92\n",
      "   ZERO_HALF_FF:           8              6             46      26\n",
      "    ZERO_HALF_K:          17              7            179      98\n",
      "   ZERO_HALF_KL:           7              3             46      86\n",
      "    ZERO_HALF_R:         261            364            681     948\n",
      "   ZERO_HALF_RB:          63            103            224     346\n",
      "  ZERO_HALF_RBP:           8              9             29      26\n",
      "\n",
      "LNS stats           Improv/Calls  Closed  Difficulty  TimeLimit\n",
      "  'graph_arc_lns':          2/46     52%        0.62       0.10\n",
      "  'graph_cst_lns':          1/46     52%        0.68       0.10\n",
      "  'graph_dec_lns':          4/46     52%        0.78       0.10\n",
      "  'graph_var_lns':          2/46     48%        0.61       0.10\n",
      "      'rins/rens':          9/41     51%        0.54       0.10\n",
      "    'rnd_cst_lns':          3/46     52%        0.71       0.10\n",
      "    'rnd_var_lns':          1/46     50%        0.67       0.10\n",
      "\n",
      "LS stats                                Batches  Restarts/Perturbs  LinMoves  GenMoves  CompoundMoves  Bactracks  WeightUpdates  ScoreComputed\n",
      "                         'ls_restart':        4                  4    37'371         0              0          0          9'961      1'241'012\n",
      "                'ls_restart_compound':        2                  2         0    19'622          1'256      9'180            145        677'133\n",
      "        'ls_restart_compound_perturb':        5                  5         0    50'641          3'613     23'510            327      2'051'465\n",
      "                   'ls_restart_decay':        7                  7   109'575         0              0          0          1'597      2'674'226\n",
      "          'ls_restart_decay_compound':        5                  5         0    72'743         16'082     28'320            160      2'104'297\n",
      "  'ls_restart_decay_compound_perturb':        5                  5         0    71'982         13'661     29'144            158      2'077'323\n",
      "           'ls_restart_decay_perturb':       10                 10   175'548         0              0          0          2'833      3'763'958\n",
      "                 'ls_restart_perturb':        8                  8    80'492         0              0          0         19'761      2'594'560\n",
      "\n",
      "Solutions (15)      Num     Rank\n",
      "  'complete_hint':    1    [1,1]\n",
      "  'graph_arc_lns':    2   [7,13]\n",
      "  'graph_dec_lns':    2    [4,8]\n",
      "  'graph_var_lns':    1  [11,11]\n",
      "  'reduced_costs':    2   [3,12]\n",
      "    'rins_lp_lns':    3    [2,9]\n",
      "  'rins_pump_lns':    1  [14,14]\n",
      "    'rnd_cst_lns':    2   [6,10]\n",
      "    'rnd_var_lns':    1  [15,15]\n",
      "\n",
      "Objective bounds     Num\n",
      "      'default_lp':   10\n",
      "  'initial_domain':    1\n",
      "          'max_lp':   19\n",
      "   'quick_restart':    1\n",
      "\n",
      "Solution repositories    Added  Queried  Synchro\n",
      "  'feasible solutions':     52      729       52\n",
      "        'lp solutions':    207       24      186\n",
      "                'pump':    795       23\n",
      "\n",
      "Improving bounds shared    Num\n",
      "            'default_lp':   91\n",
      "                'max_lp':   53\n",
      "         'quick_restart':  202\n",
      "\n",
      "[Scaling] scaled_objective_bound: 141128 corrected_bound: 141128 delta: -2.39784e-06\n",
      "CpSolverResponse summary:\n",
      "status: FEASIBLE\n",
      "objective: 145336.0592663797\n",
      "best_bound: 141127.5021052497\n",
      "integers: 0\n",
      "booleans: 0\n",
      "conflicts: 0\n",
      "branches: 0\n",
      "propagations: 0\n",
      "integer_propagations: 0\n",
      "restarts: 0\n",
      "lp_iterations: 0\n",
      "walltime: 40.0759\n",
      "usertime: 40.0759\n",
      "deterministic_time: 132.137\n",
      "gap_integral: 1117.32\n",
      "solution_fingerprint: 0x21959e0befbb459a\n",
      "\n",
      "================================================================= \n",
      "best solution's strategy: rnd_var_lns (d=0.75 s=313 t=0.10 p=0.53 stall=34 h=folio_rnd) \n",
      "gap: 2.9%\n"
     ]
    }
   ],
   "source": [
    "orter.parameters.max_time_in_seconds = 40\n",
    "orter.parameters.relative_gap_limit = 0.005\n",
    "orter.parameters.num_workers = 8\n",
    "\n",
    "# be verbose\n",
    "orter.parameters.log_search_progress = True\n",
    "# required to get the log inside the notebook (goes only to console otherwise)\n",
    "orter.log_callback = print\n",
    "\n",
    "result = orter.solve(model)\n",
    "\n",
    "gap = 1 - orter.BestObjectiveBound()/orter.ObjectiveValue()\n",
    "print('=================================================================',\n",
    "      #orter.ResponseStats(),  # uncomment if orter.parameters.log_search_progress == False\n",
    "      f\"\\nbest solution's strategy: {orter.SolutionInfo()}\",\n",
    "      f'\\ngap: {100*gap:.1f}%')"
   ]
  },
  {
   "cell_type": "code",
   "execution_count": 10,
   "id": "3f79a0e9-287a-4d74-89f2-b79d559a2e90",
   "metadata": {
    "deletable": false,
    "editable": false,
    "frozen": true
   },
   "outputs": [
    {
     "data": {
      "image/svg+xml": [
       "<svg xmlns=\"http://www.w3.org/2000/svg\" viewBox=\"0 0 1920 1080\"><defs ><filter x=\"-5%\" y=\"-5%\" id=\"bg_textbox\" width=\"110%\" height=\"110%\"><feFlood flood-opacity=\"0.7\" flood-color=\"#111\" result=\"bg\"/><feMerge ><feMergeNode in=\"bg\"/><feMergeNode in=\"SourceGraphic\"/></feMerge></filter><circle stroke=\"none\" stroke-width=\"2\" id=\"wtg\" r=\"12\"/><rect stroke=\"none\" stroke-width=\"2\" id=\"oss\" width=\"21\" height=\"21\" fill=\"lawngreen\"/></defs><g id=\"moray\"><path stroke=\"silver\" stroke-dasharray=\"15 7\" stroke-width=\"2\" id=\"border\" d=\"M1471 544 1103 863 895 1043 421 1050 30 30 79 90 117 127 165 165 217 198 277 226 325 243 400 260 441 266 498 267 559 263 645 245 690 229 738 208 789 180 838 145 895 205 1022 314 1149 406 1271 472 1347 505z\" fill-rule=\"evenodd\" fill=\"#111\"/><g stroke=\"crimson\" stroke-width=\"4\" id=\"edges_unspecified\"><line x1=\"368\" y1=\"474\" x2=\"369\" y2=\"395\"/><line x1=\"368\" y1=\"474\" x2=\"311\" y2=\"474\"/><line x1=\"368\" y1=\"474\" x2=\"312\" y2=\"395\"/><line x1=\"368\" y1=\"474\" x2=\"426\" y2=\"396\"/><line x1=\"427\" y1=\"317\" x2=\"369\" y2=\"395\"/><line x1=\"313\" y1=\"317\" x2=\"312\" y2=\"395\"/><line x1=\"592\" y1=\"786\" x2=\"593\" y2=\"708\"/><line x1=\"592\" y1=\"786\" x2=\"535\" y2=\"864\"/><line x1=\"592\" y1=\"786\" x2=\"536\" y2=\"708\"/><line x1=\"592\" y1=\"786\" x2=\"705\" y2=\"864\"/><line x1=\"592\" y1=\"786\" x2=\"650\" y2=\"708\"/><line x1=\"592\" y1=\"786\" x2=\"591\" y2=\"864\"/><line x1=\"478\" y1=\"864\" x2=\"535\" y2=\"864\"/><line x1=\"535\" y1=\"864\" x2=\"534\" y2=\"942\"/><line x1=\"705\" y1=\"864\" x2=\"762\" y2=\"864\"/><line x1=\"880\" y1=\"552\" x2=\"823\" y2=\"474\"/><line x1=\"880\" y1=\"552\" x2=\"879\" y2=\"630\"/><line x1=\"880\" y1=\"552\" x2=\"993\" y2=\"630\"/><line x1=\"880\" y1=\"552\" x2=\"881\" y2=\"396\"/><line x1=\"880\" y1=\"552\" x2=\"936\" y2=\"630\"/><line x1=\"879\" y1=\"630\" x2=\"935\" y2=\"708\"/><line x1=\"254\" y1=\"473\" x2=\"311\" y2=\"474\"/><line x1=\"426\" y1=\"396\" x2=\"483\" y2=\"395\"/><line x1=\"881\" y1=\"396\" x2=\"938\" y2=\"395\"/><line x1=\"479\" y1=\"708\" x2=\"536\" y2=\"708\"/><line x1=\"650\" y1=\"708\" x2=\"764\" y2=\"708\"/><line x1=\"591\" y1=\"864\" x2=\"591\" y2=\"942\"/><line x1=\"824\" y1=\"396\" x2=\"823\" y2=\"474\"/><line x1=\"936\" y1=\"630\" x2=\"1049\" y2=\"708\"/><line x1=\"993\" y1=\"630\" x2=\"1049\" y2=\"630\"/><line x1=\"594\" y1=\"630\" x2=\"593\" y2=\"708\"/><line x1=\"765\" y1=\"630\" x2=\"764\" y2=\"708\"/><line x1=\"764\" y1=\"708\" x2=\"821\" y2=\"708\"/><line x1=\"935\" y1=\"708\" x2=\"992\" y2=\"708\"/><line x1=\"992\" y1=\"708\" x2=\"1048\" y2=\"786\"/><line x1=\"142\" y1=\"317\" x2=\"256\" y2=\"317\"/><line x1=\"143\" y1=\"239\" x2=\"142\" y2=\"317\"/><line x1=\"256\" y1=\"317\" x2=\"255\" y2=\"395\"/><line x1=\"255\" y1=\"395\" x2=\"254\" y2=\"473\"/><line x1=\"1048\" y1=\"786\" x2=\"1047\" y2=\"864\"/><line x1=\"990\" y1=\"864\" x2=\"1047\" y2=\"864\"/><line x1=\"1047\" y1=\"864\" x2=\"1103\" y2=\"863\"/><line x1=\"597\" y1=\"395\" x2=\"654\" y2=\"395\"/><line x1=\"654\" y1=\"395\" x2=\"710\" y2=\"395\"/><line x1=\"710\" y1=\"395\" x2=\"767\" y2=\"395\"/><line x1=\"427\" y1=\"317\" x2=\"484\" y2=\"317\"/><line x1=\"484\" y1=\"317\" x2=\"540\" y2=\"317\"/><line x1=\"591\" y1=\"942\" x2=\"648\" y2=\"942\"/><line x1=\"648\" y1=\"942\" x2=\"647\" y2=\"1020\"/><line x1=\"647\" y1=\"1020\" x2=\"704\" y2=\"1020\"/><line x1=\"704\" y1=\"1020\" x2=\"761\" y2=\"1020\"/><line x1=\"254\" y1=\"473\" x2=\"253\" y2=\"552\"/><line x1=\"309\" y1=\"630\" x2=\"309\" y2=\"708\"/><line x1=\"309\" y1=\"630\" x2=\"366\" y2=\"630\"/><line x1=\"309\" y1=\"708\" x2=\"365\" y2=\"708\"/><line x1=\"365\" y1=\"708\" x2=\"422\" y2=\"708\"/><line x1=\"1163\" y1=\"708\" x2=\"1219\" y2=\"708\"/><line x1=\"1163\" y1=\"708\" x2=\"1162\" y2=\"786\"/><line x1=\"1106\" y1=\"708\" x2=\"1163\" y2=\"708\"/><line x1=\"1277\" y1=\"630\" x2=\"1276\" y2=\"708\"/><line x1=\"1220\" y1=\"630\" x2=\"1277\" y2=\"630\"/><line x1=\"939\" y1=\"317\" x2=\"938\" y2=\"395\"/><line x1=\"938\" y1=\"395\" x2=\"995\" y2=\"396\"/><line x1=\"995\" y1=\"396\" x2=\"1051\" y2=\"474\"/><line x1=\"1051\" y1=\"474\" x2=\"1108\" y2=\"474\"/><line x1=\"1108\" y1=\"474\" x2=\"1221\" y2=\"552\"/><line x1=\"540\" y1=\"317\" x2=\"597\" y2=\"317\"/><line x1=\"597\" y1=\"317\" x2=\"654\" y2=\"318\"/><line x1=\"654\" y1=\"318\" x2=\"711\" y2=\"317\"/><line x1=\"422\" y1=\"708\" x2=\"479\" y2=\"708\"/><line x1=\"537\" y1=\"630\" x2=\"594\" y2=\"630\"/><line x1=\"480\" y1=\"630\" x2=\"537\" y2=\"630\"/><line x1=\"594\" y1=\"630\" x2=\"651\" y2=\"630\"/><line x1=\"481\" y1=\"552\" x2=\"480\" y2=\"630\"/><line x1=\"423\" y1=\"630\" x2=\"480\" y2=\"630\"/><line x1=\"933\" y1=\"864\" x2=\"932\" y2=\"942\"/><line x1=\"932\" y1=\"942\" x2=\"992\" y2=\"950\"/><line x1=\"1049\" y1=\"708\" x2=\"1106\" y2=\"708\"/><line x1=\"421\" y1=\"864\" x2=\"478\" y2=\"864\"/><line x1=\"422\" y1=\"786\" x2=\"421\" y2=\"864\"/><line x1=\"365\" y1=\"786\" x2=\"422\" y2=\"786\"/><line x1=\"313\" y1=\"240\" x2=\"313\" y2=\"317\"/><line x1=\"257\" y1=\"239\" x2=\"313\" y2=\"240\"/><line x1=\"534\" y1=\"942\" x2=\"533\" y2=\"1020\"/><line x1=\"762\" y1=\"864\" x2=\"819\" y2=\"864\"/><line x1=\"540\" y1=\"395\" x2=\"597\" y2=\"395\"/><line x1=\"1105\" y1=\"786\" x2=\"1162\" y2=\"786\"/><line x1=\"1049\" y1=\"630\" x2=\"1106\" y2=\"630\"/><line x1=\"1106\" y1=\"630\" x2=\"1163\" y2=\"630\"/><line x1=\"1163\" y1=\"630\" x2=\"1220\" y2=\"630\"/><line x1=\"819\" y1=\"864\" x2=\"933\" y2=\"864\"/><line x1=\"769\" y1=\"239\" x2=\"826\" y2=\"239\"/><line x1=\"826\" y1=\"239\" x2=\"825\" y2=\"317\"/><line x1=\"144\" y1=\"161\" x2=\"200\" y2=\"239\"/><line x1=\"200\" y1=\"239\" x2=\"257\" y2=\"239\"/><line x1=\"87\" y1=\"161\" x2=\"144\" y2=\"161\"/><line x1=\"483\" y1=\"395\" x2=\"540\" y2=\"395\"/><line x1=\"768\" y1=\"317\" x2=\"825\" y2=\"317\"/><line x1=\"825\" y1=\"317\" x2=\"882\" y2=\"317\"/><line x1=\"825\" y1=\"317\" x2=\"824\" y2=\"396\"/></g><g id=\"WTGgrp\"><g fill=\"#c49c94\"><use href=\"#wtg\" x=\"369\" y=\"395\"/><use href=\"#wtg\" x=\"427\" y=\"317\"/><use href=\"#wtg\" x=\"484\" y=\"317\"/><use href=\"#wtg\" x=\"597\" y=\"317\"/><use href=\"#wtg\" x=\"654\" y=\"318\"/><use href=\"#wtg\" x=\"540\" y=\"317\"/><use href=\"#wtg\" x=\"711\" y=\"317\"/></g><g fill=\"#e377c2\"><use href=\"#wtg\" x=\"312\" y=\"395\"/><use href=\"#wtg\" x=\"313\" y=\"317\"/><use href=\"#wtg\" x=\"313\" y=\"240\"/><use href=\"#wtg\" x=\"200\" y=\"239\"/><use href=\"#wtg\" x=\"257\" y=\"239\"/><use href=\"#wtg\" x=\"144\" y=\"161\"/><use href=\"#wtg\" x=\"87\" y=\"161\"/></g><g fill=\"#98df8a\"><use href=\"#wtg\" x=\"535\" y=\"864\"/><use href=\"#wtg\" x=\"421\" y=\"864\"/><use href=\"#wtg\" x=\"478\" y=\"864\"/><use href=\"#wtg\" x=\"422\" y=\"786\"/><use href=\"#wtg\" x=\"534\" y=\"942\"/><use href=\"#wtg\" x=\"533\" y=\"1020\"/><use href=\"#wtg\" x=\"365\" y=\"786\"/></g><g fill=\"#d62728\"><use href=\"#wtg\" x=\"705\" y=\"864\"/><use href=\"#wtg\" x=\"932\" y=\"942\"/><use href=\"#wtg\" x=\"992\" y=\"950\"/><use href=\"#wtg\" x=\"762\" y=\"864\"/><use href=\"#wtg\" x=\"933\" y=\"864\"/><use href=\"#wtg\" x=\"819\" y=\"864\"/></g><g fill=\"#1f77b4\"><use href=\"#wtg\" x=\"879\" y=\"630\"/><use href=\"#wtg\" x=\"935\" y=\"708\"/><use href=\"#wtg\" x=\"992\" y=\"708\"/><use href=\"#wtg\" x=\"1048\" y=\"786\"/><use href=\"#wtg\" x=\"1047\" y=\"864\"/><use href=\"#wtg\" x=\"1103\" y=\"863\"/><use href=\"#wtg\" x=\"990\" y=\"864\"/></g><g fill=\"#f7b6d2\"><use href=\"#wtg\" x=\"311\" y=\"474\"/><use href=\"#wtg\" x=\"142\" y=\"317\"/><use href=\"#wtg\" x=\"256\" y=\"317\"/><use href=\"#wtg\" x=\"143\" y=\"239\"/><use href=\"#wtg\" x=\"255\" y=\"395\"/><use href=\"#wtg\" x=\"254\" y=\"473\"/><use href=\"#wtg\" x=\"253\" y=\"552\"/></g><g fill=\"#7f7f7f\"><use href=\"#wtg\" x=\"426\" y=\"396\"/><use href=\"#wtg\" x=\"654\" y=\"395\"/><use href=\"#wtg\" x=\"710\" y=\"395\"/><use href=\"#wtg\" x=\"767\" y=\"395\"/><use href=\"#wtg\" x=\"597\" y=\"395\"/><use href=\"#wtg\" x=\"483\" y=\"395\"/><use href=\"#wtg\" x=\"540\" y=\"395\"/></g><g fill=\"#aec7e8\"><use href=\"#wtg\" x=\"881\" y=\"396\"/><use href=\"#wtg\" x=\"939\" y=\"317\"/><use href=\"#wtg\" x=\"938\" y=\"395\"/><use href=\"#wtg\" x=\"995\" y=\"396\"/><use href=\"#wtg\" x=\"1051\" y=\"474\"/><use href=\"#wtg\" x=\"1108\" y=\"474\"/><use href=\"#wtg\" x=\"1221\" y=\"552\"/></g><g fill=\"#ff9896\"><use href=\"#wtg\" x=\"536\" y=\"708\"/><use href=\"#wtg\" x=\"309\" y=\"630\"/><use href=\"#wtg\" x=\"309\" y=\"708\"/><use href=\"#wtg\" x=\"365\" y=\"708\"/><use href=\"#wtg\" x=\"366\" y=\"630\"/><use href=\"#wtg\" x=\"422\" y=\"708\"/><use href=\"#wtg\" x=\"479\" y=\"708\"/></g><g fill=\"#9467bd\"><use href=\"#wtg\" x=\"650\" y=\"708\"/><use href=\"#wtg\" x=\"764\" y=\"708\"/><use href=\"#wtg\" x=\"821\" y=\"708\"/><use href=\"#wtg\" x=\"765\" y=\"630\"/></g><g fill=\"#c5b0d5\"><use href=\"#wtg\" x=\"591\" y=\"864\"/><use href=\"#wtg\" x=\"591\" y=\"942\"/><use href=\"#wtg\" x=\"648\" y=\"942\"/><use href=\"#wtg\" x=\"647\" y=\"1020\"/><use href=\"#wtg\" x=\"704\" y=\"1020\"/><use href=\"#wtg\" x=\"761\" y=\"1020\"/></g><g fill=\"#ff7f0e\"><use href=\"#wtg\" x=\"823\" y=\"474\"/><use href=\"#wtg\" x=\"769\" y=\"239\"/><use href=\"#wtg\" x=\"826\" y=\"239\"/><use href=\"#wtg\" x=\"825\" y=\"317\"/><use href=\"#wtg\" x=\"882\" y=\"317\"/><use href=\"#wtg\" x=\"768\" y=\"317\"/><use href=\"#wtg\" x=\"824\" y=\"396\"/></g><g fill=\"#ffbb78\"><use href=\"#wtg\" x=\"936\" y=\"630\"/><use href=\"#wtg\" x=\"1163\" y=\"708\"/><use href=\"#wtg\" x=\"1219\" y=\"708\"/><use href=\"#wtg\" x=\"1049\" y=\"708\"/><use href=\"#wtg\" x=\"1106\" y=\"708\"/><use href=\"#wtg\" x=\"1162\" y=\"786\"/><use href=\"#wtg\" x=\"1105\" y=\"786\"/></g><g fill=\"#2ca02c\"><use href=\"#wtg\" x=\"993\" y=\"630\"/><use href=\"#wtg\" x=\"1277\" y=\"630\"/><use href=\"#wtg\" x=\"1276\" y=\"708\"/><use href=\"#wtg\" x=\"1106\" y=\"630\"/><use href=\"#wtg\" x=\"1163\" y=\"630\"/><use href=\"#wtg\" x=\"1049\" y=\"630\"/><use href=\"#wtg\" x=\"1220\" y=\"630\"/></g><g fill=\"#8c564b\"><use href=\"#wtg\" x=\"593\" y=\"708\"/><use href=\"#wtg\" x=\"537\" y=\"630\"/><use href=\"#wtg\" x=\"594\" y=\"630\"/><use href=\"#wtg\" x=\"480\" y=\"630\"/><use href=\"#wtg\" x=\"651\" y=\"630\"/><use href=\"#wtg\" x=\"481\" y=\"552\"/><use href=\"#wtg\" x=\"423\" y=\"630\"/></g></g><g id=\"OSSgrp\"><use href=\"#oss\" x=\"869.5\" y=\"541.5\"/><use href=\"#oss\" x=\"581.5\" y=\"775.5\"/><use href=\"#oss\" x=\"357.5\" y=\"463.5\"/></g></g><text filter=\"url(#bg_textbox)\" text-anchor=\"end\" font-family=\"sans-serif\" font-size=\"40\" fill=\"white\" x=\"1471\" y=\"1050\"><tspan x=\"1471\" dy=\"-0.0em\">&#931;&#955; = 145336.0 m</tspan><tspan x=\"1471\" dy=\"-1.3em\">(+0) &#945;: 4, &#946;: 6, &#947;: 5</tspan><tspan x=\"1471\" dy=\"-1.3em\">&#954; = 7, T = 100</tspan></text></svg>"
      ],
      "text/plain": [
       "<optiwindnet.svg.SvgRepr at 0x28eb0679b20>"
      ]
     },
     "execution_count": 10,
     "metadata": {},
     "output_type": "execute_result"
    }
   ],
   "source": [
    "S = ort.S_from_solution(model, orter, result)\n",
    "G = G_from_S(S, A)\n",
    "H = PathFinder(G, planar=P, A=A).create_detours()\n",
    "svgplot(H)"
   ]
  }
 ],
 "metadata": {
  "kernelspec": {
   "display_name": "«work312»",
   "language": "python",
   "name": "work312"
  },
  "language_info": {
   "codemirror_mode": {
    "name": "ipython",
    "version": 3
   },
   "file_extension": ".py",
   "mimetype": "text/x-python",
   "name": "python",
   "nbconvert_exporter": "python",
   "pygments_lexer": "ipython3",
   "version": "3.12.9"
  }
 },
 "nbformat": 4,
 "nbformat_minor": 5
}
