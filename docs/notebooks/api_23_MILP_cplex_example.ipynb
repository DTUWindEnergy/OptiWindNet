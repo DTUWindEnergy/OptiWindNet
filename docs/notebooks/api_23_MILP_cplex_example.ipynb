{
 "cells": [
  {
   "cell_type": "markdown",
   "id": "5956c285-030d-4377-8f7b-936b05e62e33",
   "metadata": {},
   "source": [
    "## CPLEX example"
   ]
  },
  {
   "cell_type": "markdown",
   "id": "6c0bdefb",
   "metadata": {},
   "source": [
    "This notebook demonstrates how to use `optiwindnet` to design collector system cable layouts using the **CPLEX MILP router**."
   ]
  },
  {
   "cell_type": "code",
   "execution_count": 39,
   "id": "7a8285be",
   "metadata": {},
   "outputs": [],
   "source": [
    "from optiwindnet.api import WindFarmNetwork, Heuristic, MILP, load_repository"
   ]
  },
  {
   "cell_type": "code",
   "execution_count": 40,
   "id": "e421e7c8",
   "metadata": {},
   "outputs": [],
   "source": [
    "# Display figures as SVG in Jupyter notebooks\n",
    "%config InlineBackend.figure_formats = ['svg']"
   ]
  },
  {
   "cell_type": "code",
   "execution_count": 41,
   "id": "4ac9d1b1-17f6-4ed5-906c-67179c34dd9f",
   "metadata": {},
   "outputs": [],
   "source": [
    "from pyomo import environ as pyo"
   ]
  },
  {
   "cell_type": "markdown",
   "id": "f93c1331",
   "metadata": {},
   "source": [
    "### Initialize Race Bank 2\n",
    "\n",
    ">In this example, the `load_repository()` functionality is used to load a prebuilt *Networkx.Graph*. For more details on this functionality look into the notebook about [Load repositories containing location data](api_02-load-repositories.ipynb)."
   ]
  },
  {
   "cell_type": "code",
   "execution_count": 42,
   "id": "29a6b5d1-a05f-4112-bf66-462b4d36b516",
   "metadata": {},
   "outputs": [],
   "source": [
    "locations = load_repository()"
   ]
  },
  {
   "cell_type": "code",
   "execution_count": 43,
   "id": "666ca26c-b3cf-4000-a44e-cab38866018d",
   "metadata": {},
   "outputs": [],
   "source": [
    "L = locations.race\n",
    "max_cables_capacity = 5"
   ]
  },
  {
   "cell_type": "code",
   "execution_count": 44,
   "id": "a23b577c-d334-405e-b70a-9b3717eefa2b",
   "metadata": {},
   "outputs": [],
   "source": [
    "wfn = WindFarmNetwork(L=L, cables=max_cables_capacity)"
   ]
  },
  {
   "cell_type": "markdown",
   "id": "967172f9-04cb-4efc-8ac2-ebb3433d5a69",
   "metadata": {},
   "source": [
    "### Optimize Race Bank 2"
   ]
  },
  {
   "cell_type": "markdown",
   "id": "4f9b49b1-a597-4053-a3d1-f3de7bb8d164",
   "metadata": {},
   "source": [
    "Initial heuristic solution to warm-start the solver:"
   ]
  },
  {
   "cell_type": "code",
   "execution_count": 46,
   "id": "19eb273d-f662-4851-bf09-e0ec532d7b8b",
   "metadata": {},
   "outputs": [
    {
     "name": "stdout",
     "output_type": "stream",
     "text": [
      "94059.52543431189\n"
     ]
    }
   ],
   "source": [
    "router_warmstart = Heuristic(solver='Esau_Williams')\n",
    "res_warmstart= wfn.optimize(router=router_warmstart)\n",
    "print(wfn.length())"
   ]
  },
  {
   "cell_type": "code",
   "execution_count": 47,
   "id": "003714e7-bf75-4cda-ae19-58c74e126c75",
   "metadata": {},
   "outputs": [
    {
     "name": "stdout",
     "output_type": "stream",
     "text": [
      ">>> Using warm start: the model is initialized with the provided solution S <<<\n"
     ]
    },
    {
     "name": "stderr",
     "output_type": "stream",
     "text": [
      "Using size restricted mode (Could not find directory for cpxchecklic).\n",
      "CPLEX Error  1016: Community Edition. Problem size limits exceeded. Purchase at http://ibm.biz/error1016.\n"
     ]
    },
    {
     "ename": "CplexSolverError",
     "evalue": "CPLEX Error  1016: Community Edition. Problem size limits exceeded. Purchase at http://ibm.biz/error1016.",
     "output_type": "error",
     "traceback": [
      "\u001b[31m---------------------------------------------------------------------------\u001b[39m",
      "\u001b[31mCplexSolverError\u001b[39m                          Traceback (most recent call last)",
      "\u001b[36mCell\u001b[39m\u001b[36m \u001b[39m\u001b[32mIn[47]\u001b[39m\u001b[32m, line 2\u001b[39m\n\u001b[32m      1\u001b[39m router_milp = MILP(solver_name=\u001b[33m'\u001b[39m\u001b[33mcplex\u001b[39m\u001b[33m'\u001b[39m, time_limit=\u001b[32m15\u001b[39m, mip_gap=\u001b[32m0.01\u001b[39m, verbose=\u001b[38;5;28;01mTrue\u001b[39;00m)\n\u001b[32m----> \u001b[39m\u001b[32m2\u001b[39m res = \u001b[43mwfn\u001b[49m\u001b[43m.\u001b[49m\u001b[43moptimize\u001b[49m\u001b[43m(\u001b[49m\u001b[43mrouter\u001b[49m\u001b[43m=\u001b[49m\u001b[43mrouter_milp\u001b[49m\u001b[43m)\u001b[49m\n",
      "\u001b[36mFile \u001b[39m\u001b[32mC:\\code\\OptiWindNet\\optiwindnet\\api.py:381\u001b[39m, in \u001b[36mWindFarmNetwork.optimize\u001b[39m\u001b[34m(self, turbinesC, substationsC, router, verbose)\u001b[39m\n\u001b[32m    376\u001b[39m \u001b[38;5;28;01mif\u001b[39;00m substationsC \u001b[38;5;129;01mis\u001b[39;00m \u001b[38;5;28;01mNone\u001b[39;00m:\n\u001b[32m    377\u001b[39m     substationsC = (\n\u001b[32m    378\u001b[39m         substationsC \u001b[38;5;129;01mor\u001b[39;00m \u001b[38;5;28mself\u001b[39m.L.graph[\u001b[33m'\u001b[39m\u001b[33mVertexC\u001b[39m\u001b[33m'\u001b[39m][-\u001b[38;5;28mself\u001b[39m.L.graph[\u001b[33m'\u001b[39m\u001b[33mR\u001b[39m\u001b[33m'\u001b[39m] :, :]\n\u001b[32m    379\u001b[39m     )\n\u001b[32m--> \u001b[39m\u001b[32m381\u001b[39m S, G = \u001b[43mrouter\u001b[49m\u001b[43m(\u001b[49m\n\u001b[32m    382\u001b[39m \u001b[43m    \u001b[49m\u001b[43mA\u001b[49m\u001b[43m=\u001b[49m\u001b[38;5;28;43mself\u001b[39;49m\u001b[43m.\u001b[49m\u001b[43mA\u001b[49m\u001b[43m,\u001b[49m\n\u001b[32m    383\u001b[39m \u001b[43m    \u001b[49m\u001b[43mP\u001b[49m\u001b[43m=\u001b[49m\u001b[38;5;28;43mself\u001b[39;49m\u001b[43m.\u001b[49m\u001b[43mP\u001b[49m\u001b[43m,\u001b[49m\n\u001b[32m    384\u001b[39m \u001b[43m    \u001b[49m\u001b[43mS_warm\u001b[49m\u001b[43m=\u001b[49m\u001b[38;5;28;43mself\u001b[39;49m\u001b[43m.\u001b[49m\u001b[43mS\u001b[49m\u001b[43m,\u001b[49m\n\u001b[32m    385\u001b[39m \u001b[43m    \u001b[49m\u001b[43mturbinesC\u001b[49m\u001b[43m=\u001b[49m\u001b[43mturbinesC\u001b[49m\u001b[43m,\u001b[49m\n\u001b[32m    386\u001b[39m \u001b[43m    \u001b[49m\u001b[43msubstationsC\u001b[49m\u001b[43m=\u001b[49m\u001b[43msubstationsC\u001b[49m\u001b[43m,\u001b[49m\n\u001b[32m    387\u001b[39m \u001b[43m    \u001b[49m\u001b[43mcables\u001b[49m\u001b[43m=\u001b[49m\u001b[38;5;28;43mself\u001b[39;49m\u001b[43m.\u001b[49m\u001b[43mcables\u001b[49m\u001b[43m,\u001b[49m\n\u001b[32m    388\u001b[39m \u001b[43m    \u001b[49m\u001b[43mcables_capacity\u001b[49m\u001b[43m=\u001b[49m\u001b[38;5;28;43mself\u001b[39;49m\u001b[43m.\u001b[49m\u001b[43mcables_capacity\u001b[49m\u001b[43m,\u001b[49m\n\u001b[32m    389\u001b[39m \u001b[43m    \u001b[49m\u001b[43mverbose\u001b[49m\u001b[43m=\u001b[49m\u001b[43mverbose\u001b[49m\u001b[43m,\u001b[49m\n\u001b[32m    390\u001b[39m \u001b[43m\u001b[49m\u001b[43m)\u001b[49m\n\u001b[32m    391\u001b[39m \u001b[38;5;28mself\u001b[39m.S = S\n\u001b[32m    392\u001b[39m \u001b[38;5;28mself\u001b[39m.G = G\n",
      "\u001b[36mFile \u001b[39m\u001b[32mC:\\code\\OptiWindNet\\optiwindnet\\api.py:411\u001b[39m, in \u001b[36mOptiWindNetSolver.__call__\u001b[39m\u001b[34m(self, turbinesC, substationsC, verbose, **kwargs)\u001b[39m\n\u001b[32m    409\u001b[39m \u001b[38;5;28;01mdef\u001b[39;00m\u001b[38;5;250m \u001b[39m\u001b[34m__call__\u001b[39m(\u001b[38;5;28mself\u001b[39m, turbinesC=\u001b[38;5;28;01mNone\u001b[39;00m, substationsC=\u001b[38;5;28;01mNone\u001b[39;00m, verbose=\u001b[38;5;28;01mFalse\u001b[39;00m, **kwargs):\n\u001b[32m    410\u001b[39m \u001b[38;5;250m    \u001b[39m\u001b[33;03m\"\"\"Make the instance callable, calling optimize() internally.\"\"\"\u001b[39;00m\n\u001b[32m--> \u001b[39m\u001b[32m411\u001b[39m     \u001b[38;5;28;01mreturn\u001b[39;00m \u001b[38;5;28;43mself\u001b[39;49m\u001b[43m.\u001b[49m\u001b[43moptimize\u001b[49m\u001b[43m(\u001b[49m\n\u001b[32m    412\u001b[39m \u001b[43m        \u001b[49m\u001b[43mturbinesC\u001b[49m\u001b[43m=\u001b[49m\u001b[43mturbinesC\u001b[49m\u001b[43m,\u001b[49m\u001b[43m \u001b[49m\u001b[43msubstationsC\u001b[49m\u001b[43m=\u001b[49m\u001b[43msubstationsC\u001b[49m\u001b[43m,\u001b[49m\u001b[43m \u001b[49m\u001b[43mverbose\u001b[49m\u001b[43m=\u001b[49m\u001b[43mverbose\u001b[49m\u001b[43m,\u001b[49m\u001b[43m \u001b[49m\u001b[43m*\u001b[49m\u001b[43m*\u001b[49m\u001b[43mkwargs\u001b[49m\n\u001b[32m    413\u001b[39m \u001b[43m    \u001b[49m\u001b[43m)\u001b[49m\n",
      "\u001b[36mFile \u001b[39m\u001b[32mC:\\code\\OptiWindNet\\optiwindnet\\api.py:567\u001b[39m, in \u001b[36mMILP.optimize\u001b[39m\u001b[34m(self, P, A, cables, cables_capacity, S_warm, verbose, **kwargs)\u001b[39m\n\u001b[32m    558\u001b[39m solver = \u001b[38;5;28mself\u001b[39m.solver\n\u001b[32m    560\u001b[39m solver.set_problem(\n\u001b[32m    561\u001b[39m     P, A,\n\u001b[32m    562\u001b[39m     capacity=cables_capacity,\n\u001b[32m    563\u001b[39m     model_options=\u001b[38;5;28mself\u001b[39m.model_options,\n\u001b[32m    564\u001b[39m     warmstart=S_warm,\n\u001b[32m    565\u001b[39m )\n\u001b[32m--> \u001b[39m\u001b[32m567\u001b[39m \u001b[43msolver\u001b[49m\u001b[43m.\u001b[49m\u001b[43msolve\u001b[49m\u001b[43m(\u001b[49m\n\u001b[32m    568\u001b[39m \u001b[43m    \u001b[49m\u001b[43mtime_limit\u001b[49m\u001b[43m=\u001b[49m\u001b[38;5;28;43mself\u001b[39;49m\u001b[43m.\u001b[49m\u001b[43mtime_limit\u001b[49m\u001b[43m,\u001b[49m\n\u001b[32m    569\u001b[39m \u001b[43m    \u001b[49m\u001b[43mmip_gap\u001b[49m\u001b[43m=\u001b[49m\u001b[38;5;28;43mself\u001b[39;49m\u001b[43m.\u001b[49m\u001b[43mmip_gap\u001b[49m\u001b[43m,\u001b[49m\n\u001b[32m    570\u001b[39m \u001b[43m    \u001b[49m\u001b[43moptions\u001b[49m\u001b[43m=\u001b[49m\u001b[38;5;28;43mself\u001b[39;49m\u001b[43m.\u001b[49m\u001b[43msolver_options\u001b[49m\u001b[43m,\u001b[49m\n\u001b[32m    571\u001b[39m \u001b[43m    \u001b[49m\u001b[43mverbose\u001b[49m\u001b[43m=\u001b[49m\u001b[43mverbose\u001b[49m\u001b[43m,\u001b[49m\n\u001b[32m    572\u001b[39m \u001b[43m\u001b[49m\u001b[43m)\u001b[49m\n\u001b[32m    574\u001b[39m S, G = solver.get_solution()\n\u001b[32m    576\u001b[39m assign_cables(G, cables)\n",
      "\u001b[36mFile \u001b[39m\u001b[32mC:\\code\\OptiWindNet\\optiwindnet\\MILP\\cplex.py:41\u001b[39m, in \u001b[36mSolverCplex.solve\u001b[39m\u001b[34m(self, time_limit, mip_gap, options, verbose)\u001b[39m\n\u001b[32m     34\u001b[39m \u001b[38;5;28;01mdef\u001b[39;00m\u001b[38;5;250m \u001b[39m\u001b[34msolve\u001b[39m(\n\u001b[32m     35\u001b[39m     \u001b[38;5;28mself\u001b[39m,\n\u001b[32m     36\u001b[39m     time_limit: \u001b[38;5;28mint\u001b[39m,\n\u001b[32m   (...)\u001b[39m\u001b[32m     39\u001b[39m     verbose: \u001b[38;5;28mbool\u001b[39m = \u001b[38;5;28;01mFalse\u001b[39;00m,\n\u001b[32m     40\u001b[39m ) -> SolutionInfo:\n\u001b[32m---> \u001b[39m\u001b[32m41\u001b[39m     solution_info = \u001b[38;5;28;43msuper\u001b[39;49m\u001b[43m(\u001b[49m\u001b[43m)\u001b[49m\u001b[43m.\u001b[49m\u001b[43msolve\u001b[49m\u001b[43m(\u001b[49m\u001b[43mtime_limit\u001b[49m\u001b[43m,\u001b[49m\u001b[43m \u001b[49m\u001b[43mmip_gap\u001b[49m\u001b[43m,\u001b[49m\u001b[43m \u001b[49m\u001b[43moptions\u001b[49m\u001b[43m,\u001b[49m\u001b[43m \u001b[49m\u001b[43mverbose\u001b[49m\u001b[43m)\u001b[49m\n\u001b[32m     42\u001b[39m     cplex = \u001b[38;5;28mself\u001b[39m.solver._solver_model\n\u001b[32m     43\u001b[39m     num_solutions = cplex.solution.pool.get_num()\n",
      "\u001b[36mFile \u001b[39m\u001b[32mC:\\code\\OptiWindNet\\optiwindnet\\MILP\\pyomo.py:124\u001b[39m, in \u001b[36mSolverPyomo.solve\u001b[39m\u001b[34m(self, time_limit, mip_gap, options, verbose)\u001b[39m\n\u001b[32m    118\u001b[39m solver.options.update(\n\u001b[32m    119\u001b[39m     \u001b[38;5;28mself\u001b[39m.options\n\u001b[32m    120\u001b[39m     | options\n\u001b[32m    121\u001b[39m     | {_optkey[name].time_limit: time_limit, _optkey[name].mip_gap: mip_gap}\n\u001b[32m    122\u001b[39m )\n\u001b[32m    123\u001b[39m info(\u001b[33m'\u001b[39m\u001b[33m>>> \u001b[39m\u001b[38;5;132;01m%s\u001b[39;00m\u001b[33m solver options <<<\u001b[39m\u001b[38;5;130;01m\\n\u001b[39;00m\u001b[38;5;132;01m%s\u001b[39;00m\u001b[38;5;130;01m\\n\u001b[39;00m\u001b[33m'\u001b[39m, \u001b[38;5;28mself\u001b[39m.name, solver.options)\n\u001b[32m--> \u001b[39m\u001b[32m124\u001b[39m result = \u001b[43msolver\u001b[49m\u001b[43m.\u001b[49m\u001b[43msolve\u001b[49m\u001b[43m(\u001b[49m\u001b[43mmodel\u001b[49m\u001b[43m,\u001b[49m\u001b[43m \u001b[49m\u001b[43m*\u001b[49m\u001b[43m*\u001b[49m\u001b[38;5;28;43mself\u001b[39;49m\u001b[43m.\u001b[49m\u001b[43msolve_kwargs\u001b[49m\u001b[43m,\u001b[49m\u001b[43m \u001b[49m\u001b[43mtee\u001b[49m\u001b[43m=\u001b[49m\u001b[43mverbose\u001b[49m\u001b[43m)\u001b[49m\n\u001b[32m    125\u001b[39m \u001b[38;5;28mself\u001b[39m.result = result\n\u001b[32m    126\u001b[39m \u001b[38;5;28;01mif\u001b[39;00m \u001b[38;5;28mself\u001b[39m.name != \u001b[33m'\u001b[39m\u001b[33mscip\u001b[39m\u001b[33m'\u001b[39m:\n",
      "\u001b[36mFile \u001b[39m\u001b[32mc:\\Users\\amia\\AppData\\Local\\miniconda3\\envs\\OptiWindNet\\Lib\\site-packages\\pyomo\\solvers\\plugins\\solvers\\direct_solver.py:142\u001b[39m, in \u001b[36mDirectSolver.solve\u001b[39m\u001b[34m(self, *args, **kwds)\u001b[39m\n\u001b[32m    139\u001b[39m \u001b[38;5;28;01mif\u001b[39;00m \u001b[38;5;129;01mnot\u001b[39;00m _model \u001b[38;5;129;01mis\u001b[39;00m \u001b[38;5;28;01mNone\u001b[39;00m:\n\u001b[32m    140\u001b[39m     \u001b[38;5;28mself\u001b[39m._initialize_callbacks(_model)\n\u001b[32m--> \u001b[39m\u001b[32m142\u001b[39m _status = \u001b[38;5;28;43mself\u001b[39;49m\u001b[43m.\u001b[49m\u001b[43m_apply_solver\u001b[49m\u001b[43m(\u001b[49m\u001b[43m)\u001b[49m\n\u001b[32m    143\u001b[39m \u001b[38;5;28;01mif\u001b[39;00m \u001b[38;5;28mhasattr\u001b[39m(\u001b[38;5;28mself\u001b[39m, \u001b[33m'\u001b[39m\u001b[33m_transformation_data\u001b[39m\u001b[33m'\u001b[39m):\n\u001b[32m    144\u001b[39m     \u001b[38;5;28;01mdel\u001b[39;00m \u001b[38;5;28mself\u001b[39m._transformation_data\n",
      "\u001b[36mFile \u001b[39m\u001b[32mc:\\Users\\amia\\AppData\\Local\\miniconda3\\envs\\OptiWindNet\\Lib\\site-packages\\pyomo\\solvers\\plugins\\solvers\\cplex_direct.py:276\u001b[39m, in \u001b[36mCPLEXDirect._apply_solver\u001b[39m\u001b[34m(self)\u001b[39m\n\u001b[32m    273\u001b[39m         opt_cmd.set(\u001b[38;5;28mfloat\u001b[39m(option))\n\u001b[32m    275\u001b[39m t0 = time.time()\n\u001b[32m--> \u001b[39m\u001b[32m276\u001b[39m \u001b[38;5;28;43mself\u001b[39;49m\u001b[43m.\u001b[49m\u001b[43m_solver_model\u001b[49m\u001b[43m.\u001b[49m\u001b[43msolve\u001b[49m\u001b[43m(\u001b[49m\u001b[43m)\u001b[49m\n\u001b[32m    277\u001b[39m t1 = time.time()\n\u001b[32m    278\u001b[39m \u001b[38;5;28mself\u001b[39m._wallclock_time = t1 - t0\n",
      "\u001b[36mFile \u001b[39m\u001b[32mc:\\Users\\amia\\AppData\\Local\\miniconda3\\envs\\OptiWindNet\\Lib\\site-packages\\cplex\\__init__.py:1304\u001b[39m, in \u001b[36mCplex.solve\u001b[39m\u001b[34m(self, paramsets)\u001b[39m\n\u001b[32m   1300\u001b[39m     _proc.multiobjopt(\u001b[38;5;28mself\u001b[39m._env._e, \u001b[38;5;28mself\u001b[39m._lp,\n\u001b[32m   1301\u001b[39m                       [\u001b[38;5;28;01mNone\u001b[39;00m \u001b[38;5;28;01mif\u001b[39;00m ps \u001b[38;5;129;01mis\u001b[39;00m \u001b[38;5;28;01mNone\u001b[39;00m \u001b[38;5;28;01melse\u001b[39;00m ps._ps\n\u001b[32m   1302\u001b[39m                        \u001b[38;5;28;01mfor\u001b[39;00m ps \u001b[38;5;129;01min\u001b[39;00m paramsets])\n\u001b[32m   1303\u001b[39m \u001b[38;5;28;01melif\u001b[39;00m \u001b[38;5;28mself\u001b[39m._is_MIP():\n\u001b[32m-> \u001b[39m\u001b[32m1304\u001b[39m     \u001b[43m_proc\u001b[49m\u001b[43m.\u001b[49m\u001b[43mmipopt\u001b[49m\u001b[43m(\u001b[49m\u001b[38;5;28;43mself\u001b[39;49m\u001b[43m.\u001b[49m\u001b[43m_env\u001b[49m\u001b[43m.\u001b[49m\u001b[43m_e\u001b[49m\u001b[43m,\u001b[49m\u001b[43m \u001b[49m\u001b[38;5;28;43mself\u001b[39;49m\u001b[43m.\u001b[49m\u001b[43m_lp\u001b[49m\u001b[43m)\u001b[49m\n\u001b[32m   1305\u001b[39m \u001b[38;5;28;01melif\u001b[39;00m \u001b[38;5;28mself\u001b[39m.quadratic_constraints.get_num() > \u001b[32m0\u001b[39m:\n\u001b[32m   1306\u001b[39m     lpmethod = \u001b[38;5;28mself\u001b[39m.parameters.lpmethod.get()\n",
      "\u001b[36mFile \u001b[39m\u001b[32mc:\\Users\\amia\\AppData\\Local\\miniconda3\\envs\\OptiWindNet\\Lib\\site-packages\\cplex\\_internal\\_procedural.py:708\u001b[39m, in \u001b[36mmipopt\u001b[39m\u001b[34m(env, lp)\u001b[39m\n\u001b[32m    706\u001b[39m \u001b[38;5;28;01mwith\u001b[39;00m SigIntHandler():\n\u001b[32m    707\u001b[39m     status = CR.CPXXmipopt(env, lp)\n\u001b[32m--> \u001b[39m\u001b[32m708\u001b[39m \u001b[43mcheck_status\u001b[49m\u001b[43m(\u001b[49m\u001b[43menv\u001b[49m\u001b[43m,\u001b[49m\u001b[43m \u001b[49m\u001b[43mstatus\u001b[49m\u001b[43m)\u001b[49m\n",
      "\u001b[36mFile \u001b[39m\u001b[32mc:\\Users\\amia\\AppData\\Local\\miniconda3\\envs\\OptiWindNet\\Lib\\site-packages\\cplex\\_internal\\_procedural.py:249\u001b[39m, in \u001b[36mStatusChecker.__call__\u001b[39m\u001b[34m(self, env, status, from_cb)\u001b[39m\n\u001b[32m    247\u001b[39m     \u001b[38;5;28;01melse\u001b[39;00m:\n\u001b[32m    248\u001b[39m         error_string = geterrorstring(env, status)\n\u001b[32m--> \u001b[39m\u001b[32m249\u001b[39m \u001b[38;5;28;01mraise\u001b[39;00m CplexSolverError(error_string, env, status)\n",
      "\u001b[31mCplexSolverError\u001b[39m: CPLEX Error  1016: Community Edition. Problem size limits exceeded. Purchase at http://ibm.biz/error1016."
     ]
    }
   ],
   "source": [
    "router_milp = MILP(solver_name='cplex', time_limit=15, mip_gap=0.01, verbose=True)\n",
    "res = wfn.optimize(router=router_milp)"
   ]
  },
  {
   "cell_type": "code",
   "execution_count": null,
   "id": "20ecc249-4cf7-4955-866f-381a76496abc",
   "metadata": {},
   "outputs": [
    {
     "data": {
      "image/svg+xml": [
       "<svg xmlns=\"http://www.w3.org/2000/svg\" viewBox=\"0 0 1920 935\"><defs ><filter x=\"-5%\" y=\"-5%\" id=\"bg_textbox\" width=\"110%\" height=\"110%\"><feFlood flood-opacity=\"0.7\" flood-color=\"#111\" result=\"bg\"/><feMerge ><feMergeNode in=\"bg\"/><feMergeNode in=\"SourceGraphic\"/></feMerge></filter><circle stroke=\"none\" stroke-width=\"2\" id=\"wtg\" r=\"12\"/><rect stroke=\"none\" stroke-width=\"2\" id=\"oss\" width=\"21\" height=\"21\" fill=\"lawngreen\"/></defs><g id=\"race\"><path stroke=\"silver\" stroke-dasharray=\"15 7\" stroke-width=\"2\" id=\"border\" d=\"M30 352 285 45 839 331 1668 30 1890 640 1167 905 968 719 877 701 718 719 642 804 492 718 432 740z\" fill-rule=\"evenodd\" fill=\"#111\"/><g stroke=\"crimson\" stroke-width=\"4\" id=\"edges_unspecified\"><line x1=\"639\" y1=\"490\" x2=\"524\" y2=\"330\"/><line x1=\"639\" y1=\"490\" x2=\"566\" y2=\"562\"/><line x1=\"639\" y1=\"490\" x2=\"800\" y2=\"499\"/><line x1=\"639\" y1=\"490\" x2=\"751\" y2=\"599\"/><line x1=\"639\" y1=\"490\" x2=\"722\" y2=\"421\"/><line x1=\"639\" y1=\"490\" x2=\"486\" y2=\"484\"/><line x1=\"639\" y1=\"490\" x2=\"603\" y2=\"410\"/><line x1=\"639\" y1=\"490\" x2=\"631\" y2=\"641\"/><line x1=\"639\" y1=\"490\" x2=\"418\" y2=\"402\"/><line x1=\"722\" y1=\"421\" x2=\"746\" y2=\"299\"/><line x1=\"336\" y1=\"500\" x2=\"486\" y2=\"484\"/><line x1=\"800\" y1=\"499\" x2=\"898\" y2=\"469\"/><line x1=\"800\" y1=\"499\" x2=\"873\" y2=\"593\"/><line x1=\"487\" y1=\"636\" x2=\"566\" y2=\"562\"/><line x1=\"631\" y1=\"641\" x2=\"710\" y2=\"704\"/><line x1=\"344\" y1=\"309\" x2=\"418\" y2=\"402\"/><line x1=\"437\" y1=\"239\" x2=\"524\" y2=\"330\"/><line x1=\"751\" y1=\"599\" x2=\"810\" y2=\"690\"/><line x1=\"1373\" y1=\"498\" x2=\"1550\" y2=\"543\"/><line x1=\"1373\" y1=\"498\" x2=\"1456\" y2=\"588\"/><line x1=\"1373\" y1=\"498\" x2=\"1263\" y2=\"551\"/><line x1=\"1373\" y1=\"498\" x2=\"1475\" y2=\"434\"/><line x1=\"1373\" y1=\"498\" x2=\"1289\" y2=\"403\"/><line x1=\"1373\" y1=\"498\" x2=\"1187\" y2=\"450\"/><line x1=\"1373\" y1=\"498\" x2=\"1356\" y2=\"622\"/><line x1=\"1373\" y1=\"498\" x2=\"1256\" y2=\"652\"/><line x1=\"1373\" y1=\"498\" x2=\"1533\" y2=\"343\"/><line x1=\"1373\" y1=\"498\" x2=\"1392\" y2=\"372\"/><line x1=\"1392\" y1=\"372\" x2=\"1386\" y2=\"256\"/><line x1=\"1475\" y1=\"434\" x2=\"1576\" y2=\"437\"/><line x1=\"1187\" y1=\"450\" x2=\"1194\" y2=\"335\"/><line x1=\"1533\" y1=\"343\" x2=\"1638\" y2=\"291\"/><line x1=\"1456\" y1=\"588\" x2=\"1547\" y2=\"664\"/><line x1=\"1145\" y1=\"678\" x2=\"1256\" y2=\"652\"/><line x1=\"1163\" y1=\"566\" x2=\"1263\" y2=\"551\"/><line x1=\"1289\" y1=\"403\" x2=\"1294\" y2=\"300\"/><line x1=\"1356\" y1=\"622\" x2=\"1437\" y2=\"694\"/><line x1=\"1550\" y1=\"543\" x2=\"1639\" y2=\"617\"/><line x1=\"1079\" y1=\"487\" x2=\"1163\" y2=\"566\"/><line x1=\"992\" y1=\"406\" x2=\"1079\" y2=\"487\"/><line x1=\"903\" y1=\"330\" x2=\"992\" y2=\"406\"/><line x1=\"1011\" y1=\"292\" x2=\"1090\" y2=\"363\"/><line x1=\"1090\" y1=\"363\" x2=\"1194\" y2=\"335\"/><line x1=\"1120\" y1=\"256\" x2=\"1194\" y2=\"335\"/><line x1=\"539\" y1=\"197\" x2=\"640\" y2=\"280\"/><line x1=\"640\" y1=\"280\" x2=\"746\" y2=\"299\"/><line x1=\"417\" y1=\"131\" x2=\"539\" y2=\"197\"/><line x1=\"1145\" y1=\"678\" x2=\"1181\" y2=\"775\"/><line x1=\"355\" y1=\"643\" x2=\"419\" y2=\"559\"/><line x1=\"274\" y1=\"564\" x2=\"355\" y2=\"643\"/><line x1=\"419\" y1=\"559\" x2=\"487\" y2=\"636\"/><line x1=\"542\" y1=\"727\" x2=\"635\" y2=\"781\"/><line x1=\"201\" y1=\"489\" x2=\"336\" y2=\"500\"/><line x1=\"126\" y1=\"422\" x2=\"201\" y2=\"489\"/><line x1=\"234\" y1=\"257\" x2=\"344\" y2=\"309\"/><line x1=\"131\" y1=\"252\" x2=\"234\" y2=\"257\"/><line x1=\"67\" y1=\"335\" x2=\"131\" y2=\"252\"/><line x1=\"290\" y1=\"67\" x2=\"316\" y2=\"173\"/><line x1=\"210\" y1=\"157\" x2=\"316\" y2=\"173\"/><line x1=\"316\" y1=\"173\" x2=\"437\" y2=\"239\"/><line x1=\"1670\" y1=\"494\" x2=\"1668\" y2=\"394\"/><line x1=\"1668\" y1=\"394\" x2=\"1767\" y2=\"345\"/><line x1=\"1576\" y1=\"437\" x2=\"1668\" y2=\"394\"/><line x1=\"635\" y1=\"781\" x2=\"710\" y2=\"704\"/><line x1=\"1801\" y1=\"446\" x2=\"1840\" y2=\"542\"/><line x1=\"1732\" y1=\"572\" x2=\"1840\" y2=\"542\"/><line x1=\"1209\" y1=\"211\" x2=\"1309\" y2=\"175\"/><line x1=\"1209\" y1=\"211\" x2=\"1294\" y2=\"300\"/><line x1=\"1164\" y1=\"880\" x2=\"1264\" y2=\"853\"/><line x1=\"1164\" y1=\"880\" x2=\"1181\" y2=\"775\"/><line x1=\"1313\" y1=\"745\" x2=\"1403\" y2=\"802\"/><line x1=\"1403\" y1=\"802\" x2=\"1437\" y2=\"694\"/><line x1=\"1437\" y1=\"694\" x2=\"1514\" y2=\"764\"/><line x1=\"126\" y1=\"422\" x2=\"182\" y2=\"346\"/><line x1=\"1309\" y1=\"175\" x2=\"1431\" y2=\"139\"/><line x1=\"1485\" y1=\"235\" x2=\"1582\" y2=\"196\"/><line x1=\"1386\" y1=\"256\" x2=\"1485\" y2=\"235\"/><line x1=\"1016\" y1=\"722\" x2=\"1080\" y2=\"800\"/><line x1=\"920\" y1=\"693\" x2=\"1016\" y2=\"722\"/><line x1=\"810\" y1=\"690\" x2=\"920\" y2=\"693\"/><line x1=\"1638\" y1=\"291\" x2=\"1729\" y2=\"235\"/><line x1=\"1729\" y1=\"235\" x2=\"1690\" y2=\"143\"/><line x1=\"1582\" y1=\"196\" x2=\"1542\" y2=\"92\"/><line x1=\"1690\" y1=\"143\" x2=\"1661\" y2=\"47\"/><line x1=\"978\" y1=\"533\" x2=\"1055\" y2=\"600\"/><line x1=\"898\" y1=\"469\" x2=\"978\" y2=\"533\"/><line x1=\"1547\" y1=\"664\" x2=\"1633\" y2=\"719\"/><line x1=\"1730\" y1=\"683\" x2=\"1836\" y2=\"646\"/><line x1=\"1633\" y1=\"719\" x2=\"1730\" y2=\"683\"/><line x1=\"1639\" y1=\"617\" x2=\"1732\" y2=\"572\"/></g><g stroke=\"red\" stroke-width=\"4\" id=\"edges_contour\"><line x1=\"430\" y1=\"715\" x2=\"492\" y2=\"718\"/><line x1=\"542\" y1=\"727\" x2=\"492\" y2=\"718\"/></g><g id=\"WTGgrp\"><g fill=\"#1f77b4\"><use href=\"#wtg\" x=\"603\" y=\"410\"/></g><g fill=\"#aec7e8\"><use href=\"#wtg\" x=\"722\" y=\"421\"/><use href=\"#wtg\" x=\"640\" y=\"280\"/><use href=\"#wtg\" x=\"746\" y=\"299\"/><use href=\"#wtg\" x=\"539\" y=\"197\"/><use href=\"#wtg\" x=\"417\" y=\"131\"/></g><g fill=\"#ff7f0e\"><use href=\"#wtg\" x=\"486\" y=\"484\"/><use href=\"#wtg\" x=\"201\" y=\"489\"/><use href=\"#wtg\" x=\"336\" y=\"500\"/><use href=\"#wtg\" x=\"126\" y=\"422\"/><use href=\"#wtg\" x=\"182\" y=\"346\"/></g><g fill=\"#ffbb78\"><use href=\"#wtg\" x=\"800\" y=\"499\"/><use href=\"#wtg\" x=\"1055\" y=\"600\"/><use href=\"#wtg\" x=\"978\" y=\"533\"/><use href=\"#wtg\" x=\"898\" y=\"469\"/><use href=\"#wtg\" x=\"873\" y=\"593\"/></g><g fill=\"#2ca02c\"><use href=\"#wtg\" x=\"566\" y=\"562\"/><use href=\"#wtg\" x=\"355\" y=\"643\"/><use href=\"#wtg\" x=\"419\" y=\"559\"/><use href=\"#wtg\" x=\"274\" y=\"564\"/><use href=\"#wtg\" x=\"487\" y=\"636\"/></g><g fill=\"#98df8a\"><use href=\"#wtg\" x=\"631\" y=\"641\"/><use href=\"#wtg\" x=\"430\" y=\"715\"/><use href=\"#wtg\" x=\"542\" y=\"727\"/><use href=\"#wtg\" x=\"635\" y=\"781\"/><use href=\"#wtg\" x=\"710\" y=\"704\"/></g><g fill=\"#d62728\"><use href=\"#wtg\" x=\"418\" y=\"402\"/><use href=\"#wtg\" x=\"234\" y=\"257\"/><use href=\"#wtg\" x=\"344\" y=\"309\"/><use href=\"#wtg\" x=\"131\" y=\"252\"/><use href=\"#wtg\" x=\"67\" y=\"335\"/></g><g fill=\"#ff9896\"><use href=\"#wtg\" x=\"524\" y=\"330\"/><use href=\"#wtg\" x=\"290\" y=\"67\"/><use href=\"#wtg\" x=\"316\" y=\"173\"/><use href=\"#wtg\" x=\"210\" y=\"157\"/><use href=\"#wtg\" x=\"437\" y=\"239\"/></g><g fill=\"#9467bd\"><use href=\"#wtg\" x=\"751\" y=\"599\"/><use href=\"#wtg\" x=\"1080\" y=\"800\"/><use href=\"#wtg\" x=\"1016\" y=\"722\"/><use href=\"#wtg\" x=\"920\" y=\"693\"/><use href=\"#wtg\" x=\"810\" y=\"690\"/></g><g fill=\"#c5b0d5\"><use href=\"#wtg\" x=\"1392\" y=\"372\"/><use href=\"#wtg\" x=\"1485\" y=\"235\"/><use href=\"#wtg\" x=\"1386\" y=\"256\"/><use href=\"#wtg\" x=\"1582\" y=\"196\"/><use href=\"#wtg\" x=\"1542\" y=\"92\"/></g><g fill=\"#8c564b\"><use href=\"#wtg\" x=\"1475\" y=\"434\"/><use href=\"#wtg\" x=\"1670\" y=\"494\"/><use href=\"#wtg\" x=\"1668\" y=\"394\"/><use href=\"#wtg\" x=\"1576\" y=\"437\"/><use href=\"#wtg\" x=\"1767\" y=\"345\"/></g><g fill=\"#c49c94\"><use href=\"#wtg\" x=\"1187\" y=\"450\"/><use href=\"#wtg\" x=\"1011\" y=\"292\"/><use href=\"#wtg\" x=\"1090\" y=\"363\"/><use href=\"#wtg\" x=\"1194\" y=\"335\"/><use href=\"#wtg\" x=\"1120\" y=\"256\"/></g><g fill=\"#e377c2\"><use href=\"#wtg\" x=\"1533\" y=\"343\"/><use href=\"#wtg\" x=\"1638\" y=\"291\"/><use href=\"#wtg\" x=\"1729\" y=\"235\"/><use href=\"#wtg\" x=\"1661\" y=\"47\"/><use href=\"#wtg\" x=\"1690\" y=\"143\"/></g><g fill=\"#f7b6d2\"><use href=\"#wtg\" x=\"1456\" y=\"588\"/><use href=\"#wtg\" x=\"1547\" y=\"664\"/><use href=\"#wtg\" x=\"1730\" y=\"683\"/><use href=\"#wtg\" x=\"1633\" y=\"719\"/><use href=\"#wtg\" x=\"1836\" y=\"646\"/></g><g fill=\"#7f7f7f\"><use href=\"#wtg\" x=\"1256\" y=\"652\"/><use href=\"#wtg\" x=\"1145\" y=\"678\"/><use href=\"#wtg\" x=\"1164\" y=\"880\"/><use href=\"#wtg\" x=\"1181\" y=\"775\"/><use href=\"#wtg\" x=\"1264\" y=\"853\"/></g><g fill=\"#c7c7c7\"><use href=\"#wtg\" x=\"1263\" y=\"551\"/><use href=\"#wtg\" x=\"1079\" y=\"487\"/><use href=\"#wtg\" x=\"1163\" y=\"566\"/><use href=\"#wtg\" x=\"992\" y=\"406\"/><use href=\"#wtg\" x=\"903\" y=\"330\"/></g><g fill=\"#bcbd22\"><use href=\"#wtg\" x=\"1289\" y=\"403\"/><use href=\"#wtg\" x=\"1209\" y=\"211\"/><use href=\"#wtg\" x=\"1294\" y=\"300\"/><use href=\"#wtg\" x=\"1309\" y=\"175\"/><use href=\"#wtg\" x=\"1431\" y=\"139\"/></g><g fill=\"#dbdb8d\"><use href=\"#wtg\" x=\"1356\" y=\"622\"/><use href=\"#wtg\" x=\"1313\" y=\"745\"/><use href=\"#wtg\" x=\"1403\" y=\"802\"/><use href=\"#wtg\" x=\"1437\" y=\"694\"/><use href=\"#wtg\" x=\"1514\" y=\"764\"/></g><g fill=\"#17becf\"><use href=\"#wtg\" x=\"1550\" y=\"543\"/><use href=\"#wtg\" x=\"1801\" y=\"446\"/><use href=\"#wtg\" x=\"1840\" y=\"542\"/><use href=\"#wtg\" x=\"1732\" y=\"572\"/><use href=\"#wtg\" x=\"1639\" y=\"617\"/></g></g><g id=\"OSSgrp\"><use href=\"#oss\" x=\"628.5\" y=\"479.5\"/><use href=\"#oss\" x=\"1362.5\" y=\"487.5\"/></g></g><text filter=\"url(#bg_textbox)\" text-anchor=\"end\" font-family=\"sans-serif\" font-size=\"40\" fill=\"white\" x=\"1890\" y=\"905\"><tspan x=\"1890\" dy=\"-0.0em\">&#931;&#955; = 87803.0 m</tspan><tspan x=\"1890\" dy=\"-1.3em\">(+0) &#945;: 10, &#946;: 9</tspan><tspan x=\"1890\" dy=\"-1.3em\">&#954; = 5, T = 91</tspan></text></svg>"
      ],
      "text/plain": [
       "<optiwindnet.svg.SvgRepr at 0x19650836480>"
      ]
     },
     "execution_count": 11,
     "metadata": {},
     "output_type": "execute_result"
    }
   ],
   "source": [
    "wfn.length()"
   ]
  },
  {
   "cell_type": "code",
   "execution_count": null,
   "id": "a0054c92",
   "metadata": {},
   "outputs": [],
   "source": [
    "wfn.plot()"
   ]
  }
 ],
 "metadata": {
  "kernelspec": {
   "display_name": "OptiWindNet",
   "language": "python",
   "name": "python3"
  },
  "language_info": {
   "codemirror_mode": {
    "name": "ipython",
    "version": 3
   },
   "file_extension": ".py",
   "mimetype": "text/x-python",
   "name": "python",
   "nbconvert_exporter": "python",
   "pygments_lexer": "ipython3",
   "version": "3.12.9"
  }
 },
 "nbformat": 4,
 "nbformat_minor": 5
}
