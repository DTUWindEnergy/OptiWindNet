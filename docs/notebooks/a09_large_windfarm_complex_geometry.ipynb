{
 "cells": [
  {
   "cell_type": "markdown",
   "id": "08f22ef2",
   "metadata": {},
   "source": [
    "# A Large and Complex Wind Farm"
   ]
  },
  {
   "cell_type": "markdown",
   "id": "3da71e0a-3861-4a7c-8eaa-de84bce11338",
   "metadata": {},
   "source": [
    "This notebook demonstrates how to apply *OptiWindNet* to optimize cable routing for a large-scale wind farm with 122 turbines and 2 substations, set in a concave layout area containing an internal obstacle. We will use `EWRouter` for warm-starting, then run `MILPRouter` with the COIN-OR CBC solver to find a high-quality branched cable layout. The process covers loading real-world location data, generating and visualizing warm-start solutions, configuring solver and model options, and plotting the final optimized network.\n",
    "\n",
    "\n",
    "> Note: Any additional geometric complexity will have negligible impact on solving time, as they do not increase the number of variables in the MILP optimization model.\n",
    "\n",
    "> This notebook uses *COIN-OR CBC* as solver, but examples for other solvers (*gurobi, cplex, ortools, scip, highs*) can be found in the *MILPRouter* notebooks. Gurobi and IBM ILOG CPLEX are comercial solvers (academic license available). Google's OR-Tools, COIN-OR CBC, SCIP and HiGHS are open-source software."
   ]
  },
  {
   "cell_type": "code",
   "execution_count": 1,
   "id": "a1ae5f35-904c-48de-a19a-4be303e46327",
   "metadata": {},
   "outputs": [],
   "source": [
    "from optiwindnet.api import WindFarmNetwork, EWRouter, MILPRouter, ModelOptions, load_repository"
   ]
  },
  {
   "cell_type": "code",
   "execution_count": 2,
   "id": "d9337d43",
   "metadata": {},
   "outputs": [],
   "source": [
    "# Display figures as SVG in Jupyter notebooks\n",
    "%config InlineBackend.figure_formats = ['svg']"
   ]
  },
  {
   "cell_type": "markdown",
   "id": "c37992fa-ecd0-4eec-9485-01c721213b72",
   "metadata": {},
   "source": [
    "## Load input data\n",
    "\n",
    "> Note: the `load_repository()` functionality of *OptiWindNet* is used to load a prebuilt *Networkx.Graph* of the avaible locations. For more details on this functionality look into the notebook about [Load repositories containing location data](a03_load_repositories.ipynb)."
   ]
  },
  {
   "cell_type": "code",
   "execution_count": 3,
   "id": "9e47e5ac-661d-4084-ba6b-157aebe72cd8",
   "metadata": {},
   "outputs": [],
   "source": [
    "locations = load_repository()"
   ]
  },
  {
   "cell_type": "markdown",
   "id": "13a15e55-d94a-4af3-a2a2-a400367f926f",
   "metadata": {},
   "source": [
    "The example location from <https://onlinelibrary.wiley.com/doi/abs/10.1049/rpg2.12593> (Taylor_2023) provides suitable specifications for our purpose; a large wind farm with multiple substations and complex geometry."
   ]
  },
  {
   "cell_type": "code",
   "execution_count": 4,
   "id": "e8f1b4f3",
   "metadata": {},
   "outputs": [],
   "source": [
    "wfn = WindFarmNetwork(L=locations.taylor_2023, cables=[(5, 1800.0), (8, 2200.0)])"
   ]
  },
  {
   "cell_type": "markdown",
   "id": "d3eaf120",
   "metadata": {},
   "source": [
    "> Note: To view output plots, trust this notebook first."
   ]
  },
  {
   "cell_type": "code",
   "execution_count": 5,
   "id": "c3576c4e",
   "metadata": {},
   "outputs": [
    {
     "data": {
      "image/svg+xml": [
       "<svg xmlns=\"http://www.w3.org/2000/svg\" viewBox=\"0 0 1920 1080\"><defs><circle stroke=\"none\" stroke-width=\"2\" id=\"wtg\" r=\"12\"/><rect stroke=\"#111\" stroke-width=\"2\" id=\"oss\" width=\"21\" height=\"21\" fill=\"lawngreen\"/></defs><g id=\"taylor_2023\"><path stroke=\"silver\" stroke-dasharray=\"15 7\" stroke-width=\"2\" id=\"border\" d=\"M30 544 291 1050 724 822 735 817 973 679 944 712 760 833 1080 1050 1127 561 1037 146 737 30 59 297z M758 253 757 354 724 378 645 314 603 289 676 233z\" fill-rule=\"evenodd\" fill=\"#111\"/><g id=\"WTGgrp\"><g fill=\"#9edae5\"><use href=\"#wtg\" x=\"1091\" y=\"849\"/><use href=\"#wtg\" x=\"1066\" y=\"921\"/><use href=\"#wtg\" x=\"1033\" y=\"1000\"/><use href=\"#wtg\" x=\"1115\" y=\"594\"/><use href=\"#wtg\" x=\"1090\" y=\"665\"/><use href=\"#wtg\" x=\"1057\" y=\"741\"/><use href=\"#wtg\" x=\"1023\" y=\"812\"/><use href=\"#wtg\" x=\"984\" y=\"888\"/><use href=\"#wtg\" x=\"957\" y=\"962\"/><use href=\"#wtg\" x=\"1080\" y=\"482\"/><use href=\"#wtg\" x=\"1048\" y=\"556\"/><use href=\"#wtg\" x=\"1014\" y=\"631\"/><use href=\"#wtg\" x=\"981\" y=\"706\"/><use href=\"#wtg\" x=\"944\" y=\"776\"/><use href=\"#wtg\" x=\"911\" y=\"856\"/><use href=\"#wtg\" x=\"1063\" y=\"302\"/><use href=\"#wtg\" x=\"1038\" y=\"377\"/><use href=\"#wtg\" x=\"1006\" y=\"450\"/><use href=\"#wtg\" x=\"972\" y=\"524\"/><use href=\"#wtg\" x=\"940\" y=\"600\"/><use href=\"#wtg\" x=\"905\" y=\"675\"/><use href=\"#wtg\" x=\"841\" y=\"824\"/><use href=\"#wtg\" x=\"1029\" y=\"190\"/><use href=\"#wtg\" x=\"997\" y=\"265\"/><use href=\"#wtg\" x=\"962\" y=\"338\"/><use href=\"#wtg\" x=\"930\" y=\"412\"/><use href=\"#wtg\" x=\"899\" y=\"485\"/><use href=\"#wtg\" x=\"869\" y=\"562\"/><use href=\"#wtg\" x=\"836\" y=\"638\"/><use href=\"#wtg\" x=\"804\" y=\"712\"/><use href=\"#wtg\" x=\"770\" y=\"788\"/><use href=\"#wtg\" x=\"955\" y=\"155\"/><use href=\"#wtg\" x=\"921\" y=\"231\"/><use href=\"#wtg\" x=\"885\" y=\"305\"/><use href=\"#wtg\" x=\"852\" y=\"380\"/><use href=\"#wtg\" x=\"823\" y=\"456\"/><use href=\"#wtg\" x=\"793\" y=\"530\"/><use href=\"#wtg\" x=\"760\" y=\"605\"/><use href=\"#wtg\" x=\"727\" y=\"680\"/><use href=\"#wtg\" x=\"698\" y=\"751\"/><use href=\"#wtg\" x=\"664\" y=\"826\"/><use href=\"#wtg\" x=\"881\" y=\"119\"/><use href=\"#wtg\" x=\"846\" y=\"194\"/><use href=\"#wtg\" x=\"809\" y=\"270\"/><use href=\"#wtg\" x=\"779\" y=\"340\"/><use href=\"#wtg\" x=\"751\" y=\"414\"/><use href=\"#wtg\" x=\"721\" y=\"490\"/><use href=\"#wtg\" x=\"688\" y=\"564\"/><use href=\"#wtg\" x=\"655\" y=\"638\"/><use href=\"#wtg\" x=\"625\" y=\"715\"/><use href=\"#wtg\" x=\"592\" y=\"792\"/><use href=\"#wtg\" x=\"559\" y=\"867\"/><use href=\"#wtg\" x=\"806\" y=\"84\"/><use href=\"#wtg\" x=\"771\" y=\"162\"/><use href=\"#wtg\" x=\"737\" y=\"239\"/><use href=\"#wtg\" x=\"677\" y=\"380\"/><use href=\"#wtg\" x=\"646\" y=\"456\"/><use href=\"#wtg\" x=\"614\" y=\"530\"/><use href=\"#wtg\" x=\"579\" y=\"604\"/><use href=\"#wtg\" x=\"552\" y=\"680\"/><use href=\"#wtg\" x=\"517\" y=\"754\"/><use href=\"#wtg\" x=\"487\" y=\"830\"/><use href=\"#wtg\" x=\"455\" y=\"904\"/><use href=\"#wtg\" x=\"415\" y=\"975\"/><use href=\"#wtg\" x=\"731\" y=\"49\"/><use href=\"#wtg\" x=\"698\" y=\"122\"/><use href=\"#wtg\" x=\"666\" y=\"206\"/><use href=\"#wtg\" x=\"605\" y=\"348\"/><use href=\"#wtg\" x=\"574\" y=\"423\"/><use href=\"#wtg\" x=\"539\" y=\"499\"/><use href=\"#wtg\" x=\"504\" y=\"572\"/><use href=\"#wtg\" x=\"477\" y=\"647\"/><use href=\"#wtg\" x=\"441\" y=\"721\"/><use href=\"#wtg\" x=\"411\" y=\"797\"/><use href=\"#wtg\" x=\"378\" y=\"869\"/><use href=\"#wtg\" x=\"343\" y=\"947\"/><use href=\"#wtg\" x=\"311\" y=\"1021\"/><use href=\"#wtg\" x=\"623\" y=\"88\"/><use href=\"#wtg\" x=\"593\" y=\"163\"/><use href=\"#wtg\" x=\"564\" y=\"241\"/><use href=\"#wtg\" x=\"532\" y=\"315\"/><use href=\"#wtg\" x=\"498\" y=\"388\"/><use href=\"#wtg\" x=\"464\" y=\"460\"/><use href=\"#wtg\" x=\"433\" y=\"536\"/><use href=\"#wtg\" x=\"403\" y=\"611\"/><use href=\"#wtg\" x=\"368\" y=\"684\"/><use href=\"#wtg\" x=\"338\" y=\"759\"/><use href=\"#wtg\" x=\"302\" y=\"835\"/><use href=\"#wtg\" x=\"268\" y=\"909\"/><use href=\"#wtg\" x=\"517\" y=\"127\"/><use href=\"#wtg\" x=\"488\" y=\"202\"/><use href=\"#wtg\" x=\"458\" y=\"278\"/><use href=\"#wtg\" x=\"424\" y=\"350\"/><use href=\"#wtg\" x=\"391\" y=\"425\"/><use href=\"#wtg\" x=\"359\" y=\"500\"/><use href=\"#wtg\" x=\"328\" y=\"575\"/><use href=\"#wtg\" x=\"296\" y=\"649\"/><use href=\"#wtg\" x=\"261\" y=\"726\"/><use href=\"#wtg\" x=\"228\" y=\"803\"/><use href=\"#wtg\" x=\"412\" y=\"167\"/><use href=\"#wtg\" x=\"382\" y=\"241\"/><use href=\"#wtg\" x=\"350\" y=\"316\"/><use href=\"#wtg\" x=\"316\" y=\"390\"/><use href=\"#wtg\" x=\"287\" y=\"466\"/><use href=\"#wtg\" x=\"253\" y=\"541\"/><use href=\"#wtg\" x=\"221\" y=\"616\"/><use href=\"#wtg\" x=\"184\" y=\"690\"/><use href=\"#wtg\" x=\"154\" y=\"766\"/><use href=\"#wtg\" x=\"306\" y=\"209\"/><use href=\"#wtg\" x=\"276\" y=\"282\"/><use href=\"#wtg\" x=\"241\" y=\"360\"/><use href=\"#wtg\" x=\"209\" y=\"434\"/><use href=\"#wtg\" x=\"176\" y=\"509\"/><use href=\"#wtg\" x=\"144\" y=\"581\"/><use href=\"#wtg\" x=\"111\" y=\"656\"/><use href=\"#wtg\" x=\"201\" y=\"250\"/><use href=\"#wtg\" x=\"170\" y=\"320\"/><use href=\"#wtg\" x=\"133\" y=\"399\"/><use href=\"#wtg\" x=\"101\" y=\"471\"/><use href=\"#wtg\" x=\"68\" y=\"548\"/><use href=\"#wtg\" x=\"96\" y=\"292\"/><use href=\"#wtg\" x=\"62\" y=\"364\"/></g></g><g id=\"OSSgrp\"><use href=\"#oss\" x=\"740.5\" y=\"747.5\"/><use href=\"#oss\" x=\"465.5\" y=\"329.5\"/></g></g></svg>"
      ],
      "text/plain": [
       "<optiwindnet.api.WindFarmNetwork at 0x2682f7007d0>"
      ]
     },
     "execution_count": 5,
     "metadata": {},
     "output_type": "execute_result"
    }
   ],
   "source": [
    "wfn"
   ]
  },
  {
   "cell_type": "markdown",
   "id": "cbe51c02",
   "metadata": {},
   "source": [
    "There are two options for generating an initial solution to warm-start the `MILPRouter`:\n",
    "- heuristic: `EWRouter()`\n",
    "- meta-heuristic: `HGSRouter()`\n",
    "\n",
    "`EWRouter` has the downside of not limiting the number of feeders, thus the model to be warm-started must also have an unlimited number of feeders. This is usually not a problem, as most cable route sets produced by the `MILPRouter` uses the minimum number of feeders or only one more than the minimum."
   ]
  },
  {
   "cell_type": "markdown",
   "id": "9bb10ad9",
   "metadata": {},
   "source": [
    "## Generate the warm-start solution"
   ]
  },
  {
   "cell_type": "markdown",
   "id": "59c0d61e-4daf-44f3-af91-f096952f07ab",
   "metadata": {},
   "source": [
    "To generate a warm-start solution, simply run `wfn.optimize()` with the desired solver e.g.:\n",
    "\n",
    "```python\n",
    "wfn.optimize(router=warmstart_router)\n",
    "```\n",
    "\n",
    "In this example, we use `EWRouter` to warm-start the optimization model. Alternatively, `HGSRouter()` can be used for the same purpose.\n",
    "\n",
    "The resulting solution is stored within the `wfn` object. The next time `wfn.optimize()` is called, the stored solution (`S` which contains *selected-links*) will be reused as a warm start; provided that the solver in `MILPRouter` supports warm-starting.\n"
   ]
  },
  {
   "cell_type": "code",
   "execution_count": 6,
   "id": "afb280cc",
   "metadata": {},
   "outputs": [],
   "source": [
    "warmstart_router = EWRouter()\n",
    "res_warmstart= wfn.optimize(router=warmstart_router)"
   ]
  },
  {
   "cell_type": "code",
   "execution_count": 7,
   "id": "b0048736",
   "metadata": {},
   "outputs": [
    {
     "data": {
      "text/plain": [
       "113112.15297348917"
      ]
     },
     "execution_count": 7,
     "metadata": {},
     "output_type": "execute_result"
    }
   ],
   "source": [
    "wfn.length()"
   ]
  },
  {
   "cell_type": "markdown",
   "id": "cff4d530-ff92-483f-9a65-43bc6c89f08c",
   "metadata": {},
   "source": [
    "### Visualizing the warm-start solution"
   ]
  },
  {
   "cell_type": "markdown",
   "id": "81de3bb0",
   "metadata": {},
   "source": [
    "`S` can be visualized using `wfn.plot_selected_links()`.\n",
    "\n",
    "> For a detailed explanation and visuals about different graphs and plots in OptiWindNet:\n",
    "> - look into the notebook about [Plotting](a04_Plotting.ipynb)\n",
    "> - read this paper:**To be added: \\[link to paper]**"
   ]
  },
  {
   "cell_type": "code",
   "execution_count": 8,
   "id": "29fc5b50",
   "metadata": {},
   "outputs": [
    {
     "data": {
      "image/svg+xml": [
       "<svg xmlns=\"http://www.w3.org/2000/svg\" viewBox=\"0 0 1920 1080\"><defs><circle stroke=\"orange\" stroke-opacity=\"0.3\" stroke-width=\"4\" id=\"dt\" r=\"23\" fill=\"none\"/><circle stroke=\"none\" stroke-width=\"2\" id=\"wtg\" r=\"12\"/><rect stroke=\"#111\" stroke-width=\"2\" id=\"oss\" width=\"21\" height=\"21\" fill=\"lawngreen\"/><filter x=\"-5%\" y=\"-5%\" id=\"bg_textbox\" width=\"110%\" height=\"110%\"><feFlood flood-opacity=\"0.6\" flood-color=\"black\" result=\"bg\"/><feMerge><feMergeNode in=\"bg\"/><feMergeNode in=\"SourceGraphic\"/></feMerge></filter></defs><g id=\"taylor_2023\"><path stroke=\"silver\" stroke-dasharray=\"15 7\" stroke-width=\"2\" id=\"border\" d=\"M30 544 291 1050 724 822 735 817 973 679 944 712 760 833 1080 1050 1127 561 1037 146 737 30 59 297z M758 253 757 354 724 378 645 314 603 289 676 233z\" fill-rule=\"evenodd\" fill=\"#111\"/><g stroke=\"crimson\" stroke-width=\"4\" id=\"edges_unspecified\"><line x1=\"1091\" y1=\"849\" x2=\"1023\" y2=\"812\"/><line x1=\"1091\" y1=\"849\" x2=\"1066\" y2=\"921\"/><line x1=\"751\" y1=\"758\" x2=\"698\" y2=\"751\"/><line x1=\"751\" y1=\"758\" x2=\"804\" y2=\"712\"/><line x1=\"751\" y1=\"758\" x2=\"727\" y2=\"680\"/><line x1=\"751\" y1=\"758\" x2=\"664\" y2=\"826\"/><line x1=\"751\" y1=\"758\" x2=\"770\" y2=\"788\"/><line x1=\"751\" y1=\"758\" x2=\"905\" y2=\"675\"/><line x1=\"751\" y1=\"758\" x2=\"836\" y2=\"638\"/><line x1=\"751\" y1=\"758\" x2=\"517\" y2=\"754\"/><line x1=\"1066\" y1=\"921\" x2=\"1033\" y2=\"1000\"/><line x1=\"1115\" y1=\"594\" x2=\"1048\" y2=\"556\"/><line x1=\"1115\" y1=\"594\" x2=\"1090\" y2=\"665\"/><line x1=\"1057\" y1=\"741\" x2=\"1023\" y2=\"812\"/><line x1=\"984\" y1=\"888\" x2=\"911\" y2=\"856\"/><line x1=\"984\" y1=\"888\" x2=\"957\" y2=\"962\"/><line x1=\"1080\" y1=\"482\" x2=\"1048\" y2=\"556\"/><line x1=\"1048\" y1=\"556\" x2=\"1014\" y2=\"631\"/><line x1=\"1014\" y1=\"631\" x2=\"905\" y2=\"675\"/><line x1=\"981\" y1=\"706\" x2=\"944\" y2=\"776\"/><line x1=\"944\" y1=\"776\" x2=\"911\" y2=\"856\"/><line x1=\"911\" y1=\"856\" x2=\"841\" y2=\"824\"/><line x1=\"1063\" y1=\"302\" x2=\"997\" y2=\"265\"/><line x1=\"1063\" y1=\"302\" x2=\"1038\" y2=\"377\"/><line x1=\"1038\" y1=\"377\" x2=\"1006\" y2=\"450\"/><line x1=\"1006\" y1=\"450\" x2=\"972\" y2=\"524\"/><line x1=\"972\" y1=\"524\" x2=\"940\" y2=\"600\"/><line x1=\"940\" y1=\"600\" x2=\"804\" y2=\"712\"/><line x1=\"1029\" y1=\"190\" x2=\"955\" y2=\"155\"/><line x1=\"476\" y1=\"340\" x2=\"532\" y2=\"315\"/><line x1=\"476\" y1=\"340\" x2=\"458\" y2=\"278\"/><line x1=\"476\" y1=\"340\" x2=\"391\" y2=\"425\"/><line x1=\"476\" y1=\"340\" x2=\"498\" y2=\"388\"/><line x1=\"476\" y1=\"340\" x2=\"424\" y2=\"350\"/><line x1=\"476\" y1=\"340\" x2=\"464\" y2=\"460\"/><line x1=\"476\" y1=\"340\" x2=\"316\" y2=\"390\"/><line x1=\"962\" y1=\"338\" x2=\"930\" y2=\"412\"/><line x1=\"930\" y1=\"412\" x2=\"899\" y2=\"485\"/><line x1=\"899\" y1=\"485\" x2=\"869\" y2=\"562\"/><line x1=\"869\" y1=\"562\" x2=\"836\" y2=\"638\"/><line x1=\"955\" y1=\"155\" x2=\"881\" y2=\"119\"/><line x1=\"921\" y1=\"231\" x2=\"846\" y2=\"194\"/><line x1=\"885\" y1=\"305\" x2=\"852\" y2=\"380\"/><line x1=\"852\" y1=\"380\" x2=\"823\" y2=\"456\"/><line x1=\"823\" y1=\"456\" x2=\"793\" y2=\"530\"/><line x1=\"793\" y1=\"530\" x2=\"760\" y2=\"605\"/><line x1=\"760\" y1=\"605\" x2=\"727\" y2=\"680\"/><line x1=\"698\" y1=\"751\" x2=\"625\" y2=\"715\"/><line x1=\"664\" y1=\"826\" x2=\"592\" y2=\"792\"/><line x1=\"881\" y1=\"119\" x2=\"846\" y2=\"194\"/><line x1=\"846\" y1=\"194\" x2=\"771\" y2=\"162\"/><line x1=\"809\" y1=\"270\" x2=\"779\" y2=\"340\"/><line x1=\"779\" y1=\"340\" x2=\"751\" y2=\"414\"/><line x1=\"751\" y1=\"414\" x2=\"677\" y2=\"380\"/><line x1=\"721\" y1=\"490\" x2=\"688\" y2=\"564\"/><line x1=\"688\" y1=\"564\" x2=\"655\" y2=\"638\"/><line x1=\"655\" y1=\"638\" x2=\"625\" y2=\"715\"/><line x1=\"625\" y1=\"715\" x2=\"552\" y2=\"680\"/><line x1=\"592\" y1=\"792\" x2=\"559\" y2=\"867\"/><line x1=\"559\" y1=\"867\" x2=\"455\" y2=\"904\"/><line x1=\"806\" y1=\"84\" x2=\"731\" y2=\"49\"/><line x1=\"771\" y1=\"162\" x2=\"737\" y2=\"239\"/><line x1=\"737\" y1=\"239\" x2=\"666\" y2=\"206\"/><line x1=\"677\" y1=\"380\" x2=\"605\" y2=\"348\"/><line x1=\"646\" y1=\"456\" x2=\"574\" y2=\"423\"/><line x1=\"614\" y1=\"530\" x2=\"539\" y2=\"499\"/><line x1=\"579\" y1=\"604\" x2=\"552\" y2=\"680\"/><line x1=\"552\" y1=\"680\" x2=\"477\" y2=\"647\"/><line x1=\"517\" y1=\"754\" x2=\"487\" y2=\"830\"/><line x1=\"517\" y1=\"754\" x2=\"441\" y2=\"721\"/><line x1=\"487\" y1=\"830\" x2=\"411\" y2=\"797\"/><line x1=\"455\" y1=\"904\" x2=\"415\" y2=\"975\"/><line x1=\"415\" y1=\"975\" x2=\"343\" y2=\"947\"/><line x1=\"731\" y1=\"49\" x2=\"698\" y2=\"122\"/><line x1=\"698\" y1=\"122\" x2=\"623\" y2=\"88\"/><line x1=\"605\" y1=\"348\" x2=\"574\" y2=\"423\"/><line x1=\"574\" y1=\"423\" x2=\"498\" y2=\"388\"/><line x1=\"539\" y1=\"499\" x2=\"504\" y2=\"572\"/><line x1=\"504\" y1=\"572\" x2=\"433\" y2=\"536\"/><line x1=\"411\" y1=\"797\" x2=\"378\" y2=\"869\"/><line x1=\"378\" y1=\"869\" x2=\"302\" y2=\"835\"/><line x1=\"343\" y1=\"947\" x2=\"311\" y2=\"1021\"/><line x1=\"623\" y1=\"88\" x2=\"593\" y2=\"163\"/><line x1=\"593\" y1=\"163\" x2=\"564\" y2=\"241\"/><line x1=\"564\" y1=\"241\" x2=\"532\" y2=\"315\"/><line x1=\"464\" y1=\"460\" x2=\"433\" y2=\"536\"/><line x1=\"433\" y1=\"536\" x2=\"403\" y2=\"611\"/><line x1=\"403\" y1=\"611\" x2=\"368\" y2=\"684\"/><line x1=\"368\" y1=\"684\" x2=\"338\" y2=\"759\"/><line x1=\"302\" y1=\"835\" x2=\"228\" y2=\"803\"/><line x1=\"302\" y1=\"835\" x2=\"268\" y2=\"909\"/><line x1=\"517\" y1=\"127\" x2=\"488\" y2=\"202\"/><line x1=\"488\" y1=\"202\" x2=\"458\" y2=\"278\"/><line x1=\"424\" y1=\"350\" x2=\"350\" y2=\"316\"/><line x1=\"391\" y1=\"425\" x2=\"359\" y2=\"500\"/><line x1=\"359\" y1=\"500\" x2=\"287\" y2=\"466\"/><line x1=\"359\" y1=\"500\" x2=\"328\" y2=\"575\"/><line x1=\"328\" y1=\"575\" x2=\"296\" y2=\"649\"/><line x1=\"296\" y1=\"649\" x2=\"261\" y2=\"726\"/><line x1=\"412\" y1=\"167\" x2=\"382\" y2=\"241\"/><line x1=\"382\" y1=\"241\" x2=\"350\" y2=\"316\"/><line x1=\"382\" y1=\"241\" x2=\"306\" y2=\"209\"/><line x1=\"316\" y1=\"390\" x2=\"241\" y2=\"360\"/><line x1=\"287\" y1=\"466\" x2=\"253\" y2=\"541\"/><line x1=\"253\" y1=\"541\" x2=\"221\" y2=\"616\"/><line x1=\"184\" y1=\"690\" x2=\"111\" y2=\"656\"/><line x1=\"184\" y1=\"690\" x2=\"154\" y2=\"766\"/><line x1=\"276\" y1=\"282\" x2=\"201\" y2=\"250\"/><line x1=\"241\" y1=\"360\" x2=\"209\" y2=\"434\"/><line x1=\"209\" y1=\"434\" x2=\"176\" y2=\"509\"/><line x1=\"176\" y1=\"509\" x2=\"144\" y2=\"581\"/><line x1=\"144\" y1=\"581\" x2=\"111\" y2=\"656\"/><line x1=\"201\" y1=\"250\" x2=\"170\" y2=\"320\"/><line x1=\"170\" y1=\"320\" x2=\"96\" y2=\"292\"/><line x1=\"133\" y1=\"399\" x2=\"62\" y2=\"364\"/><line x1=\"133\" y1=\"399\" x2=\"101\" y2=\"471\"/><line x1=\"101\" y1=\"471\" x2=\"68\" y2=\"548\"/><line x1=\"96\" y1=\"292\" x2=\"62\" y2=\"364\"/></g><g stroke=\"darkorange\" stroke-dasharray=\"18 15\" stroke-width=\"4\" id=\"detours\" fill=\"none\"><polyline points=\"751 758 973 679 981 706\"/><polyline points=\"751 758 973 679 1057 741\"/><polyline points=\"476 340 424 350 350 316 276 282\"/><polyline points=\"476 340 532 315 666 206\"/></g><g id=\"DTgrp\"><use href=\"#dt\" x=\"973\" y=\"679\"/><use href=\"#dt\" x=\"350\" y=\"316\"/><use href=\"#dt\" x=\"424\" y=\"350\"/><use href=\"#dt\" x=\"532\" y=\"315\"/><use href=\"#dt\" x=\"973\" y=\"679\"/></g><g id=\"WTGgrp\"><g fill=\"#1f77b4\"><use href=\"#wtg\" x=\"1091\" y=\"849\"/><use href=\"#wtg\" x=\"1066\" y=\"921\"/><use href=\"#wtg\" x=\"1033\" y=\"1000\"/><use href=\"#wtg\" x=\"1057\" y=\"741\"/><use href=\"#wtg\" x=\"1023\" y=\"812\"/></g><g fill=\"#ff7f0e\"><use href=\"#wtg\" x=\"1115\" y=\"594\"/><use href=\"#wtg\" x=\"1090\" y=\"665\"/><use href=\"#wtg\" x=\"1080\" y=\"482\"/><use href=\"#wtg\" x=\"1048\" y=\"556\"/><use href=\"#wtg\" x=\"1014\" y=\"631\"/><use href=\"#wtg\" x=\"905\" y=\"675\"/></g><g fill=\"#aec7e8\"><use href=\"#wtg\" x=\"984\" y=\"888\"/><use href=\"#wtg\" x=\"957\" y=\"962\"/><use href=\"#wtg\" x=\"981\" y=\"706\"/><use href=\"#wtg\" x=\"944\" y=\"776\"/><use href=\"#wtg\" x=\"911\" y=\"856\"/><use href=\"#wtg\" x=\"841\" y=\"824\"/></g><g fill=\"#2ca02c\"><use href=\"#wtg\" x=\"1063\" y=\"302\"/><use href=\"#wtg\" x=\"1038\" y=\"377\"/><use href=\"#wtg\" x=\"1006\" y=\"450\"/><use href=\"#wtg\" x=\"972\" y=\"524\"/><use href=\"#wtg\" x=\"940\" y=\"600\"/><use href=\"#wtg\" x=\"997\" y=\"265\"/><use href=\"#wtg\" x=\"804\" y=\"712\"/></g><g fill=\"#8c564b\"><use href=\"#wtg\" x=\"1029\" y=\"190\"/><use href=\"#wtg\" x=\"955\" y=\"155\"/><use href=\"#wtg\" x=\"921\" y=\"231\"/><use href=\"#wtg\" x=\"881\" y=\"119\"/><use href=\"#wtg\" x=\"846\" y=\"194\"/><use href=\"#wtg\" x=\"771\" y=\"162\"/><use href=\"#wtg\" x=\"737\" y=\"239\"/><use href=\"#wtg\" x=\"666\" y=\"206\"/></g><g fill=\"#ffbb78\"><use href=\"#wtg\" x=\"962\" y=\"338\"/><use href=\"#wtg\" x=\"930\" y=\"412\"/><use href=\"#wtg\" x=\"899\" y=\"485\"/><use href=\"#wtg\" x=\"869\" y=\"562\"/><use href=\"#wtg\" x=\"836\" y=\"638\"/></g><g fill=\"#98df8a\"><use href=\"#wtg\" x=\"770\" y=\"788\"/></g><g fill=\"#d62728\"><use href=\"#wtg\" x=\"885\" y=\"305\"/><use href=\"#wtg\" x=\"852\" y=\"380\"/><use href=\"#wtg\" x=\"823\" y=\"456\"/><use href=\"#wtg\" x=\"793\" y=\"530\"/><use href=\"#wtg\" x=\"760\" y=\"605\"/><use href=\"#wtg\" x=\"727\" y=\"680\"/></g><g fill=\"#ff9896\"><use href=\"#wtg\" x=\"698\" y=\"751\"/><use href=\"#wtg\" x=\"721\" y=\"490\"/><use href=\"#wtg\" x=\"688\" y=\"564\"/><use href=\"#wtg\" x=\"655\" y=\"638\"/><use href=\"#wtg\" x=\"625\" y=\"715\"/><use href=\"#wtg\" x=\"579\" y=\"604\"/><use href=\"#wtg\" x=\"552\" y=\"680\"/><use href=\"#wtg\" x=\"477\" y=\"647\"/></g><g fill=\"#9467bd\"><use href=\"#wtg\" x=\"664\" y=\"826\"/><use href=\"#wtg\" x=\"592\" y=\"792\"/><use href=\"#wtg\" x=\"559\" y=\"867\"/><use href=\"#wtg\" x=\"455\" y=\"904\"/><use href=\"#wtg\" x=\"415\" y=\"975\"/><use href=\"#wtg\" x=\"343\" y=\"947\"/><use href=\"#wtg\" x=\"311\" y=\"1021\"/></g><g fill=\"#e377c2\"><use href=\"#wtg\" x=\"809\" y=\"270\"/><use href=\"#wtg\" x=\"779\" y=\"340\"/><use href=\"#wtg\" x=\"751\" y=\"414\"/><use href=\"#wtg\" x=\"677\" y=\"380\"/><use href=\"#wtg\" x=\"646\" y=\"456\"/><use href=\"#wtg\" x=\"605\" y=\"348\"/><use href=\"#wtg\" x=\"574\" y=\"423\"/><use href=\"#wtg\" x=\"498\" y=\"388\"/></g><g fill=\"#c49c94\"><use href=\"#wtg\" x=\"806\" y=\"84\"/><use href=\"#wtg\" x=\"731\" y=\"49\"/><use href=\"#wtg\" x=\"698\" y=\"122\"/><use href=\"#wtg\" x=\"623\" y=\"88\"/><use href=\"#wtg\" x=\"593\" y=\"163\"/><use href=\"#wtg\" x=\"564\" y=\"241\"/><use href=\"#wtg\" x=\"532\" y=\"315\"/></g><g fill=\"#f7b6d2\"><use href=\"#wtg\" x=\"614\" y=\"530\"/><use href=\"#wtg\" x=\"539\" y=\"499\"/><use href=\"#wtg\" x=\"504\" y=\"572\"/><use href=\"#wtg\" x=\"464\" y=\"460\"/><use href=\"#wtg\" x=\"433\" y=\"536\"/><use href=\"#wtg\" x=\"403\" y=\"611\"/><use href=\"#wtg\" x=\"368\" y=\"684\"/><use href=\"#wtg\" x=\"338\" y=\"759\"/></g><g fill=\"#c5b0d5\"><use href=\"#wtg\" x=\"517\" y=\"754\"/><use href=\"#wtg\" x=\"487\" y=\"830\"/><use href=\"#wtg\" x=\"441\" y=\"721\"/><use href=\"#wtg\" x=\"411\" y=\"797\"/><use href=\"#wtg\" x=\"378\" y=\"869\"/><use href=\"#wtg\" x=\"302\" y=\"835\"/><use href=\"#wtg\" x=\"268\" y=\"909\"/><use href=\"#wtg\" x=\"228\" y=\"803\"/></g><g fill=\"#7f7f7f\"><use href=\"#wtg\" x=\"517\" y=\"127\"/><use href=\"#wtg\" x=\"488\" y=\"202\"/><use href=\"#wtg\" x=\"458\" y=\"278\"/></g><g fill=\"#c7c7c7\"><use href=\"#wtg\" x=\"424\" y=\"350\"/><use href=\"#wtg\" x=\"412\" y=\"167\"/><use href=\"#wtg\" x=\"382\" y=\"241\"/><use href=\"#wtg\" x=\"350\" y=\"316\"/><use href=\"#wtg\" x=\"306\" y=\"209\"/></g><g fill=\"#bcbd22\"><use href=\"#wtg\" x=\"391\" y=\"425\"/><use href=\"#wtg\" x=\"359\" y=\"500\"/><use href=\"#wtg\" x=\"328\" y=\"575\"/><use href=\"#wtg\" x=\"296\" y=\"649\"/><use href=\"#wtg\" x=\"261\" y=\"726\"/><use href=\"#wtg\" x=\"287\" y=\"466\"/><use href=\"#wtg\" x=\"253\" y=\"541\"/><use href=\"#wtg\" x=\"221\" y=\"616\"/></g><g fill=\"#dbdb8d\"><use href=\"#wtg\" x=\"316\" y=\"390\"/><use href=\"#wtg\" x=\"184\" y=\"690\"/><use href=\"#wtg\" x=\"154\" y=\"766\"/><use href=\"#wtg\" x=\"241\" y=\"360\"/><use href=\"#wtg\" x=\"209\" y=\"434\"/><use href=\"#wtg\" x=\"176\" y=\"509\"/><use href=\"#wtg\" x=\"144\" y=\"581\"/><use href=\"#wtg\" x=\"111\" y=\"656\"/></g><g fill=\"#17becf\"><use href=\"#wtg\" x=\"276\" y=\"282\"/><use href=\"#wtg\" x=\"201\" y=\"250\"/><use href=\"#wtg\" x=\"170\" y=\"320\"/><use href=\"#wtg\" x=\"133\" y=\"399\"/><use href=\"#wtg\" x=\"101\" y=\"471\"/><use href=\"#wtg\" x=\"68\" y=\"548\"/><use href=\"#wtg\" x=\"96\" y=\"292\"/><use href=\"#wtg\" x=\"62\" y=\"364\"/></g></g><g id=\"OSSgrp\"><use href=\"#oss\" x=\"740.5\" y=\"747.5\"/><use href=\"#oss\" x=\"465.5\" y=\"329.5\"/></g></g><text filter=\"url(#bg_textbox)\" text-anchor=\"end\" font-family=\"sans-serif\" font-size=\"40\" fill=\"white\" x=\"1127\" y=\"1050\"><tspan x=\"1127\" dy=\"-0.0em\">216613758 &#8364;</tspan><tspan x=\"1127\" dy=\"-1.3em\">&#931;&#955; = 113112.0 m</tspan><tspan x=\"1127\" dy=\"-1.3em\">(+3) [-1]: 9, [-2]: 10</tspan><tspan x=\"1127\" dy=\"-1.3em\">&#954; = 8, T = 122</tspan></text></svg>"
      ],
      "text/plain": [
       "<optiwindnet.api.WindFarmNetwork at 0x2682f7007d0>"
      ]
     },
     "execution_count": 8,
     "metadata": {},
     "output_type": "execute_result"
    }
   ],
   "source": [
    "wfn"
   ]
  },
  {
   "cell_type": "markdown",
   "id": "5f88cdac",
   "metadata": {},
   "source": [
    "## MILP Router"
   ]
  },
  {
   "cell_type": "markdown",
   "id": "966e3317",
   "metadata": {},
   "source": [
    "Create an instance of `MILPRouter` and choose COIN-OR Branch and Cut (CBC) as solver."
   ]
  },
  {
   "cell_type": "markdown",
   "id": "708a88ce",
   "metadata": {},
   "source": [
    "When initializing a `MILPRouter` three arguments are required to be given:\n",
    "- solver name\n",
    "- time limit\n",
    "- gap"
   ]
  },
  {
   "cell_type": "markdown",
   "id": "79b7673d",
   "metadata": {},
   "source": [
    "Solver options, including those set by OptiWindNet as well as additional configurable parameters, can be modified by creating a **dictionary** and passing it to the router. The same approach applies to **model options**. For a detailed explanation about model_options and solver_options of MILP routers see the notebook about [ModelOptions vs SolverOptions](a08_ModelOptions.ipynb)."
   ]
  },
  {
   "cell_type": "code",
   "execution_count": 9,
   "id": "5c277e03",
   "metadata": {},
   "outputs": [],
   "source": [
    "solver_options=dict( # these are in addition to the default solver.options\n",
    "        # if repeatable results are desired, set the seed\n",
    "        RandomCbcSeed=1234567,\n",
    "        # CBC works better if the number threads is set to the number of physical cores\n",
    "        threads=6,\n",
    "    )\n",
    "\n",
    "model_options = ModelOptions(\n",
    "                        topology='branched',\n",
    "                        feeder_limit='unlimited',\n",
    "                        feeder_route='segmented',\n",
    "                    )\n",
    "\n",
    "milp_router = MILPRouter(solver_name='cbc', time_limit=30, mip_gap=0.005, solver_options=solver_options, model_options=model_options)"
   ]
  },
  {
   "cell_type": "markdown",
   "id": "eda1ab2b",
   "metadata": {},
   "source": [
    "### Run optimizatin with MILP router"
   ]
  },
  {
   "cell_type": "code",
   "execution_count": 10,
   "id": "8783cc8f",
   "metadata": {},
   "outputs": [
    {
     "name": "stdout",
     "output_type": "stream",
     "text": [
      "Using warm start: the model is initialized with the provided solution S.\n",
      "\n"
     ]
    },
    {
     "name": "stderr",
     "output_type": "stream",
     "text": [
      "INFO:optiwindnet.MILP.pyomo:>>> cbc solver options <<<\n",
      "Dins: 'on'\n",
      "RandomCbcSeed: 1234567\n",
      "Rens: 'on'\n",
      "Rins: 'on'\n",
      "VndVariableNeighborhoodSearch: 'on'\n",
      "cliqueCuts: 'off'\n",
      "flowCoverCuts: 'on'\n",
      "gomoryCuts: 'on'\n",
      "knapsackCuts: 'off'\n",
      "liftAndProjectCuts: 'off'\n",
      "mixedIntegerRoundingCuts: 'on'\n",
      "nodeStrategy: 'downFewest'\n",
      "pivotAndComplement: 'off'\n",
      "probingCuts: 'off'\n",
      "proximitySearch: 'off'\n",
      "ratioGap: 0.005\n",
      "residualCapacityCuts: 'off'\n",
      "seconds: 30\n",
      "threads: 6\n",
      "timeMode: 'elapsed'\n",
      "twoMirCuts: 'off'\n",
      "zeroHalfCuts: 'off'\n",
      "\n"
     ]
    },
    {
     "name": "stdout",
     "output_type": "stream",
     "text": [
      "Welcome to the CBC MILP Solver \n",
      "Version: 2.10.8 \n",
      "Build Date: Jan  1 1970 \n",
      "\n",
      "command line - C:\\my_program_files\\cbc\\bin\\cbc.exe -threads 6 -timeMode elapsed -nodeStrategy downFewest -Dins on -VndVariableNeighborhoodSearch on -Rens on -Rins on -pivotAndComplement off -proximitySearch off -gomoryCuts on -mixedIntegerRoundingCuts on -flowCoverCuts on -cliqueCuts off -twoMirCuts off -knapsackCuts off -probingCuts off -zeroHalfCuts off -liftAndProjectCuts off -residualCapacityCuts off -RandomCbcSeed 1234567 -seconds 30 -ratioGap 0.005 -printingOptions all -import C:\\Users\\amia\\AppData\\Local\\Temp\\tmpallszsg2.pyomo.lp -mipstart \\Users\\amia\\AppData\\Local\\Temp\\tmpkwuu819e.cbc.soln -stat=1 -solve -solu C:\\Users\\amia\\AppData\\Local\\Temp\\tmpallszsg2.pyomo.soln (default strategy 1)\n",
      "threads was changed from 0 to 6\n",
      "Option for timeMode changed from cpu to elapsed\n",
      "Option for nodeStrategy changed from fewest to downfewest\n",
      "Option for Dins changed from off to on\n",
      "Option for VndVariableNeighborhoodSearch changed from off to on\n",
      "Option for Rens changed from off to on\n",
      "Option for gomoryCuts changed from ifmove to on\n",
      "Option for mixedIntegerRoundingCuts changed from ifmove to on\n",
      "Option for flowCoverCuts changed from ifmove to on\n",
      "Option for cliqueCuts changed from ifmove to off\n",
      "Option for twoMirCuts changed from root to off\n",
      "Option for knapsackCuts changed from ifmove to off\n",
      "Option for probingCuts changed from on to off\n",
      "Option for zeroHalfCuts changed from ifmove to off\n",
      "randomCbcSeed was changed from -1 to 1234567\n",
      "seconds was changed from 1e+100 to 30\n",
      "ratioGap was changed from 0 to 0.005\n",
      "Option for printingOptions changed from normal to all\n",
      "opening mipstart file \\Users\\amia\\AppData\\Local\\Temp\\tmpkwuu819e.cbc.soln.\n",
      "MIPStart values read for 244 variables.\n",
      "Presolve 4314 (-2) rows, 2891 (-1) columns and 14858 (-1442) elements\n",
      "Statistics for presolved model\n",
      "Original problem has 2892 integers (1446 of which binary)\n",
      "Presolved problem has 2891 integers (1445 of which binary)\n",
      "==== 1446 zero objective 840 different\n",
      "==== absolute objective values 840 different\n",
      "==== for integers 1446 zero objective 840 different\n",
      "==== for integers absolute objective values 840 different\n",
      "===== end objective counts\n",
      "\n",
      "\n",
      "Problem has 4314 rows, 2891 columns (1445 with objective) and 14858 elements\n",
      "Column breakdown:\n",
      "0 of type 0.0->inf, 1446 of type 0.0->up, 0 of type lo->inf, \n",
      "0 of type lo->up, 0 of type free, 0 of type fixed, \n",
      "0 of type -inf->0.0, 0 of type -inf->up, 1445 of type 0.0->1.0 \n",
      "Row breakdown:\n",
      "0 of type E 0.0, 243 of type E 1.0, 0 of type E -1.0, \n",
      "1 of type E other, 0 of type G 0.0, 0 of type G 1.0, \n",
      "1 of type G other, 2891 of type L 0.0, 1054 of type L 1.0, \n",
      "124 of type L other, 0 of type Range 0.0->1.0, 0 of type Range other, \n",
      "0 of type Free \n",
      "Continuous objective value is 104281 - 0.06 seconds\n",
      "Cgl0003I 0 fixed, 0 tightened bounds, 528 strengthened rows, 0 substitutions\n",
      "Cgl0003I 0 fixed, 0 tightened bounds, 528 strengthened rows, 0 substitutions\n",
      "Cgl0003I 0 fixed, 0 tightened bounds, 202 strengthened rows, 0 substitutions\n",
      "Cgl0003I 0 fixed, 0 tightened bounds, 121 strengthened rows, 0 substitutions\n",
      "Cgl0004I processed model has 3881 rows, 2892 columns (2892 integer (1446 of which binary)) and 15680 elements\n",
      "Cbc0045I MIPStart provided solution with cost 113017\n",
      "Cbc0012I Integer solution of 113017.26 found by Reduced search after 0 iterations and 0 nodes (0.28 seconds)\n",
      "Cbc0038I Full problem 3882 rows 2892 columns, reduced to 255 rows 151 columns\n",
      "Cbc0038I Full problem 3882 rows 2892 columns, reduced to 255 rows 151 columns\n",
      "Cbc0038I Full problem 3882 rows 2892 columns, reduced to 255 rows 151 columns\n",
      "Cbc0038I Full problem 3881 rows 2892 columns, reduced to 405 rows 226 columns\n",
      "Cbc0038I Full problem 3882 rows 2892 columns, reduced to 292 rows 181 columns\n",
      "Cbc0038I Full problem 3882 rows 2892 columns, reduced to 292 rows 181 columns\n",
      "Cbc0038I Full problem 3882 rows 2892 columns, reduced to 292 rows 181 columns\n",
      "Cbc0031I 88 added rows had average density of 88.568182\n",
      "Cbc0013I At root node, 88 cuts changed objective from 104281.43 to 104895.91 in 19 passes\n",
      "Cbc0014I Cut generator 0 (Gomory) - 230 row cuts average 346.8 elements, 0 column cuts (0 active)  in 0.486 seconds - new frequency is 1\n",
      "Cbc0014I Cut generator 1 (MixedIntegerRounding2) - 2 row cuts average 356.0 elements, 0 column cuts (0 active)  in 0.070 seconds - new frequency is 3\n",
      "Cbc0014I Cut generator 2 (FlowCover) - 163 row cuts average 16.7 elements, 0 column cuts (0 active)  in 0.030 seconds - new frequency is 1\n",
      "Cbc0010I After 0 nodes, 1 on tree, 113017.26 best solution, best possible 104895.91 (1.99 seconds)\n",
      "Cbc0010I After 100 nodes, 60 on tree, 113017.26 best solution, best possible 104952.14 (7.87 seconds)\n",
      "Cbc0010I After 200 nodes, 109 on tree, 113017.26 best solution, best possible 104952.14 (10.44 seconds)\n",
      "Cbc0010I After 300 nodes, 162 on tree, 113017.26 best solution, best possible 104952.14 (12.46 seconds)\n",
      "Cbc0010I After 400 nodes, 213 on tree, 113017.26 best solution, best possible 104952.14 (14.34 seconds)\n",
      "Cbc0010I After 500 nodes, 264 on tree, 113017.26 best solution, best possible 104952.14 (15.93 seconds)\n",
      "Cbc0010I After 600 nodes, 313 on tree, 113017.26 best solution, best possible 104952.14 (17.23 seconds)\n",
      "Cbc0010I After 700 nodes, 360 on tree, 113017.26 best solution, best possible 104952.14 (18.35 seconds)\n",
      "Cbc0010I After 800 nodes, 375 on tree, 113017.26 best solution, best possible 104952.14 (19.10 seconds)\n",
      "Cbc0010I After 900 nodes, 400 on tree, 113017.26 best solution, best possible 104952.14 (19.70 seconds)\n",
      "Cbc0010I After 1000 nodes, 423 on tree, 113017.26 best solution, best possible 104952.14 (20.19 seconds)\n",
      "Cbc0010I After 1100 nodes, 416 on tree, 113017.26 best solution, best possible 104952.14 (20.50 seconds)\n",
      "Cbc0010I After 1200 nodes, 410 on tree, 113017.26 best solution, best possible 104952.14 (20.87 seconds)\n",
      "Cbc0010I After 1300 nodes, 406 on tree, 113017.26 best solution, best possible 104952.14 (21.23 seconds)\n",
      "Cbc0010I After 1400 nodes, 407 on tree, 113017.26 best solution, best possible 104952.14 (21.71 seconds)\n",
      "Cbc0010I After 1500 nodes, 391 on tree, 113017.26 best solution, best possible 104952.14 (22.33 seconds)\n",
      "Cbc0010I After 1600 nodes, 413 on tree, 113017.26 best solution, best possible 104952.14 (22.98 seconds)\n",
      "Cbc0010I After 1700 nodes, 417 on tree, 113017.26 best solution, best possible 104952.14 (23.43 seconds)\n",
      "Cbc0010I After 1800 nodes, 428 on tree, 113017.26 best solution, best possible 104952.14 (23.91 seconds)\n",
      "Cbc0010I After 1900 nodes, 461 on tree, 113017.26 best solution, best possible 104952.14 (24.36 seconds)\n",
      "Cbc0010I After 2000 nodes, 481 on tree, 113017.26 best solution, best possible 104952.14 (24.80 seconds)\n",
      "Cbc0010I After 2100 nodes, 484 on tree, 113017.26 best solution, best possible 104952.14 (25.23 seconds)\n",
      "Cbc0010I After 2200 nodes, 480 on tree, 113017.26 best solution, best possible 104952.14 (25.71 seconds)\n",
      "Cbc0010I After 2300 nodes, 482 on tree, 113017.26 best solution, best possible 104952.14 (26.12 seconds)\n",
      "Cbc0010I After 2400 nodes, 476 on tree, 113017.26 best solution, best possible 104952.14 (26.48 seconds)\n",
      "Cbc0010I After 2500 nodes, 496 on tree, 113017.26 best solution, best possible 104952.14 (26.95 seconds)\n",
      "Cbc0010I After 2600 nodes, 498 on tree, 113017.26 best solution, best possible 104952.14 (27.27 seconds)\n",
      "Cbc0010I After 2700 nodes, 517 on tree, 113017.26 best solution, best possible 104952.14 (27.72 seconds)\n",
      "Cbc0010I After 2800 nodes, 537 on tree, 113017.26 best solution, best possible 104952.14 (28.22 seconds)\n",
      "Cbc0010I After 2900 nodes, 571 on tree, 113017.26 best solution, best possible 104952.14 (28.77 seconds)\n",
      "Cbc0010I After 3000 nodes, 590 on tree, 113017.26 best solution, best possible 104952.14 (29.30 seconds)\n",
      "Cbc0030I Thread 0 used 515 times,  waiting to start 0.6256721,  2947 locks, 0.21976614 locked, 0.018067122 waiting for locks\n",
      "Cbc0030I Thread 1 used 517 times,  waiting to start 0.42010474,  2975 locks, 0.20623255 locked, 0.027341366 waiting for locks\n",
      "Cbc0030I Thread 2 used 495 times,  waiting to start 1.1103261,  2838 locks, 0.20609736 locked, 0.03138876 waiting for locks\n",
      "Cbc0030I Thread 3 used 511 times,  waiting to start 1.4357114,  2921 locks, 0.20849109 locked, 0.020550966 waiting for locks\n",
      "Cbc0030I Thread 4 used 523 times,  waiting to start 1.6045356,  2968 locks, 0.22195411 locked, 0.031655073 waiting for locks\n",
      "Cbc0030I Thread 5 used 536 times,  waiting to start 1.752903,  3048 locks, 0.20871186 locked, 0.032920122 waiting for locks\n",
      "Cbc0030I Main thread 26.558228 waiting for threads,  6230 locks, 0.003030777 locked, 0.025787354 waiting for locks\n",
      "Cbc0020I Exiting on maximum time\n",
      "Cbc0005I Partial search - best objective 113017.26 (best possible 104952.14), took 188757 iterations and 3092 nodes (30.16 seconds)\n",
      "Cbc0032I Strong branching done 17988 times (489750 iterations), fathomed 292 nodes and fixed 891 variables\n",
      "Cbc0035I Maximum depth 99, 88349 variables fixed on reduced cost\n",
      "Cuts at root node changed objective from 104281 to 104896\n",
      "Gomory was tried 1161 times and created 2367 cuts of which 0 were active after adding rounds of cuts (6.767 seconds)\n",
      "MixedIntegerRounding2 was tried 1581 times and created 922 cuts of which 0 were active after adding rounds of cuts (3.641 seconds)\n",
      "FlowCover was tried 1161 times and created 5082 cuts of which 0 were active after adding rounds of cuts (1.684 seconds)\n",
      "\n",
      "Result - Stopped on time limit\n",
      "\n",
      "Objective value:                113017.25676634\n",
      "Lower bound:                    104952.135\n",
      "Gap:                            0.08\n",
      "Enumerated nodes:               3092\n",
      "Total iterations:               188757\n",
      "Time (CPU seconds):             30.25\n",
      "Time (Wallclock seconds):       30.25\n",
      "\n",
      "Total time (CPU seconds):       30.69   (Wallclock seconds):       30.69\n",
      "\n"
     ]
    },
    {
     "name": "stderr",
     "output_type": "stream",
     "text": [
      "INFO:optiwindnet.MILP.pyomo:>>> Solution <<<\n",
      "SolutionInfo(runtime=30.69, bound=104952.14, objective=113017.25676634, relgap=0.07136181674462683, termination='maxTimeLimit')\n",
      "\n"
     ]
    }
   ],
   "source": [
    "# Set logging level to INFO to display messages about solver options\n",
    "import logging\n",
    "logging.basicConfig(level=logging.INFO)\n",
    "\n",
    "# run optimization with the milp router (Set verbose=True to display messages about solver progress)\n",
    "res = wfn.optimize(router=milp_router, verbose=True)"
   ]
  },
  {
   "cell_type": "code",
   "execution_count": 11,
   "id": "39ec2a2c",
   "metadata": {},
   "outputs": [
    {
     "data": {
      "text/plain": [
       "{'runtime': 30.69,\n",
       " 'bound': 104952.14,\n",
       " 'objective': 113017.25676634,\n",
       " 'relgap': 0.07136181674462683,\n",
       " 'termination': 'maxTimeLimit'}"
      ]
     },
     "execution_count": 11,
     "metadata": {},
     "output_type": "execute_result"
    }
   ],
   "source": [
    "wfn.solution_info()"
   ]
  },
  {
   "cell_type": "code",
   "execution_count": 12,
   "id": "a9ccd926",
   "metadata": {},
   "outputs": [
    {
     "data": {
      "text/plain": [
       "113112.15297348917"
      ]
     },
     "execution_count": 12,
     "metadata": {},
     "output_type": "execute_result"
    }
   ],
   "source": [
    "wfn.G.size(weight='length')"
   ]
  },
  {
   "cell_type": "code",
   "execution_count": 13,
   "id": "197f3308",
   "metadata": {},
   "outputs": [
    {
     "data": {
      "text/plain": [
       "113112.15297348917"
      ]
     },
     "execution_count": 13,
     "metadata": {},
     "output_type": "execute_result"
    }
   ],
   "source": [
    "wfn.length()"
   ]
  },
  {
   "cell_type": "markdown",
   "id": "9a449527",
   "metadata": {},
   "source": [
    "Terse link of the final layout is returned as output of `wfn.optimize()`. If not assigned to a variable (e.g. res), it can be easily accessed via `wfn.terse_links()`."
   ]
  },
  {
   "cell_type": "code",
   "execution_count": 14,
   "id": "00effc9d",
   "metadata": {},
   "outputs": [
    {
     "data": {
      "text/plain": [
       "array([  6,   0,   1,  10,   3,  -2,   5,  14,   7,  10,  11,  20,  -2,\n",
       "        12,  13,  16,  17,  18,  19,  29,  -2,  14,  31,  15,  25,  26,\n",
       "        27,  28,  -2,  -2,  -2,  41,  42,  34,  35,  36,  37,  38,  -2,\n",
       "        -2,  -2,  42,  53,  44,  45,  55,  47,  48,  49,  39,  40,  50,\n",
       "        64,  54,  66,  67,  68,  69,  59,  49,  -2,  60,  51,  62,  65,\n",
       "        77,  -1,  68,  81,  70,  83,  59,  60,  61,  73,  63,  75,  78,\n",
       "        79,  80,  -1,  -1,  -1,  82,  83,  84,  85,  74,  87,  90,  91,\n",
       "        -1,  -1,  -1,  93,  94,  95,  96,  87, 100, 101,  92,  -1,  94,\n",
       "       103, 104, 114, 106, 100,  -1, 102, 110, 111, 112, 113, 109, 115,\n",
       "       121, 117, 118, 116, 120])"
      ]
     },
     "execution_count": 14,
     "metadata": {},
     "output_type": "execute_result"
    }
   ],
   "source": [
    "res"
   ]
  },
  {
   "cell_type": "markdown",
   "id": "44d06e34-832a-49fd-9a49-6ecb0ed431ee",
   "metadata": {},
   "source": [
    "### Plot the optimized network graph"
   ]
  },
  {
   "cell_type": "code",
   "execution_count": 15,
   "id": "42b84cd0-d148-4e5d-907c-7de61dc17450",
   "metadata": {},
   "outputs": [
    {
     "data": {
      "image/svg+xml": [
       "<svg xmlns=\"http://www.w3.org/2000/svg\" viewBox=\"0 0 1920 1080\"><defs><circle stroke=\"orange\" stroke-opacity=\"0.3\" stroke-width=\"4\" id=\"dt\" r=\"23\" fill=\"none\"/><circle stroke=\"none\" stroke-width=\"2\" id=\"wtg\" r=\"12\"/><rect stroke=\"#111\" stroke-width=\"2\" id=\"oss\" width=\"21\" height=\"21\" fill=\"lawngreen\"/><filter x=\"-5%\" y=\"-5%\" id=\"bg_textbox\" width=\"110%\" height=\"110%\"><feFlood flood-opacity=\"0.6\" flood-color=\"black\" result=\"bg\"/><feMerge><feMergeNode in=\"bg\"/><feMergeNode in=\"SourceGraphic\"/></feMerge></filter></defs><g id=\"taylor_2023\"><path stroke=\"silver\" stroke-dasharray=\"15 7\" stroke-width=\"2\" id=\"border\" d=\"M30 544 291 1050 724 822 735 817 973 679 944 712 760 833 1080 1050 1127 561 1037 146 737 30 59 297z M758 253 757 354 724 378 645 314 603 289 676 233z\" fill-rule=\"evenodd\" fill=\"#111\"/><g stroke=\"crimson\" stroke-width=\"4\" id=\"edges_unspecified\"><line x1=\"1091\" y1=\"849\" x2=\"1023\" y2=\"812\"/><line x1=\"1091\" y1=\"849\" x2=\"1066\" y2=\"921\"/><line x1=\"1057\" y1=\"741\" x2=\"1023\" y2=\"812\"/><line x1=\"1115\" y1=\"594\" x2=\"1048\" y2=\"556\"/><line x1=\"1115\" y1=\"594\" x2=\"1090\" y2=\"665\"/><line x1=\"1080\" y1=\"482\" x2=\"1048\" y2=\"556\"/><line x1=\"1048\" y1=\"556\" x2=\"1014\" y2=\"631\"/><line x1=\"984\" y1=\"888\" x2=\"911\" y2=\"856\"/><line x1=\"984\" y1=\"888\" x2=\"957\" y2=\"962\"/><line x1=\"944\" y1=\"776\" x2=\"911\" y2=\"856\"/><line x1=\"911\" y1=\"856\" x2=\"841\" y2=\"824\"/><line x1=\"1014\" y1=\"631\" x2=\"905\" y2=\"675\"/><line x1=\"751\" y1=\"758\" x2=\"905\" y2=\"675\"/><line x1=\"1063\" y1=\"302\" x2=\"997\" y2=\"265\"/><line x1=\"1063\" y1=\"302\" x2=\"1038\" y2=\"377\"/><line x1=\"1038\" y1=\"377\" x2=\"1006\" y2=\"450\"/><line x1=\"1006\" y1=\"450\" x2=\"972\" y2=\"524\"/><line x1=\"972\" y1=\"524\" x2=\"940\" y2=\"600\"/><line x1=\"940\" y1=\"600\" x2=\"804\" y2=\"712\"/><line x1=\"751\" y1=\"758\" x2=\"804\" y2=\"712\"/><line x1=\"1029\" y1=\"190\" x2=\"955\" y2=\"155\"/><line x1=\"955\" y1=\"155\" x2=\"881\" y2=\"119\"/><line x1=\"962\" y1=\"338\" x2=\"930\" y2=\"412\"/><line x1=\"930\" y1=\"412\" x2=\"899\" y2=\"485\"/><line x1=\"899\" y1=\"485\" x2=\"869\" y2=\"562\"/><line x1=\"869\" y1=\"562\" x2=\"836\" y2=\"638\"/><line x1=\"751\" y1=\"758\" x2=\"836\" y2=\"638\"/><line x1=\"881\" y1=\"119\" x2=\"846\" y2=\"194\"/><line x1=\"921\" y1=\"231\" x2=\"846\" y2=\"194\"/><line x1=\"846\" y1=\"194\" x2=\"771\" y2=\"162\"/><line x1=\"885\" y1=\"305\" x2=\"852\" y2=\"380\"/><line x1=\"852\" y1=\"380\" x2=\"823\" y2=\"456\"/><line x1=\"823\" y1=\"456\" x2=\"793\" y2=\"530\"/><line x1=\"793\" y1=\"530\" x2=\"760\" y2=\"605\"/><line x1=\"760\" y1=\"605\" x2=\"727\" y2=\"680\"/><line x1=\"751\" y1=\"758\" x2=\"727\" y2=\"680\"/><line x1=\"771\" y1=\"162\" x2=\"737\" y2=\"239\"/><line x1=\"809\" y1=\"270\" x2=\"779\" y2=\"340\"/><line x1=\"779\" y1=\"340\" x2=\"751\" y2=\"414\"/><line x1=\"751\" y1=\"414\" x2=\"677\" y2=\"380\"/><line x1=\"677\" y1=\"380\" x2=\"605\" y2=\"348\"/><line x1=\"721\" y1=\"490\" x2=\"688\" y2=\"564\"/><line x1=\"688\" y1=\"564\" x2=\"655\" y2=\"638\"/><line x1=\"655\" y1=\"638\" x2=\"625\" y2=\"715\"/><line x1=\"698\" y1=\"751\" x2=\"625\" y2=\"715\"/><line x1=\"625\" y1=\"715\" x2=\"552\" y2=\"680\"/><line x1=\"806\" y1=\"84\" x2=\"731\" y2=\"49\"/><line x1=\"731\" y1=\"49\" x2=\"698\" y2=\"122\"/><line x1=\"737\" y1=\"239\" x2=\"666\" y2=\"206\"/><line x1=\"605\" y1=\"348\" x2=\"574\" y2=\"423\"/><line x1=\"646\" y1=\"456\" x2=\"574\" y2=\"423\"/><line x1=\"574\" y1=\"423\" x2=\"498\" y2=\"388\"/><line x1=\"614\" y1=\"530\" x2=\"539\" y2=\"499\"/><line x1=\"539\" y1=\"499\" x2=\"504\" y2=\"572\"/><line x1=\"579\" y1=\"604\" x2=\"552\" y2=\"680\"/><line x1=\"552\" y1=\"680\" x2=\"477\" y2=\"647\"/><line x1=\"698\" y1=\"122\" x2=\"623\" y2=\"88\"/><line x1=\"623\" y1=\"88\" x2=\"593\" y2=\"163\"/><line x1=\"476\" y1=\"340\" x2=\"498\" y2=\"388\"/><line x1=\"504\" y1=\"572\" x2=\"433\" y2=\"536\"/><line x1=\"464\" y1=\"460\" x2=\"433\" y2=\"536\"/><line x1=\"433\" y1=\"536\" x2=\"403\" y2=\"611\"/><line x1=\"593\" y1=\"163\" x2=\"564\" y2=\"241\"/><line x1=\"564\" y1=\"241\" x2=\"532\" y2=\"315\"/><line x1=\"476\" y1=\"340\" x2=\"532\" y2=\"315\"/><line x1=\"517\" y1=\"127\" x2=\"488\" y2=\"202\"/><line x1=\"488\" y1=\"202\" x2=\"458\" y2=\"278\"/><line x1=\"476\" y1=\"340\" x2=\"458\" y2=\"278\"/><line x1=\"412\" y1=\"167\" x2=\"382\" y2=\"241\"/><line x1=\"382\" y1=\"241\" x2=\"350\" y2=\"316\"/><line x1=\"382\" y1=\"241\" x2=\"306\" y2=\"209\"/><line x1=\"424\" y1=\"350\" x2=\"350\" y2=\"316\"/><line x1=\"184\" y1=\"690\" x2=\"111\" y2=\"656\"/><line x1=\"184\" y1=\"690\" x2=\"154\" y2=\"766\"/><line x1=\"144\" y1=\"581\" x2=\"111\" y2=\"656\"/><line x1=\"133\" y1=\"399\" x2=\"62\" y2=\"364\"/><line x1=\"133\" y1=\"399\" x2=\"101\" y2=\"471\"/><line x1=\"96\" y1=\"292\" x2=\"62\" y2=\"364\"/><line x1=\"1066\" y1=\"921\" x2=\"1033\" y2=\"1000\"/><line x1=\"981\" y1=\"706\" x2=\"944\" y2=\"776\"/><line x1=\"751\" y1=\"758\" x2=\"698\" y2=\"751\"/><line x1=\"664\" y1=\"826\" x2=\"592\" y2=\"792\"/><line x1=\"592\" y1=\"792\" x2=\"559\" y2=\"867\"/><line x1=\"751\" y1=\"758\" x2=\"664\" y2=\"826\"/><line x1=\"559\" y1=\"867\" x2=\"455\" y2=\"904\"/><line x1=\"455\" y1=\"904\" x2=\"415\" y2=\"975\"/><line x1=\"517\" y1=\"754\" x2=\"441\" y2=\"721\"/><line x1=\"517\" y1=\"754\" x2=\"487\" y2=\"830\"/><line x1=\"751\" y1=\"758\" x2=\"517\" y2=\"754\"/><line x1=\"487\" y1=\"830\" x2=\"411\" y2=\"797\"/><line x1=\"411\" y1=\"797\" x2=\"378\" y2=\"869\"/><line x1=\"415\" y1=\"975\" x2=\"343\" y2=\"947\"/><line x1=\"343\" y1=\"947\" x2=\"311\" y2=\"1021\"/><line x1=\"378\" y1=\"869\" x2=\"302\" y2=\"835\"/><line x1=\"302\" y1=\"835\" x2=\"228\" y2=\"803\"/><line x1=\"302\" y1=\"835\" x2=\"268\" y2=\"909\"/><line x1=\"476\" y1=\"340\" x2=\"464\" y2=\"460\"/><line x1=\"403\" y1=\"611\" x2=\"368\" y2=\"684\"/><line x1=\"368\" y1=\"684\" x2=\"338\" y2=\"759\"/><line x1=\"476\" y1=\"340\" x2=\"424\" y2=\"350\"/><line x1=\"359\" y1=\"500\" x2=\"287\" y2=\"466\"/><line x1=\"391\" y1=\"425\" x2=\"359\" y2=\"500\"/><line x1=\"359\" y1=\"500\" x2=\"328\" y2=\"575\"/><line x1=\"476\" y1=\"340\" x2=\"391\" y2=\"425\"/><line x1=\"328\" y1=\"575\" x2=\"296\" y2=\"649\"/><line x1=\"287\" y1=\"466\" x2=\"253\" y2=\"541\"/><line x1=\"296\" y1=\"649\" x2=\"261\" y2=\"726\"/><line x1=\"316\" y1=\"390\" x2=\"241\" y2=\"360\"/><line x1=\"241\" y1=\"360\" x2=\"209\" y2=\"434\"/><line x1=\"476\" y1=\"340\" x2=\"316\" y2=\"390\"/><line x1=\"253\" y1=\"541\" x2=\"221\" y2=\"616\"/><line x1=\"201\" y1=\"250\" x2=\"170\" y2=\"320\"/><line x1=\"276\" y1=\"282\" x2=\"201\" y2=\"250\"/><line x1=\"209\" y1=\"434\" x2=\"176\" y2=\"509\"/><line x1=\"176\" y1=\"509\" x2=\"144\" y2=\"581\"/><line x1=\"170\" y1=\"320\" x2=\"96\" y2=\"292\"/><line x1=\"101\" y1=\"471\" x2=\"68\" y2=\"548\"/><line x1=\"751\" y1=\"758\" x2=\"770\" y2=\"788\"/></g><g stroke=\"darkorange\" stroke-dasharray=\"18 15\" stroke-width=\"4\" id=\"detours\" fill=\"none\"><polyline points=\"751 758 973 679 981 706\"/><polyline points=\"751 758 973 679 1057 741\"/><polyline points=\"476 340 424 350 350 316 276 282\"/><polyline points=\"476 340 532 315 666 206\"/></g><g id=\"DTgrp\"><use href=\"#dt\" x=\"973\" y=\"679\"/><use href=\"#dt\" x=\"350\" y=\"316\"/><use href=\"#dt\" x=\"424\" y=\"350\"/><use href=\"#dt\" x=\"532\" y=\"315\"/><use href=\"#dt\" x=\"973\" y=\"679\"/></g><g id=\"WTGgrp\"><g fill=\"#1f77b4\"><use href=\"#wtg\" x=\"1091\" y=\"849\"/><use href=\"#wtg\" x=\"1023\" y=\"812\"/><use href=\"#wtg\" x=\"1066\" y=\"921\"/><use href=\"#wtg\" x=\"1033\" y=\"1000\"/><use href=\"#wtg\" x=\"1057\" y=\"741\"/></g><g fill=\"#ff7f0e\"><use href=\"#wtg\" x=\"1115\" y=\"594\"/><use href=\"#wtg\" x=\"1048\" y=\"556\"/><use href=\"#wtg\" x=\"1080\" y=\"482\"/><use href=\"#wtg\" x=\"1014\" y=\"631\"/><use href=\"#wtg\" x=\"905\" y=\"675\"/><use href=\"#wtg\" x=\"1090\" y=\"665\"/></g><g fill=\"#aec7e8\"><use href=\"#wtg\" x=\"984\" y=\"888\"/><use href=\"#wtg\" x=\"911\" y=\"856\"/><use href=\"#wtg\" x=\"957\" y=\"962\"/><use href=\"#wtg\" x=\"944\" y=\"776\"/><use href=\"#wtg\" x=\"981\" y=\"706\"/><use href=\"#wtg\" x=\"841\" y=\"824\"/></g><g fill=\"#2ca02c\"><use href=\"#wtg\" x=\"1063\" y=\"302\"/><use href=\"#wtg\" x=\"1038\" y=\"377\"/><use href=\"#wtg\" x=\"1006\" y=\"450\"/><use href=\"#wtg\" x=\"972\" y=\"524\"/><use href=\"#wtg\" x=\"940\" y=\"600\"/><use href=\"#wtg\" x=\"804\" y=\"712\"/><use href=\"#wtg\" x=\"997\" y=\"265\"/></g><g fill=\"#8c564b\"><use href=\"#wtg\" x=\"1029\" y=\"190\"/><use href=\"#wtg\" x=\"955\" y=\"155\"/><use href=\"#wtg\" x=\"881\" y=\"119\"/><use href=\"#wtg\" x=\"921\" y=\"231\"/><use href=\"#wtg\" x=\"846\" y=\"194\"/><use href=\"#wtg\" x=\"771\" y=\"162\"/><use href=\"#wtg\" x=\"737\" y=\"239\"/><use href=\"#wtg\" x=\"666\" y=\"206\"/></g><g fill=\"#ffbb78\"><use href=\"#wtg\" x=\"962\" y=\"338\"/><use href=\"#wtg\" x=\"930\" y=\"412\"/><use href=\"#wtg\" x=\"899\" y=\"485\"/><use href=\"#wtg\" x=\"869\" y=\"562\"/><use href=\"#wtg\" x=\"836\" y=\"638\"/></g><g fill=\"#d62728\"><use href=\"#wtg\" x=\"885\" y=\"305\"/><use href=\"#wtg\" x=\"852\" y=\"380\"/><use href=\"#wtg\" x=\"823\" y=\"456\"/><use href=\"#wtg\" x=\"793\" y=\"530\"/><use href=\"#wtg\" x=\"760\" y=\"605\"/><use href=\"#wtg\" x=\"727\" y=\"680\"/></g><g fill=\"#e377c2\"><use href=\"#wtg\" x=\"809\" y=\"270\"/><use href=\"#wtg\" x=\"779\" y=\"340\"/><use href=\"#wtg\" x=\"751\" y=\"414\"/><use href=\"#wtg\" x=\"677\" y=\"380\"/><use href=\"#wtg\" x=\"605\" y=\"348\"/><use href=\"#wtg\" x=\"646\" y=\"456\"/><use href=\"#wtg\" x=\"574\" y=\"423\"/><use href=\"#wtg\" x=\"498\" y=\"388\"/></g><g fill=\"#ff9896\"><use href=\"#wtg\" x=\"721\" y=\"490\"/><use href=\"#wtg\" x=\"688\" y=\"564\"/><use href=\"#wtg\" x=\"655\" y=\"638\"/><use href=\"#wtg\" x=\"625\" y=\"715\"/><use href=\"#wtg\" x=\"579\" y=\"604\"/><use href=\"#wtg\" x=\"552\" y=\"680\"/><use href=\"#wtg\" x=\"698\" y=\"751\"/><use href=\"#wtg\" x=\"477\" y=\"647\"/></g><g fill=\"#c49c94\"><use href=\"#wtg\" x=\"806\" y=\"84\"/><use href=\"#wtg\" x=\"731\" y=\"49\"/><use href=\"#wtg\" x=\"698\" y=\"122\"/><use href=\"#wtg\" x=\"623\" y=\"88\"/><use href=\"#wtg\" x=\"593\" y=\"163\"/><use href=\"#wtg\" x=\"564\" y=\"241\"/><use href=\"#wtg\" x=\"532\" y=\"315\"/></g><g fill=\"#f7b6d2\"><use href=\"#wtg\" x=\"614\" y=\"530\"/><use href=\"#wtg\" x=\"539\" y=\"499\"/><use href=\"#wtg\" x=\"504\" y=\"572\"/><use href=\"#wtg\" x=\"433\" y=\"536\"/><use href=\"#wtg\" x=\"464\" y=\"460\"/><use href=\"#wtg\" x=\"403\" y=\"611\"/><use href=\"#wtg\" x=\"368\" y=\"684\"/><use href=\"#wtg\" x=\"338\" y=\"759\"/></g><g fill=\"#7f7f7f\"><use href=\"#wtg\" x=\"517\" y=\"127\"/><use href=\"#wtg\" x=\"488\" y=\"202\"/><use href=\"#wtg\" x=\"458\" y=\"278\"/></g><g fill=\"#c7c7c7\"><use href=\"#wtg\" x=\"412\" y=\"167\"/><use href=\"#wtg\" x=\"382\" y=\"241\"/><use href=\"#wtg\" x=\"350\" y=\"316\"/><use href=\"#wtg\" x=\"424\" y=\"350\"/><use href=\"#wtg\" x=\"306\" y=\"209\"/></g><g fill=\"#dbdb8d\"><use href=\"#wtg\" x=\"184\" y=\"690\"/><use href=\"#wtg\" x=\"111\" y=\"656\"/><use href=\"#wtg\" x=\"241\" y=\"360\"/><use href=\"#wtg\" x=\"316\" y=\"390\"/><use href=\"#wtg\" x=\"154\" y=\"766\"/><use href=\"#wtg\" x=\"209\" y=\"434\"/><use href=\"#wtg\" x=\"176\" y=\"509\"/><use href=\"#wtg\" x=\"144\" y=\"581\"/></g><g fill=\"#17becf\"><use href=\"#wtg\" x=\"133\" y=\"399\"/><use href=\"#wtg\" x=\"62\" y=\"364\"/><use href=\"#wtg\" x=\"201\" y=\"250\"/><use href=\"#wtg\" x=\"276\" y=\"282\"/><use href=\"#wtg\" x=\"170\" y=\"320\"/><use href=\"#wtg\" x=\"96\" y=\"292\"/><use href=\"#wtg\" x=\"101\" y=\"471\"/><use href=\"#wtg\" x=\"68\" y=\"548\"/></g><g fill=\"#9467bd\"><use href=\"#wtg\" x=\"592\" y=\"792\"/><use href=\"#wtg\" x=\"664\" y=\"826\"/><use href=\"#wtg\" x=\"559\" y=\"867\"/><use href=\"#wtg\" x=\"455\" y=\"904\"/><use href=\"#wtg\" x=\"415\" y=\"975\"/><use href=\"#wtg\" x=\"343\" y=\"947\"/><use href=\"#wtg\" x=\"311\" y=\"1021\"/></g><g fill=\"#c5b0d5\"><use href=\"#wtg\" x=\"441\" y=\"721\"/><use href=\"#wtg\" x=\"517\" y=\"754\"/><use href=\"#wtg\" x=\"487\" y=\"830\"/><use href=\"#wtg\" x=\"411\" y=\"797\"/><use href=\"#wtg\" x=\"378\" y=\"869\"/><use href=\"#wtg\" x=\"302\" y=\"835\"/><use href=\"#wtg\" x=\"228\" y=\"803\"/><use href=\"#wtg\" x=\"268\" y=\"909\"/></g><g fill=\"#bcbd22\"><use href=\"#wtg\" x=\"359\" y=\"500\"/><use href=\"#wtg\" x=\"391\" y=\"425\"/><use href=\"#wtg\" x=\"328\" y=\"575\"/><use href=\"#wtg\" x=\"287\" y=\"466\"/><use href=\"#wtg\" x=\"296\" y=\"649\"/><use href=\"#wtg\" x=\"261\" y=\"726\"/><use href=\"#wtg\" x=\"253\" y=\"541\"/><use href=\"#wtg\" x=\"221\" y=\"616\"/></g><g fill=\"#98df8a\"><use href=\"#wtg\" x=\"770\" y=\"788\"/></g></g><g id=\"OSSgrp\"><use href=\"#oss\" x=\"740.5\" y=\"747.5\"/><use href=\"#oss\" x=\"465.5\" y=\"329.5\"/></g></g><text filter=\"url(#bg_textbox)\" text-anchor=\"end\" font-family=\"sans-serif\" font-size=\"40\" fill=\"white\" x=\"1127\" y=\"1050\"><tspan x=\"1127\" dy=\"-0.0em\">216613758 &#8364;</tspan><tspan x=\"1127\" dy=\"-1.3em\">&#931;&#955; = 113112.0 m</tspan><tspan x=\"1127\" dy=\"-1.3em\">(+3) [-1]: 9, [-2]: 10</tspan><tspan x=\"1127\" dy=\"-1.3em\">&#954; = 8, T = 122</tspan></text></svg>"
      ],
      "text/plain": [
       "<optiwindnet.api.WindFarmNetwork at 0x2682f7007d0>"
      ]
     },
     "execution_count": 15,
     "metadata": {},
     "output_type": "execute_result"
    }
   ],
   "source": [
    "wfn"
   ]
  }
 ],
 "metadata": {
  "kernelspec": {
   "display_name": "OptiWindNet",
   "language": "python",
   "name": "python3"
  },
  "language_info": {
   "codemirror_mode": {
    "name": "ipython",
    "version": 3
   },
   "file_extension": ".py",
   "mimetype": "text/x-python",
   "name": "python",
   "nbconvert_exporter": "python",
   "pygments_lexer": "ipython3",
   "version": "3.12.9"
  }
 },
 "nbformat": 4,
 "nbformat_minor": 5
}
