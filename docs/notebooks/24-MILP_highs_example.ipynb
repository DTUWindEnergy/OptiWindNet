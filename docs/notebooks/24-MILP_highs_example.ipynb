{
 "cells": [
  {
   "cell_type": "markdown",
   "id": "5848a926-0ca5-4ce4-ada8-2cc9a7d784b1",
   "metadata": {},
   "source": [
    "## HiGHS example"
   ]
  },
  {
   "cell_type": "code",
   "execution_count": 1,
   "id": "a261ff8d-2072-411a-8e0f-1a3cf121d74f",
   "metadata": {},
   "outputs": [],
   "source": [
    "from optiwindnet.importer import load_repository\n",
    "from optiwindnet.svg import svgplot\n",
    "from optiwindnet.mesh import make_planar_embedding\n",
    "from optiwindnet.interarraylib import G_from_S\n",
    "from optiwindnet.heuristics import EW_presolver\n",
    "from optiwindnet.MILP import solver_factory, ModelOptions"
   ]
  },
  {
   "cell_type": "markdown",
   "id": "2cb613dc-7548-48b2-8083-6f1d8024eadb",
   "metadata": {},
   "source": [
    "### Initialize Triton"
   ]
  },
  {
   "cell_type": "code",
   "execution_count": 2,
   "id": "d1a64ce6-29ab-475b-8418-af899d232369",
   "metadata": {},
   "outputs": [],
   "source": [
    "locations = load_repository()"
   ]
  },
  {
   "cell_type": "code",
   "execution_count": 3,
   "id": "4dfc0c8c-9a68-49bc-9758-b81fa31b19b2",
   "metadata": {},
   "outputs": [],
   "source": [
    "L = locations.triton\n",
    "capacity = 8"
   ]
  },
  {
   "cell_type": "code",
   "execution_count": 4,
   "id": "e8043bfe-ba94-41a5-8030-45c3bde4a60a",
   "metadata": {},
   "outputs": [
    {
     "data": {
      "image/svg+xml": [
       "<svg xmlns=\"http://www.w3.org/2000/svg\" viewBox=\"0 0 1920 926\"><defs><circle stroke=\"none\" stroke-width=\"2\" id=\"wtg\" r=\"12\"/><rect stroke=\"#111\" stroke-width=\"2\" id=\"oss\" width=\"21\" height=\"21\" fill=\"lawngreen\"/></defs><g id=\"triton\"><path stroke=\"silver\" stroke-dasharray=\"15 7\" stroke-width=\"2\" id=\"border\" d=\"M681 30 1890 728 1578 896 1270 890 90 884 30 485z\" fill-rule=\"evenodd\" fill=\"#111\"/><g id=\"WTGgrp\"><g fill=\"#9edae5\"><use href=\"#wtg\" x=\"121\" y=\"872\"/><use href=\"#wtg\" x=\"186\" y=\"872\"/><use href=\"#wtg\" x=\"251\" y=\"872\"/><use href=\"#wtg\" x=\"316\" y=\"872\"/><use href=\"#wtg\" x=\"381\" y=\"873\"/><use href=\"#wtg\" x=\"446\" y=\"873\"/><use href=\"#wtg\" x=\"511\" y=\"873\"/><use href=\"#wtg\" x=\"576\" y=\"873\"/><use href=\"#wtg\" x=\"641\" y=\"873\"/><use href=\"#wtg\" x=\"706\" y=\"873\"/><use href=\"#wtg\" x=\"771\" y=\"873\"/><use href=\"#wtg\" x=\"836\" y=\"874\"/><use href=\"#wtg\" x=\"966\" y=\"874\"/><use href=\"#wtg\" x=\"1031\" y=\"874\"/><use href=\"#wtg\" x=\"1096\" y=\"874\"/><use href=\"#wtg\" x=\"1161\" y=\"874\"/><use href=\"#wtg\" x=\"1226\" y=\"874\"/><use href=\"#wtg\" x=\"1356\" y=\"875\"/><use href=\"#wtg\" x=\"1421\" y=\"875\"/><use href=\"#wtg\" x=\"1486\" y=\"875\"/><use href=\"#wtg\" x=\"1551\" y=\"875\"/><use href=\"#wtg\" x=\"1675\" y=\"833\"/><use href=\"#wtg\" x=\"1735\" y=\"792\"/><use href=\"#wtg\" x=\"105\" y=\"746\"/><use href=\"#wtg\" x=\"300\" y=\"747\"/><use href=\"#wtg\" x=\"560\" y=\"747\"/><use href=\"#wtg\" x=\"820\" y=\"748\"/><use href=\"#wtg\" x=\"1080\" y=\"748\"/><use href=\"#wtg\" x=\"1340\" y=\"749\"/><use href=\"#wtg\" x=\"1599\" y=\"749\"/><use href=\"#wtg\" x=\"230\" y=\"704\"/><use href=\"#wtg\" x=\"490\" y=\"705\"/><use href=\"#wtg\" x=\"749\" y=\"705\"/><use href=\"#wtg\" x=\"1269\" y=\"707\"/><use href=\"#wtg\" x=\"1529\" y=\"707\"/><use href=\"#wtg\" x=\"1789\" y=\"708\"/><use href=\"#wtg\" x=\"159\" y=\"662\"/><use href=\"#wtg\" x=\"419\" y=\"663\"/><use href=\"#wtg\" x=\"679\" y=\"663\"/><use href=\"#wtg\" x=\"1459\" y=\"665\"/><use href=\"#wtg\" x=\"1719\" y=\"666\"/><use href=\"#wtg\" x=\"89\" y=\"620\"/><use href=\"#wtg\" x=\"349\" y=\"621\"/><use href=\"#wtg\" x=\"869\" y=\"622\"/><use href=\"#wtg\" x=\"1128\" y=\"622\"/><use href=\"#wtg\" x=\"1388\" y=\"623\"/><use href=\"#wtg\" x=\"1648\" y=\"623\"/><use href=\"#wtg\" x=\"279\" y=\"578\"/><use href=\"#wtg\" x=\"539\" y=\"579\"/><use href=\"#wtg\" x=\"1058\" y=\"580\"/><use href=\"#wtg\" x=\"1318\" y=\"581\"/><use href=\"#wtg\" x=\"1578\" y=\"581\"/><use href=\"#wtg\" x=\"208\" y=\"536\"/><use href=\"#wtg\" x=\"728\" y=\"537\"/><use href=\"#wtg\" x=\"1248\" y=\"539\"/><use href=\"#wtg\" x=\"1507\" y=\"539\"/><use href=\"#wtg\" x=\"73\" y=\"494\"/><use href=\"#wtg\" x=\"917\" y=\"496\"/><use href=\"#wtg\" x=\"1177\" y=\"496\"/><use href=\"#wtg\" x=\"1437\" y=\"497\"/><use href=\"#wtg\" x=\"133\" y=\"452\"/><use href=\"#wtg\" x=\"328\" y=\"453\"/><use href=\"#wtg\" x=\"586\" y=\"454\"/><use href=\"#wtg\" x=\"1107\" y=\"454\"/><use href=\"#wtg\" x=\"1367\" y=\"455\"/><use href=\"#wtg\" x=\"193\" y=\"410\"/><use href=\"#wtg\" x=\"777\" y=\"412\"/><use href=\"#wtg\" x=\"1296\" y=\"413\"/><use href=\"#wtg\" x=\"252\" y=\"368\"/><use href=\"#wtg\" x=\"447\" y=\"369\"/><use href=\"#wtg\" x=\"966\" y=\"370\"/><use href=\"#wtg\" x=\"1226\" y=\"371\"/><use href=\"#wtg\" x=\"312\" y=\"326\"/><use href=\"#wtg\" x=\"636\" y=\"327\"/><use href=\"#wtg\" x=\"896\" y=\"328\"/><use href=\"#wtg\" x=\"1156\" y=\"328\"/><use href=\"#wtg\" x=\"371\" y=\"285\"/><use href=\"#wtg\" x=\"566\" y=\"285\"/><use href=\"#wtg\" x=\"826\" y=\"286\"/><use href=\"#wtg\" x=\"431\" y=\"243\"/><use href=\"#wtg\" x=\"1015\" y=\"244\"/><use href=\"#wtg\" x=\"491\" y=\"201\"/><use href=\"#wtg\" x=\"685\" y=\"201\"/><use href=\"#wtg\" x=\"945\" y=\"202\"/><use href=\"#wtg\" x=\"550\" y=\"159\"/><use href=\"#wtg\" x=\"875\" y=\"160\"/><use href=\"#wtg\" x=\"610\" y=\"117\"/><use href=\"#wtg\" x=\"804\" y=\"118\"/><use href=\"#wtg\" x=\"669\" y=\"75\"/><use href=\"#wtg\" x=\"734\" y=\"75\"/></g></g><g id=\"OSSgrp\"><use href=\"#oss\" x=\"1188.5\" y=\"653.5\"/><use href=\"#oss\" x=\"598.5\" y=\"610.5\"/></g></g></svg>"
      ],
      "text/plain": [
       "<optiwindnet.svg.SvgRepr at 0x1ca1a704dd0>"
      ]
     },
     "execution_count": 4,
     "metadata": {},
     "output_type": "execute_result"
    }
   ],
   "source": [
    "svgplot(L)"
   ]
  },
  {
   "cell_type": "markdown",
   "id": "047ae1e4-eb0c-40ad-8b2d-690ccc9602d1",
   "metadata": {},
   "source": [
    "### Optimize Triton"
   ]
  },
  {
   "cell_type": "code",
   "execution_count": 5,
   "id": "a31972ff-ea2c-4328-a7ad-fdb07685a3e7",
   "metadata": {},
   "outputs": [],
   "source": [
    "P, A = make_planar_embedding(L)"
   ]
  },
  {
   "cell_type": "markdown",
   "id": "31a73ca3-01eb-46bc-9909-de5211f4ec4e",
   "metadata": {},
   "source": [
    "Initial heuristic solution to warm-start the solver:"
   ]
  },
  {
   "cell_type": "code",
   "execution_count": 6,
   "id": "d43133d0-dbd1-4146-840d-dc2570b82483",
   "metadata": {},
   "outputs": [
    {
     "data": {
      "image/svg+xml": [
       "<svg xmlns=\"http://www.w3.org/2000/svg\" viewBox=\"0 0 1920 926\"><defs><circle stroke=\"none\" stroke-width=\"2\" id=\"wtg\" r=\"12\"/><rect stroke=\"#111\" stroke-width=\"2\" id=\"oss\" width=\"21\" height=\"21\" fill=\"lawngreen\"/><filter x=\"-5%\" y=\"-5%\" id=\"bg_textbox\" width=\"110%\" height=\"110%\"><feFlood flood-opacity=\"0.6\" flood-color=\"black\" result=\"bg\"/><feMerge><feMergeNode in=\"bg\"/><feMergeNode in=\"SourceGraphic\"/></feMerge></filter></defs><g id=\"triton\"><path stroke=\"silver\" stroke-dasharray=\"15 7\" stroke-width=\"2\" id=\"border\" d=\"M681 30 1890 728 1578 896 1270 890 90 884 30 485z\" fill-rule=\"evenodd\" fill=\"#111\"/><g stroke=\"crimson\" stroke-width=\"4\" id=\"edges_unspecified\"><line x1=\"560\" y1=\"747\" x2=\"490\" y2=\"705\"/><line x1=\"820\" y1=\"748\" x2=\"749\" y2=\"705\"/><line x1=\"1507\" y1=\"539\" x2=\"1437\" y2=\"497\"/><line x1=\"1367\" y1=\"455\" x2=\"1296\" y2=\"413\"/><line x1=\"1340\" y1=\"749\" x2=\"1269\" y2=\"707\"/><line x1=\"1199\" y1=\"664\" x2=\"1269\" y2=\"707\"/><line x1=\"1459\" y1=\"665\" x2=\"1388\" y2=\"623\"/><line x1=\"1388\" y1=\"623\" x2=\"1318\" y2=\"581\"/><line x1=\"300\" y1=\"747\" x2=\"349\" y2=\"621\"/><line x1=\"300\" y1=\"747\" x2=\"230\" y2=\"704\"/><line x1=\"349\" y1=\"621\" x2=\"279\" y2=\"578\"/><line x1=\"490\" y1=\"705\" x2=\"539\" y2=\"579\"/><line x1=\"609\" y1=\"621\" x2=\"539\" y2=\"579\"/><line x1=\"539\" y1=\"579\" x2=\"586\" y2=\"454\"/><line x1=\"1128\" y1=\"622\" x2=\"1058\" y2=\"580\"/><line x1=\"1199\" y1=\"664\" x2=\"1128\" y2=\"622\"/><line x1=\"1080\" y1=\"748\" x2=\"1128\" y2=\"622\"/><line x1=\"1248\" y1=\"539\" x2=\"1177\" y2=\"496\"/><line x1=\"1248\" y1=\"539\" x2=\"1296\" y2=\"413\"/><line x1=\"1199\" y1=\"664\" x2=\"1248\" y2=\"539\"/><line x1=\"875\" y1=\"160\" x2=\"804\" y2=\"118\"/><line x1=\"669\" y1=\"75\" x2=\"734\" y2=\"75\"/><line x1=\"1486\" y1=\"875\" x2=\"1551\" y2=\"875\"/><line x1=\"1599\" y1=\"749\" x2=\"1529\" y2=\"707\"/><line x1=\"641\" y1=\"873\" x2=\"706\" y2=\"873\"/><line x1=\"706\" y1=\"873\" x2=\"771\" y2=\"873\"/><line x1=\"1735\" y1=\"792\" x2=\"1789\" y2=\"708\"/><line x1=\"1675\" y1=\"833\" x2=\"1735\" y2=\"792\"/><line x1=\"1789\" y1=\"708\" x2=\"1719\" y2=\"666\"/><line x1=\"1529\" y1=\"707\" x2=\"1459\" y2=\"665\"/><line x1=\"1648\" y1=\"623\" x2=\"1578\" y2=\"581\"/><line x1=\"1578\" y1=\"581\" x2=\"1507\" y2=\"539\"/><line x1=\"679\" y1=\"663\" x2=\"728\" y2=\"537\"/><line x1=\"609\" y1=\"621\" x2=\"679\" y2=\"663\"/><line x1=\"869\" y1=\"622\" x2=\"917\" y2=\"496\"/><line x1=\"777\" y1=\"412\" x2=\"826\" y2=\"286\"/><line x1=\"609\" y1=\"621\" x2=\"777\" y2=\"412\"/><line x1=\"945\" y1=\"202\" x2=\"875\" y2=\"160\"/><line x1=\"1015\" y1=\"244\" x2=\"945\" y2=\"202\"/><line x1=\"826\" y1=\"286\" x2=\"875\" y2=\"160\"/><line x1=\"312\" y1=\"326\" x2=\"371\" y2=\"285\"/><line x1=\"447\" y1=\"369\" x2=\"371\" y2=\"285\"/><line x1=\"431\" y1=\"243\" x2=\"491\" y2=\"201\"/><line x1=\"121\" y1=\"872\" x2=\"186\" y2=\"872\"/><line x1=\"105\" y1=\"746\" x2=\"159\" y2=\"662\"/><line x1=\"490\" y1=\"705\" x2=\"419\" y2=\"663\"/><line x1=\"896\" y1=\"328\" x2=\"826\" y2=\"286\"/><line x1=\"586\" y1=\"454\" x2=\"636\" y2=\"327\"/><line x1=\"491\" y1=\"201\" x2=\"550\" y2=\"159\"/><line x1=\"566\" y1=\"285\" x2=\"491\" y2=\"201\"/><line x1=\"1096\" y1=\"874\" x2=\"1080\" y2=\"748\"/><line x1=\"820\" y1=\"748\" x2=\"869\" y2=\"622\"/><line x1=\"1356\" y1=\"875\" x2=\"1421\" y2=\"875\"/><line x1=\"1421\" y1=\"875\" x2=\"1486\" y2=\"875\"/><line x1=\"1199\" y1=\"664\" x2=\"1318\" y2=\"581\"/><line x1=\"836\" y1=\"874\" x2=\"820\" y2=\"748\"/><line x1=\"685\" y1=\"201\" x2=\"610\" y2=\"117\"/><line x1=\"610\" y1=\"117\" x2=\"669\" y2=\"75\"/><line x1=\"550\" y1=\"159\" x2=\"610\" y2=\"117\"/><line x1=\"1356\" y1=\"875\" x2=\"1340\" y2=\"749\"/><line x1=\"966\" y1=\"370\" x2=\"896\" y2=\"328\"/><line x1=\"1226\" y1=\"371\" x2=\"1156\" y2=\"328\"/><line x1=\"1031\" y1=\"874\" x2=\"1096\" y2=\"874\"/><line x1=\"1096\" y1=\"874\" x2=\"1161\" y2=\"874\"/><line x1=\"1161\" y1=\"874\" x2=\"1226\" y2=\"874\"/><line x1=\"966\" y1=\"874\" x2=\"1031\" y2=\"874\"/><line x1=\"251\" y1=\"872\" x2=\"316\" y2=\"872\"/><line x1=\"316\" y1=\"872\" x2=\"381\" y2=\"873\"/><line x1=\"771\" y1=\"873\" x2=\"836\" y2=\"874\"/><line x1=\"159\" y1=\"662\" x2=\"89\" y2=\"620\"/><line x1=\"230\" y1=\"704\" x2=\"159\" y2=\"662\"/><line x1=\"73\" y1=\"494\" x2=\"133\" y2=\"452\"/><line x1=\"133\" y1=\"452\" x2=\"193\" y2=\"410\"/><line x1=\"328\" y1=\"453\" x2=\"252\" y2=\"368\"/><line x1=\"1177\" y1=\"496\" x2=\"1107\" y2=\"454\"/><line x1=\"252\" y1=\"368\" x2=\"312\" y2=\"326\"/><line x1=\"193\" y1=\"410\" x2=\"252\" y2=\"368\"/><line x1=\"1719\" y1=\"666\" x2=\"1648\" y2=\"623\"/><line x1=\"186\" y1=\"872\" x2=\"251\" y2=\"872\"/><line x1=\"1296\" y1=\"413\" x2=\"1226\" y2=\"371\"/><line x1=\"279\" y1=\"578\" x2=\"208\" y2=\"536\"/><line x1=\"446\" y1=\"873\" x2=\"511\" y2=\"873\"/><line x1=\"511\" y1=\"873\" x2=\"576\" y2=\"873\"/><line x1=\"381\" y1=\"873\" x2=\"446\" y2=\"873\"/></g><g stroke=\"red\" stroke-dasharray=\"18 15\" stroke-width=\"4\" id=\"edges_tentative\"><line x1=\"609\" y1=\"621\" x2=\"749\" y2=\"705\"/><line x1=\"1199\" y1=\"664\" x2=\"1437\" y2=\"497\"/><line x1=\"609\" y1=\"621\" x2=\"349\" y2=\"621\"/><line x1=\"609\" y1=\"621\" x2=\"447\" y2=\"369\"/><line x1=\"609\" y1=\"621\" x2=\"576\" y2=\"873\"/><line x1=\"609\" y1=\"621\" x2=\"566\" y2=\"285\"/></g><g id=\"WTGgrp\"><g fill=\"#ff9896\"><use href=\"#wtg\" x=\"560\" y=\"747\"/><use href=\"#wtg\" x=\"539\" y=\"579\"/><use href=\"#wtg\" x=\"419\" y=\"663\"/><use href=\"#wtg\" x=\"586\" y=\"454\"/><use href=\"#wtg\" x=\"636\" y=\"327\"/><use href=\"#wtg\" x=\"490\" y=\"705\"/></g><g fill=\"#98df8a\"><use href=\"#wtg\" x=\"749\" y=\"705\"/><use href=\"#wtg\" x=\"641\" y=\"873\"/><use href=\"#wtg\" x=\"706\" y=\"873\"/><use href=\"#wtg\" x=\"917\" y=\"496\"/><use href=\"#wtg\" x=\"869\" y=\"622\"/><use href=\"#wtg\" x=\"820\" y=\"748\"/><use href=\"#wtg\" x=\"771\" y=\"873\"/><use href=\"#wtg\" x=\"836\" y=\"874\"/></g><g fill=\"#1f77b4\"><use href=\"#wtg\" x=\"1437\" y=\"497\"/><use href=\"#wtg\" x=\"1735\" y=\"792\"/><use href=\"#wtg\" x=\"1789\" y=\"708\"/><use href=\"#wtg\" x=\"1578\" y=\"581\"/><use href=\"#wtg\" x=\"1507\" y=\"539\"/><use href=\"#wtg\" x=\"1648\" y=\"623\"/><use href=\"#wtg\" x=\"1719\" y=\"666\"/><use href=\"#wtg\" x=\"1675\" y=\"833\"/></g><g fill=\"#ffbb78\"><use href=\"#wtg\" x=\"1367\" y=\"455\"/><use href=\"#wtg\" x=\"1248\" y=\"539\"/><use href=\"#wtg\" x=\"1156\" y=\"328\"/><use href=\"#wtg\" x=\"1107\" y=\"454\"/><use href=\"#wtg\" x=\"1177\" y=\"496\"/><use href=\"#wtg\" x=\"1296\" y=\"413\"/><use href=\"#wtg\" x=\"1226\" y=\"371\"/></g><g fill=\"#aec7e8\"><use href=\"#wtg\" x=\"1269\" y=\"707\"/><use href=\"#wtg\" x=\"1551\" y=\"875\"/><use href=\"#wtg\" x=\"1421\" y=\"875\"/><use href=\"#wtg\" x=\"1486\" y=\"875\"/><use href=\"#wtg\" x=\"1340\" y=\"749\"/><use href=\"#wtg\" x=\"1356\" y=\"875\"/></g><g fill=\"#2ca02c\"><use href=\"#wtg\" x=\"1388\" y=\"623\"/><use href=\"#wtg\" x=\"1599\" y=\"749\"/><use href=\"#wtg\" x=\"1459\" y=\"665\"/><use href=\"#wtg\" x=\"1318\" y=\"581\"/><use href=\"#wtg\" x=\"1529\" y=\"707\"/></g><g fill=\"#d62728\"><use href=\"#wtg\" x=\"300\" y=\"747\"/><use href=\"#wtg\" x=\"349\" y=\"621\"/><use href=\"#wtg\" x=\"105\" y=\"746\"/><use href=\"#wtg\" x=\"159\" y=\"662\"/><use href=\"#wtg\" x=\"89\" y=\"620\"/><use href=\"#wtg\" x=\"230\" y=\"704\"/><use href=\"#wtg\" x=\"279\" y=\"578\"/><use href=\"#wtg\" x=\"208\" y=\"536\"/></g><g fill=\"#ff7f0e\"><use href=\"#wtg\" x=\"1128\" y=\"622\"/><use href=\"#wtg\" x=\"1080\" y=\"748\"/><use href=\"#wtg\" x=\"1096\" y=\"874\"/><use href=\"#wtg\" x=\"1161\" y=\"874\"/><use href=\"#wtg\" x=\"966\" y=\"874\"/><use href=\"#wtg\" x=\"1226\" y=\"874\"/><use href=\"#wtg\" x=\"1058\" y=\"580\"/><use href=\"#wtg\" x=\"1031\" y=\"874\"/></g><g fill=\"#c5b0d5\"><use href=\"#wtg\" x=\"804\" y=\"118\"/><use href=\"#wtg\" x=\"777\" y=\"412\"/><use href=\"#wtg\" x=\"945\" y=\"202\"/><use href=\"#wtg\" x=\"875\" y=\"160\"/><use href=\"#wtg\" x=\"826\" y=\"286\"/><use href=\"#wtg\" x=\"966\" y=\"370\"/><use href=\"#wtg\" x=\"1015\" y=\"244\"/><use href=\"#wtg\" x=\"896\" y=\"328\"/></g><g fill=\"#c49c94\"><use href=\"#wtg\" x=\"734\" y=\"75\"/><use href=\"#wtg\" x=\"431\" y=\"243\"/><use href=\"#wtg\" x=\"491\" y=\"201\"/><use href=\"#wtg\" x=\"685\" y=\"201\"/><use href=\"#wtg\" x=\"610\" y=\"117\"/><use href=\"#wtg\" x=\"669\" y=\"75\"/><use href=\"#wtg\" x=\"550\" y=\"159\"/><use href=\"#wtg\" x=\"566\" y=\"285\"/></g><g fill=\"#9467bd\"><use href=\"#wtg\" x=\"679\" y=\"663\"/><use href=\"#wtg\" x=\"728\" y=\"537\"/></g><g fill=\"#8c564b\"><use href=\"#wtg\" x=\"371\" y=\"285\"/><use href=\"#wtg\" x=\"73\" y=\"494\"/><use href=\"#wtg\" x=\"133\" y=\"452\"/><use href=\"#wtg\" x=\"328\" y=\"453\"/><use href=\"#wtg\" x=\"447\" y=\"369\"/><use href=\"#wtg\" x=\"252\" y=\"368\"/><use href=\"#wtg\" x=\"312\" y=\"326\"/><use href=\"#wtg\" x=\"193\" y=\"410\"/></g><g fill=\"#e377c2\"><use href=\"#wtg\" x=\"121\" y=\"872\"/><use href=\"#wtg\" x=\"316\" y=\"872\"/><use href=\"#wtg\" x=\"186\" y=\"872\"/><use href=\"#wtg\" x=\"511\" y=\"873\"/><use href=\"#wtg\" x=\"381\" y=\"873\"/><use href=\"#wtg\" x=\"251\" y=\"872\"/><use href=\"#wtg\" x=\"446\" y=\"873\"/><use href=\"#wtg\" x=\"576\" y=\"873\"/></g></g><g id=\"OSSgrp\"><use href=\"#oss\" x=\"1188.5\" y=\"653.5\"/><use href=\"#oss\" x=\"598.5\" y=\"610.5\"/></g></g><text filter=\"url(#bg_textbox)\" text-anchor=\"end\" font-family=\"sans-serif\" font-size=\"40\" fill=\"white\" x=\"1890\" y=\"896\"><tspan x=\"1890\" dy=\"-0.0em\">&#931;&#955; = 113076.0 m</tspan><tspan x=\"1890\" dy=\"-1.3em\">(+1) &#945;: 8, &#946;: 5</tspan><tspan x=\"1890\" dy=\"-1.3em\">&#954; = 8, T = 90</tspan></text></svg>"
      ],
      "text/plain": [
       "<optiwindnet.svg.SvgRepr at 0x1ca1b011df0>"
      ]
     },
     "execution_count": 6,
     "metadata": {},
     "output_type": "execute_result"
    }
   ],
   "source": [
    "Sʹ = EW_presolver(A, capacity=capacity)\n",
    "Gʹ = G_from_S(Sʹ, A)\n",
    "svgplot(Gʹ)"
   ]
  },
  {
   "cell_type": "code",
   "execution_count": 7,
   "id": "2b6165d5-f5a4-4267-95a1-e46fddad960e",
   "metadata": {},
   "outputs": [],
   "source": [
    "solver = solver_factory('highs')"
   ]
  },
  {
   "cell_type": "code",
   "execution_count": 8,
   "id": "dbd760d9-b6b3-4969-8e2b-b839dfb4ac3e",
   "metadata": {},
   "outputs": [],
   "source": [
    "solver.set_problem(\n",
    "    P, A,\n",
    "    capacity=Sʹ.graph['capacity'],\n",
    "    model_options=ModelOptions(\n",
    "        topology=\"branched\",\n",
    "        feeder_route=\"segmented\",\n",
    "        feeder_limit=\"unlimited\",\n",
    "    ),\n",
    "    warmstart=Sʹ,\n",
    ")"
   ]
  },
  {
   "cell_type": "code",
   "execution_count": 9,
   "id": "53cb6a4e-57be-40a4-a0eb-7d95bc3c181b",
   "metadata": {
    "scrolled": true
   },
   "outputs": [
    {
     "name": "stdout",
     "output_type": "stream",
     "text": [
      "Running HiGHS 1.11.0 (git hash: n/a): Copyright (c) 2025 HiGHS under MIT licence terms\n",
      "RUN!\n",
      "MIP  has 2618 rows; 1764 cols; 9660 nonzeros; 1764 integer variables (882 binary)\n",
      "Coefficient ranges:\n",
      "  Matrix [1e+00, 8e+00]\n",
      "  Cost   [8e+02, 1e+04]\n",
      "  Bound  [1e+00, 8e+00]\n",
      "  RHS    [1e+00, 9e+01]\n",
      "Assessing feasibility of MIP using primal feasibility and integrality tolerance of       1e-06\n",
      "Solution has               num          max          sum\n",
      "Col     infeasibilities      0            0            0\n",
      "Integer infeasibilities      0            0            0\n",
      "Row     infeasibilities      0            0            0\n",
      "Row     residuals            0            0            0\n",
      "Presolving model\n",
      "2618 rows, 1764 cols, 9660 nonzeros  0s\n",
      "2320 rows, 1722 cols, 8634 nonzeros  0s\n",
      "\n",
      "MIP start solution is feasible, objective value is 113076.197044\n",
      "\n",
      "Solving MIP model with:\n",
      "   2320 rows\n",
      "   1722 cols (842 binary, 880 integer, 0 implied int., 0 continuous, 0 domain fixed)\n",
      "   8634 nonzeros\n",
      "\n",
      "Src: B => Branching; C => Central rounding; F => Feasibility pump; J => Feasibility jump;\n",
      "     H => Heuristic; L => Sub-MIP; P => Empty MIP; R => Randomized rounding; Z => ZI Round;\n",
      "     I => Shifting; S => Solve LP; T => Evaluate node; U => Unbounded; X => User solution;\n",
      "     z => Trivial zero; l => Trivial lower; u => Trivial upper; p => Trivial point\n",
      "\n",
      "        Nodes      |    B&B Tree     |            Objective Bounds              |  Dynamic Constraints |       Work      \n",
      "Src  Proc. InQueue |  Leaves   Expl. | BestBound       BestSol              Gap |   Cuts   InLp Confl. | LpIters     Time\n",
      "\n",
      "         0       0         0   0.00%   -21710.457804   113076.197044    119.20%        0      0      0         0     0.1s\n",
      "         0       0         0   0.00%   103058.96252    113076.197044      8.86%        0      0      3      1337     0.2s\n",
      " L       0       0         0   0.00%   104464.184489   108377.625532      3.61%     1159     68    110      3028     2.5s\n",
      "\n",
      "7.5% inactive integer columns, restarting\n",
      "Model after restart has 2189 rows, 1591 cols (775 bin., 816 int., 0 impl., 0 cont., 0 dom.fix.), and 8087 nonzeros\n",
      "\n",
      "         0       0         0   0.00%   104464.185655   108377.625532      3.61%       45      0      0     11293     7.0s\n",
      "         0       0         0   0.00%   104464.185655   108377.625532      3.61%       45     44      1     11755     7.0s\n",
      "         0       0         0   0.00%   104464.185655   108377.625532      3.61%       45     44     82     22212    12.8s\n",
      "        16      13         0   1.17%   104581.335462   108377.625532      3.50%       63     46    239     81564    21.2s\n",
      "        39      32         0   1.19%   104581.335462   108377.625532      3.50%      220     51    851    120401    26.5s\n",
      "       145      80        19   1.54%   104581.335462   108377.625532      3.50%     2308     83   4160    149709    33.7s\n",
      " L     161      93        19   1.58%   104627.611389   108301.102486      3.39%     2240     88   4334    152193    35.7s\n",
      " L     275     115        35   3.75%   104636.344814   107622.069286      2.77%      918     81   6037    169707    39.8s\n",
      "       428     199        53   4.90%   104651.947562   107622.069286      2.76%      860     85  10070    196590    44.8s\n",
      "       605     297        75   6.59%   104733.8315     107622.069286      2.68%      945     80   9565    222478    50.0s\n",
      "       774     403        87   8.40%   104812.054462   107622.069286      2.61%      544     68   9898    248602    55.1s\n",
      "       956     479       124   8.51%   104848.88925    107622.069286      2.58%      792     90   9879    274146    60.0s\n",
      "\n",
      "Solving report\n",
      "  Status            Time limit reached\n",
      "  Primal bound      107622.069286\n",
      "  Dual bound        104848.88925\n",
      "  Gap               2.58% (tolerance: 0.5%)\n",
      "  P-D integral      2.09509593034\n",
      "  Solution status   feasible\n",
      "                    107622.069286 (objective)\n",
      "                    0 (bound viol.)\n",
      "                    0 (int. viol.)\n",
      "                    0 (row viol.)\n",
      "  Timing            60.00 (total)\n",
      "                    0.00 (presolve)\n",
      "                    0.00 (solve)\n",
      "                    0.00 (postsolve)\n",
      "  Max sub-MIP depth 5\n",
      "  Nodes             956\n",
      "  Repair LPs        0 (0 feasible; 0 iterations)\n",
      "  LP iterations     274146 (total)\n",
      "                    144307 (strong br.)\n",
      "                    11085 (separation)\n",
      "                    28964 (heuristics)\n",
      "WARNING: Loading a feasible but suboptimal solution. Please set\n",
      "load_solution=False and check results.termination_condition and\n",
      "results.found_feasible_solution() before loading a solution.\n"
     ]
    },
    {
     "data": {
      "text/plain": [
       "SolutionInfo(runtime=<pyomo.opt.results.container.UndefinedData object at 0x000001CA1B986ED0>, bound=104848.88924958107, objective=107622.0692857606, relgap=0.02576776356916277, termination='maxTimeLimit')"
      ]
     },
     "execution_count": 9,
     "metadata": {},
     "output_type": "execute_result"
    }
   ],
   "source": [
    "solver.solve(\n",
    "    mip_gap=0.005,\n",
    "    time_limit=60,\n",
    "    verbose=True,\n",
    ")"
   ]
  },
  {
   "cell_type": "code",
   "execution_count": 10,
   "id": "28ea1365-a5e5-4412-bb68-dfd8b6a13151",
   "metadata": {},
   "outputs": [],
   "source": [
    "S, G = solver.get_solution()"
   ]
  },
  {
   "cell_type": "code",
   "execution_count": 11,
   "id": "8766e187-1ae9-4b28-8985-6c874bd54b88",
   "metadata": {},
   "outputs": [
    {
     "data": {
      "image/svg+xml": [
       "<svg xmlns=\"http://www.w3.org/2000/svg\" viewBox=\"0 0 1920 926\"><defs><circle stroke=\"none\" stroke-width=\"2\" id=\"wtg\" r=\"12\"/><rect stroke=\"#111\" stroke-width=\"2\" id=\"oss\" width=\"21\" height=\"21\" fill=\"lawngreen\"/><filter x=\"-5%\" y=\"-5%\" id=\"bg_textbox\" width=\"110%\" height=\"110%\"><feFlood flood-opacity=\"0.6\" flood-color=\"black\" result=\"bg\"/><feMerge><feMergeNode in=\"bg\"/><feMergeNode in=\"SourceGraphic\"/></feMerge></filter></defs><g id=\"triton\"><path stroke=\"silver\" stroke-dasharray=\"15 7\" stroke-width=\"2\" id=\"border\" d=\"M681 30 1890 728 1578 896 1270 890 90 884 30 485z\" fill-rule=\"evenodd\" fill=\"#111\"/><g stroke=\"crimson\" stroke-width=\"4\" id=\"edges_unspecified\"><line x1=\"609\" y1=\"621\" x2=\"560\" y2=\"747\"/><line x1=\"511\" y1=\"873\" x2=\"560\" y2=\"747\"/><line x1=\"820\" y1=\"748\" x2=\"749\" y2=\"705\"/><line x1=\"749\" y1=\"705\" x2=\"679\" y2=\"663\"/><line x1=\"1507\" y1=\"539\" x2=\"1437\" y2=\"497\"/><line x1=\"1437\" y1=\"497\" x2=\"1367\" y2=\"455\"/><line x1=\"1367\" y1=\"455\" x2=\"1296\" y2=\"413\"/><line x1=\"1199\" y1=\"664\" x2=\"1269\" y2=\"707\"/><line x1=\"1340\" y1=\"749\" x2=\"1269\" y2=\"707\"/><line x1=\"1459\" y1=\"665\" x2=\"1388\" y2=\"623\"/><line x1=\"1388\" y1=\"623\" x2=\"1318\" y2=\"581\"/><line x1=\"300\" y1=\"747\" x2=\"230\" y2=\"704\"/><line x1=\"300\" y1=\"747\" x2=\"490\" y2=\"705\"/><line x1=\"349\" y1=\"621\" x2=\"279\" y2=\"578\"/><line x1=\"419\" y1=\"663\" x2=\"349\" y2=\"621\"/><line x1=\"609\" y1=\"621\" x2=\"539\" y2=\"579\"/><line x1=\"539\" y1=\"579\" x2=\"447\" y2=\"369\"/><line x1=\"1199\" y1=\"664\" x2=\"1128\" y2=\"622\"/><line x1=\"1128\" y1=\"622\" x2=\"1058\" y2=\"580\"/><line x1=\"1248\" y1=\"539\" x2=\"1296\" y2=\"413\"/><line x1=\"1199\" y1=\"664\" x2=\"1248\" y2=\"539\"/><line x1=\"804\" y1=\"118\" x2=\"734\" y2=\"75\"/><line x1=\"875\" y1=\"160\" x2=\"804\" y2=\"118\"/><line x1=\"1486\" y1=\"875\" x2=\"1551\" y2=\"875\"/><line x1=\"1599\" y1=\"749\" x2=\"1529\" y2=\"707\"/><line x1=\"1675\" y1=\"833\" x2=\"1599\" y2=\"749\"/><line x1=\"641\" y1=\"873\" x2=\"706\" y2=\"873\"/><line x1=\"576\" y1=\"873\" x2=\"641\" y2=\"873\"/><line x1=\"706\" y1=\"873\" x2=\"771\" y2=\"873\"/><line x1=\"1675\" y1=\"833\" x2=\"1735\" y2=\"792\"/><line x1=\"1735\" y1=\"792\" x2=\"1789\" y2=\"708\"/><line x1=\"1529\" y1=\"707\" x2=\"1459\" y2=\"665\"/><line x1=\"1578\" y1=\"581\" x2=\"1507\" y2=\"539\"/><line x1=\"1648\" y1=\"623\" x2=\"1578\" y2=\"581\"/><line x1=\"609\" y1=\"621\" x2=\"679\" y2=\"663\"/><line x1=\"609\" y1=\"621\" x2=\"728\" y2=\"537\"/><line x1=\"728\" y1=\"537\" x2=\"777\" y2=\"412\"/><line x1=\"917\" y1=\"496\" x2=\"966\" y2=\"370\"/><line x1=\"869\" y1=\"622\" x2=\"917\" y2=\"496\"/><line x1=\"1058\" y1=\"580\" x2=\"917\" y2=\"496\"/><line x1=\"777\" y1=\"412\" x2=\"826\" y2=\"286\"/><line x1=\"945\" y1=\"202\" x2=\"875\" y2=\"160\"/><line x1=\"1015\" y1=\"244\" x2=\"945\" y2=\"202\"/><line x1=\"826\" y1=\"286\" x2=\"875\" y2=\"160\"/><line x1=\"371\" y1=\"285\" x2=\"431\" y2=\"243\"/><line x1=\"447\" y1=\"369\" x2=\"371\" y2=\"285\"/><line x1=\"312\" y1=\"326\" x2=\"371\" y2=\"285\"/><line x1=\"121\" y1=\"872\" x2=\"186\" y2=\"872\"/><line x1=\"105\" y1=\"746\" x2=\"159\" y2=\"662\"/><line x1=\"609\" y1=\"621\" x2=\"419\" y2=\"663\"/><line x1=\"609\" y1=\"621\" x2=\"586\" y2=\"454\"/><line x1=\"609\" y1=\"621\" x2=\"490\" y2=\"705\"/><line x1=\"586\" y1=\"454\" x2=\"636\" y2=\"327\"/><line x1=\"566\" y1=\"285\" x2=\"491\" y2=\"201\"/><line x1=\"491\" y1=\"201\" x2=\"550\" y2=\"159\"/><line x1=\"1199\" y1=\"664\" x2=\"1080\" y2=\"748\"/><line x1=\"1096\" y1=\"874\" x2=\"1080\" y2=\"748\"/><line x1=\"1421\" y1=\"875\" x2=\"1486\" y2=\"875\"/><line x1=\"1356\" y1=\"875\" x2=\"1421\" y2=\"875\"/><line x1=\"1199\" y1=\"664\" x2=\"1318\" y2=\"581\"/><line x1=\"836\" y1=\"874\" x2=\"820\" y2=\"748\"/><line x1=\"685\" y1=\"201\" x2=\"610\" y2=\"117\"/><line x1=\"610\" y1=\"117\" x2=\"669\" y2=\"75\"/><line x1=\"550\" y1=\"159\" x2=\"610\" y2=\"117\"/><line x1=\"1356\" y1=\"875\" x2=\"1340\" y2=\"749\"/><line x1=\"966\" y1=\"370\" x2=\"896\" y2=\"328\"/><line x1=\"1226\" y1=\"371\" x2=\"1156\" y2=\"328\"/><line x1=\"1031\" y1=\"874\" x2=\"1096\" y2=\"874\"/><line x1=\"1096\" y1=\"874\" x2=\"1161\" y2=\"874\"/><line x1=\"1161\" y1=\"874\" x2=\"1226\" y2=\"874\"/><line x1=\"966\" y1=\"874\" x2=\"1031\" y2=\"874\"/><line x1=\"251\" y1=\"872\" x2=\"316\" y2=\"872\"/><line x1=\"316\" y1=\"872\" x2=\"381\" y2=\"873\"/><line x1=\"771\" y1=\"873\" x2=\"836\" y2=\"874\"/><line x1=\"159\" y1=\"662\" x2=\"89\" y2=\"620\"/><line x1=\"230\" y1=\"704\" x2=\"159\" y2=\"662\"/><line x1=\"73\" y1=\"494\" x2=\"133\" y2=\"452\"/><line x1=\"208\" y1=\"536\" x2=\"133\" y2=\"452\"/><line x1=\"328\" y1=\"453\" x2=\"252\" y2=\"368\"/><line x1=\"636\" y1=\"327\" x2=\"566\" y2=\"285\"/><line x1=\"1177\" y1=\"496\" x2=\"1107\" y2=\"454\"/><line x1=\"252\" y1=\"368\" x2=\"312\" y2=\"326\"/><line x1=\"193\" y1=\"410\" x2=\"252\" y2=\"368\"/><line x1=\"1199\" y1=\"664\" x2=\"1177\" y2=\"496\"/><line x1=\"1719\" y1=\"666\" x2=\"1648\" y2=\"623\"/><line x1=\"186\" y1=\"872\" x2=\"251\" y2=\"872\"/><line x1=\"1177\" y1=\"496\" x2=\"1226\" y2=\"371\"/><line x1=\"279\" y1=\"578\" x2=\"208\" y2=\"536\"/><line x1=\"446\" y1=\"873\" x2=\"511\" y2=\"873\"/><line x1=\"381\" y1=\"873\" x2=\"446\" y2=\"873\"/></g><g id=\"WTGgrp\"><g fill=\"#d62728\"><use href=\"#wtg\" x=\"560\" y=\"747\"/><use href=\"#wtg\" x=\"121\" y=\"872\"/><use href=\"#wtg\" x=\"316\" y=\"872\"/><use href=\"#wtg\" x=\"186\" y=\"872\"/><use href=\"#wtg\" x=\"511\" y=\"873\"/><use href=\"#wtg\" x=\"381\" y=\"873\"/><use href=\"#wtg\" x=\"251\" y=\"872\"/><use href=\"#wtg\" x=\"446\" y=\"873\"/></g><g fill=\"#c5b0d5\"><use href=\"#wtg\" x=\"749\" y=\"705\"/><use href=\"#wtg\" x=\"641\" y=\"873\"/><use href=\"#wtg\" x=\"706\" y=\"873\"/><use href=\"#wtg\" x=\"679\" y=\"663\"/><use href=\"#wtg\" x=\"820\" y=\"748\"/><use href=\"#wtg\" x=\"771\" y=\"873\"/><use href=\"#wtg\" x=\"576\" y=\"873\"/><use href=\"#wtg\" x=\"836\" y=\"874\"/></g><g fill=\"#2ca02c\"><use href=\"#wtg\" x=\"1437\" y=\"497\"/><use href=\"#wtg\" x=\"1367\" y=\"455\"/><use href=\"#wtg\" x=\"1248\" y=\"539\"/><use href=\"#wtg\" x=\"1578\" y=\"581\"/><use href=\"#wtg\" x=\"1507\" y=\"539\"/><use href=\"#wtg\" x=\"1648\" y=\"623\"/><use href=\"#wtg\" x=\"1296\" y=\"413\"/><use href=\"#wtg\" x=\"1719\" y=\"666\"/></g><g fill=\"#aec7e8\"><use href=\"#wtg\" x=\"1269\" y=\"707\"/><use href=\"#wtg\" x=\"1551\" y=\"875\"/><use href=\"#wtg\" x=\"1421\" y=\"875\"/><use href=\"#wtg\" x=\"1486\" y=\"875\"/><use href=\"#wtg\" x=\"1340\" y=\"749\"/><use href=\"#wtg\" x=\"1356\" y=\"875\"/></g><g fill=\"#ffbb78\"><use href=\"#wtg\" x=\"1388\" y=\"623\"/><use href=\"#wtg\" x=\"1599\" y=\"749\"/><use href=\"#wtg\" x=\"1735\" y=\"792\"/><use href=\"#wtg\" x=\"1789\" y=\"708\"/><use href=\"#wtg\" x=\"1459\" y=\"665\"/><use href=\"#wtg\" x=\"1318\" y=\"581\"/><use href=\"#wtg\" x=\"1529\" y=\"707\"/><use href=\"#wtg\" x=\"1675\" y=\"833\"/></g><g fill=\"#ff9896\"><use href=\"#wtg\" x=\"300\" y=\"747\"/><use href=\"#wtg\" x=\"105\" y=\"746\"/><use href=\"#wtg\" x=\"159\" y=\"662\"/><use href=\"#wtg\" x=\"89\" y=\"620\"/><use href=\"#wtg\" x=\"230\" y=\"704\"/><use href=\"#wtg\" x=\"490\" y=\"705\"/></g><g fill=\"#9467bd\"><use href=\"#wtg\" x=\"349\" y=\"621\"/><use href=\"#wtg\" x=\"419\" y=\"663\"/><use href=\"#wtg\" x=\"73\" y=\"494\"/><use href=\"#wtg\" x=\"133\" y=\"452\"/><use href=\"#wtg\" x=\"279\" y=\"578\"/><use href=\"#wtg\" x=\"208\" y=\"536\"/></g><g fill=\"#8c564b\"><use href=\"#wtg\" x=\"539\" y=\"579\"/><use href=\"#wtg\" x=\"371\" y=\"285\"/><use href=\"#wtg\" x=\"431\" y=\"243\"/><use href=\"#wtg\" x=\"328\" y=\"453\"/><use href=\"#wtg\" x=\"447\" y=\"369\"/><use href=\"#wtg\" x=\"252\" y=\"368\"/><use href=\"#wtg\" x=\"312\" y=\"326\"/><use href=\"#wtg\" x=\"193\" y=\"410\"/></g><g fill=\"#ff7f0e\"><use href=\"#wtg\" x=\"1128\" y=\"622\"/><use href=\"#wtg\" x=\"917\" y=\"496\"/><use href=\"#wtg\" x=\"869\" y=\"622\"/><use href=\"#wtg\" x=\"966\" y=\"370\"/><use href=\"#wtg\" x=\"1058\" y=\"580\"/><use href=\"#wtg\" x=\"896\" y=\"328\"/></g><g fill=\"#c49c94\"><use href=\"#wtg\" x=\"804\" y=\"118\"/><use href=\"#wtg\" x=\"734\" y=\"75\"/><use href=\"#wtg\" x=\"728\" y=\"537\"/><use href=\"#wtg\" x=\"777\" y=\"412\"/><use href=\"#wtg\" x=\"945\" y=\"202\"/><use href=\"#wtg\" x=\"875\" y=\"160\"/><use href=\"#wtg\" x=\"826\" y=\"286\"/><use href=\"#wtg\" x=\"1015\" y=\"244\"/></g><g fill=\"#e377c2\"><use href=\"#wtg\" x=\"586\" y=\"454\"/><use href=\"#wtg\" x=\"491\" y=\"201\"/><use href=\"#wtg\" x=\"685\" y=\"201\"/><use href=\"#wtg\" x=\"610\" y=\"117\"/><use href=\"#wtg\" x=\"669\" y=\"75\"/><use href=\"#wtg\" x=\"636\" y=\"327\"/><use href=\"#wtg\" x=\"550\" y=\"159\"/><use href=\"#wtg\" x=\"566\" y=\"285\"/></g><g fill=\"#1f77b4\"><use href=\"#wtg\" x=\"1080\" y=\"748\"/><use href=\"#wtg\" x=\"1096\" y=\"874\"/><use href=\"#wtg\" x=\"1161\" y=\"874\"/><use href=\"#wtg\" x=\"966\" y=\"874\"/><use href=\"#wtg\" x=\"1226\" y=\"874\"/><use href=\"#wtg\" x=\"1031\" y=\"874\"/></g><g fill=\"#98df8a\"><use href=\"#wtg\" x=\"1156\" y=\"328\"/><use href=\"#wtg\" x=\"1107\" y=\"454\"/><use href=\"#wtg\" x=\"1177\" y=\"496\"/><use href=\"#wtg\" x=\"1226\" y=\"371\"/></g></g><g id=\"OSSgrp\"><use href=\"#oss\" x=\"1188.5\" y=\"653.5\"/><use href=\"#oss\" x=\"598.5\" y=\"610.5\"/></g></g><text filter=\"url(#bg_textbox)\" text-anchor=\"end\" font-family=\"sans-serif\" font-size=\"40\" fill=\"white\" x=\"1890\" y=\"896\"><tspan x=\"1890\" dy=\"-0.0em\">&#931;&#955; = 107622.0 m</tspan><tspan x=\"1890\" dy=\"-1.3em\">(+1) &#945;: 7, &#946;: 6</tspan><tspan x=\"1890\" dy=\"-1.3em\">&#954; = 8, T = 90</tspan></text></svg>"
      ],
      "text/plain": [
       "<optiwindnet.svg.SvgRepr at 0x1ca1d881460>"
      ]
     },
     "execution_count": 11,
     "metadata": {},
     "output_type": "execute_result"
    }
   ],
   "source": [
    "svgplot(G)"
   ]
  }
 ],
 "metadata": {
  "language_info": {
   "name": "python"
  }
 },
 "nbformat": 4,
 "nbformat_minor": 5
}
