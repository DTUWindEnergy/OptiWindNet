{
 "cells": [
  {
   "cell_type": "markdown",
   "id": "525f818c-2d78-49b8-9d59-2697d39b324c",
   "metadata": {
    "deletable": true,
    "editable": true,
    "frozen": false
   },
   "source": [
    "# Simple TOPFARM Example"
   ]
  },
  {
   "cell_type": "markdown",
   "id": "98940300",
   "metadata": {},
   "source": [
    "This notebook walks through a minimal wind-farm design optimization that couples **OptiWindNet** (for electrical network design) with **[TopFarm](https://gitlab.windenergy.dtu.dk/TOPFARM)** (for layout optimization). For this purpose we will:\n",
    "\n",
    "\n",
    "* **Build three cost components**:\n",
    "\n",
    "  * Energy (AEP): we use PyWake to evaluate farm energy for a set of wind directions and turbine coordinates.\n",
    "  * Electrical network (cabling): based on the data (coordiantes and cables) we build a cost model for cabling via a `WFNComponent` wrapper.\n",
    "  * Economics (IRR / NPV): we create an `economic_evaluation` object and wrap it in a `CostModelComponent` that takes `AEP` and `cabling_cost` and outputs `IRR` (set as the optimization objective with `objective=True, maximize=True`).\n",
    "\n",
    "**How it plugs into TopFarm**\n",
    "\n",
    "1. We instantiate each component: `aep_comp`, `network_cost_comp`, and `npv_comp`.\n",
    "2. We combine them in a `TopFarmGroup([aep_comp, network_cost_comp, npv_comp])`. With promotion, outputs/inputs line up automatically:\n",
    "\n",
    "   * `aep_comp` produces **AEP** → used by the economic component.\n",
    "   * `network_cost_comp` produces **cabling_cost** → also used by the economic component.\n",
    "   * The economic component outputs **IRR**, which TopFarm treats as the **objective**.\n",
    "3. We create a `TopFarmProblem` based on design variables (turbine positions), the defined cost component using `TopFarmGroup` (as mentiond above), constraints and driver.\n",
    "4. Then we call `optimize()` in topfarm problem to run optimization\n",
    "\n",
    "This setup yields a clean dataflow: `turbine positions → AEP & cabling_cost → IRR (objective)`. The constraints keep layouts feasible and the chosen router governs the electrical network quality/speed trade-off."
   ]
  },
  {
   "cell_type": "markdown",
   "id": "7869bd02",
   "metadata": {},
   "source": [
    "Import required packages"
   ]
  },
  {
   "cell_type": "code",
   "execution_count": null,
   "id": "bc20badf-5d4e-42ca-a606-b619c5adc978",
   "metadata": {
    "deletable": true,
    "editable": true,
    "execution": {
     "iopub.execute_input": "2025-08-25T13:49:40.097810Z",
     "iopub.status.busy": "2025-08-25T13:49:40.097451Z",
     "iopub.status.idle": "2025-08-25T13:49:41.954489Z",
     "shell.execute_reply": "2025-08-25T13:49:41.953570Z",
     "shell.execute_reply.started": "2025-08-25T13:49:40.097782Z"
    },
    "frozen": false
   },
   "outputs": [],
   "source": [
    "import math\n",
    "import numpy as np\n",
    "import matplotlib.pyplot as plt"
   ]
  },
  {
   "cell_type": "code",
   "execution_count": null,
   "id": "550d25a8-4347-4659-8802-14b19e74277d",
   "metadata": {
    "deletable": true,
    "editable": true,
    "execution": {
     "iopub.execute_input": "2025-08-25T13:50:00.538937Z",
     "iopub.status.busy": "2025-08-25T13:50:00.537818Z",
     "iopub.status.idle": "2025-08-25T13:50:09.020938Z",
     "shell.execute_reply": "2025-08-25T13:50:09.019563Z",
     "shell.execute_reply.started": "2025-08-25T13:50:00.538848Z"
    },
    "frozen": false
   },
   "outputs": [],
   "source": [
    "from py_wake.examples.data.dtu10mw import DTU10MW\n",
    "from py_wake.examples.hornsrev1_example import Hornsrev1Site\n",
    "from py_wake import Nygaard_2022\n",
    "\n",
    "from topfarm import TopFarmProblem, TopFarmGroup\n",
    "from topfarm.cost_models.py_wake_wrapper import PyWakeAEPCostModelComponent\n",
    "from topfarm.plotting import XYPlotComp\n",
    "from topfarm.constraint_components.spacing import SpacingConstraint\n",
    "from topfarm.constraint_components.boundary import XYBoundaryConstraint\n",
    "from topfarm.cost_models.cost_model_wrappers import CostModelComponent\n",
    "from topfarm.cost_models.economic_models.dtu_wind_cm_main import economic_evaluation\n",
    "from topfarm.easy_drivers import EasySGDDriver\n",
    "from topfarm.cost_models.cost_model_wrappers import CostModelComponent\n",
    "from topfarm.constraint_components.constraint_aggregation import DistanceConstraintAggregation\n",
    "\n",
    "from optiwindnet.api import WindFarmNetwork\n",
    "from optiwindnet.augmentation import poisson_disc_filler"
   ]
  },
  {
   "cell_type": "code",
   "execution_count": null,
   "id": "fa470f55-6d31-4c67-b725-dfd632556219",
   "metadata": {
    "deletable": true,
    "editable": true,
    "execution": {
     "iopub.execute_input": "2025-08-25T13:50:09.022454Z",
     "iopub.status.busy": "2025-08-25T13:50:09.021793Z",
     "iopub.status.idle": "2025-08-25T13:50:09.030260Z",
     "shell.execute_reply": "2025-08-25T13:50:09.029043Z",
     "shell.execute_reply.started": "2025-08-25T13:50:09.022425Z"
    },
    "frozen": false
   },
   "outputs": [],
   "source": [
    "# Display figures as SVG in Jupyter notebooks\n",
    "%config InlineBackend.figure_formats = ['svg']"
   ]
  },
  {
   "cell_type": "markdown",
   "id": "40f00349-4801-4215-bda4-f9ad55fd3586",
   "metadata": {
    "deletable": true,
    "editable": true,
    "frozen": false
   },
   "source": [
    "## Wind farm design parameters"
   ]
  },
  {
   "cell_type": "markdown",
   "id": "f7994e9b-04bf-468e-86ec-8ef81df95a45",
   "metadata": {
    "deletable": true,
    "editable": true,
    "frozen": false
   },
   "source": [
    "Define turbine type and count:"
   ]
  },
  {
   "cell_type": "code",
   "execution_count": null,
   "id": "1b53fd53-70de-4e27-86d1-06e3addc1d50",
   "metadata": {
    "deletable": true,
    "editable": true,
    "execution": {
     "iopub.execute_input": "2025-08-25T13:50:09.031723Z",
     "iopub.status.busy": "2025-08-25T13:50:09.031359Z",
     "iopub.status.idle": "2025-08-25T13:50:09.429309Z",
     "shell.execute_reply": "2025-08-25T13:50:09.428283Z",
     "shell.execute_reply.started": "2025-08-25T13:50:09.031690Z"
    },
    "frozen": false
   },
   "outputs": [],
   "source": [
    "wind_turbines = DTU10MW()\n",
    "n_wt = 20\n",
    "wind_turbines.plot_power_ct();"
   ]
  },
  {
   "cell_type": "markdown",
   "id": "62dfdedf-1934-401e-aba5-1329087a6115",
   "metadata": {
    "deletable": true,
    "editable": true,
    "frozen": false
   },
   "source": [
    "Define the wind resource:"
   ]
  },
  {
   "cell_type": "code",
   "execution_count": null,
   "id": "0b8814df-ddc2-42ea-b4b9-9b214a7c7607",
   "metadata": {
    "deletable": true,
    "editable": true,
    "execution": {
     "iopub.execute_input": "2025-08-25T13:50:09.431207Z",
     "iopub.status.busy": "2025-08-25T13:50:09.430977Z",
     "iopub.status.idle": "2025-08-25T13:50:09.689909Z",
     "shell.execute_reply": "2025-08-25T13:50:09.689168Z",
     "shell.execute_reply.started": "2025-08-25T13:50:09.431189Z"
    },
    "frozen": false
   },
   "outputs": [],
   "source": [
    "site = Hornsrev1Site()\n",
    "site.plot_wd_distribution();"
   ]
  },
  {
   "cell_type": "markdown",
   "id": "15c8c4ec-8e73-4188-b3db-27a74bd3628f",
   "metadata": {
    "deletable": true,
    "editable": true,
    "frozen": false
   },
   "source": [
    "Define the area:"
   ]
  },
  {
   "cell_type": "code",
   "execution_count": null,
   "id": "de8b31ce-dd27-4a6c-80c5-d3d6392b068f",
   "metadata": {
    "deletable": true,
    "editable": true,
    "execution": {
     "iopub.execute_input": "2025-08-25T13:50:09.690786Z",
     "iopub.status.busy": "2025-08-25T13:50:09.690535Z",
     "iopub.status.idle": "2025-08-25T13:50:09.695640Z",
     "shell.execute_reply": "2025-08-25T13:50:09.694931Z",
     "shell.execute_reply.started": "2025-08-25T13:50:09.690769Z"
    },
    "frozen": false
   },
   "outputs": [],
   "source": [
    "d_west_east = 4000  # [m] width\n",
    "d_south_north = 2000  # [m] height\n",
    "min_wt_spacing = 3.5*wind_turbines.diameter()  # [m] inter-turbine minimum distance\n",
    "boundary = np.array([\n",
    "    (0, 0),\n",
    "    (d_west_east, 0),\n",
    "    (d_west_east, d_south_north),\n",
    "    (0, d_south_north)\n",
    "])"
   ]
  },
  {
   "cell_type": "markdown",
   "id": "da392d01-3044-4ec6-ba6c-ae6a51759609",
   "metadata": {
    "deletable": true,
    "editable": true,
    "frozen": false
   },
   "source": [
    "Define the substation position:"
   ]
  },
  {
   "cell_type": "code",
   "execution_count": null,
   "id": "eecc97ef-04a7-4150-a34b-319121f3a29a",
   "metadata": {
    "deletable": true,
    "editable": true,
    "execution": {
     "iopub.execute_input": "2025-08-25T13:50:09.697524Z",
     "iopub.status.busy": "2025-08-25T13:50:09.696929Z",
     "iopub.status.idle": "2025-08-25T13:50:09.703890Z",
     "shell.execute_reply": "2025-08-25T13:50:09.703013Z",
     "shell.execute_reply.started": "2025-08-25T13:50:09.697475Z"
    },
    "frozen": false
   },
   "outputs": [],
   "source": [
    "x_ss, y_ss = (d_west_east/5, d_south_north/2)"
   ]
  },
  {
   "cell_type": "markdown",
   "id": "b2904b0e-9206-431f-bd07-ede8aec6d203",
   "metadata": {
    "deletable": true,
    "editable": true,
    "frozen": false
   },
   "source": [
    "Define the maximum step for the random search:"
   ]
  },
  {
   "cell_type": "code",
   "execution_count": null,
   "id": "819ff6c7-e7c6-4d41-b041-6036a614985e",
   "metadata": {
    "deletable": true,
    "editable": true,
    "execution": {
     "iopub.execute_input": "2025-08-25T13:50:09.706758Z",
     "iopub.status.busy": "2025-08-25T13:50:09.706054Z",
     "iopub.status.idle": "2025-08-25T13:50:09.711452Z",
     "shell.execute_reply": "2025-08-25T13:50:09.710336Z",
     "shell.execute_reply.started": "2025-08-25T13:50:09.706724Z"
    },
    "frozen": false
   },
   "outputs": [],
   "source": [
    "max_step = 100  # [m]"
   ]
  },
  {
   "cell_type": "markdown",
   "id": "609472f6-dc0d-4d16-a512-ac0badd4f5a4",
   "metadata": {
    "deletable": true,
    "editable": true,
    "frozen": false
   },
   "source": [
    "## Initial positions"
   ]
  },
  {
   "cell_type": "code",
   "execution_count": null,
   "id": "2c746c0f-dbb2-4b83-a2b4-a2ca80e4ffd3",
   "metadata": {
    "deletable": true,
    "editable": true,
    "execution": {
     "iopub.execute_input": "2025-08-25T13:50:09.713134Z",
     "iopub.status.busy": "2025-08-25T13:50:09.712539Z",
     "iopub.status.idle": "2025-08-25T13:50:10.219840Z",
     "shell.execute_reply": "2025-08-25T13:50:10.219118Z",
     "shell.execute_reply.started": "2025-08-25T13:50:09.713095Z"
    },
    "frozen": false
   },
   "outputs": [],
   "source": [
    "# Generate initial random layout\n",
    "x_init, y_init = poisson_disc_filler(\n",
    "    n_wt,\n",
    "    min_dist=min_wt_spacing,\n",
    "    BorderC=boundary,\n",
    "    seed=42,\n",
    "    rounds=10,\n",
    ").T"
   ]
  },
  {
   "cell_type": "markdown",
   "id": "4c91cd0f-4241-4f45-a0c9-65856e6df619",
   "metadata": {
    "deletable": true,
    "editable": true,
    "frozen": false
   },
   "source": [
    "## Build components"
   ]
  },
  {
   "cell_type": "markdown",
   "id": "de69a34f",
   "metadata": {},
   "source": [
    "### AEP component"
   ]
  },
  {
   "cell_type": "code",
   "execution_count": null,
   "id": "bcb47b76-aa77-4bf4-92f6-906363a0c9b3",
   "metadata": {
    "deletable": true,
    "editable": true,
    "execution": {
     "iopub.execute_input": "2025-08-25T13:50:12.782679Z",
     "iopub.status.busy": "2025-08-25T13:50:12.782196Z",
     "iopub.status.idle": "2025-08-25T13:50:12.789845Z",
     "shell.execute_reply": "2025-08-25T13:50:12.788585Z",
     "shell.execute_reply.started": "2025-08-25T13:50:12.782647Z"
    },
    "frozen": false
   },
   "outputs": [],
   "source": [
    "# number of wind directions to consider\n",
    "n_wd = 12\n",
    "\n",
    "aep_comp = PyWakeAEPCostModelComponent(\n",
    "    windFarmModel=Nygaard_2022(\n",
    "        site=site,\n",
    "        windTurbines=wind_turbines,\n",
    "    ),\n",
    "    n_wt=n_wt,\n",
    "    wd=np.linspace(0.0, 360.0, n_wd, endpoint=False),\n",
    "    objective=False,\n",
    ")"
   ]
  },
  {
   "cell_type": "markdown",
   "id": "e6ed1e6f",
   "metadata": {},
   "source": [
    "### Electrical network component"
   ]
  },
  {
   "cell_type": "markdown",
   "id": "fcf85bb2",
   "metadata": {},
   "source": [
    "#### Choose the router\n",
    "\n",
    "Pick one of the available routers in OptiWindNet:\n",
    "\n",
    "**EWRouter**\n",
    "\n",
    "```python\n",
    "from optiwindnet.api import EWRouter\n",
    "router = EWRouter()\n",
    "```\n",
    "\n",
    "**HGSRouter**\n",
    "\n",
    "```python\n",
    "from optiwindnet.api import HGSRouter\n",
    "router = HGSRouter(time_limit=0.1)  # seconds\n",
    "```\n",
    "\n",
    "**MILPRouter**\n",
    "\n",
    "```python\n",
    "from optiwindnet.api import MILPRouter\n",
    "router = MILPRouter(\n",
    "    solver_name='gurobi',  # or 'cplex', 'ortools'\n",
    "    time_limit=1,          # seconds\n",
    "    mip_gap=0.005,         # relative optimality gap (0.5%)\n",
    "    verbose=True\n",
    ")\n",
    "```\n",
    "\n",
    "> After choosing, pass `router` to `WindFarmNetwork(..., router=router)` through `WFNComponent`. If you use `MILPRouter`, make sure a supported solver is installed (and licensed if necessary)."
   ]
  },
  {
   "cell_type": "markdown",
   "id": "286c79ea",
   "metadata": {},
   "source": [
    "Let's proceed with `HGSRouter`for this example. You can easily switch to other routers using the abovementioned codes."
   ]
  },
  {
   "cell_type": "code",
   "execution_count": null,
   "id": "6705df09",
   "metadata": {},
   "outputs": [],
   "source": [
    "from optiwindnet.api import HGSRouter\n",
    "router = HGSRouter(time_limit=0.1)"
   ]
  },
  {
   "cell_type": "markdown",
   "id": "6e00f256",
   "metadata": {},
   "source": [
    "Collect initial positions in OptiWindNet input format"
   ]
  },
  {
   "cell_type": "code",
   "execution_count": null,
   "id": "93d38d9c-6517-4a82-81d2-d3b737a4a5e1",
   "metadata": {
    "deletable": true,
    "editable": true,
    "execution": {
     "iopub.execute_input": "2025-08-25T13:50:14.979838Z",
     "iopub.status.busy": "2025-08-25T13:50:14.979448Z",
     "iopub.status.idle": "2025-08-25T13:50:14.985321Z",
     "shell.execute_reply": "2025-08-25T13:50:14.984246Z",
     "shell.execute_reply.started": "2025-08-25T13:50:14.979803Z"
    },
    "frozen": false
   },
   "outputs": [],
   "source": [
    "turbines_pos = np.column_stack((x_init, y_init))\n",
    "substations_pos = np.column_stack((x_ss, y_ss))"
   ]
  },
  {
   "cell_type": "markdown",
   "id": "e5186b52",
   "metadata": {},
   "source": [
    "Define cables."
   ]
  },
  {
   "cell_type": "code",
   "execution_count": null,
   "id": "ce481bec",
   "metadata": {},
   "outputs": [],
   "source": [
    "cables = np.array([(2, 2000), (5, 2200)])"
   ]
  },
  {
   "cell_type": "markdown",
   "id": "e9983983",
   "metadata": {},
   "source": [
    "Build a Cost model for electrical network (cabling) optimizaiton"
   ]
  },
  {
   "cell_type": "code",
   "execution_count": null,
   "id": "cf8e43f1",
   "metadata": {
    "deletable": true,
    "editable": true,
    "execution": {
     "iopub.execute_input": "2025-08-25T13:50:23.838513Z",
     "iopub.status.busy": "2025-08-25T13:50:23.837521Z",
     "iopub.status.idle": "2025-08-25T13:50:23.849115Z",
     "shell.execute_reply": "2025-08-25T13:50:23.847684Z",
     "shell.execute_reply.started": "2025-08-25T13:50:23.838449Z"
    },
    "frozen": false
   },
   "outputs": [],
   "source": [
    "class WFNComponent(CostModelComponent):\n",
    "    def __init__(self, turbines_pos, substations_pos, cables, router, borderC=boundary, **kwargs):\n",
    "        self.wfn = WindFarmNetwork(\n",
    "            turbinesC=turbines_pos,\n",
    "            substationsC=substations_pos,\n",
    "            cables=cables,\n",
    "            router=router,)\n",
    "            #borderC=boundary)\n",
    "\n",
    "        def compute(x, y, xs, ys):\n",
    "            self.wfn.optimize(turbinesC=np.column_stack((x, y)),\n",
    "                              substationsC=np.column_stack((xs, ys)),\n",
    "                              )\n",
    "            return self.wfn.cost(), {\n",
    "                'network_length': self.wfn.length(),\n",
    "                'terse_links': self.wfn.terse_links(),\n",
    "            }\n",
    "\n",
    "        def compute_partials(x, y, xs, ys):\n",
    "            grad_wt, grad_ss = self.wfn.gradient(\n",
    "                turbinesC=np.column_stack((x, y)),\n",
    "                substationsC=np.column_stack((xs, ys)),\n",
    "            )\n",
    "            dc_dx, dc_dy = grad_wt[:, 0], grad_wt[:, 1]\n",
    "            dc_dxss, dc_dyss = grad_ss[:, 0], grad_ss[:, 1]\n",
    "            return [dc_dx, dc_dy, dc_dxss, dc_dyss]\n",
    "\n",
    "        x_init, y_init = turbines_pos.T\n",
    "        x_ss_init, y_ss_init = substations_pos.T\n",
    "        super().__init__(\n",
    "            input_keys=[('x', x_init), ('y', y_init),\n",
    "                        ('xs', x_ss_init), ('ys', y_ss_init)],\n",
    "            n_wt=turbines_pos.shape[0],\n",
    "            cost_function=compute,\n",
    "            cost_gradient_function=compute_partials,\n",
    "            objective=False,\n",
    "            output_keys=[('cabling_cost', 0.0)],\n",
    "            additional_output=[\n",
    "                ('network_length', 0.0),\n",
    "                ('terse_links', np.zeros(turbines_pos.shape[0])),\n",
    "            ],\n",
    "            **kwargs,\n",
    "        )"
   ]
  },
  {
   "cell_type": "markdown",
   "id": "a8689c00",
   "metadata": {},
   "source": [
    "Initialize the `WFNComponent` with input data."
   ]
  },
  {
   "cell_type": "code",
   "execution_count": null,
   "id": "4957e085",
   "metadata": {
    "deletable": true,
    "editable": true,
    "execution": {
     "iopub.execute_input": "2025-08-25T13:50:28.595542Z",
     "iopub.status.busy": "2025-08-25T13:50:28.595144Z",
     "iopub.status.idle": "2025-08-25T13:50:28.600873Z",
     "shell.execute_reply": "2025-08-25T13:50:28.599505Z",
     "shell.execute_reply.started": "2025-08-25T13:50:28.595507Z"
    },
    "frozen": false
   },
   "outputs": [],
   "source": [
    "network_cost_comp = WFNComponent(\n",
    "    turbines_pos=turbines_pos,\n",
    "    substations_pos=substations_pos,\n",
    "    cables=cables,\n",
    "    router=router,\n",
    ")"
   ]
  },
  {
   "cell_type": "markdown",
   "id": "568faae0",
   "metadata": {},
   "source": [
    "### NPV model"
   ]
  },
  {
   "cell_type": "code",
   "execution_count": null,
   "id": "2c3854e5",
   "metadata": {},
   "outputs": [],
   "source": [
    "fixed_economic_parameters = dict(\n",
    "    rated_rpm_array=np.full((n_wt,), 12.0),\n",
    "    D_rotor_array=np.full((n_wt,), wind_turbines.diameter()),\n",
    "    Power_rated_array=np.full((n_wt,), wind_turbines.power(20.0)*1e-6),\n",
    "    hub_height_array=np.full((n_wt,), wind_turbines.hub_height()),\n",
    "    water_depth_array=np.full((n_wt,), 33.0),\n",
    ")"
   ]
  },
  {
   "cell_type": "code",
   "execution_count": null,
   "id": "bd403a6c",
   "metadata": {},
   "outputs": [],
   "source": [
    "eco_eval = economic_evaluation(\n",
    "    distance_from_shore=30,  # [km]\n",
    "    energy_price=0.06,        # [€/kWh] revenue\n",
    "    project_duration=25,     # [years]\n",
    ")"
   ]
  },
  {
   "cell_type": "raw",
   "id": "6078afbc",
   "metadata": {},
   "source": [
    "# Net Present Value\n",
    "def calc_npv(AEP, cabling_cost, **kwargs):\n",
    "    return eco_eval.calculate_npv(\n",
    "        **fixed_economic_parameters,\n",
    "        aep_array=np.full((n_wt,), AEP/n_wt*10**6),\n",
    "        cabling_cost=cabling_cost,\n",
    "    )"
   ]
  },
  {
   "cell_type": "code",
   "execution_count": null,
   "id": "0935a04f",
   "metadata": {},
   "outputs": [],
   "source": [
    "# Internal Rate of Return\n",
    "def calc_irr(AEP, cabling_cost, **kwargs):\n",
    "    return eco_eval.calculate_irr(\n",
    "        **fixed_economic_parameters,\n",
    "        aep_array=np.full((n_wt,), AEP/n_wt*10**6),\n",
    "        cabling_cost=cabling_cost,\n",
    "    )"
   ]
  },
  {
   "cell_type": "code",
   "execution_count": null,
   "id": "687fbafc",
   "metadata": {},
   "outputs": [],
   "source": [
    "# Economy\n",
    "npv_comp = CostModelComponent(\n",
    "    input_keys=[\n",
    "        ('AEP', 0),\n",
    "        ('cabling_cost', 0)\n",
    "    ],\n",
    "    n_wt=n_wt,\n",
    "    # cost_function=calc_npv,\n",
    "    cost_function=calc_irr,\n",
    "    objective=True,\n",
    "    maximize=True,\n",
    "    # output_keys=[('NPV', 0)],\n",
    "    output_keys=[('IRR', 0)],\n",
    ")"
   ]
  },
  {
   "cell_type": "markdown",
   "id": "b814e38f",
   "metadata": {
    "deletable": true,
    "editable": true,
    "frozen": false
   },
   "source": [
    "## Build Topfarm problem"
   ]
  },
  {
   "cell_type": "code",
   "execution_count": null,
   "id": "a927f2dd-0cbc-429a-9bc4-8d94104cd94a",
   "metadata": {
    "deletable": true,
    "editable": true,
    "execution": {
     "iopub.execute_input": "2025-08-25T13:50:29.419709Z",
     "iopub.status.busy": "2025-08-25T13:50:29.419428Z",
     "iopub.status.idle": "2025-08-25T13:50:29.424755Z",
     "shell.execute_reply": "2025-08-25T13:50:29.423840Z",
     "shell.execute_reply.started": "2025-08-25T13:50:29.419690Z"
    },
    "frozen": false
   },
   "outputs": [],
   "source": [
    "cost_comp = TopFarmGroup([\n",
    "    aep_comp,\n",
    "    network_cost_comp,\n",
    "    npv_comp,\n",
    "])"
   ]
  },
  {
   "cell_type": "code",
   "execution_count": null,
   "id": "16f137a5-ee3e-4e5d-8ad1-d9383e570c95",
   "metadata": {
    "deletable": true,
    "editable": true,
    "execution": {
     "iopub.execute_input": "2025-08-25T13:53:16.930477Z",
     "iopub.status.busy": "2025-08-25T13:53:16.930083Z",
     "iopub.status.idle": "2025-08-25T13:53:16.966552Z",
     "shell.execute_reply": "2025-08-25T13:53:16.965696Z",
     "shell.execute_reply.started": "2025-08-25T13:53:16.930454Z"
    },
    "frozen": false
   },
   "outputs": [],
   "source": [
    "tf_problem = TopFarmProblem(\n",
    "    design_vars=dict(\n",
    "        x=x_init,\n",
    "        y=y_init,\n",
    "    ),\n",
    "    cost_comp=cost_comp,\n",
    "    constraints=DistanceConstraintAggregation(\n",
    "        XYBoundaryConstraint(boundary, 'polygon'),\n",
    "        n_wt,\n",
    "        min_wt_spacing,\n",
    "        wind_turbines,\n",
    "    ),\n",
    "    driver=EasySGDDriver(maxiter=200),\n",
    "    plot_comp=XYPlotComp(),\n",
    ")"
   ]
  },
  {
   "cell_type": "code",
   "execution_count": null,
   "id": "6b9ec150-4ff0-4cd2-b92b-6a90e1d63472",
   "metadata": {
    "deletable": true,
    "editable": true,
    "execution": {
     "iopub.execute_input": "2025-08-25T13:53:26.490962Z",
     "iopub.status.busy": "2025-08-25T13:53:26.490610Z",
     "iopub.status.idle": "2025-08-25T13:54:21.991560Z",
     "shell.execute_reply": "2025-08-25T13:54:21.990522Z",
     "shell.execute_reply.started": "2025-08-25T13:53:26.490934Z"
    },
    "frozen": false,
    "scrolled": true
   },
   "outputs": [],
   "source": [
    "cost, state, recorder = tf_problem.optimize(disp=True)"
   ]
  },
  {
   "cell_type": "markdown",
   "id": "b8ff9e64",
   "metadata": {},
   "source": [
    "## Plotting\n",
    "In this section we monitor AEP, cabling_cost, IRR, and constraint_violation over time."
   ]
  },
  {
   "cell_type": "code",
   "execution_count": null,
   "id": "e6237665-9060-4e4d-8a4f-68f53b703c05",
   "metadata": {
    "editable": true,
    "execution": {
     "iopub.execute_input": "2025-08-25T13:54:32.573878Z",
     "iopub.status.busy": "2025-08-25T13:54:32.573050Z",
     "iopub.status.idle": "2025-08-25T13:54:33.039641Z",
     "shell.execute_reply": "2025-08-25T13:54:33.038666Z",
     "shell.execute_reply.started": "2025-08-25T13:54:32.573837Z"
    },
    "frozen": false
   },
   "outputs": [],
   "source": [
    "records_to_plot = ['AEP', 'cabling_cost', 'IRR', 'constraint_violation']\n",
    "time = recorder['timestamp'] - recorder['timestamp'][0]\n",
    "fig, axs = plt.subplots(math.ceil(len(records_to_plot)/2), 2, sharex=True, layout='constrained')\n",
    "\n",
    "\n",
    "pos_final_values = [\n",
    "    dict(offset=(-10, -10), ha='right', va='top'),\n",
    "    dict(offset=(-10,  10), ha='right', va='bottom'),\n",
    "    dict(offset=(-10, -10), ha='right', va='top'),\n",
    "    None\n",
    "]\n",
    "\n",
    "for i, (ax, key) in enumerate(zip(axs.ravel(), records_to_plot)):\n",
    "    line, = ax.plot(time, recorder[key], label=key)\n",
    "    ax.legend()\n",
    "\n",
    "    pos = pos_final_values[i] if i < len(pos_final_values) else None\n",
    "    if pos is None:\n",
    "        break\n",
    "\n",
    "    # last point\n",
    "    x_last = line.get_xdata()[-1]\n",
    "    y_last = line.get_ydata()[-1]\n",
    "    ax.plot(x_last, y_last, 'o', ms=4)\n",
    "\n",
    "    ax.annotate(\n",
    "        f\"{y_last:.3g}\",\n",
    "        xy=(x_last, y_last),\n",
    "        xytext=pos['offset'], textcoords='offset points',\n",
    "        ha=pos['ha'], va=pos['va'],\n",
    "        arrowprops=dict(arrowstyle='->', lw=1),\n",
    "        bbox=dict(boxstyle='round,pad=0.2', fc='white', ec='0.5', alpha=0.9),\n",
    "    )\n",
    "\n",
    "\n",
    "# label bottom subplots\n",
    "for ax in axs[-1, :]:\n",
    "    ax.set_xlabel(\"Time (seconds)\")\n",
    "\n",
    "router_name = type(router).__name__ \n",
    "sub_title = fig.suptitle(f\"OptiWindNet's router: {router_name}\")"
   ]
  },
  {
   "cell_type": "markdown",
   "id": "d5c1c742",
   "metadata": {},
   "source": [
    "Plot the optimized network for final wind farm layout."
   ]
  },
  {
   "cell_type": "code",
   "execution_count": null,
   "id": "4600e4a5-38e6-448b-85b8-9fb39872b9ea",
   "metadata": {
    "editable": true,
    "execution": {
     "iopub.execute_input": "2025-08-25T13:56:15.947745Z",
     "iopub.status.busy": "2025-08-25T13:56:15.947386Z",
     "iopub.status.idle": "2025-08-25T13:56:15.955450Z",
     "shell.execute_reply": "2025-08-25T13:56:15.954208Z",
     "shell.execute_reply.started": "2025-08-25T13:56:15.947723Z"
    },
    "frozen": false
   },
   "outputs": [],
   "source": [
    "network_cost_comp.wfn.plot()"
   ]
  }
 ],
 "metadata": {
  "kernelspec": {
   "display_name": "OptiWindNet",
   "language": "python",
   "name": "python3"
  },
  "language_info": {
   "codemirror_mode": {
    "name": "ipython",
    "version": 3
   },
   "file_extension": ".py",
   "mimetype": "text/x-python",
   "name": "python",
   "nbconvert_exporter": "python",
   "pygments_lexer": "ipython3",
   "version": "3.12.9"
  }
 },
 "nbformat": 4,
 "nbformat_minor": 5
}
