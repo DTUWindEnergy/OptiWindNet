{
 "cells": [
  {
   "cell_type": "markdown",
   "id": "baa0bae5-bb69-46b8-ae63-d4304f9859d9",
   "metadata": {},
   "source": [
    "## Gurobi example\n",
    "\n",
    "This notebook demonstrates how to use `optiwindnet` to design collector system cable layouts using the **Gurobi MILP router**."
   ]
  },
  {
   "cell_type": "code",
   "execution_count": 2,
   "id": "23c1c992-a563-4f2d-bbc8-cf0884e5b275",
   "metadata": {},
   "outputs": [],
   "source": [
    "from optiwindnet.api import WindFarmNetwork, Heuristic, MILP, load_repository"
   ]
  },
  {
   "cell_type": "code",
   "execution_count": 3,
   "id": "c99efba1",
   "metadata": {},
   "outputs": [],
   "source": [
    "# Display figures as SVG in Jupyter notebooks\n",
    "%config InlineBackend.figure_formats = ['svg']"
   ]
  },
  {
   "cell_type": "markdown",
   "id": "10eaee0f",
   "metadata": {},
   "source": [
    "### Initialize Gwynt y Mor\n",
    "\n",
    ">In this example, the `load_repository()` functionality is used to load a prebuilt *Networkx.Graph*. For more details on this functionality look into the notebook about [Load repositories containing location data](api_02-load-repositories.ipynb)."
   ]
  },
  {
   "cell_type": "code",
   "execution_count": 4,
   "id": "b73570fa",
   "metadata": {},
   "outputs": [],
   "source": [
    "locations = load_repository()\n",
    "wfn = WindFarmNetwork(L=locations.gwynt, cables=6)"
   ]
  },
  {
   "cell_type": "code",
   "execution_count": 5,
   "id": "666ca26c-b3cf-4000-a44e-cab38866018d",
   "metadata": {},
   "outputs": [
    {
     "data": {
      "text/plain": [
       "<Axes: >"
      ]
     },
     "execution_count": 5,
     "metadata": {},
     "output_type": "execute_result"
    },
    {
     "data": {
      "image/svg+xml": [
       "<?xml version=\"1.0\" encoding=\"utf-8\" standalone=\"no\"?>\n",
       "<!DOCTYPE svg PUBLIC \"-//W3C//DTD SVG 1.1//EN\"\n",
       "  \"http://www.w3.org/Graphics/SVG/1.1/DTD/svg11.dtd\">\n",
       "<svg xmlns:xlink=\"http://www.w3.org/1999/xlink\" width=\"469.19952pt\" height=\"250.291334pt\" viewBox=\"0 0 469.19952 250.291334\" xmlns=\"http://www.w3.org/2000/svg\" version=\"1.1\">\n",
       " <metadata>\n",
       "  <rdf:RDF xmlns:dc=\"http://purl.org/dc/elements/1.1/\" xmlns:cc=\"http://creativecommons.org/ns#\" xmlns:rdf=\"http://www.w3.org/1999/02/22-rdf-syntax-ns#\">\n",
       "   <cc:Work>\n",
       "    <dc:type rdf:resource=\"http://purl.org/dc/dcmitype/StillImage\"/>\n",
       "    <dc:date>2025-07-23T17:04:48.953574</dc:date>\n",
       "    <dc:format>image/svg+xml</dc:format>\n",
       "    <dc:creator>\n",
       "     <cc:Agent>\n",
       "      <dc:title>Matplotlib v3.10.1, https://matplotlib.org/</dc:title>\n",
       "     </cc:Agent>\n",
       "    </dc:creator>\n",
       "   </cc:Work>\n",
       "  </rdf:RDF>\n",
       " </metadata>\n",
       " <defs>\n",
       "  <style type=\"text/css\">*{stroke-linejoin: round; stroke-linecap: butt}</style>\n",
       " </defs>\n",
       " <g id=\"figure_1\">\n",
       "  <g id=\"axes_1\">\n",
       "   <g id=\"patch_1\">\n",
       "    <path d=\"M 299.580231 38.689417 \n",
       "L 375.369906 65.603063 \n",
       "L 459.748037 241.923555 \n",
       "L 371.681332 232.582414 \n",
       "L 309.296896 210.694821 \n",
       "L 232.874728 224.702106 \n",
       "L 227.923379 199.463018 \n",
       "L 192.580981 204.892348 \n",
       "L 156.266808 235.040474 \n",
       "L 117.673385 240.995566 \n",
       "L 90.925011 211.102462 \n",
       "L 87.049181 189.698679 \n",
       "L 24.047235 110.773062 \n",
       "L 14.564879 101.775213 \n",
       "L 9.451483 78.14407 \n",
       "L 61.986286 34.391099 \n",
       "L 212.370595 8.367779 \n",
       "L 257.272296 24.353118 \n",
       "z\n",
       "\" clip-path=\"url(#p6529534402)\" style=\"fill: #111111; stroke-dasharray: 2.59,1.12; stroke-dashoffset: 0; stroke: #c0c0c0; stroke-width: 0.7; stroke-linejoin: miter\"/>\n",
       "   </g>\n",
       "   <g id=\"PathCollection_1\">\n",
       "    <defs>\n",
       "     <path id=\"mfda1a68d8d\" d=\"M -2.95804 2.95804 \n",
       "L 2.95804 2.95804 \n",
       "L 2.95804 -2.95804 \n",
       "L -2.95804 -2.95804 \n",
       "z\n",
       "\" style=\"stroke: #111111; stroke-width: 0.3\"/>\n",
       "    </defs>\n",
       "    <g>\n",
       "     <use xlink:href=\"#mfda1a68d8d\" x=\"315.11316\" y=\"137.55896\" style=\"fill: #7cfc00; stroke: #111111; stroke-width: 0.3\"/>\n",
       "     <use xlink:href=\"#mfda1a68d8d\" x=\"123.292316\" y=\"168.970136\" style=\"fill: #7cfc00; stroke: #111111; stroke-width: 0.3\"/>\n",
       "    </g>\n",
       "   </g>\n",
       "   <g id=\"PathCollection_2\">\n",
       "    <defs>\n",
       "     <path id=\"C0_0_740708ed92\" d=\"M 0 2.95804 \n",
       "C 0.784481 2.95804 1.536938 2.646362 2.09165 2.09165 \n",
       "C 2.646362 1.536938 2.95804 0.784481 2.95804 -0 \n",
       "C 2.95804 -0.784481 2.646362 -1.536938 2.09165 -2.09165 \n",
       "C 1.536938 -2.646362 0.784481 -2.95804 0 -2.95804 \n",
       "C -0.784481 -2.95804 -1.536938 -2.646362 -2.09165 -2.09165 \n",
       "C -2.646362 -1.536938 -2.95804 -0.784481 -2.95804 0 \n",
       "C -2.95804 0.784481 -2.646362 1.536938 -2.09165 2.09165 \n",
       "C -1.536938 2.646362 -0.784481 2.95804 0 2.95804 \n",
       "z\n",
       "\"/>\n",
       "    </defs>\n",
       "    <use xlink:href=\"#C0_0_740708ed92\" x=\"209.972034\" y=\"9.768897\" style=\"fill: #9edae5\"/>\n",
       "    <use xlink:href=\"#C0_0_740708ed92\" x=\"230.585279\" y=\"17.228708\" style=\"fill: #9edae5\"/>\n",
       "    <use xlink:href=\"#C0_0_740708ed92\" x=\"251.199609\" y=\"24.685374\" style=\"fill: #9edae5\"/>\n",
       "    <use xlink:href=\"#C0_0_740708ed92\" x=\"297.775925\" y=\"40.434264\" style=\"fill: #9edae5\"/>\n",
       "    <use xlink:href=\"#C0_0_740708ed92\" x=\"318.393626\" y=\"47.880679\" style=\"fill: #9edae5\"/>\n",
       "    <use xlink:href=\"#C0_0_740708ed92\" x=\"339.01241\" y=\"55.32395\" style=\"fill: #9edae5\"/>\n",
       "    <use xlink:href=\"#C0_0_740708ed92\" x=\"359.632279\" y=\"62.764074\" style=\"fill: #9edae5\"/>\n",
       "    <use xlink:href=\"#C0_0_740708ed92\" x=\"193.676584\" y=\"22.784006\" style=\"fill: #9edae5\"/>\n",
       "    <use xlink:href=\"#C0_0_740708ed92\" x=\"214.323475\" y=\"30.258109\" style=\"fill: #9edae5\"/>\n",
       "    <use xlink:href=\"#C0_0_740708ed92\" x=\"234.939809\" y=\"37.717239\" style=\"fill: #9edae5\"/>\n",
       "    <use xlink:href=\"#C0_0_740708ed92\" x=\"281.010038\" y=\"54.55056\" style=\"fill: #9edae5\"/>\n",
       "    <use xlink:href=\"#C0_0_740708ed92\" x=\"301.629908\" y=\"61.999516\" style=\"fill: #9edae5\"/>\n",
       "    <use xlink:href=\"#C0_0_740708ed92\" x=\"322.250862\" y=\"69.445326\" style=\"fill: #9edae5\"/>\n",
       "    <use xlink:href=\"#C0_0_740708ed92\" x=\"342.853128\" y=\"76.941062\" style=\"fill: #9edae5\"/>\n",
       "    <use xlink:href=\"#C0_0_740708ed92\" x=\"363.476258\" y=\"84.380585\" style=\"fill: #9edae5\"/>\n",
       "    <use xlink:href=\"#C0_0_740708ed92\" x=\"382.858463\" y=\"92.442416\" style=\"fill: #9edae5\"/>\n",
       "    <use xlink:href=\"#C0_0_740708ed92\" x=\"367.343048\" y=\"105.944207\" style=\"fill: #9edae5\"/>\n",
       "    <use xlink:href=\"#C0_0_740708ed92\" x=\"386.846345\" y=\"112.719945\" style=\"fill: #9edae5\"/>\n",
       "    <use xlink:href=\"#C0_0_740708ed92\" x=\"156.294614\" y=\"29.484699\" style=\"fill: #9edae5\"/>\n",
       "    <use xlink:href=\"#C0_0_740708ed92\" x=\"176.930787\" y=\"36.899616\" style=\"fill: #9edae5\"/>\n",
       "    <use xlink:href=\"#C0_0_740708ed92\" x=\"197.548204\" y=\"44.364433\" style=\"fill: #9edae5\"/>\n",
       "    <use xlink:href=\"#C0_0_740708ed92\" x=\"218.166706\" y=\"51.826104\" style=\"fill: #9edae5\"/>\n",
       "    <use xlink:href=\"#C0_0_740708ed92\" x=\"238.786293\" y=\"59.28463\" style=\"fill: #9edae5\"/>\n",
       "    <use xlink:href=\"#C0_0_740708ed92\" x=\"284.863813\" y=\"76.116602\" style=\"fill: #9edae5\"/>\n",
       "    <use xlink:href=\"#C0_0_740708ed92\" x=\"305.467152\" y=\"83.618019\" style=\"fill: #9edae5\"/>\n",
       "    <use xlink:href=\"#C0_0_740708ed92\" x=\"326.091367\" y=\"91.063228\" style=\"fill: #9edae5\"/>\n",
       "    <use xlink:href=\"#C0_0_740708ed92\" x=\"346.716666\" y=\"98.50529\" style=\"fill: #9edae5\"/>\n",
       "    <use xlink:href=\"#C0_0_740708ed92\" x=\"350.563483\" y=\"120.122777\" style=\"fill: #9edae5\"/>\n",
       "    <use xlink:href=\"#C0_0_740708ed92\" x=\"371.193127\" y=\"127.56109\" style=\"fill: #9edae5\"/>\n",
       "    <use xlink:href=\"#C0_0_740708ed92\" x=\"391.823854\" y=\"134.996258\" style=\"fill: #9edae5\"/>\n",
       "    <use xlink:href=\"#C0_0_740708ed92\" x=\"139.512628\" y=\"43.584188\" style=\"fill: #9edae5\"/>\n",
       "    <use xlink:href=\"#C0_0_740708ed92\" x=\"160.131134\" y=\"51.054694\" style=\"fill: #9edae5\"/>\n",
       "    <use xlink:href=\"#C0_0_740708ed92\" x=\"180.750727\" y=\"58.522055\" style=\"fill: #9edae5\"/>\n",
       "    <use xlink:href=\"#C0_0_740708ed92\" x=\"201.371405\" y=\"65.986271\" style=\"fill: #9edae5\"/>\n",
       "    <use xlink:href=\"#C0_0_740708ed92\" x=\"221.993168\" y=\"73.447341\" style=\"fill: #9edae5\"/>\n",
       "    <use xlink:href=\"#C0_0_740708ed92\" x=\"268.09534\" y=\"90.231938\" style=\"fill: #9edae5\"/>\n",
       "    <use xlink:href=\"#C0_0_740708ed92\" x=\"288.700844\" y=\"97.735894\" style=\"fill: #9edae5\"/>\n",
       "    <use xlink:href=\"#C0_0_740708ed92\" x=\"309.327227\" y=\"105.183643\" style=\"fill: #9edae5\"/>\n",
       "    <use xlink:href=\"#C0_0_740708ed92\" x=\"329.954695\" y=\"112.628246\" style=\"fill: #9edae5\"/>\n",
       "    <use xlink:href=\"#C0_0_740708ed92\" x=\"271.932158\" y=\"111.852019\" style=\"fill: #9edae5\"/>\n",
       "    <use xlink:href=\"#C0_0_740708ed92\" x=\"292.56071\" y=\"119.302308\" style=\"fill: #9edae5\"/>\n",
       "    <use xlink:href=\"#C0_0_740708ed92\" x=\"313.190346\" y=\"126.749451\" style=\"fill: #9edae5\"/>\n",
       "    <use xlink:href=\"#C0_0_740708ed92\" x=\"333.801299\" y=\"134.246521\" style=\"fill: #9edae5\"/>\n",
       "    <use xlink:href=\"#C0_0_740708ed92\" x=\"354.433112\" y=\"141.687374\" style=\"fill: #9edae5\"/>\n",
       "    <use xlink:href=\"#C0_0_740708ed92\" x=\"375.014586\" y=\"149.166375\" style=\"fill: #9edae5\"/>\n",
       "    <use xlink:href=\"#C0_0_740708ed92\" x=\"395.648571\" y=\"156.600944\" style=\"fill: #9edae5\"/>\n",
       "    <use xlink:href=\"#C0_0_740708ed92\" x=\"416.263906\" y=\"164.08545\" style=\"fill: #9edae5\"/>\n",
       "    <use xlink:href=\"#C0_0_740708ed92\" x=\"60.86466\" y=\"35.361832\" style=\"fill: #9edae5\"/>\n",
       "    <use xlink:href=\"#C0_0_740708ed92\" x=\"81.501958\" y=\"42.791282\" style=\"fill: #9edae5\"/>\n",
       "    <use xlink:href=\"#C0_0_740708ed92\" x=\"102.12047\" y=\"50.270619\" style=\"fill: #9edae5\"/>\n",
       "    <use xlink:href=\"#C0_0_740708ed92\" x=\"122.740067\" y=\"57.746811\" style=\"fill: #9edae5\"/>\n",
       "    <use xlink:href=\"#C0_0_740708ed92\" x=\"143.380592\" y=\"65.166813\" style=\"fill: #9edae5\"/>\n",
       "    <use xlink:href=\"#C0_0_740708ed92\" x=\"164.002353\" y=\"72.636711\" style=\"fill: #9edae5\"/>\n",
       "    <use xlink:href=\"#C0_0_740708ed92\" x=\"184.6252\" y=\"80.103463\" style=\"fill: #9edae5\"/>\n",
       "    <use xlink:href=\"#C0_0_740708ed92\" x=\"205.249133\" y=\"87.567069\" style=\"fill: #9edae5\"/>\n",
       "    <use xlink:href=\"#C0_0_740708ed92\" x=\"225.842492\" y=\"95.015709\" style=\"fill: #9edae5\"/>\n",
       "    <use xlink:href=\"#C0_0_740708ed92\" x=\"255.161096\" y=\"125.966393\" style=\"fill: #9edae5\"/>\n",
       "    <use xlink:href=\"#C0_0_740708ed92\" x=\"275.772029\" y=\"133.472288\" style=\"fill: #9edae5\"/>\n",
       "    <use xlink:href=\"#C0_0_740708ed92\" x=\"296.403841\" y=\"140.921974\" style=\"fill: #9edae5\"/>\n",
       "    <use xlink:href=\"#C0_0_740708ed92\" x=\"317.005067\" y=\"148.356716\" style=\"fill: #9edae5\"/>\n",
       "    <use xlink:href=\"#C0_0_740708ed92\" x=\"337.639046\" y=\"155.800115\" style=\"fill: #9edae5\"/>\n",
       "    <use xlink:href=\"#C0_0_740708ed92\" x=\"358.254354\" y=\"163.293444\" style=\"fill: #9edae5\"/>\n",
       "    <use xlink:href=\"#C0_0_740708ed92\" x=\"378.890508\" y=\"170.730552\" style=\"fill: #9edae5\"/>\n",
       "    <use xlink:href=\"#C0_0_740708ed92\" x=\"399.508008\" y=\"178.217597\" style=\"fill: #9edae5\"/>\n",
       "    <use xlink:href=\"#C0_0_740708ed92\" x=\"420.146337\" y=\"185.648415\" style=\"fill: #9edae5\"/>\n",
       "    <use xlink:href=\"#C0_0_740708ed92\" x=\"44.103069\" y=\"49.462056\" style=\"fill: #9edae5\"/>\n",
       "    <use xlink:href=\"#C0_0_740708ed92\" x=\"64.722669\" y=\"56.947079\" style=\"fill: #9edae5\"/>\n",
       "    <use xlink:href=\"#C0_0_740708ed92\" x=\"85.363218\" y=\"64.375919\" style=\"fill: #9edae5\"/>\n",
       "    <use xlink:href=\"#C0_0_740708ed92\" x=\"105.984984\" y=\"71.854648\" style=\"fill: #9edae5\"/>\n",
       "    <use xlink:href=\"#C0_0_740708ed92\" x=\"126.576181\" y=\"79.318389\" style=\"fill: #9edae5\"/>\n",
       "    <use xlink:href=\"#C0_0_740708ed92\" x=\"147.200117\" y=\"86.790831\" style=\"fill: #9edae5\"/>\n",
       "    <use xlink:href=\"#C0_0_740708ed92\" x=\"167.844968\" y=\"94.207078\" style=\"fill: #9edae5\"/>\n",
       "    <use xlink:href=\"#C0_0_740708ed92\" x=\"188.471068\" y=\"101.673225\" style=\"fill: #9edae5\"/>\n",
       "    <use xlink:href=\"#C0_0_740708ed92\" x=\"209.098253\" y=\"109.136227\" style=\"fill: #9edae5\"/>\n",
       "    <use xlink:href=\"#C0_0_740708ed92\" x=\"212.930609\" y=\"130.758627\" style=\"fill: #9edae5\"/>\n",
       "    <use xlink:href=\"#C0_0_740708ed92\" x=\"259.000753\" y=\"147.587451\" style=\"fill: #9edae5\"/>\n",
       "    <use xlink:href=\"#C0_0_740708ed92\" x=\"279.634733\" y=\"155.039678\" style=\"fill: #9edae5\"/>\n",
       "    <use xlink:href=\"#C0_0_740708ed92\" x=\"300.238124\" y=\"162.476956\" style=\"fill: #9edae5\"/>\n",
       "    <use xlink:href=\"#C0_0_740708ed92\" x=\"320.854504\" y=\"169.975967\" style=\"fill: #9edae5\"/>\n",
       "    <use xlink:href=\"#C0_0_740708ed92\" x=\"341.491744\" y=\"177.418763\" style=\"fill: #9edae5\"/>\n",
       "    <use xlink:href=\"#C0_0_740708ed92\" x=\"362.130067\" y=\"184.858411\" style=\"fill: #9edae5\"/>\n",
       "    <use xlink:href=\"#C0_0_740708ed92\" x=\"382.71805\" y=\"192.336211\" style=\"fill: #9edae5\"/>\n",
       "    <use xlink:href=\"#C0_0_740708ed92\" x=\"403.358546\" y=\"199.769574\" style=\"fill: #9edae5\"/>\n",
       "    <use xlink:href=\"#C0_0_740708ed92\" x=\"423.980399\" y=\"207.252877\" style=\"fill: #9edae5\"/>\n",
       "    <use xlink:href=\"#C0_0_740708ed92\" x=\"27.319229\" y=\"63.613566\" style=\"fill: #9edae5\"/>\n",
       "    <use xlink:href=\"#C0_0_740708ed92\" x=\"47.960879\" y=\"71.048097\" style=\"fill: #9edae5\"/>\n",
       "    <use xlink:href=\"#C0_0_740708ed92\" x=\"68.583734\" y=\"78.532512\" style=\"fill: #9edae5\"/>\n",
       "    <use xlink:href=\"#C0_0_740708ed92\" x=\"89.176019\" y=\"86.001929\" style=\"fill: #9edae5\"/>\n",
       "    <use xlink:href=\"#C0_0_740708ed92\" x=\"109.820894\" y=\"93.427016\" style=\"fill: #9edae5\"/>\n",
       "    <use xlink:href=\"#C0_0_740708ed92\" x=\"130.446999\" y=\"100.901995\" style=\"fill: #9edae5\"/>\n",
       "    <use xlink:href=\"#C0_0_740708ed92\" x=\"151.07419\" y=\"108.373828\" style=\"fill: #9edae5\"/>\n",
       "    <use xlink:href=\"#C0_0_740708ed92\" x=\"171.670803\" y=\"115.830682\" style=\"fill: #9edae5\"/>\n",
       "    <use xlink:href=\"#C0_0_740708ed92\" x=\"192.300163\" y=\"123.296228\" style=\"fill: #9edae5\"/>\n",
       "    <use xlink:href=\"#C0_0_740708ed92\" x=\"196.152124\" y=\"144.866363\" style=\"fill: #9edae5\"/>\n",
       "    <use xlink:href=\"#C0_0_740708ed92\" x=\"242.227102\" y=\"161.700863\" style=\"fill: #9edae5\"/>\n",
       "    <use xlink:href=\"#C0_0_740708ed92\" x=\"262.863249\" y=\"169.155631\" style=\"fill: #9edae5\"/>\n",
       "    <use xlink:href=\"#C0_0_740708ed92\" x=\"283.468804\" y=\"176.595446\" style=\"fill: #9edae5\"/>\n",
       "    <use xlink:href=\"#C0_0_740708ed92\" x=\"304.087348\" y=\"184.096996\" style=\"fill: #9edae5\"/>\n",
       "    <use xlink:href=\"#C0_0_740708ed92\" x=\"324.726756\" y=\"191.542331\" style=\"fill: #9edae5\"/>\n",
       "    <use xlink:href=\"#C0_0_740708ed92\" x=\"345.335564\" y=\"198.972728\" style=\"fill: #9edae5\"/>\n",
       "    <use xlink:href=\"#C0_0_740708ed92\" x=\"365.957391\" y=\"206.464854\" style=\"fill: #9edae5\"/>\n",
       "    <use xlink:href=\"#C0_0_740708ed92\" x=\"386.600056\" y=\"213.900757\" style=\"fill: #9edae5\"/>\n",
       "    <use xlink:href=\"#C0_0_740708ed92\" x=\"407.192386\" y=\"221.374821\" style=\"fill: #9edae5\"/>\n",
       "    <use xlink:href=\"#C0_0_740708ed92\" x=\"10.584555\" y=\"77.722172\" style=\"fill: #9edae5\"/>\n",
       "    <use xlink:href=\"#C0_0_740708ed92\" x=\"427.817502\" y=\"228.857525\" style=\"fill: #9edae5\"/>\n",
       "    <use xlink:href=\"#C0_0_740708ed92\" x=\"448.46343\" y=\"236.283997\" style=\"fill: #9edae5\"/>\n",
       "    <use xlink:href=\"#C0_0_740708ed92\" x=\"31.176844\" y=\"85.200403\" style=\"fill: #9edae5\"/>\n",
       "    <use xlink:href=\"#C0_0_740708ed92\" x=\"51.821744\" y=\"92.634324\" style=\"fill: #9edae5\"/>\n",
       "    <use xlink:href=\"#C0_0_740708ed92\" x=\"72.416193\" y=\"100.106275\" style=\"fill: #9edae5\"/>\n",
       "    <use xlink:href=\"#C0_0_740708ed92\" x=\"93.043388\" y=\"107.58694\" style=\"fill: #9edae5\"/>\n",
       "    <use xlink:href=\"#C0_0_740708ed92\" x=\"113.691513\" y=\"115.011415\" style=\"fill: #9edae5\"/>\n",
       "    <use xlink:href=\"#C0_0_740708ed92\" x=\"134.289207\" y=\"122.473944\" style=\"fill: #9edae5\"/>\n",
       "    <use xlink:href=\"#C0_0_740708ed92\" x=\"154.91965\" y=\"129.945172\" style=\"fill: #9edae5\"/>\n",
       "    <use xlink:href=\"#C0_0_740708ed92\" x=\"175.551179\" y=\"137.413255\" style=\"fill: #9edae5\"/>\n",
       "    <use xlink:href=\"#C0_0_740708ed92\" x=\"200.007127\" y=\"166.436684\" style=\"fill: #9edae5\"/>\n",
       "    <use xlink:href=\"#C0_0_740708ed92\" x=\"246.089388\" y=\"183.269834\" style=\"fill: #9edae5\"/>\n",
       "    <use xlink:href=\"#C0_0_740708ed92\" x=\"266.677325\" y=\"190.765252\" style=\"fill: #9edae5\"/>\n",
       "    <use xlink:href=\"#C0_0_740708ed92\" x=\"287.317815\" y=\"198.216275\" style=\"fill: #9edae5\"/>\n",
       "    <use xlink:href=\"#C0_0_740708ed92\" x=\"307.95939\" y=\"205.66415\" style=\"fill: #9edae5\"/>\n",
       "    <use xlink:href=\"#C0_0_740708ed92\" x=\"328.570363\" y=\"213.097083\" style=\"fill: #9edae5\"/>\n",
       "    <use xlink:href=\"#C0_0_740708ed92\" x=\"349.194354\" y=\"220.591748\" style=\"fill: #9edae5\"/>\n",
       "    <use xlink:href=\"#C0_0_740708ed92\" x=\"369.870369\" y=\"227.558397\" style=\"fill: #9edae5\"/>\n",
       "    <use xlink:href=\"#C0_0_740708ed92\" x=\"14.748295\" y=\"98.396423\" style=\"fill: #9edae5\"/>\n",
       "    <use xlink:href=\"#C0_0_740708ed92\" x=\"35.037514\" y=\"106.787426\" style=\"fill: #9edae5\"/>\n",
       "    <use xlink:href=\"#C0_0_740708ed92\" x=\"55.634136\" y=\"114.261913\" style=\"fill: #9edae5\"/>\n",
       "    <use xlink:href=\"#C0_0_740708ed92\" x=\"76.283363\" y=\"121.692079\" style=\"fill: #9edae5\"/>\n",
       "    <use xlink:href=\"#C0_0_740708ed92\" x=\"96.882144\" y=\"129.160285\" style=\"fill: #9edae5\"/>\n",
       "    <use xlink:href=\"#C0_0_740708ed92\" x=\"117.513677\" y=\"136.6372\" style=\"fill: #9edae5\"/>\n",
       "    <use xlink:href=\"#C0_0_740708ed92\" x=\"138.166129\" y=\"144.05792\" style=\"fill: #9edae5\"/>\n",
       "    <use xlink:href=\"#C0_0_740708ed92\" x=\"158.768155\" y=\"151.516703\" style=\"fill: #9edae5\"/>\n",
       "    <use xlink:href=\"#C0_0_740708ed92\" x=\"179.402936\" y=\"158.98418\" style=\"fill: #9edae5\"/>\n",
       "    <use xlink:href=\"#C0_0_740708ed92\" x=\"249.934932\" y=\"204.892054\" style=\"fill: #9edae5\"/>\n",
       "    <use xlink:href=\"#C0_0_740708ed92\" x=\"270.545906\" y=\"212.333803\" style=\"fill: #9edae5\"/>\n",
       "    <use xlink:href=\"#C0_0_740708ed92\" x=\"38.869573\" y=\"128.36277\" style=\"fill: #9edae5\"/>\n",
       "    <use xlink:href=\"#C0_0_740708ed92\" x=\"59.50111\" y=\"135.848513\" style=\"fill: #9edae5\"/>\n",
       "    <use xlink:href=\"#C0_0_740708ed92\" x=\"80.121916\" y=\"143.266214\" style=\"fill: #9edae5\"/>\n",
       "    <use xlink:href=\"#C0_0_740708ed92\" x=\"100.755617\" y=\"150.745666\" style=\"fill: #9edae5\"/>\n",
       "    <use xlink:href=\"#C0_0_740708ed92\" x=\"121.358731\" y=\"158.210126\" style=\"fill: #9edae5\"/>\n",
       "    <use xlink:href=\"#C0_0_740708ed92\" x=\"141.994602\" y=\"165.68329\" style=\"fill: #9edae5\"/>\n",
       "    <use xlink:href=\"#C0_0_740708ed92\" x=\"162.599882\" y=\"173.141471\" style=\"fill: #9edae5\"/>\n",
       "    <use xlink:href=\"#C0_0_740708ed92\" x=\"183.237924\" y=\"180.608346\" style=\"fill: #9edae5\"/>\n",
       "    <use xlink:href=\"#C0_0_740708ed92\" x=\"229.313152\" y=\"197.382287\" style=\"fill: #9edae5\"/>\n",
       "    <use xlink:href=\"#C0_0_740708ed92\" x=\"63.339465\" y=\"157.42344\" style=\"fill: #9edae5\"/>\n",
       "    <use xlink:href=\"#C0_0_740708ed92\" x=\"83.995189\" y=\"164.852389\" style=\"fill: #9edae5\"/>\n",
       "    <use xlink:href=\"#C0_0_740708ed92\" x=\"104.600467\" y=\"172.319383\" style=\"fill: #9edae5\"/>\n",
       "    <use xlink:href=\"#C0_0_740708ed92\" x=\"125.238506\" y=\"179.795083\" style=\"fill: #9edae5\"/>\n",
       "    <use xlink:href=\"#C0_0_740708ed92\" x=\"145.845951\" y=\"187.255797\" style=\"fill: #9edae5\"/>\n",
       "    <use xlink:href=\"#C0_0_740708ed92\" x=\"166.454478\" y=\"194.713374\" style=\"fill: #9edae5\"/>\n",
       "    <use xlink:href=\"#C0_0_740708ed92\" x=\"187.095771\" y=\"202.179643\" style=\"fill: #9edae5\"/>\n",
       "    <use xlink:href=\"#C0_0_740708ed92\" x=\"233.158482\" y=\"219.005296\" style=\"fill: #9edae5\"/>\n",
       "    <use xlink:href=\"#C0_0_740708ed92\" x=\"87.819992\" y=\"186.47994\" style=\"fill: #9edae5\"/>\n",
       "    <use xlink:href=\"#C0_0_740708ed92\" x=\"108.448361\" y=\"193.893286\" style=\"fill: #9edae5\"/>\n",
       "    <use xlink:href=\"#C0_0_740708ed92\" x=\"129.089652\" y=\"201.36838\" style=\"fill: #9edae5\"/>\n",
       "    <use xlink:href=\"#C0_0_740708ed92\" x=\"149.700343\" y=\"208.82849\" style=\"fill: #9edae5\"/>\n",
       "    <use xlink:href=\"#C0_0_740708ed92\" x=\"170.312117\" y=\"216.285462\" style=\"fill: #9edae5\"/>\n",
       "    <use xlink:href=\"#C0_0_740708ed92\" x=\"91.667687\" y=\"208.054634\" style=\"fill: #9edae5\"/>\n",
       "    <use xlink:href=\"#C0_0_740708ed92\" x=\"112.311153\" y=\"215.532268\" style=\"fill: #9edae5\"/>\n",
       "    <use xlink:href=\"#C0_0_740708ed92\" x=\"132.924016\" y=\"222.994913\" style=\"fill: #9edae5\"/>\n",
       "    <use xlink:href=\"#C0_0_740708ed92\" x=\"153.537963\" y=\"230.454421\" style=\"fill: #9edae5\"/>\n",
       "    <use xlink:href=\"#C0_0_740708ed92\" x=\"116.609326\" y=\"235.821516\" style=\"fill: #9edae5\"/>\n",
       "   </g>\n",
       "  </g>\n",
       " </g>\n",
       " <defs>\n",
       "  <clipPath id=\"p6529534402\">\n",
       "   <rect x=\"7.2\" y=\"7.2\" width=\"454.79952\" height=\"235.891334\"/>\n",
       "  </clipPath>\n",
       " </defs>\n",
       "</svg>\n"
      ],
      "text/plain": [
       "<Figure size 1228.8x921.6 with 1 Axes>"
      ]
     },
     "metadata": {},
     "output_type": "display_data"
    }
   ],
   "source": [
    "wfn.plot_location()"
   ]
  },
  {
   "cell_type": "markdown",
   "id": "958b4117-b54a-4bba-9201-615d4c922cb2",
   "metadata": {},
   "source": [
    "### Optimize Gwynt y Mor"
   ]
  },
  {
   "cell_type": "markdown",
   "id": "4f9b49b1-a597-4053-a3d1-f3de7bb8d164",
   "metadata": {},
   "source": [
    "Initial heuristic solution to warm-start the solver:"
   ]
  },
  {
   "cell_type": "code",
   "execution_count": 6,
   "id": "19eb273d-f662-4851-bf09-e0ec532d7b8b",
   "metadata": {},
   "outputs": [],
   "source": [
    "router_warmstart = Heuristic(solver='Esau_Williams')\n",
    "res_warmstart= wfn.optimize(router=router_warmstart)"
   ]
  },
  {
   "cell_type": "code",
   "execution_count": 7,
   "id": "003714e7-bf75-4cda-ae19-58c74e126c75",
   "metadata": {},
   "outputs": [
    {
     "data": {
      "text/plain": [
       "138539.07480132734"
      ]
     },
     "execution_count": 7,
     "metadata": {},
     "output_type": "execute_result"
    }
   ],
   "source": [
    "wfn.length()"
   ]
  },
  {
   "cell_type": "markdown",
   "id": "1dbc6982-18fe-447e-b6d0-935f491af2dc",
   "metadata": {},
   "source": [
    "The pyomo GurobiDirect class can work as context manager by passing the `manage_env=True` parameter to SolverFactory. Advantages of operating this way:\n",
    "- the Gurobi license is released after the context's scope ends\n",
    "- one can pass `options` that can only be set at the Gurobi environment creation (such as `threadlimit`)"
   ]
  },
  {
   "cell_type": "code",
   "execution_count": 9,
   "id": "e6cb074e-6852-46e0-8399-93e5c733e1da",
   "metadata": {
    "scrolled": true
   },
   "outputs": [
    {
     "name": "stdout",
     "output_type": "stream",
     "text": [
      ">>> Using warm start: the model is initialized with the provided solution S <<<\n",
      "Set parameter OutputFlag to value 1\n",
      "Gurobi Optimizer version 12.0.3 build v12.0.3rc0 (win64 - Windows 11.0 (26100.2))\n",
      "\n",
      "CPU model: 11th Gen Intel(R) Core(TM) i5-1145G7 @ 2.60GHz, instruction set [SSE2|AVX|AVX2|AVX512]\n",
      "Thread count: 4 physical cores, 8 logical processors, using up to 8 threads\n",
      "\n",
      "Non-default parameters:\n",
      "TimeLimit  15\n",
      "MIPGap  0.01\n",
      "MIPFocus  1\n",
      "\n"
     ]
    },
    {
     "ename": "GurobiError",
     "evalue": "Model too large for size-limited license; visit https://gurobi.com/unrestricted for more information",
     "output_type": "error",
     "traceback": [
      "\u001b[31m---------------------------------------------------------------------------\u001b[39m",
      "\u001b[31mGurobiError\u001b[39m                               Traceback (most recent call last)",
      "\u001b[36mCell\u001b[39m\u001b[36m \u001b[39m\u001b[32mIn[9]\u001b[39m\u001b[32m, line 6\u001b[39m\n\u001b[32m      1\u001b[39m solver_options=\u001b[38;5;28mdict\u001b[39m(\n\u001b[32m      2\u001b[39m     num_workers = \u001b[32m8\u001b[39m,\n\u001b[32m      3\u001b[39m )\n\u001b[32m      5\u001b[39m router_milp = MILP(solver_name=\u001b[33m'\u001b[39m\u001b[33mgurobi\u001b[39m\u001b[33m'\u001b[39m, time_limit=\u001b[32m15\u001b[39m, mip_gap=\u001b[32m0.01\u001b[39m, verbose=\u001b[38;5;28;01mTrue\u001b[39;00m)\n\u001b[32m----> \u001b[39m\u001b[32m6\u001b[39m res = \u001b[43mwfn\u001b[49m\u001b[43m.\u001b[49m\u001b[43moptimize\u001b[49m\u001b[43m(\u001b[49m\u001b[43mrouter\u001b[49m\u001b[43m=\u001b[49m\u001b[43mrouter_milp\u001b[49m\u001b[43m)\u001b[49m\n",
      "\u001b[36mFile \u001b[39m\u001b[32mC:\\code\\OptiWindNet\\optiwindnet\\api.py:381\u001b[39m, in \u001b[36mWindFarmNetwork.optimize\u001b[39m\u001b[34m(self, turbinesC, substationsC, router, verbose)\u001b[39m\n\u001b[32m    376\u001b[39m \u001b[38;5;28;01mif\u001b[39;00m substationsC \u001b[38;5;129;01mis\u001b[39;00m \u001b[38;5;28;01mNone\u001b[39;00m:\n\u001b[32m    377\u001b[39m     substationsC = (\n\u001b[32m    378\u001b[39m         substationsC \u001b[38;5;129;01mor\u001b[39;00m \u001b[38;5;28mself\u001b[39m.L.graph[\u001b[33m'\u001b[39m\u001b[33mVertexC\u001b[39m\u001b[33m'\u001b[39m][-\u001b[38;5;28mself\u001b[39m.L.graph[\u001b[33m'\u001b[39m\u001b[33mR\u001b[39m\u001b[33m'\u001b[39m] :, :]\n\u001b[32m    379\u001b[39m     )\n\u001b[32m--> \u001b[39m\u001b[32m381\u001b[39m S, G = \u001b[43mrouter\u001b[49m\u001b[43m(\u001b[49m\n\u001b[32m    382\u001b[39m \u001b[43m    \u001b[49m\u001b[43mA\u001b[49m\u001b[43m=\u001b[49m\u001b[38;5;28;43mself\u001b[39;49m\u001b[43m.\u001b[49m\u001b[43mA\u001b[49m\u001b[43m,\u001b[49m\n\u001b[32m    383\u001b[39m \u001b[43m    \u001b[49m\u001b[43mP\u001b[49m\u001b[43m=\u001b[49m\u001b[38;5;28;43mself\u001b[39;49m\u001b[43m.\u001b[49m\u001b[43mP\u001b[49m\u001b[43m,\u001b[49m\n\u001b[32m    384\u001b[39m \u001b[43m    \u001b[49m\u001b[43mS_warm\u001b[49m\u001b[43m=\u001b[49m\u001b[38;5;28;43mself\u001b[39;49m\u001b[43m.\u001b[49m\u001b[43mS\u001b[49m\u001b[43m,\u001b[49m\n\u001b[32m    385\u001b[39m \u001b[43m    \u001b[49m\u001b[43mturbinesC\u001b[49m\u001b[43m=\u001b[49m\u001b[43mturbinesC\u001b[49m\u001b[43m,\u001b[49m\n\u001b[32m    386\u001b[39m \u001b[43m    \u001b[49m\u001b[43msubstationsC\u001b[49m\u001b[43m=\u001b[49m\u001b[43msubstationsC\u001b[49m\u001b[43m,\u001b[49m\n\u001b[32m    387\u001b[39m \u001b[43m    \u001b[49m\u001b[43mcables\u001b[49m\u001b[43m=\u001b[49m\u001b[38;5;28;43mself\u001b[39;49m\u001b[43m.\u001b[49m\u001b[43mcables\u001b[49m\u001b[43m,\u001b[49m\n\u001b[32m    388\u001b[39m \u001b[43m    \u001b[49m\u001b[43mcables_capacity\u001b[49m\u001b[43m=\u001b[49m\u001b[38;5;28;43mself\u001b[39;49m\u001b[43m.\u001b[49m\u001b[43mcables_capacity\u001b[49m\u001b[43m,\u001b[49m\n\u001b[32m    389\u001b[39m \u001b[43m    \u001b[49m\u001b[43mverbose\u001b[49m\u001b[43m=\u001b[49m\u001b[43mverbose\u001b[49m\u001b[43m,\u001b[49m\n\u001b[32m    390\u001b[39m \u001b[43m\u001b[49m\u001b[43m)\u001b[49m\n\u001b[32m    391\u001b[39m \u001b[38;5;28mself\u001b[39m.S = S\n\u001b[32m    392\u001b[39m \u001b[38;5;28mself\u001b[39m.G = G\n",
      "\u001b[36mFile \u001b[39m\u001b[32mC:\\code\\OptiWindNet\\optiwindnet\\api.py:411\u001b[39m, in \u001b[36mOptiWindNetSolver.__call__\u001b[39m\u001b[34m(self, turbinesC, substationsC, verbose, **kwargs)\u001b[39m\n\u001b[32m    409\u001b[39m \u001b[38;5;28;01mdef\u001b[39;00m\u001b[38;5;250m \u001b[39m\u001b[34m__call__\u001b[39m(\u001b[38;5;28mself\u001b[39m, turbinesC=\u001b[38;5;28;01mNone\u001b[39;00m, substationsC=\u001b[38;5;28;01mNone\u001b[39;00m, verbose=\u001b[38;5;28;01mFalse\u001b[39;00m, **kwargs):\n\u001b[32m    410\u001b[39m \u001b[38;5;250m    \u001b[39m\u001b[33;03m\"\"\"Make the instance callable, calling optimize() internally.\"\"\"\u001b[39;00m\n\u001b[32m--> \u001b[39m\u001b[32m411\u001b[39m     \u001b[38;5;28;01mreturn\u001b[39;00m \u001b[38;5;28;43mself\u001b[39;49m\u001b[43m.\u001b[49m\u001b[43moptimize\u001b[49m\u001b[43m(\u001b[49m\n\u001b[32m    412\u001b[39m \u001b[43m        \u001b[49m\u001b[43mturbinesC\u001b[49m\u001b[43m=\u001b[49m\u001b[43mturbinesC\u001b[49m\u001b[43m,\u001b[49m\u001b[43m \u001b[49m\u001b[43msubstationsC\u001b[49m\u001b[43m=\u001b[49m\u001b[43msubstationsC\u001b[49m\u001b[43m,\u001b[49m\u001b[43m \u001b[49m\u001b[43mverbose\u001b[49m\u001b[43m=\u001b[49m\u001b[43mverbose\u001b[49m\u001b[43m,\u001b[49m\u001b[43m \u001b[49m\u001b[43m*\u001b[49m\u001b[43m*\u001b[49m\u001b[43mkwargs\u001b[49m\n\u001b[32m    413\u001b[39m \u001b[43m    \u001b[49m\u001b[43m)\u001b[49m\n",
      "\u001b[36mFile \u001b[39m\u001b[32mC:\\code\\OptiWindNet\\optiwindnet\\api.py:567\u001b[39m, in \u001b[36mMILP.optimize\u001b[39m\u001b[34m(self, P, A, cables, cables_capacity, S_warm, verbose, **kwargs)\u001b[39m\n\u001b[32m    558\u001b[39m solver = \u001b[38;5;28mself\u001b[39m.solver\n\u001b[32m    560\u001b[39m solver.set_problem(\n\u001b[32m    561\u001b[39m     P, A,\n\u001b[32m    562\u001b[39m     capacity=cables_capacity,\n\u001b[32m    563\u001b[39m     model_options=\u001b[38;5;28mself\u001b[39m.model_options,\n\u001b[32m    564\u001b[39m     warmstart=S_warm,\n\u001b[32m    565\u001b[39m )\n\u001b[32m--> \u001b[39m\u001b[32m567\u001b[39m \u001b[43msolver\u001b[49m\u001b[43m.\u001b[49m\u001b[43msolve\u001b[49m\u001b[43m(\u001b[49m\n\u001b[32m    568\u001b[39m \u001b[43m    \u001b[49m\u001b[43mtime_limit\u001b[49m\u001b[43m=\u001b[49m\u001b[38;5;28;43mself\u001b[39;49m\u001b[43m.\u001b[49m\u001b[43mtime_limit\u001b[49m\u001b[43m,\u001b[49m\n\u001b[32m    569\u001b[39m \u001b[43m    \u001b[49m\u001b[43mmip_gap\u001b[49m\u001b[43m=\u001b[49m\u001b[38;5;28;43mself\u001b[39;49m\u001b[43m.\u001b[49m\u001b[43mmip_gap\u001b[49m\u001b[43m,\u001b[49m\n\u001b[32m    570\u001b[39m \u001b[43m    \u001b[49m\u001b[43moptions\u001b[49m\u001b[43m=\u001b[49m\u001b[38;5;28;43mself\u001b[39;49m\u001b[43m.\u001b[49m\u001b[43msolver_options\u001b[49m\u001b[43m,\u001b[49m\n\u001b[32m    571\u001b[39m \u001b[43m    \u001b[49m\u001b[43mverbose\u001b[49m\u001b[43m=\u001b[49m\u001b[43mverbose\u001b[49m\u001b[43m,\u001b[49m\n\u001b[32m    572\u001b[39m \u001b[43m\u001b[49m\u001b[43m)\u001b[49m\n\u001b[32m    574\u001b[39m S, G = solver.get_solution()\n\u001b[32m    576\u001b[39m assign_cables(G, cables)\n",
      "\u001b[36mFile \u001b[39m\u001b[32mC:\\code\\OptiWindNet\\optiwindnet\\MILP\\gurobi.py:58\u001b[39m, in \u001b[36mSolverGurobi.solve\u001b[39m\u001b[34m(self, time_limit, mip_gap, options, verbose)\u001b[39m\n\u001b[32m     56\u001b[39m \u001b[38;5;28mself\u001b[39m.solver = solver\n\u001b[32m     57\u001b[39m info(\u001b[33m'\u001b[39m\u001b[33m>>> \u001b[39m\u001b[38;5;132;01m%s\u001b[39;00m\u001b[33m solver options <<<\u001b[39m\u001b[38;5;130;01m\\n\u001b[39;00m\u001b[38;5;132;01m%s\u001b[39;00m\u001b[38;5;130;01m\\n\u001b[39;00m\u001b[33m'\u001b[39m, \u001b[38;5;28mself\u001b[39m.name, solver.options)\n\u001b[32m---> \u001b[39m\u001b[32m58\u001b[39m result = \u001b[43msolver\u001b[49m\u001b[43m.\u001b[49m\u001b[43msolve\u001b[49m\u001b[43m(\u001b[49m\u001b[43mmodel\u001b[49m\u001b[43m,\u001b[49m\u001b[43m \u001b[49m\u001b[43m*\u001b[49m\u001b[43m*\u001b[49m\u001b[38;5;28;43mself\u001b[39;49m\u001b[43m.\u001b[49m\u001b[43msolve_kwargs\u001b[49m\u001b[43m,\u001b[49m\u001b[43m \u001b[49m\u001b[43mtee\u001b[49m\u001b[43m=\u001b[49m\u001b[43mverbose\u001b[49m\u001b[43m)\u001b[49m\n\u001b[32m     59\u001b[39m \u001b[38;5;28mself\u001b[39m.result = result\n\u001b[32m     60\u001b[39m objective = result[\u001b[33m'\u001b[39m\u001b[33mProblem\u001b[39m\u001b[33m'\u001b[39m][\u001b[32m0\u001b[39m][\u001b[33m'\u001b[39m\u001b[33mUpper bound\u001b[39m\u001b[33m'\u001b[39m]\n",
      "\u001b[36mFile \u001b[39m\u001b[32mc:\\Users\\amia\\AppData\\Local\\miniconda3\\envs\\OptiWindNet\\Lib\\site-packages\\pyomo\\solvers\\plugins\\solvers\\direct_solver.py:142\u001b[39m, in \u001b[36mDirectSolver.solve\u001b[39m\u001b[34m(self, *args, **kwds)\u001b[39m\n\u001b[32m    139\u001b[39m \u001b[38;5;28;01mif\u001b[39;00m \u001b[38;5;129;01mnot\u001b[39;00m _model \u001b[38;5;129;01mis\u001b[39;00m \u001b[38;5;28;01mNone\u001b[39;00m:\n\u001b[32m    140\u001b[39m     \u001b[38;5;28mself\u001b[39m._initialize_callbacks(_model)\n\u001b[32m--> \u001b[39m\u001b[32m142\u001b[39m _status = \u001b[38;5;28;43mself\u001b[39;49m\u001b[43m.\u001b[49m\u001b[43m_apply_solver\u001b[49m\u001b[43m(\u001b[49m\u001b[43m)\u001b[49m\n\u001b[32m    143\u001b[39m \u001b[38;5;28;01mif\u001b[39;00m \u001b[38;5;28mhasattr\u001b[39m(\u001b[38;5;28mself\u001b[39m, \u001b[33m'\u001b[39m\u001b[33m_transformation_data\u001b[39m\u001b[33m'\u001b[39m):\n\u001b[32m    144\u001b[39m     \u001b[38;5;28;01mdel\u001b[39;00m \u001b[38;5;28mself\u001b[39m._transformation_data\n",
      "\u001b[36mFile \u001b[39m\u001b[32mc:\\Users\\amia\\AppData\\Local\\miniconda3\\envs\\OptiWindNet\\Lib\\site-packages\\pyomo\\solvers\\plugins\\solvers\\gurobi_direct.py:268\u001b[39m, in \u001b[36mGurobiDirect._apply_solver\u001b[39m\u001b[34m(self)\u001b[39m\n\u001b[32m    265\u001b[39m         \u001b[38;5;28;01mif\u001b[39;00m re.match(suffix, \u001b[33m\"\u001b[39m\u001b[33mdual\u001b[39m\u001b[33m\"\u001b[39m):\n\u001b[32m    266\u001b[39m             \u001b[38;5;28mself\u001b[39m._solver_model.setParam(gurobipy.GRB.Param.QCPDual, \u001b[32m1\u001b[39m)\n\u001b[32m--> \u001b[39m\u001b[32m268\u001b[39m \u001b[38;5;28;43mself\u001b[39;49m\u001b[43m.\u001b[49m\u001b[43m_solver_model\u001b[49m\u001b[43m.\u001b[49m\u001b[43moptimize\u001b[49m\u001b[43m(\u001b[49m\u001b[38;5;28;43mself\u001b[39;49m\u001b[43m.\u001b[49m\u001b[43m_callback\u001b[49m\u001b[43m)\u001b[49m\n\u001b[32m    269\u001b[39m \u001b[38;5;28mself\u001b[39m._needs_updated = \u001b[38;5;28;01mFalse\u001b[39;00m\n\u001b[32m    271\u001b[39m \u001b[38;5;28;01mif\u001b[39;00m \u001b[38;5;28mself\u001b[39m._keepfiles:\n\u001b[32m    272\u001b[39m     \u001b[38;5;66;03m# Change LogFile to make Gurobi close the original log file.\u001b[39;00m\n\u001b[32m    273\u001b[39m     \u001b[38;5;66;03m# May not work for all Gurobi versions, like ver. 9.5.0.\u001b[39;00m\n",
      "\u001b[36mFile \u001b[39m\u001b[32msrc\\\\gurobipy\\\\_model.pyx:903\u001b[39m, in \u001b[36mgurobipy._model.Model.optimize\u001b[39m\u001b[34m()\u001b[39m\n",
      "\u001b[31mGurobiError\u001b[39m: Model too large for size-limited license; visit https://gurobi.com/unrestricted for more information"
     ]
    }
   ],
   "source": [
    "solver_options=dict(\n",
    "    num_workers = 8,\n",
    ")\n",
    "\n",
    "router_milp = MILP(solver_name='gurobi', time_limit=15, mip_gap=0.01, verbose=True)\n",
    "res = wfn.optimize(router=router_milp)"
   ]
  },
  {
   "cell_type": "code",
   "execution_count": null,
   "id": "e38dd5b4",
   "metadata": {},
   "outputs": [
    {
     "data": {
      "text/plain": [
       "SolutionInfo(runtime=15.104260000000002, bound=141351.27776184087, objective=146120.97659967092, relgap=0.032642122635804904, termination='FEASIBLE')"
      ]
     },
     "metadata": {},
     "output_type": "display_data"
    }
   ],
   "source": [
    "wfn.G.SolutionInfo"
   ]
  },
  {
   "cell_type": "code",
   "execution_count": null,
   "id": "cf9b4ad5",
   "metadata": {},
   "outputs": [],
   "source": [
    "wfn.plot()"
   ]
  }
 ],
 "metadata": {
  "kernelspec": {
   "display_name": "OptiWindNet",
   "language": "python",
   "name": "python3"
  },
  "language_info": {
   "codemirror_mode": {
    "name": "ipython",
    "version": 3
   },
   "file_extension": ".py",
   "mimetype": "text/x-python",
   "name": "python",
   "nbconvert_exporter": "python",
   "pygments_lexer": "ipython3",
   "version": "3.12.9"
  }
 },
 "nbformat": 4,
 "nbformat_minor": 5
}
