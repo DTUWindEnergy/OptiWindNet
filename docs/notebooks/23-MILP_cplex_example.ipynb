{
 "cells": [
  {
   "cell_type": "markdown",
   "id": "5956c285-030d-4377-8f7b-936b05e62e33",
   "metadata": {},
   "source": [
    "## CPLEX example"
   ]
  },
  {
   "cell_type": "code",
   "execution_count": 1,
   "id": "23c1c992-a563-4f2d-bbc8-cf0884e5b275",
   "metadata": {},
   "outputs": [],
   "source": [
    "from optiwindnet.importer import load_repository\n",
    "from optiwindnet.svg import svgplot\n",
    "from optiwindnet.mesh import make_planar_embedding\n",
    "from optiwindnet.interarraylib import G_from_S\n",
    "from optiwindnet.heuristics import EW_presolver\n",
    "from optiwindnet.MILP import solver_factory, ModelOptions"
   ]
  },
  {
   "cell_type": "markdown",
   "id": "eb29279f-9923-4047-889c-579ea970e51f",
   "metadata": {},
   "source": [
    "### Initialize Race Bank 2"
   ]
  },
  {
   "cell_type": "code",
   "execution_count": 2,
   "id": "29a6b5d1-a05f-4112-bf66-462b4d36b516",
   "metadata": {},
   "outputs": [],
   "source": [
    "locations = load_repository()"
   ]
  },
  {
   "cell_type": "code",
   "execution_count": 3,
   "id": "666ca26c-b3cf-4000-a44e-cab38866018d",
   "metadata": {},
   "outputs": [],
   "source": [
    "L = locations.race\n",
    "capacity = 5"
   ]
  },
  {
   "cell_type": "code",
   "execution_count": 4,
   "id": "a23b577c-d334-405e-b70a-9b3717eefa2b",
   "metadata": {},
   "outputs": [
    {
     "data": {
      "image/svg+xml": [
       "<svg xmlns=\"http://www.w3.org/2000/svg\" viewBox=\"0 0 1920 935\"><defs><circle stroke=\"none\" stroke-width=\"2\" id=\"wtg\" r=\"12\"/><rect stroke=\"#111\" stroke-width=\"2\" id=\"oss\" width=\"21\" height=\"21\" fill=\"lawngreen\"/></defs><g id=\"race\"><path stroke=\"silver\" stroke-dasharray=\"15 7\" stroke-width=\"2\" id=\"border\" d=\"M30 352 285 45 839 331 1668 30 1890 640 1167 905 968 719 877 701 718 719 642 804 492 718 432 740z\" fill-rule=\"evenodd\" fill=\"#111\"/><g id=\"WTGgrp\"><g fill=\"#9edae5\"><use href=\"#wtg\" x=\"67\" y=\"335\"/><use href=\"#wtg\" x=\"126\" y=\"422\"/><use href=\"#wtg\" x=\"201\" y=\"489\"/><use href=\"#wtg\" x=\"274\" y=\"564\"/><use href=\"#wtg\" x=\"355\" y=\"643\"/><use href=\"#wtg\" x=\"430\" y=\"715\"/><use href=\"#wtg\" x=\"131\" y=\"252\"/><use href=\"#wtg\" x=\"182\" y=\"346\"/><use href=\"#wtg\" x=\"336\" y=\"500\"/><use href=\"#wtg\" x=\"419\" y=\"559\"/><use href=\"#wtg\" x=\"487\" y=\"636\"/><use href=\"#wtg\" x=\"542\" y=\"727\"/><use href=\"#wtg\" x=\"635\" y=\"781\"/><use href=\"#wtg\" x=\"210\" y=\"157\"/><use href=\"#wtg\" x=\"234\" y=\"257\"/><use href=\"#wtg\" x=\"344\" y=\"309\"/><use href=\"#wtg\" x=\"418\" y=\"402\"/><use href=\"#wtg\" x=\"486\" y=\"484\"/><use href=\"#wtg\" x=\"566\" y=\"562\"/><use href=\"#wtg\" x=\"631\" y=\"641\"/><use href=\"#wtg\" x=\"710\" y=\"704\"/><use href=\"#wtg\" x=\"290\" y=\"67\"/><use href=\"#wtg\" x=\"316\" y=\"173\"/><use href=\"#wtg\" x=\"417\" y=\"131\"/><use href=\"#wtg\" x=\"437\" y=\"239\"/><use href=\"#wtg\" x=\"524\" y=\"330\"/><use href=\"#wtg\" x=\"603\" y=\"410\"/><use href=\"#wtg\" x=\"751\" y=\"599\"/><use href=\"#wtg\" x=\"810\" y=\"690\"/><use href=\"#wtg\" x=\"539\" y=\"197\"/><use href=\"#wtg\" x=\"640\" y=\"280\"/><use href=\"#wtg\" x=\"722\" y=\"421\"/><use href=\"#wtg\" x=\"800\" y=\"499\"/><use href=\"#wtg\" x=\"873\" y=\"593\"/><use href=\"#wtg\" x=\"920\" y=\"693\"/><use href=\"#wtg\" x=\"1016\" y=\"722\"/><use href=\"#wtg\" x=\"1080\" y=\"800\"/><use href=\"#wtg\" x=\"1164\" y=\"880\"/><use href=\"#wtg\" x=\"746\" y=\"299\"/><use href=\"#wtg\" x=\"898\" y=\"469\"/><use href=\"#wtg\" x=\"978\" y=\"533\"/><use href=\"#wtg\" x=\"1055\" y=\"600\"/><use href=\"#wtg\" x=\"1145\" y=\"678\"/><use href=\"#wtg\" x=\"1181\" y=\"775\"/><use href=\"#wtg\" x=\"1264\" y=\"853\"/><use href=\"#wtg\" x=\"903\" y=\"330\"/><use href=\"#wtg\" x=\"992\" y=\"406\"/><use href=\"#wtg\" x=\"1079\" y=\"487\"/><use href=\"#wtg\" x=\"1163\" y=\"566\"/><use href=\"#wtg\" x=\"1256\" y=\"652\"/><use href=\"#wtg\" x=\"1313\" y=\"745\"/><use href=\"#wtg\" x=\"1403\" y=\"802\"/><use href=\"#wtg\" x=\"1011\" y=\"292\"/><use href=\"#wtg\" x=\"1090\" y=\"363\"/><use href=\"#wtg\" x=\"1187\" y=\"450\"/><use href=\"#wtg\" x=\"1263\" y=\"551\"/><use href=\"#wtg\" x=\"1356\" y=\"622\"/><use href=\"#wtg\" x=\"1437\" y=\"694\"/><use href=\"#wtg\" x=\"1514\" y=\"764\"/><use href=\"#wtg\" x=\"1120\" y=\"256\"/><use href=\"#wtg\" x=\"1194\" y=\"335\"/><use href=\"#wtg\" x=\"1289\" y=\"403\"/><use href=\"#wtg\" x=\"1456\" y=\"588\"/><use href=\"#wtg\" x=\"1547\" y=\"664\"/><use href=\"#wtg\" x=\"1633\" y=\"719\"/><use href=\"#wtg\" x=\"1209\" y=\"211\"/><use href=\"#wtg\" x=\"1294\" y=\"300\"/><use href=\"#wtg\" x=\"1392\" y=\"372\"/><use href=\"#wtg\" x=\"1475\" y=\"434\"/><use href=\"#wtg\" x=\"1550\" y=\"543\"/><use href=\"#wtg\" x=\"1639\" y=\"617\"/><use href=\"#wtg\" x=\"1730\" y=\"683\"/><use href=\"#wtg\" x=\"1309\" y=\"175\"/><use href=\"#wtg\" x=\"1386\" y=\"256\"/><use href=\"#wtg\" x=\"1533\" y=\"343\"/><use href=\"#wtg\" x=\"1576\" y=\"437\"/><use href=\"#wtg\" x=\"1670\" y=\"494\"/><use href=\"#wtg\" x=\"1732\" y=\"572\"/><use href=\"#wtg\" x=\"1836\" y=\"646\"/><use href=\"#wtg\" x=\"1431\" y=\"139\"/><use href=\"#wtg\" x=\"1485\" y=\"235\"/><use href=\"#wtg\" x=\"1638\" y=\"291\"/><use href=\"#wtg\" x=\"1668\" y=\"394\"/><use href=\"#wtg\" x=\"1801\" y=\"446\"/><use href=\"#wtg\" x=\"1840\" y=\"542\"/><use href=\"#wtg\" x=\"1582\" y=\"196\"/><use href=\"#wtg\" x=\"1767\" y=\"345\"/><use href=\"#wtg\" x=\"1542\" y=\"92\"/><use href=\"#wtg\" x=\"1729\" y=\"235\"/><use href=\"#wtg\" x=\"1690\" y=\"143\"/><use href=\"#wtg\" x=\"1661\" y=\"47\"/></g></g><g id=\"OSSgrp\"><use href=\"#oss\" x=\"628.5\" y=\"479.5\"/><use href=\"#oss\" x=\"1362.5\" y=\"487.5\"/></g></g></svg>"
      ],
      "text/plain": [
       "<optiwindnet.svg.SvgRepr at 0x252c8c6ba10>"
      ]
     },
     "execution_count": 4,
     "metadata": {},
     "output_type": "execute_result"
    }
   ],
   "source": [
    "svgplot(L)"
   ]
  },
  {
   "cell_type": "markdown",
   "id": "967172f9-04cb-4efc-8ac2-ebb3433d5a69",
   "metadata": {},
   "source": [
    "### Optimize Race Bank 2"
   ]
  },
  {
   "cell_type": "code",
   "execution_count": 5,
   "id": "df05184d-7caa-4b34-810e-37c13a7a8092",
   "metadata": {},
   "outputs": [],
   "source": [
    "P, A = make_planar_embedding(L)"
   ]
  },
  {
   "cell_type": "markdown",
   "id": "4f9b49b1-a597-4053-a3d1-f3de7bb8d164",
   "metadata": {},
   "source": [
    "Initial heuristic solution to warm-start the solver:"
   ]
  },
  {
   "cell_type": "code",
   "execution_count": 6,
   "id": "19eb273d-f662-4851-bf09-e0ec532d7b8b",
   "metadata": {},
   "outputs": [
    {
     "data": {
      "image/svg+xml": [
       "<svg xmlns=\"http://www.w3.org/2000/svg\" viewBox=\"0 0 1920 935\"><defs><circle stroke=\"none\" stroke-width=\"2\" id=\"wtg\" r=\"12\"/><rect stroke=\"#111\" stroke-width=\"2\" id=\"oss\" width=\"21\" height=\"21\" fill=\"lawngreen\"/><filter x=\"-5%\" y=\"-5%\" id=\"bg_textbox\" width=\"110%\" height=\"110%\"><feFlood flood-opacity=\"0.6\" flood-color=\"black\" result=\"bg\"/><feMerge><feMergeNode in=\"bg\"/><feMergeNode in=\"SourceGraphic\"/></feMerge></filter></defs><g id=\"race\"><path stroke=\"silver\" stroke-dasharray=\"15 7\" stroke-width=\"2\" id=\"border\" d=\"M30 352 285 45 839 331 1668 30 1890 640 1167 905 968 719 877 701 718 719 642 804 492 718 432 740z\" fill-rule=\"evenodd\" fill=\"#111\"/><g stroke=\"crimson\" stroke-width=\"4\" id=\"edges_unspecified\"><line x1=\"1209\" y1=\"211\" x2=\"1309\" y2=\"175\"/><line x1=\"1386\" y1=\"256\" x2=\"1485\" y2=\"235\"/><line x1=\"992\" y1=\"406\" x2=\"1079\" y2=\"487\"/><line x1=\"1011\" y1=\"292\" x2=\"1090\" y2=\"363\"/><line x1=\"992\" y1=\"406\" x2=\"1090\" y2=\"363\"/><line x1=\"639\" y1=\"490\" x2=\"603\" y2=\"410\"/><line x1=\"524\" y1=\"330\" x2=\"603\" y2=\"410\"/><line x1=\"640\" y1=\"280\" x2=\"746\" y2=\"299\"/><line x1=\"1289\" y1=\"403\" x2=\"1392\" y2=\"372\"/><line x1=\"1475\" y1=\"434\" x2=\"1576\" y2=\"437\"/><line x1=\"1373\" y1=\"498\" x2=\"1475\" y2=\"434\"/><line x1=\"1145\" y1=\"678\" x2=\"1181\" y2=\"775\"/><line x1=\"1145\" y1=\"678\" x2=\"1256\" y2=\"652\"/><line x1=\"1163\" y1=\"566\" x2=\"1187\" y2=\"450\"/><line x1=\"1163\" y1=\"566\" x2=\"1263\" y2=\"551\"/><line x1=\"355\" y1=\"643\" x2=\"419\" y2=\"559\"/><line x1=\"336\" y1=\"500\" x2=\"419\" y2=\"559\"/><line x1=\"419\" y1=\"559\" x2=\"486\" y2=\"484\"/><line x1=\"920\" y1=\"693\" x2=\"1016\" y2=\"722\"/><line x1=\"1016\" y1=\"722\" x2=\"1080\" y2=\"800\"/><line x1=\"1533\" y1=\"343\" x2=\"1638\" y2=\"291\"/><line x1=\"1638\" y1=\"291\" x2=\"1729\" y2=\"235\"/><line x1=\"1582\" y1=\"196\" x2=\"1542\" y2=\"92\"/><line x1=\"1485\" y1=\"235\" x2=\"1582\" y2=\"196\"/><line x1=\"1729\" y1=\"235\" x2=\"1690\" y2=\"143\"/><line x1=\"1690\" y1=\"143\" x2=\"1661\" y2=\"47\"/><line x1=\"430\" y1=\"715\" x2=\"487\" y2=\"636\"/><line x1=\"487\" y1=\"636\" x2=\"566\" y2=\"562\"/><line x1=\"487\" y1=\"636\" x2=\"542\" y2=\"727\"/><line x1=\"210\" y1=\"157\" x2=\"234\" y2=\"257\"/><line x1=\"131\" y1=\"252\" x2=\"234\" y2=\"257\"/><line x1=\"290\" y1=\"67\" x2=\"316\" y2=\"173\"/><line x1=\"210\" y1=\"157\" x2=\"316\" y2=\"173\"/><line x1=\"978\" y1=\"533\" x2=\"1055\" y2=\"600\"/><line x1=\"898\" y1=\"469\" x2=\"978\" y2=\"533\"/><line x1=\"1187\" y1=\"450\" x2=\"1289\" y2=\"403\"/><line x1=\"722\" y1=\"421\" x2=\"746\" y2=\"299\"/><line x1=\"639\" y1=\"490\" x2=\"722\" y2=\"421\"/><line x1=\"639\" y1=\"490\" x2=\"486\" y2=\"484\"/><line x1=\"1373\" y1=\"498\" x2=\"1533\" y2=\"343\"/><line x1=\"1668\" y1=\"394\" x2=\"1767\" y2=\"345\"/><line x1=\"437\" y1=\"239\" x2=\"539\" y2=\"197\"/><line x1=\"1120\" y1=\"256\" x2=\"1209\" y2=\"211\"/><line x1=\"1120\" y1=\"256\" x2=\"1194\" y2=\"335\"/><line x1=\"1576\" y1=\"437\" x2=\"1670\" y2=\"494\"/><line x1=\"1373\" y1=\"498\" x2=\"1456\" y2=\"588\"/><line x1=\"1373\" y1=\"498\" x2=\"1263\" y2=\"551\"/><line x1=\"1373\" y1=\"498\" x2=\"1356\" y2=\"622\"/><line x1=\"1373\" y1=\"498\" x2=\"1256\" y2=\"652\"/><line x1=\"1456\" y1=\"588\" x2=\"1550\" y2=\"543\"/><line x1=\"1456\" y1=\"588\" x2=\"1547\" y2=\"664\"/><line x1=\"800\" y1=\"499\" x2=\"898\" y2=\"469\"/><line x1=\"639\" y1=\"490\" x2=\"800\" y2=\"499\"/><line x1=\"639\" y1=\"490\" x2=\"566\" y2=\"562\"/><line x1=\"631\" y1=\"641\" x2=\"710\" y2=\"704\"/><line x1=\"639\" y1=\"490\" x2=\"631\" y2=\"641\"/><line x1=\"1633\" y1=\"719\" x2=\"1730\" y2=\"683\"/><line x1=\"1547\" y1=\"664\" x2=\"1633\" y2=\"719\"/><line x1=\"1801\" y1=\"446\" x2=\"1767\" y2=\"345\"/><line x1=\"344\" y1=\"309\" x2=\"418\" y2=\"402\"/><line x1=\"344\" y1=\"309\" x2=\"437\" y2=\"239\"/><line x1=\"635\" y1=\"781\" x2=\"710\" y2=\"704\"/><line x1=\"1670\" y1=\"494\" x2=\"1732\" y2=\"572\"/><line x1=\"1639\" y1=\"617\" x2=\"1732\" y2=\"572\"/><line x1=\"1801\" y1=\"446\" x2=\"1840\" y2=\"542\"/><line x1=\"67\" y1=\"335\" x2=\"126\" y2=\"422\"/><line x1=\"126\" y1=\"422\" x2=\"182\" y2=\"346\"/><line x1=\"903\" y1=\"330\" x2=\"1011\" y2=\"292\"/><line x1=\"417\" y1=\"131\" x2=\"437\" y2=\"239\"/><line x1=\"873\" y1=\"593\" x2=\"920\" y2=\"693\"/><line x1=\"751\" y1=\"599\" x2=\"873\" y2=\"593\"/><line x1=\"639\" y1=\"490\" x2=\"751\" y2=\"599\"/><line x1=\"1164\" y1=\"880\" x2=\"1181\" y2=\"775\"/><line x1=\"1313\" y1=\"745\" x2=\"1403\" y2=\"802\"/><line x1=\"1356\" y1=\"622\" x2=\"1437\" y2=\"694\"/><line x1=\"201\" y1=\"489\" x2=\"274\" y2=\"564\"/><line x1=\"1403\" y1=\"802\" x2=\"1437\" y2=\"694\"/><line x1=\"1437\" y1=\"694\" x2=\"1514\" y2=\"764\"/><line x1=\"710\" y1=\"704\" x2=\"810\" y2=\"690\"/><line x1=\"1194\" y1=\"335\" x2=\"1294\" y2=\"300\"/><line x1=\"1431\" y1=\"139\" x2=\"1485\" y2=\"235\"/><line x1=\"1164\" y1=\"880\" x2=\"1264\" y2=\"853\"/><line x1=\"1836\" y1=\"646\" x2=\"1840\" y2=\"542\"/><line x1=\"126\" y1=\"422\" x2=\"201\" y2=\"489\"/></g><g stroke=\"red\" stroke-dasharray=\"18 15\" stroke-width=\"4\" id=\"edges_tentative\"><line x1=\"1373\" y1=\"498\" x2=\"1386\" y2=\"256\"/><line x1=\"1373\" y1=\"498\" x2=\"1079\" y2=\"487\"/><line x1=\"639\" y1=\"490\" x2=\"316\" y2=\"173\"/><line x1=\"1373\" y1=\"498\" x2=\"1668\" y2=\"394\"/><line x1=\"1373\" y1=\"498\" x2=\"1294\" y2=\"300\"/><line x1=\"639\" y1=\"490\" x2=\"418\" y2=\"402\"/><line x1=\"639\" y1=\"490\" x2=\"274\" y2=\"564\"/></g><g id=\"WTGgrp\"><g fill=\"#9edae5\"><use href=\"#wtg\" x=\"1309\" y=\"175\"/><use href=\"#wtg\" x=\"1120\" y=\"256\"/><use href=\"#wtg\" x=\"1209\" y=\"211\"/><use href=\"#wtg\" x=\"1294\" y=\"300\"/><use href=\"#wtg\" x=\"1194\" y=\"335\"/></g><g fill=\"#8c564b\"><use href=\"#wtg\" x=\"1386\" y=\"256\"/><use href=\"#wtg\" x=\"1582\" y=\"196\"/><use href=\"#wtg\" x=\"1542\" y=\"92\"/><use href=\"#wtg\" x=\"1431\" y=\"139\"/><use href=\"#wtg\" x=\"1485\" y=\"235\"/></g><g fill=\"#c49c94\"><use href=\"#wtg\" x=\"1079\" y=\"487\"/><use href=\"#wtg\" x=\"1090\" y=\"363\"/><use href=\"#wtg\" x=\"1011\" y=\"292\"/><use href=\"#wtg\" x=\"992\" y=\"406\"/><use href=\"#wtg\" x=\"903\" y=\"330\"/></g><g fill=\"#1f77b4\"><use href=\"#wtg\" x=\"603\" y=\"410\"/><use href=\"#wtg\" x=\"524\" y=\"330\"/></g><g fill=\"#ff7f0e\"><use href=\"#wtg\" x=\"640\" y=\"280\"/><use href=\"#wtg\" x=\"722\" y=\"421\"/><use href=\"#wtg\" x=\"746\" y=\"299\"/></g><g fill=\"#dbdb8d\"><use href=\"#wtg\" x=\"1392\" y=\"372\"/><use href=\"#wtg\" x=\"1163\" y=\"566\"/><use href=\"#wtg\" x=\"1187\" y=\"450\"/><use href=\"#wtg\" x=\"1263\" y=\"551\"/><use href=\"#wtg\" x=\"1289\" y=\"403\"/></g><g fill=\"#e377c2\"><use href=\"#wtg\" x=\"1475\" y=\"434\"/><use href=\"#wtg\" x=\"1576\" y=\"437\"/><use href=\"#wtg\" x=\"1732\" y=\"572\"/><use href=\"#wtg\" x=\"1639\" y=\"617\"/><use href=\"#wtg\" x=\"1670\" y=\"494\"/></g><g fill=\"#bcbd22\"><use href=\"#wtg\" x=\"1145\" y=\"678\"/><use href=\"#wtg\" x=\"1256\" y=\"652\"/><use href=\"#wtg\" x=\"1181\" y=\"775\"/><use href=\"#wtg\" x=\"1264\" y=\"853\"/><use href=\"#wtg\" x=\"1164\" y=\"880\"/></g><g fill=\"#ffbb78\"><use href=\"#wtg\" x=\"355\" y=\"643\"/><use href=\"#wtg\" x=\"419\" y=\"559\"/><use href=\"#wtg\" x=\"336\" y=\"500\"/><use href=\"#wtg\" x=\"486\" y=\"484\"/></g><g fill=\"#c5b0d5\"><use href=\"#wtg\" x=\"1016\" y=\"722\"/><use href=\"#wtg\" x=\"1080\" y=\"800\"/><use href=\"#wtg\" x=\"873\" y=\"593\"/><use href=\"#wtg\" x=\"751\" y=\"599\"/><use href=\"#wtg\" x=\"920\" y=\"693\"/></g><g fill=\"#f7b6d2\"><use href=\"#wtg\" x=\"1638\" y=\"291\"/><use href=\"#wtg\" x=\"1690\" y=\"143\"/><use href=\"#wtg\" x=\"1533\" y=\"343\"/><use href=\"#wtg\" x=\"1729\" y=\"235\"/><use href=\"#wtg\" x=\"1661\" y=\"47\"/></g><g fill=\"#98df8a\"><use href=\"#wtg\" x=\"430\" y=\"715\"/><use href=\"#wtg\" x=\"487\" y=\"636\"/><use href=\"#wtg\" x=\"566\" y=\"562\"/><use href=\"#wtg\" x=\"542\" y=\"727\"/></g><g fill=\"#aec7e8\"><use href=\"#wtg\" x=\"234\" y=\"257\"/><use href=\"#wtg\" x=\"316\" y=\"173\"/><use href=\"#wtg\" x=\"131\" y=\"252\"/><use href=\"#wtg\" x=\"210\" y=\"157\"/><use href=\"#wtg\" x=\"290\" y=\"67\"/></g><g fill=\"#2ca02c\"><use href=\"#wtg\" x=\"978\" y=\"533\"/><use href=\"#wtg\" x=\"1055\" y=\"600\"/><use href=\"#wtg\" x=\"800\" y=\"499\"/><use href=\"#wtg\" x=\"898\" y=\"469\"/></g><g fill=\"#7f7f7f\"><use href=\"#wtg\" x=\"1668\" y=\"394\"/><use href=\"#wtg\" x=\"1767\" y=\"345\"/><use href=\"#wtg\" x=\"1801\" y=\"446\"/><use href=\"#wtg\" x=\"1836\" y=\"646\"/><use href=\"#wtg\" x=\"1840\" y=\"542\"/></g><g fill=\"#ff9896\"><use href=\"#wtg\" x=\"539\" y=\"197\"/><use href=\"#wtg\" x=\"344\" y=\"309\"/><use href=\"#wtg\" x=\"418\" y=\"402\"/><use href=\"#wtg\" x=\"437\" y=\"239\"/><use href=\"#wtg\" x=\"417\" y=\"131\"/></g><g fill=\"#c7c7c7\"><use href=\"#wtg\" x=\"1456\" y=\"588\"/><use href=\"#wtg\" x=\"1633\" y=\"719\"/><use href=\"#wtg\" x=\"1730\" y=\"683\"/><use href=\"#wtg\" x=\"1550\" y=\"543\"/><use href=\"#wtg\" x=\"1547\" y=\"664\"/></g><g fill=\"#d62728\"><use href=\"#wtg\" x=\"631\" y=\"641\"/><use href=\"#wtg\" x=\"635\" y=\"781\"/><use href=\"#wtg\" x=\"710\" y=\"704\"/><use href=\"#wtg\" x=\"810\" y=\"690\"/></g><g fill=\"#9467bd\"><use href=\"#wtg\" x=\"67\" y=\"335\"/><use href=\"#wtg\" x=\"182\" y=\"346\"/><use href=\"#wtg\" x=\"274\" y=\"564\"/><use href=\"#wtg\" x=\"126\" y=\"422\"/><use href=\"#wtg\" x=\"201\" y=\"489\"/></g><g fill=\"#17becf\"><use href=\"#wtg\" x=\"1313\" y=\"745\"/><use href=\"#wtg\" x=\"1356\" y=\"622\"/><use href=\"#wtg\" x=\"1403\" y=\"802\"/><use href=\"#wtg\" x=\"1437\" y=\"694\"/><use href=\"#wtg\" x=\"1514\" y=\"764\"/></g></g><g id=\"OSSgrp\"><use href=\"#oss\" x=\"628.5\" y=\"479.5\"/><use href=\"#oss\" x=\"1362.5\" y=\"487.5\"/></g></g><text filter=\"url(#bg_textbox)\" text-anchor=\"end\" font-family=\"sans-serif\" font-size=\"40\" fill=\"white\" x=\"1890\" y=\"905\"><tspan x=\"1890\" dy=\"-0.0em\">&#931;&#955; = 93275.0 m</tspan><tspan x=\"1890\" dy=\"-1.3em\">(+1) &#945;: 10, &#946;: 10</tspan><tspan x=\"1890\" dy=\"-1.3em\">&#954; = 5, T = 91</tspan></text></svg>"
      ],
      "text/plain": [
       "<optiwindnet.svg.SvgRepr at 0x252cb1aeba0>"
      ]
     },
     "execution_count": 6,
     "metadata": {},
     "output_type": "execute_result"
    }
   ],
   "source": [
    "Sʹ = EW_presolver(A, capacity=capacity)\n",
    "Gʹ = G_from_S(Sʹ, A)\n",
    "svgplot(Gʹ)"
   ]
  },
  {
   "cell_type": "code",
   "execution_count": 7,
   "id": "5b56d961-a8e3-4d00-bd77-3065c875f39f",
   "metadata": {},
   "outputs": [],
   "source": [
    "solver = solver_factory('cplex')"
   ]
  },
  {
   "cell_type": "code",
   "execution_count": 8,
   "id": "f3fbd3d9-b7c0-45cb-9219-16efc3691fc5",
   "metadata": {},
   "outputs": [],
   "source": [
    "solver.set_problem(\n",
    "    P, A,\n",
    "    capacity=Sʹ.graph['capacity'],\n",
    "    model_options=ModelOptions(\n",
    "        topology=\"branched\",\n",
    "        feeder_route=\"segmented\",\n",
    "        feeder_limit=\"unlimited\",\n",
    "    ),\n",
    "    warmstart=Sʹ,\n",
    ")"
   ]
  },
  {
   "cell_type": "code",
   "execution_count": 9,
   "id": "7b0ee0ba-361d-4528-bb32-5da5fee263b9",
   "metadata": {
    "scrolled": true
   },
   "outputs": [
    {
     "name": "stdout",
     "output_type": "stream",
     "text": [
      "Version identifier: 22.1.2.0 | 2024-11-25 | 0edbb82fd\n",
      "CPXPARAM_Read_DataCheck                          1\n",
      "CPXPARAM_Parallel                                -1\n",
      "CPXPARAM_Emphasis_MIP                            4\n",
      "CPXPARAM_TimeLimit                               20\n",
      "CPXPARAM_MIP_Tolerances_MIPGap                   0.002\n",
      "1 of 1 MIP starts provided solutions.\n",
      "MIP start 'm1' defined initial solution with objective 93274.5215.\n",
      "Tried aggregator 1 time.\n",
      "MIP Presolve eliminated 368 rows and 0 columns.\n",
      "MIP Presolve modified 1040 coefficients.\n",
      "Reduced MIP has 2740 rows, 2080 columns, and 9890 nonzeros.\n",
      "Reduced MIP has 1040 binaries, 1040 generals, 0 SOSs, and 0 indicators.\n",
      "Presolve time = 0.00 sec. (7.87 ticks)\n",
      "Probing time = 0.01 sec. (2.90 ticks)\n",
      "Tried aggregator 1 time.\n",
      "Detecting symmetries...\n",
      "Reduced MIP has 2740 rows, 2080 columns, and 9890 nonzeros.\n",
      "Reduced MIP has 1040 binaries, 1040 generals, 0 SOSs, and 0 indicators.\n",
      "Presolve time = 0.00 sec. (6.22 ticks)\n",
      "Probing time = 0.02 sec. (2.83 ticks)\n",
      "Clique table members: 476.\n",
      "MIP emphasis: hidden feasible solutions.\n",
      "MIP search method: dynamic search.\n",
      "Parallel mode: opportunistic, using up to 16 threads.\n",
      "Root relaxation solution time = 0.03 sec. (36.66 ticks)\n",
      "\n",
      "        Nodes                                         Cuts/\n",
      "   Node  Left     Objective  IInf  Best Integer    Best Bound    ItCnt     Gap\n",
      "\n",
      "*     0+    0                        93274.5215        0.0000           100.00%\n",
      "      0     0    85779.2773   106    93274.5215    85779.2773     1392    8.04%\n",
      "*     0+    0                        91529.1336    85779.2773             6.28%\n",
      "      0     0    86296.5926   291    91529.1336     Cuts: 112     1615    5.72%\n",
      "      0     0    86449.7008   233    91529.1336     Cuts: 113     1773    5.55%\n",
      "*     0+    0                        90212.0836    86449.7008             4.17%\n",
      "      0     0    86530.8140   310    90212.0836      Cuts: 44     1854    4.08%\n",
      "      0     0    86591.5711   260    90212.0836      Cuts: 45     1935    4.01%\n",
      "      0     0    86613.4710   293    90212.0836      Cuts: 25     2000    3.99%\n",
      "Detecting symmetries...\n",
      "      0     0    86630.5237   312    90212.0836      Cuts: 27     2054    3.97%\n",
      "*     0+    0                        89811.3539    86630.5237             3.54%\n",
      "      0     0    86656.5904   314    89811.3539      Cuts: 26     2131    3.51%\n",
      "      0     0    86668.0809   308    89811.3539      Cuts: 23     2187    3.50%\n",
      "*     0+    0                        88489.5866    86668.0809             2.06%\n",
      "      0     0  -1.00000e+75     0    88489.5866    86668.0809     2187    2.06%\n",
      "      0     0    86688.9715   323    88489.5866      Cuts: 29     2250    2.03%\n",
      "      0     0    86728.0362   292    88489.5866      Cuts: 13     2310    1.99%\n",
      "      0     0    86743.6061   316    88489.5866      Cuts: 25     2380    1.97%\n",
      "      0     0    86755.7227   324    88489.5866      Cuts: 31     2446    1.96%\n",
      "      0     0    86758.6886   318    88489.5866      Cuts: 21     2468    1.96%\n",
      "      0     0    86761.2511   312    88489.5866      Cuts: 19     2495    1.95%\n",
      "*     0+    0                        88420.3525    86761.2511             1.88%\n",
      "*     0+    0                        88331.6140    86761.2511             1.78%\n",
      "      0     0  -1.00000e+75     0    88331.6140    86761.2511     2495    1.78%\n",
      "Detecting symmetries...\n",
      "      0     2    86761.2511   312    88331.6140    86761.2511     2495    1.78%\n",
      "Elapsed time = 2.92 sec. (1626.09 ticks, tree = 0.02 MB, solutions = 7)\n",
      "    219   169    86992.6114   291    88331.6140    86797.0783    28596    1.74%\n",
      "    552   393    87304.9614   263    88331.6140    86797.0783    62224    1.74%\n",
      "    952   567    87938.1457   193    88331.6140    86895.1664    83205    1.63%\n",
      "*  1398+  807                        88167.0731    86946.6821             1.38%\n",
      "   1453   935    87450.9176   219    88167.0731    86946.6821   123491    1.38%\n",
      "*  1792+ 1113                        87993.7803    86958.9363             1.18%\n",
      "   1853  1135        cutoff          87993.7803    86958.9363   155644    1.18%\n",
      "   2219  1129    87094.4152   312    87993.7803    87006.4361   182773    1.12%\n",
      "   2709  1512    87584.8536   287    87993.7803    87067.9193   238180    1.05%\n",
      "   3129  1670    87323.2703   249    87993.7803    87082.0990   255155    1.04%\n",
      "   3508  1970    87973.1209   233    87993.7803    87082.0990   288727    1.04%\n",
      "*  4582+ 2467                        87938.3833    87144.1873             0.90%\n",
      "\n",
      "Performing restart 1\n",
      "\n",
      "Repeating presolve.\n",
      "Tried aggregator 2 times.\n",
      "MIP Presolve eliminated 381 rows and 350 columns.\n",
      "MIP Presolve modified 135 coefficients.\n",
      "Aggregator did 2 substitutions.\n",
      "Reduced MIP has 2357 rows, 1728 columns, and 8268 nonzeros.\n",
      "Reduced MIP has 868 binaries, 860 generals, 0 SOSs, and 0 indicators.\n",
      "Presolve time = 0.01 sec. (6.21 ticks)\n",
      "Tried aggregator 1 time.\n",
      "Reduced MIP has 2357 rows, 1728 columns, and 8268 nonzeros.\n",
      "Reduced MIP has 868 binaries, 860 generals, 0 SOSs, and 0 indicators.\n",
      "Presolve time = 0.00 sec. (5.54 ticks)\n",
      "Represolve time = 0.05 sec. (28.48 ticks)\n",
      "   4589     0    86847.0677   351    87938.3833     Cuts: 116   394059    0.88%\n",
      "   4589     0    86872.8665   342    87938.3833      Cuts: 65   394171    0.88%\n",
      "*  4589+    0                        87802.9883    87162.8768             0.73%\n",
      "   4589     0    86892.1240   363    87802.9883     Cuts: 100   394292    0.73%\n",
      "   4589     0    86908.8440   365    87802.9883      Cuts: 81   394425    0.73%\n",
      "   4589     0    86925.2403   374    87802.9883     Cuts: 105   394559    0.73%\n",
      "   4589     0    86935.4419   375    87802.9883      Cuts: 68   394680    0.73%\n",
      "   4589    16        cutoff          87802.9883    87222.3496   399510    0.66%\n",
      "Elapsed time = 11.91 sec. (6659.73 ticks, tree = 0.02 MB, solutions = 12)\n",
      "   4940    13    87517.9866   370    87802.9883    87233.7246   397451    0.65%\n",
      "   5074    28        cutoff          87802.9883    87233.7246   402592    0.65%\n",
      "\n",
      "GUB cover cuts applied:  6\n",
      "Cover cuts applied:  1\n",
      "Flow cuts applied:  44\n",
      "Mixed integer rounding cuts applied:  105\n",
      "Zero-half cuts applied:  47\n",
      "Lift and project cuts applied:  62\n",
      "Gomory fractional cuts applied:  5\n",
      "\n",
      "Root node processing (before b&c):\n",
      "  Real time             =    2.80 sec. (1624.64 ticks)\n",
      "Parallel b&c, 16 threads:\n",
      "  Real time             =   10.25 sec. (7660.06 ticks)\n",
      "  Sync time (average)   =    1.63 sec.\n",
      "  Wait time (average)   =    0.01 sec.\n",
      "                          ------------\n",
      "Total (root+branch&cut) =   13.05 sec. (9284.70 ticks)\n"
     ]
    },
    {
     "data": {
      "text/plain": [
       "SolutionInfo(runtime=13.05971646308899, bound=87628.45738695332, objective=87802.98827587758, relgap=0.001987755682937409, termination='optimal')"
      ]
     },
     "execution_count": 9,
     "metadata": {},
     "output_type": "execute_result"
    }
   ],
   "source": [
    "solver.solve(\n",
    "    mip_gap=0.002,\n",
    "    time_limit=20,\n",
    "    verbose=True,\n",
    ")"
   ]
  },
  {
   "cell_type": "code",
   "execution_count": 10,
   "id": "e036545f-9954-40d0-aec3-be4cff555471",
   "metadata": {},
   "outputs": [],
   "source": [
    "S, G = solver.get_solution()"
   ]
  },
  {
   "cell_type": "code",
   "execution_count": 11,
   "id": "9bd07f6e-e819-46ac-9def-33a9082ba339",
   "metadata": {},
   "outputs": [
    {
     "data": {
      "image/svg+xml": [
       "<svg xmlns=\"http://www.w3.org/2000/svg\" viewBox=\"0 0 1920 935\"><defs><circle stroke=\"none\" stroke-width=\"2\" id=\"wtg\" r=\"12\"/><rect stroke=\"#111\" stroke-width=\"2\" id=\"oss\" width=\"21\" height=\"21\" fill=\"lawngreen\"/><filter x=\"-5%\" y=\"-5%\" id=\"bg_textbox\" width=\"110%\" height=\"110%\"><feFlood flood-opacity=\"0.6\" flood-color=\"black\" result=\"bg\"/><feMerge><feMergeNode in=\"bg\"/><feMergeNode in=\"SourceGraphic\"/></feMerge></filter></defs><g id=\"race\"><path stroke=\"silver\" stroke-dasharray=\"15 7\" stroke-width=\"2\" id=\"border\" d=\"M30 352 285 45 839 331 1668 30 1890 640 1167 905 968 719 877 701 718 719 642 804 492 718 432 740z\" fill-rule=\"evenodd\" fill=\"#111\"/><g stroke=\"crimson\" stroke-width=\"4\" id=\"edges_unspecified\"><line x1=\"1209\" y1=\"211\" x2=\"1309\" y2=\"175\"/><line x1=\"1309\" y1=\"175\" x2=\"1431\" y2=\"139\"/><line x1=\"1392\" y1=\"372\" x2=\"1386\" y2=\"256\"/><line x1=\"1386\" y1=\"256\" x2=\"1485\" y2=\"235\"/><line x1=\"1079\" y1=\"487\" x2=\"1163\" y2=\"566\"/><line x1=\"992\" y1=\"406\" x2=\"1079\" y2=\"487\"/><line x1=\"1011\" y1=\"292\" x2=\"1090\" y2=\"363\"/><line x1=\"1090\" y1=\"363\" x2=\"1194\" y2=\"335\"/><line x1=\"639\" y1=\"490\" x2=\"603\" y2=\"410\"/><line x1=\"539\" y1=\"197\" x2=\"640\" y2=\"280\"/><line x1=\"640\" y1=\"280\" x2=\"746\" y2=\"299\"/><line x1=\"1373\" y1=\"498\" x2=\"1392\" y2=\"372\"/><line x1=\"1475\" y1=\"434\" x2=\"1576\" y2=\"437\"/><line x1=\"1373\" y1=\"498\" x2=\"1475\" y2=\"434\"/><line x1=\"1145\" y1=\"678\" x2=\"1181\" y2=\"775\"/><line x1=\"1145\" y1=\"678\" x2=\"1256\" y2=\"652\"/><line x1=\"1163\" y1=\"566\" x2=\"1263\" y2=\"551\"/><line x1=\"355\" y1=\"643\" x2=\"419\" y2=\"559\"/><line x1=\"274\" y1=\"564\" x2=\"355\" y2=\"643\"/><line x1=\"419\" y1=\"559\" x2=\"487\" y2=\"636\"/><line x1=\"920\" y1=\"693\" x2=\"1016\" y2=\"722\"/><line x1=\"1016\" y1=\"722\" x2=\"1080\" y2=\"800\"/><line x1=\"1533\" y1=\"343\" x2=\"1638\" y2=\"291\"/><line x1=\"1638\" y1=\"291\" x2=\"1729\" y2=\"235\"/><line x1=\"1485\" y1=\"235\" x2=\"1582\" y2=\"196\"/><line x1=\"1582\" y1=\"196\" x2=\"1542\" y2=\"92\"/><line x1=\"1690\" y1=\"143\" x2=\"1661\" y2=\"47\"/><line x1=\"1729\" y1=\"235\" x2=\"1690\" y2=\"143\"/><line x1=\"487\" y1=\"636\" x2=\"566\" y2=\"562\"/><line x1=\"201\" y1=\"489\" x2=\"336\" y2=\"500\"/><line x1=\"336\" y1=\"500\" x2=\"486\" y2=\"484\"/><line x1=\"234\" y1=\"257\" x2=\"344\" y2=\"309\"/><line x1=\"131\" y1=\"252\" x2=\"234\" y2=\"257\"/><line x1=\"290\" y1=\"67\" x2=\"316\" y2=\"173\"/><line x1=\"210\" y1=\"157\" x2=\"316\" y2=\"173\"/><line x1=\"316\" y1=\"173\" x2=\"437\" y2=\"239\"/><line x1=\"978\" y1=\"533\" x2=\"1055\" y2=\"600\"/><line x1=\"898\" y1=\"469\" x2=\"978\" y2=\"533\"/><line x1=\"1373\" y1=\"498\" x2=\"1187\" y2=\"450\"/><line x1=\"1187\" y1=\"450\" x2=\"1194\" y2=\"335\"/><line x1=\"639\" y1=\"490\" x2=\"722\" y2=\"421\"/><line x1=\"722\" y1=\"421\" x2=\"746\" y2=\"299\"/><line x1=\"639\" y1=\"490\" x2=\"486\" y2=\"484\"/><line x1=\"1373\" y1=\"498\" x2=\"1533\" y2=\"343\"/><line x1=\"1668\" y1=\"394\" x2=\"1767\" y2=\"345\"/><line x1=\"1576\" y1=\"437\" x2=\"1668\" y2=\"394\"/><line x1=\"1670\" y1=\"494\" x2=\"1668\" y2=\"394\"/><line x1=\"417\" y1=\"131\" x2=\"539\" y2=\"197\"/><line x1=\"1120\" y1=\"256\" x2=\"1194\" y2=\"335\"/><line x1=\"1373\" y1=\"498\" x2=\"1256\" y2=\"652\"/><line x1=\"1373\" y1=\"498\" x2=\"1356\" y2=\"622\"/><line x1=\"1373\" y1=\"498\" x2=\"1456\" y2=\"588\"/><line x1=\"1373\" y1=\"498\" x2=\"1550\" y2=\"543\"/><line x1=\"1373\" y1=\"498\" x2=\"1289\" y2=\"403\"/><line x1=\"1373\" y1=\"498\" x2=\"1263\" y2=\"551\"/><line x1=\"1456\" y1=\"588\" x2=\"1547\" y2=\"664\"/><line x1=\"639\" y1=\"490\" x2=\"800\" y2=\"499\"/><line x1=\"800\" y1=\"499\" x2=\"898\" y2=\"469\"/><line x1=\"800\" y1=\"499\" x2=\"873\" y2=\"593\"/><line x1=\"639\" y1=\"490\" x2=\"566\" y2=\"562\"/><line x1=\"631\" y1=\"641\" x2=\"710\" y2=\"704\"/><line x1=\"639\" y1=\"490\" x2=\"631\" y2=\"641\"/><line x1=\"1633\" y1=\"719\" x2=\"1730\" y2=\"683\"/><line x1=\"1547\" y1=\"664\" x2=\"1633\" y2=\"719\"/><line x1=\"1730\" y1=\"683\" x2=\"1836\" y2=\"646\"/><line x1=\"344\" y1=\"309\" x2=\"418\" y2=\"402\"/><line x1=\"635\" y1=\"781\" x2=\"710\" y2=\"704\"/><line x1=\"542\" y1=\"727\" x2=\"635\" y2=\"781\"/><line x1=\"1732\" y1=\"572\" x2=\"1840\" y2=\"542\"/><line x1=\"1639\" y1=\"617\" x2=\"1732\" y2=\"572\"/><line x1=\"1801\" y1=\"446\" x2=\"1840\" y2=\"542\"/><line x1=\"67\" y1=\"335\" x2=\"131\" y2=\"252\"/><line x1=\"126\" y1=\"422\" x2=\"182\" y2=\"346\"/><line x1=\"1209\" y1=\"211\" x2=\"1294\" y2=\"300\"/><line x1=\"639\" y1=\"490\" x2=\"418\" y2=\"402\"/><line x1=\"1289\" y1=\"403\" x2=\"1294\" y2=\"300\"/><line x1=\"437\" y1=\"239\" x2=\"524\" y2=\"330\"/><line x1=\"639\" y1=\"490\" x2=\"751\" y2=\"599\"/><line x1=\"639\" y1=\"490\" x2=\"524\" y2=\"330\"/><line x1=\"1164\" y1=\"880\" x2=\"1181\" y2=\"775\"/><line x1=\"1313\" y1=\"745\" x2=\"1403\" y2=\"802\"/><line x1=\"1356\" y1=\"622\" x2=\"1437\" y2=\"694\"/><line x1=\"1550\" y1=\"543\" x2=\"1639\" y2=\"617\"/><line x1=\"1403\" y1=\"802\" x2=\"1437\" y2=\"694\"/><line x1=\"1437\" y1=\"694\" x2=\"1514\" y2=\"764\"/><line x1=\"903\" y1=\"330\" x2=\"992\" y2=\"406\"/><line x1=\"1164\" y1=\"880\" x2=\"1264\" y2=\"853\"/><line x1=\"751\" y1=\"599\" x2=\"810\" y2=\"690\"/><line x1=\"810\" y1=\"690\" x2=\"920\" y2=\"693\"/><line x1=\"126\" y1=\"422\" x2=\"201\" y2=\"489\"/></g><g stroke=\"red\" stroke-width=\"4\" id=\"edges_contour\"><line x1=\"430\" y1=\"715\" x2=\"492\" y2=\"718\"/><line x1=\"542\" y1=\"727\" x2=\"492\" y2=\"718\"/></g><g id=\"WTGgrp\"><g fill=\"#f7b6d2\"><use href=\"#wtg\" x=\"1309\" y=\"175\"/><use href=\"#wtg\" x=\"1209\" y=\"211\"/><use href=\"#wtg\" x=\"1289\" y=\"403\"/><use href=\"#wtg\" x=\"1294\" y=\"300\"/><use href=\"#wtg\" x=\"1431\" y=\"139\"/></g><g fill=\"#c7c7c7\"><use href=\"#wtg\" x=\"1386\" y=\"256\"/><use href=\"#wtg\" x=\"1392\" y=\"372\"/><use href=\"#wtg\" x=\"1582\" y=\"196\"/><use href=\"#wtg\" x=\"1542\" y=\"92\"/><use href=\"#wtg\" x=\"1485\" y=\"235\"/></g><g fill=\"#c49c94\"><use href=\"#wtg\" x=\"1079\" y=\"487\"/><use href=\"#wtg\" x=\"1163\" y=\"566\"/><use href=\"#wtg\" x=\"1263\" y=\"551\"/><use href=\"#wtg\" x=\"992\" y=\"406\"/><use href=\"#wtg\" x=\"903\" y=\"330\"/></g><g fill=\"#8c564b\"><use href=\"#wtg\" x=\"1090\" y=\"363\"/><use href=\"#wtg\" x=\"1187\" y=\"450\"/><use href=\"#wtg\" x=\"1120\" y=\"256\"/><use href=\"#wtg\" x=\"1011\" y=\"292\"/><use href=\"#wtg\" x=\"1194\" y=\"335\"/></g><g fill=\"#98df8a\"><use href=\"#wtg\" x=\"603\" y=\"410\"/></g><g fill=\"#ff9896\"><use href=\"#wtg\" x=\"640\" y=\"280\"/><use href=\"#wtg\" x=\"722\" y=\"421\"/><use href=\"#wtg\" x=\"746\" y=\"299\"/><use href=\"#wtg\" x=\"539\" y=\"197\"/><use href=\"#wtg\" x=\"417\" y=\"131\"/></g><g fill=\"#bcbd22\"><use href=\"#wtg\" x=\"1475\" y=\"434\"/><use href=\"#wtg\" x=\"1668\" y=\"394\"/><use href=\"#wtg\" x=\"1576\" y=\"437\"/><use href=\"#wtg\" x=\"1767\" y=\"345\"/><use href=\"#wtg\" x=\"1670\" y=\"494\"/></g><g fill=\"#c5b0d5\"><use href=\"#wtg\" x=\"1145\" y=\"678\"/><use href=\"#wtg\" x=\"1256\" y=\"652\"/><use href=\"#wtg\" x=\"1181\" y=\"775\"/><use href=\"#wtg\" x=\"1264\" y=\"853\"/><use href=\"#wtg\" x=\"1164\" y=\"880\"/></g><g fill=\"#ff7f0e\"><use href=\"#wtg\" x=\"355\" y=\"643\"/><use href=\"#wtg\" x=\"419\" y=\"559\"/><use href=\"#wtg\" x=\"487\" y=\"636\"/><use href=\"#wtg\" x=\"566\" y=\"562\"/><use href=\"#wtg\" x=\"274\" y=\"564\"/></g><g fill=\"#d62728\"><use href=\"#wtg\" x=\"1016\" y=\"722\"/><use href=\"#wtg\" x=\"1080\" y=\"800\"/><use href=\"#wtg\" x=\"751\" y=\"599\"/><use href=\"#wtg\" x=\"810\" y=\"690\"/><use href=\"#wtg\" x=\"920\" y=\"693\"/></g><g fill=\"#17becf\"><use href=\"#wtg\" x=\"1638\" y=\"291\"/><use href=\"#wtg\" x=\"1690\" y=\"143\"/><use href=\"#wtg\" x=\"1533\" y=\"343\"/><use href=\"#wtg\" x=\"1729\" y=\"235\"/><use href=\"#wtg\" x=\"1661\" y=\"47\"/></g><g fill=\"#ffbb78\"><use href=\"#wtg\" x=\"430\" y=\"715\"/><use href=\"#wtg\" x=\"631\" y=\"641\"/><use href=\"#wtg\" x=\"635\" y=\"781\"/><use href=\"#wtg\" x=\"710\" y=\"704\"/><use href=\"#wtg\" x=\"542\" y=\"727\"/></g><g fill=\"#aec7e8\"><use href=\"#wtg\" x=\"336\" y=\"500\"/><use href=\"#wtg\" x=\"486\" y=\"484\"/><use href=\"#wtg\" x=\"182\" y=\"346\"/><use href=\"#wtg\" x=\"126\" y=\"422\"/><use href=\"#wtg\" x=\"201\" y=\"489\"/></g><g fill=\"#1f77b4\"><use href=\"#wtg\" x=\"234\" y=\"257\"/><use href=\"#wtg\" x=\"344\" y=\"309\"/><use href=\"#wtg\" x=\"67\" y=\"335\"/><use href=\"#wtg\" x=\"418\" y=\"402\"/><use href=\"#wtg\" x=\"131\" y=\"252\"/></g><g fill=\"#2ca02c\"><use href=\"#wtg\" x=\"316\" y=\"173\"/><use href=\"#wtg\" x=\"210\" y=\"157\"/><use href=\"#wtg\" x=\"437\" y=\"239\"/><use href=\"#wtg\" x=\"290\" y=\"67\"/><use href=\"#wtg\" x=\"524\" y=\"330\"/></g><g fill=\"#9467bd\"><use href=\"#wtg\" x=\"978\" y=\"533\"/><use href=\"#wtg\" x=\"1055\" y=\"600\"/><use href=\"#wtg\" x=\"800\" y=\"499\"/><use href=\"#wtg\" x=\"898\" y=\"469\"/><use href=\"#wtg\" x=\"873\" y=\"593\"/></g><g fill=\"#7f7f7f\"><use href=\"#wtg\" x=\"1456\" y=\"588\"/><use href=\"#wtg\" x=\"1633\" y=\"719\"/><use href=\"#wtg\" x=\"1730\" y=\"683\"/><use href=\"#wtg\" x=\"1836\" y=\"646\"/><use href=\"#wtg\" x=\"1547\" y=\"664\"/></g><g fill=\"#dbdb8d\"><use href=\"#wtg\" x=\"1732\" y=\"572\"/><use href=\"#wtg\" x=\"1801\" y=\"446\"/><use href=\"#wtg\" x=\"1639\" y=\"617\"/><use href=\"#wtg\" x=\"1550\" y=\"543\"/><use href=\"#wtg\" x=\"1840\" y=\"542\"/></g><g fill=\"#e377c2\"><use href=\"#wtg\" x=\"1313\" y=\"745\"/><use href=\"#wtg\" x=\"1356\" y=\"622\"/><use href=\"#wtg\" x=\"1403\" y=\"802\"/><use href=\"#wtg\" x=\"1437\" y=\"694\"/><use href=\"#wtg\" x=\"1514\" y=\"764\"/></g></g><g id=\"OSSgrp\"><use href=\"#oss\" x=\"628.5\" y=\"479.5\"/><use href=\"#oss\" x=\"1362.5\" y=\"487.5\"/></g></g><text filter=\"url(#bg_textbox)\" text-anchor=\"end\" font-family=\"sans-serif\" font-size=\"40\" fill=\"white\" x=\"1890\" y=\"905\"><tspan x=\"1890\" dy=\"-0.0em\">&#931;&#955; = 87803.0 m</tspan><tspan x=\"1890\" dy=\"-1.3em\">(+0) &#945;: 10, &#946;: 9</tspan><tspan x=\"1890\" dy=\"-1.3em\">&#954; = 5, T = 91</tspan></text></svg>"
      ],
      "text/plain": [
       "<optiwindnet.svg.SvgRepr at 0x252cdcbd490>"
      ]
     },
     "execution_count": 11,
     "metadata": {},
     "output_type": "execute_result"
    }
   ],
   "source": [
    "svgplot(G)"
   ]
  }
 ],
 "metadata": {
  "language_info": {
   "name": "python"
  }
 },
 "nbformat": 4,
 "nbformat_minor": 5
}
