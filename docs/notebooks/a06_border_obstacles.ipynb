{
 "cells": [
  {
   "cell_type": "markdown",
   "id": "6ef7c0e8",
   "metadata": {},
   "source": [
    "# Borders, Obstacles & Buffering"
   ]
  },
  {
   "cell_type": "markdown",
   "id": "ed13a6b8-1d5b-4ce0-9cd4-b81bac7b07dd",
   "metadata": {},
   "source": [
    "**OptiWindNet** models site bounds with an exterior **border** (build area) and interior **obstacles** (exclusions), and keeps electrical network design compliant with the bounds. This notebook walks from initialization and optimization under constraints, through cleaning and buffering the geometry, to validating turbine/substation placement. We will explore following features (methods):\n",
    "\n",
    "* **Optimize under bounds**: `.optimize()`: optimize electrical network while enforcing border/obstacle constraints.\n",
    "* **Merge & clean boundary**: `.merge_obstacles_into_border()`: resolve intersections/touching constriants, absorb irrelevant obstacles, and simplify the exterior boundary.\n",
    "* **Buffer geometry**: `.add_buffer(buffer_dist=...)`: expand the border and shrink obstacles to add safety margins; might smooth concavities or remove obstacles depending on `buffer_dist`.\n",
    "* **Compare originals vs buffered**: `.plot_original_vs_buffered()`: overlay plot of border/obstacles before and after buffering to inspect how buffering changed shapes.\n",
    "* **Validate placement**: `.is_layout_within_bounds()`: confirm turbines/substations lie inside the border and outside obstacles."
   ]
  },
  {
   "cell_type": "markdown",
   "id": "1998fe8b",
   "metadata": {},
   "source": [
    "Import required packages"
   ]
  },
  {
   "cell_type": "code",
   "execution_count": 1,
   "id": "b0f61785-6be5-4a0f-8282-5c17f4cc28ad",
   "metadata": {},
   "outputs": [],
   "source": [
    "from optiwindnet.api import WindFarmNetwork\n",
    "import numpy as np\n",
    "import matplotlib.pyplot as plt"
   ]
  },
  {
   "cell_type": "code",
   "execution_count": 2,
   "id": "fc07dcc1",
   "metadata": {},
   "outputs": [],
   "source": [
    "# Display figures as SVG in Jupyter notebooks\n",
    "%config InlineBackend.figure_formats = ['svg']"
   ]
  },
  {
   "cell_type": "markdown",
   "id": "f624996b",
   "metadata": {},
   "source": [
    "## Borders and obstacles"
   ]
  },
  {
   "cell_type": "markdown",
   "id": "9779f2b9",
   "metadata": {},
   "source": [
    "### 1. Initialize\n",
    "Create a `WindFarmNetwork` instances from an `osm.pbf´ file and optimize it."
   ]
  },
  {
   "cell_type": "code",
   "execution_count": 3,
   "id": "4e702047",
   "metadata": {},
   "outputs": [],
   "source": [
    "wfn1 = WindFarmNetwork.from_pbf(filepath='data/DTU_letters.osm.pbf', cables=7)\n"
   ]
  },
  {
   "cell_type": "markdown",
   "id": "cf12b38e",
   "metadata": {},
   "source": [
    "Plot the location geometry and the optimized network to confirm that the borders and obstacles are properly initailized and considered for optimization."
   ]
  },
  {
   "cell_type": "code",
   "execution_count": 4,
   "id": "142de4c6",
   "metadata": {},
   "outputs": [
    {
     "data": {
      "image/svg+xml": [
       "<svg xmlns=\"http://www.w3.org/2000/svg\" viewBox=\"0 0 1920 891\"><defs><circle stroke=\"none\" stroke-width=\"2\" id=\"wtg\" r=\"12\"/><rect stroke=\"#111\" stroke-width=\"2\" id=\"oss\" width=\"21\" height=\"21\" fill=\"lawngreen\"/></defs><g id=\"dtu\"><path stroke=\"silver\" stroke-dasharray=\"15 7\" stroke-width=\"2\" id=\"border\" d=\"M30 861 405 859 519 794 605 676 650 524 650 366 770 366 770 861 1150 861 1149 366 1270 366 1271 533 1319 684 1408 799 1522 860 1646 858 1759 793 1845 675 1890 525 1890 30 1625 30 1625 501 1618 537 1606 564 1589 579 1572 580 1555 566 1542 539 1535 502 1535 31 30 30z M260 658 260 233 328 232 372 263 407 323 426 400 426 485 408 564 375 625 331 658z\" fill-rule=\"evenodd\" fill=\"#111\"/><g id=\"WTGgrp\"><g fill=\"#9edae5\"><use href=\"#wtg\" x=\"107\" y=\"42\"/><use href=\"#wtg\" x=\"237\" y=\"206\"/><use href=\"#wtg\" x=\"58\" y=\"286\"/><use href=\"#wtg\" x=\"239\" y=\"398\"/><use href=\"#wtg\" x=\"77\" y=\"590\"/><use href=\"#wtg\" x=\"329\" y=\"847\"/><use href=\"#wtg\" x=\"525\" y=\"753\"/><use href=\"#wtg\" x=\"236\" y=\"687\"/><use href=\"#wtg\" x=\"633\" y=\"448\"/><use href=\"#wtg\" x=\"438\" y=\"556\"/><use href=\"#wtg\" x=\"420\" y=\"282\"/><use href=\"#wtg\" x=\"392\" y=\"81\"/><use href=\"#wtg\" x=\"575\" y=\"202\"/><use href=\"#wtg\" x=\"739\" y=\"334\"/><use href=\"#wtg\" x=\"630\" y=\"43\"/><use href=\"#wtg\" x=\"1064\" y=\"42\"/><use href=\"#wtg\" x=\"915\" y=\"397\"/><use href=\"#wtg\" x=\"785\" y=\"526\"/><use href=\"#wtg\" x=\"1643\" y=\"840\"/><use href=\"#wtg\" x=\"904\" y=\"678\"/><use href=\"#wtg\" x=\"993\" y=\"847\"/><use href=\"#wtg\" x=\"1129\" y=\"512\"/><use href=\"#wtg\" x=\"828\" y=\"155\"/><use href=\"#wtg\" x=\"1271\" y=\"147\"/><use href=\"#wtg\" x=\"1068\" y=\"249\"/><use href=\"#wtg\" x=\"1517\" y=\"49\"/><use href=\"#wtg\" x=\"1519\" y=\"280\"/><use href=\"#wtg\" x=\"1313\" y=\"351\"/><use href=\"#wtg\" x=\"1445\" y=\"482\"/><use href=\"#wtg\" x=\"1338\" y=\"626\"/><use href=\"#wtg\" x=\"1446\" y=\"787\"/><use href=\"#wtg\" x=\"1588\" y=\"630\"/><use href=\"#wtg\" x=\"1823\" y=\"671\"/><use href=\"#wtg\" x=\"1649\" y=\"377\"/><use href=\"#wtg\" x=\"1875\" y=\"478\"/><use href=\"#wtg\" x=\"1876\" y=\"252\"/><use href=\"#wtg\" x=\"51\" y=\"845\"/><use href=\"#wtg\" x=\"1692\" y=\"146\"/><use href=\"#wtg\" x=\"1878\" y=\"42\"/><use href=\"#wtg\" x=\"1137\" y=\"704\"/></g></g><g id=\"OSSgrp\"><use href=\"#oss\" x=\"1199.5\" y=\"320.5\"/></g></g></svg>"
      ],
      "text/plain": [
       "<optiwindnet.api.WindFarmNetwork at 0x19538bba810>"
      ]
     },
     "execution_count": 4,
     "metadata": {},
     "output_type": "execute_result"
    }
   ],
   "source": [
    "wfn1"
   ]
  },
  {
   "cell_type": "code",
   "execution_count": 5,
   "id": "00e76735",
   "metadata": {},
   "outputs": [
    {
     "data": {
      "text/plain": [
       "40"
      ]
     },
     "execution_count": 5,
     "metadata": {},
     "output_type": "execute_result"
    }
   ],
   "source": [
    "wfn1.L.graph['T']"
   ]
  },
  {
   "cell_type": "code",
   "execution_count": 6,
   "id": "07bf9dea",
   "metadata": {},
   "outputs": [
    {
     "data": {
      "image/svg+xml": [
       "<svg xmlns=\"http://www.w3.org/2000/svg\" viewBox=\"0 0 1920 891\"><defs><circle stroke=\"orange\" stroke-opacity=\"0.3\" stroke-width=\"4\" id=\"dt\" r=\"23\" fill=\"none\"/><circle stroke=\"none\" stroke-width=\"2\" id=\"wtg\" r=\"12\"/><rect stroke=\"#111\" stroke-width=\"2\" id=\"oss\" width=\"21\" height=\"21\" fill=\"lawngreen\"/><filter x=\"-5%\" y=\"-5%\" id=\"bg_textbox\" width=\"110%\" height=\"110%\"><feFlood flood-opacity=\"0.6\" flood-color=\"black\" result=\"bg\"/><feMerge><feMergeNode in=\"bg\"/><feMergeNode in=\"SourceGraphic\"/></feMerge></filter></defs><g id=\"dtu\"><path stroke=\"silver\" stroke-dasharray=\"15 7\" stroke-width=\"2\" id=\"border\" d=\"M30 861 405 859 519 794 605 676 650 524 650 366 770 366 770 861 1150 861 1149 366 1270 366 1271 533 1319 684 1408 799 1522 860 1646 858 1759 793 1845 675 1890 525 1890 30 1625 30 1625 501 1618 537 1606 564 1589 579 1572 580 1555 566 1542 539 1535 502 1535 31 30 30z M260 658 260 233 328 232 372 263 407 323 426 400 426 485 408 564 375 625 331 658z\" fill-rule=\"evenodd\" fill=\"#111\"/><g stroke=\"crimson\" stroke-width=\"4\" id=\"edges_unspecified\"><line x1=\"107\" y1=\"42\" x2=\"237\" y2=\"206\"/><line x1=\"1210\" y1=\"331\" x2=\"1271\" y2=\"147\"/><line x1=\"1210\" y1=\"331\" x2=\"915\" y2=\"397\"/><line x1=\"1210\" y1=\"331\" x2=\"1068\" y2=\"249\"/><line x1=\"1210\" y1=\"331\" x2=\"1313\" y2=\"351\"/><line x1=\"237\" y1=\"206\" x2=\"239\" y2=\"398\"/><line x1=\"237\" y1=\"206\" x2=\"58\" y2=\"286\"/><line x1=\"77\" y1=\"590\" x2=\"236\" y2=\"687\"/><line x1=\"329\" y1=\"847\" x2=\"236\" y2=\"687\"/><line x1=\"329\" y1=\"847\" x2=\"525\" y2=\"753\"/><line x1=\"525\" y1=\"753\" x2=\"438\" y2=\"556\"/><line x1=\"236\" y1=\"687\" x2=\"51\" y2=\"845\"/><line x1=\"633\" y1=\"448\" x2=\"438\" y2=\"556\"/><line x1=\"420\" y1=\"282\" x2=\"575\" y2=\"202\"/><line x1=\"420\" y1=\"282\" x2=\"392\" y2=\"81\"/><line x1=\"739\" y1=\"334\" x2=\"915\" y2=\"397\"/><line x1=\"739\" y1=\"334\" x2=\"828\" y2=\"155\"/><line x1=\"630\" y1=\"43\" x2=\"828\" y2=\"155\"/><line x1=\"1064\" y1=\"42\" x2=\"1068\" y2=\"249\"/><line x1=\"915\" y1=\"397\" x2=\"785\" y2=\"526\"/><line x1=\"785\" y1=\"526\" x2=\"904\" y2=\"678\"/><line x1=\"1643\" y1=\"840\" x2=\"1446\" y2=\"787\"/><line x1=\"904\" y1=\"678\" x2=\"993\" y2=\"847\"/><line x1=\"1129\" y1=\"512\" x2=\"1137\" y2=\"704\"/><line x1=\"1517\" y1=\"49\" x2=\"1519\" y2=\"280\"/><line x1=\"1519\" y1=\"280\" x2=\"1313\" y2=\"351\"/><line x1=\"1313\" y1=\"351\" x2=\"1445\" y2=\"482\"/><line x1=\"1445\" y1=\"482\" x2=\"1338\" y2=\"626\"/><line x1=\"1338\" y1=\"626\" x2=\"1446\" y2=\"787\"/><line x1=\"1588\" y1=\"630\" x2=\"1823\" y2=\"671\"/><line x1=\"1823\" y1=\"671\" x2=\"1875\" y2=\"478\"/><line x1=\"1649\" y1=\"377\" x2=\"1692\" y2=\"146\"/><line x1=\"1875\" y1=\"478\" x2=\"1876\" y2=\"252\"/><line x1=\"1876\" y1=\"252\" x2=\"1878\" y2=\"42\"/><line x1=\"1876\" y1=\"252\" x2=\"1692\" y2=\"146\"/></g><g stroke=\"red\" stroke-width=\"4\" id=\"edges_contour\"><line x1=\"237\" y1=\"206\" x2=\"328\" y2=\"232\"/><line x1=\"420\" y1=\"282\" x2=\"328\" y2=\"232\"/></g><g stroke=\"darkorange\" stroke-dasharray=\"18 15\" stroke-width=\"4\" id=\"detours\" fill=\"none\"><polyline points=\"1210 331 630 43 575 202\"/><polyline points=\"1210 331 630 43 633 448\"/><polyline points=\"1210 331 1270 366 1338 626 1446 787 1643 840 1588 630\"/><polyline points=\"1210 331 1149 366 1129 512\"/></g><g id=\"DTgrp\"><use href=\"#dt\" x=\"630\" y=\"43\"/><use href=\"#dt\" x=\"630\" y=\"43\"/><use href=\"#dt\" x=\"1643\" y=\"840\"/><use href=\"#dt\" x=\"1446\" y=\"787\"/><use href=\"#dt\" x=\"1338\" y=\"626\"/><use href=\"#dt\" x=\"1270\" y=\"366\"/><use href=\"#dt\" x=\"1149\" y=\"366\"/></g><g id=\"WTGgrp\"><g fill=\"#aec7e8\"><use href=\"#wtg\" x=\"107\" y=\"42\"/><use href=\"#wtg\" x=\"237\" y=\"206\"/><use href=\"#wtg\" x=\"58\" y=\"286\"/><use href=\"#wtg\" x=\"239\" y=\"398\"/><use href=\"#wtg\" x=\"420\" y=\"282\"/><use href=\"#wtg\" x=\"392\" y=\"81\"/><use href=\"#wtg\" x=\"575\" y=\"202\"/></g><g fill=\"#1f77b4\"><use href=\"#wtg\" x=\"77\" y=\"590\"/><use href=\"#wtg\" x=\"329\" y=\"847\"/><use href=\"#wtg\" x=\"525\" y=\"753\"/><use href=\"#wtg\" x=\"236\" y=\"687\"/><use href=\"#wtg\" x=\"633\" y=\"448\"/><use href=\"#wtg\" x=\"438\" y=\"556\"/><use href=\"#wtg\" x=\"51\" y=\"845\"/></g><g fill=\"#ff7f0e\"><use href=\"#wtg\" x=\"739\" y=\"334\"/><use href=\"#wtg\" x=\"630\" y=\"43\"/><use href=\"#wtg\" x=\"915\" y=\"397\"/><use href=\"#wtg\" x=\"785\" y=\"526\"/><use href=\"#wtg\" x=\"904\" y=\"678\"/><use href=\"#wtg\" x=\"993\" y=\"847\"/><use href=\"#wtg\" x=\"828\" y=\"155\"/></g><g fill=\"#98df8a\"><use href=\"#wtg\" x=\"1064\" y=\"42\"/><use href=\"#wtg\" x=\"1068\" y=\"249\"/></g><g fill=\"#d62728\"><use href=\"#wtg\" x=\"1643\" y=\"840\"/><use href=\"#wtg\" x=\"1517\" y=\"49\"/><use href=\"#wtg\" x=\"1519\" y=\"280\"/><use href=\"#wtg\" x=\"1313\" y=\"351\"/><use href=\"#wtg\" x=\"1445\" y=\"482\"/><use href=\"#wtg\" x=\"1338\" y=\"626\"/><use href=\"#wtg\" x=\"1446\" y=\"787\"/></g><g fill=\"#ffbb78\"><use href=\"#wtg\" x=\"1129\" y=\"512\"/><use href=\"#wtg\" x=\"1137\" y=\"704\"/></g><g fill=\"#2ca02c\"><use href=\"#wtg\" x=\"1271\" y=\"147\"/></g><g fill=\"#ff9896\"><use href=\"#wtg\" x=\"1588\" y=\"630\"/><use href=\"#wtg\" x=\"1823\" y=\"671\"/><use href=\"#wtg\" x=\"1649\" y=\"377\"/><use href=\"#wtg\" x=\"1875\" y=\"478\"/><use href=\"#wtg\" x=\"1876\" y=\"252\"/><use href=\"#wtg\" x=\"1692\" y=\"146\"/><use href=\"#wtg\" x=\"1878\" y=\"42\"/></g></g><g id=\"OSSgrp\"><use href=\"#oss\" x=\"1199.5\" y=\"320.5\"/></g></g><text filter=\"url(#bg_textbox)\" text-anchor=\"end\" font-family=\"sans-serif\" font-size=\"40\" fill=\"white\" x=\"1890\" y=\"861\"><tspan x=\"1890\" dy=\"-0.0em\">0 &#8364;</tspan><tspan x=\"1890\" dy=\"-1.3em\">&#931;&#955; = 1820.2 m</tspan><tspan x=\"1890\" dy=\"-1.3em\">(+2) [-1]: 8</tspan><tspan x=\"1890\" dy=\"-1.3em\">&#954; = 7, T = 40</tspan></text></svg>"
      ],
      "text/plain": [
       "<optiwindnet.api.WindFarmNetwork at 0x19538bba810>"
      ]
     },
     "execution_count": 6,
     "metadata": {},
     "output_type": "execute_result"
    }
   ],
   "source": [
    "res_optimize = wfn1.optimize()\n",
    "wfn1"
   ]
  },
  {
   "cell_type": "markdown",
   "id": "669f3a6a",
   "metadata": {},
   "source": [
    "> Note: OptiWindNet works properly without borders/obstacles also."
   ]
  },
  {
   "cell_type": "markdown",
   "id": "af7ea1dd",
   "metadata": {},
   "source": [
    "### 2. Obstacles intersecting with the exterior borders"
   ]
  },
  {
   "cell_type": "markdown",
   "id": "2a3bf5dd",
   "metadata": {},
   "source": [
    "Let's create an instance of WindFarmNetwork directly via coordinates to have full control over border/obstacle definition."
   ]
  },
  {
   "cell_type": "code",
   "execution_count": 7,
   "id": "bfeef076",
   "metadata": {},
   "outputs": [],
   "source": [
    "turbinesC = np.array([\n",
    "       [ 316976, 6175410],\n",
    "       [ 316998, 6175380],\n",
    "       [ 316965, 6175368],\n",
    "       [ 316997, 6175347],\n",
    "       [ 316967 , 6175314],\n",
    "       [ 317009 , 6175267],\n",
    "       [ 317044, 6175282],\n",
    "       [ 316994 , 6175296],\n",
    "       [ 317065, 6175335],\n",
    "       [ 317030, 6175318],\n",
    "       [ 317029 , 6175366],\n",
    "       [ 317026, 6175401],\n",
    "       [ 317057, 6175379],\n",
    "       [ 317085, 6175354],\n",
    "       [ 317068, 6175406],\n",
    "       [ 317144, 6175403],\n",
    "       [ 317115, 6175342],\n",
    "       [ 317091, 6175320],\n",
    "       [ 317240, 6175259],\n",
    "       [ 317111 , 6175293],\n",
    "       [ 317126, 6175262],\n",
    "       [ 317152, 6175320],\n",
    "       [ 317102, 6175385],\n",
    "       [ 317179, 6175383],\n",
    "       [ 317143, 6175367],\n",
    "       [ 317223, 6175399],\n",
    "       [ 317222, 6175358],\n",
    "       [ 317185, 6175347],\n",
    "       [ 317208, 6175323],\n",
    "       [ 317188, 6175299],\n",
    "       [ 317205, 6175270],\n",
    "       [ 317231, 6175296],\n",
    "       [ 317272, 6175287],\n",
    "       [ 317244, 6175340],\n",
    "       [ 317283, 6175321],\n",
    "       [ 317285, 6175360],\n",
    "       [ 316960, 6175270],\n",
    "       [ 317253, 6175380],\n",
    "       [ 317287, 6175397],\n",
    "       [ 317152, 6175286],\n",
    "       ])\n",
    "\n",
    "borderC = np.array([\n",
    "       [316956, 6175267],\n",
    "       [317022, 6175265],\n",
    "       [317043, 6175275],\n",
    "       [317059 , 6175295],\n",
    "       [317068, 6175322],\n",
    "       [317069, 6175349],\n",
    "       [317090, 6175348],\n",
    "       [317086, 6175262],\n",
    "       [317153, 6175259],\n",
    "       [317157, 6175346],\n",
    "       [317178 , 6175345],\n",
    "       [317177, 6175316],\n",
    "       [317184, 6175289],\n",
    "       [317199, 6175268],\n",
    "       [317218, 6175256],\n",
    "       [317240, 6175256],\n",
    "       [317260, 6175266],\n",
    "       [317276, 6175286],\n",
    "       [317285, 6175312],\n",
    "       [317289, 6175399],\n",
    "       [317242, 6175401],\n",
    "       [317239, 6175319],\n",
    "       [317238, 6175312],\n",
    "       [317235, 6175308],\n",
    "       [317232, 6175305],\n",
    "       [317229, 6175305],\n",
    "       [317226, 6175308],\n",
    "       [317224, 6175313],\n",
    "       [317223, 6175319],\n",
    "       [317227, 6175402],\n",
    "       [316963, 6175413],\n",
    "       ])\n",
    "\n",
    "obstaclesC_ = [\n",
    "    np.array([\n",
    "       [316998, 6175301],\n",
    "       [317001 , 6175376],\n",
    "       [317013, 6175375],\n",
    "       [317021, 6175369],\n",
    "       [317026, 6175359],\n",
    "       [317029, 6175345],\n",
    "       [317029, 6175330],\n",
    "       [317025, 6175316],\n",
    "       [317019, 6175306],\n",
    "       [317011, 6175301],\n",
    "       ]),\n",
    "    np.array([\n",
    "       [316920, 6175300],\n",
    "       [316920, 6175400],\n",
    "       [316950, 6175400],\n",
    "       [316950, 6175300],\n",
    "       ]),\n",
    "    np.array([\n",
    "       [317100, 6175450],\n",
    "       [317100, 6175400],\n",
    "       [317080, 6175400],\n",
    "       [317080, 6175450],\n",
    "       ]),\n",
    "       ]\n",
    "\n",
    "substationsC = np.array([\n",
    "       [317167 , 6175351]])"
   ]
  },
  {
   "cell_type": "code",
   "execution_count": 8,
   "id": "e74498a4",
   "metadata": {},
   "outputs": [
    {
     "data": {
      "image/svg+xml": [
       "<svg xmlns=\"http://www.w3.org/2000/svg\" viewBox=\"0 0 1920 1038\"><defs><circle stroke=\"none\" stroke-width=\"2\" id=\"wtg\" r=\"12\"/><rect stroke=\"#111\" stroke-width=\"2\" id=\"oss\" width=\"21\" height=\"21\" fill=\"lawngreen\"/></defs><g id=\"\"><path stroke=\"silver\" stroke-dasharray=\"15 7\" stroke-width=\"2\" id=\"border\" d=\"M211 953 544 963 650 912 731 811 776 675 781 539 887 544 867 978 1204 993 1225 554 1330 559 1325 706 1361 842 1436 948 1532 1008 1643 1008 1744 958 1824 857 1870 726 1890 287 1653 277 1638 690 1633 726 1618 746 1603 761 1588 761 1572 746 1562 721 1557 690 1577 272 247 217z M423 781 438 403 499 408 539 438 564 489 579 559 579 635 559 706 529 756 489 781z M30 786 30 282 181 282 181 786z M937 30 937 282 837 282 837 30z\" fill-rule=\"evenodd\" fill=\"#111\"/><g id=\"WTGgrp\"><g fill=\"#9edae5\"><use href=\"#wtg\" x=\"312\" y=\"232\"/><use href=\"#wtg\" x=\"423\" y=\"383\"/><use href=\"#wtg\" x=\"257\" y=\"443\"/><use href=\"#wtg\" x=\"418\" y=\"549\"/><use href=\"#wtg\" x=\"267\" y=\"716\"/><use href=\"#wtg\" x=\"479\" y=\"953\"/><use href=\"#wtg\" x=\"655\" y=\"877\"/><use href=\"#wtg\" x=\"403\" y=\"806\"/><use href=\"#wtg\" x=\"761\" y=\"610\"/><use href=\"#wtg\" x=\"584\" y=\"695\"/><use href=\"#wtg\" x=\"579\" y=\"454\"/><use href=\"#wtg\" x=\"564\" y=\"277\"/><use href=\"#wtg\" x=\"721\" y=\"388\"/><use href=\"#wtg\" x=\"862\" y=\"514\"/><use href=\"#wtg\" x=\"776\" y=\"252\"/><use href=\"#wtg\" x=\"1159\" y=\"267\"/><use href=\"#wtg\" x=\"1013\" y=\"575\"/><use href=\"#wtg\" x=\"892\" y=\"685\"/><use href=\"#wtg\" x=\"1643\" y=\"993\"/><use href=\"#wtg\" x=\"993\" y=\"821\"/><use href=\"#wtg\" x=\"1068\" y=\"978\"/><use href=\"#wtg\" x=\"1199\" y=\"685\"/><use href=\"#wtg\" x=\"947\" y=\"358\"/><use href=\"#wtg\" x=\"1336\" y=\"368\"/><use href=\"#wtg\" x=\"1154\" y=\"448\"/><use href=\"#wtg\" x=\"1557\" y=\"287\"/><use href=\"#wtg\" x=\"1552\" y=\"494\"/><use href=\"#wtg\" x=\"1366\" y=\"549\"/><use href=\"#wtg\" x=\"1482\" y=\"670\"/><use href=\"#wtg\" x=\"1381\" y=\"791\"/><use href=\"#wtg\" x=\"1467\" y=\"937\"/><use href=\"#wtg\" x=\"1598\" y=\"806\"/><use href=\"#wtg\" x=\"1804\" y=\"852\"/><use href=\"#wtg\" x=\"1663\" y=\"585\"/><use href=\"#wtg\" x=\"1860\" y=\"680\"/><use href=\"#wtg\" x=\"1870\" y=\"484\"/><use href=\"#wtg\" x=\"232\" y=\"937\"/><use href=\"#wtg\" x=\"1709\" y=\"383\"/><use href=\"#wtg\" x=\"1880\" y=\"297\"/><use href=\"#wtg\" x=\"1199\" y=\"857\"/></g></g><g id=\"OSSgrp\"><use href=\"#oss\" x=\"1264.5\" y=\"518.5\"/></g></g></svg>"
      ],
      "text/plain": [
       "<optiwindnet.api.WindFarmNetwork at 0x1955c860aa0>"
      ]
     },
     "execution_count": 8,
     "metadata": {},
     "output_type": "execute_result"
    }
   ],
   "source": [
    "wfn2 = WindFarmNetwork(turbinesC=turbinesC, substationsC=substationsC, borderC=borderC, obstacleC_=obstaclesC_, cables=7)\n",
    "wfn2"
   ]
  },
  {
   "cell_type": "code",
   "execution_count": 9,
   "id": "955c4d56",
   "metadata": {},
   "outputs": [
    {
     "data": {
      "image/svg+xml": [
       "<svg xmlns=\"http://www.w3.org/2000/svg\" viewBox=\"0 0 1920 1038\"><defs><circle stroke=\"orange\" stroke-opacity=\"0.3\" stroke-width=\"4\" id=\"dt\" r=\"23\" fill=\"none\"/><circle stroke=\"none\" stroke-width=\"2\" id=\"wtg\" r=\"12\"/><rect stroke=\"#111\" stroke-width=\"2\" id=\"oss\" width=\"21\" height=\"21\" fill=\"lawngreen\"/><filter x=\"-5%\" y=\"-5%\" id=\"bg_textbox\" width=\"110%\" height=\"110%\"><feFlood flood-opacity=\"0.6\" flood-color=\"black\" result=\"bg\"/><feMerge><feMergeNode in=\"bg\"/><feMergeNode in=\"SourceGraphic\"/></feMerge></filter></defs><g id=\"\"><path stroke=\"silver\" stroke-dasharray=\"15 7\" stroke-width=\"2\" id=\"border\" d=\"M211 953 544 963 650 912 731 811 776 675 781 539 887 544 867 978 1204 993 1225 554 1330 559 1325 706 1361 842 1436 948 1532 1008 1643 1008 1744 958 1824 857 1870 726 1890 287 1653 277 1638 690 1633 726 1618 746 1603 761 1588 761 1572 746 1562 721 1557 690 1577 272 247 217z M423 781 438 403 499 408 539 438 564 489 579 559 579 635 559 706 529 756 489 781z M30 786 30 282 181 282 181 786z M937 30 937 282 837 282 837 30z\" fill-rule=\"evenodd\" fill=\"#111\"/><g stroke=\"crimson\" stroke-width=\"4\" id=\"edges_unspecified\"><line x1=\"312\" y1=\"232\" x2=\"423\" y2=\"383\"/><line x1=\"1275\" y1=\"529\" x2=\"1336\" y2=\"368\"/><line x1=\"1275\" y1=\"529\" x2=\"1013\" y2=\"575\"/><line x1=\"1275\" y1=\"529\" x2=\"1154\" y2=\"448\"/><line x1=\"1275\" y1=\"529\" x2=\"1366\" y2=\"549\"/><line x1=\"423\" y1=\"383\" x2=\"418\" y2=\"549\"/><line x1=\"423\" y1=\"383\" x2=\"257\" y2=\"443\"/><line x1=\"267\" y1=\"716\" x2=\"403\" y2=\"806\"/><line x1=\"479\" y1=\"953\" x2=\"403\" y2=\"806\"/><line x1=\"479\" y1=\"953\" x2=\"655\" y2=\"877\"/><line x1=\"655\" y1=\"877\" x2=\"584\" y2=\"695\"/><line x1=\"403\" y1=\"806\" x2=\"232\" y2=\"937\"/><line x1=\"761\" y1=\"610\" x2=\"584\" y2=\"695\"/><line x1=\"579\" y1=\"454\" x2=\"721\" y2=\"388\"/><line x1=\"579\" y1=\"454\" x2=\"564\" y2=\"277\"/><line x1=\"862\" y1=\"514\" x2=\"1013\" y2=\"575\"/><line x1=\"862\" y1=\"514\" x2=\"947\" y2=\"358\"/><line x1=\"776\" y1=\"252\" x2=\"947\" y2=\"358\"/><line x1=\"1159\" y1=\"267\" x2=\"1154\" y2=\"448\"/><line x1=\"1013\" y1=\"575\" x2=\"892\" y2=\"685\"/><line x1=\"892\" y1=\"685\" x2=\"993\" y2=\"821\"/><line x1=\"1643\" y1=\"993\" x2=\"1467\" y2=\"937\"/><line x1=\"993\" y1=\"821\" x2=\"1068\" y2=\"978\"/><line x1=\"1199\" y1=\"685\" x2=\"1199\" y2=\"857\"/><line x1=\"1557\" y1=\"287\" x2=\"1552\" y2=\"494\"/><line x1=\"1552\" y1=\"494\" x2=\"1482\" y2=\"670\"/><line x1=\"1366\" y1=\"549\" x2=\"1482\" y2=\"670\"/><line x1=\"1482\" y1=\"670\" x2=\"1381\" y2=\"791\"/><line x1=\"1381\" y1=\"791\" x2=\"1467\" y2=\"937\"/><line x1=\"1598\" y1=\"806\" x2=\"1804\" y2=\"852\"/><line x1=\"1804\" y1=\"852\" x2=\"1860\" y2=\"680\"/><line x1=\"1663\" y1=\"585\" x2=\"1709\" y2=\"383\"/><line x1=\"1860\" y1=\"680\" x2=\"1870\" y2=\"484\"/><line x1=\"1870\" y1=\"484\" x2=\"1880\" y2=\"297\"/><line x1=\"1709\" y1=\"383\" x2=\"1880\" y2=\"297\"/></g><g stroke=\"red\" stroke-width=\"4\" id=\"edges_contour\"><line x1=\"423\" y1=\"383\" x2=\"499\" y2=\"408\"/><line x1=\"579\" y1=\"454\" x2=\"499\" y2=\"408\"/></g><g stroke=\"darkorange\" stroke-dasharray=\"18 15\" stroke-width=\"4\" id=\"detours\" fill=\"none\"><polyline points=\"1275 529 776 252 721 388\"/><polyline points=\"1275 529 776 252 761 610\"/><polyline points=\"1275 529 1330 559 1381 791 1467 937 1643 993 1598 806\"/><polyline points=\"1275 529 1225 554 1199 685\"/></g><g id=\"DTgrp\"><use href=\"#dt\" x=\"776\" y=\"252\"/><use href=\"#dt\" x=\"776\" y=\"252\"/><use href=\"#dt\" x=\"1643\" y=\"993\"/><use href=\"#dt\" x=\"1467\" y=\"937\"/><use href=\"#dt\" x=\"1381\" y=\"791\"/><use href=\"#dt\" x=\"1330\" y=\"559\"/><use href=\"#dt\" x=\"1225\" y=\"554\"/></g><g id=\"WTGgrp\"><g fill=\"#aec7e8\"><use href=\"#wtg\" x=\"312\" y=\"232\"/><use href=\"#wtg\" x=\"423\" y=\"383\"/><use href=\"#wtg\" x=\"257\" y=\"443\"/><use href=\"#wtg\" x=\"418\" y=\"549\"/><use href=\"#wtg\" x=\"579\" y=\"454\"/><use href=\"#wtg\" x=\"564\" y=\"277\"/><use href=\"#wtg\" x=\"721\" y=\"388\"/></g><g fill=\"#1f77b4\"><use href=\"#wtg\" x=\"267\" y=\"716\"/><use href=\"#wtg\" x=\"479\" y=\"953\"/><use href=\"#wtg\" x=\"655\" y=\"877\"/><use href=\"#wtg\" x=\"403\" y=\"806\"/><use href=\"#wtg\" x=\"761\" y=\"610\"/><use href=\"#wtg\" x=\"584\" y=\"695\"/><use href=\"#wtg\" x=\"232\" y=\"937\"/></g><g fill=\"#ff7f0e\"><use href=\"#wtg\" x=\"862\" y=\"514\"/><use href=\"#wtg\" x=\"776\" y=\"252\"/><use href=\"#wtg\" x=\"1013\" y=\"575\"/><use href=\"#wtg\" x=\"892\" y=\"685\"/><use href=\"#wtg\" x=\"993\" y=\"821\"/><use href=\"#wtg\" x=\"1068\" y=\"978\"/><use href=\"#wtg\" x=\"947\" y=\"358\"/></g><g fill=\"#98df8a\"><use href=\"#wtg\" x=\"1159\" y=\"267\"/><use href=\"#wtg\" x=\"1154\" y=\"448\"/></g><g fill=\"#d62728\"><use href=\"#wtg\" x=\"1643\" y=\"993\"/><use href=\"#wtg\" x=\"1557\" y=\"287\"/><use href=\"#wtg\" x=\"1552\" y=\"494\"/><use href=\"#wtg\" x=\"1366\" y=\"549\"/><use href=\"#wtg\" x=\"1482\" y=\"670\"/><use href=\"#wtg\" x=\"1381\" y=\"791\"/><use href=\"#wtg\" x=\"1467\" y=\"937\"/></g><g fill=\"#ffbb78\"><use href=\"#wtg\" x=\"1199\" y=\"685\"/><use href=\"#wtg\" x=\"1199\" y=\"857\"/></g><g fill=\"#2ca02c\"><use href=\"#wtg\" x=\"1336\" y=\"368\"/></g><g fill=\"#ff9896\"><use href=\"#wtg\" x=\"1598\" y=\"806\"/><use href=\"#wtg\" x=\"1804\" y=\"852\"/><use href=\"#wtg\" x=\"1663\" y=\"585\"/><use href=\"#wtg\" x=\"1860\" y=\"680\"/><use href=\"#wtg\" x=\"1870\" y=\"484\"/><use href=\"#wtg\" x=\"1709\" y=\"383\"/><use href=\"#wtg\" x=\"1880\" y=\"297\"/></g></g><g id=\"OSSgrp\"><use href=\"#oss\" x=\"1264.5\" y=\"518.5\"/></g></g><text filter=\"url(#bg_textbox)\" text-anchor=\"end\" font-family=\"sans-serif\" font-size=\"40\" fill=\"white\" x=\"1890\" y=\"1008\"><tspan x=\"1890\" dy=\"-0.0em\">0 &#8364;</tspan><tspan x=\"1890\" dy=\"-1.3em\">&#931;&#955; = 1820.2 m</tspan><tspan x=\"1890\" dy=\"-1.3em\">(+2) [-1]: 8</tspan><tspan x=\"1890\" dy=\"-1.3em\">&#954; = 7, T = 40</tspan></text></svg>"
      ],
      "text/plain": [
       "<optiwindnet.api.WindFarmNetwork at 0x1955c860aa0>"
      ]
     },
     "execution_count": 9,
     "metadata": {},
     "output_type": "execute_result"
    }
   ],
   "source": [
    "res_optimize = wfn2.optimize()\n",
    "wfn2"
   ]
  },
  {
   "cell_type": "markdown",
   "id": "ca61cc80",
   "metadata": {},
   "source": [
    "We can use `.merge_obstacles_into_border()` to refine the borders, simplify the boundary constraints and remove unrelavant obstacles."
   ]
  },
  {
   "cell_type": "code",
   "execution_count": 10,
   "id": "19171ff2",
   "metadata": {},
   "outputs": [
    {
     "name": "stderr",
     "output_type": "stream",
     "text": [
      "Obstacle at index 1 is completely outside the border and is neglected.\n",
      "Obstacle at index 2 intersects with the exteriour border and is merged into the exterior border.\n"
     ]
    },
    {
     "data": {
      "image/svg+xml": [
       "<svg xmlns=\"http://www.w3.org/2000/svg\" viewBox=\"0 0 1920 937\"><defs><circle stroke=\"orange\" stroke-opacity=\"0.3\" stroke-width=\"4\" id=\"dt\" r=\"23\" fill=\"none\"/><circle stroke=\"none\" stroke-width=\"2\" id=\"wtg\" r=\"12\"/><rect stroke=\"#111\" stroke-width=\"2\" id=\"oss\" width=\"21\" height=\"21\" fill=\"lawngreen\"/><filter x=\"-5%\" y=\"-5%\" id=\"bg_textbox\" width=\"110%\" height=\"110%\"><feFlood flood-opacity=\"0.6\" flood-color=\"black\" result=\"bg\"/><feMerge><feMergeNode in=\"bg\"/><feMergeNode in=\"SourceGraphic\"/></feMerge></filter></defs><g id=\"\"><path stroke=\"silver\" stroke-dasharray=\"15 7\" stroke-width=\"2\" id=\"border\" d=\"M1544 92 1521 555 1527 589 1538 617 1555 633 1572 633 1588 617 1605 594 1611 555 1627 97 1890 108 1868 594 1817 739 1728 851 1616 907 1493 907 1387 840 1304 723 1264 572 1270 410 1153 404 1130 890 756 873 778 393 661 388 656 538 605 689 516 801 399 857 30 846 69 30 723 57 723 103 834 103 834 62z M265 656 281 237 348 242 393 276 421 332 438 410 438 494 415 572 382 628 337 656z\" fill-rule=\"evenodd\" fill=\"#111\"/><g stroke=\"crimson\" stroke-width=\"4\" id=\"edges_unspecified\"><line x1=\"142\" y1=\"47\" x2=\"265\" y2=\"214\"/><line x1=\"1209\" y1=\"376\" x2=\"1276\" y2=\"198\"/><line x1=\"1209\" y1=\"376\" x2=\"918\" y2=\"427\"/><line x1=\"1209\" y1=\"376\" x2=\"1075\" y2=\"287\"/><line x1=\"1209\" y1=\"376\" x2=\"1309\" y2=\"399\"/><line x1=\"265\" y1=\"214\" x2=\"259\" y2=\"399\"/><line x1=\"265\" y1=\"214\" x2=\"80\" y2=\"281\"/><line x1=\"91\" y1=\"583\" x2=\"242\" y2=\"684\"/><line x1=\"326\" y1=\"846\" x2=\"242\" y2=\"684\"/><line x1=\"326\" y1=\"846\" x2=\"522\" y2=\"762\"/><line x1=\"522\" y1=\"762\" x2=\"443\" y2=\"561\"/><line x1=\"242\" y1=\"684\" x2=\"52\" y2=\"829\"/><line x1=\"639\" y1=\"466\" x2=\"443\" y2=\"561\"/><line x1=\"438\" y1=\"293\" x2=\"594\" y2=\"220\"/><line x1=\"438\" y1=\"293\" x2=\"421\" y2=\"97\"/><line x1=\"751\" y1=\"360\" x2=\"918\" y2=\"427\"/><line x1=\"751\" y1=\"360\" x2=\"845\" y2=\"186\"/><line x1=\"656\" y1=\"69\" x2=\"845\" y2=\"186\"/><line x1=\"1080\" y1=\"86\" x2=\"1075\" y2=\"287\"/><line x1=\"918\" y1=\"427\" x2=\"784\" y2=\"550\"/><line x1=\"784\" y1=\"550\" x2=\"896\" y2=\"700\"/><line x1=\"1616\" y1=\"890\" x2=\"1421\" y2=\"829\"/><line x1=\"896\" y1=\"700\" x2=\"980\" y2=\"873\"/><line x1=\"1125\" y1=\"550\" x2=\"1125\" y2=\"739\"/><line x1=\"1521\" y1=\"108\" x2=\"1516\" y2=\"337\"/><line x1=\"1516\" y1=\"337\" x2=\"1438\" y2=\"533\"/><line x1=\"1309\" y1=\"399\" x2=\"1438\" y2=\"533\"/><line x1=\"1438\" y1=\"533\" x2=\"1326\" y2=\"667\"/><line x1=\"1326\" y1=\"667\" x2=\"1421\" y2=\"829\"/><line x1=\"1566\" y1=\"684\" x2=\"1795\" y2=\"734\"/><line x1=\"1795\" y1=\"734\" x2=\"1856\" y2=\"544\"/><line x1=\"1639\" y1=\"438\" x2=\"1689\" y2=\"214\"/><line x1=\"1856\" y1=\"544\" x2=\"1868\" y2=\"326\"/><line x1=\"1868\" y1=\"326\" x2=\"1879\" y2=\"119\"/><line x1=\"1868\" y1=\"326\" x2=\"1689\" y2=\"214\"/></g><g stroke=\"red\" stroke-width=\"4\" id=\"edges_contour\"><line x1=\"265\" y1=\"214\" x2=\"348\" y2=\"242\"/><line x1=\"438\" y1=\"293\" x2=\"348\" y2=\"242\"/></g><g stroke=\"darkorange\" stroke-dasharray=\"18 15\" stroke-width=\"4\" id=\"detours\" fill=\"none\"><polyline points=\"1209 376 656 69 594 220\"/><polyline points=\"1209 376 656 69 639 466\"/><polyline points=\"1209 376 1270 410 1326 667 1421 829 1616 890 1566 684\"/><polyline points=\"1209 376 1153 404 1125 550\"/></g><g id=\"DTgrp\"><use href=\"#dt\" x=\"656\" y=\"69\"/><use href=\"#dt\" x=\"656\" y=\"69\"/><use href=\"#dt\" x=\"1616\" y=\"890\"/><use href=\"#dt\" x=\"1421\" y=\"829\"/><use href=\"#dt\" x=\"1326\" y=\"667\"/><use href=\"#dt\" x=\"1270\" y=\"410\"/><use href=\"#dt\" x=\"1153\" y=\"404\"/></g><g id=\"WTGgrp\"><g fill=\"#aec7e8\"><use href=\"#wtg\" x=\"142\" y=\"47\"/><use href=\"#wtg\" x=\"265\" y=\"214\"/><use href=\"#wtg\" x=\"80\" y=\"281\"/><use href=\"#wtg\" x=\"259\" y=\"399\"/><use href=\"#wtg\" x=\"438\" y=\"293\"/><use href=\"#wtg\" x=\"421\" y=\"97\"/><use href=\"#wtg\" x=\"594\" y=\"220\"/></g><g fill=\"#1f77b4\"><use href=\"#wtg\" x=\"91\" y=\"583\"/><use href=\"#wtg\" x=\"326\" y=\"846\"/><use href=\"#wtg\" x=\"522\" y=\"762\"/><use href=\"#wtg\" x=\"242\" y=\"684\"/><use href=\"#wtg\" x=\"639\" y=\"466\"/><use href=\"#wtg\" x=\"443\" y=\"561\"/><use href=\"#wtg\" x=\"52\" y=\"829\"/></g><g fill=\"#ff7f0e\"><use href=\"#wtg\" x=\"751\" y=\"360\"/><use href=\"#wtg\" x=\"656\" y=\"69\"/><use href=\"#wtg\" x=\"918\" y=\"427\"/><use href=\"#wtg\" x=\"784\" y=\"550\"/><use href=\"#wtg\" x=\"896\" y=\"700\"/><use href=\"#wtg\" x=\"980\" y=\"873\"/><use href=\"#wtg\" x=\"845\" y=\"186\"/></g><g fill=\"#98df8a\"><use href=\"#wtg\" x=\"1080\" y=\"86\"/><use href=\"#wtg\" x=\"1075\" y=\"287\"/></g><g fill=\"#d62728\"><use href=\"#wtg\" x=\"1616\" y=\"890\"/><use href=\"#wtg\" x=\"1521\" y=\"108\"/><use href=\"#wtg\" x=\"1516\" y=\"337\"/><use href=\"#wtg\" x=\"1309\" y=\"399\"/><use href=\"#wtg\" x=\"1438\" y=\"533\"/><use href=\"#wtg\" x=\"1326\" y=\"667\"/><use href=\"#wtg\" x=\"1421\" y=\"829\"/></g><g fill=\"#ffbb78\"><use href=\"#wtg\" x=\"1125\" y=\"550\"/><use href=\"#wtg\" x=\"1125\" y=\"739\"/></g><g fill=\"#2ca02c\"><use href=\"#wtg\" x=\"1276\" y=\"198\"/></g><g fill=\"#ff9896\"><use href=\"#wtg\" x=\"1566\" y=\"684\"/><use href=\"#wtg\" x=\"1795\" y=\"734\"/><use href=\"#wtg\" x=\"1639\" y=\"438\"/><use href=\"#wtg\" x=\"1856\" y=\"544\"/><use href=\"#wtg\" x=\"1868\" y=\"326\"/><use href=\"#wtg\" x=\"1689\" y=\"214\"/><use href=\"#wtg\" x=\"1879\" y=\"119\"/></g></g><g id=\"OSSgrp\"><use href=\"#oss\" x=\"1198.5\" y=\"365.5\"/></g></g><text filter=\"url(#bg_textbox)\" text-anchor=\"end\" font-family=\"sans-serif\" font-size=\"40\" fill=\"white\" x=\"1890\" y=\"907\"><tspan x=\"1890\" dy=\"-0.0em\">0 &#8364;</tspan><tspan x=\"1890\" dy=\"-1.3em\">&#931;&#955; = 1819.9 m</tspan><tspan x=\"1890\" dy=\"-1.3em\">(+2) [-1]: 8</tspan><tspan x=\"1890\" dy=\"-1.3em\">&#954; = 7, T = 40</tspan></text></svg>"
      ],
      "text/plain": [
       "<optiwindnet.api.WindFarmNetwork at 0x1955c860aa0>"
      ]
     },
     "execution_count": 10,
     "metadata": {},
     "output_type": "execute_result"
    }
   ],
   "source": [
    "wfn2.merge_obstacles_into_border()\n",
    "res_optimize = wfn2.optimize()\n",
    "wfn2"
   ]
  },
  {
   "cell_type": "markdown",
   "id": "94cee1a3",
   "metadata": {},
   "source": [
    "## Buffering\n",
    "After initializing the WindFarmNetwork, a buffer can be applied to borders and obstacles via `.buffer_border_obstacles` method. The exterior border will be expanded, while interior obstacles will be shrunk accordingly."
   ]
  },
  {
   "cell_type": "markdown",
   "id": "720bd420",
   "metadata": {},
   "source": [
    "Initialize `WindFarmNetwork` instance"
   ]
  },
  {
   "cell_type": "code",
   "execution_count": 11,
   "id": "8b234771",
   "metadata": {},
   "outputs": [
    {
     "data": {
      "image/svg+xml": [
       "<svg xmlns=\"http://www.w3.org/2000/svg\" viewBox=\"0 0 1920 891\"><defs><circle stroke=\"orange\" stroke-opacity=\"0.3\" stroke-width=\"4\" id=\"dt\" r=\"23\" fill=\"none\"/><circle stroke=\"none\" stroke-width=\"2\" id=\"wtg\" r=\"12\"/><rect stroke=\"#111\" stroke-width=\"2\" id=\"oss\" width=\"21\" height=\"21\" fill=\"lawngreen\"/><filter x=\"-5%\" y=\"-5%\" id=\"bg_textbox\" width=\"110%\" height=\"110%\"><feFlood flood-opacity=\"0.6\" flood-color=\"black\" result=\"bg\"/><feMerge><feMergeNode in=\"bg\"/><feMergeNode in=\"SourceGraphic\"/></feMerge></filter></defs><g id=\"dtu\"><path stroke=\"silver\" stroke-dasharray=\"15 7\" stroke-width=\"2\" id=\"border\" d=\"M30 861 405 859 519 794 605 676 650 524 650 366 770 366 770 861 1150 861 1149 366 1270 366 1271 533 1319 684 1408 799 1522 860 1646 858 1759 793 1845 675 1890 525 1890 30 1625 30 1625 501 1618 537 1606 564 1589 579 1572 580 1555 566 1542 539 1535 502 1535 31 30 30z M260 658 260 233 328 232 372 263 407 323 426 400 426 485 408 564 375 625 331 658z\" fill-rule=\"evenodd\" fill=\"#111\"/><g stroke=\"crimson\" stroke-width=\"4\" id=\"edges_unspecified\"><line x1=\"107\" y1=\"42\" x2=\"237\" y2=\"206\"/><line x1=\"1210\" y1=\"331\" x2=\"1271\" y2=\"147\"/><line x1=\"1210\" y1=\"331\" x2=\"915\" y2=\"397\"/><line x1=\"1210\" y1=\"331\" x2=\"1068\" y2=\"249\"/><line x1=\"1210\" y1=\"331\" x2=\"1313\" y2=\"351\"/><line x1=\"237\" y1=\"206\" x2=\"239\" y2=\"398\"/><line x1=\"237\" y1=\"206\" x2=\"58\" y2=\"286\"/><line x1=\"77\" y1=\"590\" x2=\"236\" y2=\"687\"/><line x1=\"329\" y1=\"847\" x2=\"236\" y2=\"687\"/><line x1=\"329\" y1=\"847\" x2=\"525\" y2=\"753\"/><line x1=\"525\" y1=\"753\" x2=\"438\" y2=\"556\"/><line x1=\"236\" y1=\"687\" x2=\"51\" y2=\"845\"/><line x1=\"633\" y1=\"448\" x2=\"438\" y2=\"556\"/><line x1=\"420\" y1=\"282\" x2=\"575\" y2=\"202\"/><line x1=\"420\" y1=\"282\" x2=\"392\" y2=\"81\"/><line x1=\"739\" y1=\"334\" x2=\"915\" y2=\"397\"/><line x1=\"739\" y1=\"334\" x2=\"828\" y2=\"155\"/><line x1=\"630\" y1=\"43\" x2=\"828\" y2=\"155\"/><line x1=\"1064\" y1=\"42\" x2=\"1068\" y2=\"249\"/><line x1=\"915\" y1=\"397\" x2=\"785\" y2=\"526\"/><line x1=\"785\" y1=\"526\" x2=\"904\" y2=\"678\"/><line x1=\"1643\" y1=\"840\" x2=\"1446\" y2=\"787\"/><line x1=\"904\" y1=\"678\" x2=\"993\" y2=\"847\"/><line x1=\"1129\" y1=\"512\" x2=\"1137\" y2=\"704\"/><line x1=\"1517\" y1=\"49\" x2=\"1519\" y2=\"280\"/><line x1=\"1519\" y1=\"280\" x2=\"1313\" y2=\"351\"/><line x1=\"1313\" y1=\"351\" x2=\"1445\" y2=\"482\"/><line x1=\"1445\" y1=\"482\" x2=\"1338\" y2=\"626\"/><line x1=\"1338\" y1=\"626\" x2=\"1446\" y2=\"787\"/><line x1=\"1588\" y1=\"630\" x2=\"1823\" y2=\"671\"/><line x1=\"1823\" y1=\"671\" x2=\"1875\" y2=\"478\"/><line x1=\"1649\" y1=\"377\" x2=\"1692\" y2=\"146\"/><line x1=\"1875\" y1=\"478\" x2=\"1876\" y2=\"252\"/><line x1=\"1876\" y1=\"252\" x2=\"1878\" y2=\"42\"/><line x1=\"1876\" y1=\"252\" x2=\"1692\" y2=\"146\"/></g><g stroke=\"red\" stroke-width=\"4\" id=\"edges_contour\"><line x1=\"237\" y1=\"206\" x2=\"328\" y2=\"232\"/><line x1=\"420\" y1=\"282\" x2=\"328\" y2=\"232\"/></g><g stroke=\"darkorange\" stroke-dasharray=\"18 15\" stroke-width=\"4\" id=\"detours\" fill=\"none\"><polyline points=\"1210 331 630 43 575 202\"/><polyline points=\"1210 331 630 43 633 448\"/><polyline points=\"1210 331 1270 366 1338 626 1446 787 1643 840 1588 630\"/><polyline points=\"1210 331 1149 366 1129 512\"/></g><g id=\"DTgrp\"><use href=\"#dt\" x=\"630\" y=\"43\"/><use href=\"#dt\" x=\"630\" y=\"43\"/><use href=\"#dt\" x=\"1643\" y=\"840\"/><use href=\"#dt\" x=\"1446\" y=\"787\"/><use href=\"#dt\" x=\"1338\" y=\"626\"/><use href=\"#dt\" x=\"1270\" y=\"366\"/><use href=\"#dt\" x=\"1149\" y=\"366\"/></g><g id=\"WTGgrp\"><g fill=\"#aec7e8\"><use href=\"#wtg\" x=\"107\" y=\"42\"/><use href=\"#wtg\" x=\"237\" y=\"206\"/><use href=\"#wtg\" x=\"58\" y=\"286\"/><use href=\"#wtg\" x=\"239\" y=\"398\"/><use href=\"#wtg\" x=\"420\" y=\"282\"/><use href=\"#wtg\" x=\"392\" y=\"81\"/><use href=\"#wtg\" x=\"575\" y=\"202\"/></g><g fill=\"#1f77b4\"><use href=\"#wtg\" x=\"77\" y=\"590\"/><use href=\"#wtg\" x=\"329\" y=\"847\"/><use href=\"#wtg\" x=\"525\" y=\"753\"/><use href=\"#wtg\" x=\"236\" y=\"687\"/><use href=\"#wtg\" x=\"633\" y=\"448\"/><use href=\"#wtg\" x=\"438\" y=\"556\"/><use href=\"#wtg\" x=\"51\" y=\"845\"/></g><g fill=\"#ff7f0e\"><use href=\"#wtg\" x=\"739\" y=\"334\"/><use href=\"#wtg\" x=\"630\" y=\"43\"/><use href=\"#wtg\" x=\"915\" y=\"397\"/><use href=\"#wtg\" x=\"785\" y=\"526\"/><use href=\"#wtg\" x=\"904\" y=\"678\"/><use href=\"#wtg\" x=\"993\" y=\"847\"/><use href=\"#wtg\" x=\"828\" y=\"155\"/></g><g fill=\"#98df8a\"><use href=\"#wtg\" x=\"1064\" y=\"42\"/><use href=\"#wtg\" x=\"1068\" y=\"249\"/></g><g fill=\"#d62728\"><use href=\"#wtg\" x=\"1643\" y=\"840\"/><use href=\"#wtg\" x=\"1517\" y=\"49\"/><use href=\"#wtg\" x=\"1519\" y=\"280\"/><use href=\"#wtg\" x=\"1313\" y=\"351\"/><use href=\"#wtg\" x=\"1445\" y=\"482\"/><use href=\"#wtg\" x=\"1338\" y=\"626\"/><use href=\"#wtg\" x=\"1446\" y=\"787\"/></g><g fill=\"#ffbb78\"><use href=\"#wtg\" x=\"1129\" y=\"512\"/><use href=\"#wtg\" x=\"1137\" y=\"704\"/></g><g fill=\"#2ca02c\"><use href=\"#wtg\" x=\"1271\" y=\"147\"/></g><g fill=\"#ff9896\"><use href=\"#wtg\" x=\"1588\" y=\"630\"/><use href=\"#wtg\" x=\"1823\" y=\"671\"/><use href=\"#wtg\" x=\"1649\" y=\"377\"/><use href=\"#wtg\" x=\"1875\" y=\"478\"/><use href=\"#wtg\" x=\"1876\" y=\"252\"/><use href=\"#wtg\" x=\"1692\" y=\"146\"/><use href=\"#wtg\" x=\"1878\" y=\"42\"/></g></g><g id=\"OSSgrp\"><use href=\"#oss\" x=\"1199.5\" y=\"320.5\"/></g></g><text filter=\"url(#bg_textbox)\" text-anchor=\"end\" font-family=\"sans-serif\" font-size=\"40\" fill=\"white\" x=\"1890\" y=\"861\"><tspan x=\"1890\" dy=\"-0.0em\">0 &#8364;</tspan><tspan x=\"1890\" dy=\"-1.3em\">&#931;&#955; = 1820.2 m</tspan><tspan x=\"1890\" dy=\"-1.3em\">(+2) [-1]: 8</tspan><tspan x=\"1890\" dy=\"-1.3em\">&#954; = 7, T = 40</tspan></text></svg>"
      ],
      "text/plain": [
       "<optiwindnet.api.WindFarmNetwork at 0x1955bf78bf0>"
      ]
     },
     "execution_count": 11,
     "metadata": {},
     "output_type": "execute_result"
    }
   ],
   "source": [
    "wfn3 = WindFarmNetwork.from_pbf(filepath='data/DTU_letters.osm.pbf', cables=7)\n",
    "res_optimize = wfn3.optimize()\n",
    "wfn3"
   ]
  },
  {
   "cell_type": "markdown",
   "id": "b4f7bcce",
   "metadata": {},
   "source": [
    "apply buffering to `wfn3`."
   ]
  },
  {
   "cell_type": "code",
   "execution_count": 12,
   "id": "308c5173",
   "metadata": {},
   "outputs": [
    {
     "name": "stderr",
     "output_type": "stream",
     "text": [
      "The defined border is non-convex and buffering may introduce unexpected changes. For visual comparison use plot_original_vs_buffered().\n"
     ]
    },
    {
     "data": {
      "image/svg+xml": [
       "<svg xmlns=\"http://www.w3.org/2000/svg\" viewBox=\"0 0 1920 921\"><defs><circle stroke=\"orange\" stroke-opacity=\"0.3\" stroke-width=\"4\" id=\"dt\" r=\"23\" fill=\"none\"/><circle stroke=\"none\" stroke-width=\"2\" id=\"wtg\" r=\"12\"/><rect stroke=\"#111\" stroke-width=\"2\" id=\"oss\" width=\"21\" height=\"21\" fill=\"lawngreen\"/><filter x=\"-5%\" y=\"-5%\" id=\"bg_textbox\" width=\"110%\" height=\"110%\"><feFlood flood-opacity=\"0.6\" flood-color=\"black\" result=\"bg\"/><feMerge><feMergeNode in=\"bg\"/><feMergeNode in=\"SourceGraphic\"/></feMerge></filter></defs><g id=\"dtu\"><path stroke=\"silver\" stroke-dasharray=\"15 7\" stroke-width=\"2\" id=\"border\" d=\"M30 863 30 57 38 38 58 30 1518 30 1537 38 1546 58 1546 512 1551 542 1560 560 1561 561 1564 559 1572 540 1578 511 1578 57 1586 38 1605 30 1862 30 1882 38 1890 57 1890 537 1889 545 1845 691 1841 699 1758 814 1749 822 1639 885 1626 888 1506 890 1493 887 1381 828 1373 820 1287 709 1282 700 1235 553 1234 545 1233 411 1172 411 1172 863 1164 883 1144 891 776 891 756 883 748 863 748 411 687 411 687 537 686 544 642 692 638 700 554 814 546 822 436 885 422 889 58 891 38 883z M309 639 309 281 338 281 369 303 397 351 414 420 415 496 399 565 371 615 340 639 309 639z\" fill-rule=\"evenodd\" fill=\"#111\"/><g stroke=\"crimson\" stroke-width=\"4\" id=\"edges_unspecified\"><line x1=\"132\" y1=\"68\" x2=\"258\" y2=\"228\"/><line x1=\"1202\" y1=\"349\" x2=\"1262\" y2=\"171\"/><line x1=\"1202\" y1=\"349\" x2=\"916\" y2=\"413\"/><line x1=\"1202\" y1=\"349\" x2=\"1065\" y2=\"270\"/><line x1=\"1202\" y1=\"349\" x2=\"1303\" y2=\"368\"/><line x1=\"258\" y1=\"228\" x2=\"261\" y2=\"414\"/><line x1=\"258\" y1=\"228\" x2=\"84\" y2=\"305\"/><line x1=\"258\" y1=\"228\" x2=\"436\" y2=\"302\"/><line x1=\"103\" y1=\"601\" x2=\"258\" y2=\"695\"/><line x1=\"348\" y1=\"849\" x2=\"258\" y2=\"695\"/><line x1=\"348\" y1=\"849\" x2=\"538\" y2=\"758\"/><line x1=\"538\" y1=\"758\" x2=\"454\" y2=\"567\"/><line x1=\"258\" y1=\"695\" x2=\"78\" y2=\"848\"/><line x1=\"643\" y1=\"462\" x2=\"454\" y2=\"567\"/><line x1=\"436\" y1=\"302\" x2=\"586\" y2=\"224\"/><line x1=\"436\" y1=\"302\" x2=\"409\" y2=\"106\"/><line x1=\"745\" y1=\"352\" x2=\"916\" y2=\"413\"/><line x1=\"745\" y1=\"352\" x2=\"832\" y2=\"178\"/><line x1=\"640\" y1=\"70\" x2=\"832\" y2=\"178\"/><line x1=\"1061\" y1=\"69\" x2=\"1065\" y2=\"270\"/><line x1=\"916\" y1=\"413\" x2=\"790\" y2=\"539\"/><line x1=\"790\" y1=\"539\" x2=\"905\" y2=\"685\"/><line x1=\"1623\" y1=\"843\" x2=\"1431\" y2=\"791\"/><line x1=\"905\" y1=\"685\" x2=\"992\" y2=\"850\"/><line x1=\"1124\" y1=\"525\" x2=\"1132\" y2=\"711\"/><line x1=\"1501\" y1=\"76\" x2=\"1503\" y2=\"300\"/><line x1=\"1503\" y1=\"300\" x2=\"1303\" y2=\"368\"/><line x1=\"1303\" y1=\"368\" x2=\"1431\" y2=\"496\"/><line x1=\"1431\" y1=\"496\" x2=\"1326\" y2=\"635\"/><line x1=\"1326\" y1=\"635\" x2=\"1431\" y2=\"791\"/><line x1=\"1569\" y1=\"640\" x2=\"1797\" y2=\"679\"/><line x1=\"1797\" y1=\"679\" x2=\"1848\" y2=\"492\"/><line x1=\"1629\" y1=\"394\" x2=\"1671\" y2=\"170\"/><line x1=\"1848\" y1=\"492\" x2=\"1849\" y2=\"273\"/><line x1=\"1849\" y1=\"273\" x2=\"1851\" y2=\"68\"/><line x1=\"1671\" y1=\"170\" x2=\"1851\" y2=\"68\"/></g><g stroke=\"darkorange\" stroke-dasharray=\"18 15\" stroke-width=\"4\" id=\"detours\" fill=\"none\"><polyline points=\"1202 349 640 70 586 224\"/><polyline points=\"1202 349 640 70 643 462\"/><polyline points=\"1202 349 1233 411 1326 635 1431 791 1623 843 1569 640\"/><polyline points=\"1202 349 1172 411 1124 525\"/></g><g id=\"DTgrp\"><use href=\"#dt\" x=\"640\" y=\"70\"/><use href=\"#dt\" x=\"640\" y=\"70\"/><use href=\"#dt\" x=\"1623\" y=\"843\"/><use href=\"#dt\" x=\"1431\" y=\"791\"/><use href=\"#dt\" x=\"1326\" y=\"635\"/><use href=\"#dt\" x=\"1233\" y=\"411\"/><use href=\"#dt\" x=\"1172\" y=\"411\"/></g><g id=\"WTGgrp\"><g fill=\"#aec7e8\"><use href=\"#wtg\" x=\"132\" y=\"68\"/><use href=\"#wtg\" x=\"258\" y=\"228\"/><use href=\"#wtg\" x=\"84\" y=\"305\"/><use href=\"#wtg\" x=\"261\" y=\"414\"/><use href=\"#wtg\" x=\"436\" y=\"302\"/><use href=\"#wtg\" x=\"409\" y=\"106\"/><use href=\"#wtg\" x=\"586\" y=\"224\"/></g><g fill=\"#1f77b4\"><use href=\"#wtg\" x=\"103\" y=\"601\"/><use href=\"#wtg\" x=\"348\" y=\"849\"/><use href=\"#wtg\" x=\"538\" y=\"758\"/><use href=\"#wtg\" x=\"258\" y=\"695\"/><use href=\"#wtg\" x=\"643\" y=\"462\"/><use href=\"#wtg\" x=\"454\" y=\"567\"/><use href=\"#wtg\" x=\"78\" y=\"848\"/></g><g fill=\"#ff7f0e\"><use href=\"#wtg\" x=\"745\" y=\"352\"/><use href=\"#wtg\" x=\"640\" y=\"70\"/><use href=\"#wtg\" x=\"916\" y=\"413\"/><use href=\"#wtg\" x=\"790\" y=\"539\"/><use href=\"#wtg\" x=\"905\" y=\"685\"/><use href=\"#wtg\" x=\"992\" y=\"850\"/><use href=\"#wtg\" x=\"832\" y=\"178\"/></g><g fill=\"#98df8a\"><use href=\"#wtg\" x=\"1061\" y=\"69\"/><use href=\"#wtg\" x=\"1065\" y=\"270\"/></g><g fill=\"#d62728\"><use href=\"#wtg\" x=\"1623\" y=\"843\"/><use href=\"#wtg\" x=\"1501\" y=\"76\"/><use href=\"#wtg\" x=\"1503\" y=\"300\"/><use href=\"#wtg\" x=\"1303\" y=\"368\"/><use href=\"#wtg\" x=\"1431\" y=\"496\"/><use href=\"#wtg\" x=\"1326\" y=\"635\"/><use href=\"#wtg\" x=\"1431\" y=\"791\"/></g><g fill=\"#ffbb78\"><use href=\"#wtg\" x=\"1124\" y=\"525\"/><use href=\"#wtg\" x=\"1132\" y=\"711\"/></g><g fill=\"#2ca02c\"><use href=\"#wtg\" x=\"1262\" y=\"171\"/></g><g fill=\"#ff9896\"><use href=\"#wtg\" x=\"1569\" y=\"640\"/><use href=\"#wtg\" x=\"1797\" y=\"679\"/><use href=\"#wtg\" x=\"1629\" y=\"394\"/><use href=\"#wtg\" x=\"1848\" y=\"492\"/><use href=\"#wtg\" x=\"1849\" y=\"273\"/><use href=\"#wtg\" x=\"1671\" y=\"170\"/><use href=\"#wtg\" x=\"1851\" y=\"68\"/></g></g><g id=\"OSSgrp\"><use href=\"#oss\" x=\"1191.5\" y=\"338.5\"/></g></g><text filter=\"url(#bg_textbox)\" text-anchor=\"end\" font-family=\"sans-serif\" font-size=\"40\" fill=\"white\" x=\"1890\" y=\"891\"><tspan x=\"1890\" dy=\"-0.0em\">0 &#8364;</tspan><tspan x=\"1890\" dy=\"-1.3em\">&#931;&#955; = 1814.0 m</tspan><tspan x=\"1890\" dy=\"-1.3em\">(+2) [-1]: 8</tspan><tspan x=\"1890\" dy=\"-1.3em\">&#954; = 7, T = 40</tspan></text></svg>"
      ],
      "text/plain": [
       "<optiwindnet.api.WindFarmNetwork at 0x1955bf78bf0>"
      ]
     },
     "execution_count": 12,
     "metadata": {},
     "output_type": "execute_result"
    }
   ],
   "source": [
    "wfn3.add_buffer(buffer_dist=5)\n",
    "res_optimize = wfn3.optimize()\n",
    "wfn3"
   ]
  },
  {
   "cell_type": "markdown",
   "id": "4f1fd860",
   "metadata": {},
   "source": [
    "Original vs buffered border/obstacles can be visualized using plot_original_vs_buffered()"
   ]
  },
  {
   "cell_type": "code",
   "execution_count": 13,
   "id": "52dac514",
   "metadata": {},
   "outputs": [
    {
     "data": {
      "image/svg+xml": [
       "<?xml version=\"1.0\" encoding=\"utf-8\" standalone=\"no\"?>\n",
       "<!DOCTYPE svg PUBLIC \"-//W3C//DTD SVG 1.1//EN\"\n",
       "  \"http://www.w3.org/Graphics/SVG/1.1/DTD/svg11.dtd\">\n",
       "<svg xmlns:xlink=\"http://www.w3.org/1999/xlink\" width=\"469.19952pt\" height=\"251.570521pt\" viewBox=\"0 0 469.19952 251.570521\" xmlns=\"http://www.w3.org/2000/svg\" version=\"1.1\">\n",
       " <metadata>\n",
       "  <rdf:RDF xmlns:dc=\"http://purl.org/dc/elements/1.1/\" xmlns:cc=\"http://creativecommons.org/ns#\" xmlns:rdf=\"http://www.w3.org/1999/02/22-rdf-syntax-ns#\">\n",
       "   <cc:Work>\n",
       "    <dc:type rdf:resource=\"http://purl.org/dc/dcmitype/StillImage\"/>\n",
       "    <dc:date>2025-08-26T20:23:51.585892</dc:date>\n",
       "    <dc:format>image/svg+xml</dc:format>\n",
       "    <dc:creator>\n",
       "     <cc:Agent>\n",
       "      <dc:title>Matplotlib v3.10.1, https://matplotlib.org/</dc:title>\n",
       "     </cc:Agent>\n",
       "    </dc:creator>\n",
       "   </cc:Work>\n",
       "  </rdf:RDF>\n",
       " </metadata>\n",
       " <defs>\n",
       "  <style type=\"text/css\">*{stroke-linejoin: round; stroke-linecap: butt}</style>\n",
       " </defs>\n",
       " <g id=\"figure_1\">\n",
       "  <g id=\"patch_1\">\n",
       "   <path d=\"M 0 251.570521 \n",
       "L 469.19952 251.570521 \n",
       "L 469.19952 0 \n",
       "L 0 0 \n",
       "z\n",
       "\" style=\"fill: #ffffff\"/>\n",
       "  </g>\n",
       "  <g id=\"axes_1\">\n",
       "   <g id=\"patch_2\">\n",
       "    <path d=\"M 33.902485 214.426123 \n",
       "L 113.447893 217.310383 \n",
       "L 138.017037 204.542055 \n",
       "L 157.29303 180.306745 \n",
       "L 168.228729 148.592408 \n",
       "L 169.634305 115.119382 \n",
       "L 195.088271 116.188167 \n",
       "L 190.687136 221.011245 \n",
       "L 271.108427 224.387206 \n",
       "L 275.44728 119.561546 \n",
       "L 300.901258 120.629818 \n",
       "L 299.656701 155.898496 \n",
       "L 308.617071 188.434565 \n",
       "L 326.304876 213.616263 \n",
       "L 350.024882 227.591195 \n",
       "L 376.165424 228.244012 \n",
       "L 400.757223 215.461995 \n",
       "L 420.040696 191.19921 \n",
       "L 430.896963 159.709751 \n",
       "L 435.297035 54.980867 \n",
       "L 379.156426 52.625941 \n",
       "L 374.972923 152.346916 \n",
       "L 373.245047 159.84703 \n",
       "L 370.36055 165.576963 \n",
       "L 366.744553 168.639919 \n",
       "L 362.955288 168.588549 \n",
       "L 359.56274 165.419866 \n",
       "L 357.085711 159.626402 \n",
       "L 355.922768 151.668745 \n",
       "L 360.090336 51.973996 \n",
       "L 41.296729 38.441085 \n",
       "z\n",
       "\" clip-path=\"url(#pd7a76ba99e)\" style=\"fill: #add8e6\"/>\n",
       "   </g>\n",
       "   <g id=\"patch_3\">\n",
       "    <path d=\"M 84.497856 173.563921 \n",
       "L 88.285814 83.389529 \n",
       "L 102.551575 83.827368 \n",
       "L 111.72981 90.88433 \n",
       "L 118.492434 103.71768 \n",
       "L 121.8192 120.388057 \n",
       "L 121.194164 138.345108 \n",
       "L 116.716597 154.862553 \n",
       "L 109.070052 167.413504 \n",
       "L 99.412762 174.109726 \n",
       "z\n",
       "\" clip-path=\"url(#pd7a76ba99e)\" style=\"fill: #ffffff\"/>\n",
       "   </g>\n",
       "   <g id=\"patch_4\">\n",
       "    <path d=\"M 27.872705 214.172774 \n",
       "L 35.26695 38.187735 \n",
       "L 37.213139 33.997357 \n",
       "L 41.552691 32.411416 \n",
       "L 360.346298 45.944327 \n",
       "L 364.533629 47.889933 \n",
       "L 366.120169 52.226063 \n",
       "L 361.976224 151.355699 \n",
       "L 362.943762 157.976256 \n",
       "L 364.611827 161.877653 \n",
       "L 364.98216 162.223549 \n",
       "L 365.522371 161.765959 \n",
       "L 367.527328 157.783196 \n",
       "L 368.96653 151.536116 \n",
       "L 373.12663 52.372979 \n",
       "L 375.071576 48.183371 \n",
       "L 379.409357 46.596144 \n",
       "L 435.549966 48.95107 \n",
       "L 439.739731 50.896155 \n",
       "L 441.326815 55.234201 \n",
       "L 436.926743 159.963086 \n",
       "L 436.602504 161.676786 \n",
       "L 425.746237 193.166246 \n",
       "L 424.765333 194.954237 \n",
       "L 405.48186 219.217022 \n",
       "L 403.540552 220.816947 \n",
       "L 378.948753 233.598963 \n",
       "L 376.014754 234.27723 \n",
       "L 349.874213 233.624414 \n",
       "L 346.961385 232.790946 \n",
       "L 323.241379 218.816014 \n",
       "L 321.366321 217.085139 \n",
       "L 303.678516 191.903441 \n",
       "L 302.798588 190.036964 \n",
       "L 293.838218 157.500895 \n",
       "L 293.625356 155.685663 \n",
       "L 294.658494 126.408229 \n",
       "L 281.227486 125.844546 \n",
       "L 277.138363 224.636792 \n",
       "L 275.19445 228.828697 \n",
       "L 270.855306 230.416995 \n",
       "L 190.434015 227.041033 \n",
       "L 186.244432 225.095948 \n",
       "L 184.657349 220.758076 \n",
       "L 188.805316 121.96477 \n",
       "L 175.410892 121.402352 \n",
       "L 174.258514 148.845607 \n",
       "L 173.934164 150.559749 \n",
       "L 162.998465 182.274086 \n",
       "L 162.016304 184.063486 \n",
       "L 142.740311 208.298796 \n",
       "L 140.800038 209.897176 \n",
       "L 116.230894 222.665505 \n",
       "L 113.229209 223.341519 \n",
       "L 33.6838 220.457259 \n",
       "L 29.4714 218.523429 \n",
       "L 27.872705 214.172774 \n",
       "z\n",
       "\" clip-path=\"url(#pd7a76ba99e)\" style=\"fill: none; stroke-dasharray: 3.7,1.6; stroke-dashoffset: 0; stroke: #ff0000; stroke-linejoin: miter\"/>\n",
       "   </g>\n",
       "   <g id=\"patch_5\">\n",
       "    <path d=\"M 90.782303 167.754759 \n",
       "L 94.065148 89.604847 \n",
       "L 100.418184 89.799832 \n",
       "L 107.005555 94.864731 \n",
       "L 112.745299 105.756973 \n",
       "L 115.763315 120.88021 \n",
       "L 115.186959 137.438706 \n",
       "L 111.116228 152.455359 \n",
       "L 104.58102 163.182175 \n",
       "L 97.62529 168.005175 \n",
       "L 90.782303 167.754759 \n",
       "z\n",
       "\" clip-path=\"url(#pd7a76ba99e)\" style=\"fill: none; stroke-dasharray: 3.7,1.6; stroke-dashoffset: 0; stroke: #000000; stroke-linejoin: miter\"/>\n",
       "   </g>\n",
       "   <g id=\"text_1\">\n",
       "    <text style=\"font-size: 12px; font-family: 'DejaVu Sans', 'Bitstream Vera Sans', 'Computer Modern Sans Serif', 'Lucida Grande', 'Verdana', 'Geneva', 'Lucid', 'Arial', 'Helvetica', 'Avant Garde', sans-serif; text-anchor: middle\" x=\"234.59976\" y=\"16.318125\" transform=\"rotate(-0 234.59976 16.318125)\">Original and Buffered Shapes</text>\n",
       "   </g>\n",
       "   <g id=\"legend_1\">\n",
       "    <g id=\"patch_6\">\n",
       "     <path d=\"M 173.666947 89.030625 \n",
       "L 295.532573 89.030625 \n",
       "Q 297.532573 89.030625 297.532573 87.030625 \n",
       "L 297.532573 29.318125 \n",
       "Q 297.532573 27.318125 295.532573 27.318125 \n",
       "L 173.666947 27.318125 \n",
       "Q 171.666947 27.318125 171.666947 29.318125 \n",
       "L 171.666947 87.030625 \n",
       "Q 171.666947 89.030625 173.666947 89.030625 \n",
       "z\n",
       "\" style=\"fill: #ffffff; opacity: 0.8; stroke: #cccccc; stroke-linejoin: miter\"/>\n",
       "    </g>\n",
       "    <g id=\"patch_7\">\n",
       "     <path d=\"M 175.666947 38.916562 \n",
       "L 195.666947 38.916562 \n",
       "L 195.666947 31.916562 \n",
       "L 175.666947 31.916562 \n",
       "z\n",
       "\" style=\"fill: #add8e6\"/>\n",
       "    </g>\n",
       "    <g id=\"text_2\">\n",
       "     <text style=\"font-size: 10px; font-family: 'DejaVu Sans', 'Bitstream Vera Sans', 'Computer Modern Sans Serif', 'Lucida Grande', 'Verdana', 'Geneva', 'Lucid', 'Arial', 'Helvetica', 'Avant Garde', sans-serif; text-anchor: start\" x=\"203.666947\" y=\"38.916562\" transform=\"rotate(-0 203.666947 38.916562)\">Original Border</text>\n",
       "    </g>\n",
       "    <g id=\"patch_8\">\n",
       "     <path d=\"M 175.666947 53.594687 \n",
       "L 195.666947 53.594687 \n",
       "L 195.666947 46.594687 \n",
       "L 175.666947 46.594687 \n",
       "z\n",
       "\" style=\"fill: #ffffff\"/>\n",
       "    </g>\n",
       "    <g id=\"text_3\">\n",
       "     <text style=\"font-size: 10px; font-family: 'DejaVu Sans', 'Bitstream Vera Sans', 'Computer Modern Sans Serif', 'Lucida Grande', 'Verdana', 'Geneva', 'Lucid', 'Arial', 'Helvetica', 'Avant Garde', sans-serif; text-anchor: start\" x=\"203.666947\" y=\"53.594687\" transform=\"rotate(-0 203.666947 53.594687)\">Original Obstacle</text>\n",
       "    </g>\n",
       "    <g id=\"patch_9\">\n",
       "     <path d=\"M 175.666947 68.272812 \n",
       "L 195.666947 68.272812 \n",
       "L 195.666947 61.272812 \n",
       "L 175.666947 61.272812 \n",
       "L 175.666947 68.272812 \n",
       "z\n",
       "\" style=\"fill: none; stroke-dasharray: 3.7,1.6; stroke-dashoffset: 0; stroke: #ff0000; stroke-linejoin: miter\"/>\n",
       "    </g>\n",
       "    <g id=\"text_4\">\n",
       "     <text style=\"font-size: 10px; font-family: 'DejaVu Sans', 'Bitstream Vera Sans', 'Computer Modern Sans Serif', 'Lucida Grande', 'Verdana', 'Geneva', 'Lucid', 'Arial', 'Helvetica', 'Avant Garde', sans-serif; text-anchor: start\" x=\"203.666947\" y=\"68.272812\" transform=\"rotate(-0 203.666947 68.272812)\">Buffered Border</text>\n",
       "    </g>\n",
       "    <g id=\"patch_10\">\n",
       "     <path d=\"M 175.666947 82.950937 \n",
       "L 195.666947 82.950937 \n",
       "L 195.666947 75.950937 \n",
       "L 175.666947 75.950937 \n",
       "L 175.666947 82.950937 \n",
       "z\n",
       "\" style=\"fill: none; stroke-dasharray: 3.7,1.6; stroke-dashoffset: 0; stroke: #000000; stroke-linejoin: miter\"/>\n",
       "    </g>\n",
       "    <g id=\"text_5\">\n",
       "     <text style=\"font-size: 10px; font-family: 'DejaVu Sans', 'Bitstream Vera Sans', 'Computer Modern Sans Serif', 'Lucida Grande', 'Verdana', 'Geneva', 'Lucid', 'Arial', 'Helvetica', 'Avant Garde', sans-serif; text-anchor: start\" x=\"203.666947\" y=\"82.950937\" transform=\"rotate(-0 203.666947 82.950937)\">Buffered Obstacle</text>\n",
       "    </g>\n",
       "   </g>\n",
       "  </g>\n",
       " </g>\n",
       " <defs>\n",
       "  <clipPath id=\"pd7a76ba99e\">\n",
       "   <rect x=\"7.2\" y=\"22.318125\" width=\"454.79952\" height=\"222.052396\"/>\n",
       "  </clipPath>\n",
       " </defs>\n",
       "</svg>\n"
      ],
      "text/plain": [
       "<Figure size 640x480 with 1 Axes>"
      ]
     },
     "metadata": {},
     "output_type": "display_data"
    }
   ],
   "source": [
    "wfn3.plot_original_vs_buffered()"
   ]
  },
  {
   "cell_type": "markdown",
   "id": "2afef74e",
   "metadata": {},
   "source": [
    "### Removal of a concavity\n",
    "In this case a message is printed out, providing information about the potential changes in the border."
   ]
  },
  {
   "cell_type": "code",
   "execution_count": 14,
   "id": "2bd324eb",
   "metadata": {},
   "outputs": [
    {
     "name": "stderr",
     "output_type": "stream",
     "text": [
      "The defined border is non-convex and buffering may introduce unexpected changes. For visual comparison use plot_original_vs_buffered().\n"
     ]
    }
   ],
   "source": [
    "wfn4 = WindFarmNetwork.from_pbf(filepath='data/DTU_letters.osm.pbf', cables=7)\n",
    "wfn4.add_buffer(buffer_dist=10)"
   ]
  },
  {
   "cell_type": "markdown",
   "id": "5d481a21",
   "metadata": {},
   "source": [
    "Plotting original vs buffered borders confirms that one of the concavities is removed after buffering."
   ]
  },
  {
   "cell_type": "code",
   "execution_count": 15,
   "id": "c583e0d2",
   "metadata": {},
   "outputs": [
    {
     "data": {
      "image/svg+xml": [
       "<?xml version=\"1.0\" encoding=\"utf-8\" standalone=\"no\"?>\n",
       "<!DOCTYPE svg PUBLIC \"-//W3C//DTD SVG 1.1//EN\"\n",
       "  \"http://www.w3.org/Graphics/SVG/1.1/DTD/svg11.dtd\">\n",
       "<svg xmlns:xlink=\"http://www.w3.org/1999/xlink\" width=\"469.19952pt\" height=\"258.170406pt\" viewBox=\"0 0 469.19952 258.170406\" xmlns=\"http://www.w3.org/2000/svg\" version=\"1.1\">\n",
       " <metadata>\n",
       "  <rdf:RDF xmlns:dc=\"http://purl.org/dc/elements/1.1/\" xmlns:cc=\"http://creativecommons.org/ns#\" xmlns:rdf=\"http://www.w3.org/1999/02/22-rdf-syntax-ns#\">\n",
       "   <cc:Work>\n",
       "    <dc:type rdf:resource=\"http://purl.org/dc/dcmitype/StillImage\"/>\n",
       "    <dc:date>2025-08-26T20:23:51.996616</dc:date>\n",
       "    <dc:format>image/svg+xml</dc:format>\n",
       "    <dc:creator>\n",
       "     <cc:Agent>\n",
       "      <dc:title>Matplotlib v3.10.1, https://matplotlib.org/</dc:title>\n",
       "     </cc:Agent>\n",
       "    </dc:creator>\n",
       "   </cc:Work>\n",
       "  </rdf:RDF>\n",
       " </metadata>\n",
       " <defs>\n",
       "  <style type=\"text/css\">*{stroke-linejoin: round; stroke-linecap: butt}</style>\n",
       " </defs>\n",
       " <g id=\"figure_1\">\n",
       "  <g id=\"patch_1\">\n",
       "   <path d=\"M 0 258.170406 \n",
       "L 469.19952 258.170406 \n",
       "L 469.19952 0 \n",
       "L 0 0 \n",
       "z\n",
       "\" style=\"fill: #ffffff\"/>\n",
       "  </g>\n",
       "  <g id=\"axes_1\">\n",
       "   <g id=\"patch_2\">\n",
       "    <path d=\"M 39.590482 215.426388 \n",
       "L 116.88148 218.228904 \n",
       "L 140.754305 205.822445 \n",
       "L 159.483994 182.273993 \n",
       "L 170.109762 151.458478 \n",
       "L 171.475502 118.934117 \n",
       "L 196.208073 119.972611 \n",
       "L 191.931671 221.824879 \n",
       "L 270.073728 225.105162 \n",
       "L 274.289613 123.250385 \n",
       "L 299.022195 124.288381 \n",
       "L 297.81291 158.557503 \n",
       "L 306.519332 190.171461 \n",
       "L 323.705845 214.63948 \n",
       "L 346.753598 228.218346 \n",
       "L 372.153286 228.852661 \n",
       "L 396.048124 216.432902 \n",
       "L 414.785081 192.857753 \n",
       "L 425.333669 162.260742 \n",
       "L 429.609037 60.499998 \n",
       "L 375.059519 58.211813 \n",
       "L 370.994582 155.106578 \n",
       "L 369.315676 162.39413 \n",
       "L 366.512929 167.96167 \n",
       "L 362.999413 170.937818 \n",
       "L 359.317541 170.887904 \n",
       "L 356.021142 167.809025 \n",
       "L 353.614314 162.179755 \n",
       "L 352.48433 154.447627 \n",
       "L 356.533785 57.578345 \n",
       "L 46.775165 44.428973 \n",
       "z\n",
       "\" clip-path=\"url(#pa6dbe4e3b4)\" style=\"fill: #add8e6\"/>\n",
       "   </g>\n",
       "   <g id=\"patch_3\">\n",
       "    <path d=\"M 88.75192 175.722269 \n",
       "L 92.432523 88.103525 \n",
       "L 106.293976 88.528955 \n",
       "L 115.212089 95.385915 \n",
       "L 121.783052 107.855552 \n",
       "L 125.015534 124.053471 \n",
       "L 124.408212 141.501598 \n",
       "L 120.057544 157.550919 \n",
       "L 112.627712 169.746161 \n",
       "L 103.244121 176.252604 \n",
       "z\n",
       "\" clip-path=\"url(#pa6dbe4e3b4)\" style=\"fill: #ffffff\"/>\n",
       "   </g>\n",
       "   <g id=\"patch_4\">\n",
       "    <path d=\"M 27.872705 214.93405 \n",
       "L 35.057388 43.936635 \n",
       "L 38.839452 35.793398 \n",
       "L 47.27258 32.71141 \n",
       "L 357.0312 45.860783 \n",
       "L 365.168515 49.641714 \n",
       "L 366.016325 51.958842 \n",
       "L 367.121359 49.578488 \n",
       "L 375.551045 46.494003 \n",
       "L 430.100563 48.782187 \n",
       "L 438.242607 52.562104 \n",
       "L 441.326815 60.992307 \n",
       "L 437.051447 162.753052 \n",
       "L 436.421347 166.083316 \n",
       "L 425.872759 196.680327 \n",
       "L 423.966552 200.154963 \n",
       "L 405.229595 223.730112 \n",
       "L 401.457017 226.839273 \n",
       "L 377.562179 239.259032 \n",
       "L 371.860487 240.57712 \n",
       "L 346.460799 239.942806 \n",
       "L 340.80025 238.323114 \n",
       "L 317.752497 224.744248 \n",
       "L 314.108664 221.380608 \n",
       "L 296.922152 196.912589 \n",
       "L 295.212172 193.285431 \n",
       "L 286.50575 161.671472 \n",
       "L 286.092091 158.1439 \n",
       "L 286.890522 135.517669 \n",
       "L 285.52239 135.46025 \n",
       "L 281.791809 225.590186 \n",
       "L 278.014169 233.736389 \n",
       "L 269.581833 236.822957 \n",
       "L 191.439776 233.542674 \n",
       "L 183.298086 229.762755 \n",
       "L 180.21388 221.332892 \n",
       "L 183.998296 131.198385 \n",
       "L 182.701247 131.143923 \n",
       "L 181.82755 151.950523 \n",
       "L 181.197235 155.281646 \n",
       "L 170.571467 186.097162 \n",
       "L 168.662815 189.574535 \n",
       "L 149.933127 213.122987 \n",
       "L 146.16256 216.229148 \n",
       "L 122.289735 228.635607 \n",
       "L 116.456506 229.949317 \n",
       "L 39.165508 227.146801 \n",
       "L 30.979476 223.388753 \n",
       "L 27.872705 214.93405 \n",
       "z\n",
       "\" clip-path=\"url(#pa6dbe4e3b4)\" style=\"fill: none; stroke-dasharray: 3.7,1.6; stroke-dashoffset: 0; stroke: #ff0000; stroke-linejoin: miter\"/>\n",
       "   </g>\n",
       "   <g id=\"patch_5\">\n",
       "    <path d=\"M 101.002313 163.535399 \n",
       "L 103.618083 101.265575 \n",
       "L 106.031361 103.121097 \n",
       "L 110.614543 111.818546 \n",
       "L 113.247026 125.009881 \n",
       "L 112.734305 139.74017 \n",
       "L 109.174249 152.872977 \n",
       "L 103.904097 161.523345 \n",
       "L 101.002313 163.535399 \n",
       "z\n",
       "\" clip-path=\"url(#pa6dbe4e3b4)\" style=\"fill: none; stroke-dasharray: 3.7,1.6; stroke-dashoffset: 0; stroke: #000000; stroke-linejoin: miter\"/>\n",
       "   </g>\n",
       "   <g id=\"text_1\">\n",
       "    <text style=\"font-size: 12px; font-family: 'DejaVu Sans', 'Bitstream Vera Sans', 'Computer Modern Sans Serif', 'Lucida Grande', 'Verdana', 'Geneva', 'Lucid', 'Arial', 'Helvetica', 'Avant Garde', sans-serif; text-anchor: middle\" x=\"234.59976\" y=\"16.318125\" transform=\"rotate(-0 234.59976 16.318125)\">Original and Buffered Shapes</text>\n",
       "   </g>\n",
       "   <g id=\"legend_1\">\n",
       "    <g id=\"patch_6\">\n",
       "     <path d=\"M 173.666947 89.030625 \n",
       "L 295.532573 89.030625 \n",
       "Q 297.532573 89.030625 297.532573 87.030625 \n",
       "L 297.532573 29.318125 \n",
       "Q 297.532573 27.318125 295.532573 27.318125 \n",
       "L 173.666947 27.318125 \n",
       "Q 171.666947 27.318125 171.666947 29.318125 \n",
       "L 171.666947 87.030625 \n",
       "Q 171.666947 89.030625 173.666947 89.030625 \n",
       "z\n",
       "\" style=\"fill: #ffffff; opacity: 0.8; stroke: #cccccc; stroke-linejoin: miter\"/>\n",
       "    </g>\n",
       "    <g id=\"patch_7\">\n",
       "     <path d=\"M 175.666947 38.916562 \n",
       "L 195.666947 38.916562 \n",
       "L 195.666947 31.916562 \n",
       "L 175.666947 31.916562 \n",
       "z\n",
       "\" style=\"fill: #add8e6\"/>\n",
       "    </g>\n",
       "    <g id=\"text_2\">\n",
       "     <text style=\"font-size: 10px; font-family: 'DejaVu Sans', 'Bitstream Vera Sans', 'Computer Modern Sans Serif', 'Lucida Grande', 'Verdana', 'Geneva', 'Lucid', 'Arial', 'Helvetica', 'Avant Garde', sans-serif; text-anchor: start\" x=\"203.666947\" y=\"38.916562\" transform=\"rotate(-0 203.666947 38.916562)\">Original Border</text>\n",
       "    </g>\n",
       "    <g id=\"patch_8\">\n",
       "     <path d=\"M 175.666947 53.594687 \n",
       "L 195.666947 53.594687 \n",
       "L 195.666947 46.594687 \n",
       "L 175.666947 46.594687 \n",
       "z\n",
       "\" style=\"fill: #ffffff\"/>\n",
       "    </g>\n",
       "    <g id=\"text_3\">\n",
       "     <text style=\"font-size: 10px; font-family: 'DejaVu Sans', 'Bitstream Vera Sans', 'Computer Modern Sans Serif', 'Lucida Grande', 'Verdana', 'Geneva', 'Lucid', 'Arial', 'Helvetica', 'Avant Garde', sans-serif; text-anchor: start\" x=\"203.666947\" y=\"53.594687\" transform=\"rotate(-0 203.666947 53.594687)\">Original Obstacle</text>\n",
       "    </g>\n",
       "    <g id=\"patch_9\">\n",
       "     <path d=\"M 175.666947 68.272812 \n",
       "L 195.666947 68.272812 \n",
       "L 195.666947 61.272812 \n",
       "L 175.666947 61.272812 \n",
       "L 175.666947 68.272812 \n",
       "z\n",
       "\" style=\"fill: none; stroke-dasharray: 3.7,1.6; stroke-dashoffset: 0; stroke: #ff0000; stroke-linejoin: miter\"/>\n",
       "    </g>\n",
       "    <g id=\"text_4\">\n",
       "     <text style=\"font-size: 10px; font-family: 'DejaVu Sans', 'Bitstream Vera Sans', 'Computer Modern Sans Serif', 'Lucida Grande', 'Verdana', 'Geneva', 'Lucid', 'Arial', 'Helvetica', 'Avant Garde', sans-serif; text-anchor: start\" x=\"203.666947\" y=\"68.272812\" transform=\"rotate(-0 203.666947 68.272812)\">Buffered Border</text>\n",
       "    </g>\n",
       "    <g id=\"patch_10\">\n",
       "     <path d=\"M 175.666947 82.950938 \n",
       "L 195.666947 82.950938 \n",
       "L 195.666947 75.950938 \n",
       "L 175.666947 75.950938 \n",
       "L 175.666947 82.950938 \n",
       "z\n",
       "\" style=\"fill: none; stroke-dasharray: 3.7,1.6; stroke-dashoffset: 0; stroke: #000000; stroke-linejoin: miter\"/>\n",
       "    </g>\n",
       "    <g id=\"text_5\">\n",
       "     <text style=\"font-size: 10px; font-family: 'DejaVu Sans', 'Bitstream Vera Sans', 'Computer Modern Sans Serif', 'Lucida Grande', 'Verdana', 'Geneva', 'Lucid', 'Arial', 'Helvetica', 'Avant Garde', sans-serif; text-anchor: start\" x=\"203.666947\" y=\"82.950938\" transform=\"rotate(-0 203.666947 82.950938)\">Buffered Obstacle</text>\n",
       "    </g>\n",
       "   </g>\n",
       "  </g>\n",
       " </g>\n",
       " <defs>\n",
       "  <clipPath id=\"pa6dbe4e3b4\">\n",
       "   <rect x=\"7.2\" y=\"22.318125\" width=\"454.79952\" height=\"228.652281\"/>\n",
       "  </clipPath>\n",
       " </defs>\n",
       "</svg>\n"
      ],
      "text/plain": [
       "<Figure size 640x480 with 1 Axes>"
      ]
     },
     "metadata": {},
     "output_type": "display_data"
    }
   ],
   "source": [
    "wfn4.plot_original_vs_buffered()"
   ]
  },
  {
   "cell_type": "markdown",
   "id": "fbbe3176",
   "metadata": {},
   "source": [
    "**Optimize**\n",
    "\n",
    "The optimized network might change and use new routes after buffering."
   ]
  },
  {
   "cell_type": "code",
   "execution_count": 16,
   "id": "1806e2b5",
   "metadata": {},
   "outputs": [
    {
     "data": {
      "image/svg+xml": [
       "<svg xmlns=\"http://www.w3.org/2000/svg\" viewBox=\"0 0 1920 950\"><defs><circle stroke=\"orange\" stroke-opacity=\"0.3\" stroke-width=\"4\" id=\"dt\" r=\"23\" fill=\"none\"/><circle stroke=\"none\" stroke-width=\"2\" id=\"wtg\" r=\"12\"/><rect stroke=\"#111\" stroke-width=\"2\" id=\"oss\" width=\"21\" height=\"21\" fill=\"lawngreen\"/><filter x=\"-5%\" y=\"-5%\" id=\"bg_textbox\" width=\"110%\" height=\"110%\"><feFlood flood-opacity=\"0.6\" flood-color=\"black\" result=\"bg\"/><feMerge><feMergeNode in=\"bg\"/><feMergeNode in=\"SourceGraphic\"/></feMerge></filter></defs><g id=\"dtu\"><path stroke=\"silver\" stroke-dasharray=\"15 7\" stroke-width=\"2\" id=\"border\" d=\"M30 866 30 83 46 46 84 30 1502 31 1540 46 1544 57 1549 46 1587 30 1836 30 1874 46 1890 83 1890 549 1888 565 1845 707 1837 723 1756 834 1740 849 1633 910 1607 918 1491 920 1465 913 1357 856 1339 841 1256 732 1248 716 1202 573 1199 557 1199 454 1192 454 1192 866 1177 904 1139 920 781 920 743 904 727 866 727 454 722 454 722 549 719 564 677 707 669 723 587 835 571 850 464 911 438 918 84 920 46 904z M354 617 354 332 366 340 388 379 403 439 403 506 390 567 367 608 354 617z\" fill-rule=\"evenodd\" fill=\"#111\"/><g stroke=\"crimson\" stroke-width=\"4\" id=\"edges_unspecified\"><line x1=\"156\" y1=\"94\" x2=\"279\" y2=\"249\"/><line x1=\"1195\" y1=\"367\" x2=\"1253\" y2=\"194\"/><line x1=\"1195\" y1=\"367\" x2=\"918\" y2=\"429\"/><line x1=\"1195\" y1=\"367\" x2=\"1120\" y2=\"537\"/><line x1=\"1195\" y1=\"367\" x2=\"1062\" y2=\"290\"/><line x1=\"1195\" y1=\"367\" x2=\"1293\" y2=\"386\"/><line x1=\"1195\" y1=\"367\" x2=\"1417\" y2=\"510\"/><line x1=\"279\" y1=\"249\" x2=\"281\" y2=\"430\"/><line x1=\"279\" y1=\"249\" x2=\"110\" y2=\"325\"/><line x1=\"279\" y1=\"249\" x2=\"451\" y2=\"321\"/><line x1=\"128\" y1=\"611\" x2=\"278\" y2=\"703\"/><line x1=\"365\" y1=\"853\" x2=\"278\" y2=\"703\"/><line x1=\"365\" y1=\"853\" x2=\"550\" y2=\"764\"/><line x1=\"550\" y1=\"764\" x2=\"468\" y2=\"579\"/><line x1=\"278\" y1=\"703\" x2=\"103\" y2=\"851\"/><line x1=\"652\" y1=\"477\" x2=\"468\" y2=\"579\"/><line x1=\"451\" y1=\"321\" x2=\"597\" y2=\"245\"/><line x1=\"451\" y1=\"321\" x2=\"425\" y2=\"131\"/><line x1=\"751\" y1=\"369\" x2=\"918\" y2=\"429\"/><line x1=\"751\" y1=\"369\" x2=\"836\" y2=\"201\"/><line x1=\"649\" y1=\"96\" x2=\"836\" y2=\"201\"/><line x1=\"1058\" y1=\"95\" x2=\"1062\" y2=\"290\"/><line x1=\"918\" y1=\"429\" x2=\"795\" y2=\"551\"/><line x1=\"795\" y1=\"551\" x2=\"907\" y2=\"694\"/><line x1=\"1604\" y1=\"846\" x2=\"1418\" y2=\"796\"/><line x1=\"907\" y1=\"694\" x2=\"991\" y2=\"853\"/><line x1=\"1120\" y1=\"537\" x2=\"1127\" y2=\"718\"/><line x1=\"1253\" y1=\"194\" x2=\"1485\" y2=\"101\"/><line x1=\"1485\" y1=\"101\" x2=\"1650\" y2=\"193\"/><line x1=\"1487\" y1=\"319\" x2=\"1293\" y2=\"386\"/><line x1=\"1487\" y1=\"319\" x2=\"1609\" y2=\"410\"/><line x1=\"1417\" y1=\"510\" x2=\"1316\" y2=\"645\"/><line x1=\"1417\" y1=\"510\" x2=\"1552\" y2=\"649\"/><line x1=\"1316\" y1=\"645\" x2=\"1418\" y2=\"796\"/><line x1=\"1773\" y1=\"688\" x2=\"1823\" y2=\"506\"/><line x1=\"1823\" y1=\"506\" x2=\"1823\" y2=\"293\"/><line x1=\"1823\" y1=\"293\" x2=\"1650\" y2=\"193\"/><line x1=\"1650\" y1=\"193\" x2=\"1825\" y2=\"94\"/></g><g stroke=\"darkorange\" stroke-dasharray=\"18 15\" stroke-width=\"4\" id=\"detours\" fill=\"none\"><polyline points=\"1195 367 649 96 597 245\"/><polyline points=\"1195 367 649 96 652 477\"/></g><g id=\"DTgrp\"><use href=\"#dt\" x=\"649\" y=\"96\"/><use href=\"#dt\" x=\"649\" y=\"96\"/></g><g id=\"WTGgrp\"><g fill=\"#aec7e8\"><use href=\"#wtg\" x=\"156\" y=\"94\"/><use href=\"#wtg\" x=\"279\" y=\"249\"/><use href=\"#wtg\" x=\"110\" y=\"325\"/><use href=\"#wtg\" x=\"281\" y=\"430\"/><use href=\"#wtg\" x=\"451\" y=\"321\"/><use href=\"#wtg\" x=\"425\" y=\"131\"/><use href=\"#wtg\" x=\"597\" y=\"245\"/></g><g fill=\"#1f77b4\"><use href=\"#wtg\" x=\"128\" y=\"611\"/><use href=\"#wtg\" x=\"365\" y=\"853\"/><use href=\"#wtg\" x=\"550\" y=\"764\"/><use href=\"#wtg\" x=\"278\" y=\"703\"/><use href=\"#wtg\" x=\"652\" y=\"477\"/><use href=\"#wtg\" x=\"468\" y=\"579\"/><use href=\"#wtg\" x=\"103\" y=\"851\"/></g><g fill=\"#ff7f0e\"><use href=\"#wtg\" x=\"751\" y=\"369\"/><use href=\"#wtg\" x=\"649\" y=\"96\"/><use href=\"#wtg\" x=\"918\" y=\"429\"/><use href=\"#wtg\" x=\"795\" y=\"551\"/><use href=\"#wtg\" x=\"907\" y=\"694\"/><use href=\"#wtg\" x=\"991\" y=\"853\"/><use href=\"#wtg\" x=\"836\" y=\"201\"/></g><g fill=\"#98df8a\"><use href=\"#wtg\" x=\"1058\" y=\"95\"/><use href=\"#wtg\" x=\"1062\" y=\"290\"/></g><g fill=\"#ff9896\"><use href=\"#wtg\" x=\"1604\" y=\"846\"/><use href=\"#wtg\" x=\"1417\" y=\"510\"/><use href=\"#wtg\" x=\"1316\" y=\"645\"/><use href=\"#wtg\" x=\"1418\" y=\"796\"/><use href=\"#wtg\" x=\"1552\" y=\"649\"/></g><g fill=\"#ffbb78\"><use href=\"#wtg\" x=\"1120\" y=\"537\"/><use href=\"#wtg\" x=\"1127\" y=\"718\"/></g><g fill=\"#2ca02c\"><use href=\"#wtg\" x=\"1253\" y=\"194\"/><use href=\"#wtg\" x=\"1485\" y=\"101\"/><use href=\"#wtg\" x=\"1773\" y=\"688\"/><use href=\"#wtg\" x=\"1823\" y=\"506\"/><use href=\"#wtg\" x=\"1823\" y=\"293\"/><use href=\"#wtg\" x=\"1650\" y=\"193\"/><use href=\"#wtg\" x=\"1825\" y=\"94\"/></g><g fill=\"#d62728\"><use href=\"#wtg\" x=\"1487\" y=\"319\"/><use href=\"#wtg\" x=\"1293\" y=\"386\"/><use href=\"#wtg\" x=\"1609\" y=\"410\"/></g></g><g id=\"OSSgrp\"><use href=\"#oss\" x=\"1184.5\" y=\"356.5\"/></g></g><text filter=\"url(#bg_textbox)\" text-anchor=\"end\" font-family=\"sans-serif\" font-size=\"40\" fill=\"white\" x=\"1890\" y=\"920\"><tspan x=\"1890\" dy=\"-0.0em\">0 &#8364;</tspan><tspan x=\"1890\" dy=\"-1.3em\">&#931;&#955; = 1688.7 m</tspan><tspan x=\"1890\" dy=\"-1.3em\">(+2) [-1]: 8</tspan><tspan x=\"1890\" dy=\"-1.3em\">&#954; = 7, T = 40</tspan></text></svg>"
      ],
      "text/plain": [
       "<optiwindnet.api.WindFarmNetwork at 0x1955c9cdd60>"
      ]
     },
     "execution_count": 16,
     "metadata": {},
     "output_type": "execute_result"
    }
   ],
   "source": [
    "res_optimize = wfn4.optimize()\n",
    "wfn4"
   ]
  },
  {
   "cell_type": "markdown",
   "id": "f3f5d1ac",
   "metadata": {},
   "source": [
    "### Removal of an obstacle"
   ]
  },
  {
   "cell_type": "code",
   "execution_count": 17,
   "id": "319644b3",
   "metadata": {},
   "outputs": [
    {
     "name": "stderr",
     "output_type": "stream",
     "text": [
      "The defined border is non-convex and buffering may introduce unexpected changes. For visual comparison use plot_original_vs_buffered().\n"
     ]
    },
    {
     "name": "stderr",
     "output_type": "stream",
     "text": [
      "Buffering by 15.00 completely removed the obstacle at index 0. For visual comparison use plot_original_vs_buffered().\n"
     ]
    }
   ],
   "source": [
    "wfn5 = WindFarmNetwork.from_pbf(filepath='data/DTU_letters.osm.pbf', cables=7)\n",
    "wfn5.add_buffer(buffer_dist=15)"
   ]
  },
  {
   "cell_type": "markdown",
   "id": "1882cf0a",
   "metadata": {},
   "source": [
    "Plotting original vs buffered borders confirms that abostacle (inside D letter) is removed after buffering."
   ]
  },
  {
   "cell_type": "code",
   "execution_count": 18,
   "id": "05465845",
   "metadata": {},
   "outputs": [
    {
     "data": {
      "image/svg+xml": [
       "<?xml version=\"1.0\" encoding=\"utf-8\" standalone=\"no\"?>\n",
       "<!DOCTYPE svg PUBLIC \"-//W3C//DTD SVG 1.1//EN\"\n",
       "  \"http://www.w3.org/Graphics/SVG/1.1/DTD/svg11.dtd\">\n",
       "<svg xmlns:xlink=\"http://www.w3.org/1999/xlink\" width=\"469.19952pt\" height=\"264.406504pt\" viewBox=\"0 0 469.19952 264.406504\" xmlns=\"http://www.w3.org/2000/svg\" version=\"1.1\">\n",
       " <metadata>\n",
       "  <rdf:RDF xmlns:dc=\"http://purl.org/dc/elements/1.1/\" xmlns:cc=\"http://creativecommons.org/ns#\" xmlns:rdf=\"http://www.w3.org/1999/02/22-rdf-syntax-ns#\">\n",
       "   <cc:Work>\n",
       "    <dc:type rdf:resource=\"http://purl.org/dc/dcmitype/StillImage\"/>\n",
       "    <dc:date>2025-08-26T20:23:52.757251</dc:date>\n",
       "    <dc:format>image/svg+xml</dc:format>\n",
       "    <dc:creator>\n",
       "     <cc:Agent>\n",
       "      <dc:title>Matplotlib v3.10.1, https://matplotlib.org/</dc:title>\n",
       "     </cc:Agent>\n",
       "    </dc:creator>\n",
       "   </cc:Work>\n",
       "  </rdf:RDF>\n",
       " </metadata>\n",
       " <defs>\n",
       "  <style type=\"text/css\">*{stroke-linejoin: round; stroke-linecap: butt}</style>\n",
       " </defs>\n",
       " <g id=\"figure_1\">\n",
       "  <g id=\"patch_1\">\n",
       "   <path d=\"M 0 264.406504 \n",
       "L 469.19952 264.406504 \n",
       "L 469.19952 0 \n",
       "L 0 0 \n",
       "z\n",
       "\" style=\"fill: #ffffff\"/>\n",
       "  </g>\n",
       "  <g id=\"axes_1\">\n",
       "   <g id=\"patch_2\">\n",
       "    <path d=\"M 44.964956 216.371517 \n",
       "L 120.125806 219.096796 \n",
       "L 143.340694 207.03226 \n",
       "L 161.554191 184.132805 \n",
       "L 171.887112 154.166569 \n",
       "L 173.215212 122.538582 \n",
       "L 197.266151 123.548456 \n",
       "L 193.107608 222.593665 \n",
       "L 269.096062 225.783543 \n",
       "L 273.195756 126.735893 \n",
       "L 297.246706 127.745282 \n",
       "L 296.07075 161.069944 \n",
       "L 304.537222 191.812619 \n",
       "L 321.250072 215.606297 \n",
       "L 343.662627 228.810928 \n",
       "L 368.362297 229.427761 \n",
       "L 391.598592 217.350292 \n",
       "L 409.819156 194.424876 \n",
       "L 420.077024 164.671121 \n",
       "L 424.234563 65.714913 \n",
       "L 371.188434 63.489791 \n",
       "L 367.235528 157.714127 \n",
       "L 365.602892 164.800834 \n",
       "L 362.877389 170.214932 \n",
       "L 359.460706 173.109057 \n",
       "L 355.880307 173.060518 \n",
       "L 352.674757 170.066494 \n",
       "L 350.334262 164.592366 \n",
       "L 349.23542 157.073337 \n",
       "L 353.173271 62.873781 \n",
       "L 51.951628 50.086807 \n",
       "z\n",
       "\" clip-path=\"url(#pcc168f8c81)\" style=\"fill: #add8e6\"/>\n",
       "   </g>\n",
       "   <g id=\"patch_3\">\n",
       "    <path d=\"M 92.7715 177.761648 \n",
       "L 96.350665 92.557684 \n",
       "L 109.830095 92.97139 \n",
       "L 118.502424 99.639371 \n",
       "L 124.892291 111.765344 \n",
       "L 128.035685 127.516847 \n",
       "L 127.445101 144.484102 \n",
       "L 123.214338 160.091102 \n",
       "L 115.989272 171.950242 \n",
       "L 106.864294 178.277367 \n",
       "z\n",
       "\" clip-path=\"url(#pcc168f8c81)\" style=\"fill: #ffffff\"/>\n",
       "   </g>\n",
       "   <g id=\"patch_4\">\n",
       "    <path d=\"M 27.872705 215.653364 \n",
       "L 34.859378 49.368653 \n",
       "L 40.376122 37.490442 \n",
       "L 52.677187 32.99487 \n",
       "L 353.89883 45.781844 \n",
       "L 362.573083 49.812258 \n",
       "L 371.905404 46.397492 \n",
       "L 424.951532 48.622613 \n",
       "L 436.828005 54.136227 \n",
       "L 441.326815 66.433026 \n",
       "L 437.169276 165.389234 \n",
       "L 436.250175 170.246957 \n",
       "L 425.992307 200.000712 \n",
       "L 423.211799 205.069024 \n",
       "L 404.991234 227.99444 \n",
       "L 399.488327 232.529648 \n",
       "L 376.252032 244.607117 \n",
       "L 367.935204 246.52976 \n",
       "L 343.235534 245.912927 \n",
       "L 334.978718 243.550347 \n",
       "L 312.566163 230.345716 \n",
       "L 307.251051 225.43931 \n",
       "L 290.5382 201.645632 \n",
       "L 288.043921 196.354841 \n",
       "L 287.515541 194.436236 \n",
       "L 286.188757 226.491029 \n",
       "L 280.678464 238.373568 \n",
       "L 268.378554 242.875821 \n",
       "L 192.3901 239.685943 \n",
       "L 180.514143 234.172327 \n",
       "L 176.015336 221.876024 \n",
       "L 177.335975 190.421995 \n",
       "L 174.942969 194.781813 \n",
       "L 156.729473 217.681268 \n",
       "L 151.229499 222.2121 \n",
       "L 128.014611 234.276636 \n",
       "L 119.505914 236.192892 \n",
       "L 44.345063 233.467613 \n",
       "L 32.404427 227.9859 \n",
       "L 27.872705 215.653364 \n",
       "z\n",
       "\" clip-path=\"url(#pcc168f8c81)\" style=\"fill: none; stroke-dasharray: 3.7,1.6; stroke-dashoffset: 0; stroke: #ff0000; stroke-linejoin: miter\"/>\n",
       "   </g>\n",
       "   <g id=\"text_1\">\n",
       "    <text style=\"font-size: 12px; font-family: 'DejaVu Sans', 'Bitstream Vera Sans', 'Computer Modern Sans Serif', 'Lucida Grande', 'Verdana', 'Geneva', 'Lucid', 'Arial', 'Helvetica', 'Avant Garde', sans-serif; text-anchor: middle\" x=\"234.59976\" y=\"16.318125\" transform=\"rotate(-0 234.59976 16.318125)\">Original and Buffered Shapes</text>\n",
       "   </g>\n",
       "   <g id=\"legend_1\">\n",
       "    <g id=\"patch_5\">\n",
       "     <path d=\"M 175.491166 74.3525 \n",
       "L 293.708354 74.3525 \n",
       "Q 295.708354 74.3525 295.708354 72.3525 \n",
       "L 295.708354 29.318125 \n",
       "Q 295.708354 27.318125 293.708354 27.318125 \n",
       "L 175.491166 27.318125 \n",
       "Q 173.491166 27.318125 173.491166 29.318125 \n",
       "L 173.491166 72.3525 \n",
       "Q 173.491166 74.3525 175.491166 74.3525 \n",
       "z\n",
       "\" style=\"fill: #ffffff; opacity: 0.8; stroke: #cccccc; stroke-linejoin: miter\"/>\n",
       "    </g>\n",
       "    <g id=\"patch_6\">\n",
       "     <path d=\"M 177.491166 38.916562 \n",
       "L 197.491166 38.916562 \n",
       "L 197.491166 31.916562 \n",
       "L 177.491166 31.916562 \n",
       "z\n",
       "\" style=\"fill: #add8e6\"/>\n",
       "    </g>\n",
       "    <g id=\"text_2\">\n",
       "     <text style=\"font-size: 10px; font-family: 'DejaVu Sans', 'Bitstream Vera Sans', 'Computer Modern Sans Serif', 'Lucida Grande', 'Verdana', 'Geneva', 'Lucid', 'Arial', 'Helvetica', 'Avant Garde', sans-serif; text-anchor: start\" x=\"205.491166\" y=\"38.916562\" transform=\"rotate(-0 205.491166 38.916562)\">Original Border</text>\n",
       "    </g>\n",
       "    <g id=\"patch_7\">\n",
       "     <path d=\"M 177.491166 53.594687 \n",
       "L 197.491166 53.594687 \n",
       "L 197.491166 46.594687 \n",
       "L 177.491166 46.594687 \n",
       "z\n",
       "\" style=\"fill: #ffffff\"/>\n",
       "    </g>\n",
       "    <g id=\"text_3\">\n",
       "     <text style=\"font-size: 10px; font-family: 'DejaVu Sans', 'Bitstream Vera Sans', 'Computer Modern Sans Serif', 'Lucida Grande', 'Verdana', 'Geneva', 'Lucid', 'Arial', 'Helvetica', 'Avant Garde', sans-serif; text-anchor: start\" x=\"205.491166\" y=\"53.594687\" transform=\"rotate(-0 205.491166 53.594687)\">Original Obstacle</text>\n",
       "    </g>\n",
       "    <g id=\"patch_8\">\n",
       "     <path d=\"M 177.491166 68.272812 \n",
       "L 197.491166 68.272812 \n",
       "L 197.491166 61.272812 \n",
       "L 177.491166 61.272812 \n",
       "L 177.491166 68.272812 \n",
       "z\n",
       "\" style=\"fill: none; stroke-dasharray: 3.7,1.6; stroke-dashoffset: 0; stroke: #ff0000; stroke-linejoin: miter\"/>\n",
       "    </g>\n",
       "    <g id=\"text_4\">\n",
       "     <text style=\"font-size: 10px; font-family: 'DejaVu Sans', 'Bitstream Vera Sans', 'Computer Modern Sans Serif', 'Lucida Grande', 'Verdana', 'Geneva', 'Lucid', 'Arial', 'Helvetica', 'Avant Garde', sans-serif; text-anchor: start\" x=\"205.491166\" y=\"68.272812\" transform=\"rotate(-0 205.491166 68.272812)\">Buffered Border</text>\n",
       "    </g>\n",
       "   </g>\n",
       "  </g>\n",
       " </g>\n",
       " <defs>\n",
       "  <clipPath id=\"pcc168f8c81\">\n",
       "   <rect x=\"7.2\" y=\"22.318125\" width=\"454.79952\" height=\"234.888379\"/>\n",
       "  </clipPath>\n",
       " </defs>\n",
       "</svg>\n"
      ],
      "text/plain": [
       "<Figure size 640x480 with 1 Axes>"
      ]
     },
     "metadata": {},
     "output_type": "display_data"
    }
   ],
   "source": [
    "wfn5.plot_original_vs_buffered()"
   ]
  },
  {
   "cell_type": "markdown",
   "id": "82ab5351",
   "metadata": {},
   "source": [
    "**Optimize**\n",
    "\n",
    "The optimized network might change and use new routes after buffering."
   ]
  },
  {
   "cell_type": "code",
   "execution_count": 19,
   "id": "12b7adf6",
   "metadata": {},
   "outputs": [
    {
     "data": {
      "image/svg+xml": [
       "<svg xmlns=\"http://www.w3.org/2000/svg\" viewBox=\"0 0 1920 977\"><defs><circle stroke=\"orange\" stroke-opacity=\"0.3\" stroke-width=\"4\" id=\"dt\" r=\"23\" fill=\"none\"/><circle stroke=\"none\" stroke-width=\"2\" id=\"wtg\" r=\"12\"/><rect stroke=\"#111\" stroke-width=\"2\" id=\"oss\" width=\"21\" height=\"21\" fill=\"lawngreen\"/><filter x=\"-5%\" y=\"-5%\" id=\"bg_textbox\" width=\"110%\" height=\"110%\"><feFlood flood-opacity=\"0.6\" flood-color=\"black\" result=\"bg\"/><feMerge><feMergeNode in=\"bg\"/><feMergeNode in=\"SourceGraphic\"/></feMerge></filter></defs><g id=\"dtu\"><path stroke=\"silver\" stroke-dasharray=\"15 7\" stroke-width=\"2\" id=\"border\" d=\"M30 869 30 108 53 53 108 30 1487 30 1527 47 1569 30 1812 30 1867 53 1890 108 1890 561 1887 583 1846 721 1834 745 1755 853 1731 875 1627 934 1589 945 1476 947 1438 937 1333 881 1308 860 1227 754 1215 731 1212 722 1212 869 1189 924 1134 947 786 947 731 924 708 869 708 725 698 745 619 853 595 875 491 935 453 945 109 947 53 924z\" fill-rule=\"evenodd\" fill=\"#111\"/><g stroke=\"crimson\" stroke-width=\"4\" id=\"edges_unspecified\"><line x1=\"179\" y1=\"118\" x2=\"298\" y2=\"269\"/><line x1=\"1189\" y1=\"383\" x2=\"1245\" y2=\"215\"/><line x1=\"1189\" y1=\"383\" x2=\"919\" y2=\"444\"/><line x1=\"1189\" y1=\"383\" x2=\"1115\" y2=\"549\"/><line x1=\"1189\" y1=\"383\" x2=\"1059\" y2=\"308\"/><line x1=\"1189\" y1=\"383\" x2=\"1284\" y2=\"402\"/><line x1=\"298\" y1=\"269\" x2=\"300\" y2=\"445\"/><line x1=\"298\" y1=\"269\" x2=\"134\" y2=\"342\"/><line x1=\"298\" y1=\"269\" x2=\"465\" y2=\"339\"/><line x1=\"152\" y1=\"621\" x2=\"297\" y2=\"710\"/><line x1=\"382\" y1=\"856\" x2=\"297\" y2=\"710\"/><line x1=\"382\" y1=\"856\" x2=\"561\" y2=\"770\"/><line x1=\"561\" y1=\"770\" x2=\"482\" y2=\"589\"/><line x1=\"297\" y1=\"710\" x2=\"127\" y2=\"854\"/><line x1=\"660\" y1=\"490\" x2=\"482\" y2=\"589\"/><line x1=\"465\" y1=\"339\" x2=\"607\" y2=\"265\"/><line x1=\"465\" y1=\"339\" x2=\"440\" y2=\"154\"/><line x1=\"757\" y1=\"386\" x2=\"919\" y2=\"444\"/><line x1=\"757\" y1=\"386\" x2=\"839\" y2=\"222\"/><line x1=\"658\" y1=\"120\" x2=\"839\" y2=\"222\"/><line x1=\"1055\" y1=\"119\" x2=\"1059\" y2=\"308\"/><line x1=\"919\" y1=\"444\" x2=\"799\" y2=\"562\"/><line x1=\"799\" y1=\"562\" x2=\"908\" y2=\"701\"/><line x1=\"1586\" y1=\"849\" x2=\"1405\" y2=\"801\"/><line x1=\"908\" y1=\"701\" x2=\"991\" y2=\"856\"/><line x1=\"1115\" y1=\"549\" x2=\"1123\" y2=\"725\"/><line x1=\"1245\" y1=\"215\" x2=\"1470\" y2=\"125\"/><line x1=\"1470\" y1=\"125\" x2=\"1631\" y2=\"214\"/><line x1=\"1472\" y1=\"337\" x2=\"1284\" y2=\"402\"/><line x1=\"1472\" y1=\"337\" x2=\"1591\" y2=\"425\"/><line x1=\"1405\" y1=\"522\" x2=\"1306\" y2=\"653\"/><line x1=\"1405\" y1=\"522\" x2=\"1535\" y2=\"658\"/><line x1=\"1306\" y1=\"653\" x2=\"1405\" y2=\"801\"/><line x1=\"1306\" y1=\"653\" x2=\"1123\" y2=\"725\"/><line x1=\"1750\" y1=\"695\" x2=\"1798\" y2=\"518\"/><line x1=\"1798\" y1=\"518\" x2=\"1799\" y2=\"311\"/><line x1=\"1799\" y1=\"311\" x2=\"1631\" y2=\"214\"/><line x1=\"1631\" y1=\"214\" x2=\"1801\" y2=\"118\"/></g><g stroke=\"darkorange\" stroke-dasharray=\"18 15\" stroke-width=\"4\" id=\"detours\" fill=\"none\"><polyline points=\"1189 383 658 120 607 265\"/><polyline points=\"1189 383 658 120 660 490\"/></g><g id=\"DTgrp\"><use href=\"#dt\" x=\"658\" y=\"120\"/><use href=\"#dt\" x=\"658\" y=\"120\"/></g><g id=\"WTGgrp\"><g fill=\"#aec7e8\"><use href=\"#wtg\" x=\"179\" y=\"118\"/><use href=\"#wtg\" x=\"298\" y=\"269\"/><use href=\"#wtg\" x=\"134\" y=\"342\"/><use href=\"#wtg\" x=\"300\" y=\"445\"/><use href=\"#wtg\" x=\"465\" y=\"339\"/><use href=\"#wtg\" x=\"440\" y=\"154\"/><use href=\"#wtg\" x=\"607\" y=\"265\"/></g><g fill=\"#1f77b4\"><use href=\"#wtg\" x=\"152\" y=\"621\"/><use href=\"#wtg\" x=\"382\" y=\"856\"/><use href=\"#wtg\" x=\"561\" y=\"770\"/><use href=\"#wtg\" x=\"297\" y=\"710\"/><use href=\"#wtg\" x=\"660\" y=\"490\"/><use href=\"#wtg\" x=\"482\" y=\"589\"/><use href=\"#wtg\" x=\"127\" y=\"854\"/></g><g fill=\"#ff7f0e\"><use href=\"#wtg\" x=\"757\" y=\"386\"/><use href=\"#wtg\" x=\"658\" y=\"120\"/><use href=\"#wtg\" x=\"919\" y=\"444\"/><use href=\"#wtg\" x=\"799\" y=\"562\"/><use href=\"#wtg\" x=\"908\" y=\"701\"/><use href=\"#wtg\" x=\"991\" y=\"856\"/><use href=\"#wtg\" x=\"839\" y=\"222\"/></g><g fill=\"#98df8a\"><use href=\"#wtg\" x=\"1055\" y=\"119\"/><use href=\"#wtg\" x=\"1059\" y=\"308\"/></g><g fill=\"#ffbb78\"><use href=\"#wtg\" x=\"1586\" y=\"849\"/><use href=\"#wtg\" x=\"1115\" y=\"549\"/><use href=\"#wtg\" x=\"1405\" y=\"522\"/><use href=\"#wtg\" x=\"1306\" y=\"653\"/><use href=\"#wtg\" x=\"1405\" y=\"801\"/><use href=\"#wtg\" x=\"1535\" y=\"658\"/><use href=\"#wtg\" x=\"1123\" y=\"725\"/></g><g fill=\"#2ca02c\"><use href=\"#wtg\" x=\"1245\" y=\"215\"/><use href=\"#wtg\" x=\"1470\" y=\"125\"/><use href=\"#wtg\" x=\"1750\" y=\"695\"/><use href=\"#wtg\" x=\"1798\" y=\"518\"/><use href=\"#wtg\" x=\"1799\" y=\"311\"/><use href=\"#wtg\" x=\"1631\" y=\"214\"/><use href=\"#wtg\" x=\"1801\" y=\"118\"/></g><g fill=\"#d62728\"><use href=\"#wtg\" x=\"1472\" y=\"337\"/><use href=\"#wtg\" x=\"1284\" y=\"402\"/><use href=\"#wtg\" x=\"1591\" y=\"425\"/></g></g><g id=\"OSSgrp\"><use href=\"#oss\" x=\"1178.5\" y=\"372.5\"/></g></g><text filter=\"url(#bg_textbox)\" text-anchor=\"end\" font-family=\"sans-serif\" font-size=\"40\" fill=\"white\" x=\"1890\" y=\"947\"><tspan x=\"1890\" dy=\"-0.0em\">0 &#8364;</tspan><tspan x=\"1890\" dy=\"-1.3em\">&#931;&#955; = 1677.2 m</tspan><tspan x=\"1890\" dy=\"-1.3em\">(+1) [-1]: 7</tspan><tspan x=\"1890\" dy=\"-1.3em\">&#954; = 7, T = 40</tspan></text></svg>"
      ],
      "text/plain": [
       "<optiwindnet.api.WindFarmNetwork at 0x1955cc582f0>"
      ]
     },
     "execution_count": 19,
     "metadata": {},
     "output_type": "execute_result"
    }
   ],
   "source": [
    "wfn5.optimize()\n",
    "wfn5"
   ]
  },
  {
   "cell_type": "markdown",
   "id": "1c43d62a",
   "metadata": {},
   "source": [
    "### Turbines outside the border or inside the obstacles\n",
    "\n",
    "`OptiWindNet` provide a method `.is_layout_within_bounds` to checks if the turbinesC/substationsC are defined properly with respect to the given border and obstacles."
   ]
  },
  {
   "cell_type": "code",
   "execution_count": 20,
   "id": "3fdb9fbc",
   "metadata": {},
   "outputs": [],
   "source": [
    "turbinesC = np.array([\n",
    "       [0, 0],\n",
    "       [ 316976, 6175410],\n",
    "       [ 316998, 6175380],\n",
    "       ])\n",
    "\n",
    "borderC = np.array([\n",
    "       [316956, 6175267],\n",
    "       [317022, 6175265],\n",
    "       [317043, 6175275],\n",
    "       [317059 , 6175295],\n",
    "       [317068, 6175322],\n",
    "       [317069, 6175349],\n",
    "       [317090, 6175348],\n",
    "       [317086, 6175262],\n",
    "       [317153, 6175259],\n",
    "       [317157, 6175346],\n",
    "       [317178 , 6175345],\n",
    "       [317177, 6175316],\n",
    "       [317184, 6175289],\n",
    "       [317199, 6175268],\n",
    "       [317218, 6175256],\n",
    "       [317240, 6175256],\n",
    "       [317260, 6175266],\n",
    "       [317276, 6175286],\n",
    "       [317285, 6175312],\n",
    "       [317289, 6175399],\n",
    "       [317242, 6175401],\n",
    "       [317239, 6175319],\n",
    "       [317238, 6175312],\n",
    "       [317235, 6175308],\n",
    "       [317232, 6175305],\n",
    "       [317229, 6175305],\n",
    "       [317226, 6175308],\n",
    "       [317224, 6175313],\n",
    "       [317223, 6175319],\n",
    "       [317227, 6175402],\n",
    "       [316963, 6175413],\n",
    "       ])\n",
    "\n",
    "substationsC = np.array([\n",
    "       [317167 , 6175351]])"
   ]
  },
  {
   "cell_type": "code",
   "execution_count": 25,
   "id": "a4757a44",
   "metadata": {},
   "outputs": [
    {
     "ename": "ValueError",
     "evalue": "Turbine out of bounds!",
     "output_type": "error",
     "traceback": [
      "\u001b[31m---------------------------------------------------------------------------\u001b[39m",
      "\u001b[31mValueError\u001b[39m                                Traceback (most recent call last)",
      "\u001b[36mCell\u001b[39m\u001b[36m \u001b[39m\u001b[32mIn[25]\u001b[39m\u001b[32m, line 2\u001b[39m\n\u001b[32m      1\u001b[39m wfn6 = WindFarmNetwork(turbinesC=turbinesC, substationsC=substationsC, borderC=borderC, obstacleC_=obstaclesC_, cables=\u001b[32m7\u001b[39m)\n\u001b[32m----> \u001b[39m\u001b[32m2\u001b[39m \u001b[43mwfn6\u001b[49m\u001b[43m.\u001b[49m\u001b[43moptimize\u001b[49m\u001b[43m(\u001b[49m\u001b[43m)\u001b[49m\n",
      "\u001b[36mFile \u001b[39m\u001b[32mC:\\code\\OptiWindNet\\optiwindnet\\api.py:591\u001b[39m, in \u001b[36mWindFarmNetwork.optimize\u001b[39m\u001b[34m(self, turbinesC, substationsC, router, verbose)\u001b[39m\n\u001b[32m    587\u001b[39m \u001b[38;5;28;01melse\u001b[39;00m:\n\u001b[32m    588\u001b[39m     warmstart = {}\n\u001b[32m    590\u001b[39m \u001b[38;5;28mself\u001b[39m._S, \u001b[38;5;28mself\u001b[39m._G = router.route(\n\u001b[32m--> \u001b[39m\u001b[32m591\u001b[39m     P=\u001b[38;5;28;43mself\u001b[39;49m\u001b[43m.\u001b[49m\u001b[43mP\u001b[49m,\n\u001b[32m    592\u001b[39m     A=\u001b[38;5;28mself\u001b[39m.A,\n\u001b[32m    593\u001b[39m     cables=\u001b[38;5;28mself\u001b[39m.cables,\n\u001b[32m    594\u001b[39m     cables_capacity=\u001b[38;5;28mself\u001b[39m.cables_capacity,\n\u001b[32m    595\u001b[39m     verbose=verbose,\n\u001b[32m    596\u001b[39m     **warmstart,\n\u001b[32m    597\u001b[39m )\n\u001b[32m    598\u001b[39m \u001b[38;5;28mself\u001b[39m._is_stale_SG = \u001b[38;5;28;01mFalse\u001b[39;00m\n\u001b[32m    600\u001b[39m terse_links = \u001b[38;5;28mself\u001b[39m.terse_links()\n",
      "\u001b[36mFile \u001b[39m\u001b[32mC:\\code\\OptiWindNet\\optiwindnet\\api.py:268\u001b[39m, in \u001b[36mWindFarmNetwork.P\u001b[39m\u001b[34m(self)\u001b[39m\n\u001b[32m    265\u001b[39m \u001b[38;5;129m@property\u001b[39m\n\u001b[32m    266\u001b[39m \u001b[38;5;28;01mdef\u001b[39;00m\u001b[38;5;250m \u001b[39m\u001b[34mP\u001b[39m(\u001b[38;5;28mself\u001b[39m) -> nx.PlanarEmbedding:\n\u001b[32m    267\u001b[39m     \u001b[38;5;28;01mif\u001b[39;00m \u001b[38;5;28mself\u001b[39m._is_stale_PA:\n\u001b[32m--> \u001b[39m\u001b[32m268\u001b[39m         \u001b[38;5;28;43mself\u001b[39;49m\u001b[43m.\u001b[49m\u001b[43m_refresh_planar\u001b[49m\u001b[43m(\u001b[49m\u001b[43m)\u001b[49m\n\u001b[32m    269\u001b[39m     \u001b[38;5;28;01mreturn\u001b[39;00m \u001b[38;5;28mself\u001b[39m._P\n",
      "\u001b[36mFile \u001b[39m\u001b[32mC:\\code\\OptiWindNet\\optiwindnet\\api.py:229\u001b[39m, in \u001b[36mWindFarmNetwork._refresh_planar\u001b[39m\u001b[34m(self)\u001b[39m\n\u001b[32m    225\u001b[39m             out_of_bounds -= obstacle.exterior\n\u001b[32m    226\u001b[39m     \u001b[38;5;28;01mif\u001b[39;00m \u001b[38;5;129;01mnot\u001b[39;00m out_of_bounds.is_empty:\n\u001b[32m    227\u001b[39m         \u001b[38;5;66;03m# TODO: if relevant, get coordinates of turbines from out_of_bounds\u001b[39;00m\n\u001b[32m    228\u001b[39m         \u001b[38;5;66;03m#  print(list(out_of_bounds.geoms))\u001b[39;00m\n\u001b[32m--> \u001b[39m\u001b[32m229\u001b[39m         \u001b[38;5;28;01mraise\u001b[39;00m \u001b[38;5;167;01mValueError\u001b[39;00m(\u001b[33m'\u001b[39m\u001b[33mTurbine out of bounds!\u001b[39m\u001b[33m'\u001b[39m)\n\u001b[32m    230\u001b[39m \u001b[38;5;28mself\u001b[39m._P, \u001b[38;5;28mself\u001b[39m._A = make_planar_embedding(\u001b[38;5;28mself\u001b[39m._L)\n\u001b[32m    231\u001b[39m \u001b[38;5;28mself\u001b[39m._is_stale_PA = \u001b[38;5;28;01mFalse\u001b[39;00m\n",
      "\u001b[31mValueError\u001b[39m: Turbine out of bounds!"
     ]
    }
   ],
   "source": [
    "wfn6 = WindFarmNetwork(turbinesC=turbinesC, substationsC=substationsC, borderC=borderC, obstacleC_=obstaclesC_, cables=7)\n",
    "wfn6.optimize()"
   ]
  }
 ],
 "metadata": {
  "kernelspec": {
   "display_name": "OptiWindNet",
   "language": "python",
   "name": "python3"
  },
  "language_info": {
   "codemirror_mode": {
    "name": "ipython",
    "version": 3
   },
   "file_extension": ".py",
   "mimetype": "text/x-python",
   "name": "python",
   "nbconvert_exporter": "python",
   "pygments_lexer": "ipython3",
   "version": "3.12.9"
  }
 },
 "nbformat": 4,
 "nbformat_minor": 5
}
