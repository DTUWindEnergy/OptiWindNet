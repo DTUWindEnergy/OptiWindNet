{
 "cells": [
  {
   "cell_type": "code",
   "execution_count": 1,
   "id": "bb387705-6007-4ec3-aee8-630fb847404e",
   "metadata": {},
   "outputs": [
    {
     "name": "stdout",
     "output_type": "stream",
     "text": [
      "load c:\\Users\\amia\\AppData\\Local\\miniconda3\\envs\\OptiWindNet\\Lib\\site-packages\\ortools\\.libs\\zlib1.dll...\n",
      "load c:\\Users\\amia\\AppData\\Local\\miniconda3\\envs\\OptiWindNet\\Lib\\site-packages\\ortools\\.libs\\abseil_dll.dll...\n",
      "load c:\\Users\\amia\\AppData\\Local\\miniconda3\\envs\\OptiWindNet\\Lib\\site-packages\\ortools\\.libs\\utf8_validity.dll...\n",
      "load c:\\Users\\amia\\AppData\\Local\\miniconda3\\envs\\OptiWindNet\\Lib\\site-packages\\ortools\\.libs\\re2.dll...\n",
      "load c:\\Users\\amia\\AppData\\Local\\miniconda3\\envs\\OptiWindNet\\Lib\\site-packages\\ortools\\.libs\\libprotobuf.dll...\n",
      "load c:\\Users\\amia\\AppData\\Local\\miniconda3\\envs\\OptiWindNet\\Lib\\site-packages\\ortools\\.libs\\highs.dll...\n",
      "load c:\\Users\\amia\\AppData\\Local\\miniconda3\\envs\\OptiWindNet\\Lib\\site-packages\\ortools\\.libs\\ortools.dll...\n"
     ]
    }
   ],
   "source": [
    "from optiwindnet.api import WindFarmNetwork, Heuristic\n",
    "import numpy as np\n",
    "\n",
    "cables = [(None, 3, 206), (None, 5, 287), (None, 7, 406)]\n",
    "\n",
    "substations = np.array([[696, 1063],], dtype=float)\n",
    "turbines = np.array(\n",
    "    [[1940, 279], [1920, 703], [1475, 696], [1839, 1250],\n",
    "     [1277, 1296], [442, 1359], [737, 435], [1060, 26],\n",
    "     [522, 176], [87, 35], [184, 417], [71, 878]],\n",
    "    dtype=float\n",
    ")\n",
    "border = np.array( # vertices oriented counter-clockwise\n",
    "    [[1951, 200], [1951, 1383], [386, 1383], [650, 708], [624, 678],\n",
    "     [4, 1036], [4, 3], [1152, 3], [917, 819], [957, 854]],\n",
    "    dtype=float)\n",
    "# 'obstacles' is an optional location attribute\n",
    "obstacles = [\n",
    "    # - vertices oriented clockwise for each obstacle polygon\n",
    "    # - obstacles must be strictly inside the extents polygon\n",
    "    # - undefined behavior if obstacles and extents borders overlap\n",
    "    # first obstacle\n",
    "    np.array([[1540, 920], [1600, 940], [1600, 1150], [1400, 1200]]),\n",
    "    # [second obstacle] ...\n",
    "]"
   ]
  },
  {
   "cell_type": "code",
   "execution_count": 4,
   "id": "23c1c992-a563-4f2d-bbc8-cf0884e5b275",
   "metadata": {},
   "outputs": [
    {
     "name": "stdout",
     "output_type": "stream",
     "text": [
      "gradients_wt\n",
      " [[   9.70618904 -205.77120764]\n",
      " [ 226.44385177    5.23334324]\n",
      " [-205.97451805   -3.2400486 ]\n",
      " [ 255.86790133  180.36510604]\n",
      " [ -19.66557761  130.23903455]\n",
      " [-134.14999154  156.3322736 ]\n",
      " [  82.09097521  -22.64334569]\n",
      " [ 127.67235372 -161.66561198]\n",
      " [ -15.58364377 -340.42274323]\n",
      " [ -50.69989847 -199.66351769]\n",
      " [ -67.98698916  119.1807082 ]\n",
      " [ -49.04273777  200.07700985]]\n",
      "gradients_ss\n",
      " [[-158.6779147   141.97899934]]\n",
      "\n",
      "cost:  1438829.7308889795\n"
     ]
    }
   ],
   "source": [
    "wfn = WindFarmNetwork(turbines=turbines, substations=substations, border=border, obstacles=obstacles, cables=cables)\n",
    "\n",
    "router = Heuristic(wfn=wfn, solver='EW') # default is EW\n",
    "router()\n",
    "grad_wt, grad_ss = router.gradient()\n",
    "print('gradients_wt\\n', grad_wt)\n",
    "print('gradients_ss\\n', grad_ss)\n",
    "print()\n",
    "print('cost: ', wfn.cost())"
   ]
  },
  {
   "cell_type": "code",
   "execution_count": 6,
   "id": "90162c8e",
   "metadata": {},
   "outputs": [
    {
     "name": "stdout",
     "output_type": "stream",
     "text": [
      "WARNING: wfn.set_coordinates is not checking for cable crossings\n",
      "1438566.1977794454\n",
      "gradients_wt\n",
      " [[   9.70618904 -205.77120764]\n",
      " [ 226.44385177    5.23334324]\n",
      " [-205.97451805   -3.2400486 ]\n",
      " [ 255.86790133  180.36510604]\n",
      " [ -20.0778557   131.26138796]\n",
      " [-133.06410174  157.25757479]\n",
      " [  82.86272004  -22.5922228 ]\n",
      " [ 127.67235372 -161.66561198]\n",
      " [ -15.58364377 -340.42274323]\n",
      " [ -50.69989847 -199.66351769]\n",
      " [ -67.98698916  119.1807082 ]\n",
      " [ -49.04273777  200.07700985]]\n",
      "gradients_ss\n",
      " [[-160.12327124  139.98022186]]\n",
      "\n",
      "cost:  1438566.1977794454\n"
     ]
    }
   ],
   "source": [
    "substations = np.array([[695, 1060],], dtype=float)\n",
    "router(turbines=turbines, substations=substations)\n",
    "print(wfn.cost())\n",
    "#print(wfn.G.graph['VertexC'][-substations.shape[0]:, :])\n",
    "grad_wt, grad_ss = router.gradient()\n",
    "print('gradients_wt\\n', grad_wt)\n",
    "print('gradients_ss\\n', grad_ss)\n",
    "print()\n",
    "print('cost: ', wfn.cost())"
   ]
  },
  {
   "cell_type": "code",
   "execution_count": 7,
   "id": "ef03eb67-84c5-4861-94a3-a0e12bc14e69",
   "metadata": {},
   "outputs": [
    {
     "name": "stdout",
     "output_type": "stream",
     "text": [
      "WARNING: wfn.set_coordinates is not checking for cable crossings\n",
      "gradients_wt\n",
      " [[   9.70618904 -205.77120764]\n",
      " [ 226.44385177    5.23334324]\n",
      " [-205.97451805   -3.2400486 ]\n",
      " [ 255.86790133  180.36510604]\n",
      " [ -22.0362706   135.97044952]\n",
      " [-132.02893155  158.12767384]\n",
      " [  80.02284591  -22.77306745]\n",
      " [ 127.67235372 -161.66561198]\n",
      " [ -15.58364377 -340.42274323]\n",
      " [ -50.69989847 -199.66351769]\n",
      " [ -67.98698916  119.1807082 ]\n",
      " [ -49.04273777  200.07700985]]\n",
      "gradients_ss\n",
      " [[-156.3601524   134.58190589]]\n",
      "\n",
      "cost:  1436402.1337653387\n"
     ]
    }
   ],
   "source": [
    "substations = np.array([[700, 1050],], dtype=float)\n",
    "grad_wt, grad_ss = router.gradient(turbines=turbines, substations=substations)\n",
    "print('gradients_wt\\n', grad_wt)\n",
    "print('gradients_ss\\n', grad_ss)\n",
    "print()\n",
    "print('cost: ', wfn.cost())"
   ]
  }
 ],
 "metadata": {
  "kernelspec": {
   "display_name": "OptiWindNet",
   "language": "python",
   "name": "python3"
  },
  "language_info": {
   "codemirror_mode": {
    "name": "ipython",
    "version": 3
   },
   "file_extension": ".py",
   "mimetype": "text/x-python",
   "name": "python",
   "nbconvert_exporter": "python",
   "pygments_lexer": "ipython3",
   "version": "3.12.9"
  }
 },
 "nbformat": 4,
 "nbformat_minor": 5
}
