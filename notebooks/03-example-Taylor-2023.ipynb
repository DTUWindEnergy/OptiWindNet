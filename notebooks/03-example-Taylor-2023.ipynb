{
 "cells": [
  {
   "cell_type": "markdown",
   "id": "3da71e0a-3861-4a7c-8eaa-de84bce11338",
   "metadata": {},
   "source": [
    "Example of using `interarray` for routing the cables of a wind farm location with 122 turbines and 2 substations, which has a concave cable-laying area and one obstacle within that area.\n",
    "\n",
    "Additional complexity on the geometry of the location has negligible impact on the solving time, as it does not increase the number of variables in the MILP model."
   ]
  },
  {
   "cell_type": "code",
   "execution_count": 1,
   "id": "ea91c88d-4c7a-4adf-a0a5-0cb14249036d",
   "metadata": {},
   "outputs": [],
   "source": [
    "%config InlineBackend.figure_formats = ['svg']\n",
    "from matplotlib import pyplot as plt\n",
    "plt.rcParams['svg.fonttype'] = 'none'"
   ]
  },
  {
   "cell_type": "code",
   "execution_count": 2,
   "id": "2dad5165-2e00-4cc8-b31b-d400ec31c619",
   "metadata": {},
   "outputs": [],
   "source": [
    "from interarray.importer import load_repository\n",
    "from interarray.plotting import gplot\n",
    "from interarray.svg import svgplot\n",
    "from interarray.interarraylib import calcload, G_from_S\n",
    "from interarray.mesh import make_planar_embedding\n",
    "from interarray.pathfinding import PathFinder\n",
    "from interarray.heuristics import CPEW"
   ]
  },
  {
   "cell_type": "code",
   "execution_count": 3,
   "id": "0796cdab-881b-43b5-9480-dd60b8ba6678",
   "metadata": {},
   "outputs": [],
   "source": [
    "import pyomo.environ as pyo\n",
    "import interarray.MILP.pyomo as omo\n",
    "import interarray.MILP.ortools as ort"
   ]
  },
  {
   "cell_type": "markdown",
   "id": "c9f89a60-cb04-48b3-95f3-2862071f1917",
   "metadata": {},
   "source": [
    "## Solvers"
   ]
  },
  {
   "cell_type": "markdown",
   "id": "3585bff6-9bcc-4780-a77e-b8842983f323",
   "metadata": {},
   "source": [
    "Just one is required. Using `gurober` in this example."
   ]
  },
  {
   "cell_type": "code",
   "execution_count": 4,
   "id": "253f76a0-8b3d-4acb-b78d-1b96c5b26998",
   "metadata": {},
   "outputs": [
    {
     "data": {
      "text/plain": [
       "(True, pyomo.solvers.plugins.solvers.gurobi_direct.GurobiDirect)"
      ]
     },
     "execution_count": 4,
     "metadata": {},
     "output_type": "execute_result"
    }
   ],
   "source": [
    "gurober = pyo.SolverFactory('gurobi', solver_io='python')\n",
    "gurober.available(), type(gurober)"
   ]
  },
  {
   "cell_type": "code",
   "execution_count": 5,
   "id": "84723987-89d2-4d65-bc40-61672fa3d685",
   "metadata": {},
   "outputs": [
    {
     "data": {
      "text/plain": [
       "(True, pyomo.solvers.plugins.solvers.cplex_direct.CPLEXDirect)"
      ]
     },
     "execution_count": 5,
     "metadata": {},
     "output_type": "execute_result"
    }
   ],
   "source": [
    "cplexer = pyo.SolverFactory('cplex', solver_io='python')\n",
    "cplexer.available(), type(cplexer)"
   ]
  },
  {
   "cell_type": "code",
   "execution_count": 6,
   "id": "acbe136f-a287-4aa6-afed-66abc453c4ca",
   "metadata": {},
   "outputs": [],
   "source": [
    "orter = ort.cp_model.CpSolver()"
   ]
  },
  {
   "cell_type": "markdown",
   "id": "c37992fa-ecd0-4eec-9485-01c721213b72",
   "metadata": {},
   "source": [
    "## Load input data"
   ]
  },
  {
   "cell_type": "code",
   "execution_count": 7,
   "id": "9e47e5ac-661d-4084-ba6b-157aebe72cd8",
   "metadata": {},
   "outputs": [],
   "source": [
    "locations = load_repository()"
   ]
  },
  {
   "cell_type": "markdown",
   "id": "13a15e55-d94a-4af3-a2a2-a400367f926f",
   "metadata": {},
   "source": [
    "Using example location from <https://onlinelibrary.wiley.com/doi/abs/10.1049/rpg2.12593>."
   ]
  },
  {
   "cell_type": "code",
   "execution_count": 8,
   "id": "be962345-987c-4324-8572-928ab8b50564",
   "metadata": {},
   "outputs": [],
   "source": [
    "L = locations.taylor"
   ]
  },
  {
   "cell_type": "markdown",
   "id": "621c55e4-3cfa-4057-8347-93ea6459c124",
   "metadata": {},
   "source": [
    "Note: To view SVG cell outputs, trust this notebook first."
   ]
  },
  {
   "cell_type": "code",
   "execution_count": 9,
   "id": "6904997e-7054-4426-8ba0-bca69c089077",
   "metadata": {},
   "outputs": [
    {
     "data": {
      "image/svg+xml": [
       "<svg xmlns=\"http://www.w3.org/2000/svg\" viewBox=\"0 0 1920 1080\"><style >polyline {stroke-width: 4} line {stroke-width: 4} .std {stroke: crimson} .del {stroke: darkcyan} .con {stroke: red} .cod {stroke: green} .coe {stroke: green; stroke-dasharray: 18 15} .ttt {stroke: red; stroke-dasharray: 18 15} .rog {stroke: yellow; stroke-dasharray: 25 5} .ext {stroke: darkcyan; stroke-dasharray: 18 15} .scf {stroke: gray; stroke-dasharray: 10 10} .dt {stroke-dasharray: 18 15; fill: none; stroke: darkorange}</style><defs ><circle stroke=\"none\" stroke-width=\"2\" id=\"wtg\" r=\"12\"/><rect stroke=\"none\" stroke-width=\"2\" id=\"oss\" width=\"21\" height=\"21\" fill=\"lawngreen\"/><circle stroke=\"orange\" stroke-opacity=\"0.3\" stroke-width=\"4\" id=\"dt\" r=\"23\" fill=\"none\"/></defs><g id=\"taylor\"><path stroke=\"silver\" stroke-dasharray=\"15 7\" id=\"border\" d=\"M235 1050 769 1001 722 542 722 531 685 275 704 311 745 515 1047 311 637 98 243 30 36 252 30 938z M238 311 325 348 335 385 251 432 215 459 191 376z\" fill-rule=\"evenodd\" fill=\"#111\"/><g id=\"WTGgrp\"><g fill=\"#9edae5\"><use href=\"#wtg\" x=\"876\" y=\"232\"/><use href=\"#wtg\" x=\"930\" y=\"278\"/><use href=\"#wtg\" x=\"987\" y=\"335\"/><use href=\"#wtg\" x=\"661\" y=\"120\"/><use href=\"#wtg\" x=\"715\" y=\"167\"/><use href=\"#wtg\" x=\"770\" y=\"223\"/><use href=\"#wtg\" x=\"819\" y=\"277\"/><use href=\"#wtg\" x=\"872\" y=\"338\"/><use href=\"#wtg\" x=\"927\" y=\"388\"/><use href=\"#wtg\" x=\"551\" y=\"111\"/><use href=\"#wtg\" x=\"605\" y=\"165\"/><use href=\"#wtg\" x=\"658\" y=\"221\"/><use href=\"#wtg\" x=\"712\" y=\"277\"/><use href=\"#wtg\" x=\"760\" y=\"334\"/><use href=\"#wtg\" x=\"818\" y=\"391\"/><use href=\"#wtg\" x=\"388\" y=\"63\"/><use href=\"#wtg\" x=\"445\" y=\"111\"/><use href=\"#wtg\" x=\"497\" y=\"164\"/><use href=\"#wtg\" x=\"550\" y=\"220\"/><use href=\"#wtg\" x=\"605\" y=\"276\"/><use href=\"#wtg\" x=\"659\" y=\"332\"/><use href=\"#wtg\" x=\"765\" y=\"440\"/><use href=\"#wtg\" x=\"278\" y=\"53\"/><use href=\"#wtg\" x=\"332\" y=\"107\"/><use href=\"#wtg\" x=\"384\" y=\"164\"/><use href=\"#wtg\" x=\"437\" y=\"218\"/><use href=\"#wtg\" x=\"491\" y=\"270\"/><use href=\"#wtg\" x=\"546\" y=\"324\"/><use href=\"#wtg\" x=\"601\" y=\"379\"/><use href=\"#wtg\" x=\"655\" y=\"433\"/><use href=\"#wtg\" x=\"710\" y=\"490\"/><use href=\"#wtg\" x=\"221\" y=\"105\"/><use href=\"#wtg\" x=\"276\" y=\"162\"/><use href=\"#wtg\" x=\"328\" y=\"219\"/><use href=\"#wtg\" x=\"382\" y=\"274\"/><use href=\"#wtg\" x=\"438\" y=\"326\"/><use href=\"#wtg\" x=\"492\" y=\"379\"/><use href=\"#wtg\" x=\"546\" y=\"434\"/><use href=\"#wtg\" x=\"600\" y=\"489\"/><use href=\"#wtg\" x=\"652\" y=\"540\"/><use href=\"#wtg\" x=\"705\" y=\"596\"/><use href=\"#wtg\" x=\"165\" y=\"157\"/><use href=\"#wtg\" x=\"217\" y=\"214\"/><use href=\"#wtg\" x=\"271\" y=\"273\"/><use href=\"#wtg\" x=\"321\" y=\"324\"/><use href=\"#wtg\" x=\"376\" y=\"375\"/><use href=\"#wtg\" x=\"432\" y=\"428\"/><use href=\"#wtg\" x=\"484\" y=\"483\"/><use href=\"#wtg\" x=\"538\" y=\"537\"/><use href=\"#wtg\" x=\"594\" y=\"591\"/><use href=\"#wtg\" x=\"650\" y=\"647\"/><use href=\"#wtg\" x=\"704\" y=\"702\"/><use href=\"#wtg\" x=\"107\" y=\"210\"/><use href=\"#wtg\" x=\"163\" y=\"268\"/><use href=\"#wtg\" x=\"218\" y=\"325\"/><use href=\"#wtg\" x=\"320\" y=\"428\"/><use href=\"#wtg\" x=\"376\" y=\"481\"/><use href=\"#wtg\" x=\"429\" y=\"535\"/><use href=\"#wtg\" x=\"481\" y=\"592\"/><use href=\"#wtg\" x=\"538\" y=\"643\"/><use href=\"#wtg\" x=\"590\" y=\"699\"/><use href=\"#wtg\" x=\"647\" y=\"752\"/><use href=\"#wtg\" x=\"700\" y=\"806\"/><use href=\"#wtg\" x=\"747\" y=\"866\"/><use href=\"#wtg\" x=\"50\" y=\"263\"/><use href=\"#wtg\" x=\"102\" y=\"318\"/><use href=\"#wtg\" x=\"164\" y=\"375\"/><use href=\"#wtg\" x=\"267\" y=\"478\"/><use href=\"#wtg\" x=\"322\" y=\"533\"/><use href=\"#wtg\" x=\"375\" y=\"590\"/><use href=\"#wtg\" x=\"427\" y=\"646\"/><use href=\"#wtg\" x=\"483\" y=\"696\"/><use href=\"#wtg\" x=\"535\" y=\"754\"/><use href=\"#wtg\" x=\"591\" y=\"806\"/><use href=\"#wtg\" x=\"641\" y=\"861\"/><use href=\"#wtg\" x=\"697\" y=\"918\"/><use href=\"#wtg\" x=\"751\" y=\"972\"/><use href=\"#wtg\" x=\"46\" y=\"371\"/><use href=\"#wtg\" x=\"101\" y=\"424\"/><use href=\"#wtg\" x=\"159\" y=\"477\"/><use href=\"#wtg\" x=\"213\" y=\"531\"/><use href=\"#wtg\" x=\"264\" y=\"586\"/><use href=\"#wtg\" x=\"315\" y=\"641\"/><use href=\"#wtg\" x=\"370\" y=\"695\"/><use href=\"#wtg\" x=\"425\" y=\"748\"/><use href=\"#wtg\" x=\"476\" y=\"804\"/><use href=\"#wtg\" x=\"531\" y=\"857\"/><use href=\"#wtg\" x=\"585\" y=\"915\"/><use href=\"#wtg\" x=\"638\" y=\"971\"/><use href=\"#wtg\" x=\"43\" y=\"477\"/><use href=\"#wtg\" x=\"98\" y=\"529\"/><use href=\"#wtg\" x=\"154\" y=\"582\"/><use href=\"#wtg\" x=\"205\" y=\"638\"/><use href=\"#wtg\" x=\"259\" y=\"693\"/><use href=\"#wtg\" x=\"312\" y=\"747\"/><use href=\"#wtg\" x=\"367\" y=\"800\"/><use href=\"#wtg\" x=\"421\" y=\"855\"/><use href=\"#wtg\" x=\"475\" y=\"912\"/><use href=\"#wtg\" x=\"531\" y=\"969\"/><use href=\"#wtg\" x=\"41\" y=\"584\"/><use href=\"#wtg\" x=\"95\" y=\"635\"/><use href=\"#wtg\" x=\"149\" y=\"690\"/><use href=\"#wtg\" x=\"201\" y=\"745\"/><use href=\"#wtg\" x=\"257\" y=\"798\"/><use href=\"#wtg\" x=\"312\" y=\"854\"/><use href=\"#wtg\" x=\"366\" y=\"908\"/><use href=\"#wtg\" x=\"417\" y=\"967\"/><use href=\"#wtg\" x=\"473\" y=\"1020\"/><use href=\"#wtg\" x=\"40\" y=\"691\"/><use href=\"#wtg\" x=\"93\" y=\"743\"/><use href=\"#wtg\" x=\"149\" y=\"801\"/><use href=\"#wtg\" x=\"202\" y=\"854\"/><use href=\"#wtg\" x=\"256\" y=\"910\"/><use href=\"#wtg\" x=\"308\" y=\"963\"/><use href=\"#wtg\" x=\"361\" y=\"1019\"/><use href=\"#wtg\" x=\"39\" y=\"797\"/><use href=\"#wtg\" x=\"89\" y=\"849\"/><use href=\"#wtg\" x=\"144\" y=\"909\"/><use href=\"#wtg\" x=\"196\" y=\"962\"/><use href=\"#wtg\" x=\"252\" y=\"1018\"/><use href=\"#wtg\" x=\"38\" y=\"903\"/><use href=\"#wtg\" x=\"89\" y=\"959\"/></g></g><g id=\"OSSgrp\"><use href=\"#oss\" x=\"665.5\" y=\"485.5\"/><use href=\"#oss\" x=\"204.5\" y=\"577.5\"/></g><g id=\"DTgrp\"/></g></svg>"
      ],
      "text/plain": [
       "<interarray.svg.SvgRepr at 0x1acbcfeb9d0>"
      ]
     },
     "execution_count": 9,
     "metadata": {},
     "output_type": "execute_result"
    }
   ],
   "source": [
    "svgplot(L, landscape=False)"
   ]
  },
  {
   "cell_type": "markdown",
   "id": "a01bf604-9e8b-4d6a-b079-fc0c8e664c8d",
   "metadata": {},
   "source": [
    "When the location has more than one substation, we cannot use the *HGS-CVRP* meta-heuristic. Instead, we may use a very fast heuristic: *Crossing-Preventing Esau-Williams* (CPEW).\n",
    "\n",
    "CPEW has the downside of not limiting the number of feeders, thus the model to be warm-started must also have an unlimited number of feeders. This is usually not a problem, as most cable route sets produced by the MILP solver use the minimum number of feeders or only one more than the minimum."
   ]
  },
  {
   "cell_type": "markdown",
   "id": "59c0d61e-4daf-44f3-af91-f096952f07ab",
   "metadata": {},
   "source": [
    "## Generate the warm-start solution"
   ]
  },
  {
   "cell_type": "code",
   "execution_count": 10,
   "id": "82b73456-df11-4cae-a3f5-61921a434bbb",
   "metadata": {},
   "outputs": [],
   "source": [
    "P, A = make_planar_embedding(L)"
   ]
  },
  {
   "cell_type": "code",
   "execution_count": 11,
   "id": "14abd9af-0430-400e-856d-ae3662183771",
   "metadata": {},
   "outputs": [],
   "source": [
    "S_cpew = CPEW(L, capacity=5)\n",
    "calcload(S_cpew)"
   ]
  },
  {
   "cell_type": "markdown",
   "id": "cff4d530-ff92-483f-9a65-43bc6c89f08c",
   "metadata": {},
   "source": [
    "## Visualizing the warm-start solution"
   ]
  },
  {
   "cell_type": "markdown",
   "id": "799a3e0d-83da-4d3d-a596-a693806da821",
   "metadata": {},
   "source": [
    "This section is unecessary in production."
   ]
  },
  {
   "cell_type": "code",
   "execution_count": 12,
   "id": "aaccef5f-2036-4e92-94ee-d0533c98fa4e",
   "metadata": {},
   "outputs": [],
   "source": [
    "G_cpew = G_from_S(S_cpew, A)"
   ]
  },
  {
   "cell_type": "code",
   "execution_count": 13,
   "id": "70de3635-21ed-4670-8705-152cbeb377f4",
   "metadata": {},
   "outputs": [
    {
     "data": {
      "image/svg+xml": [
       "<?xml version=\"1.0\" encoding=\"utf-8\" standalone=\"no\"?>\n",
       "<!DOCTYPE svg PUBLIC \"-//W3C//DTD SVG 1.1//EN\"\n",
       "  \"http://www.w3.org/Graphics/SVG/1.1/DTD/svg11.dtd\">\n",
       "<svg xmlns:xlink=\"http://www.w3.org/1999/xlink\" width=\"351.609177pt\" height=\"353.99952pt\" viewBox=\"0 0 351.609177 353.99952\" xmlns=\"http://www.w3.org/2000/svg\" version=\"1.1\">\n",
       " <metadata>\n",
       "  <rdf:RDF xmlns:dc=\"http://purl.org/dc/elements/1.1/\" xmlns:cc=\"http://creativecommons.org/ns#\" xmlns:rdf=\"http://www.w3.org/1999/02/22-rdf-syntax-ns#\">\n",
       "   <cc:Work>\n",
       "    <dc:type rdf:resource=\"http://purl.org/dc/dcmitype/StillImage\"/>\n",
       "    <dc:date>2024-11-27T22:20:02.513026</dc:date>\n",
       "    <dc:format>image/svg+xml</dc:format>\n",
       "    <dc:creator>\n",
       "     <cc:Agent>\n",
       "      <dc:title>Matplotlib v3.9.2, https://matplotlib.org/</dc:title>\n",
       "     </cc:Agent>\n",
       "    </dc:creator>\n",
       "   </cc:Work>\n",
       "  </rdf:RDF>\n",
       " </metadata>\n",
       " <defs>\n",
       "  <style type=\"text/css\">*{stroke-linejoin: round; stroke-linecap: butt}</style>\n",
       " </defs>\n",
       " <g id=\"figure_1\">\n",
       "  <g id=\"patch_1\">\n",
       "   <path d=\"M 0 353.99952 \n",
       "L 351.609177 353.99952 \n",
       "L 351.609177 0 \n",
       "L 0 0 \n",
       "L 0 353.99952 \n",
       "z\n",
       "\" style=\"fill: none\"/>\n",
       "  </g>\n",
       "  <g id=\"axes_1\">\n",
       "   <g id=\"patch_2\">\n",
       "    <path d=\"M 85.55862 340.136505 \n",
       "L 255.105829 324.528422 \n",
       "L 240.436577 178.804078 \n",
       "L 240.436577 175.136765 \n",
       "L 228.701176 93.722419 \n",
       "L 234.568876 105.457821 \n",
       "L 247.771203 170.002527 \n",
       "L 343.737446 105.457821 \n",
       "L 213.239785 37.597863 \n",
       "L 88.140408 16.004725 \n",
       "L 22.187454 86.417132 \n",
       "L 20.427144 304.460886 \n",
       "z\n",
       "M 86.409437 105.457821 \n",
       "L 114.281015 117.193222 \n",
       "L 117.214865 128.928623 \n",
       "L 90.810212 143.597874 \n",
       "L 79.074811 152.399425 \n",
       "L 71.740185 125.994773 \n",
       "z\n",
       "\" clip-path=\"url(#p6caaa3672a)\" style=\"fill: #111111; stroke-dasharray: 1.85,0.8; stroke-dashoffset: 0; stroke: #c0c0c0; stroke-width: 0.5; stroke-linejoin: miter\"/>\n",
       "   </g>\n",
       "   <g id=\"LineCollection_1\">\n",
       "    <path d=\"M 289.197169 80.050677 \n",
       "L 271.212667 94.631913 \n",
       "\" clip-path=\"url(#p6caaa3672a)\" style=\"fill: none; stroke: #dc143c; stroke-width: 0.7; stroke-linecap: round\"/>\n",
       "    <path d=\"M 289.197169 80.050677 \n",
       "L 306.477547 94.89596 \n",
       "\" clip-path=\"url(#p6caaa3672a)\" style=\"fill: none; stroke: #dc143c; stroke-width: 0.7; stroke-linecap: round\"/>\n",
       "    <path d=\"M 306.477547 94.89596 \n",
       "L 324.520726 112.821785 \n",
       "\" clip-path=\"url(#p6caaa3672a)\" style=\"fill: none; stroke: #dc143c; stroke-width: 0.7; stroke-linecap: round\"/>\n",
       "    <path d=\"M 221.073165 44.52175 \n",
       "L 203.206017 58.985632 \n",
       "\" clip-path=\"url(#p6caaa3672a)\" style=\"fill: none; stroke: #dc143c; stroke-width: 0.7; stroke-linecap: round\"/>\n",
       "    <path d=\"M 221.073165 44.52175 \n",
       "L 238.001481 59.689756 \n",
       "\" clip-path=\"url(#p6caaa3672a)\" style=\"fill: none; stroke: #dc143c; stroke-width: 0.7; stroke-linecap: round\"/>\n",
       "    <path d=\"M 238.001481 59.689756 \n",
       "L 219.958302 76.735426 \n",
       "\" clip-path=\"url(#p6caaa3672a)\" style=\"fill: none; stroke: #dc143c; stroke-width: 0.7; stroke-linecap: round\"/>\n",
       "    <path d=\"M 255.457891 77.410212 \n",
       "L 271.212667 94.631913 \n",
       "\" clip-path=\"url(#p6caaa3672a)\" style=\"fill: none; stroke: #dc143c; stroke-width: 0.7; stroke-linecap: round\"/>\n",
       "    <path d=\"M 287.964952 113.819294 \n",
       "L 270.919282 130.718272 \n",
       "\" clip-path=\"url(#p6caaa3672a)\" style=\"fill: none; stroke: #dc143c; stroke-width: 0.7; stroke-linecap: round\"/>\n",
       "    <path d=\"M 287.964952 113.819294 \n",
       "L 305.392022 129.750101 \n",
       "\" clip-path=\"url(#p6caaa3672a)\" style=\"fill: none; stroke: #dc143c; stroke-width: 0.7; stroke-linecap: round\"/>\n",
       "    <path d=\"M 185.984316 41.763931 \n",
       "L 203.206017 58.985632 \n",
       "\" clip-path=\"url(#p6caaa3672a)\" style=\"fill: none; stroke: #dc143c; stroke-width: 0.7; stroke-linecap: round\"/>\n",
       "    <path d=\"M 252.348009 112.616415 \n",
       "L 270.919282 130.718272 \n",
       "\" clip-path=\"url(#p6caaa3672a)\" style=\"fill: none; stroke: #dc143c; stroke-width: 0.7; stroke-linecap: round\"/>\n",
       "    <path d=\"M 270.919282 130.718272 \n",
       "L 254.137658 146.326355 \n",
       "\" clip-path=\"url(#p6caaa3672a)\" style=\"fill: none; stroke: #dc143c; stroke-width: 0.7; stroke-linecap: round\"/>\n",
       "    <path d=\"M 134.260535 26.419894 \n",
       "L 116.422725 40.590391 \n",
       "\" clip-path=\"url(#p6caaa3672a)\" style=\"fill: none; stroke: #dc143c; stroke-width: 0.7; stroke-linecap: round\"/>\n",
       "    <path d=\"M 134.260535 26.419894 \n",
       "L 152.157022 41.617238 \n",
       "\" clip-path=\"url(#p6caaa3672a)\" style=\"fill: none; stroke: #dc143c; stroke-width: 0.7; stroke-linecap: round\"/>\n",
       "    <path d=\"M 152.157022 41.617238 \n",
       "L 168.879968 58.63357 \n",
       "\" clip-path=\"url(#p6caaa3672a)\" style=\"fill: none; stroke: #dc143c; stroke-width: 0.7; stroke-linecap: round\"/>\n",
       "    <path d=\"M 168.879968 58.63357 \n",
       "L 185.5149 76.530057 \n",
       "\" clip-path=\"url(#p6caaa3672a)\" style=\"fill: none; stroke: #dc143c; stroke-width: 0.7; stroke-linecap: round\"/>\n",
       "    <path d=\"M 203.088663 94.045143 \n",
       "L 220.19301 112.000307 \n",
       "\" clip-path=\"url(#p6caaa3672a)\" style=\"fill: none; stroke: #dc143c; stroke-width: 0.7; stroke-linecap: round\"/>\n",
       "    <path d=\"M 220.19301 112.000307 \n",
       "L 218.931454 144.125967 \n",
       "\" clip-path=\"url(#p6caaa3672a)\" style=\"fill: none; stroke: #dc143c; stroke-width: 0.7; stroke-linecap: round\"/>\n",
       "    <path d=\"M 99.318378 23.251336 \n",
       "L 81.216522 39.915605 \n",
       "\" clip-path=\"url(#p6caaa3672a)\" style=\"fill: none; stroke: #dc143c; stroke-width: 0.7; stroke-linecap: round\"/>\n",
       "    <path d=\"M 132.910964 58.516216 \n",
       "L 149.83928 75.591225 \n",
       "\" clip-path=\"url(#p6caaa3672a)\" style=\"fill: none; stroke: #dc143c; stroke-width: 0.7; stroke-linecap: round\"/>\n",
       "    <path d=\"M 149.83928 75.591225 \n",
       "L 166.796935 92.402187 \n",
       "\" clip-path=\"url(#p6caaa3672a)\" style=\"fill: none; stroke: #dc143c; stroke-width: 0.7; stroke-linecap: round\"/>\n",
       "    <path d=\"M 166.796935 92.402187 \n",
       "L 184.517391 109.359842 \n",
       "\" clip-path=\"url(#p6caaa3672a)\" style=\"fill: none; stroke: #dc143c; stroke-width: 0.7; stroke-linecap: round\"/>\n",
       "    <path d=\"M 184.517391 109.359842 \n",
       "L 202.003138 126.874928 \n",
       "\" clip-path=\"url(#p6caaa3672a)\" style=\"fill: none; stroke: #dc143c; stroke-width: 0.7; stroke-linecap: round\"/>\n",
       "    <path d=\"M 218.931454 144.125967 \n",
       "L 225.767326 164.134826 \n",
       "\" clip-path=\"url(#p6caaa3672a)\" style=\"fill: none; stroke: #dc143c; stroke-width: 0.7; stroke-linecap: round\"/>\n",
       "    <path d=\"M 236.387864 162.198485 \n",
       "L 225.767326 164.134826 \n",
       "\" clip-path=\"url(#p6caaa3672a)\" style=\"fill: none; stroke: #dc143c; stroke-width: 0.7; stroke-linecap: round\"/>\n",
       "    <path d=\"M 81.216522 39.915605 \n",
       "L 63.202681 56.403844 \n",
       "\" clip-path=\"url(#p6caaa3672a)\" style=\"fill: none; stroke: #dc143c; stroke-width: 0.7; stroke-linecap: round\"/>\n",
       "    <path d=\"M 98.4969 57.870769 \n",
       "L 79.866951 74.476362 \n",
       "\" clip-path=\"url(#p6caaa3672a)\" style=\"fill: none; stroke: #dc143c; stroke-width: 0.7; stroke-linecap: round\"/>\n",
       "    <path d=\"M 115.131831 76.001964 \n",
       "L 97.029975 93.282342 \n",
       "\" clip-path=\"url(#p6caaa3672a)\" style=\"fill: none; stroke: #dc143c; stroke-width: 0.7; stroke-linecap: round\"/>\n",
       "    <path d=\"M 132.265517 93.546388 \n",
       "L 149.985973 110.151981 \n",
       "\" clip-path=\"url(#p6caaa3672a)\" style=\"fill: none; stroke: #dc143c; stroke-width: 0.7; stroke-linecap: round\"/>\n",
       "    <path d=\"M 149.985973 110.151981 \n",
       "L 167.266351 126.845589 \n",
       "\" clip-path=\"url(#p6caaa3672a)\" style=\"fill: none; stroke: #dc143c; stroke-width: 0.7; stroke-linecap: round\"/>\n",
       "    <path d=\"M 167.266351 126.845589 \n",
       "L 184.458714 144.507368 \n",
       "\" clip-path=\"url(#p6caaa3672a)\" style=\"fill: none; stroke: #dc143c; stroke-width: 0.7; stroke-linecap: round\"/>\n",
       "    <path d=\"M 184.458714 144.507368 \n",
       "L 201.475045 161.934439 \n",
       "\" clip-path=\"url(#p6caaa3672a)\" style=\"fill: none; stroke: #dc143c; stroke-width: 0.7; stroke-linecap: round\"/>\n",
       "    <path d=\"M 201.475045 161.934439 \n",
       "L 225.767326 164.134826 \n",
       "\" clip-path=\"url(#p6caaa3672a)\" style=\"fill: none; stroke: #dc143c; stroke-width: 0.7; stroke-linecap: round\"/>\n",
       "    <path d=\"M 217.992622 178.011938 \n",
       "L 225.767326 164.134826 \n",
       "\" clip-path=\"url(#p6caaa3672a)\" style=\"fill: none; stroke: #dc143c; stroke-width: 0.7; stroke-linecap: round\"/>\n",
       "    <path d=\"M 234.950277 195.996441 \n",
       "L 234.539538 229.589026 \n",
       "\" clip-path=\"url(#p6caaa3672a)\" style=\"fill: none; stroke: #dc143c; stroke-width: 0.7; stroke-linecap: round\"/>\n",
       "    <path d=\"M 234.950277 195.996441 \n",
       "L 225.767326 164.134826 \n",
       "\" clip-path=\"url(#p6caaa3672a)\" style=\"fill: none; stroke: #dc143c; stroke-width: 0.7; stroke-linecap: round\"/>\n",
       "    <path d=\"M 63.202681 56.403844 \n",
       "L 79.866951 74.476362 \n",
       "\" clip-path=\"url(#p6caaa3672a)\" style=\"fill: none; stroke: #dc143c; stroke-width: 0.7; stroke-linecap: round\"/>\n",
       "    <path d=\"M 97.029975 93.282342 \n",
       "L 113.048797 109.477196 \n",
       "\" clip-path=\"url(#p6caaa3672a)\" style=\"fill: none; stroke: #dc143c; stroke-width: 0.7; stroke-linecap: round\"/>\n",
       "    <path d=\"M 113.048797 109.477196 \n",
       "L 130.387853 125.613372 \n",
       "\" clip-path=\"url(#p6caaa3672a)\" style=\"fill: none; stroke: #dc143c; stroke-width: 0.7; stroke-linecap: round\"/>\n",
       "    <path d=\"M 148.07897 142.453673 \n",
       "L 164.831255 159.910082 \n",
       "\" clip-path=\"url(#p6caaa3672a)\" style=\"fill: none; stroke: #dc143c; stroke-width: 0.7; stroke-linecap: round\"/>\n",
       "    <path d=\"M 164.831255 159.910082 \n",
       "L 181.730233 177.161122 \n",
       "\" clip-path=\"url(#p6caaa3672a)\" style=\"fill: none; stroke: #dc143c; stroke-width: 0.7; stroke-linecap: round\"/>\n",
       "    <path d=\"M 199.597381 194.265469 \n",
       "L 225.767326 164.134826 \n",
       "\" clip-path=\"url(#p6caaa3672a)\" style=\"fill: none; stroke: #dc143c; stroke-width: 0.7; stroke-linecap: round\"/>\n",
       "    <path d=\"M 199.597381 194.265469 \n",
       "L 181.935602 210.724369 \n",
       "\" clip-path=\"url(#p6caaa3672a)\" style=\"fill: none; stroke: #dc143c; stroke-width: 0.7; stroke-linecap: round\"/>\n",
       "    <path d=\"M 45.012809 73.302821 \n",
       "L 62.674588 91.580709 \n",
       "\" clip-path=\"url(#p6caaa3672a)\" style=\"fill: none; stroke: #dc143c; stroke-width: 0.7; stroke-linecap: round\"/>\n",
       "    <path d=\"M 62.674588 91.580709 \n",
       "L 43.42853 107.394162 \n",
       "\" clip-path=\"url(#p6caaa3672a)\" style=\"fill: none; stroke: #dc143c; stroke-width: 0.7; stroke-linecap: round\"/>\n",
       "    <path d=\"M 112.696735 142.336319 \n",
       "L 95.651065 158.472495 \n",
       "\" clip-path=\"url(#p6caaa3672a)\" style=\"fill: none; stroke: #dc143c; stroke-width: 0.7; stroke-linecap: round\"/>\n",
       "    <path d=\"M 130.329176 159.323312 \n",
       "L 147.257492 176.545013 \n",
       "\" clip-path=\"url(#p6caaa3672a)\" style=\"fill: none; stroke: #dc143c; stroke-width: 0.7; stroke-linecap: round\"/>\n",
       "    <path d=\"M 130.329176 159.323312 \n",
       "L 113.078136 175.723535 \n",
       "\" clip-path=\"url(#p6caaa3672a)\" style=\"fill: none; stroke: #dc143c; stroke-width: 0.7; stroke-linecap: round\"/>\n",
       "    <path d=\"M 147.257492 176.545013 \n",
       "L 130.006452 193.913407 \n",
       "\" clip-path=\"url(#p6caaa3672a)\" style=\"fill: none; stroke: #dc143c; stroke-width: 0.7; stroke-linecap: round\"/>\n",
       "    <path d=\"M 163.74573 194.558854 \n",
       "L 181.935602 210.724369 \n",
       "\" clip-path=\"url(#p6caaa3672a)\" style=\"fill: none; stroke: #dc143c; stroke-width: 0.7; stroke-linecap: round\"/>\n",
       "    <path d=\"M 181.935602 210.724369 \n",
       "L 198.423841 228.444825 \n",
       "\" clip-path=\"url(#p6caaa3672a)\" style=\"fill: none; stroke: #dc143c; stroke-width: 0.7; stroke-linecap: round\"/>\n",
       "    <path d=\"M 181.935602 210.724369 \n",
       "L 164.391178 227.56467 \n",
       "\" clip-path=\"url(#p6caaa3672a)\" style=\"fill: none; stroke: #dc143c; stroke-width: 0.7; stroke-linecap: round\"/>\n",
       "    <path d=\"M 216.349666 245.373141 \n",
       "L 233.248644 262.682858 \n",
       "\" clip-path=\"url(#p6caaa3672a)\" style=\"fill: none; stroke: #dc143c; stroke-width: 0.7; stroke-linecap: round\"/>\n",
       "    <path d=\"M 233.248644 262.682858 \n",
       "L 248.21128 281.576854 \n",
       "\" clip-path=\"url(#p6caaa3672a)\" style=\"fill: none; stroke: #dc143c; stroke-width: 0.7; stroke-linecap: round\"/>\n",
       "    <path d=\"M 248.21128 281.576854 \n",
       "L 232.485843 298.329139 \n",
       "\" clip-path=\"url(#p6caaa3672a)\" style=\"fill: none; stroke: #dc143c; stroke-width: 0.7; stroke-linecap: round\"/>\n",
       "    <path d=\"M 26.734922 90.172461 \n",
       "L 43.42853 107.394162 \n",
       "\" clip-path=\"url(#p6caaa3672a)\" style=\"fill: none; stroke: #dc143c; stroke-width: 0.7; stroke-linecap: round\"/>\n",
       "    <path d=\"M 43.42853 107.394162 \n",
       "L 25.444028 124.439832 \n",
       "\" clip-path=\"url(#p6caaa3672a)\" style=\"fill: none; stroke: #dc143c; stroke-width: 0.7; stroke-linecap: round\"/>\n",
       "    <path d=\"M 62.938634 125.789403 \n",
       "L 43.047129 141.192117 \n",
       "\" clip-path=\"url(#p6caaa3672a)\" style=\"fill: none; stroke: #dc143c; stroke-width: 0.7; stroke-linecap: round\"/>\n",
       "    <path d=\"M 95.651065 158.472495 \n",
       "L 79.074811 193.473329 \n",
       "\" clip-path=\"url(#p6caaa3672a)\" style=\"fill: none; stroke: #dc143c; stroke-width: 0.7; stroke-linecap: round\"/>\n",
       "    <path d=\"M 130.006452 193.913407 \n",
       "L 146.436014 211.663201 \n",
       "\" clip-path=\"url(#p6caaa3672a)\" style=\"fill: none; stroke: #dc143c; stroke-width: 0.7; stroke-linecap: round\"/>\n",
       "    <path d=\"M 180.791401 245.930573 \n",
       "L 162.220128 261.978734 \n",
       "\" clip-path=\"url(#p6caaa3672a)\" style=\"fill: none; stroke: #dc143c; stroke-width: 0.7; stroke-linecap: round\"/>\n",
       "    <path d=\"M 198.541195 262.682858 \n",
       "L 214.677371 280.08059 \n",
       "\" clip-path=\"url(#p6caaa3672a)\" style=\"fill: none; stroke: #dc143c; stroke-width: 0.7; stroke-linecap: round\"/>\n",
       "    <path d=\"M 214.677371 280.08059 \n",
       "L 196.8689 297.184937 \n",
       "\" clip-path=\"url(#p6caaa3672a)\" style=\"fill: none; stroke: #dc143c; stroke-width: 0.7; stroke-linecap: round\"/>\n",
       "    <path d=\"M 232.485843 298.329139 \n",
       "L 249.443497 315.492163 \n",
       "\" clip-path=\"url(#p6caaa3672a)\" style=\"fill: none; stroke: #dc143c; stroke-width: 0.7; stroke-linecap: round\"/>\n",
       "    <path d=\"M 43.047129 141.192117 \n",
       "L 61.442371 158.120433 \n",
       "\" clip-path=\"url(#p6caaa3672a)\" style=\"fill: none; stroke: #dc143c; stroke-width: 0.7; stroke-linecap: round\"/>\n",
       "    <path d=\"M 61.442371 158.120433 \n",
       "L 78.458702 175.078088 \n",
       "\" clip-path=\"url(#p6caaa3672a)\" style=\"fill: none; stroke: #dc143c; stroke-width: 0.7; stroke-linecap: round\"/>\n",
       "    <path d=\"M 78.458702 175.078088 \n",
       "L 79.074811 193.473329 \n",
       "\" clip-path=\"url(#p6caaa3672a)\" style=\"fill: none; stroke: #dc143c; stroke-width: 0.7; stroke-linecap: round\"/>\n",
       "    <path d=\"M 94.653556 192.739867 \n",
       "L 79.074811 193.473329 \n",
       "\" clip-path=\"url(#p6caaa3672a)\" style=\"fill: none; stroke: #dc143c; stroke-width: 0.7; stroke-linecap: round\"/>\n",
       "    <path d=\"M 94.653556 192.739867 \n",
       "L 111.024441 210.254953 \n",
       "\" clip-path=\"url(#p6caaa3672a)\" style=\"fill: none; stroke: #dc143c; stroke-width: 0.7; stroke-linecap: round\"/>\n",
       "    <path d=\"M 128.422173 227.447316 \n",
       "L 146.054613 244.02357 \n",
       "\" clip-path=\"url(#p6caaa3672a)\" style=\"fill: none; stroke: #dc143c; stroke-width: 0.7; stroke-linecap: round\"/>\n",
       "    <path d=\"M 146.054613 244.02357 \n",
       "L 162.220128 261.978734 \n",
       "\" clip-path=\"url(#p6caaa3672a)\" style=\"fill: none; stroke: #dc143c; stroke-width: 0.7; stroke-linecap: round\"/>\n",
       "    <path d=\"M 162.220128 261.978734 \n",
       "L 179.617861 278.789696 \n",
       "\" clip-path=\"url(#p6caaa3672a)\" style=\"fill: none; stroke: #dc143c; stroke-width: 0.7; stroke-linecap: round\"/>\n",
       "    <path d=\"M 196.8689 297.184937 \n",
       "L 179.588522 314.259946 \n",
       "\" clip-path=\"url(#p6caaa3672a)\" style=\"fill: none; stroke: #dc143c; stroke-width: 0.7; stroke-linecap: round\"/>\n",
       "    <path d=\"M 196.8689 297.184937 \n",
       "L 213.621185 315.169439 \n",
       "\" clip-path=\"url(#p6caaa3672a)\" style=\"fill: none; stroke: #dc143c; stroke-width: 0.7; stroke-linecap: round\"/>\n",
       "    <path d=\"M 24.505196 158.208449 \n",
       "L 42.078959 174.579334 \n",
       "\" clip-path=\"url(#p6caaa3672a)\" style=\"fill: none; stroke: #dc143c; stroke-width: 0.7; stroke-linecap: round\"/>\n",
       "    <path d=\"M 42.078959 174.579334 \n",
       "L 59.858092 191.478311 \n",
       "\" clip-path=\"url(#p6caaa3672a)\" style=\"fill: none; stroke: #dc143c; stroke-width: 0.7; stroke-linecap: round\"/>\n",
       "    <path d=\"M 59.858092 191.478311 \n",
       "L 79.074811 193.473329 \n",
       "\" clip-path=\"url(#p6caaa3672a)\" style=\"fill: none; stroke: #dc143c; stroke-width: 0.7; stroke-linecap: round\"/>\n",
       "    <path d=\"M 59.858092 191.478311 \n",
       "L 41.022773 208.406627 \n",
       "\" clip-path=\"url(#p6caaa3672a)\" style=\"fill: none; stroke: #dc143c; stroke-width: 0.7; stroke-linecap: round\"/>\n",
       "    <path d=\"M 75.906253 209.198767 \n",
       "L 58.156458 225.892375 \n",
       "\" clip-path=\"url(#p6caaa3672a)\" style=\"fill: none; stroke: #dc143c; stroke-width: 0.7; stroke-linecap: round\"/>\n",
       "    <path d=\"M 75.906253 209.198767 \n",
       "L 79.074811 193.473329 \n",
       "\" clip-path=\"url(#p6caaa3672a)\" style=\"fill: none; stroke: #dc143c; stroke-width: 0.7; stroke-linecap: round\"/>\n",
       "    <path d=\"M 93.069277 226.567161 \n",
       "L 109.909578 277.850864 \n",
       "\" clip-path=\"url(#p6caaa3672a)\" style=\"fill: none; stroke: #dc143c; stroke-width: 0.7; stroke-linecap: round\"/>\n",
       "    <path d=\"M 93.069277 226.567161 \n",
       "L 79.074811 193.473329 \n",
       "\" clip-path=\"url(#p6caaa3672a)\" style=\"fill: none; stroke: #dc143c; stroke-width: 0.7; stroke-linecap: round\"/>\n",
       "    <path d=\"M 110.144286 243.906216 \n",
       "L 127.542018 260.805194 \n",
       "\" clip-path=\"url(#p6caaa3672a)\" style=\"fill: none; stroke: #dc143c; stroke-width: 0.7; stroke-linecap: round\"/>\n",
       "    <path d=\"M 127.542018 260.805194 \n",
       "L 144.55835 278.202926 \n",
       "\" clip-path=\"url(#p6caaa3672a)\" style=\"fill: none; stroke: #dc143c; stroke-width: 0.7; stroke-linecap: round\"/>\n",
       "    <path d=\"M 144.55835 278.202926 \n",
       "L 161.897405 296.334121 \n",
       "\" clip-path=\"url(#p6caaa3672a)\" style=\"fill: none; stroke: #dc143c; stroke-width: 0.7; stroke-linecap: round\"/>\n",
       "    <path d=\"M 23.889087 192.035743 \n",
       "L 41.022773 208.406627 \n",
       "\" clip-path=\"url(#p6caaa3672a)\" style=\"fill: none; stroke: #dc143c; stroke-width: 0.7; stroke-linecap: round\"/>\n",
       "    <path d=\"M 58.156458 225.892375 \n",
       "L 74.879405 243.348784 \n",
       "\" clip-path=\"url(#p6caaa3672a)\" style=\"fill: none; stroke: #dc143c; stroke-width: 0.7; stroke-linecap: round\"/>\n",
       "    <path d=\"M 74.879405 243.348784 \n",
       "L 58.244474 260.951886 \n",
       "\" clip-path=\"url(#p6caaa3672a)\" style=\"fill: none; stroke: #dc143c; stroke-width: 0.7; stroke-linecap: round\"/>\n",
       "    <path d=\"M 92.717215 259.983715 \n",
       "L 92.189122 295.600658 \n",
       "\" clip-path=\"url(#p6caaa3672a)\" style=\"fill: none; stroke: #dc143c; stroke-width: 0.7; stroke-linecap: round\"/>\n",
       "    <path d=\"M 109.909578 277.850864 \n",
       "L 127.043263 295.16058 \n",
       "\" clip-path=\"url(#p6caaa3672a)\" style=\"fill: none; stroke: #dc143c; stroke-width: 0.7; stroke-linecap: round\"/>\n",
       "    <path d=\"M 127.043263 295.16058 \n",
       "L 143.267455 313.761191 \n",
       "\" clip-path=\"url(#p6caaa3672a)\" style=\"fill: none; stroke: #dc143c; stroke-width: 0.7; stroke-linecap: round\"/>\n",
       "    <path d=\"M 143.267455 313.761191 \n",
       "L 161.134604 330.748184 \n",
       "\" clip-path=\"url(#p6caaa3672a)\" style=\"fill: none; stroke: #dc143c; stroke-width: 0.7; stroke-linecap: round\"/>\n",
       "    <path d=\"M 23.537025 225.921714 \n",
       "L 40.347987 242.468629 \n",
       "\" clip-path=\"url(#p6caaa3672a)\" style=\"fill: none; stroke: #dc143c; stroke-width: 0.7; stroke-linecap: round\"/>\n",
       "    <path d=\"M 40.347987 242.468629 \n",
       "L 23.214302 259.807684 \n",
       "\" clip-path=\"url(#p6caaa3672a)\" style=\"fill: none; stroke: #dc143c; stroke-width: 0.7; stroke-linecap: round\"/>\n",
       "    <path d=\"M 75.143452 277.997556 \n",
       "L 56.74821 295.307273 \n",
       "\" clip-path=\"url(#p6caaa3672a)\" style=\"fill: none; stroke: #dc143c; stroke-width: 0.7; stroke-linecap: round\"/>\n",
       "    <path d=\"M 92.189122 295.600658 \n",
       "L 108.67736 312.61699 \n",
       "\" clip-path=\"url(#p6caaa3672a)\" style=\"fill: none; stroke: #dc143c; stroke-width: 0.7; stroke-linecap: round\"/>\n",
       "    <path d=\"M 108.67736 312.61699 \n",
       "L 125.664354 330.337445 \n",
       "\" clip-path=\"url(#p6caaa3672a)\" style=\"fill: none; stroke: #dc143c; stroke-width: 0.7; stroke-linecap: round\"/>\n",
       "    <path d=\"M 23.214302 259.807684 \n",
       "L 39.027755 276.266585 \n",
       "\" clip-path=\"url(#p6caaa3672a)\" style=\"fill: none; stroke: #dc143c; stroke-width: 0.7; stroke-linecap: round\"/>\n",
       "    <path d=\"M 39.027755 276.266585 \n",
       "L 22.950255 293.546963 \n",
       "\" clip-path=\"url(#p6caaa3672a)\" style=\"fill: none; stroke: #dc143c; stroke-width: 0.7; stroke-linecap: round\"/>\n",
       "    <path d=\"M 56.74821 295.307273 \n",
       "L 39.291801 311.062049 \n",
       "\" clip-path=\"url(#p6caaa3672a)\" style=\"fill: none; stroke: #dc143c; stroke-width: 0.7; stroke-linecap: round\"/>\n",
       "    <path d=\"M 56.74821 295.307273 \n",
       "L 73.20711 312.264928 \n",
       "\" clip-path=\"url(#p6caaa3672a)\" style=\"fill: none; stroke: #dc143c; stroke-width: 0.7; stroke-linecap: round\"/>\n",
       "    <path d=\"M 73.20711 312.264928 \n",
       "L 90.868889 329.897368 \n",
       "\" clip-path=\"url(#p6caaa3672a)\" style=\"fill: none; stroke: #dc143c; stroke-width: 0.7; stroke-linecap: round\"/>\n",
       "   </g>\n",
       "   <g id=\"LineCollection_2\">\n",
       "    <path d=\"M 255.457891 77.410212 \n",
       "L 225.767326 164.134826 \n",
       "\" clip-path=\"url(#p6caaa3672a)\" style=\"fill: none; stroke-dasharray: 4.48,1.12,0.7,1.12; stroke-dashoffset: 0; stroke: #ff0000; stroke-width: 0.7; stroke-linecap: round\"/>\n",
       "    <path d=\"M 219.958302 76.735426 \n",
       "L 225.767326 164.134826 \n",
       "\" clip-path=\"url(#p6caaa3672a)\" style=\"fill: none; stroke-dasharray: 4.48,1.12,0.7,1.12; stroke-dashoffset: 0; stroke: #ff0000; stroke-width: 0.7; stroke-linecap: round\"/>\n",
       "    <path d=\"M 237.033311 94.455882 \n",
       "L 225.767326 164.134826 \n",
       "\" clip-path=\"url(#p6caaa3672a)\" style=\"fill: none; stroke-dasharray: 4.48,1.12,0.7,1.12; stroke-dashoffset: 0; stroke: #ff0000; stroke-width: 0.7; stroke-linecap: round\"/>\n",
       "    <path d=\"M 252.348009 112.616415 \n",
       "L 225.767326 164.134826 \n",
       "\" clip-path=\"url(#p6caaa3672a)\" style=\"fill: none; stroke-dasharray: 4.48,1.12,0.7,1.12; stroke-dashoffset: 0; stroke: #ff0000; stroke-width: 0.7; stroke-linecap: round\"/>\n",
       "    <path d=\"M 185.5149 76.530057 \n",
       "L 225.767326 164.134826 \n",
       "\" clip-path=\"url(#p6caaa3672a)\" style=\"fill: none; stroke-dasharray: 4.48,1.12,0.7,1.12; stroke-dashoffset: 0; stroke: #ff0000; stroke-width: 0.7; stroke-linecap: round\"/>\n",
       "    <path d=\"M 202.003138 126.874928 \n",
       "L 225.767326 164.134826 \n",
       "\" clip-path=\"url(#p6caaa3672a)\" style=\"fill: none; stroke-dasharray: 4.48,1.12,0.7,1.12; stroke-dashoffset: 0; stroke: #ff0000; stroke-width: 0.7; stroke-linecap: round\"/>\n",
       "    <path d=\"M 79.866951 74.476362 \n",
       "L 79.074811 193.473329 \n",
       "\" clip-path=\"url(#p6caaa3672a)\" style=\"fill: none; stroke-dasharray: 4.48,1.12,0.7,1.12; stroke-dashoffset: 0; stroke: #ff0000; stroke-width: 0.7; stroke-linecap: round\"/>\n",
       "    <path d=\"M 130.387853 125.613372 \n",
       "L 79.074811 193.473329 \n",
       "\" clip-path=\"url(#p6caaa3672a)\" style=\"fill: none; stroke-dasharray: 4.48,1.12,0.7,1.12; stroke-dashoffset: 0; stroke: #ff0000; stroke-width: 0.7; stroke-linecap: round\"/>\n",
       "    <path d=\"M 181.730233 177.161122 \n",
       "L 225.767326 164.134826 \n",
       "\" clip-path=\"url(#p6caaa3672a)\" style=\"fill: none; stroke-dasharray: 4.48,1.12,0.7,1.12; stroke-dashoffset: 0; stroke: #ff0000; stroke-width: 0.7; stroke-linecap: round\"/>\n",
       "    <path d=\"M 217.347175 211.956586 \n",
       "L 225.767326 164.134826 \n",
       "\" clip-path=\"url(#p6caaa3672a)\" style=\"fill: none; stroke-dasharray: 4.48,1.12,0.7,1.12; stroke-dashoffset: 0; stroke: #ff0000; stroke-width: 0.7; stroke-linecap: round\"/>\n",
       "    <path d=\"M 216.349666 245.373141 \n",
       "L 225.767326 164.134826 \n",
       "\" clip-path=\"url(#p6caaa3672a)\" style=\"fill: none; stroke-dasharray: 4.48,1.12,0.7,1.12; stroke-dashoffset: 0; stroke: #ff0000; stroke-width: 0.7; stroke-linecap: round\"/>\n",
       "    <path d=\"M 113.078136 175.723535 \n",
       "L 79.074811 193.473329 \n",
       "\" clip-path=\"url(#p6caaa3672a)\" style=\"fill: none; stroke-dasharray: 4.48,1.12,0.7,1.12; stroke-dashoffset: 0; stroke: #ff0000; stroke-width: 0.7; stroke-linecap: round\"/>\n",
       "    <path d=\"M 198.541195 262.682858 \n",
       "L 225.767326 164.134826 \n",
       "\" clip-path=\"url(#p6caaa3672a)\" style=\"fill: none; stroke-dasharray: 4.48,1.12,0.7,1.12; stroke-dashoffset: 0; stroke: #ff0000; stroke-width: 0.7; stroke-linecap: round\"/>\n",
       "    <path d=\"M 25.444028 124.439832 \n",
       "L 79.074811 193.473329 \n",
       "\" clip-path=\"url(#p6caaa3672a)\" style=\"fill: none; stroke-dasharray: 4.48,1.12,0.7,1.12; stroke-dashoffset: 0; stroke: #ff0000; stroke-width: 0.7; stroke-linecap: round\"/>\n",
       "    <path d=\"M 128.422173 227.447316 \n",
       "L 79.074811 193.473329 \n",
       "\" clip-path=\"url(#p6caaa3672a)\" style=\"fill: none; stroke-dasharray: 4.48,1.12,0.7,1.12; stroke-dashoffset: 0; stroke: #ff0000; stroke-width: 0.7; stroke-linecap: round\"/>\n",
       "    <path d=\"M 110.144286 243.906216 \n",
       "L 79.074811 193.473329 \n",
       "\" clip-path=\"url(#p6caaa3672a)\" style=\"fill: none; stroke-dasharray: 4.48,1.12,0.7,1.12; stroke-dashoffset: 0; stroke: #ff0000; stroke-width: 0.7; stroke-linecap: round\"/>\n",
       "    <path d=\"M 92.717215 259.983715 \n",
       "L 79.074811 193.473329 \n",
       "\" clip-path=\"url(#p6caaa3672a)\" style=\"fill: none; stroke-dasharray: 4.48,1.12,0.7,1.12; stroke-dashoffset: 0; stroke: #ff0000; stroke-width: 0.7; stroke-linecap: round\"/>\n",
       "    <path d=\"M 40.347987 242.468629 \n",
       "L 79.074811 193.473329 \n",
       "\" clip-path=\"url(#p6caaa3672a)\" style=\"fill: none; stroke-dasharray: 4.48,1.12,0.7,1.12; stroke-dashoffset: 0; stroke: #ff0000; stroke-width: 0.7; stroke-linecap: round\"/>\n",
       "    <path d=\"M 75.143452 277.997556 \n",
       "L 79.074811 193.473329 \n",
       "\" clip-path=\"url(#p6caaa3672a)\" style=\"fill: none; stroke-dasharray: 4.48,1.12,0.7,1.12; stroke-dashoffset: 0; stroke: #ff0000; stroke-width: 0.7; stroke-linecap: round\"/>\n",
       "   </g>\n",
       "   <g id=\"LineCollection_3\">\n",
       "    <path d=\"M 97.029975 93.282342 \n",
       "L 80.27769 109.741242 \n",
       "\" clip-path=\"url(#p6caaa3672a)\" style=\"fill: none; stroke: #ff0000; stroke-width: 0.7; stroke-linecap: round\"/>\n",
       "   </g>\n",
       "   <g id=\"PathCollection_1\">\n",
       "    <path d=\"M 223.646005 166.256147 \n",
       "L 227.888646 166.256147 \n",
       "L 227.888646 162.013506 \n",
       "L 223.646005 162.013506 \n",
       "z\n",
       "\" style=\"fill: #7cfc00\"/>\n",
       "    <path d=\"M 76.953491 195.59465 \n",
       "L 81.196131 195.59465 \n",
       "L 81.196131 191.352009 \n",
       "L 76.953491 191.352009 \n",
       "z\n",
       "\" style=\"fill: #7cfc00\"/>\n",
       "   </g>\n",
       "   <g id=\"PathCollection_2\">\n",
       "    <defs>\n",
       "     <path id=\"C0_0_240d8c2ba8\" d=\"M 0 2.12132 \n",
       "C 0.562581 2.12132 1.102195 1.897805 1.5 1.5 \n",
       "C 1.897805 1.102195 2.12132 0.562581 2.12132 -0 \n",
       "C 2.12132 -0.562581 1.897805 -1.102195 1.5 -1.5 \n",
       "C 1.102195 -1.897805 0.562581 -2.12132 0 -2.12132 \n",
       "C -0.562581 -2.12132 -1.102195 -1.897805 -1.5 -1.5 \n",
       "C -1.897805 -1.102195 -2.12132 -0.562581 -2.12132 0 \n",
       "C -2.12132 0.562581 -1.897805 1.102195 -1.5 1.5 \n",
       "C -1.102195 1.897805 -0.562581 2.12132 0 2.12132 \n",
       "z\n",
       "\"/>\n",
       "    </defs>\n",
       "    <use xlink:href=\"#C0_0_240d8c2ba8\" x=\"289.197169\" y=\"80.050677\" style=\"fill: #c7c7c7\"/>\n",
       "    <use xlink:href=\"#C0_0_240d8c2ba8\" x=\"306.477547\" y=\"94.89596\" style=\"fill: #c7c7c7\"/>\n",
       "    <use xlink:href=\"#C0_0_240d8c2ba8\" x=\"324.520726\" y=\"112.821785\" style=\"fill: #c7c7c7\"/>\n",
       "    <use xlink:href=\"#C0_0_240d8c2ba8\" x=\"221.073165\" y=\"44.52175\" style=\"fill: #8c564b\"/>\n",
       "    <use xlink:href=\"#C0_0_240d8c2ba8\" x=\"238.001481\" y=\"59.689756\" style=\"fill: #8c564b\"/>\n",
       "    <use xlink:href=\"#C0_0_240d8c2ba8\" x=\"255.457891\" y=\"77.410212\" style=\"fill: #c7c7c7\"/>\n",
       "    <use xlink:href=\"#C0_0_240d8c2ba8\" x=\"271.212667\" y=\"94.631913\" style=\"fill: #c7c7c7\"/>\n",
       "    <use xlink:href=\"#C0_0_240d8c2ba8\" x=\"287.964952\" y=\"113.819294\" style=\"fill: #e377c2\"/>\n",
       "    <use xlink:href=\"#C0_0_240d8c2ba8\" x=\"305.392022\" y=\"129.750101\" style=\"fill: #e377c2\"/>\n",
       "    <use xlink:href=\"#C0_0_240d8c2ba8\" x=\"185.984316\" y=\"41.763931\" style=\"fill: #8c564b\"/>\n",
       "    <use xlink:href=\"#C0_0_240d8c2ba8\" x=\"203.206017\" y=\"58.985632\" style=\"fill: #8c564b\"/>\n",
       "    <use xlink:href=\"#C0_0_240d8c2ba8\" x=\"219.958302\" y=\"76.735426\" style=\"fill: #8c564b\"/>\n",
       "    <use xlink:href=\"#C0_0_240d8c2ba8\" x=\"237.033311\" y=\"94.455882\" style=\"fill: #c49c94\"/>\n",
       "    <use xlink:href=\"#C0_0_240d8c2ba8\" x=\"252.348009\" y=\"112.616415\" style=\"fill: #e377c2\"/>\n",
       "    <use xlink:href=\"#C0_0_240d8c2ba8\" x=\"270.919282\" y=\"130.718272\" style=\"fill: #e377c2\"/>\n",
       "    <use xlink:href=\"#C0_0_240d8c2ba8\" x=\"134.260535\" y=\"26.419894\" style=\"fill: #c5b0d5\"/>\n",
       "    <use xlink:href=\"#C0_0_240d8c2ba8\" x=\"152.157022\" y=\"41.617238\" style=\"fill: #c5b0d5\"/>\n",
       "    <use xlink:href=\"#C0_0_240d8c2ba8\" x=\"168.879968\" y=\"58.63357\" style=\"fill: #c5b0d5\"/>\n",
       "    <use xlink:href=\"#C0_0_240d8c2ba8\" x=\"185.5149\" y=\"76.530057\" style=\"fill: #c5b0d5\"/>\n",
       "    <use xlink:href=\"#C0_0_240d8c2ba8\" x=\"203.088663\" y=\"94.045143\" style=\"fill: #ff7f0e\"/>\n",
       "    <use xlink:href=\"#C0_0_240d8c2ba8\" x=\"220.19301\" y=\"112.000307\" style=\"fill: #ff7f0e\"/>\n",
       "    <use xlink:href=\"#C0_0_240d8c2ba8\" x=\"254.137658\" y=\"146.326355\" style=\"fill: #e377c2\"/>\n",
       "    <use xlink:href=\"#C0_0_240d8c2ba8\" x=\"99.318378\" y=\"23.251336\" style=\"fill: #8c564b\"/>\n",
       "    <use xlink:href=\"#C0_0_240d8c2ba8\" x=\"116.422725\" y=\"40.590391\" style=\"fill: #c5b0d5\"/>\n",
       "    <use xlink:href=\"#C0_0_240d8c2ba8\" x=\"132.910964\" y=\"58.516216\" style=\"fill: #aec7e8\"/>\n",
       "    <use xlink:href=\"#C0_0_240d8c2ba8\" x=\"149.83928\" y=\"75.591225\" style=\"fill: #aec7e8\"/>\n",
       "    <use xlink:href=\"#C0_0_240d8c2ba8\" x=\"166.796935\" y=\"92.402187\" style=\"fill: #aec7e8\"/>\n",
       "    <use xlink:href=\"#C0_0_240d8c2ba8\" x=\"184.517391\" y=\"109.359842\" style=\"fill: #aec7e8\"/>\n",
       "    <use xlink:href=\"#C0_0_240d8c2ba8\" x=\"202.003138\" y=\"126.874928\" style=\"fill: #aec7e8\"/>\n",
       "    <use xlink:href=\"#C0_0_240d8c2ba8\" x=\"218.931454\" y=\"144.125967\" style=\"fill: #ff7f0e\"/>\n",
       "    <use xlink:href=\"#C0_0_240d8c2ba8\" x=\"236.387864\" y=\"162.198485\" style=\"fill: #f7b6d2\"/>\n",
       "    <use xlink:href=\"#C0_0_240d8c2ba8\" x=\"81.216522\" y=\"39.915605\" style=\"fill: #8c564b\"/>\n",
       "    <use xlink:href=\"#C0_0_240d8c2ba8\" x=\"98.4969\" y=\"57.870769\" style=\"fill: #8c564b\"/>\n",
       "    <use xlink:href=\"#C0_0_240d8c2ba8\" x=\"115.131831\" y=\"76.001964\" style=\"fill: #ff7f0e\"/>\n",
       "    <use xlink:href=\"#C0_0_240d8c2ba8\" x=\"132.265517\" y=\"93.546388\" style=\"fill: #ffbb78\"/>\n",
       "    <use xlink:href=\"#C0_0_240d8c2ba8\" x=\"149.985973\" y=\"110.151981\" style=\"fill: #ffbb78\"/>\n",
       "    <use xlink:href=\"#C0_0_240d8c2ba8\" x=\"167.266351\" y=\"126.845589\" style=\"fill: #ffbb78\"/>\n",
       "    <use xlink:href=\"#C0_0_240d8c2ba8\" x=\"184.458714\" y=\"144.507368\" style=\"fill: #ffbb78\"/>\n",
       "    <use xlink:href=\"#C0_0_240d8c2ba8\" x=\"201.475045\" y=\"161.934439\" style=\"fill: #ffbb78\"/>\n",
       "    <use xlink:href=\"#C0_0_240d8c2ba8\" x=\"217.992622\" y=\"178.011938\" style=\"fill: #98df8a\"/>\n",
       "    <use xlink:href=\"#C0_0_240d8c2ba8\" x=\"234.950277\" y=\"195.996441\" style=\"fill: #7f7f7f\"/>\n",
       "    <use xlink:href=\"#C0_0_240d8c2ba8\" x=\"63.202681\" y=\"56.403844\" style=\"fill: #8c564b\"/>\n",
       "    <use xlink:href=\"#C0_0_240d8c2ba8\" x=\"79.866951\" y=\"74.476362\" style=\"fill: #8c564b\"/>\n",
       "    <use xlink:href=\"#C0_0_240d8c2ba8\" x=\"97.029975\" y=\"93.282342\" style=\"fill: #ff7f0e\"/>\n",
       "    <use xlink:href=\"#C0_0_240d8c2ba8\" x=\"113.048797\" y=\"109.477196\" style=\"fill: #ff7f0e\"/>\n",
       "    <use xlink:href=\"#C0_0_240d8c2ba8\" x=\"130.387853\" y=\"125.613372\" style=\"fill: #ff7f0e\"/>\n",
       "    <use xlink:href=\"#C0_0_240d8c2ba8\" x=\"148.07897\" y=\"142.453673\" style=\"fill: #1f77b4\"/>\n",
       "    <use xlink:href=\"#C0_0_240d8c2ba8\" x=\"164.831255\" y=\"159.910082\" style=\"fill: #1f77b4\"/>\n",
       "    <use xlink:href=\"#C0_0_240d8c2ba8\" x=\"181.730233\" y=\"177.161122\" style=\"fill: #1f77b4\"/>\n",
       "    <use xlink:href=\"#C0_0_240d8c2ba8\" x=\"199.597381\" y=\"194.265469\" style=\"fill: #2ca02c\"/>\n",
       "    <use xlink:href=\"#C0_0_240d8c2ba8\" x=\"217.347175\" y=\"211.956586\" style=\"fill: #d62728\"/>\n",
       "    <use xlink:href=\"#C0_0_240d8c2ba8\" x=\"234.539538\" y=\"229.589026\" style=\"fill: #7f7f7f\"/>\n",
       "    <use xlink:href=\"#C0_0_240d8c2ba8\" x=\"45.012809\" y=\"73.302821\" style=\"fill: #c5b0d5\"/>\n",
       "    <use xlink:href=\"#C0_0_240d8c2ba8\" x=\"62.674588\" y=\"91.580709\" style=\"fill: #c5b0d5\"/>\n",
       "    <use xlink:href=\"#C0_0_240d8c2ba8\" x=\"80.27769\" y=\"109.741242\" style=\"fill: #ff7f0e\"/>\n",
       "    <use xlink:href=\"#C0_0_240d8c2ba8\" x=\"112.696735\" y=\"142.336319\" style=\"fill: #dbdb8d\"/>\n",
       "    <use xlink:href=\"#C0_0_240d8c2ba8\" x=\"130.329176\" y=\"159.323312\" style=\"fill: #bcbd22\"/>\n",
       "    <use xlink:href=\"#C0_0_240d8c2ba8\" x=\"147.257492\" y=\"176.545013\" style=\"fill: #bcbd22\"/>\n",
       "    <use xlink:href=\"#C0_0_240d8c2ba8\" x=\"163.74573\" y=\"194.558854\" style=\"fill: #2ca02c\"/>\n",
       "    <use xlink:href=\"#C0_0_240d8c2ba8\" x=\"181.935602\" y=\"210.724369\" style=\"fill: #2ca02c\"/>\n",
       "    <use xlink:href=\"#C0_0_240d8c2ba8\" x=\"198.423841\" y=\"228.444825\" style=\"fill: #2ca02c\"/>\n",
       "    <use xlink:href=\"#C0_0_240d8c2ba8\" x=\"216.349666\" y=\"245.373141\" style=\"fill: #ff9896\"/>\n",
       "    <use xlink:href=\"#C0_0_240d8c2ba8\" x=\"233.248644\" y=\"262.682858\" style=\"fill: #ff9896\"/>\n",
       "    <use xlink:href=\"#C0_0_240d8c2ba8\" x=\"248.21128\" y=\"281.576854\" style=\"fill: #ff9896\"/>\n",
       "    <use xlink:href=\"#C0_0_240d8c2ba8\" x=\"26.734922\" y=\"90.172461\" style=\"fill: #c5b0d5\"/>\n",
       "    <use xlink:href=\"#C0_0_240d8c2ba8\" x=\"43.42853\" y=\"107.394162\" style=\"fill: #c5b0d5\"/>\n",
       "    <use xlink:href=\"#C0_0_240d8c2ba8\" x=\"62.938634\" y=\"125.789403\" style=\"fill: #aec7e8\"/>\n",
       "    <use xlink:href=\"#C0_0_240d8c2ba8\" x=\"95.651065\" y=\"158.472495\" style=\"fill: #dbdb8d\"/>\n",
       "    <use xlink:href=\"#C0_0_240d8c2ba8\" x=\"113.078136\" y=\"175.723535\" style=\"fill: #bcbd22\"/>\n",
       "    <use xlink:href=\"#C0_0_240d8c2ba8\" x=\"130.006452\" y=\"193.913407\" style=\"fill: #bcbd22\"/>\n",
       "    <use xlink:href=\"#C0_0_240d8c2ba8\" x=\"146.436014\" y=\"211.663201\" style=\"fill: #bcbd22\"/>\n",
       "    <use xlink:href=\"#C0_0_240d8c2ba8\" x=\"164.391178\" y=\"227.56467\" style=\"fill: #2ca02c\"/>\n",
       "    <use xlink:href=\"#C0_0_240d8c2ba8\" x=\"180.791401\" y=\"245.930573\" style=\"fill: #ffbb78\"/>\n",
       "    <use xlink:href=\"#C0_0_240d8c2ba8\" x=\"198.541195\" y=\"262.682858\" style=\"fill: #9467bd\"/>\n",
       "    <use xlink:href=\"#C0_0_240d8c2ba8\" x=\"214.677371\" y=\"280.08059\" style=\"fill: #9467bd\"/>\n",
       "    <use xlink:href=\"#C0_0_240d8c2ba8\" x=\"232.485843\" y=\"298.329139\" style=\"fill: #ff9896\"/>\n",
       "    <use xlink:href=\"#C0_0_240d8c2ba8\" x=\"249.443497\" y=\"315.492163\" style=\"fill: #ff9896\"/>\n",
       "    <use xlink:href=\"#C0_0_240d8c2ba8\" x=\"25.444028\" y=\"124.439832\" style=\"fill: #c5b0d5\"/>\n",
       "    <use xlink:href=\"#C0_0_240d8c2ba8\" x=\"43.047129\" y=\"141.192117\" style=\"fill: #aec7e8\"/>\n",
       "    <use xlink:href=\"#C0_0_240d8c2ba8\" x=\"61.442371\" y=\"158.120433\" style=\"fill: #aec7e8\"/>\n",
       "    <use xlink:href=\"#C0_0_240d8c2ba8\" x=\"78.458702\" y=\"175.078088\" style=\"fill: #aec7e8\"/>\n",
       "    <use xlink:href=\"#C0_0_240d8c2ba8\" x=\"94.653556\" y=\"192.739867\" style=\"fill: #17becf\"/>\n",
       "    <use xlink:href=\"#C0_0_240d8c2ba8\" x=\"111.024441\" y=\"210.254953\" style=\"fill: #17becf\"/>\n",
       "    <use xlink:href=\"#C0_0_240d8c2ba8\" x=\"128.422173\" y=\"227.447316\" style=\"fill: #ffbb78\"/>\n",
       "    <use xlink:href=\"#C0_0_240d8c2ba8\" x=\"146.054613\" y=\"244.02357\" style=\"fill: #ffbb78\"/>\n",
       "    <use xlink:href=\"#C0_0_240d8c2ba8\" x=\"162.220128\" y=\"261.978734\" style=\"fill: #ffbb78\"/>\n",
       "    <use xlink:href=\"#C0_0_240d8c2ba8\" x=\"179.617861\" y=\"278.789696\" style=\"fill: #ffbb78\"/>\n",
       "    <use xlink:href=\"#C0_0_240d8c2ba8\" x=\"196.8689\" y=\"297.184937\" style=\"fill: #9467bd\"/>\n",
       "    <use xlink:href=\"#C0_0_240d8c2ba8\" x=\"213.621185\" y=\"315.169439\" style=\"fill: #9467bd\"/>\n",
       "    <use xlink:href=\"#C0_0_240d8c2ba8\" x=\"24.505196\" y=\"158.208449\" style=\"fill: #9467bd\"/>\n",
       "    <use xlink:href=\"#C0_0_240d8c2ba8\" x=\"42.078959\" y=\"174.579334\" style=\"fill: #9467bd\"/>\n",
       "    <use xlink:href=\"#C0_0_240d8c2ba8\" x=\"59.858092\" y=\"191.478311\" style=\"fill: #9467bd\"/>\n",
       "    <use xlink:href=\"#C0_0_240d8c2ba8\" x=\"75.906253\" y=\"209.198767\" style=\"fill: #1f77b4\"/>\n",
       "    <use xlink:href=\"#C0_0_240d8c2ba8\" x=\"93.069277\" y=\"226.567161\" style=\"fill: #9edae5\"/>\n",
       "    <use xlink:href=\"#C0_0_240d8c2ba8\" x=\"110.144286\" y=\"243.906216\" style=\"fill: #2ca02c\"/>\n",
       "    <use xlink:href=\"#C0_0_240d8c2ba8\" x=\"127.542018\" y=\"260.805194\" style=\"fill: #2ca02c\"/>\n",
       "    <use xlink:href=\"#C0_0_240d8c2ba8\" x=\"144.55835\" y=\"278.202926\" style=\"fill: #2ca02c\"/>\n",
       "    <use xlink:href=\"#C0_0_240d8c2ba8\" x=\"161.897405\" y=\"296.334121\" style=\"fill: #2ca02c\"/>\n",
       "    <use xlink:href=\"#C0_0_240d8c2ba8\" x=\"179.588522\" y=\"314.259946\" style=\"fill: #9467bd\"/>\n",
       "    <use xlink:href=\"#C0_0_240d8c2ba8\" x=\"23.889087\" y=\"192.035743\" style=\"fill: #9467bd\"/>\n",
       "    <use xlink:href=\"#C0_0_240d8c2ba8\" x=\"41.022773\" y=\"208.406627\" style=\"fill: #9467bd\"/>\n",
       "    <use xlink:href=\"#C0_0_240d8c2ba8\" x=\"58.156458\" y=\"225.892375\" style=\"fill: #1f77b4\"/>\n",
       "    <use xlink:href=\"#C0_0_240d8c2ba8\" x=\"74.879405\" y=\"243.348784\" style=\"fill: #1f77b4\"/>\n",
       "    <use xlink:href=\"#C0_0_240d8c2ba8\" x=\"92.717215\" y=\"259.983715\" style=\"fill: #98df8a\"/>\n",
       "    <use xlink:href=\"#C0_0_240d8c2ba8\" x=\"109.909578\" y=\"277.850864\" style=\"fill: #9edae5\"/>\n",
       "    <use xlink:href=\"#C0_0_240d8c2ba8\" x=\"127.043263\" y=\"295.16058\" style=\"fill: #9edae5\"/>\n",
       "    <use xlink:href=\"#C0_0_240d8c2ba8\" x=\"143.267455\" y=\"313.761191\" style=\"fill: #9edae5\"/>\n",
       "    <use xlink:href=\"#C0_0_240d8c2ba8\" x=\"161.134604\" y=\"330.748184\" style=\"fill: #9edae5\"/>\n",
       "    <use xlink:href=\"#C0_0_240d8c2ba8\" x=\"23.537025\" y=\"225.921714\" style=\"fill: #ff9896\"/>\n",
       "    <use xlink:href=\"#C0_0_240d8c2ba8\" x=\"40.347987\" y=\"242.468629\" style=\"fill: #ff9896\"/>\n",
       "    <use xlink:href=\"#C0_0_240d8c2ba8\" x=\"58.244474\" y=\"260.951886\" style=\"fill: #1f77b4\"/>\n",
       "    <use xlink:href=\"#C0_0_240d8c2ba8\" x=\"75.143452\" y=\"277.997556\" style=\"fill: #d62728\"/>\n",
       "    <use xlink:href=\"#C0_0_240d8c2ba8\" x=\"92.189122\" y=\"295.600658\" style=\"fill: #98df8a\"/>\n",
       "    <use xlink:href=\"#C0_0_240d8c2ba8\" x=\"108.67736\" y=\"312.61699\" style=\"fill: #98df8a\"/>\n",
       "    <use xlink:href=\"#C0_0_240d8c2ba8\" x=\"125.664354\" y=\"330.337445\" style=\"fill: #98df8a\"/>\n",
       "    <use xlink:href=\"#C0_0_240d8c2ba8\" x=\"23.214302\" y=\"259.807684\" style=\"fill: #ff9896\"/>\n",
       "    <use xlink:href=\"#C0_0_240d8c2ba8\" x=\"39.027755\" y=\"276.266585\" style=\"fill: #ff9896\"/>\n",
       "    <use xlink:href=\"#C0_0_240d8c2ba8\" x=\"56.74821\" y=\"295.307273\" style=\"fill: #d62728\"/>\n",
       "    <use xlink:href=\"#C0_0_240d8c2ba8\" x=\"73.20711\" y=\"312.264928\" style=\"fill: #d62728\"/>\n",
       "    <use xlink:href=\"#C0_0_240d8c2ba8\" x=\"90.868889\" y=\"329.897368\" style=\"fill: #d62728\"/>\n",
       "    <use xlink:href=\"#C0_0_240d8c2ba8\" x=\"22.950255\" y=\"293.546963\" style=\"fill: #ff9896\"/>\n",
       "    <use xlink:href=\"#C0_0_240d8c2ba8\" x=\"39.291801\" y=\"311.062049\" style=\"fill: #d62728\"/>\n",
       "   </g>\n",
       "   <g id=\"legend_1\">\n",
       "    <g id=\"patch_3\">\n",
       "     <path d=\"M 201.529177 59.915125 \n",
       "L 337.409177 59.915125 \n",
       "Q 339.409177 59.915125 339.409177 57.915125 \n",
       "L 339.409177 14.2 \n",
       "Q 339.409177 12.2 337.409177 12.2 \n",
       "L 201.529177 12.2 \n",
       "Q 199.529177 12.2 199.529177 14.2 \n",
       "L 199.529177 57.915125 \n",
       "Q 199.529177 59.915125 201.529177 59.915125 \n",
       "z\n",
       "\" style=\"fill: #111111; opacity: 0.6; stroke: #ffffff; stroke-linejoin: miter\"/>\n",
       "    </g>\n",
       "    <g id=\"text_1\">\n",
       "     <!-- $\\kappa$ = 5, $T$ = 122 -->\n",
       "     <g style=\"fill: #ffffff\" transform=\"translate(225.489177 25.318125)\">\n",
       "      <text>\n",
       "       <tspan style=\"font: oblique 12px 'DejaVu Sans'\" x=\"0 40.019531\" y=\"-0.09375\">κT</tspan>\n",
       "       <tspan style=\"font: 12px 'DejaVu Sans'\" x=\"7.072266 10.886719 20.941406 24.755859 32.390625 36.205078 47.349609 51.164062 61.21875 65.033203 72.667969 80.302734\" y=\"-0.09375\"> = 5,  = 122</tspan>\n",
       "      </text>\n",
       "     </g>\n",
       "     <!-- (+6) $\\phi_{α}$ = 15, $\\phi_{β}$ = 16 -->\n",
       "     <g style=\"fill: #ffffff\" transform=\"translate(203.529177 38.75775)\">\n",
       "      <text>\n",
       "       <tspan style=\"font: 12px 'DejaVu Sans'\" x=\"0 4.681641 14.736328 22.371094 27.052734 44.648438 48.462891 58.517578 62.332031 69.966797 77.601562 81.416016 98.835352 102.649805 112.704492 116.518945 124.153711\" y=\"-0.875\">(+6)  = 15,  = 16</tspan>\n",
       "       <tspan style=\"font: oblique 12px 'DejaVu Sans'\" x=\"30.867188 85.230469\" y=\"-0.875\">ϕϕ</tspan>\n",
       "       <tspan style=\"font: oblique 8.4px 'DejaVu Sans'\" x=\"38.783203 93.146484\" y=\"1.09375\">αβ</tspan>\n",
       "      </text>\n",
       "     </g>\n",
       "     <text style=\"fill: #ffffff; font: 12px 'DejaVu Sans', 'Bitstream Vera Sans', 'Computer Modern Sans Serif', 'Lucida Grande', 'Verdana', 'Geneva', 'Lucid', 'Arial', 'Helvetica', 'Avant Garde', sans-serif\" transform=\"translate(218.788865 53.4195)\">Σl = 136736.0 m</text>\n",
       "    </g>\n",
       "   </g>\n",
       "  </g>\n",
       " </g>\n",
       " <defs>\n",
       "  <clipPath id=\"p6caaa3672a\">\n",
       "   <rect x=\"7.2\" y=\"7.2\" width=\"337.209177\" height=\"339.59952\"/>\n",
       "  </clipPath>\n",
       " </defs>\n",
       "</svg>\n"
      ],
      "text/plain": [
       "<Figure size 1228.8x921.6 with 1 Axes>"
      ]
     },
     "metadata": {},
     "output_type": "display_data"
    }
   ],
   "source": [
    "gplot(G_cpew, node_tag=None, landscape=False);"
   ]
  },
  {
   "cell_type": "markdown",
   "id": "c28574f8-f005-44dd-b46e-efee042990de",
   "metadata": {},
   "source": [
    "## Create MILP model and solve it"
   ]
  },
  {
   "cell_type": "code",
   "execution_count": 14,
   "id": "908dabdc-c6af-479c-b363-c744eaed92b6",
   "metadata": {},
   "outputs": [],
   "source": [
    "model = omo.make_min_length_model(\n",
    "    A, S_cpew.graph['capacity'],\n",
    "    gateXings_constraint=False,\n",
    "    gates_limit=False,\n",
    "    branching=True\n",
    ")\n",
    "omo.warmup_model(model, S_cpew);"
   ]
  },
  {
   "cell_type": "code",
   "execution_count": 15,
   "id": "55852f80-8263-4788-837d-949b9ec057eb",
   "metadata": {},
   "outputs": [
    {
     "name": "stdout",
     "output_type": "stream",
     "text": [
      "Solving \"taylor\": {R=2, T=122, k=5}\n",
      "\n"
     ]
    },
    {
     "name": "stdout",
     "output_type": "stream",
     "text": [
      "Set parameter OutputFlag to value 1\n"
     ]
    },
    {
     "name": "stdout",
     "output_type": "stream",
     "text": [
      "Set parameter MIPGap to value 0.005\n"
     ]
    },
    {
     "name": "stdout",
     "output_type": "stream",
     "text": [
      "Set parameter TimeLimit to value 10\n"
     ]
    },
    {
     "name": "stdout",
     "output_type": "stream",
     "text": [
      "Set parameter MIPFocus to value 1\n"
     ]
    },
    {
     "name": "stdout",
     "output_type": "stream",
     "text": [
      "Gurobi Optimizer version 12.0.0 build v12.0.0rc1 (win64 - Windows 10.0 (19045.2))\n"
     ]
    },
    {
     "name": "stdout",
     "output_type": "stream",
     "text": [
      "\n"
     ]
    },
    {
     "name": "stdout",
     "output_type": "stream",
     "text": [
      "CPU model: 11th Gen Intel(R) Core(TM) i7-11850H @ 2.50GHz, instruction set [SSE2|AVX|AVX2|AVX512]\n"
     ]
    },
    {
     "name": "stdout",
     "output_type": "stream",
     "text": [
      "Thread count: 8 physical cores, 16 logical processors, using up to 16 threads\n"
     ]
    },
    {
     "name": "stdout",
     "output_type": "stream",
     "text": [
      "\n"
     ]
    },
    {
     "name": "stdout",
     "output_type": "stream",
     "text": [
      "Non-default parameters:\n"
     ]
    },
    {
     "name": "stdout",
     "output_type": "stream",
     "text": [
      "TimeLimit  10\n"
     ]
    },
    {
     "name": "stdout",
     "output_type": "stream",
     "text": [
      "MIPGap  0.005\n"
     ]
    },
    {
     "name": "stdout",
     "output_type": "stream",
     "text": [
      "MIPFocus  1\n"
     ]
    },
    {
     "name": "stdout",
     "output_type": "stream",
     "text": [
      "\n"
     ]
    },
    {
     "name": "stdout",
     "output_type": "stream",
     "text": [
      "Academic license 937681 - for non-commercial use only - registered to ma___@dtu.dk\n"
     ]
    },
    {
     "name": "stdout",
     "output_type": "stream",
     "text": [
      "Optimize a model with 4417 rows, 2880 columns and 16454 nonzeros\n"
     ]
    },
    {
     "name": "stdout",
     "output_type": "stream",
     "text": [
      "Model fingerprint: 0x8f3bdc8b\n"
     ]
    },
    {
     "name": "stdout",
     "output_type": "stream",
     "text": [
      "Variable types: 0 continuous, 2880 integer (1440 binary)\n"
     ]
    },
    {
     "name": "stdout",
     "output_type": "stream",
     "text": [
      "Coefficient statistics:\n"
     ]
    },
    {
     "name": "stdout",
     "output_type": "stream",
     "text": [
      "  Matrix range     [1e+00, 5e+00]\n"
     ]
    },
    {
     "name": "stdout",
     "output_type": "stream",
     "text": [
      "  Objective range  [4e+02, 1e+04]\n"
     ]
    },
    {
     "name": "stdout",
     "output_type": "stream",
     "text": [
      "  Bounds range     [1e+00, 5e+00]\n"
     ]
    },
    {
     "name": "stdout",
     "output_type": "stream",
     "text": [
      "  RHS range        [1e+00, 1e+02]\n"
     ]
    },
    {
     "name": "stdout",
     "output_type": "stream",
     "text": [
      "\n"
     ]
    },
    {
     "name": "stdout",
     "output_type": "stream",
     "text": [
      "Loaded user MIP start with objective 136736\n"
     ]
    },
    {
     "name": "stdout",
     "output_type": "stream",
     "text": [
      "\n"
     ]
    },
    {
     "name": "stdout",
     "output_type": "stream",
     "text": [
      "Presolve removed 645 rows and 0 columns\n"
     ]
    },
    {
     "name": "stdout",
     "output_type": "stream",
     "text": [
      "Presolve time: 0.02s\n"
     ]
    },
    {
     "name": "stdout",
     "output_type": "stream",
     "text": [
      "Presolved: 3772 rows, 2880 columns, 13726 nonzeros\n"
     ]
    },
    {
     "name": "stdout",
     "output_type": "stream",
     "text": [
      "Variable types: 0 continuous, 2880 integer (1440 binary)\n"
     ]
    },
    {
     "name": "stdout",
     "output_type": "stream",
     "text": [
      "\n"
     ]
    },
    {
     "name": "stdout",
     "output_type": "stream",
     "text": [
      "Root relaxation: objective 1.199416e+05, 3123 iterations, 0.03 seconds (0.06 work units)\n"
     ]
    },
    {
     "name": "stdout",
     "output_type": "stream",
     "text": [
      "\n"
     ]
    },
    {
     "name": "stdout",
     "output_type": "stream",
     "text": [
      "    Nodes    |    Current Node    |     Objective Bounds      |     Work\n"
     ]
    },
    {
     "name": "stdout",
     "output_type": "stream",
     "text": [
      " Expl Unexpl |  Obj  Depth IntInf | Incumbent    BestBd   Gap | It/Node Time\n"
     ]
    },
    {
     "name": "stdout",
     "output_type": "stream",
     "text": [
      "\n"
     ]
    },
    {
     "name": "stdout",
     "output_type": "stream",
     "text": [
      "     0     0 119941.581    0  211 136736.421 119941.581  12.3%     -    0s\n"
     ]
    },
    {
     "name": "stdout",
     "output_type": "stream",
     "text": [
      "H    0     0                    134676.90352 119941.581  10.9%     -    0s\n"
     ]
    },
    {
     "name": "stdout",
     "output_type": "stream",
     "text": [
      "H    0     0                    134673.93542 119941.581  10.9%     -    0s\n"
     ]
    },
    {
     "name": "stdout",
     "output_type": "stream",
     "text": [
      "H    0     0                    134605.81407 119941.581  10.9%     -    0s\n"
     ]
    },
    {
     "name": "stdout",
     "output_type": "stream",
     "text": [
      "H    0     0                    134534.51007 119941.581  10.8%     -    0s\n"
     ]
    },
    {
     "name": "stdout",
     "output_type": "stream",
     "text": [
      "H    0     0                    134173.76060 119941.581  10.6%     -    0s\n"
     ]
    },
    {
     "name": "stdout",
     "output_type": "stream",
     "text": [
      "H    0     0                    133563.67259 119941.581  10.2%     -    0s\n"
     ]
    },
    {
     "name": "stdout",
     "output_type": "stream",
     "text": [
      "H    0     0                    132701.02215 121414.824  8.50%     -    0s\n"
     ]
    },
    {
     "name": "stdout",
     "output_type": "stream",
     "text": [
      "H    0     0                    132655.51839 121414.824  8.47%     -    0s\n"
     ]
    },
    {
     "name": "stdout",
     "output_type": "stream",
     "text": [
      "H    0     0                    132541.27477 121414.824  8.39%     -    0s\n"
     ]
    },
    {
     "name": "stdout",
     "output_type": "stream",
     "text": [
      "H    0     0                    132035.95651 121414.824  8.04%     -    0s\n"
     ]
    },
    {
     "name": "stdout",
     "output_type": "stream",
     "text": [
      "     0     0 121414.824    0  413 132035.957 121414.824  8.04%     -    0s\n"
     ]
    },
    {
     "name": "stdout",
     "output_type": "stream",
     "text": [
      "H    0     0                    130754.02504 121414.824  7.14%     -    0s\n"
     ]
    },
    {
     "name": "stdout",
     "output_type": "stream",
     "text": [
      "H    0     0                    130750.11977 121414.824  7.14%     -    0s\n"
     ]
    },
    {
     "name": "stdout",
     "output_type": "stream",
     "text": [
      "H    0     0                    129850.21573 121414.824  6.50%     -    0s\n"
     ]
    },
    {
     "name": "stdout",
     "output_type": "stream",
     "text": [
      "H    0     0                    129781.10122 121414.824  6.45%     -    0s\n"
     ]
    },
    {
     "name": "stdout",
     "output_type": "stream",
     "text": [
      "     0     0 121738.879    0  396 129781.101 121738.879  6.20%     -    0s\n"
     ]
    },
    {
     "name": "stdout",
     "output_type": "stream",
     "text": [
      "     0     0 121747.638    0  410 129781.101 121747.638  6.19%     -    0s\n"
     ]
    },
    {
     "name": "stdout",
     "output_type": "stream",
     "text": [
      "     0     0 121749.217    0  408 129781.101 121749.217  6.19%     -    0s\n"
     ]
    },
    {
     "name": "stdout",
     "output_type": "stream",
     "text": [
      "     0     0 121749.392    0  408 129781.101 121749.392  6.19%     -    0s\n"
     ]
    },
    {
     "name": "stdout",
     "output_type": "stream",
     "text": [
      "H    0     0                    129716.14888 122246.118  5.76%     -    0s\n"
     ]
    },
    {
     "name": "stdout",
     "output_type": "stream",
     "text": [
      "H    0     0                    129105.60997 122246.118  5.31%     -    0s\n"
     ]
    },
    {
     "name": "stdout",
     "output_type": "stream",
     "text": [
      "     0     0 122267.871    0  416 129105.610 122267.871  5.30%     -    0s\n"
     ]
    },
    {
     "name": "stdout",
     "output_type": "stream",
     "text": [
      "H    0     0                    128794.28991 122337.438  5.01%     -    0s\n"
     ]
    },
    {
     "name": "stdout",
     "output_type": "stream",
     "text": [
      "     0     0 122337.438    0  436 128794.290 122337.438  5.01%     -    0s\n"
     ]
    },
    {
     "name": "stdout",
     "output_type": "stream",
     "text": [
      "H    0     0                    128793.04523 122338.574  5.01%     -    0s\n"
     ]
    },
    {
     "name": "stdout",
     "output_type": "stream",
     "text": [
      "     0     0 122338.574    0  441 128793.045 122338.574  5.01%     -    0s\n"
     ]
    },
    {
     "name": "stdout",
     "output_type": "stream",
     "text": [
      "     0     0 122339.044    0  436 128793.045 122339.044  5.01%     -    0s\n"
     ]
    },
    {
     "name": "stdout",
     "output_type": "stream",
     "text": [
      "H    0     0                    128327.73138 122547.173  4.50%     -    0s\n"
     ]
    },
    {
     "name": "stdout",
     "output_type": "stream",
     "text": [
      "H    0     0                    128167.38786 122547.173  4.39%     -    0s\n"
     ]
    },
    {
     "name": "stdout",
     "output_type": "stream",
     "text": [
      "     0     0 122547.173    0  493 128167.388 122547.173  4.39%     -    0s\n"
     ]
    },
    {
     "name": "stdout",
     "output_type": "stream",
     "text": [
      "H    0     0                    128028.61085 122547.173  4.28%     -    0s\n"
     ]
    },
    {
     "name": "stdout",
     "output_type": "stream",
     "text": [
      "H    0     0                    127868.26732 122547.173  4.16%     -    0s\n"
     ]
    },
    {
     "name": "stdout",
     "output_type": "stream",
     "text": [
      "     0     0 122604.584    0  526 127868.267 122604.584  4.12%     -    0s\n"
     ]
    },
    {
     "name": "stdout",
     "output_type": "stream",
     "text": [
      "     0     0 122614.525    0  519 127868.267 122614.525  4.11%     -    0s\n"
     ]
    },
    {
     "name": "stdout",
     "output_type": "stream",
     "text": [
      "     0     0 122616.019    0  527 127868.267 122616.019  4.11%     -    0s\n"
     ]
    },
    {
     "name": "stdout",
     "output_type": "stream",
     "text": [
      "     0     0 122616.721    0  531 127868.267 122616.721  4.11%     -    0s\n"
     ]
    },
    {
     "name": "stdout",
     "output_type": "stream",
     "text": [
      "     0     0 122616.743    0  533 127868.267 122616.743  4.11%     -    0s\n"
     ]
    },
    {
     "name": "stdout",
     "output_type": "stream",
     "text": [
      "     0     0 122794.639    0  525 127868.267 122794.639  3.97%     -    1s\n"
     ]
    },
    {
     "name": "stdout",
     "output_type": "stream",
     "text": [
      "     0     0 122851.580    0  538 127868.267 122851.580  3.92%     -    1s\n"
     ]
    },
    {
     "name": "stdout",
     "output_type": "stream",
     "text": [
      "     0     0 122858.164    0  545 127868.267 122858.164  3.92%     -    1s\n"
     ]
    },
    {
     "name": "stdout",
     "output_type": "stream",
     "text": [
      "     0     0 122862.404    0  549 127868.267 122862.404  3.91%     -    1s\n"
     ]
    },
    {
     "name": "stdout",
     "output_type": "stream",
     "text": [
      "     0     0 122862.909    0  556 127868.267 122862.909  3.91%     -    1s\n"
     ]
    },
    {
     "name": "stdout",
     "output_type": "stream",
     "text": [
      "     0     0 122942.379    0  542 127868.267 122942.379  3.85%     -    1s\n"
     ]
    },
    {
     "name": "stdout",
     "output_type": "stream",
     "text": [
      "H    0     0                    127843.23159 122942.379  3.83%     -    1s\n"
     ]
    },
    {
     "name": "stdout",
     "output_type": "stream",
     "text": [
      "H    0     0                    127690.35093 122942.379  3.72%     -    1s\n"
     ]
    },
    {
     "name": "stdout",
     "output_type": "stream",
     "text": [
      "H    0     0                    127587.42735 122942.379  3.64%     -    3s\n"
     ]
    },
    {
     "name": "stdout",
     "output_type": "stream",
     "text": [
      "H    0     0                    127541.36459 122942.379  3.61%     -    3s\n"
     ]
    },
    {
     "name": "stdout",
     "output_type": "stream",
     "text": [
      "     0     2 122942.379    0  541 127541.365 122942.379  3.61%     -    4s\n"
     ]
    },
    {
     "name": "stdout",
     "output_type": "stream",
     "text": [
      "H   71    83                    127421.54307 123015.252  3.46%  93.9    4s\n"
     ]
    },
    {
     "name": "stdout",
     "output_type": "stream",
     "text": [
      "   105   126 123228.175   13  478 127421.543 123015.252  3.46%  93.4    5s\n"
     ]
    },
    {
     "name": "stdout",
     "output_type": "stream",
     "text": [
      "H  176   186                    127326.29990 123015.252  3.39%  95.6    5s\n"
     ]
    },
    {
     "name": "stdout",
     "output_type": "stream",
     "text": [
      "H  190   194                    127037.61981 123015.252  3.17%  97.9    5s\n"
     ]
    },
    {
     "name": "stdout",
     "output_type": "stream",
     "text": [
      "H  612   573                    127025.71515 123015.252  3.16%  80.9    6s\n"
     ]
    },
    {
     "name": "stdout",
     "output_type": "stream",
     "text": [
      "H  614   587                    126812.62095 123015.252  2.99%  81.0    6s\n"
     ]
    },
    {
     "name": "stdout",
     "output_type": "stream",
     "text": [
      "H  706   630                    126525.66791 123015.252  2.77%  79.0    7s\n"
     ]
    },
    {
     "name": "stdout",
     "output_type": "stream",
     "text": [
      "H  799   694                    126436.24506 123035.885  2.69%  77.3    7s\n"
     ]
    },
    {
     "name": "stdout",
     "output_type": "stream",
     "text": [
      "H  869   734                    126432.37395 123044.458  2.68%  76.4    7s\n"
     ]
    },
    {
     "name": "stdout",
     "output_type": "stream",
     "text": [
      "H  927   734                    125826.22547 123044.458  2.21%  76.5    7s\n"
     ]
    },
    {
     "name": "stdout",
     "output_type": "stream",
     "text": [
      "H 1029   759                    125496.03183 123044.458  1.95%  77.0    9s\n"
     ]
    },
    {
     "name": "stdout",
     "output_type": "stream",
     "text": [
      "  1200   881     cutoff   37      125496.032 123053.354  1.95%  74.3   10s\n"
     ]
    },
    {
     "name": "stdout",
     "output_type": "stream",
     "text": [
      "\n"
     ]
    },
    {
     "name": "stdout",
     "output_type": "stream",
     "text": [
      "Cutting planes:\n"
     ]
    },
    {
     "name": "stdout",
     "output_type": "stream",
     "text": [
      "  Gomory: 27\n"
     ]
    },
    {
     "name": "stdout",
     "output_type": "stream",
     "text": [
      "  Lift-and-project: 9\n"
     ]
    },
    {
     "name": "stdout",
     "output_type": "stream",
     "text": [
      "  Cover: 3\n"
     ]
    },
    {
     "name": "stdout",
     "output_type": "stream",
     "text": [
      "  MIR: 282\n"
     ]
    },
    {
     "name": "stdout",
     "output_type": "stream",
     "text": [
      "  StrongCG: 4\n"
     ]
    },
    {
     "name": "stdout",
     "output_type": "stream",
     "text": [
      "  Flow cover: 82\n"
     ]
    },
    {
     "name": "stdout",
     "output_type": "stream",
     "text": [
      "  Flow path: 7\n"
     ]
    },
    {
     "name": "stdout",
     "output_type": "stream",
     "text": [
      "  Zero half: 1\n"
     ]
    },
    {
     "name": "stdout",
     "output_type": "stream",
     "text": [
      "  Network: 16\n"
     ]
    },
    {
     "name": "stdout",
     "output_type": "stream",
     "text": [
      "  Relax-and-lift: 2\n"
     ]
    },
    {
     "name": "stdout",
     "output_type": "stream",
     "text": [
      "\n"
     ]
    },
    {
     "name": "stdout",
     "output_type": "stream",
     "text": [
      "Explored 1262 nodes (98496 simplex iterations) in 10.03 seconds (12.83 work units)\n"
     ]
    },
    {
     "name": "stdout",
     "output_type": "stream",
     "text": [
      "Thread count was 16 (of 16 available processors)\n"
     ]
    },
    {
     "name": "stdout",
     "output_type": "stream",
     "text": [
      "\n"
     ]
    },
    {
     "name": "stdout",
     "output_type": "stream",
     "text": [
      "Solution count 10: 125496 125826 126432 ... 127422\n"
     ]
    },
    {
     "name": "stdout",
     "output_type": "stream",
     "text": [
      "\n"
     ]
    },
    {
     "name": "stdout",
     "output_type": "stream",
     "text": [
      "Time limit reached\n"
     ]
    },
    {
     "name": "stdout",
     "output_type": "stream",
     "text": [
      "Best objective 1.254960318323e+05, best bound 1.230700509573e+05, gap 1.9331%\n"
     ]
    },
    {
     "name": "stdout",
     "output_type": "stream",
     "text": [
      "WARNING: Loading a SolverResults object with an 'aborted' status, but\n",
      "containing a solution\n"
     ]
    }
   ],
   "source": [
    "gurober.options.mipgap = 0.005  # 0.5 %\n",
    "gurober.options.timelimit = 10  # [s]\n",
    "gurober.options.mipfocus = 1  # focus on producing solutions\n",
    "print(f'Solving \"{model.handle}\": {{R={len(model.R)}, T={len(model.T)}, k={model.k.value}}}\\n')\n",
    "status = gurober.solve(model, warmstart=model.warmed_by, tee=True)"
   ]
  },
  {
   "cell_type": "markdown",
   "id": "96d1908f-87c8-4ca7-ba8b-c90d85502cdb",
   "metadata": {},
   "source": [
    "## Trace routes from solution topology"
   ]
  },
  {
   "cell_type": "code",
   "execution_count": 16,
   "id": "10020d17-6d17-4d3b-9418-ddb092cba45f",
   "metadata": {},
   "outputs": [],
   "source": [
    "S_gurobi = omo.S_from_solution(model, gurober, status)\n",
    "F_gurobi = G_from_S(S_gurobi, A)\n",
    "G = PathFinder(F_gurobi, planar=P, A=A).create_detours()"
   ]
  },
  {
   "cell_type": "code",
   "execution_count": 17,
   "id": "3a3f368e-84a0-45b9-a83b-c084c293a4d8",
   "metadata": {},
   "outputs": [
    {
     "data": {
      "image/svg+xml": [
       "<?xml version=\"1.0\" encoding=\"utf-8\" standalone=\"no\"?>\n",
       "<!DOCTYPE svg PUBLIC \"-//W3C//DTD SVG 1.1//EN\"\n",
       "  \"http://www.w3.org/Graphics/SVG/1.1/DTD/svg11.dtd\">\n",
       "<svg xmlns:xlink=\"http://www.w3.org/1999/xlink\" width=\"351.609177pt\" height=\"353.99952pt\" viewBox=\"0 0 351.609177 353.99952\" xmlns=\"http://www.w3.org/2000/svg\" version=\"1.1\">\n",
       " <metadata>\n",
       "  <rdf:RDF xmlns:dc=\"http://purl.org/dc/elements/1.1/\" xmlns:cc=\"http://creativecommons.org/ns#\" xmlns:rdf=\"http://www.w3.org/1999/02/22-rdf-syntax-ns#\">\n",
       "   <cc:Work>\n",
       "    <dc:type rdf:resource=\"http://purl.org/dc/dcmitype/StillImage\"/>\n",
       "    <dc:date>2024-11-27T22:20:13.372622</dc:date>\n",
       "    <dc:format>image/svg+xml</dc:format>\n",
       "    <dc:creator>\n",
       "     <cc:Agent>\n",
       "      <dc:title>Matplotlib v3.9.2, https://matplotlib.org/</dc:title>\n",
       "     </cc:Agent>\n",
       "    </dc:creator>\n",
       "   </cc:Work>\n",
       "  </rdf:RDF>\n",
       " </metadata>\n",
       " <defs>\n",
       "  <style type=\"text/css\">*{stroke-linejoin: round; stroke-linecap: butt}</style>\n",
       " </defs>\n",
       " <g id=\"figure_1\">\n",
       "  <g id=\"patch_1\">\n",
       "   <path d=\"M 0 353.99952 \n",
       "L 351.609177 353.99952 \n",
       "L 351.609177 0 \n",
       "L 0 0 \n",
       "L 0 353.99952 \n",
       "z\n",
       "\" style=\"fill: none\"/>\n",
       "  </g>\n",
       "  <g id=\"axes_1\">\n",
       "   <g id=\"patch_2\">\n",
       "    <path d=\"M 85.55862 340.136505 \n",
       "L 255.105829 324.528422 \n",
       "L 240.436577 178.804078 \n",
       "L 240.436577 175.136765 \n",
       "L 228.701176 93.722419 \n",
       "L 234.568876 105.457821 \n",
       "L 247.771203 170.002527 \n",
       "L 343.737446 105.457821 \n",
       "L 213.239785 37.597863 \n",
       "L 88.140408 16.004725 \n",
       "L 22.187454 86.417132 \n",
       "L 20.427144 304.460886 \n",
       "z\n",
       "M 86.409437 105.457821 \n",
       "L 114.281015 117.193222 \n",
       "L 117.214865 128.928623 \n",
       "L 90.810212 143.597874 \n",
       "L 79.074811 152.399425 \n",
       "L 71.740185 125.994773 \n",
       "z\n",
       "\" clip-path=\"url(#p6e70d13af1)\" style=\"fill: #111111; stroke-dasharray: 1.85,0.8; stroke-dashoffset: 0; stroke: #c0c0c0; stroke-width: 0.5; stroke-linejoin: miter\"/>\n",
       "   </g>\n",
       "   <g id=\"LineCollection_1\">\n",
       "    <path d=\"M 225.767326 164.134826 \n",
       "L 217.992622 178.011938 \n",
       "\" clip-path=\"url(#p6e70d13af1)\" style=\"fill: none; stroke: #dc143c; stroke-width: 0.7; stroke-linecap: round\"/>\n",
       "    <path d=\"M 225.767326 164.134826 \n",
       "L 218.931454 144.125967 \n",
       "\" clip-path=\"url(#p6e70d13af1)\" style=\"fill: none; stroke: #dc143c; stroke-width: 0.7; stroke-linecap: round\"/>\n",
       "    <path d=\"M 225.767326 164.134826 \n",
       "L 201.475045 161.934439 \n",
       "\" clip-path=\"url(#p6e70d13af1)\" style=\"fill: none; stroke: #dc143c; stroke-width: 0.7; stroke-linecap: round\"/>\n",
       "    <path d=\"M 225.767326 164.134826 \n",
       "L 234.950277 195.996441 \n",
       "\" clip-path=\"url(#p6e70d13af1)\" style=\"fill: none; stroke: #dc143c; stroke-width: 0.7; stroke-linecap: round\"/>\n",
       "    <path d=\"M 225.767326 164.134826 \n",
       "L 184.458714 144.507368 \n",
       "\" clip-path=\"url(#p6e70d13af1)\" style=\"fill: none; stroke: #dc143c; stroke-width: 0.7; stroke-linecap: round\"/>\n",
       "    <path d=\"M 225.767326 164.134826 \n",
       "L 236.387864 162.198485 \n",
       "\" clip-path=\"url(#p6e70d13af1)\" style=\"fill: none; stroke: #dc143c; stroke-width: 0.7; stroke-linecap: round\"/>\n",
       "    <path d=\"M 225.767326 164.134826 \n",
       "L 184.517391 109.359842 \n",
       "\" clip-path=\"url(#p6e70d13af1)\" style=\"fill: none; stroke: #dc143c; stroke-width: 0.7; stroke-linecap: round\"/>\n",
       "    <path d=\"M 225.767326 164.134826 \n",
       "L 220.19301 112.000307 \n",
       "\" clip-path=\"url(#p6e70d13af1)\" style=\"fill: none; stroke: #dc143c; stroke-width: 0.7; stroke-linecap: round\"/>\n",
       "    <path d=\"M 225.767326 164.134826 \n",
       "L 166.796935 92.402187 \n",
       "\" clip-path=\"url(#p6e70d13af1)\" style=\"fill: none; stroke: #dc143c; stroke-width: 0.7; stroke-linecap: round\"/>\n",
       "    <path d=\"M 166.796935 92.402187 \n",
       "L 149.83928 75.591225 \n",
       "\" clip-path=\"url(#p6e70d13af1)\" style=\"fill: none; stroke: #dc143c; stroke-width: 0.7; stroke-linecap: round\"/>\n",
       "    <path d=\"M 184.517391 109.359842 \n",
       "L 185.5149 76.530057 \n",
       "\" clip-path=\"url(#p6e70d13af1)\" style=\"fill: none; stroke: #dc143c; stroke-width: 0.7; stroke-linecap: round\"/>\n",
       "    <path d=\"M 184.458714 144.507368 \n",
       "L 167.266351 126.845589 \n",
       "\" clip-path=\"url(#p6e70d13af1)\" style=\"fill: none; stroke: #dc143c; stroke-width: 0.7; stroke-linecap: round\"/>\n",
       "    <path d=\"M 218.931454 144.125967 \n",
       "L 202.003138 126.874928 \n",
       "\" clip-path=\"url(#p6e70d13af1)\" style=\"fill: none; stroke: #dc143c; stroke-width: 0.7; stroke-linecap: round\"/>\n",
       "    <path d=\"M 201.475045 161.934439 \n",
       "L 181.730233 177.161122 \n",
       "\" clip-path=\"url(#p6e70d13af1)\" style=\"fill: none; stroke: #dc143c; stroke-width: 0.7; stroke-linecap: round\"/>\n",
       "    <path d=\"M 217.992622 178.011938 \n",
       "L 199.597381 194.265469 \n",
       "\" clip-path=\"url(#p6e70d13af1)\" style=\"fill: none; stroke: #dc143c; stroke-width: 0.7; stroke-linecap: round\"/>\n",
       "    <path d=\"M 216.349666 245.373141 \n",
       "L 214.677371 280.08059 \n",
       "\" clip-path=\"url(#p6e70d13af1)\" style=\"fill: none; stroke: #dc143c; stroke-width: 0.7; stroke-linecap: round\"/>\n",
       "    <path d=\"M 237.033311 94.455882 \n",
       "L 271.212667 94.631913 \n",
       "\" clip-path=\"url(#p6e70d13af1)\" style=\"fill: none; stroke: #dc143c; stroke-width: 0.7; stroke-linecap: round\"/>\n",
       "    <path d=\"M 220.19301 112.000307 \n",
       "L 219.958302 76.735426 \n",
       "\" clip-path=\"url(#p6e70d13af1)\" style=\"fill: none; stroke: #dc143c; stroke-width: 0.7; stroke-linecap: round\"/>\n",
       "    <path d=\"M 252.348009 112.616415 \n",
       "L 270.919282 130.718272 \n",
       "\" clip-path=\"url(#p6e70d13af1)\" style=\"fill: none; stroke: #dc143c; stroke-width: 0.7; stroke-linecap: round\"/>\n",
       "    <path d=\"M 234.950277 195.996441 \n",
       "L 217.347175 211.956586 \n",
       "\" clip-path=\"url(#p6e70d13af1)\" style=\"fill: none; stroke: #dc143c; stroke-width: 0.7; stroke-linecap: round\"/>\n",
       "    <path d=\"M 234.539538 229.589026 \n",
       "L 233.248644 262.682858 \n",
       "\" clip-path=\"url(#p6e70d13af1)\" style=\"fill: none; stroke: #dc143c; stroke-width: 0.7; stroke-linecap: round\"/>\n",
       "    <path d=\"M 79.074811 193.473329 \n",
       "L 78.458702 175.078088 \n",
       "\" clip-path=\"url(#p6e70d13af1)\" style=\"fill: none; stroke: #dc143c; stroke-width: 0.7; stroke-linecap: round\"/>\n",
       "    <path d=\"M 79.074811 193.473329 \n",
       "L 59.858092 191.478311 \n",
       "\" clip-path=\"url(#p6e70d13af1)\" style=\"fill: none; stroke: #dc143c; stroke-width: 0.7; stroke-linecap: round\"/>\n",
       "    <path d=\"M 79.074811 193.473329 \n",
       "L 93.069277 226.567161 \n",
       "\" clip-path=\"url(#p6e70d13af1)\" style=\"fill: none; stroke: #dc143c; stroke-width: 0.7; stroke-linecap: round\"/>\n",
       "    <path d=\"M 79.074811 193.473329 \n",
       "L 94.653556 192.739867 \n",
       "\" clip-path=\"url(#p6e70d13af1)\" style=\"fill: none; stroke: #dc143c; stroke-width: 0.7; stroke-linecap: round\"/>\n",
       "    <path d=\"M 79.074811 193.473329 \n",
       "L 75.906253 209.198767 \n",
       "\" clip-path=\"url(#p6e70d13af1)\" style=\"fill: none; stroke: #dc143c; stroke-width: 0.7; stroke-linecap: round\"/>\n",
       "    <path d=\"M 79.074811 193.473329 \n",
       "L 58.156458 225.892375 \n",
       "\" clip-path=\"url(#p6e70d13af1)\" style=\"fill: none; stroke: #dc143c; stroke-width: 0.7; stroke-linecap: round\"/>\n",
       "    <path d=\"M 79.074811 193.473329 \n",
       "L 95.651065 158.472495 \n",
       "\" clip-path=\"url(#p6e70d13af1)\" style=\"fill: none; stroke: #dc143c; stroke-width: 0.7; stroke-linecap: round\"/>\n",
       "    <path d=\"M 79.074811 193.473329 \n",
       "L 58.244474 260.951886 \n",
       "\" clip-path=\"url(#p6e70d13af1)\" style=\"fill: none; stroke: #dc143c; stroke-width: 0.7; stroke-linecap: round\"/>\n",
       "    <path d=\"M 79.074811 193.473329 \n",
       "L 92.717215 259.983715 \n",
       "\" clip-path=\"url(#p6e70d13af1)\" style=\"fill: none; stroke: #dc143c; stroke-width: 0.7; stroke-linecap: round\"/>\n",
       "    <path d=\"M 79.074811 193.473329 \n",
       "L 74.879405 243.348784 \n",
       "\" clip-path=\"url(#p6e70d13af1)\" style=\"fill: none; stroke: #dc143c; stroke-width: 0.7; stroke-linecap: round\"/>\n",
       "    <path d=\"M 79.074811 193.473329 \n",
       "L 111.024441 210.254953 \n",
       "\" clip-path=\"url(#p6e70d13af1)\" style=\"fill: none; stroke: #dc143c; stroke-width: 0.7; stroke-linecap: round\"/>\n",
       "    <path d=\"M 95.651065 158.472495 \n",
       "L 112.696735 142.336319 \n",
       "\" clip-path=\"url(#p6e70d13af1)\" style=\"fill: none; stroke: #dc143c; stroke-width: 0.7; stroke-linecap: round\"/>\n",
       "    <path d=\"M 111.024441 210.254953 \n",
       "L 128.422173 227.447316 \n",
       "\" clip-path=\"url(#p6e70d13af1)\" style=\"fill: none; stroke: #dc143c; stroke-width: 0.7; stroke-linecap: round\"/>\n",
       "    <path d=\"M 94.653556 192.739867 \n",
       "L 113.078136 175.723535 \n",
       "\" clip-path=\"url(#p6e70d13af1)\" style=\"fill: none; stroke: #dc143c; stroke-width: 0.7; stroke-linecap: round\"/>\n",
       "    <path d=\"M 93.069277 226.567161 \n",
       "L 110.144286 243.906216 \n",
       "\" clip-path=\"url(#p6e70d13af1)\" style=\"fill: none; stroke: #dc143c; stroke-width: 0.7; stroke-linecap: round\"/>\n",
       "    <path d=\"M 78.458702 175.078088 \n",
       "L 61.442371 158.120433 \n",
       "\" clip-path=\"url(#p6e70d13af1)\" style=\"fill: none; stroke: #dc143c; stroke-width: 0.7; stroke-linecap: round\"/>\n",
       "    <path d=\"M 62.938634 125.789403 \n",
       "L 43.42853 107.394162 \n",
       "\" clip-path=\"url(#p6e70d13af1)\" style=\"fill: none; stroke: #dc143c; stroke-width: 0.7; stroke-linecap: round\"/>\n",
       "    <path d=\"M 80.27769 109.741242 \n",
       "L 62.674588 91.580709 \n",
       "\" clip-path=\"url(#p6e70d13af1)\" style=\"fill: none; stroke: #dc143c; stroke-width: 0.7; stroke-linecap: round\"/>\n",
       "    <path d=\"M 92.717215 259.983715 \n",
       "L 109.909578 277.850864 \n",
       "\" clip-path=\"url(#p6e70d13af1)\" style=\"fill: none; stroke: #dc143c; stroke-width: 0.7; stroke-linecap: round\"/>\n",
       "    <path d=\"M 58.244474 260.951886 \n",
       "L 56.74821 295.307273 \n",
       "\" clip-path=\"url(#p6e70d13af1)\" style=\"fill: none; stroke: #dc143c; stroke-width: 0.7; stroke-linecap: round\"/>\n",
       "    <path d=\"M 74.879405 243.348784 \n",
       "L 75.143452 277.997556 \n",
       "\" clip-path=\"url(#p6e70d13af1)\" style=\"fill: none; stroke: #dc143c; stroke-width: 0.7; stroke-linecap: round\"/>\n",
       "    <path d=\"M 58.156458 225.892375 \n",
       "L 40.347987 242.468629 \n",
       "\" clip-path=\"url(#p6e70d13af1)\" style=\"fill: none; stroke: #dc143c; stroke-width: 0.7; stroke-linecap: round\"/>\n",
       "    <path d=\"M 59.858092 191.478311 \n",
       "L 42.078959 174.579334 \n",
       "\" clip-path=\"url(#p6e70d13af1)\" style=\"fill: none; stroke: #dc143c; stroke-width: 0.7; stroke-linecap: round\"/>\n",
       "    <path d=\"M 130.329176 159.323312 \n",
       "L 113.078136 175.723535 \n",
       "\" clip-path=\"url(#p6e70d13af1)\" style=\"fill: none; stroke: #dc143c; stroke-width: 0.7; stroke-linecap: round\"/>\n",
       "    <path d=\"M 113.078136 175.723535 \n",
       "L 130.006452 193.913407 \n",
       "\" clip-path=\"url(#p6e70d13af1)\" style=\"fill: none; stroke: #dc143c; stroke-width: 0.7; stroke-linecap: round\"/>\n",
       "    <path d=\"M 112.696735 142.336319 \n",
       "L 130.387853 125.613372 \n",
       "\" clip-path=\"url(#p6e70d13af1)\" style=\"fill: none; stroke: #dc143c; stroke-width: 0.7; stroke-linecap: round\"/>\n",
       "    <path d=\"M 130.387853 125.613372 \n",
       "L 113.048797 109.477196 \n",
       "\" clip-path=\"url(#p6e70d13af1)\" style=\"fill: none; stroke: #dc143c; stroke-width: 0.7; stroke-linecap: round\"/>\n",
       "    <path d=\"M 61.442371 158.120433 \n",
       "L 43.047129 141.192117 \n",
       "\" clip-path=\"url(#p6e70d13af1)\" style=\"fill: none; stroke: #dc143c; stroke-width: 0.7; stroke-linecap: round\"/>\n",
       "    <path d=\"M 43.047129 141.192117 \n",
       "L 25.444028 124.439832 \n",
       "\" clip-path=\"url(#p6e70d13af1)\" style=\"fill: none; stroke: #dc143c; stroke-width: 0.7; stroke-linecap: round\"/>\n",
       "    <path d=\"M 43.047129 141.192117 \n",
       "L 24.505196 158.208449 \n",
       "\" clip-path=\"url(#p6e70d13af1)\" style=\"fill: none; stroke: #dc143c; stroke-width: 0.7; stroke-linecap: round\"/>\n",
       "    <path d=\"M 43.42853 107.394162 \n",
       "L 26.734922 90.172461 \n",
       "\" clip-path=\"url(#p6e70d13af1)\" style=\"fill: none; stroke: #dc143c; stroke-width: 0.7; stroke-linecap: round\"/>\n",
       "    <path d=\"M 62.674588 91.580709 \n",
       "L 79.866951 74.476362 \n",
       "\" clip-path=\"url(#p6e70d13af1)\" style=\"fill: none; stroke: #dc143c; stroke-width: 0.7; stroke-linecap: round\"/>\n",
       "    <path d=\"M 97.029975 93.282342 \n",
       "L 113.048797 109.477196 \n",
       "\" clip-path=\"url(#p6e70d13af1)\" style=\"fill: none; stroke: #dc143c; stroke-width: 0.7; stroke-linecap: round\"/>\n",
       "    <path d=\"M 148.07897 142.453673 \n",
       "L 164.831255 159.910082 \n",
       "\" clip-path=\"url(#p6e70d13af1)\" style=\"fill: none; stroke: #dc143c; stroke-width: 0.7; stroke-linecap: round\"/>\n",
       "    <path d=\"M 164.831255 159.910082 \n",
       "L 181.730233 177.161122 \n",
       "\" clip-path=\"url(#p6e70d13af1)\" style=\"fill: none; stroke: #dc143c; stroke-width: 0.7; stroke-linecap: round\"/>\n",
       "    <path d=\"M 164.831255 159.910082 \n",
       "L 147.257492 176.545013 \n",
       "\" clip-path=\"url(#p6e70d13af1)\" style=\"fill: none; stroke: #dc143c; stroke-width: 0.7; stroke-linecap: round\"/>\n",
       "    <path d=\"M 163.74573 194.558854 \n",
       "L 181.935602 210.724369 \n",
       "\" clip-path=\"url(#p6e70d13af1)\" style=\"fill: none; stroke: #dc143c; stroke-width: 0.7; stroke-linecap: round\"/>\n",
       "    <path d=\"M 181.935602 210.724369 \n",
       "L 199.597381 194.265469 \n",
       "\" clip-path=\"url(#p6e70d13af1)\" style=\"fill: none; stroke: #dc143c; stroke-width: 0.7; stroke-linecap: round\"/>\n",
       "    <path d=\"M 181.935602 210.724369 \n",
       "L 164.391178 227.56467 \n",
       "\" clip-path=\"url(#p6e70d13af1)\" style=\"fill: none; stroke: #dc143c; stroke-width: 0.7; stroke-linecap: round\"/>\n",
       "    <path d=\"M 42.078959 174.579334 \n",
       "L 23.889087 192.035743 \n",
       "\" clip-path=\"url(#p6e70d13af1)\" style=\"fill: none; stroke: #dc143c; stroke-width: 0.7; stroke-linecap: round\"/>\n",
       "    <path d=\"M 26.734922 90.172461 \n",
       "L 45.012809 73.302821 \n",
       "\" clip-path=\"url(#p6e70d13af1)\" style=\"fill: none; stroke: #dc143c; stroke-width: 0.7; stroke-linecap: round\"/>\n",
       "    <path d=\"M 79.866951 74.476362 \n",
       "L 98.4969 57.870769 \n",
       "\" clip-path=\"url(#p6e70d13af1)\" style=\"fill: none; stroke: #dc143c; stroke-width: 0.7; stroke-linecap: round\"/>\n",
       "    <path d=\"M 45.012809 73.302821 \n",
       "L 63.202681 56.403844 \n",
       "\" clip-path=\"url(#p6e70d13af1)\" style=\"fill: none; stroke: #dc143c; stroke-width: 0.7; stroke-linecap: round\"/>\n",
       "    <path d=\"M 98.4969 57.870769 \n",
       "L 81.216522 39.915605 \n",
       "\" clip-path=\"url(#p6e70d13af1)\" style=\"fill: none; stroke: #dc143c; stroke-width: 0.7; stroke-linecap: round\"/>\n",
       "    <path d=\"M 115.131831 76.001964 \n",
       "L 132.265517 93.546388 \n",
       "\" clip-path=\"url(#p6e70d13af1)\" style=\"fill: none; stroke: #dc143c; stroke-width: 0.7; stroke-linecap: round\"/>\n",
       "    <path d=\"M 132.265517 93.546388 \n",
       "L 149.985973 110.151981 \n",
       "\" clip-path=\"url(#p6e70d13af1)\" style=\"fill: none; stroke: #dc143c; stroke-width: 0.7; stroke-linecap: round\"/>\n",
       "    <path d=\"M 149.985973 110.151981 \n",
       "L 167.266351 126.845589 \n",
       "\" clip-path=\"url(#p6e70d13af1)\" style=\"fill: none; stroke: #dc143c; stroke-width: 0.7; stroke-linecap: round\"/>\n",
       "    <path d=\"M 116.422725 40.590391 \n",
       "L 99.318378 23.251336 \n",
       "\" clip-path=\"url(#p6e70d13af1)\" style=\"fill: none; stroke: #dc143c; stroke-width: 0.7; stroke-linecap: round\"/>\n",
       "    <path d=\"M 116.422725 40.590391 \n",
       "L 132.910964 58.516216 \n",
       "\" clip-path=\"url(#p6e70d13af1)\" style=\"fill: none; stroke: #dc143c; stroke-width: 0.7; stroke-linecap: round\"/>\n",
       "    <path d=\"M 132.910964 58.516216 \n",
       "L 149.83928 75.591225 \n",
       "\" clip-path=\"url(#p6e70d13af1)\" style=\"fill: none; stroke: #dc143c; stroke-width: 0.7; stroke-linecap: round\"/>\n",
       "    <path d=\"M 185.5149 76.530057 \n",
       "L 168.879968 58.63357 \n",
       "\" clip-path=\"url(#p6e70d13af1)\" style=\"fill: none; stroke: #dc143c; stroke-width: 0.7; stroke-linecap: round\"/>\n",
       "    <path d=\"M 203.088663 94.045143 \n",
       "L 203.206017 58.985632 \n",
       "\" clip-path=\"url(#p6e70d13af1)\" style=\"fill: none; stroke: #dc143c; stroke-width: 0.7; stroke-linecap: round\"/>\n",
       "    <path d=\"M 203.088663 94.045143 \n",
       "L 202.003138 126.874928 \n",
       "\" clip-path=\"url(#p6e70d13af1)\" style=\"fill: none; stroke: #dc143c; stroke-width: 0.7; stroke-linecap: round\"/>\n",
       "    <path d=\"M 134.260535 26.419894 \n",
       "L 152.157022 41.617238 \n",
       "\" clip-path=\"url(#p6e70d13af1)\" style=\"fill: none; stroke: #dc143c; stroke-width: 0.7; stroke-linecap: round\"/>\n",
       "    <path d=\"M 152.157022 41.617238 \n",
       "L 168.879968 58.63357 \n",
       "\" clip-path=\"url(#p6e70d13af1)\" style=\"fill: none; stroke: #dc143c; stroke-width: 0.7; stroke-linecap: round\"/>\n",
       "    <path d=\"M 221.073165 44.52175 \n",
       "L 238.001481 59.689756 \n",
       "\" clip-path=\"url(#p6e70d13af1)\" style=\"fill: none; stroke: #dc143c; stroke-width: 0.7; stroke-linecap: round\"/>\n",
       "    <path d=\"M 238.001481 59.689756 \n",
       "L 219.958302 76.735426 \n",
       "\" clip-path=\"url(#p6e70d13af1)\" style=\"fill: none; stroke: #dc143c; stroke-width: 0.7; stroke-linecap: round\"/>\n",
       "    <path d=\"M 238.001481 59.689756 \n",
       "L 255.457891 77.410212 \n",
       "\" clip-path=\"url(#p6e70d13af1)\" style=\"fill: none; stroke: #dc143c; stroke-width: 0.7; stroke-linecap: round\"/>\n",
       "    <path d=\"M 185.984316 41.763931 \n",
       "L 203.206017 58.985632 \n",
       "\" clip-path=\"url(#p6e70d13af1)\" style=\"fill: none; stroke: #dc143c; stroke-width: 0.7; stroke-linecap: round\"/>\n",
       "    <path d=\"M 271.212667 94.631913 \n",
       "L 289.197169 80.050677 \n",
       "\" clip-path=\"url(#p6e70d13af1)\" style=\"fill: none; stroke: #dc143c; stroke-width: 0.7; stroke-linecap: round\"/>\n",
       "    <path d=\"M 289.197169 80.050677 \n",
       "L 306.477547 94.89596 \n",
       "\" clip-path=\"url(#p6e70d13af1)\" style=\"fill: none; stroke: #dc143c; stroke-width: 0.7; stroke-linecap: round\"/>\n",
       "    <path d=\"M 287.964952 113.819294 \n",
       "L 270.919282 130.718272 \n",
       "\" clip-path=\"url(#p6e70d13af1)\" style=\"fill: none; stroke: #dc143c; stroke-width: 0.7; stroke-linecap: round\"/>\n",
       "    <path d=\"M 287.964952 113.819294 \n",
       "L 305.392022 129.750101 \n",
       "\" clip-path=\"url(#p6e70d13af1)\" style=\"fill: none; stroke: #dc143c; stroke-width: 0.7; stroke-linecap: round\"/>\n",
       "    <path d=\"M 270.919282 130.718272 \n",
       "L 254.137658 146.326355 \n",
       "\" clip-path=\"url(#p6e70d13af1)\" style=\"fill: none; stroke: #dc143c; stroke-width: 0.7; stroke-linecap: round\"/>\n",
       "    <path d=\"M 130.006452 193.913407 \n",
       "L 146.436014 211.663201 \n",
       "\" clip-path=\"url(#p6e70d13af1)\" style=\"fill: none; stroke: #dc143c; stroke-width: 0.7; stroke-linecap: round\"/>\n",
       "    <path d=\"M 128.422173 227.447316 \n",
       "L 146.054613 244.02357 \n",
       "\" clip-path=\"url(#p6e70d13af1)\" style=\"fill: none; stroke: #dc143c; stroke-width: 0.7; stroke-linecap: round\"/>\n",
       "    <path d=\"M 110.144286 243.906216 \n",
       "L 127.542018 260.805194 \n",
       "\" clip-path=\"url(#p6e70d13af1)\" style=\"fill: none; stroke: #dc143c; stroke-width: 0.7; stroke-linecap: round\"/>\n",
       "    <path d=\"M 146.054613 244.02357 \n",
       "L 162.220128 261.978734 \n",
       "\" clip-path=\"url(#p6e70d13af1)\" style=\"fill: none; stroke: #dc143c; stroke-width: 0.7; stroke-linecap: round\"/>\n",
       "    <path d=\"M 127.542018 260.805194 \n",
       "L 144.55835 278.202926 \n",
       "\" clip-path=\"url(#p6e70d13af1)\" style=\"fill: none; stroke: #dc143c; stroke-width: 0.7; stroke-linecap: round\"/>\n",
       "    <path d=\"M 162.220128 261.978734 \n",
       "L 179.617861 278.789696 \n",
       "\" clip-path=\"url(#p6e70d13af1)\" style=\"fill: none; stroke: #dc143c; stroke-width: 0.7; stroke-linecap: round\"/>\n",
       "    <path d=\"M 144.55835 278.202926 \n",
       "L 161.897405 296.334121 \n",
       "\" clip-path=\"url(#p6e70d13af1)\" style=\"fill: none; stroke: #dc143c; stroke-width: 0.7; stroke-linecap: round\"/>\n",
       "    <path d=\"M 127.043263 295.16058 \n",
       "L 109.909578 277.850864 \n",
       "\" clip-path=\"url(#p6e70d13af1)\" style=\"fill: none; stroke: #dc143c; stroke-width: 0.7; stroke-linecap: round\"/>\n",
       "    <path d=\"M 127.043263 295.16058 \n",
       "L 143.267455 313.761191 \n",
       "\" clip-path=\"url(#p6e70d13af1)\" style=\"fill: none; stroke: #dc143c; stroke-width: 0.7; stroke-linecap: round\"/>\n",
       "    <path d=\"M 143.267455 313.761191 \n",
       "L 161.134604 330.748184 \n",
       "\" clip-path=\"url(#p6e70d13af1)\" style=\"fill: none; stroke: #dc143c; stroke-width: 0.7; stroke-linecap: round\"/>\n",
       "    <path d=\"M 125.664354 330.337445 \n",
       "L 108.67736 312.61699 \n",
       "\" clip-path=\"url(#p6e70d13af1)\" style=\"fill: none; stroke: #dc143c; stroke-width: 0.7; stroke-linecap: round\"/>\n",
       "    <path d=\"M 108.67736 312.61699 \n",
       "L 92.189122 295.600658 \n",
       "\" clip-path=\"url(#p6e70d13af1)\" style=\"fill: none; stroke: #dc143c; stroke-width: 0.7; stroke-linecap: round\"/>\n",
       "    <path d=\"M 92.189122 295.600658 \n",
       "L 75.143452 277.997556 \n",
       "\" clip-path=\"url(#p6e70d13af1)\" style=\"fill: none; stroke: #dc143c; stroke-width: 0.7; stroke-linecap: round\"/>\n",
       "    <path d=\"M 56.74821 295.307273 \n",
       "L 39.291801 311.062049 \n",
       "\" clip-path=\"url(#p6e70d13af1)\" style=\"fill: none; stroke: #dc143c; stroke-width: 0.7; stroke-linecap: round\"/>\n",
       "    <path d=\"M 56.74821 295.307273 \n",
       "L 73.20711 312.264928 \n",
       "\" clip-path=\"url(#p6e70d13af1)\" style=\"fill: none; stroke: #dc143c; stroke-width: 0.7; stroke-linecap: round\"/>\n",
       "    <path d=\"M 40.347987 242.468629 \n",
       "L 23.214302 259.807684 \n",
       "\" clip-path=\"url(#p6e70d13af1)\" style=\"fill: none; stroke: #dc143c; stroke-width: 0.7; stroke-linecap: round\"/>\n",
       "    <path d=\"M 23.214302 259.807684 \n",
       "L 39.027755 276.266585 \n",
       "\" clip-path=\"url(#p6e70d13af1)\" style=\"fill: none; stroke: #dc143c; stroke-width: 0.7; stroke-linecap: round\"/>\n",
       "    <path d=\"M 23.537025 225.921714 \n",
       "L 41.022773 208.406627 \n",
       "\" clip-path=\"url(#p6e70d13af1)\" style=\"fill: none; stroke: #dc143c; stroke-width: 0.7; stroke-linecap: round\"/>\n",
       "    <path d=\"M 41.022773 208.406627 \n",
       "L 23.889087 192.035743 \n",
       "\" clip-path=\"url(#p6e70d13af1)\" style=\"fill: none; stroke: #dc143c; stroke-width: 0.7; stroke-linecap: round\"/>\n",
       "    <path d=\"M 198.423841 228.444825 \n",
       "L 217.347175 211.956586 \n",
       "\" clip-path=\"url(#p6e70d13af1)\" style=\"fill: none; stroke: #dc143c; stroke-width: 0.7; stroke-linecap: round\"/>\n",
       "    <path d=\"M 198.423841 228.444825 \n",
       "L 180.791401 245.930573 \n",
       "\" clip-path=\"url(#p6e70d13af1)\" style=\"fill: none; stroke: #dc143c; stroke-width: 0.7; stroke-linecap: round\"/>\n",
       "    <path d=\"M 180.791401 245.930573 \n",
       "L 198.541195 262.682858 \n",
       "\" clip-path=\"url(#p6e70d13af1)\" style=\"fill: none; stroke: #dc143c; stroke-width: 0.7; stroke-linecap: round\"/>\n",
       "    <path d=\"M 214.677371 280.08059 \n",
       "L 196.8689 297.184937 \n",
       "\" clip-path=\"url(#p6e70d13af1)\" style=\"fill: none; stroke: #dc143c; stroke-width: 0.7; stroke-linecap: round\"/>\n",
       "    <path d=\"M 196.8689 297.184937 \n",
       "L 179.588522 314.259946 \n",
       "\" clip-path=\"url(#p6e70d13af1)\" style=\"fill: none; stroke: #dc143c; stroke-width: 0.7; stroke-linecap: round\"/>\n",
       "    <path d=\"M 196.8689 297.184937 \n",
       "L 213.621185 315.169439 \n",
       "\" clip-path=\"url(#p6e70d13af1)\" style=\"fill: none; stroke: #dc143c; stroke-width: 0.7; stroke-linecap: round\"/>\n",
       "    <path d=\"M 90.868889 329.897368 \n",
       "L 73.20711 312.264928 \n",
       "\" clip-path=\"url(#p6e70d13af1)\" style=\"fill: none; stroke: #dc143c; stroke-width: 0.7; stroke-linecap: round\"/>\n",
       "    <path d=\"M 22.950255 293.546963 \n",
       "L 39.027755 276.266585 \n",
       "\" clip-path=\"url(#p6e70d13af1)\" style=\"fill: none; stroke: #dc143c; stroke-width: 0.7; stroke-linecap: round\"/>\n",
       "    <path d=\"M 233.248644 262.682858 \n",
       "L 248.21128 281.576854 \n",
       "\" clip-path=\"url(#p6e70d13af1)\" style=\"fill: none; stroke: #dc143c; stroke-width: 0.7; stroke-linecap: round\"/>\n",
       "    <path d=\"M 248.21128 281.576854 \n",
       "L 232.485843 298.329139 \n",
       "\" clip-path=\"url(#p6e70d13af1)\" style=\"fill: none; stroke: #dc143c; stroke-width: 0.7; stroke-linecap: round\"/>\n",
       "    <path d=\"M 232.485843 298.329139 \n",
       "L 249.443497 315.492163 \n",
       "\" clip-path=\"url(#p6e70d13af1)\" style=\"fill: none; stroke: #dc143c; stroke-width: 0.7; stroke-linecap: round\"/>\n",
       "    <path d=\"M 324.520726 112.821785 \n",
       "L 306.477547 94.89596 \n",
       "\" clip-path=\"url(#p6e70d13af1)\" style=\"fill: none; stroke: #dc143c; stroke-width: 0.7; stroke-linecap: round\"/>\n",
       "   </g>\n",
       "   <g id=\"LineCollection_2\">\n",
       "    <path d=\"M 225.767326 164.134826 \n",
       "L 234.950277 195.996441 \n",
       "\" clip-path=\"url(#p6e70d13af1)\" style=\"fill: none; stroke-dasharray: 2.8,2.8; stroke-dashoffset: 0; stroke: #ff8c00; stroke-width: 0.7; stroke-linecap: round\"/>\n",
       "    <path d=\"M 225.767326 164.134826 \n",
       "L 228.701176 93.722419 \n",
       "\" clip-path=\"url(#p6e70d13af1)\" style=\"fill: none; stroke-dasharray: 2.8,2.8; stroke-dashoffset: 0; stroke: #ff8c00; stroke-width: 0.7; stroke-linecap: round\"/>\n",
       "    <path d=\"M 225.767326 164.134826 \n",
       "L 234.950277 195.996441 \n",
       "\" clip-path=\"url(#p6e70d13af1)\" style=\"fill: none; stroke-dasharray: 2.8,2.8; stroke-dashoffset: 0; stroke: #ff8c00; stroke-width: 0.7; stroke-linecap: round\"/>\n",
       "    <path d=\"M 225.767326 164.134826 \n",
       "L 228.701176 93.722419 \n",
       "\" clip-path=\"url(#p6e70d13af1)\" style=\"fill: none; stroke-dasharray: 2.8,2.8; stroke-dashoffset: 0; stroke: #ff8c00; stroke-width: 0.7; stroke-linecap: round\"/>\n",
       "    <path d=\"M 216.349666 245.373141 \n",
       "L 234.950277 195.996441 \n",
       "\" clip-path=\"url(#p6e70d13af1)\" style=\"fill: none; stroke-dasharray: 2.8,2.8; stroke-dashoffset: 0; stroke: #ff8c00; stroke-width: 0.7; stroke-linecap: round\"/>\n",
       "    <path d=\"M 237.033311 94.455882 \n",
       "L 228.701176 93.722419 \n",
       "\" clip-path=\"url(#p6e70d13af1)\" style=\"fill: none; stroke-dasharray: 2.8,2.8; stroke-dashoffset: 0; stroke: #ff8c00; stroke-width: 0.7; stroke-linecap: round\"/>\n",
       "    <path d=\"M 252.348009 112.616415 \n",
       "L 228.701176 93.722419 \n",
       "\" clip-path=\"url(#p6e70d13af1)\" style=\"fill: none; stroke-dasharray: 2.8,2.8; stroke-dashoffset: 0; stroke: #ff8c00; stroke-width: 0.7; stroke-linecap: round\"/>\n",
       "    <path d=\"M 234.539538 229.589026 \n",
       "L 234.950277 195.996441 \n",
       "\" clip-path=\"url(#p6e70d13af1)\" style=\"fill: none; stroke-dasharray: 2.8,2.8; stroke-dashoffset: 0; stroke: #ff8c00; stroke-width: 0.7; stroke-linecap: round\"/>\n",
       "    <path d=\"M 79.074811 193.473329 \n",
       "L 78.458702 175.078088 \n",
       "\" clip-path=\"url(#p6e70d13af1)\" style=\"fill: none; stroke-dasharray: 2.8,2.8; stroke-dashoffset: 0; stroke: #ff8c00; stroke-width: 0.7; stroke-linecap: round\"/>\n",
       "    <path d=\"M 79.074811 193.473329 \n",
       "L 78.458702 175.078088 \n",
       "\" clip-path=\"url(#p6e70d13af1)\" style=\"fill: none; stroke-dasharray: 2.8,2.8; stroke-dashoffset: 0; stroke: #ff8c00; stroke-width: 0.7; stroke-linecap: round\"/>\n",
       "    <path d=\"M 62.938634 125.789403 \n",
       "L 78.458702 175.078088 \n",
       "\" clip-path=\"url(#p6e70d13af1)\" style=\"fill: none; stroke-dasharray: 2.8,2.8; stroke-dashoffset: 0; stroke: #ff8c00; stroke-width: 0.7; stroke-linecap: round\"/>\n",
       "    <path d=\"M 80.27769 109.741242 \n",
       "L 71.740185 125.994773 \n",
       "\" clip-path=\"url(#p6e70d13af1)\" style=\"fill: none; stroke-dasharray: 2.8,2.8; stroke-dashoffset: 0; stroke: #ff8c00; stroke-width: 0.7; stroke-linecap: round\"/>\n",
       "    <path d=\"M 71.740185 125.994773 \n",
       "L 78.458702 175.078088 \n",
       "\" clip-path=\"url(#p6e70d13af1)\" style=\"fill: none; stroke-dasharray: 2.8,2.8; stroke-dashoffset: 0; stroke: #ff8c00; stroke-width: 0.7; stroke-linecap: round\"/>\n",
       "   </g>\n",
       "   <g id=\"PathCollection_1\">\n",
       "    <defs>\n",
       "     <path id=\"C0_0_2e4285833b\" d=\"M 0 4.472136 \n",
       "C 1.186024 4.472136 2.323632 4.000923 3.162278 3.162278 \n",
       "C 4.000923 2.323632 4.472136 1.186024 4.472136 -0 \n",
       "C 4.472136 -1.186024 4.000923 -2.323632 3.162278 -3.162278 \n",
       "C 2.323632 -4.000923 1.186024 -4.472136 0 -4.472136 \n",
       "C -1.186024 -4.472136 -2.323632 -4.000923 -3.162278 -3.162278 \n",
       "C -4.000923 -2.323632 -4.472136 -1.186024 -4.472136 0 \n",
       "C -4.472136 1.186024 -4.000923 2.323632 -3.162278 3.162278 \n",
       "C -2.323632 4.000923 -1.186024 4.472136 0 4.472136 \n",
       "z\n",
       "\"/>\n",
       "    </defs>\n",
       "    <use xlink:href=\"#C0_0_2e4285833b\" x=\"234.950277\" y=\"195.996441\" style=\"fill: none; stroke: #ffa500; stroke-opacity: 0.4\"/>\n",
       "    <use xlink:href=\"#C0_0_2e4285833b\" x=\"228.701176\" y=\"93.722419\" style=\"fill: none; stroke: #ffa500; stroke-opacity: 0.4\"/>\n",
       "    <use xlink:href=\"#C0_0_2e4285833b\" x=\"71.740185\" y=\"125.994773\" style=\"fill: none; stroke: #ffa500; stroke-opacity: 0.4\"/>\n",
       "    <use xlink:href=\"#C0_0_2e4285833b\" x=\"78.458702\" y=\"175.078088\" style=\"fill: none; stroke: #ffa500; stroke-opacity: 0.4\"/>\n",
       "    <use xlink:href=\"#C0_0_2e4285833b\" x=\"234.950277\" y=\"195.996441\" style=\"fill: none; stroke: #ffa500; stroke-opacity: 0.4\"/>\n",
       "    <use xlink:href=\"#C0_0_2e4285833b\" x=\"228.701176\" y=\"93.722419\" style=\"fill: none; stroke: #ffa500; stroke-opacity: 0.4\"/>\n",
       "    <use xlink:href=\"#C0_0_2e4285833b\" x=\"78.458702\" y=\"175.078088\" style=\"fill: none; stroke: #ffa500; stroke-opacity: 0.4\"/>\n",
       "   </g>\n",
       "   <g id=\"PathCollection_2\">\n",
       "    <path d=\"M 223.646005 166.256147 \n",
       "L 227.888646 166.256147 \n",
       "L 227.888646 162.013506 \n",
       "L 223.646005 162.013506 \n",
       "z\n",
       "\" style=\"fill: #7cfc00\"/>\n",
       "    <path d=\"M 76.953491 195.59465 \n",
       "L 81.196131 195.59465 \n",
       "L 81.196131 191.352009 \n",
       "L 76.953491 191.352009 \n",
       "z\n",
       "\" style=\"fill: #7cfc00\"/>\n",
       "   </g>\n",
       "   <g id=\"PathCollection_3\">\n",
       "    <defs>\n",
       "     <path id=\"C1_0_62e453f587\" d=\"M 0 2.12132 \n",
       "C 0.562581 2.12132 1.102195 1.897805 1.5 1.5 \n",
       "C 1.897805 1.102195 2.12132 0.562581 2.12132 -0 \n",
       "C 2.12132 -0.562581 1.897805 -1.102195 1.5 -1.5 \n",
       "C 1.102195 -1.897805 0.562581 -2.12132 0 -2.12132 \n",
       "C -0.562581 -2.12132 -1.102195 -1.897805 -1.5 -1.5 \n",
       "C -1.897805 -1.102195 -2.12132 -0.562581 -2.12132 0 \n",
       "C -2.12132 0.562581 -1.897805 1.102195 -1.5 1.5 \n",
       "C -1.102195 1.897805 -0.562581 2.12132 0 2.12132 \n",
       "z\n",
       "\"/>\n",
       "    </defs>\n",
       "    <use xlink:href=\"#C1_0_62e453f587\" x=\"289.197169\" y=\"80.050677\" style=\"fill: #ff9896\"/>\n",
       "    <use xlink:href=\"#C1_0_62e453f587\" x=\"306.477547\" y=\"94.89596\" style=\"fill: #ff9896\"/>\n",
       "    <use xlink:href=\"#C1_0_62e453f587\" x=\"324.520726\" y=\"112.821785\" style=\"fill: #ff9896\"/>\n",
       "    <use xlink:href=\"#C1_0_62e453f587\" x=\"221.073165\" y=\"44.52175\" style=\"fill: #9467bd\"/>\n",
       "    <use xlink:href=\"#C1_0_62e453f587\" x=\"238.001481\" y=\"59.689756\" style=\"fill: #9467bd\"/>\n",
       "    <use xlink:href=\"#C1_0_62e453f587\" x=\"255.457891\" y=\"77.410212\" style=\"fill: #9467bd\"/>\n",
       "    <use xlink:href=\"#C1_0_62e453f587\" x=\"271.212667\" y=\"94.631913\" style=\"fill: #ff9896\"/>\n",
       "    <use xlink:href=\"#C1_0_62e453f587\" x=\"287.964952\" y=\"113.819294\" style=\"fill: #c5b0d5\"/>\n",
       "    <use xlink:href=\"#C1_0_62e453f587\" x=\"305.392022\" y=\"129.750101\" style=\"fill: #c5b0d5\"/>\n",
       "    <use xlink:href=\"#C1_0_62e453f587\" x=\"185.984316\" y=\"41.763931\" style=\"fill: #ffbb78\"/>\n",
       "    <use xlink:href=\"#C1_0_62e453f587\" x=\"203.206017\" y=\"58.985632\" style=\"fill: #ffbb78\"/>\n",
       "    <use xlink:href=\"#C1_0_62e453f587\" x=\"219.958302\" y=\"76.735426\" style=\"fill: #9467bd\"/>\n",
       "    <use xlink:href=\"#C1_0_62e453f587\" x=\"237.033311\" y=\"94.455882\" style=\"fill: #ff9896\"/>\n",
       "    <use xlink:href=\"#C1_0_62e453f587\" x=\"252.348009\" y=\"112.616415\" style=\"fill: #c5b0d5\"/>\n",
       "    <use xlink:href=\"#C1_0_62e453f587\" x=\"270.919282\" y=\"130.718272\" style=\"fill: #c5b0d5\"/>\n",
       "    <use xlink:href=\"#C1_0_62e453f587\" x=\"134.260535\" y=\"26.419894\" style=\"fill: #aec7e8\"/>\n",
       "    <use xlink:href=\"#C1_0_62e453f587\" x=\"152.157022\" y=\"41.617238\" style=\"fill: #aec7e8\"/>\n",
       "    <use xlink:href=\"#C1_0_62e453f587\" x=\"168.879968\" y=\"58.63357\" style=\"fill: #aec7e8\"/>\n",
       "    <use xlink:href=\"#C1_0_62e453f587\" x=\"185.5149\" y=\"76.530057\" style=\"fill: #aec7e8\"/>\n",
       "    <use xlink:href=\"#C1_0_62e453f587\" x=\"203.088663\" y=\"94.045143\" style=\"fill: #ffbb78\"/>\n",
       "    <use xlink:href=\"#C1_0_62e453f587\" x=\"220.19301\" y=\"112.000307\" style=\"fill: #9467bd\"/>\n",
       "    <use xlink:href=\"#C1_0_62e453f587\" x=\"254.137658\" y=\"146.326355\" style=\"fill: #c5b0d5\"/>\n",
       "    <use xlink:href=\"#C1_0_62e453f587\" x=\"99.318378\" y=\"23.251336\" style=\"fill: #1f77b4\"/>\n",
       "    <use xlink:href=\"#C1_0_62e453f587\" x=\"116.422725\" y=\"40.590391\" style=\"fill: #1f77b4\"/>\n",
       "    <use xlink:href=\"#C1_0_62e453f587\" x=\"132.910964\" y=\"58.516216\" style=\"fill: #1f77b4\"/>\n",
       "    <use xlink:href=\"#C1_0_62e453f587\" x=\"149.83928\" y=\"75.591225\" style=\"fill: #1f77b4\"/>\n",
       "    <use xlink:href=\"#C1_0_62e453f587\" x=\"166.796935\" y=\"92.402187\" style=\"fill: #1f77b4\"/>\n",
       "    <use xlink:href=\"#C1_0_62e453f587\" x=\"184.517391\" y=\"109.359842\" style=\"fill: #aec7e8\"/>\n",
       "    <use xlink:href=\"#C1_0_62e453f587\" x=\"202.003138\" y=\"126.874928\" style=\"fill: #ffbb78\"/>\n",
       "    <use xlink:href=\"#C1_0_62e453f587\" x=\"218.931454\" y=\"144.125967\" style=\"fill: #ffbb78\"/>\n",
       "    <use xlink:href=\"#C1_0_62e453f587\" x=\"236.387864\" y=\"162.198485\" style=\"fill: #8c564b\"/>\n",
       "    <use xlink:href=\"#C1_0_62e453f587\" x=\"81.216522\" y=\"39.915605\" style=\"fill: #1f77b4\"/>\n",
       "    <use xlink:href=\"#C1_0_62e453f587\" x=\"98.4969\" y=\"57.870769\" style=\"fill: #1f77b4\"/>\n",
       "    <use xlink:href=\"#C1_0_62e453f587\" x=\"115.131831\" y=\"76.001964\" style=\"fill: #ff7f0e\"/>\n",
       "    <use xlink:href=\"#C1_0_62e453f587\" x=\"132.265517\" y=\"93.546388\" style=\"fill: #ff7f0e\"/>\n",
       "    <use xlink:href=\"#C1_0_62e453f587\" x=\"149.985973\" y=\"110.151981\" style=\"fill: #ff7f0e\"/>\n",
       "    <use xlink:href=\"#C1_0_62e453f587\" x=\"167.266351\" y=\"126.845589\" style=\"fill: #ff7f0e\"/>\n",
       "    <use xlink:href=\"#C1_0_62e453f587\" x=\"184.458714\" y=\"144.507368\" style=\"fill: #ff7f0e\"/>\n",
       "    <use xlink:href=\"#C1_0_62e453f587\" x=\"201.475045\" y=\"161.934439\" style=\"fill: #2ca02c\"/>\n",
       "    <use xlink:href=\"#C1_0_62e453f587\" x=\"217.992622\" y=\"178.011938\" style=\"fill: #98df8a\"/>\n",
       "    <use xlink:href=\"#C1_0_62e453f587\" x=\"234.950277\" y=\"195.996441\" style=\"fill: #c49c94\"/>\n",
       "    <use xlink:href=\"#C1_0_62e453f587\" x=\"63.202681\" y=\"56.403844\" style=\"fill: #9edae5\"/>\n",
       "    <use xlink:href=\"#C1_0_62e453f587\" x=\"79.866951\" y=\"74.476362\" style=\"fill: #1f77b4\"/>\n",
       "    <use xlink:href=\"#C1_0_62e453f587\" x=\"97.029975\" y=\"93.282342\" style=\"fill: #f7b6d2\"/>\n",
       "    <use xlink:href=\"#C1_0_62e453f587\" x=\"113.048797\" y=\"109.477196\" style=\"fill: #f7b6d2\"/>\n",
       "    <use xlink:href=\"#C1_0_62e453f587\" x=\"130.387853\" y=\"125.613372\" style=\"fill: #f7b6d2\"/>\n",
       "    <use xlink:href=\"#C1_0_62e453f587\" x=\"148.07897\" y=\"142.453673\" style=\"fill: #2ca02c\"/>\n",
       "    <use xlink:href=\"#C1_0_62e453f587\" x=\"164.831255\" y=\"159.910082\" style=\"fill: #2ca02c\"/>\n",
       "    <use xlink:href=\"#C1_0_62e453f587\" x=\"181.730233\" y=\"177.161122\" style=\"fill: #2ca02c\"/>\n",
       "    <use xlink:href=\"#C1_0_62e453f587\" x=\"199.597381\" y=\"194.265469\" style=\"fill: #98df8a\"/>\n",
       "    <use xlink:href=\"#C1_0_62e453f587\" x=\"217.347175\" y=\"211.956586\" style=\"fill: #c49c94\"/>\n",
       "    <use xlink:href=\"#C1_0_62e453f587\" x=\"234.539538\" y=\"229.589026\" style=\"fill: #e377c2\"/>\n",
       "    <use xlink:href=\"#C1_0_62e453f587\" x=\"45.012809\" y=\"73.302821\" style=\"fill: #9edae5\"/>\n",
       "    <use xlink:href=\"#C1_0_62e453f587\" x=\"62.674588\" y=\"91.580709\" style=\"fill: #1f77b4\"/>\n",
       "    <use xlink:href=\"#C1_0_62e453f587\" x=\"80.27769\" y=\"109.741242\" style=\"fill: #1f77b4\"/>\n",
       "    <use xlink:href=\"#C1_0_62e453f587\" x=\"112.696735\" y=\"142.336319\" style=\"fill: #f7b6d2\"/>\n",
       "    <use xlink:href=\"#C1_0_62e453f587\" x=\"130.329176\" y=\"159.323312\" style=\"fill: #c7c7c7\"/>\n",
       "    <use xlink:href=\"#C1_0_62e453f587\" x=\"147.257492\" y=\"176.545013\" style=\"fill: #2ca02c\"/>\n",
       "    <use xlink:href=\"#C1_0_62e453f587\" x=\"163.74573\" y=\"194.558854\" style=\"fill: #98df8a\"/>\n",
       "    <use xlink:href=\"#C1_0_62e453f587\" x=\"181.935602\" y=\"210.724369\" style=\"fill: #98df8a\"/>\n",
       "    <use xlink:href=\"#C1_0_62e453f587\" x=\"198.423841\" y=\"228.444825\" style=\"fill: #c49c94\"/>\n",
       "    <use xlink:href=\"#C1_0_62e453f587\" x=\"216.349666\" y=\"245.373141\" style=\"fill: #d62728\"/>\n",
       "    <use xlink:href=\"#C1_0_62e453f587\" x=\"233.248644\" y=\"262.682858\" style=\"fill: #e377c2\"/>\n",
       "    <use xlink:href=\"#C1_0_62e453f587\" x=\"248.21128\" y=\"281.576854\" style=\"fill: #e377c2\"/>\n",
       "    <use xlink:href=\"#C1_0_62e453f587\" x=\"26.734922\" y=\"90.172461\" style=\"fill: #9edae5\"/>\n",
       "    <use xlink:href=\"#C1_0_62e453f587\" x=\"43.42853\" y=\"107.394162\" style=\"fill: #9edae5\"/>\n",
       "    <use xlink:href=\"#C1_0_62e453f587\" x=\"62.938634\" y=\"125.789403\" style=\"fill: #9edae5\"/>\n",
       "    <use xlink:href=\"#C1_0_62e453f587\" x=\"95.651065\" y=\"158.472495\" style=\"fill: #f7b6d2\"/>\n",
       "    <use xlink:href=\"#C1_0_62e453f587\" x=\"113.078136\" y=\"175.723535\" style=\"fill: #c7c7c7\"/>\n",
       "    <use xlink:href=\"#C1_0_62e453f587\" x=\"130.006452\" y=\"193.913407\" style=\"fill: #c7c7c7\"/>\n",
       "    <use xlink:href=\"#C1_0_62e453f587\" x=\"146.436014\" y=\"211.663201\" style=\"fill: #c7c7c7\"/>\n",
       "    <use xlink:href=\"#C1_0_62e453f587\" x=\"164.391178\" y=\"227.56467\" style=\"fill: #98df8a\"/>\n",
       "    <use xlink:href=\"#C1_0_62e453f587\" x=\"180.791401\" y=\"245.930573\" style=\"fill: #c49c94\"/>\n",
       "    <use xlink:href=\"#C1_0_62e453f587\" x=\"198.541195\" y=\"262.682858\" style=\"fill: #c49c94\"/>\n",
       "    <use xlink:href=\"#C1_0_62e453f587\" x=\"214.677371\" y=\"280.08059\" style=\"fill: #d62728\"/>\n",
       "    <use xlink:href=\"#C1_0_62e453f587\" x=\"232.485843\" y=\"298.329139\" style=\"fill: #e377c2\"/>\n",
       "    <use xlink:href=\"#C1_0_62e453f587\" x=\"249.443497\" y=\"315.492163\" style=\"fill: #e377c2\"/>\n",
       "    <use xlink:href=\"#C1_0_62e453f587\" x=\"25.444028\" y=\"124.439832\" style=\"fill: #17becf\"/>\n",
       "    <use xlink:href=\"#C1_0_62e453f587\" x=\"43.047129\" y=\"141.192117\" style=\"fill: #17becf\"/>\n",
       "    <use xlink:href=\"#C1_0_62e453f587\" x=\"61.442371\" y=\"158.120433\" style=\"fill: #17becf\"/>\n",
       "    <use xlink:href=\"#C1_0_62e453f587\" x=\"78.458702\" y=\"175.078088\" style=\"fill: #17becf\"/>\n",
       "    <use xlink:href=\"#C1_0_62e453f587\" x=\"94.653556\" y=\"192.739867\" style=\"fill: #c7c7c7\"/>\n",
       "    <use xlink:href=\"#C1_0_62e453f587\" x=\"111.024441\" y=\"210.254953\" style=\"fill: #7f7f7f\"/>\n",
       "    <use xlink:href=\"#C1_0_62e453f587\" x=\"128.422173\" y=\"227.447316\" style=\"fill: #7f7f7f\"/>\n",
       "    <use xlink:href=\"#C1_0_62e453f587\" x=\"146.054613\" y=\"244.02357\" style=\"fill: #7f7f7f\"/>\n",
       "    <use xlink:href=\"#C1_0_62e453f587\" x=\"162.220128\" y=\"261.978734\" style=\"fill: #7f7f7f\"/>\n",
       "    <use xlink:href=\"#C1_0_62e453f587\" x=\"179.617861\" y=\"278.789696\" style=\"fill: #7f7f7f\"/>\n",
       "    <use xlink:href=\"#C1_0_62e453f587\" x=\"196.8689\" y=\"297.184937\" style=\"fill: #d62728\"/>\n",
       "    <use xlink:href=\"#C1_0_62e453f587\" x=\"213.621185\" y=\"315.169439\" style=\"fill: #d62728\"/>\n",
       "    <use xlink:href=\"#C1_0_62e453f587\" x=\"24.505196\" y=\"158.208449\" style=\"fill: #17becf\"/>\n",
       "    <use xlink:href=\"#C1_0_62e453f587\" x=\"42.078959\" y=\"174.579334\" style=\"fill: #98df8a\"/>\n",
       "    <use xlink:href=\"#C1_0_62e453f587\" x=\"59.858092\" y=\"191.478311\" style=\"fill: #98df8a\"/>\n",
       "    <use xlink:href=\"#C1_0_62e453f587\" x=\"75.906253\" y=\"209.198767\" style=\"fill: #dbdb8d\"/>\n",
       "    <use xlink:href=\"#C1_0_62e453f587\" x=\"93.069277\" y=\"226.567161\" style=\"fill: #bcbd22\"/>\n",
       "    <use xlink:href=\"#C1_0_62e453f587\" x=\"110.144286\" y=\"243.906216\" style=\"fill: #bcbd22\"/>\n",
       "    <use xlink:href=\"#C1_0_62e453f587\" x=\"127.542018\" y=\"260.805194\" style=\"fill: #bcbd22\"/>\n",
       "    <use xlink:href=\"#C1_0_62e453f587\" x=\"144.55835\" y=\"278.202926\" style=\"fill: #bcbd22\"/>\n",
       "    <use xlink:href=\"#C1_0_62e453f587\" x=\"161.897405\" y=\"296.334121\" style=\"fill: #bcbd22\"/>\n",
       "    <use xlink:href=\"#C1_0_62e453f587\" x=\"179.588522\" y=\"314.259946\" style=\"fill: #d62728\"/>\n",
       "    <use xlink:href=\"#C1_0_62e453f587\" x=\"23.889087\" y=\"192.035743\" style=\"fill: #98df8a\"/>\n",
       "    <use xlink:href=\"#C1_0_62e453f587\" x=\"41.022773\" y=\"208.406627\" style=\"fill: #98df8a\"/>\n",
       "    <use xlink:href=\"#C1_0_62e453f587\" x=\"58.156458\" y=\"225.892375\" style=\"fill: #2ca02c\"/>\n",
       "    <use xlink:href=\"#C1_0_62e453f587\" x=\"74.879405\" y=\"243.348784\" style=\"fill: #ffbb78\"/>\n",
       "    <use xlink:href=\"#C1_0_62e453f587\" x=\"92.717215\" y=\"259.983715\" style=\"fill: #aec7e8\"/>\n",
       "    <use xlink:href=\"#C1_0_62e453f587\" x=\"109.909578\" y=\"277.850864\" style=\"fill: #aec7e8\"/>\n",
       "    <use xlink:href=\"#C1_0_62e453f587\" x=\"127.043263\" y=\"295.16058\" style=\"fill: #aec7e8\"/>\n",
       "    <use xlink:href=\"#C1_0_62e453f587\" x=\"143.267455\" y=\"313.761191\" style=\"fill: #aec7e8\"/>\n",
       "    <use xlink:href=\"#C1_0_62e453f587\" x=\"161.134604\" y=\"330.748184\" style=\"fill: #aec7e8\"/>\n",
       "    <use xlink:href=\"#C1_0_62e453f587\" x=\"23.537025\" y=\"225.921714\" style=\"fill: #98df8a\"/>\n",
       "    <use xlink:href=\"#C1_0_62e453f587\" x=\"40.347987\" y=\"242.468629\" style=\"fill: #2ca02c\"/>\n",
       "    <use xlink:href=\"#C1_0_62e453f587\" x=\"58.244474\" y=\"260.951886\" style=\"fill: #ff7f0e\"/>\n",
       "    <use xlink:href=\"#C1_0_62e453f587\" x=\"75.143452\" y=\"277.997556\" style=\"fill: #ffbb78\"/>\n",
       "    <use xlink:href=\"#C1_0_62e453f587\" x=\"92.189122\" y=\"295.600658\" style=\"fill: #ffbb78\"/>\n",
       "    <use xlink:href=\"#C1_0_62e453f587\" x=\"108.67736\" y=\"312.61699\" style=\"fill: #ffbb78\"/>\n",
       "    <use xlink:href=\"#C1_0_62e453f587\" x=\"125.664354\" y=\"330.337445\" style=\"fill: #ffbb78\"/>\n",
       "    <use xlink:href=\"#C1_0_62e453f587\" x=\"23.214302\" y=\"259.807684\" style=\"fill: #2ca02c\"/>\n",
       "    <use xlink:href=\"#C1_0_62e453f587\" x=\"39.027755\" y=\"276.266585\" style=\"fill: #2ca02c\"/>\n",
       "    <use xlink:href=\"#C1_0_62e453f587\" x=\"56.74821\" y=\"295.307273\" style=\"fill: #ff7f0e\"/>\n",
       "    <use xlink:href=\"#C1_0_62e453f587\" x=\"73.20711\" y=\"312.264928\" style=\"fill: #ff7f0e\"/>\n",
       "    <use xlink:href=\"#C1_0_62e453f587\" x=\"90.868889\" y=\"329.897368\" style=\"fill: #ff7f0e\"/>\n",
       "    <use xlink:href=\"#C1_0_62e453f587\" x=\"22.950255\" y=\"293.546963\" style=\"fill: #2ca02c\"/>\n",
       "    <use xlink:href=\"#C1_0_62e453f587\" x=\"39.291801\" y=\"311.062049\" style=\"fill: #ff7f0e\"/>\n",
       "   </g>\n",
       "   <g id=\"legend_1\">\n",
       "    <g id=\"patch_3\">\n",
       "     <path d=\"M 201.529177 59.915125 \n",
       "L 337.409177 59.915125 \n",
       "Q 339.409177 59.915125 339.409177 57.915125 \n",
       "L 339.409177 14.2 \n",
       "Q 339.409177 12.2 337.409177 12.2 \n",
       "L 201.529177 12.2 \n",
       "Q 199.529177 12.2 199.529177 14.2 \n",
       "L 199.529177 57.915125 \n",
       "Q 199.529177 59.915125 201.529177 59.915125 \n",
       "z\n",
       "\" style=\"fill: #111111; opacity: 0.6; stroke: #ffffff; stroke-linejoin: miter\"/>\n",
       "    </g>\n",
       "    <g id=\"text_1\">\n",
       "     <!-- $\\kappa$ = 5, $T$ = 122 -->\n",
       "     <g style=\"fill: #ffffff\" transform=\"translate(225.489177 25.318125)\">\n",
       "      <text>\n",
       "       <tspan style=\"font: oblique 12px 'DejaVu Sans'\" x=\"0 40.019531\" y=\"-0.09375\">κT</tspan>\n",
       "       <tspan style=\"font: 12px 'DejaVu Sans'\" x=\"7.072266 10.886719 20.941406 24.755859 32.390625 36.205078 47.349609 51.164062 61.21875 65.033203 72.667969 80.302734\" y=\"-0.09375\"> = 5,  = 122</tspan>\n",
       "      </text>\n",
       "     </g>\n",
       "     <!-- (+1) $\\phi_{α}$ = 13, $\\phi_{β}$ = 13 -->\n",
       "     <g style=\"fill: #ffffff\" transform=\"translate(203.529177 38.75775)\">\n",
       "      <text>\n",
       "       <tspan style=\"font: 12px 'DejaVu Sans'\" x=\"0 4.681641 14.736328 22.371094 27.052734 44.648438 48.462891 58.517578 62.332031 69.966797 77.601562 81.416016 98.835352 102.649805 112.704492 116.518945 124.153711\" y=\"-0.875\">(+1)  = 13,  = 13</tspan>\n",
       "       <tspan style=\"font: oblique 12px 'DejaVu Sans'\" x=\"30.867188 85.230469\" y=\"-0.875\">ϕϕ</tspan>\n",
       "       <tspan style=\"font: oblique 8.4px 'DejaVu Sans'\" x=\"38.783203 93.146484\" y=\"1.09375\">αβ</tspan>\n",
       "      </text>\n",
       "     </g>\n",
       "     <text style=\"fill: #ffffff; font: 12px 'DejaVu Sans', 'Bitstream Vera Sans', 'Computer Modern Sans Serif', 'Lucida Grande', 'Verdana', 'Geneva', 'Lucid', 'Arial', 'Helvetica', 'Avant Garde', sans-serif\" transform=\"translate(218.788865 53.4195)\">Σl = 125523.0 m</text>\n",
       "    </g>\n",
       "   </g>\n",
       "  </g>\n",
       " </g>\n",
       " <defs>\n",
       "  <clipPath id=\"p6e70d13af1\">\n",
       "   <rect x=\"7.2\" y=\"7.2\" width=\"337.209177\" height=\"339.59952\"/>\n",
       "  </clipPath>\n",
       " </defs>\n",
       "</svg>\n"
      ],
      "text/plain": [
       "<Figure size 1228.8x921.6 with 1 Axes>"
      ]
     },
     "metadata": {},
     "output_type": "display_data"
    }
   ],
   "source": [
    "gplot(G, node_tag=None, landscape=False);"
   ]
  }
 ],
 "metadata": {
  "language_info": {
   "name": "python"
  }
 },
 "nbformat": 4,
 "nbformat_minor": 5
}
