{
 "cells": [
  {
   "cell_type": "code",
   "execution_count": 1,
   "id": "df15567a-8402-403e-805c-b7b83f8aadc8",
   "metadata": {},
   "outputs": [],
   "source": [
    "%config InlineBackend.figure_formats = ['svg']\n",
    "from matplotlib import pyplot as plt\n",
    "plt.rcParams['svg.fonttype'] = 'none'"
   ]
  },
  {
   "cell_type": "code",
   "execution_count": 2,
   "id": "a0ab2186-9b34-4e8b-bfe1-e0e69f8f1c68",
   "metadata": {},
   "outputs": [],
   "source": [
    "from interarray.importer import load_repository\n",
    "from interarray.svg import svgplot"
   ]
  },
  {
   "cell_type": "code",
   "execution_count": 3,
   "id": "3b0adb4e-812c-4667-bf4f-bfb61873d9d7",
   "metadata": {},
   "outputs": [],
   "source": [
    "from interarray.plotting import gplot"
   ]
  },
  {
   "cell_type": "markdown",
   "id": "d411d942-c797-479a-9458-88b4a9bb05fa",
   "metadata": {},
   "source": [
    "`load_repository()` reads the `.osm.pbf` and `.yaml` locations distributed with **interarray** into a *namedtuple* of *networkx* graphs containing location data."
   ]
  },
  {
   "cell_type": "code",
   "execution_count": 4,
   "id": "aa55f6ee-013f-4ee0-a7c5-6879e4beb9ef",
   "metadata": {},
   "outputs": [],
   "source": [
    "locations = load_repository()"
   ]
  },
  {
   "cell_type": "code",
   "execution_count": 5,
   "id": "8da36249-3943-4460-ac67-9a9785edad85",
   "metadata": {},
   "outputs": [
    {
     "data": {
      "text/plain": [
       "(84,\n",
       " 'anholt, borkum, borkum2, borssele, butendiek, dantysk, doggerA, dudgeon, anglia, gode, gabbin, gwynt, hornsea, hornsea2w, horns, horns2, horns3, london, moray, moraywest, ormonde, race, rampion, rødsand2, thanet, triton, walney1, walney2, walneyext, sands, taylor, amalia, amrumbank, arkona, baltic2, bard, beatrice, belwind, binhainorthH2, bodhi, eagle, fecamp, gemini1, gemini2, glotech1, hohesee, jiaxing1, kfA, kfB, lillgrund, lincs, meerwind, merkur, nanpeng, neart, nordsee, northwind, nysted, robin, rudongdemo, rudongH10, rudongH6, rudongH8, sandbank, seagreen, shengsi2, sheringham, vejamate, wikinger, brieuc, nazaire, riffgat, humber, rough, bucht, nordseeost, kaskasi, albatros, luchterduinen, norther, mermaid, rentel, triborkum, galloper')"
      ]
     },
     "execution_count": 5,
     "metadata": {},
     "output_type": "execute_result"
    }
   ],
   "source": [
    "len(locations), ', '.join(locations._fields)"
   ]
  },
  {
   "cell_type": "code",
   "execution_count": 6,
   "id": "30f8a4fe-c38f-4591-a215-584ba4b263bd",
   "metadata": {},
   "outputs": [
    {
     "data": {
      "text/plain": [
       "networkx.classes.graph.Graph"
      ]
     },
     "execution_count": 6,
     "metadata": {},
     "output_type": "execute_result"
    }
   ],
   "source": [
    "type(locations.seagreen)"
   ]
  },
  {
   "cell_type": "code",
   "execution_count": 7,
   "id": "42f01ff7-7c80-4589-ae05-b6e43ce43b72",
   "metadata": {},
   "outputs": [
    {
     "data": {
      "image/svg+xml": [
       "<?xml version=\"1.0\" encoding=\"utf-8\" standalone=\"no\"?>\n",
       "<!DOCTYPE svg PUBLIC \"-//W3C//DTD SVG 1.1//EN\"\n",
       "  \"http://www.w3.org/Graphics/SVG/1.1/DTD/svg11.dtd\">\n",
       "<svg xmlns:xlink=\"http://www.w3.org/1999/xlink\" width=\"469.19952pt\" height=\"313.44574pt\" viewBox=\"0 0 469.19952 313.44574\" xmlns=\"http://www.w3.org/2000/svg\" version=\"1.1\">\n",
       " <metadata>\n",
       "  <rdf:RDF xmlns:dc=\"http://purl.org/dc/elements/1.1/\" xmlns:cc=\"http://creativecommons.org/ns#\" xmlns:rdf=\"http://www.w3.org/1999/02/22-rdf-syntax-ns#\">\n",
       "   <cc:Work>\n",
       "    <dc:type rdf:resource=\"http://purl.org/dc/dcmitype/StillImage\"/>\n",
       "    <dc:date>2024-11-27T19:42:42.819757</dc:date>\n",
       "    <dc:format>image/svg+xml</dc:format>\n",
       "    <dc:creator>\n",
       "     <cc:Agent>\n",
       "      <dc:title>Matplotlib v3.9.2, https://matplotlib.org/</dc:title>\n",
       "     </cc:Agent>\n",
       "    </dc:creator>\n",
       "   </cc:Work>\n",
       "  </rdf:RDF>\n",
       " </metadata>\n",
       " <defs>\n",
       "  <style type=\"text/css\">*{stroke-linejoin: round; stroke-linecap: butt}</style>\n",
       " </defs>\n",
       " <g id=\"figure_1\">\n",
       "  <g id=\"patch_1\">\n",
       "   <path d=\"M 0 313.44574 \n",
       "L 469.19952 313.44574 \n",
       "L 469.19952 0 \n",
       "L 0 0 \n",
       "L 0 313.44574 \n",
       "z\n",
       "\" style=\"fill: none\"/>\n",
       "  </g>\n",
       "  <g id=\"axes_1\">\n",
       "   <g id=\"patch_2\">\n",
       "    <path d=\"M 196.422837 27.181062 \n",
       "L 224.331049 13.297475 \n",
       "L 352.477261 16.821486 \n",
       "L 338.646632 55.590212 \n",
       "L 350.284894 98.336732 \n",
       "L 377.035959 38.643513 \n",
       "L 461.093545 282.308155 \n",
       "L 384.570077 286.240148 \n",
       "L 380.233497 248.108129 \n",
       "L 356.75499 245.463756 \n",
       "L 360.088789 287.613083 \n",
       "L 8.105975 305.650031 \n",
       "L 17.998312 7.795709 \n",
       "L 85.692353 9.461766 \n",
       "L 102.657092 34.725097 \n",
       "L 182.160484 87.942929 \n",
       "L 200.268876 80.84296 \n",
       "z\n",
       "\" clip-path=\"url(#pea722889fc)\" style=\"fill: #111111; stroke-dasharray: 1.85,0.8; stroke-dashoffset: 0; stroke: #c0c0c0; stroke-width: 0.5; stroke-linejoin: miter\"/>\n",
       "   </g>\n",
       "   <g id=\"PathCollection_1\">\n",
       "    <path d=\"M 190.054541 182.338079 \n",
       "L 194.297182 182.338079 \n",
       "L 194.297182 178.095438 \n",
       "L 190.054541 178.095438 \n",
       "z\n",
       "\" style=\"fill: #7cfc00\"/>\n",
       "   </g>\n",
       "   <g id=\"PathCollection_2\">\n",
       "    <defs>\n",
       "     <path id=\"C0_0_b2b62d0462\" d=\"M 0 2.12132 \n",
       "C 0.562581 2.12132 1.102195 1.897805 1.5 1.5 \n",
       "C 1.897805 1.102195 2.12132 0.562581 2.12132 -0 \n",
       "C 2.12132 -0.562581 1.897805 -1.102195 1.5 -1.5 \n",
       "C 1.102195 -1.897805 0.562581 -2.12132 0 -2.12132 \n",
       "C -0.562581 -2.12132 -1.102195 -1.897805 -1.5 -1.5 \n",
       "C -1.897805 -1.102195 -2.12132 -0.562581 -2.12132 0 \n",
       "C -2.12132 0.562581 -1.897805 1.102195 -1.5 1.5 \n",
       "C -1.102195 1.897805 -0.562581 2.12132 0 2.12132 \n",
       "z\n",
       "\"/>\n",
       "    </defs>\n",
       "    <use xlink:href=\"#C0_0_b2b62d0462\" x=\"207.34119\" y=\"140.785373\" style=\"fill: #9edae5\"/>\n",
       "    <use xlink:href=\"#C0_0_b2b62d0462\" x=\"352.165932\" y=\"134.308748\" style=\"fill: #9edae5\"/>\n",
       "    <use xlink:href=\"#C0_0_b2b62d0462\" x=\"335.830377\" y=\"247.556494\" style=\"fill: #9edae5\"/>\n",
       "    <use xlink:href=\"#C0_0_b2b62d0462\" x=\"163.637072\" y=\"162.164594\" style=\"fill: #9edae5\"/>\n",
       "    <use xlink:href=\"#C0_0_b2b62d0462\" x=\"396.384838\" y=\"137.071907\" style=\"fill: #9edae5\"/>\n",
       "    <use xlink:href=\"#C0_0_b2b62d0462\" x=\"423.533151\" y=\"228.473417\" style=\"fill: #9edae5\"/>\n",
       "    <use xlink:href=\"#C0_0_b2b62d0462\" x=\"263.486236\" y=\"274.465445\" style=\"fill: #9edae5\"/>\n",
       "    <use xlink:href=\"#C0_0_b2b62d0462\" x=\"222.588614\" y=\"76.887075\" style=\"fill: #9edae5\"/>\n",
       "    <use xlink:href=\"#C0_0_b2b62d0462\" x=\"351.854104\" y=\"158.641285\" style=\"fill: #9edae5\"/>\n",
       "    <use xlink:href=\"#C0_0_b2b62d0462\" x=\"48.157889\" y=\"138.10328\" style=\"fill: #9edae5\"/>\n",
       "    <use xlink:href=\"#C0_0_b2b62d0462\" x=\"118.959035\" y=\"256.603552\" style=\"fill: #9edae5\"/>\n",
       "    <use xlink:href=\"#C0_0_b2b62d0462\" x=\"237.31748\" y=\"61.614925\" style=\"fill: #9edae5\"/>\n",
       "    <use xlink:href=\"#C0_0_b2b62d0462\" x=\"264.334384\" y=\"201.412517\" style=\"fill: #9edae5\"/>\n",
       "    <use xlink:href=\"#C0_0_b2b62d0462\" x=\"19.433044\" y=\"120.02864\" style=\"fill: #9edae5\"/>\n",
       "    <use xlink:href=\"#C0_0_b2b62d0462\" x=\"31.427318\" y=\"299.531007\" style=\"fill: #9edae5\"/>\n",
       "    <use xlink:href=\"#C0_0_b2b62d0462\" x=\"310.092849\" y=\"34.093386\" style=\"fill: #9edae5\"/>\n",
       "    <use xlink:href=\"#C0_0_b2b62d0462\" x=\"17.101412\" y=\"290.36004\" style=\"fill: #9edae5\"/>\n",
       "    <use xlink:href=\"#C0_0_b2b62d0462\" x=\"394.89107\" y=\"185.84191\" style=\"fill: #9edae5\"/>\n",
       "    <use xlink:href=\"#C0_0_b2b62d0462\" x=\"63.826201\" y=\"24.93626\" style=\"fill: #9edae5\"/>\n",
       "    <use xlink:href=\"#C0_0_b2b62d0462\" x=\"367.1626\" y=\"94.632716\" style=\"fill: #9edae5\"/>\n",
       "    <use xlink:href=\"#C0_0_b2b62d0462\" x=\"422.698419\" y=\"276.957738\" style=\"fill: #9edae5\"/>\n",
       "    <use xlink:href=\"#C0_0_b2b62d0462\" x=\"393.867993\" y=\"258.804583\" style=\"fill: #9edae5\"/>\n",
       "    <use xlink:href=\"#C0_0_b2b62d0462\" x=\"135.517116\" y=\"95.394128\" style=\"fill: #9edae5\"/>\n",
       "    <use xlink:href=\"#C0_0_b2b62d0462\" x=\"395.429886\" y=\"113.529693\" style=\"fill: #9edae5\"/>\n",
       "    <use xlink:href=\"#C0_0_b2b62d0462\" x=\"321.715215\" y=\"237.76474\" style=\"fill: #9edae5\"/>\n",
       "    <use xlink:href=\"#C0_0_b2b62d0462\" x=\"192.967894\" y=\"156.705756\" style=\"fill: #9edae5\"/>\n",
       "    <use xlink:href=\"#C0_0_b2b62d0462\" x=\"308.807536\" y=\"131.355693\" style=\"fill: #9edae5\"/>\n",
       "    <use xlink:href=\"#C0_0_b2b62d0462\" x=\"350.519974\" y=\"255.852848\" style=\"fill: #9edae5\"/>\n",
       "    <use xlink:href=\"#C0_0_b2b62d0462\" x=\"177.605959\" y=\"195.544518\" style=\"fill: #9edae5\"/>\n",
       "    <use xlink:href=\"#C0_0_b2b62d0462\" x=\"395.187662\" y=\"161.499844\" style=\"fill: #9edae5\"/>\n",
       "    <use xlink:href=\"#C0_0_b2b62d0462\" x=\"77.163909\" y=\"132.171943\" style=\"fill: #9edae5\"/>\n",
       "    <use xlink:href=\"#C0_0_b2b62d0462\" x=\"162.359157\" y=\"284.582553\" style=\"fill: #9edae5\"/>\n",
       "    <use xlink:href=\"#C0_0_b2b62d0462\" x=\"251.691137\" y=\"70.711547\" style=\"fill: #9edae5\"/>\n",
       "    <use xlink:href=\"#C0_0_b2b62d0462\" x=\"380.586441\" y=\"176.785242\" style=\"fill: #9edae5\"/>\n",
       "    <use xlink:href=\"#C0_0_b2b62d0462\" x=\"19.046605\" y=\"144.424348\" style=\"fill: #9edae5\"/>\n",
       "    <use xlink:href=\"#C0_0_b2b62d0462\" x=\"130.29143\" y=\"268.825061\" style=\"fill: #9edae5\"/>\n",
       "    <use xlink:href=\"#C0_0_b2b62d0462\" x=\"223.306088\" y=\"28.176701\" style=\"fill: #9edae5\"/>\n",
       "    <use xlink:href=\"#C0_0_b2b62d0462\" x=\"409.266065\" y=\"194.942829\" style=\"fill: #9edae5\"/>\n",
       "    <use xlink:href=\"#C0_0_b2b62d0462\" x=\"91.82823\" y=\"116.780961\" style=\"fill: #9edae5\"/>\n",
       "    <use xlink:href=\"#C0_0_b2b62d0462\" x=\"381.837897\" y=\"79.437523\" style=\"fill: #9edae5\"/>\n",
       "    <use xlink:href=\"#C0_0_b2b62d0462\" x=\"437.309424\" y=\"261.730922\" style=\"fill: #9edae5\"/>\n",
       "    <use xlink:href=\"#C0_0_b2b62d0462\" x=\"336.883687\" y=\"198.172629\" style=\"fill: #9edae5\"/>\n",
       "    <use xlink:href=\"#C0_0_b2b62d0462\" x=\"135.883641\" y=\"71.061052\" style=\"fill: #9edae5\"/>\n",
       "    <use xlink:href=\"#C0_0_b2b62d0462\" x=\"295.056777\" y=\"73.565086\" style=\"fill: #9edae5\"/>\n",
       "    <use xlink:href=\"#C0_0_b2b62d0462\" x=\"393.593428\" y=\"283.18154\" style=\"fill: #9edae5\"/>\n",
       "    <use xlink:href=\"#C0_0_b2b62d0462\" x=\"437.590514\" y=\"237.38451\" style=\"fill: #9edae5\"/>\n",
       "    <use xlink:href=\"#C0_0_b2b62d0462\" x=\"149.911259\" y=\"104.337861\" style=\"fill: #9edae5\"/>\n",
       "    <use xlink:href=\"#C0_0_b2b62d0462\" x=\"323.487769\" y=\"139.824093\" style=\"fill: #9edae5\"/>\n",
       "    <use xlink:href=\"#C0_0_b2b62d0462\" x=\"307.19315\" y=\"253.09887\" style=\"fill: #9edae5\"/>\n",
       "    <use xlink:href=\"#C0_0_b2b62d0462\" x=\"149.697501\" y=\"175.712263\" style=\"fill: #9edae5\"/>\n",
       "    <use xlink:href=\"#C0_0_b2b62d0462\" x=\"280.113063\" y=\"113.193235\" style=\"fill: #9edae5\"/>\n",
       "    <use xlink:href=\"#C0_0_b2b62d0462\" x=\"335.867355\" y=\"271.1045\" style=\"fill: #9edae5\"/>\n",
       "    <use xlink:href=\"#C0_0_b2b62d0462\" x=\"222.008408\" y=\"125.500283\" style=\"fill: #9edae5\"/>\n",
       "    <use xlink:href=\"#C0_0_b2b62d0462\" x=\"366.616901\" y=\"166.903086\" style=\"fill: #9edae5\"/>\n",
       "    <use xlink:href=\"#C0_0_b2b62d0462\" x=\"338.694051\" y=\"52.243821\" style=\"fill: #9edae5\"/>\n",
       "    <use xlink:href=\"#C0_0_b2b62d0462\" x=\"147.717833\" y=\"274.849555\" style=\"fill: #9edae5\"/>\n",
       "    <use xlink:href=\"#C0_0_b2b62d0462\" x=\"222.880375\" y=\"52.514916\" style=\"fill: #9edae5\"/>\n",
       "    <use xlink:href=\"#C0_0_b2b62d0462\" x=\"308.129763\" y=\"180.071468\" style=\"fill: #9edae5\"/>\n",
       "    <use xlink:href=\"#C0_0_b2b62d0462\" x=\"63.202532\" y=\"122.187914\" style=\"fill: #9edae5\"/>\n",
       "    <use xlink:href=\"#C0_0_b2b62d0462\" x=\"103.830592\" y=\"296.254454\" style=\"fill: #9edae5\"/>\n",
       "    <use xlink:href=\"#C0_0_b2b62d0462\" x=\"252.016825\" y=\"46.364991\" style=\"fill: #9edae5\"/>\n",
       "    <use xlink:href=\"#C0_0_b2b62d0462\" x=\"365.935672\" y=\"191.980212\" style=\"fill: #9edae5\"/>\n",
       "    <use xlink:href=\"#C0_0_b2b62d0462\" x=\"33.586908\" y=\"80.427915\" style=\"fill: #9edae5\"/>\n",
       "    <use xlink:href=\"#C0_0_b2b62d0462\" x=\"280.721854\" y=\"64.478104\" style=\"fill: #9edae5\"/>\n",
       "    <use xlink:href=\"#C0_0_b2b62d0462\" x=\"408.281096\" y=\"267.893359\" style=\"fill: #9edae5\"/>\n",
       "    <use xlink:href=\"#C0_0_b2b62d0462\" x=\"408.97531\" y=\"219.251921\" style=\"fill: #9edae5\"/>\n",
       "    <use xlink:href=\"#C0_0_b2b62d0462\" x=\"178.938423\" y=\"98.3678\" style=\"fill: #9edae5\"/>\n",
       "    <use xlink:href=\"#C0_0_b2b62d0462\" x=\"323.826905\" y=\"91.780055\" style=\"fill: #9edae5\"/>\n",
       "    <use xlink:href=\"#C0_0_b2b62d0462\" x=\"278.378769\" y=\"234.970303\" style=\"fill: #9edae5\"/>\n",
       "    <use xlink:href=\"#C0_0_b2b62d0462\" x=\"193.314798\" y=\"107.369616\" style=\"fill: #9edae5\"/>\n",
       "    <use xlink:href=\"#C0_0_b2b62d0462\" x=\"294.434258\" y=\"122.353388\" style=\"fill: #9edae5\"/>\n",
       "    <use xlink:href=\"#C0_0_b2b62d0462\" x=\"321.528204\" y=\"262.11396\" style=\"fill: #9edae5\"/>\n",
       "    <use xlink:href=\"#C0_0_b2b62d0462\" x=\"195.752641\" y=\"201.881624\" style=\"fill: #9edae5\"/>\n",
       "    <use xlink:href=\"#C0_0_b2b62d0462\" x=\"265.063338\" y=\"152.794519\" style=\"fill: #9edae5\"/>\n",
       "    <use xlink:href=\"#C0_0_b2b62d0462\" x=\"292.532346\" y=\"268.296047\" style=\"fill: #9edae5\"/>\n",
       "    <use xlink:href=\"#C0_0_b2b62d0462\" x=\"306.733589\" y=\"277.313189\" style=\"fill: #9edae5\"/>\n",
       "    <use xlink:href=\"#C0_0_b2b62d0462\" x=\"251.321318\" y=\"95.020981\" style=\"fill: #9edae5\"/>\n",
       "    <use xlink:href=\"#C0_0_b2b62d0462\" x=\"293.661612\" y=\"170.814207\" style=\"fill: #9edae5\"/>\n",
       "    <use xlink:href=\"#C0_0_b2b62d0462\" x=\"91.900653\" y=\"141.858781\" style=\"fill: #9edae5\"/>\n",
       "    <use xlink:href=\"#C0_0_b2b62d0462\" x=\"132.950394\" y=\"289.971416\" style=\"fill: #9edae5\"/>\n",
       "    <use xlink:href=\"#C0_0_b2b62d0462\" x=\"237.538164\" y=\"37.179484\" style=\"fill: #9edae5\"/>\n",
       "    <use xlink:href=\"#C0_0_b2b62d0462\" x=\"249.997964\" y=\"192.347972\" style=\"fill: #9edae5\"/>\n",
       "    <use xlink:href=\"#C0_0_b2b62d0462\" x=\"77.807807\" y=\"83.306046\" style=\"fill: #9edae5\"/>\n",
       "    <use xlink:href=\"#C0_0_b2b62d0462\" x=\"60.165631\" y=\"292.639018\" style=\"fill: #9edae5\"/>\n",
       "    <use xlink:href=\"#C0_0_b2b62d0462\" x=\"295.69745\" y=\"24.990927\" style=\"fill: #9edae5\"/>\n",
       "    <use xlink:href=\"#C0_0_b2b62d0462\" x=\"351.688931\" y=\"208.014693\" style=\"fill: #9edae5\"/>\n",
       "    <use xlink:href=\"#C0_0_b2b62d0462\" x=\"20.747846\" y=\"22.750396\" style=\"fill: #9edae5\"/>\n",
       "    <use xlink:href=\"#C0_0_b2b62d0462\" x=\"309.418433\" y=\"82.62834\" style=\"fill: #9edae5\"/>\n",
       "    <use xlink:href=\"#C0_0_b2b62d0462\" x=\"293.128129\" y=\"219.6733\" style=\"fill: #9edae5\"/>\n",
       "    <use xlink:href=\"#C0_0_b2b62d0462\" x=\"394.995062\" y=\"234.565302\" style=\"fill: #9edae5\"/>\n",
       "    <use xlink:href=\"#C0_0_b2b62d0462\" x=\"138.535087\" y=\"116.249072\" style=\"fill: #9edae5\"/>\n",
       "    <use xlink:href=\"#C0_0_b2b62d0462\" x=\"352.455588\" y=\"109.962102\" style=\"fill: #9edae5\"/>\n",
       "    <use xlink:href=\"#C0_0_b2b62d0462\" x=\"307.475297\" y=\"228.754678\" style=\"fill: #9edae5\"/>\n",
       "    <use xlink:href=\"#C0_0_b2b62d0462\" x=\"180.862469\" y=\"144.249769\" style=\"fill: #9edae5\"/>\n",
       "    <use xlink:href=\"#C0_0_b2b62d0462\" x=\"265.769701\" y=\"104.18781\" style=\"fill: #9edae5\"/>\n",
       "    <use xlink:href=\"#C0_0_b2b62d0462\" x=\"350.162949\" y=\"280.204726\" style=\"fill: #9edae5\"/>\n",
       "    <use xlink:href=\"#C0_0_b2b62d0462\" x=\"236.657799\" y=\"110.215368\" style=\"fill: #9edae5\"/>\n",
       "    <use xlink:href=\"#C0_0_b2b62d0462\" x=\"410.005159\" y=\"146.308853\" style=\"fill: #9edae5\"/>\n",
       "    <use xlink:href=\"#C0_0_b2b62d0462\" x=\"120.173655\" y=\"159.268717\" style=\"fill: #9edae5\"/>\n",
       "    <use xlink:href=\"#C0_0_b2b62d0462\" x=\"205.287825\" y=\"286.76766\" style=\"fill: #9edae5\"/>\n",
       "    <use xlink:href=\"#C0_0_b2b62d0462\" x=\"237.032331\" y=\"85.923138\" style=\"fill: #9edae5\"/>\n",
       "    <use xlink:href=\"#C0_0_b2b62d0462\" x=\"264.421839\" y=\"176.386382\" style=\"fill: #9edae5\"/>\n",
       "    <use xlink:href=\"#C0_0_b2b62d0462\" x=\"33.435234\" y=\"153.443956\" style=\"fill: #9edae5\"/>\n",
       "    <use xlink:href=\"#C0_0_b2b62d0462\" x=\"89.583972\" y=\"287.19116\" style=\"fill: #9edae5\"/>\n",
       "    <use xlink:href=\"#C0_0_b2b62d0462\" x=\"266.300404\" y=\"55.409803\" style=\"fill: #9edae5\"/>\n",
       "    <use xlink:href=\"#C0_0_b2b62d0462\" x=\"423.534445\" y=\"203.927774\" style=\"fill: #9edae5\"/>\n",
       "    <use xlink:href=\"#C0_0_b2b62d0462\" x=\"20.408885\" y=\"47.02318\" style=\"fill: #9edae5\"/>\n",
       "    <use xlink:href=\"#C0_0_b2b62d0462\" x=\"324.472443\" y=\"43.059234\" style=\"fill: #9edae5\"/>\n",
       "    <use xlink:href=\"#C0_0_b2b62d0462\" x=\"451.198892\" y=\"271.45257\" style=\"fill: #9edae5\"/>\n",
       "    <use xlink:href=\"#C0_0_b2b62d0462\" x=\"379.872265\" y=\"225.396618\" style=\"fill: #9edae5\"/>\n",
       "    <use xlink:href=\"#C0_0_b2b62d0462\" x=\"107.147553\" y=\"52.816156\" style=\"fill: #9edae5\"/>\n",
       "    <use xlink:href=\"#C0_0_b2b62d0462\" x=\"338.545773\" y=\"100.219097\" style=\"fill: #9edae5\"/>\n",
       "    <use xlink:href=\"#C0_0_b2b62d0462\" x=\"292.704903\" y=\"244.056284\" style=\"fill: #9edae5\"/>\n",
       "    <use xlink:href=\"#C0_0_b2b62d0462\" x=\"408.639121\" y=\"243.590933\" style=\"fill: #9edae5\"/>\n",
       "   </g>\n",
       "  </g>\n",
       " </g>\n",
       " <defs>\n",
       "  <clipPath id=\"pea722889fc\">\n",
       "   <rect x=\"7.2\" y=\"7.2\" width=\"454.79952\" height=\"299.04574\"/>\n",
       "  </clipPath>\n",
       " </defs>\n",
       "</svg>\n"
      ],
      "text/plain": [
       "<Figure size 1228.8x921.6 with 1 Axes>"
      ]
     },
     "metadata": {},
     "output_type": "display_data"
    }
   ],
   "source": [
    "gplot(locations.seagreen);"
   ]
  },
  {
   "cell_type": "code",
   "execution_count": 7,
   "id": "75bbe9dd-7a0b-4f2f-9be5-ca6db9ea8a8f",
   "metadata": {},
   "outputs": [
    {
     "data": {
      "image/svg+xml": [
       "<svg xmlns=\"http://www.w3.org/2000/svg\" viewBox=\"0 0 1920 1283\"><style >polyline {stroke-width: 4} line {stroke-width: 4} .std {stroke: crimson} .del {stroke: darkcyan} .con {stroke: red} .cod {stroke: green} .coe {stroke: green; stroke-dasharray: 18 15} .ttt {stroke: red; stroke-dasharray: 18 15} .rog {stroke: yellow; stroke-dasharray: 25 5} .ext {stroke: darkcyan; stroke-dasharray: 18 15} .scf {stroke: gray; stroke-dasharray: 10 10} .dt {stroke-dasharray: 18 15; fill: none; stroke: darkorange}</style><defs ><circle stroke=\"none\" stroke-width=\"2\" id=\"wtg\" r=\"12\"/><rect stroke=\"none\" stroke-width=\"2\" id=\"oss\" width=\"21\" height=\"21\" fill=\"lawngreen\"/><circle stroke=\"orange\" stroke-opacity=\"0.3\" stroke-width=\"4\" id=\"dt\" r=\"23\" fill=\"none\"/></defs><g id=\"seagreen\"><path stroke=\"silver\" stroke-dasharray=\"15 7\" id=\"border\" d=\"M803 110 918 53 1444 67 1387 226 1435 402 1545 157 1890 1157 1576 1173 1558 1017 1462 1006 1475 1179 30 1253 71 30 349 37 418 141 745 359 819 330z\" fill-rule=\"evenodd\" fill=\"#111111\"/><g id=\"WTGgrp\"><g fill=\"#9edae5\"><use href=\"#wtg\" x=\"848\" y=\"576\"/><use href=\"#wtg\" x=\"1443\" y=\"549\"/><use href=\"#wtg\" x=\"1376\" y=\"1014\"/><use href=\"#wtg\" x=\"669\" y=\"664\"/><use href=\"#wtg\" x=\"1624\" y=\"561\"/><use href=\"#wtg\" x=\"1736\" y=\"936\"/><use href=\"#wtg\" x=\"1079\" y=\"1125\"/><use href=\"#wtg\" x=\"911\" y=\"314\"/><use href=\"#wtg\" x=\"1441\" y=\"649\"/><use href=\"#wtg\" x=\"194\" y=\"565\"/><use href=\"#wtg\" x=\"485\" y=\"1052\"/><use href=\"#wtg\" x=\"971\" y=\"251\"/><use href=\"#wtg\" x=\"1082\" y=\"825\"/><use href=\"#wtg\" x=\"77\" y=\"491\"/><use href=\"#wtg\" x=\"126\" y=\"1228\"/><use href=\"#wtg\" x=\"1270\" y=\"138\"/><use href=\"#wtg\" x=\"67\" y=\"1190\"/><use href=\"#wtg\" x=\"1618\" y=\"761\"/><use href=\"#wtg\" x=\"259\" y=\"100\"/><use href=\"#wtg\" x=\"1504\" y=\"387\"/><use href=\"#wtg\" x=\"1732\" y=\"1135\"/><use href=\"#wtg\" x=\"1614\" y=\"1061\"/><use href=\"#wtg\" x=\"553\" y=\"390\"/><use href=\"#wtg\" x=\"1620\" y=\"464\"/><use href=\"#wtg\" x=\"1318\" y=\"974\"/><use href=\"#wtg\" x=\"789\" y=\"641\"/><use href=\"#wtg\" x=\"1265\" y=\"537\"/><use href=\"#wtg\" x=\"1436\" y=\"1049\"/><use href=\"#wtg\" x=\"726\" y=\"801\"/><use href=\"#wtg\" x=\"1619\" y=\"661\"/><use href=\"#wtg\" x=\"314\" y=\"541\"/><use href=\"#wtg\" x=\"663\" y=\"1166\"/><use href=\"#wtg\" x=\"1030\" y=\"288\"/><use href=\"#wtg\" x=\"1559\" y=\"724\"/><use href=\"#wtg\" x=\"75\" y=\"591\"/><use href=\"#wtg\" x=\"532\" y=\"1102\"/><use href=\"#wtg\" x=\"914\" y=\"114\"/><use href=\"#wtg\" x=\"1677\" y=\"798\"/><use href=\"#wtg\" x=\"374\" y=\"477\"/><use href=\"#wtg\" x=\"1565\" y=\"324\"/><use href=\"#wtg\" x=\"1792\" y=\"1073\"/><use href=\"#wtg\" x=\"1380\" y=\"812\"/><use href=\"#wtg\" x=\"555\" y=\"290\"/><use href=\"#wtg\" x=\"1208\" y=\"300\"/><use href=\"#wtg\" x=\"1613\" y=\"1161\"/><use href=\"#wtg\" x=\"1793\" y=\"973\"/><use href=\"#wtg\" x=\"612\" y=\"426\"/><use href=\"#wtg\" x=\"1325\" y=\"572\"/><use href=\"#wtg\" x=\"1258\" y=\"1037\"/><use href=\"#wtg\" x=\"611\" y=\"719\"/><use href=\"#wtg\" x=\"1147\" y=\"463\"/><use href=\"#wtg\" x=\"1376\" y=\"1111\"/><use href=\"#wtg\" x=\"908\" y=\"513\"/><use href=\"#wtg\" x=\"1502\" y=\"683\"/><use href=\"#wtg\" x=\"1387\" y=\"212\"/><use href=\"#wtg\" x=\"603\" y=\"1127\"/><use href=\"#wtg\" x=\"912\" y=\"214\"/><use href=\"#wtg\" x=\"1262\" y=\"737\"/><use href=\"#wtg\" x=\"256\" y=\"500\"/><use href=\"#wtg\" x=\"423\" y=\"1214\"/><use href=\"#wtg\" x=\"1032\" y=\"188\"/><use href=\"#wtg\" x=\"1499\" y=\"786\"/><use href=\"#wtg\" x=\"135\" y=\"328\"/><use href=\"#wtg\" x=\"1149\" y=\"263\"/><use href=\"#wtg\" x=\"1673\" y=\"1098\"/><use href=\"#wtg\" x=\"1676\" y=\"898\"/><use href=\"#wtg\" x=\"731\" y=\"402\"/><use href=\"#wtg\" x=\"1326\" y=\"375\"/><use href=\"#wtg\" x=\"1140\" y=\"963\"/><use href=\"#wtg\" x=\"790\" y=\"439\"/><use href=\"#wtg\" x=\"1206\" y=\"500\"/><use href=\"#wtg\" x=\"1317\" y=\"1074\"/><use href=\"#wtg\" x=\"800\" y=\"827\"/><use href=\"#wtg\" x=\"1085\" y=\"625\"/><use href=\"#wtg\" x=\"1198\" y=\"1100\"/><use href=\"#wtg\" x=\"1256\" y=\"1137\"/><use href=\"#wtg\" x=\"1029\" y=\"388\"/><use href=\"#wtg\" x=\"1203\" y=\"699\"/><use href=\"#wtg\" x=\"374\" y=\"580\"/><use href=\"#wtg\" x=\"543\" y=\"1189\"/><use href=\"#wtg\" x=\"972\" y=\"151\"/><use href=\"#wtg\" x=\"1023\" y=\"788\"/><use href=\"#wtg\" x=\"316\" y=\"340\"/><use href=\"#wtg\" x=\"244\" y=\"1200\"/><use href=\"#wtg\" x=\"1211\" y=\"101\"/><use href=\"#wtg\" x=\"1441\" y=\"852\"/><use href=\"#wtg\" x=\"82\" y=\"91\"/><use href=\"#wtg\" x=\"1267\" y=\"337\"/><use href=\"#wtg\" x=\"1200\" y=\"900\"/><use href=\"#wtg\" x=\"1619\" y=\"961\"/><use href=\"#wtg\" x=\"566\" y=\"475\"/><use href=\"#wtg\" x=\"1444\" y=\"449\"/><use href=\"#wtg\" x=\"1259\" y=\"937\"/><use href=\"#wtg\" x=\"739\" y=\"590\"/><use href=\"#wtg\" x=\"1088\" y=\"426\"/><use href=\"#wtg\" x=\"1435\" y=\"1149\"/><use href=\"#wtg\" x=\"968\" y=\"451\"/><use href=\"#wtg\" x=\"1680\" y=\"599\"/><use href=\"#wtg\" x=\"490\" y=\"652\"/><use href=\"#wtg\" x=\"840\" y=\"1175\"/><use href=\"#wtg\" x=\"970\" y=\"351\"/><use href=\"#wtg\" x=\"1082\" y=\"722\"/><use href=\"#wtg\" x=\"134\" y=\"628\"/><use href=\"#wtg\" x=\"365\" y=\"1177\"/><use href=\"#wtg\" x=\"1090\" y=\"225\"/><use href=\"#wtg\" x=\"1736\" y=\"835\"/><use href=\"#wtg\" x=\"81\" y=\"191\"/><use href=\"#wtg\" x=\"1329\" y=\"175\"/><use href=\"#wtg\" x=\"1849\" y=\"1113\"/><use href=\"#wtg\" x=\"1556\" y=\"923\"/><use href=\"#wtg\" x=\"437\" y=\"215\"/><use href=\"#wtg\" x=\"1387\" y=\"409\"/><use href=\"#wtg\" x=\"1199\" y=\"1000\"/><use href=\"#wtg\" x=\"1675\" y=\"998\"/></g></g><g id=\"OSSgrp\"><use href=\"#oss\" x=\"775.5\" y=\"727.5\"/></g><g id=\"DTgrp\"/></g></svg>"
      ],
      "text/plain": [
       "<interarray.svg.SvgRepr at 0x21b1f36b760>"
      ]
     },
     "execution_count": 7,
     "metadata": {},
     "output_type": "execute_result"
    }
   ],
   "source": [
    "svgplot(locations.seagreen)"
   ]
  },
  {
   "cell_type": "code",
   "execution_count": 9,
   "id": "5232deec-f379-4f12-bad2-9134d6000a66",
   "metadata": {},
   "outputs": [
    {
     "name": "stdout",
     "output_type": "stream",
     "text": [
      "anholt : Anholt -> 1 , 111\n",
      "borkum : Borkum Riffgrund 1 -> 1 , 78\n",
      "borkum2 : Borkum Riffgrund 2 -> 1 , 52\n",
      "borssele : Borssele -> 2 , 173\n",
      "butendiek : Butendiek -> 1 , 80\n",
      "dantysk : DanTysk -> 1 , 80\n",
      "doggerA : Dogger Bank A -> 1 , 95\n",
      "dudgeon : Dudgeon -> 1 , 67\n",
      "anglia : East Anglia ONE -> 1 , 102\n",
      "gode : Gode Wind 1 -> 1 , 55\n",
      "gabbin : Greater Gabbard Inner -> 1 , 102\n",
      "gwynt : Gwynt y Mor -> 2 , 160\n",
      "hornsea : Hornsea One -> 3 , 174\n",
      "hornsea2w : Hornsea Two West -> 1 , 110\n",
      "horns : Horns Rev 1 -> 1 , 80\n",
      "horns2 : Horns Rev 2 -> 1 , 91\n",
      "horns3 : Horns Rev 3 -> 1 , 49\n",
      "london : London Array -> 2 , 175\n",
      "moray : Moray East -> 3 , 100\n",
      "moraywest : Moray West -> 2 , 60\n",
      "ormonde : Ormonde -> 1 , 30\n",
      "race : Race Bank -> 2 , 91\n",
      "rampion : Rampion -> 1 , 116\n",
      "rødsand2 : Rødsand 2 -> 1 , 90\n",
      "thanet : Thanet -> 1 , 100\n",
      "triton : Triton Knoll -> 2 , 90\n",
      "walney1 : Walney 1 -> 1 , 51\n",
      "walney2 : Walney 2 -> 1 , 51\n",
      "walneyext : Walney Extension -> 2 , 87\n",
      "sands : West of Duddon Sands -> 1 , 108\n",
      "taylor : Taylor-2023 -> 2 , 122\n",
      "amalia : Princess Amalia -> 1 , 60\n",
      "amrumbank : Amrumbank West -> 1 , 80\n",
      "arkona : Arkona -> 1 , 60\n",
      "baltic2 : Baltic 2 -> 1 , 80\n",
      "bard : BARD Offshore 1 -> 1 , 80\n",
      "beatrice : Beatrice -> 2 , 84\n",
      "belwind : Belwind -> 1 , 55\n",
      "binhainorthH2 : SPIC Binhai North H2 -> 1 , 100\n",
      "bodhi : Laoting Bodhi Island -> 1 , 75\n",
      "eagle : Baltic Eagle -> 1 , 50\n",
      "fecamp : Fecamp -> 1 , 71\n",
      "gemini1 : Gemini 1 -> 1 , 75\n",
      "gemini2 : Gemini 2 -> 1 , 75\n",
      "glotech1 : Global Tech 1 -> 1 , 80\n",
      "hohesee : Hohe See -> 1 , 71\n",
      "jiaxing1 : Zhejiang Jiaxing 1 -> 1 , 74\n",
      "kfA : Kriegers Flak A -> 1 , 24\n",
      "kfB : Kriegers Flak B -> 1 , 48\n",
      "lillgrund : Lillgrund -> 1 , 48\n",
      "lincs : Lincs -> 1 , 75\n",
      "meerwind : Meerwind -> 1 , 80\n",
      "merkur : Merkur -> 1 , 66\n",
      "nanpeng : CECEP Yangjiang Nanpeng Island -> 1 , 55\n",
      "neart : Neart na Gaoithe -> 2 , 54\n",
      "nordsee : Nordsee One -> 1 , 54\n",
      "northwind : Northwind -> 1 , 72\n",
      "nysted : Nysted -> 1 , 72\n",
      "robin : Robin Rigg -> 1 , 60\n",
      "rudongdemo : CGN Rudong Demonstration -> 1 , 38\n",
      "rudongH10 : Rudong H10 -> 1 , 100\n",
      "rudongH6 : Rudong H6 -> 1 , 100\n",
      "rudongH8 : Rudong H8 -> 1 , 65\n",
      "sandbank : Sandbank -> 1 , 72\n",
      "seagreen : Seagreen -> 1 , 114\n",
      "shengsi2 : Shengsi 2 -> 1 , 63\n",
      "sheringham : Sheringham Shoal -> 2 , 88\n",
      "vejamate : Veja Mate -> 1 , 67\n",
      "wikinger : Wikinger -> 1 , 70\n",
      "brieuc : Saint-Brieuc -> 1 , 62\n",
      "nazaire : Saint-Nazaire -> 1 , 80\n",
      "riffgat : Riffgat -> 1 , 30\n",
      "humber : Humber Gateway -> 1 , 73\n",
      "rough : Westermost Rough -> 1 , 35\n",
      "bucht : Deutsche Bucht -> 1 , 31\n",
      "nordseeost : Nordsee Ost -> 1 , 48\n",
      "kaskasi : Kaskasi -> 1 , 38\n",
      "albatros : Albatros -> 1 , 16\n",
      "luchterduinen : Luchterduinen -> 1 , 43\n",
      "norther : Norther -> 1 , 44\n",
      "mermaid : Mermaid -> 1 , 27\n",
      "rentel : Rentel -> 1 , 42\n",
      "triborkum : Trianel Windpark Borkum -> 1 , 72\n",
      "galloper : Galloper Inner -> 1 , 38\n"
     ]
    }
   ],
   "source": [
    "for L in locations:\n",
    "    print(L.graph['handle'], ':', L.graph['name'], '->',\n",
    "          L.graph['R'], ',', L.graph['T'])"
   ]
  }
 ],
 "metadata": {
  "language_info": {
   "name": "python"
  }
 },
 "nbformat": 4,
 "nbformat_minor": 5
}
