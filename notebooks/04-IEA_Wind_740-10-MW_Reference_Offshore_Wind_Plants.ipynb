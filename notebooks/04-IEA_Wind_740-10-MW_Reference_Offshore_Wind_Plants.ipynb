{
 "cells": [
  {
   "cell_type": "code",
   "execution_count": 1,
   "id": "8fed08df-0518-4d11-b4b8-30a52025d1f2",
   "metadata": {},
   "outputs": [],
   "source": [
    "from pathlib import Path\n",
    "import numpy as np"
   ]
  },
  {
   "cell_type": "code",
   "execution_count": 2,
   "id": "adc6a613-4655-4a93-85b6-c239746c6766",
   "metadata": {},
   "outputs": [],
   "source": [
    "import yaml\n",
    "# pip install pyyaml-include\n",
    "from yamlinclude import YamlIncludeConstructor"
   ]
  },
  {
   "cell_type": "code",
   "execution_count": 3,
   "id": "319cf8b1-4d8b-46d1-9140-ec0899602cd4",
   "metadata": {},
   "outputs": [],
   "source": [
    "from matplotlib import pyplot as plt\n",
    "plt.style.use('jupyter_dark')"
   ]
  },
  {
   "cell_type": "code",
   "execution_count": 4,
   "id": "c22e3ccf-eb46-4ba2-9ba8-6898e88b9929",
   "metadata": {},
   "outputs": [],
   "source": [
    "from pyomo import environ as pyo"
   ]
  },
  {
   "cell_type": "code",
   "execution_count": 5,
   "id": "c42a3703-113b-4aee-8dfb-a0b3b54663e6",
   "metadata": {},
   "outputs": [],
   "source": [
    "from interarray.interarraylib import L_from_site, as_normalized, G_from_S\n",
    "from interarray.svg import svgplot\n",
    "from interarray.plotting import gplot\n",
    "from interarray.mesh import make_planar_embedding\n",
    "from interarray.pathfinding import PathFinder\n",
    "from interarray.interface import assign_cables\n",
    "from interarray.MILP import pyomo as omo\n",
    "from interarray.baselines.hgs import iterative_hgs_cvrp"
   ]
  },
  {
   "cell_type": "markdown",
   "id": "8bd117fb-4c57-4dbd-acd7-854855e5b61b",
   "metadata": {},
   "source": [
    "## Load layouts from files"
   ]
  },
  {
   "cell_type": "code",
   "execution_count": 6,
   "id": "292d1e2a-c724-4647-afce-b255306c39cc",
   "metadata": {},
   "outputs": [],
   "source": [
    "# Wind farms stored according to the windIO format\n",
    "# https://windio.readthedocs.io/en/latest/\n",
    "\n",
    "yaml.add_constructor(\n",
    "    \"!include\", YamlIncludeConstructor(base_dir='.'))\n",
    "\n",
    "def load_windIO(filepath):\n",
    "    fpath = Path(filepath)\n",
    "    with open(fpath, 'r') as f:\n",
    "        system = yaml.full_load(f)\n",
    "    coords = (system['wind_farm']['layouts']['initial_layout']\n",
    "              ['coordinates'])\n",
    "    terminalC = np.c_[coords['x'], coords['y']]\n",
    "    coords = system['wind_farm']['electrical_substations']['coordinates']\n",
    "    rootC = np.c_[coords['x'], coords['y']]\n",
    "    coords = system['site']['boundaries']['polygons'][0]\n",
    "    borderC = np.c_[coords['x'], coords['y']]\n",
    "    T = terminalC.shape[0]\n",
    "    R = rootC.shape[0]\n",
    "    name_tokens = fpath.stem.split('_')\n",
    "    return L_from_site(\n",
    "        R=R, T=T,\n",
    "        VertexC=np.vstack((terminalC, borderC, rootC)),\n",
    "        border=np.arange(T, T + borderC.shape[0]),\n",
    "        name=' '.join(name_tokens),\n",
    "        handle=(f'{name_tokens[0].lower()}_'\n",
    "                f'{name_tokens[1][:4].lower()}_'\n",
    "                f'{name_tokens[2][:3].lower()}'),\n",
    "    )"
   ]
  },
  {
   "cell_type": "code",
   "execution_count": 7,
   "id": "b3be8b29-fd2f-4e35-a035-11fac33eaf99",
   "metadata": {},
   "outputs": [],
   "source": [
    "L_reg = load_windIO('IEA37_Borssele_Regular_System.yaml')"
   ]
  },
  {
   "cell_type": "code",
   "execution_count": 8,
   "id": "fde63085-0ae7-4370-9127-89ca22e5a88a",
   "metadata": {},
   "outputs": [],
   "source": [
    "L_irr = load_windIO('IEA37_Borssele_Irregular_System.yaml')"
   ]
  },
  {
   "cell_type": "code",
   "execution_count": 9,
   "id": "17674636-0a13-4963-9d79-afdf262fc1e7",
   "metadata": {},
   "outputs": [
    {
     "data": {
      "image/svg+xml": [
       "<svg xmlns=\"http://www.w3.org/2000/svg\" viewBox=\"0 0 1920 1080\"><style >polyline {stroke-width: 4} line {stroke-width: 4} .std {stroke: crimson} .del {stroke: darkcyan} .con {stroke: red} .cod {stroke: green} .coe {stroke: green; stroke-dasharray: 18 15} .ttt {stroke: red; stroke-dasharray: 18 15} .rog {stroke: yellow; stroke-dasharray: 25 5} .ext {stroke: darkcyan; stroke-dasharray: 18 15} .scf {stroke: gray; stroke-dasharray: 10 10} .dt {stroke-dasharray: 18 15; fill: none; stroke: darkorange}</style><defs ><circle stroke=\"none\" stroke-width=\"2\" id=\"wtg\" r=\"12\"/><rect stroke=\"none\" stroke-width=\"2\" id=\"oss\" width=\"21\" height=\"21\" fill=\"lawngreen\"/><circle stroke=\"orange\" stroke-opacity=\"0.3\" stroke-width=\"4\" id=\"dt\" r=\"23\" fill=\"none\"/></defs><g id=\"iea37_bors_reg\"><path stroke=\"silver\" stroke-dasharray=\"15 7\" id=\"border\" d=\"M30 269 785 30 652 298 929 427 839 1050 256 484z\" fill-rule=\"evenodd\" fill=\"#111\"/><g id=\"WTGgrp\"><g fill=\"#9edae5\"><use href=\"#wtg\" x=\"825\" y=\"1028\"/><use href=\"#wtg\" x=\"767\" y=\"972\"/><use href=\"#wtg\" x=\"838\" y=\"935\"/><use href=\"#wtg\" x=\"780\" y=\"879\"/><use href=\"#wtg\" x=\"709\" y=\"917\"/><use href=\"#wtg\" x=\"652\" y=\"861\"/><use href=\"#wtg\" x=\"851\" y=\"841\"/><use href=\"#wtg\" x=\"793\" y=\"785\"/><use href=\"#wtg\" x=\"722\" y=\"823\"/><use href=\"#wtg\" x=\"665\" y=\"767\"/><use href=\"#wtg\" x=\"594\" y=\"805\"/><use href=\"#wtg\" x=\"536\" y=\"749\"/><use href=\"#wtg\" x=\"864\" y=\"748\"/><use href=\"#wtg\" x=\"807\" y=\"692\"/><use href=\"#wtg\" x=\"736\" y=\"730\"/><use href=\"#wtg\" x=\"678\" y=\"674\"/><use href=\"#wtg\" x=\"607\" y=\"711\"/><use href=\"#wtg\" x=\"549\" y=\"655\"/><use href=\"#wtg\" x=\"478\" y=\"693\"/><use href=\"#wtg\" x=\"421\" y=\"637\"/><use href=\"#wtg\" x=\"877\" y=\"654\"/><use href=\"#wtg\" x=\"820\" y=\"598\"/><use href=\"#wtg\" x=\"749\" y=\"636\"/><use href=\"#wtg\" x=\"691\" y=\"580\"/><use href=\"#wtg\" x=\"620\" y=\"618\"/><use href=\"#wtg\" x=\"562\" y=\"562\"/><use href=\"#wtg\" x=\"491\" y=\"600\"/><use href=\"#wtg\" x=\"434\" y=\"544\"/><use href=\"#wtg\" x=\"363\" y=\"582\"/><use href=\"#wtg\" x=\"305\" y=\"526\"/><use href=\"#wtg\" x=\"891\" y=\"561\"/><use href=\"#wtg\" x=\"833\" y=\"505\"/><use href=\"#wtg\" x=\"762\" y=\"543\"/><use href=\"#wtg\" x=\"704\" y=\"487\"/><use href=\"#wtg\" x=\"633\" y=\"525\"/><use href=\"#wtg\" x=\"576\" y=\"469\"/><use href=\"#wtg\" x=\"505\" y=\"506\"/><use href=\"#wtg\" x=\"447\" y=\"450\"/><use href=\"#wtg\" x=\"376\" y=\"488\"/><use href=\"#wtg\" x=\"318\" y=\"432\"/><use href=\"#wtg\" x=\"247\" y=\"470\"/><use href=\"#wtg\" x=\"189\" y=\"414\"/><use href=\"#wtg\" x=\"904\" y=\"467\"/><use href=\"#wtg\" x=\"846\" y=\"411\"/><use href=\"#wtg\" x=\"775\" y=\"449\"/><use href=\"#wtg\" x=\"717\" y=\"393\"/><use href=\"#wtg\" x=\"646\" y=\"431\"/><use href=\"#wtg\" x=\"589\" y=\"375\"/><use href=\"#wtg\" x=\"518\" y=\"413\"/><use href=\"#wtg\" x=\"460\" y=\"357\"/><use href=\"#wtg\" x=\"389\" y=\"395\"/><use href=\"#wtg\" x=\"331\" y=\"339\"/><use href=\"#wtg\" x=\"260\" y=\"377\"/><use href=\"#wtg\" x=\"203\" y=\"321\"/><use href=\"#wtg\" x=\"132\" y=\"359\"/><use href=\"#wtg\" x=\"74\" y=\"303\"/><use href=\"#wtg\" x=\"660\" y=\"338\"/><use href=\"#wtg\" x=\"602\" y=\"282\"/><use href=\"#wtg\" x=\"531\" y=\"319\"/><use href=\"#wtg\" x=\"473\" y=\"263\"/><use href=\"#wtg\" x=\"402\" y=\"301\"/><use href=\"#wtg\" x=\"344\" y=\"245\"/><use href=\"#wtg\" x=\"274\" y=\"283\"/><use href=\"#wtg\" x=\"216\" y=\"227\"/><use href=\"#wtg\" x=\"145\" y=\"265\"/><use href=\"#wtg\" x=\"673\" y=\"244\"/><use href=\"#wtg\" x=\"615\" y=\"188\"/><use href=\"#wtg\" x=\"544\" y=\"226\"/><use href=\"#wtg\" x=\"486\" y=\"170\"/><use href=\"#wtg\" x=\"415\" y=\"208\"/><use href=\"#wtg\" x=\"287\" y=\"190\"/><use href=\"#wtg\" x=\"686\" y=\"151\"/><use href=\"#wtg\" x=\"628\" y=\"95\"/><use href=\"#wtg\" x=\"557\" y=\"133\"/></g></g><g id=\"OSSgrp\"><use href=\"#oss\" x=\"655.5\" y=\"346.5\"/></g><g id=\"DTgrp\"/></g></svg>"
      ],
      "text/plain": [
       "<interarray.svg.SvgRepr at 0x14b18c691b0>"
      ]
     },
     "execution_count": 9,
     "metadata": {},
     "output_type": "execute_result"
    }
   ],
   "source": [
    "svgplot(L_reg)"
   ]
  },
  {
   "cell_type": "code",
   "execution_count": 10,
   "id": "bc69e318-715a-4776-bb22-dec5e8a7282f",
   "metadata": {},
   "outputs": [
    {
     "data": {
      "image/svg+xml": [
       "<svg xmlns=\"http://www.w3.org/2000/svg\" viewBox=\"0 0 1920 1080\"><style >polyline {stroke-width: 4} line {stroke-width: 4} .std {stroke: crimson} .del {stroke: darkcyan} .con {stroke: red} .cod {stroke: green} .coe {stroke: green; stroke-dasharray: 18 15} .ttt {stroke: red; stroke-dasharray: 18 15} .rog {stroke: yellow; stroke-dasharray: 25 5} .ext {stroke: darkcyan; stroke-dasharray: 18 15} .scf {stroke: gray; stroke-dasharray: 10 10} .dt {stroke-dasharray: 18 15; fill: none; stroke: darkorange}</style><defs ><circle stroke=\"none\" stroke-width=\"2\" id=\"wtg\" r=\"12\"/><rect stroke=\"none\" stroke-width=\"2\" id=\"oss\" width=\"21\" height=\"21\" fill=\"lawngreen\"/><circle stroke=\"orange\" stroke-opacity=\"0.3\" stroke-width=\"4\" id=\"dt\" r=\"23\" fill=\"none\"/></defs><g id=\"iea37_bors_irr\"><path stroke=\"silver\" stroke-dasharray=\"15 7\" id=\"border\" d=\"M30 269 785 30 652 298 929 427 839 1050 256 484z\" fill-rule=\"evenodd\" fill=\"#111\"/><g id=\"WTGgrp\"><g fill=\"#9edae5\"><use href=\"#wtg\" x=\"839\" y=\"1050\"/><use href=\"#wtg\" x=\"491\" y=\"712\"/><use href=\"#wtg\" x=\"917\" y=\"510\"/><use href=\"#wtg\" x=\"878\" y=\"776\"/><use href=\"#wtg\" x=\"628\" y=\"845\"/><use href=\"#wtg\" x=\"74\" y=\"310\"/><use href=\"#wtg\" x=\"333\" y=\"559\"/><use href=\"#wtg\" x=\"911\" y=\"550\"/><use href=\"#wtg\" x=\"923\" y=\"468\"/><use href=\"#wtg\" x=\"49\" y=\"287\"/><use href=\"#wtg\" x=\"150\" y=\"232\"/><use href=\"#wtg\" x=\"404\" y=\"151\"/><use href=\"#wtg\" x=\"885\" y=\"727\"/><use href=\"#wtg\" x=\"163\" y=\"396\"/><use href=\"#wtg\" x=\"132\" y=\"366\"/><use href=\"#wtg\" x=\"871\" y=\"828\"/><use href=\"#wtg\" x=\"347\" y=\"169\"/><use href=\"#wtg\" x=\"286\" y=\"189\"/><use href=\"#wtg\" x=\"459\" y=\"134\"/><use href=\"#wtg\" x=\"30\" y=\"269\"/><use href=\"#wtg\" x=\"582\" y=\"800\"/><use href=\"#wtg\" x=\"863\" y=\"885\"/><use href=\"#wtg\" x=\"675\" y=\"890\"/><use href=\"#wtg\" x=\"898\" y=\"635\"/><use href=\"#wtg\" x=\"220\" y=\"209\"/><use href=\"#wtg\" x=\"886\" y=\"407\"/><use href=\"#wtg\" x=\"195\" y=\"426\"/><use href=\"#wtg\" x=\"605\" y=\"88\"/><use href=\"#wtg\" x=\"569\" y=\"369\"/><use href=\"#wtg\" x=\"421\" y=\"258\"/><use href=\"#wtg\" x=\"297\" y=\"523\"/><use href=\"#wtg\" x=\"229\" y=\"458\"/><use href=\"#wtg\" x=\"103\" y=\"338\"/><use href=\"#wtg\" x=\"765\" y=\"534\"/><use href=\"#wtg\" x=\"536\" y=\"755\"/><use href=\"#wtg\" x=\"371\" y=\"595\"/><use href=\"#wtg\" x=\"409\" y=\"632\"/><use href=\"#wtg\" x=\"648\" y=\"717\"/><use href=\"#wtg\" x=\"653\" y=\"72\"/><use href=\"#wtg\" x=\"611\" y=\"432\"/><use href=\"#wtg\" x=\"765\" y=\"351\"/><use href=\"#wtg\" x=\"674\" y=\"491\"/><use href=\"#wtg\" x=\"929\" y=\"427\"/><use href=\"#wtg\" x=\"905\" y=\"592\"/><use href=\"#wtg\" x=\"732\" y=\"921\"/><use href=\"#wtg\" x=\"892\" y=\"680\"/><use href=\"#wtg\" x=\"759\" y=\"972\"/><use href=\"#wtg\" x=\"704\" y=\"56\"/><use href=\"#wtg\" x=\"785\" y=\"30\"/><use href=\"#wtg\" x=\"481\" y=\"479\"/><use href=\"#wtg\" x=\"807\" y=\"1019\"/><use href=\"#wtg\" x=\"678\" y=\"611\"/><use href=\"#wtg\" x=\"556\" y=\"103\"/><use href=\"#wtg\" x=\"481\" y=\"327\"/><use href=\"#wtg\" x=\"411\" y=\"427\"/><use href=\"#wtg\" x=\"711\" y=\"326\"/><use href=\"#wtg\" x=\"262\" y=\"490\"/><use href=\"#wtg\" x=\"807\" y=\"370\"/><use href=\"#wtg\" x=\"755\" y=\"90\"/><use href=\"#wtg\" x=\"508\" y=\"118\"/><use href=\"#wtg\" x=\"557\" y=\"242\"/><use href=\"#wtg\" x=\"727\" y=\"146\"/><use href=\"#wtg\" x=\"449\" y=\"672\"/><use href=\"#wtg\" x=\"533\" y=\"549\"/><use href=\"#wtg\" x=\"700\" y=\"200\"/><use href=\"#wtg\" x=\"753\" y=\"40\"/><use href=\"#wtg\" x=\"853\" y=\"954\"/><use href=\"#wtg\" x=\"739\" y=\"794\"/><use href=\"#wtg\" x=\"279\" y=\"294\"/><use href=\"#wtg\" x=\"574\" y=\"616\"/><use href=\"#wtg\" x=\"752\" y=\"671\"/><use href=\"#wtg\" x=\"666\" y=\"269\"/><use href=\"#wtg\" x=\"846\" y=\"388\"/><use href=\"#wtg\" x=\"344\" y=\"359\"/></g></g><g id=\"OSSgrp\"><use href=\"#oss\" x=\"655.5\" y=\"346.5\"/></g><g id=\"DTgrp\"/></g></svg>"
      ],
      "text/plain": [
       "<interarray.svg.SvgRepr at 0x14b18c69030>"
      ]
     },
     "execution_count": 10,
     "metadata": {},
     "output_type": "execute_result"
    }
   ],
   "source": [
    "svgplot(L_irr)"
   ]
  },
  {
   "cell_type": "markdown",
   "id": "052bf2b7-b9e4-49d2-8ef1-d18ddddf110f",
   "metadata": {},
   "source": [
    "## Additional design parameters"
   ]
  },
  {
   "cell_type": "code",
   "execution_count": 11,
   "id": "e77b1e22-4de5-4ea7-ab85-d27e63f1a263",
   "metadata": {},
   "outputs": [],
   "source": [
    "cable_costs = [206, 287, 406]  # [€/m] Costs per distance for each cable type\n",
    "turbines_per_cable = [3, 5, 7]"
   ]
  },
  {
   "cell_type": "code",
   "execution_count": 12,
   "id": "2c76b625-ff08-48bd-8146-2b7272162160",
   "metadata": {},
   "outputs": [],
   "source": [
    "cables = [(None, capacity, cost) for capacity, cost in zip(turbines_per_cable, cable_costs)]\n",
    "capacity = max(turbines_per_cable)"
   ]
  },
  {
   "cell_type": "markdown",
   "id": "5d38a18d-ab5e-4b03-ae74-9ccb4dedbe07",
   "metadata": {},
   "source": [
    "## Choose solver"
   ]
  },
  {
   "cell_type": "code",
   "execution_count": 13,
   "id": "60219b60-4d12-4c22-91fa-e4466f21cccf",
   "metadata": {},
   "outputs": [
    {
     "data": {
      "text/plain": [
       "True"
      ]
     },
     "execution_count": 13,
     "metadata": {},
     "output_type": "execute_result"
    }
   ],
   "source": [
    "solver = pyo.SolverFactory('gurobi', solver_io='python')\n",
    "solver.available()"
   ]
  },
  {
   "cell_type": "code",
   "execution_count": 14,
   "id": "c0a0b8cb-a053-4d9a-a05b-cbd88c31836d",
   "metadata": {},
   "outputs": [],
   "source": [
    "solver.options.update(dict(\n",
    "    mipgap=0.005,  # 0.5 %\n",
    "    timelimit=7,  # [s]\n",
    "    mipfocus=1,  # focus on producing solutions\n",
    "))"
   ]
  },
  {
   "cell_type": "markdown",
   "id": "86999bf7-1ec1-4d4c-92bd-cbff05b08b32",
   "metadata": {},
   "source": [
    "## Regular layout"
   ]
  },
  {
   "cell_type": "code",
   "execution_count": 15,
   "id": "bc900974-8c9e-4139-87b9-6da3610230be",
   "metadata": {},
   "outputs": [],
   "source": [
    "P, A = make_planar_embedding(L_reg)"
   ]
  },
  {
   "cell_type": "code",
   "execution_count": 16,
   "id": "6eb87206-7987-45fe-84a8-48e7760391d6",
   "metadata": {},
   "outputs": [],
   "source": [
    "# This meta-heuristic call is iterative and the time_limit applies\n",
    "# to each iteration. About 97% of instances use a single iteration.\n",
    "S_warm = iterative_hgs_cvrp(as_normalized(A), capacity=capacity, time_limit=3)"
   ]
  },
  {
   "cell_type": "code",
   "execution_count": 17,
   "id": "6db7710c-8ef6-4bd6-ab6f-6acc7d384c4f",
   "metadata": {},
   "outputs": [],
   "source": [
    "m = omo.make_min_length_model(\n",
    "    A, capacity,\n",
    "    gateXings_constraint=False,\n",
    "    branching=True,\n",
    "    gates_limit=False\n",
    ")\n",
    "omo.warmup_model(m, S_warm);"
   ]
  },
  {
   "cell_type": "code",
   "execution_count": 18,
   "id": "c08aac4f-57a2-4604-9615-9cc05c8cf05c",
   "metadata": {},
   "outputs": [
    {
     "name": "stdout",
     "output_type": "stream",
     "text": [
      "Solving \"IEA37 Borssele Regular System\", capacity = 7\n",
      "\n",
      "Set parameter OutputFlag to value 1\n",
      "Set parameter MIPGap to value 0.005\n",
      "Set parameter TimeLimit to value 7\n",
      "Set parameter MIPFocus to value 1\n",
      "Gurobi Optimizer version 12.0.0 build v12.0.0rc1 (win64 - Windows 10.0 (19045.2))\n",
      "\n",
      "CPU model: 11th Gen Intel(R) Core(TM) i7-11850H @ 2.50GHz, instruction set [SSE2|AVX|AVX2|AVX512]\n",
      "Thread count: 8 physical cores, 16 logical processors, using up to 16 threads\n",
      "\n",
      "Non-default parameters:\n",
      "TimeLimit  7\n",
      "MIPGap  0.005\n",
      "MIPFocus  1\n",
      "\n",
      "Academic license 937681 - for non-commercial use only - registered to ma___@dtu.dk\n",
      "Optimize a model with 2454 rows, 1540 columns and 8930 nonzeros\n",
      "Model fingerprint: 0x7cbb9eff\n",
      "Variable types: 0 continuous, 1540 integer (770 binary)\n",
      "Coefficient statistics:\n",
      "  Matrix range     [1e+00, 7e+00]\n",
      "  Objective range  [4e+02, 1e+04]\n",
      "  Bounds range     [1e+00, 7e+00]\n",
      "  RHS range        [1e+00, 7e+01]\n",
      "\n",
      "Loaded user MIP start with objective 139656\n",
      "\n",
      "Presolve removed 387 rows and 0 columns\n",
      "Presolve time: 0.01s\n",
      "Presolved: 2067 rows, 1540 columns, 7462 nonzeros\n",
      "Variable types: 0 continuous, 1540 integer (770 binary)\n",
      "\n",
      "Root relaxation: objective 1.356877e+05, 1568 iterations, 0.02 seconds (0.03 work units)\n",
      "\n",
      "    Nodes    |    Current Node    |     Objective Bounds      |     Work\n",
      " Expl Unexpl |  Obj  Depth IntInf | Incumbent    BestBd   Gap | It/Node Time\n",
      "\n",
      "     0     0 135687.688    0  141 139656.480 135687.688  2.84%     -    0s\n",
      "H    0     0                    139650.83180 135687.688  2.84%     -    0s\n",
      "     0     0 136475.352    0  212 139650.832 136475.352  2.27%     -    0s\n",
      "     0     0 136482.582    0  209 139650.832 136482.582  2.27%     -    0s\n",
      "     0     0 136482.582    0  209 139650.832 136482.582  2.27%     -    0s\n",
      "H    0     0                    139645.18340 136725.591  2.09%     -    0s\n",
      "     0     0 136725.591    0  221 139645.183 136725.591  2.09%     -    0s\n",
      "     0     0 136735.115    0  209 139645.183 136735.115  2.08%     -    0s\n",
      "     0     0 136738.710    0  226 139645.183 136738.710  2.08%     -    0s\n",
      "     0     0 136739.509    0  226 139645.183 136739.509  2.08%     -    0s\n",
      "     0     0 136826.343    0  242 139645.183 136826.343  2.02%     -    0s\n",
      "     0     0 136849.973    0  243 139645.183 136849.973  2.00%     -    0s\n",
      "     0     0 136855.471    0  261 139645.183 136855.471  2.00%     -    0s\n",
      "     0     0 136857.147    0  278 139645.183 136857.147  2.00%     -    0s\n",
      "     0     0 136857.244    0  283 139645.183 136857.244  2.00%     -    0s\n",
      "     0     0 136893.235    0  268 139645.183 136893.235  1.97%     -    0s\n",
      "     0     0 136905.049    0  296 139645.183 136905.049  1.96%     -    0s\n",
      "     0     0 136906.563    0  294 139645.183 136906.563  1.96%     -    0s\n",
      "     0     0 136906.835    0  288 139645.183 136906.835  1.96%     -    0s\n",
      "     0     0 136937.615    0  273 139645.183 136937.615  1.94%     -    0s\n",
      "     0     0 136937.615    0  143 139645.183 136937.615  1.94%     -    1s\n",
      "     0     0 136937.615    0  235 139645.183 136937.615  1.94%     -    1s\n",
      "     0     0 136937.615    0  242 139645.183 136937.615  1.94%     -    1s\n",
      "     0     0 136937.615    0  251 139645.183 136937.615  1.94%     -    1s\n",
      "     0     0 136938.762    0  287 139645.183 136938.762  1.94%     -    1s\n",
      "     0     0 136938.890    0  290 139645.183 136938.890  1.94%     -    1s\n",
      "     0     0 136938.943    0  289 139645.183 136938.943  1.94%     -    1s\n",
      "     0     0 136986.791    0  281 139645.183 136986.791  1.90%     -    1s\n",
      "     0     0 137006.021    0  290 139645.183 137006.021  1.89%     -    1s\n",
      "     0     0 137009.867    0  287 139645.183 137009.867  1.89%     -    1s\n",
      "     0     0 137014.081    0  269 139645.183 137014.081  1.88%     -    1s\n",
      "     0     0 137015.143    0  288 139645.183 137015.143  1.88%     -    1s\n",
      "     0     0 137016.363    0  291 139645.183 137016.363  1.88%     -    1s\n",
      "     0     0 137016.396    0  279 139645.183 137016.396  1.88%     -    1s\n",
      "     0     0 137051.308    0  263 139645.183 137051.308  1.86%     -    1s\n",
      "     0     0 137070.320    0  281 139645.183 137070.320  1.84%     -    1s\n",
      "     0     0 137078.358    0  268 139645.183 137078.358  1.84%     -    1s\n",
      "     0     0 137081.205    0  287 139645.183 137081.205  1.84%     -    1s\n",
      "     0     0 137081.383    0  285 139645.183 137081.383  1.84%     -    1s\n",
      "     0     0 137081.686    0  277 139645.183 137081.686  1.84%     -    1s\n",
      "     0     0 137081.774    0  288 139645.183 137081.774  1.84%     -    1s\n",
      "     0     0 137095.007    0  273 139645.183 137095.007  1.83%     -    1s\n",
      "     0     0 137097.819    0  282 139645.183 137097.819  1.82%     -    1s\n",
      "     0     0 137098.513    0  282 139645.183 137098.513  1.82%     -    1s\n",
      "     0     0 137099.694    0  282 139645.183 137099.694  1.82%     -    1s\n",
      "     0     0 137099.807    0  282 139645.183 137099.807  1.82%     -    1s\n",
      "     0     0 137112.968    0  289 139645.183 137112.968  1.81%     -    2s\n",
      "     0     2 137112.968    0  288 139645.183 137112.968  1.81%     -    2s\n",
      "H  208   196                    139645.18265 137156.882  1.78%  80.2    3s\n",
      "   857   638 138192.206   19  213 139645.183 137226.695  1.73%  64.0    5s\n",
      "\n",
      "Cutting planes:\n",
      "  Gomory: 19\n",
      "  Lift-and-project: 4\n",
      "  Cover: 1\n",
      "  MIR: 222\n",
      "  StrongCG: 9\n",
      "  Flow cover: 51\n",
      "  Flow path: 7\n",
      "  GUB cover: 2\n",
      "  Inf proof: 1\n",
      "  Zero half: 1\n",
      "  Network: 4\n",
      "  Relax-and-lift: 1\n",
      "\n",
      "Explored 1975 nodes (136510 simplex iterations) in 7.02 seconds (7.31 work units)\n",
      "Thread count was 16 (of 16 available processors)\n",
      "\n",
      "Solution count 4: 139645 139645 139651 139656 \n",
      "\n",
      "Time limit reached\n",
      "Best objective 1.396451826536e+05, best bound 1.372697730497e+05, gap 1.7010%\n",
      "WARNING: Loading a SolverResults object with an 'aborted' status, but\n",
      "containing a solution\n"
     ]
    },
    {
     "name": "stdout",
     "output_type": "stream",
     "text": [
      "  RHS range        [1e+00, 7e+01]\n"
     ]
    },
    {
     "name": "stdout",
     "output_type": "stream",
     "text": [
      "\n"
     ]
    },
    {
     "name": "stdout",
     "output_type": "stream",
     "text": [
      "Loaded user MIP start with objective 152084\n"
     ]
    },
    {
     "name": "stdout",
     "output_type": "stream",
     "text": [
      "\n"
     ]
    },
    {
     "name": "stdout",
     "output_type": "stream",
     "text": [
      "Presolve removed 752 rows and 0 columns\n"
     ]
    },
    {
     "name": "stdout",
     "output_type": "stream",
     "text": [
      "Presolve time: 0.45s\n"
     ]
    },
    {
     "name": "stdout",
     "output_type": "stream",
     "text": [
      "Presolved: 2923 rows, 1528 columns, 11606 nonzeros\n"
     ]
    },
    {
     "name": "stdout",
     "output_type": "stream",
     "text": [
      "Variable types: 0 continuous, 1528 integer (764 binary)\n"
     ]
    },
    {
     "name": "stdout",
     "output_type": "stream",
     "text": [
      "\n"
     ]
    },
    {
     "name": "stdout",
     "output_type": "stream",
     "text": [
      "Root relaxation: objective 1.355932e+05, 1626 iterations, 0.10 seconds (0.04 work units)\n"
     ]
    },
    {
     "name": "stdout",
     "output_type": "stream",
     "text": [
      "\n"
     ]
    },
    {
     "name": "stdout",
     "output_type": "stream",
     "text": [
      "    Nodes    |    Current Node    |     Objective Bounds      |     Work\n"
     ]
    },
    {
     "name": "stdout",
     "output_type": "stream",
     "text": [
      " Expl Unexpl |  Obj  Depth IntInf | Incumbent    BestBd   Gap | It/Node Time\n"
     ]
    },
    {
     "name": "stdout",
     "output_type": "stream",
     "text": [
      "\n"
     ]
    },
    {
     "name": "stdout",
     "output_type": "stream",
     "text": [
      "     0     0 135593.250    0  146 152083.980 135593.250  10.8%     -    0s\n"
     ]
    },
    {
     "name": "stdout",
     "output_type": "stream",
     "text": [
      "H    0     0                    152078.33230 135593.250  10.8%     -    0s\n"
     ]
    },
    {
     "name": "stdout",
     "output_type": "stream",
     "text": [
      "H    0     0                    151805.89887 135593.250  10.7%     -    1s\n"
     ]
    },
    {
     "name": "stdout",
     "output_type": "stream",
     "text": [
      "     0     0 136362.916    0  177 151805.899 136362.916  10.2%     -    1s\n"
     ]
    },
    {
     "name": "stdout",
     "output_type": "stream",
     "text": [
      "H    0     0                    150726.38191 136390.136  9.51%     -    1s\n"
     ]
    },
    {
     "name": "stdout",
     "output_type": "stream",
     "text": [
      "     0     0 136390.136    0  187 150726.382 136390.136  9.51%     -    1s\n"
     ]
    },
    {
     "name": "stdout",
     "output_type": "stream",
     "text": [
      "     0     0 136390.136    0  187 150726.382 136390.136  9.51%     -    1s\n"
     ]
    },
    {
     "name": "stdout",
     "output_type": "stream",
     "text": [
      "H    0     0                    150712.21956 136608.324  9.36%     -    1s\n"
     ]
    },
    {
     "name": "stdout",
     "output_type": "stream",
     "text": [
      "     0     0 136608.324    0  215 150712.220 136608.324  9.36%     -    1s\n"
     ]
    },
    {
     "name": "stdout",
     "output_type": "stream",
     "text": [
      "     0     0 136679.462    0  205 150712.220 136679.462  9.31%     -    1s\n"
     ]
    },
    {
     "name": "stdout",
     "output_type": "stream",
     "text": [
      "     0     0 136681.649    0  224 150712.220 136681.649  9.31%     -    1s\n"
     ]
    },
    {
     "name": "stdout",
     "output_type": "stream",
     "text": [
      "     0     0 136681.819    0  244 150712.220 136681.819  9.31%     -    1s\n"
     ]
    },
    {
     "name": "stdout",
     "output_type": "stream",
     "text": [
      "H    0     0                    147988.56258 136788.519  7.57%     -    1s\n"
     ]
    },
    {
     "name": "stdout",
     "output_type": "stream",
     "text": [
      "     0     0 136788.519    0  236 147988.563 136788.519  7.57%     -    1s\n"
     ]
    },
    {
     "name": "stdout",
     "output_type": "stream",
     "text": [
      "H    0     0                    147393.30919 136798.896  7.19%     -    1s\n"
     ]
    },
    {
     "name": "stdout",
     "output_type": "stream",
     "text": [
      "     0     0 136829.221    0  244 147393.309 136829.221  7.17%     -    1s\n"
     ]
    },
    {
     "name": "stdout",
     "output_type": "stream",
     "text": [
      "     0     0 136840.487    0  275 147393.309 136840.487  7.16%     -    1s\n"
     ]
    },
    {
     "name": "stdout",
     "output_type": "stream",
     "text": [
      "     0     0 136842.358    0  261 147393.309 136842.358  7.16%     -    1s\n"
     ]
    },
    {
     "name": "stdout",
     "output_type": "stream",
     "text": [
      "     0     0 136842.358    0  261 147393.309 136842.358  7.16%     -    1s\n"
     ]
    },
    {
     "name": "stdout",
     "output_type": "stream",
     "text": [
      "     0     0 136879.578    0  264 147393.309 136879.578  7.13%     -    1s\n"
     ]
    },
    {
     "name": "stdout",
     "output_type": "stream",
     "text": [
      "     0     0 136899.836    0  265 147393.309 136899.836  7.12%     -    1s\n"
     ]
    },
    {
     "name": "stdout",
     "output_type": "stream",
     "text": [
      "     0     0 136904.212    0  256 147393.309 136904.212  7.12%     -    1s\n"
     ]
    },
    {
     "name": "stdout",
     "output_type": "stream",
     "text": [
      "     0     0 136909.840    0  249 147393.309 136909.840  7.11%     -    1s\n"
     ]
    },
    {
     "name": "stdout",
     "output_type": "stream",
     "text": [
      "     0     0 136911.080    0  274 147393.309 136911.080  7.11%     -    1s\n"
     ]
    },
    {
     "name": "stdout",
     "output_type": "stream",
     "text": [
      "     0     0 136911.372    0  265 147393.309 136911.372  7.11%     -    1s\n"
     ]
    },
    {
     "name": "stdout",
     "output_type": "stream",
     "text": [
      "H    0     0                    147160.12198 136929.795  6.95%     -    1s\n"
     ]
    },
    {
     "name": "stdout",
     "output_type": "stream",
     "text": [
      "     0     0 136929.795    0  278 147160.122 136929.795  6.95%     -    1s\n"
     ]
    },
    {
     "name": "stdout",
     "output_type": "stream",
     "text": [
      "     0     0 136931.096    0  272 147160.122 136931.096  6.95%     -    1s\n"
     ]
    },
    {
     "name": "stdout",
     "output_type": "stream",
     "text": [
      "     0     0 136931.434    0  276 147160.122 136931.434  6.95%     -    1s\n"
     ]
    },
    {
     "name": "stdout",
     "output_type": "stream",
     "text": [
      "     0     0 136931.556    0  276 147160.122 136931.556  6.95%     -    1s\n"
     ]
    },
    {
     "name": "stdout",
     "output_type": "stream",
     "text": [
      "     0     0 136962.618    0  261 147160.122 136962.618  6.93%     -    1s\n"
     ]
    },
    {
     "name": "stdout",
     "output_type": "stream",
     "text": [
      "     0     0 136964.970    0  241 147160.122 136964.970  6.93%     -    1s\n"
     ]
    },
    {
     "name": "stdout",
     "output_type": "stream",
     "text": [
      "     0     0 136966.023    0  260 147160.122 136966.023  6.93%     -    1s\n"
     ]
    },
    {
     "name": "stdout",
     "output_type": "stream",
     "text": [
      "     0     0 136966.524    0  267 147160.122 136966.524  6.93%     -    1s\n"
     ]
    },
    {
     "name": "stdout",
     "output_type": "stream",
     "text": [
      "     0     0 136976.303    0  269 147160.122 136976.303  6.92%     -    1s\n"
     ]
    },
    {
     "name": "stdout",
     "output_type": "stream",
     "text": [
      "     0     0 136984.683    0  278 147160.122 136984.683  6.91%     -    1s\n"
     ]
    },
    {
     "name": "stdout",
     "output_type": "stream",
     "text": [
      "     0     0 136987.330    0  267 147160.122 136987.330  6.91%     -    1s\n"
     ]
    },
    {
     "name": "stdout",
     "output_type": "stream",
     "text": [
      "     0     0 136987.391    0  271 147160.122 136987.391  6.91%     -    1s\n"
     ]
    },
    {
     "name": "stdout",
     "output_type": "stream",
     "text": [
      "H    0     0                    143404.88202 137024.217  4.45%     -    1s\n"
     ]
    },
    {
     "name": "stdout",
     "output_type": "stream",
     "text": [
      "     0     0 137024.217    0  236 143404.882 137024.217  4.45%     -    1s\n"
     ]
    },
    {
     "name": "stdout",
     "output_type": "stream",
     "text": [
      "     0     0 137039.534    0  247 143404.882 137039.534  4.44%     -    1s\n"
     ]
    },
    {
     "name": "stdout",
     "output_type": "stream",
     "text": [
      "     0     0 137039.534    0  291 143404.882 137039.534  4.44%     -    1s\n"
     ]
    },
    {
     "name": "stdout",
     "output_type": "stream",
     "text": [
      "     0     0 137039.534    0  303 143404.882 137039.534  4.44%     -    1s\n"
     ]
    },
    {
     "name": "stdout",
     "output_type": "stream",
     "text": [
      "     0     0 137060.065    0  284 143404.882 137060.065  4.42%     -    2s\n"
     ]
    },
    {
     "name": "stdout",
     "output_type": "stream",
     "text": [
      "H    0     0                    142449.28895 137066.703  3.78%     -    2s\n"
     ]
    },
    {
     "name": "stdout",
     "output_type": "stream",
     "text": [
      "     0     0 137071.175    0  285 142449.289 137071.175  3.78%     -    2s\n"
     ]
    },
    {
     "name": "stdout",
     "output_type": "stream",
     "text": [
      "     0     0 137074.060    0  282 142449.289 137074.060  3.77%     -    2s\n"
     ]
    },
    {
     "name": "stdout",
     "output_type": "stream",
     "text": [
      "     0     0 137075.409    0  290 142449.289 137075.409  3.77%     -    2s\n"
     ]
    },
    {
     "name": "stdout",
     "output_type": "stream",
     "text": [
      "     0     0 137075.444    0  294 142449.289 137075.444  3.77%     -    2s\n"
     ]
    },
    {
     "name": "stdout",
     "output_type": "stream",
     "text": [
      "     0     0 137084.170    0  276 142449.289 137084.170  3.77%     -    2s\n"
     ]
    },
    {
     "name": "stdout",
     "output_type": "stream",
     "text": [
      "     0     0 137086.439    0  298 142449.289 137086.439  3.76%     -    2s\n"
     ]
    },
    {
     "name": "stdout",
     "output_type": "stream",
     "text": [
      "     0     0 137086.764    0  297 142449.289 137086.764  3.76%     -    2s\n"
     ]
    },
    {
     "name": "stdout",
     "output_type": "stream",
     "text": [
      "     0     0 137102.131    0  281 142449.289 137102.131  3.75%     -    2s\n"
     ]
    },
    {
     "name": "stdout",
     "output_type": "stream",
     "text": [
      "     0     0 137108.573    0  296 142449.289 137108.573  3.75%     -    2s\n"
     ]
    },
    {
     "name": "stdout",
     "output_type": "stream",
     "text": [
      "     0     0 137108.612    0  296 142449.289 137108.612  3.75%     -    2s\n"
     ]
    },
    {
     "name": "stdout",
     "output_type": "stream",
     "text": [
      "     0     0 137114.768    0  294 142449.289 137114.768  3.74%     -    2s\n"
     ]
    },
    {
     "name": "stdout",
     "output_type": "stream",
     "text": [
      "     0     0 137116.896    0  300 142449.289 137116.896  3.74%     -    2s\n"
     ]
    },
    {
     "name": "stdout",
     "output_type": "stream",
     "text": [
      "     0     0 137116.896    0  300 142449.289 137116.896  3.74%     -    2s\n"
     ]
    },
    {
     "name": "stdout",
     "output_type": "stream",
     "text": [
      "     0     0 137117.267    0  290 142449.289 137117.267  3.74%     -    2s\n"
     ]
    },
    {
     "name": "stdout",
     "output_type": "stream",
     "text": [
      "     0     0 137117.965    0  288 142449.289 137117.965  3.74%     -    2s\n"
     ]
    },
    {
     "name": "stdout",
     "output_type": "stream",
     "text": [
      "     0     2 137118.050    0  288 142449.289 137118.050  3.74%     -    2s\n"
     ]
    },
    {
     "name": "stdout",
     "output_type": "stream",
     "text": [
      "H   32    56                    141443.21633 137160.936  3.03%   185    3s\n"
     ]
    },
    {
     "name": "stdout",
     "output_type": "stream",
     "text": [
      "H   33    56                    141437.56758 137160.936  3.02%   185    3s\n"
     ]
    },
    {
     "name": "stdout",
     "output_type": "stream",
     "text": [
      "H   36    56                    141114.74864 137160.936  2.80%   179    3s\n"
     ]
    },
    {
     "name": "stdout",
     "output_type": "stream",
     "text": [
      "H  204   228                    141109.10094 137171.900  2.79%   125    4s\n"
     ]
    },
    {
     "name": "stdout",
     "output_type": "stream",
     "text": [
      "H  205   228                    141109.10058 137171.900  2.79%   124    4s\n"
     ]
    },
    {
     "name": "stdout",
     "output_type": "stream",
     "text": [
      "H 1380  1314                    140696.72819 137171.900  2.51%  82.6    4s\n"
     ]
    },
    {
     "name": "stdout",
     "output_type": "stream",
     "text": [
      "  1639  1549 139319.030   49  157 140696.728 137171.900  2.51%  78.3    5s\n"
     ]
    },
    {
     "name": "stdout",
     "output_type": "stream",
     "text": [
      "  2948  2479 138403.284   29  311 140696.728 137372.668  2.36%  68.1   10s\n"
     ]
    },
    {
     "name": "stdout",
     "output_type": "stream",
     "text": [
      "  2966  2491 139517.994    7  340 140696.728 137414.443  2.33%  67.7   15s\n"
     ]
    },
    {
     "name": "stdout",
     "output_type": "stream",
     "text": [
      "H 3077  2456                    140591.46476 137600.419  2.13%  79.8   17s\n"
     ]
    },
    {
     "name": "stdout",
     "output_type": "stream",
     "text": [
      "H 3084  2335                    139593.87897 137600.419  1.43%  80.3   17s\n"
     ]
    },
    {
     "name": "stdout",
     "output_type": "stream",
     "text": [
      "  5064  3045 138493.870   36  269 139593.879 137601.512  1.43%  99.2   20s\n"
     ]
    },
    {
     "name": "stdout",
     "output_type": "stream",
     "text": [
      "  9040  3999 138934.563   36  226 139593.879 137886.819  1.22%   104   25s\n"
     ]
    },
    {
     "name": "stdout",
     "output_type": "stream",
     "text": [
      " 17233  7866     cutoff   38      139593.879 138144.535  1.04%   106   30s\n"
     ]
    },
    {
     "name": "stdout",
     "output_type": "stream",
     "text": [
      " 24237 11273 139055.188   28  224 139593.879 138235.829  0.97%   108   35s\n"
     ]
    },
    {
     "name": "stdout",
     "output_type": "stream",
     "text": [
      " 33241 15151 138546.093   24  221 139593.879 138338.371  0.90%   109   40s\n"
     ]
    },
    {
     "name": "stdout",
     "output_type": "stream",
     "text": [
      " 41675 18470 138790.755   26  236 139593.879 138406.386  0.85%   109   45s\n"
     ]
    },
    {
     "name": "stdout",
     "output_type": "stream",
     "text": [
      " 50374 20426 139315.681   33  288 139593.879 138463.925  0.81%   110   59s\n"
     ]
    },
    {
     "name": "stdout",
     "output_type": "stream",
     "text": [
      " 50377 20428 138931.731   28  262 139593.879 138463.925  0.81%   110   60s\n"
     ]
    },
    {
     "name": "stdout",
     "output_type": "stream",
     "text": [
      " 50406 20447 138489.254   23  316 139593.879 138463.925  0.81%   109   65s\n"
     ]
    },
    {
     "name": "stdout",
     "output_type": "stream",
     "text": [
      " 50425 20460 139076.058   45  339 139593.879 138463.925  0.81%   109   70s\n"
     ]
    },
    {
     "name": "stdout",
     "output_type": "stream",
     "text": [
      " 50440 20470 139502.582   35  333 139593.879 138463.925  0.81%   109   75s\n"
     ]
    },
    {
     "name": "stdout",
     "output_type": "stream",
     "text": [
      " 50456 20481 139096.232   32  337 139593.879 138463.925  0.81%   109   80s\n"
     ]
    },
    {
     "name": "stdout",
     "output_type": "stream",
     "text": [
      " 50471 20491 138822.765   34  345 139593.879 138463.925  0.81%   109   85s\n"
     ]
    },
    {
     "name": "stdout",
     "output_type": "stream",
     "text": [
      " 50488 20502 138944.839   34  349 139593.879 138463.925  0.81%   109   90s\n"
     ]
    },
    {
     "name": "stdout",
     "output_type": "stream",
     "text": [
      " 50504 20513 138931.751   20  349 139593.879 138463.925  0.81%   109   95s\n"
     ]
    },
    {
     "name": "stdout",
     "output_type": "stream",
     "text": [
      " 50518 20522 138709.204   37  363 139593.879 138463.925  0.81%   109  100s\n"
     ]
    },
    {
     "name": "stdout",
     "output_type": "stream",
     "text": [
      " 50698 20661 139449.629   28  254 139593.879 138463.925  0.81%   110  105s\n"
     ]
    },
    {
     "name": "stdout",
     "output_type": "stream",
     "text": [
      " 52579 21061     cutoff   62      139593.879 138463.925  0.81%   111  110s\n"
     ]
    },
    {
     "name": "stdout",
     "output_type": "stream",
     "text": [
      " 57794 21893 139191.817   58  132 139593.879 138463.925  0.81%   110  115s\n"
     ]
    },
    {
     "name": "stdout",
     "output_type": "stream",
     "text": [
      " 63697 22548 138523.962   33  275 139593.879 138463.925  0.81%   110  120s\n"
     ]
    },
    {
     "name": "stdout",
     "output_type": "stream",
     "text": [
      " 68247 22595 138727.191   34  202 139593.879 138463.925  0.81%   109  129s\n"
     ]
    },
    {
     "name": "stdout",
     "output_type": "stream",
     "text": [
      " 68279 22842 138751.637   35  179 139593.879 138463.925  0.81%   109  130s\n"
     ]
    },
    {
     "name": "stdout",
     "output_type": "stream",
     "text": [
      " 74839 23470 139058.266   40  245 139593.879 138463.925  0.81%   109  135s\n"
     ]
    },
    {
     "name": "stdout",
     "output_type": "stream",
     "text": [
      " 78612 23480     cutoff   44      139593.879 138463.925  0.81%   109  145s\n"
     ]
    },
    {
     "name": "stdout",
     "output_type": "stream",
     "text": [
      " 85731 23770 139570.049   35  255 139593.879 138480.473  0.80%   108  150s\n"
     ]
    },
    {
     "name": "stdout",
     "output_type": "stream",
     "text": [
      " 93386 23827 138688.274   43  234 139593.879 138531.170  0.76%   108  155s\n"
     ]
    },
    {
     "name": "stdout",
     "output_type": "stream",
     "text": [
      " 102230 23738     cutoff   34      139593.879 138578.904  0.73%   107  161s\n"
     ]
    },
    {
     "name": "stdout",
     "output_type": "stream",
     "text": [
      "*104052 21643              46    139485.54411 138583.622  0.65%   107  161s\n"
     ]
    },
    {
     "name": "stdout",
     "output_type": "stream",
     "text": [
      "H105586 20554                    139479.89522 138596.740  0.63%   107  163s\n"
     ]
    },
    {
     "name": "stdout",
     "output_type": "stream",
     "text": [
      " 107363 21005     cutoff   66      139479.895 138606.936  0.63%   107  165s\n"
     ]
    },
    {
     "name": "stdout",
     "output_type": "stream",
     "text": [
      " 115109 22506     cutoff   41      139479.895 138641.145  0.60%   107  170s\n"
     ]
    },
    {
     "name": "stdout",
     "output_type": "stream",
     "text": [
      " 123303 23823 139366.644   41  147 139479.895 138680.414  0.57%   106  175s\n"
     ]
    },
    {
     "name": "stdout",
     "output_type": "stream",
     "text": [
      " 132022 24788 138964.979   38  233 139479.895 138720.769  0.54%   106  181s\n"
     ]
    },
    {
     "name": "stdout",
     "output_type": "stream",
     "text": [
      " 136484 25598 139064.998   39  251 139479.895 138738.149  0.53%   106  186s\n"
     ]
    },
    {
     "name": "stdout",
     "output_type": "stream",
     "text": [
      " 146100 26428     cutoff   51      139479.895 138772.593  0.51%   105  191s\n"
     ]
    },
    {
     "name": "stdout",
     "output_type": "stream",
     "text": [
      " 155097 26999 139301.353   40  201 139479.895 138804.676  0.48%   105  196s\n"
     ]
    },
    {
     "name": "stdout",
     "output_type": "stream",
     "text": [
      " 161402 27329 139264.024   37  206 139479.895 138825.023  0.47%   105  200s\n"
     ]
    },
    {
     "name": "stdout",
     "output_type": "stream",
     "text": [
      " 170466 27434     cutoff   43      139479.895 138856.957  0.45%   105  205s\n"
     ]
    },
    {
     "name": "stdout",
     "output_type": "stream",
     "text": [
      " 179676 27365 139146.441   33   91 139479.895 138886.219  0.43%   104  211s\n"
     ]
    },
    {
     "name": "stdout",
     "output_type": "stream",
     "text": [
      " 189337 27285 139384.722   40  236 139479.895 138911.910  0.41%   104  220s\n"
     ]
    },
    {
     "name": "stdout",
     "output_type": "stream",
     "text": [
      " 197028 26820 139098.764   41  254 139479.895 138936.134  0.39%   104  226s\n"
     ]
    },
    {
     "name": "stdout",
     "output_type": "stream",
     "text": [
      " 203858 26314 139172.697   42  233 139479.895 138955.318  0.38%   103  230s\n"
     ]
    },
    {
     "name": "stdout",
     "output_type": "stream",
     "text": [
      " 213570 25314     cutoff   42      139479.895 138986.660  0.35%   103  236s\n"
     ]
    },
    {
     "name": "stdout",
     "output_type": "stream",
     "text": [
      " 220161 24424 139388.758   34  212 139479.895 139006.711  0.34%   103  240s\n"
     ]
    },
    {
     "name": "stdout",
     "output_type": "stream",
     "text": [
      " 229974 22881 139368.220   44  238 139479.895 139037.086  0.32%   102  246s\n"
     ]
    },
    {
     "name": "stdout",
     "output_type": "stream",
     "text": [
      " 236148 21599     cutoff   41      139479.895 139059.113  0.30%   102  250s\n"
     ]
    },
    {
     "name": "stdout",
     "output_type": "stream",
     "text": [
      " 245668 19119 139224.289   44  218 139479.895 139095.569  0.28%   102  256s\n"
     ]
    },
    {
     "name": "stdout",
     "output_type": "stream",
     "text": [
      " 252051 17306 139376.638   34   81 139479.895 139120.405  0.26%   102  260s\n"
     ]
    },
    {
     "name": "stdout",
     "output_type": "stream",
     "text": [
      " 258393 15150 139314.794   37  245 139479.895 139147.669  0.24%   102  265s\n"
     ]
    },
    {
     "name": "stdout",
     "output_type": "stream",
     "text": [
      " 268039 11195 139334.882   47  210 139479.895 139192.730  0.21%   102  271s\n"
     ]
    },
    {
     "name": "stdout",
     "output_type": "stream",
     "text": [
      "\n"
     ]
    },
    {
     "name": "stdout",
     "output_type": "stream",
     "text": [
      "Cutting planes:\n"
     ]
    },
    {
     "name": "stdout",
     "output_type": "stream",
     "text": [
      "  Gomory: 35\n"
     ]
    },
    {
     "name": "stdout",
     "output_type": "stream",
     "text": [
      "  Lift-and-project: 17\n"
     ]
    },
    {
     "name": "stdout",
     "output_type": "stream",
     "text": [
      "  Cover: 185\n"
     ]
    },
    {
     "name": "stdout",
     "output_type": "stream",
     "text": [
      "  Implied bound: 10\n"
     ]
    },
    {
     "name": "stdout",
     "output_type": "stream",
     "text": [
      "  Projected implied bound: 5\n"
     ]
    },
    {
     "name": "stdout",
     "output_type": "stream",
     "text": [
      "  MIR: 1009\n"
     ]
    },
    {
     "name": "stdout",
     "output_type": "stream",
     "text": [
      "  StrongCG: 43\n"
     ]
    },
    {
     "name": "stdout",
     "output_type": "stream",
     "text": [
      "  Flow cover: 782\n"
     ]
    },
    {
     "name": "stdout",
     "output_type": "stream",
     "text": [
      "  Flow path: 45\n"
     ]
    },
    {
     "name": "stdout",
     "output_type": "stream",
     "text": [
      "  GUB cover: 1\n"
     ]
    },
    {
     "name": "stdout",
     "output_type": "stream",
     "text": [
      "  Inf proof: 3\n"
     ]
    },
    {
     "name": "stdout",
     "output_type": "stream",
     "text": [
      "  Zero half: 108\n"
     ]
    },
    {
     "name": "stdout",
     "output_type": "stream",
     "text": [
      "  Network: 8\n"
     ]
    },
    {
     "name": "stdout",
     "output_type": "stream",
     "text": [
      "  Relax-and-lift: 4\n"
     ]
    },
    {
     "name": "stdout",
     "output_type": "stream",
     "text": [
      "\n"
     ]
    },
    {
     "name": "stdout",
     "output_type": "stream",
     "text": [
      "Explored 271427 nodes (27554559 simplex iterations) in 271.32 seconds (332.14 work units)\n"
     ]
    },
    {
     "name": "stdout",
     "output_type": "stream",
     "text": [
      "Thread count was 24 (of 24 available processors)\n"
     ]
    },
    {
     "name": "stdout",
     "output_type": "stream",
     "text": [
      "\n"
     ]
    },
    {
     "name": "stdout",
     "output_type": "stream",
     "text": [
      "Solution count 10: 139480 139486 139594 ... 141443\n"
     ]
    },
    {
     "name": "stdout",
     "output_type": "stream",
     "text": [
      "\n"
     ]
    },
    {
     "name": "stdout",
     "output_type": "stream",
     "text": [
      "Optimal solution found (tolerance 2.00e-03)\n"
     ]
    },
    {
     "name": "stdout",
     "output_type": "stream",
     "text": [
      "Best objective 1.394798952160e+05, best bound 1.392114129073e+05, gap 0.1925%\n"
     ]
    }
   ],
   "source": [
    "print(f'Solving \"{m.name}\", capacity = {m.k.value}\\n')\n",
    "status = solver.solve(m, tee=True, warmstart=True)"
   ]
  },
  {
   "cell_type": "code",
   "execution_count": 19,
   "id": "a314938c-0c17-4d8d-b343-e9622c25f67c",
   "metadata": {},
   "outputs": [],
   "source": [
    "S_solver = omo.S_from_solution(m, solver, status)\n",
    "G_solver = G_from_S(S_solver, A)\n",
    "G_reg = PathFinder(G_solver, planar=P, A=A).create_detours()"
   ]
  },
  {
   "cell_type": "code",
   "execution_count": 20,
   "id": "416d5635-ba03-4898-8714-b3eb409eff13",
   "metadata": {},
   "outputs": [
    {
     "data": {
      "text/plain": [
       "40714260.58298518"
      ]
     },
     "execution_count": 20,
     "metadata": {},
     "output_type": "execute_result"
    }
   ],
   "source": [
    "assign_cables(G_reg, cables)\n",
    "G_reg.size(weight='cost')"
   ]
  },
  {
   "cell_type": "code",
   "execution_count": 21,
   "id": "0d369800-5d86-4723-822f-200b0750c4d2",
   "metadata": {},
   "outputs": [
    {
     "data": {
      "image/png": "[encoded data removed]",
      "text/plain": [
       "<Figure size 3240x1224 with 1 Axes>"
      ]
     },
     "metadata": {},
     "output_type": "display_data"
    }
   ],
   "source": [
    "gplot(G_reg, node_tag=None);"
   ]
  },
  {
   "cell_type": "markdown",
   "id": "e7cf5795-3baf-4549-92ee-6a6462e01b36",
   "metadata": {},
   "source": [
    "## Irregular layout"
   ]
  },
  {
   "cell_type": "code",
   "execution_count": 22,
   "id": "54f3f31b-7b64-4e35-ade8-8308163cce57",
   "metadata": {},
   "outputs": [],
   "source": [
    "P, A = make_planar_embedding(L_irr)"
   ]
  },
  {
   "cell_type": "code",
   "execution_count": 23,
   "id": "5921f255-d4c5-4aa6-84d5-88fa9fd36df8",
   "metadata": {},
   "outputs": [],
   "source": [
    "# This meta-heuristic call is iterative and the time_limit applies\n",
    "# to each iteration. About 97% of instances use a single iteration.\n",
    "S_warm = iterative_hgs_cvrp(as_normalized(A), capacity=capacity, time_limit=3)"
   ]
  },
  {
   "cell_type": "code",
   "execution_count": 24,
   "id": "37694cbf-221d-491a-b720-2806c3d82952",
   "metadata": {},
   "outputs": [],
   "source": [
    "m = omo.make_min_length_model(\n",
    "    A, capacity,\n",
    "    gateXings_constraint=False,\n",
    "    branching=True,\n",
    "    gates_limit=False\n",
    ")\n",
    "omo.warmup_model(m, S_warm);"
   ]
  },
  {
   "cell_type": "code",
   "execution_count": 25,
   "id": "74ae29b9-5838-43f7-b35a-e383bc2ba71e",
   "metadata": {},
   "outputs": [
    {
     "name": "stdout",
     "output_type": "stream",
     "text": [
      "Solving \"IEA37 Borssele Irregular System\", capacity = 7\n",
      "\n",
      "Set parameter OutputFlag to value 1\n",
      "Set parameter MIPGap to value 0.005\n",
      "Set parameter TimeLimit to value 7\n",
      "Set parameter MIPFocus to value 1\n",
      "Gurobi Optimizer version 12.0.0 build v12.0.0rc1 (win64 - Windows 10.0 (19045.2))\n",
      "\n",
      "CPU model: 11th Gen Intel(R) Core(TM) i7-11850H @ 2.50GHz, instruction set [SSE2|AVX|AVX2|AVX512]\n",
      "Thread count: 8 physical cores, 16 logical processors, using up to 16 threads\n",
      "\n",
      "Non-default parameters:\n",
      "TimeLimit  7\n",
      "MIPGap  0.005\n",
      "MIPFocus  1\n",
      "\n",
      "Academic license 937681 - for non-commercial use only - registered to ma___@dtu.dk\n",
      "Optimize a model with 1910 rows, 1192 columns and 6654 nonzeros\n",
      "Model fingerprint: 0xd48a4dae\n",
      "Variable types: 0 continuous, 1192 integer (596 binary)\n",
      "Coefficient statistics:\n",
      "  Matrix range     [1e+00, 7e+00]\n",
      "  Objective range  [5e+02, 2e+04]\n",
      "  Bounds range     [1e+00, 7e+00]\n",
      "  RHS range        [1e+00, 7e+01]\n",
      "\n",
      "Loaded user MIP start with objective 136451\n",
      "\n",
      "Presolve removed 260 rows and 0 columns\n",
      "Presolve time: 0.01s\n",
      "Presolved: 1650 rows, 1192 columns, 5614 nonzeros\n",
      "Variable types: 0 continuous, 1192 integer (596 binary)\n",
      "\n",
      "Root relaxation: objective 1.276281e+05, 1307 iterations, 0.01 seconds (0.02 work units)\n",
      "\n",
      "    Nodes    |    Current Node    |     Objective Bounds      |     Work\n",
      " Expl Unexpl |  Obj  Depth IntInf | Incumbent    BestBd   Gap | It/Node Time\n",
      "\n",
      "     0     0 127628.142    0  162 136451.277 127628.142  6.47%     -    0s\n",
      "H    0     0                    135719.13331 127628.142  5.96%     -    0s\n",
      "H    0     0                    134786.79226 127628.142  5.31%     -    0s\n",
      "     0     0 129801.550    0  222 134786.792 129801.550  3.70%     -    0s\n",
      "     0     0 129874.442    0  209 134786.792 129874.442  3.64%     -    0s\n",
      "     0     0 129922.059    0  223 134786.792 129922.059  3.61%     -    0s\n",
      "     0     0 129939.890    0  219 134786.792 129939.890  3.60%     -    0s\n",
      "     0     0 130354.635    0  239 134786.792 130354.635  3.29%     -    0s\n",
      "     0     0 130412.647    0  256 134786.792 130412.647  3.25%     -    0s\n",
      "     0     0 130421.681    0  242 134786.792 130421.681  3.24%     -    0s\n",
      "     0     0 130426.986    0  235 134786.792 130426.986  3.23%     -    0s\n",
      "     0     0 130429.642    0  238 134786.792 130429.642  3.23%     -    0s\n",
      "     0     0 130689.106    0  273 134786.792 130689.106  3.04%     -    0s\n",
      "     0     0 130795.765    0  228 134786.792 130795.765  2.96%     -    0s\n",
      "     0     0 130804.139    0  233 134786.792 130804.139  2.95%     -    0s\n",
      "     0     0 130805.297    0  235 134786.792 130805.297  2.95%     -    0s\n",
      "     0     0 130805.418    0  235 134786.792 130805.418  2.95%     -    0s\n",
      "     0     0 131053.823    0  274 134786.792 131053.823  2.77%     -    0s\n",
      "     0     0 131157.328    0  272 134786.792 131157.328  2.69%     -    0s\n",
      "     0     0 131181.399    0  278 134786.792 131181.399  2.67%     -    0s\n",
      "     0     0 131183.129    0  279 134786.792 131183.129  2.67%     -    0s\n",
      "     0     0 131183.379    0  277 134786.792 131183.379  2.67%     -    0s\n",
      "     0     0 131282.430    0  290 134786.792 131282.430  2.60%     -    0s\n",
      "     0     0 131286.518    0  162 134786.792 131286.518  2.60%     -    1s\n",
      "     0     0 131286.518    0  219 134786.792 131286.518  2.60%     -    1s\n",
      "     0     0 131286.518    0  231 134786.792 131286.518  2.60%     -    1s\n",
      "     0     0 131286.518    0  277 134786.792 131286.518  2.60%     -    1s\n",
      "     0     0 131286.518    0  282 134786.792 131286.518  2.60%     -    1s\n",
      "     0     0 131286.518    0  251 134786.792 131286.518  2.60%     -    1s\n",
      "     0     0 131287.643    0  281 134786.792 131287.643  2.60%     -    1s\n",
      "     0     0 131288.428    0  276 134786.792 131288.428  2.60%     -    1s\n",
      "     0     0 131333.374    0  274 134786.792 131333.374  2.56%     -    1s\n",
      "     0     0 131338.236    0  275 134786.792 131338.236  2.56%     -    1s\n",
      "     0     0 131338.518    0  277 134786.792 131338.518  2.56%     -    1s\n",
      "     0     0 131419.512    0  274 134786.792 131419.512  2.50%     -    1s\n",
      "     0     0 131434.585    0  257 134786.792 131434.585  2.49%     -    1s\n",
      "     0     0 131438.962    0  273 134786.792 131438.962  2.48%     -    1s\n",
      "     0     0 131444.216    0  270 134786.792 131444.216  2.48%     -    1s\n",
      "     0     0 131445.420    0  274 134786.792 131445.420  2.48%     -    1s\n",
      "     0     0 131446.851    0  274 134786.792 131446.851  2.48%     -    1s\n",
      "     0     0 131447.868    0  276 134786.792 131447.868  2.48%     -    1s\n",
      "     0     0 131447.889    0  279 134786.792 131447.889  2.48%     -    1s\n",
      "     0     0 131490.795    0  286 134786.792 131490.795  2.45%     -    1s\n",
      "     0     0 131498.950    0  273 134786.792 131498.950  2.44%     -    1s\n",
      "     0     0 131501.254    0  271 134786.792 131501.254  2.44%     -    1s\n",
      "     0     0 131501.409    0  269 134786.792 131501.409  2.44%     -    1s\n",
      "     0     0 131525.859    0  309 134786.792 131525.859  2.42%     -    1s\n",
      "     0     2 131528.330    0  309 134786.792 131528.330  2.42%     -    2s\n",
      "  1916  1266 132090.569   13  225 134786.792 131750.982  2.25%  36.5    5s\n",
      "\n",
      "Cutting planes:\n",
      "  Gomory: 5\n",
      "  Cover: 3\n",
      "  MIR: 77\n",
      "  StrongCG: 6\n",
      "  Flow cover: 35\n",
      "  Flow path: 2\n",
      "  GUB cover: 3\n",
      "  Inf proof: 1\n",
      "  Network: 2\n",
      "  RLT: 1\n",
      "  Relax-and-lift: 2\n",
      "\n",
      "Explored 1956 nodes (79055 simplex iterations) in 7.02 seconds (6.70 work units)\n",
      "Thread count was 16 (of 16 available processors)\n",
      "\n",
      "Solution count 3: 134787 135719 136451 \n",
      "\n",
      "Time limit reached\n",
      "Best objective 1.347867922581e+05, best bound 1.322101544786e+05, gap 1.9116%\n",
      "WARNING: Loading a SolverResults object with an 'aborted' status, but\n",
      "containing a solution\n"
     ]
    },
    {
     "name": "stdout",
     "output_type": "stream",
     "text": [
      "\n"
     ]
    },
    {
     "name": "stdout",
     "output_type": "stream",
     "text": [
      "Loaded user MIP start with objective 152084\n"
     ]
    },
    {
     "name": "stdout",
     "output_type": "stream",
     "text": [
      "\n"
     ]
    },
    {
     "name": "stdout",
     "output_type": "stream",
     "text": [
      "Presolve removed 752 rows and 0 columns\n"
     ]
    },
    {
     "name": "stdout",
     "output_type": "stream",
     "text": [
      "Presolve time: 0.45s\n"
     ]
    },
    {
     "name": "stdout",
     "output_type": "stream",
     "text": [
      "Presolved: 2923 rows, 1528 columns, 11606 nonzeros\n"
     ]
    },
    {
     "name": "stdout",
     "output_type": "stream",
     "text": [
      "Variable types: 0 continuous, 1528 integer (764 binary)\n"
     ]
    },
    {
     "name": "stdout",
     "output_type": "stream",
     "text": [
      "\n"
     ]
    },
    {
     "name": "stdout",
     "output_type": "stream",
     "text": [
      "Root relaxation: objective 1.355932e+05, 1626 iterations, 0.10 seconds (0.04 work units)\n"
     ]
    },
    {
     "name": "stdout",
     "output_type": "stream",
     "text": [
      "\n"
     ]
    },
    {
     "name": "stdout",
     "output_type": "stream",
     "text": [
      "    Nodes    |    Current Node    |     Objective Bounds      |     Work\n"
     ]
    },
    {
     "name": "stdout",
     "output_type": "stream",
     "text": [
      " Expl Unexpl |  Obj  Depth IntInf | Incumbent    BestBd   Gap | It/Node Time\n"
     ]
    },
    {
     "name": "stdout",
     "output_type": "stream",
     "text": [
      "\n"
     ]
    },
    {
     "name": "stdout",
     "output_type": "stream",
     "text": [
      "     0     0 135593.250    0  146 152083.980 135593.250  10.8%     -    0s\n"
     ]
    },
    {
     "name": "stdout",
     "output_type": "stream",
     "text": [
      "H    0     0                    152078.33230 135593.250  10.8%     -    0s\n"
     ]
    },
    {
     "name": "stdout",
     "output_type": "stream",
     "text": [
      "H    0     0                    151805.89887 135593.250  10.7%     -    1s\n"
     ]
    },
    {
     "name": "stdout",
     "output_type": "stream",
     "text": [
      "     0     0 136362.916    0  177 151805.899 136362.916  10.2%     -    1s\n"
     ]
    },
    {
     "name": "stdout",
     "output_type": "stream",
     "text": [
      "H    0     0                    150726.38191 136390.136  9.51%     -    1s\n"
     ]
    },
    {
     "name": "stdout",
     "output_type": "stream",
     "text": [
      "     0     0 136390.136    0  187 150726.382 136390.136  9.51%     -    1s\n"
     ]
    },
    {
     "name": "stdout",
     "output_type": "stream",
     "text": [
      "     0     0 136390.136    0  187 150726.382 136390.136  9.51%     -    1s\n"
     ]
    },
    {
     "name": "stdout",
     "output_type": "stream",
     "text": [
      "H    0     0                    150712.21956 136608.324  9.36%     -    1s\n"
     ]
    },
    {
     "name": "stdout",
     "output_type": "stream",
     "text": [
      "     0     0 136608.324    0  215 150712.220 136608.324  9.36%     -    1s\n"
     ]
    },
    {
     "name": "stdout",
     "output_type": "stream",
     "text": [
      "     0     0 136679.462    0  205 150712.220 136679.462  9.31%     -    1s\n"
     ]
    },
    {
     "name": "stdout",
     "output_type": "stream",
     "text": [
      "     0     0 136681.649    0  224 150712.220 136681.649  9.31%     -    1s\n"
     ]
    },
    {
     "name": "stdout",
     "output_type": "stream",
     "text": [
      "     0     0 136681.819    0  244 150712.220 136681.819  9.31%     -    1s\n"
     ]
    },
    {
     "name": "stdout",
     "output_type": "stream",
     "text": [
      "H    0     0                    147988.56258 136788.519  7.57%     -    1s\n"
     ]
    },
    {
     "name": "stdout",
     "output_type": "stream",
     "text": [
      "     0     0 136788.519    0  236 147988.563 136788.519  7.57%     -    1s\n"
     ]
    },
    {
     "name": "stdout",
     "output_type": "stream",
     "text": [
      "H    0     0                    147393.30919 136798.896  7.19%     -    1s\n"
     ]
    },
    {
     "name": "stdout",
     "output_type": "stream",
     "text": [
      "     0     0 136829.221    0  244 147393.309 136829.221  7.17%     -    1s\n"
     ]
    },
    {
     "name": "stdout",
     "output_type": "stream",
     "text": [
      "     0     0 136840.487    0  275 147393.309 136840.487  7.16%     -    1s\n"
     ]
    },
    {
     "name": "stdout",
     "output_type": "stream",
     "text": [
      "     0     0 136842.358    0  261 147393.309 136842.358  7.16%     -    1s\n"
     ]
    },
    {
     "name": "stdout",
     "output_type": "stream",
     "text": [
      "     0     0 136842.358    0  261 147393.309 136842.358  7.16%     -    1s\n"
     ]
    },
    {
     "name": "stdout",
     "output_type": "stream",
     "text": [
      "     0     0 136879.578    0  264 147393.309 136879.578  7.13%     -    1s\n"
     ]
    },
    {
     "name": "stdout",
     "output_type": "stream",
     "text": [
      "     0     0 136899.836    0  265 147393.309 136899.836  7.12%     -    1s\n"
     ]
    },
    {
     "name": "stdout",
     "output_type": "stream",
     "text": [
      "     0     0 136904.212    0  256 147393.309 136904.212  7.12%     -    1s\n"
     ]
    },
    {
     "name": "stdout",
     "output_type": "stream",
     "text": [
      "     0     0 136909.840    0  249 147393.309 136909.840  7.11%     -    1s\n"
     ]
    },
    {
     "name": "stdout",
     "output_type": "stream",
     "text": [
      "     0     0 136911.080    0  274 147393.309 136911.080  7.11%     -    1s\n"
     ]
    },
    {
     "name": "stdout",
     "output_type": "stream",
     "text": [
      "     0     0 136911.372    0  265 147393.309 136911.372  7.11%     -    1s\n"
     ]
    },
    {
     "name": "stdout",
     "output_type": "stream",
     "text": [
      "H    0     0                    147160.12198 136929.795  6.95%     -    1s\n"
     ]
    },
    {
     "name": "stdout",
     "output_type": "stream",
     "text": [
      "     0     0 136929.795    0  278 147160.122 136929.795  6.95%     -    1s\n"
     ]
    },
    {
     "name": "stdout",
     "output_type": "stream",
     "text": [
      "     0     0 136931.096    0  272 147160.122 136931.096  6.95%     -    1s\n"
     ]
    },
    {
     "name": "stdout",
     "output_type": "stream",
     "text": [
      "     0     0 136931.434    0  276 147160.122 136931.434  6.95%     -    1s\n"
     ]
    },
    {
     "name": "stdout",
     "output_type": "stream",
     "text": [
      "     0     0 136931.556    0  276 147160.122 136931.556  6.95%     -    1s\n"
     ]
    },
    {
     "name": "stdout",
     "output_type": "stream",
     "text": [
      "     0     0 136962.618    0  261 147160.122 136962.618  6.93%     -    1s\n"
     ]
    },
    {
     "name": "stdout",
     "output_type": "stream",
     "text": [
      "     0     0 136964.970    0  241 147160.122 136964.970  6.93%     -    1s\n"
     ]
    },
    {
     "name": "stdout",
     "output_type": "stream",
     "text": [
      "     0     0 136966.023    0  260 147160.122 136966.023  6.93%     -    1s\n"
     ]
    },
    {
     "name": "stdout",
     "output_type": "stream",
     "text": [
      "     0     0 136966.524    0  267 147160.122 136966.524  6.93%     -    1s\n"
     ]
    },
    {
     "name": "stdout",
     "output_type": "stream",
     "text": [
      "     0     0 136976.303    0  269 147160.122 136976.303  6.92%     -    1s\n"
     ]
    },
    {
     "name": "stdout",
     "output_type": "stream",
     "text": [
      "     0     0 136984.683    0  278 147160.122 136984.683  6.91%     -    1s\n"
     ]
    },
    {
     "name": "stdout",
     "output_type": "stream",
     "text": [
      "     0     0 136987.330    0  267 147160.122 136987.330  6.91%     -    1s\n"
     ]
    },
    {
     "name": "stdout",
     "output_type": "stream",
     "text": [
      "     0     0 136987.391    0  271 147160.122 136987.391  6.91%     -    1s\n"
     ]
    },
    {
     "name": "stdout",
     "output_type": "stream",
     "text": [
      "H    0     0                    143404.88202 137024.217  4.45%     -    1s\n"
     ]
    },
    {
     "name": "stdout",
     "output_type": "stream",
     "text": [
      "     0     0 137024.217    0  236 143404.882 137024.217  4.45%     -    1s\n"
     ]
    },
    {
     "name": "stdout",
     "output_type": "stream",
     "text": [
      "     0     0 137039.534    0  247 143404.882 137039.534  4.44%     -    1s\n"
     ]
    },
    {
     "name": "stdout",
     "output_type": "stream",
     "text": [
      "     0     0 137039.534    0  291 143404.882 137039.534  4.44%     -    1s\n"
     ]
    },
    {
     "name": "stdout",
     "output_type": "stream",
     "text": [
      "     0     0 137039.534    0  303 143404.882 137039.534  4.44%     -    1s\n"
     ]
    },
    {
     "name": "stdout",
     "output_type": "stream",
     "text": [
      "     0     0 137060.065    0  284 143404.882 137060.065  4.42%     -    2s\n"
     ]
    },
    {
     "name": "stdout",
     "output_type": "stream",
     "text": [
      "H    0     0                    142449.28895 137066.703  3.78%     -    2s\n"
     ]
    },
    {
     "name": "stdout",
     "output_type": "stream",
     "text": [
      "     0     0 137071.175    0  285 142449.289 137071.175  3.78%     -    2s\n"
     ]
    },
    {
     "name": "stdout",
     "output_type": "stream",
     "text": [
      "     0     0 137074.060    0  282 142449.289 137074.060  3.77%     -    2s\n"
     ]
    },
    {
     "name": "stdout",
     "output_type": "stream",
     "text": [
      "     0     0 137075.409    0  290 142449.289 137075.409  3.77%     -    2s\n"
     ]
    },
    {
     "name": "stdout",
     "output_type": "stream",
     "text": [
      "     0     0 137075.444    0  294 142449.289 137075.444  3.77%     -    2s\n"
     ]
    },
    {
     "name": "stdout",
     "output_type": "stream",
     "text": [
      "     0     0 137084.170    0  276 142449.289 137084.170  3.77%     -    2s\n"
     ]
    },
    {
     "name": "stdout",
     "output_type": "stream",
     "text": [
      "     0     0 137086.439    0  298 142449.289 137086.439  3.76%     -    2s\n"
     ]
    },
    {
     "name": "stdout",
     "output_type": "stream",
     "text": [
      "     0     0 137086.764    0  297 142449.289 137086.764  3.76%     -    2s\n"
     ]
    },
    {
     "name": "stdout",
     "output_type": "stream",
     "text": [
      "     0     0 137102.131    0  281 142449.289 137102.131  3.75%     -    2s\n"
     ]
    },
    {
     "name": "stdout",
     "output_type": "stream",
     "text": [
      "     0     0 137108.573    0  296 142449.289 137108.573  3.75%     -    2s\n"
     ]
    },
    {
     "name": "stdout",
     "output_type": "stream",
     "text": [
      "     0     0 137108.612    0  296 142449.289 137108.612  3.75%     -    2s\n"
     ]
    },
    {
     "name": "stdout",
     "output_type": "stream",
     "text": [
      "     0     0 137114.768    0  294 142449.289 137114.768  3.74%     -    2s\n"
     ]
    },
    {
     "name": "stdout",
     "output_type": "stream",
     "text": [
      "     0     0 137116.896    0  300 142449.289 137116.896  3.74%     -    2s\n"
     ]
    },
    {
     "name": "stdout",
     "output_type": "stream",
     "text": [
      "     0     0 137116.896    0  300 142449.289 137116.896  3.74%     -    2s\n"
     ]
    },
    {
     "name": "stdout",
     "output_type": "stream",
     "text": [
      "     0     0 137117.267    0  290 142449.289 137117.267  3.74%     -    2s\n"
     ]
    },
    {
     "name": "stdout",
     "output_type": "stream",
     "text": [
      "     0     0 137117.965    0  288 142449.289 137117.965  3.74%     -    2s\n"
     ]
    },
    {
     "name": "stdout",
     "output_type": "stream",
     "text": [
      "     0     2 137118.050    0  288 142449.289 137118.050  3.74%     -    2s\n"
     ]
    },
    {
     "name": "stdout",
     "output_type": "stream",
     "text": [
      "H   32    56                    141443.21633 137160.936  3.03%   185    3s\n"
     ]
    },
    {
     "name": "stdout",
     "output_type": "stream",
     "text": [
      "H   33    56                    141437.56758 137160.936  3.02%   185    3s\n"
     ]
    },
    {
     "name": "stdout",
     "output_type": "stream",
     "text": [
      "H   36    56                    141114.74864 137160.936  2.80%   179    3s\n"
     ]
    },
    {
     "name": "stdout",
     "output_type": "stream",
     "text": [
      "H  204   228                    141109.10094 137171.900  2.79%   125    4s\n"
     ]
    },
    {
     "name": "stdout",
     "output_type": "stream",
     "text": [
      "H  205   228                    141109.10058 137171.900  2.79%   124    4s\n"
     ]
    },
    {
     "name": "stdout",
     "output_type": "stream",
     "text": [
      "H 1380  1314                    140696.72819 137171.900  2.51%  82.6    4s\n"
     ]
    },
    {
     "name": "stdout",
     "output_type": "stream",
     "text": [
      "  1639  1549 139319.030   49  157 140696.728 137171.900  2.51%  78.3    5s\n"
     ]
    },
    {
     "name": "stdout",
     "output_type": "stream",
     "text": [
      "  2948  2479 138403.284   29  311 140696.728 137372.668  2.36%  68.1   10s\n"
     ]
    },
    {
     "name": "stdout",
     "output_type": "stream",
     "text": [
      "  2966  2491 139517.994    7  340 140696.728 137414.443  2.33%  67.7   15s\n"
     ]
    },
    {
     "name": "stdout",
     "output_type": "stream",
     "text": [
      "H 3077  2456                    140591.46476 137600.419  2.13%  79.8   17s\n"
     ]
    },
    {
     "name": "stdout",
     "output_type": "stream",
     "text": [
      "H 3084  2335                    139593.87897 137600.419  1.43%  80.3   17s\n"
     ]
    },
    {
     "name": "stdout",
     "output_type": "stream",
     "text": [
      "  5064  3045 138493.870   36  269 139593.879 137601.512  1.43%  99.2   20s\n"
     ]
    },
    {
     "name": "stdout",
     "output_type": "stream",
     "text": [
      "  9040  3999 138934.563   36  226 139593.879 137886.819  1.22%   104   25s\n"
     ]
    },
    {
     "name": "stdout",
     "output_type": "stream",
     "text": [
      " 17233  7866     cutoff   38      139593.879 138144.535  1.04%   106   30s\n"
     ]
    },
    {
     "name": "stdout",
     "output_type": "stream",
     "text": [
      " 24237 11273 139055.188   28  224 139593.879 138235.829  0.97%   108   35s\n"
     ]
    },
    {
     "name": "stdout",
     "output_type": "stream",
     "text": [
      " 33241 15151 138546.093   24  221 139593.879 138338.371  0.90%   109   40s\n"
     ]
    },
    {
     "name": "stdout",
     "output_type": "stream",
     "text": [
      " 41675 18470 138790.755   26  236 139593.879 138406.386  0.85%   109   45s\n"
     ]
    },
    {
     "name": "stdout",
     "output_type": "stream",
     "text": [
      " 50374 20426 139315.681   33  288 139593.879 138463.925  0.81%   110   59s\n"
     ]
    },
    {
     "name": "stdout",
     "output_type": "stream",
     "text": [
      " 50377 20428 138931.731   28  262 139593.879 138463.925  0.81%   110   60s\n"
     ]
    },
    {
     "name": "stdout",
     "output_type": "stream",
     "text": [
      " 50406 20447 138489.254   23  316 139593.879 138463.925  0.81%   109   65s\n"
     ]
    },
    {
     "name": "stdout",
     "output_type": "stream",
     "text": [
      " 50425 20460 139076.058   45  339 139593.879 138463.925  0.81%   109   70s\n"
     ]
    },
    {
     "name": "stdout",
     "output_type": "stream",
     "text": [
      " 50440 20470 139502.582   35  333 139593.879 138463.925  0.81%   109   75s\n"
     ]
    },
    {
     "name": "stdout",
     "output_type": "stream",
     "text": [
      " 50456 20481 139096.232   32  337 139593.879 138463.925  0.81%   109   80s\n"
     ]
    },
    {
     "name": "stdout",
     "output_type": "stream",
     "text": [
      " 50471 20491 138822.765   34  345 139593.879 138463.925  0.81%   109   85s\n"
     ]
    },
    {
     "name": "stdout",
     "output_type": "stream",
     "text": [
      " 50488 20502 138944.839   34  349 139593.879 138463.925  0.81%   109   90s\n"
     ]
    },
    {
     "name": "stdout",
     "output_type": "stream",
     "text": [
      " 50504 20513 138931.751   20  349 139593.879 138463.925  0.81%   109   95s\n"
     ]
    },
    {
     "name": "stdout",
     "output_type": "stream",
     "text": [
      " 50518 20522 138709.204   37  363 139593.879 138463.925  0.81%   109  100s\n"
     ]
    },
    {
     "name": "stdout",
     "output_type": "stream",
     "text": [
      " 50698 20661 139449.629   28  254 139593.879 138463.925  0.81%   110  105s\n"
     ]
    },
    {
     "name": "stdout",
     "output_type": "stream",
     "text": [
      " 52579 21061     cutoff   62      139593.879 138463.925  0.81%   111  110s\n"
     ]
    },
    {
     "name": "stdout",
     "output_type": "stream",
     "text": [
      " 57794 21893 139191.817   58  132 139593.879 138463.925  0.81%   110  115s\n"
     ]
    },
    {
     "name": "stdout",
     "output_type": "stream",
     "text": [
      " 63697 22548 138523.962   33  275 139593.879 138463.925  0.81%   110  120s\n"
     ]
    },
    {
     "name": "stdout",
     "output_type": "stream",
     "text": [
      " 68247 22595 138727.191   34  202 139593.879 138463.925  0.81%   109  129s\n"
     ]
    },
    {
     "name": "stdout",
     "output_type": "stream",
     "text": [
      " 68279 22842 138751.637   35  179 139593.879 138463.925  0.81%   109  130s\n"
     ]
    },
    {
     "name": "stdout",
     "output_type": "stream",
     "text": [
      " 74839 23470 139058.266   40  245 139593.879 138463.925  0.81%   109  135s\n"
     ]
    },
    {
     "name": "stdout",
     "output_type": "stream",
     "text": [
      " 78612 23480     cutoff   44      139593.879 138463.925  0.81%   109  145s\n"
     ]
    },
    {
     "name": "stdout",
     "output_type": "stream",
     "text": [
      " 85731 23770 139570.049   35  255 139593.879 138480.473  0.80%   108  150s\n"
     ]
    },
    {
     "name": "stdout",
     "output_type": "stream",
     "text": [
      " 93386 23827 138688.274   43  234 139593.879 138531.170  0.76%   108  155s\n"
     ]
    },
    {
     "name": "stdout",
     "output_type": "stream",
     "text": [
      " 102230 23738     cutoff   34      139593.879 138578.904  0.73%   107  161s\n"
     ]
    },
    {
     "name": "stdout",
     "output_type": "stream",
     "text": [
      "*104052 21643              46    139485.54411 138583.622  0.65%   107  161s\n"
     ]
    },
    {
     "name": "stdout",
     "output_type": "stream",
     "text": [
      "H105586 20554                    139479.89522 138596.740  0.63%   107  163s\n"
     ]
    },
    {
     "name": "stdout",
     "output_type": "stream",
     "text": [
      " 107363 21005     cutoff   66      139479.895 138606.936  0.63%   107  165s\n"
     ]
    },
    {
     "name": "stdout",
     "output_type": "stream",
     "text": [
      " 115109 22506     cutoff   41      139479.895 138641.145  0.60%   107  170s\n"
     ]
    },
    {
     "name": "stdout",
     "output_type": "stream",
     "text": [
      " 123303 23823 139366.644   41  147 139479.895 138680.414  0.57%   106  175s\n"
     ]
    },
    {
     "name": "stdout",
     "output_type": "stream",
     "text": [
      " 132022 24788 138964.979   38  233 139479.895 138720.769  0.54%   106  181s\n"
     ]
    },
    {
     "name": "stdout",
     "output_type": "stream",
     "text": [
      " 136484 25598 139064.998   39  251 139479.895 138738.149  0.53%   106  186s\n"
     ]
    },
    {
     "name": "stdout",
     "output_type": "stream",
     "text": [
      " 146100 26428     cutoff   51      139479.895 138772.593  0.51%   105  191s\n"
     ]
    },
    {
     "name": "stdout",
     "output_type": "stream",
     "text": [
      " 155097 26999 139301.353   40  201 139479.895 138804.676  0.48%   105  196s\n"
     ]
    },
    {
     "name": "stdout",
     "output_type": "stream",
     "text": [
      " 161402 27329 139264.024   37  206 139479.895 138825.023  0.47%   105  200s\n"
     ]
    },
    {
     "name": "stdout",
     "output_type": "stream",
     "text": [
      " 170466 27434     cutoff   43      139479.895 138856.957  0.45%   105  205s\n"
     ]
    },
    {
     "name": "stdout",
     "output_type": "stream",
     "text": [
      " 179676 27365 139146.441   33   91 139479.895 138886.219  0.43%   104  211s\n"
     ]
    },
    {
     "name": "stdout",
     "output_type": "stream",
     "text": [
      " 189337 27285 139384.722   40  236 139479.895 138911.910  0.41%   104  220s\n"
     ]
    },
    {
     "name": "stdout",
     "output_type": "stream",
     "text": [
      " 197028 26820 139098.764   41  254 139479.895 138936.134  0.39%   104  226s\n"
     ]
    },
    {
     "name": "stdout",
     "output_type": "stream",
     "text": [
      " 203858 26314 139172.697   42  233 139479.895 138955.318  0.38%   103  230s\n"
     ]
    },
    {
     "name": "stdout",
     "output_type": "stream",
     "text": [
      " 213570 25314     cutoff   42      139479.895 138986.660  0.35%   103  236s\n"
     ]
    },
    {
     "name": "stdout",
     "output_type": "stream",
     "text": [
      " 220161 24424 139388.758   34  212 139479.895 139006.711  0.34%   103  240s\n"
     ]
    },
    {
     "name": "stdout",
     "output_type": "stream",
     "text": [
      " 229974 22881 139368.220   44  238 139479.895 139037.086  0.32%   102  246s\n"
     ]
    },
    {
     "name": "stdout",
     "output_type": "stream",
     "text": [
      " 236148 21599     cutoff   41      139479.895 139059.113  0.30%   102  250s\n"
     ]
    },
    {
     "name": "stdout",
     "output_type": "stream",
     "text": [
      " 245668 19119 139224.289   44  218 139479.895 139095.569  0.28%   102  256s\n"
     ]
    },
    {
     "name": "stdout",
     "output_type": "stream",
     "text": [
      " 252051 17306 139376.638   34   81 139479.895 139120.405  0.26%   102  260s\n"
     ]
    },
    {
     "name": "stdout",
     "output_type": "stream",
     "text": [
      " 258393 15150 139314.794   37  245 139479.895 139147.669  0.24%   102  265s\n"
     ]
    },
    {
     "name": "stdout",
     "output_type": "stream",
     "text": [
      " 268039 11195 139334.882   47  210 139479.895 139192.730  0.21%   102  271s\n"
     ]
    },
    {
     "name": "stdout",
     "output_type": "stream",
     "text": [
      "\n"
     ]
    },
    {
     "name": "stdout",
     "output_type": "stream",
     "text": [
      "Cutting planes:\n"
     ]
    },
    {
     "name": "stdout",
     "output_type": "stream",
     "text": [
      "  Gomory: 35\n"
     ]
    },
    {
     "name": "stdout",
     "output_type": "stream",
     "text": [
      "  Lift-and-project: 17\n"
     ]
    },
    {
     "name": "stdout",
     "output_type": "stream",
     "text": [
      "  Cover: 185\n"
     ]
    },
    {
     "name": "stdout",
     "output_type": "stream",
     "text": [
      "  Implied bound: 10\n"
     ]
    },
    {
     "name": "stdout",
     "output_type": "stream",
     "text": [
      "  Projected implied bound: 5\n"
     ]
    },
    {
     "name": "stdout",
     "output_type": "stream",
     "text": [
      "  MIR: 1009\n"
     ]
    },
    {
     "name": "stdout",
     "output_type": "stream",
     "text": [
      "  StrongCG: 43\n"
     ]
    },
    {
     "name": "stdout",
     "output_type": "stream",
     "text": [
      "  Flow cover: 782\n"
     ]
    },
    {
     "name": "stdout",
     "output_type": "stream",
     "text": [
      "  Flow path: 45\n"
     ]
    },
    {
     "name": "stdout",
     "output_type": "stream",
     "text": [
      "  GUB cover: 1\n"
     ]
    },
    {
     "name": "stdout",
     "output_type": "stream",
     "text": [
      "  Inf proof: 3\n"
     ]
    },
    {
     "name": "stdout",
     "output_type": "stream",
     "text": [
      "  Zero half: 108\n"
     ]
    },
    {
     "name": "stdout",
     "output_type": "stream",
     "text": [
      "  Network: 8\n"
     ]
    },
    {
     "name": "stdout",
     "output_type": "stream",
     "text": [
      "  Relax-and-lift: 4\n"
     ]
    },
    {
     "name": "stdout",
     "output_type": "stream",
     "text": [
      "\n"
     ]
    },
    {
     "name": "stdout",
     "output_type": "stream",
     "text": [
      "Explored 271427 nodes (27554559 simplex iterations) in 271.32 seconds (332.14 work units)\n"
     ]
    },
    {
     "name": "stdout",
     "output_type": "stream",
     "text": [
      "Thread count was 24 (of 24 available processors)\n"
     ]
    },
    {
     "name": "stdout",
     "output_type": "stream",
     "text": [
      "\n"
     ]
    },
    {
     "name": "stdout",
     "output_type": "stream",
     "text": [
      "Solution count 10: 139480 139486 139594 ... 141443\n"
     ]
    },
    {
     "name": "stdout",
     "output_type": "stream",
     "text": [
      "\n"
     ]
    },
    {
     "name": "stdout",
     "output_type": "stream",
     "text": [
      "Optimal solution found (tolerance 2.00e-03)\n"
     ]
    },
    {
     "name": "stdout",
     "output_type": "stream",
     "text": [
      "Best objective 1.394798952160e+05, best bound 1.392114129073e+05, gap 0.1925%\n"
     ]
    }
   ],
   "source": [
    "print(f'Solving \"{m.name}\", capacity = {m.k.value}\\n')\n",
    "status = solver.solve(m, tee=True, warmstart=True)"
   ]
  },
  {
   "cell_type": "code",
   "execution_count": 26,
   "id": "4dec60b8-7de5-4eed-a541-6278b9902b24",
   "metadata": {},
   "outputs": [],
   "source": [
    "S_solver = omo.S_from_solution(m, solver, status)\n",
    "G_solver = G_from_S(S_solver, A)\n",
    "G_irr = PathFinder(G_solver, planar=P, A=A).create_detours()"
   ]
  },
  {
   "cell_type": "code",
   "execution_count": 27,
   "id": "8744ebe3-ee97-4e18-a981-59f55f3028c7",
   "metadata": {},
   "outputs": [
    {
     "data": {
      "text/plain": [
       "43091183.19165111"
      ]
     },
     "execution_count": 27,
     "metadata": {},
     "output_type": "execute_result"
    }
   ],
   "source": [
    "assign_cables(G_irr, cables)\n",
    "G_irr.size(weight='cost')"
   ]
  },
  {
   "cell_type": "code",
   "execution_count": 28,
   "id": "882cd3f3-0f6e-44ce-9d66-acfb46226b1d",
   "metadata": {},
   "outputs": [
    {
     "data": {
      "image/png": "[encoded data removed]",
      "text/plain": [
       "<Figure size 3240x1224 with 1 Axes>"
      ]
     },
     "metadata": {},
     "output_type": "display_data"
    }
   ],
   "source": [
    "gplot(G_irr, node_tag=None);"
   ]
  },
  {
   "cell_type": "markdown",
   "id": "056732ea-9778-4405-949d-08c4f817ce09",
   "metadata": {},
   "source": [
    "## Layouts' edge list"
   ]
  },
  {
   "cell_type": "markdown",
   "id": "b8450a23-c8d4-4091-af5f-b8f547407f52",
   "metadata": {},
   "source": [
    "These lists of 3-tuples has all the edges and their cable type (as an index to the `turbines_per_cable` list), i.e. (coordinate_A, coordinate_B, cable_type).\n",
    "\n",
    "Negative node indices represent substations, the node indices ranging from 0 to 73 represent the WT in the order they were given.\n",
    "\n",
    "If the layout has contours or detours, indices will go beyond the number of coordinates (WT, SS, borders) provided, and the mapping of these additional indices to indices to the provided coordinates is presented."
   ]
  },
  {
   "cell_type": "code",
   "execution_count": 29,
   "id": "fe392b03-d4e5-410d-b0bf-b2f6d1b15b63",
   "metadata": {},
   "outputs": [
    {
     "data": {
      "text/plain": [
       "EdgeDataView([(-1, 47, 2), (-1, 56, 2), (-1, 46, 2), (-1, 33, 2), (-1, 45, 2), (-1, 57, 2), (-1, 34, 2), (-1, 24, 2), (-1, 49, 2), (-1, 58, 2), (-1, 32, 2), (24, 15, 2), (34, 25, 2), (45, 44, 1), (56, 80, 1), (57, 67, 2), (47, 48, 1), (58, 59, 2), (49, 50, 2), (46, 35, 2), (33, 23, 2), (32, 21, 2), (18, 19, 0), (19, 28, 0), (28, 27, 0), (17, 26, 1), (17, 16, 0), (26, 25, 1), (16, 11, 0), (11, 10, 0), (29, 38, 0), (29, 40, 0), (38, 37, 0), (27, 36, 1), (36, 35, 1), (15, 9, 1), (9, 5, 1), (5, 4, 0), (4, 1, 0), (23, 22, 1), (22, 14, 1), (14, 8, 0), (8, 3, 0), (3, 2, 0), (13, 20, 1), (13, 12, 0), (20, 21, 1), (12, 7, 0), (7, 6, 0), (1, 0, 0), (30, 31, 0), (31, 44, 0), (31, 42, 0), (44, 43, 0), (53, 62, 0), (53, 64, 0), (62, 51, 0), (41, 52, 0), (41, 54, 0), (52, 39, 1), (63, 70, 0), (70, 61, 0), (61, 69, 0), (69, 68, 1), (51, 60, 1), (60, 59, 1), (39, 50, 1), (37, 48, 1), (55, 54, 0), (72, 71, 0), (71, 66, 0), (73, 66, 0), (66, 65, 1), (68, 67, 1), (65, 80, 1)])"
      ]
     },
     "execution_count": 29,
     "metadata": {},
     "output_type": "execute_result"
    }
   ],
   "source": [
    "G_reg.edges(data='cable')"
   ]
  },
  {
   "cell_type": "markdown",
   "id": "8894a308-87ef-411d-b0a3-04cae5a8431d",
   "metadata": {},
   "source": [
    "Mapping of contour/detour node to the index of its VertexC coordinate :"
   ]
  },
  {
   "cell_type": "code",
   "execution_count": 30,
   "id": "810eeab3-dc37-4cc6-bc91-dd407142a5e6",
   "metadata": {},
   "outputs": [
    {
     "name": "stdout",
     "output_type": "stream",
     "text": [
      "{80: 76}\n"
     ]
    }
   ],
   "source": [
    "if G_reg.graph.get('C') or G_reg.graph.get('D'):\n",
    "    R, T, B = (G_reg.graph[k] for k in 'RTB')\n",
    "    print(dict(enumerate(\n",
    "        G_reg.graph['fnT'][T + B:-R],\n",
    "        start=T + B\n",
    "    )))"
   ]
  },
  {
   "cell_type": "code",
   "execution_count": 31,
   "id": "6574b182-8a8a-488e-a82d-9353d347b634",
   "metadata": {},
   "outputs": [
    {
     "data": {
      "text/plain": [
       "EdgeDataView([(-1, 41, 2), (-1, 28, 2), (-1, 49, 2), (-1, 55, 1), (-1, 39, 2), (-1, 60, 2), (-1, 70, 2), (-1, 25, 2), (-1, 33, 2), (-1, 80, 2), (-1, 81, 2), (41, 51, 2), (39, 63, 2), (33, 45, 2), (49, 54, 2), (28, 53, 2), (71, 64, 2), (71, 81, 2), (55, 40, 0), (25, 42, 2), (70, 67, 2), (73, 68, 2), (73, 80, 2), (60, 59, 2), (40, 57, 0), (37, 51, 1), (37, 20, 1), (62, 36, 0), (62, 69, 1), (69, 63, 1), (36, 35, 0), (35, 6, 0), (64, 61, 1), (61, 58, 1), (58, 65, 0), (2, 8, 1), (2, 7, 0), (8, 42, 1), (23, 43, 0), (43, 7, 0), (67, 22, 1), (20, 4, 0), (20, 34, 0), (1, 34, 0), (12, 3, 1), (12, 45, 1), (3, 15, 0), (22, 44, 1), (10, 24, 0), (24, 17, 0), (5, 9, 0), (5, 32, 0), (32, 14, 1), (14, 68, 1), (13, 26, 0), (26, 31, 0), (31, 56, 0), (30, 54, 1), (30, 56, 1), (29, 53, 1), (29, 16, 1), (16, 17, 0), (59, 18, 0), (59, 52, 0), (18, 11, 0), (52, 27, 0), (27, 38, 0), (47, 65, 0), (65, 48, 0), (0, 50, 0), (50, 46, 0), (57, 72, 0), (15, 21, 0), (21, 66, 0), (46, 44, 0), (19, 9, 0)])"
      ]
     },
     "execution_count": 31,
     "metadata": {},
     "output_type": "execute_result"
    }
   ],
   "source": [
    "G_irr.edges(data='cable')"
   ]
  },
  {
   "cell_type": "markdown",
   "id": "cdd1fadb-c942-4f5a-aaad-9c857fbb711f",
   "metadata": {},
   "source": [
    "Mapping of contour/detour node to the index of its VertexC coordinate :"
   ]
  },
  {
   "cell_type": "code",
   "execution_count": 32,
   "id": "9159a31e-2f3c-4c97-aa94-8bd3a46e21b1",
   "metadata": {},
   "outputs": [
    {
     "name": "stdout",
     "output_type": "stream",
     "text": [
      "{80: 28, 81: 76}\n"
     ]
    }
   ],
   "source": [
    "if G_irr.graph.get('C') or G_irr.graph.get('D'):\n",
    "    R, T, B = (G_irr.graph[k] for k in 'RTB')\n",
    "    print(dict(enumerate(\n",
    "        G_irr.graph['fnT'][T + B:-R],\n",
    "        start=T + B\n",
    "    )))"
   ]
  }
 ],
 "metadata": {
  "language_info": {
   "name": "python"
  }
 },
 "nbformat": 4,
 "nbformat_minor": 5
}
