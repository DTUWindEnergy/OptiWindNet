{
 "cells": [
  {
   "cell_type": "markdown",
   "id": "ed13a6b8-1d5b-4ce0-9cd4-b81bac7b07dd",
   "metadata": {},
   "source": [
    "## Plotting"
   ]
  },
  {
   "cell_type": "code",
   "execution_count": 4,
   "id": "b0f61785-6be5-4a0f-8282-5c17f4cc28ad",
   "metadata": {},
   "outputs": [
    {
     "name": "stderr",
     "output_type": "stream",
     "text": [
      "Invalid cable values: invalid\n"
     ]
    },
    {
     "ename": "AttributeError",
     "evalue": "'NoneType' object has no attribute 'graph'",
     "output_type": "error",
     "traceback": [
      "\u001b[31m---------------------------------------------------------------------------\u001b[39m",
      "\u001b[31mAttributeError\u001b[39m                            Traceback (most recent call last)",
      "\u001b[36mFile \u001b[39m\u001b[32mc:\\Users\\amia\\AppData\\Local\\miniconda3\\envs\\OptiWindNet\\Lib\\site-packages\\IPython\\core\\formatters.py:406\u001b[39m, in \u001b[36mBaseFormatter.__call__\u001b[39m\u001b[34m(self, obj)\u001b[39m\n\u001b[32m    404\u001b[39m     method = get_real_method(obj, \u001b[38;5;28mself\u001b[39m.print_method)\n\u001b[32m    405\u001b[39m     \u001b[38;5;28;01mif\u001b[39;00m method \u001b[38;5;129;01mis\u001b[39;00m \u001b[38;5;129;01mnot\u001b[39;00m \u001b[38;5;28;01mNone\u001b[39;00m:\n\u001b[32m--> \u001b[39m\u001b[32m406\u001b[39m         \u001b[38;5;28;01mreturn\u001b[39;00m \u001b[43mmethod\u001b[49m\u001b[43m(\u001b[49m\u001b[43m)\u001b[49m\n\u001b[32m    407\u001b[39m     \u001b[38;5;28;01mreturn\u001b[39;00m \u001b[38;5;28;01mNone\u001b[39;00m\n\u001b[32m    408\u001b[39m \u001b[38;5;28;01melse\u001b[39;00m:\n",
      "\u001b[36mFile \u001b[39m\u001b[32mC:\\code\\OptiWindNet\\optiwindnet\\api.py:176\u001b[39m, in \u001b[36mWindFarmNetwork._repr_svg_\u001b[39m\u001b[34m(self)\u001b[39m\n\u001b[32m    174\u001b[39m \u001b[38;5;28;01mdef\u001b[39;00m\u001b[38;5;250m \u001b[39m\u001b[34m_repr_svg_\u001b[39m(\u001b[38;5;28mself\u001b[39m):\n\u001b[32m    175\u001b[39m \u001b[38;5;250m    \u001b[39m\u001b[33;03m\"\"\"IPython hook for rendering the graph as SVG in notebooks.\"\"\"\u001b[39;00m\n\u001b[32m--> \u001b[39m\u001b[32m176\u001b[39m     \u001b[38;5;28;01mreturn\u001b[39;00m \u001b[43msvgplot\u001b[49m\u001b[43m(\u001b[49m\u001b[38;5;28;43mself\u001b[39;49m\u001b[43m.\u001b[49m\u001b[43mG\u001b[49m\u001b[43m)\u001b[49m._repr_svg_()\n",
      "\u001b[36mFile \u001b[39m\u001b[32mC:\\code\\OptiWindNet\\optiwindnet\\svg.py:45\u001b[39m, in \u001b[36msvgplot\u001b[39m\u001b[34m(G, landscape, dark, infobox, node_size, github_bugfix)\u001b[39m\n\u001b[32m     43\u001b[39m root_side = \u001b[38;5;28mround\u001b[39m(\u001b[32m1.77\u001b[39m*node_size)\n\u001b[32m     44\u001b[39m \u001b[38;5;66;03m# TODO: ¿use SVG's attr overflow=\"visible\" instead of margin?\u001b[39;00m\n\u001b[32m---> \u001b[39m\u001b[32m45\u001b[39m R, T, B = (G.graph[k] \u001b[38;5;28;01mfor\u001b[39;00m k \u001b[38;5;129;01min\u001b[39;00m \u001b[33m'\u001b[39m\u001b[33mRTB\u001b[39m\u001b[33m'\u001b[39m)\n\u001b[32m     46\u001b[39m VertexC = G.graph[\u001b[33m'\u001b[39m\u001b[33mVertexC\u001b[39m\u001b[33m'\u001b[39m]\n\u001b[32m     47\u001b[39m C, D = (G.graph.get(k, \u001b[32m0\u001b[39m) \u001b[38;5;28;01mfor\u001b[39;00m k \u001b[38;5;129;01min\u001b[39;00m \u001b[33m'\u001b[39m\u001b[33mCD\u001b[39m\u001b[33m'\u001b[39m)\n",
      "\u001b[36mFile \u001b[39m\u001b[32mC:\\code\\OptiWindNet\\optiwindnet\\svg.py:45\u001b[39m, in \u001b[36m<genexpr>\u001b[39m\u001b[34m(.0)\u001b[39m\n\u001b[32m     43\u001b[39m root_side = \u001b[38;5;28mround\u001b[39m(\u001b[32m1.77\u001b[39m*node_size)\n\u001b[32m     44\u001b[39m \u001b[38;5;66;03m# TODO: ¿use SVG's attr overflow=\"visible\" instead of margin?\u001b[39;00m\n\u001b[32m---> \u001b[39m\u001b[32m45\u001b[39m R, T, B = (\u001b[43mG\u001b[49m\u001b[43m.\u001b[49m\u001b[43mgraph\u001b[49m[k] \u001b[38;5;28;01mfor\u001b[39;00m k \u001b[38;5;129;01min\u001b[39;00m \u001b[33m'\u001b[39m\u001b[33mRTB\u001b[39m\u001b[33m'\u001b[39m)\n\u001b[32m     46\u001b[39m VertexC = G.graph[\u001b[33m'\u001b[39m\u001b[33mVertexC\u001b[39m\u001b[33m'\u001b[39m]\n\u001b[32m     47\u001b[39m C, D = (G.graph.get(k, \u001b[32m0\u001b[39m) \u001b[38;5;28;01mfor\u001b[39;00m k \u001b[38;5;129;01min\u001b[39;00m \u001b[33m'\u001b[39m\u001b[33mCD\u001b[39m\u001b[33m'\u001b[39m)\n",
      "\u001b[31mAttributeError\u001b[39m: 'NoneType' object has no attribute 'graph'"
     ]
    },
    {
     "data": {
      "text/plain": [
       "<optiwindnet.api.WindFarmNetwork at 0x12d3585c2c0>"
      ]
     },
     "execution_count": 4,
     "metadata": {},
     "output_type": "execute_result"
    }
   ],
   "source": [
    "\n",
    "\n",
    "import numpy as np\n",
    "from optiwindnet.api import WindFarmNetwork, Heuristic\n",
    "\n",
    "\n",
    "turbines = np.array([[0, 0], [1, 0], [0, 1]])\n",
    "substations = np.array([[2, 2]])\n",
    "\n",
    "basic_cables = [(100, 1.0), (200, 1.5)]\n",
    "\n",
    "network = WindFarmNetwork(cables=basic_cables, turbinesC=turbines, substationsC=substations)\n",
    "assert network.L is not None\n",
    "assert network.cables_capacity == 200\n",
    "\n",
    "\n",
    "WindFarmNetwork(cables='invalid', turbinesC=turbines, substationsC=substations)"
   ]
  }
 ],
 "metadata": {
  "kernelspec": {
   "display_name": "OptiWindNet",
   "language": "python",
   "name": "python3"
  },
  "language_info": {
   "codemirror_mode": {
    "name": "ipython",
    "version": 3
   },
   "file_extension": ".py",
   "mimetype": "text/x-python",
   "name": "python",
   "nbconvert_exporter": "python",
   "pygments_lexer": "ipython3",
   "version": "3.12.9"
  }
 },
 "nbformat": 4,
 "nbformat_minor": 5
}
