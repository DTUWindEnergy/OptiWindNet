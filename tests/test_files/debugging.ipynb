{
 "cells": [
  {
   "cell_type": "code",
   "execution_count": 17,
   "id": "c42a3703-113b-4aee-8dfb-a0b3b54663e6",
   "metadata": {},
   "outputs": [],
   "source": [
    "from optiwindnet.api import WindFarmNetwork, HGSRouter"
   ]
  },
  {
   "cell_type": "code",
   "execution_count": 18,
   "id": "dcede524",
   "metadata": {},
   "outputs": [],
   "source": [
    "# Display figures as SVG in Jupyter notebooks\n",
    "%config InlineBackend.figure_formats = ['svg']"
   ]
  },
  {
   "cell_type": "code",
   "execution_count": 19,
   "id": "ed908310",
   "metadata": {},
   "outputs": [],
   "source": [
    "wfn = WindFarmNetwork.from_pbf(filepath='DTU_tests_2ss_40wt.osm.pbf', cables= 5)"
   ]
  },
  {
   "cell_type": "code",
   "execution_count": 20,
   "id": "c838598f",
   "metadata": {},
   "outputs": [
    {
     "data": {
      "image/svg+xml": [
       "<svg xmlns=\"http://www.w3.org/2000/svg\" viewBox=\"0 0 1920 891\"><defs><circle stroke=\"none\" stroke-width=\"2\" id=\"wtg\" r=\"12\"/><rect stroke=\"#111\" stroke-width=\"2\" id=\"oss\" width=\"21\" height=\"21\" fill=\"lawngreen\"/></defs><g id=\"dtu\"><path stroke=\"silver\" stroke-dasharray=\"15 7\" stroke-width=\"2\" id=\"border\" d=\"M30 861 405 859 519 794 605 676 650 524 650 366 770 366 770 861 1150 861 1149 366 1270 366 1271 533 1319 684 1408 799 1522 860 1646 858 1759 793 1845 675 1890 525 1890 30 1625 30 1625 501 1618 537 1606 564 1589 579 1572 580 1555 566 1542 539 1535 502 1535 31 30 30z M260 658 260 233 328 232 372 263 407 323 426 400 426 485 408 564 375 625 331 658z\" fill-rule=\"evenodd\" fill=\"#111\"/><g id=\"WTGgrp\"><g fill=\"#9edae5\"><use href=\"#wtg\" x=\"107\" y=\"42\"/><use href=\"#wtg\" x=\"237\" y=\"206\"/><use href=\"#wtg\" x=\"58\" y=\"286\"/><use href=\"#wtg\" x=\"239\" y=\"398\"/><use href=\"#wtg\" x=\"77\" y=\"590\"/><use href=\"#wtg\" x=\"329\" y=\"847\"/><use href=\"#wtg\" x=\"525\" y=\"753\"/><use href=\"#wtg\" x=\"236\" y=\"687\"/><use href=\"#wtg\" x=\"633\" y=\"448\"/><use href=\"#wtg\" x=\"438\" y=\"556\"/><use href=\"#wtg\" x=\"420\" y=\"282\"/><use href=\"#wtg\" x=\"392\" y=\"81\"/><use href=\"#wtg\" x=\"575\" y=\"202\"/><use href=\"#wtg\" x=\"739\" y=\"334\"/><use href=\"#wtg\" x=\"630\" y=\"43\"/><use href=\"#wtg\" x=\"1064\" y=\"42\"/><use href=\"#wtg\" x=\"915\" y=\"397\"/><use href=\"#wtg\" x=\"785\" y=\"526\"/><use href=\"#wtg\" x=\"1643\" y=\"840\"/><use href=\"#wtg\" x=\"904\" y=\"678\"/><use href=\"#wtg\" x=\"993\" y=\"847\"/><use href=\"#wtg\" x=\"1129\" y=\"512\"/><use href=\"#wtg\" x=\"828\" y=\"155\"/><use href=\"#wtg\" x=\"1271\" y=\"147\"/><use href=\"#wtg\" x=\"1068\" y=\"249\"/><use href=\"#wtg\" x=\"1517\" y=\"49\"/><use href=\"#wtg\" x=\"1519\" y=\"280\"/><use href=\"#wtg\" x=\"1313\" y=\"351\"/><use href=\"#wtg\" x=\"1445\" y=\"482\"/><use href=\"#wtg\" x=\"1338\" y=\"626\"/><use href=\"#wtg\" x=\"1446\" y=\"787\"/><use href=\"#wtg\" x=\"1588\" y=\"630\"/><use href=\"#wtg\" x=\"1823\" y=\"671\"/><use href=\"#wtg\" x=\"1649\" y=\"377\"/><use href=\"#wtg\" x=\"1875\" y=\"478\"/><use href=\"#wtg\" x=\"1876\" y=\"252\"/><use href=\"#wtg\" x=\"51\" y=\"845\"/><use href=\"#wtg\" x=\"1692\" y=\"146\"/><use href=\"#wtg\" x=\"1878\" y=\"42\"/><use href=\"#wtg\" x=\"1137\" y=\"704\"/></g></g><g id=\"OSSgrp\"><use href=\"#oss\" x=\"1735.5\" y=\"317.5\"/><use href=\"#oss\" x=\"126.5\" y=\"332.5\"/></g></g></svg>"
      ],
      "text/plain": [
       "<optiwindnet.api.WindFarmNetwork at 0x18e0cfb83b0>"
      ]
     },
     "execution_count": 20,
     "metadata": {},
     "output_type": "execute_result"
    }
   ],
   "source": [
    "wfn"
   ]
  },
  {
   "cell_type": "code",
   "execution_count": 21,
   "id": "7884b794",
   "metadata": {},
   "outputs": [],
   "source": [
    "router = HGSRouter(time_limit=10)"
   ]
  },
  {
   "cell_type": "code",
   "execution_count": 22,
   "id": "98fc84a8",
   "metadata": {},
   "outputs": [],
   "source": [
    "res = wfn.optimize(router=router)"
   ]
  },
  {
   "cell_type": "code",
   "execution_count": 23,
   "id": "fbb5bb95",
   "metadata": {},
   "outputs": [
    {
     "data": {
      "image/svg+xml": [
       "<svg xmlns=\"http://www.w3.org/2000/svg\" viewBox=\"0 0 1920 891\"><defs><circle stroke=\"orange\" stroke-opacity=\"0.3\" stroke-width=\"4\" id=\"dt\" r=\"23\" fill=\"none\"/><circle stroke=\"none\" stroke-width=\"2\" id=\"wtg\" r=\"12\"/><rect stroke=\"#111\" stroke-width=\"2\" id=\"oss\" width=\"21\" height=\"21\" fill=\"lawngreen\"/><filter x=\"-5%\" y=\"-5%\" id=\"bg_textbox\" width=\"110%\" height=\"110%\"><feFlood flood-opacity=\"0.6\" flood-color=\"black\" result=\"bg\"/><feMerge><feMergeNode in=\"bg\"/><feMergeNode in=\"SourceGraphic\"/></feMerge></filter></defs><g id=\"dtu\"><path stroke=\"silver\" stroke-dasharray=\"15 7\" stroke-width=\"2\" id=\"border\" d=\"M30 861 405 859 519 794 605 676 650 524 650 366 770 366 770 861 1150 861 1149 366 1270 366 1271 533 1319 684 1408 799 1522 860 1646 858 1759 793 1845 675 1890 525 1890 30 1625 30 1625 501 1618 537 1606 564 1589 579 1572 580 1555 566 1542 539 1535 502 1535 31 30 30z M260 658 260 233 328 232 372 263 407 323 426 400 426 485 408 564 375 625 331 658z\" fill-rule=\"evenodd\" fill=\"#111\"/><g stroke=\"crimson\" stroke-width=\"4\" id=\"edges_unspecified\"><line x1=\"1313\" y1=\"351\" x2=\"1445\" y2=\"482\"/><line x1=\"1129\" y1=\"512\" x2=\"1137\" y2=\"704\"/><line x1=\"993\" y1=\"847\" x2=\"1137\" y2=\"704\"/><line x1=\"1746\" y1=\"328\" x2=\"1692\" y2=\"146\"/><line x1=\"1746\" y1=\"328\" x2=\"1649\" y2=\"377\"/><line x1=\"1643\" y1=\"840\" x2=\"1588\" y2=\"630\"/><line x1=\"1643\" y1=\"840\" x2=\"1446\" y2=\"787\"/><line x1=\"1338\" y1=\"626\" x2=\"1446\" y2=\"787\"/><line x1=\"1692\" y1=\"146\" x2=\"1878\" y2=\"42\"/><line x1=\"1876\" y1=\"252\" x2=\"1878\" y2=\"42\"/><line x1=\"1875\" y1=\"478\" x2=\"1876\" y2=\"252\"/><line x1=\"1823\" y1=\"671\" x2=\"1875\" y2=\"478\"/><line x1=\"1517\" y1=\"49\" x2=\"1519\" y2=\"280\"/><line x1=\"1271\" y1=\"147\" x2=\"1517\" y2=\"49\"/><line x1=\"1271\" y1=\"147\" x2=\"1068\" y2=\"249\"/><line x1=\"1064\" y1=\"42\" x2=\"1068\" y2=\"249\"/><line x1=\"137\" y1=\"343\" x2=\"239\" y2=\"398\"/><line x1=\"239\" y1=\"398\" x2=\"77\" y2=\"590\"/><line x1=\"77\" y1=\"590\" x2=\"236\" y2=\"687\"/><line x1=\"329\" y1=\"847\" x2=\"236\" y2=\"687\"/><line x1=\"329\" y1=\"847\" x2=\"51\" y2=\"845\"/><line x1=\"137\" y1=\"343\" x2=\"237\" y2=\"206\"/><line x1=\"137\" y1=\"343\" x2=\"58\" y2=\"286\"/><line x1=\"633\" y1=\"448\" x2=\"420\" y2=\"282\"/><line x1=\"633\" y1=\"448\" x2=\"438\" y2=\"556\"/><line x1=\"525\" y1=\"753\" x2=\"438\" y2=\"556\"/><line x1=\"575\" y1=\"202\" x2=\"739\" y2=\"334\"/><line x1=\"739\" y1=\"334\" x2=\"915\" y2=\"397\"/><line x1=\"915\" y1=\"397\" x2=\"785\" y2=\"526\"/><line x1=\"785\" y1=\"526\" x2=\"904\" y2=\"678\"/><line x1=\"107\" y1=\"42\" x2=\"58\" y2=\"286\"/><line x1=\"107\" y1=\"42\" x2=\"392\" y2=\"81\"/><line x1=\"392\" y1=\"81\" x2=\"630\" y2=\"43\"/><line x1=\"630\" y1=\"43\" x2=\"828\" y2=\"155\"/></g><g stroke=\"red\" stroke-width=\"4\" id=\"edges_contour\"><line x1=\"1313\" y1=\"351\" x2=\"1149\" y2=\"366\"/><line x1=\"1129\" y1=\"512\" x2=\"1149\" y2=\"366\"/><line x1=\"1649\" y1=\"377\" x2=\"1618\" y2=\"537\"/><line x1=\"1588\" y1=\"630\" x2=\"1618\" y2=\"537\"/><line x1=\"237\" y1=\"206\" x2=\"328\" y2=\"232\"/><line x1=\"420\" y1=\"282\" x2=\"328\" y2=\"232\"/></g><g stroke=\"darkorange\" stroke-dasharray=\"18 15\" stroke-width=\"4\" id=\"detours\" fill=\"none\"><polyline points=\"1746 328 1643 840 1446 787 1338 626 1445 482\"/><polyline points=\"137 343 237 206 575 202\"/><polyline points=\"137 343 237 206 575 202 1068 249\"/></g><g id=\"DTgrp\"><use href=\"#dt\" x=\"1338\" y=\"626\"/><use href=\"#dt\" x=\"1446\" y=\"787\"/><use href=\"#dt\" x=\"1643\" y=\"840\"/><use href=\"#dt\" x=\"237\" y=\"206\"/><use href=\"#dt\" x=\"575\" y=\"202\"/><use href=\"#dt\" x=\"237\" y=\"206\"/></g><g id=\"WTGgrp\"><g fill=\"#1f77b4\"><use href=\"#wtg\" x=\"1445\" y=\"482\"/><use href=\"#wtg\" x=\"1313\" y=\"351\"/><use href=\"#wtg\" x=\"1129\" y=\"512\"/><use href=\"#wtg\" x=\"1137\" y=\"704\"/><use href=\"#wtg\" x=\"993\" y=\"847\"/></g><g fill=\"#aec7e8\"><use href=\"#wtg\" x=\"1649\" y=\"377\"/><use href=\"#wtg\" x=\"1588\" y=\"630\"/><use href=\"#wtg\" x=\"1643\" y=\"840\"/><use href=\"#wtg\" x=\"1446\" y=\"787\"/><use href=\"#wtg\" x=\"1338\" y=\"626\"/></g><g fill=\"#ff7f0e\"><use href=\"#wtg\" x=\"1692\" y=\"146\"/><use href=\"#wtg\" x=\"1878\" y=\"42\"/><use href=\"#wtg\" x=\"1876\" y=\"252\"/><use href=\"#wtg\" x=\"1875\" y=\"478\"/><use href=\"#wtg\" x=\"1823\" y=\"671\"/></g><g fill=\"#ffbb78\"><use href=\"#wtg\" x=\"1519\" y=\"280\"/><use href=\"#wtg\" x=\"1517\" y=\"49\"/><use href=\"#wtg\" x=\"1271\" y=\"147\"/><use href=\"#wtg\" x=\"1068\" y=\"249\"/><use href=\"#wtg\" x=\"1064\" y=\"42\"/></g><g fill=\"#2ca02c\"><use href=\"#wtg\" x=\"239\" y=\"398\"/><use href=\"#wtg\" x=\"77\" y=\"590\"/><use href=\"#wtg\" x=\"236\" y=\"687\"/><use href=\"#wtg\" x=\"329\" y=\"847\"/><use href=\"#wtg\" x=\"51\" y=\"845\"/></g><g fill=\"#98df8a\"><use href=\"#wtg\" x=\"237\" y=\"206\"/><use href=\"#wtg\" x=\"420\" y=\"282\"/><use href=\"#wtg\" x=\"633\" y=\"448\"/><use href=\"#wtg\" x=\"438\" y=\"556\"/><use href=\"#wtg\" x=\"525\" y=\"753\"/></g><g fill=\"#d62728\"><use href=\"#wtg\" x=\"575\" y=\"202\"/><use href=\"#wtg\" x=\"739\" y=\"334\"/><use href=\"#wtg\" x=\"915\" y=\"397\"/><use href=\"#wtg\" x=\"785\" y=\"526\"/><use href=\"#wtg\" x=\"904\" y=\"678\"/></g><g fill=\"#ff9896\"><use href=\"#wtg\" x=\"58\" y=\"286\"/><use href=\"#wtg\" x=\"107\" y=\"42\"/><use href=\"#wtg\" x=\"392\" y=\"81\"/><use href=\"#wtg\" x=\"630\" y=\"43\"/><use href=\"#wtg\" x=\"828\" y=\"155\"/></g></g><g id=\"OSSgrp\"><use href=\"#oss\" x=\"1735.5\" y=\"317.5\"/><use href=\"#oss\" x=\"126.5\" y=\"332.5\"/></g></g><text filter=\"url(#bg_textbox)\" text-anchor=\"end\" font-family=\"sans-serif\" font-size=\"40\" fill=\"white\" x=\"1890\" y=\"861\"><tspan x=\"1890\" dy=\"-0.0em\">&#931;&#955; = 1831.7 m</tspan><tspan x=\"1890\" dy=\"-1.3em\">(+0) [-1]: 5, [-2]: 3</tspan><tspan x=\"1890\" dy=\"-1.3em\">&#954; = 5, T = 40</tspan></text></svg>"
      ],
      "text/plain": [
       "<optiwindnet.api.WindFarmNetwork at 0x18e0cfb83b0>"
      ]
     },
     "execution_count": 23,
     "metadata": {},
     "output_type": "execute_result"
    }
   ],
   "source": [
    "wfn"
   ]
  },
  {
   "cell_type": "code",
   "execution_count": 24,
   "id": "5aaefea4",
   "metadata": {},
   "outputs": [
    {
     "name": "stdout",
     "output_type": "stream",
     "text": [
      "(0.01, 0.01)\n"
     ]
    }
   ],
   "source": [
    "print(wfn.S.graph['solution_time'])"
   ]
  },
  {
   "cell_type": "code",
   "execution_count": 25,
   "id": "776df8d6",
   "metadata": {},
   "outputs": [
    {
     "ename": "AttributeError",
     "evalue": "'Graph' object has no attribute 'keys'",
     "output_type": "error",
     "traceback": [
      "\u001b[31m---------------------------------------------------------------------------\u001b[39m",
      "\u001b[31mAttributeError\u001b[39m                            Traceback (most recent call last)",
      "\u001b[36mCell\u001b[39m\u001b[36m \u001b[39m\u001b[32mIn[25]\u001b[39m\u001b[32m, line 2\u001b[39m\n\u001b[32m      1\u001b[39m \u001b[38;5;66;03m# list all attribute keys\u001b[39;00m\n\u001b[32m----> \u001b[39m\u001b[32m2\u001b[39m \u001b[38;5;28mprint\u001b[39m(\u001b[38;5;28mlist\u001b[39m(\u001b[43mwfn\u001b[49m\u001b[43m.\u001b[49m\u001b[43mG\u001b[49m\u001b[43m.\u001b[49m\u001b[43mkeys\u001b[49m()))\n\u001b[32m      4\u001b[39m \u001b[38;5;66;03m# see key–value pairs\u001b[39;00m\n\u001b[32m      5\u001b[39m \u001b[38;5;28;01mfor\u001b[39;00m k, v \u001b[38;5;129;01min\u001b[39;00m wfn.G.graph.items():\n",
      "\u001b[31mAttributeError\u001b[39m: 'Graph' object has no attribute 'keys'"
     ]
    }
   ],
   "source": [
    "# list all attribute keys\n",
    "print(list(wfn.G.keys()))\n",
    "\n",
    "# see key–value pairs\n",
    "for k, v in wfn.G.graph.items():\n",
    "    print(k, type(v), v if not isinstance(v, (list, dict)) else '...')\n"
   ]
  },
  {
   "cell_type": "code",
   "execution_count": null,
   "id": "8a0d9282",
   "metadata": {},
   "outputs": [
    {
     "ename": "KeyError",
     "evalue": "'solution_info'",
     "output_type": "error",
     "traceback": [
      "\u001b[31m---------------------------------------------------------------------------\u001b[39m",
      "\u001b[31mKeyError\u001b[39m                                  Traceback (most recent call last)",
      "\u001b[36mCell\u001b[39m\u001b[36m \u001b[39m\u001b[32mIn[14]\u001b[39m\u001b[32m, line 1\u001b[39m\n\u001b[32m----> \u001b[39m\u001b[32m1\u001b[39m \u001b[43mwfn\u001b[49m\u001b[43m.\u001b[49m\u001b[43mG\u001b[49m\u001b[43m[\u001b[49m\u001b[33;43m'\u001b[39;49m\u001b[33;43msolution_info\u001b[39;49m\u001b[33;43m'\u001b[39;49m\u001b[43m]\u001b[49m\n",
      "\u001b[36mFile \u001b[39m\u001b[32mc:\\Users\\amia\\AppData\\Local\\miniconda3\\envs\\OptiWindNet\\Lib\\site-packages\\networkx\\classes\\graph.py:522\u001b[39m, in \u001b[36mGraph.__getitem__\u001b[39m\u001b[34m(self, n)\u001b[39m\n\u001b[32m    498\u001b[39m \u001b[38;5;28;01mdef\u001b[39;00m\u001b[38;5;250m \u001b[39m\u001b[34m__getitem__\u001b[39m(\u001b[38;5;28mself\u001b[39m, n):\n\u001b[32m    499\u001b[39m \u001b[38;5;250m    \u001b[39m\u001b[33;03m\"\"\"Returns a dict of neighbors of node n.  Use: 'G[n]'.\u001b[39;00m\n\u001b[32m    500\u001b[39m \n\u001b[32m    501\u001b[39m \u001b[33;03m    Parameters\u001b[39;00m\n\u001b[32m   (...)\u001b[39m\u001b[32m    520\u001b[39m \u001b[33;03m    AtlasView({1: {}})\u001b[39;00m\n\u001b[32m    521\u001b[39m \u001b[33;03m    \"\"\"\u001b[39;00m\n\u001b[32m--> \u001b[39m\u001b[32m522\u001b[39m     \u001b[38;5;28;01mreturn\u001b[39;00m \u001b[38;5;28;43mself\u001b[39;49m\u001b[43m.\u001b[49m\u001b[43madj\u001b[49m\u001b[43m[\u001b[49m\u001b[43mn\u001b[49m\u001b[43m]\u001b[49m\n",
      "\u001b[36mFile \u001b[39m\u001b[32mc:\\Users\\amia\\AppData\\Local\\miniconda3\\envs\\OptiWindNet\\Lib\\site-packages\\networkx\\classes\\coreviews.py:82\u001b[39m, in \u001b[36mAdjacencyView.__getitem__\u001b[39m\u001b[34m(self, name)\u001b[39m\n\u001b[32m     81\u001b[39m \u001b[38;5;28;01mdef\u001b[39;00m\u001b[38;5;250m \u001b[39m\u001b[34m__getitem__\u001b[39m(\u001b[38;5;28mself\u001b[39m, name):\n\u001b[32m---> \u001b[39m\u001b[32m82\u001b[39m     \u001b[38;5;28;01mreturn\u001b[39;00m AtlasView(\u001b[38;5;28;43mself\u001b[39;49m\u001b[43m.\u001b[49m\u001b[43m_atlas\u001b[49m\u001b[43m[\u001b[49m\u001b[43mname\u001b[49m\u001b[43m]\u001b[49m)\n",
      "\u001b[31mKeyError\u001b[39m: 'solution_info'"
     ]
    }
   ],
   "source": [
    "wfn.G['solution_info']"
   ]
  },
  {
   "cell_type": "code",
   "execution_count": null,
   "id": "5b321888",
   "metadata": {},
   "outputs": [
    {
     "name": "stdout",
     "output_type": "stream",
     "text": [
      "None\n"
     ]
    }
   ],
   "source": [
    "print(router.feeder_limit)"
   ]
  },
  {
   "cell_type": "code",
   "execution_count": null,
   "id": "d851b684",
   "metadata": {},
   "outputs": [],
   "source": []
  }
 ],
 "metadata": {
  "kernelspec": {
   "display_name": "OptiWindNet",
   "language": "python",
   "name": "python3"
  },
  "language_info": {
   "codemirror_mode": {
    "name": "ipython",
    "version": 3
   },
   "file_extension": ".py",
   "mimetype": "text/x-python",
   "name": "python",
   "nbconvert_exporter": "python",
   "pygments_lexer": "ipython3",
   "version": "3.12.9"
  }
 },
 "nbformat": 4,
 "nbformat_minor": 5
}
