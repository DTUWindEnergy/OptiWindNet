{
 "cells": [
  {
   "cell_type": "code",
   "execution_count": 29,
   "id": "fc5c7267",
   "metadata": {},
   "outputs": [],
   "source": [
    "import pickle\n",
    "from optiwindnet.api import WindFarmNetwork, EWRouter, HGSRouter, MILPRouter, load_repository"
   ]
  },
  {
   "cell_type": "code",
   "execution_count": null,
   "id": "14a39bfb-da53-449f-bd61-6a7285f6a41c",
   "metadata": {},
   "outputs": [],
   "source": [
    "import matplotlib.pyplot as plt\n",
    "%config InlineBackend.fiAure_formats = ['svA']\n",
    "plt.rcParams['svg.fonttype'] = 'none'"
   ]
  },
  {
   "cell_type": "markdown",
   "id": "54f99d2b",
   "metadata": {},
   "source": [
    "generate expected values from the imported functions into api.py"
   ]
  },
  {
   "cell_type": "code",
   "execution_count": 1,
   "id": "7853b050",
   "metadata": {},
   "outputs": [
    {
     "ename": "ImportError",
     "evalue": "cannot import name 'normalize_power_values' from 'optiwindnet.api_utils' (C:\\code\\OptiWindNet\\optiwindnet\\api_utils.py)",
     "output_type": "error",
     "traceback": [
      "\u001b[31m---------------------------------------------------------------------------\u001b[39m",
      "\u001b[31mImportError\u001b[39m                               Traceback (most recent call last)",
      "\u001b[36mCell\u001b[39m\u001b[36m \u001b[39m\u001b[32mIn[1]\u001b[39m\u001b[32m, line 1\u001b[39m\n\u001b[32m----> \u001b[39m\u001b[32m1\u001b[39m \u001b[38;5;28;01mfrom\u001b[39;00m\u001b[38;5;250m \u001b[39m\u001b[34;01moptiwindnet\u001b[39;00m\u001b[34;01m.\u001b[39;00m\u001b[34;01mapi\u001b[39;00m\u001b[38;5;250m \u001b[39m\u001b[38;5;28;01mimport\u001b[39;00m WindFarmNetwork, EWRouter, HGSRouter, MILPRouter, load_repository\n\u001b[32m      2\u001b[39m locations = load_repository()\n\u001b[32m      3\u001b[39m L = locations.eagle\n",
      "\u001b[36mFile \u001b[39m\u001b[32mC:\\code\\OptiWindNet\\optiwindnet\\api.py:22\u001b[39m\n\u001b[32m     19\u001b[39m \u001b[38;5;28;01mfrom\u001b[39;00m\u001b[38;5;250m \u001b[39m\u001b[34;01moptiwindnet\u001b[39;00m\u001b[34;01m.\u001b[39;00m\u001b[34;01mplotting\u001b[39;00m\u001b[38;5;250m \u001b[39m\u001b[38;5;28;01mimport\u001b[39;00m gplot, pplot\n\u001b[32m     20\u001b[39m \u001b[38;5;28;01mfrom\u001b[39;00m\u001b[38;5;250m \u001b[39m\u001b[34;01moptiwindnet\u001b[39;00m\u001b[34;01m.\u001b[39;00m\u001b[34;01msvg\u001b[39;00m\u001b[38;5;250m \u001b[39m\u001b[38;5;28;01mimport\u001b[39;00m svgplot\n\u001b[32m---> \u001b[39m\u001b[32m22\u001b[39m \u001b[38;5;28;01mfrom\u001b[39;00m\u001b[38;5;250m \u001b[39m\u001b[34;01m.\u001b[39;00m\u001b[34;01mapi_utils\u001b[39;00m\u001b[38;5;250m \u001b[39m\u001b[38;5;28;01mimport\u001b[39;00m (\n\u001b[32m     23\u001b[39m     check_warmstart_feasibility,\n\u001b[32m     24\u001b[39m     enable_ortools_logging_if_jupyter,\n\u001b[32m     25\u001b[39m     extract_network_as_array,\n\u001b[32m     26\u001b[39m     from_coordinates,\n\u001b[32m     27\u001b[39m     parse_cables_input,\n\u001b[32m     28\u001b[39m     plot_org_buff,\n\u001b[32m     29\u001b[39m     normalize_power_values,\n\u001b[32m     30\u001b[39m )\n\u001b[32m     32\u001b[39m \u001b[38;5;66;03m###################\u001b[39;00m\n\u001b[32m     33\u001b[39m \u001b[38;5;66;03m# OptiWindNet API #\u001b[39;00m\n\u001b[32m     34\u001b[39m \u001b[38;5;66;03m###################\u001b[39;00m\n\u001b[32m     35\u001b[39m \n\u001b[32m     36\u001b[39m \u001b[38;5;66;03m# Keep text editable (not converted to paths) in SVG output\u001b[39;00m\n\u001b[32m     37\u001b[39m plt.rcParams[\u001b[33m'\u001b[39m\u001b[33msvg.fonttype\u001b[39m\u001b[33m'\u001b[39m] = \u001b[33m'\u001b[39m\u001b[33mnone\u001b[39m\u001b[33m'\u001b[39m\n",
      "\u001b[31mImportError\u001b[39m: cannot import name 'normalize_power_values' from 'optiwindnet.api_utils' (C:\\code\\OptiWindNet\\optiwindnet\\api_utils.py)"
     ]
    }
   ],
   "source": [
    "from optiwindnet.api import WindFarmNetwork, EWRouter, HGSRouter, MILPRouter, load_repository\n",
    "locations = load_repository()\n",
    "L = locations.eagle\n",
    "L.nodes[10]['power'] = 0.1\n",
    "L.nodes[10]['label'] = 'A'\n",
    "router = MILPRouter(solver_name='cplex', time_limit=20, mip_gap=0.05)\n",
    "wfn = WindFarmNetwork(L=L, cables=100)\n",
    "wfn.optimize(router=router)\n",
    "\n",
    "L = wfn.L\n",
    "\n",
    "#print(L.nodes[10].get('power', 1))\n",
    "wfn.plot(node_tag='label')\n",
    "wfn.plot(node_tag='load')\n"
   ]
  }
 ],
 "metadata": {
  "kernelspec": {
   "display_name": "OptiWindNet",
   "language": "python",
   "name": "python3"
  },
  "language_info": {
   "codemirror_mode": {
    "name": "ipython",
    "version": 3
   },
   "file_extension": ".py",
   "mimetype": "text/x-python",
   "name": "python",
   "nbconvert_exporter": "python",
   "pygments_lexer": "ipython3",
   "version": "3.12.9"
  }
 },
 "nbformat": 4,
 "nbformat_minor": 5
}
