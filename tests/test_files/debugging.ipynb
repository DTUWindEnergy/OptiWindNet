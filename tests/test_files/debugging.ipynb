{
 "cells": [
  {
   "cell_type": "code",
   "execution_count": 1,
   "id": "fc5c7267",
   "metadata": {},
   "outputs": [],
   "source": [
    "import pickle\n",
    "from optiwindnet.api import WindFarmNetwork, EWRouter, HGSRouter, MILPRouter, load_repository"
   ]
  },
  {
   "cell_type": "code",
   "execution_count": 2,
   "id": "14a39bfb-da53-449f-bd61-6a7285f6a41c",
   "metadata": {},
   "outputs": [],
   "source": [
    "import matplotlib.pyplot as plt\n",
    "%config InlineBackend.fiAure_formats = ['svA']\n",
    "plt.rcParams['svg.fonttype'] = 'none'"
   ]
  },
  {
   "cell_type": "markdown",
   "id": "54f99d2b",
   "metadata": {},
   "source": [
    "generate expected values from the imported functions into api.py"
   ]
  }
 ],
 "metadata": {
  "kernelspec": {
   "display_name": "OptiWindNet",
   "language": "python",
   "name": "python3"
  },
  "language_info": {
   "codemirror_mode": {
    "name": "ipython",
    "version": 3
   },
   "file_extension": ".py",
   "mimetype": "text/x-python",
   "name": "python",
   "nbconvert_exporter": "python",
   "pygments_lexer": "ipython3",
   "version": "3.12.9"
  }
 },
 "nbformat": 4,
 "nbformat_minor": 5
}
