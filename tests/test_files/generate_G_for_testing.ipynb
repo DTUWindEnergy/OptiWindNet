{
 "cells": [
  {
   "cell_type": "code",
   "execution_count": 2,
   "id": "fc5c7267",
   "metadata": {},
   "outputs": [],
   "source": [
    "import pickle\n",
    "from optiwindnet.api import WindFarmNetwork, EWRouter, HGSRouter, MILPRouter, load_repository"
   ]
  },
  {
   "cell_type": "code",
   "execution_count": 3,
   "id": "14a39bfb-da53-449f-bd61-6a7285f6a41c",
   "metadata": {},
   "outputs": [],
   "source": [
    "import matplotlib.pyplot as plt\n",
    "%config InlineBackend.figure_formats = ['svg']\n",
    "plt.rcParams['svg.fonttype'] = 'none'"
   ]
  },
  {
   "cell_type": "code",
   "execution_count": 4,
   "id": "1b676bde",
   "metadata": {},
   "outputs": [
    {
     "name": "stdout",
     "output_type": "stream",
     "text": [
      "Vehicle number (0) too low for feasibilty with capacity (7). Setting to 8.\n"
     ]
    }
   ],
   "source": [
    "locations = load_repository()\n",
    "\n",
    "# Define sites to process\n",
    "sites = {\n",
    "    \"eagle\": locations.eagle,\n",
    "    \"taylor\": locations.taylor_2023,\n",
    "}\n",
    "\n",
    "# Define routers to apply with their specific cable settings\n",
    "routers = {\n",
    "    \"EWRouter\": {\n",
    "        \"router\": None,\n",
    "        \"cables\": 7 #[(5, 100), (7, 200), (9, 300)]\n",
    "    },\n",
    "    \"EWRouter_straight\": {\n",
    "        \"router\": EWRouter(feeder_route='straight'),\n",
    "        \"cables\": 7\n",
    "    },\n",
    "    \"HGSRouter\": {\n",
    "        \"router\": HGSRouter(time_limit=2),\n",
    "        \"cables\": 7\n",
    "    },\n",
    "    \"HGSRouter_feeder_limit\": {\n",
    "        \"router\": HGSRouter(time_limit=2, feeder_limit=0),\n",
    "        \"cables\": 7\n",
    "    },\n",
    "    \"MILPRouter\": {\n",
    "        \"router\": MILPRouter(solver_name='ortools', time_limit=10, mip_gap=0.005),\n",
    "        \"cables\": 2\n",
    "    },\n",
    "}\n",
    "\n",
    "graphs = {}\n",
    "\n",
    "for site_name, location in sites.items():\n",
    "    for router_name, config in routers.items():\n",
    "        cables = config[\"cables\"]\n",
    "        router = config[\"router\"]\n",
    "\n",
    "        wfn = WindFarmNetwork(L=location, cables=cables)\n",
    "        wfn.optimize(router=router)\n",
    "\n",
    "        key = f\"{site_name}_{router_name}\"\n",
    "        graphs[key] = wfn.G\n",
    "\n",
    "# Save all graphs to a single pickle file\n",
    "with open(\"G_tests.pkl\", \"wb\") as f:\n",
    "    pickle.dump(graphs, f)\n"
   ]
  }
 ],
 "metadata": {
  "kernelspec": {
   "display_name": "OptiWindNet",
   "language": "python",
   "name": "python3"
  },
  "language_info": {
   "codemirror_mode": {
    "name": "ipython",
    "version": 3
   },
   "file_extension": ".py",
   "mimetype": "text/x-python",
   "name": "python",
   "nbconvert_exporter": "python",
   "pygments_lexer": "ipython3",
   "version": "3.12.9"
  }
 },
 "nbformat": 4,
 "nbformat_minor": 5
}
