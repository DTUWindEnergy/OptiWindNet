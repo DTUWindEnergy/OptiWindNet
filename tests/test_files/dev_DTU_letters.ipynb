{
 "cells": [
  {
   "cell_type": "code",
   "execution_count": 1,
   "id": "7747b8c8-375c-40b7-99bb-afdc9b209d36",
   "metadata": {
    "execution": {
     "iopub.execute_input": "2025-08-12T17:22:16.187955Z",
     "iopub.status.busy": "2025-08-12T17:22:16.187955Z",
     "iopub.status.idle": "2025-08-12T17:22:16.316027Z",
     "shell.execute_reply": "2025-08-12T17:22:16.316027Z",
     "shell.execute_reply.started": "2025-08-12T17:22:16.187955Z"
    }
   },
   "outputs": [],
   "source": [
    "import numpy as np"
   ]
  },
  {
   "cell_type": "code",
   "execution_count": 7,
   "id": "b1e8e99b-5a02-479c-ab76-525e92ce3ca3",
   "metadata": {
    "deletable": true,
    "editable": true,
    "execution": {
     "iopub.execute_input": "2025-08-12T17:24:17.310952Z",
     "iopub.status.busy": "2025-08-12T17:24:17.310952Z",
     "iopub.status.idle": "2025-08-12T17:24:17.317086Z",
     "shell.execute_reply": "2025-08-12T17:24:17.317086Z",
     "shell.execute_reply.started": "2025-08-12T17:24:17.310952Z"
    },
    "frozen": false
   },
   "outputs": [],
   "source": [
    "from optiwindnet.importer import L_from_pbf\n",
    "from optiwindnet.svg import svgplot\n",
    "from optiwindnet.baselines.hgs import iterative_hgs_cvrp\n",
    "from optiwindnet.mesh import make_planar_embedding\n",
    "from optiwindnet.pathfinding import PathFinder\n",
    "from optiwindnet.interarraylib import G_from_S"
   ]
  },
  {
   "cell_type": "code",
   "execution_count": 3,
   "id": "9bfc63f6-4463-4a61-b3f1-5bdba247aa87",
   "metadata": {
    "execution": {
     "iopub.execute_input": "2025-08-12T17:22:18.140407Z",
     "iopub.status.busy": "2025-08-12T17:22:18.140407Z",
     "iopub.status.idle": "2025-08-12T17:22:18.159506Z",
     "shell.execute_reply": "2025-08-12T17:22:18.159506Z",
     "shell.execute_reply.started": "2025-08-12T17:22:18.140407Z"
    }
   },
   "outputs": [],
   "source": [
    "L = L_from_pbf('DTU_letters.osm.pbf')"
   ]
  },
  {
   "cell_type": "code",
   "execution_count": 5,
   "id": "bda52376-c4bf-4dcf-a4e1-1f763793b8ae",
   "metadata": {
    "execution": {
     "iopub.execute_input": "2025-08-12T17:22:46.269613Z",
     "iopub.status.busy": "2025-08-12T17:22:46.269613Z",
     "iopub.status.idle": "2025-08-12T17:22:47.745944Z",
     "shell.execute_reply": "2025-08-12T17:22:47.745944Z",
     "shell.execute_reply.started": "2025-08-12T17:22:46.269613Z"
    }
   },
   "outputs": [
    {
     "data": {
      "image/svg+xml": [
       "<svg xmlns=\"http://www.w3.org/2000/svg\" viewBox=\"0 0 1920 891\"><defs><rect stroke=\"#111\" stroke-width=\"2\" id=\"oss\" width=\"21\" height=\"21\" fill=\"lawngreen\"/><circle stroke=\"none\" stroke-width=\"2\" id=\"wtg\" r=\"12\"/></defs><g id=\"DTUtoyfarm\"><path stroke=\"silver\" stroke-dasharray=\"15 7\" stroke-width=\"2\" id=\"border\" d=\"M30 861 405 859 519 794 605 676 650 524 650 366 770 366 770 861 1150 861 1149 366 1270 366 1271 533 1319 684 1408 799 1522 860 1646 858 1759 793 1845 675 1890 525 1890 30 1625 30 1625 501 1618 537 1606 564 1589 579 1572 580 1555 566 1542 539 1535 502 1535 31 30 30z M260 658 260 233 328 232 372 263 407 323 426 400 426 485 408 564 375 625 331 658z\" fill-rule=\"evenodd\" fill=\"#111\"/><g id=\"OSSgrp\"><use href=\"#oss\" x=\"1199.5\" y=\"320.5\"/></g><g id=\"WTGgrp\"><g fill=\"#9edae5\"><use href=\"#wtg\" x=\"1137\" y=\"704\"/><use href=\"#wtg\" x=\"1878\" y=\"42\"/><use href=\"#wtg\" x=\"1692\" y=\"146\"/><use href=\"#wtg\" x=\"51\" y=\"845\"/><use href=\"#wtg\" x=\"1876\" y=\"252\"/><use href=\"#wtg\" x=\"1875\" y=\"478\"/><use href=\"#wtg\" x=\"1649\" y=\"377\"/><use href=\"#wtg\" x=\"1823\" y=\"671\"/><use href=\"#wtg\" x=\"1588\" y=\"630\"/><use href=\"#wtg\" x=\"1446\" y=\"787\"/><use href=\"#wtg\" x=\"1338\" y=\"626\"/><use href=\"#wtg\" x=\"1445\" y=\"482\"/><use href=\"#wtg\" x=\"1313\" y=\"351\"/><use href=\"#wtg\" x=\"1519\" y=\"280\"/><use href=\"#wtg\" x=\"1517\" y=\"49\"/><use href=\"#wtg\" x=\"1068\" y=\"249\"/><use href=\"#wtg\" x=\"1271\" y=\"147\"/><use href=\"#wtg\" x=\"828\" y=\"155\"/><use href=\"#wtg\" x=\"1129\" y=\"512\"/><use href=\"#wtg\" x=\"993\" y=\"847\"/><use href=\"#wtg\" x=\"904\" y=\"678\"/><use href=\"#wtg\" x=\"1643\" y=\"840\"/><use href=\"#wtg\" x=\"785\" y=\"526\"/><use href=\"#wtg\" x=\"915\" y=\"397\"/><use href=\"#wtg\" x=\"1064\" y=\"42\"/><use href=\"#wtg\" x=\"630\" y=\"43\"/><use href=\"#wtg\" x=\"739\" y=\"334\"/><use href=\"#wtg\" x=\"575\" y=\"202\"/><use href=\"#wtg\" x=\"392\" y=\"81\"/><use href=\"#wtg\" x=\"420\" y=\"282\"/><use href=\"#wtg\" x=\"438\" y=\"556\"/><use href=\"#wtg\" x=\"633\" y=\"448\"/><use href=\"#wtg\" x=\"236\" y=\"687\"/><use href=\"#wtg\" x=\"525\" y=\"753\"/><use href=\"#wtg\" x=\"329\" y=\"847\"/><use href=\"#wtg\" x=\"77\" y=\"590\"/><use href=\"#wtg\" x=\"239\" y=\"398\"/><use href=\"#wtg\" x=\"58\" y=\"286\"/><use href=\"#wtg\" x=\"237\" y=\"206\"/><use href=\"#wtg\" x=\"107\" y=\"42\"/></g></g></g></svg>"
      ],
      "text/plain": [
       "<optiwindnet.svg.SvgRepr at 0x299fda3a900>"
      ]
     },
     "execution_count": 5,
     "metadata": {},
     "output_type": "execute_result"
    }
   ],
   "source": [
    "svgplot(L)"
   ]
  },
  {
   "cell_type": "code",
   "execution_count": 8,
   "id": "c7f5f783-9ee8-4739-a790-f960501f8b87",
   "metadata": {
    "execution": {
     "iopub.execute_input": "2025-08-12T17:24:24.700789Z",
     "iopub.status.busy": "2025-08-12T17:24:24.700789Z",
     "iopub.status.idle": "2025-08-12T17:24:31.309925Z",
     "shell.execute_reply": "2025-08-12T17:24:31.309925Z",
     "shell.execute_reply.started": "2025-08-12T17:24:24.700789Z"
    }
   },
   "outputs": [],
   "source": [
    "P, A = make_planar_embedding(L)"
   ]
  },
  {
   "cell_type": "code",
   "execution_count": 10,
   "id": "f5ec6cb4-15a2-4baf-8451-36d5fb1dfe99",
   "metadata": {
    "execution": {
     "iopub.execute_input": "2025-08-12T17:24:55.305277Z",
     "iopub.status.busy": "2025-08-12T17:24:55.305277Z",
     "iopub.status.idle": "2025-08-12T17:24:56.366628Z",
     "shell.execute_reply": "2025-08-12T17:24:56.366628Z",
     "shell.execute_reply.started": "2025-08-12T17:24:55.305277Z"
    }
   },
   "outputs": [],
   "source": [
    "S = iterative_hgs_cvrp(A, capacity=6, time_limit=1)"
   ]
  },
  {
   "cell_type": "code",
   "execution_count": 11,
   "id": "00af1821-eabe-4638-9332-110de9c09d5e",
   "metadata": {
    "execution": {
     "iopub.execute_input": "2025-08-12T17:25:20.440119Z",
     "iopub.status.busy": "2025-08-12T17:25:20.440119Z",
     "iopub.status.idle": "2025-08-12T17:25:20.453715Z",
     "shell.execute_reply": "2025-08-12T17:25:20.453715Z",
     "shell.execute_reply.started": "2025-08-12T17:25:20.440119Z"
    }
   },
   "outputs": [],
   "source": [
    "Gt = G_from_S(S, A)"
   ]
  },
  {
   "cell_type": "code",
   "execution_count": 12,
   "id": "191c0784-ada9-4211-9334-9f5b12eca05c",
   "metadata": {
    "execution": {
     "iopub.execute_input": "2025-08-12T17:25:34.347626Z",
     "iopub.status.busy": "2025-08-12T17:25:34.347626Z",
     "iopub.status.idle": "2025-08-12T17:25:34.593597Z",
     "shell.execute_reply": "2025-08-12T17:25:34.593597Z",
     "shell.execute_reply.started": "2025-08-12T17:25:34.347626Z"
    }
   },
   "outputs": [],
   "source": [
    "G = PathFinder(Gt, P, A).create_detours()"
   ]
  },
  {
   "cell_type": "code",
   "execution_count": 13,
   "id": "13c58653-e511-47ed-a8f3-135dd1b95cce",
   "metadata": {
    "execution": {
     "iopub.execute_input": "2025-08-12T17:25:39.966645Z",
     "iopub.status.busy": "2025-08-12T17:25:39.966645Z",
     "iopub.status.idle": "2025-08-12T17:25:39.985616Z",
     "shell.execute_reply": "2025-08-12T17:25:39.985616Z",
     "shell.execute_reply.started": "2025-08-12T17:25:39.966645Z"
    }
   },
   "outputs": [
    {
     "data": {
      "image/svg+xml": [
       "<svg xmlns=\"http://www.w3.org/2000/svg\" viewBox=\"0 0 1920 891\"><defs><rect stroke=\"#111\" stroke-width=\"2\" id=\"oss\" width=\"21\" height=\"21\" fill=\"lawngreen\"/><circle stroke=\"none\" stroke-width=\"2\" id=\"wtg\" r=\"12\"/><circle stroke=\"orange\" stroke-opacity=\"0.3\" stroke-width=\"4\" id=\"dt\" r=\"23\" fill=\"none\"/><filter x=\"-5%\" y=\"-5%\" id=\"bg_textbox\" width=\"110%\" height=\"110%\"><feFlood flood-opacity=\"0.6\" flood-color=\"black\" result=\"bg\"/><feMerge><feMergeNode in=\"bg\"/><feMergeNode in=\"SourceGraphic\"/></feMerge></filter></defs><g id=\"DTUtoyfarm\"><path stroke=\"silver\" stroke-dasharray=\"15 7\" stroke-width=\"2\" id=\"border\" d=\"M30 861 405 859 519 794 605 676 650 524 650 366 770 366 770 861 1150 861 1149 366 1270 366 1271 533 1319 684 1408 799 1522 860 1646 858 1759 793 1845 675 1890 525 1890 30 1625 30 1625 501 1618 537 1606 564 1589 579 1572 580 1555 566 1542 539 1535 502 1535 31 30 30z M260 658 260 233 328 232 372 263 407 323 426 400 426 485 408 564 375 625 331 658z\" fill-rule=\"evenodd\" fill=\"#111\"/><g stroke=\"crimson\" stroke-width=\"4\" id=\"edges_unspecified\"><line x1=\"575\" y1=\"202\" x2=\"420\" y2=\"282\"/><line x1=\"1210\" y1=\"331\" x2=\"575\" y2=\"202\"/><line x1=\"77\" y1=\"590\" x2=\"239\" y2=\"398\"/><line x1=\"236\" y1=\"687\" x2=\"77\" y2=\"590\"/><line x1=\"51\" y1=\"845\" x2=\"236\" y2=\"687\"/><line x1=\"1210\" y1=\"331\" x2=\"915\" y2=\"397\"/><line x1=\"1210\" y1=\"331\" x2=\"1271\" y2=\"147\"/><line x1=\"1210\" y1=\"331\" x2=\"1313\" y2=\"351\"/><line x1=\"1210\" y1=\"331\" x2=\"1068\" y2=\"249\"/><line x1=\"1210\" y1=\"331\" x2=\"828\" y2=\"155\"/><line x1=\"915\" y1=\"397\" x2=\"739\" y2=\"334\"/><line x1=\"438\" y1=\"556\" x2=\"633\" y2=\"448\"/><line x1=\"438\" y1=\"556\" x2=\"525\" y2=\"753\"/><line x1=\"525\" y1=\"753\" x2=\"329\" y2=\"847\"/><line x1=\"1137\" y1=\"704\" x2=\"1129\" y2=\"512\"/><line x1=\"1137\" y1=\"704\" x2=\"993\" y2=\"847\"/><line x1=\"993\" y1=\"847\" x2=\"904\" y2=\"678\"/><line x1=\"904\" y1=\"678\" x2=\"785\" y2=\"526\"/><line x1=\"1446\" y1=\"787\" x2=\"1338\" y2=\"626\"/><line x1=\"1446\" y1=\"787\" x2=\"1643\" y2=\"840\"/><line x1=\"1823\" y1=\"671\" x2=\"1643\" y2=\"840\"/><line x1=\"1875\" y1=\"478\" x2=\"1823\" y2=\"671\"/><line x1=\"1876\" y1=\"252\" x2=\"1875\" y2=\"478\"/><line x1=\"1445\" y1=\"482\" x2=\"1313\" y2=\"351\"/><line x1=\"1588\" y1=\"630\" x2=\"1445\" y2=\"482\"/><line x1=\"1692\" y1=\"146\" x2=\"1649\" y2=\"377\"/><line x1=\"1878\" y1=\"42\" x2=\"1692\" y2=\"146\"/><line x1=\"1517\" y1=\"49\" x2=\"1271\" y2=\"147\"/><line x1=\"1519\" y1=\"280\" x2=\"1517\" y2=\"49\"/><line x1=\"1068\" y1=\"249\" x2=\"1064\" y2=\"42\"/><line x1=\"828\" y1=\"155\" x2=\"630\" y2=\"43\"/><line x1=\"630\" y1=\"43\" x2=\"392\" y2=\"81\"/><line x1=\"392\" y1=\"81\" x2=\"237\" y2=\"206\"/><line x1=\"58\" y1=\"286\" x2=\"237\" y2=\"206\"/><line x1=\"58\" y1=\"286\" x2=\"107\" y2=\"42\"/></g><g stroke=\"red\" stroke-width=\"4\" id=\"edges_contour\"><line x1=\"420\" y1=\"282\" x2=\"328\" y2=\"232\"/><line x1=\"239\" y1=\"398\" x2=\"260\" y2=\"233\"/><line x1=\"739\" y1=\"334\" x2=\"650\" y2=\"366\"/><line x1=\"633\" y1=\"448\" x2=\"650\" y2=\"366\"/><line x1=\"1588\" y1=\"630\" x2=\"1618\" y2=\"537\"/><line x1=\"1649\" y1=\"377\" x2=\"1618\" y2=\"537\"/><line x1=\"328\" y1=\"232\" x2=\"260\" y2=\"233\"/></g><g stroke=\"darkorange\" stroke-dasharray=\"18 15\" stroke-width=\"4\" id=\"detours\" fill=\"none\"><polyline points=\"1210 331 1149 366 1129 512\"/><polyline points=\"1210 331 1270 366 1338 626\"/></g><g id=\"DTgrp\"><use href=\"#dt\" x=\"1149\" y=\"366\"/><use href=\"#dt\" x=\"1270\" y=\"366\"/></g><g id=\"OSSgrp\"><use href=\"#oss\" x=\"1199.5\" y=\"320.5\"/></g><g id=\"WTGgrp\"><g fill=\"#1f77b4\"><use href=\"#wtg\" x=\"575\" y=\"202\"/><use href=\"#wtg\" x=\"420\" y=\"282\"/><use href=\"#wtg\" x=\"239\" y=\"398\"/><use href=\"#wtg\" x=\"77\" y=\"590\"/><use href=\"#wtg\" x=\"236\" y=\"687\"/><use href=\"#wtg\" x=\"51\" y=\"845\"/></g><g fill=\"#aec7e8\"><use href=\"#wtg\" x=\"915\" y=\"397\"/><use href=\"#wtg\" x=\"739\" y=\"334\"/><use href=\"#wtg\" x=\"633\" y=\"448\"/><use href=\"#wtg\" x=\"438\" y=\"556\"/><use href=\"#wtg\" x=\"525\" y=\"753\"/><use href=\"#wtg\" x=\"329\" y=\"847\"/></g><g fill=\"#ff7f0e\"><use href=\"#wtg\" x=\"1129\" y=\"512\"/><use href=\"#wtg\" x=\"1137\" y=\"704\"/><use href=\"#wtg\" x=\"993\" y=\"847\"/><use href=\"#wtg\" x=\"904\" y=\"678\"/><use href=\"#wtg\" x=\"785\" y=\"526\"/></g><g fill=\"#ffbb78\"><use href=\"#wtg\" x=\"1338\" y=\"626\"/><use href=\"#wtg\" x=\"1446\" y=\"787\"/><use href=\"#wtg\" x=\"1643\" y=\"840\"/><use href=\"#wtg\" x=\"1823\" y=\"671\"/><use href=\"#wtg\" x=\"1875\" y=\"478\"/><use href=\"#wtg\" x=\"1876\" y=\"252\"/></g><g fill=\"#2ca02c\"><use href=\"#wtg\" x=\"1313\" y=\"351\"/><use href=\"#wtg\" x=\"1445\" y=\"482\"/><use href=\"#wtg\" x=\"1588\" y=\"630\"/><use href=\"#wtg\" x=\"1649\" y=\"377\"/><use href=\"#wtg\" x=\"1692\" y=\"146\"/><use href=\"#wtg\" x=\"1878\" y=\"42\"/></g><g fill=\"#98df8a\"><use href=\"#wtg\" x=\"1271\" y=\"147\"/><use href=\"#wtg\" x=\"1517\" y=\"49\"/><use href=\"#wtg\" x=\"1519\" y=\"280\"/></g><g fill=\"#d62728\"><use href=\"#wtg\" x=\"1068\" y=\"249\"/><use href=\"#wtg\" x=\"1064\" y=\"42\"/></g><g fill=\"#ff9896\"><use href=\"#wtg\" x=\"828\" y=\"155\"/><use href=\"#wtg\" x=\"630\" y=\"43\"/><use href=\"#wtg\" x=\"392\" y=\"81\"/><use href=\"#wtg\" x=\"237\" y=\"206\"/><use href=\"#wtg\" x=\"58\" y=\"286\"/><use href=\"#wtg\" x=\"107\" y=\"42\"/></g></g></g><text filter=\"url(#bg_textbox)\" text-anchor=\"end\" font-family=\"sans-serif\" font-size=\"40\" fill=\"white\" x=\"1890\" y=\"861\"><tspan x=\"1890\" dy=\"-0.0em\">&#931;&#955; = 1645.8 m</tspan><tspan x=\"1890\" dy=\"-1.3em\">(+1) &#945;: 8</tspan><tspan x=\"1890\" dy=\"-1.3em\">&#954; = 6, T = 40</tspan></text></svg>"
      ],
      "text/plain": [
       "<optiwindnet.svg.SvgRepr at 0x299ff5f65a0>"
      ]
     },
     "execution_count": 13,
     "metadata": {},
     "output_type": "execute_result"
    }
   ],
   "source": [
    "svgplot(G)"
   ]
  }
 ],
 "metadata": {
  "kernelspec": {
   "display_name": "«work312»",
   "language": "python",
   "name": "work312"
  },
  "language_info": {
   "codemirror_mode": {
    "name": "ipython",
    "version": 3
   },
   "file_extension": ".py",
   "mimetype": "text/x-python",
   "name": "python",
   "nbconvert_exporter": "python",
   "pygments_lexer": "ipython3",
   "version": "3.12.11"
  }
 },
 "nbformat": 4,
 "nbformat_minor": 5
}
