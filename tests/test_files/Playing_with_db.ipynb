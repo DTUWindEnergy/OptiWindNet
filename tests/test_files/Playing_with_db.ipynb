{
 "cells": [
  {
   "cell_type": "markdown",
   "id": "18d1bf89-4d35-4353-8c13-bf659ee7a93a",
   "metadata": {},
   "source": [
    "This is used in the paper **Flexible cable routing framework for wind farm collection system optimization**."
   ]
  },
  {
   "cell_type": "markdown",
   "id": "e238e453-c1fe-42e1-9640-066aed035fbb",
   "metadata": {},
   "source": [
    "## Preamble"
   ]
  },
  {
   "cell_type": "code",
   "execution_count": 1,
   "id": "53833b9a-b375-4a22-ba07-4990dd0b4e12",
   "metadata": {},
   "outputs": [],
   "source": [
    "import matplotlib.pyplot as plt\n",
    "from matplotlib.lines import Line2D"
   ]
  },
  {
   "cell_type": "code",
   "execution_count": 2,
   "id": "55a73221-5f2b-4791-ada4-3694050e902b",
   "metadata": {},
   "outputs": [],
   "source": [
    "import numpy as np\n",
    "import polars as pl"
   ]
  },
  {
   "cell_type": "code",
   "execution_count": 3,
   "id": "0623226d-b7ad-4632-a3d2-c39865530dae",
   "metadata": {},
   "outputs": [],
   "source": [
    "from optiwindnet.db import modelv2\n",
    "from optiwindnet.db.storagev2 import G_from_routeset, L_from_nodeset\n",
    "from optiwindnet.svg import svgplot"
   ]
  },
  {
   "cell_type": "code",
   "execution_count": 4,
   "id": "88f1ebbf-0366-4d27-b8ce-3b1d2a039851",
   "metadata": {},
   "outputs": [],
   "source": [
    "#plt.style.use('jupyter_dark')"
   ]
  },
  {
   "cell_type": "code",
   "execution_count": 5,
   "id": "14a39bfb-da53-449f-bd61-6a7285f6a41c",
   "metadata": {},
   "outputs": [],
   "source": [
    "%config InlineBackend.figure_formats = ['svg']\n",
    "plt.rcParams['svg.fonttype'] = 'none'"
   ]
  },
  {
   "cell_type": "markdown",
   "id": "a1192c1f-b708-4fc5-b927-b072987a7503",
   "metadata": {},
   "source": [
    "## Setup"
   ]
  },
  {
   "cell_type": "code",
   "execution_count": 6,
   "id": "05070341-0f49-411c-8fff-de391bfcc817",
   "metadata": {},
   "outputs": [],
   "source": [
    "db = modelv2.open_database('db_testing.sqlite')"
   ]
  },
  {
   "cell_type": "code",
   "execution_count": 7,
   "id": "e587c499",
   "metadata": {},
   "outputs": [
    {
     "data": {
      "text/plain": [
       "{'NodeSet': optiwindnet.db.modelv2.define_entities.<locals>.NodeSet,\n",
       " 'RouteSet': optiwindnet.db.modelv2.define_entities.<locals>.RouteSet,\n",
       " 'Method': optiwindnet.db.modelv2.define_entities.<locals>.Method,\n",
       " 'Machine': optiwindnet.db.modelv2.define_entities.<locals>.Machine}"
      ]
     },
     "execution_count": 7,
     "metadata": {},
     "output_type": "execute_result"
    }
   ],
   "source": [
    "db.entities"
   ]
  },
  {
   "cell_type": "code",
   "execution_count": 8,
   "id": "6967abe1",
   "metadata": {},
   "outputs": [],
   "source": [
    "from pony.orm import db_session, select\n",
    "\n",
    "NodeSet = db.entities['NodeSet']\n",
    "RouteSet = db.entities['RouteSet']\n",
    "Method = db.entities['Method']\n",
    "Machine = db.entities['Machine']\n"
   ]
  },
  {
   "cell_type": "markdown",
   "id": "fd325245",
   "metadata": {},
   "source": [
    "# NodeSet"
   ]
  },
  {
   "cell_type": "code",
   "execution_count": 9,
   "id": "16464517",
   "metadata": {},
   "outputs": [
    {
     "data": {
      "text/plain": [
       "69"
      ]
     },
     "execution_count": 9,
     "metadata": {},
     "output_type": "execute_result"
    }
   ],
   "source": [
    "Ns_q = db.NodeSet.select(\n",
    "    lambda ns:\n",
    "    ns.name[0] != '!'\n",
    ")\n",
    "Ns_q.count()"
   ]
  },
  {
   "cell_type": "code",
   "execution_count": 10,
   "id": "a42f5bf0",
   "metadata": {},
   "outputs": [
    {
     "data": {
      "text/html": [
       "<div>\n",
       "<style scoped>\n",
       "    .dataframe tbody tr th:only-of-type {\n",
       "        vertical-align: middle;\n",
       "    }\n",
       "\n",
       "    .dataframe tbody tr th {\n",
       "        vertical-align: top;\n",
       "    }\n",
       "\n",
       "    .dataframe thead th {\n",
       "        text-align: right;\n",
       "    }\n",
       "</style>\n",
       "<table border=\"1\" class=\"dataframe\">\n",
       "  <thead>\n",
       "    <tr style=\"text-align: right;\">\n",
       "      <th></th>\n",
       "      <th>name</th>\n",
       "      <th>T</th>\n",
       "      <th>R</th>\n",
       "      <th>B</th>\n",
       "      <th>VertexC</th>\n",
       "      <th>constraint_groups</th>\n",
       "      <th>constraint_vertices</th>\n",
       "      <th>landscape_angle</th>\n",
       "      <th>digest</th>\n",
       "    </tr>\n",
       "  </thead>\n",
       "  <tbody>\n",
       "    <tr>\n",
       "      <th>0</th>\n",
       "      <td>Gode Wind 1</td>\n",
       "      <td>55</td>\n",
       "      <td>1</td>\n",
       "      <td>8</td>\n",
       "      <td>b'\\x93NUMPY\\x03\\x00t\\x00\\x00\\x00{\\'descr\\': \\'...</td>\n",
       "      <td>[8]</td>\n",
       "      <td>[55, 56, 57, 58, 59, 60, 61, 62]</td>\n",
       "      <td>-135.000000</td>\n",
       "      <td>b'\\xa0\\x8d\\xf7\\xa7)\\x94W\\xa9o+\\xd49\\t\\xd3\\xaf\\...</td>\n",
       "    </tr>\n",
       "    <tr>\n",
       "      <th>1</th>\n",
       "      <td>Borkum Riffgrund 1</td>\n",
       "      <td>78</td>\n",
       "      <td>1</td>\n",
       "      <td>6</td>\n",
       "      <td>b'\\x93NUMPY\\x03\\x00t\\x00\\x00\\x00{\\'descr\\': \\'...</td>\n",
       "      <td>[6]</td>\n",
       "      <td>[78, 79, 80, 81, 82, 83]</td>\n",
       "      <td>48.000000</td>\n",
       "      <td>b'\\x1e\\xd8\\xa8\\x8c\\x02\\xf7kO\\xe8\\x8c\\xd4\\x9c\\x...</td>\n",
       "    </tr>\n",
       "    <tr>\n",
       "      <th>2</th>\n",
       "      <td>Anholt</td>\n",
       "      <td>111</td>\n",
       "      <td>1</td>\n",
       "      <td>4</td>\n",
       "      <td>b'\\x93NUMPY\\x03\\x00t\\x00\\x00\\x00{\\'descr\\': \\'...</td>\n",
       "      <td>[4]</td>\n",
       "      <td>[111, 112, 113, 114]</td>\n",
       "      <td>82.000000</td>\n",
       "      <td>b'g\\xd2{\\xaaK,\\xfd\\xd9m\\xc5x\\x9a\\x8d\\x14\\xb2eI...</td>\n",
       "    </tr>\n",
       "    <tr>\n",
       "      <th>3</th>\n",
       "      <td>Borkum Riffgrund 2</td>\n",
       "      <td>52</td>\n",
       "      <td>1</td>\n",
       "      <td>21</td>\n",
       "      <td>b\"\\x93NUMPY\\x03\\x00t\\x00\\x00\\x00{'descr': '&lt;f8...</td>\n",
       "      <td>[21]</td>\n",
       "      <td>[52, 53, 54, 55, 56, 57, 58, 59, 60, 61, 62, 6...</td>\n",
       "      <td>39.000000</td>\n",
       "      <td>b'\\xfdB\\xfa\\xde7\\x1f\\xf2J\\xeb\\xde\\x95\\x9cd)Y\\x...</td>\n",
       "    </tr>\n",
       "    <tr>\n",
       "      <th>4</th>\n",
       "      <td>DanTysk</td>\n",
       "      <td>80</td>\n",
       "      <td>1</td>\n",
       "      <td>11</td>\n",
       "      <td>b'\\x93NUMPY\\x03\\x00t\\x00\\x00\\x00{\\'descr\\': \\'...</td>\n",
       "      <td>[11]</td>\n",
       "      <td>[80, 81, 82, 83, 84, 85, 86, 87, 88, 89, 90]</td>\n",
       "      <td>90.000000</td>\n",
       "      <td>b'\\xcc\\xbdm|\\x98:\\xa8F\\x8f#\\xa2\\xff\\xe1\\xcc\\x1...</td>\n",
       "    </tr>\n",
       "    <tr>\n",
       "      <th>...</th>\n",
       "      <td>...</td>\n",
       "      <td>...</td>\n",
       "      <td>...</td>\n",
       "      <td>...</td>\n",
       "      <td>...</td>\n",
       "      <td>...</td>\n",
       "      <td>...</td>\n",
       "      <td>...</td>\n",
       "      <td>...</td>\n",
       "    </tr>\n",
       "    <tr>\n",
       "      <th>64</th>\n",
       "      <td>Taylor-2023.1_OSS</td>\n",
       "      <td>122</td>\n",
       "      <td>1</td>\n",
       "      <td>18</td>\n",
       "      <td>b'\\x93NUMPY\\x03\\x00t\\x00\\x00\\x00{\\'descr\\': \\'...</td>\n",
       "      <td>[12, 6]</td>\n",
       "      <td>[122, 123, 124, 125, 126, 127, 128, 129, 130, ...</td>\n",
       "      <td>-68.000000</td>\n",
       "      <td>b'\\x1btD\\nt]U\\xb9\\x05\\xf2\\xfd\\xd3\\x00\\xbc\\xf1\\...</td>\n",
       "    </tr>\n",
       "    <tr>\n",
       "      <th>65</th>\n",
       "      <td>Beatrice.1_OSS</td>\n",
       "      <td>84</td>\n",
       "      <td>1</td>\n",
       "      <td>11</td>\n",
       "      <td>b'\\x93NUMPY\\x03\\x00t\\x00\\x00\\x00{\\'descr\\': \\'...</td>\n",
       "      <td>[11]</td>\n",
       "      <td>[84, 85, 86, 87, 88, 89, 90, 91, 92, 93, 94]</td>\n",
       "      <td>-31.495057</td>\n",
       "      <td>b'\\x8a&amp;r\\xa6\\xc7\\xafkO\\x1e\\x83\\x91U\\x14\\xe8u4z...</td>\n",
       "    </tr>\n",
       "    <tr>\n",
       "      <th>66</th>\n",
       "      <td>Neart na Gaoithe.1_OSS</td>\n",
       "      <td>54</td>\n",
       "      <td>1</td>\n",
       "      <td>10</td>\n",
       "      <td>b'\\x93NUMPY\\x03\\x00t\\x00\\x00\\x00{\\'descr\\': \\'...</td>\n",
       "      <td>[10]</td>\n",
       "      <td>[54, 55, 56, 57, 58, 59, 60, 61, 62, 63]</td>\n",
       "      <td>44.346397</td>\n",
       "      <td>b\"X\\xc8\\x98\\x06\\xeeZ\\x0fzo\\x16\\xfc9\\xedPsN\\xdf...</td>\n",
       "    </tr>\n",
       "    <tr>\n",
       "      <th>67</th>\n",
       "      <td>Sheringham Shoal.1_OSS</td>\n",
       "      <td>88</td>\n",
       "      <td>1</td>\n",
       "      <td>4</td>\n",
       "      <td>b'\\x93NUMPY\\x03\\x00t\\x00\\x00\\x00{\\'descr\\': \\'...</td>\n",
       "      <td>[4]</td>\n",
       "      <td>[88, 89, 90, 91]</td>\n",
       "      <td>13.476114</td>\n",
       "      <td>b'&lt;En\\xf3\\x08hn+q\\x03\\x1f\\x8c\\xeeJ\\xb36N\\x1e\\x...</td>\n",
       "    </tr>\n",
       "    <tr>\n",
       "      <th>68</th>\n",
       "      <td>Cazzaro-2022</td>\n",
       "      <td>50</td>\n",
       "      <td>1</td>\n",
       "      <td>41</td>\n",
       "      <td>b'\\x93NUMPY\\x03\\x00t\\x00\\x00\\x00{\\'descr\\': \\'...</td>\n",
       "      <td>[16, 3, 6, 3, 4, 4, 5]</td>\n",
       "      <td>[50, 51, 52, 53, 54, 55, 56, 57, 58, 59, 60, 6...</td>\n",
       "      <td>0.000000</td>\n",
       "      <td>b'\\x03\\xb5J\\xf1\\xae\\x04n\\xd6\\xbd7\\xf0+\\x12\\xcf...</td>\n",
       "    </tr>\n",
       "  </tbody>\n",
       "</table>\n",
       "<p>69 rows × 9 columns</p>\n",
       "</div>"
      ],
      "text/plain": [
       "                      name    T  R   B  \\\n",
       "0              Gode Wind 1   55  1   8   \n",
       "1       Borkum Riffgrund 1   78  1   6   \n",
       "2                   Anholt  111  1   4   \n",
       "3       Borkum Riffgrund 2   52  1  21   \n",
       "4                  DanTysk   80  1  11   \n",
       "..                     ...  ... ..  ..   \n",
       "64       Taylor-2023.1_OSS  122  1  18   \n",
       "65          Beatrice.1_OSS   84  1  11   \n",
       "66  Neart na Gaoithe.1_OSS   54  1  10   \n",
       "67  Sheringham Shoal.1_OSS   88  1   4   \n",
       "68            Cazzaro-2022   50  1  41   \n",
       "\n",
       "                                              VertexC       constraint_groups  \\\n",
       "0   b'\\x93NUMPY\\x03\\x00t\\x00\\x00\\x00{\\'descr\\': \\'...                     [8]   \n",
       "1   b'\\x93NUMPY\\x03\\x00t\\x00\\x00\\x00{\\'descr\\': \\'...                     [6]   \n",
       "2   b'\\x93NUMPY\\x03\\x00t\\x00\\x00\\x00{\\'descr\\': \\'...                     [4]   \n",
       "3   b\"\\x93NUMPY\\x03\\x00t\\x00\\x00\\x00{'descr': '<f8...                    [21]   \n",
       "4   b'\\x93NUMPY\\x03\\x00t\\x00\\x00\\x00{\\'descr\\': \\'...                    [11]   \n",
       "..                                                ...                     ...   \n",
       "64  b'\\x93NUMPY\\x03\\x00t\\x00\\x00\\x00{\\'descr\\': \\'...                 [12, 6]   \n",
       "65  b'\\x93NUMPY\\x03\\x00t\\x00\\x00\\x00{\\'descr\\': \\'...                    [11]   \n",
       "66  b'\\x93NUMPY\\x03\\x00t\\x00\\x00\\x00{\\'descr\\': \\'...                    [10]   \n",
       "67  b'\\x93NUMPY\\x03\\x00t\\x00\\x00\\x00{\\'descr\\': \\'...                     [4]   \n",
       "68  b'\\x93NUMPY\\x03\\x00t\\x00\\x00\\x00{\\'descr\\': \\'...  [16, 3, 6, 3, 4, 4, 5]   \n",
       "\n",
       "                                  constraint_vertices  landscape_angle  \\\n",
       "0                    [55, 56, 57, 58, 59, 60, 61, 62]      -135.000000   \n",
       "1                            [78, 79, 80, 81, 82, 83]        48.000000   \n",
       "2                                [111, 112, 113, 114]        82.000000   \n",
       "3   [52, 53, 54, 55, 56, 57, 58, 59, 60, 61, 62, 6...        39.000000   \n",
       "4        [80, 81, 82, 83, 84, 85, 86, 87, 88, 89, 90]        90.000000   \n",
       "..                                                ...              ...   \n",
       "64  [122, 123, 124, 125, 126, 127, 128, 129, 130, ...       -68.000000   \n",
       "65       [84, 85, 86, 87, 88, 89, 90, 91, 92, 93, 94]       -31.495057   \n",
       "66           [54, 55, 56, 57, 58, 59, 60, 61, 62, 63]        44.346397   \n",
       "67                                   [88, 89, 90, 91]        13.476114   \n",
       "68  [50, 51, 52, 53, 54, 55, 56, 57, 58, 59, 60, 6...         0.000000   \n",
       "\n",
       "                                               digest  \n",
       "0   b'\\xa0\\x8d\\xf7\\xa7)\\x94W\\xa9o+\\xd49\\t\\xd3\\xaf\\...  \n",
       "1   b'\\x1e\\xd8\\xa8\\x8c\\x02\\xf7kO\\xe8\\x8c\\xd4\\x9c\\x...  \n",
       "2   b'g\\xd2{\\xaaK,\\xfd\\xd9m\\xc5x\\x9a\\x8d\\x14\\xb2eI...  \n",
       "3   b'\\xfdB\\xfa\\xde7\\x1f\\xf2J\\xeb\\xde\\x95\\x9cd)Y\\x...  \n",
       "4   b'\\xcc\\xbdm|\\x98:\\xa8F\\x8f#\\xa2\\xff\\xe1\\xcc\\x1...  \n",
       "..                                                ...  \n",
       "64  b'\\x1btD\\nt]U\\xb9\\x05\\xf2\\xfd\\xd3\\x00\\xbc\\xf1\\...  \n",
       "65  b'\\x8a&r\\xa6\\xc7\\xafkO\\x1e\\x83\\x91U\\x14\\xe8u4z...  \n",
       "66  b\"X\\xc8\\x98\\x06\\xeeZ\\x0fzo\\x16\\xfc9\\xedPsN\\xdf...  \n",
       "67  b'<En\\xf3\\x08hn+q\\x03\\x1f\\x8c\\xeeJ\\xb36N\\x1e\\x...  \n",
       "68  b'\\x03\\xb5J\\xf1\\xae\\x04n\\xd6\\xbd7\\xf0+\\x12\\xcf...  \n",
       "\n",
       "[69 rows x 9 columns]"
      ]
     },
     "metadata": {},
     "output_type": "display_data"
    }
   ],
   "source": [
    "import pandas as pd\n",
    "\n",
    "with db_session:\n",
    "    df = pd.DataFrame([r.to_dict() for r in Ns_q[:]])\n",
    "    display(df)\n"
   ]
  },
  {
   "cell_type": "code",
   "execution_count": 11,
   "id": "b84321ff",
   "metadata": {},
   "outputs": [
    {
     "data": {
      "text/plain": [
       "1464"
      ]
     },
     "execution_count": 11,
     "metadata": {},
     "output_type": "execute_result"
    }
   ],
   "source": [
    "entries = []\n",
    "for ns in Ns_q:\n",
    "    for rs in ns.RouteSets:\n",
    "        entries.append((\n",
    "            ns.name,\n",
    "            rs.id,\n",
    "            ns.T,\n",
    "            rs.capacity,\n",
    "            rs.detextra,\n",
    "            rs.length,\n",
    "            rs.creator,\n",
    "            rs.misc.get('gap', None),\n",
    "        ))\n",
    "len(entries)"
   ]
  },
  {
   "cell_type": "code",
   "execution_count": 12,
   "id": "e34df257",
   "metadata": {},
   "outputs": [
    {
     "name": "stdout",
     "output_type": "stream",
     "text": [
      "Gode Wind 1\n"
     ]
    },
    {
     "data": {
      "image/svg+xml": [
       "<svg xmlns=\"http://www.w3.org/2000/svg\" viewBox=\"0 0 1920 1080\"><defs><circle stroke=\"none\" stroke-width=\"2\" id=\"wtg\" r=\"12\"/><rect stroke=\"#111\" stroke-width=\"2\" id=\"oss\" width=\"21\" height=\"21\" fill=\"lawngreen\"/></defs><g id=\"Gode_Wind_1\"><path stroke=\"silver\" stroke-dasharray=\"15 7\" stroke-width=\"2\" id=\"border\" d=\"M1726 996 1555 1036 1427 1043 1201 1048 1109 1050 30 1034 677 30 898 102z\" fill-rule=\"evenodd\" fill=\"#111\"/><g id=\"WTGgrp\"><g fill=\"#9edae5\"><use href=\"#wtg\" x=\"1726\" y=\"996\"/><use href=\"#wtg\" x=\"1555\" y=\"1036\"/><use href=\"#wtg\" x=\"1427\" y=\"1043\"/><use href=\"#wtg\" x=\"1201\" y=\"1048\"/><use href=\"#wtg\" x=\"1109\" y=\"1050\"/><use href=\"#wtg\" x=\"838\" y=\"1035\"/><use href=\"#wtg\" x=\"563\" y=\"1033\"/><use href=\"#wtg\" x=\"306\" y=\"1020\"/><use href=\"#wtg\" x=\"145\" y=\"981\"/><use href=\"#wtg\" x=\"31\" y=\"1033\"/><use href=\"#wtg\" x=\"1628\" y=\"914\"/><use href=\"#wtg\" x=\"1500\" y=\"933\"/><use href=\"#wtg\" x=\"1359\" y=\"948\"/><use href=\"#wtg\" x=\"1247\" y=\"929\"/><use href=\"#wtg\" x=\"1145\" y=\"922\"/><use href=\"#wtg\" x=\"683\" y=\"934\"/><use href=\"#wtg\" x=\"439\" y=\"939\"/><use href=\"#wtg\" x=\"346\" y=\"868\"/><use href=\"#wtg\" x=\"156\" y=\"839\"/><use href=\"#wtg\" x=\"1559\" y=\"837\"/><use href=\"#wtg\" x=\"1460\" y=\"829\"/><use href=\"#wtg\" x=\"1361\" y=\"815\"/><use href=\"#wtg\" x=\"1198\" y=\"820\"/><use href=\"#wtg\" x=\"1108\" y=\"800\"/><use href=\"#wtg\" x=\"859\" y=\"795\"/><use href=\"#wtg\" x=\"633\" y=\"765\"/><use href=\"#wtg\" x=\"523\" y=\"791\"/><use href=\"#wtg\" x=\"399\" y=\"750\"/><use href=\"#wtg\" x=\"221\" y=\"738\"/><use href=\"#wtg\" x=\"1405\" y=\"654\"/><use href=\"#wtg\" x=\"1291\" y=\"646\"/><use href=\"#wtg\" x=\"1170\" y=\"637\"/><use href=\"#wtg\" x=\"1023\" y=\"618\"/><use href=\"#wtg\" x=\"864\" y=\"607\"/><use href=\"#wtg\" x=\"591\" y=\"589\"/><use href=\"#wtg\" x=\"482\" y=\"588\"/><use href=\"#wtg\" x=\"325\" y=\"577\"/><use href=\"#wtg\" x=\"1295\" y=\"538\"/><use href=\"#wtg\" x=\"1111\" y=\"548\"/><use href=\"#wtg\" x=\"1199\" y=\"451\"/><use href=\"#wtg\" x=\"1025\" y=\"504\"/><use href=\"#wtg\" x=\"714\" y=\"519\"/><use href=\"#wtg\" x=\"1121\" y=\"365\"/><use href=\"#wtg\" x=\"1026\" y=\"385\"/><use href=\"#wtg\" x=\"870\" y=\"404\"/><use href=\"#wtg\" x=\"632\" y=\"398\"/><use href=\"#wtg\" x=\"541\" y=\"407\"/><use href=\"#wtg\" x=\"426\" y=\"420\"/><use href=\"#wtg\" x=\"989\" y=\"201\"/><use href=\"#wtg\" x=\"811\" y=\"219\"/><use href=\"#wtg\" x=\"691\" y=\"224\"/><use href=\"#wtg\" x=\"539\" y=\"245\"/><use href=\"#wtg\" x=\"897\" y=\"103\"/><use href=\"#wtg\" x=\"613\" y=\"131\"/><use href=\"#wtg\" x=\"677\" y=\"30\"/></g></g><g id=\"OSSgrp\"><use href=\"#oss\" x=\"757.5\" y=\"940.5\"/></g></g></svg>"
      ],
      "text/plain": [
       "<optiwindnet.svg.SvgRepr at 0x193a8d83c50>"
      ]
     },
     "execution_count": 12,
     "metadata": {},
     "output_type": "execute_result"
    }
   ],
   "source": [
    "from pony.orm import db_session, select\n",
    "\n",
    "NodeSet = db.entities['NodeSet']\n",
    "\n",
    "with db_session:\n",
    "    ns = select(n for n in NodeSet if n.name == 'Gode Wind 1').first()\n",
    "    if ns:\n",
    "        print(ns.name)\n",
    "    else:\n",
    "        print(\"No NodeSet found with that name.\")\n",
    "\n",
    "svgplot(L_from_nodeset(ns))"
   ]
  },
  {
   "cell_type": "markdown",
   "id": "63c26f77-8bc7-4ef3-884d-a0102094421a",
   "metadata": {},
   "source": [
    "# Routsets\n",
    "## Selecting *actual* routesets"
   ]
  },
  {
   "cell_type": "code",
   "execution_count": 13,
   "id": "1b98441f-8632-470a-be83-10f85d2f0de7",
   "metadata": {},
   "outputs": [
    {
     "data": {
      "text/plain": [
       "69"
      ]
     },
     "execution_count": 13,
     "metadata": {},
     "output_type": "execute_result"
    }
   ],
   "source": [
    "Ns_q = db.NodeSet.select(\n",
    "    lambda ns:\n",
    "    ns.name[0] != '!'\n",
    ")\n",
    "Ns_q.count()"
   ]
  },
  {
   "cell_type": "code",
   "execution_count": 14,
   "id": "94752565-3f6a-41f5-91c6-e80e861f8fcf",
   "metadata": {},
   "outputs": [
    {
     "data": {
      "text/plain": [
       "1464"
      ]
     },
     "execution_count": 14,
     "metadata": {},
     "output_type": "execute_result"
    }
   ],
   "source": [
    "entries = []\n",
    "for ns in Ns_q:\n",
    "    for rs in ns.RouteSets:\n",
    "        entries.append((\n",
    "            ns.name,\n",
    "            rs.id,\n",
    "            ns.T,\n",
    "            rs.capacity,\n",
    "            rs.detextra,\n",
    "            rs.length,\n",
    "            rs.creator,\n",
    "            rs.misc.get('gap', None),\n",
    "        ))\n",
    "len(entries)"
   ]
  },
  {
   "cell_type": "code",
   "execution_count": 15,
   "id": "2957d5c4",
   "metadata": {},
   "outputs": [
    {
     "name": "stdout",
     "output_type": "stream",
     "text": [
      "None\n"
     ]
    },
    {
     "data": {
      "image/svg+xml": [
       "<svg xmlns=\"http://www.w3.org/2000/svg\" viewBox=\"0 0 1920 1080\"><defs><circle stroke=\"none\" stroke-width=\"2\" id=\"wtg\" r=\"12\"/><rect stroke=\"#111\" stroke-width=\"2\" id=\"oss\" width=\"21\" height=\"21\" fill=\"lawngreen\"/><filter x=\"-5%\" y=\"-5%\" id=\"bg_textbox\" width=\"110%\" height=\"110%\"><feFlood flood-opacity=\"0.6\" flood-color=\"black\" result=\"bg\"/><feMerge><feMergeNode in=\"bg\"/><feMergeNode in=\"SourceGraphic\"/></feMerge></filter></defs><g id=\"gode\"><path stroke=\"silver\" stroke-dasharray=\"15 7\" stroke-width=\"2\" id=\"border\" d=\"M1726 996 1555 1036 1427 1043 1201 1048 1109 1050 30 1034 677 30 898 102z\" fill-rule=\"evenodd\" fill=\"#111\"/><g stroke=\"crimson\" stroke-width=\"4\" id=\"edges_unspecified\"><line x1=\"1726\" y1=\"996\" x2=\"1628\" y2=\"914\"/><line x1=\"1555\" y1=\"1036\" x2=\"1427\" y2=\"1043\"/><line x1=\"1555\" y1=\"1036\" x2=\"1500\" y2=\"933\"/><line x1=\"1427\" y1=\"1043\" x2=\"1359\" y2=\"948\"/><line x1=\"1201\" y1=\"1048\" x2=\"1109\" y2=\"1050\"/><line x1=\"1201\" y1=\"1048\" x2=\"1247\" y2=\"929\"/><line x1=\"1109\" y1=\"1050\" x2=\"838\" y2=\"1035\"/><line x1=\"768\" y1=\"951\" x2=\"838\" y2=\"1035\"/><line x1=\"563\" y1=\"1033\" x2=\"683\" y2=\"934\"/><line x1=\"563\" y1=\"1033\" x2=\"439\" y2=\"939\"/><line x1=\"306\" y1=\"1020\" x2=\"439\" y2=\"939\"/><line x1=\"306\" y1=\"1020\" x2=\"145\" y2=\"981\"/><line x1=\"145\" y1=\"981\" x2=\"31\" y2=\"1033\"/><line x1=\"145\" y1=\"981\" x2=\"156\" y2=\"839\"/><line x1=\"1628\" y1=\"914\" x2=\"1559\" y2=\"837\"/><line x1=\"1359\" y1=\"948\" x2=\"1247\" y2=\"929\"/><line x1=\"1247\" y1=\"929\" x2=\"1145\" y2=\"922\"/><line x1=\"1145\" y1=\"922\" x2=\"1198\" y2=\"820\"/><line x1=\"768\" y1=\"951\" x2=\"683\" y2=\"934\"/><line x1=\"439\" y1=\"939\" x2=\"346\" y2=\"868\"/><line x1=\"346\" y1=\"868\" x2=\"399\" y2=\"750\"/><line x1=\"156\" y1=\"839\" x2=\"221\" y2=\"738\"/><line x1=\"1559\" y1=\"837\" x2=\"1460\" y2=\"829\"/><line x1=\"1460\" y1=\"829\" x2=\"1361\" y2=\"815\"/><line x1=\"1361\" y1=\"815\" x2=\"1405\" y2=\"654\"/><line x1=\"1198\" y1=\"820\" x2=\"1108\" y2=\"800\"/><line x1=\"768\" y1=\"951\" x2=\"859\" y2=\"795\"/><line x1=\"859\" y1=\"795\" x2=\"864\" y2=\"607\"/><line x1=\"768\" y1=\"951\" x2=\"633\" y2=\"765\"/><line x1=\"633\" y1=\"765\" x2=\"591\" y2=\"589\"/><line x1=\"523\" y1=\"791\" x2=\"399\" y2=\"750\"/><line x1=\"1405\" y1=\"654\" x2=\"1291\" y2=\"646\"/><line x1=\"1291\" y1=\"646\" x2=\"1170\" y2=\"637\"/><line x1=\"1291\" y1=\"646\" x2=\"1295\" y2=\"538\"/><line x1=\"1170\" y1=\"637\" x2=\"1111\" y2=\"548\"/><line x1=\"768\" y1=\"951\" x2=\"1023\" y2=\"618\"/><line x1=\"1023\" y1=\"618\" x2=\"1111\" y2=\"548\"/><line x1=\"864\" y1=\"607\" x2=\"1025\" y2=\"504\"/><line x1=\"591\" y1=\"589\" x2=\"482\" y2=\"588\"/><line x1=\"591\" y1=\"589\" x2=\"714\" y2=\"519\"/><line x1=\"482\" y1=\"588\" x2=\"325\" y2=\"577\"/><line x1=\"1199\" y1=\"451\" x2=\"1121\" y2=\"365\"/><line x1=\"1025\" y1=\"504\" x2=\"1026\" y2=\"385\"/><line x1=\"714\" y1=\"519\" x2=\"632\" y2=\"398\"/><line x1=\"1121\" y1=\"365\" x2=\"1026\" y2=\"385\"/><line x1=\"1026\" y1=\"385\" x2=\"870\" y2=\"404\"/><line x1=\"1026\" y1=\"385\" x2=\"989\" y2=\"201\"/><line x1=\"632\" y1=\"398\" x2=\"541\" y2=\"407\"/><line x1=\"541\" y1=\"407\" x2=\"426\" y2=\"420\"/><line x1=\"541\" y1=\"407\" x2=\"539\" y2=\"245\"/><line x1=\"989\" y1=\"201\" x2=\"897\" y2=\"103\"/><line x1=\"811\" y1=\"219\" x2=\"897\" y2=\"103\"/><line x1=\"811\" y1=\"219\" x2=\"691\" y2=\"224\"/><line x1=\"539\" y1=\"245\" x2=\"613\" y2=\"131\"/><line x1=\"613\" y1=\"131\" x2=\"677\" y2=\"30\"/></g><g id=\"WTGgrp\"><g fill=\"#2ca02c\"><use href=\"#wtg\" x=\"1726\" y=\"996\"/><use href=\"#wtg\" x=\"1628\" y=\"914\"/><use href=\"#wtg\" x=\"1559\" y=\"837\"/><use href=\"#wtg\" x=\"1460\" y=\"829\"/><use href=\"#wtg\" x=\"1361\" y=\"815\"/><use href=\"#wtg\" x=\"1405\" y=\"654\"/><use href=\"#wtg\" x=\"1291\" y=\"646\"/><use href=\"#wtg\" x=\"1170\" y=\"637\"/><use href=\"#wtg\" x=\"1023\" y=\"618\"/><use href=\"#wtg\" x=\"1295\" y=\"538\"/><use href=\"#wtg\" x=\"1111\" y=\"548\"/></g><g fill=\"#1f77b4\"><use href=\"#wtg\" x=\"1555\" y=\"1036\"/><use href=\"#wtg\" x=\"1427\" y=\"1043\"/><use href=\"#wtg\" x=\"1201\" y=\"1048\"/><use href=\"#wtg\" x=\"1109\" y=\"1050\"/><use href=\"#wtg\" x=\"838\" y=\"1035\"/><use href=\"#wtg\" x=\"1500\" y=\"933\"/><use href=\"#wtg\" x=\"1359\" y=\"948\"/><use href=\"#wtg\" x=\"1247\" y=\"929\"/><use href=\"#wtg\" x=\"1145\" y=\"922\"/><use href=\"#wtg\" x=\"1198\" y=\"820\"/><use href=\"#wtg\" x=\"1108\" y=\"800\"/></g><g fill=\"#aec7e8\"><use href=\"#wtg\" x=\"563\" y=\"1033\"/><use href=\"#wtg\" x=\"306\" y=\"1020\"/><use href=\"#wtg\" x=\"145\" y=\"981\"/><use href=\"#wtg\" x=\"31\" y=\"1033\"/><use href=\"#wtg\" x=\"683\" y=\"934\"/><use href=\"#wtg\" x=\"439\" y=\"939\"/><use href=\"#wtg\" x=\"346\" y=\"868\"/><use href=\"#wtg\" x=\"156\" y=\"839\"/><use href=\"#wtg\" x=\"523\" y=\"791\"/><use href=\"#wtg\" x=\"399\" y=\"750\"/><use href=\"#wtg\" x=\"221\" y=\"738\"/></g><g fill=\"#ff7f0e\"><use href=\"#wtg\" x=\"859\" y=\"795\"/><use href=\"#wtg\" x=\"864\" y=\"607\"/><use href=\"#wtg\" x=\"1199\" y=\"451\"/><use href=\"#wtg\" x=\"1025\" y=\"504\"/><use href=\"#wtg\" x=\"1121\" y=\"365\"/><use href=\"#wtg\" x=\"1026\" y=\"385\"/><use href=\"#wtg\" x=\"870\" y=\"404\"/><use href=\"#wtg\" x=\"989\" y=\"201\"/><use href=\"#wtg\" x=\"811\" y=\"219\"/><use href=\"#wtg\" x=\"691\" y=\"224\"/><use href=\"#wtg\" x=\"897\" y=\"103\"/></g><g fill=\"#ffbb78\"><use href=\"#wtg\" x=\"633\" y=\"765\"/><use href=\"#wtg\" x=\"591\" y=\"589\"/><use href=\"#wtg\" x=\"482\" y=\"588\"/><use href=\"#wtg\" x=\"325\" y=\"577\"/><use href=\"#wtg\" x=\"714\" y=\"519\"/><use href=\"#wtg\" x=\"632\" y=\"398\"/><use href=\"#wtg\" x=\"541\" y=\"407\"/><use href=\"#wtg\" x=\"426\" y=\"420\"/><use href=\"#wtg\" x=\"539\" y=\"245\"/><use href=\"#wtg\" x=\"613\" y=\"131\"/><use href=\"#wtg\" x=\"677\" y=\"30\"/></g></g><g id=\"OSSgrp\"><use href=\"#oss\" x=\"757.5\" y=\"940.5\"/></g></g><text filter=\"url(#bg_textbox)\" text-anchor=\"end\" font-family=\"sans-serif\" font-size=\"40\" fill=\"white\" x=\"1726\" y=\"1050\"><tspan x=\"1726\" dy=\"-0.0em\">&#931;&#955; = 49899.0 m</tspan><tspan x=\"1726\" dy=\"-1.3em\">(+0) &#945;: 5</tspan><tspan x=\"1726\" dy=\"-1.3em\">&#954; = 11, T = 55</tspan></text></svg>"
      ],
      "text/plain": [
       "<optiwindnet.svg.SvgRepr at 0x193a7cf0440>"
      ]
     },
     "execution_count": 15,
     "metadata": {},
     "output_type": "execute_result"
    }
   ],
   "source": [
    "rs = db.RouteSet[7]\n",
    "print(rs.detextra)\n",
    "G = G_from_routeset(rs)\n",
    "svgplot(G)"
   ]
  },
  {
   "cell_type": "code",
   "execution_count": 16,
   "id": "fa047536",
   "metadata": {},
   "outputs": [
    {
     "name": "stdout",
     "output_type": "stream",
     "text": [
      "Graph named 'Gode Wind 1' with 56 nodes and 55 edges\n"
     ]
    }
   ],
   "source": [
    "print(G)"
   ]
  },
  {
   "cell_type": "markdown",
   "id": "403330f7-27e0-4619-8556-7301a6435b4d",
   "metadata": {},
   "source": [
    "### Make DataFrame"
   ]
  },
  {
   "cell_type": "code",
   "execution_count": 17,
   "id": "51c897cf-f2f4-45fa-96de-4253a21e91bd",
   "metadata": {},
   "outputs": [],
   "source": [
    "schema_actual = dict(\n",
    "    name=str,\n",
    "    id=int,\n",
    "    T=int,\n",
    "    capacity=int,\n",
    "    detextra=float,\n",
    "    length=float,\n",
    "    creator=str,\n",
    "    gap=float,\n",
    ")"
   ]
  },
  {
   "cell_type": "code",
   "execution_count": 53,
   "id": "483b7e3b-feea-43c9-abb8-846a958c5981",
   "metadata": {},
   "outputs": [
    {
     "data": {
      "text/html": [
       "<div><style>\n",
       ".dataframe > thead > tr,\n",
       ".dataframe > tbody > tr {\n",
       "  text-align: right;\n",
       "  white-space: pre-wrap;\n",
       "}\n",
       "</style>\n",
       "<small>shape: (3, 1)</small><table border=\"1\" class=\"dataframe\"><thead><tr><th>creator</th></tr><tr><td>str</td></tr></thead><tbody><tr><td>&quot;MILP.pyomo.gurobi&quot;</td></tr><tr><td>&quot;MILP.pyomo.cplex&quot;</td></tr><tr><td>&quot;baselines.hgs&quot;</td></tr></tbody></table></div>"
      ],
      "text/plain": [
       "shape: (3, 1)\n",
       "┌───────────────────┐\n",
       "│ creator           │\n",
       "│ ---               │\n",
       "│ str               │\n",
       "╞═══════════════════╡\n",
       "│ MILP.pyomo.gurobi │\n",
       "│ MILP.pyomo.cplex  │\n",
       "│ baselines.hgs     │\n",
       "└───────────────────┘"
      ]
     },
     "execution_count": 53,
     "metadata": {},
     "output_type": "execute_result"
    }
   ],
   "source": [
    "df_actual = pl.DataFrame(entries, schema=schema_actual, orient='row')\n",
    "df_actual.select(\"creator\").unique()"
   ]
  },
  {
   "cell_type": "code",
   "execution_count": 61,
   "id": "8c868c6d",
   "metadata": {},
   "outputs": [
    {
     "data": {
      "text/html": [
       "<div><style>\n",
       ".dataframe > thead > tr,\n",
       ".dataframe > tbody > tr {\n",
       "  text-align: right;\n",
       "  white-space: pre-wrap;\n",
       "}\n",
       "</style>\n",
       "<small>shape: (732,)</small><table border=\"1\" class=\"dataframe\"><thead><tr><th>id</th></tr><tr><td>i64</td></tr></thead><tbody><tr><td>3617</td></tr><tr><td>3761</td></tr><tr><td>3623</td></tr><tr><td>4153</td></tr><tr><td>3759</td></tr><tr><td>&hellip;</td></tr><tr><td>21617</td></tr><tr><td>21620</td></tr><tr><td>21614</td></tr><tr><td>21618</td></tr><tr><td>21621</td></tr></tbody></table></div>"
      ],
      "text/plain": [
       "shape: (732,)\n",
       "Series: 'id' [i64]\n",
       "[\n",
       "\t3617\n",
       "\t3761\n",
       "\t3623\n",
       "\t4153\n",
       "\t3759\n",
       "\t…\n",
       "\t21617\n",
       "\t21620\n",
       "\t21614\n",
       "\t21618\n",
       "\t21621\n",
       "]"
      ]
     },
     "execution_count": 61,
     "metadata": {},
     "output_type": "execute_result"
    }
   ],
   "source": [
    "ids = df_actual.filter(pl.col(\"creator\") == \"baselines.hgs\").select(\"id\")\n",
    "min(ids)"
   ]
  },
  {
   "cell_type": "code",
   "execution_count": null,
   "id": "98e208f7",
   "metadata": {},
   "outputs": [],
   "source": [
    "ids = df_actual.filter(pl.col(\"creator\") == \"MILP.pyomo.cplex\").select(\"id\")\n",
    "ids"
   ]
  },
  {
   "cell_type": "code",
   "execution_count": 19,
   "id": "d41dcad5-4bb9-4c74-9c8f-9d11f354dbc3",
   "metadata": {},
   "outputs": [
    {
     "data": {
      "text/html": [
       "<div><style>\n",
       ".dataframe > thead > tr,\n",
       ".dataframe > tbody > tr {\n",
       "  text-align: right;\n",
       "  white-space: pre-wrap;\n",
       "}\n",
       "</style>\n",
       "<small>shape: (1_464, 8)</small><table border=\"1\" class=\"dataframe\"><thead><tr><th>name</th><th>id</th><th>T</th><th>capacity</th><th>detextra</th><th>length</th><th>creator</th><th>gap</th></tr><tr><td>str</td><td>i64</td><td>i64</td><td>i64</td><td>f64</td><td>f64</td><td>str</td><td>f64</td></tr></thead><tbody><tr><td>&quot;Gode Wind 1&quot;</td><td>6</td><td>55</td><td>10</td><td>null</td><td>50775.457459</td><td>&quot;MILP.pyomo.cplex&quot;</td><td>0.004995</td></tr><tr><td>&quot;Gode Wind 1&quot;</td><td>3617</td><td>55</td><td>7</td><td>null</td><td>56703.616107</td><td>&quot;baselines.hgs&quot;</td><td>null</td></tr><tr><td>&quot;Gode Wind 1&quot;</td><td>2</td><td>55</td><td>7</td><td>null</td><td>55566.023496</td><td>&quot;MILP.pyomo.cplex&quot;</td><td>0.004982</td></tr><tr><td>&quot;Gode Wind 1&quot;</td><td>3761</td><td>55</td><td>4</td><td>null</td><td>71768.590492</td><td>&quot;baselines.hgs&quot;</td><td>null</td></tr><tr><td>&quot;Gode Wind 1&quot;</td><td>3623</td><td>55</td><td>10</td><td>null</td><td>52122.89801</td><td>&quot;baselines.hgs&quot;</td><td>null</td></tr><tr><td>&hellip;</td><td>&hellip;</td><td>&hellip;</td><td>&hellip;</td><td>&hellip;</td><td>&hellip;</td><td>&hellip;</td><td>&hellip;</td></tr><tr><td>&quot;Cazzaro-2022&quot;</td><td>21626</td><td>50</td><td>5</td><td>0.034144</td><td>10.833076</td><td>&quot;MILP.pyomo.cplex&quot;</td><td>0.004998</td></tr><tr><td>&quot;Cazzaro-2022&quot;</td><td>21618</td><td>50</td><td>8</td><td>0.02092</td><td>8.943844</td><td>&quot;baselines.hgs&quot;</td><td>null</td></tr><tr><td>&quot;Cazzaro-2022&quot;</td><td>21621</td><td>50</td><td>11</td><td>-1.1102e-16</td><td>7.753919</td><td>&quot;baselines.hgs&quot;</td><td>null</td></tr><tr><td>&quot;Cazzaro-2022&quot;</td><td>21627</td><td>50</td><td>7</td><td>0.0</td><td>8.765755</td><td>&quot;MILP.pyomo.cplex&quot;</td><td>0.004998</td></tr><tr><td>&quot;Cazzaro-2022&quot;</td><td>21633</td><td>50</td><td>12</td><td>-1.1102e-16</td><td>7.630594</td><td>&quot;MILP.pyomo.cplex&quot;</td><td>0.004999</td></tr></tbody></table></div>"
      ],
      "text/plain": [
       "shape: (1_464, 8)\n",
       "┌──────────────┬───────┬─────┬──────────┬─────────────┬──────────────┬──────────────────┬──────────┐\n",
       "│ name         ┆ id    ┆ T   ┆ capacity ┆ detextra    ┆ length       ┆ creator          ┆ gap      │\n",
       "│ ---          ┆ ---   ┆ --- ┆ ---      ┆ ---         ┆ ---          ┆ ---              ┆ ---      │\n",
       "│ str          ┆ i64   ┆ i64 ┆ i64      ┆ f64         ┆ f64          ┆ str              ┆ f64      │\n",
       "╞══════════════╪═══════╪═════╪══════════╪═════════════╪══════════════╪══════════════════╪══════════╡\n",
       "│ Gode Wind 1  ┆ 6     ┆ 55  ┆ 10       ┆ null        ┆ 50775.457459 ┆ MILP.pyomo.cplex ┆ 0.004995 │\n",
       "│ Gode Wind 1  ┆ 3617  ┆ 55  ┆ 7        ┆ null        ┆ 56703.616107 ┆ baselines.hgs    ┆ null     │\n",
       "│ Gode Wind 1  ┆ 2     ┆ 55  ┆ 7        ┆ null        ┆ 55566.023496 ┆ MILP.pyomo.cplex ┆ 0.004982 │\n",
       "│ Gode Wind 1  ┆ 3761  ┆ 55  ┆ 4        ┆ null        ┆ 71768.590492 ┆ baselines.hgs    ┆ null     │\n",
       "│ Gode Wind 1  ┆ 3623  ┆ 55  ┆ 10       ┆ null        ┆ 52122.89801  ┆ baselines.hgs    ┆ null     │\n",
       "│ …            ┆ …     ┆ …   ┆ …        ┆ …           ┆ …            ┆ …                ┆ …        │\n",
       "│ Cazzaro-2022 ┆ 21626 ┆ 50  ┆ 5        ┆ 0.034144    ┆ 10.833076    ┆ MILP.pyomo.cplex ┆ 0.004998 │\n",
       "│ Cazzaro-2022 ┆ 21618 ┆ 50  ┆ 8        ┆ 0.02092     ┆ 8.943844     ┆ baselines.hgs    ┆ null     │\n",
       "│ Cazzaro-2022 ┆ 21621 ┆ 50  ┆ 11       ┆ -1.1102e-16 ┆ 7.753919     ┆ baselines.hgs    ┆ null     │\n",
       "│ Cazzaro-2022 ┆ 21627 ┆ 50  ┆ 7        ┆ 0.0         ┆ 8.765755     ┆ MILP.pyomo.cplex ┆ 0.004998 │\n",
       "│ Cazzaro-2022 ┆ 21633 ┆ 50  ┆ 12       ┆ -1.1102e-16 ┆ 7.630594     ┆ MILP.pyomo.cplex ┆ 0.004999 │\n",
       "└──────────────┴───────┴─────┴──────────┴─────────────┴──────────────┴──────────────────┴──────────┘"
      ]
     },
     "execution_count": 19,
     "metadata": {},
     "output_type": "execute_result"
    }
   ],
   "source": [
    "df_actual"
   ]
  },
  {
   "cell_type": "code",
   "execution_count": 20,
   "id": "8b2bdc2b-b997-4c73-8c73-8c705cea7bf7",
   "metadata": {},
   "outputs": [
    {
     "data": {
      "text/html": [
       "<div><style>\n",
       ".dataframe > thead > tr,\n",
       ".dataframe > tbody > tr {\n",
       "  text-align: right;\n",
       "  white-space: pre-wrap;\n",
       "}\n",
       "</style>\n",
       "<small>shape: (69, 2)</small><table border=\"1\" class=\"dataframe\"><thead><tr><th>name</th><th>count</th></tr><tr><td>str</td><td>u32</td></tr></thead><tbody><tr><td>&quot;Taylor-2023.1_OSS&quot;</td><td>22</td></tr><tr><td>&quot;Gwynt y Mor.1_OSS&quot;</td><td>22</td></tr><tr><td>&quot;Borkum Riffgrund 1&quot;</td><td>22</td></tr><tr><td>&quot;Baltic 2&quot;</td><td>22</td></tr><tr><td>&quot;Robin Rigg&quot;</td><td>22</td></tr><tr><td>&hellip;</td><td>&hellip;</td></tr><tr><td>&quot;Thanet&quot;</td><td>22</td></tr><tr><td>&quot;Saint-Nazaire&quot;</td><td>22</td></tr><tr><td>&quot;Butendiek&quot;</td><td>22</td></tr><tr><td>&quot;East Anglia ONE&quot;</td><td>22</td></tr><tr><td>&quot;Arkona&quot;</td><td>22</td></tr></tbody></table></div>"
      ],
      "text/plain": [
       "shape: (69, 2)\n",
       "┌────────────────────┬───────┐\n",
       "│ name               ┆ count │\n",
       "│ ---                ┆ ---   │\n",
       "│ str                ┆ u32   │\n",
       "╞════════════════════╪═══════╡\n",
       "│ Taylor-2023.1_OSS  ┆ 22    │\n",
       "│ Gwynt y Mor.1_OSS  ┆ 22    │\n",
       "│ Borkum Riffgrund 1 ┆ 22    │\n",
       "│ Baltic 2           ┆ 22    │\n",
       "│ Robin Rigg         ┆ 22    │\n",
       "│ …                  ┆ …     │\n",
       "│ Thanet             ┆ 22    │\n",
       "│ Saint-Nazaire      ┆ 22    │\n",
       "│ Butendiek          ┆ 22    │\n",
       "│ East Anglia ONE    ┆ 22    │\n",
       "│ Arkona             ┆ 22    │\n",
       "└────────────────────┴───────┘"
      ]
     },
     "execution_count": 20,
     "metadata": {},
     "output_type": "execute_result"
    }
   ],
   "source": [
    "df_actual['name'].value_counts()"
   ]
  },
  {
   "cell_type": "code",
   "execution_count": 21,
   "id": "9d453f3d-967d-4f07-913f-0ddef106638f",
   "metadata": {},
   "outputs": [
    {
     "data": {
      "text/plain": [
       "0.019817266284630097"
      ]
     },
     "execution_count": 21,
     "metadata": {},
     "output_type": "execute_result"
    }
   ],
   "source": [
    "df_actual['gap'].max()"
   ]
  },
  {
   "cell_type": "code",
   "execution_count": 22,
   "id": "1ee737e3-0d82-4ae2-bce8-af1603b70ea2",
   "metadata": {},
   "outputs": [
    {
     "data": {
      "text/plain": [
       "0.07397519014347398"
      ]
     },
     "execution_count": 22,
     "metadata": {},
     "output_type": "execute_result"
    }
   ],
   "source": [
    "df_actual['detextra'].max()"
   ]
  },
  {
   "cell_type": "markdown",
   "id": "1108f043-659e-4085-a4be-1571d5f7a7cc",
   "metadata": {},
   "source": [
    "### group ⟨heuri, exact⟩ pairs"
   ]
  },
  {
   "cell_type": "code",
   "execution_count": 23,
   "id": "bc71e27c-3983-4fc4-9263-db4496774be5",
   "metadata": {},
   "outputs": [
    {
     "data": {
      "text/plain": [
       "732"
      ]
     },
     "execution_count": 23,
     "metadata": {},
     "output_type": "execute_result"
    }
   ],
   "source": [
    "pairs_actual = []\n",
    "for ns in Ns_q:\n",
    "    dfn = df_actual.filter(pl.col('name') == ns.name)\n",
    "    for k in range(dfn['capacity'].min(), dfn['capacity'].max() + 1):\n",
    "        dfk = dfn.filter(pl.col('capacity') == k)\n",
    "        if dfk.height >= 2:\n",
    "            mask = pl.col('creator') == 'baselines.hgs'\n",
    "            heuri = dfk.filter(mask).bottom_k(1, by='length')[0]\n",
    "            exact = dfk.filter(~mask).bottom_k(1, by='gap')[0]\n",
    "            if exact['gap'].item() <= 0.02:\n",
    "                pairs_actual.append((db.RouteSet[heuri['id'].item()],\n",
    "                                     db.RouteSet[exact['id'].item()]))\n",
    "len(pairs_actual)"
   ]
  },
  {
   "cell_type": "code",
   "execution_count": 24,
   "id": "5cac2789-7332-4797-b72e-6448f64df099",
   "metadata": {},
   "outputs": [],
   "source": [
    "diffs = []\n",
    "for rs_hgs, rs_bnc in pairs_actual:\n",
    "    diffs.append(rs_hgs.length/rs_bnc.length - 1)"
   ]
  },
  {
   "cell_type": "code",
   "execution_count": 25,
   "id": "bfd7e572-05e0-4937-b502-89b1578816bf",
   "metadata": {},
   "outputs": [
    {
     "name": "stdout",
     "output_type": "stream",
     "text": [
      "21311 22196 Sandbank\n",
      "21545 21925 Moray West.1_OSS\n"
     ]
    }
   ],
   "source": [
    "for (heuri, exact), diff in zip(pairs_actual, diffs):\n",
    "    if diff >= 0.07:\n",
    "        print(heuri.id, exact.id, exact.nodes.name)"
   ]
  },
  {
   "cell_type": "code",
   "execution_count": 26,
   "id": "95f4b443-2648-4ddf-af3b-29055dd5aec8",
   "metadata": {},
   "outputs": [
    {
     "data": {
      "text/plain": [
       "541"
      ]
     },
     "execution_count": 26,
     "metadata": {},
     "output_type": "execute_result"
    }
   ],
   "source": [
    "small_diffs = []\n",
    "for (heuri, exact), diff in zip(pairs_actual, diffs):\n",
    "    if diff <= 0.01:\n",
    "        small_diffs.append((heuri.id, exact.id))\n",
    "len(small_diffs)"
   ]
  },
  {
   "cell_type": "code",
   "execution_count": 27,
   "id": "ea6409f7-f1a9-40f3-a68c-e32e68161630",
   "metadata": {},
   "outputs": [
    {
     "name": "stdout",
     "output_type": "stream",
     "text": [
      "0.07397519014347398\n"
     ]
    },
    {
     "data": {
      "image/svg+xml": [
       "<svg xmlns=\"http://www.w3.org/2000/svg\" viewBox=\"0 0 1920 342\"><defs><circle stroke=\"orange\" stroke-opacity=\"0.3\" stroke-width=\"4\" id=\"dt\" r=\"23\" fill=\"none\"/><circle stroke=\"none\" stroke-width=\"2\" id=\"wtg\" r=\"12\"/><rect stroke=\"#111\" stroke-width=\"2\" id=\"oss\" width=\"21\" height=\"21\" fill=\"lawngreen\"/><filter x=\"-5%\" y=\"-5%\" id=\"bg_textbox\" width=\"110%\" height=\"110%\"><feFlood flood-opacity=\"0.6\" flood-color=\"black\" result=\"bg\"/><feMerge><feMergeNode in=\"bg\"/><feMergeNode in=\"SourceGraphic\"/></feMerge></filter></defs><g id=\"sandbank\"><path stroke=\"silver\" stroke-dasharray=\"15 7\" stroke-width=\"2\" id=\"border\" d=\"M122 311 30 216 30 124 32 30 123 32 215 32 310 32 404 31 1238 32 1331 35 1423 34 1516 32 1611 32 1702 30 1798 30 1886 30 1890 218 1795 312 1703 312 1610 312 1516 312 1425 312 1327 312 1239 312 1143 312 1051 312 959 312 867 312 772 312 680 312 584 312 495 312 401 311 306 311 217 311z\" fill-rule=\"evenodd\" fill=\"#111\"/><g stroke=\"crimson\" stroke-width=\"4\" id=\"edges_unspecified\"><line x1=\"1890\" y1=\"218\" x2=\"1795\" y2=\"220\"/><line x1=\"1886\" y1=\"30\" x2=\"1798\" y2=\"30\"/><line x1=\"1795\" y1=\"312\" x2=\"1703\" y2=\"312\"/><line x1=\"122\" y1=\"311\" x2=\"217\" y2=\"311\"/><line x1=\"30\" y1=\"216\" x2=\"30\" y2=\"124\"/><line x1=\"32\" y1=\"30\" x2=\"123\" y2=\"32\"/><line x1=\"32\" y1=\"30\" x2=\"30\" y2=\"124\"/><line x1=\"959\" y1=\"312\" x2=\"1051\" y2=\"312\"/><line x1=\"959\" y1=\"312\" x2=\"867\" y2=\"312\"/><line x1=\"1238\" y1=\"32\" x2=\"1331\" y2=\"35\"/><line x1=\"404\" y1=\"31\" x2=\"867\" y2=\"125\"/><line x1=\"404\" y1=\"31\" x2=\"310\" y2=\"32\"/><line x1=\"215\" y1=\"32\" x2=\"310\" y2=\"32\"/><line x1=\"215\" y1=\"32\" x2=\"123\" y2=\"32\"/><line x1=\"122\" y1=\"126\" x2=\"218\" y2=\"124\"/><line x1=\"122\" y1=\"126\" x2=\"123\" y2=\"216\"/><line x1=\"217\" y1=\"311\" x2=\"306\" y2=\"311\"/><line x1=\"215\" y1=\"218\" x2=\"308\" y2=\"218\"/><line x1=\"218\" y1=\"124\" x2=\"309\" y2=\"126\"/><line x1=\"309\" y1=\"126\" x2=\"401\" y2=\"128\"/><line x1=\"308\" y1=\"218\" x2=\"403\" y2=\"220\"/><line x1=\"306\" y1=\"311\" x2=\"401\" y2=\"311\"/><line x1=\"401\" y1=\"311\" x2=\"495\" y2=\"312\"/><line x1=\"403\" y1=\"220\" x2=\"493\" y2=\"220\"/><line x1=\"401\" y1=\"128\" x2=\"495\" y2=\"123\"/><line x1=\"495\" y1=\"123\" x2=\"591\" y2=\"123\"/><line x1=\"493\" y1=\"220\" x2=\"587\" y2=\"218\"/><line x1=\"495\" y1=\"312\" x2=\"584\" y2=\"312\"/><line x1=\"584\" y1=\"312\" x2=\"680\" y2=\"312\"/><line x1=\"587\" y1=\"218\" x2=\"681\" y2=\"218\"/><line x1=\"591\" y1=\"123\" x2=\"681\" y2=\"126\"/><line x1=\"1007\" y1=\"170\" x2=\"681\" y2=\"126\"/><line x1=\"681\" y1=\"218\" x2=\"774\" y2=\"218\"/><line x1=\"680\" y1=\"312\" x2=\"772\" y2=\"312\"/><line x1=\"774\" y1=\"218\" x2=\"958\" y2=\"220\"/><line x1=\"1007\" y1=\"170\" x2=\"867\" y2=\"125\"/><line x1=\"1007\" y1=\"170\" x2=\"957\" y2=\"127\"/><line x1=\"957\" y1=\"127\" x2=\"1051\" y2=\"125\"/><line x1=\"1007\" y1=\"170\" x2=\"958\" y2=\"220\"/><line x1=\"1051\" y1=\"312\" x2=\"1052\" y2=\"223\"/><line x1=\"1052\" y1=\"223\" x2=\"1145\" y2=\"219\"/><line x1=\"1051\" y1=\"125\" x2=\"1145\" y2=\"127\"/><line x1=\"1145\" y1=\"127\" x2=\"1145\" y2=\"219\"/><line x1=\"1143\" y1=\"312\" x2=\"1239\" y2=\"312\"/><line x1=\"1239\" y1=\"312\" x2=\"1327\" y2=\"312\"/><line x1=\"1239\" y1=\"217\" x2=\"1333\" y2=\"216\"/><line x1=\"1237\" y1=\"127\" x2=\"1329\" y2=\"127\"/><line x1=\"1331\" y1=\"35\" x2=\"1423\" y2=\"34\"/><line x1=\"1329\" y1=\"127\" x2=\"1423\" y2=\"123\"/><line x1=\"1327\" y1=\"312\" x2=\"1425\" y2=\"312\"/><line x1=\"1425\" y1=\"312\" x2=\"1516\" y2=\"312\"/><line x1=\"1425\" y1=\"219\" x2=\"1333\" y2=\"216\"/><line x1=\"1425\" y1=\"219\" x2=\"1518\" y2=\"219\"/><line x1=\"1423\" y1=\"123\" x2=\"1518\" y2=\"126\"/><line x1=\"1423\" y1=\"34\" x2=\"1516\" y2=\"32\"/><line x1=\"1516\" y1=\"32\" x2=\"1611\" y2=\"32\"/><line x1=\"1518\" y1=\"126\" x2=\"1609\" y2=\"128\"/><line x1=\"1516\" y1=\"312\" x2=\"1610\" y2=\"312\"/><line x1=\"1610\" y1=\"312\" x2=\"1703\" y2=\"312\"/><line x1=\"1611\" y1=\"218\" x2=\"1518\" y2=\"219\"/><line x1=\"1611\" y1=\"218\" x2=\"1702\" y2=\"220\"/><line x1=\"1609\" y1=\"128\" x2=\"1702\" y2=\"127\"/><line x1=\"1611\" y1=\"32\" x2=\"1702\" y2=\"30\"/><line x1=\"1702\" y1=\"30\" x2=\"1798\" y2=\"30\"/><line x1=\"1702\" y1=\"127\" x2=\"1794\" y2=\"126\"/><line x1=\"1702\" y1=\"220\" x2=\"1795\" y2=\"220\"/><line x1=\"1794\" y1=\"126\" x2=\"1888\" y2=\"125\"/></g><g stroke=\"darkorange\" stroke-dasharray=\"18 15\" stroke-width=\"4\" id=\"detours\" fill=\"none\"><polyline points=\"1007 170 958 220 772 312\"/><polyline points=\"1007 170 957 127 1051 125 1145 127 1239 217\"/><polyline points=\"1007 170 957 127 1238 32\"/><polyline points=\"1007 170 957 127 1051 125 1145 127 1145 219 1143 312\"/><polyline points=\"1007 170 957 127 1051 125 1237 127\"/></g><g id=\"DTgrp\"><use href=\"#dt\" x=\"958\" y=\"220\"/><use href=\"#dt\" x=\"1145\" y=\"127\"/><use href=\"#dt\" x=\"1051\" y=\"125\"/><use href=\"#dt\" x=\"957\" y=\"127\"/><use href=\"#dt\" x=\"957\" y=\"127\"/><use href=\"#dt\" x=\"1145\" y=\"219\"/><use href=\"#dt\" x=\"1145\" y=\"127\"/><use href=\"#dt\" x=\"1051\" y=\"125\"/><use href=\"#dt\" x=\"957\" y=\"127\"/><use href=\"#dt\" x=\"1051\" y=\"125\"/><use href=\"#dt\" x=\"957\" y=\"127\"/></g><g id=\"WTGgrp\"><g fill=\"#98df8a\"><use href=\"#wtg\" x=\"1890\" y=\"218\"/><use href=\"#wtg\" x=\"1239\" y=\"217\"/><use href=\"#wtg\" x=\"1425\" y=\"219\"/><use href=\"#wtg\" x=\"1611\" y=\"218\"/><use href=\"#wtg\" x=\"1702\" y=\"220\"/><use href=\"#wtg\" x=\"1795\" y=\"220\"/><use href=\"#wtg\" x=\"1333\" y=\"216\"/><use href=\"#wtg\" x=\"1518\" y=\"219\"/></g><g fill=\"#d62728\"><use href=\"#wtg\" x=\"1886\" y=\"30\"/><use href=\"#wtg\" x=\"1238\" y=\"32\"/><use href=\"#wtg\" x=\"1331\" y=\"35\"/><use href=\"#wtg\" x=\"1423\" y=\"34\"/><use href=\"#wtg\" x=\"1516\" y=\"32\"/><use href=\"#wtg\" x=\"1611\" y=\"32\"/><use href=\"#wtg\" x=\"1702\" y=\"30\"/><use href=\"#wtg\" x=\"1798\" y=\"30\"/></g><g fill=\"#ff9896\"><use href=\"#wtg\" x=\"1795\" y=\"312\"/><use href=\"#wtg\" x=\"1143\" y=\"312\"/><use href=\"#wtg\" x=\"1239\" y=\"312\"/><use href=\"#wtg\" x=\"1327\" y=\"312\"/><use href=\"#wtg\" x=\"1425\" y=\"312\"/><use href=\"#wtg\" x=\"1516\" y=\"312\"/><use href=\"#wtg\" x=\"1610\" y=\"312\"/><use href=\"#wtg\" x=\"1703\" y=\"312\"/></g><g fill=\"#2ca02c\"><use href=\"#wtg\" x=\"122\" y=\"311\"/><use href=\"#wtg\" x=\"217\" y=\"311\"/><use href=\"#wtg\" x=\"306\" y=\"311\"/><use href=\"#wtg\" x=\"401\" y=\"311\"/><use href=\"#wtg\" x=\"495\" y=\"312\"/><use href=\"#wtg\" x=\"584\" y=\"312\"/><use href=\"#wtg\" x=\"680\" y=\"312\"/><use href=\"#wtg\" x=\"772\" y=\"312\"/></g><g fill=\"#aec7e8\"><use href=\"#wtg\" x=\"30\" y=\"216\"/><use href=\"#wtg\" x=\"32\" y=\"30\"/><use href=\"#wtg\" x=\"30\" y=\"124\"/><use href=\"#wtg\" x=\"404\" y=\"31\"/><use href=\"#wtg\" x=\"215\" y=\"32\"/><use href=\"#wtg\" x=\"310\" y=\"32\"/><use href=\"#wtg\" x=\"123\" y=\"32\"/><use href=\"#wtg\" x=\"867\" y=\"125\"/></g><g fill=\"#ff7f0e\"><use href=\"#wtg\" x=\"959\" y=\"312\"/><use href=\"#wtg\" x=\"867\" y=\"312\"/><use href=\"#wtg\" x=\"957\" y=\"127\"/><use href=\"#wtg\" x=\"1051\" y=\"312\"/><use href=\"#wtg\" x=\"1052\" y=\"223\"/><use href=\"#wtg\" x=\"1051\" y=\"125\"/><use href=\"#wtg\" x=\"1145\" y=\"127\"/><use href=\"#wtg\" x=\"1145\" y=\"219\"/></g><g fill=\"#1f77b4\"><use href=\"#wtg\" x=\"122\" y=\"126\"/><use href=\"#wtg\" x=\"123\" y=\"216\"/><use href=\"#wtg\" x=\"218\" y=\"124\"/><use href=\"#wtg\" x=\"309\" y=\"126\"/><use href=\"#wtg\" x=\"401\" y=\"128\"/><use href=\"#wtg\" x=\"495\" y=\"123\"/><use href=\"#wtg\" x=\"591\" y=\"123\"/><use href=\"#wtg\" x=\"681\" y=\"126\"/></g><g fill=\"#ffbb78\"><use href=\"#wtg\" x=\"215\" y=\"218\"/><use href=\"#wtg\" x=\"308\" y=\"218\"/><use href=\"#wtg\" x=\"403\" y=\"220\"/><use href=\"#wtg\" x=\"493\" y=\"220\"/><use href=\"#wtg\" x=\"587\" y=\"218\"/><use href=\"#wtg\" x=\"681\" y=\"218\"/><use href=\"#wtg\" x=\"774\" y=\"218\"/><use href=\"#wtg\" x=\"958\" y=\"220\"/></g><g fill=\"#9467bd\"><use href=\"#wtg\" x=\"1237\" y=\"127\"/><use href=\"#wtg\" x=\"1329\" y=\"127\"/><use href=\"#wtg\" x=\"1423\" y=\"123\"/><use href=\"#wtg\" x=\"1518\" y=\"126\"/><use href=\"#wtg\" x=\"1609\" y=\"128\"/><use href=\"#wtg\" x=\"1702\" y=\"127\"/><use href=\"#wtg\" x=\"1794\" y=\"126\"/><use href=\"#wtg\" x=\"1888\" y=\"125\"/></g></g><g id=\"OSSgrp\"><use href=\"#oss\" x=\"996.5\" y=\"159.5\"/></g></g><text filter=\"url(#bg_textbox)\" text-anchor=\"end\" font-family=\"sans-serif\" font-size=\"40\" fill=\"white\" x=\"1890\" y=\"312\"><tspan x=\"1890\" dy=\"-0.0em\">&#931;&#955; = 94338.0 m</tspan><tspan x=\"1890\" dy=\"-1.3em\">(+0) &#945;: 9</tspan><tspan x=\"1890\" dy=\"-1.3em\">&#954; = 8, T = 72</tspan></text></svg>"
      ],
      "text/plain": [
       "<optiwindnet.svg.SvgRepr at 0x193aa1fc080>"
      ]
     },
     "execution_count": 27,
     "metadata": {},
     "output_type": "execute_result"
    }
   ],
   "source": [
    "rs = db.RouteSet[21311]\n",
    "print(rs.detextra)\n",
    "svgplot(G_from_routeset(rs))"
   ]
  },
  {
   "cell_type": "code",
   "execution_count": 28,
   "id": "a1908c87-bd2b-4099-b310-d9ba7d729596",
   "metadata": {},
   "outputs": [
    {
     "name": "stdout",
     "output_type": "stream",
     "text": [
      "0.0013995437575948788\n"
     ]
    },
    {
     "data": {
      "image/svg+xml": [
       "<svg xmlns=\"http://www.w3.org/2000/svg\" viewBox=\"0 0 1920 342\"><defs><circle stroke=\"orange\" stroke-opacity=\"0.3\" stroke-width=\"4\" id=\"dt\" r=\"23\" fill=\"none\"/><circle stroke=\"none\" stroke-width=\"2\" id=\"wtg\" r=\"12\"/><rect stroke=\"#111\" stroke-width=\"2\" id=\"oss\" width=\"21\" height=\"21\" fill=\"lawngreen\"/><filter x=\"-5%\" y=\"-5%\" id=\"bg_textbox\" width=\"110%\" height=\"110%\"><feFlood flood-opacity=\"0.6\" flood-color=\"black\" result=\"bg\"/><feMerge><feMergeNode in=\"bg\"/><feMergeNode in=\"SourceGraphic\"/></feMerge></filter></defs><g id=\"sandbank\"><path stroke=\"silver\" stroke-dasharray=\"15 7\" stroke-width=\"2\" id=\"border\" d=\"M122 311 30 216 30 124 32 30 123 32 215 32 310 32 404 31 1238 32 1331 35 1423 34 1516 32 1611 32 1702 30 1798 30 1886 30 1890 218 1795 312 1703 312 1610 312 1516 312 1425 312 1327 312 1239 312 1143 312 1051 312 959 312 867 312 772 312 680 312 584 312 495 312 401 311 306 311 217 311z\" fill-rule=\"evenodd\" fill=\"#111\"/><g stroke=\"crimson\" stroke-width=\"4\" id=\"edges_unspecified\"><line x1=\"1890\" y1=\"218\" x2=\"1795\" y2=\"220\"/><line x1=\"1886\" y1=\"30\" x2=\"1798\" y2=\"30\"/><line x1=\"1795\" y1=\"312\" x2=\"1703\" y2=\"312\"/><line x1=\"122\" y1=\"311\" x2=\"217\" y2=\"311\"/><line x1=\"30\" y1=\"216\" x2=\"30\" y2=\"124\"/><line x1=\"32\" y1=\"30\" x2=\"123\" y2=\"32\"/><line x1=\"959\" y1=\"312\" x2=\"1051\" y2=\"312\"/><line x1=\"959\" y1=\"312\" x2=\"867\" y2=\"312\"/><line x1=\"959\" y1=\"312\" x2=\"958\" y2=\"220\"/><line x1=\"1238\" y1=\"32\" x2=\"1331\" y2=\"35\"/><line x1=\"30\" y1=\"124\" x2=\"122\" y2=\"126\"/><line x1=\"404\" y1=\"31\" x2=\"310\" y2=\"32\"/><line x1=\"215\" y1=\"32\" x2=\"310\" y2=\"32\"/><line x1=\"215\" y1=\"32\" x2=\"123\" y2=\"32\"/><line x1=\"123\" y1=\"32\" x2=\"122\" y2=\"126\"/><line x1=\"123\" y1=\"216\" x2=\"215\" y2=\"218\"/><line x1=\"217\" y1=\"311\" x2=\"306\" y2=\"311\"/><line x1=\"215\" y1=\"218\" x2=\"308\" y2=\"218\"/><line x1=\"218\" y1=\"124\" x2=\"309\" y2=\"126\"/><line x1=\"309\" y1=\"126\" x2=\"401\" y2=\"128\"/><line x1=\"308\" y1=\"218\" x2=\"403\" y2=\"220\"/><line x1=\"306\" y1=\"311\" x2=\"401\" y2=\"311\"/><line x1=\"401\" y1=\"311\" x2=\"495\" y2=\"312\"/><line x1=\"403\" y1=\"220\" x2=\"493\" y2=\"220\"/><line x1=\"401\" y1=\"128\" x2=\"495\" y2=\"123\"/><line x1=\"495\" y1=\"123\" x2=\"591\" y2=\"123\"/><line x1=\"493\" y1=\"220\" x2=\"587\" y2=\"218\"/><line x1=\"495\" y1=\"312\" x2=\"584\" y2=\"312\"/><line x1=\"584\" y1=\"312\" x2=\"680\" y2=\"312\"/><line x1=\"587\" y1=\"218\" x2=\"681\" y2=\"218\"/><line x1=\"591\" y1=\"123\" x2=\"681\" y2=\"126\"/><line x1=\"681\" y1=\"126\" x2=\"867\" y2=\"125\"/><line x1=\"681\" y1=\"218\" x2=\"774\" y2=\"218\"/><line x1=\"680\" y1=\"312\" x2=\"772\" y2=\"312\"/><line x1=\"1007\" y1=\"170\" x2=\"774\" y2=\"218\"/><line x1=\"1007\" y1=\"170\" x2=\"772\" y2=\"312\"/><line x1=\"867\" y1=\"125\" x2=\"957\" y2=\"127\"/><line x1=\"1007\" y1=\"170\" x2=\"957\" y2=\"127\"/><line x1=\"1051\" y1=\"312\" x2=\"1052\" y2=\"223\"/><line x1=\"1051\" y1=\"312\" x2=\"1143\" y2=\"312\"/><line x1=\"1007\" y1=\"170\" x2=\"1052\" y2=\"223\"/><line x1=\"1007\" y1=\"170\" x2=\"1051\" y2=\"125\"/><line x1=\"1051\" y1=\"125\" x2=\"1145\" y2=\"127\"/><line x1=\"1007\" y1=\"170\" x2=\"1145\" y2=\"219\"/><line x1=\"1145\" y1=\"219\" x2=\"1239\" y2=\"312\"/><line x1=\"1239\" y1=\"312\" x2=\"1327\" y2=\"312\"/><line x1=\"1007\" y1=\"170\" x2=\"1239\" y2=\"217\"/><line x1=\"1239\" y1=\"217\" x2=\"1333\" y2=\"216\"/><line x1=\"1007\" y1=\"170\" x2=\"1237\" y2=\"127\"/><line x1=\"1237\" y1=\"127\" x2=\"1329\" y2=\"127\"/><line x1=\"1331\" y1=\"35\" x2=\"1423\" y2=\"34\"/><line x1=\"1329\" y1=\"127\" x2=\"1423\" y2=\"123\"/><line x1=\"1327\" y1=\"312\" x2=\"1425\" y2=\"312\"/><line x1=\"1425\" y1=\"312\" x2=\"1516\" y2=\"312\"/><line x1=\"1425\" y1=\"219\" x2=\"1333\" y2=\"216\"/><line x1=\"1425\" y1=\"219\" x2=\"1518\" y2=\"219\"/><line x1=\"1423\" y1=\"123\" x2=\"1518\" y2=\"126\"/><line x1=\"1423\" y1=\"34\" x2=\"1516\" y2=\"32\"/><line x1=\"1516\" y1=\"32\" x2=\"1611\" y2=\"32\"/><line x1=\"1518\" y1=\"126\" x2=\"1609\" y2=\"128\"/><line x1=\"1516\" y1=\"312\" x2=\"1610\" y2=\"312\"/><line x1=\"1610\" y1=\"312\" x2=\"1703\" y2=\"312\"/><line x1=\"1611\" y1=\"218\" x2=\"1518\" y2=\"219\"/><line x1=\"1611\" y1=\"218\" x2=\"1702\" y2=\"220\"/><line x1=\"1609\" y1=\"128\" x2=\"1702\" y2=\"127\"/><line x1=\"1611\" y1=\"32\" x2=\"1702\" y2=\"30\"/><line x1=\"1702\" y1=\"30\" x2=\"1798\" y2=\"30\"/><line x1=\"1702\" y1=\"127\" x2=\"1794\" y2=\"126\"/><line x1=\"1702\" y1=\"220\" x2=\"1795\" y2=\"220\"/><line x1=\"1794\" y1=\"126\" x2=\"1888\" y2=\"125\"/></g><g stroke=\"darkorange\" stroke-dasharray=\"18 15\" stroke-width=\"4\" id=\"detours\" fill=\"none\"><polyline points=\"1007 170 1051 125 1238 32\"/><polyline points=\"1007 170 957 127 404 31\"/></g><g id=\"DTgrp\"><use href=\"#dt\" x=\"1051\" y=\"125\"/><use href=\"#dt\" x=\"957\" y=\"127\"/></g><g id=\"WTGgrp\"><g fill=\"#d62728\"><use href=\"#wtg\" x=\"1890\" y=\"218\"/><use href=\"#wtg\" x=\"1239\" y=\"217\"/><use href=\"#wtg\" x=\"1425\" y=\"219\"/><use href=\"#wtg\" x=\"1611\" y=\"218\"/><use href=\"#wtg\" x=\"1702\" y=\"220\"/><use href=\"#wtg\" x=\"1795\" y=\"220\"/><use href=\"#wtg\" x=\"1333\" y=\"216\"/><use href=\"#wtg\" x=\"1518\" y=\"219\"/></g><g fill=\"#9467bd\"><use href=\"#wtg\" x=\"1886\" y=\"30\"/><use href=\"#wtg\" x=\"1238\" y=\"32\"/><use href=\"#wtg\" x=\"1331\" y=\"35\"/><use href=\"#wtg\" x=\"1423\" y=\"34\"/><use href=\"#wtg\" x=\"1516\" y=\"32\"/><use href=\"#wtg\" x=\"1611\" y=\"32\"/><use href=\"#wtg\" x=\"1702\" y=\"30\"/><use href=\"#wtg\" x=\"1798\" y=\"30\"/></g><g fill=\"#98df8a\"><use href=\"#wtg\" x=\"1795\" y=\"312\"/><use href=\"#wtg\" x=\"1145\" y=\"219\"/><use href=\"#wtg\" x=\"1239\" y=\"312\"/><use href=\"#wtg\" x=\"1327\" y=\"312\"/><use href=\"#wtg\" x=\"1425\" y=\"312\"/><use href=\"#wtg\" x=\"1516\" y=\"312\"/><use href=\"#wtg\" x=\"1610\" y=\"312\"/><use href=\"#wtg\" x=\"1703\" y=\"312\"/></g><g fill=\"#aec7e8\"><use href=\"#wtg\" x=\"122\" y=\"311\"/><use href=\"#wtg\" x=\"217\" y=\"311\"/><use href=\"#wtg\" x=\"306\" y=\"311\"/><use href=\"#wtg\" x=\"401\" y=\"311\"/><use href=\"#wtg\" x=\"495\" y=\"312\"/><use href=\"#wtg\" x=\"584\" y=\"312\"/><use href=\"#wtg\" x=\"680\" y=\"312\"/><use href=\"#wtg\" x=\"772\" y=\"312\"/></g><g fill=\"#c5b0d5\"><use href=\"#wtg\" x=\"30\" y=\"216\"/><use href=\"#wtg\" x=\"32\" y=\"30\"/><use href=\"#wtg\" x=\"30\" y=\"124\"/><use href=\"#wtg\" x=\"404\" y=\"31\"/><use href=\"#wtg\" x=\"215\" y=\"32\"/><use href=\"#wtg\" x=\"310\" y=\"32\"/><use href=\"#wtg\" x=\"123\" y=\"32\"/><use href=\"#wtg\" x=\"122\" y=\"126\"/></g><g fill=\"#ffbb78\"><use href=\"#wtg\" x=\"959\" y=\"312\"/><use href=\"#wtg\" x=\"867\" y=\"312\"/><use href=\"#wtg\" x=\"958\" y=\"220\"/><use href=\"#wtg\" x=\"1051\" y=\"312\"/><use href=\"#wtg\" x=\"1052\" y=\"223\"/><use href=\"#wtg\" x=\"1143\" y=\"312\"/></g><g fill=\"#1f77b4\"><use href=\"#wtg\" x=\"123\" y=\"216\"/><use href=\"#wtg\" x=\"215\" y=\"218\"/><use href=\"#wtg\" x=\"308\" y=\"218\"/><use href=\"#wtg\" x=\"403\" y=\"220\"/><use href=\"#wtg\" x=\"493\" y=\"220\"/><use href=\"#wtg\" x=\"587\" y=\"218\"/><use href=\"#wtg\" x=\"681\" y=\"218\"/><use href=\"#wtg\" x=\"774\" y=\"218\"/></g><g fill=\"#ff7f0e\"><use href=\"#wtg\" x=\"218\" y=\"124\"/><use href=\"#wtg\" x=\"309\" y=\"126\"/><use href=\"#wtg\" x=\"401\" y=\"128\"/><use href=\"#wtg\" x=\"495\" y=\"123\"/><use href=\"#wtg\" x=\"591\" y=\"123\"/><use href=\"#wtg\" x=\"681\" y=\"126\"/><use href=\"#wtg\" x=\"867\" y=\"125\"/><use href=\"#wtg\" x=\"957\" y=\"127\"/></g><g fill=\"#2ca02c\"><use href=\"#wtg\" x=\"1051\" y=\"125\"/><use href=\"#wtg\" x=\"1145\" y=\"127\"/></g><g fill=\"#ff9896\"><use href=\"#wtg\" x=\"1237\" y=\"127\"/><use href=\"#wtg\" x=\"1329\" y=\"127\"/><use href=\"#wtg\" x=\"1423\" y=\"123\"/><use href=\"#wtg\" x=\"1518\" y=\"126\"/><use href=\"#wtg\" x=\"1609\" y=\"128\"/><use href=\"#wtg\" x=\"1702\" y=\"127\"/><use href=\"#wtg\" x=\"1794\" y=\"126\"/><use href=\"#wtg\" x=\"1888\" y=\"125\"/></g></g><g id=\"OSSgrp\"><use href=\"#oss\" x=\"996.5\" y=\"159.5\"/></g></g><text filter=\"url(#bg_textbox)\" text-anchor=\"end\" font-family=\"sans-serif\" font-size=\"40\" fill=\"white\" x=\"1890\" y=\"312\"><tspan x=\"1890\" dy=\"-0.0em\">&#931;&#955; = 87425.0 m</tspan><tspan x=\"1890\" dy=\"-1.3em\">(+1) &#945;: 10</tspan><tspan x=\"1890\" dy=\"-1.3em\">&#954; = 8, T = 72</tspan></text></svg>"
      ],
      "text/plain": [
       "<optiwindnet.svg.SvgRepr at 0x193aa1fc860>"
      ]
     },
     "execution_count": 28,
     "metadata": {},
     "output_type": "execute_result"
    }
   ],
   "source": [
    "rs = db.RouteSet[22196]\n",
    "print(rs.detextra)\n",
    "svgplot(G_from_routeset(rs))"
   ]
  },
  {
   "cell_type": "code",
   "execution_count": 29,
   "id": "1c5dac30-e7c0-4fe1-9b38-1c491adaabec",
   "metadata": {},
   "outputs": [
    {
     "name": "stdout",
     "output_type": "stream",
     "text": [
      "0.02038470064164777\n"
     ]
    },
    {
     "data": {
      "image/svg+xml": [
       "<svg xmlns=\"http://www.w3.org/2000/svg\" viewBox=\"0 0 1920 788\"><defs><circle stroke=\"orange\" stroke-opacity=\"0.3\" stroke-width=\"4\" id=\"dt\" r=\"23\" fill=\"none\"/><circle stroke=\"none\" stroke-width=\"2\" id=\"wtg\" r=\"12\"/><rect stroke=\"#111\" stroke-width=\"2\" id=\"oss\" width=\"21\" height=\"21\" fill=\"lawngreen\"/><filter x=\"-5%\" y=\"-5%\" id=\"bg_textbox\" width=\"110%\" height=\"110%\"><feFlood flood-opacity=\"0.6\" flood-color=\"black\" result=\"bg\"/><feMerge><feMergeNode in=\"bg\"/><feMergeNode in=\"SourceGraphic\"/></feMerge></filter></defs><g id=\"moraywest_1\"><path stroke=\"silver\" stroke-dasharray=\"15 7\" stroke-width=\"2\" id=\"border\" d=\"M1187 758 1426 719 1598 631 1755 477 1852 294 1885 150 1890 30 1825 36 1579 107 1297 140 975 112 688 42 446 140 191 219 30 447z\" fill-rule=\"evenodd\" fill=\"#111\"/><g stroke=\"crimson\" stroke-width=\"4\" id=\"edges_unspecified\"><line x1=\"161\" y1=\"473\" x2=\"201\" y2=\"417\"/><line x1=\"201\" y1=\"417\" x2=\"242\" y2=\"362\"/><line x1=\"242\" y1=\"362\" x2=\"312\" y2=\"413\"/><line x1=\"363\" y1=\"195\" x2=\"353\" y2=\"358\"/><line x1=\"272\" y1=\"469\" x2=\"343\" y2=\"520\"/><line x1=\"272\" y1=\"469\" x2=\"312\" y2=\"413\"/><line x1=\"353\" y1=\"358\" x2=\"423\" y2=\"409\"/><line x1=\"514\" y1=\"135\" x2=\"625\" y2=\"131\"/><line x1=\"514\" y1=\"135\" x2=\"504\" y2=\"298\"/><line x1=\"343\" y1=\"520\" x2=\"383\" y2=\"465\"/><line x1=\"383\" y1=\"465\" x2=\"454\" y2=\"516\"/><line x1=\"423\" y1=\"409\" x2=\"464\" y2=\"353\"/><line x1=\"464\" y1=\"353\" x2=\"504\" y2=\"298\"/><line x1=\"585\" y1=\"187\" x2=\"656\" y2=\"238\"/><line x1=\"585\" y1=\"187\" x2=\"625\" y2=\"131\"/><line x1=\"454\" y1=\"516\" x2=\"525\" y2=\"567\"/><line x1=\"656\" y1=\"238\" x2=\"767\" y2=\"234\"/><line x1=\"525\" y1=\"567\" x2=\"565\" y2=\"512\"/><line x1=\"565\" y1=\"512\" x2=\"605\" y2=\"456\"/><line x1=\"605\" y1=\"456\" x2=\"676\" y2=\"508\"/><line x1=\"646\" y1=\"401\" x2=\"686\" y2=\"345\"/><line x1=\"646\" y1=\"401\" x2=\"757\" y2=\"396\"/><line x1=\"686\" y1=\"345\" x2=\"797\" y2=\"341\"/><line x1=\"767\" y1=\"234\" x2=\"878\" y2=\"230\"/><line x1=\"757\" y1=\"396\" x2=\"823\" y2=\"529\"/><line x1=\"797\" y1=\"341\" x2=\"903\" y2=\"418\"/><line x1=\"878\" y1=\"230\" x2=\"918\" y2=\"174\"/><line x1=\"941\" y1=\"403\" x2=\"918\" y2=\"174\"/><line x1=\"823\" y1=\"529\" x2=\"853\" y2=\"636\"/><line x1=\"941\" y1=\"403\" x2=\"903\" y2=\"418\"/><line x1=\"853\" y1=\"636\" x2=\"1004\" y2=\"576\"/><line x1=\"941\" y1=\"403\" x2=\"1014\" y2=\"414\"/><line x1=\"1014\" y1=\"414\" x2=\"1055\" y2=\"358\"/><line x1=\"1055\" y1=\"358\" x2=\"1136\" y2=\"247\"/><line x1=\"1136\" y1=\"247\" x2=\"1206\" y2=\"298\"/><line x1=\"1004\" y1=\"576\" x2=\"1116\" y2=\"572\"/><line x1=\"941\" y1=\"403\" x2=\"1045\" y2=\"521\"/><line x1=\"1045\" y1=\"521\" x2=\"1156\" y2=\"517\"/><line x1=\"1206\" y1=\"298\" x2=\"1247\" y2=\"243\"/><line x1=\"1247\" y1=\"243\" x2=\"1287\" y2=\"187\"/><line x1=\"1287\" y1=\"187\" x2=\"1358\" y2=\"239\"/><line x1=\"1116\" y1=\"572\" x2=\"1227\" y2=\"568\"/><line x1=\"1156\" y1=\"517\" x2=\"1196\" y2=\"461\"/><line x1=\"1196\" y1=\"461\" x2=\"1237\" y2=\"405\"/><line x1=\"1237\" y1=\"405\" x2=\"1277\" y2=\"350\"/><line x1=\"1277\" y1=\"350\" x2=\"1318\" y2=\"294\"/><line x1=\"1318\" y1=\"294\" x2=\"1459\" y2=\"397\"/><line x1=\"1358\" y1=\"239\" x2=\"1429\" y2=\"290\"/><line x1=\"1227\" y1=\"568\" x2=\"1297\" y2=\"619\"/><line x1=\"1429\" y1=\"290\" x2=\"1469\" y2=\"234\"/><line x1=\"1469\" y1=\"234\" x2=\"1540\" y2=\"286\"/><line x1=\"1257\" y1=\"675\" x2=\"1297\" y2=\"619\"/><line x1=\"1419\" y1=\"453\" x2=\"1459\" y2=\"397\"/><line x1=\"1419\" y1=\"453\" x2=\"1449\" y2=\"560\"/><line x1=\"1540\" y1=\"286\" x2=\"1580\" y2=\"230\"/><line x1=\"1580\" y1=\"230\" x2=\"1732\" y2=\"170\"/><line x1=\"1449\" y1=\"560\" x2=\"1489\" y2=\"504\"/><line x1=\"1489\" y1=\"504\" x2=\"1530\" y2=\"448\"/><line x1=\"1530\" y1=\"448\" x2=\"1570\" y2=\"393\"/></g><g stroke=\"darkorange\" stroke-dasharray=\"18 15\" stroke-width=\"4\" id=\"detours\" fill=\"none\"><polyline points=\"941 403 797 341 686 345 646 401 605 456\"/></g><g id=\"DTgrp\"><use href=\"#dt\" x=\"646\" y=\"401\"/><use href=\"#dt\" x=\"686\" y=\"345\"/><use href=\"#dt\" x=\"797\" y=\"341\"/></g><g id=\"WTGgrp\"><g fill=\"#2ca02c\"><use href=\"#wtg\" x=\"161\" y=\"473\"/><use href=\"#wtg\" x=\"201\" y=\"417\"/><use href=\"#wtg\" x=\"242\" y=\"362\"/><use href=\"#wtg\" x=\"272\" y=\"469\"/><use href=\"#wtg\" x=\"312\" y=\"413\"/><use href=\"#wtg\" x=\"343\" y=\"520\"/><use href=\"#wtg\" x=\"383\" y=\"465\"/><use href=\"#wtg\" x=\"454\" y=\"516\"/><use href=\"#wtg\" x=\"525\" y=\"567\"/><use href=\"#wtg\" x=\"565\" y=\"512\"/><use href=\"#wtg\" x=\"605\" y=\"456\"/><use href=\"#wtg\" x=\"676\" y=\"508\"/></g><g fill=\"#1f77b4\"><use href=\"#wtg\" x=\"363\" y=\"195\"/><use href=\"#wtg\" x=\"353\" y=\"358\"/><use href=\"#wtg\" x=\"514\" y=\"135\"/><use href=\"#wtg\" x=\"423\" y=\"409\"/><use href=\"#wtg\" x=\"464\" y=\"353\"/><use href=\"#wtg\" x=\"504\" y=\"298\"/><use href=\"#wtg\" x=\"585\" y=\"187\"/><use href=\"#wtg\" x=\"625\" y=\"131\"/><use href=\"#wtg\" x=\"656\" y=\"238\"/><use href=\"#wtg\" x=\"767\" y=\"234\"/><use href=\"#wtg\" x=\"878\" y=\"230\"/><use href=\"#wtg\" x=\"918\" y=\"174\"/></g><g fill=\"#aec7e8\"><use href=\"#wtg\" x=\"646\" y=\"401\"/><use href=\"#wtg\" x=\"686\" y=\"345\"/><use href=\"#wtg\" x=\"757\" y=\"396\"/><use href=\"#wtg\" x=\"797\" y=\"341\"/><use href=\"#wtg\" x=\"823\" y=\"529\"/><use href=\"#wtg\" x=\"903\" y=\"418\"/><use href=\"#wtg\" x=\"853\" y=\"636\"/><use href=\"#wtg\" x=\"1004\" y=\"576\"/><use href=\"#wtg\" x=\"1116\" y=\"572\"/><use href=\"#wtg\" x=\"1227\" y=\"568\"/><use href=\"#wtg\" x=\"1257\" y=\"675\"/><use href=\"#wtg\" x=\"1297\" y=\"619\"/></g><g fill=\"#ff7f0e\"><use href=\"#wtg\" x=\"1014\" y=\"414\"/><use href=\"#wtg\" x=\"1055\" y=\"358\"/><use href=\"#wtg\" x=\"1136\" y=\"247\"/><use href=\"#wtg\" x=\"1206\" y=\"298\"/><use href=\"#wtg\" x=\"1247\" y=\"243\"/><use href=\"#wtg\" x=\"1287\" y=\"187\"/><use href=\"#wtg\" x=\"1358\" y=\"239\"/><use href=\"#wtg\" x=\"1429\" y=\"290\"/><use href=\"#wtg\" x=\"1469\" y=\"234\"/><use href=\"#wtg\" x=\"1540\" y=\"286\"/><use href=\"#wtg\" x=\"1580\" y=\"230\"/><use href=\"#wtg\" x=\"1732\" y=\"170\"/></g><g fill=\"#ffbb78\"><use href=\"#wtg\" x=\"1045\" y=\"521\"/><use href=\"#wtg\" x=\"1156\" y=\"517\"/><use href=\"#wtg\" x=\"1196\" y=\"461\"/><use href=\"#wtg\" x=\"1237\" y=\"405\"/><use href=\"#wtg\" x=\"1277\" y=\"350\"/><use href=\"#wtg\" x=\"1318\" y=\"294\"/><use href=\"#wtg\" x=\"1419\" y=\"453\"/><use href=\"#wtg\" x=\"1459\" y=\"397\"/><use href=\"#wtg\" x=\"1449\" y=\"560\"/><use href=\"#wtg\" x=\"1489\" y=\"504\"/><use href=\"#wtg\" x=\"1530\" y=\"448\"/><use href=\"#wtg\" x=\"1570\" y=\"393\"/></g></g><g id=\"OSSgrp\"><use href=\"#oss\" x=\"930.5\" y=\"392.5\"/></g></g><text filter=\"url(#bg_textbox)\" text-anchor=\"end\" font-family=\"sans-serif\" font-size=\"40\" fill=\"white\" x=\"1890\" y=\"758\"><tspan x=\"1890\" dy=\"-0.0em\">&#931;&#955; = 96524.0 m</tspan><tspan x=\"1890\" dy=\"-1.3em\">(+0) &#945;: 5</tspan><tspan x=\"1890\" dy=\"-1.3em\">&#954; = 12, T = 60</tspan></text></svg>"
      ],
      "text/plain": [
       "<optiwindnet.svg.SvgRepr at 0x193aa232d50>"
      ]
     },
     "execution_count": 29,
     "metadata": {},
     "output_type": "execute_result"
    }
   ],
   "source": [
    "rs = db.RouteSet[21545]\n",
    "print(rs.detextra)\n",
    "svgplot(G_from_routeset(rs))"
   ]
  },
  {
   "cell_type": "code",
   "execution_count": 30,
   "id": "ec1926d1-0b65-4407-8947-52294076f172",
   "metadata": {},
   "outputs": [
    {
     "name": "stdout",
     "output_type": "stream",
     "text": [
      "None\n"
     ]
    },
    {
     "data": {
      "image/svg+xml": [
       "<svg xmlns=\"http://www.w3.org/2000/svg\" viewBox=\"0 0 1920 788\"><defs><circle stroke=\"none\" stroke-width=\"2\" id=\"wtg\" r=\"12\"/><rect stroke=\"#111\" stroke-width=\"2\" id=\"oss\" width=\"21\" height=\"21\" fill=\"lawngreen\"/><filter x=\"-5%\" y=\"-5%\" id=\"bg_textbox\" width=\"110%\" height=\"110%\"><feFlood flood-opacity=\"0.6\" flood-color=\"black\" result=\"bg\"/><feMerge><feMergeNode in=\"bg\"/><feMergeNode in=\"SourceGraphic\"/></feMerge></filter></defs><g id=\"moraywest_1\"><path stroke=\"silver\" stroke-dasharray=\"15 7\" stroke-width=\"2\" id=\"border\" d=\"M1187 758 1426 719 1598 631 1755 477 1852 294 1885 150 1890 30 1825 36 1579 107 1297 140 975 112 688 42 446 140 191 219 30 447z\" fill-rule=\"evenodd\" fill=\"#111\"/><g stroke=\"crimson\" stroke-width=\"4\" id=\"edges_unspecified\"><line x1=\"161\" y1=\"473\" x2=\"201\" y2=\"417\"/><line x1=\"201\" y1=\"417\" x2=\"272\" y2=\"469\"/><line x1=\"201\" y1=\"417\" x2=\"242\" y2=\"362\"/><line x1=\"363\" y1=\"195\" x2=\"514\" y2=\"135\"/><line x1=\"272\" y1=\"469\" x2=\"312\" y2=\"413\"/><line x1=\"312\" y1=\"413\" x2=\"353\" y2=\"358\"/><line x1=\"353\" y1=\"358\" x2=\"423\" y2=\"409\"/><line x1=\"514\" y1=\"135\" x2=\"585\" y2=\"187\"/><line x1=\"343\" y1=\"520\" x2=\"383\" y2=\"465\"/><line x1=\"383\" y1=\"465\" x2=\"454\" y2=\"516\"/><line x1=\"423\" y1=\"409\" x2=\"464\" y2=\"353\"/><line x1=\"464\" y1=\"353\" x2=\"504\" y2=\"298\"/><line x1=\"504\" y1=\"298\" x2=\"686\" y2=\"345\"/><line x1=\"585\" y1=\"187\" x2=\"656\" y2=\"238\"/><line x1=\"585\" y1=\"187\" x2=\"625\" y2=\"131\"/><line x1=\"454\" y1=\"516\" x2=\"525\" y2=\"567\"/><line x1=\"656\" y1=\"238\" x2=\"767\" y2=\"234\"/><line x1=\"525\" y1=\"567\" x2=\"565\" y2=\"512\"/><line x1=\"565\" y1=\"512\" x2=\"605\" y2=\"456\"/><line x1=\"605\" y1=\"456\" x2=\"676\" y2=\"508\"/><line x1=\"605\" y1=\"456\" x2=\"646\" y2=\"401\"/><line x1=\"686\" y1=\"345\" x2=\"757\" y2=\"396\"/><line x1=\"767\" y1=\"234\" x2=\"878\" y2=\"230\"/><line x1=\"676\" y1=\"508\" x2=\"823\" y2=\"529\"/><line x1=\"757\" y1=\"396\" x2=\"797\" y2=\"341\"/><line x1=\"941\" y1=\"403\" x2=\"797\" y2=\"341\"/><line x1=\"941\" y1=\"403\" x2=\"878\" y2=\"230\"/><line x1=\"878\" y1=\"230\" x2=\"918\" y2=\"174\"/><line x1=\"823\" y1=\"529\" x2=\"903\" y2=\"418\"/><line x1=\"823\" y1=\"529\" x2=\"853\" y2=\"636\"/><line x1=\"941\" y1=\"403\" x2=\"903\" y2=\"418\"/><line x1=\"941\" y1=\"403\" x2=\"1014\" y2=\"414\"/><line x1=\"1014\" y1=\"414\" x2=\"1156\" y2=\"517\"/><line x1=\"941\" y1=\"403\" x2=\"1055\" y2=\"358\"/><line x1=\"1055\" y1=\"358\" x2=\"1136\" y2=\"247\"/><line x1=\"1136\" y1=\"247\" x2=\"1206\" y2=\"298\"/><line x1=\"1004\" y1=\"576\" x2=\"1045\" y2=\"521\"/><line x1=\"941\" y1=\"403\" x2=\"1045\" y2=\"521\"/><line x1=\"1045\" y1=\"521\" x2=\"1116\" y2=\"572\"/><line x1=\"1206\" y1=\"298\" x2=\"1247\" y2=\"243\"/><line x1=\"1247\" y1=\"243\" x2=\"1287\" y2=\"187\"/><line x1=\"1116\" y1=\"572\" x2=\"1227\" y2=\"568\"/><line x1=\"1156\" y1=\"517\" x2=\"1196\" y2=\"461\"/><line x1=\"1196\" y1=\"461\" x2=\"1237\" y2=\"405\"/><line x1=\"1237\" y1=\"405\" x2=\"1277\" y2=\"350\"/><line x1=\"1277\" y1=\"350\" x2=\"1318\" y2=\"294\"/><line x1=\"1318\" y1=\"294\" x2=\"1358\" y2=\"239\"/><line x1=\"1358\" y1=\"239\" x2=\"1429\" y2=\"290\"/><line x1=\"1227\" y1=\"568\" x2=\"1297\" y2=\"619\"/><line x1=\"1429\" y1=\"290\" x2=\"1469\" y2=\"234\"/><line x1=\"1469\" y1=\"234\" x2=\"1540\" y2=\"286\"/><line x1=\"1257\" y1=\"675\" x2=\"1297\" y2=\"619\"/><line x1=\"1297\" y1=\"619\" x2=\"1449\" y2=\"560\"/><line x1=\"1419\" y1=\"453\" x2=\"1459\" y2=\"397\"/><line x1=\"1459\" y1=\"397\" x2=\"1530\" y2=\"448\"/><line x1=\"1540\" y1=\"286\" x2=\"1580\" y2=\"230\"/><line x1=\"1580\" y1=\"230\" x2=\"1732\" y2=\"170\"/><line x1=\"1449\" y1=\"560\" x2=\"1489\" y2=\"504\"/><line x1=\"1489\" y1=\"504\" x2=\"1530\" y2=\"448\"/><line x1=\"1530\" y1=\"448\" x2=\"1570\" y2=\"393\"/></g><g id=\"WTGgrp\"><g fill=\"#1f77b4\"><use href=\"#wtg\" x=\"161\" y=\"473\"/><use href=\"#wtg\" x=\"201\" y=\"417\"/><use href=\"#wtg\" x=\"242\" y=\"362\"/><use href=\"#wtg\" x=\"272\" y=\"469\"/><use href=\"#wtg\" x=\"312\" y=\"413\"/><use href=\"#wtg\" x=\"353\" y=\"358\"/><use href=\"#wtg\" x=\"423\" y=\"409\"/><use href=\"#wtg\" x=\"464\" y=\"353\"/><use href=\"#wtg\" x=\"504\" y=\"298\"/><use href=\"#wtg\" x=\"686\" y=\"345\"/><use href=\"#wtg\" x=\"757\" y=\"396\"/><use href=\"#wtg\" x=\"797\" y=\"341\"/></g><g fill=\"#aec7e8\"><use href=\"#wtg\" x=\"363\" y=\"195\"/><use href=\"#wtg\" x=\"514\" y=\"135\"/><use href=\"#wtg\" x=\"585\" y=\"187\"/><use href=\"#wtg\" x=\"625\" y=\"131\"/><use href=\"#wtg\" x=\"656\" y=\"238\"/><use href=\"#wtg\" x=\"767\" y=\"234\"/><use href=\"#wtg\" x=\"878\" y=\"230\"/><use href=\"#wtg\" x=\"918\" y=\"174\"/></g><g fill=\"#ff7f0e\"><use href=\"#wtg\" x=\"343\" y=\"520\"/><use href=\"#wtg\" x=\"383\" y=\"465\"/><use href=\"#wtg\" x=\"454\" y=\"516\"/><use href=\"#wtg\" x=\"525\" y=\"567\"/><use href=\"#wtg\" x=\"565\" y=\"512\"/><use href=\"#wtg\" x=\"605\" y=\"456\"/><use href=\"#wtg\" x=\"646\" y=\"401\"/><use href=\"#wtg\" x=\"676\" y=\"508\"/><use href=\"#wtg\" x=\"823\" y=\"529\"/><use href=\"#wtg\" x=\"903\" y=\"418\"/><use href=\"#wtg\" x=\"853\" y=\"636\"/></g><g fill=\"#ffbb78\"><use href=\"#wtg\" x=\"1014\" y=\"414\"/><use href=\"#wtg\" x=\"1156\" y=\"517\"/><use href=\"#wtg\" x=\"1196\" y=\"461\"/><use href=\"#wtg\" x=\"1237\" y=\"405\"/><use href=\"#wtg\" x=\"1277\" y=\"350\"/><use href=\"#wtg\" x=\"1318\" y=\"294\"/><use href=\"#wtg\" x=\"1358\" y=\"239\"/><use href=\"#wtg\" x=\"1429\" y=\"290\"/><use href=\"#wtg\" x=\"1469\" y=\"234\"/><use href=\"#wtg\" x=\"1540\" y=\"286\"/><use href=\"#wtg\" x=\"1580\" y=\"230\"/><use href=\"#wtg\" x=\"1732\" y=\"170\"/></g><g fill=\"#2ca02c\"><use href=\"#wtg\" x=\"1055\" y=\"358\"/><use href=\"#wtg\" x=\"1136\" y=\"247\"/><use href=\"#wtg\" x=\"1206\" y=\"298\"/><use href=\"#wtg\" x=\"1247\" y=\"243\"/><use href=\"#wtg\" x=\"1287\" y=\"187\"/></g><g fill=\"#98df8a\"><use href=\"#wtg\" x=\"1004\" y=\"576\"/><use href=\"#wtg\" x=\"1045\" y=\"521\"/><use href=\"#wtg\" x=\"1116\" y=\"572\"/><use href=\"#wtg\" x=\"1227\" y=\"568\"/><use href=\"#wtg\" x=\"1257\" y=\"675\"/><use href=\"#wtg\" x=\"1297\" y=\"619\"/><use href=\"#wtg\" x=\"1419\" y=\"453\"/><use href=\"#wtg\" x=\"1459\" y=\"397\"/><use href=\"#wtg\" x=\"1449\" y=\"560\"/><use href=\"#wtg\" x=\"1489\" y=\"504\"/><use href=\"#wtg\" x=\"1530\" y=\"448\"/><use href=\"#wtg\" x=\"1570\" y=\"393\"/></g></g><g id=\"OSSgrp\"><use href=\"#oss\" x=\"930.5\" y=\"392.5\"/></g></g><text filter=\"url(#bg_textbox)\" text-anchor=\"end\" font-family=\"sans-serif\" font-size=\"40\" fill=\"white\" x=\"1890\" y=\"758\"><tspan x=\"1890\" dy=\"-0.0em\">&#931;&#955; = 89697.0 m</tspan><tspan x=\"1890\" dy=\"-1.3em\">(+1) &#945;: 6</tspan><tspan x=\"1890\" dy=\"-1.3em\">&#954; = 12, T = 60</tspan></text></svg>"
      ],
      "text/plain": [
       "<optiwindnet.svg.SvgRepr at 0x193aa232f60>"
      ]
     },
     "execution_count": 30,
     "metadata": {},
     "output_type": "execute_result"
    }
   ],
   "source": [
    "rs = db.RouteSet[21925]\n",
    "print(rs.detextra)\n",
    "svgplot(G_from_routeset(rs))"
   ]
  },
  {
   "cell_type": "code",
   "execution_count": 31,
   "id": "06bc5c03-4aaf-49a6-b3bc-5318c31ea82b",
   "metadata": {},
   "outputs": [
    {
     "data": {
      "image/svg+xml": [
       "<?xml version=\"1.0\" encoding=\"utf-8\" standalone=\"no\"?>\n",
       "<!DOCTYPE svg PUBLIC \"-//W3C//DTD SVG 1.1//EN\"\n",
       "  \"http://www.w3.org/Graphics/SVG/1.1/DTD/svg11.dtd\">\n",
       "<svg xmlns:xlink=\"http://www.w3.org/1999/xlink\" width=\"397.6075pt\" height=\"297.190125pt\" viewBox=\"0 0 397.6075 297.190125\" xmlns=\"http://www.w3.org/2000/svg\" version=\"1.1\">\n",
       " <metadata>\n",
       "  <rdf:RDF xmlns:dc=\"http://purl.org/dc/elements/1.1/\" xmlns:cc=\"http://creativecommons.org/ns#\" xmlns:rdf=\"http://www.w3.org/1999/02/22-rdf-syntax-ns#\">\n",
       "   <cc:Work>\n",
       "    <dc:type rdf:resource=\"http://purl.org/dc/dcmitype/StillImage\"/>\n",
       "    <dc:date>2025-08-03T21:49:19.543715</dc:date>\n",
       "    <dc:format>image/svg+xml</dc:format>\n",
       "    <dc:creator>\n",
       "     <cc:Agent>\n",
       "      <dc:title>Matplotlib v3.10.1, https://matplotlib.org/</dc:title>\n",
       "     </cc:Agent>\n",
       "    </dc:creator>\n",
       "   </cc:Work>\n",
       "  </rdf:RDF>\n",
       " </metadata>\n",
       " <defs>\n",
       "  <style type=\"text/css\">*{stroke-linejoin: round; stroke-linecap: butt}</style>\n",
       " </defs>\n",
       " <g id=\"figure_1\">\n",
       "  <g id=\"patch_1\">\n",
       "   <path d=\"M 0 297.190125 \n",
       "L 397.6075 297.190125 \n",
       "L 397.6075 0 \n",
       "L 0 0 \n",
       "z\n",
       "\" style=\"fill: #ffffff\"/>\n",
       "  </g>\n",
       "  <g id=\"axes_1\">\n",
       "   <g id=\"patch_2\">\n",
       "    <path d=\"M 33.2875 273.312 \n",
       "L 390.4075 273.312 \n",
       "L 390.4075 7.2 \n",
       "L 33.2875 7.2 \n",
       "z\n",
       "\" style=\"fill: #ffffff\"/>\n",
       "   </g>\n",
       "   <g id=\"patch_3\">\n",
       "    <path d=\"M 49.520227 273.312 \n",
       "L 64.979968 273.312 \n",
       "L 64.979968 251.851355 \n",
       "L 49.520227 251.851355 \n",
       "z\n",
       "\" clip-path=\"url(#p0ee7df7c12)\" style=\"fill: #1f77b4\"/>\n",
       "   </g>\n",
       "   <g id=\"patch_4\">\n",
       "    <path d=\"M 64.979968 273.312 \n",
       "L 80.439708 273.312 \n",
       "L 80.439708 19.872 \n",
       "L 64.979968 19.872 \n",
       "z\n",
       "\" clip-path=\"url(#p0ee7df7c12)\" style=\"fill: #1f77b4\"/>\n",
       "   </g>\n",
       "   <g id=\"patch_5\">\n",
       "    <path d=\"M 80.439708 273.312 \n",
       "L 95.899448 273.312 \n",
       "L 95.899448 108.780387 \n",
       "L 80.439708 108.780387 \n",
       "z\n",
       "\" clip-path=\"url(#p0ee7df7c12)\" style=\"fill: #1f77b4\"/>\n",
       "   </g>\n",
       "   <g id=\"patch_6\">\n",
       "    <path d=\"M 95.899448 273.312 \n",
       "L 111.359188 273.312 \n",
       "L 111.359188 163.964903 \n",
       "L 95.899448 163.964903 \n",
       "z\n",
       "\" clip-path=\"url(#p0ee7df7c12)\" style=\"fill: #1f77b4\"/>\n",
       "   </g>\n",
       "   <g id=\"patch_7\">\n",
       "    <path d=\"M 111.359188 273.312 \n",
       "L 126.818929 273.312 \n",
       "L 126.818929 202.798452 \n",
       "L 111.359188 202.798452 \n",
       "z\n",
       "\" clip-path=\"url(#p0ee7df7c12)\" style=\"fill: #1f77b4\"/>\n",
       "   </g>\n",
       "   <g id=\"patch_8\">\n",
       "    <path d=\"M 126.818929 273.312 \n",
       "L 142.278669 273.312 \n",
       "L 142.278669 234.478452 \n",
       "L 126.818929 234.478452 \n",
       "z\n",
       "\" clip-path=\"url(#p0ee7df7c12)\" style=\"fill: #1f77b4\"/>\n",
       "   </g>\n",
       "   <g id=\"patch_9\">\n",
       "    <path d=\"M 142.278669 273.312 \n",
       "L 157.738409 273.312 \n",
       "L 157.738409 247.763613 \n",
       "L 142.278669 247.763613 \n",
       "z\n",
       "\" clip-path=\"url(#p0ee7df7c12)\" style=\"fill: #1f77b4\"/>\n",
       "   </g>\n",
       "   <g id=\"patch_10\">\n",
       "    <path d=\"M 157.738409 273.312 \n",
       "L 173.198149 273.312 \n",
       "L 173.198149 259.004903 \n",
       "L 157.738409 259.004903 \n",
       "z\n",
       "\" clip-path=\"url(#p0ee7df7c12)\" style=\"fill: #1f77b4\"/>\n",
       "   </g>\n",
       "   <g id=\"patch_11\">\n",
       "    <path d=\"M 173.198149 273.312 \n",
       "L 188.65789 273.312 \n",
       "L 188.65789 257.982968 \n",
       "L 173.198149 257.982968 \n",
       "z\n",
       "\" clip-path=\"url(#p0ee7df7c12)\" style=\"fill: #1f77b4\"/>\n",
       "   </g>\n",
       "   <g id=\"patch_12\">\n",
       "    <path d=\"M 188.65789 273.312 \n",
       "L 204.11763 273.312 \n",
       "L 204.11763 263.092645 \n",
       "L 188.65789 263.092645 \n",
       "z\n",
       "\" clip-path=\"url(#p0ee7df7c12)\" style=\"fill: #1f77b4\"/>\n",
       "   </g>\n",
       "   <g id=\"patch_13\">\n",
       "    <path d=\"M 204.11763 273.312 \n",
       "L 219.57737 273.312 \n",
       "L 219.57737 262.07071 \n",
       "L 204.11763 262.07071 \n",
       "z\n",
       "\" clip-path=\"url(#p0ee7df7c12)\" style=\"fill: #1f77b4\"/>\n",
       "   </g>\n",
       "   <g id=\"patch_14\">\n",
       "    <path d=\"M 219.57737 273.312 \n",
       "L 235.03711 273.312 \n",
       "L 235.03711 269.224258 \n",
       "L 219.57737 269.224258 \n",
       "z\n",
       "\" clip-path=\"url(#p0ee7df7c12)\" style=\"fill: #1f77b4\"/>\n",
       "   </g>\n",
       "   <g id=\"patch_15\">\n",
       "    <path d=\"M 235.03711 273.312 \n",
       "L 250.496851 273.312 \n",
       "L 250.496851 270.246194 \n",
       "L 235.03711 270.246194 \n",
       "z\n",
       "\" clip-path=\"url(#p0ee7df7c12)\" style=\"fill: #1f77b4\"/>\n",
       "   </g>\n",
       "   <g id=\"patch_16\">\n",
       "    <path d=\"M 250.496851 273.312 \n",
       "L 265.956591 273.312 \n",
       "L 265.956591 272.290065 \n",
       "L 250.496851 272.290065 \n",
       "z\n",
       "\" clip-path=\"url(#p0ee7df7c12)\" style=\"fill: #1f77b4\"/>\n",
       "   </g>\n",
       "   <g id=\"patch_17\">\n",
       "    <path d=\"M 265.956591 273.312 \n",
       "L 281.416331 273.312 \n",
       "L 281.416331 272.290065 \n",
       "L 265.956591 272.290065 \n",
       "z\n",
       "\" clip-path=\"url(#p0ee7df7c12)\" style=\"fill: #1f77b4\"/>\n",
       "   </g>\n",
       "   <g id=\"patch_18\">\n",
       "    <path d=\"M 281.416331 273.312 \n",
       "L 296.876071 273.312 \n",
       "L 296.876071 272.290065 \n",
       "L 281.416331 272.290065 \n",
       "z\n",
       "\" clip-path=\"url(#p0ee7df7c12)\" style=\"fill: #1f77b4\"/>\n",
       "   </g>\n",
       "   <g id=\"patch_19\">\n",
       "    <path d=\"M 296.876071 273.312 \n",
       "L 312.335812 273.312 \n",
       "L 312.335812 272.290065 \n",
       "L 296.876071 272.290065 \n",
       "z\n",
       "\" clip-path=\"url(#p0ee7df7c12)\" style=\"fill: #1f77b4\"/>\n",
       "   </g>\n",
       "   <g id=\"patch_20\">\n",
       "    <path d=\"M 312.335812 273.312 \n",
       "L 327.795552 273.312 \n",
       "L 327.795552 273.312 \n",
       "L 312.335812 273.312 \n",
       "z\n",
       "\" clip-path=\"url(#p0ee7df7c12)\" style=\"fill: #1f77b4\"/>\n",
       "   </g>\n",
       "   <g id=\"patch_21\">\n",
       "    <path d=\"M 327.795552 273.312 \n",
       "L 343.255292 273.312 \n",
       "L 343.255292 273.312 \n",
       "L 327.795552 273.312 \n",
       "z\n",
       "\" clip-path=\"url(#p0ee7df7c12)\" style=\"fill: #1f77b4\"/>\n",
       "   </g>\n",
       "   <g id=\"patch_22\">\n",
       "    <path d=\"M 343.255292 273.312 \n",
       "L 358.715032 273.312 \n",
       "L 358.715032 273.312 \n",
       "L 343.255292 273.312 \n",
       "z\n",
       "\" clip-path=\"url(#p0ee7df7c12)\" style=\"fill: #1f77b4\"/>\n",
       "   </g>\n",
       "   <g id=\"patch_23\">\n",
       "    <path d=\"M 358.715032 273.312 \n",
       "L 374.174773 273.312 \n",
       "L 374.174773 271.268129 \n",
       "L 358.715032 271.268129 \n",
       "z\n",
       "\" clip-path=\"url(#p0ee7df7c12)\" style=\"fill: #1f77b4\"/>\n",
       "   </g>\n",
       "   <g id=\"matplotlib.axis_1\">\n",
       "    <g id=\"xtick_1\">\n",
       "     <g id=\"line2d_1\">\n",
       "      <defs>\n",
       "       <path id=\"m0e6fe7280d\" d=\"M 0 0 \n",
       "L 0 3.5 \n",
       "\" style=\"stroke: #000000; stroke-width: 0.8\"/>\n",
       "      </defs>\n",
       "      <g>\n",
       "       <use xlink:href=\"#m0e6fe7280d\" x=\"74.639021\" y=\"273.312\" style=\"stroke: #000000; stroke-width: 0.8\"/>\n",
       "      </g>\n",
       "     </g>\n",
       "     <g id=\"text_1\">\n",
       "      <text style=\"font-size: 10px; font-family: 'DejaVu Sans', 'Bitstream Vera Sans', 'Computer Modern Sans Serif', 'Lucida Grande', 'Verdana', 'Geneva', 'Lucid', 'Arial', 'Helvetica', 'Avant Garde', sans-serif; text-anchor: middle\" x=\"74.639021\" y=\"287.910437\" transform=\"rotate(-0 74.639021 287.910437)\">0.00</text>\n",
       "     </g>\n",
       "    </g>\n",
       "    <g id=\"xtick_2\">\n",
       "     <g id=\"line2d_2\">\n",
       "      <g>\n",
       "       <use xlink:href=\"#m0e6fe7280d\" x=\"150.410806\" y=\"273.312\" style=\"stroke: #000000; stroke-width: 0.8\"/>\n",
       "      </g>\n",
       "     </g>\n",
       "     <g id=\"text_2\">\n",
       "      <text style=\"font-size: 10px; font-family: 'DejaVu Sans', 'Bitstream Vera Sans', 'Computer Modern Sans Serif', 'Lucida Grande', 'Verdana', 'Geneva', 'Lucid', 'Arial', 'Helvetica', 'Avant Garde', sans-serif; text-anchor: middle\" x=\"150.410806\" y=\"287.910437\" transform=\"rotate(-0 150.410806 287.910437)\">0.02</text>\n",
       "     </g>\n",
       "    </g>\n",
       "    <g id=\"xtick_3\">\n",
       "     <g id=\"line2d_3\">\n",
       "      <g>\n",
       "       <use xlink:href=\"#m0e6fe7280d\" x=\"226.18259\" y=\"273.312\" style=\"stroke: #000000; stroke-width: 0.8\"/>\n",
       "      </g>\n",
       "     </g>\n",
       "     <g id=\"text_3\">\n",
       "      <text style=\"font-size: 10px; font-family: 'DejaVu Sans', 'Bitstream Vera Sans', 'Computer Modern Sans Serif', 'Lucida Grande', 'Verdana', 'Geneva', 'Lucid', 'Arial', 'Helvetica', 'Avant Garde', sans-serif; text-anchor: middle\" x=\"226.18259\" y=\"287.910437\" transform=\"rotate(-0 226.18259 287.910437)\">0.04</text>\n",
       "     </g>\n",
       "    </g>\n",
       "    <g id=\"xtick_4\">\n",
       "     <g id=\"line2d_4\">\n",
       "      <g>\n",
       "       <use xlink:href=\"#m0e6fe7280d\" x=\"301.954375\" y=\"273.312\" style=\"stroke: #000000; stroke-width: 0.8\"/>\n",
       "      </g>\n",
       "     </g>\n",
       "     <g id=\"text_4\">\n",
       "      <text style=\"font-size: 10px; font-family: 'DejaVu Sans', 'Bitstream Vera Sans', 'Computer Modern Sans Serif', 'Lucida Grande', 'Verdana', 'Geneva', 'Lucid', 'Arial', 'Helvetica', 'Avant Garde', sans-serif; text-anchor: middle\" x=\"301.954375\" y=\"287.910437\" transform=\"rotate(-0 301.954375 287.910437)\">0.06</text>\n",
       "     </g>\n",
       "    </g>\n",
       "    <g id=\"xtick_5\">\n",
       "     <g id=\"line2d_5\">\n",
       "      <g>\n",
       "       <use xlink:href=\"#m0e6fe7280d\" x=\"377.726159\" y=\"273.312\" style=\"stroke: #000000; stroke-width: 0.8\"/>\n",
       "      </g>\n",
       "     </g>\n",
       "     <g id=\"text_5\">\n",
       "      <text style=\"font-size: 10px; font-family: 'DejaVu Sans', 'Bitstream Vera Sans', 'Computer Modern Sans Serif', 'Lucida Grande', 'Verdana', 'Geneva', 'Lucid', 'Arial', 'Helvetica', 'Avant Garde', sans-serif; text-anchor: middle\" x=\"377.726159\" y=\"287.910437\" transform=\"rotate(-0 377.726159 287.910437)\">0.08</text>\n",
       "     </g>\n",
       "    </g>\n",
       "   </g>\n",
       "   <g id=\"matplotlib.axis_2\">\n",
       "    <g id=\"ytick_1\">\n",
       "     <g id=\"line2d_6\">\n",
       "      <defs>\n",
       "       <path id=\"m5fa2fec32e\" d=\"M 0 0 \n",
       "L -3.5 0 \n",
       "\" style=\"stroke: #000000; stroke-width: 0.8\"/>\n",
       "      </defs>\n",
       "      <g>\n",
       "       <use xlink:href=\"#m5fa2fec32e\" x=\"33.2875\" y=\"273.312\" style=\"stroke: #000000; stroke-width: 0.8\"/>\n",
       "      </g>\n",
       "     </g>\n",
       "     <g id=\"text_6\">\n",
       "      <text style=\"font-size: 10px; font-family: 'DejaVu Sans', 'Bitstream Vera Sans', 'Computer Modern Sans Serif', 'Lucida Grande', 'Verdana', 'Geneva', 'Lucid', 'Arial', 'Helvetica', 'Avant Garde', sans-serif; text-anchor: end\" x=\"26.2875\" y=\"277.111219\" transform=\"rotate(-0 26.2875 277.111219)\">0</text>\n",
       "     </g>\n",
       "    </g>\n",
       "    <g id=\"ytick_2\">\n",
       "     <g id=\"line2d_7\">\n",
       "      <g>\n",
       "       <use xlink:href=\"#m5fa2fec32e\" x=\"33.2875\" y=\"222.215226\" style=\"stroke: #000000; stroke-width: 0.8\"/>\n",
       "      </g>\n",
       "     </g>\n",
       "     <g id=\"text_7\">\n",
       "      <text style=\"font-size: 10px; font-family: 'DejaVu Sans', 'Bitstream Vera Sans', 'Computer Modern Sans Serif', 'Lucida Grande', 'Verdana', 'Geneva', 'Lucid', 'Arial', 'Helvetica', 'Avant Garde', sans-serif; text-anchor: end\" x=\"26.2875\" y=\"226.014445\" transform=\"rotate(-0 26.2875 226.014445)\">50</text>\n",
       "     </g>\n",
       "    </g>\n",
       "    <g id=\"ytick_3\">\n",
       "     <g id=\"line2d_8\">\n",
       "      <g>\n",
       "       <use xlink:href=\"#m5fa2fec32e\" x=\"33.2875\" y=\"171.118452\" style=\"stroke: #000000; stroke-width: 0.8\"/>\n",
       "      </g>\n",
       "     </g>\n",
       "     <g id=\"text_8\">\n",
       "      <text style=\"font-size: 10px; font-family: 'DejaVu Sans', 'Bitstream Vera Sans', 'Computer Modern Sans Serif', 'Lucida Grande', 'Verdana', 'Geneva', 'Lucid', 'Arial', 'Helvetica', 'Avant Garde', sans-serif; text-anchor: end\" x=\"26.2875\" y=\"174.91767\" transform=\"rotate(-0 26.2875 174.91767)\">100</text>\n",
       "     </g>\n",
       "    </g>\n",
       "    <g id=\"ytick_4\">\n",
       "     <g id=\"line2d_9\">\n",
       "      <g>\n",
       "       <use xlink:href=\"#m5fa2fec32e\" x=\"33.2875\" y=\"120.021677\" style=\"stroke: #000000; stroke-width: 0.8\"/>\n",
       "      </g>\n",
       "     </g>\n",
       "     <g id=\"text_9\">\n",
       "      <text style=\"font-size: 10px; font-family: 'DejaVu Sans', 'Bitstream Vera Sans', 'Computer Modern Sans Serif', 'Lucida Grande', 'Verdana', 'Geneva', 'Lucid', 'Arial', 'Helvetica', 'Avant Garde', sans-serif; text-anchor: end\" x=\"26.2875\" y=\"123.820896\" transform=\"rotate(-0 26.2875 123.820896)\">150</text>\n",
       "     </g>\n",
       "    </g>\n",
       "    <g id=\"ytick_5\">\n",
       "     <g id=\"line2d_10\">\n",
       "      <g>\n",
       "       <use xlink:href=\"#m5fa2fec32e\" x=\"33.2875\" y=\"68.924903\" style=\"stroke: #000000; stroke-width: 0.8\"/>\n",
       "      </g>\n",
       "     </g>\n",
       "     <g id=\"text_10\">\n",
       "      <text style=\"font-size: 10px; font-family: 'DejaVu Sans', 'Bitstream Vera Sans', 'Computer Modern Sans Serif', 'Lucida Grande', 'Verdana', 'Geneva', 'Lucid', 'Arial', 'Helvetica', 'Avant Garde', sans-serif; text-anchor: end\" x=\"26.2875\" y=\"72.724122\" transform=\"rotate(-0 26.2875 72.724122)\">200</text>\n",
       "     </g>\n",
       "    </g>\n",
       "    <g id=\"ytick_6\">\n",
       "     <g id=\"line2d_11\">\n",
       "      <g>\n",
       "       <use xlink:href=\"#m5fa2fec32e\" x=\"33.2875\" y=\"17.828129\" style=\"stroke: #000000; stroke-width: 0.8\"/>\n",
       "      </g>\n",
       "     </g>\n",
       "     <g id=\"text_11\">\n",
       "      <text style=\"font-size: 10px; font-family: 'DejaVu Sans', 'Bitstream Vera Sans', 'Computer Modern Sans Serif', 'Lucida Grande', 'Verdana', 'Geneva', 'Lucid', 'Arial', 'Helvetica', 'Avant Garde', sans-serif; text-anchor: end\" x=\"26.2875\" y=\"21.627348\" transform=\"rotate(-0 26.2875 21.627348)\">250</text>\n",
       "     </g>\n",
       "    </g>\n",
       "   </g>\n",
       "   <g id=\"patch_24\">\n",
       "    <path d=\"M 33.2875 273.312 \n",
       "L 33.2875 7.2 \n",
       "\" style=\"fill: none; stroke: #000000; stroke-width: 0.8; stroke-linejoin: miter; stroke-linecap: square\"/>\n",
       "   </g>\n",
       "   <g id=\"patch_25\">\n",
       "    <path d=\"M 390.4075 273.312 \n",
       "L 390.4075 7.2 \n",
       "\" style=\"fill: none; stroke: #000000; stroke-width: 0.8; stroke-linejoin: miter; stroke-linecap: square\"/>\n",
       "   </g>\n",
       "   <g id=\"patch_26\">\n",
       "    <path d=\"M 33.2875 273.312 \n",
       "L 390.4075 273.312 \n",
       "\" style=\"fill: none; stroke: #000000; stroke-width: 0.8; stroke-linejoin: miter; stroke-linecap: square\"/>\n",
       "   </g>\n",
       "   <g id=\"patch_27\">\n",
       "    <path d=\"M 33.2875 7.2 \n",
       "L 390.4075 7.2 \n",
       "\" style=\"fill: none; stroke: #000000; stroke-width: 0.8; stroke-linejoin: miter; stroke-linecap: square\"/>\n",
       "   </g>\n",
       "  </g>\n",
       " </g>\n",
       " <defs>\n",
       "  <clipPath id=\"p0ee7df7c12\">\n",
       "   <rect x=\"33.2875\" y=\"7.2\" width=\"357.12\" height=\"266.112\"/>\n",
       "  </clipPath>\n",
       " </defs>\n",
       "</svg>\n"
      ],
      "text/plain": [
       "<Figure size 640x480 with 1 Axes>"
      ]
     },
     "metadata": {},
     "output_type": "display_data"
    }
   ],
   "source": [
    "plt.hist(diffs, bins=21);"
   ]
  },
  {
   "cell_type": "markdown",
   "id": "cade026b-c066-4711-af63-2da05401c1d7",
   "metadata": {},
   "source": [
    "## HGS optimizer"
   ]
  },
  {
   "cell_type": "markdown",
   "id": "599ebd66-403e-4196-a071-e87a7e985ee4",
   "metadata": {},
   "source": [
    "### Select HGS-CVRP entries"
   ]
  },
  {
   "cell_type": "code",
   "execution_count": 32,
   "id": "6c8d5ba0-fe15-4772-858f-af5834062bee",
   "metadata": {},
   "outputs": [
    {
     "data": {
      "text/plain": [
       "2"
      ]
     },
     "execution_count": 32,
     "metadata": {},
     "output_type": "execute_result"
    }
   ],
   "source": [
    "method_hgs = db.Method.select(\n",
    "    lambda m:\n",
    "    m.funname == 'hgs_cvrp'\n",
    "    and m.options['timeLimit'] == 120\n",
    ")\n",
    "method_hgs.count()"
   ]
  },
  {
   "cell_type": "code",
   "execution_count": 33,
   "id": "6155b451-8280-4796-ae0c-d46c00856847",
   "metadata": {},
   "outputs": [
    {
     "name": "stdout",
     "output_type": "stream",
     "text": [
      "hgs_cvrp {'complete': False, 'lambda_': 40, 'mu': 25, 'nbClose': 5, 'nbElite': 4, 'nbGranular': 20, 'nbIter': 20000, 'scale': 10000.0, 'seed': 0, 'targetFeasible': 0.2, 'timeLimit': 120.0, 'useSwapStar': True}\n",
      "hgs_cvrp {'complete': False, 'lambda_': 40, 'mu': 25, 'nbClose': 5, 'nbElite': 4, 'nbGranular': 20, 'nbIter': 20000, 'seed': 20241113, 'targetFeasible': 0.2, 'timeLimit': 120, 'useSwapStar': True}\n"
     ]
    }
   ],
   "source": [
    "for m in method_hgs:\n",
    "    print(m.funname, m.options)"
   ]
  },
  {
   "cell_type": "markdown",
   "id": "4f443f69-7542-46a9-bcfe-bf8a986f2551",
   "metadata": {},
   "source": [
    "### synthetic instances (a single capacity per NodeSet)"
   ]
  },
  {
   "cell_type": "code",
   "execution_count": 34,
   "id": "dc4d189e-bbd9-43a0-a921-405157b10015",
   "metadata": {},
   "outputs": [],
   "source": [
    "pairs_synth = []"
   ]
  },
  {
   "cell_type": "code",
   "execution_count": 35,
   "id": "a85bc4bf-7f79-413b-a6dd-917e5de3c2bd",
   "metadata": {},
   "outputs": [
    {
     "data": {
      "text/plain": [
       "(2346, 2346)"
      ]
     },
     "execution_count": 35,
     "metadata": {},
     "output_type": "execute_result"
    }
   ],
   "source": [
    "# hgs instances that were first solved by cplex\n",
    "hgs_sub2 = db.RouteSet.select(\n",
    "    lambda rs:\n",
    "    rs.method in method_hgs\n",
    "    and 'solver_details' in rs.misc\n",
    "    and 'incumbent_id' in rs.misc['solver_details']\n",
    "    and rs.valid is None\n",
    "    # and rs.nodes.name != 'Ormonde'\n",
    "    and rs.nodes.name[0] == '!'\n",
    "    and rs.T >= 50\n",
    ")\n",
    "# keep only instances for which the exact solution is within 2% gap\n",
    "for rs_hgs in hgs_sub2:\n",
    "    rs_bnc = db.RouteSet[rs_hgs.misc['solver_details']['incumbent_id']]\n",
    "    # if rs_bnc.misc['bound']/rs_bnc.length >= 0.98:\n",
    "    if rs_bnc.misc['gap'] <= 0.02:\n",
    "        pairs_synth.append((rs_hgs, rs_bnc))\n",
    "hgs_sub2.count(), len(pairs_synth)"
   ]
  },
  {
   "cell_type": "code",
   "execution_count": 36,
   "id": "b77a4611-f9f5-4561-a496-d9917b842ee9",
   "metadata": {},
   "outputs": [
    {
     "data": {
      "text/plain": [
       "(4033, 6379)"
      ]
     },
     "execution_count": 36,
     "metadata": {},
     "output_type": "execute_result"
    }
   ],
   "source": [
    "# hgs instances that were solved by cplex afterward\n",
    "hgs_sub2_ = db.RouteSet.select(\n",
    "    lambda rs:\n",
    "    rs.method in method_hgs\n",
    "    and 'solver_details' not in rs.misc\n",
    "    and rs.valid is None\n",
    "    and rs.nodes.name[0] == '!'\n",
    "    and rs.T >= 50\n",
    ")\n",
    "# keep only instances for which the exact solution is within 2% gap\n",
    "for rs_hgs in hgs_sub2_:\n",
    "    if len(rs_hgs.nodes.RouteSets) == 1:\n",
    "        # no MILP counterpart\n",
    "        continue\n",
    "    cplex = gurobi = None\n",
    "    for rs2 in rs_hgs.nodes.RouteSets:\n",
    "        if rs2 is rs_hgs:\n",
    "            continue\n",
    "        if rs2.creator == 'MILP.pyomo.cplex':\n",
    "            cplex = rs2\n",
    "        elif rs2.creator == 'MILP.pyomo.gurobi':\n",
    "            gurobi = rs2\n",
    "    if gurobi and gurobi.misc['gap'] <= 0.02:\n",
    "        pairs_synth.append((rs_hgs, gurobi))\n",
    "    elif cplex and cplex.misc['gap'] <= 0.02:\n",
    "        pairs_synth.append((rs_hgs, cplex))\n",
    "hgs_sub2_.count(), len(pairs_synth)"
   ]
  },
  {
   "cell_type": "code",
   "execution_count": 37,
   "id": "a824ae0b-f972-495b-9160-326d1de6ecd1",
   "metadata": {},
   "outputs": [
    {
     "data": {
      "text/plain": [
       "7111"
      ]
     },
     "execution_count": 37,
     "metadata": {},
     "output_type": "execute_result"
    }
   ],
   "source": [
    "len(pairs_actual) + len(pairs_synth)"
   ]
  },
  {
   "cell_type": "markdown",
   "id": "e92cd6b7-dd3b-40d7-92a6-924f0e02d91c",
   "metadata": {},
   "source": [
    "### Check if there are NodeSets counted multiple times"
   ]
  },
  {
   "cell_type": "code",
   "execution_count": 38,
   "id": "cf32f6eb-bb5e-412e-a8a5-89d3edd039e5",
   "metadata": {},
   "outputs": [
    {
     "data": {
      "text/plain": [
       "6379"
      ]
     },
     "execution_count": 38,
     "metadata": {},
     "output_type": "execute_result"
    }
   ],
   "source": [
    "len(pairs_synth)"
   ]
  },
  {
   "cell_type": "code",
   "execution_count": 39,
   "id": "73a4b8e1-763e-48da-a916-635aef966f7d",
   "metadata": {},
   "outputs": [
    {
     "data": {
      "text/plain": [
       "(6379, 0)"
      ]
     },
     "execution_count": 39,
     "metadata": {},
     "output_type": "execute_result"
    }
   ],
   "source": [
    "once = set()\n",
    "twice = set()\n",
    "for rs_hgs, rs_bnc in pairs_synth:\n",
    "    assert rs_hgs.nodes is rs_bnc.nodes, (rs_hgs.nodes.name, rs_bnc.nodes.name)\n",
    "    if rs_hgs.nodes.digest in once:\n",
    "        if rs_hgs.nodes.digest in twice:\n",
    "            print(f'more than twice: {rs_hgs.nodes.name}')\n",
    "        twice.add(rs_hgs.nodes.digest)\n",
    "    else:\n",
    "        once.add(rs_hgs.nodes.digest)\n",
    "len(once), len(twice)"
   ]
  },
  {
   "cell_type": "markdown",
   "id": "5f9b2e98-4fd0-496c-8864-3cc0239b99fe",
   "metadata": {},
   "source": [
    "### Make DataFrame"
   ]
  },
  {
   "cell_type": "code",
   "execution_count": 40,
   "id": "739b43c4-c3f2-4d75-8b19-7ff91565f128",
   "metadata": {},
   "outputs": [],
   "source": [
    "schema_hgs = dict(\n",
    "    id=int,\n",
    "    synthetic=bool,\n",
    "    T=int,\n",
    "    capacity=int,\n",
    "    detextra=float,\n",
    "    length=float,\n",
    "    # incumbent=float,\n",
    "    # incumbent_bound=float,\n",
    "    exact_bound=float,\n",
    "    # incumbent_id=int,\n",
    ")"
   ]
  },
  {
   "cell_type": "code",
   "execution_count": 41,
   "id": "7003fd4f-562a-40c9-8ef1-e74c3a653759",
   "metadata": {},
   "outputs": [],
   "source": [
    "data = []\n",
    "for rs_hgs, rs_bnc in pairs_actual + pairs_synth:\n",
    "    data.append(dict(\n",
    "        id=rs_hgs.id,\n",
    "        synthetic=rs_hgs.nodes.name[0] == '!',\n",
    "        T=rs_hgs.T,\n",
    "        capacity=rs_hgs.capacity,\n",
    "        detextra=rs_hgs.detextra,\n",
    "        length=rs_hgs.length,\n",
    "        exact_bound=rs_bnc.misc['bound'],\n",
    "    ))\n",
    "    # print(details['incumbent_id'], end=' ')\n",
    "df_hgs = pl.DataFrame(data, schema=schema_hgs)"
   ]
  },
  {
   "cell_type": "code",
   "execution_count": 42,
   "id": "b6e39604-dc5c-4d85-8e38-ea4eb7b55fca",
   "metadata": {},
   "outputs": [
    {
     "data": {
      "text/plain": [
       "['id', 'synthetic', 'T', 'capacity', 'detextra', 'length', 'exact_bound']"
      ]
     },
     "execution_count": 42,
     "metadata": {},
     "output_type": "execute_result"
    }
   ],
   "source": [
    "df_hgs.columns"
   ]
  },
  {
   "cell_type": "code",
   "execution_count": 43,
   "id": "ed8caa24-665d-4fb5-9d7d-b52b310501cc",
   "metadata": {},
   "outputs": [
    {
     "data": {
      "text/html": [
       "<div><style>\n",
       ".dataframe > thead > tr,\n",
       ".dataframe > tbody > tr {\n",
       "  text-align: right;\n",
       "  white-space: pre-wrap;\n",
       "}\n",
       "</style>\n",
       "<small>shape: (2, 2)</small><table border=\"1\" class=\"dataframe\"><thead><tr><th>synthetic</th><th>count</th></tr><tr><td>bool</td><td>u32</td></tr></thead><tbody><tr><td>true</td><td>6379</td></tr><tr><td>false</td><td>732</td></tr></tbody></table></div>"
      ],
      "text/plain": [
       "shape: (2, 2)\n",
       "┌───────────┬───────┐\n",
       "│ synthetic ┆ count │\n",
       "│ ---       ┆ ---   │\n",
       "│ bool      ┆ u32   │\n",
       "╞═══════════╪═══════╡\n",
       "│ true      ┆ 6379  │\n",
       "│ false     ┆ 732   │\n",
       "└───────────┴───────┘"
      ]
     },
     "execution_count": 43,
     "metadata": {},
     "output_type": "execute_result"
    }
   ],
   "source": [
    "df_hgs['synthetic'].value_counts()"
   ]
  },
  {
   "cell_type": "code",
   "execution_count": 44,
   "id": "1e16ea87-2096-4b37-b0f6-c66939701ec2",
   "metadata": {},
   "outputs": [
    {
     "data": {
      "text/html": [
       "<div><style>\n",
       ".dataframe > thead > tr,\n",
       ".dataframe > tbody > tr {\n",
       "  text-align: right;\n",
       "  white-space: pre-wrap;\n",
       "}\n",
       "</style>\n",
       "<small>shape: (9, 2)</small><table border=\"1\" class=\"dataframe\"><thead><tr><th>statistic</th><th>value</th></tr><tr><td>str</td><td>f64</td></tr></thead><tbody><tr><td>&quot;count&quot;</td><td>5129.0</td></tr><tr><td>&quot;null_count&quot;</td><td>1982.0</td></tr><tr><td>&quot;mean&quot;</td><td>0.003079</td></tr><tr><td>&quot;std&quot;</td><td>0.005495</td></tr><tr><td>&quot;min&quot;</td><td>-0.018452</td></tr><tr><td>&quot;25%&quot;</td><td>0.000774</td></tr><tr><td>&quot;50%&quot;</td><td>0.001803</td></tr><tr><td>&quot;75%&quot;</td><td>0.003515</td></tr><tr><td>&quot;max&quot;</td><td>0.118956</td></tr></tbody></table></div>"
      ],
      "text/plain": [
       "shape: (9, 2)\n",
       "┌────────────┬───────────┐\n",
       "│ statistic  ┆ value     │\n",
       "│ ---        ┆ ---       │\n",
       "│ str        ┆ f64       │\n",
       "╞════════════╪═══════════╡\n",
       "│ count      ┆ 5129.0    │\n",
       "│ null_count ┆ 1982.0    │\n",
       "│ mean       ┆ 0.003079  │\n",
       "│ std        ┆ 0.005495  │\n",
       "│ min        ┆ -0.018452 │\n",
       "│ 25%        ┆ 0.000774  │\n",
       "│ 50%        ┆ 0.001803  │\n",
       "│ 75%        ┆ 0.003515  │\n",
       "│ max        ┆ 0.118956  │\n",
       "└────────────┴───────────┘"
      ]
     },
     "execution_count": 44,
     "metadata": {},
     "output_type": "execute_result"
    }
   ],
   "source": [
    "df_hgs['detextra'].describe()"
   ]
  },
  {
   "cell_type": "code",
   "execution_count": 45,
   "id": "1ba4edfb-d327-4fc3-8b4e-fbaf7676671a",
   "metadata": {},
   "outputs": [],
   "source": [
    "detextra_hgs = np.sort(np.nan_to_num(np.clip(df_hgs['detextra'], 0., None), nan=0.))"
   ]
  },
  {
   "cell_type": "code",
   "execution_count": 46,
   "id": "6e7e2b6c-dd22-41ab-8a22-f1e3040f7cc1",
   "metadata": {},
   "outputs": [
    {
     "data": {
      "text/html": [
       "<div><style>\n",
       ".dataframe > thead > tr,\n",
       ".dataframe > tbody > tr {\n",
       "  text-align: right;\n",
       "  white-space: pre-wrap;\n",
       "}\n",
       "</style>\n",
       "<small>shape: (35, 7)</small><table border=\"1\" class=\"dataframe\"><thead><tr><th>id</th><th>synthetic</th><th>T</th><th>capacity</th><th>detextra</th><th>length</th><th>exact_bound</th></tr><tr><td>i64</td><td>bool</td><td>i64</td><td>i64</td><td>f64</td><td>f64</td><td>f64</td></tr></thead><tbody><tr><td>21006</td><td>false</td><td>60</td><td>10</td><td>-0.002975</td><td>51296.546654</td><td>49611.477292</td></tr><tr><td>21209</td><td>false</td><td>55</td><td>2</td><td>-0.003444</td><td>182175.265645</td><td>182804.81475</td></tr><tr><td>21208</td><td>false</td><td>55</td><td>4</td><td>-0.001266</td><td>99909.593562</td><td>99531.718807</td></tr><tr><td>21556</td><td>false</td><td>119</td><td>2</td><td>-0.017189</td><td>405793.043417</td><td>412587.411775</td></tr><tr><td>21557</td><td>false</td><td>119</td><td>3</td><td>-0.007867</td><td>291621.821448</td><td>292531.694887</td></tr><tr><td>&hellip;</td><td>&hellip;</td><td>&hellip;</td><td>&hellip;</td><td>&hellip;</td><td>&hellip;</td><td>&hellip;</td></tr><tr><td>16186</td><td>true</td><td>70</td><td>10</td><td>-0.009745</td><td>7.983239</td><td>7.73576</td></tr><tr><td>16857</td><td>true</td><td>50</td><td>4</td><td>-0.003896</td><td>8.106149</td><td>8.051141</td></tr><tr><td>17139</td><td>true</td><td>133</td><td>10</td><td>-0.002333</td><td>12.255932</td><td>11.63741</td></tr><tr><td>17696</td><td>true</td><td>68</td><td>8</td><td>-0.012723</td><td>8.916369</td><td>8.541159</td></tr><tr><td>17764</td><td>true</td><td>57</td><td>4</td><td>-0.001816</td><td>10.979295</td><td>10.874424</td></tr></tbody></table></div>"
      ],
      "text/plain": [
       "shape: (35, 7)\n",
       "┌───────┬───────────┬─────┬──────────┬───────────┬───────────────┬───────────────┐\n",
       "│ id    ┆ synthetic ┆ T   ┆ capacity ┆ detextra  ┆ length        ┆ exact_bound   │\n",
       "│ ---   ┆ ---       ┆ --- ┆ ---      ┆ ---       ┆ ---           ┆ ---           │\n",
       "│ i64   ┆ bool      ┆ i64 ┆ i64      ┆ f64       ┆ f64           ┆ f64           │\n",
       "╞═══════╪═══════════╪═════╪══════════╪═══════════╪═══════════════╪═══════════════╡\n",
       "│ 21006 ┆ false     ┆ 60  ┆ 10       ┆ -0.002975 ┆ 51296.546654  ┆ 49611.477292  │\n",
       "│ 21209 ┆ false     ┆ 55  ┆ 2        ┆ -0.003444 ┆ 182175.265645 ┆ 182804.81475  │\n",
       "│ 21208 ┆ false     ┆ 55  ┆ 4        ┆ -0.001266 ┆ 99909.593562  ┆ 99531.718807  │\n",
       "│ 21556 ┆ false     ┆ 119 ┆ 2        ┆ -0.017189 ┆ 405793.043417 ┆ 412587.411775 │\n",
       "│ 21557 ┆ false     ┆ 119 ┆ 3        ┆ -0.007867 ┆ 291621.821448 ┆ 292531.694887 │\n",
       "│ …     ┆ …         ┆ …   ┆ …        ┆ …         ┆ …             ┆ …             │\n",
       "│ 16186 ┆ true      ┆ 70  ┆ 10       ┆ -0.009745 ┆ 7.983239      ┆ 7.73576       │\n",
       "│ 16857 ┆ true      ┆ 50  ┆ 4        ┆ -0.003896 ┆ 8.106149      ┆ 8.051141      │\n",
       "│ 17139 ┆ true      ┆ 133 ┆ 10       ┆ -0.002333 ┆ 12.255932     ┆ 11.63741      │\n",
       "│ 17696 ┆ true      ┆ 68  ┆ 8        ┆ -0.012723 ┆ 8.916369      ┆ 8.541159      │\n",
       "│ 17764 ┆ true      ┆ 57  ┆ 4        ┆ -0.001816 ┆ 10.979295     ┆ 10.874424     │\n",
       "└───────┴───────────┴─────┴──────────┴───────────┴───────────────┴───────────────┘"
      ]
     },
     "execution_count": 46,
     "metadata": {},
     "output_type": "execute_result"
    }
   ],
   "source": [
    "# Negative detextra in hgs is OK.\n",
    "# It means some subtree roots chosen by PathFinder were closer to root\n",
    "# than the path's head (since PathFinder relaxes the path-subtree constraint)\n",
    "df_hgs.filter(pl.col('detextra') < -1e-3)"
   ]
  },
  {
   "cell_type": "markdown",
   "id": "5ce0b00a-dfbf-4b49-a497-33141c95396a",
   "metadata": {},
   "source": [
    "## B&C solver"
   ]
  },
  {
   "cell_type": "markdown",
   "id": "6c1f0297-face-4a79-8613-193998e4370d",
   "metadata": {},
   "source": [
    "### Make DataFrame"
   ]
  },
  {
   "cell_type": "code",
   "execution_count": 47,
   "id": "e413b863-9613-47f9-a0ee-dd436966f4ee",
   "metadata": {},
   "outputs": [],
   "source": [
    "schema_exact = dict(\n",
    "    id=int,\n",
    "    synthetic=bool,\n",
    "    T=int,\n",
    "    capacity=int,\n",
    "    detextra=float,\n",
    "    length=float,\n",
    "    bound=float,\n",
    ")"
   ]
  },
  {
   "cell_type": "code",
   "execution_count": 48,
   "id": "14c6f0bc-4814-48fc-b4b9-49f89250ebd0",
   "metadata": {},
   "outputs": [],
   "source": [
    "data = []\n",
    "for rs_hgs, rs_bnc in pairs_actual + pairs_synth:\n",
    "    data.append(dict(\n",
    "        id=rs_bnc.id,\n",
    "        synthetic=rs_bnc.nodes.name[0] == '!',\n",
    "        T=rs_bnc.T,\n",
    "        capacity=rs_bnc.capacity,\n",
    "        detextra=rs_bnc.detextra,\n",
    "        length=rs_bnc.length,\n",
    "        bound=rs_bnc.misc['bound'],\n",
    "    ))\n",
    "df_BnC = pl.DataFrame(data, schema=schema_exact)"
   ]
  },
  {
   "cell_type": "code",
   "execution_count": 49,
   "id": "05cb9c29-589a-4e1b-aa6f-333124085420",
   "metadata": {},
   "outputs": [
    {
     "data": {
      "text/plain": [
       "7111"
      ]
     },
     "execution_count": 49,
     "metadata": {},
     "output_type": "execute_result"
    }
   ],
   "source": [
    "df_BnC.height"
   ]
  },
  {
   "cell_type": "code",
   "execution_count": 50,
   "id": "879d05d5-680f-4475-ab0b-f85744aa5be1",
   "metadata": {},
   "outputs": [
    {
     "data": {
      "text/html": [
       "<div><style>\n",
       ".dataframe > thead > tr,\n",
       ".dataframe > tbody > tr {\n",
       "  text-align: right;\n",
       "  white-space: pre-wrap;\n",
       "}\n",
       "</style>\n",
       "<small>shape: (9, 2)</small><table border=\"1\" class=\"dataframe\"><thead><tr><th>statistic</th><th>value</th></tr><tr><td>str</td><td>f64</td></tr></thead><tbody><tr><td>&quot;count&quot;</td><td>4935.0</td></tr><tr><td>&quot;null_count&quot;</td><td>2176.0</td></tr><tr><td>&quot;mean&quot;</td><td>0.002224</td></tr><tr><td>&quot;std&quot;</td><td>0.003292</td></tr><tr><td>&quot;min&quot;</td><td>-0.018452</td></tr><tr><td>&quot;25%&quot;</td><td>0.000616</td></tr><tr><td>&quot;50%&quot;</td><td>0.001563</td></tr><tr><td>&quot;75%&quot;</td><td>0.002992</td></tr><tr><td>&quot;max&quot;</td><td>0.120802</td></tr></tbody></table></div>"
      ],
      "text/plain": [
       "shape: (9, 2)\n",
       "┌────────────┬───────────┐\n",
       "│ statistic  ┆ value     │\n",
       "│ ---        ┆ ---       │\n",
       "│ str        ┆ f64       │\n",
       "╞════════════╪═══════════╡\n",
       "│ count      ┆ 4935.0    │\n",
       "│ null_count ┆ 2176.0    │\n",
       "│ mean       ┆ 0.002224  │\n",
       "│ std        ┆ 0.003292  │\n",
       "│ min        ┆ -0.018452 │\n",
       "│ 25%        ┆ 0.000616  │\n",
       "│ 50%        ┆ 0.001563  │\n",
       "│ 75%        ┆ 0.002992  │\n",
       "│ max        ┆ 0.120802  │\n",
       "└────────────┴───────────┘"
      ]
     },
     "execution_count": 50,
     "metadata": {},
     "output_type": "execute_result"
    }
   ],
   "source": [
    "df_BnC['detextra'].describe()"
   ]
  },
  {
   "cell_type": "code",
   "execution_count": 51,
   "id": "99f2ed83-1170-4a9f-883f-68bbc4b86b00",
   "metadata": {},
   "outputs": [],
   "source": [
    "detextra_BnC = np.sort(np.nan_to_num(np.clip(df_BnC['detextra'], 0., None), nan=0.))"
   ]
  },
  {
   "cell_type": "markdown",
   "id": "38ef0a61-7066-41ba-9abe-43460e4ae2ec",
   "metadata": {},
   "source": [
    "## 3.3 Impact of detours on the solver's total length"
   ]
  },
  {
   "cell_type": "code",
   "execution_count": 52,
   "id": "e809ae10-4e45-4146-bf57-45acb0182f90",
   "metadata": {},
   "outputs": [
    {
     "ename": "OSError",
     "evalue": "'pub_paperfarm' is not a valid package style, path of style file, URL of style file, or library style name (library styles are listed in `style.available`)",
     "output_type": "error",
     "traceback": [
      "\u001b[31m---------------------------------------------------------------------------\u001b[39m",
      "\u001b[31mFileNotFoundError\u001b[39m                         Traceback (most recent call last)",
      "\u001b[36mFile \u001b[39m\u001b[32mc:\\Users\\amia\\AppData\\Local\\miniconda3\\envs\\OptiWindNet\\Lib\\site-packages\\matplotlib\\style\\core.py:129\u001b[39m, in \u001b[36muse\u001b[39m\u001b[34m(style)\u001b[39m\n\u001b[32m    128\u001b[39m \u001b[38;5;28;01mtry\u001b[39;00m:\n\u001b[32m--> \u001b[39m\u001b[32m129\u001b[39m     style = \u001b[43m_rc_params_in_file\u001b[49m\u001b[43m(\u001b[49m\u001b[43mstyle\u001b[49m\u001b[43m)\u001b[49m\n\u001b[32m    130\u001b[39m \u001b[38;5;28;01mexcept\u001b[39;00m \u001b[38;5;167;01mOSError\u001b[39;00m \u001b[38;5;28;01mas\u001b[39;00m err:\n",
      "\u001b[36mFile \u001b[39m\u001b[32mc:\\Users\\amia\\AppData\\Local\\miniconda3\\envs\\OptiWindNet\\Lib\\site-packages\\matplotlib\\__init__.py:903\u001b[39m, in \u001b[36m_rc_params_in_file\u001b[39m\u001b[34m(fname, transform, fail_on_error)\u001b[39m\n\u001b[32m    902\u001b[39m rc_temp = {}\n\u001b[32m--> \u001b[39m\u001b[32m903\u001b[39m \u001b[43m\u001b[49m\u001b[38;5;28;43;01mwith\u001b[39;49;00m\u001b[43m \u001b[49m\u001b[43m_open_file_or_url\u001b[49m\u001b[43m(\u001b[49m\u001b[43mfname\u001b[49m\u001b[43m)\u001b[49m\u001b[43m \u001b[49m\u001b[38;5;28;43;01mas\u001b[39;49;00m\u001b[43m \u001b[49m\u001b[43mfd\u001b[49m\u001b[43m:\u001b[49m\n\u001b[32m    904\u001b[39m \u001b[43m    \u001b[49m\u001b[38;5;28;43;01mtry\u001b[39;49;00m\u001b[43m:\u001b[49m\n",
      "\u001b[36mFile \u001b[39m\u001b[32mc:\\Users\\amia\\AppData\\Local\\miniconda3\\envs\\OptiWindNet\\Lib\\contextlib.py:137\u001b[39m, in \u001b[36m_GeneratorContextManager.__enter__\u001b[39m\u001b[34m(self)\u001b[39m\n\u001b[32m    136\u001b[39m \u001b[38;5;28;01mtry\u001b[39;00m:\n\u001b[32m--> \u001b[39m\u001b[32m137\u001b[39m     \u001b[38;5;28;01mreturn\u001b[39;00m \u001b[38;5;28;43mnext\u001b[39;49m\u001b[43m(\u001b[49m\u001b[38;5;28;43mself\u001b[39;49m\u001b[43m.\u001b[49m\u001b[43mgen\u001b[49m\u001b[43m)\u001b[49m\n\u001b[32m    138\u001b[39m \u001b[38;5;28;01mexcept\u001b[39;00m \u001b[38;5;167;01mStopIteration\u001b[39;00m:\n",
      "\u001b[36mFile \u001b[39m\u001b[32mc:\\Users\\amia\\AppData\\Local\\miniconda3\\envs\\OptiWindNet\\Lib\\site-packages\\matplotlib\\__init__.py:880\u001b[39m, in \u001b[36m_open_file_or_url\u001b[39m\u001b[34m(fname)\u001b[39m\n\u001b[32m    879\u001b[39m fname = os.path.expanduser(fname)\n\u001b[32m--> \u001b[39m\u001b[32m880\u001b[39m \u001b[38;5;28;01mwith\u001b[39;00m \u001b[38;5;28;43mopen\u001b[39;49m\u001b[43m(\u001b[49m\u001b[43mfname\u001b[49m\u001b[43m,\u001b[49m\u001b[43m \u001b[49m\u001b[43mencoding\u001b[49m\u001b[43m=\u001b[49m\u001b[33;43m'\u001b[39;49m\u001b[33;43mutf-8\u001b[39;49m\u001b[33;43m'\u001b[39;49m\u001b[43m)\u001b[49m \u001b[38;5;28;01mas\u001b[39;00m f:\n\u001b[32m    881\u001b[39m     \u001b[38;5;28;01myield\u001b[39;00m f\n",
      "\u001b[31mFileNotFoundError\u001b[39m: [Errno 2] No such file or directory: 'pub_paperfarm'",
      "\nThe above exception was the direct cause of the following exception:\n",
      "\u001b[31mOSError\u001b[39m                                   Traceback (most recent call last)",
      "\u001b[36mCell\u001b[39m\u001b[36m \u001b[39m\u001b[32mIn[52]\u001b[39m\u001b[32m, line 1\u001b[39m\n\u001b[32m----> \u001b[39m\u001b[32m1\u001b[39m \u001b[38;5;28;43;01mwith\u001b[39;49;00m\u001b[43m \u001b[49m\u001b[43mplt\u001b[49m\u001b[43m.\u001b[49m\u001b[43mstyle\u001b[49m\u001b[43m.\u001b[49m\u001b[43mcontext\u001b[49m\u001b[43m(\u001b[49m\u001b[33;43m'\u001b[39;49m\u001b[33;43mpub_paperfarm\u001b[39;49m\u001b[33;43m'\u001b[39;49m\u001b[43m)\u001b[49m\u001b[43m:\u001b[49m\n\u001b[32m      2\u001b[39m \u001b[43m    \u001b[49m\u001b[43mdata\u001b[49m\u001b[43m \u001b[49m\u001b[43m=\u001b[49m\u001b[43m \u001b[49m\u001b[32;43m100\u001b[39;49m\u001b[43m*\u001b[49m\u001b[43mdetextra_BnC\u001b[49m\n\u001b[32m      4\u001b[39m \u001b[43m    \u001b[49m\u001b[43mfig\u001b[49m\u001b[43m,\u001b[49m\u001b[43m \u001b[49m\u001b[43m(\u001b[49m\u001b[43max1\u001b[49m\u001b[43m,\u001b[49m\u001b[43m \u001b[49m\u001b[43max2\u001b[49m\u001b[43m)\u001b[49m\u001b[43m \u001b[49m\u001b[43m=\u001b[49m\u001b[43m \u001b[49m\u001b[43mplt\u001b[49m\u001b[43m.\u001b[49m\u001b[43msubplots\u001b[49m\u001b[43m(\u001b[49m\u001b[32;43m2\u001b[39;49m\u001b[43m,\u001b[49m\u001b[43m \u001b[49m\u001b[32;43m1\u001b[39;49m\u001b[43m,\u001b[49m\u001b[43m \u001b[49m\u001b[43mheight_ratios\u001b[49m\u001b[43m=\u001b[49m\u001b[43m[\u001b[49m\u001b[32;43m1\u001b[39;49m\u001b[43m,\u001b[49m\u001b[43m \u001b[49m\u001b[32;43m5\u001b[39;49m\u001b[43m]\u001b[49m\u001b[43m,\u001b[49m\u001b[43m \u001b[49m\u001b[43mfigsize\u001b[49m\u001b[43m=\u001b[49m\u001b[43m(\u001b[49m\u001b[32;43m3.5\u001b[39;49m\u001b[43m,\u001b[49m\u001b[43m \u001b[49m\u001b[32;43m2\u001b[39;49m\u001b[43m)\u001b[49m\u001b[43m,\u001b[49m\n\u001b[32m      5\u001b[39m \u001b[43m                                   \u001b[49m\u001b[43mfacecolor\u001b[49m\u001b[43m=\u001b[49m\u001b[33;43m'\u001b[39;49m\u001b[33;43mw\u001b[39;49m\u001b[33;43m'\u001b[39;49m\u001b[43m,\u001b[49m\u001b[43m \u001b[49m\u001b[43msharex\u001b[49m\u001b[43m=\u001b[49m\u001b[38;5;28;43;01mTrue\u001b[39;49;00m\u001b[43m)\u001b[49m\n",
      "\u001b[36mFile \u001b[39m\u001b[32mc:\\Users\\amia\\AppData\\Local\\miniconda3\\envs\\OptiWindNet\\Lib\\contextlib.py:137\u001b[39m, in \u001b[36m_GeneratorContextManager.__enter__\u001b[39m\u001b[34m(self)\u001b[39m\n\u001b[32m    135\u001b[39m \u001b[38;5;28;01mdel\u001b[39;00m \u001b[38;5;28mself\u001b[39m.args, \u001b[38;5;28mself\u001b[39m.kwds, \u001b[38;5;28mself\u001b[39m.func\n\u001b[32m    136\u001b[39m \u001b[38;5;28;01mtry\u001b[39;00m:\n\u001b[32m--> \u001b[39m\u001b[32m137\u001b[39m     \u001b[38;5;28;01mreturn\u001b[39;00m \u001b[38;5;28;43mnext\u001b[39;49m\u001b[43m(\u001b[49m\u001b[38;5;28;43mself\u001b[39;49m\u001b[43m.\u001b[49m\u001b[43mgen\u001b[49m\u001b[43m)\u001b[49m\n\u001b[32m    138\u001b[39m \u001b[38;5;28;01mexcept\u001b[39;00m \u001b[38;5;167;01mStopIteration\u001b[39;00m:\n\u001b[32m    139\u001b[39m     \u001b[38;5;28;01mraise\u001b[39;00m \u001b[38;5;167;01mRuntimeError\u001b[39;00m(\u001b[33m\"\u001b[39m\u001b[33mgenerator didn\u001b[39m\u001b[33m'\u001b[39m\u001b[33mt yield\u001b[39m\u001b[33m\"\u001b[39m) \u001b[38;5;28;01mfrom\u001b[39;00m\u001b[38;5;250m \u001b[39m\u001b[38;5;28;01mNone\u001b[39;00m\n",
      "\u001b[36mFile \u001b[39m\u001b[32mc:\\Users\\amia\\AppData\\Local\\miniconda3\\envs\\OptiWindNet\\Lib\\site-packages\\matplotlib\\style\\core.py:186\u001b[39m, in \u001b[36mcontext\u001b[39m\u001b[34m(style, after_reset)\u001b[39m\n\u001b[32m    184\u001b[39m \u001b[38;5;28;01mif\u001b[39;00m after_reset:\n\u001b[32m    185\u001b[39m     mpl.rcdefaults()\n\u001b[32m--> \u001b[39m\u001b[32m186\u001b[39m \u001b[43muse\u001b[49m\u001b[43m(\u001b[49m\u001b[43mstyle\u001b[49m\u001b[43m)\u001b[49m\n\u001b[32m    187\u001b[39m \u001b[38;5;28;01myield\u001b[39;00m\n",
      "\u001b[36mFile \u001b[39m\u001b[32mc:\\Users\\amia\\AppData\\Local\\miniconda3\\envs\\OptiWindNet\\Lib\\site-packages\\matplotlib\\style\\core.py:131\u001b[39m, in \u001b[36muse\u001b[39m\u001b[34m(style)\u001b[39m\n\u001b[32m    129\u001b[39m         style = _rc_params_in_file(style)\n\u001b[32m    130\u001b[39m     \u001b[38;5;28;01mexcept\u001b[39;00m \u001b[38;5;167;01mOSError\u001b[39;00m \u001b[38;5;28;01mas\u001b[39;00m err:\n\u001b[32m--> \u001b[39m\u001b[32m131\u001b[39m         \u001b[38;5;28;01mraise\u001b[39;00m \u001b[38;5;167;01mOSError\u001b[39;00m(\n\u001b[32m    132\u001b[39m             \u001b[33mf\u001b[39m\u001b[33m\"\u001b[39m\u001b[38;5;132;01m{\u001b[39;00mstyle\u001b[38;5;132;01m!r}\u001b[39;00m\u001b[33m is not a valid package style, path of style \u001b[39m\u001b[33m\"\u001b[39m\n\u001b[32m    133\u001b[39m             \u001b[33mf\u001b[39m\u001b[33m\"\u001b[39m\u001b[33mfile, URL of style file, or library style name (library \u001b[39m\u001b[33m\"\u001b[39m\n\u001b[32m    134\u001b[39m             \u001b[33mf\u001b[39m\u001b[33m\"\u001b[39m\u001b[33mstyles are listed in `style.available`)\u001b[39m\u001b[33m\"\u001b[39m) \u001b[38;5;28;01mfrom\u001b[39;00m\u001b[38;5;250m \u001b[39m\u001b[34;01merr\u001b[39;00m\n\u001b[32m    135\u001b[39m filtered = {}\n\u001b[32m    136\u001b[39m \u001b[38;5;28;01mfor\u001b[39;00m k \u001b[38;5;129;01min\u001b[39;00m style:  \u001b[38;5;66;03m# don't trigger RcParams.__getitem__('backend')\u001b[39;00m\n",
      "\u001b[31mOSError\u001b[39m: 'pub_paperfarm' is not a valid package style, path of style file, URL of style file, or library style name (library styles are listed in `style.available`)"
     ]
    }
   ],
   "source": [
    "with plt.style.context('pub_paperfarm'):\n",
    "    data = 100*detextra_BnC\n",
    "\n",
    "    fig, (ax1, ax2) = plt.subplots(2, 1, height_ratios=[1, 5], figsize=(3.5, 2),\n",
    "                                   facecolor='w', sharex=True)\n",
    "    # fig.subplots_adjust(hspace=0.05)\n",
    "    ax1.spines.bottom.set_visible(False)\n",
    "    ax1.xaxis.tick_top()\n",
    "    ax1.tick_params(labeltop=False)\n",
    "    num_data = len(data)\n",
    "    below1 = data <= 1\n",
    "    below2 = data <= 2\n",
    "    bins = np.linspace(0, 3, num=76)\n",
    "    # bins = None\n",
    "\n",
    "    # top y_axis segment\n",
    "    H1, X1, art1_ = ax1.hist(data[below1], bins = bins, color='tab:blue',\n",
    "                             histtype='stepfilled', alpha=0.3)\n",
    "    H2, X2, art2_ = ax1.hist(data[below2], bins = bins, edgecolor='tab:blue',\n",
    "                             histtype='stepfilled', hatch=r'\\\\\\\\', facecolor='none')\n",
    "    H, X, art_ = ax1.hist(data, bins = bins, color='tab:blue', histtype='step')\n",
    "\n",
    "    # main y_axis segment\n",
    "    H1, X1, art1_ = ax2.hist(data[below1], bins = bins, color='tab:blue',\n",
    "                             histtype='stepfilled', alpha=0.3)\n",
    "    H2, X2, art2_ = ax2.hist(data[below2], bins = bins, edgecolor='tab:blue',\n",
    "                             histtype='stepfilled', hatch=r'\\\\\\\\', facecolor='none')\n",
    "    H, X, art_ = ax2.hist(data, bins = bins, color='tab:blue', histtype='step')\n",
    "\n",
    "    ax1.set_ylim(3100, 3200)  # outliers only\n",
    "    ax2.set_ylim(0, 600)  # most of the data\n",
    "\n",
    "    C1, C2 = H1.sum(), H2.sum()\n",
    "    leg = ax2.legend(  # the empty Line2D is a hack to get a line instead of a patch\n",
    "        [Line2D([], []), art2_[0], art1_[0]],\n",
    "        ['Instance count',\n",
    "         f'≤ 2%: {100*C2/num_data:.1f}%',\n",
    "         f'≤ 1%: {100*C1/num_data:.1f}%'],\n",
    "        title=f'B&C instances: {num_data}'\n",
    "    )\n",
    "    ax2.set_ylabel('Count')\n",
    "    ax2.set_xlabel('Relative increase (%)')\n",
    "    leg.legend_handles[0] = Line2D([], [])\n",
    "    #ax1.figure.savefig('fig_detextra_BnC.pdf', transparent=False)\n",
    "    pass"
   ]
  },
  {
   "cell_type": "code",
   "execution_count": null,
   "id": "8ae42abf-ac77-44fa-bfb4-2d8b11e33388",
   "metadata": {},
   "outputs": [],
   "source": [
    "with plt.style.context('pub_paperfarm'):\n",
    "# with plt.style.context('pub_paperfarm'):\n",
    "# if True:\n",
    "    data = 100*detextra_hgs\n",
    "\n",
    "    fig, (ax1, ax2) = plt.subplots(2, 1, height_ratios=[1, 5], figsize=(3.5, 2),\n",
    "                                   facecolor='w', sharex=True)\n",
    "    # fig.subplots_adjust(hspace=0.05)\n",
    "    ax1.spines.bottom.set_visible(False)\n",
    "    ax1.xaxis.tick_top()\n",
    "    ax1.tick_params(labeltop=False)\n",
    "    num_data = len(data)\n",
    "    below1 = data <= 1\n",
    "    below2 = data <= 2\n",
    "    bins = np.linspace(0, 3, num=76)\n",
    "    # bins = None\n",
    "\n",
    "    # top y_axis segment\n",
    "    H1, X1, art1_ = ax1.hist(data[below1], bins = bins, color='tab:blue',\n",
    "                             histtype='stepfilled', alpha=0.3)\n",
    "    H2, X2, art2_ = ax1.hist(data[below2], bins = bins, edgecolor='tab:blue',\n",
    "                             histtype='stepfilled', hatch=r'\\\\\\\\', facecolor='none')\n",
    "    H, X, art_ = ax1.hist(data, bins = bins, color='tab:blue', histtype='step')\n",
    "\n",
    "    # main y_axis segment\n",
    "    H1, X1, art1_ = ax2.hist(data[below1], bins = bins, color='tab:blue',\n",
    "                             histtype='stepfilled', alpha=0.3)\n",
    "    H2, X2, art2_ = ax2.hist(data[below2], bins = bins, edgecolor='tab:blue',\n",
    "                             histtype='stepfilled', hatch=r'\\\\\\\\', facecolor='none')\n",
    "    H, X, art_ = ax2.hist(data, bins = bins, color='tab:blue', histtype='step')\n",
    "\n",
    "    ax1.set_ylim(2800, 2900)  # outliers only\n",
    "    ax2.set_ylim(0, 600)  # most of the data\n",
    "\n",
    "    C1, C2 = H1.sum(), H2.sum()\n",
    "    leg = ax2.legend(  # the empty Line2D is a hack to get a line instead of a patch\n",
    "        [Line2D([], []), art2_[0], art1_[0]],\n",
    "        ['Instance count',\n",
    "         f'≤ 2%: {100*C2/num_data:.1f}%',\n",
    "         f'≤ 1%: {100*C1/num_data:.1f}%'],\n",
    "        title=f'HGS instances: {num_data}'\n",
    "    )\n",
    "    ax2.set_ylabel('Count')\n",
    "    ax2.set_xlabel('Relative increase (%)')\n",
    "    leg.legend_handles[0] = Line2D([], [])\n",
    "    #ax1.figure.savefig('fig_detextra_HGS.pdf', transparent=False)\n",
    "    pass"
   ]
  },
  {
   "cell_type": "markdown",
   "id": "dbb568ee-e256-4dae-9b49-72ab5dc8bd76",
   "metadata": {},
   "source": [
    "## 3.4 Comparison of B&C and HGS solutions"
   ]
  },
  {
   "cell_type": "code",
   "execution_count": null,
   "id": "9a8924da-275a-4928-b3aa-916078346604",
   "metadata": {},
   "outputs": [],
   "source": [
    "with plt.style.context('pub_paperfarm'):\n",
    "    data_HGSvsBnC_gap = 1 - df_BnC['length']/df_hgs['length']\n",
    "    data = 100*data_HGSvsBnC_gap.to_numpy()\n",
    "\n",
    "    fig, ax = plt.subplots(facecolor='w', figsize=(3.5, 2))\n",
    "    num_data = len(data)\n",
    "    below1 = data <= 1\n",
    "    below2 = data <= 2\n",
    "    elsewhere = data > 2\n",
    "    bins = np.linspace(-2, 8, num=201)\n",
    "\n",
    "    # main y_axis segment\n",
    "    H1, X1, art1_ = ax.hist(data[below1], bins = bins, color='tab:blue',\n",
    "                             histtype='stepfilled', alpha=0.3)\n",
    "    H2, X2, art2_ = ax.hist(data[below2], bins = bins, edgecolor='tab:blue',\n",
    "                             histtype='stepfilled', hatch=r'\\\\\\\\', facecolor='none')\n",
    "    H, X, art_ = ax.hist(data, bins = bins, color='tab:blue', histtype='step')\n",
    "\n",
    "    C1, C2 = H1.sum(), H2.sum()\n",
    "    leg = ax.legend(  # the empty Line2D is a hack to get a line instead of a patch\n",
    "        [Line2D([], []), art2_[0], art1_[0]],\n",
    "        ['HGS to B&C gap',\n",
    "         f'≤ 2%: {100*C2/num_data:.1f}%',\n",
    "         f'≤ 1%: {100*C1/num_data:.1f}%'],\n",
    "        title=f'Instances: {num_data}'\n",
    "    )\n",
    "    ax.set_ylabel('Count')\n",
    "    ax.set_xlabel('Relative difference (%)')\n",
    "    leg.legend_handles[0] = Line2D([], [])\n",
    "    ax.set_xlim(-2, 8)\n",
    "    #ax.figure.savefig('fig_HGS_to_BnC_gap.pdf', transparent=False)\n",
    "    pass"
   ]
  },
  {
   "cell_type": "markdown",
   "id": "1aaf684c-ab65-424c-a830-b15c5e65cfa2",
   "metadata": {},
   "source": [
    "## 3.5 Dealing with crossings from HGS-CVRP"
   ]
  },
  {
   "cell_type": "markdown",
   "id": "dd178c05-d70c-4dd8-bd11-27ac3a342029",
   "metadata": {},
   "source": [
    "### Select HGS-CVRP entries"
   ]
  },
  {
   "cell_type": "code",
   "execution_count": null,
   "id": "610fa136-bf93-4dca-8f97-061e3056bd87",
   "metadata": {},
   "outputs": [],
   "source": [
    "df_hgs.height"
   ]
  },
  {
   "cell_type": "code",
   "execution_count": null,
   "id": "6937be9d-c781-4ff0-a1ef-fe23a683f867",
   "metadata": {},
   "outputs": [],
   "source": [
    "method_hgs = db.Method.select(\n",
    "    lambda m:\n",
    "    m.funname == 'hgs_cvrp'\n",
    "    and m.options['timeLimit'] == 120\n",
    ")"
   ]
  },
  {
   "cell_type": "code",
   "execution_count": null,
   "id": "f70a0e56-345d-4981-b6a1-3e27fcbb9229",
   "metadata": {},
   "outputs": [],
   "source": [
    "method_hgs.count()"
   ]
  },
  {
   "cell_type": "code",
   "execution_count": null,
   "id": "7befe798-0a45-49a9-b9f9-3b19611ffcc7",
   "metadata": {},
   "outputs": [],
   "source": [
    "hgs_all = db.RouteSet.select(\n",
    "    lambda rs:\n",
    "    rs.method in method_hgs\n",
    ")\n",
    "hgs_all.count()"
   ]
  },
  {
   "cell_type": "code",
   "execution_count": null,
   "id": "8e480d1a-e19a-4779-8697-c73738542c95",
   "metadata": {},
   "outputs": [],
   "source": [
    "hgs_invalid = hgs_all.filter(\n",
    "    lambda rs:\n",
    "    rs.valid is False\n",
    ")\n",
    "hgs_invalid.count()"
   ]
  },
  {
   "cell_type": "code",
   "execution_count": null,
   "id": "27591fc6-9636-4f91-9902-681aaabc9813",
   "metadata": {},
   "outputs": [],
   "source": [
    "# just the instances repaired after the first hgs run\n",
    "hgs_repaired = hgs_all.filter(\n",
    "    lambda rs:\n",
    "    rs.valid is None  # provisory valid marker\n",
    "    and 'repaired' in rs.misc\n",
    "    and 'hgs_reruns' not in rs.misc\n",
    ")\n",
    "hgs_repaired.count()"
   ]
  },
  {
   "cell_type": "code",
   "execution_count": null,
   "id": "87d4e1e3-be42-496c-a105-d5750aebcfb5",
   "metadata": {},
   "outputs": [],
   "source": [
    "hgs_reruns = hgs_all.filter(\n",
    "    lambda rs:\n",
    "    rs.valid is None  # provisory valid marker\n",
    "    and 'hgs_reruns' in rs.misc\n",
    ")\n",
    "hgs_reruns.count()"
   ]
  },
  {
   "cell_type": "markdown",
   "id": "ee82f4bc-17d1-41c6-8d22-a316f0ded613",
   "metadata": {},
   "source": [
    "### Statistics"
   ]
  },
  {
   "cell_type": "code",
   "execution_count": null,
   "id": "8783bbd5-e594-44c5-ac84-4e29d9f55dce",
   "metadata": {},
   "outputs": [],
   "source": [
    "hgs_all = db.RouteSet.select(\n",
    "    lambda rs:\n",
    "    rs.creator == 'baselines.hgs'\n",
    "    # rs.method.solver_name == 'HGS-CVRP'\n",
    "    # and rs.method.options['timeLimit'] == 120\n",
    ")\n",
    "hgs_all.count()"
   ]
  },
  {
   "cell_type": "code",
   "execution_count": null,
   "id": "9debb24a-9a26-4c09-b61f-2aa878f81c3c",
   "metadata": {},
   "outputs": [],
   "source": [
    "# just the instances repaired after the first hgs run\n",
    "hgs_repaired = hgs_all.filter(\n",
    "    lambda rs:\n",
    "    rs.valid is None  # provisory valid marker\n",
    "    and 'repaired' in rs.misc\n",
    "    and 'hgs_reruns' not in rs.misc\n",
    ")\n",
    "hgs_repaired.count()"
   ]
  },
  {
   "cell_type": "code",
   "execution_count": null,
   "id": "7c54f498-e563-4467-b61d-987263e391b1",
   "metadata": {},
   "outputs": [],
   "source": [
    "hgs_reruns = hgs_all.filter(\n",
    "    lambda rs:\n",
    "    rs.valid is None  # provisory valid marker\n",
    "    and 'hgs_reruns' in rs.misc\n",
    ")\n",
    "hgs_reruns.count()"
   ]
  },
  {
   "cell_type": "code",
   "execution_count": null,
   "id": "8352290c-aae6-488b-8643-c2bf7e5574af",
   "metadata": {},
   "outputs": [],
   "source": [
    "(hgs_repaired.count() + hgs_reruns.count())/hgs_all.count()"
   ]
  },
  {
   "cell_type": "code",
   "execution_count": null,
   "id": "f921980f-4539-474a-a2fc-77e558cf554d",
   "metadata": {},
   "outputs": [],
   "source": [
    "hgs_repaired.count()/hgs_all.count()"
   ]
  },
  {
   "cell_type": "code",
   "execution_count": null,
   "id": "88244c56-235c-48f9-a181-98fd2d2647ee",
   "metadata": {},
   "outputs": [],
   "source": [
    "hgs_reruns.count()/hgs_all.count()"
   ]
  },
  {
   "cell_type": "markdown",
   "id": "2e9b347e-5f50-4dcc-8a54-118163da71db",
   "metadata": {},
   "source": [
    "### Examining re-runs"
   ]
  },
  {
   "cell_type": "code",
   "execution_count": null,
   "id": "d25ed1e4-9738-4679-9e8d-b74faac7f6b1",
   "metadata": {},
   "outputs": [],
   "source": [
    "subcounts = []\n",
    "for reruns in range(1, 10):\n",
    "    count = hgs_reruns.filter(\n",
    "        lambda rs:\n",
    "        rs.misc['hgs_reruns'] == reruns\n",
    "    ).count()\n",
    "    subcounts.append(count)\n",
    "    print(reruns, count, count/hgs_all.count())"
   ]
  },
  {
   "cell_type": "code",
   "execution_count": null,
   "id": "61957192-12c4-4f59-b72b-7bea0bbb0827",
   "metadata": {},
   "outputs": [],
   "source": [
    "total = sum(subcounts)\n",
    "for reruns, count in zip(range(1, 10), subcounts):\n",
    "    print(reruns, f'{100*count/total:.1f}%')"
   ]
  }
 ],
 "metadata": {
  "kernelspec": {
   "display_name": "OptiWindNet",
   "language": "python",
   "name": "python3"
  },
  "language_info": {
   "codemirror_mode": {
    "name": "ipython",
    "version": 3
   },
   "file_extension": ".py",
   "mimetype": "text/x-python",
   "name": "python",
   "nbconvert_exporter": "python",
   "pygments_lexer": "ipython3",
   "version": "3.12.9"
  }
 },
 "nbformat": 4,
 "nbformat_minor": 5
}
