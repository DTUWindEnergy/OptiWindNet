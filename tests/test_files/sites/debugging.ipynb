{
 "cells": [
  {
   "cell_type": "code",
   "execution_count": 1,
   "id": "c42a3703-113b-4aee-8dfb-a0b3b54663e6",
   "metadata": {},
   "outputs": [],
   "source": [
    "import types\n",
    "import numpy as np\n",
    "import networkx as nx\n",
    "import pytest\n",
    "\n",
    "from optiwindnet.api import (\n",
    "    EWRouter, HGSRouter, MILPRouter, WindFarmNetwork, ModelOptions,\n",
    "    OWNWarmupFailed, OWNSolutionNotFound,\n",
    ")\n",
    "\n",
    "# ---- MILP modules\n",
    "import optiwindnet.MILP.gurobi as gurobi_mod\n",
    "import optiwindnet.MILP.pyomo as pyomo_mod\n",
    "import optiwindnet.MILP.ortools as ortools_mod\n",
    "from optiwindnet.MILP._core import FeederRoute, Topology\n",
    "from optiwindnet.MILP.pyomo import SolverPyomo  # reused to stub super().solve"
   ]
  },
  {
   "cell_type": "code",
   "execution_count": 2,
   "id": "dcede524",
   "metadata": {},
   "outputs": [],
   "source": [
    "# Display figures as SVG in Jupyter notebooks\n",
    "%config InlineBackend.figure_formats = ['svg']"
   ]
  },
  {
   "cell_type": "code",
   "execution_count": 9,
   "id": "d7685c9d",
   "metadata": {},
   "outputs": [
    {
     "name": "stdout",
     "output_type": "stream",
     "text": [
      "\n",
      "\u001b[33m\u001b[33mno tests ran\u001b[0m\u001b[33m in 0.02s\u001b[0m\u001b[0m\n"
     ]
    }
   ],
   "source": [
    "def test_gurobi_full_flow(monkeypatch):\n",
    "    monkeypatch.setattr(gurobi_mod.pyo, \"SolverFactory\",\n",
    "                        lambda name, **kw: _FakeGurobiSolver(kw.get('options', {})))\n",
    "    monkeypatch.setattr(gurobi_mod, \"G_from_S\", fake_G_from_S)\n",
    "    monkeypatch.setattr(gurobi_mod, \"PathFinder\", FakePF)\n",
    "    # ... rest of the test\n",
    "    print(gurobi_mod)\n",
    "\n",
    "!pytest -q -k test_gurobi_full_flow\n",
    "\n"
   ]
  },
  {
   "cell_type": "code",
   "execution_count": 12,
   "id": "607cd974",
   "metadata": {},
   "outputs": [],
   "source": [
    "# app.py\n",
    "class app():\n",
    "    def get_user():\n",
    "        # imagine this hits a real DB\n",
    "        return {\"name\": \"Alice\"}\n",
    "\n",
    "    def greet():\n",
    "        user = get_user()\n",
    "        return f\"Hello, {user['name']}!\"\n"
   ]
  },
  {
   "cell_type": "code",
   "execution_count": 18,
   "id": "e01976c8",
   "metadata": {},
   "outputs": [
    {
     "name": "stdout",
     "output_type": "stream",
     "text": [
      "\n",
      "\u001b[33m\u001b[33mno tests ran\u001b[0m\u001b[33m in 0.01s\u001b[0m\u001b[0m\n"
     ]
    }
   ],
   "source": [
    "def test_greet(monkeypatch):\n",
    "    def fake_get_user():\n",
    "        return {\"name\": \"TestUser\"}\n",
    "\n",
    "    monkeypatch.setattr(app, \"get_user\", fake_get_user)\n",
    "    print(\"patched get_user =\", app.get_user)\n",
    "    assert app.greet() == \"Hello, TestUser!\"\n",
    "\n",
    "\n",
    "!pytest -q -k test_greet -s\n"
   ]
  }
 ],
 "metadata": {
  "kernelspec": {
   "display_name": "OptiWindNet",
   "language": "python",
   "name": "python3"
  },
  "language_info": {
   "codemirror_mode": {
    "name": "ipython",
    "version": 3
   },
   "file_extension": ".py",
   "mimetype": "text/x-python",
   "name": "python",
   "nbconvert_exporter": "python",
   "pygments_lexer": "ipython3",
   "version": "3.12.9"
  }
 },
 "nbformat": 4,
 "nbformat_minor": 5
}
