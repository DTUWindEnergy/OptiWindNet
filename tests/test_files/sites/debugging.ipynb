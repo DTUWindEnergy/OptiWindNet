{
 "cells": [
  {
   "cell_type": "code",
   "execution_count": 2,
   "id": "c42a3703-113b-4aee-8dfb-a0b3b54663e6",
   "metadata": {},
   "outputs": [
    {
     "name": "stdout",
     "output_type": "stream",
     "text": [
      "c:\\code\\OptiWindNet\\tests\\test_files\\sites\n"
     ]
    }
   ],
   "source": [
    "\n",
    "import copy\n",
    "import gc\n",
    "import os\n",
    "import platform\n",
    "import sys\n",
    "from datetime import datetime\n",
    "from pathlib import Path\n",
    "from typing import Any, Dict, List, Optional, Sequence\n",
    "\n",
    "import dill\n",
    "\n",
    "from optiwindnet.api import EWRouter, HGSRouter, MILPRouter, WindFarmNetwork\n",
    "from optiwindnet.heuristics import CPEW, EW_presolver\n",
    "from optiwindnet.importer import load_repository\n",
    "from optiwindnet.interarraylib import (\n",
    "    G_from_S,\n",
    "    S_from_G,\n",
    "    as_normalized,\n",
    "    assign_cables,\n",
    "    calcload,\n",
    ")\n",
    "from optiwindnet.mesh import make_planar_embedding\n",
    "from optiwindnet.MILP import ModelOptions, solver_factory\n",
    "from optiwindnet.pathfinding import PathFinder\n",
    "\n",
    "\n",
    "# import paths used for testing\n",
    "HERE = Path(os.getcwd())\n",
    "print(HERE)\n"
   ]
  },
  {
   "cell_type": "code",
   "execution_count": 3,
   "id": "92267a2e",
   "metadata": {},
   "outputs": [
    {
     "data": {
      "text/plain": [
       "WindowsPath('c:/code/OptiWindNet/tests/test_files')"
      ]
     },
     "execution_count": 3,
     "metadata": {},
     "output_type": "execute_result"
    }
   ],
   "source": [
    "HERE.parent"
   ]
  },
  {
   "cell_type": "code",
   "execution_count": 2,
   "id": "dcede524",
   "metadata": {},
   "outputs": [],
   "source": [
    "# Display figures as SVG in Jupyter notebooks\n",
    "%config InlineBackend.figure_formats = ['svg']"
   ]
  },
  {
   "cell_type": "code",
   "execution_count": 9,
   "id": "d7685c9d",
   "metadata": {},
   "outputs": [
    {
     "name": "stdout",
     "output_type": "stream",
     "text": [
      "\n",
      "\u001b[33m\u001b[33mno tests ran\u001b[0m\u001b[33m in 0.02s\u001b[0m\u001b[0m\n"
     ]
    }
   ],
   "source": [
    "def test_gurobi_full_flow(monkeypatch):\n",
    "    monkeypatch.setattr(gurobi_mod.pyo, \"SolverFactory\",\n",
    "                        lambda name, **kw: _FakeGurobiSolver(kw.get('options', {})))\n",
    "    monkeypatch.setattr(gurobi_mod, \"G_from_S\", fake_G_from_S)\n",
    "    monkeypatch.setattr(gurobi_mod, \"PathFinder\", FakePF)\n",
    "    # ... rest of the test\n",
    "    print(gurobi_mod)\n",
    "\n",
    "!pytest -q -k test_gurobi_full_flow\n",
    "\n"
   ]
  },
  {
   "cell_type": "code",
   "execution_count": 12,
   "id": "607cd974",
   "metadata": {},
   "outputs": [],
   "source": [
    "# app.py\n",
    "class app():\n",
    "    def get_user():\n",
    "        # imagine this hits a real DB\n",
    "        return {\"name\": \"Alice\"}\n",
    "\n",
    "    def greet():\n",
    "        user = get_user()\n",
    "        return f\"Hello, {user['name']}!\"\n"
   ]
  },
  {
   "cell_type": "code",
   "execution_count": 18,
   "id": "e01976c8",
   "metadata": {},
   "outputs": [
    {
     "name": "stdout",
     "output_type": "stream",
     "text": [
      "\n",
      "\u001b[33m\u001b[33mno tests ran\u001b[0m\u001b[33m in 0.01s\u001b[0m\u001b[0m\n"
     ]
    }
   ],
   "source": [
    "def test_greet(monkeypatch):\n",
    "    def fake_get_user():\n",
    "        return {\"name\": \"TestUser\"}\n",
    "\n",
    "    monkeypatch.setattr(app, \"get_user\", fake_get_user)\n",
    "    print(\"patched get_user =\", app.get_user)\n",
    "    assert app.greet() == \"Hello, TestUser!\"\n",
    "\n",
    "\n",
    "!pytest -q -k test_greet -s\n"
   ]
  }
 ],
 "metadata": {
  "kernelspec": {
   "display_name": "OptiWindNet",
   "language": "python",
   "name": "python3"
  },
  "language_info": {
   "codemirror_mode": {
    "name": "ipython",
    "version": 3
   },
   "file_extension": ".py",
   "mimetype": "text/x-python",
   "name": "python",
   "nbconvert_exporter": "python",
   "pygments_lexer": "ipython3",
   "version": "3.12.9"
  }
 },
 "nbformat": 4,
 "nbformat_minor": 5
}
